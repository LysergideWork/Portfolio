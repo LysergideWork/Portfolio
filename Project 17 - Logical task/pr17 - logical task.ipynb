{
 "cells": [
  {
   "cell_type": "markdown",
   "id": "42720cf6",
   "metadata": {},
   "source": [
    "# Тестовая задача на логику из вакансии для Data Analyst."
   ]
  },
  {
   "cell_type": "markdown",
   "id": "96eec2f8",
   "metadata": {},
   "source": [
    "## Текст задачи:"
   ]
  },
  {
   "cell_type": "markdown",
   "id": "1c74b47f",
   "metadata": {},
   "source": [
    "Встретились 2 друга в баре:  \n",
    "  \n",
    "Ну как поживаешь?  \n",
    "Все хорошо, растут два сына, еще в школу не пошли.  \n",
    "Сколько им лет?  \n",
    "Произведение их возрастов равно количеству стаканов на той барной стойке.  \n",
    "Этой информации мне недостаточно.  \n",
    "Старший похож на деда.  \n",
    "Теперь я знаю ответ на твой вопрос.  \n",
    "  \n",
    "Сколько лет сыновьям? (Ответ логичный и однозначный)"
   ]
  },
  {
   "cell_type": "markdown",
   "id": "0601c81b",
   "metadata": {},
   "source": [
    "## Решение задачи:"
   ]
  },
  {
   "cell_type": "markdown",
   "id": "94672f73",
   "metadata": {},
   "source": [
    "Импортируем библиотеки"
   ]
  },
  {
   "cell_type": "code",
   "execution_count": 1,
   "id": "6bd6741f",
   "metadata": {},
   "outputs": [],
   "source": [
    "import pandas as pd\n",
    "import warnings\n",
    "warnings.filterwarnings('ignore')"
   ]
  },
  {
   "cell_type": "markdown",
   "id": "f8deb3b9",
   "metadata": {},
   "source": [
    "Создаем 2 списка с возможными вариантами возрастов сыновей:"
   ]
  },
  {
   "cell_type": "code",
   "execution_count": 2,
   "id": "75944473",
   "metadata": {},
   "outputs": [
    {
     "name": "stdout",
     "output_type": "stream",
     "text": [
      "[0, 1, 2, 3, 4, 5, 6]\n",
      "[0, 1, 2, 3, 4, 5, 6]\n"
     ]
    }
   ],
   "source": [
    "a = list(range(0,7))\n",
    "b = a.copy()\n",
    "\n",
    "print(a)\n",
    "print(b)"
   ]
  },
  {
   "cell_type": "markdown",
   "id": "f62115cb",
   "metadata": {},
   "source": [
    "Удаляем 0 из вариантов возрастов:"
   ]
  },
  {
   "cell_type": "code",
   "execution_count": 3,
   "id": "6dee9d4e",
   "metadata": {},
   "outputs": [
    {
     "name": "stdout",
     "output_type": "stream",
     "text": [
      "[1, 2, 3, 4, 5, 6]\n",
      "[1, 2, 3, 4, 5, 6]\n"
     ]
    }
   ],
   "source": [
    "a.remove(0)\n",
    "b.remove(0)\n",
    "\n",
    "print(a)\n",
    "print(b)"
   ]
  },
  {
   "cell_type": "markdown",
   "id": "0de362fd",
   "metadata": {},
   "source": [
    "Создаем датафрейм `df`, где:  \n",
    "- столбец `A` - возраст первого сына,  \n",
    "- столбец `B` - возраст второго сына,  \n",
    "- столбец `product_of_AB` - произведение возрастов сыновей.  "
   ]
  },
  {
   "cell_type": "code",
   "execution_count": 4,
   "id": "55bb0d48",
   "metadata": {},
   "outputs": [],
   "source": [
    "df = pd.DataFrame(columns =   ['A', 'B', 'product_of_AB'])"
   ]
  },
  {
   "cell_type": "markdown",
   "id": "d23aff32",
   "metadata": {},
   "source": [
    "Пишем функцию, которая заполнит наш датафрейм:"
   ]
  },
  {
   "cell_type": "code",
   "execution_count": 5,
   "id": "99b157e4",
   "metadata": {},
   "outputs": [],
   "source": [
    "def df_prod(A, B, product_of_AB, df):\n",
    "    result = [A, B, product_of_AB]\n",
    "    rows = [pd.Series(result, index = df.columns)]\n",
    "    df = pd.concat([pd.DataFrame(df), pd.DataFrame(rows)], ignore_index=True)\n",
    "    return(df)"
   ]
  },
  {
   "cell_type": "markdown",
   "id": "927f4508",
   "metadata": {},
   "source": [
    "Применяем функцию:"
   ]
  },
  {
   "cell_type": "code",
   "execution_count": 6,
   "id": "5b989d29",
   "metadata": {},
   "outputs": [
    {
     "data": {
      "text/html": [
       "<div>\n",
       "<style scoped>\n",
       "    .dataframe tbody tr th:only-of-type {\n",
       "        vertical-align: middle;\n",
       "    }\n",
       "\n",
       "    .dataframe tbody tr th {\n",
       "        vertical-align: top;\n",
       "    }\n",
       "\n",
       "    .dataframe thead th {\n",
       "        text-align: right;\n",
       "    }\n",
       "</style>\n",
       "<table border=\"1\" class=\"dataframe\">\n",
       "  <thead>\n",
       "    <tr style=\"text-align: right;\">\n",
       "      <th></th>\n",
       "      <th>A</th>\n",
       "      <th>B</th>\n",
       "      <th>product_of_AB</th>\n",
       "    </tr>\n",
       "  </thead>\n",
       "  <tbody>\n",
       "    <tr>\n",
       "      <th>0</th>\n",
       "      <td>1</td>\n",
       "      <td>1</td>\n",
       "      <td>1</td>\n",
       "    </tr>\n",
       "    <tr>\n",
       "      <th>1</th>\n",
       "      <td>1</td>\n",
       "      <td>2</td>\n",
       "      <td>2</td>\n",
       "    </tr>\n",
       "    <tr>\n",
       "      <th>2</th>\n",
       "      <td>1</td>\n",
       "      <td>3</td>\n",
       "      <td>3</td>\n",
       "    </tr>\n",
       "    <tr>\n",
       "      <th>3</th>\n",
       "      <td>1</td>\n",
       "      <td>4</td>\n",
       "      <td>4</td>\n",
       "    </tr>\n",
       "    <tr>\n",
       "      <th>4</th>\n",
       "      <td>1</td>\n",
       "      <td>5</td>\n",
       "      <td>5</td>\n",
       "    </tr>\n",
       "    <tr>\n",
       "      <th>5</th>\n",
       "      <td>1</td>\n",
       "      <td>6</td>\n",
       "      <td>6</td>\n",
       "    </tr>\n",
       "    <tr>\n",
       "      <th>6</th>\n",
       "      <td>2</td>\n",
       "      <td>2</td>\n",
       "      <td>4</td>\n",
       "    </tr>\n",
       "    <tr>\n",
       "      <th>7</th>\n",
       "      <td>2</td>\n",
       "      <td>3</td>\n",
       "      <td>6</td>\n",
       "    </tr>\n",
       "    <tr>\n",
       "      <th>8</th>\n",
       "      <td>2</td>\n",
       "      <td>4</td>\n",
       "      <td>8</td>\n",
       "    </tr>\n",
       "    <tr>\n",
       "      <th>9</th>\n",
       "      <td>2</td>\n",
       "      <td>5</td>\n",
       "      <td>10</td>\n",
       "    </tr>\n",
       "    <tr>\n",
       "      <th>10</th>\n",
       "      <td>2</td>\n",
       "      <td>6</td>\n",
       "      <td>12</td>\n",
       "    </tr>\n",
       "    <tr>\n",
       "      <th>11</th>\n",
       "      <td>3</td>\n",
       "      <td>3</td>\n",
       "      <td>9</td>\n",
       "    </tr>\n",
       "    <tr>\n",
       "      <th>12</th>\n",
       "      <td>3</td>\n",
       "      <td>4</td>\n",
       "      <td>12</td>\n",
       "    </tr>\n",
       "    <tr>\n",
       "      <th>13</th>\n",
       "      <td>3</td>\n",
       "      <td>5</td>\n",
       "      <td>15</td>\n",
       "    </tr>\n",
       "    <tr>\n",
       "      <th>14</th>\n",
       "      <td>3</td>\n",
       "      <td>6</td>\n",
       "      <td>18</td>\n",
       "    </tr>\n",
       "    <tr>\n",
       "      <th>15</th>\n",
       "      <td>4</td>\n",
       "      <td>4</td>\n",
       "      <td>16</td>\n",
       "    </tr>\n",
       "    <tr>\n",
       "      <th>16</th>\n",
       "      <td>4</td>\n",
       "      <td>5</td>\n",
       "      <td>20</td>\n",
       "    </tr>\n",
       "    <tr>\n",
       "      <th>17</th>\n",
       "      <td>4</td>\n",
       "      <td>6</td>\n",
       "      <td>24</td>\n",
       "    </tr>\n",
       "    <tr>\n",
       "      <th>18</th>\n",
       "      <td>5</td>\n",
       "      <td>5</td>\n",
       "      <td>25</td>\n",
       "    </tr>\n",
       "    <tr>\n",
       "      <th>19</th>\n",
       "      <td>5</td>\n",
       "      <td>6</td>\n",
       "      <td>30</td>\n",
       "    </tr>\n",
       "    <tr>\n",
       "      <th>20</th>\n",
       "      <td>6</td>\n",
       "      <td>6</td>\n",
       "      <td>36</td>\n",
       "    </tr>\n",
       "  </tbody>\n",
       "</table>\n",
       "</div>"
      ],
      "text/plain": [
       "    A  B product_of_AB\n",
       "0   1  1             1\n",
       "1   1  2             2\n",
       "2   1  3             3\n",
       "3   1  4             4\n",
       "4   1  5             5\n",
       "5   1  6             6\n",
       "6   2  2             4\n",
       "7   2  3             6\n",
       "8   2  4             8\n",
       "9   2  5            10\n",
       "10  2  6            12\n",
       "11  3  3             9\n",
       "12  3  4            12\n",
       "13  3  5            15\n",
       "14  3  6            18\n",
       "15  4  4            16\n",
       "16  4  5            20\n",
       "17  4  6            24\n",
       "18  5  5            25\n",
       "19  5  6            30\n",
       "20  6  6            36"
      ]
     },
     "execution_count": 6,
     "metadata": {},
     "output_type": "execute_result"
    }
   ],
   "source": [
    "for i in a:\n",
    "    for j in b:\n",
    "        if j>= i:\n",
    "            df = df_prod(i, j, i*j, df)\n",
    "        else:\n",
    "            pass\n",
    "df"
   ]
  },
  {
   "cell_type": "markdown",
   "id": "5b17ae28",
   "metadata": {},
   "source": [
    "Удаляем из датафрейма все одназначные варианты произведения возрастов:"
   ]
  },
  {
   "cell_type": "code",
   "execution_count": 7,
   "id": "e386220b",
   "metadata": {},
   "outputs": [
    {
     "data": {
      "text/html": [
       "<div>\n",
       "<style scoped>\n",
       "    .dataframe tbody tr th:only-of-type {\n",
       "        vertical-align: middle;\n",
       "    }\n",
       "\n",
       "    .dataframe tbody tr th {\n",
       "        vertical-align: top;\n",
       "    }\n",
       "\n",
       "    .dataframe thead th {\n",
       "        text-align: right;\n",
       "    }\n",
       "</style>\n",
       "<table border=\"1\" class=\"dataframe\">\n",
       "  <thead>\n",
       "    <tr style=\"text-align: right;\">\n",
       "      <th></th>\n",
       "      <th>A</th>\n",
       "      <th>B</th>\n",
       "      <th>product_of_AB</th>\n",
       "    </tr>\n",
       "  </thead>\n",
       "  <tbody>\n",
       "    <tr>\n",
       "      <th>3</th>\n",
       "      <td>1</td>\n",
       "      <td>4</td>\n",
       "      <td>4</td>\n",
       "    </tr>\n",
       "    <tr>\n",
       "      <th>5</th>\n",
       "      <td>1</td>\n",
       "      <td>6</td>\n",
       "      <td>6</td>\n",
       "    </tr>\n",
       "    <tr>\n",
       "      <th>6</th>\n",
       "      <td>2</td>\n",
       "      <td>2</td>\n",
       "      <td>4</td>\n",
       "    </tr>\n",
       "    <tr>\n",
       "      <th>7</th>\n",
       "      <td>2</td>\n",
       "      <td>3</td>\n",
       "      <td>6</td>\n",
       "    </tr>\n",
       "    <tr>\n",
       "      <th>10</th>\n",
       "      <td>2</td>\n",
       "      <td>6</td>\n",
       "      <td>12</td>\n",
       "    </tr>\n",
       "    <tr>\n",
       "      <th>12</th>\n",
       "      <td>3</td>\n",
       "      <td>4</td>\n",
       "      <td>12</td>\n",
       "    </tr>\n",
       "  </tbody>\n",
       "</table>\n",
       "</div>"
      ],
      "text/plain": [
       "    A  B product_of_AB\n",
       "3   1  4             4\n",
       "5   1  6             6\n",
       "6   2  2             4\n",
       "7   2  3             6\n",
       "10  2  6            12\n",
       "12  3  4            12"
      ]
     },
     "execution_count": 7,
     "metadata": {},
     "output_type": "execute_result"
    }
   ],
   "source": [
    "df = df[df.duplicated('product_of_AB') | df.duplicated('product_of_AB', keep='last')]\n",
    "df"
   ]
  },
  {
   "cell_type": "markdown",
   "id": "9827ef9e",
   "metadata": {},
   "source": [
    "Удаляем из датафрейма все комбинации, где сыновья имеют одинаковый возраст:"
   ]
  },
  {
   "cell_type": "code",
   "execution_count": 8,
   "id": "71506bc8",
   "metadata": {},
   "outputs": [
    {
     "data": {
      "text/html": [
       "<div>\n",
       "<style scoped>\n",
       "    .dataframe tbody tr th:only-of-type {\n",
       "        vertical-align: middle;\n",
       "    }\n",
       "\n",
       "    .dataframe tbody tr th {\n",
       "        vertical-align: top;\n",
       "    }\n",
       "\n",
       "    .dataframe thead th {\n",
       "        text-align: right;\n",
       "    }\n",
       "</style>\n",
       "<table border=\"1\" class=\"dataframe\">\n",
       "  <thead>\n",
       "    <tr style=\"text-align: right;\">\n",
       "      <th></th>\n",
       "      <th>A</th>\n",
       "      <th>B</th>\n",
       "      <th>product_of_AB</th>\n",
       "    </tr>\n",
       "  </thead>\n",
       "  <tbody>\n",
       "    <tr>\n",
       "      <th>3</th>\n",
       "      <td>1</td>\n",
       "      <td>4</td>\n",
       "      <td>4</td>\n",
       "    </tr>\n",
       "    <tr>\n",
       "      <th>5</th>\n",
       "      <td>1</td>\n",
       "      <td>6</td>\n",
       "      <td>6</td>\n",
       "    </tr>\n",
       "    <tr>\n",
       "      <th>7</th>\n",
       "      <td>2</td>\n",
       "      <td>3</td>\n",
       "      <td>6</td>\n",
       "    </tr>\n",
       "    <tr>\n",
       "      <th>10</th>\n",
       "      <td>2</td>\n",
       "      <td>6</td>\n",
       "      <td>12</td>\n",
       "    </tr>\n",
       "    <tr>\n",
       "      <th>12</th>\n",
       "      <td>3</td>\n",
       "      <td>4</td>\n",
       "      <td>12</td>\n",
       "    </tr>\n",
       "  </tbody>\n",
       "</table>\n",
       "</div>"
      ],
      "text/plain": [
       "    A  B product_of_AB\n",
       "3   1  4             4\n",
       "5   1  6             6\n",
       "7   2  3             6\n",
       "10  2  6            12\n",
       "12  3  4            12"
      ]
     },
     "execution_count": 8,
     "metadata": {},
     "output_type": "execute_result"
    }
   ],
   "source": [
    "for i in df.index:\n",
    "    if df['A'][i] == df['B'][i]:\n",
    "        df.drop(axis=0, index=i, inplace=True)\n",
    "df"
   ]
  },
  {
   "cell_type": "markdown",
   "id": "83ca3b84",
   "metadata": {},
   "source": [
    "Удаляем из датафрейма все неоднозначные варианты произведения возрастов:"
   ]
  },
  {
   "cell_type": "code",
   "execution_count": 9,
   "id": "198aec14",
   "metadata": {},
   "outputs": [
    {
     "data": {
      "text/html": [
       "<div>\n",
       "<style scoped>\n",
       "    .dataframe tbody tr th:only-of-type {\n",
       "        vertical-align: middle;\n",
       "    }\n",
       "\n",
       "    .dataframe tbody tr th {\n",
       "        vertical-align: top;\n",
       "    }\n",
       "\n",
       "    .dataframe thead th {\n",
       "        text-align: right;\n",
       "    }\n",
       "</style>\n",
       "<table border=\"1\" class=\"dataframe\">\n",
       "  <thead>\n",
       "    <tr style=\"text-align: right;\">\n",
       "      <th></th>\n",
       "      <th>A</th>\n",
       "      <th>B</th>\n",
       "      <th>product_of_AB</th>\n",
       "    </tr>\n",
       "  </thead>\n",
       "  <tbody>\n",
       "    <tr>\n",
       "      <th>0</th>\n",
       "      <td>1</td>\n",
       "      <td>4</td>\n",
       "      <td>4</td>\n",
       "    </tr>\n",
       "  </tbody>\n",
       "</table>\n",
       "</div>"
      ],
      "text/plain": [
       "   A  B product_of_AB\n",
       "0  1  4             4"
      ]
     },
     "execution_count": 9,
     "metadata": {},
     "output_type": "execute_result"
    }
   ],
   "source": [
    "df.drop_duplicates(subset='product_of_AB',keep=False, inplace=True)\n",
    "df.reset_index(drop=True,inplace=True)\n",
    "df"
   ]
  },
  {
   "cell_type": "markdown",
   "id": "b1549628",
   "metadata": {},
   "source": [
    "Пишем ответ:"
   ]
  },
  {
   "cell_type": "code",
   "execution_count": 10,
   "id": "054e43b5",
   "metadata": {},
   "outputs": [
    {
     "name": "stdout",
     "output_type": "stream",
     "text": [
      "возраст сыновей: 1 и 4 года.\n"
     ]
    }
   ],
   "source": [
    "if len(df) == 1:\n",
    "    print(f\"возраст сыновей: {df['A'][0]} и {df['B'][0]} года.\")\n",
    "else:\n",
    "    print(\"нет однозначного ответа\")"
   ]
  }
 ],
 "metadata": {
  "kernelspec": {
   "display_name": "Python 3 (ipykernel)",
   "language": "python",
   "name": "python3"
  },
  "language_info": {
   "codemirror_mode": {
    "name": "ipython",
    "version": 3
   },
   "file_extension": ".py",
   "mimetype": "text/x-python",
   "name": "python",
   "nbconvert_exporter": "python",
   "pygments_lexer": "ipython3",
   "version": "3.11.5"
  }
 },
 "nbformat": 4,
 "nbformat_minor": 5
}
