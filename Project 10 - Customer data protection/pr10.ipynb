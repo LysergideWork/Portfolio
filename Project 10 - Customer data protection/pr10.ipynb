{
 "cells": [
  {
   "cell_type": "markdown",
   "metadata": {
    "toc": true
   },
   "source": [
    "<h1>Содержание<span class=\"tocSkip\"></span></h1>\n",
    "<div class=\"toc\"><ul class=\"toc-item\"><li><span><a href=\"#Загрузка-данных\" data-toc-modified-id=\"Загрузка-данных-1\"><span class=\"toc-item-num\">1&nbsp;&nbsp;</span>Загрузка данных</a></span><ul class=\"toc-item\"><li><span><a href=\"#Импортируем-библиотеки\" data-toc-modified-id=\"Импортируем-библиотеки-1.1\"><span class=\"toc-item-num\">1.1&nbsp;&nbsp;</span>Импортируем библиотеки</a></span></li><li><span><a href=\"#Изучаем-данные\" data-toc-modified-id=\"Изучаем-данные-1.2\"><span class=\"toc-item-num\">1.2&nbsp;&nbsp;</span>Изучаем данные</a></span></li><li><span><a href=\"#Вывод\" data-toc-modified-id=\"Вывод-1.3\"><span class=\"toc-item-num\">1.3&nbsp;&nbsp;</span>Вывод</a></span></li></ul></li><li><span><a href=\"#Умножение-матриц\" data-toc-modified-id=\"Умножение-матриц-2\"><span class=\"toc-item-num\">2&nbsp;&nbsp;</span>Умножение матриц</a></span><ul class=\"toc-item\"><li><span><a href=\"#Составим-матрицу-признаков-и-вектор-целевого-признака\" data-toc-modified-id=\"Составим-матрицу-признаков-и-вектор-целевого-признака-2.1\"><span class=\"toc-item-num\">2.1&nbsp;&nbsp;</span>Составим матрицу признаков и вектор целевого признака</a></span></li><li><span><a href=\"#Проверим-обратимость-матрицы\" data-toc-modified-id=\"Проверим-обратимость-матрицы-2.2\"><span class=\"toc-item-num\">2.2&nbsp;&nbsp;</span>Проверим обратимость матрицы</a></span><ul class=\"toc-item\"><li><span><a href=\"#Вывод\" data-toc-modified-id=\"Вывод-2.2.1\"><span class=\"toc-item-num\">2.2.1&nbsp;&nbsp;</span>Вывод</a></span></li></ul></li><li><span><a href=\"#Ответ\" data-toc-modified-id=\"Ответ-2.3\"><span class=\"toc-item-num\">2.3&nbsp;&nbsp;</span>Ответ</a></span></li><li><span><a href=\"#Обоснование\" data-toc-modified-id=\"Обоснование-2.4\"><span class=\"toc-item-num\">2.4&nbsp;&nbsp;</span>Обоснование</a></span></li><li><span><a href=\"#Вывод\" data-toc-modified-id=\"Вывод-2.5\"><span class=\"toc-item-num\">2.5&nbsp;&nbsp;</span>Вывод</a></span></li></ul></li><li><span><a href=\"#Алгоритм-преобразования\" data-toc-modified-id=\"Алгоритм-преобразования-3\"><span class=\"toc-item-num\">3&nbsp;&nbsp;</span>Алгоритм преобразования</a></span></li><li><span><a href=\"#Проверка-алгоритма\" data-toc-modified-id=\"Проверка-алгоритма-4\"><span class=\"toc-item-num\">4&nbsp;&nbsp;</span>Проверка алгоритма</a></span><ul class=\"toc-item\"><li><span><a href=\"#Вывод\" data-toc-modified-id=\"Вывод-4.1\"><span class=\"toc-item-num\">4.1&nbsp;&nbsp;</span>Вывод</a></span></li></ul></li><li><span><a href=\"#Общий-вывод\" data-toc-modified-id=\"Общий-вывод-5\"><span class=\"toc-item-num\">5&nbsp;&nbsp;</span>Общий вывод</a></span></li></ul></div>"
   ]
  },
  {
   "cell_type": "markdown",
   "metadata": {},
   "source": [
    "# Защита персональных данных клиентов"
   ]
  },
  {
   "cell_type": "markdown",
   "metadata": {},
   "source": [
    "Нам нужно разработать и обосновать метод преобразования данных, чтобы по ним было сложно восстановить персональную информацию клиентов страховой компании «Хоть потоп».  \n",
    "Защитить данные нужно таким образом, чтобы при преобразовании качество моделей машинного обучения не ухудшилось. При этом подбирать наилучшую модель не требуется."
   ]
  },
  {
   "cell_type": "markdown",
   "metadata": {},
   "source": [
    "## Загрузка данных"
   ]
  },
  {
   "cell_type": "markdown",
   "metadata": {},
   "source": [
    "### Импортируем библиотеки"
   ]
  },
  {
   "cell_type": "code",
   "execution_count": 1,
   "metadata": {},
   "outputs": [],
   "source": [
    "import pandas as pd\n",
    "import numpy as np\n",
    "from sklearn.linear_model import LinearRegression\n",
    "from sklearn.metrics import r2_score"
   ]
  },
  {
   "cell_type": "markdown",
   "metadata": {},
   "source": [
    "### Изучаем данные"
   ]
  },
  {
   "cell_type": "code",
   "execution_count": 2,
   "metadata": {},
   "outputs": [],
   "source": [
    "try:\n",
    "    df = pd.read_csv('/datasets/insurance.csv')\n",
    "       \n",
    "except:\n",
    "    df = pd.read_csv('https://code.s3.yandex.net/datasets/insurance.csv')"
   ]
  },
  {
   "cell_type": "code",
   "execution_count": 3,
   "metadata": {},
   "outputs": [
    {
     "name": "stdout",
     "output_type": "stream",
     "text": [
      "<class 'pandas.core.frame.DataFrame'>\n",
      "RangeIndex: 5000 entries, 0 to 4999\n",
      "Data columns (total 5 columns):\n",
      " #   Column             Non-Null Count  Dtype  \n",
      "---  ------             --------------  -----  \n",
      " 0   Пол                5000 non-null   int64  \n",
      " 1   Возраст            5000 non-null   float64\n",
      " 2   Зарплата           5000 non-null   float64\n",
      " 3   Члены семьи        5000 non-null   int64  \n",
      " 4   Страховые выплаты  5000 non-null   int64  \n",
      "dtypes: float64(2), int64(3)\n",
      "memory usage: 195.4 KB\n"
     ]
    },
    {
     "data": {
      "text/html": [
       "<div>\n",
       "<style scoped>\n",
       "    .dataframe tbody tr th:only-of-type {\n",
       "        vertical-align: middle;\n",
       "    }\n",
       "\n",
       "    .dataframe tbody tr th {\n",
       "        vertical-align: top;\n",
       "    }\n",
       "\n",
       "    .dataframe thead th {\n",
       "        text-align: right;\n",
       "    }\n",
       "</style>\n",
       "<table border=\"1\" class=\"dataframe\">\n",
       "  <thead>\n",
       "    <tr style=\"text-align: right;\">\n",
       "      <th></th>\n",
       "      <th>Пол</th>\n",
       "      <th>Возраст</th>\n",
       "      <th>Зарплата</th>\n",
       "      <th>Члены семьи</th>\n",
       "      <th>Страховые выплаты</th>\n",
       "    </tr>\n",
       "  </thead>\n",
       "  <tbody>\n",
       "    <tr>\n",
       "      <th>0</th>\n",
       "      <td>1</td>\n",
       "      <td>41.0</td>\n",
       "      <td>49600.0</td>\n",
       "      <td>1</td>\n",
       "      <td>0</td>\n",
       "    </tr>\n",
       "    <tr>\n",
       "      <th>1</th>\n",
       "      <td>0</td>\n",
       "      <td>46.0</td>\n",
       "      <td>38000.0</td>\n",
       "      <td>1</td>\n",
       "      <td>1</td>\n",
       "    </tr>\n",
       "    <tr>\n",
       "      <th>2</th>\n",
       "      <td>0</td>\n",
       "      <td>29.0</td>\n",
       "      <td>21000.0</td>\n",
       "      <td>0</td>\n",
       "      <td>0</td>\n",
       "    </tr>\n",
       "    <tr>\n",
       "      <th>3</th>\n",
       "      <td>0</td>\n",
       "      <td>21.0</td>\n",
       "      <td>41700.0</td>\n",
       "      <td>2</td>\n",
       "      <td>0</td>\n",
       "    </tr>\n",
       "    <tr>\n",
       "      <th>4</th>\n",
       "      <td>1</td>\n",
       "      <td>28.0</td>\n",
       "      <td>26100.0</td>\n",
       "      <td>0</td>\n",
       "      <td>0</td>\n",
       "    </tr>\n",
       "  </tbody>\n",
       "</table>\n",
       "</div>"
      ],
      "text/plain": [
       "   Пол  Возраст  Зарплата  Члены семьи  Страховые выплаты\n",
       "0    1     41.0   49600.0            1                  0\n",
       "1    0     46.0   38000.0            1                  1\n",
       "2    0     29.0   21000.0            0                  0\n",
       "3    0     21.0   41700.0            2                  0\n",
       "4    1     28.0   26100.0            0                  0"
      ]
     },
     "metadata": {},
     "output_type": "display_data"
    },
    {
     "data": {
      "text/plain": [
       "None"
      ]
     },
     "metadata": {},
     "output_type": "display_data"
    },
    {
     "data": {
      "text/html": [
       "<div>\n",
       "<style scoped>\n",
       "    .dataframe tbody tr th:only-of-type {\n",
       "        vertical-align: middle;\n",
       "    }\n",
       "\n",
       "    .dataframe tbody tr th {\n",
       "        vertical-align: top;\n",
       "    }\n",
       "\n",
       "    .dataframe thead th {\n",
       "        text-align: right;\n",
       "    }\n",
       "</style>\n",
       "<table border=\"1\" class=\"dataframe\">\n",
       "  <thead>\n",
       "    <tr style=\"text-align: right;\">\n",
       "      <th></th>\n",
       "      <th>Пол</th>\n",
       "      <th>Возраст</th>\n",
       "      <th>Зарплата</th>\n",
       "      <th>Члены семьи</th>\n",
       "      <th>Страховые выплаты</th>\n",
       "    </tr>\n",
       "  </thead>\n",
       "  <tbody>\n",
       "    <tr>\n",
       "      <th>count</th>\n",
       "      <td>5000.000000</td>\n",
       "      <td>5000.000000</td>\n",
       "      <td>5000.000000</td>\n",
       "      <td>5000.000000</td>\n",
       "      <td>5000.000000</td>\n",
       "    </tr>\n",
       "    <tr>\n",
       "      <th>mean</th>\n",
       "      <td>0.499000</td>\n",
       "      <td>30.952800</td>\n",
       "      <td>39916.360000</td>\n",
       "      <td>1.194200</td>\n",
       "      <td>0.148000</td>\n",
       "    </tr>\n",
       "    <tr>\n",
       "      <th>std</th>\n",
       "      <td>0.500049</td>\n",
       "      <td>8.440807</td>\n",
       "      <td>9900.083569</td>\n",
       "      <td>1.091387</td>\n",
       "      <td>0.463183</td>\n",
       "    </tr>\n",
       "    <tr>\n",
       "      <th>min</th>\n",
       "      <td>0.000000</td>\n",
       "      <td>18.000000</td>\n",
       "      <td>5300.000000</td>\n",
       "      <td>0.000000</td>\n",
       "      <td>0.000000</td>\n",
       "    </tr>\n",
       "    <tr>\n",
       "      <th>25%</th>\n",
       "      <td>0.000000</td>\n",
       "      <td>24.000000</td>\n",
       "      <td>33300.000000</td>\n",
       "      <td>0.000000</td>\n",
       "      <td>0.000000</td>\n",
       "    </tr>\n",
       "    <tr>\n",
       "      <th>50%</th>\n",
       "      <td>0.000000</td>\n",
       "      <td>30.000000</td>\n",
       "      <td>40200.000000</td>\n",
       "      <td>1.000000</td>\n",
       "      <td>0.000000</td>\n",
       "    </tr>\n",
       "    <tr>\n",
       "      <th>75%</th>\n",
       "      <td>1.000000</td>\n",
       "      <td>37.000000</td>\n",
       "      <td>46600.000000</td>\n",
       "      <td>2.000000</td>\n",
       "      <td>0.000000</td>\n",
       "    </tr>\n",
       "    <tr>\n",
       "      <th>max</th>\n",
       "      <td>1.000000</td>\n",
       "      <td>65.000000</td>\n",
       "      <td>79000.000000</td>\n",
       "      <td>6.000000</td>\n",
       "      <td>5.000000</td>\n",
       "    </tr>\n",
       "  </tbody>\n",
       "</table>\n",
       "</div>"
      ],
      "text/plain": [
       "               Пол      Возраст      Зарплата  Члены семьи  Страховые выплаты\n",
       "count  5000.000000  5000.000000   5000.000000  5000.000000        5000.000000\n",
       "mean      0.499000    30.952800  39916.360000     1.194200           0.148000\n",
       "std       0.500049     8.440807   9900.083569     1.091387           0.463183\n",
       "min       0.000000    18.000000   5300.000000     0.000000           0.000000\n",
       "25%       0.000000    24.000000  33300.000000     0.000000           0.000000\n",
       "50%       0.000000    30.000000  40200.000000     1.000000           0.000000\n",
       "75%       1.000000    37.000000  46600.000000     2.000000           0.000000\n",
       "max       1.000000    65.000000  79000.000000     6.000000           5.000000"
      ]
     },
     "metadata": {},
     "output_type": "display_data"
    },
    {
     "data": {
      "text/plain": [
       "array([[<Axes: title={'center': 'Пол'}>,\n",
       "        <Axes: title={'center': 'Возраст'}>],\n",
       "       [<Axes: title={'center': 'Зарплата'}>,\n",
       "        <Axes: title={'center': 'Члены семьи'}>],\n",
       "       [<Axes: title={'center': 'Страховые выплаты'}>, <Axes: >]],\n",
       "      dtype=object)"
      ]
     },
     "metadata": {},
     "output_type": "display_data"
    },
    {
     "data": {
      "image/png": "[encoded data removed]",
      "text/plain": [
       "<Figure size 640x480 with 6 Axes>"
      ]
     },
     "metadata": {},
     "output_type": "display_data"
    }
   ],
   "source": [
    "display(\n",
    "    df.head(),\n",
    "    df.info(),\n",
    "    df.describe(include='all'),\n",
    "    df.hist()\n",
    ");"
   ]
  },
  {
   "cell_type": "code",
   "execution_count": 4,
   "metadata": {},
   "outputs": [],
   "source": [
    "df['Возраст'] = df['Возраст'].astype('int')\n",
    "df['Зарплата'] = df['Зарплата'].astype('int')"
   ]
  },
  {
   "cell_type": "code",
   "execution_count": 5,
   "metadata": {},
   "outputs": [
    {
     "data": {
      "text/plain": [
       "0    0.8872\n",
       "1    0.0846\n",
       "2    0.0230\n",
       "3    0.0036\n",
       "4    0.0014\n",
       "5    0.0002\n",
       "Name: Страховые выплаты, dtype: float64"
      ]
     },
     "execution_count": 5,
     "metadata": {},
     "output_type": "execute_result"
    },
    {
     "data": {
      "image/png": "[encoded data removed]",
      "text/plain": [
       "<Figure size 640x480 with 1 Axes>"
      ]
     },
     "metadata": {},
     "output_type": "display_data"
    }
   ],
   "source": [
    "df['Страховые выплаты'].hist()\n",
    "df['Страховые выплаты'].value_counts('normalize')"
   ]
  },
  {
   "cell_type": "code",
   "execution_count": 6,
   "metadata": {},
   "outputs": [
    {
     "name": "stdout",
     "output_type": "stream",
     "text": [
      "<class 'pandas.core.frame.DataFrame'>\n",
      "RangeIndex: 5000 entries, 0 to 4999\n",
      "Data columns (total 5 columns):\n",
      " #   Column             Non-Null Count  Dtype\n",
      "---  ------             --------------  -----\n",
      " 0   Пол                5000 non-null   int64\n",
      " 1   Возраст            5000 non-null   int32\n",
      " 2   Зарплата           5000 non-null   int32\n",
      " 3   Члены семьи        5000 non-null   int64\n",
      " 4   Страховые выплаты  5000 non-null   int64\n",
      "dtypes: int32(2), int64(3)\n",
      "memory usage: 156.4 KB\n"
     ]
    }
   ],
   "source": [
    "df.info()"
   ]
  },
  {
   "cell_type": "markdown",
   "metadata": {},
   "source": [
    "### Вывод"
   ]
  },
  {
   "cell_type": "markdown",
   "metadata": {},
   "source": [
    "Исходные данные представляют собой таблицу (5000 rows × 5 columns). Пропусков нет. Типы данных впорядке, на всякий случай переведем все значения в int64.  \n",
    "Признаки: пол, возраст и зарплата застрахованного, количество членов его семьи.  \n",
    "Целевой признак: количество страховых выплат клиенту за последние 5 лет.  \n",
    "В целевом признаке присутствует дисбалланс."
   ]
  },
  {
   "cell_type": "code",
   "execution_count": 7,
   "metadata": {},
   "outputs": [
    {
     "data": {
      "text/html": [
       "<div>\n",
       "<style scoped>\n",
       "    .dataframe tbody tr th:only-of-type {\n",
       "        vertical-align: middle;\n",
       "    }\n",
       "\n",
       "    .dataframe tbody tr th {\n",
       "        vertical-align: top;\n",
       "    }\n",
       "\n",
       "    .dataframe thead th {\n",
       "        text-align: right;\n",
       "    }\n",
       "</style>\n",
       "<table border=\"1\" class=\"dataframe\">\n",
       "  <thead>\n",
       "    <tr style=\"text-align: right;\">\n",
       "      <th></th>\n",
       "      <th>Пол</th>\n",
       "      <th>Возраст</th>\n",
       "      <th>Зарплата</th>\n",
       "      <th>Члены семьи</th>\n",
       "      <th>Страховые выплаты</th>\n",
       "    </tr>\n",
       "  </thead>\n",
       "  <tbody>\n",
       "    <tr>\n",
       "      <th>Пол</th>\n",
       "      <td>1.000000</td>\n",
       "      <td>0.002074</td>\n",
       "      <td>0.014910</td>\n",
       "      <td>-0.008991</td>\n",
       "      <td>0.010140</td>\n",
       "    </tr>\n",
       "    <tr>\n",
       "      <th>Возраст</th>\n",
       "      <td>0.002074</td>\n",
       "      <td>1.000000</td>\n",
       "      <td>-0.019093</td>\n",
       "      <td>-0.006692</td>\n",
       "      <td>0.651030</td>\n",
       "    </tr>\n",
       "    <tr>\n",
       "      <th>Зарплата</th>\n",
       "      <td>0.014910</td>\n",
       "      <td>-0.019093</td>\n",
       "      <td>1.000000</td>\n",
       "      <td>-0.030296</td>\n",
       "      <td>-0.014963</td>\n",
       "    </tr>\n",
       "    <tr>\n",
       "      <th>Члены семьи</th>\n",
       "      <td>-0.008991</td>\n",
       "      <td>-0.006692</td>\n",
       "      <td>-0.030296</td>\n",
       "      <td>1.000000</td>\n",
       "      <td>-0.036290</td>\n",
       "    </tr>\n",
       "    <tr>\n",
       "      <th>Страховые выплаты</th>\n",
       "      <td>0.010140</td>\n",
       "      <td>0.651030</td>\n",
       "      <td>-0.014963</td>\n",
       "      <td>-0.036290</td>\n",
       "      <td>1.000000</td>\n",
       "    </tr>\n",
       "  </tbody>\n",
       "</table>\n",
       "</div>"
      ],
      "text/plain": [
       "                        Пол   Возраст  Зарплата  Члены семьи  \\\n",
       "Пол                1.000000  0.002074  0.014910    -0.008991   \n",
       "Возраст            0.002074  1.000000 -0.019093    -0.006692   \n",
       "Зарплата           0.014910 -0.019093  1.000000    -0.030296   \n",
       "Члены семьи       -0.008991 -0.006692 -0.030296     1.000000   \n",
       "Страховые выплаты  0.010140  0.651030 -0.014963    -0.036290   \n",
       "\n",
       "                   Страховые выплаты  \n",
       "Пол                         0.010140  \n",
       "Возраст                     0.651030  \n",
       "Зарплата                   -0.014963  \n",
       "Члены семьи                -0.036290  \n",
       "Страховые выплаты           1.000000  "
      ]
     },
     "execution_count": 7,
     "metadata": {},
     "output_type": "execute_result"
    }
   ],
   "source": [
    "df.corr()"
   ]
  },
  {
   "cell_type": "markdown",
   "metadata": {},
   "source": [
    "**Вывод:** С помощью коэф корреляции Пирсона мы обнаружили корреляцию 2-х признаков: Страховые выплаты и Возраст. Коэф равен 0.65. Не имея практического опыта, трудно оценить достаточно ли этого значения, для того, чтобы говорить о корреляции 2-х признаков. Кто-то в интернете пишет, что значение более 0.7 уже достаточно, кто-то говорит, что достаточно больше 0.5. Допустим, что переменные коррелируют."
   ]
  },
  {
   "cell_type": "code",
   "execution_count": 8,
   "metadata": {},
   "outputs": [
    {
     "data": {
      "text/html": [
       "<div>\n",
       "<style scoped>\n",
       "    .dataframe tbody tr th:only-of-type {\n",
       "        vertical-align: middle;\n",
       "    }\n",
       "\n",
       "    .dataframe tbody tr th {\n",
       "        vertical-align: top;\n",
       "    }\n",
       "\n",
       "    .dataframe thead th {\n",
       "        text-align: right;\n",
       "    }\n",
       "</style>\n",
       "<table border=\"1\" class=\"dataframe\">\n",
       "  <thead>\n",
       "    <tr style=\"text-align: right;\">\n",
       "      <th></th>\n",
       "      <th>VIF</th>\n",
       "      <th>variable</th>\n",
       "    </tr>\n",
       "  </thead>\n",
       "  <tbody>\n",
       "    <tr>\n",
       "      <th>0</th>\n",
       "      <td>1.950884</td>\n",
       "      <td>Пол</td>\n",
       "    </tr>\n",
       "    <tr>\n",
       "      <th>1</th>\n",
       "      <td>12.171111</td>\n",
       "      <td>Возраст</td>\n",
       "    </tr>\n",
       "    <tr>\n",
       "      <th>2</th>\n",
       "      <td>10.131786</td>\n",
       "      <td>Зарплата</td>\n",
       "    </tr>\n",
       "    <tr>\n",
       "      <th>3</th>\n",
       "      <td>2.133779</td>\n",
       "      <td>Члены семьи</td>\n",
       "    </tr>\n",
       "    <tr>\n",
       "      <th>4</th>\n",
       "      <td>1.581746</td>\n",
       "      <td>Страховые выплаты</td>\n",
       "    </tr>\n",
       "  </tbody>\n",
       "</table>\n",
       "</div>"
      ],
      "text/plain": [
       "         VIF           variable\n",
       "0   1.950884                Пол\n",
       "1  12.171111            Возраст\n",
       "2  10.131786           Зарплата\n",
       "3   2.133779        Члены семьи\n",
       "4   1.581746  Страховые выплаты"
      ]
     },
     "execution_count": 8,
     "metadata": {},
     "output_type": "execute_result"
    }
   ],
   "source": [
    "from statsmodels.stats.outliers_influence import variance_inflation_factor\n",
    "\n",
    "vif = pd.DataFrame()\n",
    "vif['VIF'] = [variance_inflation_factor(df.values, i) for i in range(df.shape[1])]\n",
    "vif['variable'] = df.columns\n",
    "vif"
   ]
  },
  {
   "cell_type": "markdown",
   "metadata": {},
   "source": [
    "**Вывод:** Способ расчета коэфициента инфляции дисперсии (VIF) показал высокие значения у признаков Возраст и Зарплата, значит можно говорить о наличии мультиколлинеарности."
   ]
  },
  {
   "cell_type": "markdown",
   "metadata": {},
   "source": [
    "## Умножение матриц"
   ]
  },
  {
   "cell_type": "markdown",
   "metadata": {},
   "source": [
    "Обозначения:\n",
    "\n",
    "- $X$ — матрица признаков (нулевой столбец состоит из единиц)\n",
    "\n",
    "- $y$ — вектор целевого признака\n",
    "\n",
    "- $P$ — матрица, на которую умножаются признаки\n",
    "\n",
    "- $w$ — вектор весов линейной регрессии (нулевой элемент равен сдвигу)"
   ]
  },
  {
   "cell_type": "markdown",
   "metadata": {},
   "source": [
    "Предсказания:\n",
    "\n",
    "$$\n",
    "a = Xw\n",
    "$$\n",
    "\n",
    "Задача обучения:\n",
    "\n",
    "$$\n",
    "w = \\arg\\min_w MSE(Xw, y)\n",
    "$$\n",
    "\n",
    "Формула обучения:\n",
    "\n",
    "$$\n",
    "w = (X^T X)^{-1} X^T y\n",
    "$$"
   ]
  },
  {
   "cell_type": "markdown",
   "metadata": {},
   "source": [
    "### Составим матрицу признаков и вектор целевого признака"
   ]
  },
  {
   "cell_type": "code",
   "execution_count": 9,
   "metadata": {},
   "outputs": [
    {
     "data": {
      "text/plain": [
       "((5000, 4), (5000,))"
      ]
     },
     "execution_count": 9,
     "metadata": {},
     "output_type": "execute_result"
    }
   ],
   "source": [
    "X = df.drop(\"Страховые выплаты\", axis=1)\n",
    "y = df[\"Страховые выплаты\"]\n",
    "\n",
    "X.shape, y.shape"
   ]
  },
  {
   "cell_type": "markdown",
   "metadata": {},
   "source": [
    "### Проверим обратимость матрицы"
   ]
  },
  {
   "cell_type": "code",
   "execution_count": 10,
   "metadata": {},
   "outputs": [
    {
     "data": {
      "text/plain": [
       "array([[ 2.1336149 ,  0.5051926 , -1.71113385,  1.33832486],\n",
       "       [-3.76534462, -2.61352053,  6.72316006, -6.07193701],\n",
       "       [ 0.97426298,  2.9928115 , -3.49875049,  1.84220045],\n",
       "       [ 0.13998298, -0.94454066,  0.52375812,  1.652661  ]])"
      ]
     },
     "execution_count": 10,
     "metadata": {},
     "output_type": "execute_result"
    }
   ],
   "source": [
    "np.random.seed(12345)\n",
    "INV = np.random.rand(4,4)\n",
    "np.linalg.inv(INV)"
   ]
  },
  {
   "cell_type": "markdown",
   "metadata": {},
   "source": [
    "Функция для обсчета коэффициента детерминации:"
   ]
  },
  {
   "cell_type": "code",
   "execution_count": 11,
   "metadata": {},
   "outputs": [],
   "source": [
    "def r2_score(x, y):\n",
    "    LR = LinearRegression()\n",
    "    LR.fit(x, y)\n",
    "    r2 = LR.score(x, y)\n",
    "    return r2"
   ]
  },
  {
   "cell_type": "markdown",
   "metadata": {},
   "source": [
    "R2 для обычной матрицы признаков:"
   ]
  },
  {
   "cell_type": "code",
   "execution_count": 12,
   "metadata": {},
   "outputs": [
    {
     "data": {
      "text/plain": [
       "0.42494550308169177"
      ]
     },
     "execution_count": 12,
     "metadata": {},
     "output_type": "execute_result"
    }
   ],
   "source": [
    "r2_score(X, y)"
   ]
  },
  {
   "cell_type": "markdown",
   "metadata": {},
   "source": [
    "R2 для произведения матрицы признаков и квадратной обратимой матрицы:"
   ]
  },
  {
   "cell_type": "code",
   "execution_count": 13,
   "metadata": {},
   "outputs": [
    {
     "data": {
      "text/plain": [
       "0.42494550308174195"
      ]
     },
     "execution_count": 13,
     "metadata": {},
     "output_type": "execute_result"
    }
   ],
   "source": [
    "P = X @ INV\n",
    "r2_score(P, y)"
   ]
  },
  {
   "cell_type": "markdown",
   "metadata": {},
   "source": [
    "#### Вывод"
   ]
  },
  {
   "cell_type": "markdown",
   "metadata": {},
   "source": [
    "Качество линейной регрессии не меняется при умножении матрицы признаков на квадратную обратимую матрицу"
   ]
  },
  {
   "cell_type": "markdown",
   "metadata": {},
   "source": [
    "### Ответ"
   ]
  },
  {
   "cell_type": "markdown",
   "metadata": {},
   "source": [
    "R2 не поменяется"
   ]
  },
  {
   "cell_type": "markdown",
   "metadata": {},
   "source": [
    "### Обоснование"
   ]
  },
  {
   "cell_type": "markdown",
   "metadata": {},
   "source": [
    "Докажем, что умножив марицу признаков на другую, у которой существует обратная и умножив на обратную получим исходную матрицу признаков.  \n",
    "  \n",
    "Запишем исходное уравнение весов:\n",
    "$$\n",
    "w = (X^T X)^{-1} X^{T} y\n",
    "$$\n",
    "  \n",
    "В формулу вектора весов линейной регрессии $w$ подставляем произведение $XP$ вместо $X$. Получится выражение для $w’$.\n",
    "\n",
    "\n",
    "$w’$ - вектор весов после преобразования,  \n",
    "$P$ - обратимая квадратная матрица.  \n",
    "  \n",
    "$$\n",
    "w' = ((X P)^{T} (X P))^{-1} (X P)^{T} y = (P^{T} X^{T} X P)^{-1} P^{T} X^{T} y = P^{-1} (X^{T} X)^{-1} P^{T^{-1}} P^{T} X^{T} y = P^{-1}(X^T X)^{-1} X^{T} y = P^{-1} w\n",
    "$$\n",
    "\n",
    "Таким образом мы нашли связь между **_w_** и **_w’_**. Теперь в формулу предсказания подставляем **_X*P_** вместо **_X_**, и **_w’_** вместо **_w_**\n",
    "\n",
    "$$\n",
    "a' = X P w' = X P P ^ {-1} w = X E w = X w = a\n",
    "$$\n",
    "\n",
    "Проверим на практике:"
   ]
  },
  {
   "cell_type": "code",
   "execution_count": 14,
   "metadata": {},
   "outputs": [
    {
     "name": "stdout",
     "output_type": "stream",
     "text": [
      "Матрица признаков P:\n",
      "[[  -6   29   82   26]\n",
      " [ 237  -95   43 -167]\n",
      " [ 251   -4  195 -139]\n",
      " [ 139   13   52   78]]\n",
      "Матрица преобразования А:\n",
      "[[-72   7 138 -53]\n",
      " [214  41 -92  60]\n",
      " [-12  22 -44 100]\n",
      " [157  68 -47  45]]\n"
     ]
    },
    {
     "data": {
      "text/plain": [
       "1"
      ]
     },
     "execution_count": 14,
     "metadata": {},
     "output_type": "execute_result"
    }
   ],
   "source": [
    "np.random.seed(12345)\n",
    "check = []\n",
    "for i in range(100):\n",
    "    P = np.random.normal(10, 100, size=(4,4)).astype('int64')\n",
    "    A = np.random.normal(10, 100, size=(4,4)).astype('int64')\n",
    "    check.append(np.rint(A @ P @ np.linalg.inv(P)).astype('int64') == A)\n",
    "print('Матрица признаков P:')\n",
    "print(P)\n",
    "print('Матрица преобразования А:')\n",
    "print(A)\n",
    "np.prod(np.array(check))"
   ]
  },
  {
   "cell_type": "markdown",
   "metadata": {},
   "source": [
    "### Вывод"
   ]
  },
  {
   "cell_type": "markdown",
   "metadata": {},
   "source": [
    "Умножив марицу признаков на другую, у которой существует обратная и умножив на обратную получим исходную матрицу признаков."
   ]
  },
  {
   "cell_type": "markdown",
   "metadata": {},
   "source": [
    "## Алгоритм преобразования"
   ]
  },
  {
   "cell_type": "markdown",
   "metadata": {},
   "source": [
    "Для шифрования воспользуемся квадратной обратимой матрицей - $P$, где $X P = Xcr$ - процесс шифрования, а $Xcr P^{-1} = X$."
   ]
  },
  {
   "cell_type": "markdown",
   "metadata": {},
   "source": [
    "Ранее мы уже обосновали возможность использования матрицы $P$ для шифрования исходной матрицы признаков."
   ]
  },
  {
   "cell_type": "markdown",
   "metadata": {},
   "source": [
    "## Проверка алгоритма"
   ]
  },
  {
   "cell_type": "code",
   "execution_count": 15,
   "metadata": {
    "scrolled": false
   },
   "outputs": [
    {
     "data": {
      "text/html": [
       "<div>\n",
       "<style scoped>\n",
       "    .dataframe tbody tr th:only-of-type {\n",
       "        vertical-align: middle;\n",
       "    }\n",
       "\n",
       "    .dataframe tbody tr th {\n",
       "        vertical-align: top;\n",
       "    }\n",
       "\n",
       "    .dataframe thead th {\n",
       "        text-align: right;\n",
       "    }\n",
       "</style>\n",
       "<table border=\"1\" class=\"dataframe\">\n",
       "  <thead>\n",
       "    <tr style=\"text-align: right;\">\n",
       "      <th></th>\n",
       "      <th>0</th>\n",
       "      <th>1</th>\n",
       "      <th>2</th>\n",
       "      <th>3</th>\n",
       "    </tr>\n",
       "  </thead>\n",
       "  <tbody>\n",
       "    <tr>\n",
       "      <th>0</th>\n",
       "      <td>48171.338106</td>\n",
       "      <td>148335.856886</td>\n",
       "      <td>-173263.562169</td>\n",
       "      <td>91127.184099</td>\n",
       "    </tr>\n",
       "    <tr>\n",
       "      <th>1</th>\n",
       "      <td>36848.927240</td>\n",
       "      <td>113605.670650</td>\n",
       "      <td>-132642.729539</td>\n",
       "      <td>69725.960820</td>\n",
       "    </tr>\n",
       "    <tr>\n",
       "      <th>2</th>\n",
       "      <td>20350.327514</td>\n",
       "      <td>62773.249479</td>\n",
       "      <td>-73278.788670</td>\n",
       "      <td>38510.123366</td>\n",
       "    </tr>\n",
       "    <tr>\n",
       "      <th>3</th>\n",
       "      <td>40547.973852</td>\n",
       "      <td>124743.466685</td>\n",
       "      <td>-145755.661599</td>\n",
       "      <td>76695.553587</td>\n",
       "    </tr>\n",
       "    <tr>\n",
       "      <th>4</th>\n",
       "      <td>25324.967654</td>\n",
       "      <td>78039.706860</td>\n",
       "      <td>-91130.850469</td>\n",
       "      <td>47912.755944</td>\n",
       "    </tr>\n",
       "  </tbody>\n",
       "</table>\n",
       "</div>"
      ],
      "text/plain": [
       "              0              1              2             3\n",
       "0  48171.338106  148335.856886 -173263.562169  91127.184099\n",
       "1  36848.927240  113605.670650 -132642.729539  69725.960820\n",
       "2  20350.327514   62773.249479  -73278.788670  38510.123366\n",
       "3  40547.973852  124743.466685 -145755.661599  76695.553587\n",
       "4  25324.967654   78039.706860  -91130.850469  47912.755944"
      ]
     },
     "execution_count": 15,
     "metadata": {},
     "output_type": "execute_result"
    }
   ],
   "source": [
    "np.random.seed(12345)\n",
    "try:\n",
    "    P = np.linalg.inv(np.random.rand(4,4))\n",
    "except numpy.linalg.LinAlgError:\n",
    "    pass\n",
    "else:\n",
    "    X_cr = X @ P\n",
    "    \n",
    "X_cr.head()"
   ]
  },
  {
   "cell_type": "code",
   "execution_count": 16,
   "metadata": {},
   "outputs": [
    {
     "data": {
      "text/plain": [
       "0.42494550308170065"
      ]
     },
     "execution_count": 16,
     "metadata": {},
     "output_type": "execute_result"
    }
   ],
   "source": [
    "r2_score(X_cr, y)"
   ]
  },
  {
   "cell_type": "markdown",
   "metadata": {},
   "source": [
    "### Вывод"
   ]
  },
  {
   "cell_type": "markdown",
   "metadata": {},
   "source": [
    "Качество линейной регрессии до и после преобразования не изменилось."
   ]
  },
  {
   "cell_type": "markdown",
   "metadata": {},
   "source": [
    "## Общий вывод"
   ]
  },
  {
   "cell_type": "markdown",
   "metadata": {},
   "source": [
    "Исходные данные представляют собой таблицу (5000 rows × 5 columns). Пропусков нет. Типы данных впорядке, на всякий случай перевели все значения в int64.  \n",
    "Признаки: пол, возраст и зарплата застрахованного, количество членов его семьи.  \n",
    "Целевой признак: количество страховых выплат клиенту за последние 5 лет.  \n",
    "В целевом признаке присутствует дисбалланс."
   ]
  },
  {
   "cell_type": "markdown",
   "metadata": {},
   "source": [
    "Мы доказали, что качество линейной регрессии не меняется при умножении матрицы признаков на квадратную обратимую матрицу."
   ]
  },
  {
   "cell_type": "markdown",
   "metadata": {},
   "source": [
    "Мы доказали, что умножив марицу признаков на другую, у которой существует обратная и умножив на обратную получим исходную матрицу признаков."
   ]
  },
  {
   "cell_type": "markdown",
   "metadata": {},
   "source": [
    "Мы предложили алгоритм шифромания данных клиентов с помощью умножения матрицы признаков $X$ на квадратную обратимую матрицу $P$. И доказали, что качество линейной регрессии до и после преобразования не изменилось."
   ]
  },
  {
   "cell_type": "code",
   "execution_count": null,
   "metadata": {},
   "outputs": [],
   "source": []
  }
 ],
 "metadata": {
  "ExecuteTimeLog": [
   {
    "duration": 1229,
    "start_time": "2022-12-31T12:04:11.881Z"
   },
   {
    "duration": 1112,
    "start_time": "2023-01-04T07:37:04.285Z"
   },
   {
    "duration": 99,
    "start_time": "2023-01-04T07:37:05.399Z"
   },
   {
    "duration": 3,
    "start_time": "2023-01-04T07:37:24.926Z"
   },
   {
    "duration": 34,
    "start_time": "2023-01-04T07:37:25.705Z"
   },
   {
    "duration": 11,
    "start_time": "2023-01-04T08:21:12.193Z"
   },
   {
    "duration": 20,
    "start_time": "2023-01-04T08:21:32.962Z"
   },
   {
    "duration": 1297,
    "start_time": "2023-01-04T08:24:01.760Z"
   },
   {
    "duration": 1107,
    "start_time": "2023-01-04T08:24:14.758Z"
   },
   {
    "duration": 5,
    "start_time": "2023-01-04T08:24:28.987Z"
   },
   {
    "duration": 1081,
    "start_time": "2023-01-04T08:24:40.315Z"
   },
   {
    "duration": 611,
    "start_time": "2023-01-04T08:25:05.599Z"
   },
   {
    "duration": 5,
    "start_time": "2023-01-04T08:25:32.462Z"
   },
   {
    "duration": 1030,
    "start_time": "2023-01-04T08:25:41.769Z"
   },
   {
    "duration": 41,
    "start_time": "2023-01-04T08:25:42.801Z"
   },
   {
    "duration": 12,
    "start_time": "2023-01-04T08:25:42.844Z"
   },
   {
    "duration": 42,
    "start_time": "2023-01-04T08:25:42.858Z"
   },
   {
    "duration": 36,
    "start_time": "2023-01-04T08:25:42.902Z"
   },
   {
    "duration": 30,
    "start_time": "2023-01-04T08:25:42.940Z"
   },
   {
    "duration": 7,
    "start_time": "2023-01-04T08:25:57.250Z"
   },
   {
    "duration": 6,
    "start_time": "2023-01-04T08:25:58.003Z"
   },
   {
    "duration": 11,
    "start_time": "2023-01-04T08:26:24.892Z"
   },
   {
    "duration": 4,
    "start_time": "2023-01-04T08:26:49.296Z"
   },
   {
    "duration": 4,
    "start_time": "2023-01-04T08:26:49.912Z"
   },
   {
    "duration": 11,
    "start_time": "2023-01-04T08:26:50.646Z"
   },
   {
    "duration": 1107,
    "start_time": "2023-01-04T08:27:01.704Z"
   },
   {
    "duration": 44,
    "start_time": "2023-01-04T08:27:02.814Z"
   },
   {
    "duration": 13,
    "start_time": "2023-01-04T08:27:02.859Z"
   },
   {
    "duration": 24,
    "start_time": "2023-01-04T08:27:02.874Z"
   },
   {
    "duration": 5,
    "start_time": "2023-01-04T08:27:02.900Z"
   },
   {
    "duration": 24,
    "start_time": "2023-01-04T08:27:02.907Z"
   },
   {
    "duration": 8,
    "start_time": "2023-01-04T08:27:32.926Z"
   },
   {
    "duration": 1005,
    "start_time": "2023-01-04T08:27:44.780Z"
   },
   {
    "duration": 38,
    "start_time": "2023-01-04T08:27:45.787Z"
   },
   {
    "duration": 49,
    "start_time": "2023-01-04T08:27:45.826Z"
   },
   {
    "duration": 5,
    "start_time": "2023-01-04T08:27:45.878Z"
   },
   {
    "duration": 45,
    "start_time": "2023-01-04T08:27:45.886Z"
   },
   {
    "duration": 3,
    "start_time": "2023-01-04T08:28:02.253Z"
   },
   {
    "duration": 35,
    "start_time": "2023-01-04T08:28:03.509Z"
   },
   {
    "duration": 23,
    "start_time": "2023-01-04T08:28:04.562Z"
   },
   {
    "duration": 5,
    "start_time": "2023-01-04T08:28:06.584Z"
   },
   {
    "duration": 7,
    "start_time": "2023-01-04T08:28:07.414Z"
   },
   {
    "duration": 828,
    "start_time": "2023-01-04T08:28:18.018Z"
   },
   {
    "duration": 525,
    "start_time": "2023-01-04T08:28:24.737Z"
   },
   {
    "duration": 1083,
    "start_time": "2023-01-04T08:29:34.004Z"
   },
   {
    "duration": 31,
    "start_time": "2023-01-04T08:29:35.089Z"
   },
   {
    "duration": 16,
    "start_time": "2023-01-04T08:29:35.121Z"
   },
   {
    "duration": 11,
    "start_time": "2023-01-04T08:29:35.138Z"
   },
   {
    "duration": 26,
    "start_time": "2023-01-04T08:29:35.151Z"
   },
   {
    "duration": 685,
    "start_time": "2023-01-04T08:29:35.179Z"
   },
   {
    "duration": 6,
    "start_time": "2023-01-04T08:29:35.866Z"
   },
   {
    "duration": 18,
    "start_time": "2023-01-04T08:29:35.874Z"
   },
   {
    "duration": 127,
    "start_time": "2023-01-04T08:33:34.039Z"
   },
   {
    "duration": 10,
    "start_time": "2023-01-04T08:33:38.427Z"
   },
   {
    "duration": 10,
    "start_time": "2023-01-04T08:33:45.147Z"
   },
   {
    "duration": 9,
    "start_time": "2023-01-04T08:33:52.845Z"
   },
   {
    "duration": 6,
    "start_time": "2023-01-04T08:34:09.595Z"
   },
   {
    "duration": 12,
    "start_time": "2023-01-04T08:34:34.252Z"
   },
   {
    "duration": 9,
    "start_time": "2023-01-04T08:34:39.843Z"
   },
   {
    "duration": 120,
    "start_time": "2023-01-04T08:35:10.564Z"
   },
   {
    "duration": 1128,
    "start_time": "2023-01-04T08:35:30.769Z"
   },
   {
    "duration": 29,
    "start_time": "2023-01-04T08:35:31.899Z"
   },
   {
    "duration": 14,
    "start_time": "2023-01-04T08:35:31.930Z"
   },
   {
    "duration": 12,
    "start_time": "2023-01-04T08:35:31.946Z"
   },
   {
    "duration": 25,
    "start_time": "2023-01-04T08:35:31.961Z"
   },
   {
    "duration": 658,
    "start_time": "2023-01-04T08:35:31.988Z"
   },
   {
    "duration": 5,
    "start_time": "2023-01-04T08:35:32.648Z"
   },
   {
    "duration": 138,
    "start_time": "2023-01-04T08:35:32.655Z"
   },
   {
    "duration": 11,
    "start_time": "2023-01-04T08:35:32.795Z"
   },
   {
    "duration": 87,
    "start_time": "2023-01-04T08:55:37.504Z"
   },
   {
    "duration": 508,
    "start_time": "2023-01-04T08:55:41.735Z"
   },
   {
    "duration": 520,
    "start_time": "2023-01-04T08:55:58.239Z"
   },
   {
    "duration": 69,
    "start_time": "2023-01-04T08:56:07.772Z"
   },
   {
    "duration": 423,
    "start_time": "2023-01-04T08:56:15.184Z"
   },
   {
    "duration": 451,
    "start_time": "2023-01-04T08:56:35.276Z"
   },
   {
    "duration": 561,
    "start_time": "2023-01-04T08:57:36.890Z"
   },
   {
    "duration": 1413,
    "start_time": "2023-01-04T08:58:15.410Z"
   },
   {
    "duration": 29,
    "start_time": "2023-01-04T08:58:16.825Z"
   },
   {
    "duration": 448,
    "start_time": "2023-01-04T08:58:16.855Z"
   },
   {
    "duration": 20,
    "start_time": "2023-01-04T08:58:17.304Z"
   },
   {
    "duration": 12,
    "start_time": "2023-01-04T08:58:17.327Z"
   },
   {
    "duration": 21,
    "start_time": "2023-01-04T08:58:17.341Z"
   },
   {
    "duration": 417,
    "start_time": "2023-01-04T08:58:17.363Z"
   },
   {
    "duration": 5,
    "start_time": "2023-01-04T08:58:17.782Z"
   },
   {
    "duration": 218,
    "start_time": "2023-01-04T08:58:17.788Z"
   },
   {
    "duration": 20,
    "start_time": "2023-01-04T08:58:18.007Z"
   },
   {
    "duration": 3,
    "start_time": "2023-01-04T08:58:39.936Z"
   },
   {
    "duration": 527,
    "start_time": "2023-01-04T08:58:43.843Z"
   },
   {
    "duration": 463,
    "start_time": "2023-01-04T08:58:55.778Z"
   },
   {
    "duration": 127,
    "start_time": "2023-01-04T08:59:10.961Z"
   },
   {
    "duration": 1065,
    "start_time": "2023-01-04T08:59:14.932Z"
   },
   {
    "duration": 31,
    "start_time": "2023-01-04T08:59:16.000Z"
   },
   {
    "duration": 716,
    "start_time": "2023-01-04T08:59:16.033Z"
   },
   {
    "duration": 5,
    "start_time": "2023-01-04T08:59:16.750Z"
   },
   {
    "duration": 131,
    "start_time": "2023-01-04T08:59:16.757Z"
   },
   {
    "duration": 11,
    "start_time": "2023-01-04T08:59:16.889Z"
   },
   {
    "duration": 6,
    "start_time": "2023-01-04T12:24:41.375Z"
   },
   {
    "duration": 1108,
    "start_time": "2023-01-04T12:25:44.810Z"
   },
   {
    "duration": 29,
    "start_time": "2023-01-04T12:25:45.921Z"
   },
   {
    "duration": 725,
    "start_time": "2023-01-04T12:25:45.951Z"
   },
   {
    "duration": 4,
    "start_time": "2023-01-04T12:25:46.678Z"
   },
   {
    "duration": 126,
    "start_time": "2023-01-04T12:25:46.685Z"
   },
   {
    "duration": 19,
    "start_time": "2023-01-04T12:25:46.813Z"
   },
   {
    "duration": 6,
    "start_time": "2023-01-04T12:25:46.834Z"
   },
   {
    "duration": 3,
    "start_time": "2023-01-04T12:27:05.720Z"
   },
   {
    "duration": 6,
    "start_time": "2023-01-04T12:28:17.182Z"
   },
   {
    "duration": 8,
    "start_time": "2023-01-04T12:28:24.256Z"
   },
   {
    "duration": 4,
    "start_time": "2023-01-04T12:28:26.645Z"
   },
   {
    "duration": 4,
    "start_time": "2023-01-04T12:34:48.999Z"
   },
   {
    "duration": 48,
    "start_time": "2023-01-04T12:35:02.075Z"
   },
   {
    "duration": 13,
    "start_time": "2023-01-04T12:38:56.398Z"
   },
   {
    "duration": 1018,
    "start_time": "2023-01-04T12:39:25.464Z"
   },
   {
    "duration": 3,
    "start_time": "2023-01-04T12:39:26.484Z"
   },
   {
    "duration": 32,
    "start_time": "2023-01-04T12:39:26.491Z"
   },
   {
    "duration": 707,
    "start_time": "2023-01-04T12:39:26.524Z"
   },
   {
    "duration": 5,
    "start_time": "2023-01-04T12:39:27.233Z"
   },
   {
    "duration": 131,
    "start_time": "2023-01-04T12:39:27.239Z"
   },
   {
    "duration": 11,
    "start_time": "2023-01-04T12:39:27.372Z"
   },
   {
    "duration": 9,
    "start_time": "2023-01-04T12:39:27.384Z"
   },
   {
    "duration": 29,
    "start_time": "2023-01-04T12:39:27.395Z"
   },
   {
    "duration": 17,
    "start_time": "2023-01-04T12:39:27.426Z"
   },
   {
    "duration": 88,
    "start_time": "2023-01-04T12:39:27.445Z"
   },
   {
    "duration": 192,
    "start_time": "2023-01-04T12:39:27.535Z"
   },
   {
    "duration": 72,
    "start_time": "2023-01-04T12:41:53.615Z"
   },
   {
    "duration": 91,
    "start_time": "2023-01-04T12:52:41.494Z"
   },
   {
    "duration": 229,
    "start_time": "2023-01-04T13:17:50.197Z"
   },
   {
    "duration": 11,
    "start_time": "2023-01-04T13:20:37.685Z"
   },
   {
    "duration": 11,
    "start_time": "2023-01-04T13:20:43.474Z"
   },
   {
    "duration": 14,
    "start_time": "2023-01-04T13:20:45.848Z"
   },
   {
    "duration": 13,
    "start_time": "2023-01-04T13:20:47.560Z"
   },
   {
    "duration": 8,
    "start_time": "2023-01-04T13:20:59.563Z"
   },
   {
    "duration": 5,
    "start_time": "2023-01-04T13:21:01.450Z"
   },
   {
    "duration": 1071,
    "start_time": "2023-01-04T13:21:39.632Z"
   },
   {
    "duration": 29,
    "start_time": "2023-01-04T13:21:40.705Z"
   },
   {
    "duration": 767,
    "start_time": "2023-01-04T13:21:40.736Z"
   },
   {
    "duration": 4,
    "start_time": "2023-01-04T13:21:41.505Z"
   },
   {
    "duration": 157,
    "start_time": "2023-01-04T13:21:41.511Z"
   },
   {
    "duration": 11,
    "start_time": "2023-01-04T13:21:41.670Z"
   },
   {
    "duration": 10,
    "start_time": "2023-01-04T13:21:41.683Z"
   },
   {
    "duration": 44,
    "start_time": "2023-01-04T13:21:41.694Z"
   },
   {
    "duration": 6,
    "start_time": "2023-01-04T13:21:41.740Z"
   },
   {
    "duration": 185,
    "start_time": "2023-01-04T13:21:41.749Z"
   },
   {
    "duration": 110,
    "start_time": "2023-01-04T13:21:41.936Z"
   },
   {
    "duration": 379,
    "start_time": "2023-01-04T13:21:42.047Z"
   },
   {
    "duration": 12,
    "start_time": "2023-01-04T13:21:42.440Z"
   },
   {
    "duration": 20,
    "start_time": "2023-01-04T13:22:11.511Z"
   },
   {
    "duration": 104,
    "start_time": "2023-01-04T13:23:06.486Z"
   },
   {
    "duration": 177,
    "start_time": "2023-01-04T13:33:38.146Z"
   },
   {
    "duration": 149,
    "start_time": "2023-01-04T13:33:51.673Z"
   },
   {
    "duration": 16,
    "start_time": "2023-01-04T13:34:07.993Z"
   },
   {
    "duration": 15,
    "start_time": "2023-01-04T13:34:11.389Z"
   },
   {
    "duration": 13,
    "start_time": "2023-01-04T14:01:27.041Z"
   },
   {
    "duration": 15,
    "start_time": "2023-01-04T14:01:34.804Z"
   },
   {
    "duration": 14,
    "start_time": "2023-01-04T14:02:02.959Z"
   },
   {
    "duration": 76,
    "start_time": "2023-01-04T14:04:04.939Z"
   },
   {
    "duration": 75,
    "start_time": "2023-01-04T14:04:49.335Z"
   },
   {
    "duration": 1869,
    "start_time": "2023-01-04T14:35:14.485Z"
   },
   {
    "duration": 36,
    "start_time": "2023-01-04T14:35:16.356Z"
   },
   {
    "duration": 702,
    "start_time": "2023-01-04T14:35:16.394Z"
   },
   {
    "duration": 5,
    "start_time": "2023-01-04T14:35:17.099Z"
   },
   {
    "duration": 122,
    "start_time": "2023-01-04T14:35:17.116Z"
   },
   {
    "duration": 10,
    "start_time": "2023-01-04T14:35:17.240Z"
   },
   {
    "duration": 18,
    "start_time": "2023-01-04T14:35:17.251Z"
   },
   {
    "duration": 10,
    "start_time": "2023-01-04T14:35:17.271Z"
   },
   {
    "duration": 47,
    "start_time": "2023-01-04T14:35:17.283Z"
   },
   {
    "duration": 90,
    "start_time": "2023-01-04T14:35:17.334Z"
   },
   {
    "duration": 198,
    "start_time": "2023-01-04T14:35:17.426Z"
   },
   {
    "duration": 105,
    "start_time": "2023-01-04T14:35:17.626Z"
   },
   {
    "duration": 188,
    "start_time": "2023-01-04T14:35:17.817Z"
   },
   {
    "duration": 0,
    "start_time": "2023-01-04T14:35:18.006Z"
   },
   {
    "duration": 12,
    "start_time": "2023-01-04T14:52:41.822Z"
   },
   {
    "duration": 1095,
    "start_time": "2023-01-04T14:53:33.644Z"
   },
   {
    "duration": 29,
    "start_time": "2023-01-04T14:53:34.741Z"
   },
   {
    "duration": 779,
    "start_time": "2023-01-04T14:53:34.772Z"
   },
   {
    "duration": 6,
    "start_time": "2023-01-04T14:53:35.553Z"
   },
   {
    "duration": 170,
    "start_time": "2023-01-04T14:53:35.561Z"
   },
   {
    "duration": 16,
    "start_time": "2023-01-04T14:53:35.733Z"
   },
   {
    "duration": 20,
    "start_time": "2023-01-04T14:53:35.751Z"
   },
   {
    "duration": 13,
    "start_time": "2023-01-04T14:53:35.773Z"
   },
   {
    "duration": 145,
    "start_time": "2023-01-04T14:53:35.788Z"
   },
   {
    "duration": 29,
    "start_time": "2023-01-04T14:53:35.936Z"
   },
   {
    "duration": 178,
    "start_time": "2023-01-04T14:53:35.967Z"
   },
   {
    "duration": 192,
    "start_time": "2023-01-04T14:53:36.147Z"
   },
   {
    "duration": 100,
    "start_time": "2023-01-04T14:53:36.341Z"
   },
   {
    "duration": 181,
    "start_time": "2023-01-04T14:53:36.443Z"
   },
   {
    "duration": 12,
    "start_time": "2023-01-04T15:04:11.676Z"
   },
   {
    "duration": 77,
    "start_time": "2023-01-04T15:12:20.635Z"
   },
   {
    "duration": 15,
    "start_time": "2023-01-04T15:12:44.168Z"
   },
   {
    "duration": 102,
    "start_time": "2023-01-04T15:34:55.403Z"
   },
   {
    "duration": 28,
    "start_time": "2023-01-04T15:34:59.357Z"
   },
   {
    "duration": 194,
    "start_time": "2023-01-04T15:34:59.735Z"
   },
   {
    "duration": 55,
    "start_time": "2023-01-04T15:35:10.570Z"
   },
   {
    "duration": 15,
    "start_time": "2023-01-04T15:39:44.497Z"
   },
   {
    "duration": 173,
    "start_time": "2023-01-04T15:39:48.650Z"
   },
   {
    "duration": 32,
    "start_time": "2023-01-04T15:39:53.691Z"
   },
   {
    "duration": 10,
    "start_time": "2023-01-04T15:39:57.084Z"
   },
   {
    "duration": 25,
    "start_time": "2023-01-04T15:40:00.801Z"
   },
   {
    "duration": 21,
    "start_time": "2023-01-04T15:45:53.502Z"
   },
   {
    "duration": 84,
    "start_time": "2023-01-04T15:54:16.639Z"
   },
   {
    "duration": 77,
    "start_time": "2023-01-04T16:07:38.226Z"
   },
   {
    "duration": 46,
    "start_time": "2023-01-04T16:13:11.885Z"
   },
   {
    "duration": 82,
    "start_time": "2023-01-04T16:37:44.158Z"
   },
   {
    "duration": 1846,
    "start_time": "2023-01-05T07:18:11.754Z"
   },
   {
    "duration": 88,
    "start_time": "2023-01-05T07:18:13.601Z"
   },
   {
    "duration": 1019,
    "start_time": "2023-01-05T07:18:13.691Z"
   },
   {
    "duration": 11,
    "start_time": "2023-01-05T07:18:14.712Z"
   },
   {
    "duration": 185,
    "start_time": "2023-01-05T07:18:14.724Z"
   },
   {
    "duration": 15,
    "start_time": "2023-01-05T07:18:14.911Z"
   },
   {
    "duration": 45,
    "start_time": "2023-01-05T07:18:14.931Z"
   },
   {
    "duration": 158,
    "start_time": "2023-01-05T07:18:14.977Z"
   },
   {
    "duration": 89,
    "start_time": "2023-01-05T07:18:15.139Z"
   },
   {
    "duration": 21,
    "start_time": "2023-01-05T07:18:15.231Z"
   },
   {
    "duration": 8,
    "start_time": "2023-01-05T07:18:15.253Z"
   },
   {
    "duration": 208,
    "start_time": "2023-01-05T07:18:15.323Z"
   },
   {
    "duration": 99,
    "start_time": "2023-01-05T07:18:15.534Z"
   },
   {
    "duration": 107,
    "start_time": "2023-01-05T07:18:15.635Z"
   },
   {
    "duration": 10,
    "start_time": "2023-01-05T07:18:15.743Z"
   },
   {
    "duration": 31,
    "start_time": "2023-01-05T07:18:15.823Z"
   },
   {
    "duration": 6,
    "start_time": "2023-01-05T07:18:54.738Z"
   },
   {
    "duration": 4,
    "start_time": "2023-01-05T07:19:37.742Z"
   }
  ],
  "kernelspec": {
   "display_name": "Python 3 (ipykernel)",
   "language": "python",
   "name": "python3"
  },
  "language_info": {
   "codemirror_mode": {
    "name": "ipython",
    "version": 3
   },
   "file_extension": ".py",
   "mimetype": "text/x-python",
   "name": "python",
   "nbconvert_exporter": "python",
   "pygments_lexer": "ipython3",
   "version": "3.11.4"
  },
  "toc": {
   "base_numbering": 1,
   "nav_menu": {},
   "number_sections": true,
   "sideBar": true,
   "skip_h1_title": true,
   "title_cell": "Содержание",
   "title_sidebar": "Contents",
   "toc_cell": true,
   "toc_position": {},
   "toc_section_display": true,
   "toc_window_display": false
  }
 },
 "nbformat": 4,
 "nbformat_minor": 2
}
