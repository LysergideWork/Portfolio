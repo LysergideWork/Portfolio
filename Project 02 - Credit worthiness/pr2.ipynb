{
 "cells": [
  {
   "cell_type": "markdown",
   "id": "9b4a51f6",
   "metadata": {
    "deletable": false,
    "editable": false,
    "id": "c81daeeb"
   },
   "source": [
    "# Исследование надежности заемщиков\n"
   ]
  },
  {
   "cell_type": "markdown",
   "id": "ca1454b2",
   "metadata": {
    "deletable": false,
    "editable": false,
    "id": "827c20bf"
   },
   "source": [
    "Во второй части проекта вы выполните шаги 3 и 4. Их вручную проверит ревьюер.\n",
    "Чтобы вам не пришлось писать код заново для шагов 1 и 2, мы добавили авторские решения в ячейки с кодом. \n",
    "\n"
   ]
  },
  {
   "cell_type": "markdown",
   "id": "0b93b97c",
   "metadata": {
    "deletable": false,
    "editable": false,
    "id": "744d7639"
   },
   "source": [
    "## Откройте таблицу и изучите общую информацию о данных"
   ]
  },
  {
   "cell_type": "markdown",
   "id": "53066cc4",
   "metadata": {
    "deletable": false,
    "editable": false,
    "id": "e7a14c31"
   },
   "source": [
    "**Задание 1. Импортируйте библиотеку pandas. Считайте данные из csv-файла в датафрейм и сохраните в переменную `data`. Путь к файлу:**\n",
    "\n",
    "`/datasets/data.csv`"
   ]
  },
  {
   "cell_type": "code",
   "execution_count": 1,
   "id": "1e691a4d",
   "metadata": {
    "deletable": false,
    "id": "7bcf75c9"
   },
   "outputs": [],
   "source": [
    "import pandas as pd\n",
    "\n",
    "try:\n",
    "    data = pd.read_csv('/datasets/data.csv')\n",
    "except:\n",
    "    data = pd.read_csv('https://code.s3.yandex.net/datasets/data.csv')"
   ]
  },
  {
   "cell_type": "markdown",
   "id": "672e37ea",
   "metadata": {
    "deletable": false,
    "editable": false,
    "id": "b8038fe3"
   },
   "source": [
    "**Задание 2. Выведите первые 20 строчек датафрейма `data` на экран.**"
   ]
  },
  {
   "cell_type": "code",
   "execution_count": 2,
   "id": "a1cb9ee7",
   "metadata": {
    "deletable": false,
    "id": "2a7cab99",
    "outputId": "1a8f3ef2-d323-4ec2-ddf7-89670b5944c4"
   },
   "outputs": [
    {
     "data": {
      "text/html": [
       "<div>\n",
       "<style scoped>\n",
       "    .dataframe tbody tr th:only-of-type {\n",
       "        vertical-align: middle;\n",
       "    }\n",
       "\n",
       "    .dataframe tbody tr th {\n",
       "        vertical-align: top;\n",
       "    }\n",
       "\n",
       "    .dataframe thead th {\n",
       "        text-align: right;\n",
       "    }\n",
       "</style>\n",
       "<table border=\"1\" class=\"dataframe\">\n",
       "  <thead>\n",
       "    <tr style=\"text-align: right;\">\n",
       "      <th></th>\n",
       "      <th>children</th>\n",
       "      <th>days_employed</th>\n",
       "      <th>dob_years</th>\n",
       "      <th>education</th>\n",
       "      <th>education_id</th>\n",
       "      <th>family_status</th>\n",
       "      <th>family_status_id</th>\n",
       "      <th>gender</th>\n",
       "      <th>income_type</th>\n",
       "      <th>debt</th>\n",
       "      <th>total_income</th>\n",
       "      <th>purpose</th>\n",
       "    </tr>\n",
       "  </thead>\n",
       "  <tbody>\n",
       "    <tr>\n",
       "      <th>0</th>\n",
       "      <td>1</td>\n",
       "      <td>-8437.673028</td>\n",
       "      <td>42</td>\n",
       "      <td>высшее</td>\n",
       "      <td>0</td>\n",
       "      <td>женат / замужем</td>\n",
       "      <td>0</td>\n",
       "      <td>F</td>\n",
       "      <td>сотрудник</td>\n",
       "      <td>0</td>\n",
       "      <td>253875.639453</td>\n",
       "      <td>покупка жилья</td>\n",
       "    </tr>\n",
       "    <tr>\n",
       "      <th>1</th>\n",
       "      <td>1</td>\n",
       "      <td>-4024.803754</td>\n",
       "      <td>36</td>\n",
       "      <td>среднее</td>\n",
       "      <td>1</td>\n",
       "      <td>женат / замужем</td>\n",
       "      <td>0</td>\n",
       "      <td>F</td>\n",
       "      <td>сотрудник</td>\n",
       "      <td>0</td>\n",
       "      <td>112080.014102</td>\n",
       "      <td>приобретение автомобиля</td>\n",
       "    </tr>\n",
       "    <tr>\n",
       "      <th>2</th>\n",
       "      <td>0</td>\n",
       "      <td>-5623.422610</td>\n",
       "      <td>33</td>\n",
       "      <td>Среднее</td>\n",
       "      <td>1</td>\n",
       "      <td>женат / замужем</td>\n",
       "      <td>0</td>\n",
       "      <td>M</td>\n",
       "      <td>сотрудник</td>\n",
       "      <td>0</td>\n",
       "      <td>145885.952297</td>\n",
       "      <td>покупка жилья</td>\n",
       "    </tr>\n",
       "    <tr>\n",
       "      <th>3</th>\n",
       "      <td>3</td>\n",
       "      <td>-4124.747207</td>\n",
       "      <td>32</td>\n",
       "      <td>среднее</td>\n",
       "      <td>1</td>\n",
       "      <td>женат / замужем</td>\n",
       "      <td>0</td>\n",
       "      <td>M</td>\n",
       "      <td>сотрудник</td>\n",
       "      <td>0</td>\n",
       "      <td>267628.550329</td>\n",
       "      <td>дополнительное образование</td>\n",
       "    </tr>\n",
       "    <tr>\n",
       "      <th>4</th>\n",
       "      <td>0</td>\n",
       "      <td>340266.072047</td>\n",
       "      <td>53</td>\n",
       "      <td>среднее</td>\n",
       "      <td>1</td>\n",
       "      <td>гражданский брак</td>\n",
       "      <td>1</td>\n",
       "      <td>F</td>\n",
       "      <td>пенсионер</td>\n",
       "      <td>0</td>\n",
       "      <td>158616.077870</td>\n",
       "      <td>сыграть свадьбу</td>\n",
       "    </tr>\n",
       "    <tr>\n",
       "      <th>5</th>\n",
       "      <td>0</td>\n",
       "      <td>-926.185831</td>\n",
       "      <td>27</td>\n",
       "      <td>высшее</td>\n",
       "      <td>0</td>\n",
       "      <td>гражданский брак</td>\n",
       "      <td>1</td>\n",
       "      <td>M</td>\n",
       "      <td>компаньон</td>\n",
       "      <td>0</td>\n",
       "      <td>255763.565419</td>\n",
       "      <td>покупка жилья</td>\n",
       "    </tr>\n",
       "    <tr>\n",
       "      <th>6</th>\n",
       "      <td>0</td>\n",
       "      <td>-2879.202052</td>\n",
       "      <td>43</td>\n",
       "      <td>высшее</td>\n",
       "      <td>0</td>\n",
       "      <td>женат / замужем</td>\n",
       "      <td>0</td>\n",
       "      <td>F</td>\n",
       "      <td>компаньон</td>\n",
       "      <td>0</td>\n",
       "      <td>240525.971920</td>\n",
       "      <td>операции с жильем</td>\n",
       "    </tr>\n",
       "    <tr>\n",
       "      <th>7</th>\n",
       "      <td>0</td>\n",
       "      <td>-152.779569</td>\n",
       "      <td>50</td>\n",
       "      <td>СРЕДНЕЕ</td>\n",
       "      <td>1</td>\n",
       "      <td>женат / замужем</td>\n",
       "      <td>0</td>\n",
       "      <td>M</td>\n",
       "      <td>сотрудник</td>\n",
       "      <td>0</td>\n",
       "      <td>135823.934197</td>\n",
       "      <td>образование</td>\n",
       "    </tr>\n",
       "    <tr>\n",
       "      <th>8</th>\n",
       "      <td>2</td>\n",
       "      <td>-6929.865299</td>\n",
       "      <td>35</td>\n",
       "      <td>ВЫСШЕЕ</td>\n",
       "      <td>0</td>\n",
       "      <td>гражданский брак</td>\n",
       "      <td>1</td>\n",
       "      <td>F</td>\n",
       "      <td>сотрудник</td>\n",
       "      <td>0</td>\n",
       "      <td>95856.832424</td>\n",
       "      <td>на проведение свадьбы</td>\n",
       "    </tr>\n",
       "    <tr>\n",
       "      <th>9</th>\n",
       "      <td>0</td>\n",
       "      <td>-2188.756445</td>\n",
       "      <td>41</td>\n",
       "      <td>среднее</td>\n",
       "      <td>1</td>\n",
       "      <td>женат / замужем</td>\n",
       "      <td>0</td>\n",
       "      <td>M</td>\n",
       "      <td>сотрудник</td>\n",
       "      <td>0</td>\n",
       "      <td>144425.938277</td>\n",
       "      <td>покупка жилья для семьи</td>\n",
       "    </tr>\n",
       "    <tr>\n",
       "      <th>10</th>\n",
       "      <td>2</td>\n",
       "      <td>-4171.483647</td>\n",
       "      <td>36</td>\n",
       "      <td>высшее</td>\n",
       "      <td>0</td>\n",
       "      <td>женат / замужем</td>\n",
       "      <td>0</td>\n",
       "      <td>M</td>\n",
       "      <td>компаньон</td>\n",
       "      <td>0</td>\n",
       "      <td>113943.491460</td>\n",
       "      <td>покупка недвижимости</td>\n",
       "    </tr>\n",
       "    <tr>\n",
       "      <th>11</th>\n",
       "      <td>0</td>\n",
       "      <td>-792.701887</td>\n",
       "      <td>40</td>\n",
       "      <td>среднее</td>\n",
       "      <td>1</td>\n",
       "      <td>женат / замужем</td>\n",
       "      <td>0</td>\n",
       "      <td>F</td>\n",
       "      <td>сотрудник</td>\n",
       "      <td>0</td>\n",
       "      <td>77069.234271</td>\n",
       "      <td>покупка коммерческой недвижимости</td>\n",
       "    </tr>\n",
       "    <tr>\n",
       "      <th>12</th>\n",
       "      <td>0</td>\n",
       "      <td>NaN</td>\n",
       "      <td>65</td>\n",
       "      <td>среднее</td>\n",
       "      <td>1</td>\n",
       "      <td>гражданский брак</td>\n",
       "      <td>1</td>\n",
       "      <td>M</td>\n",
       "      <td>пенсионер</td>\n",
       "      <td>0</td>\n",
       "      <td>NaN</td>\n",
       "      <td>сыграть свадьбу</td>\n",
       "    </tr>\n",
       "    <tr>\n",
       "      <th>13</th>\n",
       "      <td>0</td>\n",
       "      <td>-1846.641941</td>\n",
       "      <td>54</td>\n",
       "      <td>неоконченное высшее</td>\n",
       "      <td>2</td>\n",
       "      <td>женат / замужем</td>\n",
       "      <td>0</td>\n",
       "      <td>F</td>\n",
       "      <td>сотрудник</td>\n",
       "      <td>0</td>\n",
       "      <td>130458.228857</td>\n",
       "      <td>приобретение автомобиля</td>\n",
       "    </tr>\n",
       "    <tr>\n",
       "      <th>14</th>\n",
       "      <td>0</td>\n",
       "      <td>-1844.956182</td>\n",
       "      <td>56</td>\n",
       "      <td>высшее</td>\n",
       "      <td>0</td>\n",
       "      <td>гражданский брак</td>\n",
       "      <td>1</td>\n",
       "      <td>F</td>\n",
       "      <td>компаньон</td>\n",
       "      <td>1</td>\n",
       "      <td>165127.911772</td>\n",
       "      <td>покупка жилой недвижимости</td>\n",
       "    </tr>\n",
       "    <tr>\n",
       "      <th>15</th>\n",
       "      <td>1</td>\n",
       "      <td>-972.364419</td>\n",
       "      <td>26</td>\n",
       "      <td>среднее</td>\n",
       "      <td>1</td>\n",
       "      <td>женат / замужем</td>\n",
       "      <td>0</td>\n",
       "      <td>F</td>\n",
       "      <td>сотрудник</td>\n",
       "      <td>0</td>\n",
       "      <td>116820.904450</td>\n",
       "      <td>строительство собственной недвижимости</td>\n",
       "    </tr>\n",
       "    <tr>\n",
       "      <th>16</th>\n",
       "      <td>0</td>\n",
       "      <td>-1719.934226</td>\n",
       "      <td>35</td>\n",
       "      <td>среднее</td>\n",
       "      <td>1</td>\n",
       "      <td>женат / замужем</td>\n",
       "      <td>0</td>\n",
       "      <td>F</td>\n",
       "      <td>сотрудник</td>\n",
       "      <td>0</td>\n",
       "      <td>289202.704229</td>\n",
       "      <td>недвижимость</td>\n",
       "    </tr>\n",
       "    <tr>\n",
       "      <th>17</th>\n",
       "      <td>0</td>\n",
       "      <td>-2369.999720</td>\n",
       "      <td>33</td>\n",
       "      <td>высшее</td>\n",
       "      <td>0</td>\n",
       "      <td>гражданский брак</td>\n",
       "      <td>1</td>\n",
       "      <td>M</td>\n",
       "      <td>сотрудник</td>\n",
       "      <td>0</td>\n",
       "      <td>90410.586745</td>\n",
       "      <td>строительство недвижимости</td>\n",
       "    </tr>\n",
       "    <tr>\n",
       "      <th>18</th>\n",
       "      <td>0</td>\n",
       "      <td>400281.136913</td>\n",
       "      <td>53</td>\n",
       "      <td>среднее</td>\n",
       "      <td>1</td>\n",
       "      <td>вдовец / вдова</td>\n",
       "      <td>2</td>\n",
       "      <td>F</td>\n",
       "      <td>пенсионер</td>\n",
       "      <td>0</td>\n",
       "      <td>56823.777243</td>\n",
       "      <td>на покупку подержанного автомобиля</td>\n",
       "    </tr>\n",
       "    <tr>\n",
       "      <th>19</th>\n",
       "      <td>0</td>\n",
       "      <td>-10038.818549</td>\n",
       "      <td>48</td>\n",
       "      <td>СРЕДНЕЕ</td>\n",
       "      <td>1</td>\n",
       "      <td>в разводе</td>\n",
       "      <td>3</td>\n",
       "      <td>F</td>\n",
       "      <td>сотрудник</td>\n",
       "      <td>0</td>\n",
       "      <td>242831.107982</td>\n",
       "      <td>на покупку своего автомобиля</td>\n",
       "    </tr>\n",
       "  </tbody>\n",
       "</table>\n",
       "</div>"
      ],
      "text/plain": [
       "    children  days_employed  dob_years            education  education_id  \\\n",
       "0          1   -8437.673028         42               высшее             0   \n",
       "1          1   -4024.803754         36              среднее             1   \n",
       "2          0   -5623.422610         33              Среднее             1   \n",
       "3          3   -4124.747207         32              среднее             1   \n",
       "4          0  340266.072047         53              среднее             1   \n",
       "5          0    -926.185831         27               высшее             0   \n",
       "6          0   -2879.202052         43               высшее             0   \n",
       "7          0    -152.779569         50              СРЕДНЕЕ             1   \n",
       "8          2   -6929.865299         35               ВЫСШЕЕ             0   \n",
       "9          0   -2188.756445         41              среднее             1   \n",
       "10         2   -4171.483647         36               высшее             0   \n",
       "11         0    -792.701887         40              среднее             1   \n",
       "12         0            NaN         65              среднее             1   \n",
       "13         0   -1846.641941         54  неоконченное высшее             2   \n",
       "14         0   -1844.956182         56               высшее             0   \n",
       "15         1    -972.364419         26              среднее             1   \n",
       "16         0   -1719.934226         35              среднее             1   \n",
       "17         0   -2369.999720         33               высшее             0   \n",
       "18         0  400281.136913         53              среднее             1   \n",
       "19         0  -10038.818549         48              СРЕДНЕЕ             1   \n",
       "\n",
       "       family_status  family_status_id gender income_type  debt  \\\n",
       "0    женат / замужем                 0      F   сотрудник     0   \n",
       "1    женат / замужем                 0      F   сотрудник     0   \n",
       "2    женат / замужем                 0      M   сотрудник     0   \n",
       "3    женат / замужем                 0      M   сотрудник     0   \n",
       "4   гражданский брак                 1      F   пенсионер     0   \n",
       "5   гражданский брак                 1      M   компаньон     0   \n",
       "6    женат / замужем                 0      F   компаньон     0   \n",
       "7    женат / замужем                 0      M   сотрудник     0   \n",
       "8   гражданский брак                 1      F   сотрудник     0   \n",
       "9    женат / замужем                 0      M   сотрудник     0   \n",
       "10   женат / замужем                 0      M   компаньон     0   \n",
       "11   женат / замужем                 0      F   сотрудник     0   \n",
       "12  гражданский брак                 1      M   пенсионер     0   \n",
       "13   женат / замужем                 0      F   сотрудник     0   \n",
       "14  гражданский брак                 1      F   компаньон     1   \n",
       "15   женат / замужем                 0      F   сотрудник     0   \n",
       "16   женат / замужем                 0      F   сотрудник     0   \n",
       "17  гражданский брак                 1      M   сотрудник     0   \n",
       "18    вдовец / вдова                 2      F   пенсионер     0   \n",
       "19         в разводе                 3      F   сотрудник     0   \n",
       "\n",
       "     total_income                                 purpose  \n",
       "0   253875.639453                           покупка жилья  \n",
       "1   112080.014102                 приобретение автомобиля  \n",
       "2   145885.952297                           покупка жилья  \n",
       "3   267628.550329              дополнительное образование  \n",
       "4   158616.077870                         сыграть свадьбу  \n",
       "5   255763.565419                           покупка жилья  \n",
       "6   240525.971920                       операции с жильем  \n",
       "7   135823.934197                             образование  \n",
       "8    95856.832424                   на проведение свадьбы  \n",
       "9   144425.938277                 покупка жилья для семьи  \n",
       "10  113943.491460                    покупка недвижимости  \n",
       "11   77069.234271       покупка коммерческой недвижимости  \n",
       "12            NaN                         сыграть свадьбу  \n",
       "13  130458.228857                 приобретение автомобиля  \n",
       "14  165127.911772              покупка жилой недвижимости  \n",
       "15  116820.904450  строительство собственной недвижимости  \n",
       "16  289202.704229                            недвижимость  \n",
       "17   90410.586745              строительство недвижимости  \n",
       "18   56823.777243      на покупку подержанного автомобиля  \n",
       "19  242831.107982            на покупку своего автомобиля  "
      ]
     },
     "execution_count": 2,
     "metadata": {},
     "output_type": "execute_result"
    }
   ],
   "source": [
    "data.head(20)"
   ]
  },
  {
   "cell_type": "markdown",
   "id": "4f69ecf2",
   "metadata": {
    "deletable": false,
    "editable": false,
    "id": "1c12e233"
   },
   "source": [
    "**Задание 3. Выведите основную информацию о датафрейме с помощью метода `info()`.**"
   ]
  },
  {
   "cell_type": "code",
   "execution_count": 3,
   "id": "490b35ae",
   "metadata": {
    "deletable": false,
    "id": "2b757bca",
    "outputId": "15376089-8dad-46c9-b520-c05248d43158"
   },
   "outputs": [
    {
     "name": "stdout",
     "output_type": "stream",
     "text": [
      "<class 'pandas.core.frame.DataFrame'>\n",
      "RangeIndex: 21525 entries, 0 to 21524\n",
      "Data columns (total 12 columns):\n",
      " #   Column            Non-Null Count  Dtype  \n",
      "---  ------            --------------  -----  \n",
      " 0   children          21525 non-null  int64  \n",
      " 1   days_employed     19351 non-null  float64\n",
      " 2   dob_years         21525 non-null  int64  \n",
      " 3   education         21525 non-null  object \n",
      " 4   education_id      21525 non-null  int64  \n",
      " 5   family_status     21525 non-null  object \n",
      " 6   family_status_id  21525 non-null  int64  \n",
      " 7   gender            21525 non-null  object \n",
      " 8   income_type       21525 non-null  object \n",
      " 9   debt              21525 non-null  int64  \n",
      " 10  total_income      19351 non-null  float64\n",
      " 11  purpose           21525 non-null  object \n",
      "dtypes: float64(2), int64(5), object(5)\n",
      "memory usage: 2.0+ MB\n"
     ]
    }
   ],
   "source": [
    "data.info()"
   ]
  },
  {
   "cell_type": "markdown",
   "id": "06e4e7ae",
   "metadata": {
    "deletable": false,
    "editable": false,
    "id": "333ec665"
   },
   "source": [
    "## Предобработка данных"
   ]
  },
  {
   "cell_type": "markdown",
   "id": "f6f8e252",
   "metadata": {
    "deletable": false,
    "editable": false,
    "id": "02d92d53"
   },
   "source": [
    "### Удаление пропусков"
   ]
  },
  {
   "cell_type": "markdown",
   "id": "93e7f646",
   "metadata": {
    "deletable": false,
    "editable": false,
    "id": "cd84967c"
   },
   "source": [
    "**Задание 4. Выведите количество пропущенных значений для каждого столбца. Используйте комбинацию двух методов.**"
   ]
  },
  {
   "cell_type": "code",
   "execution_count": 4,
   "id": "f387b2a9",
   "metadata": {
    "deletable": false,
    "id": "7f9b2309",
    "outputId": "81f4d817-781c-465c-ed15-91ce4446810d"
   },
   "outputs": [
    {
     "data": {
      "text/plain": [
       "children               0\n",
       "days_employed       2174\n",
       "dob_years              0\n",
       "education              0\n",
       "education_id           0\n",
       "family_status          0\n",
       "family_status_id       0\n",
       "gender                 0\n",
       "income_type            0\n",
       "debt                   0\n",
       "total_income        2174\n",
       "purpose                0\n",
       "dtype: int64"
      ]
     },
     "execution_count": 4,
     "metadata": {},
     "output_type": "execute_result"
    }
   ],
   "source": [
    "data.isna().sum()"
   ]
  },
  {
   "cell_type": "markdown",
   "id": "f31a4d14",
   "metadata": {
    "deletable": false,
    "editable": false,
    "id": "db86e27b"
   },
   "source": [
    "**Задание 5. В двух столбцах есть пропущенные значения. Один из них — `days_employed`. Пропуски в этом столбце вы обработаете на следующем этапе. Другой столбец с пропущенными значениями — `total_income` — хранит данные о доходах. На сумму дохода сильнее всего влияет тип занятости, поэтому заполнить пропуски в этом столбце нужно медианным значением по каждому типу из столбца `income_type`. Например, у человека с типом занятости `сотрудник` пропуск в столбце `total_income` должен быть заполнен медианным доходом среди всех записей с тем же типом.**"
   ]
  },
  {
   "cell_type": "code",
   "execution_count": 5,
   "id": "8f276b21",
   "metadata": {
    "deletable": false,
    "id": "42006a93"
   },
   "outputs": [],
   "source": [
    "for t in data['income_type'].unique():\n",
    "    data.loc[(data['income_type'] == t) & (data['total_income'].isna()), 'total_income'] = \\\n",
    "    data.loc[(data['income_type'] == t), 'total_income'].median()"
   ]
  },
  {
   "cell_type": "markdown",
   "id": "c19b9235",
   "metadata": {
    "deletable": false,
    "editable": false,
    "id": "89da5ece"
   },
   "source": [
    "### Обработка аномальных значений"
   ]
  },
  {
   "cell_type": "markdown",
   "id": "31535d01",
   "metadata": {
    "deletable": false,
    "editable": false,
    "id": "57964554"
   },
   "source": [
    "**Задание 6. В данных могут встречаться артефакты (аномалии) — значения, которые не отражают действительность и появились по какой-то ошибке. таким артефактом будет отрицательное количество дней трудового стажа в столбце `days_employed`. Для реальных данных это нормально. Обработайте значения в этом столбце: замените все отрицательные значения положительными с помощью метода `abs()`.**"
   ]
  },
  {
   "cell_type": "code",
   "execution_count": 6,
   "id": "c9f969c4",
   "metadata": {
    "deletable": false,
    "id": "f6f055bf"
   },
   "outputs": [],
   "source": [
    "data['days_employed'] = data['days_employed'].abs()"
   ]
  },
  {
   "cell_type": "markdown",
   "id": "ec19f254",
   "metadata": {
    "deletable": false,
    "editable": false,
    "id": "6107dd2f"
   },
   "source": [
    "**Задание 7. Для каждого типа занятости выведите медианное значение трудового стажа `days_employed` в днях.**"
   ]
  },
  {
   "cell_type": "code",
   "execution_count": 7,
   "id": "9951f707",
   "metadata": {
    "deletable": false,
    "id": "85a5faf6",
    "outputId": "801ef80e-522b-4668-f34e-565af7432bcf"
   },
   "outputs": [
    {
     "data": {
      "text/plain": [
       "income_type\n",
       "безработный        366413.652744\n",
       "в декрете            3296.759962\n",
       "госслужащий          2689.368353\n",
       "компаньон            1547.382223\n",
       "пенсионер          365213.306266\n",
       "предприниматель       520.848083\n",
       "сотрудник            1574.202821\n",
       "студент               578.751554\n",
       "Name: days_employed, dtype: float64"
      ]
     },
     "execution_count": 7,
     "metadata": {},
     "output_type": "execute_result"
    }
   ],
   "source": [
    "data.groupby('income_type')['days_employed'].agg('median')"
   ]
  },
  {
   "cell_type": "markdown",
   "id": "fb90ec53",
   "metadata": {
    "deletable": false,
    "editable": false,
    "id": "38d1a030"
   },
   "source": [
    "У двух типов (безработные и пенсионеры) получатся аномально большие значения. Исправить такие значения сложно, поэтому оставьте их как есть. Тем более этот столбец не понадобится вам для исследования."
   ]
  },
  {
   "cell_type": "markdown",
   "id": "25f447ac",
   "metadata": {
    "deletable": false,
    "editable": false,
    "id": "d8a9f147"
   },
   "source": [
    "**Задание 8. Выведите перечень уникальных значений столбца `children`.**"
   ]
  },
  {
   "cell_type": "code",
   "execution_count": 8,
   "id": "deb53f22",
   "metadata": {
    "deletable": false,
    "id": "ef5056eb",
    "outputId": "6975b15c-7f95-4697-d16d-a0c79b657b03"
   },
   "outputs": [
    {
     "data": {
      "text/plain": [
       "array([ 1,  0,  3,  2, -1,  4, 20,  5], dtype=int64)"
      ]
     },
     "execution_count": 8,
     "metadata": {},
     "output_type": "execute_result"
    }
   ],
   "source": [
    "data['children'].unique()"
   ]
  },
  {
   "cell_type": "markdown",
   "id": "6136bc84",
   "metadata": {
    "deletable": false,
    "editable": false,
    "id": "40b9ebf2"
   },
   "source": [
    "**Задание 9. В столбце `children` есть два аномальных значения. Удалите строки, в которых встречаются такие аномальные значения из датафрейма `data`.**"
   ]
  },
  {
   "cell_type": "code",
   "execution_count": 9,
   "id": "23643ced",
   "metadata": {
    "deletable": false,
    "id": "3ff9801d"
   },
   "outputs": [],
   "source": [
    "data = data[(data['children'] != -1) & (data['children'] != 20)]"
   ]
  },
  {
   "cell_type": "markdown",
   "id": "b57bc5ca",
   "metadata": {
    "deletable": false,
    "editable": false,
    "id": "bbc4d0ce"
   },
   "source": [
    "**Задание 10. Ещё раз выведите перечень уникальных значений столбца `children`, чтобы убедиться, что артефакты удалены.**"
   ]
  },
  {
   "cell_type": "code",
   "execution_count": 10,
   "id": "4677cc63",
   "metadata": {
    "deletable": false,
    "id": "ad4fa8b7",
    "outputId": "b2097101-d49d-44d9-901b-32a65c9463d1"
   },
   "outputs": [
    {
     "data": {
      "text/plain": [
       "array([1, 0, 3, 2, 4, 5], dtype=int64)"
      ]
     },
     "execution_count": 10,
     "metadata": {},
     "output_type": "execute_result"
    }
   ],
   "source": [
    "data['children'].unique()"
   ]
  },
  {
   "cell_type": "markdown",
   "id": "a778d191",
   "metadata": {
    "deletable": false,
    "editable": false,
    "id": "75440b63"
   },
   "source": [
    "### Удаление пропусков (продолжение)"
   ]
  },
  {
   "cell_type": "markdown",
   "id": "c8b61f1c",
   "metadata": {
    "deletable": false,
    "editable": false,
    "id": "f4ea573f"
   },
   "source": [
    "**Задание 11. Заполните пропуски в столбце `days_employed` медианными значениями по каждого типа занятости `income_type`.**"
   ]
  },
  {
   "cell_type": "code",
   "execution_count": 11,
   "id": "703cbd05",
   "metadata": {
    "deletable": false,
    "id": "af6b1a7e"
   },
   "outputs": [],
   "source": [
    "for t in data['income_type'].unique():\n",
    "    data.loc[(data['income_type'] == t) & (data['days_employed'].isna()), 'days_employed'] = \\\n",
    "    data.loc[(data['income_type'] == t), 'days_employed'].median()"
   ]
  },
  {
   "cell_type": "markdown",
   "id": "3e5d3e37",
   "metadata": {
    "deletable": false,
    "editable": false,
    "id": "2753f40d"
   },
   "source": [
    "**Задание 12. Убедитесь, что все пропуски заполнены. Проверьте себя и ещё раз выведите количество пропущенных значений для каждого столбца с помощью двух методов.**"
   ]
  },
  {
   "cell_type": "code",
   "execution_count": 12,
   "id": "32a60508",
   "metadata": {
    "deletable": false,
    "id": "55f78bc2",
    "outputId": "8da1e4e1-358e-4e87-98c9-f261bce0a7b2"
   },
   "outputs": [
    {
     "data": {
      "text/plain": [
       "children            0\n",
       "days_employed       0\n",
       "dob_years           0\n",
       "education           0\n",
       "education_id        0\n",
       "family_status       0\n",
       "family_status_id    0\n",
       "gender              0\n",
       "income_type         0\n",
       "debt                0\n",
       "total_income        0\n",
       "purpose             0\n",
       "dtype: int64"
      ]
     },
     "execution_count": 12,
     "metadata": {},
     "output_type": "execute_result"
    }
   ],
   "source": [
    "data.isna().sum()"
   ]
  },
  {
   "cell_type": "markdown",
   "id": "ee44606c",
   "metadata": {
    "deletable": false,
    "editable": false,
    "id": "ddc81e43"
   },
   "source": [
    "### Изменение типов данных"
   ]
  },
  {
   "cell_type": "markdown",
   "id": "c230699f",
   "metadata": {
    "deletable": false,
    "editable": false,
    "id": "42d19d24"
   },
   "source": [
    "**Задание 13. Замените вещественный тип данных в столбце `total_income` на целочисленный с помощью метода `astype()`.**"
   ]
  },
  {
   "cell_type": "code",
   "execution_count": 13,
   "id": "f53b11f1",
   "metadata": {
    "deletable": false,
    "id": "920b65ad"
   },
   "outputs": [],
   "source": [
    "data['total_income'] = data['total_income'].astype(int)"
   ]
  },
  {
   "cell_type": "markdown",
   "id": "df1cbfad",
   "metadata": {
    "deletable": false,
    "editable": false,
    "id": "80c420ba"
   },
   "source": [
    "### Обработка дубликатов"
   ]
  },
  {
   "cell_type": "markdown",
   "id": "263dd8e5",
   "metadata": {
    "deletable": false,
    "editable": false
   },
   "source": [
    "**Задание 14. Обработайте неявные дубликаты в столбце `education`. В этом столбце есть одни и те же значения, но записанные по-разному: с использованием заглавных и строчных букв. Приведите их к нижнему регистру. Проверьте остальные столбцы.**"
   ]
  },
  {
   "cell_type": "code",
   "execution_count": 14,
   "id": "9df832ce",
   "metadata": {
    "deletable": false
   },
   "outputs": [],
   "source": [
    "data['education'] = data['education'].str.lower()"
   ]
  },
  {
   "cell_type": "markdown",
   "id": "1447b6e3",
   "metadata": {
    "deletable": false,
    "editable": false,
    "id": "dc587695"
   },
   "source": [
    "**Задание 15. Выведите на экран количество строк-дубликатов в данных. Если такие строки присутствуют, удалите их.**"
   ]
  },
  {
   "cell_type": "code",
   "execution_count": 15,
   "id": "913c0aa4",
   "metadata": {
    "deletable": false,
    "id": "3ee445e4",
    "outputId": "9684deba-1934-42d1-99e1-cda61740f822"
   },
   "outputs": [
    {
     "data": {
      "text/plain": [
       "71"
      ]
     },
     "execution_count": 15,
     "metadata": {},
     "output_type": "execute_result"
    }
   ],
   "source": [
    "data.duplicated().sum()"
   ]
  },
  {
   "cell_type": "code",
   "execution_count": 16,
   "id": "baceccec",
   "metadata": {
    "deletable": false,
    "id": "8575fe05"
   },
   "outputs": [],
   "source": [
    "data = data.drop_duplicates()"
   ]
  },
  {
   "cell_type": "markdown",
   "id": "3db104dd",
   "metadata": {
    "deletable": false,
    "editable": false,
    "id": "9904cf55"
   },
   "source": [
    "### Категоризация данных"
   ]
  },
  {
   "cell_type": "markdown",
   "id": "15e927e2",
   "metadata": {
    "deletable": false,
    "editable": false,
    "id": "72fcc8a2"
   },
   "source": [
    "**Задание 16. На основании диапазонов, указанных ниже, создайте в датафрейме `data` столбец `total_income_category` с категориями:**\n",
    "\n",
    "- 0–30000 — `'E'`;\n",
    "- 30001–50000 — `'D'`;\n",
    "- 50001–200000 — `'C'`;\n",
    "- 200001–1000000 — `'B'`;\n",
    "- 1000001 и выше — `'A'`.\n",
    "\n",
    "\n",
    "**Например, кредитополучателю с доходом 25000 нужно назначить категорию `'E'`, а клиенту, получающему 235000, — `'B'`. Используйте собственную функцию с именем `categorize_income()` и метод `apply()`.**"
   ]
  },
  {
   "cell_type": "code",
   "execution_count": 17,
   "id": "d792e1e9",
   "metadata": {
    "deletable": false,
    "id": "e1771346"
   },
   "outputs": [],
   "source": [
    "def categorize_income(income):\n",
    "    try:\n",
    "        if 0 <= income <= 30000:\n",
    "            return 'E'\n",
    "        elif 30001 <= income <= 50000:\n",
    "            return 'D'\n",
    "        elif 50001 <= income <= 200000:\n",
    "            return 'C'\n",
    "        elif 200001 <= income <= 1000000:\n",
    "            return 'B'\n",
    "        elif income >= 1000001:\n",
    "            return 'A'\n",
    "    except:\n",
    "        pass"
   ]
  },
  {
   "cell_type": "code",
   "execution_count": 18,
   "id": "a7f49f2a",
   "metadata": {
    "deletable": false,
    "id": "d5f3586d"
   },
   "outputs": [],
   "source": [
    "data['total_income_category'] = data['total_income'].apply(categorize_income)"
   ]
  },
  {
   "cell_type": "markdown",
   "id": "c6658f6f",
   "metadata": {
    "deletable": false,
    "editable": false,
    "id": "dde49b5c"
   },
   "source": [
    "**Задание 17. Выведите на экран перечень уникальных целей взятия кредита из столбца `purpose`.**"
   ]
  },
  {
   "cell_type": "code",
   "execution_count": 19,
   "id": "aa1a334a",
   "metadata": {
    "deletable": false,
    "id": "f67ce9b3",
    "outputId": "673c12d9-7d7e-4ae0-9812-c622c89dd244"
   },
   "outputs": [
    {
     "data": {
      "text/plain": [
       "array(['покупка жилья', 'приобретение автомобиля',\n",
       "       'дополнительное образование', 'сыграть свадьбу',\n",
       "       'операции с жильем', 'образование', 'на проведение свадьбы',\n",
       "       'покупка жилья для семьи', 'покупка недвижимости',\n",
       "       'покупка коммерческой недвижимости', 'покупка жилой недвижимости',\n",
       "       'строительство собственной недвижимости', 'недвижимость',\n",
       "       'строительство недвижимости', 'на покупку подержанного автомобиля',\n",
       "       'на покупку своего автомобиля',\n",
       "       'операции с коммерческой недвижимостью',\n",
       "       'строительство жилой недвижимости', 'жилье',\n",
       "       'операции со своей недвижимостью', 'автомобили',\n",
       "       'заняться образованием', 'сделка с подержанным автомобилем',\n",
       "       'получение образования', 'автомобиль', 'свадьба',\n",
       "       'получение дополнительного образования', 'покупка своего жилья',\n",
       "       'операции с недвижимостью', 'получение высшего образования',\n",
       "       'свой автомобиль', 'сделка с автомобилем',\n",
       "       'профильное образование', 'высшее образование',\n",
       "       'покупка жилья для сдачи', 'на покупку автомобиля', 'ремонт жилью',\n",
       "       'заняться высшим образованием'], dtype=object)"
      ]
     },
     "execution_count": 19,
     "metadata": {},
     "output_type": "execute_result"
    }
   ],
   "source": [
    "data['purpose'].unique()"
   ]
  },
  {
   "cell_type": "markdown",
   "id": "500f499b",
   "metadata": {
    "deletable": false,
    "editable": false,
    "id": "85d0aef0"
   },
   "source": [
    "**Задание 18. Создайте функцию, которая на основании данных из столбца `purpose` сформирует новый столбец `purpose_category`, в который войдут следующие категории:**\n",
    "\n",
    "- `'операции с автомобилем'`,\n",
    "- `'операции с недвижимостью'`,\n",
    "- `'проведение свадьбы'`,\n",
    "- `'получение образования'`.\n",
    "\n",
    "**Например, если в столбце `purpose` находится подстрока `'на покупку автомобиля'`, то в столбце `purpose_category` должна появиться строка `'операции с автомобилем'`.**\n",
    "\n",
    "**Используйте собственную функцию с именем `categorize_purpose()` и метод `apply()`. Изучите данные в столбце `purpose` и определите, какие подстроки помогут вам правильно определить категорию.**"
   ]
  },
  {
   "cell_type": "code",
   "execution_count": 20,
   "id": "8bdc5560",
   "metadata": {
    "deletable": false,
    "id": "e149fab4"
   },
   "outputs": [],
   "source": [
    "def categorize_purpose(row):\n",
    "    try:\n",
    "        if 'автом' in row:\n",
    "            return 'операции с автомобилем'\n",
    "        elif 'жил' in row or 'недвиж' in row:\n",
    "            return 'операции с недвижимостью'\n",
    "        elif 'свад' in row:\n",
    "            return 'проведение свадьбы'\n",
    "        elif 'образов' in row:\n",
    "            return 'получение образования'\n",
    "    except:\n",
    "        return 'нет категории'"
   ]
  },
  {
   "cell_type": "code",
   "execution_count": 21,
   "id": "634a79d8",
   "metadata": {
    "deletable": false,
    "id": "bf36e69b"
   },
   "outputs": [],
   "source": [
    "data['purpose_category'] = data['purpose'].apply(categorize_purpose)"
   ]
  },
  {
   "cell_type": "markdown",
   "id": "7a6a52ac",
   "metadata": {
    "deletable": false,
    "editable": false,
    "id": "09b242bf"
   },
   "source": [
    "### Шаг 3. Исследуйте данные и ответьте на вопросы"
   ]
  },
  {
   "cell_type": "markdown",
   "id": "cc9e8467",
   "metadata": {
    "deletable": false,
    "editable": false,
    "id": "c5d66278"
   },
   "source": [
    "#### 3.1 Есть ли зависимость между количеством детей и возвратом кредита в срок?"
   ]
  },
  {
   "cell_type": "markdown",
   "id": "ba65efb8",
   "metadata": {},
   "source": [
    "**Для анализа и визуализации данных импортируем библиотеку seaborn.**"
   ]
  },
  {
   "cell_type": "code",
   "execution_count": 22,
   "id": "1c37116c",
   "metadata": {
    "deletable": false,
    "id": "2cacfc4a"
   },
   "outputs": [],
   "source": [
    "# Ваш код будет здесь. Вы можете создавать новые ячейки.\n",
    "import seaborn as sns"
   ]
  },
  {
   "cell_type": "markdown",
   "id": "6fb7f59b",
   "metadata": {},
   "source": [
    "**Анализируем задание. Видим, что задания 19, 20 и 21 очень похожи. Логично будет использовать функции при решении этих задач.**"
   ]
  },
  {
   "cell_type": "markdown",
   "id": "8bfdb227",
   "metadata": {},
   "source": [
    "**Напишим функцию** `f1_dbt_prc_srs`\n",
    "\n",
    "Функция должна вернуть Series, где:  \n",
    " - Значения - это % заявителей, у которых были задолжности по кредитам\n",
    " - Index - это группы заявителей разбитые по условному признаку\n",
    " - Параметр функции `clmn` будет задавать название столбца в таблице `data`, где необходимо анализировать заявителей по группам\n",
    " - Округлим полученный результат до сотых с помощью `round()`\n",
    " - В случае, если у группы заявителей не будет задолжностей по кредитам (придется 0 делить на число, вернется `'NaN'`), заменим пустое значение в строке на 0 с помощью `.fillna()`\n",
    " - Используем `try-except` для поиска возможных ошибок"
   ]
  },
  {
   "cell_type": "code",
   "execution_count": 23,
   "id": "5537de0f",
   "metadata": {},
   "outputs": [],
   "source": [
    "def f1_dbt_prc_srs(clmn):\n",
    "    try:\n",
    "        result = round((100 / data[clmn].value_counts() * data.loc[(data['debt'] == 1), clmn].value_counts()).fillna(0),2)\n",
    "    except:\n",
    "        result = 'Error f1'\n",
    "    return result"
   ]
  },
  {
   "cell_type": "markdown",
   "id": "63c44153",
   "metadata": {},
   "source": [
    "**Напишим функцию** `f2_dbt_cnt_srs`\n",
    "\n",
    "Функция должна вернуть Series, где:  \n",
    " - Значения - это % заявителей группы от общего количества заявителей\n",
    " - Index - это группы заявителей разбитые по условному признаку\n",
    " - Параметр функции `clmn` будет задавать название столбца в таблице `data`, где необходимо анализировать заявителей по группам\n",
    " - Округлим полученный результат до сотых с помощью `round()`\n",
    " - Используем `try-except` для поиска возможных ошибок"
   ]
  },
  {
   "cell_type": "code",
   "execution_count": 24,
   "id": "43f3ef70",
   "metadata": {},
   "outputs": [],
   "source": [
    "def f2_dbt_cnt_srs(clmn):\n",
    "    try:\n",
    "        result = round(100 / data[clmn].value_counts().sum() * data[clmn].value_counts(),2)\n",
    "    except:\n",
    "        result = 'Error f2'\n",
    "    return result"
   ]
  },
  {
   "cell_type": "markdown",
   "id": "035788a7",
   "metadata": {},
   "source": [
    "**Напишим функцию** `f3_dbt_chrt_y`\n",
    "\n",
    "Функция должна вернуть список значений переменной Y для построения граффика, где:\n",
    " - Параметр функции `clmn` будет задавать название столбца в таблице `data`, где необходимо анализировать заявителей по группам\n",
    " - Округлим полученный результат до сотых с помощью `round()`\n",
    " - Преобразуем Series в List с помощью `.tolist()`\n",
    " - Первым значением поставим средний % заявителей, имеющих задолжности по кредитам\n",
    " - Используем `try-except` для поиска возможных ошибок"
   ]
  },
  {
   "cell_type": "code",
   "execution_count": 25,
   "id": "dfdf3568",
   "metadata": {},
   "outputs": [],
   "source": [
    "def f3_dbt_chrt_y(clmn):\n",
    "    try:\n",
    "        result = round(100 / data['debt'].value_counts().sum() * data.loc[(data['debt'] == 1), 'debt'].value_counts(),2).tolist() + round((100 / data[clmn].value_counts() * data.loc[(data['debt'] == 1), clmn].value_counts()).fillna(0),2).tolist()\n",
    "    except:\n",
    "        result = 'Error f3'\n",
    "    return result"
   ]
  },
  {
   "cell_type": "markdown",
   "id": "0a4af095",
   "metadata": {},
   "source": [
    "**Напишим функцию** `f4_dbt_chrt_x`\n",
    "\n",
    "Функция должна вернуть список значений переменной X для построения граффика, где:\n",
    " - Параметр функции `clmn` будет задавать название столбца в таблице `data`, где необходимо анализировать заявителей по группам\n",
    " - Округлим полученный результат до сотых с помощью `round()`\n",
    " - Преобразуем Series в List с помощью `.tolist()`\n",
    " - Индексы Series найдем с помощью `.index`\n",
    " - Первым значением поставим `'средний % должников'`\n",
    " - Используем `try-except` для поиска возможных ошибок"
   ]
  },
  {
   "cell_type": "code",
   "execution_count": 26,
   "id": "67d9c2c7",
   "metadata": {},
   "outputs": [],
   "source": [
    "def f4_dbt_chrt_x(clmn):\n",
    "    try:\n",
    "        c = ['средний % должников']\n",
    "        result = c + round((100 / data[clmn].value_counts() * data.loc[(data['debt'] == 1), clmn].value_counts()).fillna(0),2).index.tolist()\n",
    "    except:\n",
    "        result = 'Error f4'\n",
    "    return result"
   ]
  },
  {
   "cell_type": "code",
   "execution_count": 27,
   "id": "1da9f72b",
   "metadata": {},
   "outputs": [],
   "source": [
    "def f5_dbt_chrt(clmn):\n",
    "    try:\n",
    "        c = ['средний % должников']\n",
    "        chrt_x = c + round((100 / data[clmn].value_counts() * data.loc[(data['debt'] == 1), clmn].value_counts()).fillna(0),2).index.tolist()\n",
    "        chrt_y = round(100 / data['debt'].value_counts().sum() * data.loc[(data['debt'] == 1), 'debt'].value_counts(),2).tolist() + round((100 / data[clmn].value_counts() * data.loc[(data['debt'] == 1), clmn].value_counts()).fillna(0),2).tolist()\n",
    "        chrt = {'количество детей' : chrt_x, '% заявок с задолжностями' : chrt_y}\n",
    "        result = pd.DataFrame(chrt) \n",
    "    except:\n",
    "        result = 'Error f5'\n",
    "    return result"
   ]
  },
  {
   "cell_type": "code",
   "execution_count": 28,
   "id": "b4c92999",
   "metadata": {},
   "outputs": [
    {
     "data": {
      "text/html": [
       "<div>\n",
       "<style scoped>\n",
       "    .dataframe tbody tr th:only-of-type {\n",
       "        vertical-align: middle;\n",
       "    }\n",
       "\n",
       "    .dataframe tbody tr th {\n",
       "        vertical-align: top;\n",
       "    }\n",
       "\n",
       "    .dataframe thead th {\n",
       "        text-align: right;\n",
       "    }\n",
       "</style>\n",
       "<table border=\"1\" class=\"dataframe\">\n",
       "  <thead>\n",
       "    <tr style=\"text-align: right;\">\n",
       "      <th></th>\n",
       "      <th>количество детей</th>\n",
       "      <th>% заявок с задолжностями</th>\n",
       "    </tr>\n",
       "  </thead>\n",
       "  <tbody>\n",
       "    <tr>\n",
       "      <th>0</th>\n",
       "      <td>средний % должников</td>\n",
       "      <td>8.12</td>\n",
       "    </tr>\n",
       "    <tr>\n",
       "      <th>1</th>\n",
       "      <td>0</td>\n",
       "      <td>7.54</td>\n",
       "    </tr>\n",
       "    <tr>\n",
       "      <th>2</th>\n",
       "      <td>1</td>\n",
       "      <td>9.23</td>\n",
       "    </tr>\n",
       "    <tr>\n",
       "      <th>3</th>\n",
       "      <td>2</td>\n",
       "      <td>9.45</td>\n",
       "    </tr>\n",
       "    <tr>\n",
       "      <th>4</th>\n",
       "      <td>3</td>\n",
       "      <td>8.18</td>\n",
       "    </tr>\n",
       "    <tr>\n",
       "      <th>5</th>\n",
       "      <td>4</td>\n",
       "      <td>9.76</td>\n",
       "    </tr>\n",
       "    <tr>\n",
       "      <th>6</th>\n",
       "      <td>5</td>\n",
       "      <td>0.00</td>\n",
       "    </tr>\n",
       "  </tbody>\n",
       "</table>\n",
       "</div>"
      ],
      "text/plain": [
       "      количество детей  % заявок с задолжностями\n",
       "0  средний % должников                      8.12\n",
       "1                    0                      7.54\n",
       "2                    1                      9.23\n",
       "3                    2                      9.45\n",
       "4                    3                      8.18\n",
       "5                    4                      9.76\n",
       "6                    5                      0.00"
      ]
     },
     "execution_count": 28,
     "metadata": {},
     "output_type": "execute_result"
    }
   ],
   "source": [
    "q1 = f5_dbt_chrt('children')\n",
    "q1"
   ]
  },
  {
   "cell_type": "code",
   "execution_count": 29,
   "id": "ef69a239",
   "metadata": {},
   "outputs": [
    {
     "name": "stdout",
     "output_type": "stream",
     "text": [
      "      количество детей  % заявок с задолжностями\n",
      "0  средний % должников                      8.12\n",
      "1                    0                      7.54\n",
      "2                    1                      9.23\n",
      "3                    2                      9.45\n",
      "4                    3                      8.18\n",
      "5                    4                      9.76\n",
      "6                    5                      0.00\n"
     ]
    }
   ],
   "source": [
    "print(q1)"
   ]
  },
  {
   "cell_type": "code",
   "execution_count": 30,
   "id": "db32f291",
   "metadata": {},
   "outputs": [
    {
     "data": {
      "image/png": "[encoded data removed]",
      "text/plain": [
       "<Figure size 640x480 with 1 Axes>"
      ]
     },
     "metadata": {},
     "output_type": "display_data"
    }
   ],
   "source": [
    "sns.set_style('whitegrid')\n",
    "ax = sns.barplot(y='количество детей', x='% заявок с задолжностями', data = q1 )"
   ]
  },
  {
   "cell_type": "markdown",
   "id": "20d3b1a7",
   "metadata": {},
   "source": [
    "**Проанализируем общую зависимость возврата кредита в выборке, не зависимо от количества детей заявителей.**"
   ]
  },
  {
   "cell_type": "code",
   "execution_count": 31,
   "id": "26736f4c",
   "metadata": {},
   "outputs": [
    {
     "name": "stdout",
     "output_type": "stream",
     "text": [
      "[8.12]\n"
     ]
    }
   ],
   "source": [
    "    # находим % заявителей, которые не вернули кредит. Округлим до 2-ого знака после запятой.\n",
    "print(round(100 / data['debt'].value_counts().sum() * data.loc[(data['debt'] == 1), 'debt'].value_counts(),2).tolist())"
   ]
  },
  {
   "cell_type": "code",
   "execution_count": 32,
   "id": "f6b16f97",
   "metadata": {
    "scrolled": true
   },
   "outputs": [
    {
     "data": {
      "text/plain": [
       "<Axes: xlabel='count', ylabel='debt'>"
      ]
     },
     "execution_count": 32,
     "metadata": {},
     "output_type": "execute_result"
    },
    {
     "data": {
      "image/png": "[encoded data removed]",
      "text/plain": [
       "<Figure size 640x480 with 1 Axes>"
      ]
     },
     "metadata": {},
     "output_type": "display_data"
    }
   ],
   "source": [
    "    # визуализируем результат\n",
    "sns.set_style('whitegrid')\n",
    "sns.countplot(y = data['debt'])"
   ]
  },
  {
   "cell_type": "markdown",
   "id": "291a6f9e",
   "metadata": {},
   "source": [
    "*8.12% заявителей имели задолжности по возврату кредита.*"
   ]
  },
  {
   "cell_type": "markdown",
   "id": "51c6c299",
   "metadata": {},
   "source": [
    "**Проанализируем количественное распределение значений столбца `'children'` от общего количества заявок по количеству детей у заявителей. Используем функцию** `f2_dbt_cnt_srs`"
   ]
  },
  {
   "cell_type": "code",
   "execution_count": 33,
   "id": "36ef6ee7",
   "metadata": {},
   "outputs": [
    {
     "data": {
      "text/plain": [
       "0    66.06\n",
       "1    22.54\n",
       "2     9.62\n",
       "3     1.55\n",
       "4     0.19\n",
       "5     0.04\n",
       "Name: children, dtype: float64"
      ]
     },
     "execution_count": 33,
     "metadata": {},
     "output_type": "execute_result"
    }
   ],
   "source": [
    "    # вернем Series со значениями:\n",
    "    # количество детей       % заявок в группе от общего количества заявок\n",
    "f2_dbt_cnt_srs('children')"
   ]
  },
  {
   "cell_type": "code",
   "execution_count": 34,
   "id": "36619ce2",
   "metadata": {
    "scrolled": true
   },
   "outputs": [
    {
     "data": {
      "text/plain": [
       "<Axes: xlabel='count', ylabel='children'>"
      ]
     },
     "execution_count": 34,
     "metadata": {},
     "output_type": "execute_result"
    },
    {
     "data": {
      "image/png": "[encoded data removed]",
      "text/plain": [
       "<Figure size 640x480 with 1 Axes>"
      ]
     },
     "metadata": {},
     "output_type": "display_data"
    }
   ],
   "source": [
    "    # визуализируем результат\n",
    "sns.set_style('whitegrid')\n",
    "sns.countplot(y = data['children'])"
   ]
  },
  {
   "cell_type": "markdown",
   "id": "80a6d1f8",
   "metadata": {},
   "source": [
    "*Мы видим, что количество значений в столбце `'children'` **заявителей с 4-мя и 5-ю детьми менее 1%** от общего количества значений в выборке. Это ставит под сомнение правильность выводов при анализе данных столбца `'children'` заявителей с 4-мя и 5-ю детьми. Будем иметь это ввиду при дальнейшем анализе.*"
   ]
  },
  {
   "cell_type": "markdown",
   "id": "c2d4d9b7",
   "metadata": {},
   "source": [
    "**Оценим процентное распределение значений столбца `'children'` от общего количества заявок по количеству детей у заявителей. Используем функцию** `f1_dbt_prc_srs`"
   ]
  },
  {
   "cell_type": "code",
   "execution_count": 35,
   "id": "5819b227",
   "metadata": {},
   "outputs": [
    {
     "data": {
      "text/plain": [
       "0    7.54\n",
       "1    9.23\n",
       "2    9.45\n",
       "3    8.18\n",
       "4    9.76\n",
       "5    0.00\n",
       "Name: children, dtype: float64"
      ]
     },
     "execution_count": 35,
     "metadata": {},
     "output_type": "execute_result"
    }
   ],
   "source": [
    "    # вернем Series со значениями:\n",
    "    # количество детей       % заявок с задолжностями в каждой группе\n",
    "f1_dbt_prc_srs('children')"
   ]
  },
  {
   "cell_type": "markdown",
   "id": "39a155e8",
   "metadata": {},
   "source": [
    "**Визуализируем результат, с помощью столбчатой диаграммы. Используем функции** `f3_dbt_chrt_x` **и** `f4_dbt_chrt_y`\n",
    "\n",
    " - по оси Y - заявки, разбитые на группы по количетсву детей у заявителя.\n",
    " - по оси X - количественное значение в %\n",
    " - средний процент должников из всех заявителей представлена в верхнем столбце."
   ]
  },
  {
   "cell_type": "code",
   "execution_count": 36,
   "id": "832eea1b",
   "metadata": {},
   "outputs": [
    {
     "data": {
      "image/png": "[encoded data removed]",
      "text/plain": [
       "<Figure size 640x480 with 1 Axes>"
      ]
     },
     "metadata": {},
     "output_type": "display_data"
    }
   ],
   "source": [
    "chrt_y = f3_dbt_chrt_y('children')\n",
    "chrt_x = f4_dbt_chrt_x('children')\n",
    "grf = pd.DataFrame({'количество детей' : chrt_x, '% заявок с задолжностями' : chrt_y})\n",
    "sns.set_style('whitegrid')\n",
    "ax = sns.barplot(y='количество детей', x='% заявок с задолжностями', data = grf )"
   ]
  },
  {
   "cell_type": "markdown",
   "id": "c8308015",
   "metadata": {
    "deletable": false,
    "id": "3a6b99ec"
   },
   "source": [
    "**Вывод:** \n",
    "1. Мы видим аномальное значение в группе заявок от людей с 5-ю детьми, там все выплачивали кредиты вовремя. Скорее всего это может быть связано с очень маленькой выборкой для данной группы заявителей, как мы отметили ранее.\n",
    "2. В целом мы не видим какой-то явной закономерности в задолжностях по кредитам в зависимости от количества детей заявителя, но **заявители без детей чуть более (~1-2%) склонны выплачивать кредит без задолжностей**, чем люди с детьми."
   ]
  },
  {
   "cell_type": "markdown",
   "id": "15db5f79",
   "metadata": {
    "deletable": false,
    "editable": false,
    "id": "97be82ca"
   },
   "source": [
    "#### 3.2 Есть ли зависимость между семейным положением и возвратом кредита в срок?"
   ]
  },
  {
   "cell_type": "markdown",
   "id": "9468b8bf",
   "metadata": {},
   "source": [
    "**Проанализируем заявителей по семейному положению, посмотрим на количество заявок. Используем функцию** `f2_dbt_cnt_srs`"
   ]
  },
  {
   "cell_type": "code",
   "execution_count": 37,
   "id": "10fc77e5",
   "metadata": {
    "deletable": false,
    "id": "dc3f7ee8",
    "scrolled": true
   },
   "outputs": [
    {
     "data": {
      "text/plain": [
       "женат / замужем          57.48\n",
       "гражданский брак         19.38\n",
       "Не женат / не замужем    13.11\n",
       "в разводе                 5.57\n",
       "вдовец / вдова            4.46\n",
       "Name: family_status, dtype: float64"
      ]
     },
     "execution_count": 37,
     "metadata": {},
     "output_type": "execute_result"
    }
   ],
   "source": [
    "    # вернем Series со значениями:\n",
    "    # семейное положение       % заявок в группе от общего количества заявок\n",
    "f2_dbt_cnt_srs('family_status')"
   ]
  },
  {
   "cell_type": "code",
   "execution_count": 38,
   "id": "8324ba11",
   "metadata": {},
   "outputs": [
    {
     "data": {
      "text/plain": [
       "<Axes: xlabel='count', ylabel='family_status'>"
      ]
     },
     "execution_count": 38,
     "metadata": {},
     "output_type": "execute_result"
    },
    {
     "data": {
      "image/png": "[encoded data removed]",
      "text/plain": [
       "<Figure size 640x480 with 1 Axes>"
      ]
     },
     "metadata": {},
     "output_type": "display_data"
    }
   ],
   "source": [
    "    # приведем все значения столбца family_status к нижнему регистру и визуализируем данные\n",
    "data['family_status'] = data['family_status'].str.lower()\n",
    "sns.set_style('whitegrid')\n",
    "sns.countplot(y = data['family_status'])"
   ]
  },
  {
   "cell_type": "markdown",
   "id": "a4b51dce",
   "metadata": {},
   "source": [
    "*Выборка достаточная для дальнейшего анализа.*"
   ]
  },
  {
   "cell_type": "markdown",
   "id": "714d64ba",
   "metadata": {},
   "source": [
    "**Мы уже знаем, что 8.12% заявителей имели задолжности по возврату кредитов. Теперь оценим сколько % заявителей в каждой группе (по семейному положению) имели задолжности по кредитам. Используем функцию** `f1_dbt_prc_srs`"
   ]
  },
  {
   "cell_type": "code",
   "execution_count": 39,
   "id": "6eaacf17",
   "metadata": {},
   "outputs": [
    {
     "data": {
      "text/plain": [
       "женат / замужем          7.56\n",
       "гражданский брак         9.31\n",
       "не женат / не замужем    9.76\n",
       "в разводе                7.06\n",
       "вдовец / вдова           6.62\n",
       "Name: family_status, dtype: float64"
      ]
     },
     "execution_count": 39,
     "metadata": {},
     "output_type": "execute_result"
    }
   ],
   "source": [
    "    # вернем Series со значениями:\n",
    "    # семейное положение       % заявок с задолжностями в каждой группе\n",
    "f1_dbt_prc_srs('family_status')"
   ]
  },
  {
   "cell_type": "markdown",
   "id": "91a1ed44",
   "metadata": {},
   "source": [
    "**Визуализируем результат, с помощью столбчатой диаграммы. Используем функции** `f3_dbt_chrt_x` **и** `f4_dbt_chrt_y`\n",
    "\n",
    " - по оси Y - заявки, разбитые на группы по семейному положению.\n",
    " - по оси X - количественное значение в %\n",
    " - средний процент должников из всех заявителей представлена в верхнем столбце."
   ]
  },
  {
   "cell_type": "code",
   "execution_count": 40,
   "id": "93df41eb",
   "metadata": {},
   "outputs": [
    {
     "data": {
      "image/png": "[encoded data removed]",
      "text/plain": [
       "<Figure size 640x480 with 1 Axes>"
      ]
     },
     "metadata": {},
     "output_type": "display_data"
    }
   ],
   "source": [
    "chrt_y = f3_dbt_chrt_y('family_status')\n",
    "chrt_x = f4_dbt_chrt_x('family_status')\n",
    "grf = pd.DataFrame({'семейное положение' : chrt_x, '% заявок с задолжностями' : chrt_y})\n",
    "sns.set_style('whitegrid')\n",
    "ax = sns.barplot(y='семейное положение', x='% заявок с задолжностями', data = grf )"
   ]
  },
  {
   "cell_type": "markdown",
   "id": "602c4968",
   "metadata": {
    "deletable": false,
    "id": "1cef7837"
   },
   "source": [
    "**Вывод:** \n",
    "1. На графике хорошо видна закономерность: **люди не состоящие в браке или состоящие в гражданском браке более склонны к задолжностям по кредиту, чем женатые/разведенные люди или вдовцы.**\n",
    "2. Возможно это связано с возрастом заемщиков. Можно выдвинуть гипотезу, что средние значения возроста заемщиков не состоящих в браке или гражданском браке ниже, чем средние значениям возроста женатых/разведенных или вдовцов. Обобщим гипотезу: **чем моложе средний возраст заемщика, тем выше процент задолжности по кредиту.** Давайте попробуем проверить эту гипотезу."
   ]
  },
  {
   "cell_type": "code",
   "execution_count": 41,
   "id": "910dd2c0",
   "metadata": {},
   "outputs": [
    {
     "data": {
      "image/png": "[encoded data removed]",
      "text/plain": [
       "<Figure size 640x480 with 1 Axes>"
      ]
     },
     "metadata": {},
     "output_type": "display_data"
    }
   ],
   "source": [
    "chrt_y = f3_dbt_chrt_y('dob_years')\n",
    "chrt_x = f4_dbt_chrt_x('dob_years')\n",
    "grf = pd.DataFrame({'возраст' : chrt_x, '% заявок с задолжностями' : chrt_y})\n",
    "sns.set_style('whitegrid')\n",
    "ax = sns.barplot(y='возраст', x='% заявок с задолжностями', data = grf )"
   ]
  },
  {
   "cell_type": "markdown",
   "id": "9002073f",
   "metadata": {},
   "source": [
    "*Можно еще обработать данные, убрать строки, где заемщик указал нулевой возраст, убрать строки, где недостаточно значений данных для анализа, попробовать сгладить \"пики\" аппроксимацией, разбить на возростные группы. Но даже сейчас можно сказать, что* ***выдвинутая гипотеза верна, с возростом люди менее склонны к задолжностям по кредитам***"
   ]
  },
  {
   "cell_type": "markdown",
   "id": "55b79244",
   "metadata": {
    "deletable": false,
    "editable": false,
    "id": "1e8b2fca"
   },
   "source": [
    "#### 3.3 Есть ли зависимость между уровнем дохода и возвратом кредита в срок?"
   ]
  },
  {
   "cell_type": "markdown",
   "id": "6b634df0",
   "metadata": {},
   "source": [
    "**Так как уровень дохода у каждого заемщика разный, то нам пригодятся категории, которые мы присвоили заемщикам в задании 16. По этим категориям и будем анализировать зависимость. Посмотрим на количетсво заявок в каждой категории. Используем функцию** `f2_dbt_cnt_srs`"
   ]
  },
  {
   "cell_type": "code",
   "execution_count": 42,
   "id": "489b3592",
   "metadata": {
    "deletable": false,
    "id": "cd7e3720"
   },
   "outputs": [
    {
     "data": {
      "text/plain": [
       "C    74.64\n",
       "B    23.51\n",
       "D     1.64\n",
       "A     0.12\n",
       "E     0.10\n",
       "Name: total_income_category, dtype: float64"
      ]
     },
     "execution_count": 42,
     "metadata": {},
     "output_type": "execute_result"
    }
   ],
   "source": [
    "# Ваш код будет здесь. Вы можете создавать новые ячейки.\n",
    "    # вернем Series со значениями:\n",
    "    # категория дохода       % заявок в группе от общего количества заявок\n",
    "f2_dbt_cnt_srs('total_income_category')"
   ]
  },
  {
   "cell_type": "code",
   "execution_count": 43,
   "id": "38bb43d9",
   "metadata": {},
   "outputs": [
    {
     "data": {
      "text/plain": [
       "<Axes: xlabel='count', ylabel='total_income_category'>"
      ]
     },
     "execution_count": 43,
     "metadata": {},
     "output_type": "execute_result"
    },
    {
     "data": {
      "image/png": "[encoded data removed]",
      "text/plain": [
       "<Figure size 640x480 with 1 Axes>"
      ]
     },
     "metadata": {},
     "output_type": "display_data"
    }
   ],
   "source": [
    "    # визуализируем данные\n",
    "sns.set_style('whitegrid')\n",
    "sns.countplot(y = data['total_income_category'])"
   ]
  },
  {
   "cell_type": "markdown",
   "id": "863e38de",
   "metadata": {},
   "source": [
    "*В категориях* ***`'A'` и `'E'` менее 1% значений, этого может быть недостаточно для анализа.***"
   ]
  },
  {
   "cell_type": "markdown",
   "id": "fc6fef22",
   "metadata": {},
   "source": [
    "**Мы уже знаем, что 8.12% заявителей имели задолжности по возврату кредитов. Теперь оценим сколько % заявителей в каждой категории (по уровню дохода) имели задолжности по кредитам. Используем функцию** `f1_dbt_prc_srs`"
   ]
  },
  {
   "cell_type": "code",
   "execution_count": 44,
   "id": "6ddeac12",
   "metadata": {},
   "outputs": [
    {
     "data": {
      "text/plain": [
       "A    8.00\n",
       "B    7.06\n",
       "C    8.50\n",
       "D    6.02\n",
       "E    9.09\n",
       "Name: total_income_category, dtype: float64"
      ]
     },
     "execution_count": 44,
     "metadata": {},
     "output_type": "execute_result"
    }
   ],
   "source": [
    "    # вернем Series со значениями:\n",
    "    # категория дохода       % заявок с задолжностями в каждой группе\n",
    "f1_dbt_prc_srs('total_income_category')"
   ]
  },
  {
   "cell_type": "markdown",
   "id": "4bbf149e",
   "metadata": {},
   "source": [
    "**Визуализируем результат, с помощью столбчатой диаграммы. Используем функции** `f3_dbt_chrt_x` **и** `f4_dbt_chrt_y`\n",
    "\n",
    " - по оси Y - заявки, разбитые на группы по уровню дохода.\n",
    " - по оси X - количественное значение в %\n",
    " - средний процент должников из всех заявителей представлена в верхнем столбце."
   ]
  },
  {
   "cell_type": "code",
   "execution_count": 45,
   "id": "c8d98bb1",
   "metadata": {},
   "outputs": [
    {
     "data": {
      "image/png": "[encoded data removed]",
      "text/plain": [
       "<Figure size 640x480 with 1 Axes>"
      ]
     },
     "metadata": {},
     "output_type": "display_data"
    }
   ],
   "source": [
    "chrt_y = f3_dbt_chrt_y('total_income_category')\n",
    "chrt_x = f4_dbt_chrt_x('total_income_category')\n",
    "grf = pd.DataFrame({'уровень дохода' : chrt_x, '% заявок с задолжностями' : chrt_y})\n",
    "sns.set_style('whitegrid')\n",
    "ax = sns.barplot(y='уровень дохода', x='% заявок с задолжностями', data = grf )"
   ]
  },
  {
   "cell_type": "markdown",
   "id": "c9ec1ede",
   "metadata": {
    "deletable": false,
    "id": "e8593def"
   },
   "source": [
    "**Вывод:** \n",
    "1. Явных закономерностей не видно, можно только сказать, что **у заемщиков с доходом из категории 'D' (от 30001 до 50000) наименьший процент людей с задолжностями по кредитам.**"
   ]
  },
  {
   "cell_type": "markdown",
   "id": "3416eb6d",
   "metadata": {
    "deletable": false,
    "editable": false,
    "id": "99ecbd1f"
   },
   "source": [
    "#### 3.4 Как разные цели кредита влияют на его возврат в срок?"
   ]
  },
  {
   "cell_type": "markdown",
   "id": "e750d798",
   "metadata": {},
   "source": [
    "**Так как заемщики заполняли графу 'цель получения кредита' в свободной форме, то нам пришлось структурировать данные в задании 18 по присвоенным категориям и будем анализировать зависимость. Посмотрим на количетсво заявок в каждой категории. Используем функцию** `f2_dbt_cnt_srs`"
   ]
  },
  {
   "cell_type": "code",
   "execution_count": 46,
   "id": "1327c6d0",
   "metadata": {
    "deletable": false,
    "id": "2b687290"
   },
   "outputs": [
    {
     "data": {
      "text/plain": [
       "операции с недвижимостью    50.40\n",
       "операции с автомобилем      20.06\n",
       "получение образования       18.70\n",
       "проведение свадьбы          10.84\n",
       "Name: purpose_category, dtype: float64"
      ]
     },
     "execution_count": 46,
     "metadata": {},
     "output_type": "execute_result"
    }
   ],
   "source": [
    "# Ваш код будет здесь. Вы можете создавать новые ячейки.\n",
    "    # вернем Series со значениями:\n",
    "    # категория дохода       % заявок в группе от общего количества заявок\n",
    "f2_dbt_cnt_srs('purpose_category')"
   ]
  },
  {
   "cell_type": "markdown",
   "id": "5d65cc88",
   "metadata": {},
   "source": [
    "*Выборка достаточная для дальнейшего анализа.*"
   ]
  },
  {
   "cell_type": "markdown",
   "id": "89bbc5f8",
   "metadata": {},
   "source": [
    "**Мы уже знаем, что 8.12% заявителей имели задолжности по возврату кредитов. Теперь оценим сколько % заявителей в каждой группе (по цели кредита) имели задолжности по кредитам. Используем функцию** `f1_dbt_prc_srs`"
   ]
  },
  {
   "cell_type": "code",
   "execution_count": 47,
   "id": "6d3f6466",
   "metadata": {},
   "outputs": [
    {
     "data": {
      "text/plain": [
       "операции с недвижимостью    7.26\n",
       "операции с автомобилем      9.35\n",
       "получение образования       9.25\n",
       "проведение свадьбы          7.91\n",
       "Name: purpose_category, dtype: float64"
      ]
     },
     "execution_count": 47,
     "metadata": {},
     "output_type": "execute_result"
    }
   ],
   "source": [
    "    # вернем Series со значениями:\n",
    "    # цель кредита       % заявок с задолжностями в каждой группе\n",
    "f1_dbt_prc_srs('purpose_category')"
   ]
  },
  {
   "cell_type": "markdown",
   "id": "1f967e79",
   "metadata": {},
   "source": [
    "**Визуализируем результат, с помощью столбчатой диаграммы. Используем функции** `f3_dbt_chrt_x` **и** `f4_dbt_chrt_y`\n",
    "\n",
    " - по оси Y - заявки, разбитые на группы по цели кредита.\n",
    " - по оси X - количественное значение в %\n",
    " - средний процент должников из всех заявителей представлена в верхнем столбце."
   ]
  },
  {
   "cell_type": "code",
   "execution_count": 48,
   "id": "430953c4",
   "metadata": {},
   "outputs": [
    {
     "data": {
      "image/png": "[encoded data removed]",
      "text/plain": [
       "<Figure size 640x480 with 1 Axes>"
      ]
     },
     "metadata": {},
     "output_type": "display_data"
    }
   ],
   "source": [
    "chrt_y = f3_dbt_chrt_y('purpose_category')\n",
    "chrt_x = f4_dbt_chrt_x('purpose_category')\n",
    "grf = pd.DataFrame({'цель кредита' : chrt_x, '% заявок с задолжностями' : chrt_y})\n",
    "sns.set_style('whitegrid')\n",
    "ax = sns.barplot(y='цель кредита', x='% заявок с задолжностями', data = grf )"
   ]
  },
  {
   "cell_type": "markdown",
   "id": "8957c48a",
   "metadata": {
    "deletable": false,
    "id": "b4bb2ce6"
   },
   "source": [
    "**Вывод:** \n",
    "1. Заемщики, берущие кредит на Операции с недвижимостью и Проведение свадьбы, имеют меньшее количество просроченных задолжностей, чем заемщики берущие кредиты на Операции с автомобилем и Получение образования."
   ]
  },
  {
   "cell_type": "markdown",
   "id": "ed4699d9",
   "metadata": {
    "deletable": false,
    "editable": false,
    "id": "09c3ac4c"
   },
   "source": [
    "#### 3.5 Приведите возможные причины появления пропусков в исходных данных."
   ]
  },
  {
   "cell_type": "markdown",
   "id": "18da968b",
   "metadata": {
    "deletable": false,
    "id": "9da2ceda"
   },
   "source": [
    "*Ответ:* Трудно назвать причину пропусков. Видим только одну закономерность: пропуски появляются сразу в 2-х столбцах одной строки (`'days_employed'` и `'total_income'`). Я склонен предположить, что **пропуски полностью случайные**."
   ]
  },
  {
   "cell_type": "code",
   "execution_count": 50,
   "id": "611e28cb",
   "metadata": {
    "scrolled": true
   },
   "outputs": [
    {
     "data": {
      "text/html": [
       "<div>\n",
       "<style scoped>\n",
       "    .dataframe tbody tr th:only-of-type {\n",
       "        vertical-align: middle;\n",
       "    }\n",
       "\n",
       "    .dataframe tbody tr th {\n",
       "        vertical-align: top;\n",
       "    }\n",
       "\n",
       "    .dataframe thead th {\n",
       "        text-align: right;\n",
       "    }\n",
       "</style>\n",
       "<table border=\"1\" class=\"dataframe\">\n",
       "  <thead>\n",
       "    <tr style=\"text-align: right;\">\n",
       "      <th></th>\n",
       "      <th>children</th>\n",
       "      <th>days_employed</th>\n",
       "      <th>dob_years</th>\n",
       "      <th>education</th>\n",
       "      <th>education_id</th>\n",
       "      <th>family_status</th>\n",
       "      <th>family_status_id</th>\n",
       "      <th>gender</th>\n",
       "      <th>income_type</th>\n",
       "      <th>debt</th>\n",
       "      <th>total_income</th>\n",
       "      <th>purpose</th>\n",
       "    </tr>\n",
       "  </thead>\n",
       "  <tbody>\n",
       "    <tr>\n",
       "      <th>12</th>\n",
       "      <td>0</td>\n",
       "      <td>NaN</td>\n",
       "      <td>65</td>\n",
       "      <td>среднее</td>\n",
       "      <td>1</td>\n",
       "      <td>гражданский брак</td>\n",
       "      <td>1</td>\n",
       "      <td>M</td>\n",
       "      <td>пенсионер</td>\n",
       "      <td>0</td>\n",
       "      <td>NaN</td>\n",
       "      <td>сыграть свадьбу</td>\n",
       "    </tr>\n",
       "    <tr>\n",
       "      <th>26</th>\n",
       "      <td>0</td>\n",
       "      <td>NaN</td>\n",
       "      <td>41</td>\n",
       "      <td>среднее</td>\n",
       "      <td>1</td>\n",
       "      <td>женат / замужем</td>\n",
       "      <td>0</td>\n",
       "      <td>M</td>\n",
       "      <td>госслужащий</td>\n",
       "      <td>0</td>\n",
       "      <td>NaN</td>\n",
       "      <td>образование</td>\n",
       "    </tr>\n",
       "    <tr>\n",
       "      <th>29</th>\n",
       "      <td>0</td>\n",
       "      <td>NaN</td>\n",
       "      <td>63</td>\n",
       "      <td>среднее</td>\n",
       "      <td>1</td>\n",
       "      <td>Не женат / не замужем</td>\n",
       "      <td>4</td>\n",
       "      <td>F</td>\n",
       "      <td>пенсионер</td>\n",
       "      <td>0</td>\n",
       "      <td>NaN</td>\n",
       "      <td>строительство жилой недвижимости</td>\n",
       "    </tr>\n",
       "    <tr>\n",
       "      <th>41</th>\n",
       "      <td>0</td>\n",
       "      <td>NaN</td>\n",
       "      <td>50</td>\n",
       "      <td>среднее</td>\n",
       "      <td>1</td>\n",
       "      <td>женат / замужем</td>\n",
       "      <td>0</td>\n",
       "      <td>F</td>\n",
       "      <td>госслужащий</td>\n",
       "      <td>0</td>\n",
       "      <td>NaN</td>\n",
       "      <td>сделка с подержанным автомобилем</td>\n",
       "    </tr>\n",
       "    <tr>\n",
       "      <th>55</th>\n",
       "      <td>0</td>\n",
       "      <td>NaN</td>\n",
       "      <td>54</td>\n",
       "      <td>среднее</td>\n",
       "      <td>1</td>\n",
       "      <td>гражданский брак</td>\n",
       "      <td>1</td>\n",
       "      <td>F</td>\n",
       "      <td>пенсионер</td>\n",
       "      <td>1</td>\n",
       "      <td>NaN</td>\n",
       "      <td>сыграть свадьбу</td>\n",
       "    </tr>\n",
       "    <tr>\n",
       "      <th>65</th>\n",
       "      <td>0</td>\n",
       "      <td>NaN</td>\n",
       "      <td>21</td>\n",
       "      <td>среднее</td>\n",
       "      <td>1</td>\n",
       "      <td>Не женат / не замужем</td>\n",
       "      <td>4</td>\n",
       "      <td>M</td>\n",
       "      <td>компаньон</td>\n",
       "      <td>0</td>\n",
       "      <td>NaN</td>\n",
       "      <td>операции с коммерческой недвижимостью</td>\n",
       "    </tr>\n",
       "    <tr>\n",
       "      <th>67</th>\n",
       "      <td>0</td>\n",
       "      <td>NaN</td>\n",
       "      <td>52</td>\n",
       "      <td>высшее</td>\n",
       "      <td>0</td>\n",
       "      <td>женат / замужем</td>\n",
       "      <td>0</td>\n",
       "      <td>F</td>\n",
       "      <td>пенсионер</td>\n",
       "      <td>0</td>\n",
       "      <td>NaN</td>\n",
       "      <td>покупка жилья для семьи</td>\n",
       "    </tr>\n",
       "    <tr>\n",
       "      <th>72</th>\n",
       "      <td>1</td>\n",
       "      <td>NaN</td>\n",
       "      <td>32</td>\n",
       "      <td>высшее</td>\n",
       "      <td>0</td>\n",
       "      <td>женат / замужем</td>\n",
       "      <td>0</td>\n",
       "      <td>M</td>\n",
       "      <td>госслужащий</td>\n",
       "      <td>0</td>\n",
       "      <td>NaN</td>\n",
       "      <td>операции с коммерческой недвижимостью</td>\n",
       "    </tr>\n",
       "    <tr>\n",
       "      <th>82</th>\n",
       "      <td>2</td>\n",
       "      <td>NaN</td>\n",
       "      <td>50</td>\n",
       "      <td>высшее</td>\n",
       "      <td>0</td>\n",
       "      <td>женат / замужем</td>\n",
       "      <td>0</td>\n",
       "      <td>F</td>\n",
       "      <td>сотрудник</td>\n",
       "      <td>0</td>\n",
       "      <td>NaN</td>\n",
       "      <td>жилье</td>\n",
       "    </tr>\n",
       "    <tr>\n",
       "      <th>83</th>\n",
       "      <td>0</td>\n",
       "      <td>NaN</td>\n",
       "      <td>52</td>\n",
       "      <td>среднее</td>\n",
       "      <td>1</td>\n",
       "      <td>женат / замужем</td>\n",
       "      <td>0</td>\n",
       "      <td>M</td>\n",
       "      <td>сотрудник</td>\n",
       "      <td>0</td>\n",
       "      <td>NaN</td>\n",
       "      <td>жилье</td>\n",
       "    </tr>\n",
       "  </tbody>\n",
       "</table>\n",
       "</div>"
      ],
      "text/plain": [
       "    children  days_employed  dob_years education  education_id  \\\n",
       "12         0            NaN         65   среднее             1   \n",
       "26         0            NaN         41   среднее             1   \n",
       "29         0            NaN         63   среднее             1   \n",
       "41         0            NaN         50   среднее             1   \n",
       "55         0            NaN         54   среднее             1   \n",
       "65         0            NaN         21   среднее             1   \n",
       "67         0            NaN         52    высшее             0   \n",
       "72         1            NaN         32    высшее             0   \n",
       "82         2            NaN         50    высшее             0   \n",
       "83         0            NaN         52   среднее             1   \n",
       "\n",
       "            family_status  family_status_id gender  income_type  debt  \\\n",
       "12       гражданский брак                 1      M    пенсионер     0   \n",
       "26        женат / замужем                 0      M  госслужащий     0   \n",
       "29  Не женат / не замужем                 4      F    пенсионер     0   \n",
       "41        женат / замужем                 0      F  госслужащий     0   \n",
       "55       гражданский брак                 1      F    пенсионер     1   \n",
       "65  Не женат / не замужем                 4      M    компаньон     0   \n",
       "67        женат / замужем                 0      F    пенсионер     0   \n",
       "72        женат / замужем                 0      M  госслужащий     0   \n",
       "82        женат / замужем                 0      F    сотрудник     0   \n",
       "83        женат / замужем                 0      M    сотрудник     0   \n",
       "\n",
       "    total_income                                purpose  \n",
       "12           NaN                        сыграть свадьбу  \n",
       "26           NaN                            образование  \n",
       "29           NaN       строительство жилой недвижимости  \n",
       "41           NaN       сделка с подержанным автомобилем  \n",
       "55           NaN                        сыграть свадьбу  \n",
       "65           NaN  операции с коммерческой недвижимостью  \n",
       "67           NaN                покупка жилья для семьи  \n",
       "72           NaN  операции с коммерческой недвижимостью  \n",
       "82           NaN                                  жилье  \n",
       "83           NaN                                  жилье  "
      ]
     },
     "execution_count": 50,
     "metadata": {},
     "output_type": "execute_result"
    }
   ],
   "source": [
    "try:\n",
    "    data_start = pd.read_csv('/datasets/data.csv')\n",
    "except:\n",
    "    data_start = pd.read_csv('https://code.s3.yandex.net/datasets/data.csv')\n",
    "\n",
    "(data_start.loc[(data_start['total_income'].isna() == True)]).head(10)"
   ]
  },
  {
   "cell_type": "markdown",
   "id": "82b9b8bf",
   "metadata": {
    "deletable": false,
    "editable": false,
    "id": "7b0487d6"
   },
   "source": [
    "#### 3.6 Объясните, почему заполнить пропуски медианным значением — лучшее решение для количественных переменных."
   ]
  },
  {
   "cell_type": "markdown",
   "id": "cda36c11",
   "metadata": {
    "deletable": false,
    "id": "7ecf2b8e"
   },
   "source": [
    "*Ответ:* Когда в выборке присутствуют аномально высокие или низкие значения, лучше использовать медианные значения. Они окажут меньшее влияние на выборку в целом, чем при использовании среднее арифметического."
   ]
  },
  {
   "cell_type": "markdown",
   "id": "c43ee51e",
   "metadata": {
    "deletable": false,
    "editable": false,
    "id": "6db5255a"
   },
   "source": [
    "### Шаг 4: общий вывод."
   ]
  },
  {
   "cell_type": "markdown",
   "id": "caa35676",
   "metadata": {
    "deletable": false,
    "id": "bad65432"
   },
   "source": [
    "Итак кредитный отдел банка попросил разобраться, влияет ли семейное положение и количество детей клиента на факт погашения кредита в срок.  \n",
    "Мы проанализировали 4 зависимости в 4-х заданиях и можем смело сказать, что на факт погашения кредита в срок влияет очень много разных факторов.   Например, на основании 4-х исследований, можно составить портрет заемщика, у которого был бы наименьший % просрочки кредита: *это человек преклонного возраста, без детей, вдовец (или вдова), с доходом из категории 'D' (от 30001 до 50000), который хочет взять кредит с целью провести операции с недвижимостью.*"
   ]
  },
  {
   "cell_type": "markdown",
   "id": "acad3b24",
   "metadata": {},
   "source": [
    "*Забавный факт: самый старый заемщик (75 лет) в графе цель получения кредита указал: заняться образованием. Вывод напрашивается сам - учиться никогда не позно.*"
   ]
  },
  {
   "cell_type": "markdown",
   "id": "bd8358cd",
   "metadata": {},
   "source": [
    "<hr>\n",
    "<div style=\"border:solid 2px; padding: 20px; color:#4b7e80\">\n",
    "<span style=\"color:#4b7e80\">Итак новая задачу: надо решить кейс используя методы pivot_table или groupby().<br><br>\n",
    "Хочу отметить, что тренажер по какой-то неведомой мне причине отправил не финальную версию на ревью. Возможно, он отправил последнюю точку сохранения или проблема в кроссбраузерности. Суть дела это не меняет, в финальной версии я подправил орфографию и пришел к тому, что функция должна быть одна и должна возвращать \"технический/сервисный/сводный\" массив (как раз на этой стадии, где я начал собирать 4 функции в один массив, проект и ушел на ревью). А дальше уже надо строить всю аналитику, выводы и визуализацию, оперируя столбцами этого датафрейма. В любом случае методов pivot_table или groupby() там нет, есть просто математика, которая делает тоже самое. Использовать методы pivot_table или groupby() проще, быстрее и понятнее.<br><br>\n",
    "В целом, я понимал, что писать такую функцию не самый оптимальный вариант расхода ресурсов. А разбираться в этой \"писанине\" - это вообще самая неблагодарная работа. Всегда проще написать свое решение, чем разбираться в таких функциях. Я похоже просто что-то где-то пропустил в теории и решил, что буду делать кейс через эту функцию.<br><br>\n",
    "Логика моего решения была в том, чтобы сделать универсальную функцию не для конкретного датафрейма, а для любого датафрейма нужного формата. Чтобы можно было взять любой датафрейм, сделать предобработку, применить функцию и на выходе получить читабельный результат для анализа. Постараться максимально автоматизировать процесс.<br><br>\n",
    "Попробуем реализовать тоже самое пользуясь методом pivot_table. В качестве примера разберем зависимость между возрастом заявителя и возвратом кредита в срок.</span></div>"
   ]
  },
  {
   "cell_type": "markdown",
   "id": "329eaf45",
   "metadata": {},
   "source": [
    "<b>Импортируем библиотеку numpy.</b>"
   ]
  },
  {
   "cell_type": "code",
   "execution_count": 51,
   "id": "de5ef10d",
   "metadata": {},
   "outputs": [],
   "source": [
    "import numpy as np"
   ]
  },
  {
   "cell_type": "markdown",
   "id": "069db44a",
   "metadata": {},
   "source": [
    "**Напишем функцию `'f5_df'`.**\n",
    "\n",
    "Функция должна вернуть ДатаФрейм `'df'`, где:\n",
    "   - Параметр функции `'clmn'` будет задавать название столбца в таблице `'data'`, где необходимо анализировать заявителей по группам\n",
    "   - Значения в столбце `'mean'` - это % заявителей, у которых были задолженности по кредитам\n",
    "   - Значения в столбце `'len'` - количество заявителей\n",
    "   - Index - это группы заявителей разбитые по условному признаку столбца `'clmn'`\n",
    "   - Используем `'try-except'` для поиска возможных ошибок\n",
    "\n",
    "Для построения ДатаФрейма `'df'` воспользуемся методом `'pivot_table'` и функциями `'np.mean'` и `'len'`."
   ]
  },
  {
   "cell_type": "code",
   "execution_count": 52,
   "id": "1c14840e",
   "metadata": {},
   "outputs": [],
   "source": [
    "def f5_df(clmn):\n",
    "    try:\n",
    "        df = []\n",
    "        df = pd.pivot_table(\n",
    "            data, \n",
    "            index = [clmn],\n",
    "            values = ['debt'],\n",
    "            aggfunc = [np.mean, len]\n",
    "            )\n",
    "        result = df\n",
    "    except:\n",
    "        result = 'Error f5'\n",
    "    return result"
   ]
  },
  {
   "cell_type": "markdown",
   "id": "eede0edd",
   "metadata": {},
   "source": [
    "**Применим функцию `'f5_df'` с параметром `'dob_years'`.**"
   ]
  },
  {
   "cell_type": "code",
   "execution_count": 53,
   "id": "ee3e79f1",
   "metadata": {},
   "outputs": [
    {
     "data": {
      "text/html": [
       "<div>\n",
       "<style scoped>\n",
       "    .dataframe tbody tr th:only-of-type {\n",
       "        vertical-align: middle;\n",
       "    }\n",
       "\n",
       "    .dataframe tbody tr th {\n",
       "        vertical-align: top;\n",
       "    }\n",
       "\n",
       "    .dataframe thead tr th {\n",
       "        text-align: left;\n",
       "    }\n",
       "\n",
       "    .dataframe thead tr:last-of-type th {\n",
       "        text-align: right;\n",
       "    }\n",
       "</style>\n",
       "<table border=\"1\" class=\"dataframe\">\n",
       "  <thead>\n",
       "    <tr>\n",
       "      <th></th>\n",
       "      <th>mean</th>\n",
       "      <th>len</th>\n",
       "    </tr>\n",
       "    <tr>\n",
       "      <th></th>\n",
       "      <th>debt</th>\n",
       "      <th>debt</th>\n",
       "    </tr>\n",
       "    <tr>\n",
       "      <th>dob_years</th>\n",
       "      <th></th>\n",
       "      <th></th>\n",
       "    </tr>\n",
       "  </thead>\n",
       "  <tbody>\n",
       "    <tr>\n",
       "      <th>0</th>\n",
       "      <td>0.080000</td>\n",
       "      <td>100</td>\n",
       "    </tr>\n",
       "    <tr>\n",
       "      <th>19</th>\n",
       "      <td>0.071429</td>\n",
       "      <td>14</td>\n",
       "    </tr>\n",
       "    <tr>\n",
       "      <th>20</th>\n",
       "      <td>0.078431</td>\n",
       "      <td>51</td>\n",
       "    </tr>\n",
       "    <tr>\n",
       "      <th>21</th>\n",
       "      <td>0.127273</td>\n",
       "      <td>110</td>\n",
       "    </tr>\n",
       "    <tr>\n",
       "      <th>22</th>\n",
       "      <td>0.136612</td>\n",
       "      <td>183</td>\n",
       "    </tr>\n",
       "    <tr>\n",
       "      <th>23</th>\n",
       "      <td>0.080000</td>\n",
       "      <td>250</td>\n",
       "    </tr>\n",
       "    <tr>\n",
       "      <th>24</th>\n",
       "      <td>0.091255</td>\n",
       "      <td>263</td>\n",
       "    </tr>\n",
       "    <tr>\n",
       "      <th>25</th>\n",
       "      <td>0.120787</td>\n",
       "      <td>356</td>\n",
       "    </tr>\n",
       "    <tr>\n",
       "      <th>26</th>\n",
       "      <td>0.115764</td>\n",
       "      <td>406</td>\n",
       "    </tr>\n",
       "    <tr>\n",
       "      <th>27</th>\n",
       "      <td>0.100000</td>\n",
       "      <td>490</td>\n",
       "    </tr>\n",
       "    <tr>\n",
       "      <th>28</th>\n",
       "      <td>0.113772</td>\n",
       "      <td>501</td>\n",
       "    </tr>\n",
       "    <tr>\n",
       "      <th>29</th>\n",
       "      <td>0.119926</td>\n",
       "      <td>542</td>\n",
       "    </tr>\n",
       "    <tr>\n",
       "      <th>30</th>\n",
       "      <td>0.101313</td>\n",
       "      <td>533</td>\n",
       "    </tr>\n",
       "    <tr>\n",
       "      <th>31</th>\n",
       "      <td>0.136937</td>\n",
       "      <td>555</td>\n",
       "    </tr>\n",
       "    <tr>\n",
       "      <th>32</th>\n",
       "      <td>0.100990</td>\n",
       "      <td>505</td>\n",
       "    </tr>\n",
       "    <tr>\n",
       "      <th>33</th>\n",
       "      <td>0.095321</td>\n",
       "      <td>577</td>\n",
       "    </tr>\n",
       "    <tr>\n",
       "      <th>34</th>\n",
       "      <td>0.105882</td>\n",
       "      <td>595</td>\n",
       "    </tr>\n",
       "    <tr>\n",
       "      <th>35</th>\n",
       "      <td>0.076672</td>\n",
       "      <td>613</td>\n",
       "    </tr>\n",
       "    <tr>\n",
       "      <th>36</th>\n",
       "      <td>0.077899</td>\n",
       "      <td>552</td>\n",
       "    </tr>\n",
       "    <tr>\n",
       "      <th>37</th>\n",
       "      <td>0.096226</td>\n",
       "      <td>530</td>\n",
       "    </tr>\n",
       "    <tr>\n",
       "      <th>38</th>\n",
       "      <td>0.107744</td>\n",
       "      <td>594</td>\n",
       "    </tr>\n",
       "    <tr>\n",
       "      <th>39</th>\n",
       "      <td>0.077058</td>\n",
       "      <td>571</td>\n",
       "    </tr>\n",
       "    <tr>\n",
       "      <th>40</th>\n",
       "      <td>0.078203</td>\n",
       "      <td>601</td>\n",
       "    </tr>\n",
       "    <tr>\n",
       "      <th>41</th>\n",
       "      <td>0.081531</td>\n",
       "      <td>601</td>\n",
       "    </tr>\n",
       "    <tr>\n",
       "      <th>42</th>\n",
       "      <td>0.071066</td>\n",
       "      <td>591</td>\n",
       "    </tr>\n",
       "    <tr>\n",
       "      <th>43</th>\n",
       "      <td>0.086444</td>\n",
       "      <td>509</td>\n",
       "    </tr>\n",
       "    <tr>\n",
       "      <th>44</th>\n",
       "      <td>0.075786</td>\n",
       "      <td>541</td>\n",
       "    </tr>\n",
       "    <tr>\n",
       "      <th>45</th>\n",
       "      <td>0.079108</td>\n",
       "      <td>493</td>\n",
       "    </tr>\n",
       "    <tr>\n",
       "      <th>46</th>\n",
       "      <td>0.081545</td>\n",
       "      <td>466</td>\n",
       "    </tr>\n",
       "    <tr>\n",
       "      <th>47</th>\n",
       "      <td>0.077568</td>\n",
       "      <td>477</td>\n",
       "    </tr>\n",
       "    <tr>\n",
       "      <th>48</th>\n",
       "      <td>0.061798</td>\n",
       "      <td>534</td>\n",
       "    </tr>\n",
       "    <tr>\n",
       "      <th>49</th>\n",
       "      <td>0.061386</td>\n",
       "      <td>505</td>\n",
       "    </tr>\n",
       "    <tr>\n",
       "      <th>50</th>\n",
       "      <td>0.090551</td>\n",
       "      <td>508</td>\n",
       "    </tr>\n",
       "    <tr>\n",
       "      <th>51</th>\n",
       "      <td>0.054054</td>\n",
       "      <td>444</td>\n",
       "    </tr>\n",
       "    <tr>\n",
       "      <th>52</th>\n",
       "      <td>0.057971</td>\n",
       "      <td>483</td>\n",
       "    </tr>\n",
       "    <tr>\n",
       "      <th>53</th>\n",
       "      <td>0.076586</td>\n",
       "      <td>457</td>\n",
       "    </tr>\n",
       "    <tr>\n",
       "      <th>54</th>\n",
       "      <td>0.065539</td>\n",
       "      <td>473</td>\n",
       "    </tr>\n",
       "    <tr>\n",
       "      <th>55</th>\n",
       "      <td>0.052154</td>\n",
       "      <td>441</td>\n",
       "    </tr>\n",
       "    <tr>\n",
       "      <th>56</th>\n",
       "      <td>0.066946</td>\n",
       "      <td>478</td>\n",
       "    </tr>\n",
       "    <tr>\n",
       "      <th>57</th>\n",
       "      <td>0.066225</td>\n",
       "      <td>453</td>\n",
       "    </tr>\n",
       "    <tr>\n",
       "      <th>58</th>\n",
       "      <td>0.052863</td>\n",
       "      <td>454</td>\n",
       "    </tr>\n",
       "    <tr>\n",
       "      <th>59</th>\n",
       "      <td>0.068182</td>\n",
       "      <td>440</td>\n",
       "    </tr>\n",
       "    <tr>\n",
       "      <th>60</th>\n",
       "      <td>0.058981</td>\n",
       "      <td>373</td>\n",
       "    </tr>\n",
       "    <tr>\n",
       "      <th>61</th>\n",
       "      <td>0.028409</td>\n",
       "      <td>352</td>\n",
       "    </tr>\n",
       "    <tr>\n",
       "      <th>62</th>\n",
       "      <td>0.051873</td>\n",
       "      <td>347</td>\n",
       "    </tr>\n",
       "    <tr>\n",
       "      <th>63</th>\n",
       "      <td>0.044776</td>\n",
       "      <td>268</td>\n",
       "    </tr>\n",
       "    <tr>\n",
       "      <th>64</th>\n",
       "      <td>0.046512</td>\n",
       "      <td>258</td>\n",
       "    </tr>\n",
       "    <tr>\n",
       "      <th>65</th>\n",
       "      <td>0.072539</td>\n",
       "      <td>193</td>\n",
       "    </tr>\n",
       "    <tr>\n",
       "      <th>66</th>\n",
       "      <td>0.043956</td>\n",
       "      <td>182</td>\n",
       "    </tr>\n",
       "    <tr>\n",
       "      <th>67</th>\n",
       "      <td>0.053892</td>\n",
       "      <td>167</td>\n",
       "    </tr>\n",
       "    <tr>\n",
       "      <th>68</th>\n",
       "      <td>0.080808</td>\n",
       "      <td>99</td>\n",
       "    </tr>\n",
       "    <tr>\n",
       "      <th>69</th>\n",
       "      <td>0.048193</td>\n",
       "      <td>83</td>\n",
       "    </tr>\n",
       "    <tr>\n",
       "      <th>70</th>\n",
       "      <td>0.046154</td>\n",
       "      <td>65</td>\n",
       "    </tr>\n",
       "    <tr>\n",
       "      <th>71</th>\n",
       "      <td>0.017857</td>\n",
       "      <td>56</td>\n",
       "    </tr>\n",
       "    <tr>\n",
       "      <th>72</th>\n",
       "      <td>0.060606</td>\n",
       "      <td>33</td>\n",
       "    </tr>\n",
       "    <tr>\n",
       "      <th>73</th>\n",
       "      <td>0.000000</td>\n",
       "      <td>8</td>\n",
       "    </tr>\n",
       "    <tr>\n",
       "      <th>74</th>\n",
       "      <td>0.000000</td>\n",
       "      <td>6</td>\n",
       "    </tr>\n",
       "    <tr>\n",
       "      <th>75</th>\n",
       "      <td>0.000000</td>\n",
       "      <td>1</td>\n",
       "    </tr>\n",
       "  </tbody>\n",
       "</table>\n",
       "</div>"
      ],
      "text/plain": [
       "               mean  len\n",
       "               debt debt\n",
       "dob_years               \n",
       "0          0.080000  100\n",
       "19         0.071429   14\n",
       "20         0.078431   51\n",
       "21         0.127273  110\n",
       "22         0.136612  183\n",
       "23         0.080000  250\n",
       "24         0.091255  263\n",
       "25         0.120787  356\n",
       "26         0.115764  406\n",
       "27         0.100000  490\n",
       "28         0.113772  501\n",
       "29         0.119926  542\n",
       "30         0.101313  533\n",
       "31         0.136937  555\n",
       "32         0.100990  505\n",
       "33         0.095321  577\n",
       "34         0.105882  595\n",
       "35         0.076672  613\n",
       "36         0.077899  552\n",
       "37         0.096226  530\n",
       "38         0.107744  594\n",
       "39         0.077058  571\n",
       "40         0.078203  601\n",
       "41         0.081531  601\n",
       "42         0.071066  591\n",
       "43         0.086444  509\n",
       "44         0.075786  541\n",
       "45         0.079108  493\n",
       "46         0.081545  466\n",
       "47         0.077568  477\n",
       "48         0.061798  534\n",
       "49         0.061386  505\n",
       "50         0.090551  508\n",
       "51         0.054054  444\n",
       "52         0.057971  483\n",
       "53         0.076586  457\n",
       "54         0.065539  473\n",
       "55         0.052154  441\n",
       "56         0.066946  478\n",
       "57         0.066225  453\n",
       "58         0.052863  454\n",
       "59         0.068182  440\n",
       "60         0.058981  373\n",
       "61         0.028409  352\n",
       "62         0.051873  347\n",
       "63         0.044776  268\n",
       "64         0.046512  258\n",
       "65         0.072539  193\n",
       "66         0.043956  182\n",
       "67         0.053892  167\n",
       "68         0.080808   99\n",
       "69         0.048193   83\n",
       "70         0.046154   65\n",
       "71         0.017857   56\n",
       "72         0.060606   33\n",
       "73         0.000000    8\n",
       "74         0.000000    6\n",
       "75         0.000000    1"
      ]
     },
     "execution_count": 53,
     "metadata": {},
     "output_type": "execute_result"
    }
   ],
   "source": [
    "df = f5_df('dob_years')\n",
    "df"
   ]
  },
  {
   "cell_type": "markdown",
   "id": "79a87cd7",
   "metadata": {},
   "source": [
    "**Визуализируем результат с помощью линейного графика lineplot.**"
   ]
  },
  {
   "cell_type": "code",
   "execution_count": 54,
   "id": "20cde4bd",
   "metadata": {},
   "outputs": [
    {
     "data": {
      "image/png": "[encoded data removed]",
      "text/plain": [
       "<Figure size 640x480 with 1 Axes>"
      ]
     },
     "metadata": {},
     "output_type": "display_data"
    }
   ],
   "source": [
    "sns.set_style('whitegrid')\n",
    "ax = sns.lineplot(x = df.index , y = df['mean', 'debt'].tolist())"
   ]
  },
  {
   "cell_type": "markdown",
   "id": "cd76f2af",
   "metadata": {},
   "source": [
    "**Попробуем улучшить результат избавившись от тех строк в ДатаФрейме `'df'`, где количество значений менее 1% от всей выборки.**<br>\n",
    "*Отдельно стоит отметить, что 100 человек при заполнении анкеты указали \"0\" в графе возраст. Их мы тоже удалим (отдельно код под них можно не писать, они подпадают под условие <1%).*"
   ]
  },
  {
   "cell_type": "code",
   "execution_count": 55,
   "id": "bde9e8e3",
   "metadata": {},
   "outputs": [
    {
     "data": {
      "text/html": [
       "<div>\n",
       "<style scoped>\n",
       "    .dataframe tbody tr th:only-of-type {\n",
       "        vertical-align: middle;\n",
       "    }\n",
       "\n",
       "    .dataframe tbody tr th {\n",
       "        vertical-align: top;\n",
       "    }\n",
       "\n",
       "    .dataframe thead tr th {\n",
       "        text-align: left;\n",
       "    }\n",
       "\n",
       "    .dataframe thead tr:last-of-type th {\n",
       "        text-align: right;\n",
       "    }\n",
       "</style>\n",
       "<table border=\"1\" class=\"dataframe\">\n",
       "  <thead>\n",
       "    <tr>\n",
       "      <th></th>\n",
       "      <th>mean</th>\n",
       "      <th>len</th>\n",
       "    </tr>\n",
       "    <tr>\n",
       "      <th></th>\n",
       "      <th>debt</th>\n",
       "      <th>debt</th>\n",
       "    </tr>\n",
       "    <tr>\n",
       "      <th>dob_years</th>\n",
       "      <th></th>\n",
       "      <th></th>\n",
       "    </tr>\n",
       "  </thead>\n",
       "  <tbody>\n",
       "    <tr>\n",
       "      <th>23</th>\n",
       "      <td>0.080000</td>\n",
       "      <td>250</td>\n",
       "    </tr>\n",
       "    <tr>\n",
       "      <th>24</th>\n",
       "      <td>0.091255</td>\n",
       "      <td>263</td>\n",
       "    </tr>\n",
       "    <tr>\n",
       "      <th>25</th>\n",
       "      <td>0.120787</td>\n",
       "      <td>356</td>\n",
       "    </tr>\n",
       "    <tr>\n",
       "      <th>26</th>\n",
       "      <td>0.115764</td>\n",
       "      <td>406</td>\n",
       "    </tr>\n",
       "    <tr>\n",
       "      <th>27</th>\n",
       "      <td>0.100000</td>\n",
       "      <td>490</td>\n",
       "    </tr>\n",
       "    <tr>\n",
       "      <th>28</th>\n",
       "      <td>0.113772</td>\n",
       "      <td>501</td>\n",
       "    </tr>\n",
       "    <tr>\n",
       "      <th>29</th>\n",
       "      <td>0.119926</td>\n",
       "      <td>542</td>\n",
       "    </tr>\n",
       "    <tr>\n",
       "      <th>30</th>\n",
       "      <td>0.101313</td>\n",
       "      <td>533</td>\n",
       "    </tr>\n",
       "    <tr>\n",
       "      <th>31</th>\n",
       "      <td>0.136937</td>\n",
       "      <td>555</td>\n",
       "    </tr>\n",
       "    <tr>\n",
       "      <th>32</th>\n",
       "      <td>0.100990</td>\n",
       "      <td>505</td>\n",
       "    </tr>\n",
       "    <tr>\n",
       "      <th>33</th>\n",
       "      <td>0.095321</td>\n",
       "      <td>577</td>\n",
       "    </tr>\n",
       "    <tr>\n",
       "      <th>34</th>\n",
       "      <td>0.105882</td>\n",
       "      <td>595</td>\n",
       "    </tr>\n",
       "    <tr>\n",
       "      <th>35</th>\n",
       "      <td>0.076672</td>\n",
       "      <td>613</td>\n",
       "    </tr>\n",
       "    <tr>\n",
       "      <th>36</th>\n",
       "      <td>0.077899</td>\n",
       "      <td>552</td>\n",
       "    </tr>\n",
       "    <tr>\n",
       "      <th>37</th>\n",
       "      <td>0.096226</td>\n",
       "      <td>530</td>\n",
       "    </tr>\n",
       "    <tr>\n",
       "      <th>38</th>\n",
       "      <td>0.107744</td>\n",
       "      <td>594</td>\n",
       "    </tr>\n",
       "    <tr>\n",
       "      <th>39</th>\n",
       "      <td>0.077058</td>\n",
       "      <td>571</td>\n",
       "    </tr>\n",
       "    <tr>\n",
       "      <th>40</th>\n",
       "      <td>0.078203</td>\n",
       "      <td>601</td>\n",
       "    </tr>\n",
       "    <tr>\n",
       "      <th>41</th>\n",
       "      <td>0.081531</td>\n",
       "      <td>601</td>\n",
       "    </tr>\n",
       "    <tr>\n",
       "      <th>42</th>\n",
       "      <td>0.071066</td>\n",
       "      <td>591</td>\n",
       "    </tr>\n",
       "    <tr>\n",
       "      <th>43</th>\n",
       "      <td>0.086444</td>\n",
       "      <td>509</td>\n",
       "    </tr>\n",
       "    <tr>\n",
       "      <th>44</th>\n",
       "      <td>0.075786</td>\n",
       "      <td>541</td>\n",
       "    </tr>\n",
       "    <tr>\n",
       "      <th>45</th>\n",
       "      <td>0.079108</td>\n",
       "      <td>493</td>\n",
       "    </tr>\n",
       "    <tr>\n",
       "      <th>46</th>\n",
       "      <td>0.081545</td>\n",
       "      <td>466</td>\n",
       "    </tr>\n",
       "    <tr>\n",
       "      <th>47</th>\n",
       "      <td>0.077568</td>\n",
       "      <td>477</td>\n",
       "    </tr>\n",
       "    <tr>\n",
       "      <th>48</th>\n",
       "      <td>0.061798</td>\n",
       "      <td>534</td>\n",
       "    </tr>\n",
       "    <tr>\n",
       "      <th>49</th>\n",
       "      <td>0.061386</td>\n",
       "      <td>505</td>\n",
       "    </tr>\n",
       "    <tr>\n",
       "      <th>50</th>\n",
       "      <td>0.090551</td>\n",
       "      <td>508</td>\n",
       "    </tr>\n",
       "    <tr>\n",
       "      <th>51</th>\n",
       "      <td>0.054054</td>\n",
       "      <td>444</td>\n",
       "    </tr>\n",
       "    <tr>\n",
       "      <th>52</th>\n",
       "      <td>0.057971</td>\n",
       "      <td>483</td>\n",
       "    </tr>\n",
       "    <tr>\n",
       "      <th>53</th>\n",
       "      <td>0.076586</td>\n",
       "      <td>457</td>\n",
       "    </tr>\n",
       "    <tr>\n",
       "      <th>54</th>\n",
       "      <td>0.065539</td>\n",
       "      <td>473</td>\n",
       "    </tr>\n",
       "    <tr>\n",
       "      <th>55</th>\n",
       "      <td>0.052154</td>\n",
       "      <td>441</td>\n",
       "    </tr>\n",
       "    <tr>\n",
       "      <th>56</th>\n",
       "      <td>0.066946</td>\n",
       "      <td>478</td>\n",
       "    </tr>\n",
       "    <tr>\n",
       "      <th>57</th>\n",
       "      <td>0.066225</td>\n",
       "      <td>453</td>\n",
       "    </tr>\n",
       "    <tr>\n",
       "      <th>58</th>\n",
       "      <td>0.052863</td>\n",
       "      <td>454</td>\n",
       "    </tr>\n",
       "    <tr>\n",
       "      <th>59</th>\n",
       "      <td>0.068182</td>\n",
       "      <td>440</td>\n",
       "    </tr>\n",
       "    <tr>\n",
       "      <th>60</th>\n",
       "      <td>0.058981</td>\n",
       "      <td>373</td>\n",
       "    </tr>\n",
       "    <tr>\n",
       "      <th>61</th>\n",
       "      <td>0.028409</td>\n",
       "      <td>352</td>\n",
       "    </tr>\n",
       "    <tr>\n",
       "      <th>62</th>\n",
       "      <td>0.051873</td>\n",
       "      <td>347</td>\n",
       "    </tr>\n",
       "    <tr>\n",
       "      <th>63</th>\n",
       "      <td>0.044776</td>\n",
       "      <td>268</td>\n",
       "    </tr>\n",
       "    <tr>\n",
       "      <th>64</th>\n",
       "      <td>0.046512</td>\n",
       "      <td>258</td>\n",
       "    </tr>\n",
       "  </tbody>\n",
       "</table>\n",
       "</div>"
      ],
      "text/plain": [
       "               mean  len\n",
       "               debt debt\n",
       "dob_years               \n",
       "23         0.080000  250\n",
       "24         0.091255  263\n",
       "25         0.120787  356\n",
       "26         0.115764  406\n",
       "27         0.100000  490\n",
       "28         0.113772  501\n",
       "29         0.119926  542\n",
       "30         0.101313  533\n",
       "31         0.136937  555\n",
       "32         0.100990  505\n",
       "33         0.095321  577\n",
       "34         0.105882  595\n",
       "35         0.076672  613\n",
       "36         0.077899  552\n",
       "37         0.096226  530\n",
       "38         0.107744  594\n",
       "39         0.077058  571\n",
       "40         0.078203  601\n",
       "41         0.081531  601\n",
       "42         0.071066  591\n",
       "43         0.086444  509\n",
       "44         0.075786  541\n",
       "45         0.079108  493\n",
       "46         0.081545  466\n",
       "47         0.077568  477\n",
       "48         0.061798  534\n",
       "49         0.061386  505\n",
       "50         0.090551  508\n",
       "51         0.054054  444\n",
       "52         0.057971  483\n",
       "53         0.076586  457\n",
       "54         0.065539  473\n",
       "55         0.052154  441\n",
       "56         0.066946  478\n",
       "57         0.066225  453\n",
       "58         0.052863  454\n",
       "59         0.068182  440\n",
       "60         0.058981  373\n",
       "61         0.028409  352\n",
       "62         0.051873  347\n",
       "63         0.044776  268\n",
       "64         0.046512  258"
      ]
     },
     "execution_count": 55,
     "metadata": {},
     "output_type": "execute_result"
    }
   ],
   "source": [
    "df = df.loc[(df['len', 'debt'] >= (data['debt'].count()/100))]\n",
    "df"
   ]
  },
  {
   "cell_type": "markdown",
   "id": "1560e2cf",
   "metadata": {},
   "source": [
    "**Визуализируем результат.**"
   ]
  },
  {
   "cell_type": "code",
   "execution_count": 56,
   "id": "3bfab899",
   "metadata": {},
   "outputs": [
    {
     "data": {
      "image/png": "[encoded data removed]",
      "text/plain": [
       "<Figure size 640x480 with 1 Axes>"
      ]
     },
     "metadata": {},
     "output_type": "display_data"
    }
   ],
   "source": [
    "sns.set_style('whitegrid')\n",
    "ax = sns.lineplot(x = df.index , y = df['mean', 'debt'].tolist())"
   ]
  },
  {
   "cell_type": "markdown",
   "id": "0ad844c3",
   "metadata": {},
   "source": [
    "**Вывод:** <br>\n",
    "    1. Мы видим, что график не равномерный, но общий тренд прослеживается. Скорее всего это из-за высоких значений погрешности, вызванной недостаточным количеством данных для анализа.<br>\n",
    "    2. Мы видим зависимость между возрастом заявителя и возвратом кредита в срок - чем старше заявитель, тем выше вероятность, что заявитель вернет кредит в срок."
   ]
  },
  {
   "cell_type": "markdown",
   "id": "f8b4cbc4",
   "metadata": {},
   "source": [
    "**Используем функцию и посмотрим кто больше склонен к просрочкам кредита мужчины или женщины.**<br>\n",
    "*Пропустим все промежуточные шаги и сразу визуализируем результат.*"
   ]
  },
  {
   "cell_type": "code",
   "execution_count": 57,
   "id": "cc9b8421",
   "metadata": {},
   "outputs": [
    {
     "data": {
      "image/png": "[encoded data removed]",
      "text/plain": [
       "<Figure size 640x480 with 1 Axes>"
      ]
     },
     "metadata": {},
     "output_type": "display_data"
    }
   ],
   "source": [
    "df = f5_df('gender')\n",
    "sns.set_style('whitegrid')\n",
    "ax = sns.barplot(x = df.index , y = df['mean', 'debt'].tolist())"
   ]
  },
  {
   "cell_type": "markdown",
   "id": "fbb93333",
   "metadata": {},
   "source": [
    "**Вывод:** <br>\n",
    "    1. Кто-то не смог определиться со своим полом.<br>\n",
    "    2. У мужчин доля просрочек по кредитам выше."
   ]
  },
  {
   "cell_type": "markdown",
   "id": "65c9521c",
   "metadata": {},
   "source": [
    "### Шаг 4.1: общий вывод."
   ]
  },
  {
   "cell_type": "markdown",
   "id": "78aac68d",
   "metadata": {},
   "source": [
    "Итак кредитный отдел банка попросил разобраться, влияет ли семейное положение и количество детей клиента на факт погашения кредита в срок.<br>\n",
    "Мы написали универсальную функцию, с помощью которой можно анализировать исходный ДатаФрейм по любым признакам, проанализировали 4 зависимости в 4-х заданиях и можем смело сказать, что на факт погашения кредита в срок влияет очень много разных факторов.<br>\n",
    "Например, на основании 4-х исследований, можно составить портрет заемщика, у которого был бы наименьший % просрочки кредита: *это женщина преклонного возраста, без детей, вдова, с доходом из категории 'D' (от 30001 до 50000), которая хочет взять кредит с целью провести операции с недвижимостью.*<br>\n",
    "По аналогии составим портрет высоко рискованного заемщика: *это женатый молодой человек с 4-мя детьми, с доходом из категории 'E' (до 30000), который хочет взять кредит с целью операций с автомобилем.*<br>\n",
    "С целью уменьшения погрешностей и более качественного анализа данных, предлагаю кредитному отделу предоставлять больший объем анкет пользователей."
   ]
  }
 ],
 "metadata": {
  "ExecuteTimeLog": [
   {
    "duration": 54,
    "start_time": "2022-08-13T21:58:38.739Z"
   },
   {
    "duration": 487,
    "start_time": "2022-08-13T22:03:13.050Z"
   },
   {
    "duration": 30,
    "start_time": "2022-08-13T22:03:13.541Z"
   },
   {
    "duration": 16,
    "start_time": "2022-08-13T22:03:13.572Z"
   },
   {
    "duration": 10,
    "start_time": "2022-08-13T22:03:13.590Z"
   },
   {
    "duration": 63,
    "start_time": "2022-08-13T22:03:13.601Z"
   },
   {
    "duration": 6,
    "start_time": "2022-08-13T22:03:13.666Z"
   },
   {
    "duration": 24,
    "start_time": "2022-08-13T22:03:13.674Z"
   },
   {
    "duration": 10,
    "start_time": "2022-08-13T22:03:13.700Z"
   },
   {
    "duration": 8,
    "start_time": "2022-08-13T22:03:13.712Z"
   },
   {
    "duration": 5,
    "start_time": "2022-08-13T22:03:13.725Z"
   },
   {
    "duration": 45,
    "start_time": "2022-08-13T22:03:13.738Z"
   },
   {
    "duration": 11,
    "start_time": "2022-08-13T22:03:13.784Z"
   },
   {
    "duration": 6,
    "start_time": "2022-08-13T22:03:13.800Z"
   },
   {
    "duration": 34,
    "start_time": "2022-08-13T22:03:13.808Z"
   },
   {
    "duration": 42,
    "start_time": "2022-08-13T22:03:13.845Z"
   },
   {
    "duration": 17,
    "start_time": "2022-08-13T22:03:13.890Z"
   },
   {
    "duration": 4,
    "start_time": "2022-08-13T22:03:13.909Z"
   },
   {
    "duration": 25,
    "start_time": "2022-08-13T22:03:13.915Z"
   },
   {
    "duration": 21,
    "start_time": "2022-08-13T22:03:13.941Z"
   },
   {
    "duration": 6,
    "start_time": "2022-08-13T22:03:13.964Z"
   },
   {
    "duration": 16,
    "start_time": "2022-08-13T22:03:13.972Z"
   },
   {
    "duration": 31,
    "start_time": "2022-08-13T22:03:13.990Z"
   },
   {
    "duration": 7,
    "start_time": "2022-08-13T22:03:14.023Z"
   },
   {
    "duration": 7,
    "start_time": "2022-08-13T22:03:14.031Z"
   },
   {
    "duration": 12,
    "start_time": "2022-08-13T22:03:14.040Z"
   },
   {
    "duration": 59,
    "start_time": "2022-08-14T08:11:05.612Z"
   },
   {
    "duration": 8,
    "start_time": "2022-08-14T08:11:33.206Z"
   },
   {
    "duration": 9,
    "start_time": "2022-08-14T08:11:45.894Z"
   },
   {
    "duration": 566,
    "start_time": "2022-08-14T08:12:11.149Z"
   },
   {
    "duration": 29,
    "start_time": "2022-08-14T08:12:11.717Z"
   },
   {
    "duration": 19,
    "start_time": "2022-08-14T08:12:11.747Z"
   },
   {
    "duration": 24,
    "start_time": "2022-08-14T08:12:11.768Z"
   },
   {
    "duration": 66,
    "start_time": "2022-08-14T08:12:11.795Z"
   },
   {
    "duration": 5,
    "start_time": "2022-08-14T08:12:11.863Z"
   },
   {
    "duration": 28,
    "start_time": "2022-08-14T08:12:11.870Z"
   },
   {
    "duration": 11,
    "start_time": "2022-08-14T08:12:11.900Z"
   },
   {
    "duration": 17,
    "start_time": "2022-08-14T08:12:11.913Z"
   },
   {
    "duration": 7,
    "start_time": "2022-08-14T08:12:11.936Z"
   },
   {
    "duration": 69,
    "start_time": "2022-08-14T08:12:11.945Z"
   },
   {
    "duration": 14,
    "start_time": "2022-08-14T08:12:12.016Z"
   },
   {
    "duration": 6,
    "start_time": "2022-08-14T08:12:12.032Z"
   },
   {
    "duration": 29,
    "start_time": "2022-08-14T08:12:12.040Z"
   },
   {
    "duration": 40,
    "start_time": "2022-08-14T08:12:12.071Z"
   },
   {
    "duration": 20,
    "start_time": "2022-08-14T08:12:12.113Z"
   },
   {
    "duration": 7,
    "start_time": "2022-08-14T08:12:12.135Z"
   },
   {
    "duration": 22,
    "start_time": "2022-08-14T08:12:12.143Z"
   },
   {
    "duration": 19,
    "start_time": "2022-08-14T08:12:12.166Z"
   },
   {
    "duration": 10,
    "start_time": "2022-08-14T08:12:12.192Z"
   },
   {
    "duration": 19,
    "start_time": "2022-08-14T08:12:12.204Z"
   },
   {
    "duration": 32,
    "start_time": "2022-08-14T08:12:12.225Z"
   },
   {
    "duration": 11,
    "start_time": "2022-08-14T08:12:12.259Z"
   },
   {
    "duration": 7,
    "start_time": "2022-08-14T08:12:12.272Z"
   },
   {
    "duration": 4,
    "start_time": "2022-08-14T08:12:12.281Z"
   },
   {
    "duration": 22,
    "start_time": "2022-08-14T08:14:11.422Z"
   },
   {
    "duration": 75,
    "start_time": "2022-08-14T08:14:54.260Z"
   },
   {
    "duration": 90,
    "start_time": "2022-08-14T08:15:35.429Z"
   },
   {
    "duration": 25,
    "start_time": "2022-08-14T08:15:53.874Z"
   },
   {
    "duration": 23,
    "start_time": "2022-08-14T08:18:47.372Z"
   },
   {
    "duration": 24,
    "start_time": "2022-08-14T08:19:07.704Z"
   },
   {
    "duration": 24,
    "start_time": "2022-08-14T08:26:36.751Z"
   },
   {
    "duration": 1599,
    "start_time": "2022-08-14T08:36:09.764Z"
   },
   {
    "duration": 133,
    "start_time": "2022-08-14T08:37:26.204Z"
   },
   {
    "duration": 88,
    "start_time": "2022-08-14T08:37:43.233Z"
   },
   {
    "duration": 34,
    "start_time": "2022-08-14T08:37:48.601Z"
   },
   {
    "duration": 33,
    "start_time": "2022-08-14T08:37:59.001Z"
   },
   {
    "duration": 138,
    "start_time": "2022-08-14T08:38:14.064Z"
   },
   {
    "duration": 200,
    "start_time": "2022-08-14T08:41:02.500Z"
   },
   {
    "duration": 183,
    "start_time": "2022-08-14T08:41:29.703Z"
   },
   {
    "duration": 27,
    "start_time": "2022-08-14T08:42:11.603Z"
   },
   {
    "duration": 110,
    "start_time": "2022-08-14T08:42:15.116Z"
   },
   {
    "duration": 128,
    "start_time": "2022-08-14T08:42:16.091Z"
   },
   {
    "duration": 22,
    "start_time": "2022-08-14T09:05:19.689Z"
   },
   {
    "duration": 137,
    "start_time": "2022-08-14T09:05:23.223Z"
   },
   {
    "duration": 126,
    "start_time": "2022-08-14T09:05:26.911Z"
   },
   {
    "duration": 117,
    "start_time": "2022-08-14T09:11:04.991Z"
   },
   {
    "duration": 184,
    "start_time": "2022-08-14T09:11:51.157Z"
   },
   {
    "duration": 550,
    "start_time": "2022-08-14T09:12:48.251Z"
   },
   {
    "duration": 31,
    "start_time": "2022-08-14T09:12:48.804Z"
   },
   {
    "duration": 17,
    "start_time": "2022-08-14T09:12:48.837Z"
   },
   {
    "duration": 14,
    "start_time": "2022-08-14T09:12:48.855Z"
   },
   {
    "duration": 62,
    "start_time": "2022-08-14T09:12:48.872Z"
   },
   {
    "duration": 5,
    "start_time": "2022-08-14T09:12:48.936Z"
   },
   {
    "duration": 14,
    "start_time": "2022-08-14T09:12:48.942Z"
   },
   {
    "duration": 7,
    "start_time": "2022-08-14T09:12:48.958Z"
   },
   {
    "duration": 37,
    "start_time": "2022-08-14T09:12:48.967Z"
   },
   {
    "duration": 9,
    "start_time": "2022-08-14T09:12:49.006Z"
   },
   {
    "duration": 43,
    "start_time": "2022-08-14T09:12:49.017Z"
   },
   {
    "duration": 11,
    "start_time": "2022-08-14T09:12:49.062Z"
   },
   {
    "duration": 6,
    "start_time": "2022-08-14T09:12:49.092Z"
   },
   {
    "duration": 15,
    "start_time": "2022-08-14T09:12:49.102Z"
   },
   {
    "duration": 25,
    "start_time": "2022-08-14T09:12:49.119Z"
   },
   {
    "duration": 46,
    "start_time": "2022-08-14T09:12:49.146Z"
   },
   {
    "duration": 4,
    "start_time": "2022-08-14T09:12:49.194Z"
   },
   {
    "duration": 28,
    "start_time": "2022-08-14T09:12:49.200Z"
   },
   {
    "duration": 9,
    "start_time": "2022-08-14T09:12:49.231Z"
   },
   {
    "duration": 5,
    "start_time": "2022-08-14T09:12:49.242Z"
   },
   {
    "duration": 46,
    "start_time": "2022-08-14T09:12:49.249Z"
   },
   {
    "duration": 842,
    "start_time": "2022-08-14T09:12:49.297Z"
   },
   {
    "duration": 167,
    "start_time": "2022-08-14T09:12:50.141Z"
   },
   {
    "duration": 139,
    "start_time": "2022-08-14T09:12:50.310Z"
   },
   {
    "duration": 126,
    "start_time": "2022-08-14T09:12:50.451Z"
   },
   {
    "duration": 119,
    "start_time": "2022-08-14T09:12:50.579Z"
   },
   {
    "duration": 119,
    "start_time": "2022-08-14T09:12:50.701Z"
   },
   {
    "duration": 131,
    "start_time": "2022-08-14T09:12:50.822Z"
   },
   {
    "duration": 137,
    "start_time": "2022-08-14T09:12:50.955Z"
   },
   {
    "duration": 108,
    "start_time": "2022-08-14T09:12:51.093Z"
   },
   {
    "duration": 2,
    "start_time": "2022-08-14T09:12:51.203Z"
   },
   {
    "duration": 6,
    "start_time": "2022-08-14T09:12:51.207Z"
   },
   {
    "duration": 5,
    "start_time": "2022-08-14T09:12:51.215Z"
   },
   {
    "duration": 105,
    "start_time": "2022-08-14T09:14:02.586Z"
   },
   {
    "duration": 3,
    "start_time": "2022-08-14T09:36:57.110Z"
   },
   {
    "duration": 90,
    "start_time": "2022-08-14T09:39:19.209Z"
   },
   {
    "duration": 92,
    "start_time": "2022-08-14T09:39:30.940Z"
   },
   {
    "duration": 192,
    "start_time": "2022-08-14T09:56:28.582Z"
   },
   {
    "duration": 79,
    "start_time": "2022-08-14T10:07:04.096Z"
   },
   {
    "duration": 116,
    "start_time": "2022-08-14T10:07:04.513Z"
   },
   {
    "duration": 89,
    "start_time": "2022-08-14T10:15:30.120Z"
   },
   {
    "duration": 71,
    "start_time": "2022-08-14T10:15:50.195Z"
   },
   {
    "duration": 8,
    "start_time": "2022-08-14T10:27:51.804Z"
   },
   {
    "duration": 11,
    "start_time": "2022-08-14T10:30:10.889Z"
   },
   {
    "duration": 16,
    "start_time": "2022-08-14T10:31:02.654Z"
   },
   {
    "duration": 9,
    "start_time": "2022-08-14T10:32:29.836Z"
   },
   {
    "duration": 141,
    "start_time": "2022-08-14T10:32:57.826Z"
   },
   {
    "duration": 8,
    "start_time": "2022-08-14T10:33:34.577Z"
   },
   {
    "duration": 213,
    "start_time": "2022-08-14T10:33:42.379Z"
   },
   {
    "duration": 7,
    "start_time": "2022-08-14T10:33:50.546Z"
   },
   {
    "duration": 126,
    "start_time": "2022-08-14T10:33:51.344Z"
   },
   {
    "duration": 8,
    "start_time": "2022-08-14T10:39:00.188Z"
   },
   {
    "duration": 147,
    "start_time": "2022-08-14T10:39:16.348Z"
   },
   {
    "duration": 151,
    "start_time": "2022-08-14T10:48:44.884Z"
   },
   {
    "duration": 545,
    "start_time": "2022-08-14T10:48:51.409Z"
   },
   {
    "duration": 32,
    "start_time": "2022-08-14T10:48:51.956Z"
   },
   {
    "duration": 40,
    "start_time": "2022-08-14T10:48:51.992Z"
   },
   {
    "duration": 16,
    "start_time": "2022-08-14T10:48:52.036Z"
   },
   {
    "duration": 57,
    "start_time": "2022-08-14T10:48:52.054Z"
   },
   {
    "duration": 6,
    "start_time": "2022-08-14T10:48:52.114Z"
   },
   {
    "duration": 38,
    "start_time": "2022-08-14T10:48:52.122Z"
   },
   {
    "duration": 19,
    "start_time": "2022-08-14T10:48:52.163Z"
   },
   {
    "duration": 31,
    "start_time": "2022-08-14T10:48:52.184Z"
   },
   {
    "duration": 8,
    "start_time": "2022-08-14T10:48:52.218Z"
   },
   {
    "duration": 62,
    "start_time": "2022-08-14T10:48:52.228Z"
   },
   {
    "duration": 11,
    "start_time": "2022-08-14T10:48:52.292Z"
   },
   {
    "duration": 19,
    "start_time": "2022-08-14T10:48:52.304Z"
   },
   {
    "duration": 18,
    "start_time": "2022-08-14T10:48:52.325Z"
   },
   {
    "duration": 31,
    "start_time": "2022-08-14T10:48:52.345Z"
   },
   {
    "duration": 25,
    "start_time": "2022-08-14T10:48:52.377Z"
   },
   {
    "duration": 4,
    "start_time": "2022-08-14T10:48:52.403Z"
   },
   {
    "duration": 28,
    "start_time": "2022-08-14T10:48:52.409Z"
   },
   {
    "duration": 22,
    "start_time": "2022-08-14T10:48:52.438Z"
   },
   {
    "duration": 16,
    "start_time": "2022-08-14T10:48:52.462Z"
   },
   {
    "duration": 18,
    "start_time": "2022-08-14T10:48:52.479Z"
   },
   {
    "duration": 871,
    "start_time": "2022-08-14T10:48:52.499Z"
   },
   {
    "duration": 143,
    "start_time": "2022-08-14T10:48:53.372Z"
   },
   {
    "duration": 9,
    "start_time": "2022-08-14T10:48:53.516Z"
   },
   {
    "duration": 155,
    "start_time": "2022-08-14T10:48:53.526Z"
   },
   {
    "duration": 135,
    "start_time": "2022-08-14T10:48:53.683Z"
   },
   {
    "duration": 111,
    "start_time": "2022-08-14T10:48:53.820Z"
   },
   {
    "duration": 113,
    "start_time": "2022-08-14T10:48:53.934Z"
   },
   {
    "duration": 120,
    "start_time": "2022-08-14T10:48:54.048Z"
   },
   {
    "duration": 122,
    "start_time": "2022-08-14T10:48:54.170Z"
   },
   {
    "duration": 120,
    "start_time": "2022-08-14T10:48:54.293Z"
   },
   {
    "duration": 109,
    "start_time": "2022-08-14T10:48:54.415Z"
   },
   {
    "duration": 2,
    "start_time": "2022-08-14T10:48:54.526Z"
   },
   {
    "duration": 14,
    "start_time": "2022-08-14T10:48:54.530Z"
   },
   {
    "duration": 6,
    "start_time": "2022-08-14T10:48:54.545Z"
   },
   {
    "duration": 10,
    "start_time": "2022-08-14T10:52:07.978Z"
   },
   {
    "duration": 200,
    "start_time": "2022-08-14T10:52:11.767Z"
   },
   {
    "duration": 204,
    "start_time": "2022-08-14T10:52:20.552Z"
   },
   {
    "duration": 12,
    "start_time": "2022-08-14T10:52:51.962Z"
   },
   {
    "duration": 126,
    "start_time": "2022-08-14T10:52:52.570Z"
   },
   {
    "duration": 11,
    "start_time": "2022-08-14T10:53:51.916Z"
   },
   {
    "duration": 133,
    "start_time": "2022-08-14T10:53:54.395Z"
   },
   {
    "duration": 9,
    "start_time": "2022-08-14T10:55:27.532Z"
   },
   {
    "duration": 160,
    "start_time": "2022-08-14T10:55:37.092Z"
   },
   {
    "duration": 109,
    "start_time": "2022-08-14T10:55:51.666Z"
   },
   {
    "duration": 528,
    "start_time": "2022-08-14T10:58:45.548Z"
   },
   {
    "duration": 27,
    "start_time": "2022-08-14T10:58:46.078Z"
   },
   {
    "duration": 17,
    "start_time": "2022-08-14T10:58:46.107Z"
   },
   {
    "duration": 13,
    "start_time": "2022-08-14T10:58:46.127Z"
   },
   {
    "duration": 56,
    "start_time": "2022-08-14T10:58:46.141Z"
   },
   {
    "duration": 5,
    "start_time": "2022-08-14T10:58:46.200Z"
   },
   {
    "duration": 14,
    "start_time": "2022-08-14T10:58:46.207Z"
   },
   {
    "duration": 9,
    "start_time": "2022-08-14T10:58:46.223Z"
   },
   {
    "duration": 12,
    "start_time": "2022-08-14T10:58:46.234Z"
   },
   {
    "duration": 32,
    "start_time": "2022-08-14T10:58:46.250Z"
   },
   {
    "duration": 47,
    "start_time": "2022-08-14T10:58:46.283Z"
   },
   {
    "duration": 12,
    "start_time": "2022-08-14T10:58:46.332Z"
   },
   {
    "duration": 5,
    "start_time": "2022-08-14T10:58:46.346Z"
   },
   {
    "duration": 21,
    "start_time": "2022-08-14T10:58:46.353Z"
   },
   {
    "duration": 37,
    "start_time": "2022-08-14T10:58:46.376Z"
   },
   {
    "duration": 21,
    "start_time": "2022-08-14T10:58:46.414Z"
   },
   {
    "duration": 7,
    "start_time": "2022-08-14T10:58:46.437Z"
   },
   {
    "duration": 17,
    "start_time": "2022-08-14T10:58:46.446Z"
   },
   {
    "duration": 28,
    "start_time": "2022-08-14T10:58:46.465Z"
   },
   {
    "duration": 11,
    "start_time": "2022-08-14T10:58:46.495Z"
   },
   {
    "duration": 17,
    "start_time": "2022-08-14T10:58:46.508Z"
   },
   {
    "duration": 913,
    "start_time": "2022-08-14T10:58:46.526Z"
   },
   {
    "duration": 154,
    "start_time": "2022-08-14T10:58:47.441Z"
   },
   {
    "duration": 10,
    "start_time": "2022-08-14T10:58:47.596Z"
   },
   {
    "duration": 129,
    "start_time": "2022-08-14T10:58:47.608Z"
   },
   {
    "duration": 0,
    "start_time": "2022-08-14T10:58:47.739Z"
   },
   {
    "duration": 0,
    "start_time": "2022-08-14T10:58:47.740Z"
   },
   {
    "duration": 0,
    "start_time": "2022-08-14T10:58:47.741Z"
   },
   {
    "duration": 0,
    "start_time": "2022-08-14T10:58:47.743Z"
   },
   {
    "duration": 0,
    "start_time": "2022-08-14T10:58:47.743Z"
   },
   {
    "duration": 0,
    "start_time": "2022-08-14T10:58:47.745Z"
   },
   {
    "duration": 0,
    "start_time": "2022-08-14T10:58:47.746Z"
   },
   {
    "duration": 0,
    "start_time": "2022-08-14T10:58:47.747Z"
   },
   {
    "duration": 0,
    "start_time": "2022-08-14T10:58:47.748Z"
   },
   {
    "duration": 0,
    "start_time": "2022-08-14T10:58:47.750Z"
   },
   {
    "duration": 17,
    "start_time": "2022-08-14T10:59:49.829Z"
   },
   {
    "duration": 17,
    "start_time": "2022-08-14T11:00:45.755Z"
   },
   {
    "duration": 147,
    "start_time": "2022-08-14T11:00:51.869Z"
   },
   {
    "duration": 122,
    "start_time": "2022-08-14T11:01:32.848Z"
   },
   {
    "duration": 17,
    "start_time": "2022-08-14T12:48:17.318Z"
   },
   {
    "duration": 9,
    "start_time": "2022-08-14T12:49:04.436Z"
   },
   {
    "duration": 9,
    "start_time": "2022-08-14T12:49:17.488Z"
   },
   {
    "duration": 502,
    "start_time": "2022-08-14T12:49:46.619Z"
   },
   {
    "duration": 27,
    "start_time": "2022-08-14T12:49:47.123Z"
   },
   {
    "duration": 21,
    "start_time": "2022-08-14T12:49:47.155Z"
   },
   {
    "duration": 22,
    "start_time": "2022-08-14T12:49:47.177Z"
   },
   {
    "duration": 54,
    "start_time": "2022-08-14T12:49:47.202Z"
   },
   {
    "duration": 4,
    "start_time": "2022-08-14T12:49:47.258Z"
   },
   {
    "duration": 33,
    "start_time": "2022-08-14T12:49:47.264Z"
   },
   {
    "duration": 5,
    "start_time": "2022-08-14T12:49:47.299Z"
   },
   {
    "duration": 10,
    "start_time": "2022-08-14T12:49:47.305Z"
   },
   {
    "duration": 5,
    "start_time": "2022-08-14T12:49:47.317Z"
   },
   {
    "duration": 40,
    "start_time": "2022-08-14T12:49:47.323Z"
   },
   {
    "duration": 35,
    "start_time": "2022-08-14T12:49:47.366Z"
   },
   {
    "duration": 5,
    "start_time": "2022-08-14T12:49:47.403Z"
   },
   {
    "duration": 13,
    "start_time": "2022-08-14T12:49:47.412Z"
   },
   {
    "duration": 23,
    "start_time": "2022-08-14T12:49:47.427Z"
   },
   {
    "duration": 53,
    "start_time": "2022-08-14T12:49:47.452Z"
   },
   {
    "duration": 4,
    "start_time": "2022-08-14T12:49:47.507Z"
   },
   {
    "duration": 24,
    "start_time": "2022-08-14T12:49:47.513Z"
   },
   {
    "duration": 11,
    "start_time": "2022-08-14T12:49:47.539Z"
   },
   {
    "duration": 4,
    "start_time": "2022-08-14T12:49:47.552Z"
   },
   {
    "duration": 37,
    "start_time": "2022-08-14T12:49:47.558Z"
   },
   {
    "duration": 882,
    "start_time": "2022-08-14T12:49:47.597Z"
   },
   {
    "duration": 169,
    "start_time": "2022-08-14T12:49:48.481Z"
   },
   {
    "duration": 8,
    "start_time": "2022-08-14T12:49:48.652Z"
   },
   {
    "duration": 134,
    "start_time": "2022-08-14T12:49:48.662Z"
   },
   {
    "duration": 130,
    "start_time": "2022-08-14T12:49:48.798Z"
   },
   {
    "duration": 121,
    "start_time": "2022-08-14T12:49:48.930Z"
   },
   {
    "duration": 119,
    "start_time": "2022-08-14T12:49:49.052Z"
   },
   {
    "duration": 133,
    "start_time": "2022-08-14T12:49:49.173Z"
   },
   {
    "duration": 137,
    "start_time": "2022-08-14T12:49:49.309Z"
   },
   {
    "duration": 135,
    "start_time": "2022-08-14T12:49:49.448Z"
   },
   {
    "duration": 110,
    "start_time": "2022-08-14T12:49:49.592Z"
   },
   {
    "duration": 3,
    "start_time": "2022-08-14T12:49:49.704Z"
   },
   {
    "duration": 9,
    "start_time": "2022-08-14T12:49:49.709Z"
   },
   {
    "duration": 12,
    "start_time": "2022-08-14T12:49:49.720Z"
   },
   {
    "duration": 113,
    "start_time": "2022-08-14T12:53:05.742Z"
   },
   {
    "duration": 153,
    "start_time": "2022-08-14T12:53:13.858Z"
   },
   {
    "duration": 197,
    "start_time": "2022-08-14T12:54:26.333Z"
   },
   {
    "duration": 125,
    "start_time": "2022-08-14T12:54:51.492Z"
   },
   {
    "duration": 134,
    "start_time": "2022-08-14T12:56:38.649Z"
   },
   {
    "duration": 134,
    "start_time": "2022-08-14T12:57:23.405Z"
   },
   {
    "duration": 131,
    "start_time": "2022-08-14T12:57:30.136Z"
   },
   {
    "duration": 139,
    "start_time": "2022-08-14T12:57:37.317Z"
   },
   {
    "duration": 147,
    "start_time": "2022-08-14T12:57:43.966Z"
   },
   {
    "duration": 182,
    "start_time": "2022-08-14T12:58:21.938Z"
   },
   {
    "duration": 147,
    "start_time": "2022-08-14T12:58:30.482Z"
   },
   {
    "duration": 128,
    "start_time": "2022-08-14T12:58:38.930Z"
   },
   {
    "duration": 5,
    "start_time": "2022-08-14T12:58:47.921Z"
   },
   {
    "duration": 131,
    "start_time": "2022-08-14T12:58:52.223Z"
   },
   {
    "duration": 131,
    "start_time": "2022-08-14T13:04:48.118Z"
   },
   {
    "duration": 203,
    "start_time": "2022-08-14T13:09:49.524Z"
   },
   {
    "duration": 132,
    "start_time": "2022-08-14T13:10:06.421Z"
   },
   {
    "duration": 134,
    "start_time": "2022-08-14T13:10:14.267Z"
   },
   {
    "duration": 139,
    "start_time": "2022-08-14T13:10:27.886Z"
   },
   {
    "duration": 135,
    "start_time": "2022-08-14T13:13:20.583Z"
   },
   {
    "duration": 123,
    "start_time": "2022-08-14T13:13:58.540Z"
   },
   {
    "duration": 162,
    "start_time": "2022-08-14T13:14:07.946Z"
   },
   {
    "duration": 128,
    "start_time": "2022-08-14T13:14:12.168Z"
   },
   {
    "duration": 123,
    "start_time": "2022-08-14T13:16:36.247Z"
   },
   {
    "duration": 125,
    "start_time": "2022-08-14T13:17:04.908Z"
   },
   {
    "duration": 164,
    "start_time": "2022-08-14T13:17:17.357Z"
   },
   {
    "duration": 122,
    "start_time": "2022-08-14T13:17:27.447Z"
   },
   {
    "duration": 139,
    "start_time": "2022-08-14T13:17:35.091Z"
   },
   {
    "duration": 108,
    "start_time": "2022-08-14T13:17:38.094Z"
   },
   {
    "duration": 114,
    "start_time": "2022-08-14T13:17:39.762Z"
   },
   {
    "duration": 221,
    "start_time": "2022-08-14T13:19:05.925Z"
   },
   {
    "duration": 136,
    "start_time": "2022-08-14T13:19:59.443Z"
   },
   {
    "duration": 122,
    "start_time": "2022-08-14T13:20:41.595Z"
   },
   {
    "duration": 115,
    "start_time": "2022-08-14T13:21:44.317Z"
   },
   {
    "duration": 5,
    "start_time": "2022-08-14T13:27:26.631Z"
   },
   {
    "duration": 7,
    "start_time": "2022-08-14T13:28:05.923Z"
   },
   {
    "duration": 144,
    "start_time": "2022-08-14T13:28:17.085Z"
   },
   {
    "duration": 7,
    "start_time": "2022-08-14T13:30:20.688Z"
   },
   {
    "duration": 186,
    "start_time": "2022-08-14T13:30:32.009Z"
   },
   {
    "duration": 5,
    "start_time": "2022-08-14T13:30:43.207Z"
   },
   {
    "duration": 9,
    "start_time": "2022-08-14T13:34:41.687Z"
   },
   {
    "duration": 8,
    "start_time": "2022-08-14T13:35:10.927Z"
   },
   {
    "duration": 8,
    "start_time": "2022-08-14T13:35:17.561Z"
   },
   {
    "duration": 8,
    "start_time": "2022-08-14T13:35:42.018Z"
   },
   {
    "duration": 7,
    "start_time": "2022-08-14T13:35:50.176Z"
   },
   {
    "duration": 111,
    "start_time": "2022-08-14T13:42:36.406Z"
   },
   {
    "duration": 100,
    "start_time": "2022-08-14T13:51:49.321Z"
   },
   {
    "duration": 12,
    "start_time": "2022-08-14T13:54:59.428Z"
   },
   {
    "duration": 84,
    "start_time": "2022-08-14T13:55:13.780Z"
   },
   {
    "duration": 10,
    "start_time": "2022-08-14T13:55:22.641Z"
   },
   {
    "duration": 132,
    "start_time": "2022-08-14T13:59:24.861Z"
   },
   {
    "duration": 134,
    "start_time": "2022-08-14T14:10:30.284Z"
   },
   {
    "duration": 147,
    "start_time": "2022-08-14T14:35:09.280Z"
   },
   {
    "duration": 132,
    "start_time": "2022-08-14T14:35:20.577Z"
   },
   {
    "duration": 0,
    "start_time": "2022-08-14T14:35:30.692Z"
   },
   {
    "duration": 0,
    "start_time": "2022-08-14T14:35:30.694Z"
   },
   {
    "duration": 0,
    "start_time": "2022-08-14T14:35:30.696Z"
   },
   {
    "duration": 0,
    "start_time": "2022-08-14T14:35:30.697Z"
   },
   {
    "duration": 0,
    "start_time": "2022-08-14T14:35:30.698Z"
   },
   {
    "duration": 0,
    "start_time": "2022-08-14T14:35:30.699Z"
   },
   {
    "duration": 0,
    "start_time": "2022-08-14T14:35:30.700Z"
   },
   {
    "duration": 0,
    "start_time": "2022-08-14T14:35:30.701Z"
   },
   {
    "duration": 0,
    "start_time": "2022-08-14T14:35:30.703Z"
   },
   {
    "duration": 0,
    "start_time": "2022-08-14T14:35:30.704Z"
   },
   {
    "duration": 0,
    "start_time": "2022-08-14T14:35:30.705Z"
   },
   {
    "duration": 0,
    "start_time": "2022-08-14T14:35:30.706Z"
   },
   {
    "duration": 0,
    "start_time": "2022-08-14T14:35:30.707Z"
   },
   {
    "duration": 0,
    "start_time": "2022-08-14T14:35:30.708Z"
   },
   {
    "duration": 0,
    "start_time": "2022-08-14T14:35:30.710Z"
   },
   {
    "duration": 0,
    "start_time": "2022-08-14T14:35:30.711Z"
   },
   {
    "duration": 0,
    "start_time": "2022-08-14T14:35:30.712Z"
   },
   {
    "duration": 0,
    "start_time": "2022-08-14T14:35:30.713Z"
   },
   {
    "duration": 0,
    "start_time": "2022-08-14T14:35:30.714Z"
   },
   {
    "duration": 0,
    "start_time": "2022-08-14T14:35:30.715Z"
   },
   {
    "duration": 0,
    "start_time": "2022-08-14T14:35:30.716Z"
   },
   {
    "duration": 1887,
    "start_time": "2022-08-14T14:35:30.720Z"
   },
   {
    "duration": 68,
    "start_time": "2022-08-14T14:35:32.609Z"
   },
   {
    "duration": 0,
    "start_time": "2022-08-14T14:35:32.678Z"
   },
   {
    "duration": 0,
    "start_time": "2022-08-14T14:35:32.680Z"
   },
   {
    "duration": 0,
    "start_time": "2022-08-14T14:35:32.692Z"
   },
   {
    "duration": 0,
    "start_time": "2022-08-14T14:35:32.693Z"
   },
   {
    "duration": 0,
    "start_time": "2022-08-14T14:35:32.695Z"
   },
   {
    "duration": 0,
    "start_time": "2022-08-14T14:35:32.696Z"
   },
   {
    "duration": 0,
    "start_time": "2022-08-14T14:35:32.697Z"
   },
   {
    "duration": 11,
    "start_time": "2022-08-14T14:35:36.755Z"
   },
   {
    "duration": 11,
    "start_time": "2022-08-14T14:35:50.853Z"
   },
   {
    "duration": 12,
    "start_time": "2022-08-14T14:35:53.570Z"
   },
   {
    "duration": 10,
    "start_time": "2022-08-14T14:36:20.798Z"
   },
   {
    "duration": 13,
    "start_time": "2022-08-14T14:37:08.772Z"
   },
   {
    "duration": 13,
    "start_time": "2022-08-14T14:37:11.435Z"
   },
   {
    "duration": 567,
    "start_time": "2022-08-14T14:37:22.526Z"
   },
   {
    "duration": 25,
    "start_time": "2022-08-14T14:37:23.096Z"
   },
   {
    "duration": 19,
    "start_time": "2022-08-14T14:37:23.123Z"
   },
   {
    "duration": 12,
    "start_time": "2022-08-14T14:37:23.144Z"
   },
   {
    "duration": 63,
    "start_time": "2022-08-14T14:37:23.159Z"
   },
   {
    "duration": 4,
    "start_time": "2022-08-14T14:37:23.224Z"
   },
   {
    "duration": 15,
    "start_time": "2022-08-14T14:37:23.229Z"
   },
   {
    "duration": 11,
    "start_time": "2022-08-14T14:37:23.246Z"
   },
   {
    "duration": 8,
    "start_time": "2022-08-14T14:37:23.259Z"
   },
   {
    "duration": 27,
    "start_time": "2022-08-14T14:37:23.269Z"
   },
   {
    "duration": 47,
    "start_time": "2022-08-14T14:37:23.298Z"
   },
   {
    "duration": 13,
    "start_time": "2022-08-14T14:37:23.347Z"
   },
   {
    "duration": 5,
    "start_time": "2022-08-14T14:37:23.362Z"
   },
   {
    "duration": 14,
    "start_time": "2022-08-14T14:37:23.391Z"
   },
   {
    "duration": 28,
    "start_time": "2022-08-14T14:37:23.407Z"
   },
   {
    "duration": 19,
    "start_time": "2022-08-14T14:37:23.437Z"
   },
   {
    "duration": 4,
    "start_time": "2022-08-14T14:37:23.458Z"
   },
   {
    "duration": 37,
    "start_time": "2022-08-14T14:37:23.465Z"
   },
   {
    "duration": 22,
    "start_time": "2022-08-14T14:37:23.505Z"
   },
   {
    "duration": 55,
    "start_time": "2022-08-14T14:37:23.530Z"
   },
   {
    "duration": 59,
    "start_time": "2022-08-14T14:37:23.587Z"
   },
   {
    "duration": 1015,
    "start_time": "2022-08-14T14:37:23.648Z"
   },
   {
    "duration": 219,
    "start_time": "2022-08-14T14:37:24.666Z"
   },
   {
    "duration": 11,
    "start_time": "2022-08-14T14:37:24.892Z"
   },
   {
    "duration": 170,
    "start_time": "2022-08-14T14:37:24.906Z"
   },
   {
    "duration": 291,
    "start_time": "2022-08-14T14:37:25.078Z"
   },
   {
    "duration": 0,
    "start_time": "2022-08-14T14:37:25.372Z"
   },
   {
    "duration": 0,
    "start_time": "2022-08-14T14:37:25.374Z"
   },
   {
    "duration": 0,
    "start_time": "2022-08-14T14:37:25.379Z"
   },
   {
    "duration": 0,
    "start_time": "2022-08-14T14:37:25.381Z"
   },
   {
    "duration": 132,
    "start_time": "2022-08-14T14:37:34.823Z"
   },
   {
    "duration": 129,
    "start_time": "2022-08-14T14:37:44.174Z"
   },
   {
    "duration": 125,
    "start_time": "2022-08-14T14:38:55.351Z"
   },
   {
    "duration": 144,
    "start_time": "2022-08-14T14:39:21.589Z"
   },
   {
    "duration": 150,
    "start_time": "2022-08-14T14:39:57.434Z"
   },
   {
    "duration": 139,
    "start_time": "2022-08-14T14:41:39.918Z"
   },
   {
    "duration": 143,
    "start_time": "2022-08-14T14:41:43.833Z"
   },
   {
    "duration": 143,
    "start_time": "2022-08-14T14:42:03.624Z"
   },
   {
    "duration": 124,
    "start_time": "2022-08-14T14:43:11.649Z"
   },
   {
    "duration": 1249,
    "start_time": "2022-08-14T14:44:06.334Z"
   },
   {
    "duration": 1677,
    "start_time": "2022-08-14T14:44:26.779Z"
   },
   {
    "duration": 203,
    "start_time": "2022-08-14T14:44:33.135Z"
   },
   {
    "duration": 17,
    "start_time": "2022-08-14T14:44:45.577Z"
   },
   {
    "duration": 1670,
    "start_time": "2022-08-14T14:44:55.023Z"
   },
   {
    "duration": 152,
    "start_time": "2022-08-14T14:45:03.776Z"
   },
   {
    "duration": 86,
    "start_time": "2022-08-14T14:48:37.935Z"
   },
   {
    "duration": 134,
    "start_time": "2022-08-14T14:48:57.676Z"
   },
   {
    "duration": 103,
    "start_time": "2022-08-14T14:51:02.235Z"
   },
   {
    "duration": 13,
    "start_time": "2022-08-14T14:51:19.139Z"
   },
   {
    "duration": 7,
    "start_time": "2022-08-14T14:51:38.219Z"
   },
   {
    "duration": 8,
    "start_time": "2022-08-14T14:53:04.378Z"
   },
   {
    "duration": 6,
    "start_time": "2022-08-14T14:53:19.291Z"
   },
   {
    "duration": 6,
    "start_time": "2022-08-14T14:53:47.541Z"
   },
   {
    "duration": 126,
    "start_time": "2022-08-14T14:54:32.543Z"
   },
   {
    "duration": 126,
    "start_time": "2022-08-14T14:55:12.651Z"
   },
   {
    "duration": 4,
    "start_time": "2022-08-14T14:55:52.428Z"
   },
   {
    "duration": 12,
    "start_time": "2022-08-14T14:55:54.349Z"
   },
   {
    "duration": 9,
    "start_time": "2022-08-14T14:56:01.530Z"
   },
   {
    "duration": 4,
    "start_time": "2022-08-14T14:57:39.923Z"
   },
   {
    "duration": 12,
    "start_time": "2022-08-14T14:57:41.902Z"
   },
   {
    "duration": 28,
    "start_time": "2022-08-14T14:59:03.324Z"
   },
   {
    "duration": 15,
    "start_time": "2022-08-14T14:59:15.631Z"
   },
   {
    "duration": 136,
    "start_time": "2022-08-14T15:03:02.219Z"
   },
   {
    "duration": 1594,
    "start_time": "2022-08-14T15:07:29.933Z"
   },
   {
    "duration": 1478,
    "start_time": "2022-08-14T15:07:33.660Z"
   },
   {
    "duration": 0,
    "start_time": "2022-08-14T15:07:35.140Z"
   },
   {
    "duration": 159,
    "start_time": "2022-08-14T15:07:50.128Z"
   },
   {
    "duration": 154,
    "start_time": "2022-08-14T15:08:45.855Z"
   },
   {
    "duration": 164,
    "start_time": "2022-08-14T15:09:16.741Z"
   },
   {
    "duration": 1571,
    "start_time": "2022-08-14T15:09:56.162Z"
   },
   {
    "duration": 146,
    "start_time": "2022-08-14T15:10:04.244Z"
   },
   {
    "duration": 70,
    "start_time": "2022-08-14T15:12:32.422Z"
   },
   {
    "duration": 74,
    "start_time": "2022-08-14T15:12:44.320Z"
   },
   {
    "duration": 77,
    "start_time": "2022-08-14T15:13:04.528Z"
   },
   {
    "duration": 138,
    "start_time": "2022-08-14T15:13:21.675Z"
   },
   {
    "duration": 502,
    "start_time": "2022-08-14T15:13:27.143Z"
   },
   {
    "duration": 27,
    "start_time": "2022-08-14T15:13:27.647Z"
   },
   {
    "duration": 29,
    "start_time": "2022-08-14T15:13:27.676Z"
   },
   {
    "duration": 11,
    "start_time": "2022-08-14T15:13:27.707Z"
   },
   {
    "duration": 44,
    "start_time": "2022-08-14T15:13:27.720Z"
   },
   {
    "duration": 4,
    "start_time": "2022-08-14T15:13:27.766Z"
   },
   {
    "duration": 29,
    "start_time": "2022-08-14T15:13:27.771Z"
   },
   {
    "duration": 16,
    "start_time": "2022-08-14T15:13:27.802Z"
   },
   {
    "duration": 12,
    "start_time": "2022-08-14T15:13:27.819Z"
   },
   {
    "duration": 5,
    "start_time": "2022-08-14T15:13:27.836Z"
   },
   {
    "duration": 61,
    "start_time": "2022-08-14T15:13:27.843Z"
   },
   {
    "duration": 12,
    "start_time": "2022-08-14T15:13:27.906Z"
   },
   {
    "duration": 13,
    "start_time": "2022-08-14T15:13:27.920Z"
   },
   {
    "duration": 21,
    "start_time": "2022-08-14T15:13:27.935Z"
   },
   {
    "duration": 48,
    "start_time": "2022-08-14T15:13:27.958Z"
   },
   {
    "duration": 23,
    "start_time": "2022-08-14T15:13:28.008Z"
   },
   {
    "duration": 4,
    "start_time": "2022-08-14T15:13:28.032Z"
   },
   {
    "duration": 20,
    "start_time": "2022-08-14T15:13:28.038Z"
   },
   {
    "duration": 7,
    "start_time": "2022-08-14T15:13:28.060Z"
   },
   {
    "duration": 5,
    "start_time": "2022-08-14T15:13:28.092Z"
   },
   {
    "duration": 13,
    "start_time": "2022-08-14T15:13:28.099Z"
   },
   {
    "duration": 896,
    "start_time": "2022-08-14T15:13:28.114Z"
   },
   {
    "duration": 157,
    "start_time": "2022-08-14T15:13:29.014Z"
   },
   {
    "duration": 8,
    "start_time": "2022-08-14T15:13:29.173Z"
   },
   {
    "duration": 164,
    "start_time": "2022-08-14T15:13:29.194Z"
   },
   {
    "duration": 85,
    "start_time": "2022-08-14T15:13:29.359Z"
   },
   {
    "duration": 0,
    "start_time": "2022-08-14T15:13:29.448Z"
   },
   {
    "duration": 0,
    "start_time": "2022-08-14T15:13:29.449Z"
   },
   {
    "duration": 0,
    "start_time": "2022-08-14T15:13:29.450Z"
   },
   {
    "duration": 0,
    "start_time": "2022-08-14T15:13:29.451Z"
   },
   {
    "duration": 0,
    "start_time": "2022-08-14T15:13:29.452Z"
   },
   {
    "duration": 10,
    "start_time": "2022-08-14T15:14:32.533Z"
   },
   {
    "duration": 517,
    "start_time": "2022-08-14T15:15:33.195Z"
   },
   {
    "duration": 26,
    "start_time": "2022-08-14T15:15:33.714Z"
   },
   {
    "duration": 17,
    "start_time": "2022-08-14T15:15:33.741Z"
   },
   {
    "duration": 32,
    "start_time": "2022-08-14T15:15:33.761Z"
   },
   {
    "duration": 39,
    "start_time": "2022-08-14T15:15:33.795Z"
   },
   {
    "duration": 5,
    "start_time": "2022-08-14T15:15:33.836Z"
   },
   {
    "duration": 14,
    "start_time": "2022-08-14T15:15:33.843Z"
   },
   {
    "duration": 6,
    "start_time": "2022-08-14T15:15:33.859Z"
   },
   {
    "duration": 10,
    "start_time": "2022-08-14T15:15:33.893Z"
   },
   {
    "duration": 6,
    "start_time": "2022-08-14T15:15:33.906Z"
   },
   {
    "duration": 43,
    "start_time": "2022-08-14T15:15:33.914Z"
   },
   {
    "duration": 38,
    "start_time": "2022-08-14T15:15:33.959Z"
   },
   {
    "duration": 5,
    "start_time": "2022-08-14T15:15:33.999Z"
   },
   {
    "duration": 15,
    "start_time": "2022-08-14T15:15:34.006Z"
   },
   {
    "duration": 60,
    "start_time": "2022-08-14T15:15:34.023Z"
   },
   {
    "duration": 21,
    "start_time": "2022-08-14T15:15:34.085Z"
   },
   {
    "duration": 4,
    "start_time": "2022-08-14T15:15:34.108Z"
   },
   {
    "duration": 21,
    "start_time": "2022-08-14T15:15:34.114Z"
   },
   {
    "duration": 6,
    "start_time": "2022-08-14T15:15:34.137Z"
   },
   {
    "duration": 5,
    "start_time": "2022-08-14T15:15:34.144Z"
   },
   {
    "duration": 12,
    "start_time": "2022-08-14T15:15:34.150Z"
   },
   {
    "duration": 918,
    "start_time": "2022-08-14T15:15:34.164Z"
   },
   {
    "duration": 180,
    "start_time": "2022-08-14T15:15:35.084Z"
   },
   {
    "duration": 8,
    "start_time": "2022-08-14T15:15:35.266Z"
   },
   {
    "duration": 246,
    "start_time": "2022-08-14T15:15:35.276Z"
   },
   {
    "duration": 9,
    "start_time": "2022-08-14T15:15:35.524Z"
   },
   {
    "duration": 195,
    "start_time": "2022-08-14T15:15:35.536Z"
   },
   {
    "duration": 116,
    "start_time": "2022-08-14T15:15:35.735Z"
   },
   {
    "duration": 0,
    "start_time": "2022-08-14T15:15:35.853Z"
   },
   {
    "duration": 0,
    "start_time": "2022-08-14T15:15:35.855Z"
   },
   {
    "duration": 0,
    "start_time": "2022-08-14T15:15:35.856Z"
   },
   {
    "duration": 1193,
    "start_time": "2022-08-14T15:17:56.093Z"
   },
   {
    "duration": 160,
    "start_time": "2022-08-14T15:18:08.198Z"
   },
   {
    "duration": 121,
    "start_time": "2022-08-14T15:21:05.126Z"
   },
   {
    "duration": 7,
    "start_time": "2022-08-14T15:35:30.950Z"
   },
   {
    "duration": 6,
    "start_time": "2022-08-14T15:35:44.376Z"
   },
   {
    "duration": 13,
    "start_time": "2022-08-14T15:35:51.490Z"
   },
   {
    "duration": 164,
    "start_time": "2022-08-14T15:38:12.267Z"
   },
   {
    "duration": 192,
    "start_time": "2022-08-14T15:38:33.834Z"
   },
   {
    "duration": 10,
    "start_time": "2022-08-14T15:41:17.217Z"
   },
   {
    "duration": 21,
    "start_time": "2022-08-14T15:55:04.351Z"
   },
   {
    "duration": 27,
    "start_time": "2022-08-14T15:56:43.365Z"
   },
   {
    "duration": 21,
    "start_time": "2022-08-14T15:57:04.528Z"
   },
   {
    "duration": 154,
    "start_time": "2022-08-14T15:58:33.647Z"
   },
   {
    "duration": 139,
    "start_time": "2022-08-14T15:58:36.530Z"
   },
   {
    "duration": 76,
    "start_time": "2022-08-14T16:00:09.053Z"
   },
   {
    "duration": 20,
    "start_time": "2022-08-14T16:00:17.391Z"
   },
   {
    "duration": 9,
    "start_time": "2022-08-14T16:00:37.601Z"
   },
   {
    "duration": 11,
    "start_time": "2022-08-14T16:03:20.545Z"
   },
   {
    "duration": 82,
    "start_time": "2022-08-14T16:12:09.626Z"
   },
   {
    "duration": 72,
    "start_time": "2022-08-14T16:15:41.029Z"
   },
   {
    "duration": 5,
    "start_time": "2022-08-14T16:16:32.363Z"
   },
   {
    "duration": 4,
    "start_time": "2022-08-14T16:16:49.102Z"
   },
   {
    "duration": 5,
    "start_time": "2022-08-14T16:16:56.068Z"
   },
   {
    "duration": 2902,
    "start_time": "2022-08-14T16:17:41.740Z"
   },
   {
    "duration": 11,
    "start_time": "2022-08-14T16:18:42.951Z"
   },
   {
    "duration": 11,
    "start_time": "2022-08-14T16:18:55.207Z"
   },
   {
    "duration": 1309,
    "start_time": "2022-08-14T16:19:28.346Z"
   },
   {
    "duration": 0,
    "start_time": "2022-08-14T16:21:27.585Z"
   },
   {
    "duration": 155,
    "start_time": "2022-08-14T16:21:27.764Z"
   },
   {
    "duration": 6,
    "start_time": "2022-08-14T16:21:30.009Z"
   },
   {
    "duration": 10,
    "start_time": "2022-08-14T16:21:52.838Z"
   },
   {
    "duration": 7,
    "start_time": "2022-08-14T16:57:25.682Z"
   },
   {
    "duration": 569,
    "start_time": "2022-08-14T16:57:36.777Z"
   },
   {
    "duration": 26,
    "start_time": "2022-08-14T16:57:37.348Z"
   },
   {
    "duration": 25,
    "start_time": "2022-08-14T16:57:37.376Z"
   },
   {
    "duration": 18,
    "start_time": "2022-08-14T16:57:37.403Z"
   },
   {
    "duration": 52,
    "start_time": "2022-08-14T16:57:37.423Z"
   },
   {
    "duration": 17,
    "start_time": "2022-08-14T16:57:37.476Z"
   },
   {
    "duration": 16,
    "start_time": "2022-08-14T16:57:37.494Z"
   },
   {
    "duration": 13,
    "start_time": "2022-08-14T16:57:37.512Z"
   },
   {
    "duration": 28,
    "start_time": "2022-08-14T16:57:37.527Z"
   },
   {
    "duration": 9,
    "start_time": "2022-08-14T16:57:37.558Z"
   },
   {
    "duration": 69,
    "start_time": "2022-08-14T16:57:37.569Z"
   },
   {
    "duration": 11,
    "start_time": "2022-08-14T16:57:37.640Z"
   },
   {
    "duration": 8,
    "start_time": "2022-08-14T16:57:37.653Z"
   },
   {
    "duration": 26,
    "start_time": "2022-08-14T16:57:37.663Z"
   },
   {
    "duration": 31,
    "start_time": "2022-08-14T16:57:37.691Z"
   },
   {
    "duration": 20,
    "start_time": "2022-08-14T16:57:37.724Z"
   },
   {
    "duration": 4,
    "start_time": "2022-08-14T16:57:37.746Z"
   },
   {
    "duration": 22,
    "start_time": "2022-08-14T16:57:37.752Z"
   },
   {
    "duration": 17,
    "start_time": "2022-08-14T16:57:37.775Z"
   },
   {
    "duration": 4,
    "start_time": "2022-08-14T16:57:37.794Z"
   },
   {
    "duration": 28,
    "start_time": "2022-08-14T16:57:37.800Z"
   },
   {
    "duration": 850,
    "start_time": "2022-08-14T16:57:37.831Z"
   },
   {
    "duration": 187,
    "start_time": "2022-08-14T16:57:38.683Z"
   },
   {
    "duration": 8,
    "start_time": "2022-08-14T16:57:38.872Z"
   },
   {
    "duration": 152,
    "start_time": "2022-08-14T16:57:38.892Z"
   },
   {
    "duration": 8,
    "start_time": "2022-08-14T16:57:39.046Z"
   },
   {
    "duration": 175,
    "start_time": "2022-08-14T16:57:39.056Z"
   },
   {
    "duration": 7,
    "start_time": "2022-08-14T16:57:39.235Z"
   },
   {
    "duration": 185,
    "start_time": "2022-08-14T16:57:39.243Z"
   },
   {
    "duration": 3,
    "start_time": "2022-08-14T16:57:39.430Z"
   },
   {
    "duration": 26,
    "start_time": "2022-08-14T16:57:39.434Z"
   },
   {
    "duration": 146,
    "start_time": "2022-08-14T17:02:38.333Z"
   },
   {
    "duration": 146,
    "start_time": "2022-08-14T17:03:00.679Z"
   },
   {
    "duration": 6,
    "start_time": "2022-08-14T17:03:02.959Z"
   },
   {
    "duration": 146,
    "start_time": "2022-08-14T17:03:04.072Z"
   },
   {
    "duration": 13,
    "start_time": "2022-08-14T17:04:25.436Z"
   },
   {
    "duration": 153,
    "start_time": "2022-08-14T17:12:05.311Z"
   },
   {
    "duration": 159,
    "start_time": "2022-08-14T17:27:20.584Z"
   },
   {
    "duration": 11,
    "start_time": "2022-08-14T17:27:24.833Z"
   },
   {
    "duration": 114,
    "start_time": "2022-08-14T17:29:04.330Z"
   },
   {
    "duration": 19,
    "start_time": "2022-08-14T17:29:07.029Z"
   },
   {
    "duration": 18,
    "start_time": "2022-08-14T17:29:29.984Z"
   },
   {
    "duration": 19,
    "start_time": "2022-08-14T17:29:47.888Z"
   },
   {
    "duration": 18,
    "start_time": "2022-08-14T17:30:04.901Z"
   },
   {
    "duration": 18,
    "start_time": "2022-08-14T17:30:07.794Z"
   },
   {
    "duration": 147,
    "start_time": "2022-08-14T17:30:15.184Z"
   },
   {
    "duration": 269,
    "start_time": "2022-08-14T17:30:31.750Z"
   },
   {
    "duration": 150,
    "start_time": "2022-08-14T17:30:37.430Z"
   },
   {
    "duration": 157,
    "start_time": "2022-08-14T17:31:08.203Z"
   },
   {
    "duration": 172,
    "start_time": "2022-08-14T17:31:15.013Z"
   },
   {
    "duration": 1191,
    "start_time": "2022-08-14T17:55:12.271Z"
   },
   {
    "duration": 1307,
    "start_time": "2022-08-14T17:55:22.162Z"
   },
   {
    "duration": 18,
    "start_time": "2022-08-14T17:55:50.405Z"
   },
   {
    "duration": 26,
    "start_time": "2022-08-14T17:56:01.800Z"
   },
   {
    "duration": 5,
    "start_time": "2022-08-14T17:56:31.719Z"
   },
   {
    "duration": 9,
    "start_time": "2022-08-14T18:00:28.136Z"
   },
   {
    "duration": 5,
    "start_time": "2022-08-14T18:01:23.000Z"
   },
   {
    "duration": 13,
    "start_time": "2022-08-14T18:11:05.157Z"
   },
   {
    "duration": 5,
    "start_time": "2022-08-14T18:11:11.607Z"
   },
   {
    "duration": 5,
    "start_time": "2022-08-14T18:11:18.368Z"
   },
   {
    "duration": 11,
    "start_time": "2022-08-14T18:12:10.189Z"
   },
   {
    "duration": 928,
    "start_time": "2022-08-14T18:30:09.989Z"
   },
   {
    "duration": 118,
    "start_time": "2022-08-14T18:44:24.229Z"
   },
   {
    "duration": 6,
    "start_time": "2022-08-14T18:44:32.009Z"
   },
   {
    "duration": 3,
    "start_time": "2022-08-14T18:49:02.828Z"
   },
   {
    "duration": 526,
    "start_time": "2022-08-14T18:49:05.993Z"
   },
   {
    "duration": 24,
    "start_time": "2022-08-14T18:49:06.521Z"
   },
   {
    "duration": 18,
    "start_time": "2022-08-14T18:49:06.547Z"
   },
   {
    "duration": 26,
    "start_time": "2022-08-14T18:49:06.567Z"
   },
   {
    "duration": 41,
    "start_time": "2022-08-14T18:49:06.595Z"
   },
   {
    "duration": 4,
    "start_time": "2022-08-14T18:49:06.638Z"
   },
   {
    "duration": 12,
    "start_time": "2022-08-14T18:49:06.643Z"
   },
   {
    "duration": 4,
    "start_time": "2022-08-14T18:49:06.657Z"
   },
   {
    "duration": 8,
    "start_time": "2022-08-14T18:49:06.692Z"
   },
   {
    "duration": 5,
    "start_time": "2022-08-14T18:49:06.704Z"
   },
   {
    "duration": 38,
    "start_time": "2022-08-14T18:49:06.712Z"
   },
   {
    "duration": 12,
    "start_time": "2022-08-14T18:49:06.752Z"
   },
   {
    "duration": 4,
    "start_time": "2022-08-14T18:49:06.792Z"
   },
   {
    "duration": 19,
    "start_time": "2022-08-14T18:49:06.797Z"
   },
   {
    "duration": 34,
    "start_time": "2022-08-14T18:49:06.818Z"
   },
   {
    "duration": 39,
    "start_time": "2022-08-14T18:49:06.853Z"
   },
   {
    "duration": 4,
    "start_time": "2022-08-14T18:49:06.894Z"
   },
   {
    "duration": 21,
    "start_time": "2022-08-14T18:49:06.899Z"
   },
   {
    "duration": 9,
    "start_time": "2022-08-14T18:49:06.923Z"
   },
   {
    "duration": 4,
    "start_time": "2022-08-14T18:49:06.934Z"
   },
   {
    "duration": 12,
    "start_time": "2022-08-14T18:49:06.940Z"
   },
   {
    "duration": 819,
    "start_time": "2022-08-14T18:49:06.954Z"
   },
   {
    "duration": 159,
    "start_time": "2022-08-14T18:49:07.775Z"
   },
   {
    "duration": 8,
    "start_time": "2022-08-14T18:49:07.936Z"
   },
   {
    "duration": 148,
    "start_time": "2022-08-14T18:49:07.946Z"
   },
   {
    "duration": 8,
    "start_time": "2022-08-14T18:49:08.096Z"
   },
   {
    "duration": 168,
    "start_time": "2022-08-14T18:49:08.106Z"
   },
   {
    "duration": 15,
    "start_time": "2022-08-14T18:49:08.277Z"
   },
   {
    "duration": 166,
    "start_time": "2022-08-14T18:49:08.293Z"
   },
   {
    "duration": 11,
    "start_time": "2022-08-14T18:49:08.461Z"
   },
   {
    "duration": 175,
    "start_time": "2022-08-14T18:49:08.474Z"
   },
   {
    "duration": 5,
    "start_time": "2022-08-14T18:49:08.651Z"
   },
   {
    "duration": 818,
    "start_time": "2022-08-14T18:49:08.657Z"
   },
   {
    "duration": 5,
    "start_time": "2022-08-14T18:49:09.477Z"
   },
   {
    "duration": 9,
    "start_time": "2022-08-14T18:49:09.483Z"
   },
   {
    "duration": 6,
    "start_time": "2022-08-14T18:49:09.494Z"
   },
   {
    "duration": 21,
    "start_time": "2022-08-14T18:51:01.731Z"
   },
   {
    "duration": 7,
    "start_time": "2022-08-14T18:57:54.260Z"
   },
   {
    "duration": 18,
    "start_time": "2022-08-14T18:58:18.735Z"
   },
   {
    "duration": 7,
    "start_time": "2022-08-14T18:58:40.140Z"
   },
   {
    "duration": 10,
    "start_time": "2022-08-14T19:03:16.633Z"
   },
   {
    "duration": 147,
    "start_time": "2022-08-14T19:04:26.343Z"
   },
   {
    "duration": 144,
    "start_time": "2022-08-14T19:06:46.044Z"
   },
   {
    "duration": 131,
    "start_time": "2022-08-14T19:07:43.450Z"
   },
   {
    "duration": 141,
    "start_time": "2022-08-14T19:12:55.856Z"
   },
   {
    "duration": 234,
    "start_time": "2022-08-14T19:13:40.689Z"
   },
   {
    "duration": 603,
    "start_time": "2022-08-14T20:35:24.409Z"
   },
   {
    "duration": 8,
    "start_time": "2022-08-14T20:36:17.586Z"
   },
   {
    "duration": 1381,
    "start_time": "2022-08-14T20:42:00.043Z"
   },
   {
    "duration": 9,
    "start_time": "2022-08-14T20:42:11.447Z"
   },
   {
    "duration": 162,
    "start_time": "2022-08-14T20:44:32.550Z"
   },
   {
    "duration": 150,
    "start_time": "2022-08-14T20:44:40.863Z"
   },
   {
    "duration": 143,
    "start_time": "2022-08-14T20:44:46.577Z"
   },
   {
    "duration": 144,
    "start_time": "2022-08-14T20:44:52.614Z"
   },
   {
    "duration": 169,
    "start_time": "2022-08-14T20:44:59.861Z"
   },
   {
    "duration": 151,
    "start_time": "2022-08-14T20:45:08.913Z"
   },
   {
    "duration": 159,
    "start_time": "2022-08-14T20:45:13.590Z"
   },
   {
    "duration": 142,
    "start_time": "2022-08-14T20:45:34.070Z"
   },
   {
    "duration": 171,
    "start_time": "2022-08-14T20:45:48.901Z"
   },
   {
    "duration": 146,
    "start_time": "2022-08-14T20:45:55.729Z"
   },
   {
    "duration": 78,
    "start_time": "2022-08-14T21:19:16.374Z"
   },
   {
    "duration": 15,
    "start_time": "2022-08-14T21:19:36.369Z"
   },
   {
    "duration": 665,
    "start_time": "2022-08-15T07:38:53.205Z"
   },
   {
    "duration": 23,
    "start_time": "2022-08-15T07:38:53.872Z"
   },
   {
    "duration": 15,
    "start_time": "2022-08-15T07:38:53.896Z"
   },
   {
    "duration": 14,
    "start_time": "2022-08-15T07:38:53.913Z"
   },
   {
    "duration": 42,
    "start_time": "2022-08-15T07:38:53.928Z"
   },
   {
    "duration": 3,
    "start_time": "2022-08-15T07:38:53.972Z"
   },
   {
    "duration": 12,
    "start_time": "2022-08-15T07:38:53.976Z"
   },
   {
    "duration": 4,
    "start_time": "2022-08-15T07:38:53.989Z"
   },
   {
    "duration": 11,
    "start_time": "2022-08-15T07:38:53.995Z"
   },
   {
    "duration": 4,
    "start_time": "2022-08-15T07:38:54.008Z"
   },
   {
    "duration": 49,
    "start_time": "2022-08-15T07:38:54.014Z"
   },
   {
    "duration": 10,
    "start_time": "2022-08-15T07:38:54.064Z"
   },
   {
    "duration": 8,
    "start_time": "2022-08-15T07:38:54.076Z"
   },
   {
    "duration": 11,
    "start_time": "2022-08-15T07:38:54.086Z"
   },
   {
    "duration": 21,
    "start_time": "2022-08-15T07:38:54.099Z"
   },
   {
    "duration": 43,
    "start_time": "2022-08-15T07:38:54.121Z"
   },
   {
    "duration": 4,
    "start_time": "2022-08-15T07:38:54.166Z"
   },
   {
    "duration": 12,
    "start_time": "2022-08-15T07:38:54.172Z"
   },
   {
    "duration": 11,
    "start_time": "2022-08-15T07:38:54.186Z"
   },
   {
    "duration": 8,
    "start_time": "2022-08-15T07:38:54.198Z"
   },
   {
    "duration": 22,
    "start_time": "2022-08-15T07:38:54.207Z"
   },
   {
    "duration": 911,
    "start_time": "2022-08-15T07:38:54.231Z"
   },
   {
    "duration": 176,
    "start_time": "2022-08-15T07:38:55.144Z"
   },
   {
    "duration": 8,
    "start_time": "2022-08-15T07:38:55.322Z"
   },
   {
    "duration": 162,
    "start_time": "2022-08-15T07:38:55.332Z"
   },
   {
    "duration": 7,
    "start_time": "2022-08-15T07:38:55.496Z"
   },
   {
    "duration": 161,
    "start_time": "2022-08-15T07:38:55.505Z"
   },
   {
    "duration": 6,
    "start_time": "2022-08-15T07:38:55.670Z"
   },
   {
    "duration": 197,
    "start_time": "2022-08-15T07:38:55.678Z"
   },
   {
    "duration": 11,
    "start_time": "2022-08-15T07:38:55.877Z"
   },
   {
    "duration": 170,
    "start_time": "2022-08-15T07:38:55.889Z"
   },
   {
    "duration": 6,
    "start_time": "2022-08-15T07:38:56.060Z"
   },
   {
    "duration": 770,
    "start_time": "2022-08-15T07:38:56.067Z"
   },
   {
    "duration": 5,
    "start_time": "2022-08-15T07:38:56.838Z"
   },
   {
    "duration": 6,
    "start_time": "2022-08-15T07:38:56.857Z"
   },
   {
    "duration": 143,
    "start_time": "2022-08-15T07:38:56.864Z"
   },
   {
    "duration": 9,
    "start_time": "2022-08-15T07:38:57.009Z"
   },
   {
    "duration": 145,
    "start_time": "2022-08-15T07:38:57.019Z"
   },
   {
    "duration": 6,
    "start_time": "2022-08-15T07:38:57.165Z"
   },
   {
    "duration": 14,
    "start_time": "2022-08-15T07:38:57.172Z"
   },
   {
    "duration": 161,
    "start_time": "2022-08-15T07:38:57.188Z"
   },
   {
    "duration": 21,
    "start_time": "2022-08-15T07:47:45.925Z"
   },
   {
    "duration": 16,
    "start_time": "2022-08-15T07:48:26.378Z"
   },
   {
    "duration": 4,
    "start_time": "2022-08-15T07:50:18.107Z"
   },
   {
    "duration": 17,
    "start_time": "2022-08-15T07:50:50.541Z"
   },
   {
    "duration": 12,
    "start_time": "2022-08-15T07:51:06.391Z"
   },
   {
    "duration": 13,
    "start_time": "2022-08-15T07:51:13.823Z"
   },
   {
    "duration": 4,
    "start_time": "2022-08-15T07:51:41.555Z"
   },
   {
    "duration": 12,
    "start_time": "2022-08-15T07:51:50.734Z"
   },
   {
    "duration": 4,
    "start_time": "2022-08-15T07:54:19.058Z"
   },
   {
    "duration": 9,
    "start_time": "2022-08-15T07:54:23.884Z"
   },
   {
    "duration": 8,
    "start_time": "2022-08-15T07:55:40.439Z"
   },
   {
    "duration": 472,
    "start_time": "2022-08-15T07:55:44.076Z"
   },
   {
    "duration": 23,
    "start_time": "2022-08-15T07:55:44.550Z"
   },
   {
    "duration": 22,
    "start_time": "2022-08-15T07:55:44.575Z"
   },
   {
    "duration": 9,
    "start_time": "2022-08-15T07:55:44.599Z"
   },
   {
    "duration": 47,
    "start_time": "2022-08-15T07:55:44.610Z"
   },
   {
    "duration": 4,
    "start_time": "2022-08-15T07:55:44.659Z"
   },
   {
    "duration": 16,
    "start_time": "2022-08-15T07:55:44.664Z"
   },
   {
    "duration": 6,
    "start_time": "2022-08-15T07:55:44.681Z"
   },
   {
    "duration": 11,
    "start_time": "2022-08-15T07:55:44.688Z"
   },
   {
    "duration": 4,
    "start_time": "2022-08-15T07:55:44.702Z"
   },
   {
    "duration": 52,
    "start_time": "2022-08-15T07:55:44.708Z"
   },
   {
    "duration": 9,
    "start_time": "2022-08-15T07:55:44.762Z"
   },
   {
    "duration": 16,
    "start_time": "2022-08-15T07:55:44.772Z"
   },
   {
    "duration": 21,
    "start_time": "2022-08-15T07:55:44.789Z"
   },
   {
    "duration": 24,
    "start_time": "2022-08-15T07:55:44.812Z"
   },
   {
    "duration": 26,
    "start_time": "2022-08-15T07:55:44.837Z"
   },
   {
    "duration": 13,
    "start_time": "2022-08-15T07:55:44.865Z"
   },
   {
    "duration": 25,
    "start_time": "2022-08-15T07:55:44.880Z"
   },
   {
    "duration": 17,
    "start_time": "2022-08-15T07:55:44.906Z"
   },
   {
    "duration": 14,
    "start_time": "2022-08-15T07:55:44.925Z"
   },
   {
    "duration": 31,
    "start_time": "2022-08-15T07:55:44.941Z"
   },
   {
    "duration": 772,
    "start_time": "2022-08-15T07:55:44.974Z"
   },
   {
    "duration": 155,
    "start_time": "2022-08-15T07:55:45.749Z"
   },
   {
    "duration": 6,
    "start_time": "2022-08-15T07:55:45.905Z"
   },
   {
    "duration": 122,
    "start_time": "2022-08-15T07:55:45.913Z"
   },
   {
    "duration": 20,
    "start_time": "2022-08-15T07:55:46.037Z"
   },
   {
    "duration": 153,
    "start_time": "2022-08-15T07:55:46.059Z"
   },
   {
    "duration": 5,
    "start_time": "2022-08-15T07:55:46.215Z"
   },
   {
    "duration": 174,
    "start_time": "2022-08-15T07:55:46.222Z"
   },
   {
    "duration": 10,
    "start_time": "2022-08-15T07:55:46.397Z"
   },
   {
    "duration": 157,
    "start_time": "2022-08-15T07:55:46.408Z"
   },
   {
    "duration": 5,
    "start_time": "2022-08-15T07:55:46.566Z"
   },
   {
    "duration": 752,
    "start_time": "2022-08-15T07:55:46.572Z"
   },
   {
    "duration": 4,
    "start_time": "2022-08-15T07:55:47.326Z"
   },
   {
    "duration": 37,
    "start_time": "2022-08-15T07:55:47.332Z"
   },
   {
    "duration": 144,
    "start_time": "2022-08-15T07:55:47.371Z"
   },
   {
    "duration": 8,
    "start_time": "2022-08-15T07:55:47.517Z"
   },
   {
    "duration": 132,
    "start_time": "2022-08-15T07:55:47.527Z"
   },
   {
    "duration": 6,
    "start_time": "2022-08-15T07:55:47.660Z"
   },
   {
    "duration": 18,
    "start_time": "2022-08-15T07:55:47.669Z"
   },
   {
    "duration": 163,
    "start_time": "2022-08-15T07:55:47.688Z"
   },
   {
    "duration": 2,
    "start_time": "2022-08-15T08:30:49.278Z"
   },
   {
    "duration": 4,
    "start_time": "2022-08-15T08:31:12.905Z"
   },
   {
    "duration": 4,
    "start_time": "2022-08-15T08:33:05.692Z"
   },
   {
    "duration": 7,
    "start_time": "2022-08-15T08:33:11.973Z"
   },
   {
    "duration": 3,
    "start_time": "2022-08-15T08:33:32.852Z"
   },
   {
    "duration": 7,
    "start_time": "2022-08-15T08:33:37.303Z"
   },
   {
    "duration": 3,
    "start_time": "2022-08-15T08:40:08.965Z"
   },
   {
    "duration": 7,
    "start_time": "2022-08-15T08:40:09.494Z"
   },
   {
    "duration": 3,
    "start_time": "2022-08-15T08:42:07.258Z"
   },
   {
    "duration": 7,
    "start_time": "2022-08-15T08:42:07.878Z"
   },
   {
    "duration": 4,
    "start_time": "2022-08-15T08:42:15.253Z"
   },
   {
    "duration": 7,
    "start_time": "2022-08-15T08:42:15.733Z"
   },
   {
    "duration": 3,
    "start_time": "2022-08-15T08:43:25.468Z"
   },
   {
    "duration": 100,
    "start_time": "2022-08-15T08:43:25.839Z"
   },
   {
    "duration": 4,
    "start_time": "2022-08-15T08:43:31.785Z"
   },
   {
    "duration": 13,
    "start_time": "2022-08-15T08:43:32.567Z"
   },
   {
    "duration": 3,
    "start_time": "2022-08-15T08:43:46.905Z"
   },
   {
    "duration": 8,
    "start_time": "2022-08-15T08:43:47.234Z"
   },
   {
    "duration": 60,
    "start_time": "2022-08-15T08:46:01.784Z"
   },
   {
    "duration": 4,
    "start_time": "2022-08-15T14:33:32.425Z"
   },
   {
    "duration": 7,
    "start_time": "2022-08-15T14:33:33.607Z"
   },
   {
    "duration": 5,
    "start_time": "2022-08-15T14:33:40.114Z"
   },
   {
    "duration": 9,
    "start_time": "2022-08-15T14:33:40.598Z"
   },
   {
    "duration": 8,
    "start_time": "2022-08-15T14:35:37.680Z"
   },
   {
    "duration": 7,
    "start_time": "2022-08-15T14:35:47.455Z"
   },
   {
    "duration": 469,
    "start_time": "2022-08-15T14:35:53.989Z"
   },
   {
    "duration": 22,
    "start_time": "2022-08-15T14:35:54.461Z"
   },
   {
    "duration": 15,
    "start_time": "2022-08-15T14:35:54.485Z"
   },
   {
    "duration": 9,
    "start_time": "2022-08-15T14:35:54.502Z"
   },
   {
    "duration": 62,
    "start_time": "2022-08-15T14:35:54.512Z"
   },
   {
    "duration": 4,
    "start_time": "2022-08-15T14:35:54.576Z"
   },
   {
    "duration": 11,
    "start_time": "2022-08-15T14:35:54.581Z"
   },
   {
    "duration": 4,
    "start_time": "2022-08-15T14:35:54.593Z"
   },
   {
    "duration": 10,
    "start_time": "2022-08-15T14:35:54.599Z"
   },
   {
    "duration": 5,
    "start_time": "2022-08-15T14:35:54.611Z"
   },
   {
    "duration": 58,
    "start_time": "2022-08-15T14:35:54.617Z"
   },
   {
    "duration": 9,
    "start_time": "2022-08-15T14:35:54.677Z"
   },
   {
    "duration": 4,
    "start_time": "2022-08-15T14:35:54.688Z"
   },
   {
    "duration": 13,
    "start_time": "2022-08-15T14:35:54.693Z"
   },
   {
    "duration": 23,
    "start_time": "2022-08-15T14:35:54.708Z"
   },
   {
    "duration": 40,
    "start_time": "2022-08-15T14:35:54.733Z"
   },
   {
    "duration": 4,
    "start_time": "2022-08-15T14:35:54.775Z"
   },
   {
    "duration": 15,
    "start_time": "2022-08-15T14:35:54.781Z"
   },
   {
    "duration": 6,
    "start_time": "2022-08-15T14:35:54.798Z"
   },
   {
    "duration": 8,
    "start_time": "2022-08-15T14:35:54.806Z"
   },
   {
    "duration": 13,
    "start_time": "2022-08-15T14:35:54.815Z"
   },
   {
    "duration": 875,
    "start_time": "2022-08-15T14:35:54.830Z"
   },
   {
    "duration": 4,
    "start_time": "2022-08-15T14:35:55.707Z"
   },
   {
    "duration": 16,
    "start_time": "2022-08-15T14:35:55.713Z"
   },
   {
    "duration": 168,
    "start_time": "2022-08-15T14:35:55.731Z"
   },
   {
    "duration": 6,
    "start_time": "2022-08-15T14:35:55.901Z"
   },
   {
    "duration": 132,
    "start_time": "2022-08-15T14:35:55.909Z"
   },
   {
    "duration": 20,
    "start_time": "2022-08-15T14:35:56.044Z"
   },
   {
    "duration": 156,
    "start_time": "2022-08-15T14:35:56.066Z"
   },
   {
    "duration": 6,
    "start_time": "2022-08-15T14:35:56.224Z"
   },
   {
    "duration": 178,
    "start_time": "2022-08-15T14:35:56.232Z"
   },
   {
    "duration": 10,
    "start_time": "2022-08-15T14:35:56.412Z"
   },
   {
    "duration": 166,
    "start_time": "2022-08-15T14:35:56.423Z"
   },
   {
    "duration": 5,
    "start_time": "2022-08-15T14:35:56.591Z"
   },
   {
    "duration": 808,
    "start_time": "2022-08-15T14:35:56.597Z"
   },
   {
    "duration": 6,
    "start_time": "2022-08-15T14:35:57.406Z"
   },
   {
    "duration": 11,
    "start_time": "2022-08-15T14:35:57.413Z"
   },
   {
    "duration": 146,
    "start_time": "2022-08-15T14:35:57.426Z"
   },
   {
    "duration": 8,
    "start_time": "2022-08-15T14:35:57.574Z"
   },
   {
    "duration": 134,
    "start_time": "2022-08-15T14:35:57.584Z"
   },
   {
    "duration": 6,
    "start_time": "2022-08-15T14:35:57.719Z"
   },
   {
    "duration": 10,
    "start_time": "2022-08-15T14:35:57.727Z"
   },
   {
    "duration": 222,
    "start_time": "2022-08-15T14:35:57.738Z"
   },
   {
    "duration": 136,
    "start_time": "2022-08-15T14:38:10.032Z"
   },
   {
    "duration": 9,
    "start_time": "2022-08-15T14:38:23.259Z"
   },
   {
    "duration": 10,
    "start_time": "2022-08-15T14:41:37.157Z"
   },
   {
    "duration": 9,
    "start_time": "2022-08-15T14:41:41.536Z"
   },
   {
    "duration": 9,
    "start_time": "2022-08-15T14:41:50.314Z"
   },
   {
    "duration": 8,
    "start_time": "2022-08-15T14:42:04.892Z"
   },
   {
    "duration": 3,
    "start_time": "2022-08-15T14:43:26.588Z"
   },
   {
    "duration": 4,
    "start_time": "2022-08-15T14:46:22.154Z"
   },
   {
    "duration": 3,
    "start_time": "2022-08-15T14:47:01.820Z"
   },
   {
    "duration": 3,
    "start_time": "2022-08-15T14:48:54.850Z"
   },
   {
    "duration": 3,
    "start_time": "2022-08-15T14:48:55.862Z"
   },
   {
    "duration": 7,
    "start_time": "2022-08-15T14:49:27.761Z"
   },
   {
    "duration": 110,
    "start_time": "2022-08-15T14:51:18.704Z"
   },
   {
    "duration": 4,
    "start_time": "2022-08-15T15:37:31.121Z"
   },
   {
    "duration": 547,
    "start_time": "2022-08-15T15:38:34.717Z"
   },
   {
    "duration": 31,
    "start_time": "2022-08-15T15:38:35.267Z"
   },
   {
    "duration": 32,
    "start_time": "2022-08-15T15:38:35.300Z"
   },
   {
    "duration": 19,
    "start_time": "2022-08-15T15:38:35.335Z"
   },
   {
    "duration": 50,
    "start_time": "2022-08-15T15:38:35.356Z"
   },
   {
    "duration": 5,
    "start_time": "2022-08-15T15:38:35.407Z"
   },
   {
    "duration": 19,
    "start_time": "2022-08-15T15:38:35.413Z"
   },
   {
    "duration": 8,
    "start_time": "2022-08-15T15:38:35.434Z"
   },
   {
    "duration": 13,
    "start_time": "2022-08-15T15:38:35.443Z"
   },
   {
    "duration": 3,
    "start_time": "2022-08-15T15:38:35.459Z"
   },
   {
    "duration": 38,
    "start_time": "2022-08-15T15:38:35.464Z"
   },
   {
    "duration": 8,
    "start_time": "2022-08-15T15:38:35.504Z"
   },
   {
    "duration": 8,
    "start_time": "2022-08-15T15:38:35.514Z"
   },
   {
    "duration": 19,
    "start_time": "2022-08-15T15:38:35.523Z"
   },
   {
    "duration": 25,
    "start_time": "2022-08-15T15:38:35.544Z"
   },
   {
    "duration": 17,
    "start_time": "2022-08-15T15:38:35.571Z"
   },
   {
    "duration": 6,
    "start_time": "2022-08-15T15:38:35.590Z"
   },
   {
    "duration": 23,
    "start_time": "2022-08-15T15:38:35.598Z"
   },
   {
    "duration": 10,
    "start_time": "2022-08-15T15:38:35.624Z"
   },
   {
    "duration": 28,
    "start_time": "2022-08-15T15:38:35.636Z"
   },
   {
    "duration": 18,
    "start_time": "2022-08-15T15:38:35.666Z"
   },
   {
    "duration": 777,
    "start_time": "2022-08-15T15:38:35.686Z"
   },
   {
    "duration": 4,
    "start_time": "2022-08-15T15:38:36.464Z"
   },
   {
    "duration": 10,
    "start_time": "2022-08-15T15:38:36.469Z"
   },
   {
    "duration": 134,
    "start_time": "2022-08-15T15:38:36.481Z"
   },
   {
    "duration": 7,
    "start_time": "2022-08-15T15:38:36.617Z"
   },
   {
    "duration": 149,
    "start_time": "2022-08-15T15:38:36.625Z"
   },
   {
    "duration": 6,
    "start_time": "2022-08-15T15:38:36.778Z"
   },
   {
    "duration": 103,
    "start_time": "2022-08-15T15:38:36.786Z"
   },
   {
    "duration": 0,
    "start_time": "2022-08-15T15:38:36.890Z"
   },
   {
    "duration": 0,
    "start_time": "2022-08-15T15:38:36.892Z"
   },
   {
    "duration": 0,
    "start_time": "2022-08-15T15:38:36.893Z"
   },
   {
    "duration": 0,
    "start_time": "2022-08-15T15:38:36.894Z"
   },
   {
    "duration": 0,
    "start_time": "2022-08-15T15:38:36.895Z"
   },
   {
    "duration": 0,
    "start_time": "2022-08-15T15:38:36.896Z"
   },
   {
    "duration": 0,
    "start_time": "2022-08-15T15:38:36.897Z"
   },
   {
    "duration": 0,
    "start_time": "2022-08-15T15:38:36.898Z"
   },
   {
    "duration": 0,
    "start_time": "2022-08-15T15:38:36.900Z"
   },
   {
    "duration": 0,
    "start_time": "2022-08-15T15:38:36.901Z"
   },
   {
    "duration": 0,
    "start_time": "2022-08-15T15:38:36.901Z"
   },
   {
    "duration": 1,
    "start_time": "2022-08-15T15:38:36.902Z"
   },
   {
    "duration": 0,
    "start_time": "2022-08-15T15:38:36.903Z"
   },
   {
    "duration": 0,
    "start_time": "2022-08-15T15:38:36.905Z"
   },
   {
    "duration": 0,
    "start_time": "2022-08-15T15:38:36.905Z"
   },
   {
    "duration": 515,
    "start_time": "2022-08-15T15:39:03.445Z"
   },
   {
    "duration": 22,
    "start_time": "2022-08-15T15:39:03.963Z"
   },
   {
    "duration": 21,
    "start_time": "2022-08-15T15:39:03.986Z"
   },
   {
    "duration": 39,
    "start_time": "2022-08-15T15:39:04.009Z"
   },
   {
    "duration": 48,
    "start_time": "2022-08-15T15:39:04.050Z"
   },
   {
    "duration": 3,
    "start_time": "2022-08-15T15:39:04.100Z"
   },
   {
    "duration": 20,
    "start_time": "2022-08-15T15:39:04.104Z"
   },
   {
    "duration": 17,
    "start_time": "2022-08-15T15:39:04.126Z"
   },
   {
    "duration": 25,
    "start_time": "2022-08-15T15:39:04.145Z"
   },
   {
    "duration": 11,
    "start_time": "2022-08-15T15:39:04.172Z"
   },
   {
    "duration": 52,
    "start_time": "2022-08-15T15:39:04.185Z"
   },
   {
    "duration": 8,
    "start_time": "2022-08-15T15:39:04.239Z"
   },
   {
    "duration": 13,
    "start_time": "2022-08-15T15:39:04.249Z"
   },
   {
    "duration": 47,
    "start_time": "2022-08-15T15:39:04.264Z"
   },
   {
    "duration": 40,
    "start_time": "2022-08-15T15:39:04.312Z"
   },
   {
    "duration": 16,
    "start_time": "2022-08-15T15:39:04.354Z"
   },
   {
    "duration": 22,
    "start_time": "2022-08-15T15:39:04.372Z"
   },
   {
    "duration": 45,
    "start_time": "2022-08-15T15:39:04.395Z"
   },
   {
    "duration": 46,
    "start_time": "2022-08-15T15:39:04.442Z"
   },
   {
    "duration": 12,
    "start_time": "2022-08-15T15:39:04.490Z"
   },
   {
    "duration": 32,
    "start_time": "2022-08-15T15:39:04.503Z"
   },
   {
    "duration": 1091,
    "start_time": "2022-08-15T15:39:04.536Z"
   },
   {
    "duration": 4,
    "start_time": "2022-08-15T15:39:05.628Z"
   },
   {
    "duration": 31,
    "start_time": "2022-08-15T15:39:05.633Z"
   },
   {
    "duration": 149,
    "start_time": "2022-08-15T15:39:05.666Z"
   },
   {
    "duration": 7,
    "start_time": "2022-08-15T15:39:05.817Z"
   },
   {
    "duration": 145,
    "start_time": "2022-08-15T15:39:05.825Z"
   },
   {
    "duration": 6,
    "start_time": "2022-08-15T15:39:05.974Z"
   },
   {
    "duration": 28,
    "start_time": "2022-08-15T15:39:05.981Z"
   },
   {
    "duration": 164,
    "start_time": "2022-08-15T15:39:06.010Z"
   },
   {
    "duration": 6,
    "start_time": "2022-08-15T15:39:06.177Z"
   },
   {
    "duration": 174,
    "start_time": "2022-08-15T15:39:06.185Z"
   },
   {
    "duration": 11,
    "start_time": "2022-08-15T15:39:06.361Z"
   },
   {
    "duration": 152,
    "start_time": "2022-08-15T15:39:06.374Z"
   },
   {
    "duration": 5,
    "start_time": "2022-08-15T15:39:06.528Z"
   },
   {
    "duration": 743,
    "start_time": "2022-08-15T15:39:06.535Z"
   },
   {
    "duration": 4,
    "start_time": "2022-08-15T15:39:07.280Z"
   },
   {
    "duration": 12,
    "start_time": "2022-08-15T15:39:07.286Z"
   },
   {
    "duration": 132,
    "start_time": "2022-08-15T15:39:07.300Z"
   },
   {
    "duration": 8,
    "start_time": "2022-08-15T15:39:07.433Z"
   },
   {
    "duration": 135,
    "start_time": "2022-08-15T15:39:07.443Z"
   },
   {
    "duration": 5,
    "start_time": "2022-08-15T15:39:07.580Z"
   },
   {
    "duration": 10,
    "start_time": "2022-08-15T15:39:07.587Z"
   },
   {
    "duration": 150,
    "start_time": "2022-08-15T15:39:07.598Z"
   },
   {
    "duration": 7,
    "start_time": "2022-08-15T15:39:37.392Z"
   },
   {
    "duration": 177,
    "start_time": "2022-08-15T15:39:38.114Z"
   },
   {
    "duration": 458,
    "start_time": "2022-08-15T15:41:10.666Z"
   },
   {
    "duration": 22,
    "start_time": "2022-08-15T15:41:11.126Z"
   },
   {
    "duration": 15,
    "start_time": "2022-08-15T15:41:11.149Z"
   },
   {
    "duration": 8,
    "start_time": "2022-08-15T15:41:11.166Z"
   },
   {
    "duration": 31,
    "start_time": "2022-08-15T15:41:11.176Z"
   },
   {
    "duration": 3,
    "start_time": "2022-08-15T15:41:11.209Z"
   },
   {
    "duration": 13,
    "start_time": "2022-08-15T15:41:11.214Z"
   },
   {
    "duration": 11,
    "start_time": "2022-08-15T15:41:11.228Z"
   },
   {
    "duration": 23,
    "start_time": "2022-08-15T15:41:11.240Z"
   },
   {
    "duration": 4,
    "start_time": "2022-08-15T15:41:11.266Z"
   },
   {
    "duration": 32,
    "start_time": "2022-08-15T15:41:11.272Z"
   },
   {
    "duration": 10,
    "start_time": "2022-08-15T15:41:11.306Z"
   },
   {
    "duration": 4,
    "start_time": "2022-08-15T15:41:11.318Z"
   },
   {
    "duration": 47,
    "start_time": "2022-08-15T15:41:11.324Z"
   },
   {
    "duration": 21,
    "start_time": "2022-08-15T15:41:11.374Z"
   },
   {
    "duration": 18,
    "start_time": "2022-08-15T15:41:11.397Z"
   },
   {
    "duration": 4,
    "start_time": "2022-08-15T15:41:11.417Z"
   },
   {
    "duration": 35,
    "start_time": "2022-08-15T15:41:11.422Z"
   },
   {
    "duration": 13,
    "start_time": "2022-08-15T15:41:11.459Z"
   },
   {
    "duration": 17,
    "start_time": "2022-08-15T15:41:11.474Z"
   },
   {
    "duration": 18,
    "start_time": "2022-08-15T15:41:11.493Z"
   },
   {
    "duration": 759,
    "start_time": "2022-08-15T15:41:11.513Z"
   },
   {
    "duration": 4,
    "start_time": "2022-08-15T15:41:12.274Z"
   },
   {
    "duration": 6,
    "start_time": "2022-08-15T15:41:12.280Z"
   },
   {
    "duration": 10,
    "start_time": "2022-08-15T15:41:12.288Z"
   },
   {
    "duration": 160,
    "start_time": "2022-08-15T15:41:12.299Z"
   },
   {
    "duration": 7,
    "start_time": "2022-08-15T15:41:12.461Z"
   },
   {
    "duration": 140,
    "start_time": "2022-08-15T15:41:12.471Z"
   },
   {
    "duration": 5,
    "start_time": "2022-08-15T15:41:12.613Z"
   },
   {
    "duration": 9,
    "start_time": "2022-08-15T15:41:12.620Z"
   },
   {
    "duration": 163,
    "start_time": "2022-08-15T15:41:12.631Z"
   },
   {
    "duration": 5,
    "start_time": "2022-08-15T15:41:12.796Z"
   },
   {
    "duration": 163,
    "start_time": "2022-08-15T15:41:12.803Z"
   },
   {
    "duration": 10,
    "start_time": "2022-08-15T15:41:12.967Z"
   },
   {
    "duration": 158,
    "start_time": "2022-08-15T15:41:12.979Z"
   },
   {
    "duration": 6,
    "start_time": "2022-08-15T15:41:13.139Z"
   },
   {
    "duration": 802,
    "start_time": "2022-08-15T15:41:13.157Z"
   },
   {
    "duration": 5,
    "start_time": "2022-08-15T15:41:13.962Z"
   },
   {
    "duration": 11,
    "start_time": "2022-08-15T15:41:13.968Z"
   },
   {
    "duration": 157,
    "start_time": "2022-08-15T15:41:13.981Z"
   },
   {
    "duration": 20,
    "start_time": "2022-08-15T15:41:14.140Z"
   },
   {
    "duration": 138,
    "start_time": "2022-08-15T15:41:14.163Z"
   },
   {
    "duration": 6,
    "start_time": "2022-08-15T15:41:14.303Z"
   },
   {
    "duration": 13,
    "start_time": "2022-08-15T15:41:14.311Z"
   },
   {
    "duration": 153,
    "start_time": "2022-08-15T15:41:14.325Z"
   },
   {
    "duration": 263,
    "start_time": "2022-08-15T15:43:06.733Z"
   },
   {
    "duration": 12,
    "start_time": "2022-08-15T15:43:16.733Z"
   },
   {
    "duration": 103,
    "start_time": "2022-08-15T15:43:21.864Z"
   },
   {
    "duration": 59,
    "start_time": "2022-08-15T15:45:10.903Z"
   },
   {
    "duration": 139,
    "start_time": "2022-08-15T15:45:15.291Z"
   },
   {
    "duration": 103,
    "start_time": "2022-08-15T15:45:18.388Z"
   },
   {
    "duration": 100,
    "start_time": "2022-08-15T15:49:51.850Z"
   },
   {
    "duration": 99,
    "start_time": "2022-08-15T15:49:56.197Z"
   },
   {
    "duration": 14,
    "start_time": "2022-08-15T15:50:35.277Z"
   },
   {
    "duration": 13,
    "start_time": "2022-08-15T15:50:35.924Z"
   },
   {
    "duration": 63,
    "start_time": "2022-08-15T15:51:00.614Z"
   },
   {
    "duration": 115,
    "start_time": "2022-08-15T15:51:09.707Z"
   },
   {
    "duration": 104,
    "start_time": "2022-08-15T15:51:26.424Z"
   },
   {
    "duration": 102,
    "start_time": "2022-08-15T15:51:31.821Z"
   },
   {
    "duration": 116,
    "start_time": "2022-08-15T15:51:44.678Z"
   },
   {
    "duration": 111,
    "start_time": "2022-08-15T15:51:55.485Z"
   },
   {
    "duration": 119,
    "start_time": "2022-08-15T15:51:58.519Z"
   },
   {
    "duration": 123,
    "start_time": "2022-08-15T15:55:19.591Z"
   },
   {
    "duration": 6,
    "start_time": "2022-08-15T16:00:28.951Z"
   },
   {
    "duration": 7,
    "start_time": "2022-08-15T16:00:49.722Z"
   },
   {
    "duration": 7,
    "start_time": "2022-08-15T16:05:28.367Z"
   },
   {
    "duration": 8,
    "start_time": "2022-08-15T16:05:52.941Z"
   },
   {
    "duration": 18,
    "start_time": "2022-08-15T16:07:13.232Z"
   },
   {
    "duration": 8,
    "start_time": "2022-08-15T16:07:48.702Z"
   },
   {
    "duration": 7,
    "start_time": "2022-08-15T16:07:56.877Z"
   },
   {
    "duration": 7,
    "start_time": "2022-08-15T16:08:04.508Z"
   },
   {
    "duration": 9,
    "start_time": "2022-08-15T16:08:41.870Z"
   },
   {
    "duration": 18,
    "start_time": "2022-08-15T16:09:16.247Z"
   },
   {
    "duration": 8,
    "start_time": "2022-08-15T16:11:00.186Z"
   },
   {
    "duration": 9,
    "start_time": "2022-08-15T16:11:03.644Z"
   },
   {
    "duration": 8,
    "start_time": "2022-08-15T16:11:24.380Z"
   },
   {
    "duration": 9,
    "start_time": "2022-08-15T16:12:19.861Z"
   },
   {
    "duration": 9,
    "start_time": "2022-08-15T16:12:37.555Z"
   },
   {
    "duration": 8,
    "start_time": "2022-08-15T16:13:08.948Z"
   },
   {
    "duration": 12,
    "start_time": "2022-08-15T16:19:36.888Z"
   },
   {
    "duration": 19,
    "start_time": "2022-08-15T16:20:17.456Z"
   },
   {
    "duration": 8,
    "start_time": "2022-08-15T16:24:20.923Z"
   },
   {
    "duration": 7,
    "start_time": "2022-08-15T16:24:42.511Z"
   },
   {
    "duration": 8,
    "start_time": "2022-08-15T16:28:34.712Z"
   },
   {
    "duration": 166,
    "start_time": "2022-08-15T16:30:09.403Z"
   },
   {
    "duration": 157,
    "start_time": "2022-08-15T16:30:37.010Z"
   },
   {
    "duration": 3,
    "start_time": "2022-08-15T16:32:47.624Z"
   },
   {
    "duration": 3,
    "start_time": "2022-08-15T16:33:21.717Z"
   },
   {
    "duration": 3,
    "start_time": "2022-08-15T16:33:33.178Z"
   },
   {
    "duration": 4,
    "start_time": "2022-08-15T16:38:47.983Z"
   },
   {
    "duration": 8,
    "start_time": "2022-08-15T16:39:49.046Z"
   },
   {
    "duration": 7,
    "start_time": "2022-08-15T16:41:05.533Z"
   },
   {
    "duration": 9,
    "start_time": "2022-08-15T16:43:52.804Z"
   },
   {
    "duration": 6,
    "start_time": "2022-08-15T16:44:24.495Z"
   },
   {
    "duration": 11,
    "start_time": "2022-08-15T16:44:36.584Z"
   },
   {
    "duration": 7,
    "start_time": "2022-08-15T16:47:01.607Z"
   },
   {
    "duration": 12,
    "start_time": "2022-08-15T16:47:14.219Z"
   },
   {
    "duration": 4,
    "start_time": "2022-08-15T16:47:35.779Z"
   },
   {
    "duration": 9,
    "start_time": "2022-08-15T16:47:38.852Z"
   },
   {
    "duration": 9,
    "start_time": "2022-08-15T17:01:47.678Z"
   },
   {
    "duration": 4,
    "start_time": "2022-08-15T17:01:57.074Z"
   },
   {
    "duration": 9,
    "start_time": "2022-08-15T17:01:57.450Z"
   },
   {
    "duration": 7,
    "start_time": "2022-08-15T17:02:05.330Z"
   },
   {
    "duration": 3,
    "start_time": "2022-08-15T17:03:03.173Z"
   },
   {
    "duration": 2,
    "start_time": "2022-08-15T17:03:04.618Z"
   },
   {
    "duration": 4,
    "start_time": "2022-08-15T17:03:11.574Z"
   },
   {
    "duration": 4,
    "start_time": "2022-08-15T17:03:11.955Z"
   },
   {
    "duration": 4,
    "start_time": "2022-08-15T17:03:21.809Z"
   },
   {
    "duration": 7,
    "start_time": "2022-08-15T17:03:22.219Z"
   },
   {
    "duration": 7,
    "start_time": "2022-08-15T17:04:01.675Z"
   },
   {
    "duration": 6,
    "start_time": "2022-08-15T17:04:37.719Z"
   },
   {
    "duration": 5,
    "start_time": "2022-08-15T17:04:40.284Z"
   },
   {
    "duration": 7,
    "start_time": "2022-08-15T17:04:40.820Z"
   },
   {
    "duration": 4,
    "start_time": "2022-08-15T17:06:08.187Z"
   },
   {
    "duration": 7,
    "start_time": "2022-08-15T17:06:08.643Z"
   },
   {
    "duration": 12,
    "start_time": "2022-08-15T17:06:58.408Z"
   },
   {
    "duration": 7,
    "start_time": "2022-08-15T17:07:11.423Z"
   },
   {
    "duration": 232,
    "start_time": "2022-08-15T17:15:10.186Z"
   },
   {
    "duration": 16,
    "start_time": "2022-08-15T17:16:28.756Z"
   },
   {
    "duration": 8,
    "start_time": "2022-08-15T17:16:56.207Z"
   },
   {
    "duration": 14,
    "start_time": "2022-08-15T17:18:21.229Z"
   },
   {
    "duration": 6,
    "start_time": "2022-08-15T17:18:52.632Z"
   },
   {
    "duration": 119,
    "start_time": "2022-08-15T17:19:11.014Z"
   },
   {
    "duration": 8,
    "start_time": "2022-08-15T17:19:13.298Z"
   },
   {
    "duration": 9,
    "start_time": "2022-08-15T17:19:56.043Z"
   },
   {
    "duration": 23,
    "start_time": "2022-08-15T17:29:18.417Z"
   },
   {
    "duration": 22,
    "start_time": "2022-08-15T17:29:56.870Z"
   },
   {
    "duration": 23,
    "start_time": "2022-08-15T17:30:13.001Z"
   },
   {
    "duration": 154,
    "start_time": "2022-08-15T17:30:36.754Z"
   },
   {
    "duration": 138,
    "start_time": "2022-08-15T17:30:43.805Z"
   },
   {
    "duration": 144,
    "start_time": "2022-08-15T17:30:50.377Z"
   },
   {
    "duration": 143,
    "start_time": "2022-08-15T17:30:53.800Z"
   },
   {
    "duration": 153,
    "start_time": "2022-08-15T17:31:00.566Z"
   },
   {
    "duration": 141,
    "start_time": "2022-08-15T17:31:06.815Z"
   },
   {
    "duration": 9,
    "start_time": "2022-08-15T17:32:52.626Z"
   },
   {
    "duration": 3,
    "start_time": "2022-08-15T17:32:58.175Z"
   },
   {
    "duration": 8,
    "start_time": "2022-08-15T17:32:58.735Z"
   },
   {
    "duration": 3,
    "start_time": "2022-08-15T17:33:00.213Z"
   },
   {
    "duration": 6,
    "start_time": "2022-08-15T17:33:00.748Z"
   },
   {
    "duration": 151,
    "start_time": "2022-08-15T17:33:07.870Z"
   },
   {
    "duration": 140,
    "start_time": "2022-08-15T17:33:43.170Z"
   },
   {
    "duration": 143,
    "start_time": "2022-08-15T17:34:10.912Z"
   },
   {
    "duration": 145,
    "start_time": "2022-08-15T17:35:31.950Z"
   },
   {
    "duration": 175,
    "start_time": "2022-08-15T17:35:55.156Z"
   },
   {
    "duration": 137,
    "start_time": "2022-08-15T17:36:03.863Z"
   },
   {
    "duration": 8,
    "start_time": "2022-08-15T17:38:22.962Z"
   },
   {
    "duration": 8,
    "start_time": "2022-08-15T17:38:37.781Z"
   },
   {
    "duration": 11,
    "start_time": "2022-08-15T17:39:35.710Z"
   },
   {
    "duration": 489,
    "start_time": "2022-08-15T17:39:49.329Z"
   },
   {
    "duration": 21,
    "start_time": "2022-08-15T17:39:49.820Z"
   },
   {
    "duration": 21,
    "start_time": "2022-08-15T17:39:49.843Z"
   },
   {
    "duration": 22,
    "start_time": "2022-08-15T17:39:49.866Z"
   },
   {
    "duration": 43,
    "start_time": "2022-08-15T17:39:49.889Z"
   },
   {
    "duration": 3,
    "start_time": "2022-08-15T17:39:49.934Z"
   },
   {
    "duration": 10,
    "start_time": "2022-08-15T17:39:49.938Z"
   },
   {
    "duration": 5,
    "start_time": "2022-08-15T17:39:49.949Z"
   },
   {
    "duration": 17,
    "start_time": "2022-08-15T17:39:49.957Z"
   },
   {
    "duration": 4,
    "start_time": "2022-08-15T17:39:49.978Z"
   },
   {
    "duration": 36,
    "start_time": "2022-08-15T17:39:49.984Z"
   },
   {
    "duration": 9,
    "start_time": "2022-08-15T17:39:50.022Z"
   },
   {
    "duration": 9,
    "start_time": "2022-08-15T17:39:50.033Z"
   },
   {
    "duration": 22,
    "start_time": "2022-08-15T17:39:50.044Z"
   },
   {
    "duration": 22,
    "start_time": "2022-08-15T17:39:50.068Z"
   },
   {
    "duration": 16,
    "start_time": "2022-08-15T17:39:50.092Z"
   },
   {
    "duration": 3,
    "start_time": "2022-08-15T17:39:50.110Z"
   },
   {
    "duration": 13,
    "start_time": "2022-08-15T17:39:50.115Z"
   },
   {
    "duration": 9,
    "start_time": "2022-08-15T17:39:50.130Z"
   },
   {
    "duration": 18,
    "start_time": "2022-08-15T17:39:50.140Z"
   },
   {
    "duration": 13,
    "start_time": "2022-08-15T17:39:50.160Z"
   },
   {
    "duration": 712,
    "start_time": "2022-08-15T17:39:50.175Z"
   },
   {
    "duration": 4,
    "start_time": "2022-08-15T17:39:50.888Z"
   },
   {
    "duration": 14,
    "start_time": "2022-08-15T17:39:50.893Z"
   },
   {
    "duration": 7,
    "start_time": "2022-08-15T17:39:50.908Z"
   },
   {
    "duration": 16,
    "start_time": "2022-08-15T17:39:50.917Z"
   },
   {
    "duration": 4,
    "start_time": "2022-08-15T17:39:50.934Z"
   },
   {
    "duration": 7,
    "start_time": "2022-08-15T17:39:50.941Z"
   },
   {
    "duration": 11,
    "start_time": "2022-08-15T17:39:50.949Z"
   },
   {
    "duration": 124,
    "start_time": "2022-08-15T17:39:50.962Z"
   },
   {
    "duration": 7,
    "start_time": "2022-08-15T17:39:51.087Z"
   },
   {
    "duration": 140,
    "start_time": "2022-08-15T17:39:51.096Z"
   },
   {
    "duration": 20,
    "start_time": "2022-08-15T17:39:51.238Z"
   },
   {
    "duration": 175,
    "start_time": "2022-08-15T17:39:51.260Z"
   },
   {
    "duration": 9,
    "start_time": "2022-08-15T17:39:51.437Z"
   },
   {
    "duration": 160,
    "start_time": "2022-08-15T17:39:51.448Z"
   },
   {
    "duration": 10,
    "start_time": "2022-08-15T17:39:51.610Z"
   },
   {
    "duration": 156,
    "start_time": "2022-08-15T17:39:51.621Z"
   },
   {
    "duration": 5,
    "start_time": "2022-08-15T17:39:51.778Z"
   },
   {
    "duration": 733,
    "start_time": "2022-08-15T17:39:51.784Z"
   },
   {
    "duration": 5,
    "start_time": "2022-08-15T17:39:52.518Z"
   },
   {
    "duration": 11,
    "start_time": "2022-08-15T17:39:52.525Z"
   },
   {
    "duration": 144,
    "start_time": "2022-08-15T17:39:52.537Z"
   },
   {
    "duration": 9,
    "start_time": "2022-08-15T17:39:52.683Z"
   },
   {
    "duration": 135,
    "start_time": "2022-08-15T17:39:52.694Z"
   },
   {
    "duration": 6,
    "start_time": "2022-08-15T17:39:52.830Z"
   },
   {
    "duration": 23,
    "start_time": "2022-08-15T17:39:52.838Z"
   },
   {
    "duration": 143,
    "start_time": "2022-08-15T17:39:52.862Z"
   },
   {
    "duration": 205,
    "start_time": "2022-08-15T17:40:43.393Z"
   },
   {
    "duration": 10,
    "start_time": "2022-08-15T17:43:10.867Z"
   },
   {
    "duration": 142,
    "start_time": "2022-08-15T17:45:43.862Z"
   },
   {
    "duration": 145,
    "start_time": "2022-08-15T17:45:53.518Z"
   },
   {
    "duration": 5,
    "start_time": "2022-08-15T17:52:50.368Z"
   },
   {
    "duration": 4,
    "start_time": "2022-08-15T17:53:09.436Z"
   },
   {
    "duration": 61,
    "start_time": "2022-08-15T17:54:28.379Z"
   },
   {
    "duration": 831,
    "start_time": "2022-08-15T17:55:36.842Z"
   },
   {
    "duration": 9,
    "start_time": "2022-08-15T18:09:50.883Z"
   },
   {
    "duration": 10,
    "start_time": "2022-08-15T18:11:37.222Z"
   },
   {
    "duration": 141,
    "start_time": "2022-08-15T18:11:42.037Z"
   },
   {
    "duration": 127,
    "start_time": "2022-08-15T18:11:53.539Z"
   },
   {
    "duration": 115,
    "start_time": "2022-08-15T18:12:14.972Z"
   },
   {
    "duration": 129,
    "start_time": "2022-08-15T18:12:26.481Z"
   },
   {
    "duration": 12,
    "start_time": "2022-08-15T18:14:44.990Z"
   },
   {
    "duration": 135,
    "start_time": "2022-08-15T18:17:28.403Z"
   },
   {
    "duration": 10,
    "start_time": "2022-08-15T18:20:10.769Z"
   },
   {
    "duration": 9,
    "start_time": "2022-08-15T18:23:09.455Z"
   },
   {
    "duration": 140,
    "start_time": "2022-08-15T18:25:07.163Z"
   },
   {
    "duration": 448,
    "start_time": "2022-08-15T19:01:27.604Z"
   },
   {
    "duration": 20,
    "start_time": "2022-08-15T19:01:28.054Z"
   },
   {
    "duration": 13,
    "start_time": "2022-08-15T19:01:28.075Z"
   },
   {
    "duration": 8,
    "start_time": "2022-08-15T19:01:28.090Z"
   },
   {
    "duration": 30,
    "start_time": "2022-08-15T19:01:28.100Z"
   },
   {
    "duration": 4,
    "start_time": "2022-08-15T19:01:28.132Z"
   },
   {
    "duration": 10,
    "start_time": "2022-08-15T19:01:28.157Z"
   },
   {
    "duration": 11,
    "start_time": "2022-08-15T19:01:28.169Z"
   },
   {
    "duration": 16,
    "start_time": "2022-08-15T19:01:28.181Z"
   },
   {
    "duration": 4,
    "start_time": "2022-08-15T19:01:28.200Z"
   },
   {
    "duration": 52,
    "start_time": "2022-08-15T19:01:28.205Z"
   },
   {
    "duration": 8,
    "start_time": "2022-08-15T19:01:28.259Z"
   },
   {
    "duration": 29,
    "start_time": "2022-08-15T19:01:28.268Z"
   },
   {
    "duration": 43,
    "start_time": "2022-08-15T19:01:28.299Z"
   },
   {
    "duration": 21,
    "start_time": "2022-08-15T19:01:28.344Z"
   },
   {
    "duration": 15,
    "start_time": "2022-08-15T19:01:28.367Z"
   },
   {
    "duration": 3,
    "start_time": "2022-08-15T19:01:28.384Z"
   },
   {
    "duration": 16,
    "start_time": "2022-08-15T19:01:28.388Z"
   },
   {
    "duration": 7,
    "start_time": "2022-08-15T19:01:28.405Z"
   },
   {
    "duration": 6,
    "start_time": "2022-08-15T19:01:28.413Z"
   },
   {
    "duration": 9,
    "start_time": "2022-08-15T19:01:28.420Z"
   },
   {
    "duration": 710,
    "start_time": "2022-08-15T19:01:28.430Z"
   },
   {
    "duration": 3,
    "start_time": "2022-08-15T19:01:29.141Z"
   },
   {
    "duration": 5,
    "start_time": "2022-08-15T19:01:29.145Z"
   },
   {
    "duration": 7,
    "start_time": "2022-08-15T19:01:29.151Z"
   },
   {
    "duration": 10,
    "start_time": "2022-08-15T19:01:29.159Z"
   },
   {
    "duration": 3,
    "start_time": "2022-08-15T19:01:29.170Z"
   },
   {
    "duration": 13,
    "start_time": "2022-08-15T19:01:29.176Z"
   },
   {
    "duration": 5,
    "start_time": "2022-08-15T19:01:29.191Z"
   },
   {
    "duration": 125,
    "start_time": "2022-08-15T19:01:29.197Z"
   },
   {
    "duration": 6,
    "start_time": "2022-08-15T19:01:29.324Z"
   },
   {
    "duration": 128,
    "start_time": "2022-08-15T19:01:29.331Z"
   },
   {
    "duration": 7,
    "start_time": "2022-08-15T19:01:29.460Z"
   },
   {
    "duration": 148,
    "start_time": "2022-08-15T19:01:29.469Z"
   },
   {
    "duration": 9,
    "start_time": "2022-08-15T19:01:29.618Z"
   },
   {
    "duration": 151,
    "start_time": "2022-08-15T19:01:29.628Z"
   },
   {
    "duration": 10,
    "start_time": "2022-08-15T19:01:29.781Z"
   },
   {
    "duration": 154,
    "start_time": "2022-08-15T19:01:29.792Z"
   },
   {
    "duration": 11,
    "start_time": "2022-08-15T19:01:29.947Z"
   },
   {
    "duration": 768,
    "start_time": "2022-08-15T19:01:29.959Z"
   },
   {
    "duration": 9,
    "start_time": "2022-08-15T19:01:30.729Z"
   },
   {
    "duration": 146,
    "start_time": "2022-08-15T19:01:30.740Z"
   },
   {
    "duration": 10,
    "start_time": "2022-08-15T19:01:30.888Z"
   },
   {
    "duration": 255,
    "start_time": "2022-08-15T19:01:30.900Z"
   },
   {
    "duration": 10,
    "start_time": "2022-08-15T19:01:31.157Z"
   },
   {
    "duration": 122,
    "start_time": "2022-08-15T19:01:31.169Z"
   },
   {
    "duration": 196,
    "start_time": "2022-08-15T19:01:31.293Z"
   },
   {
    "duration": 107,
    "start_time": "2022-08-15T19:07:19.488Z"
   },
   {
    "duration": 195,
    "start_time": "2022-08-15T19:07:25.943Z"
   },
   {
    "duration": 124,
    "start_time": "2022-08-15T19:07:38.744Z"
   },
   {
    "duration": 153,
    "start_time": "2022-08-15T19:07:57.200Z"
   },
   {
    "duration": 110,
    "start_time": "2022-08-15T19:08:07.452Z"
   },
   {
    "duration": 105,
    "start_time": "2022-08-15T19:08:22.301Z"
   },
   {
    "duration": 124,
    "start_time": "2022-08-15T19:11:23.132Z"
   },
   {
    "duration": 128,
    "start_time": "2022-08-15T19:11:46.446Z"
   },
   {
    "duration": 140,
    "start_time": "2022-08-15T19:12:01.657Z"
   },
   {
    "duration": 118,
    "start_time": "2022-08-15T19:12:44.486Z"
   },
   {
    "duration": 125,
    "start_time": "2022-08-15T19:12:48.174Z"
   },
   {
    "duration": 123,
    "start_time": "2022-08-15T19:12:54.035Z"
   },
   {
    "duration": 850,
    "start_time": "2022-08-15T20:13:43.032Z"
   },
   {
    "duration": 135,
    "start_time": "2022-08-15T20:14:33.984Z"
   },
   {
    "duration": 126,
    "start_time": "2022-08-15T20:15:11.591Z"
   },
   {
    "duration": 133,
    "start_time": "2022-08-15T20:16:49.834Z"
   },
   {
    "duration": 53,
    "start_time": "2022-08-15T20:21:46.020Z"
   },
   {
    "duration": 3,
    "start_time": "2022-08-15T20:21:59.359Z"
   },
   {
    "duration": 8,
    "start_time": "2022-08-15T20:21:59.773Z"
   },
   {
    "duration": 4,
    "start_time": "2022-08-15T20:24:57.638Z"
   },
   {
    "duration": 6,
    "start_time": "2022-08-15T20:24:58.512Z"
   },
   {
    "duration": 457,
    "start_time": "2022-08-15T20:25:36.534Z"
   },
   {
    "duration": 22,
    "start_time": "2022-08-15T20:25:36.993Z"
   },
   {
    "duration": 15,
    "start_time": "2022-08-15T20:25:37.019Z"
   },
   {
    "duration": 30,
    "start_time": "2022-08-15T20:25:37.035Z"
   },
   {
    "duration": 33,
    "start_time": "2022-08-15T20:25:37.069Z"
   },
   {
    "duration": 4,
    "start_time": "2022-08-15T20:25:37.104Z"
   },
   {
    "duration": 13,
    "start_time": "2022-08-15T20:25:37.109Z"
   },
   {
    "duration": 4,
    "start_time": "2022-08-15T20:25:37.124Z"
   },
   {
    "duration": 27,
    "start_time": "2022-08-15T20:25:37.132Z"
   },
   {
    "duration": 11,
    "start_time": "2022-08-15T20:25:37.161Z"
   },
   {
    "duration": 38,
    "start_time": "2022-08-15T20:25:37.174Z"
   },
   {
    "duration": 9,
    "start_time": "2022-08-15T20:25:37.214Z"
   },
   {
    "duration": 9,
    "start_time": "2022-08-15T20:25:37.225Z"
   },
   {
    "duration": 30,
    "start_time": "2022-08-15T20:25:37.236Z"
   },
   {
    "duration": 28,
    "start_time": "2022-08-15T20:25:37.267Z"
   },
   {
    "duration": 17,
    "start_time": "2022-08-15T20:25:37.297Z"
   },
   {
    "duration": 3,
    "start_time": "2022-08-15T20:25:37.316Z"
   },
   {
    "duration": 14,
    "start_time": "2022-08-15T20:25:37.321Z"
   },
   {
    "duration": 7,
    "start_time": "2022-08-15T20:25:37.336Z"
   },
   {
    "duration": 8,
    "start_time": "2022-08-15T20:25:37.357Z"
   },
   {
    "duration": 18,
    "start_time": "2022-08-15T20:25:37.366Z"
   },
   {
    "duration": 707,
    "start_time": "2022-08-15T20:25:37.385Z"
   },
   {
    "duration": 4,
    "start_time": "2022-08-15T20:25:38.093Z"
   },
   {
    "duration": 15,
    "start_time": "2022-08-15T20:25:38.098Z"
   },
   {
    "duration": 12,
    "start_time": "2022-08-15T20:25:38.114Z"
   },
   {
    "duration": 9,
    "start_time": "2022-08-15T20:25:38.128Z"
   },
   {
    "duration": 8,
    "start_time": "2022-08-15T20:25:38.140Z"
   },
   {
    "duration": 124,
    "start_time": "2022-08-15T20:25:38.149Z"
   },
   {
    "duration": 9,
    "start_time": "2022-08-15T20:25:38.274Z"
   },
   {
    "duration": 135,
    "start_time": "2022-08-15T20:25:38.285Z"
   },
   {
    "duration": 7,
    "start_time": "2022-08-15T20:25:38.422Z"
   },
   {
    "duration": 158,
    "start_time": "2022-08-15T20:25:38.431Z"
   },
   {
    "duration": 9,
    "start_time": "2022-08-15T20:25:38.590Z"
   },
   {
    "duration": 167,
    "start_time": "2022-08-15T20:25:38.601Z"
   },
   {
    "duration": 11,
    "start_time": "2022-08-15T20:25:38.770Z"
   },
   {
    "duration": 148,
    "start_time": "2022-08-15T20:25:38.782Z"
   },
   {
    "duration": 5,
    "start_time": "2022-08-15T20:25:38.931Z"
   },
   {
    "duration": 881,
    "start_time": "2022-08-15T20:25:38.938Z"
   },
   {
    "duration": 9,
    "start_time": "2022-08-15T20:25:39.821Z"
   },
   {
    "duration": 153,
    "start_time": "2022-08-15T20:25:39.831Z"
   },
   {
    "duration": 8,
    "start_time": "2022-08-15T20:25:39.986Z"
   },
   {
    "duration": 138,
    "start_time": "2022-08-15T20:25:39.996Z"
   },
   {
    "duration": 10,
    "start_time": "2022-08-15T20:25:40.135Z"
   },
   {
    "duration": 19,
    "start_time": "2022-08-15T20:25:40.146Z"
   },
   {
    "duration": 246,
    "start_time": "2022-08-15T20:25:40.167Z"
   },
   {
    "duration": 168,
    "start_time": "2022-08-15T20:30:04.046Z"
   },
   {
    "duration": 880,
    "start_time": "2022-08-15T20:30:14.927Z"
   },
   {
    "duration": 176,
    "start_time": "2022-08-15T20:30:30.493Z"
   },
   {
    "duration": 169,
    "start_time": "2022-08-15T20:30:36.501Z"
   },
   {
    "duration": 134,
    "start_time": "2022-08-15T20:30:43.714Z"
   },
   {
    "duration": 133,
    "start_time": "2022-08-15T20:30:54.558Z"
   },
   {
    "duration": 152,
    "start_time": "2022-08-15T20:31:07.337Z"
   },
   {
    "duration": 139,
    "start_time": "2022-08-15T20:31:11.633Z"
   },
   {
    "duration": 210,
    "start_time": "2022-08-15T20:31:15.766Z"
   },
   {
    "duration": 852,
    "start_time": "2022-08-15T20:43:25.361Z"
   },
   {
    "duration": 176,
    "start_time": "2022-08-15T20:48:56.733Z"
   },
   {
    "duration": 165,
    "start_time": "2022-08-15T20:49:07.609Z"
   },
   {
    "duration": 224,
    "start_time": "2022-08-15T20:49:23.417Z"
   },
   {
    "duration": 161,
    "start_time": "2022-08-15T20:49:29.749Z"
   },
   {
    "duration": 153,
    "start_time": "2022-08-15T20:49:41.055Z"
   },
   {
    "duration": 161,
    "start_time": "2022-08-15T20:49:48.159Z"
   },
   {
    "duration": 10,
    "start_time": "2022-08-15T21:33:08.651Z"
   },
   {
    "duration": 50,
    "start_time": "2022-08-15T21:38:52.847Z"
   },
   {
    "duration": 2464,
    "start_time": "2022-08-15T21:39:00.049Z"
   },
   {
    "duration": 50,
    "start_time": "2022-08-15T21:40:19.607Z"
   },
   {
    "duration": 62,
    "start_time": "2022-08-15T21:40:25.245Z"
   },
   {
    "duration": 51,
    "start_time": "2022-08-15T21:40:30.731Z"
   },
   {
    "duration": 9,
    "start_time": "2022-08-15T21:40:35.788Z"
   },
   {
    "duration": 123,
    "start_time": "2022-08-16T11:41:20.717Z"
   },
   {
    "duration": 3,
    "start_time": "2022-08-16T11:41:34.713Z"
   },
   {
    "duration": 45,
    "start_time": "2022-08-16T11:42:12.276Z"
   },
   {
    "duration": 568,
    "start_time": "2022-08-16T11:42:18.372Z"
   },
   {
    "duration": 24,
    "start_time": "2022-08-16T11:42:19.770Z"
   },
   {
    "duration": 3,
    "start_time": "2022-08-16T11:42:22.994Z"
   },
   {
    "duration": 145,
    "start_time": "2022-08-16T11:42:23.654Z"
   },
   {
    "duration": 35,
    "start_time": "2022-08-16T11:43:00.668Z"
   },
   {
    "duration": 16,
    "start_time": "2022-08-16T11:43:22.091Z"
   },
   {
    "duration": 25,
    "start_time": "2022-08-16T11:44:04.642Z"
   },
   {
    "duration": 7,
    "start_time": "2022-08-16T11:44:23.896Z"
   },
   {
    "duration": 21,
    "start_time": "2022-08-16T11:44:42.523Z"
   },
   {
    "duration": 22,
    "start_time": "2022-08-16T11:45:16.360Z"
   },
   {
    "duration": 24,
    "start_time": "2022-08-16T11:49:49.132Z"
   },
   {
    "duration": 75,
    "start_time": "2022-08-16T11:49:54.649Z"
   },
   {
    "duration": 15,
    "start_time": "2022-08-16T11:49:55.538Z"
   },
   {
    "duration": 22,
    "start_time": "2022-08-16T11:49:58.381Z"
   },
   {
    "duration": 23,
    "start_time": "2022-08-16T11:54:33.087Z"
   },
   {
    "duration": 16,
    "start_time": "2022-08-16T11:55:04.896Z"
   },
   {
    "duration": 89,
    "start_time": "2022-08-16T11:55:44.764Z"
   },
   {
    "duration": 101,
    "start_time": "2022-08-16T11:56:03.180Z"
   },
   {
    "duration": 534,
    "start_time": "2022-08-16T12:02:18.067Z"
   },
   {
    "duration": 23,
    "start_time": "2022-08-16T12:02:18.603Z"
   },
   {
    "duration": 16,
    "start_time": "2022-08-16T12:02:18.628Z"
   },
   {
    "duration": 11,
    "start_time": "2022-08-16T12:02:18.646Z"
   },
   {
    "duration": 61,
    "start_time": "2022-08-16T12:02:18.659Z"
   },
   {
    "duration": 3,
    "start_time": "2022-08-16T12:02:18.722Z"
   },
   {
    "duration": 11,
    "start_time": "2022-08-16T12:02:18.727Z"
   },
   {
    "duration": 4,
    "start_time": "2022-08-16T12:02:18.739Z"
   },
   {
    "duration": 10,
    "start_time": "2022-08-16T12:02:18.745Z"
   },
   {
    "duration": 4,
    "start_time": "2022-08-16T12:02:18.759Z"
   },
   {
    "duration": 57,
    "start_time": "2022-08-16T12:02:18.765Z"
   },
   {
    "duration": 10,
    "start_time": "2022-08-16T12:02:18.824Z"
   },
   {
    "duration": 4,
    "start_time": "2022-08-16T12:02:18.835Z"
   },
   {
    "duration": 13,
    "start_time": "2022-08-16T12:02:18.841Z"
   },
   {
    "duration": 41,
    "start_time": "2022-08-16T12:02:18.856Z"
   },
   {
    "duration": 18,
    "start_time": "2022-08-16T12:02:18.899Z"
   },
   {
    "duration": 4,
    "start_time": "2022-08-16T12:02:18.919Z"
   },
   {
    "duration": 21,
    "start_time": "2022-08-16T12:02:18.924Z"
   },
   {
    "duration": 8,
    "start_time": "2022-08-16T12:02:18.947Z"
   },
   {
    "duration": 5,
    "start_time": "2022-08-16T12:02:18.957Z"
   },
   {
    "duration": 32,
    "start_time": "2022-08-16T12:02:18.963Z"
   },
   {
    "duration": 929,
    "start_time": "2022-08-16T12:02:18.997Z"
   },
   {
    "duration": 4,
    "start_time": "2022-08-16T12:02:19.928Z"
   },
   {
    "duration": 6,
    "start_time": "2022-08-16T12:02:19.934Z"
   },
   {
    "duration": 6,
    "start_time": "2022-08-16T12:02:19.942Z"
   },
   {
    "duration": 5,
    "start_time": "2022-08-16T12:02:19.950Z"
   },
   {
    "duration": 16,
    "start_time": "2022-08-16T12:02:19.957Z"
   },
   {
    "duration": 167,
    "start_time": "2022-08-16T12:02:19.976Z"
   },
   {
    "duration": 7,
    "start_time": "2022-08-16T12:02:20.145Z"
   },
   {
    "duration": 171,
    "start_time": "2022-08-16T12:02:20.153Z"
   },
   {
    "duration": 8,
    "start_time": "2022-08-16T12:02:20.325Z"
   },
   {
    "duration": 187,
    "start_time": "2022-08-16T12:02:20.334Z"
   },
   {
    "duration": 10,
    "start_time": "2022-08-16T12:02:20.523Z"
   },
   {
    "duration": 192,
    "start_time": "2022-08-16T12:02:20.536Z"
   },
   {
    "duration": 11,
    "start_time": "2022-08-16T12:02:20.729Z"
   },
   {
    "duration": 185,
    "start_time": "2022-08-16T12:02:20.741Z"
   },
   {
    "duration": 887,
    "start_time": "2022-08-16T12:02:20.928Z"
   },
   {
    "duration": 9,
    "start_time": "2022-08-16T12:02:21.817Z"
   },
   {
    "duration": 184,
    "start_time": "2022-08-16T12:02:21.828Z"
   },
   {
    "duration": 10,
    "start_time": "2022-08-16T12:02:22.014Z"
   },
   {
    "duration": 172,
    "start_time": "2022-08-16T12:02:22.026Z"
   },
   {
    "duration": 11,
    "start_time": "2022-08-16T12:02:22.199Z"
   },
   {
    "duration": 14,
    "start_time": "2022-08-16T12:02:22.211Z"
   },
   {
    "duration": 244,
    "start_time": "2022-08-16T12:02:22.227Z"
   },
   {
    "duration": 85,
    "start_time": "2022-08-16T12:02:22.473Z"
   },
   {
    "duration": 98,
    "start_time": "2022-08-16T12:09:17.797Z"
   },
   {
    "duration": 3,
    "start_time": "2022-08-16T12:09:19.549Z"
   },
   {
    "duration": 8,
    "start_time": "2022-08-16T12:09:20.000Z"
   },
   {
    "duration": 8,
    "start_time": "2022-08-16T12:09:26.182Z"
   },
   {
    "duration": 7,
    "start_time": "2022-08-16T12:09:34.976Z"
   },
   {
    "duration": 3,
    "start_time": "2022-08-16T12:10:14.360Z"
   },
   {
    "duration": 5,
    "start_time": "2022-08-16T12:10:20.953Z"
   },
   {
    "duration": 3,
    "start_time": "2022-08-16T12:15:33.892Z"
   },
   {
    "duration": 4,
    "start_time": "2022-08-16T12:15:34.291Z"
   },
   {
    "duration": 5,
    "start_time": "2022-08-16T12:15:34.701Z"
   },
   {
    "duration": 4,
    "start_time": "2022-08-16T12:16:22.105Z"
   },
   {
    "duration": 4,
    "start_time": "2022-08-16T12:16:43.803Z"
   },
   {
    "duration": 3,
    "start_time": "2022-08-16T12:16:51.290Z"
   },
   {
    "duration": 1205,
    "start_time": "2022-08-16T12:17:11.263Z"
   },
   {
    "duration": 3,
    "start_time": "2022-08-16T12:17:13.846Z"
   },
   {
    "duration": 3,
    "start_time": "2022-08-16T12:17:14.195Z"
   },
   {
    "duration": 4,
    "start_time": "2022-08-16T12:17:15.609Z"
   },
   {
    "duration": 7,
    "start_time": "2022-08-16T12:21:40.905Z"
   },
   {
    "duration": 8,
    "start_time": "2022-08-16T12:21:41.532Z"
   },
   {
    "duration": 3,
    "start_time": "2022-08-16T12:21:42.584Z"
   },
   {
    "duration": 5,
    "start_time": "2022-08-16T12:21:54.333Z"
   },
   {
    "duration": 10,
    "start_time": "2022-08-16T12:21:54.777Z"
   },
   {
    "duration": 1806,
    "start_time": "2022-08-16T12:21:55.872Z"
   },
   {
    "duration": 0,
    "start_time": "2022-08-16T12:21:57.679Z"
   },
   {
    "duration": 6,
    "start_time": "2022-08-16T12:22:12.631Z"
   },
   {
    "duration": 5,
    "start_time": "2022-08-16T12:22:40.929Z"
   },
   {
    "duration": 10,
    "start_time": "2022-08-16T12:22:41.489Z"
   },
   {
    "duration": 6,
    "start_time": "2022-08-16T12:22:42.235Z"
   },
   {
    "duration": 82,
    "start_time": "2022-08-16T12:23:26.022Z"
   },
   {
    "duration": 10,
    "start_time": "2022-08-16T12:23:27.123Z"
   },
   {
    "duration": 78,
    "start_time": "2022-08-16T12:23:32.935Z"
   },
   {
    "duration": 11,
    "start_time": "2022-08-16T12:23:34.126Z"
   },
   {
    "duration": 7,
    "start_time": "2022-08-16T12:23:34.640Z"
   },
   {
    "duration": 7,
    "start_time": "2022-08-16T12:23:48.734Z"
   },
   {
    "duration": 10,
    "start_time": "2022-08-16T12:23:49.428Z"
   },
   {
    "duration": 5,
    "start_time": "2022-08-16T12:23:49.987Z"
   },
   {
    "duration": 5,
    "start_time": "2022-08-16T12:23:58.973Z"
   },
   {
    "duration": 9,
    "start_time": "2022-08-16T12:24:01.564Z"
   },
   {
    "duration": 6,
    "start_time": "2022-08-16T12:24:01.983Z"
   },
   {
    "duration": 5,
    "start_time": "2022-08-16T12:24:24.253Z"
   },
   {
    "duration": 12,
    "start_time": "2022-08-16T12:24:24.737Z"
   },
   {
    "duration": 123,
    "start_time": "2022-08-16T12:24:41.334Z"
   },
   {
    "duration": 113,
    "start_time": "2022-08-16T12:25:05.100Z"
   },
   {
    "duration": 158,
    "start_time": "2022-08-16T12:25:51.131Z"
   },
   {
    "duration": 191,
    "start_time": "2022-08-16T12:26:01.584Z"
   },
   {
    "duration": 110,
    "start_time": "2022-08-16T12:26:12.026Z"
   },
   {
    "duration": 168,
    "start_time": "2022-08-16T12:26:18.473Z"
   },
   {
    "duration": 693,
    "start_time": "2022-08-16T16:31:36.633Z"
   },
   {
    "duration": 25,
    "start_time": "2022-08-16T16:31:37.328Z"
   },
   {
    "duration": 16,
    "start_time": "2022-08-16T16:31:37.356Z"
   },
   {
    "duration": 11,
    "start_time": "2022-08-16T16:31:37.375Z"
   },
   {
    "duration": 33,
    "start_time": "2022-08-16T16:31:37.388Z"
   },
   {
    "duration": 4,
    "start_time": "2022-08-16T16:31:37.422Z"
   },
   {
    "duration": 31,
    "start_time": "2022-08-16T16:31:37.427Z"
   },
   {
    "duration": 4,
    "start_time": "2022-08-16T16:31:37.460Z"
   },
   {
    "duration": 8,
    "start_time": "2022-08-16T16:31:37.465Z"
   },
   {
    "duration": 3,
    "start_time": "2022-08-16T16:31:37.477Z"
   },
   {
    "duration": 36,
    "start_time": "2022-08-16T16:31:37.482Z"
   },
   {
    "duration": 14,
    "start_time": "2022-08-16T16:31:37.520Z"
   },
   {
    "duration": 24,
    "start_time": "2022-08-16T16:31:37.535Z"
   },
   {
    "duration": 13,
    "start_time": "2022-08-16T16:31:37.561Z"
   },
   {
    "duration": 21,
    "start_time": "2022-08-16T16:31:37.576Z"
   },
   {
    "duration": 18,
    "start_time": "2022-08-16T16:31:37.598Z"
   },
   {
    "duration": 4,
    "start_time": "2022-08-16T16:31:37.617Z"
   },
   {
    "duration": 35,
    "start_time": "2022-08-16T16:31:37.622Z"
   },
   {
    "duration": 6,
    "start_time": "2022-08-16T16:31:37.659Z"
   },
   {
    "duration": 4,
    "start_time": "2022-08-16T16:31:37.667Z"
   },
   {
    "duration": 12,
    "start_time": "2022-08-16T16:31:37.672Z"
   },
   {
    "duration": 837,
    "start_time": "2022-08-16T16:31:37.686Z"
   },
   {
    "duration": 4,
    "start_time": "2022-08-16T16:31:38.525Z"
   },
   {
    "duration": 5,
    "start_time": "2022-08-16T16:31:38.531Z"
   },
   {
    "duration": 5,
    "start_time": "2022-08-16T16:31:38.538Z"
   },
   {
    "duration": 4,
    "start_time": "2022-08-16T16:31:38.558Z"
   },
   {
    "duration": 6,
    "start_time": "2022-08-16T16:31:38.565Z"
   },
   {
    "duration": 12,
    "start_time": "2022-08-16T16:31:38.575Z"
   },
   {
    "duration": 6,
    "start_time": "2022-08-16T16:31:38.589Z"
   },
   {
    "duration": 212,
    "start_time": "2022-08-16T16:31:38.597Z"
   },
   {
    "duration": 7,
    "start_time": "2022-08-16T16:31:38.811Z"
   },
   {
    "duration": 170,
    "start_time": "2022-08-16T16:31:38.820Z"
   },
   {
    "duration": 8,
    "start_time": "2022-08-16T16:31:38.992Z"
   },
   {
    "duration": 186,
    "start_time": "2022-08-16T16:31:39.002Z"
   },
   {
    "duration": 8,
    "start_time": "2022-08-16T16:31:39.190Z"
   },
   {
    "duration": 192,
    "start_time": "2022-08-16T16:31:39.200Z"
   },
   {
    "duration": 13,
    "start_time": "2022-08-16T16:31:39.394Z"
   },
   {
    "duration": 197,
    "start_time": "2022-08-16T16:31:39.410Z"
   },
   {
    "duration": 12,
    "start_time": "2022-08-16T16:31:39.608Z"
   },
   {
    "duration": 187,
    "start_time": "2022-08-16T16:31:39.621Z"
   },
   {
    "duration": 931,
    "start_time": "2022-08-16T16:31:39.809Z"
   },
   {
    "duration": 15,
    "start_time": "2022-08-16T16:31:40.742Z"
   },
   {
    "duration": 248,
    "start_time": "2022-08-16T16:31:40.759Z"
   },
   {
    "duration": 12,
    "start_time": "2022-08-16T16:31:41.009Z"
   },
   {
    "duration": 184,
    "start_time": "2022-08-16T16:31:41.023Z"
   },
   {
    "duration": 11,
    "start_time": "2022-08-16T16:31:41.209Z"
   },
   {
    "duration": 11,
    "start_time": "2022-08-16T16:31:41.222Z"
   },
   {
    "duration": 188,
    "start_time": "2022-08-16T16:31:41.235Z"
   },
   {
    "duration": 86,
    "start_time": "2022-08-16T16:31:41.425Z"
   },
   {
    "duration": 100,
    "start_time": "2022-08-16T16:51:46.117Z"
   },
   {
    "duration": 14,
    "start_time": "2022-08-16T16:51:49.548Z"
   },
   {
    "duration": 6,
    "start_time": "2022-08-16T16:52:20.598Z"
   },
   {
    "duration": 90,
    "start_time": "2022-08-16T16:52:35.189Z"
   },
   {
    "duration": 87,
    "start_time": "2022-08-16T16:52:40.116Z"
   },
   {
    "duration": 35,
    "start_time": "2022-08-16T16:52:45.171Z"
   },
   {
    "duration": 6,
    "start_time": "2022-08-16T16:57:52.472Z"
   },
   {
    "duration": 6,
    "start_time": "2022-08-16T16:58:06.403Z"
   },
   {
    "duration": 9,
    "start_time": "2022-08-16T16:58:28.090Z"
   },
   {
    "duration": 8,
    "start_time": "2022-08-16T16:58:44.433Z"
   },
   {
    "duration": 7,
    "start_time": "2022-08-16T17:20:06.878Z"
   },
   {
    "duration": 859,
    "start_time": "2022-08-16T17:20:12.717Z"
   },
   {
    "duration": 11,
    "start_time": "2022-08-16T17:20:15.888Z"
   },
   {
    "duration": 69,
    "start_time": "2022-08-17T09:40:52.291Z"
   },
   {
    "duration": 54,
    "start_time": "2022-08-17T09:59:46.527Z"
   },
   {
    "duration": 47,
    "start_time": "2022-08-17T11:18:48.744Z"
   },
   {
    "duration": 815,
    "start_time": "2022-08-17T11:18:57.088Z"
   },
   {
    "duration": 23,
    "start_time": "2022-08-17T11:18:57.905Z"
   },
   {
    "duration": 18,
    "start_time": "2022-08-17T11:18:57.930Z"
   },
   {
    "duration": 15,
    "start_time": "2022-08-17T11:18:57.950Z"
   },
   {
    "duration": 72,
    "start_time": "2022-08-17T11:18:57.967Z"
   },
   {
    "duration": 4,
    "start_time": "2022-08-17T11:18:58.041Z"
   },
   {
    "duration": 11,
    "start_time": "2022-08-17T11:18:58.047Z"
   },
   {
    "duration": 5,
    "start_time": "2022-08-17T11:18:58.060Z"
   },
   {
    "duration": 8,
    "start_time": "2022-08-17T11:18:58.067Z"
   },
   {
    "duration": 5,
    "start_time": "2022-08-17T11:18:58.098Z"
   },
   {
    "duration": 34,
    "start_time": "2022-08-17T11:18:58.105Z"
   },
   {
    "duration": 10,
    "start_time": "2022-08-17T11:18:58.140Z"
   },
   {
    "duration": 4,
    "start_time": "2022-08-17T11:18:58.151Z"
   },
   {
    "duration": 13,
    "start_time": "2022-08-17T11:18:58.156Z"
   },
   {
    "duration": 21,
    "start_time": "2022-08-17T11:18:58.197Z"
   },
   {
    "duration": 17,
    "start_time": "2022-08-17T11:18:58.219Z"
   },
   {
    "duration": 3,
    "start_time": "2022-08-17T11:18:58.238Z"
   },
   {
    "duration": 26,
    "start_time": "2022-08-17T11:18:58.243Z"
   },
   {
    "duration": 6,
    "start_time": "2022-08-17T11:18:58.270Z"
   },
   {
    "duration": 5,
    "start_time": "2022-08-17T11:18:58.277Z"
   },
   {
    "duration": 8,
    "start_time": "2022-08-17T11:18:58.299Z"
   },
   {
    "duration": 901,
    "start_time": "2022-08-17T11:18:58.309Z"
   },
   {
    "duration": 4,
    "start_time": "2022-08-17T11:18:59.212Z"
   },
   {
    "duration": 7,
    "start_time": "2022-08-17T11:18:59.218Z"
   },
   {
    "duration": 5,
    "start_time": "2022-08-17T11:18:59.226Z"
   },
   {
    "duration": 5,
    "start_time": "2022-08-17T11:18:59.233Z"
   },
   {
    "duration": 6,
    "start_time": "2022-08-17T11:18:59.240Z"
   },
   {
    "duration": 23,
    "start_time": "2022-08-17T11:18:59.250Z"
   },
   {
    "duration": 24,
    "start_time": "2022-08-17T11:18:59.274Z"
   },
   {
    "duration": 171,
    "start_time": "2022-08-17T11:18:59.301Z"
   },
   {
    "duration": 6,
    "start_time": "2022-08-17T11:18:59.474Z"
   },
   {
    "duration": 169,
    "start_time": "2022-08-17T11:18:59.481Z"
   },
   {
    "duration": 7,
    "start_time": "2022-08-17T11:18:59.652Z"
   },
   {
    "duration": 162,
    "start_time": "2022-08-17T11:18:59.660Z"
   },
   {
    "duration": 8,
    "start_time": "2022-08-17T11:18:59.824Z"
   },
   {
    "duration": 173,
    "start_time": "2022-08-17T11:18:59.834Z"
   },
   {
    "duration": 10,
    "start_time": "2022-08-17T11:19:00.009Z"
   },
   {
    "duration": 187,
    "start_time": "2022-08-17T11:19:00.020Z"
   },
   {
    "duration": 11,
    "start_time": "2022-08-17T11:19:00.208Z"
   },
   {
    "duration": 180,
    "start_time": "2022-08-17T11:19:00.220Z"
   },
   {
    "duration": 882,
    "start_time": "2022-08-17T11:19:00.402Z"
   },
   {
    "duration": 14,
    "start_time": "2022-08-17T11:19:01.285Z"
   },
   {
    "duration": 223,
    "start_time": "2022-08-17T11:19:01.300Z"
   },
   {
    "duration": 10,
    "start_time": "2022-08-17T11:19:01.524Z"
   },
   {
    "duration": 178,
    "start_time": "2022-08-17T11:19:01.536Z"
   },
   {
    "duration": 9,
    "start_time": "2022-08-17T11:19:01.716Z"
   },
   {
    "duration": 35,
    "start_time": "2022-08-17T11:19:01.727Z"
   },
   {
    "duration": 182,
    "start_time": "2022-08-17T11:19:01.763Z"
   },
   {
    "duration": 116,
    "start_time": "2022-08-17T11:19:01.948Z"
   },
   {
    "duration": 14,
    "start_time": "2022-08-17T11:19:02.066Z"
   },
   {
    "duration": 130,
    "start_time": "2022-08-17T11:19:02.082Z"
   },
   {
    "duration": 28,
    "start_time": "2022-08-17T11:19:19.176Z"
   },
   {
    "duration": 20,
    "start_time": "2022-08-17T11:19:53.439Z"
   },
   {
    "duration": 97,
    "start_time": "2022-08-17T11:27:48.039Z"
   },
   {
    "duration": 54,
    "start_time": "2022-08-17T11:27:52.500Z"
   },
   {
    "duration": 9,
    "start_time": "2022-08-17T11:28:03.870Z"
   },
   {
    "duration": 11,
    "start_time": "2022-08-17T11:28:13.603Z"
   },
   {
    "duration": 23,
    "start_time": "2022-08-17T11:28:23.294Z"
   },
   {
    "duration": 30,
    "start_time": "2022-08-17T11:28:35.982Z"
   },
   {
    "duration": 9,
    "start_time": "2022-08-17T11:29:29.429Z"
   },
   {
    "duration": 15,
    "start_time": "2022-08-17T11:30:54.967Z"
   },
   {
    "duration": 14,
    "start_time": "2022-08-17T11:31:01.201Z"
   },
   {
    "duration": 3,
    "start_time": "2022-08-17T11:31:01.990Z"
   },
   {
    "duration": 13,
    "start_time": "2022-08-17T11:31:02.737Z"
   },
   {
    "duration": 10,
    "start_time": "2022-08-17T11:31:13.789Z"
   },
   {
    "duration": 2,
    "start_time": "2022-08-17T11:31:21.470Z"
   },
   {
    "duration": 12,
    "start_time": "2022-08-17T11:31:21.885Z"
   },
   {
    "duration": 35,
    "start_time": "2022-08-17T11:31:26.991Z"
   },
   {
    "duration": 42,
    "start_time": "2022-08-17T11:31:57.571Z"
   },
   {
    "duration": 54,
    "start_time": "2022-08-17T11:32:18.057Z"
   },
   {
    "duration": 35,
    "start_time": "2022-08-17T11:33:44.539Z"
   },
   {
    "duration": 24,
    "start_time": "2022-08-17T11:35:27.150Z"
   },
   {
    "duration": 44,
    "start_time": "2022-08-17T11:36:35.487Z"
   },
   {
    "duration": 11,
    "start_time": "2022-08-17T11:38:45.120Z"
   },
   {
    "duration": 2082,
    "start_time": "2022-08-17T11:39:06.794Z"
   },
   {
    "duration": 1696,
    "start_time": "2022-08-17T11:39:14.947Z"
   },
   {
    "duration": 1813,
    "start_time": "2022-08-17T11:39:21.577Z"
   },
   {
    "duration": 35,
    "start_time": "2022-08-17T11:39:26.393Z"
   },
   {
    "duration": 16,
    "start_time": "2022-08-17T11:39:43.471Z"
   },
   {
    "duration": 112,
    "start_time": "2022-08-17T11:39:57.333Z"
   },
   {
    "duration": 19,
    "start_time": "2022-08-17T11:40:29.327Z"
   },
   {
    "duration": 18,
    "start_time": "2022-08-17T11:53:46.334Z"
   },
   {
    "duration": 17,
    "start_time": "2022-08-17T11:53:59.151Z"
   },
   {
    "duration": 24,
    "start_time": "2022-08-17T11:54:04.820Z"
   },
   {
    "duration": 3,
    "start_time": "2022-08-17T11:54:15.242Z"
   },
   {
    "duration": 28,
    "start_time": "2022-08-17T11:54:15.748Z"
   },
   {
    "duration": 11,
    "start_time": "2022-08-17T11:54:16.547Z"
   },
   {
    "duration": 125,
    "start_time": "2022-08-17T11:54:17.704Z"
   },
   {
    "duration": 30,
    "start_time": "2022-08-17T11:54:28.998Z"
   },
   {
    "duration": 24,
    "start_time": "2022-08-17T11:54:33.564Z"
   },
   {
    "duration": 24,
    "start_time": "2022-08-17T11:54:39.825Z"
   },
   {
    "duration": 268,
    "start_time": "2022-08-17T11:55:14.746Z"
   },
   {
    "duration": 1248,
    "start_time": "2022-08-17T11:55:44.621Z"
   },
   {
    "duration": 1825,
    "start_time": "2022-08-17T11:56:39.153Z"
   },
   {
    "duration": 6,
    "start_time": "2022-08-17T11:56:52.275Z"
   },
   {
    "duration": 182,
    "start_time": "2022-08-17T11:57:15.356Z"
   },
   {
    "duration": 14,
    "start_time": "2022-08-17T11:57:42.719Z"
   },
   {
    "duration": 107,
    "start_time": "2022-08-17T11:57:50.643Z"
   },
   {
    "duration": 17,
    "start_time": "2022-08-17T11:58:17.966Z"
   },
   {
    "duration": 101,
    "start_time": "2022-08-17T11:58:37.389Z"
   },
   {
    "duration": 171,
    "start_time": "2022-08-17T11:58:56.153Z"
   },
   {
    "duration": 6,
    "start_time": "2022-08-17T11:59:04.473Z"
   },
   {
    "duration": 6,
    "start_time": "2022-08-17T11:59:08.705Z"
   },
   {
    "duration": 7,
    "start_time": "2022-08-17T11:59:15.494Z"
   },
   {
    "duration": 6,
    "start_time": "2022-08-17T11:59:19.635Z"
   },
   {
    "duration": 13,
    "start_time": "2022-08-17T12:00:29.540Z"
   },
   {
    "duration": 11,
    "start_time": "2022-08-17T12:00:32.661Z"
   },
   {
    "duration": 10,
    "start_time": "2022-08-17T12:01:08.932Z"
   },
   {
    "duration": 5,
    "start_time": "2022-08-17T12:01:40.544Z"
   },
   {
    "duration": 126,
    "start_time": "2022-08-17T12:02:03.365Z"
   },
   {
    "duration": 104,
    "start_time": "2022-08-17T12:02:15.430Z"
   },
   {
    "duration": 9,
    "start_time": "2022-08-17T12:10:03.520Z"
   },
   {
    "duration": 198,
    "start_time": "2022-08-17T12:10:31.029Z"
   },
   {
    "duration": 110,
    "start_time": "2022-08-17T12:11:18.485Z"
   },
   {
    "duration": 148,
    "start_time": "2022-08-17T12:11:25.528Z"
   },
   {
    "duration": 1553,
    "start_time": "2022-08-17T12:11:39.059Z"
   },
   {
    "duration": 2,
    "start_time": "2022-08-17T17:00:39.057Z"
   },
   {
    "duration": 22,
    "start_time": "2022-08-17T17:00:40.293Z"
   },
   {
    "duration": 4,
    "start_time": "2022-08-17T17:00:42.839Z"
   },
   {
    "duration": 944,
    "start_time": "2022-08-17T17:00:49.297Z"
   },
   {
    "duration": 120,
    "start_time": "2022-08-17T17:01:09.618Z"
   },
   {
    "duration": 17,
    "start_time": "2022-08-17T17:01:20.204Z"
   },
   {
    "duration": 17,
    "start_time": "2022-08-17T17:01:37.002Z"
   },
   {
    "duration": 115,
    "start_time": "2022-08-17T17:01:45.582Z"
   },
   {
    "duration": 121,
    "start_time": "2022-08-17T17:01:59.741Z"
   },
   {
    "duration": 108,
    "start_time": "2022-08-17T17:02:13.181Z"
   },
   {
    "duration": 6,
    "start_time": "2022-08-17T17:02:51.267Z"
   },
   {
    "duration": 129,
    "start_time": "2022-08-17T17:03:15.220Z"
   },
   {
    "duration": 127,
    "start_time": "2022-08-17T17:03:25.411Z"
   },
   {
    "duration": 122,
    "start_time": "2022-08-17T17:03:50.731Z"
   },
   {
    "duration": 3,
    "start_time": "2022-08-17T17:04:22.759Z"
   },
   {
    "duration": 21,
    "start_time": "2022-08-17T17:04:23.209Z"
   },
   {
    "duration": 6,
    "start_time": "2022-08-17T17:04:23.942Z"
   },
   {
    "duration": 120,
    "start_time": "2022-08-17T17:04:24.504Z"
   },
   {
    "duration": 26,
    "start_time": "2022-08-17T17:04:58.530Z"
   },
   {
    "duration": 23,
    "start_time": "2022-08-17T17:05:26.008Z"
   },
   {
    "duration": 132,
    "start_time": "2022-08-17T17:07:26.586Z"
   },
   {
    "duration": 15,
    "start_time": "2022-08-17T17:08:30.330Z"
   },
   {
    "duration": 9,
    "start_time": "2022-08-17T17:08:44.200Z"
   },
   {
    "duration": 22,
    "start_time": "2022-08-17T17:08:53.964Z"
   },
   {
    "duration": 6,
    "start_time": "2022-08-17T17:09:08.125Z"
   },
   {
    "duration": 126,
    "start_time": "2022-08-17T17:09:08.755Z"
   },
   {
    "duration": 2,
    "start_time": "2022-08-17T17:09:51.484Z"
   },
   {
    "duration": 3,
    "start_time": "2022-08-17T17:15:11.960Z"
   },
   {
    "duration": 22,
    "start_time": "2022-08-17T17:15:13.051Z"
   },
   {
    "duration": 133,
    "start_time": "2022-08-17T17:15:13.519Z"
   },
   {
    "duration": 198,
    "start_time": "2022-08-17T17:15:14.159Z"
   },
   {
    "duration": 13,
    "start_time": "2022-08-17T17:20:46.970Z"
   },
   {
    "duration": 9,
    "start_time": "2022-08-17T17:20:53.738Z"
   },
   {
    "duration": 8,
    "start_time": "2022-08-17T17:21:03.826Z"
   },
   {
    "duration": 16,
    "start_time": "2022-08-17T17:21:14.419Z"
   },
   {
    "duration": 126,
    "start_time": "2022-08-17T17:21:24.714Z"
   },
   {
    "duration": 47,
    "start_time": "2022-08-17T17:30:21.053Z"
   },
   {
    "duration": 5,
    "start_time": "2022-08-17T17:30:34.245Z"
   },
   {
    "duration": 3,
    "start_time": "2022-08-17T17:30:45.810Z"
   },
   {
    "duration": 20,
    "start_time": "2022-08-17T17:31:12.434Z"
   },
   {
    "duration": 8,
    "start_time": "2022-08-17T17:31:39.603Z"
   },
   {
    "duration": 24,
    "start_time": "2022-08-17T17:31:46.250Z"
   },
   {
    "duration": 4,
    "start_time": "2022-08-17T17:32:29.279Z"
   },
   {
    "duration": 4,
    "start_time": "2022-08-17T17:32:31.038Z"
   },
   {
    "duration": 3,
    "start_time": "2022-08-17T17:32:37.988Z"
   },
   {
    "duration": 4,
    "start_time": "2022-08-17T17:32:38.450Z"
   },
   {
    "duration": 4,
    "start_time": "2022-08-17T17:32:43.938Z"
   },
   {
    "duration": 26,
    "start_time": "2022-08-17T17:32:44.359Z"
   },
   {
    "duration": 127,
    "start_time": "2022-08-17T17:33:11.012Z"
   },
   {
    "duration": 8,
    "start_time": "2022-08-17T17:33:25.037Z"
   },
   {
    "duration": 3,
    "start_time": "2022-08-17T17:33:30.711Z"
   },
   {
    "duration": 25,
    "start_time": "2022-08-17T17:33:31.350Z"
   },
   {
    "duration": 7,
    "start_time": "2022-08-17T17:33:33.492Z"
   },
   {
    "duration": 130,
    "start_time": "2022-08-17T17:33:34.919Z"
   },
   {
    "duration": 25,
    "start_time": "2022-08-17T17:34:12.710Z"
   },
   {
    "duration": 11,
    "start_time": "2022-08-17T17:34:15.545Z"
   },
   {
    "duration": 1537,
    "start_time": "2022-08-17T17:34:17.716Z"
   },
   {
    "duration": 1535,
    "start_time": "2022-08-17T17:34:20.913Z"
   },
   {
    "duration": 19,
    "start_time": "2022-08-17T17:41:31.679Z"
   },
   {
    "duration": 25,
    "start_time": "2022-08-17T17:41:37.084Z"
   },
   {
    "duration": 16,
    "start_time": "2022-08-17T17:41:55.185Z"
   },
   {
    "duration": 25,
    "start_time": "2022-08-17T17:42:23.684Z"
   },
   {
    "duration": 452,
    "start_time": "2022-08-17T17:42:29.074Z"
   },
   {
    "duration": 491,
    "start_time": "2022-08-17T17:42:32.671Z"
   },
   {
    "duration": 22,
    "start_time": "2022-08-17T17:43:23.818Z"
   },
   {
    "duration": 116,
    "start_time": "2022-08-17T17:43:27.030Z"
   },
   {
    "duration": 107,
    "start_time": "2022-08-17T17:43:28.879Z"
   },
   {
    "duration": 3,
    "start_time": "2022-08-17T17:45:37.707Z"
   },
   {
    "duration": 22,
    "start_time": "2022-08-17T17:45:38.125Z"
   },
   {
    "duration": 115,
    "start_time": "2022-08-17T17:45:40.557Z"
   },
   {
    "duration": 102,
    "start_time": "2022-08-17T17:45:42.237Z"
   },
   {
    "duration": 19,
    "start_time": "2022-08-17T17:48:27.081Z"
   },
   {
    "duration": 123,
    "start_time": "2022-08-17T17:48:29.120Z"
   },
   {
    "duration": 2100,
    "start_time": "2022-08-17T17:56:54.954Z"
   },
   {
    "duration": 2029,
    "start_time": "2022-08-17T17:57:08.186Z"
   },
   {
    "duration": 3,
    "start_time": "2022-08-17T17:57:17.920Z"
   },
   {
    "duration": 4,
    "start_time": "2022-08-17T17:57:19.330Z"
   },
   {
    "duration": 27,
    "start_time": "2022-08-17T17:57:23.181Z"
   },
   {
    "duration": 143,
    "start_time": "2022-08-17T17:57:26.011Z"
   },
   {
    "duration": 121,
    "start_time": "2022-08-17T17:57:27.128Z"
   },
   {
    "duration": 26,
    "start_time": "2022-08-17T17:58:51.457Z"
   },
   {
    "duration": 26,
    "start_time": "2022-08-17T17:59:07.132Z"
   },
   {
    "duration": 20,
    "start_time": "2022-08-17T17:59:16.992Z"
   },
   {
    "duration": 3,
    "start_time": "2022-08-17T18:00:11.130Z"
   },
   {
    "duration": 4,
    "start_time": "2022-08-17T18:00:11.596Z"
   },
   {
    "duration": 23,
    "start_time": "2022-08-17T18:00:12.029Z"
   },
   {
    "duration": 128,
    "start_time": "2022-08-17T18:00:22.724Z"
   },
   {
    "duration": 25,
    "start_time": "2022-08-17T18:06:25.797Z"
   },
   {
    "duration": 495,
    "start_time": "2022-08-17T18:06:41.790Z"
   },
   {
    "duration": 502,
    "start_time": "2022-08-17T18:06:44.334Z"
   },
   {
    "duration": 139,
    "start_time": "2022-08-17T18:07:03.206Z"
   },
   {
    "duration": 9,
    "start_time": "2022-08-17T18:08:39.535Z"
   },
   {
    "duration": 9,
    "start_time": "2022-08-17T18:08:47.249Z"
   },
   {
    "duration": 144,
    "start_time": "2022-08-17T18:12:26.276Z"
   },
   {
    "duration": 148,
    "start_time": "2022-08-17T18:12:46.648Z"
   },
   {
    "duration": 3,
    "start_time": "2022-08-17T18:13:21.748Z"
   },
   {
    "duration": 3,
    "start_time": "2022-08-17T18:13:22.210Z"
   },
   {
    "duration": 25,
    "start_time": "2022-08-17T18:13:22.887Z"
   },
   {
    "duration": 147,
    "start_time": "2022-08-17T18:13:25.590Z"
   },
   {
    "duration": 23,
    "start_time": "2022-08-17T18:15:07.789Z"
   },
   {
    "duration": 24,
    "start_time": "2022-08-17T18:16:01.980Z"
   },
   {
    "duration": 23,
    "start_time": "2022-08-17T18:16:17.351Z"
   },
   {
    "duration": 26,
    "start_time": "2022-08-17T18:16:29.125Z"
   },
   {
    "duration": 19,
    "start_time": "2022-08-17T18:17:06.335Z"
   },
   {
    "duration": 22,
    "start_time": "2022-08-17T18:17:26.877Z"
   },
   {
    "duration": 19,
    "start_time": "2022-08-17T18:17:54.618Z"
   },
   {
    "duration": 25,
    "start_time": "2022-08-17T18:18:20.109Z"
   },
   {
    "duration": 3,
    "start_time": "2022-08-17T18:40:46.524Z"
   },
   {
    "duration": 24,
    "start_time": "2022-08-17T18:40:47.365Z"
   },
   {
    "duration": 136,
    "start_time": "2022-08-17T18:40:49.957Z"
   },
   {
    "duration": 25,
    "start_time": "2022-08-17T18:42:07.086Z"
   },
   {
    "duration": 160,
    "start_time": "2022-08-17T18:42:09.837Z"
   },
   {
    "duration": 22,
    "start_time": "2022-08-17T18:44:32.733Z"
   },
   {
    "duration": 14,
    "start_time": "2022-08-17T18:48:32.244Z"
   },
   {
    "duration": 130,
    "start_time": "2022-08-17T18:49:12.750Z"
   },
   {
    "duration": 12,
    "start_time": "2022-08-17T18:54:33.268Z"
   },
   {
    "duration": 224,
    "start_time": "2022-08-17T18:54:36.207Z"
   },
   {
    "duration": 111,
    "start_time": "2022-08-17T19:10:23.035Z"
   },
   {
    "duration": 21,
    "start_time": "2022-08-17T19:10:46.091Z"
   },
   {
    "duration": 9,
    "start_time": "2022-08-17T19:12:43.785Z"
   },
   {
    "duration": 13,
    "start_time": "2022-08-17T19:13:03.046Z"
   },
   {
    "duration": 97,
    "start_time": "2022-08-17T19:15:17.123Z"
   },
   {
    "duration": 465,
    "start_time": "2022-08-17T19:30:19.311Z"
   },
   {
    "duration": 18,
    "start_time": "2022-08-17T19:30:19.778Z"
   },
   {
    "duration": 12,
    "start_time": "2022-08-17T19:30:19.797Z"
   },
   {
    "duration": 8,
    "start_time": "2022-08-17T19:30:19.810Z"
   },
   {
    "duration": 31,
    "start_time": "2022-08-17T19:30:19.819Z"
   },
   {
    "duration": 3,
    "start_time": "2022-08-17T19:30:19.851Z"
   },
   {
    "duration": 9,
    "start_time": "2022-08-17T19:30:19.855Z"
   },
   {
    "duration": 3,
    "start_time": "2022-08-17T19:30:19.865Z"
   },
   {
    "duration": 34,
    "start_time": "2022-08-17T19:30:19.869Z"
   },
   {
    "duration": 4,
    "start_time": "2022-08-17T19:30:19.906Z"
   },
   {
    "duration": 27,
    "start_time": "2022-08-17T19:30:19.911Z"
   },
   {
    "duration": 11,
    "start_time": "2022-08-17T19:30:19.940Z"
   },
   {
    "duration": 4,
    "start_time": "2022-08-17T19:30:19.952Z"
   },
   {
    "duration": 41,
    "start_time": "2022-08-17T19:30:19.957Z"
   },
   {
    "duration": 19,
    "start_time": "2022-08-17T19:30:20.000Z"
   },
   {
    "duration": 16,
    "start_time": "2022-08-17T19:30:20.021Z"
   },
   {
    "duration": 3,
    "start_time": "2022-08-17T19:30:20.038Z"
   },
   {
    "duration": 14,
    "start_time": "2022-08-17T19:30:20.042Z"
   },
   {
    "duration": 12,
    "start_time": "2022-08-17T19:30:20.058Z"
   },
   {
    "duration": 4,
    "start_time": "2022-08-17T19:30:20.071Z"
   },
   {
    "duration": 24,
    "start_time": "2022-08-17T19:30:20.076Z"
   },
   {
    "duration": 651,
    "start_time": "2022-08-17T19:30:20.101Z"
   },
   {
    "duration": 3,
    "start_time": "2022-08-17T19:30:20.754Z"
   },
   {
    "duration": 5,
    "start_time": "2022-08-17T19:30:20.758Z"
   },
   {
    "duration": 7,
    "start_time": "2022-08-17T19:30:20.764Z"
   },
   {
    "duration": 6,
    "start_time": "2022-08-17T19:30:20.772Z"
   },
   {
    "duration": 12,
    "start_time": "2022-08-17T19:30:20.779Z"
   },
   {
    "duration": 12,
    "start_time": "2022-08-17T19:30:20.799Z"
   },
   {
    "duration": 4,
    "start_time": "2022-08-17T19:30:20.812Z"
   },
   {
    "duration": 168,
    "start_time": "2022-08-17T19:30:20.817Z"
   },
   {
    "duration": 5,
    "start_time": "2022-08-17T19:30:20.986Z"
   },
   {
    "duration": 133,
    "start_time": "2022-08-17T19:30:20.998Z"
   },
   {
    "duration": 7,
    "start_time": "2022-08-17T19:30:21.132Z"
   },
   {
    "duration": 148,
    "start_time": "2022-08-17T19:30:21.140Z"
   },
   {
    "duration": 6,
    "start_time": "2022-08-17T19:30:21.298Z"
   },
   {
    "duration": 146,
    "start_time": "2022-08-17T19:30:21.305Z"
   },
   {
    "duration": 8,
    "start_time": "2022-08-17T19:30:21.453Z"
   },
   {
    "duration": 162,
    "start_time": "2022-08-17T19:30:21.463Z"
   },
   {
    "duration": 9,
    "start_time": "2022-08-17T19:30:21.626Z"
   },
   {
    "duration": 156,
    "start_time": "2022-08-17T19:30:21.637Z"
   },
   {
    "duration": 721,
    "start_time": "2022-08-17T19:30:21.795Z"
   },
   {
    "duration": 8,
    "start_time": "2022-08-17T19:30:22.517Z"
   },
   {
    "duration": 205,
    "start_time": "2022-08-17T19:30:22.526Z"
   },
   {
    "duration": 8,
    "start_time": "2022-08-17T19:30:22.733Z"
   },
   {
    "duration": 141,
    "start_time": "2022-08-17T19:30:22.742Z"
   },
   {
    "duration": 14,
    "start_time": "2022-08-17T19:30:22.885Z"
   },
   {
    "duration": 10,
    "start_time": "2022-08-17T19:30:22.900Z"
   },
   {
    "duration": 146,
    "start_time": "2022-08-17T19:30:22.912Z"
   },
   {
    "duration": 75,
    "start_time": "2022-08-17T19:30:23.059Z"
   },
   {
    "duration": 3,
    "start_time": "2022-08-17T19:30:23.135Z"
   },
   {
    "duration": 4,
    "start_time": "2022-08-17T19:30:23.139Z"
   },
   {
    "duration": 28,
    "start_time": "2022-08-17T19:30:23.144Z"
   },
   {
    "duration": 158,
    "start_time": "2022-08-17T19:30:23.173Z"
   },
   {
    "duration": 10,
    "start_time": "2022-08-17T19:30:23.332Z"
   },
   {
    "duration": 135,
    "start_time": "2022-08-17T19:30:23.343Z"
   },
   {
    "duration": 109,
    "start_time": "2022-08-17T19:30:23.479Z"
   },
   {
    "duration": 478,
    "start_time": "2022-08-17T20:36:35.594Z"
   },
   {
    "duration": 26,
    "start_time": "2022-08-17T20:36:36.074Z"
   },
   {
    "duration": 14,
    "start_time": "2022-08-17T20:36:36.102Z"
   },
   {
    "duration": 11,
    "start_time": "2022-08-17T20:36:36.118Z"
   },
   {
    "duration": 36,
    "start_time": "2022-08-17T20:36:36.131Z"
   },
   {
    "duration": 3,
    "start_time": "2022-08-17T20:36:36.169Z"
   },
   {
    "duration": 32,
    "start_time": "2022-08-17T20:36:36.173Z"
   },
   {
    "duration": 4,
    "start_time": "2022-08-17T20:36:36.207Z"
   },
   {
    "duration": 8,
    "start_time": "2022-08-17T20:36:36.212Z"
   },
   {
    "duration": 4,
    "start_time": "2022-08-17T20:36:36.222Z"
   },
   {
    "duration": 32,
    "start_time": "2022-08-17T20:36:36.227Z"
   },
   {
    "duration": 38,
    "start_time": "2022-08-17T20:36:36.261Z"
   },
   {
    "duration": 4,
    "start_time": "2022-08-17T20:36:36.300Z"
   },
   {
    "duration": 12,
    "start_time": "2022-08-17T20:36:36.306Z"
   },
   {
    "duration": 18,
    "start_time": "2022-08-17T20:36:36.319Z"
   },
   {
    "duration": 16,
    "start_time": "2022-08-17T20:36:36.339Z"
   },
   {
    "duration": 3,
    "start_time": "2022-08-17T20:36:36.356Z"
   },
   {
    "duration": 12,
    "start_time": "2022-08-17T20:36:36.361Z"
   },
   {
    "duration": 6,
    "start_time": "2022-08-17T20:36:36.398Z"
   },
   {
    "duration": 4,
    "start_time": "2022-08-17T20:36:36.406Z"
   },
   {
    "duration": 9,
    "start_time": "2022-08-17T20:36:36.412Z"
   },
   {
    "duration": 667,
    "start_time": "2022-08-17T20:36:36.422Z"
   },
   {
    "duration": 4,
    "start_time": "2022-08-17T20:36:37.091Z"
   },
   {
    "duration": 6,
    "start_time": "2022-08-17T20:36:37.096Z"
   },
   {
    "duration": 4,
    "start_time": "2022-08-17T20:36:37.103Z"
   },
   {
    "duration": 4,
    "start_time": "2022-08-17T20:36:37.109Z"
   },
   {
    "duration": 7,
    "start_time": "2022-08-17T20:36:37.114Z"
   },
   {
    "duration": 13,
    "start_time": "2022-08-17T20:36:37.124Z"
   },
   {
    "duration": 4,
    "start_time": "2022-08-17T20:36:37.138Z"
   },
   {
    "duration": 163,
    "start_time": "2022-08-17T20:36:37.143Z"
   },
   {
    "duration": 5,
    "start_time": "2022-08-17T20:36:37.307Z"
   },
   {
    "duration": 126,
    "start_time": "2022-08-17T20:36:37.314Z"
   },
   {
    "duration": 5,
    "start_time": "2022-08-17T20:36:37.442Z"
   },
   {
    "duration": 142,
    "start_time": "2022-08-17T20:36:37.449Z"
   },
   {
    "duration": 8,
    "start_time": "2022-08-17T20:36:37.598Z"
   },
   {
    "duration": 141,
    "start_time": "2022-08-17T20:36:37.607Z"
   },
   {
    "duration": 8,
    "start_time": "2022-08-17T20:36:37.750Z"
   },
   {
    "duration": 159,
    "start_time": "2022-08-17T20:36:37.760Z"
   },
   {
    "duration": 10,
    "start_time": "2022-08-17T20:36:37.920Z"
   },
   {
    "duration": 153,
    "start_time": "2022-08-17T20:36:37.932Z"
   },
   {
    "duration": 677,
    "start_time": "2022-08-17T20:36:38.087Z"
   },
   {
    "duration": 9,
    "start_time": "2022-08-17T20:36:38.766Z"
   },
   {
    "duration": 202,
    "start_time": "2022-08-17T20:36:38.777Z"
   },
   {
    "duration": 19,
    "start_time": "2022-08-17T20:36:38.981Z"
   },
   {
    "duration": 134,
    "start_time": "2022-08-17T20:36:39.001Z"
   },
   {
    "duration": 8,
    "start_time": "2022-08-17T20:36:39.137Z"
   },
   {
    "duration": 8,
    "start_time": "2022-08-17T20:36:39.147Z"
   },
   {
    "duration": 146,
    "start_time": "2022-08-17T20:36:39.157Z"
   },
   {
    "duration": 76,
    "start_time": "2022-08-17T20:36:39.305Z"
   },
   {
    "duration": 3,
    "start_time": "2022-08-17T20:36:39.383Z"
   },
   {
    "duration": 4,
    "start_time": "2022-08-17T20:36:39.388Z"
   },
   {
    "duration": 35,
    "start_time": "2022-08-17T20:36:39.393Z"
   },
   {
    "duration": 151,
    "start_time": "2022-08-17T20:36:39.430Z"
   },
   {
    "duration": 10,
    "start_time": "2022-08-17T20:36:39.582Z"
   },
   {
    "duration": 126,
    "start_time": "2022-08-17T20:36:39.598Z"
   },
   {
    "duration": 102,
    "start_time": "2022-08-17T20:36:39.725Z"
   }
  ],
  "colab": {
   "name": "dpp_template_part2.ipynb",
   "provenance": []
  },
  "kernelspec": {
   "display_name": "Python 3 (ipykernel)",
   "language": "python",
   "name": "python3"
  },
  "language_info": {
   "codemirror_mode": {
    "name": "ipython",
    "version": 3
   },
   "file_extension": ".py",
   "mimetype": "text/x-python",
   "name": "python",
   "nbconvert_exporter": "python",
   "pygments_lexer": "ipython3",
   "version": "3.11.4"
  },
  "toc": {
   "base_numbering": 1,
   "nav_menu": {
    "height": "332px",
    "width": "1354px"
   },
   "number_sections": true,
   "sideBar": true,
   "skip_h1_title": true,
   "title_cell": "Table of Contents",
   "title_sidebar": "Contents",
   "toc_cell": false,
   "toc_position": {},
   "toc_section_display": true,
   "toc_window_display": false
  }
 },
 "nbformat": 4,
 "nbformat_minor": 5
}
