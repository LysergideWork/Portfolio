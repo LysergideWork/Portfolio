{
 "cells": [
  {
   "cell_type": "markdown",
   "metadata": {},
   "source": [
    "# Определение стоимости автомобилей"
   ]
  },
  {
   "cell_type": "markdown",
   "metadata": {},
   "source": [
    "Нам необходимо построить модель определения рыночной стоимости автомобиля. В вашем распоряжении исторические данные: технические характеристики, комплектации и цены автомобилей.  \n",
    "\n",
    "Заказчику важны следующие критерии:\n",
    "- качество предсказания;\n",
    "- скорость предсказания;\n",
    "- время обучения."
   ]
  },
  {
   "cell_type": "markdown",
   "metadata": {},
   "source": [
    "## Описание данных"
   ]
  },
  {
   "cell_type": "markdown",
   "metadata": {},
   "source": [
    "Признаки:\n",
    "\n",
    " - DateCrawled — дата скачивания анкеты из базы\n",
    " - VehicleType — тип автомобильного кузова\n",
    " - RegistrationYear — год регистрации автомобиля\n",
    " - Gearbox — тип коробки передач\n",
    " - Power — мощность (л. с.)\n",
    " - Model — модель автомобиля\n",
    " - Kilometer — пробег (км)\n",
    " - RegistrationMonth — месяц регистрации автомобиля\n",
    " - FuelType — тип топлива\n",
    " - Brand — марка автомобиля\n",
    " - NotRepaired — была машина в ремонте или нет\n",
    " - DateCreated — дата создания анкеты\n",
    " - NumberOfPictures — количество фотографий автомобиля\n",
    " - PostalCode — почтовый индекс владельца анкеты (пользователя)\n",
    " - LastSeen — дата последней активности пользователя\n",
    "\n",
    "Целевой признак:\n",
    "\n",
    " - Price — цена (евро)"
   ]
  },
  {
   "cell_type": "markdown",
   "metadata": {},
   "source": [
    "## Подготовка данных"
   ]
  },
  {
   "cell_type": "markdown",
   "metadata": {},
   "source": [
    "### Установим пакеты бустинга и импортируем библиотеки"
   ]
  },
  {
   "cell_type": "code",
   "execution_count": 1,
   "metadata": {},
   "outputs": [
    {
     "name": "stdout",
     "output_type": "stream",
     "text": [
      "Defaulting to user installation because normal site-packages is not writeable\n",
      "Requirement already satisfied: catboost in c:\\users\\lyser\\appdata\\roaming\\python\\python311\\site-packages (1.2)\n",
      "Requirement already satisfied: graphviz in c:\\users\\lyser\\appdata\\roaming\\python\\python311\\site-packages (from catboost) (0.20.1)\n",
      "Requirement already satisfied: matplotlib in c:\\programdata\\anaconda3\\lib\\site-packages (from catboost) (3.7.1)\n",
      "Requirement already satisfied: numpy>=1.16.0 in c:\\programdata\\anaconda3\\lib\\site-packages (from catboost) (1.24.3)\n",
      "Requirement already satisfied: pandas>=0.24 in c:\\programdata\\anaconda3\\lib\\site-packages (from catboost) (1.5.3)\n",
      "Requirement already satisfied: scipy in c:\\programdata\\anaconda3\\lib\\site-packages (from catboost) (1.10.1)\n",
      "Requirement already satisfied: plotly in c:\\programdata\\anaconda3\\lib\\site-packages (from catboost) (5.9.0)\n",
      "Requirement already satisfied: six in c:\\programdata\\anaconda3\\lib\\site-packages (from catboost) (1.16.0)\n",
      "Requirement already satisfied: python-dateutil>=2.8.1 in c:\\programdata\\anaconda3\\lib\\site-packages (from pandas>=0.24->catboost) (2.8.2)\n",
      "Requirement already satisfied: pytz>=2020.1 in c:\\programdata\\anaconda3\\lib\\site-packages (from pandas>=0.24->catboost) (2022.7)\n",
      "Requirement already satisfied: contourpy>=1.0.1 in c:\\programdata\\anaconda3\\lib\\site-packages (from matplotlib->catboost) (1.0.5)\n",
      "Requirement already satisfied: cycler>=0.10 in c:\\programdata\\anaconda3\\lib\\site-packages (from matplotlib->catboost) (0.11.0)\n",
      "Requirement already satisfied: fonttools>=4.22.0 in c:\\programdata\\anaconda3\\lib\\site-packages (from matplotlib->catboost) (4.25.0)\n",
      "Requirement already satisfied: kiwisolver>=1.0.1 in c:\\programdata\\anaconda3\\lib\\site-packages (from matplotlib->catboost) (1.4.4)\n",
      "Requirement already satisfied: packaging>=20.0 in c:\\programdata\\anaconda3\\lib\\site-packages (from matplotlib->catboost) (23.0)\n",
      "Requirement already satisfied: pillow>=6.2.0 in c:\\programdata\\anaconda3\\lib\\site-packages (from matplotlib->catboost) (9.4.0)\n",
      "Requirement already satisfied: pyparsing>=2.3.1 in c:\\programdata\\anaconda3\\lib\\site-packages (from matplotlib->catboost) (3.0.9)\n",
      "Requirement already satisfied: tenacity>=6.2.0 in c:\\programdata\\anaconda3\\lib\\site-packages (from plotly->catboost) (8.2.2)\n",
      "Defaulting to user installation because normal site-packages is not writeable\n",
      "Requirement already satisfied: lightgbm in c:\\users\\lyser\\appdata\\roaming\\python\\python311\\site-packages (4.0.0)\n",
      "Requirement already satisfied: numpy in c:\\programdata\\anaconda3\\lib\\site-packages (from lightgbm) (1.24.3)\n",
      "Requirement already satisfied: scipy in c:\\programdata\\anaconda3\\lib\\site-packages (from lightgbm) (1.10.1)\n",
      "Defaulting to user installation because normal site-packages is not writeable\n",
      "Requirement already satisfied: xgboost in c:\\users\\lyser\\appdata\\roaming\\python\\python311\\site-packages (1.7.6)\n",
      "Requirement already satisfied: numpy in c:\\programdata\\anaconda3\\lib\\site-packages (from xgboost) (1.24.3)\n",
      "Requirement already satisfied: scipy in c:\\programdata\\anaconda3\\lib\\site-packages (from xgboost) (1.10.1)\n"
     ]
    }
   ],
   "source": [
    "!pip install catboost\n",
    "!pip install lightgbm\n",
    "!pip install xgboost"
   ]
  },
  {
   "cell_type": "code",
   "execution_count": 2,
   "metadata": {},
   "outputs": [],
   "source": [
    "import pandas as pd\n",
    "import re\n",
    "import numpy as np\n",
    "import seaborn as sns\n",
    "import matplotlib.pyplot as plt\n",
    "import time\n",
    "import xgboost\n",
    "\n",
    "from statsmodels.stats.outliers_influence import variance_inflation_factor\n",
    "from sklearn.preprocessing import OrdinalEncoder\n",
    "from sklearn.model_selection import train_test_split, GridSearchCV, cross_val_score, KFold\n",
    "from sklearn.metrics import make_scorer, mean_squared_error\n",
    "from sklearn.linear_model import LinearRegression\n",
    "from sklearn.tree import DecisionTreeRegressor\n",
    "from sklearn.ensemble import RandomForestRegressor\n",
    "from xgboost import XGBRegressor\n",
    "from lightgbm import LGBMRegressor\n",
    "from catboost import CatBoostRegressor\n",
    "from sklearn.preprocessing import StandardScaler"
   ]
  },
  {
   "cell_type": "code",
   "execution_count": 3,
   "metadata": {},
   "outputs": [],
   "source": [
    "rs = 12345\n",
    "cv = KFold(n_splits = 5, random_state = rs, shuffle = True)"
   ]
  },
  {
   "cell_type": "markdown",
   "metadata": {},
   "source": [
    "### Загрузим и оценим данные"
   ]
  },
  {
   "cell_type": "code",
   "execution_count": 4,
   "metadata": {},
   "outputs": [],
   "source": [
    "try:\n",
    "    df = pd.read_csv('/datasets/autos.csv')\n",
    "except:\n",
    "    df = pd.read_csv('https://code.s3.yandex.net/datasets/autos.csv')"
   ]
  },
  {
   "cell_type": "code",
   "execution_count": 5,
   "metadata": {},
   "outputs": [
    {
     "data": {
      "text/html": [
       "<div>\n",
       "<style scoped>\n",
       "    .dataframe tbody tr th:only-of-type {\n",
       "        vertical-align: middle;\n",
       "    }\n",
       "\n",
       "    .dataframe tbody tr th {\n",
       "        vertical-align: top;\n",
       "    }\n",
       "\n",
       "    .dataframe thead th {\n",
       "        text-align: right;\n",
       "    }\n",
       "</style>\n",
       "<table border=\"1\" class=\"dataframe\">\n",
       "  <thead>\n",
       "    <tr style=\"text-align: right;\">\n",
       "      <th></th>\n",
       "      <th>DateCrawled</th>\n",
       "      <th>Price</th>\n",
       "      <th>VehicleType</th>\n",
       "      <th>RegistrationYear</th>\n",
       "      <th>Gearbox</th>\n",
       "      <th>Power</th>\n",
       "      <th>Model</th>\n",
       "      <th>Kilometer</th>\n",
       "      <th>RegistrationMonth</th>\n",
       "      <th>FuelType</th>\n",
       "      <th>Brand</th>\n",
       "      <th>Repaired</th>\n",
       "      <th>DateCreated</th>\n",
       "      <th>NumberOfPictures</th>\n",
       "      <th>PostalCode</th>\n",
       "      <th>LastSeen</th>\n",
       "    </tr>\n",
       "  </thead>\n",
       "  <tbody>\n",
       "    <tr>\n",
       "      <th>69395</th>\n",
       "      <td>2016-03-09 19:46:10</td>\n",
       "      <td>2900</td>\n",
       "      <td>small</td>\n",
       "      <td>2007</td>\n",
       "      <td>manual</td>\n",
       "      <td>102</td>\n",
       "      <td>swift</td>\n",
       "      <td>150000</td>\n",
       "      <td>3</td>\n",
       "      <td>petrol</td>\n",
       "      <td>suzuki</td>\n",
       "      <td>no</td>\n",
       "      <td>2016-03-09 00:00:00</td>\n",
       "      <td>0</td>\n",
       "      <td>19086</td>\n",
       "      <td>2016-04-01 18:18:52</td>\n",
       "    </tr>\n",
       "    <tr>\n",
       "      <th>23135</th>\n",
       "      <td>2016-03-31 17:50:51</td>\n",
       "      <td>6999</td>\n",
       "      <td>sedan</td>\n",
       "      <td>2008</td>\n",
       "      <td>manual</td>\n",
       "      <td>90</td>\n",
       "      <td>astra</td>\n",
       "      <td>125000</td>\n",
       "      <td>12</td>\n",
       "      <td>petrol</td>\n",
       "      <td>opel</td>\n",
       "      <td>no</td>\n",
       "      <td>2016-03-31 00:00:00</td>\n",
       "      <td>0</td>\n",
       "      <td>76344</td>\n",
       "      <td>2016-04-04 10:45:22</td>\n",
       "    </tr>\n",
       "    <tr>\n",
       "      <th>48494</th>\n",
       "      <td>2016-03-28 17:48:32</td>\n",
       "      <td>2400</td>\n",
       "      <td>other</td>\n",
       "      <td>1973</td>\n",
       "      <td>manual</td>\n",
       "      <td>80</td>\n",
       "      <td>other</td>\n",
       "      <td>40000</td>\n",
       "      <td>2</td>\n",
       "      <td>petrol</td>\n",
       "      <td>opel</td>\n",
       "      <td>NaN</td>\n",
       "      <td>2016-03-28 00:00:00</td>\n",
       "      <td>0</td>\n",
       "      <td>21614</td>\n",
       "      <td>2016-03-30 09:17:37</td>\n",
       "    </tr>\n",
       "    <tr>\n",
       "      <th>129481</th>\n",
       "      <td>2016-03-28 10:51:28</td>\n",
       "      <td>7850</td>\n",
       "      <td>suv</td>\n",
       "      <td>2008</td>\n",
       "      <td>auto</td>\n",
       "      <td>170</td>\n",
       "      <td>sorento</td>\n",
       "      <td>150000</td>\n",
       "      <td>1</td>\n",
       "      <td>gasoline</td>\n",
       "      <td>kia</td>\n",
       "      <td>no</td>\n",
       "      <td>2016-03-28 00:00:00</td>\n",
       "      <td>0</td>\n",
       "      <td>41372</td>\n",
       "      <td>2016-04-06 12:45:19</td>\n",
       "    </tr>\n",
       "    <tr>\n",
       "      <th>248793</th>\n",
       "      <td>2016-04-01 10:54:37</td>\n",
       "      <td>400</td>\n",
       "      <td>small</td>\n",
       "      <td>1995</td>\n",
       "      <td>manual</td>\n",
       "      <td>0</td>\n",
       "      <td>corsa</td>\n",
       "      <td>150000</td>\n",
       "      <td>10</td>\n",
       "      <td>petrol</td>\n",
       "      <td>opel</td>\n",
       "      <td>yes</td>\n",
       "      <td>2016-04-01 00:00:00</td>\n",
       "      <td>0</td>\n",
       "      <td>49824</td>\n",
       "      <td>2016-04-07 07:46:00</td>\n",
       "    </tr>\n",
       "  </tbody>\n",
       "</table>\n",
       "</div>"
      ],
      "text/plain": [
       "                DateCrawled  Price VehicleType  RegistrationYear Gearbox  \\\n",
       "69395   2016-03-09 19:46:10   2900       small              2007  manual   \n",
       "23135   2016-03-31 17:50:51   6999       sedan              2008  manual   \n",
       "48494   2016-03-28 17:48:32   2400       other              1973  manual   \n",
       "129481  2016-03-28 10:51:28   7850         suv              2008    auto   \n",
       "248793  2016-04-01 10:54:37    400       small              1995  manual   \n",
       "\n",
       "        Power    Model  Kilometer  RegistrationMonth  FuelType   Brand  \\\n",
       "69395     102    swift     150000                  3    petrol  suzuki   \n",
       "23135      90    astra     125000                 12    petrol    opel   \n",
       "48494      80    other      40000                  2    petrol    opel   \n",
       "129481    170  sorento     150000                  1  gasoline     kia   \n",
       "248793      0    corsa     150000                 10    petrol    opel   \n",
       "\n",
       "       Repaired          DateCreated  NumberOfPictures  PostalCode  \\\n",
       "69395        no  2016-03-09 00:00:00                 0       19086   \n",
       "23135        no  2016-03-31 00:00:00                 0       76344   \n",
       "48494       NaN  2016-03-28 00:00:00                 0       21614   \n",
       "129481       no  2016-03-28 00:00:00                 0       41372   \n",
       "248793      yes  2016-04-01 00:00:00                 0       49824   \n",
       "\n",
       "                   LastSeen  \n",
       "69395   2016-04-01 18:18:52  \n",
       "23135   2016-04-04 10:45:22  \n",
       "48494   2016-03-30 09:17:37  \n",
       "129481  2016-04-06 12:45:19  \n",
       "248793  2016-04-07 07:46:00  "
      ]
     },
     "execution_count": 5,
     "metadata": {},
     "output_type": "execute_result"
    }
   ],
   "source": [
    "df.sample(5)"
   ]
  },
  {
   "cell_type": "code",
   "execution_count": 6,
   "metadata": {},
   "outputs": [
    {
     "name": "stdout",
     "output_type": "stream",
     "text": [
      "<class 'pandas.core.frame.DataFrame'>\n",
      "RangeIndex: 354369 entries, 0 to 354368\n",
      "Data columns (total 16 columns):\n",
      " #   Column             Non-Null Count   Dtype \n",
      "---  ------             --------------   ----- \n",
      " 0   DateCrawled        354369 non-null  object\n",
      " 1   Price              354369 non-null  int64 \n",
      " 2   VehicleType        316879 non-null  object\n",
      " 3   RegistrationYear   354369 non-null  int64 \n",
      " 4   Gearbox            334536 non-null  object\n",
      " 5   Power              354369 non-null  int64 \n",
      " 6   Model              334664 non-null  object\n",
      " 7   Kilometer          354369 non-null  int64 \n",
      " 8   RegistrationMonth  354369 non-null  int64 \n",
      " 9   FuelType           321474 non-null  object\n",
      " 10  Brand              354369 non-null  object\n",
      " 11  Repaired           283215 non-null  object\n",
      " 12  DateCreated        354369 non-null  object\n",
      " 13  NumberOfPictures   354369 non-null  int64 \n",
      " 14  PostalCode         354369 non-null  int64 \n",
      " 15  LastSeen           354369 non-null  object\n",
      "dtypes: int64(7), object(9)\n",
      "memory usage: 43.3+ MB\n"
     ]
    }
   ],
   "source": [
    "df.info()"
   ]
  },
  {
   "cell_type": "code",
   "execution_count": 7,
   "metadata": {},
   "outputs": [
    {
     "data": {
      "text/html": [
       "<div>\n",
       "<style scoped>\n",
       "    .dataframe tbody tr th:only-of-type {\n",
       "        vertical-align: middle;\n",
       "    }\n",
       "\n",
       "    .dataframe tbody tr th {\n",
       "        vertical-align: top;\n",
       "    }\n",
       "\n",
       "    .dataframe thead th {\n",
       "        text-align: right;\n",
       "    }\n",
       "</style>\n",
       "<table border=\"1\" class=\"dataframe\">\n",
       "  <thead>\n",
       "    <tr style=\"text-align: right;\">\n",
       "      <th></th>\n",
       "      <th>DateCrawled</th>\n",
       "      <th>Price</th>\n",
       "      <th>VehicleType</th>\n",
       "      <th>RegistrationYear</th>\n",
       "      <th>Gearbox</th>\n",
       "      <th>Power</th>\n",
       "      <th>Model</th>\n",
       "      <th>Kilometer</th>\n",
       "      <th>RegistrationMonth</th>\n",
       "      <th>FuelType</th>\n",
       "      <th>Brand</th>\n",
       "      <th>Repaired</th>\n",
       "      <th>DateCreated</th>\n",
       "      <th>NumberOfPictures</th>\n",
       "      <th>PostalCode</th>\n",
       "      <th>LastSeen</th>\n",
       "    </tr>\n",
       "  </thead>\n",
       "  <tbody>\n",
       "    <tr>\n",
       "      <th>count</th>\n",
       "      <td>354369</td>\n",
       "      <td>354369.000000</td>\n",
       "      <td>316879</td>\n",
       "      <td>354369.000000</td>\n",
       "      <td>334536</td>\n",
       "      <td>354369.000000</td>\n",
       "      <td>334664</td>\n",
       "      <td>354369.000000</td>\n",
       "      <td>354369.000000</td>\n",
       "      <td>321474</td>\n",
       "      <td>354369</td>\n",
       "      <td>283215</td>\n",
       "      <td>354369</td>\n",
       "      <td>354369.0</td>\n",
       "      <td>354369.000000</td>\n",
       "      <td>354369</td>\n",
       "    </tr>\n",
       "    <tr>\n",
       "      <th>unique</th>\n",
       "      <td>271174</td>\n",
       "      <td>NaN</td>\n",
       "      <td>8</td>\n",
       "      <td>NaN</td>\n",
       "      <td>2</td>\n",
       "      <td>NaN</td>\n",
       "      <td>250</td>\n",
       "      <td>NaN</td>\n",
       "      <td>NaN</td>\n",
       "      <td>7</td>\n",
       "      <td>40</td>\n",
       "      <td>2</td>\n",
       "      <td>109</td>\n",
       "      <td>NaN</td>\n",
       "      <td>NaN</td>\n",
       "      <td>179150</td>\n",
       "    </tr>\n",
       "    <tr>\n",
       "      <th>top</th>\n",
       "      <td>2016-03-24 14:49:47</td>\n",
       "      <td>NaN</td>\n",
       "      <td>sedan</td>\n",
       "      <td>NaN</td>\n",
       "      <td>manual</td>\n",
       "      <td>NaN</td>\n",
       "      <td>golf</td>\n",
       "      <td>NaN</td>\n",
       "      <td>NaN</td>\n",
       "      <td>petrol</td>\n",
       "      <td>volkswagen</td>\n",
       "      <td>no</td>\n",
       "      <td>2016-04-03 00:00:00</td>\n",
       "      <td>NaN</td>\n",
       "      <td>NaN</td>\n",
       "      <td>2016-04-06 13:45:54</td>\n",
       "    </tr>\n",
       "    <tr>\n",
       "      <th>freq</th>\n",
       "      <td>7</td>\n",
       "      <td>NaN</td>\n",
       "      <td>91457</td>\n",
       "      <td>NaN</td>\n",
       "      <td>268251</td>\n",
       "      <td>NaN</td>\n",
       "      <td>29232</td>\n",
       "      <td>NaN</td>\n",
       "      <td>NaN</td>\n",
       "      <td>216352</td>\n",
       "      <td>77013</td>\n",
       "      <td>247161</td>\n",
       "      <td>13719</td>\n",
       "      <td>NaN</td>\n",
       "      <td>NaN</td>\n",
       "      <td>17</td>\n",
       "    </tr>\n",
       "    <tr>\n",
       "      <th>mean</th>\n",
       "      <td>NaN</td>\n",
       "      <td>4416.656776</td>\n",
       "      <td>NaN</td>\n",
       "      <td>2004.234448</td>\n",
       "      <td>NaN</td>\n",
       "      <td>110.094337</td>\n",
       "      <td>NaN</td>\n",
       "      <td>128211.172535</td>\n",
       "      <td>5.714645</td>\n",
       "      <td>NaN</td>\n",
       "      <td>NaN</td>\n",
       "      <td>NaN</td>\n",
       "      <td>NaN</td>\n",
       "      <td>0.0</td>\n",
       "      <td>50508.689087</td>\n",
       "      <td>NaN</td>\n",
       "    </tr>\n",
       "    <tr>\n",
       "      <th>std</th>\n",
       "      <td>NaN</td>\n",
       "      <td>4514.158514</td>\n",
       "      <td>NaN</td>\n",
       "      <td>90.227958</td>\n",
       "      <td>NaN</td>\n",
       "      <td>189.850405</td>\n",
       "      <td>NaN</td>\n",
       "      <td>37905.341530</td>\n",
       "      <td>3.726421</td>\n",
       "      <td>NaN</td>\n",
       "      <td>NaN</td>\n",
       "      <td>NaN</td>\n",
       "      <td>NaN</td>\n",
       "      <td>0.0</td>\n",
       "      <td>25783.096248</td>\n",
       "      <td>NaN</td>\n",
       "    </tr>\n",
       "    <tr>\n",
       "      <th>min</th>\n",
       "      <td>NaN</td>\n",
       "      <td>0.000000</td>\n",
       "      <td>NaN</td>\n",
       "      <td>1000.000000</td>\n",
       "      <td>NaN</td>\n",
       "      <td>0.000000</td>\n",
       "      <td>NaN</td>\n",
       "      <td>5000.000000</td>\n",
       "      <td>0.000000</td>\n",
       "      <td>NaN</td>\n",
       "      <td>NaN</td>\n",
       "      <td>NaN</td>\n",
       "      <td>NaN</td>\n",
       "      <td>0.0</td>\n",
       "      <td>1067.000000</td>\n",
       "      <td>NaN</td>\n",
       "    </tr>\n",
       "    <tr>\n",
       "      <th>25%</th>\n",
       "      <td>NaN</td>\n",
       "      <td>1050.000000</td>\n",
       "      <td>NaN</td>\n",
       "      <td>1999.000000</td>\n",
       "      <td>NaN</td>\n",
       "      <td>69.000000</td>\n",
       "      <td>NaN</td>\n",
       "      <td>125000.000000</td>\n",
       "      <td>3.000000</td>\n",
       "      <td>NaN</td>\n",
       "      <td>NaN</td>\n",
       "      <td>NaN</td>\n",
       "      <td>NaN</td>\n",
       "      <td>0.0</td>\n",
       "      <td>30165.000000</td>\n",
       "      <td>NaN</td>\n",
       "    </tr>\n",
       "    <tr>\n",
       "      <th>50%</th>\n",
       "      <td>NaN</td>\n",
       "      <td>2700.000000</td>\n",
       "      <td>NaN</td>\n",
       "      <td>2003.000000</td>\n",
       "      <td>NaN</td>\n",
       "      <td>105.000000</td>\n",
       "      <td>NaN</td>\n",
       "      <td>150000.000000</td>\n",
       "      <td>6.000000</td>\n",
       "      <td>NaN</td>\n",
       "      <td>NaN</td>\n",
       "      <td>NaN</td>\n",
       "      <td>NaN</td>\n",
       "      <td>0.0</td>\n",
       "      <td>49413.000000</td>\n",
       "      <td>NaN</td>\n",
       "    </tr>\n",
       "    <tr>\n",
       "      <th>75%</th>\n",
       "      <td>NaN</td>\n",
       "      <td>6400.000000</td>\n",
       "      <td>NaN</td>\n",
       "      <td>2008.000000</td>\n",
       "      <td>NaN</td>\n",
       "      <td>143.000000</td>\n",
       "      <td>NaN</td>\n",
       "      <td>150000.000000</td>\n",
       "      <td>9.000000</td>\n",
       "      <td>NaN</td>\n",
       "      <td>NaN</td>\n",
       "      <td>NaN</td>\n",
       "      <td>NaN</td>\n",
       "      <td>0.0</td>\n",
       "      <td>71083.000000</td>\n",
       "      <td>NaN</td>\n",
       "    </tr>\n",
       "    <tr>\n",
       "      <th>max</th>\n",
       "      <td>NaN</td>\n",
       "      <td>20000.000000</td>\n",
       "      <td>NaN</td>\n",
       "      <td>9999.000000</td>\n",
       "      <td>NaN</td>\n",
       "      <td>20000.000000</td>\n",
       "      <td>NaN</td>\n",
       "      <td>150000.000000</td>\n",
       "      <td>12.000000</td>\n",
       "      <td>NaN</td>\n",
       "      <td>NaN</td>\n",
       "      <td>NaN</td>\n",
       "      <td>NaN</td>\n",
       "      <td>0.0</td>\n",
       "      <td>99998.000000</td>\n",
       "      <td>NaN</td>\n",
       "    </tr>\n",
       "  </tbody>\n",
       "</table>\n",
       "</div>"
      ],
      "text/plain": [
       "                DateCrawled          Price VehicleType  RegistrationYear  \\\n",
       "count                354369  354369.000000      316879     354369.000000   \n",
       "unique               271174            NaN           8               NaN   \n",
       "top     2016-03-24 14:49:47            NaN       sedan               NaN   \n",
       "freq                      7            NaN       91457               NaN   \n",
       "mean                    NaN    4416.656776         NaN       2004.234448   \n",
       "std                     NaN    4514.158514         NaN         90.227958   \n",
       "min                     NaN       0.000000         NaN       1000.000000   \n",
       "25%                     NaN    1050.000000         NaN       1999.000000   \n",
       "50%                     NaN    2700.000000         NaN       2003.000000   \n",
       "75%                     NaN    6400.000000         NaN       2008.000000   \n",
       "max                     NaN   20000.000000         NaN       9999.000000   \n",
       "\n",
       "       Gearbox          Power   Model      Kilometer  RegistrationMonth  \\\n",
       "count   334536  354369.000000  334664  354369.000000      354369.000000   \n",
       "unique       2            NaN     250            NaN                NaN   \n",
       "top     manual            NaN    golf            NaN                NaN   \n",
       "freq    268251            NaN   29232            NaN                NaN   \n",
       "mean       NaN     110.094337     NaN  128211.172535           5.714645   \n",
       "std        NaN     189.850405     NaN   37905.341530           3.726421   \n",
       "min        NaN       0.000000     NaN    5000.000000           0.000000   \n",
       "25%        NaN      69.000000     NaN  125000.000000           3.000000   \n",
       "50%        NaN     105.000000     NaN  150000.000000           6.000000   \n",
       "75%        NaN     143.000000     NaN  150000.000000           9.000000   \n",
       "max        NaN   20000.000000     NaN  150000.000000          12.000000   \n",
       "\n",
       "       FuelType       Brand Repaired          DateCreated  NumberOfPictures  \\\n",
       "count    321474      354369   283215               354369          354369.0   \n",
       "unique        7          40        2                  109               NaN   \n",
       "top      petrol  volkswagen       no  2016-04-03 00:00:00               NaN   \n",
       "freq     216352       77013   247161                13719               NaN   \n",
       "mean        NaN         NaN      NaN                  NaN               0.0   \n",
       "std         NaN         NaN      NaN                  NaN               0.0   \n",
       "min         NaN         NaN      NaN                  NaN               0.0   \n",
       "25%         NaN         NaN      NaN                  NaN               0.0   \n",
       "50%         NaN         NaN      NaN                  NaN               0.0   \n",
       "75%         NaN         NaN      NaN                  NaN               0.0   \n",
       "max         NaN         NaN      NaN                  NaN               0.0   \n",
       "\n",
       "           PostalCode             LastSeen  \n",
       "count   354369.000000               354369  \n",
       "unique            NaN               179150  \n",
       "top               NaN  2016-04-06 13:45:54  \n",
       "freq              NaN                   17  \n",
       "mean     50508.689087                  NaN  \n",
       "std      25783.096248                  NaN  \n",
       "min       1067.000000                  NaN  \n",
       "25%      30165.000000                  NaN  \n",
       "50%      49413.000000                  NaN  \n",
       "75%      71083.000000                  NaN  \n",
       "max      99998.000000                  NaN  "
      ]
     },
     "execution_count": 7,
     "metadata": {},
     "output_type": "execute_result"
    }
   ],
   "source": [
    "df.describe(include='all')"
   ]
  },
  {
   "cell_type": "code",
   "execution_count": 8,
   "metadata": {},
   "outputs": [
    {
     "data": {
      "image/png": "[encoded data removed]",
      "text/plain": [
       "<Figure size 1500x1500 with 9 Axes>"
      ]
     },
     "metadata": {},
     "output_type": "display_data"
    }
   ],
   "source": [
    "df.hist(figsize=(15,15), bins=75);"
   ]
  },
  {
   "cell_type": "code",
   "execution_count": 9,
   "metadata": {},
   "outputs": [
    {
     "data": {
      "text/plain": [
       "DateCrawled           0.00\n",
       "Price                 0.00\n",
       "VehicleType          10.58\n",
       "RegistrationYear      0.00\n",
       "Gearbox               5.60\n",
       "Power                 0.00\n",
       "Model                 5.56\n",
       "Kilometer             0.00\n",
       "RegistrationMonth     0.00\n",
       "FuelType              9.28\n",
       "Brand                 0.00\n",
       "Repaired             20.08\n",
       "DateCreated           0.00\n",
       "NumberOfPictures      0.00\n",
       "PostalCode            0.00\n",
       "LastSeen              0.00\n",
       "dtype: float64"
      ]
     },
     "execution_count": 9,
     "metadata": {},
     "output_type": "execute_result"
    }
   ],
   "source": [
    "(df.isna().mean() * 100).round(2)"
   ]
  },
  {
   "cell_type": "code",
   "execution_count": 10,
   "metadata": {},
   "outputs": [
    {
     "data": {
      "text/plain": [
       "4"
      ]
     },
     "execution_count": 10,
     "metadata": {},
     "output_type": "execute_result"
    }
   ],
   "source": [
    "df.duplicated().sum()"
   ]
  },
  {
   "cell_type": "markdown",
   "metadata": {},
   "source": [
    "#### Вывод"
   ]
  },
  {
   "cell_type": "markdown",
   "metadata": {},
   "source": [
    "В данных присутствуют пропуски, выбросы и дубликаты."
   ]
  },
  {
   "cell_type": "markdown",
   "metadata": {},
   "source": [
    "### Предобработка данных"
   ]
  },
  {
   "cell_type": "markdown",
   "metadata": {},
   "source": [
    "Создадим копию исходного датафрейма."
   ]
  },
  {
   "cell_type": "code",
   "execution_count": 11,
   "metadata": {},
   "outputs": [],
   "source": [
    "df_original = df"
   ]
  },
  {
   "cell_type": "markdown",
   "metadata": {},
   "source": [
    "#### Переименовываем столбцы"
   ]
  },
  {
   "cell_type": "code",
   "execution_count": 12,
   "metadata": {},
   "outputs": [
    {
     "data": {
      "text/plain": [
       "Index(['DateCrawled', 'Price', 'VehicleType', 'RegistrationYear', 'Gearbox',\n",
       "       'Power', 'Model', 'Kilometer', 'RegistrationMonth', 'FuelType', 'Brand',\n",
       "       'Repaired', 'DateCreated', 'NumberOfPictures', 'PostalCode',\n",
       "       'LastSeen'],\n",
       "      dtype='object')"
      ]
     },
     "execution_count": 12,
     "metadata": {},
     "output_type": "execute_result"
    }
   ],
   "source": [
    "df.columns"
   ]
  },
  {
   "cell_type": "markdown",
   "metadata": {},
   "source": [
    "Все слова в названии столбцов написаны слитно и с заглавной буквы.<br>\n",
    "Тогда, напишем функцию с циклом, которая будет:\n",
    " 1. перебирать названия столбцов,\n",
    " 2. находить заглавные буквы и ставить _ перед ними,\n",
    " 3. приводить заглавные буквы к нижнему регистру,\n",
    " 4. удалять все _ в начале названия каждого столбца,\n",
    " 5. заменять все __ на _."
   ]
  },
  {
   "cell_type": "code",
   "execution_count": 13,
   "metadata": {},
   "outputs": [
    {
     "data": {
      "text/html": [
       "<div>\n",
       "<style scoped>\n",
       "    .dataframe tbody tr th:only-of-type {\n",
       "        vertical-align: middle;\n",
       "    }\n",
       "\n",
       "    .dataframe tbody tr th {\n",
       "        vertical-align: top;\n",
       "    }\n",
       "\n",
       "    .dataframe thead th {\n",
       "        text-align: right;\n",
       "    }\n",
       "</style>\n",
       "<table border=\"1\" class=\"dataframe\">\n",
       "  <thead>\n",
       "    <tr style=\"text-align: right;\">\n",
       "      <th></th>\n",
       "      <th>date_crawled</th>\n",
       "      <th>price</th>\n",
       "      <th>vehicle_type</th>\n",
       "      <th>registration_year</th>\n",
       "      <th>gearbox</th>\n",
       "      <th>power</th>\n",
       "      <th>model</th>\n",
       "      <th>kilometer</th>\n",
       "      <th>registration_month</th>\n",
       "      <th>fuel_type</th>\n",
       "      <th>brand</th>\n",
       "      <th>repaired</th>\n",
       "      <th>date_created</th>\n",
       "      <th>number_of_pictures</th>\n",
       "      <th>postal_code</th>\n",
       "      <th>last_seen</th>\n",
       "    </tr>\n",
       "  </thead>\n",
       "  <tbody>\n",
       "    <tr>\n",
       "      <th>40254</th>\n",
       "      <td>2016-03-28 19:25:38</td>\n",
       "      <td>7000</td>\n",
       "      <td>wagon</td>\n",
       "      <td>1996</td>\n",
       "      <td>manual</td>\n",
       "      <td>190</td>\n",
       "      <td>golf</td>\n",
       "      <td>150000</td>\n",
       "      <td>0</td>\n",
       "      <td>NaN</td>\n",
       "      <td>volkswagen</td>\n",
       "      <td>NaN</td>\n",
       "      <td>2016-03-28 00:00:00</td>\n",
       "      <td>0</td>\n",
       "      <td>35708</td>\n",
       "      <td>2016-04-01 08:17:47</td>\n",
       "    </tr>\n",
       "    <tr>\n",
       "      <th>280090</th>\n",
       "      <td>2016-03-16 19:37:44</td>\n",
       "      <td>2999</td>\n",
       "      <td>bus</td>\n",
       "      <td>1999</td>\n",
       "      <td>manual</td>\n",
       "      <td>90</td>\n",
       "      <td>transporter</td>\n",
       "      <td>150000</td>\n",
       "      <td>7</td>\n",
       "      <td>gasoline</td>\n",
       "      <td>volkswagen</td>\n",
       "      <td>no</td>\n",
       "      <td>2016-03-16 00:00:00</td>\n",
       "      <td>0</td>\n",
       "      <td>34130</td>\n",
       "      <td>2016-03-19 17:47:41</td>\n",
       "    </tr>\n",
       "    <tr>\n",
       "      <th>307988</th>\n",
       "      <td>2016-03-14 01:06:25</td>\n",
       "      <td>7480</td>\n",
       "      <td>convertible</td>\n",
       "      <td>2006</td>\n",
       "      <td>manual</td>\n",
       "      <td>90</td>\n",
       "      <td>one</td>\n",
       "      <td>150000</td>\n",
       "      <td>5</td>\n",
       "      <td>petrol</td>\n",
       "      <td>mini</td>\n",
       "      <td>no</td>\n",
       "      <td>2016-03-13 00:00:00</td>\n",
       "      <td>0</td>\n",
       "      <td>56412</td>\n",
       "      <td>2016-04-06 17:15:44</td>\n",
       "    </tr>\n",
       "    <tr>\n",
       "      <th>318703</th>\n",
       "      <td>2016-03-29 10:36:22</td>\n",
       "      <td>1700</td>\n",
       "      <td>convertible</td>\n",
       "      <td>1984</td>\n",
       "      <td>manual</td>\n",
       "      <td>29</td>\n",
       "      <td>other</td>\n",
       "      <td>150000</td>\n",
       "      <td>10</td>\n",
       "      <td>petrol</td>\n",
       "      <td>citroen</td>\n",
       "      <td>no</td>\n",
       "      <td>2016-03-29 00:00:00</td>\n",
       "      <td>0</td>\n",
       "      <td>59199</td>\n",
       "      <td>2016-03-29 10:36:22</td>\n",
       "    </tr>\n",
       "    <tr>\n",
       "      <th>90206</th>\n",
       "      <td>2016-04-01 07:55:49</td>\n",
       "      <td>5500</td>\n",
       "      <td>NaN</td>\n",
       "      <td>2016</td>\n",
       "      <td>manual</td>\n",
       "      <td>200</td>\n",
       "      <td>golf</td>\n",
       "      <td>150000</td>\n",
       "      <td>0</td>\n",
       "      <td>NaN</td>\n",
       "      <td>volkswagen</td>\n",
       "      <td>no</td>\n",
       "      <td>2016-04-01 00:00:00</td>\n",
       "      <td>0</td>\n",
       "      <td>57413</td>\n",
       "      <td>2016-04-01 09:42:45</td>\n",
       "    </tr>\n",
       "  </tbody>\n",
       "</table>\n",
       "</div>"
      ],
      "text/plain": [
       "               date_crawled  price vehicle_type  registration_year gearbox  \\\n",
       "40254   2016-03-28 19:25:38   7000        wagon               1996  manual   \n",
       "280090  2016-03-16 19:37:44   2999          bus               1999  manual   \n",
       "307988  2016-03-14 01:06:25   7480  convertible               2006  manual   \n",
       "318703  2016-03-29 10:36:22   1700  convertible               1984  manual   \n",
       "90206   2016-04-01 07:55:49   5500          NaN               2016  manual   \n",
       "\n",
       "        power        model  kilometer  registration_month fuel_type  \\\n",
       "40254     190         golf     150000                   0       NaN   \n",
       "280090     90  transporter     150000                   7  gasoline   \n",
       "307988     90          one     150000                   5    petrol   \n",
       "318703     29        other     150000                  10    petrol   \n",
       "90206     200         golf     150000                   0       NaN   \n",
       "\n",
       "             brand repaired         date_created  number_of_pictures  \\\n",
       "40254   volkswagen      NaN  2016-03-28 00:00:00                   0   \n",
       "280090  volkswagen       no  2016-03-16 00:00:00                   0   \n",
       "307988        mini       no  2016-03-13 00:00:00                   0   \n",
       "318703     citroen       no  2016-03-29 00:00:00                   0   \n",
       "90206   volkswagen       no  2016-04-01 00:00:00                   0   \n",
       "\n",
       "        postal_code            last_seen  \n",
       "40254         35708  2016-04-01 08:17:47  \n",
       "280090        34130  2016-03-19 17:47:41  \n",
       "307988        56412  2016-04-06 17:15:44  \n",
       "318703        59199  2016-03-29 10:36:22  \n",
       "90206         57413  2016-04-01 09:42:45  "
      ]
     },
     "execution_count": 13,
     "metadata": {},
     "output_type": "execute_result"
    }
   ],
   "source": [
    "def columns_rename(temp):\n",
    "    for i in range(len(temp)):\n",
    "        temp[i] = re.sub(r\"([A-Z])\", lambda x: '_' + x.group(0).lower(), str(temp[i]))\n",
    "        if temp[i][0] == \"_\":\n",
    "            temp[i] = temp[i][1:]\n",
    "        if \"__\" in temp[i]:\n",
    "            temp[i] = re.sub(r\"__\", lambda x: '_', str(temp[i]))\n",
    "    return temp\n",
    "\n",
    "df.columns = columns_rename(df.columns.tolist())\n",
    "df.sample(5)"
   ]
  },
  {
   "cell_type": "markdown",
   "metadata": {},
   "source": [
    "#### Удаляем дубликаты"
   ]
  },
  {
   "cell_type": "code",
   "execution_count": 14,
   "metadata": {},
   "outputs": [],
   "source": [
    "df = df.drop_duplicates().reset_index(drop = True)"
   ]
  },
  {
   "cell_type": "markdown",
   "metadata": {},
   "source": [
    "Оценим неявные дубликаты:"
   ]
  },
  {
   "cell_type": "code",
   "execution_count": 15,
   "metadata": {},
   "outputs": [
    {
     "name": "stdout",
     "output_type": "stream",
     "text": [
      "['2016-03-05 14:06:22' '2016-03-05 14:06:23' '2016-03-05 14:06:24' ...\n",
      " '2016-04-07 14:36:55' '2016-04-07 14:36:56' '2016-04-07 14:36:58']\n",
      "['bus' 'convertible' 'coupe' 'other' 'sedan' 'small' 'suv' 'wagon' nan]\n",
      "['auto' 'manual' nan]\n",
      "['100' '145' '147' '156' '159' '1_reihe' '1er' '200' '2_reihe' '300c'\n",
      " '3_reihe' '3er' '4_reihe' '500' '5_reihe' '5er' '601' '6_reihe' '6er'\n",
      " '7er' '80' '850' '90' '900' '9000' '911' 'a1' 'a2' 'a3' 'a4' 'a5' 'a6'\n",
      " 'a8' 'a_klasse' 'accord' 'agila' 'alhambra' 'almera' 'altea' 'amarok'\n",
      " 'antara' 'arosa' 'astra' 'auris' 'avensis' 'aveo' 'aygo' 'b_klasse'\n",
      " 'b_max' 'beetle' 'berlingo' 'bora' 'boxster' 'bravo' 'c1' 'c2' 'c3' 'c4'\n",
      " 'c5' 'c_klasse' 'c_max' 'c_reihe' 'caddy' 'calibra' 'captiva' 'carisma'\n",
      " 'carnival' 'cayenne' 'cc' 'ceed' 'charade' 'cherokee' 'citigo' 'civic'\n",
      " 'cl' 'clio' 'clk' 'clubman' 'colt' 'combo' 'cooper' 'cordoba' 'corolla'\n",
      " 'corsa' 'cr_reihe' 'croma' 'crossfire' 'cuore' 'cx_reihe' 'defender'\n",
      " 'delta' 'discovery' 'doblo' 'ducato' 'duster' 'e_klasse' 'elefantino'\n",
      " 'eos' 'escort' 'espace' 'exeo' 'fabia' 'fiesta' 'focus' 'forester'\n",
      " 'forfour' 'fortwo' 'fox' 'freelander' 'fusion' 'g_klasse' 'galant'\n",
      " 'galaxy' 'getz' 'gl' 'glk' 'golf' 'grand' 'i3' 'i_reihe' 'ibiza'\n",
      " 'impreza' 'insignia' 'jazz' 'jetta' 'jimny' 'juke' 'justy' 'ka' 'kadett'\n",
      " 'kaefer' 'kalina' 'kalos' 'kangoo' 'kappa' 'kuga' 'laguna' 'lancer'\n",
      " 'lanos' 'legacy' 'leon' 'lodgy' 'logan' 'lupo' 'lybra' 'm_klasse'\n",
      " 'm_reihe' 'materia' 'matiz' 'megane' 'meriva' 'micra' 'mii' 'modus'\n",
      " 'mondeo' 'move' 'musa' 'mustang' 'mx_reihe' 'navara' 'niva' 'note'\n",
      " 'nubira' 'octavia' 'omega' 'one' 'other' 'outlander' 'pajero' 'panda'\n",
      " 'passat' 'phaeton' 'picanto' 'polo' 'primera' 'ptcruiser' 'punto' 'q3'\n",
      " 'q5' 'q7' 'qashqai' 'r19' 'range_rover' 'range_rover_evoque'\n",
      " 'range_rover_sport' 'rangerover' 'rav' 'rio' 'roadster' 'roomster'\n",
      " 'rx_reihe' 's60' 's_klasse' 's_max' 's_type' 'samara' 'sandero' 'santa'\n",
      " 'scenic' 'scirocco' 'seicento' 'serie_1' 'serie_2' 'serie_3' 'sharan'\n",
      " 'signum' 'sirion' 'sl' 'slk' 'sorento' 'spark' 'spider' 'sportage'\n",
      " 'sprinter' 'stilo' 'superb' 'swift' 'terios' 'tigra' 'tiguan' 'toledo'\n",
      " 'touareg' 'touran' 'transit' 'transporter' 'tt' 'tucson' 'twingo' 'up'\n",
      " 'v40' 'v50' 'v60' 'v70' 'v_klasse' 'vectra' 'verso' 'viano' 'vito'\n",
      " 'vivaro' 'voyager' 'wrangler' 'x_reihe' 'x_trail' 'x_type' 'xc_reihe'\n",
      " 'yaris' 'yeti' 'ypsilon' 'z_reihe' 'zafira' nan]\n",
      "['cng' 'electric' 'gasoline' 'hybrid' 'lpg' 'other' 'petrol' nan]\n",
      "['alfa_romeo' 'audi' 'bmw' 'chevrolet' 'chrysler' 'citroen' 'dacia'\n",
      " 'daewoo' 'daihatsu' 'fiat' 'ford' 'honda' 'hyundai' 'jaguar' 'jeep' 'kia'\n",
      " 'lada' 'lancia' 'land_rover' 'mazda' 'mercedes_benz' 'mini' 'mitsubishi'\n",
      " 'nissan' 'opel' 'peugeot' 'porsche' 'renault' 'rover' 'saab' 'seat'\n",
      " 'skoda' 'smart' 'sonstige_autos' 'subaru' 'suzuki' 'toyota' 'trabant'\n",
      " 'volkswagen' 'volvo']\n",
      "['no' 'yes' nan]\n",
      "['2014-03-10 00:00:00' '2015-03-20 00:00:00' '2015-06-18 00:00:00'\n",
      " '2015-08-07 00:00:00' '2015-08-10 00:00:00' '2015-09-04 00:00:00'\n",
      " '2015-09-09 00:00:00' '2015-11-02 00:00:00' '2015-11-08 00:00:00'\n",
      " '2015-11-10 00:00:00' '2015-11-12 00:00:00' '2015-11-17 00:00:00'\n",
      " '2015-11-23 00:00:00' '2015-11-24 00:00:00' '2015-12-05 00:00:00'\n",
      " '2015-12-06 00:00:00' '2015-12-17 00:00:00' '2015-12-27 00:00:00'\n",
      " '2015-12-30 00:00:00' '2016-01-02 00:00:00' '2016-01-03 00:00:00'\n",
      " '2016-01-06 00:00:00' '2016-01-07 00:00:00' '2016-01-08 00:00:00'\n",
      " '2016-01-10 00:00:00' '2016-01-13 00:00:00' '2016-01-15 00:00:00'\n",
      " '2016-01-16 00:00:00' '2016-01-17 00:00:00' '2016-01-18 00:00:00'\n",
      " '2016-01-19 00:00:00' '2016-01-20 00:00:00' '2016-01-22 00:00:00'\n",
      " '2016-01-23 00:00:00' '2016-01-24 00:00:00' '2016-01-25 00:00:00'\n",
      " '2016-01-26 00:00:00' '2016-01-27 00:00:00' '2016-01-28 00:00:00'\n",
      " '2016-01-29 00:00:00' '2016-01-30 00:00:00' '2016-01-31 00:00:00'\n",
      " '2016-02-01 00:00:00' '2016-02-02 00:00:00' '2016-02-03 00:00:00'\n",
      " '2016-02-04 00:00:00' '2016-02-05 00:00:00' '2016-02-06 00:00:00'\n",
      " '2016-02-07 00:00:00' '2016-02-08 00:00:00' '2016-02-09 00:00:00'\n",
      " '2016-02-10 00:00:00' '2016-02-11 00:00:00' '2016-02-12 00:00:00'\n",
      " '2016-02-13 00:00:00' '2016-02-14 00:00:00' '2016-02-15 00:00:00'\n",
      " '2016-02-16 00:00:00' '2016-02-17 00:00:00' '2016-02-18 00:00:00'\n",
      " '2016-02-19 00:00:00' '2016-02-20 00:00:00' '2016-02-21 00:00:00'\n",
      " '2016-02-22 00:00:00' '2016-02-23 00:00:00' '2016-02-24 00:00:00'\n",
      " '2016-02-25 00:00:00' '2016-02-26 00:00:00' '2016-02-27 00:00:00'\n",
      " '2016-02-28 00:00:00' '2016-02-29 00:00:00' '2016-03-01 00:00:00'\n",
      " '2016-03-02 00:00:00' '2016-03-03 00:00:00' '2016-03-04 00:00:00'\n",
      " '2016-03-05 00:00:00' '2016-03-06 00:00:00' '2016-03-07 00:00:00'\n",
      " '2016-03-08 00:00:00' '2016-03-09 00:00:00' '2016-03-10 00:00:00'\n",
      " '2016-03-11 00:00:00' '2016-03-12 00:00:00' '2016-03-13 00:00:00'\n",
      " '2016-03-14 00:00:00' '2016-03-15 00:00:00' '2016-03-16 00:00:00'\n",
      " '2016-03-17 00:00:00' '2016-03-18 00:00:00' '2016-03-19 00:00:00'\n",
      " '2016-03-20 00:00:00' '2016-03-21 00:00:00' '2016-03-22 00:00:00'\n",
      " '2016-03-23 00:00:00' '2016-03-24 00:00:00' '2016-03-25 00:00:00'\n",
      " '2016-03-26 00:00:00' '2016-03-27 00:00:00' '2016-03-28 00:00:00'\n",
      " '2016-03-29 00:00:00' '2016-03-30 00:00:00' '2016-03-31 00:00:00'\n",
      " '2016-04-01 00:00:00' '2016-04-02 00:00:00' '2016-04-03 00:00:00'\n",
      " '2016-04-04 00:00:00' '2016-04-05 00:00:00' '2016-04-06 00:00:00'\n",
      " '2016-04-07 00:00:00']\n",
      "['2016-03-05 14:15:08' '2016-03-05 14:15:16' '2016-03-05 14:15:39' ...\n",
      " '2016-04-07 14:58:49' '2016-04-07 14:58:50' '2016-04-07 14:58:51']\n"
     ]
    }
   ],
   "source": [
    "for column in df[list(df.select_dtypes(include=['object']).columns)].columns:\n",
    "    print(df[column].sort_values().unique())"
   ]
  },
  {
   "cell_type": "markdown",
   "metadata": {},
   "source": [
    "#### Приведем значения date_crawled, date_created, last_seen к типу данных datetime"
   ]
  },
  {
   "cell_type": "code",
   "execution_count": 16,
   "metadata": {},
   "outputs": [],
   "source": [
    "columns_to_datetime = {\n",
    "    'date_crawled':df,\n",
    "    'date_created':df,\n",
    "    'last_seen':df\n",
    "}\n",
    "\n",
    "for column, frame in columns_to_datetime.items():\n",
    "    frame[column] = pd.to_datetime(frame[column],format = '%Y-%m-%d %H:%M:%S')"
   ]
  },
  {
   "cell_type": "markdown",
   "metadata": {},
   "source": [
    "#### Оценим столбец price"
   ]
  },
  {
   "cell_type": "code",
   "execution_count": 17,
   "metadata": {},
   "outputs": [
    {
     "data": {
      "image/png": "[encoded data removed]",
      "text/plain": [
       "<Figure size 1500x500 with 1 Axes>"
      ]
     },
     "metadata": {},
     "output_type": "display_data"
    }
   ],
   "source": [
    "plt.figure(figsize=(15,5))\n",
    "plt.title('Распределение целевого признака')\n",
    "sns.histplot(df['price'], bins=500);"
   ]
  },
  {
   "cell_type": "code",
   "execution_count": 18,
   "metadata": {},
   "outputs": [
    {
     "data": {
      "image/png": "[encoded data removed]",
      "text/plain": [
       "<Figure size 1500x500 with 1 Axes>"
      ]
     },
     "metadata": {},
     "output_type": "display_data"
    }
   ],
   "source": [
    "plt.figure(figsize=(15,5))\n",
    "plt.title('Распределение целевого признака')\n",
    "sns.boxplot(x=df['price']);"
   ]
  },
  {
   "cell_type": "markdown",
   "metadata": {},
   "source": [
    "Есть некоторая цикличность в пиках, скорее всего это связано с тем, что люди выставляя цену округляют до целых чисел 2-ого, 3-его, 4-ого и т.д. порядков (т.е. 100, 1000, 10000 и т.д.)  \n",
    "Есть выбросы в области увеличения цены, создающие нам высокое стандартное отклонение.  \n",
    "Есть аномальные значения в области 0. Давайте посмотри сколько их."
   ]
  },
  {
   "cell_type": "code",
   "execution_count": 19,
   "metadata": {},
   "outputs": [
    {
     "data": {
      "text/plain": [
       "3753"
      ]
     },
     "execution_count": 19,
     "metadata": {},
     "output_type": "execute_result"
    }
   ],
   "source": [
    "df[df['price'] <= 10].value_counts().sum()"
   ]
  },
  {
   "cell_type": "markdown",
   "metadata": {},
   "source": [
    "Значения обладают высоким стандартным отклонением, что может сказаться на точности модели.  \n",
    "Так же есть значения цены равные 0 и 1. Я допускаю, что такое возможно, но скорее всего это ошибка, либо намеренно допущенная пользователем, при заполнении объявления, либо получившаяся при некорректной выгрузки базы."
   ]
  },
  {
   "cell_type": "code",
   "execution_count": 20,
   "metadata": {},
   "outputs": [],
   "source": [
    "df = df.query('price >= 10')"
   ]
  },
  {
   "cell_type": "code",
   "execution_count": 21,
   "metadata": {},
   "outputs": [
    {
     "data": {
      "image/png": "[encoded data removed]",
      "text/plain": [
       "<Figure size 1500x500 with 1 Axes>"
      ]
     },
     "metadata": {},
     "output_type": "display_data"
    }
   ],
   "source": [
    "plt.figure(figsize=(15,5))\n",
    "plt.title('Распределение целевого признака')\n",
    "sns.histplot(df['price'], bins=500);"
   ]
  },
  {
   "cell_type": "markdown",
   "metadata": {},
   "source": [
    "#### Заполним пропуски в столбцах vehicle_type, gearbox, model, fuel_type и repaired"
   ]
  },
  {
   "cell_type": "code",
   "execution_count": 22,
   "metadata": {},
   "outputs": [
    {
     "data": {
      "text/html": [
       "<div>\n",
       "<style scoped>\n",
       "    .dataframe tbody tr th:only-of-type {\n",
       "        vertical-align: middle;\n",
       "    }\n",
       "\n",
       "    .dataframe tbody tr th {\n",
       "        vertical-align: top;\n",
       "    }\n",
       "\n",
       "    .dataframe thead th {\n",
       "        text-align: right;\n",
       "    }\n",
       "</style>\n",
       "<table border=\"1\" class=\"dataframe\">\n",
       "  <thead>\n",
       "    <tr style=\"text-align: right;\">\n",
       "      <th></th>\n",
       "      <th>date_crawled</th>\n",
       "      <th>price</th>\n",
       "      <th>vehicle_type</th>\n",
       "      <th>registration_year</th>\n",
       "      <th>gearbox</th>\n",
       "      <th>power</th>\n",
       "      <th>model</th>\n",
       "      <th>kilometer</th>\n",
       "      <th>registration_month</th>\n",
       "      <th>fuel_type</th>\n",
       "      <th>brand</th>\n",
       "      <th>repaired</th>\n",
       "      <th>date_created</th>\n",
       "      <th>number_of_pictures</th>\n",
       "      <th>postal_code</th>\n",
       "      <th>last_seen</th>\n",
       "    </tr>\n",
       "  </thead>\n",
       "  <tbody>\n",
       "    <tr>\n",
       "      <th>0</th>\n",
       "      <td>2016-03-24 11:52:17</td>\n",
       "      <td>480</td>\n",
       "      <td>NaN</td>\n",
       "      <td>1993</td>\n",
       "      <td>manual</td>\n",
       "      <td>0</td>\n",
       "      <td>golf</td>\n",
       "      <td>150000</td>\n",
       "      <td>0</td>\n",
       "      <td>petrol</td>\n",
       "      <td>volkswagen</td>\n",
       "      <td>NaN</td>\n",
       "      <td>2016-03-24</td>\n",
       "      <td>0</td>\n",
       "      <td>70435</td>\n",
       "      <td>2016-04-07 03:16:57</td>\n",
       "    </tr>\n",
       "    <tr>\n",
       "      <th>16</th>\n",
       "      <td>2016-04-01 12:46:46</td>\n",
       "      <td>300</td>\n",
       "      <td>NaN</td>\n",
       "      <td>2016</td>\n",
       "      <td>NaN</td>\n",
       "      <td>60</td>\n",
       "      <td>polo</td>\n",
       "      <td>150000</td>\n",
       "      <td>0</td>\n",
       "      <td>petrol</td>\n",
       "      <td>volkswagen</td>\n",
       "      <td>NaN</td>\n",
       "      <td>2016-04-01</td>\n",
       "      <td>0</td>\n",
       "      <td>38871</td>\n",
       "      <td>2016-04-01 12:46:46</td>\n",
       "    </tr>\n",
       "    <tr>\n",
       "      <th>22</th>\n",
       "      <td>2016-03-23 14:52:51</td>\n",
       "      <td>2900</td>\n",
       "      <td>NaN</td>\n",
       "      <td>2018</td>\n",
       "      <td>manual</td>\n",
       "      <td>90</td>\n",
       "      <td>meriva</td>\n",
       "      <td>150000</td>\n",
       "      <td>5</td>\n",
       "      <td>petrol</td>\n",
       "      <td>opel</td>\n",
       "      <td>no</td>\n",
       "      <td>2016-03-23</td>\n",
       "      <td>0</td>\n",
       "      <td>49716</td>\n",
       "      <td>2016-03-31 01:16:33</td>\n",
       "    </tr>\n",
       "    <tr>\n",
       "      <th>26</th>\n",
       "      <td>2016-03-10 19:38:18</td>\n",
       "      <td>5555</td>\n",
       "      <td>NaN</td>\n",
       "      <td>2017</td>\n",
       "      <td>manual</td>\n",
       "      <td>125</td>\n",
       "      <td>c4</td>\n",
       "      <td>125000</td>\n",
       "      <td>4</td>\n",
       "      <td>NaN</td>\n",
       "      <td>citroen</td>\n",
       "      <td>no</td>\n",
       "      <td>2016-03-10</td>\n",
       "      <td>0</td>\n",
       "      <td>31139</td>\n",
       "      <td>2016-03-16 09:16:46</td>\n",
       "    </tr>\n",
       "    <tr>\n",
       "      <th>31</th>\n",
       "      <td>2016-03-29 16:57:02</td>\n",
       "      <td>899</td>\n",
       "      <td>NaN</td>\n",
       "      <td>2016</td>\n",
       "      <td>manual</td>\n",
       "      <td>60</td>\n",
       "      <td>clio</td>\n",
       "      <td>150000</td>\n",
       "      <td>6</td>\n",
       "      <td>petrol</td>\n",
       "      <td>renault</td>\n",
       "      <td>NaN</td>\n",
       "      <td>2016-03-29</td>\n",
       "      <td>0</td>\n",
       "      <td>37075</td>\n",
       "      <td>2016-03-29 17:43:07</td>\n",
       "    </tr>\n",
       "  </tbody>\n",
       "</table>\n",
       "</div>"
      ],
      "text/plain": [
       "          date_crawled  price vehicle_type  registration_year gearbox  power  \\\n",
       "0  2016-03-24 11:52:17    480          NaN               1993  manual      0   \n",
       "16 2016-04-01 12:46:46    300          NaN               2016     NaN     60   \n",
       "22 2016-03-23 14:52:51   2900          NaN               2018  manual     90   \n",
       "26 2016-03-10 19:38:18   5555          NaN               2017  manual    125   \n",
       "31 2016-03-29 16:57:02    899          NaN               2016  manual     60   \n",
       "\n",
       "     model  kilometer  registration_month fuel_type       brand repaired  \\\n",
       "0     golf     150000                   0    petrol  volkswagen      NaN   \n",
       "16    polo     150000                   0    petrol  volkswagen      NaN   \n",
       "22  meriva     150000                   5    petrol        opel       no   \n",
       "26      c4     125000                   4       NaN     citroen       no   \n",
       "31    clio     150000                   6    petrol     renault      NaN   \n",
       "\n",
       "   date_created  number_of_pictures  postal_code           last_seen  \n",
       "0    2016-03-24                   0        70435 2016-04-07 03:16:57  \n",
       "16   2016-04-01                   0        38871 2016-04-01 12:46:46  \n",
       "22   2016-03-23                   0        49716 2016-03-31 01:16:33  \n",
       "26   2016-03-10                   0        31139 2016-03-16 09:16:46  \n",
       "31   2016-03-29                   0        37075 2016-03-29 17:43:07  "
      ]
     },
     "execution_count": 22,
     "metadata": {},
     "output_type": "execute_result"
    }
   ],
   "source": [
    "df[df['vehicle_type'].isna()].head()"
   ]
  },
  {
   "cell_type": "code",
   "execution_count": 23,
   "metadata": {},
   "outputs": [
    {
     "data": {
      "text/plain": [
       "33249"
      ]
     },
     "execution_count": 23,
     "metadata": {},
     "output_type": "execute_result"
    }
   ],
   "source": [
    "df['vehicle_type'].isna().sum()"
   ]
  },
  {
   "cell_type": "code",
   "execution_count": 24,
   "metadata": {},
   "outputs": [
    {
     "data": {
      "text/plain": [
       "sedan          89197\n",
       "small          77838\n",
       "wagon          63544\n",
       "bus            28280\n",
       "convertible    19826\n",
       "coupe          15574\n",
       "suv            11769\n",
       "other           3060\n",
       "Name: vehicle_type, dtype: int64"
      ]
     },
     "execution_count": 24,
     "metadata": {},
     "output_type": "execute_result"
    }
   ],
   "source": [
    "df['vehicle_type'].value_counts()"
   ]
  },
  {
   "cell_type": "markdown",
   "metadata": {},
   "source": [
    "Были мысли попробовать восстановить данные столбца vehicle_type с помощью функции mode по столбцам brand и model. Но высока вероятность внесения синтетических данных. Поэтому поставим заглушку \"n/d\" (от no data) вместо всех пропусков."
   ]
  },
  {
   "cell_type": "code",
   "execution_count": 25,
   "metadata": {},
   "outputs": [],
   "source": [
    "df = df.fillna('n/d')"
   ]
  },
  {
   "cell_type": "markdown",
   "metadata": {},
   "source": [
    "#### Обработаем данные в столбцах registration_year и registration_month"
   ]
  },
  {
   "cell_type": "code",
   "execution_count": 26,
   "metadata": {},
   "outputs": [
    {
     "data": {
      "image/png": "[encoded data removed]",
      "text/plain": [
       "<Figure size 1500x500 with 1 Axes>"
      ]
     },
     "metadata": {},
     "output_type": "display_data"
    }
   ],
   "source": [
    "plt.figure(figsize=(15,5))\n",
    "plt.title('Распределение месяца регистрации авто')\n",
    "sns.histplot(df['registration_month'], bins=25);"
   ]
  },
  {
   "cell_type": "markdown",
   "metadata": {},
   "source": [
    "Распределение месяца регистрации авто, вероятно, ведется от 1 до 12, т.е. 1 - январь, 2 - февраль и т.д. Присутствуют аномальные значения - 0. По графику можно визуально определить, что данных достаточно много. Удаление такого объема строк нежелательно, т.к. повлечет и удаление потенциально полезных данных. "
   ]
  },
  {
   "cell_type": "code",
   "execution_count": 27,
   "metadata": {},
   "outputs": [
    {
     "data": {
      "image/png": "[encoded data removed]",
      "text/plain": [
       "<Figure size 1500x500 with 1 Axes>"
      ]
     },
     "metadata": {},
     "output_type": "display_data"
    }
   ],
   "source": [
    "plt.figure(figsize=(15,5))\n",
    "plt.title('Распределение года регистрации авто')\n",
    "sns.histplot(df['registration_year'], bins=500);"
   ]
  },
  {
   "cell_type": "code",
   "execution_count": 28,
   "metadata": {},
   "outputs": [
    {
     "data": {
      "text/plain": [
       "2000    22889\n",
       "1999    21904\n",
       "2005    21447\n",
       "2006    19661\n",
       "2001    19594\n",
       "        ...  \n",
       "3700        1\n",
       "3800        1\n",
       "4800        1\n",
       "2290        1\n",
       "1946        1\n",
       "Name: registration_year, Length: 139, dtype: int64"
      ]
     },
     "execution_count": 28,
     "metadata": {},
     "output_type": "execute_result"
    }
   ],
   "source": [
    "df['registration_year'].value_counts()"
   ]
  },
  {
   "cell_type": "markdown",
   "metadata": {},
   "source": [
    "Укрупним график, ограничив с 1950 по 2020 года."
   ]
  },
  {
   "cell_type": "code",
   "execution_count": 29,
   "metadata": {},
   "outputs": [
    {
     "data": {
      "image/png": "[encoded data removed]",
      "text/plain": [
       "<Figure size 1500x500 with 1 Axes>"
      ]
     },
     "metadata": {},
     "output_type": "display_data"
    }
   ],
   "source": [
    "plt.figure(figsize=(15,5))\n",
    "plt.title('Распределение года регистрации авто')\n",
    "sns.histplot(df['registration_year'].loc[(df['registration_year'] <= 2020) & (df['registration_year'] >= 1950)], bins=140);"
   ]
  },
  {
   "cell_type": "code",
   "execution_count": 30,
   "metadata": {},
   "outputs": [
    {
     "data": {
      "image/png": "[encoded data removed]",
      "text/plain": [
       "<Figure size 1500x500 with 1 Axes>"
      ]
     },
     "metadata": {},
     "output_type": "display_data"
    }
   ],
   "source": [
    "plt.figure(figsize=(15,5))\n",
    "plt.title('Распределение года регистрации авто')\n",
    "sns.histplot(df['registration_year'].loc[(df['registration_year'] <= 2020) & (df['registration_year'] >= 2010)], bins=20);"
   ]
  },
  {
   "cell_type": "markdown",
   "metadata": {},
   "source": [
    "С 1960 по 2015 года распределение выглядит нормально. Присутствуют единичные выбросы и аномалия данных в 2016, 2017 и 2018 годах. Выбросы мы почистим, а вот аномалию постараемся изучить отдельно. Для этого найдем дату среза базы данных. У нас есть 3 столбца в формате datetime. Найдем самую старую дату, в этих столбцах, это будет дата последней активности перед срезом базы. Грубо, ее можно считать датой среза базы. Строчки с данными можно считать аномальными, если дата регистрации авто окажется старше даты среза базы данных."
   ]
  },
  {
   "cell_type": "code",
   "execution_count": 31,
   "metadata": {},
   "outputs": [],
   "source": [
    "df = df.query('registration_year >= 1960')"
   ]
  },
  {
   "cell_type": "code",
   "execution_count": 32,
   "metadata": {},
   "outputs": [
    {
     "data": {
      "text/plain": [
       "Timestamp('2016-04-07 14:58:51')"
      ]
     },
     "execution_count": 32,
     "metadata": {},
     "output_type": "execute_result"
    }
   ],
   "source": [
    "slice_date = df['date_crawled'].max()\n",
    "if df['date_created'].max() > slice_date:\n",
    "    slice_date = df['date_created'].max()\n",
    "if df['last_seen'].max() > slice_date:\n",
    "    slice_date = df['last_seen'].max()\n",
    "\n",
    "slice_date"
   ]
  },
  {
   "cell_type": "code",
   "execution_count": 33,
   "metadata": {},
   "outputs": [
    {
     "data": {
      "text/plain": [
       "(2016, 4)"
      ]
     },
     "execution_count": 33,
     "metadata": {},
     "output_type": "execute_result"
    }
   ],
   "source": [
    "temp_y = int(slice_date.strftime('%Y'))\n",
    "temp_m = int(slice_date.strftime('%m'))\n",
    "temp_y, temp_m"
   ]
  },
  {
   "cell_type": "markdown",
   "metadata": {},
   "source": [
    "Удалим аномальные данные."
   ]
  },
  {
   "cell_type": "code",
   "execution_count": 34,
   "metadata": {},
   "outputs": [],
   "source": [
    "del_index = []\n",
    "for index_value, value_y, value_m in zip(df['price'].index, df['registration_year'], df['registration_month']):\n",
    "    if (value_y > temp_y) or ((value_y == temp_y) and (value_m > temp_m)):\n",
    "        del_index.append(index_value)\n",
    "df = df.drop(del_index,axis = 0)"
   ]
  },
  {
   "cell_type": "code",
   "execution_count": 35,
   "metadata": {},
   "outputs": [
    {
     "data": {
      "image/png": "[encoded data removed]",
      "text/plain": [
       "<Figure size 1500x500 with 1 Axes>"
      ]
     },
     "metadata": {},
     "output_type": "display_data"
    }
   ],
   "source": [
    "plt.figure(figsize=(15,5))\n",
    "plt.title('Распределение года регистрации авто')\n",
    "sns.histplot(df['registration_year'].loc[(df['registration_year'] <= 2020) & (df['registration_year'] >= 2010)], bins=20);"
   ]
  },
  {
   "cell_type": "markdown",
   "metadata": {},
   "source": [
    "#### Обработаем данные в столбцах power"
   ]
  },
  {
   "cell_type": "code",
   "execution_count": 36,
   "metadata": {},
   "outputs": [
    {
     "data": {
      "image/png": "[encoded data removed]",
      "text/plain": [
       "<Figure size 1500x500 with 1 Axes>"
      ]
     },
     "metadata": {},
     "output_type": "display_data"
    }
   ],
   "source": [
    "plt.figure(figsize=(15,5))\n",
    "plt.title('Распределение мощности авто')\n",
    "sns.histplot(df['power'], bins=500);"
   ]
  },
  {
   "cell_type": "code",
   "execution_count": 37,
   "metadata": {},
   "outputs": [],
   "source": [
    "q10=np.array(df['power'].quantile(0.1))\n",
    "q90=np.array(df['power'].quantile(0.9))\n",
    "first_part=q10-1.5*(q90-q10)\n",
    "second_part=q90+1.5*(q90-q10)\n",
    "del_index = []\n",
    "for index_value, value in zip(df['power'].index,df['power']):\n",
    "    if second_part <= value or value <= first_part or value <= 1:\n",
    "        del_index.append(index_value)\n",
    "df = df.drop(del_index,axis = 0)"
   ]
  },
  {
   "cell_type": "code",
   "execution_count": 38,
   "metadata": {},
   "outputs": [
    {
     "data": {
      "image/png": "[encoded data removed]",
      "text/plain": [
       "<Figure size 1500x500 with 1 Axes>"
      ]
     },
     "metadata": {},
     "output_type": "display_data"
    }
   ],
   "source": [
    "plt.figure(figsize=(15,5))\n",
    "plt.title('Распределение мощности авто')\n",
    "sns.histplot(df['power'], bins=200);"
   ]
  },
  {
   "cell_type": "markdown",
   "metadata": {},
   "source": [
    "#### Оценим столбец kilometer"
   ]
  },
  {
   "cell_type": "code",
   "execution_count": 39,
   "metadata": {},
   "outputs": [
    {
     "data": {
      "text/plain": [
       "(150000    193273\n",
       " 125000     31451\n",
       " 100000     12693\n",
       " 90000      10226\n",
       " 80000       8946\n",
       " 70000       7742\n",
       " 60000       6793\n",
       " 50000       5626\n",
       " 40000       4493\n",
       " 30000       3892\n",
       " 20000       3255\n",
       " 5000        2744\n",
       " 10000        917\n",
       " Name: kilometer, dtype: int64,\n",
       " 13)"
      ]
     },
     "execution_count": 39,
     "metadata": {},
     "output_type": "execute_result"
    }
   ],
   "source": [
    "df['kilometer'].value_counts(), len(df['kilometer'].value_counts())"
   ]
  },
  {
   "cell_type": "markdown",
   "metadata": {},
   "source": [
    "Столбец категориальный с типом данных целых чисел, с ним ничего делать не надо."
   ]
  },
  {
   "cell_type": "markdown",
   "metadata": {},
   "source": [
    "#### Оценим столбец number_of_pictures и postal_code"
   ]
  },
  {
   "cell_type": "code",
   "execution_count": 40,
   "metadata": {},
   "outputs": [
    {
     "data": {
      "text/plain": [
       "(0    292051\n",
       " Name: number_of_pictures, dtype: int64,\n",
       " 1)"
      ]
     },
     "execution_count": 40,
     "metadata": {},
     "output_type": "execute_result"
    }
   ],
   "source": [
    "df['number_of_pictures'].value_counts(), len(df['number_of_pictures'].value_counts())"
   ]
  },
  {
   "cell_type": "code",
   "execution_count": 41,
   "metadata": {},
   "outputs": [
    {
     "data": {
      "text/plain": [
       "(10115    798\n",
       " 65428    501\n",
       " 66333    270\n",
       " 60311    260\n",
       " 52525    247\n",
       "         ... \n",
       " 72361      1\n",
       " 67693      1\n",
       " 63874      1\n",
       " 31719      1\n",
       " 95691      1\n",
       " Name: postal_code, Length: 8113, dtype: int64,\n",
       " 8113)"
      ]
     },
     "execution_count": 41,
     "metadata": {},
     "output_type": "execute_result"
    }
   ],
   "source": [
    "df['postal_code'].value_counts(), len(df['postal_code'].value_counts())"
   ]
  },
  {
   "cell_type": "markdown",
   "metadata": {},
   "source": [
    "Столбец number_of_pictures содержит единственное значение - 0. Он не окажет никакого влияние на исследование, поэтому его можно удалять.  \n",
    "Очень похоже, что столбец postal_code содежит почтовые индексы городов Германии. Можно выдвинуть гипотезу, что на целевой признак может влиять географическое расположение пользователя. Мы знаем, что в разных частям мира существует разный уровень экономического развития и жизни населения. Из этого следует, что один и тот же предмет может стоить по разному в разных местах. (живой пример - индек бигмака). Следуя этой теории, можно было бы обобщить столбец (привязать почтовые индексы к федеральному делению Германии) и рассматривать его как признак, влияющий на целевой признак. Но, я полагаю, что в данном случае, влияния практически не будет, цена авто будет уравновешана механизмами рыночной экономики внутри страны. Но мы всеравно попробуем реализовать гипотезу чтобы просто сохранить больше исходных данных. "
   ]
  },
  {
   "cell_type": "markdown",
   "metadata": {},
   "source": [
    "Функция группирует почтовые индексы по географическому признаку на основе данных с сайта: https://postal-codes.cybo.com/germany/"
   ]
  },
  {
   "cell_type": "code",
   "execution_count": 42,
   "metadata": {},
   "outputs": [],
   "source": [
    "def pcz(row):\n",
    "    if row['postal_code'] >= 8056 and row['postal_code'] <= 9669:\n",
    "        val = \"Saxony\"\n",
    "    elif row['postal_code'] >= 1067 and row['postal_code'] <= 4889:\n",
    "        val = \"Saxony\"\n",
    "    elif row['postal_code'] >= 3042 and row['postal_code'] <= 3253:\n",
    "        val = \"Brandenburg\"\n",
    "    elif row['postal_code'] >= 14461 and row['postal_code'] <= 17326:\n",
    "        val = \"Brandenburg\"\n",
    "    elif row['postal_code'] >= 6108 and row['postal_code'] <= 6928:\n",
    "        val = \"Saxony-Anhalt\"\n",
    "    elif row['postal_code'] >= 38820 and row['postal_code'] <= 39649:\n",
    "        val = \"Saxony-Anhalt\"\n",
    "    elif row['postal_code'] >= 7318 and row['postal_code'] <= 7989:\n",
    "        val = \"Thuringia\"\n",
    "    elif row['postal_code'] >= 98527 and row['postal_code'] <= 99998:\n",
    "        val = \"Thuringia\"\n",
    "    elif row['postal_code'] >= 10115 and row['postal_code'] <= 14532:\n",
    "        val = \"Berlin\"\n",
    "    elif row['postal_code'] >= 17033 and row['postal_code'] <= 19417:\n",
    "        val = \"Mecklenburg-Vorpommern\"\n",
    "    elif row['postal_code'] >= 20038 and row['postal_code'] <= 21149:\n",
    "        val = \"Hamburg\"\n",
    "    elif row['postal_code'] >= 22041 and row['postal_code'] <= 22769:\n",
    "        val = \"Hamburg\"\n",
    "    elif row['postal_code'] >= 21217 and row['postal_code'] <= 21789:\n",
    "        val = \"Lower Saxony\"\n",
    "    elif row['postal_code'] >= 26121 and row['postal_code'] <= 38729:\n",
    "        val = \"Lower Saxony\"\n",
    "    elif row['postal_code'] >= 49074 and row['postal_code'] <= 49849:\n",
    "        val = \"Lower Saxony\"\n",
    "    elif row['postal_code'] >= 22844 and row['postal_code'] <= 25999:\n",
    "        val = \"Schleswig-Holstein\"\n",
    "    elif row['postal_code'] >= 27568 and row['postal_code'] <= 27580:\n",
    "        val = \"Bremen (state)\"\n",
    "    elif row['postal_code'] >= 28195 and row['postal_code'] <= 28779:\n",
    "        val = \"Bremen (state)\"\n",
    "    elif row['postal_code'] >= 32049 and row['postal_code'] <= 33829:\n",
    "        val = \"North Rhine-Westphalia\"\n",
    "    elif row['postal_code'] >= 40196 and row['postal_code'] <= 54585:\n",
    "        val = \"North Rhine-Westphalia\"\n",
    "    elif row['postal_code'] >= 58084 and row['postal_code'] <= 59969:\n",
    "        val = \"North Rhine-Westphalia\"\n",
    "    elif row['postal_code'] >= 34117 and row['postal_code'] <= 37299:\n",
    "        val = \"Hesse\"\n",
    "    elif row['postal_code'] >= 60306 and row['postal_code'] <= 63699:\n",
    "        val = \"Hesse\"\n",
    "    elif row['postal_code'] >= 64283 and row['postal_code'] <= 65936:\n",
    "        val = \"Hesse\"\n",
    "    elif row['postal_code'] >= 54290 and row['postal_code'] <= 57648:\n",
    "        val = \"Rhineland-Palatinate\"\n",
    "    elif row['postal_code'] >= 66849 and row['postal_code'] <= 67829:\n",
    "        val = \"Rhineland-Palatinate\"\n",
    "    elif row['postal_code'] >= 66041 and row['postal_code'] <= 66839:\n",
    "        val = \"Saarland\"\n",
    "    elif row['postal_code'] >= 68131 and row['postal_code'] <= 79879:\n",
    "        val = \"Baden-Württemberg\"\n",
    "    elif row['postal_code'] >= 88212 and row['postal_code'] <= 89198:\n",
    "        val = \"Baden-Württemberg\"\n",
    "    elif row['postal_code'] >= 80331 and row['postal_code'] <= 97909:\n",
    "        val = \"Bavaria\"\n",
    "    elif row['postal_code'] >= 63739 and row['postal_code'] <= 63939:\n",
    "        val = \"Bavaria\"\n",
    "    elif row['postal_code'] >= 97922 and row['postal_code'] <= 97999:\n",
    "        val = \"Baden-Württemberg\"\n",
    "    elif row['postal_code'] >= 4895 and row['postal_code'] <= 4938:\n",
    "        val = \"Brandenburg\"\n",
    "    else :\n",
    "        val = 'n/d'\n",
    "    return val"
   ]
  },
  {
   "cell_type": "code",
   "execution_count": 43,
   "metadata": {},
   "outputs": [],
   "source": [
    "df['postal_code_zone'] = df.apply(pcz, axis=1)"
   ]
  },
  {
   "cell_type": "code",
   "execution_count": 44,
   "metadata": {},
   "outputs": [
    {
     "data": {
      "text/plain": [
       "North Rhine-Westphalia    60632\n",
       "Lower Saxony              55484\n",
       "Bavaria                   45609\n",
       "Baden-Württemberg         33835\n",
       "Hesse                     16715\n",
       "Rhineland-Palatinate      16669\n",
       "Berlin                    11916\n",
       "Schleswig-Holstein        11078\n",
       "Saxony                     9736\n",
       "Brandenburg                6756\n",
       "Hamburg                    5597\n",
       "Saxony-Anhalt              5304\n",
       "Saarland                   5051\n",
       "Thuringia                  4550\n",
       "Mecklenburg-Vorpommern     3119\n",
       "Name: postal_code_zone, dtype: int64"
      ]
     },
     "execution_count": 44,
     "metadata": {},
     "output_type": "execute_result"
    }
   ],
   "source": [
    "df['postal_code_zone'].value_counts()"
   ]
  },
  {
   "cell_type": "markdown",
   "metadata": {},
   "source": [
    "#### Удаляем столбцы и проверяем корреляцию признаков"
   ]
  },
  {
   "cell_type": "markdown",
   "metadata": {},
   "source": [
    "Удаление number_of_pictures и postal_code мы уже аргументировали выше.  \n",
    "Столбцы date_crawled, date_created и last_seen тоже не окажут никакого влияния на иследование."
   ]
  },
  {
   "cell_type": "code",
   "execution_count": 45,
   "metadata": {},
   "outputs": [],
   "source": [
    "df = df.drop(['number_of_pictures', 'postal_code', 'date_crawled', 'date_created', 'last_seen'], axis=1)"
   ]
  },
  {
   "cell_type": "markdown",
   "metadata": {},
   "source": [
    "Проверим корреляцию и мультиколлинеарность признаков."
   ]
  },
  {
   "cell_type": "code",
   "execution_count": 46,
   "metadata": {},
   "outputs": [
    {
     "name": "stderr",
     "output_type": "stream",
     "text": [
      "C:\\Users\\lyser\\AppData\\Local\\Temp\\ipykernel_49280\\1134722465.py:1: FutureWarning: The default value of numeric_only in DataFrame.corr is deprecated. In a future version, it will default to False. Select only valid columns or specify the value of numeric_only to silence this warning.\n",
      "  df.corr()\n"
     ]
    },
    {
     "data": {
      "text/html": [
       "<div>\n",
       "<style scoped>\n",
       "    .dataframe tbody tr th:only-of-type {\n",
       "        vertical-align: middle;\n",
       "    }\n",
       "\n",
       "    .dataframe tbody tr th {\n",
       "        vertical-align: top;\n",
       "    }\n",
       "\n",
       "    .dataframe thead th {\n",
       "        text-align: right;\n",
       "    }\n",
       "</style>\n",
       "<table border=\"1\" class=\"dataframe\">\n",
       "  <thead>\n",
       "    <tr style=\"text-align: right;\">\n",
       "      <th></th>\n",
       "      <th>price</th>\n",
       "      <th>registration_year</th>\n",
       "      <th>power</th>\n",
       "      <th>kilometer</th>\n",
       "      <th>registration_month</th>\n",
       "    </tr>\n",
       "  </thead>\n",
       "  <tbody>\n",
       "    <tr>\n",
       "      <th>price</th>\n",
       "      <td>1.000000</td>\n",
       "      <td>0.520967</td>\n",
       "      <td>0.508618</td>\n",
       "      <td>-0.389198</td>\n",
       "      <td>0.072132</td>\n",
       "    </tr>\n",
       "    <tr>\n",
       "      <th>registration_year</th>\n",
       "      <td>0.520967</td>\n",
       "      <td>1.000000</td>\n",
       "      <td>0.149251</td>\n",
       "      <td>-0.313157</td>\n",
       "      <td>0.032604</td>\n",
       "    </tr>\n",
       "    <tr>\n",
       "      <th>power</th>\n",
       "      <td>0.508618</td>\n",
       "      <td>0.149251</td>\n",
       "      <td>1.000000</td>\n",
       "      <td>0.109612</td>\n",
       "      <td>0.044639</td>\n",
       "    </tr>\n",
       "    <tr>\n",
       "      <th>kilometer</th>\n",
       "      <td>-0.389198</td>\n",
       "      <td>-0.313157</td>\n",
       "      <td>0.109612</td>\n",
       "      <td>1.000000</td>\n",
       "      <td>-0.017100</td>\n",
       "    </tr>\n",
       "    <tr>\n",
       "      <th>registration_month</th>\n",
       "      <td>0.072132</td>\n",
       "      <td>0.032604</td>\n",
       "      <td>0.044639</td>\n",
       "      <td>-0.017100</td>\n",
       "      <td>1.000000</td>\n",
       "    </tr>\n",
       "  </tbody>\n",
       "</table>\n",
       "</div>"
      ],
      "text/plain": [
       "                       price  registration_year     power  kilometer  \\\n",
       "price               1.000000           0.520967  0.508618  -0.389198   \n",
       "registration_year   0.520967           1.000000  0.149251  -0.313157   \n",
       "power               0.508618           0.149251  1.000000   0.109612   \n",
       "kilometer          -0.389198          -0.313157  0.109612   1.000000   \n",
       "registration_month  0.072132           0.032604  0.044639  -0.017100   \n",
       "\n",
       "                    registration_month  \n",
       "price                         0.072132  \n",
       "registration_year             0.032604  \n",
       "power                         0.044639  \n",
       "kilometer                    -0.017100  \n",
       "registration_month            1.000000  "
      ]
     },
     "execution_count": 46,
     "metadata": {},
     "output_type": "execute_result"
    }
   ],
   "source": [
    "df.corr()"
   ]
  },
  {
   "cell_type": "markdown",
   "metadata": {},
   "source": [
    "коэф Пирсона показывает умеренную корреляцию целевого признака с признаками registration_year и power."
   ]
  },
  {
   "cell_type": "code",
   "execution_count": 47,
   "metadata": {},
   "outputs": [
    {
     "data": {
      "text/html": [
       "<div>\n",
       "<style scoped>\n",
       "    .dataframe tbody tr th:only-of-type {\n",
       "        vertical-align: middle;\n",
       "    }\n",
       "\n",
       "    .dataframe tbody tr th {\n",
       "        vertical-align: top;\n",
       "    }\n",
       "\n",
       "    .dataframe thead th {\n",
       "        text-align: right;\n",
       "    }\n",
       "</style>\n",
       "<table border=\"1\" class=\"dataframe\">\n",
       "  <thead>\n",
       "    <tr style=\"text-align: right;\">\n",
       "      <th></th>\n",
       "      <th>VIF</th>\n",
       "      <th>variable</th>\n",
       "    </tr>\n",
       "  </thead>\n",
       "  <tbody>\n",
       "    <tr>\n",
       "      <th>0</th>\n",
       "      <td>3.950259</td>\n",
       "      <td>price</td>\n",
       "    </tr>\n",
       "    <tr>\n",
       "      <th>1</th>\n",
       "      <td>22.566824</td>\n",
       "      <td>registration_year</td>\n",
       "    </tr>\n",
       "    <tr>\n",
       "      <th>2</th>\n",
       "      <td>9.882751</td>\n",
       "      <td>power</td>\n",
       "    </tr>\n",
       "    <tr>\n",
       "      <th>3</th>\n",
       "      <td>18.202557</td>\n",
       "      <td>kilometer</td>\n",
       "    </tr>\n",
       "    <tr>\n",
       "      <th>4</th>\n",
       "      <td>3.792410</td>\n",
       "      <td>registration_month</td>\n",
       "    </tr>\n",
       "  </tbody>\n",
       "</table>\n",
       "</div>"
      ],
      "text/plain": [
       "         VIF            variable\n",
       "0   3.950259               price\n",
       "1  22.566824   registration_year\n",
       "2   9.882751               power\n",
       "3  18.202557           kilometer\n",
       "4   3.792410  registration_month"
      ]
     },
     "execution_count": 47,
     "metadata": {},
     "output_type": "execute_result"
    }
   ],
   "source": [
    "df_vif = df[df.select_dtypes(include=['int64']).columns]\n",
    "\n",
    "vif = pd.DataFrame()\n",
    "vif['VIF'] = [variance_inflation_factor(df_vif.values, i) for i in range(df_vif.shape[1])]\n",
    "vif['variable'] = df_vif.columns\n",
    "vif"
   ]
  },
  {
   "cell_type": "markdown",
   "metadata": {},
   "source": [
    "коэф инфляции дисперсии (VIF) показывает умеренную корреляцию целевого признака, при этом мы наблюдаем высокую мультиколлинеарность остальных признаков."
   ]
  },
  {
   "cell_type": "code",
   "execution_count": 48,
   "metadata": {},
   "outputs": [],
   "source": [
    "df = df.drop(['registration_month'], axis=1)"
   ]
  },
  {
   "cell_type": "markdown",
   "metadata": {},
   "source": [
    "#### Преобразование категориальных признаков в численные и формирование выборок"
   ]
  },
  {
   "cell_type": "code",
   "execution_count": 49,
   "metadata": {},
   "outputs": [
    {
     "data": {
      "text/plain": [
       "['vehicle_type',\n",
       " 'gearbox',\n",
       " 'model',\n",
       " 'fuel_type',\n",
       " 'brand',\n",
       " 'repaired',\n",
       " 'postal_code_zone']"
      ]
     },
     "execution_count": 49,
     "metadata": {},
     "output_type": "execute_result"
    }
   ],
   "source": [
    "list(df.select_dtypes(include=['object']).columns)"
   ]
  },
  {
   "cell_type": "markdown",
   "metadata": {},
   "source": [
    "Я вижу 2 варианта преобразования:  \n",
    "    1). Прямое кодирование (One-Hot Encoding, OHE)  \n",
    "    2). Порядковое кодирование (Ordinal Encoding, OE)  \n",
    "      \n",
    "Предлагаю реализовать оба способа и в конце сравнить результаты."
   ]
  },
  {
   "cell_type": "code",
   "execution_count": 50,
   "metadata": {},
   "outputs": [
    {
     "name": "stdout",
     "output_type": "stream",
     "text": [
      "<class 'pandas.core.frame.DataFrame'>\n",
      "Int64Index: 292051 entries, 1 to 354364\n",
      "Data columns (total 11 columns):\n",
      " #   Column             Non-Null Count   Dtype \n",
      "---  ------             --------------   ----- \n",
      " 0   price              292051 non-null  int64 \n",
      " 1   vehicle_type       292051 non-null  object\n",
      " 2   registration_year  292051 non-null  int64 \n",
      " 3   gearbox            292051 non-null  object\n",
      " 4   power              292051 non-null  int64 \n",
      " 5   model              292051 non-null  object\n",
      " 6   kilometer          292051 non-null  int64 \n",
      " 7   fuel_type          292051 non-null  object\n",
      " 8   brand              292051 non-null  object\n",
      " 9   repaired           292051 non-null  object\n",
      " 10  postal_code_zone   292051 non-null  object\n",
      "dtypes: int64(4), object(7)\n",
      "memory usage: 26.7+ MB\n"
     ]
    }
   ],
   "source": [
    "df.info()"
   ]
  },
  {
   "cell_type": "markdown",
   "metadata": {},
   "source": [
    "Разобьем датафрейм на выборки: обучающую и тестовую."
   ]
  },
  {
   "cell_type": "code",
   "execution_count": 51,
   "metadata": {},
   "outputs": [],
   "source": [
    "features = df.drop(['price'], axis=1)\n",
    "target = df['price']\n",
    "\n",
    "features_train, features_test, target_train, target_test = train_test_split(\n",
    "    features,\n",
    "    target,\n",
    "    test_size=0.25,\n",
    "    random_state=rs)"
   ]
  },
  {
   "cell_type": "code",
   "execution_count": 52,
   "metadata": {},
   "outputs": [
    {
     "name": "stdout",
     "output_type": "stream",
     "text": [
      "(219038, 10)\n",
      "(73013, 10)\n",
      "(219038,)\n",
      "(73013,)\n"
     ]
    }
   ],
   "source": [
    "print(features_train.shape)\n",
    "print(features_test.shape)\n",
    "print(target_train.shape)\n",
    "print(target_test.shape)"
   ]
  },
  {
   "cell_type": "markdown",
   "metadata": {},
   "source": [
    "##### One-Hot Encoding, OHE"
   ]
  },
  {
   "cell_type": "code",
   "execution_count": 53,
   "metadata": {},
   "outputs": [],
   "source": [
    "df_ohe = pd.get_dummies(\n",
    "    df,\n",
    "    columns = df.select_dtypes(include = ['object']).columns,\n",
    "    drop_first = True\n",
    ")"
   ]
  },
  {
   "cell_type": "code",
   "execution_count": 54,
   "metadata": {},
   "outputs": [],
   "source": [
    "features_ohe = df_ohe.drop(['price'], axis=1)\n",
    "target_ohe = df_ohe['price']\n",
    "\n",
    "features_ohe_train, features_ohe_test, target_ohe_train, target_ohe_test = train_test_split(\n",
    "    features_ohe,\n",
    "    target_ohe,\n",
    "    test_size=0.25,\n",
    "    random_state=rs)"
   ]
  },
  {
   "cell_type": "code",
   "execution_count": 55,
   "metadata": {},
   "outputs": [
    {
     "name": "stdout",
     "output_type": "stream",
     "text": [
      "(219038, 324)\n",
      "(73013, 324)\n",
      "(219038,)\n",
      "(73013,)\n"
     ]
    }
   ],
   "source": [
    "print(features_ohe_train.shape)\n",
    "print(features_ohe_test.shape)\n",
    "print(target_ohe_train.shape)\n",
    "print(target_ohe_test.shape)"
   ]
  },
  {
   "cell_type": "markdown",
   "metadata": {},
   "source": [
    "##### Ordinal Encoding, OE"
   ]
  },
  {
   "cell_type": "code",
   "execution_count": 56,
   "metadata": {},
   "outputs": [],
   "source": [
    "encoder = OrdinalEncoder()\n",
    "df_oe = df\n",
    "df_oe[list(df.select_dtypes(include = ['object']).columns)] = encoder.fit_transform(df_oe[list(df.select_dtypes(include=['object']).columns)])"
   ]
  },
  {
   "cell_type": "code",
   "execution_count": 57,
   "metadata": {},
   "outputs": [],
   "source": [
    "features_oe = df_oe.drop(['price'], axis=1)\n",
    "target_oe = df_oe['price']\n",
    "\n",
    "features_oe_train, features_oe_test, target_oe_train, target_oe_test = train_test_split(\n",
    "    features_oe,\n",
    "    target_oe,\n",
    "    test_size=0.25,\n",
    "    random_state=rs)"
   ]
  },
  {
   "cell_type": "code",
   "execution_count": 58,
   "metadata": {},
   "outputs": [
    {
     "name": "stdout",
     "output_type": "stream",
     "text": [
      "(219038, 10)\n",
      "(73013, 10)\n",
      "(219038,)\n",
      "(73013,)\n"
     ]
    }
   ],
   "source": [
    "print(features_oe_train.shape)\n",
    "print(features_oe_test.shape)\n",
    "print(target_oe_train.shape)\n",
    "print(target_oe_test.shape)"
   ]
  },
  {
   "cell_type": "markdown",
   "metadata": {},
   "source": [
    "#### Вывод"
   ]
  },
  {
   "cell_type": "markdown",
   "metadata": {},
   "source": [
    "Мы заполнили пропуски и удалили выбросы в данных. Проверили корреляцию признаков, она в норме. Преобразовали категориальные признаки в численные с помощью Ordinal Encoding и One-Hot Encoding. Разделили данные на обучающую и тестовую выборки."
   ]
  },
  {
   "cell_type": "markdown",
   "metadata": {},
   "source": [
    "## Обучение моделей"
   ]
  },
  {
   "cell_type": "markdown",
   "metadata": {},
   "source": [
    "Создадим таблицу с результатами обучения для каждой модели. Результаты будут отражать важные для заказчика параметры: время обучения, скорость и качество предсказания. Для идентификации модели добавим название модели, метод преобразования категориальных признаков и параметры модели."
   ]
  },
  {
   "cell_type": "code",
   "execution_count": 59,
   "metadata": {},
   "outputs": [
    {
     "data": {
      "text/html": [
       "<div>\n",
       "<style scoped>\n",
       "    .dataframe tbody tr th:only-of-type {\n",
       "        vertical-align: middle;\n",
       "    }\n",
       "\n",
       "    .dataframe tbody tr th {\n",
       "        vertical-align: top;\n",
       "    }\n",
       "\n",
       "    .dataframe thead th {\n",
       "        text-align: right;\n",
       "    }\n",
       "</style>\n",
       "<table border=\"1\" class=\"dataframe\">\n",
       "  <thead>\n",
       "    <tr style=\"text-align: right;\">\n",
       "      <th></th>\n",
       "      <th>model_name</th>\n",
       "      <th>encoder</th>\n",
       "      <th>model_var</th>\n",
       "      <th>fit_time</th>\n",
       "      <th>predict_time</th>\n",
       "      <th>full_time</th>\n",
       "      <th>rmse_train</th>\n",
       "    </tr>\n",
       "  </thead>\n",
       "  <tbody>\n",
       "  </tbody>\n",
       "</table>\n",
       "</div>"
      ],
      "text/plain": [
       "Empty DataFrame\n",
       "Columns: [model_name, encoder, model_var, fit_time, predict_time, full_time, rmse_train]\n",
       "Index: []"
      ]
     },
     "metadata": {},
     "output_type": "display_data"
    }
   ],
   "source": [
    "models = pd.DataFrame(columns =  ['model_name', 'encoder', 'model_var', 'fit_time', 'predict_time', 'full_time', 'rmse_train'])\n",
    "display(models)"
   ]
  },
  {
   "cell_type": "markdown",
   "metadata": {},
   "source": [
    "Напишим функцию, которая будет сохранять результаты обучения модели в итоговую таблицу."
   ]
  },
  {
   "cell_type": "code",
   "execution_count": 60,
   "metadata": {},
   "outputs": [],
   "source": [
    "def models_result (model_name, encoder, model_var, fit_time, predict_time, full_time, rmse, models):\n",
    "    result = [model_name, encoder, model_var, fit_time, predict_time, full_time, rmse]\n",
    "    rows = [pd.Series(result, index = models.columns)]\n",
    "    models = models.append(rows,ignore_index=True)\n",
    "    return(models)"
   ]
  },
  {
   "cell_type": "markdown",
   "metadata": {},
   "source": [
    "Напишим функцию, которая будет считать точность модели по среднеквадратической ошибке (RMSE)."
   ]
  },
  {
   "cell_type": "code",
   "execution_count": 61,
   "metadata": {},
   "outputs": [],
   "source": [
    "def rmse_scorer(target: np.ndarray, predicted: np.ndarray):\n",
    "    return np.sqrt(mean_squared_error(target, predicted))\n",
    "\n",
    "rmse_scoring = make_scorer(rmse_scorer, greater_is_better=False)"
   ]
  },
  {
   "cell_type": "markdown",
   "metadata": {},
   "source": [
    "Напишим функцию, обучения и предсказания точности модели с расчетом потраченного времени.\n",
    " - мы будем расставлять временные маркеры в начале и конце обучения и предсказания модели с помощью функции time.time()\n",
    " - находя разницу между значениями маркетов, мы получим затраченное время на обучения и предсказание модели\n",
    " - определим точность модели с помощью функции нахождения среднеквадратичной ошибки"
   ]
  },
  {
   "cell_type": "code",
   "execution_count": 62,
   "metadata": {},
   "outputs": [],
   "source": [
    "def fit_model(model, features_train, target_train):\n",
    "\n",
    "    rmse = round(np.mean(np.sqrt(np.abs(cross_val_score(model, features_train, target_train, scoring=\"neg_mean_squared_error\")))), 2)\n",
    "    \n",
    "    fit_start = time.time()\n",
    "    model.fit(features_train, target_train)\n",
    "    fit_time = round(time.time() - fit_start, 1)\n",
    "\n",
    "    predict_start = time.time()\n",
    "    predicted_train = model.predict(features_train)\n",
    "    predict_time = round(time.time() - predict_start, 1)\n",
    "    \n",
    "    train_time = fit_time + predict_time\n",
    "\n",
    "    return(rmse, fit_time, predict_time, train_time)"
   ]
  },
  {
   "cell_type": "markdown",
   "metadata": {},
   "source": [
    "### Linear Regression"
   ]
  },
  {
   "cell_type": "markdown",
   "metadata": {},
   "source": [
    "Масштабируем численные признаки для линейных моделей:"
   ]
  },
  {
   "cell_type": "code",
   "execution_count": 63,
   "metadata": {},
   "outputs": [
    {
     "data": {
      "text/plain": [
       "['registration_year', 'power', 'kilometer']"
      ]
     },
     "execution_count": 63,
     "metadata": {},
     "output_type": "execute_result"
    }
   ],
   "source": [
    "numeric = list(df_ohe.select_dtypes(include=['int64']).columns)\n",
    "numeric.remove('price')\n",
    "numeric"
   ]
  },
  {
   "cell_type": "code",
   "execution_count": 64,
   "metadata": {},
   "outputs": [],
   "source": [
    "features_lr_ohe_train = features_ohe_train.copy()\n",
    "features_lr_ohe_test = features_ohe_test.copy()\n",
    "\n",
    "scaler = StandardScaler()\n",
    "scaler.fit(features_train[numeric])\n",
    "features_lr_ohe_train[numeric] = scaler.transform(features_ohe_train[numeric])\n",
    "features_lr_ohe_test[numeric] = scaler.transform(features_ohe_test[numeric])"
   ]
  },
  {
   "cell_type": "code",
   "execution_count": 65,
   "metadata": {},
   "outputs": [],
   "source": [
    "model_lr = LinearRegression()\n",
    "model_name = \"Linear Regression\""
   ]
  },
  {
   "cell_type": "markdown",
   "metadata": {},
   "source": [
    "#### Обучаем и предсказываем на выборке OHE"
   ]
  },
  {
   "cell_type": "code",
   "execution_count": 66,
   "metadata": {},
   "outputs": [],
   "source": [
    "encoder = \"OHE\"\n",
    "model_var = np.nan"
   ]
  },
  {
   "cell_type": "code",
   "execution_count": 67,
   "metadata": {},
   "outputs": [
    {
     "name": "stdout",
     "output_type": "stream",
     "text": [
      "CPU times: total: 1min 7s\n",
      "Wall time: 13.9 s\n"
     ]
    }
   ],
   "source": [
    "%%time\n",
    "(rmse, fit_time, predict_time, full_time) = fit_model(\n",
    "    model_lr,\n",
    "    features_lr_ohe_train, \n",
    "    target_ohe_train)"
   ]
  },
  {
   "cell_type": "code",
   "execution_count": 68,
   "metadata": {},
   "outputs": [
    {
     "name": "stderr",
     "output_type": "stream",
     "text": [
      "C:\\Users\\lyser\\AppData\\Local\\Temp\\ipykernel_49280\\2072501531.py:4: FutureWarning: The frame.append method is deprecated and will be removed from pandas in a future version. Use pandas.concat instead.\n",
      "  models = models.append(rows,ignore_index=True)\n"
     ]
    },
    {
     "data": {
      "text/html": [
       "<div>\n",
       "<style scoped>\n",
       "    .dataframe tbody tr th:only-of-type {\n",
       "        vertical-align: middle;\n",
       "    }\n",
       "\n",
       "    .dataframe tbody tr th {\n",
       "        vertical-align: top;\n",
       "    }\n",
       "\n",
       "    .dataframe thead th {\n",
       "        text-align: right;\n",
       "    }\n",
       "</style>\n",
       "<table border=\"1\" class=\"dataframe\">\n",
       "  <thead>\n",
       "    <tr style=\"text-align: right;\">\n",
       "      <th></th>\n",
       "      <th>model_name</th>\n",
       "      <th>encoder</th>\n",
       "      <th>model_var</th>\n",
       "      <th>fit_time</th>\n",
       "      <th>predict_time</th>\n",
       "      <th>full_time</th>\n",
       "      <th>rmse_train</th>\n",
       "    </tr>\n",
       "  </thead>\n",
       "  <tbody>\n",
       "    <tr>\n",
       "      <th>0</th>\n",
       "      <td>Linear Regression</td>\n",
       "      <td>OHE</td>\n",
       "      <td>NaN</td>\n",
       "      <td>2.4</td>\n",
       "      <td>0.2</td>\n",
       "      <td>2.6</td>\n",
       "      <td>2539.78</td>\n",
       "    </tr>\n",
       "  </tbody>\n",
       "</table>\n",
       "</div>"
      ],
      "text/plain": [
       "          model_name encoder  model_var  fit_time  predict_time  full_time  \\\n",
       "0  Linear Regression     OHE        NaN       2.4           0.2        2.6   \n",
       "\n",
       "   rmse_train  \n",
       "0     2539.78  "
      ]
     },
     "execution_count": 68,
     "metadata": {},
     "output_type": "execute_result"
    }
   ],
   "source": [
    "models = models_result(model_name, encoder, model_var, fit_time, predict_time, full_time, rmse, models)\n",
    "models"
   ]
  },
  {
   "cell_type": "markdown",
   "metadata": {},
   "source": [
    "### Decision Tree"
   ]
  },
  {
   "cell_type": "code",
   "execution_count": 69,
   "metadata": {},
   "outputs": [],
   "source": [
    "model_dt = DecisionTreeRegressor(random_state = rs)\n",
    "model_name = \"Decision Tree\""
   ]
  },
  {
   "cell_type": "markdown",
   "metadata": {},
   "source": [
    "#### Обучаем и предсказываем на выборке OHE"
   ]
  },
  {
   "cell_type": "code",
   "execution_count": 70,
   "metadata": {},
   "outputs": [],
   "source": [
    "encoder = \"OHE\"\n",
    "param_dt_ohe = {\n",
    "#    'max_depth': range(1, 50, 1),    \n",
    "    'max_depth': [14],\n",
    "    'random_state': [rs]\n",
    "} "
   ]
  },
  {
   "cell_type": "code",
   "execution_count": 71,
   "metadata": {},
   "outputs": [],
   "source": [
    "grid_dt_ohe = GridSearchCV(\n",
    "    estimator = model_dt,\n",
    "    param_grid = param_dt_ohe,\n",
    "    scoring = rmse_scoring,\n",
    "    cv = 3)"
   ]
  },
  {
   "cell_type": "code",
   "execution_count": 72,
   "metadata": {},
   "outputs": [
    {
     "name": "stdout",
     "output_type": "stream",
     "text": [
      "CPU times: total: 13.5 s\n",
      "Wall time: 12.7 s\n"
     ]
    },
    {
     "data": {
      "text/plain": [
       "{'max_depth': 14, 'random_state': 12345}"
      ]
     },
     "execution_count": 72,
     "metadata": {},
     "output_type": "execute_result"
    }
   ],
   "source": [
    "%%time\n",
    "grid_dt_ohe.fit(features_ohe_train, target_ohe_train)\n",
    "grid_dt_ohe.best_params_"
   ]
  },
  {
   "cell_type": "code",
   "execution_count": 73,
   "metadata": {},
   "outputs": [],
   "source": [
    "model_dt_ohe = DecisionTreeRegressor(**grid_dt_ohe.best_params_)"
   ]
  },
  {
   "cell_type": "code",
   "execution_count": 74,
   "metadata": {},
   "outputs": [
    {
     "name": "stdout",
     "output_type": "stream",
     "text": [
      "CPU times: total: 21.1 s\n",
      "Wall time: 21 s\n"
     ]
    }
   ],
   "source": [
    "%%time\n",
    "(rmse, fit_time, predict_time, full_time) = fit_model(\n",
    "    model_dt_ohe,\n",
    "    features_ohe_train, \n",
    "    target_ohe_train)"
   ]
  },
  {
   "cell_type": "code",
   "execution_count": 75,
   "metadata": {},
   "outputs": [
    {
     "data": {
      "text/plain": [
       "{'max_depth': 14}"
      ]
     },
     "execution_count": 75,
     "metadata": {},
     "output_type": "execute_result"
    }
   ],
   "source": [
    "model_var = grid_dt_ohe.best_params_\n",
    "del model_var['random_state']\n",
    "model_var"
   ]
  },
  {
   "cell_type": "code",
   "execution_count": 76,
   "metadata": {},
   "outputs": [
    {
     "name": "stderr",
     "output_type": "stream",
     "text": [
      "C:\\Users\\lyser\\AppData\\Local\\Temp\\ipykernel_49280\\2072501531.py:4: FutureWarning: The frame.append method is deprecated and will be removed from pandas in a future version. Use pandas.concat instead.\n",
      "  models = models.append(rows,ignore_index=True)\n"
     ]
    },
    {
     "data": {
      "text/html": [
       "<div>\n",
       "<style scoped>\n",
       "    .dataframe tbody tr th:only-of-type {\n",
       "        vertical-align: middle;\n",
       "    }\n",
       "\n",
       "    .dataframe tbody tr th {\n",
       "        vertical-align: top;\n",
       "    }\n",
       "\n",
       "    .dataframe thead th {\n",
       "        text-align: right;\n",
       "    }\n",
       "</style>\n",
       "<table border=\"1\" class=\"dataframe\">\n",
       "  <thead>\n",
       "    <tr style=\"text-align: right;\">\n",
       "      <th></th>\n",
       "      <th>model_name</th>\n",
       "      <th>encoder</th>\n",
       "      <th>model_var</th>\n",
       "      <th>fit_time</th>\n",
       "      <th>predict_time</th>\n",
       "      <th>full_time</th>\n",
       "      <th>rmse_train</th>\n",
       "    </tr>\n",
       "  </thead>\n",
       "  <tbody>\n",
       "    <tr>\n",
       "      <th>0</th>\n",
       "      <td>Linear Regression</td>\n",
       "      <td>OHE</td>\n",
       "      <td>NaN</td>\n",
       "      <td>2.4</td>\n",
       "      <td>0.2</td>\n",
       "      <td>2.6</td>\n",
       "      <td>2539.78</td>\n",
       "    </tr>\n",
       "    <tr>\n",
       "      <th>1</th>\n",
       "      <td>Decision Tree</td>\n",
       "      <td>OHE</td>\n",
       "      <td>{'max_depth': 14}</td>\n",
       "      <td>3.9</td>\n",
       "      <td>0.3</td>\n",
       "      <td>4.2</td>\n",
       "      <td>1857.22</td>\n",
       "    </tr>\n",
       "  </tbody>\n",
       "</table>\n",
       "</div>"
      ],
      "text/plain": [
       "          model_name encoder          model_var  fit_time  predict_time  \\\n",
       "0  Linear Regression     OHE                NaN       2.4           0.2   \n",
       "1      Decision Tree     OHE  {'max_depth': 14}       3.9           0.3   \n",
       "\n",
       "   full_time  rmse_train  \n",
       "0        2.6     2539.78  \n",
       "1        4.2     1857.22  "
      ]
     },
     "execution_count": 76,
     "metadata": {},
     "output_type": "execute_result"
    }
   ],
   "source": [
    "models = models_result(model_name, encoder, model_var, fit_time, predict_time, full_time, rmse, models)\n",
    "models"
   ]
  },
  {
   "cell_type": "markdown",
   "metadata": {},
   "source": [
    "#### Обучаем и предсказываем на выборке OE"
   ]
  },
  {
   "cell_type": "code",
   "execution_count": 77,
   "metadata": {},
   "outputs": [],
   "source": [
    "encoder = \"OE\"\n",
    "param_dt_oe = {\n",
    "#    'max_depth': range(1, 50, 1),    \n",
    "    'max_depth': [14],\n",
    "    'random_state': [rs]\n",
    "}"
   ]
  },
  {
   "cell_type": "code",
   "execution_count": 78,
   "metadata": {},
   "outputs": [],
   "source": [
    "grid_dt_oe = GridSearchCV(\n",
    "    estimator = model_dt,\n",
    "    param_grid = param_dt_oe,\n",
    "    scoring = rmse_scoring,\n",
    "    cv = 3)"
   ]
  },
  {
   "cell_type": "code",
   "execution_count": 79,
   "metadata": {},
   "outputs": [
    {
     "name": "stdout",
     "output_type": "stream",
     "text": [
      "CPU times: total: 1.67 s\n",
      "Wall time: 1.7 s\n"
     ]
    },
    {
     "data": {
      "text/plain": [
       "{'max_depth': 14, 'random_state': 12345}"
      ]
     },
     "execution_count": 79,
     "metadata": {},
     "output_type": "execute_result"
    }
   ],
   "source": [
    "%%time\n",
    "grid_dt_oe.fit(features_oe_train, target_oe_train)\n",
    "grid_dt_oe.best_params_"
   ]
  },
  {
   "cell_type": "code",
   "execution_count": 80,
   "metadata": {},
   "outputs": [],
   "source": [
    "model_dt_oe = DecisionTreeRegressor(**grid_dt_oe.best_params_)"
   ]
  },
  {
   "cell_type": "code",
   "execution_count": 81,
   "metadata": {},
   "outputs": [
    {
     "name": "stdout",
     "output_type": "stream",
     "text": [
      "CPU times: total: 2.88 s\n",
      "Wall time: 2.93 s\n"
     ]
    }
   ],
   "source": [
    "%%time\n",
    "(rmse, fit_time, predict_time, full_time) = fit_model(\n",
    "    model_dt_oe,\n",
    "    features_oe_train, \n",
    "    target_oe_train,\n",
    ")"
   ]
  },
  {
   "cell_type": "code",
   "execution_count": 82,
   "metadata": {},
   "outputs": [
    {
     "data": {
      "text/plain": [
       "{'max_depth': 14}"
      ]
     },
     "execution_count": 82,
     "metadata": {},
     "output_type": "execute_result"
    }
   ],
   "source": [
    "model_var = grid_dt_oe.best_params_\n",
    "del model_var['random_state']\n",
    "model_var"
   ]
  },
  {
   "cell_type": "code",
   "execution_count": 83,
   "metadata": {},
   "outputs": [
    {
     "name": "stderr",
     "output_type": "stream",
     "text": [
      "C:\\Users\\lyser\\AppData\\Local\\Temp\\ipykernel_49280\\2072501531.py:4: FutureWarning: The frame.append method is deprecated and will be removed from pandas in a future version. Use pandas.concat instead.\n",
      "  models = models.append(rows,ignore_index=True)\n"
     ]
    },
    {
     "data": {
      "text/html": [
       "<div>\n",
       "<style scoped>\n",
       "    .dataframe tbody tr th:only-of-type {\n",
       "        vertical-align: middle;\n",
       "    }\n",
       "\n",
       "    .dataframe tbody tr th {\n",
       "        vertical-align: top;\n",
       "    }\n",
       "\n",
       "    .dataframe thead th {\n",
       "        text-align: right;\n",
       "    }\n",
       "</style>\n",
       "<table border=\"1\" class=\"dataframe\">\n",
       "  <thead>\n",
       "    <tr style=\"text-align: right;\">\n",
       "      <th></th>\n",
       "      <th>model_name</th>\n",
       "      <th>encoder</th>\n",
       "      <th>model_var</th>\n",
       "      <th>fit_time</th>\n",
       "      <th>predict_time</th>\n",
       "      <th>full_time</th>\n",
       "      <th>rmse_train</th>\n",
       "    </tr>\n",
       "  </thead>\n",
       "  <tbody>\n",
       "    <tr>\n",
       "      <th>0</th>\n",
       "      <td>Linear Regression</td>\n",
       "      <td>OHE</td>\n",
       "      <td>NaN</td>\n",
       "      <td>2.4</td>\n",
       "      <td>0.2</td>\n",
       "      <td>2.6</td>\n",
       "      <td>2539.78</td>\n",
       "    </tr>\n",
       "    <tr>\n",
       "      <th>1</th>\n",
       "      <td>Decision Tree</td>\n",
       "      <td>OHE</td>\n",
       "      <td>{'max_depth': 14}</td>\n",
       "      <td>3.9</td>\n",
       "      <td>0.3</td>\n",
       "      <td>4.2</td>\n",
       "      <td>1857.22</td>\n",
       "    </tr>\n",
       "    <tr>\n",
       "      <th>2</th>\n",
       "      <td>Decision Tree</td>\n",
       "      <td>OE</td>\n",
       "      <td>{'max_depth': 14}</td>\n",
       "      <td>0.5</td>\n",
       "      <td>0.0</td>\n",
       "      <td>0.5</td>\n",
       "      <td>1859.73</td>\n",
       "    </tr>\n",
       "  </tbody>\n",
       "</table>\n",
       "</div>"
      ],
      "text/plain": [
       "          model_name encoder          model_var  fit_time  predict_time  \\\n",
       "0  Linear Regression     OHE                NaN       2.4           0.2   \n",
       "1      Decision Tree     OHE  {'max_depth': 14}       3.9           0.3   \n",
       "2      Decision Tree      OE  {'max_depth': 14}       0.5           0.0   \n",
       "\n",
       "   full_time  rmse_train  \n",
       "0        2.6     2539.78  \n",
       "1        4.2     1857.22  \n",
       "2        0.5     1859.73  "
      ]
     },
     "execution_count": 83,
     "metadata": {},
     "output_type": "execute_result"
    }
   ],
   "source": [
    "models = models_result(model_name, encoder, model_var, fit_time, predict_time, full_time, rmse, models)\n",
    "models"
   ]
  },
  {
   "cell_type": "markdown",
   "metadata": {},
   "source": [
    "### Random Forest"
   ]
  },
  {
   "cell_type": "code",
   "execution_count": 84,
   "metadata": {},
   "outputs": [],
   "source": [
    "model_rf = RandomForestRegressor(random_state = rs)\n",
    "model_name = \"Random Forest\""
   ]
  },
  {
   "cell_type": "markdown",
   "metadata": {},
   "source": [
    "#### Обучаем и предсказываем на выборке OHE"
   ]
  },
  {
   "cell_type": "code",
   "execution_count": 85,
   "metadata": {},
   "outputs": [],
   "source": [
    "encoder = \"OHE\"\n",
    "param_rf_ohe = {\n",
    "#    'n_estimators': range(1, 51, 1),\n",
    "    'n_estimators': [50],\n",
    "#    'max_depth': range(1, 25, 1),\n",
    "    'max_depth': [24],\n",
    "    'random_state': [rs]\n",
    "}"
   ]
  },
  {
   "cell_type": "code",
   "execution_count": 86,
   "metadata": {},
   "outputs": [],
   "source": [
    "grid_rf_ohe = GridSearchCV(\n",
    "    estimator = model_rf,\n",
    "    param_grid = param_rf_ohe,\n",
    "    scoring = rmse_scoring,\n",
    ")"
   ]
  },
  {
   "cell_type": "code",
   "execution_count": 87,
   "metadata": {},
   "outputs": [
    {
     "name": "stdout",
     "output_type": "stream",
     "text": [
      "CPU times: total: 14min 51s\n",
      "Wall time: 14min 50s\n"
     ]
    },
    {
     "data": {
      "text/plain": [
       "{'max_depth': 24, 'n_estimators': 50, 'random_state': 12345}"
      ]
     },
     "execution_count": 87,
     "metadata": {},
     "output_type": "execute_result"
    }
   ],
   "source": [
    "%%time\n",
    "grid_rf_ohe.fit(features_ohe_train, target_ohe_train)\n",
    "grid_rf_ohe.best_params_"
   ]
  },
  {
   "cell_type": "code",
   "execution_count": 88,
   "metadata": {},
   "outputs": [],
   "source": [
    "model_rf_ohe = RandomForestRegressor(**grid_rf_ohe.best_params_)"
   ]
  },
  {
   "cell_type": "code",
   "execution_count": 89,
   "metadata": {},
   "outputs": [
    {
     "name": "stdout",
     "output_type": "stream",
     "text": [
      "CPU times: total: 14min 59s\n",
      "Wall time: 14min 57s\n"
     ]
    }
   ],
   "source": [
    "%%time\n",
    "(rmse, fit_time, predict_time, full_time) = fit_model(\n",
    "    model_rf_ohe,\n",
    "    features_ohe_train, \n",
    "    target_ohe_train\n",
    ")"
   ]
  },
  {
   "cell_type": "code",
   "execution_count": 90,
   "metadata": {},
   "outputs": [
    {
     "data": {
      "text/plain": [
       "{'max_depth': 24, 'n_estimators': 50}"
      ]
     },
     "execution_count": 90,
     "metadata": {},
     "output_type": "execute_result"
    }
   ],
   "source": [
    "model_var = grid_rf_ohe.best_params_\n",
    "del model_var['random_state']\n",
    "model_var"
   ]
  },
  {
   "cell_type": "code",
   "execution_count": 91,
   "metadata": {},
   "outputs": [
    {
     "name": "stderr",
     "output_type": "stream",
     "text": [
      "C:\\Users\\lyser\\AppData\\Local\\Temp\\ipykernel_49280\\2072501531.py:4: FutureWarning: The frame.append method is deprecated and will be removed from pandas in a future version. Use pandas.concat instead.\n",
      "  models = models.append(rows,ignore_index=True)\n"
     ]
    },
    {
     "data": {
      "text/html": [
       "<div>\n",
       "<style scoped>\n",
       "    .dataframe tbody tr th:only-of-type {\n",
       "        vertical-align: middle;\n",
       "    }\n",
       "\n",
       "    .dataframe tbody tr th {\n",
       "        vertical-align: top;\n",
       "    }\n",
       "\n",
       "    .dataframe thead th {\n",
       "        text-align: right;\n",
       "    }\n",
       "</style>\n",
       "<table border=\"1\" class=\"dataframe\">\n",
       "  <thead>\n",
       "    <tr style=\"text-align: right;\">\n",
       "      <th></th>\n",
       "      <th>model_name</th>\n",
       "      <th>encoder</th>\n",
       "      <th>model_var</th>\n",
       "      <th>fit_time</th>\n",
       "      <th>predict_time</th>\n",
       "      <th>full_time</th>\n",
       "      <th>rmse_train</th>\n",
       "    </tr>\n",
       "  </thead>\n",
       "  <tbody>\n",
       "    <tr>\n",
       "      <th>0</th>\n",
       "      <td>Linear Regression</td>\n",
       "      <td>OHE</td>\n",
       "      <td>NaN</td>\n",
       "      <td>2.4</td>\n",
       "      <td>0.2</td>\n",
       "      <td>2.6</td>\n",
       "      <td>2539.78</td>\n",
       "    </tr>\n",
       "    <tr>\n",
       "      <th>1</th>\n",
       "      <td>Decision Tree</td>\n",
       "      <td>OHE</td>\n",
       "      <td>{'max_depth': 14}</td>\n",
       "      <td>3.9</td>\n",
       "      <td>0.3</td>\n",
       "      <td>4.2</td>\n",
       "      <td>1857.22</td>\n",
       "    </tr>\n",
       "    <tr>\n",
       "      <th>2</th>\n",
       "      <td>Decision Tree</td>\n",
       "      <td>OE</td>\n",
       "      <td>{'max_depth': 14}</td>\n",
       "      <td>0.5</td>\n",
       "      <td>0.0</td>\n",
       "      <td>0.5</td>\n",
       "      <td>1859.73</td>\n",
       "    </tr>\n",
       "    <tr>\n",
       "      <th>3</th>\n",
       "      <td>Random Forest</td>\n",
       "      <td>OHE</td>\n",
       "      <td>{'max_depth': 24, 'n_estimators': 50}</td>\n",
       "      <td>182.4</td>\n",
       "      <td>4.1</td>\n",
       "      <td>186.5</td>\n",
       "      <td>1563.52</td>\n",
       "    </tr>\n",
       "  </tbody>\n",
       "</table>\n",
       "</div>"
      ],
      "text/plain": [
       "          model_name encoder                              model_var  fit_time  \\\n",
       "0  Linear Regression     OHE                                    NaN       2.4   \n",
       "1      Decision Tree     OHE                      {'max_depth': 14}       3.9   \n",
       "2      Decision Tree      OE                      {'max_depth': 14}       0.5   \n",
       "3      Random Forest     OHE  {'max_depth': 24, 'n_estimators': 50}     182.4   \n",
       "\n",
       "   predict_time  full_time  rmse_train  \n",
       "0           0.2        2.6     2539.78  \n",
       "1           0.3        4.2     1857.22  \n",
       "2           0.0        0.5     1859.73  \n",
       "3           4.1      186.5     1563.52  "
      ]
     },
     "execution_count": 91,
     "metadata": {},
     "output_type": "execute_result"
    }
   ],
   "source": [
    "models = models_result(model_name, encoder, model_var, fit_time, predict_time, full_time, rmse, models)\n",
    "models"
   ]
  },
  {
   "cell_type": "markdown",
   "metadata": {},
   "source": [
    "#### Обучаем и предсказываем на выборке OE"
   ]
  },
  {
   "cell_type": "code",
   "execution_count": 92,
   "metadata": {},
   "outputs": [],
   "source": [
    "encoder = \"OE\"\n",
    "param_rf_oe = {\n",
    "#    'n_estimators': range(1, 51, 1),\n",
    "    'n_estimators': [50],\n",
    "#    'max_depth': range(1, 25, 1),\n",
    "    'max_depth': [20],\n",
    "    'random_state': [rs]\n",
    "}"
   ]
  },
  {
   "cell_type": "code",
   "execution_count": 93,
   "metadata": {},
   "outputs": [],
   "source": [
    "grid_rf_oe = GridSearchCV(\n",
    "    estimator = model_rf,\n",
    "    param_grid = param_rf_oe,\n",
    "    scoring = rmse_scoring,\n",
    ")"
   ]
  },
  {
   "cell_type": "code",
   "execution_count": 94,
   "metadata": {
    "scrolled": true
   },
   "outputs": [
    {
     "name": "stdout",
     "output_type": "stream",
     "text": [
      "CPU times: total: 3min 7s\n",
      "Wall time: 3min 6s\n"
     ]
    },
    {
     "data": {
      "text/plain": [
       "{'max_depth': 20, 'n_estimators': 50, 'random_state': 12345}"
      ]
     },
     "execution_count": 94,
     "metadata": {},
     "output_type": "execute_result"
    }
   ],
   "source": [
    "%%time\n",
    "grid_rf_oe.fit(features_oe_train, target_oe_train)\n",
    "grid_rf_oe.best_params_"
   ]
  },
  {
   "cell_type": "code",
   "execution_count": 95,
   "metadata": {},
   "outputs": [],
   "source": [
    "model_rf_oe = RandomForestRegressor(**grid_rf_oe.best_params_)"
   ]
  },
  {
   "cell_type": "code",
   "execution_count": 96,
   "metadata": {},
   "outputs": [
    {
     "name": "stdout",
     "output_type": "stream",
     "text": [
      "CPU times: total: 3min 6s\n",
      "Wall time: 3min 7s\n"
     ]
    }
   ],
   "source": [
    "%%time\n",
    "(rmse, fit_time, predict_time, full_time) = fit_model(\n",
    "    model_rf_oe,\n",
    "    features_oe_train, \n",
    "    target_oe_train,\n",
    ")"
   ]
  },
  {
   "cell_type": "code",
   "execution_count": 97,
   "metadata": {},
   "outputs": [
    {
     "data": {
      "text/plain": [
       "{'max_depth': 20, 'n_estimators': 50}"
      ]
     },
     "execution_count": 97,
     "metadata": {},
     "output_type": "execute_result"
    }
   ],
   "source": [
    "model_var = grid_rf_oe.best_params_\n",
    "del model_var['random_state']\n",
    "model_var"
   ]
  },
  {
   "cell_type": "code",
   "execution_count": 98,
   "metadata": {},
   "outputs": [
    {
     "name": "stderr",
     "output_type": "stream",
     "text": [
      "C:\\Users\\lyser\\AppData\\Local\\Temp\\ipykernel_49280\\2072501531.py:4: FutureWarning: The frame.append method is deprecated and will be removed from pandas in a future version. Use pandas.concat instead.\n",
      "  models = models.append(rows,ignore_index=True)\n"
     ]
    },
    {
     "data": {
      "text/html": [
       "<div>\n",
       "<style scoped>\n",
       "    .dataframe tbody tr th:only-of-type {\n",
       "        vertical-align: middle;\n",
       "    }\n",
       "\n",
       "    .dataframe tbody tr th {\n",
       "        vertical-align: top;\n",
       "    }\n",
       "\n",
       "    .dataframe thead th {\n",
       "        text-align: right;\n",
       "    }\n",
       "</style>\n",
       "<table border=\"1\" class=\"dataframe\">\n",
       "  <thead>\n",
       "    <tr style=\"text-align: right;\">\n",
       "      <th></th>\n",
       "      <th>model_name</th>\n",
       "      <th>encoder</th>\n",
       "      <th>model_var</th>\n",
       "      <th>fit_time</th>\n",
       "      <th>predict_time</th>\n",
       "      <th>full_time</th>\n",
       "      <th>rmse_train</th>\n",
       "    </tr>\n",
       "  </thead>\n",
       "  <tbody>\n",
       "    <tr>\n",
       "      <th>0</th>\n",
       "      <td>Linear Regression</td>\n",
       "      <td>OHE</td>\n",
       "      <td>NaN</td>\n",
       "      <td>2.4</td>\n",
       "      <td>0.2</td>\n",
       "      <td>2.6</td>\n",
       "      <td>2539.78</td>\n",
       "    </tr>\n",
       "    <tr>\n",
       "      <th>1</th>\n",
       "      <td>Decision Tree</td>\n",
       "      <td>OHE</td>\n",
       "      <td>{'max_depth': 14}</td>\n",
       "      <td>3.9</td>\n",
       "      <td>0.3</td>\n",
       "      <td>4.2</td>\n",
       "      <td>1857.22</td>\n",
       "    </tr>\n",
       "    <tr>\n",
       "      <th>2</th>\n",
       "      <td>Decision Tree</td>\n",
       "      <td>OE</td>\n",
       "      <td>{'max_depth': 14}</td>\n",
       "      <td>0.5</td>\n",
       "      <td>0.0</td>\n",
       "      <td>0.5</td>\n",
       "      <td>1859.73</td>\n",
       "    </tr>\n",
       "    <tr>\n",
       "      <th>3</th>\n",
       "      <td>Random Forest</td>\n",
       "      <td>OHE</td>\n",
       "      <td>{'max_depth': 24, 'n_estimators': 50}</td>\n",
       "      <td>182.4</td>\n",
       "      <td>4.1</td>\n",
       "      <td>186.5</td>\n",
       "      <td>1563.52</td>\n",
       "    </tr>\n",
       "    <tr>\n",
       "      <th>4</th>\n",
       "      <td>Random Forest</td>\n",
       "      <td>OE</td>\n",
       "      <td>{'max_depth': 20, 'n_estimators': 50}</td>\n",
       "      <td>35.5</td>\n",
       "      <td>2.6</td>\n",
       "      <td>38.1</td>\n",
       "      <td>1570.08</td>\n",
       "    </tr>\n",
       "  </tbody>\n",
       "</table>\n",
       "</div>"
      ],
      "text/plain": [
       "          model_name encoder                              model_var  fit_time  \\\n",
       "0  Linear Regression     OHE                                    NaN       2.4   \n",
       "1      Decision Tree     OHE                      {'max_depth': 14}       3.9   \n",
       "2      Decision Tree      OE                      {'max_depth': 14}       0.5   \n",
       "3      Random Forest     OHE  {'max_depth': 24, 'n_estimators': 50}     182.4   \n",
       "4      Random Forest      OE  {'max_depth': 20, 'n_estimators': 50}      35.5   \n",
       "\n",
       "   predict_time  full_time  rmse_train  \n",
       "0           0.2        2.6     2539.78  \n",
       "1           0.3        4.2     1857.22  \n",
       "2           0.0        0.5     1859.73  \n",
       "3           4.1      186.5     1563.52  \n",
       "4           2.6       38.1     1570.08  "
      ]
     },
     "execution_count": 98,
     "metadata": {},
     "output_type": "execute_result"
    }
   ],
   "source": [
    "models = models_result(model_name, encoder, model_var, fit_time, predict_time, full_time, rmse, models)\n",
    "models"
   ]
  },
  {
   "cell_type": "markdown",
   "metadata": {},
   "source": [
    "### XGBoost"
   ]
  },
  {
   "cell_type": "code",
   "execution_count": 99,
   "metadata": {},
   "outputs": [],
   "source": [
    "model_xgb = XGBRegressor(random_state = rs)\n",
    "model_name = \"XGBoost\""
   ]
  },
  {
   "cell_type": "markdown",
   "metadata": {},
   "source": [
    "#### Обучаем и предсказываем на выборке OHE"
   ]
  },
  {
   "cell_type": "code",
   "execution_count": 100,
   "metadata": {},
   "outputs": [],
   "source": [
    "encoder = \"OHE\"\n",
    "parameters_xgb_ohe = {\n",
    "    'learning_rate': [0.1],\n",
    "#    'max_depth': range(1, 25, 1),\n",
    "    'max_depth': [14],\n",
    "    'subsample': [0.5],\n",
    "    'random_state': [rs]\n",
    "}"
   ]
  },
  {
   "cell_type": "code",
   "execution_count": 101,
   "metadata": {},
   "outputs": [],
   "source": [
    "grid_xgb_ohe = GridSearchCV(\n",
    "    estimator = model_xgb, \n",
    "    param_grid = parameters_xgb_ohe, \n",
    "    scoring = rmse_scoring, \n",
    "    cv = 3, \n",
    "    n_jobs = -1, \n",
    "    verbose = 1\n",
    ")"
   ]
  },
  {
   "cell_type": "code",
   "execution_count": 102,
   "metadata": {},
   "outputs": [
    {
     "name": "stdout",
     "output_type": "stream",
     "text": [
      "Fitting 3 folds for each of 1 candidates, totalling 3 fits\n",
      "CPU times: total: 16min 24s\n",
      "Wall time: 9min 18s\n"
     ]
    },
    {
     "data": {
      "text/plain": [
       "{'learning_rate': 0.1,\n",
       " 'max_depth': 14,\n",
       " 'random_state': 12345,\n",
       " 'subsample': 0.5}"
      ]
     },
     "execution_count": 102,
     "metadata": {},
     "output_type": "execute_result"
    }
   ],
   "source": [
    "%%time\n",
    "grid_xgb_ohe.fit(features_ohe_train, target_ohe_train)\n",
    "grid_xgb_ohe.best_params_"
   ]
  },
  {
   "cell_type": "code",
   "execution_count": 103,
   "metadata": {},
   "outputs": [],
   "source": [
    "model_xgb_ohe = XGBRegressor(**grid_xgb_ohe.best_params_) "
   ]
  },
  {
   "cell_type": "code",
   "execution_count": 104,
   "metadata": {},
   "outputs": [
    {
     "name": "stdout",
     "output_type": "stream",
     "text": [
      "CPU times: total: 1h 21min 24s\n",
      "Wall time: 7min 30s\n"
     ]
    }
   ],
   "source": [
    "%%time\n",
    "(rmse, fit_time, predict_time, full_time) = fit_model(\n",
    "    model_xgb_ohe,\n",
    "    features_ohe_train, \n",
    "    target_ohe_train\n",
    ")"
   ]
  },
  {
   "cell_type": "code",
   "execution_count": 105,
   "metadata": {},
   "outputs": [
    {
     "data": {
      "text/plain": [
       "{'learning_rate': 0.1, 'max_depth': 14, 'subsample': 0.5}"
      ]
     },
     "execution_count": 105,
     "metadata": {},
     "output_type": "execute_result"
    }
   ],
   "source": [
    "model_var = grid_xgb_ohe.best_params_\n",
    "del model_var['random_state']\n",
    "model_var"
   ]
  },
  {
   "cell_type": "code",
   "execution_count": 106,
   "metadata": {},
   "outputs": [
    {
     "name": "stderr",
     "output_type": "stream",
     "text": [
      "C:\\Users\\lyser\\AppData\\Local\\Temp\\ipykernel_49280\\2072501531.py:4: FutureWarning: The frame.append method is deprecated and will be removed from pandas in a future version. Use pandas.concat instead.\n",
      "  models = models.append(rows,ignore_index=True)\n"
     ]
    },
    {
     "data": {
      "text/html": [
       "<div>\n",
       "<style scoped>\n",
       "    .dataframe tbody tr th:only-of-type {\n",
       "        vertical-align: middle;\n",
       "    }\n",
       "\n",
       "    .dataframe tbody tr th {\n",
       "        vertical-align: top;\n",
       "    }\n",
       "\n",
       "    .dataframe thead th {\n",
       "        text-align: right;\n",
       "    }\n",
       "</style>\n",
       "<table border=\"1\" class=\"dataframe\">\n",
       "  <thead>\n",
       "    <tr style=\"text-align: right;\">\n",
       "      <th></th>\n",
       "      <th>model_name</th>\n",
       "      <th>encoder</th>\n",
       "      <th>model_var</th>\n",
       "      <th>fit_time</th>\n",
       "      <th>predict_time</th>\n",
       "      <th>full_time</th>\n",
       "      <th>rmse_train</th>\n",
       "    </tr>\n",
       "  </thead>\n",
       "  <tbody>\n",
       "    <tr>\n",
       "      <th>0</th>\n",
       "      <td>Linear Regression</td>\n",
       "      <td>OHE</td>\n",
       "      <td>NaN</td>\n",
       "      <td>2.4</td>\n",
       "      <td>0.2</td>\n",
       "      <td>2.6</td>\n",
       "      <td>2539.78</td>\n",
       "    </tr>\n",
       "    <tr>\n",
       "      <th>1</th>\n",
       "      <td>Decision Tree</td>\n",
       "      <td>OHE</td>\n",
       "      <td>{'max_depth': 14}</td>\n",
       "      <td>3.9</td>\n",
       "      <td>0.3</td>\n",
       "      <td>4.2</td>\n",
       "      <td>1857.22</td>\n",
       "    </tr>\n",
       "    <tr>\n",
       "      <th>2</th>\n",
       "      <td>Decision Tree</td>\n",
       "      <td>OE</td>\n",
       "      <td>{'max_depth': 14}</td>\n",
       "      <td>0.5</td>\n",
       "      <td>0.0</td>\n",
       "      <td>0.5</td>\n",
       "      <td>1859.73</td>\n",
       "    </tr>\n",
       "    <tr>\n",
       "      <th>3</th>\n",
       "      <td>Random Forest</td>\n",
       "      <td>OHE</td>\n",
       "      <td>{'max_depth': 24, 'n_estimators': 50}</td>\n",
       "      <td>182.4</td>\n",
       "      <td>4.1</td>\n",
       "      <td>186.5</td>\n",
       "      <td>1563.52</td>\n",
       "    </tr>\n",
       "    <tr>\n",
       "      <th>4</th>\n",
       "      <td>Random Forest</td>\n",
       "      <td>OE</td>\n",
       "      <td>{'max_depth': 20, 'n_estimators': 50}</td>\n",
       "      <td>35.5</td>\n",
       "      <td>2.6</td>\n",
       "      <td>38.1</td>\n",
       "      <td>1570.08</td>\n",
       "    </tr>\n",
       "    <tr>\n",
       "      <th>5</th>\n",
       "      <td>XGBoost</td>\n",
       "      <td>OHE</td>\n",
       "      <td>{'learning_rate': 0.1, 'max_depth': 14, 'subsa...</td>\n",
       "      <td>88.4</td>\n",
       "      <td>0.5</td>\n",
       "      <td>88.9</td>\n",
       "      <td>1511.33</td>\n",
       "    </tr>\n",
       "  </tbody>\n",
       "</table>\n",
       "</div>"
      ],
      "text/plain": [
       "          model_name encoder  \\\n",
       "0  Linear Regression     OHE   \n",
       "1      Decision Tree     OHE   \n",
       "2      Decision Tree      OE   \n",
       "3      Random Forest     OHE   \n",
       "4      Random Forest      OE   \n",
       "5            XGBoost     OHE   \n",
       "\n",
       "                                           model_var  fit_time  predict_time  \\\n",
       "0                                                NaN       2.4           0.2   \n",
       "1                                  {'max_depth': 14}       3.9           0.3   \n",
       "2                                  {'max_depth': 14}       0.5           0.0   \n",
       "3              {'max_depth': 24, 'n_estimators': 50}     182.4           4.1   \n",
       "4              {'max_depth': 20, 'n_estimators': 50}      35.5           2.6   \n",
       "5  {'learning_rate': 0.1, 'max_depth': 14, 'subsa...      88.4           0.5   \n",
       "\n",
       "   full_time  rmse_train  \n",
       "0        2.6     2539.78  \n",
       "1        4.2     1857.22  \n",
       "2        0.5     1859.73  \n",
       "3      186.5     1563.52  \n",
       "4       38.1     1570.08  \n",
       "5       88.9     1511.33  "
      ]
     },
     "execution_count": 106,
     "metadata": {},
     "output_type": "execute_result"
    }
   ],
   "source": [
    "models = models_result(model_name, encoder, model_var, fit_time, predict_time, full_time, rmse, models)\n",
    "models"
   ]
  },
  {
   "cell_type": "markdown",
   "metadata": {},
   "source": [
    "#### Обучаем и предсказываем на выборке OE"
   ]
  },
  {
   "cell_type": "code",
   "execution_count": 107,
   "metadata": {},
   "outputs": [],
   "source": [
    "encoder = \"OE\"\n",
    "parameters_xgb_oe = {\n",
    "    'learning_rate': [0.1],\n",
    "#    'max_depth': range(1, 25, 1),\n",
    "    'max_depth': [14],\n",
    "    'subsample': [0.5],\n",
    "    'random_state': [rs]\n",
    "}"
   ]
  },
  {
   "cell_type": "code",
   "execution_count": 108,
   "metadata": {},
   "outputs": [],
   "source": [
    "grid_xgb_oe = GridSearchCV(\n",
    "    estimator = model_xgb, \n",
    "    param_grid = parameters_xgb_oe, \n",
    "    scoring = rmse_scoring, \n",
    "    cv = 3, \n",
    "    n_jobs = -1, \n",
    "    verbose = 1\n",
    ")"
   ]
  },
  {
   "cell_type": "code",
   "execution_count": 109,
   "metadata": {},
   "outputs": [
    {
     "name": "stdout",
     "output_type": "stream",
     "text": [
      "Fitting 3 folds for each of 1 candidates, totalling 3 fits\n",
      "CPU times: total: 2min 3s\n",
      "Wall time: 46.9 s\n"
     ]
    },
    {
     "data": {
      "text/plain": [
       "{'learning_rate': 0.1,\n",
       " 'max_depth': 14,\n",
       " 'random_state': 12345,\n",
       " 'subsample': 0.5}"
      ]
     },
     "execution_count": 109,
     "metadata": {},
     "output_type": "execute_result"
    }
   ],
   "source": [
    "%%time\n",
    "grid_xgb_oe.fit(features_oe_train, target_oe_train)\n",
    "grid_xgb_oe.best_params_"
   ]
  },
  {
   "cell_type": "code",
   "execution_count": 110,
   "metadata": {},
   "outputs": [],
   "source": [
    "model_xgb_oe = XGBRegressor(**grid_xgb_oe.best_params_) "
   ]
  },
  {
   "cell_type": "code",
   "execution_count": 111,
   "metadata": {},
   "outputs": [
    {
     "name": "stdout",
     "output_type": "stream",
     "text": [
      "CPU times: total: 10min 18s\n",
      "Wall time: 57.1 s\n"
     ]
    }
   ],
   "source": [
    "%%time\n",
    "(rmse, fit_time, predict_time, full_time) = fit_model(\n",
    "    model_xgb_oe,\n",
    "    features_oe_train, \n",
    "    target_oe_train,\n",
    ")"
   ]
  },
  {
   "cell_type": "code",
   "execution_count": 112,
   "metadata": {},
   "outputs": [
    {
     "data": {
      "text/plain": [
       "{'learning_rate': 0.1, 'max_depth': 14, 'subsample': 0.5}"
      ]
     },
     "execution_count": 112,
     "metadata": {},
     "output_type": "execute_result"
    }
   ],
   "source": [
    "model_var = grid_xgb_oe.best_params_\n",
    "del model_var['random_state']\n",
    "model_var"
   ]
  },
  {
   "cell_type": "code",
   "execution_count": 113,
   "metadata": {},
   "outputs": [
    {
     "name": "stderr",
     "output_type": "stream",
     "text": [
      "C:\\Users\\lyser\\AppData\\Local\\Temp\\ipykernel_49280\\2072501531.py:4: FutureWarning: The frame.append method is deprecated and will be removed from pandas in a future version. Use pandas.concat instead.\n",
      "  models = models.append(rows,ignore_index=True)\n"
     ]
    },
    {
     "data": {
      "text/html": [
       "<div>\n",
       "<style scoped>\n",
       "    .dataframe tbody tr th:only-of-type {\n",
       "        vertical-align: middle;\n",
       "    }\n",
       "\n",
       "    .dataframe tbody tr th {\n",
       "        vertical-align: top;\n",
       "    }\n",
       "\n",
       "    .dataframe thead th {\n",
       "        text-align: right;\n",
       "    }\n",
       "</style>\n",
       "<table border=\"1\" class=\"dataframe\">\n",
       "  <thead>\n",
       "    <tr style=\"text-align: right;\">\n",
       "      <th></th>\n",
       "      <th>model_name</th>\n",
       "      <th>encoder</th>\n",
       "      <th>model_var</th>\n",
       "      <th>fit_time</th>\n",
       "      <th>predict_time</th>\n",
       "      <th>full_time</th>\n",
       "      <th>rmse_train</th>\n",
       "    </tr>\n",
       "  </thead>\n",
       "  <tbody>\n",
       "    <tr>\n",
       "      <th>0</th>\n",
       "      <td>Linear Regression</td>\n",
       "      <td>OHE</td>\n",
       "      <td>NaN</td>\n",
       "      <td>2.4</td>\n",
       "      <td>0.2</td>\n",
       "      <td>2.6</td>\n",
       "      <td>2539.78</td>\n",
       "    </tr>\n",
       "    <tr>\n",
       "      <th>1</th>\n",
       "      <td>Decision Tree</td>\n",
       "      <td>OHE</td>\n",
       "      <td>{'max_depth': 14}</td>\n",
       "      <td>3.9</td>\n",
       "      <td>0.3</td>\n",
       "      <td>4.2</td>\n",
       "      <td>1857.22</td>\n",
       "    </tr>\n",
       "    <tr>\n",
       "      <th>2</th>\n",
       "      <td>Decision Tree</td>\n",
       "      <td>OE</td>\n",
       "      <td>{'max_depth': 14}</td>\n",
       "      <td>0.5</td>\n",
       "      <td>0.0</td>\n",
       "      <td>0.5</td>\n",
       "      <td>1859.73</td>\n",
       "    </tr>\n",
       "    <tr>\n",
       "      <th>3</th>\n",
       "      <td>Random Forest</td>\n",
       "      <td>OHE</td>\n",
       "      <td>{'max_depth': 24, 'n_estimators': 50}</td>\n",
       "      <td>182.4</td>\n",
       "      <td>4.1</td>\n",
       "      <td>186.5</td>\n",
       "      <td>1563.52</td>\n",
       "    </tr>\n",
       "    <tr>\n",
       "      <th>4</th>\n",
       "      <td>Random Forest</td>\n",
       "      <td>OE</td>\n",
       "      <td>{'max_depth': 20, 'n_estimators': 50}</td>\n",
       "      <td>35.5</td>\n",
       "      <td>2.6</td>\n",
       "      <td>38.1</td>\n",
       "      <td>1570.08</td>\n",
       "    </tr>\n",
       "    <tr>\n",
       "      <th>5</th>\n",
       "      <td>XGBoost</td>\n",
       "      <td>OHE</td>\n",
       "      <td>{'learning_rate': 0.1, 'max_depth': 14, 'subsa...</td>\n",
       "      <td>88.4</td>\n",
       "      <td>0.5</td>\n",
       "      <td>88.9</td>\n",
       "      <td>1511.33</td>\n",
       "    </tr>\n",
       "    <tr>\n",
       "      <th>6</th>\n",
       "      <td>XGBoost</td>\n",
       "      <td>OE</td>\n",
       "      <td>{'learning_rate': 0.1, 'max_depth': 14, 'subsa...</td>\n",
       "      <td>10.8</td>\n",
       "      <td>0.2</td>\n",
       "      <td>11.0</td>\n",
       "      <td>1527.38</td>\n",
       "    </tr>\n",
       "  </tbody>\n",
       "</table>\n",
       "</div>"
      ],
      "text/plain": [
       "          model_name encoder  \\\n",
       "0  Linear Regression     OHE   \n",
       "1      Decision Tree     OHE   \n",
       "2      Decision Tree      OE   \n",
       "3      Random Forest     OHE   \n",
       "4      Random Forest      OE   \n",
       "5            XGBoost     OHE   \n",
       "6            XGBoost      OE   \n",
       "\n",
       "                                           model_var  fit_time  predict_time  \\\n",
       "0                                                NaN       2.4           0.2   \n",
       "1                                  {'max_depth': 14}       3.9           0.3   \n",
       "2                                  {'max_depth': 14}       0.5           0.0   \n",
       "3              {'max_depth': 24, 'n_estimators': 50}     182.4           4.1   \n",
       "4              {'max_depth': 20, 'n_estimators': 50}      35.5           2.6   \n",
       "5  {'learning_rate': 0.1, 'max_depth': 14, 'subsa...      88.4           0.5   \n",
       "6  {'learning_rate': 0.1, 'max_depth': 14, 'subsa...      10.8           0.2   \n",
       "\n",
       "   full_time  rmse_train  \n",
       "0        2.6     2539.78  \n",
       "1        4.2     1857.22  \n",
       "2        0.5     1859.73  \n",
       "3      186.5     1563.52  \n",
       "4       38.1     1570.08  \n",
       "5       88.9     1511.33  \n",
       "6       11.0     1527.38  "
      ]
     },
     "execution_count": 113,
     "metadata": {},
     "output_type": "execute_result"
    }
   ],
   "source": [
    "models = models_result(model_name, encoder, model_var, fit_time, predict_time, full_time, rmse, models)\n",
    "models"
   ]
  },
  {
   "cell_type": "markdown",
   "metadata": {},
   "source": [
    "### LightGBM"
   ]
  },
  {
   "cell_type": "code",
   "execution_count": 114,
   "metadata": {},
   "outputs": [],
   "source": [
    "model_lgbm = LGBMRegressor(random_state = rs)\n",
    "model_name = \"LightGBM\""
   ]
  },
  {
   "cell_type": "markdown",
   "metadata": {},
   "source": [
    "#### Обучаем и предсказываем на не кодированной выборке из df"
   ]
  },
  {
   "cell_type": "markdown",
   "metadata": {},
   "source": [
    "Меняем тип данных категориальных признаков с object на category"
   ]
  },
  {
   "cell_type": "code",
   "execution_count": 115,
   "metadata": {},
   "outputs": [],
   "source": [
    "features_lgbm_train = features_train.copy()\n",
    "features_lgbm_test = features_test.copy()"
   ]
  },
  {
   "cell_type": "code",
   "execution_count": 116,
   "metadata": {},
   "outputs": [],
   "source": [
    "features_lgbm_train[list(features_train.select_dtypes(include = ['object']).columns)] = features_lgbm_train[list(features_train.select_dtypes(include = ['object']).columns)].astype('category')\n",
    "\n",
    "features_lgbm_test[list(features_train.select_dtypes(include = ['object']).columns)] = features_lgbm_test[list(features_train.select_dtypes(include = ['object']).columns)].astype('category')"
   ]
  },
  {
   "cell_type": "code",
   "execution_count": 117,
   "metadata": {},
   "outputs": [
    {
     "name": "stdout",
     "output_type": "stream",
     "text": [
      "<class 'pandas.core.frame.DataFrame'>\n",
      "Int64Index: 219038 entries, 186606 to 263993\n",
      "Data columns (total 10 columns):\n",
      " #   Column             Non-Null Count   Dtype   \n",
      "---  ------             --------------   -----   \n",
      " 0   vehicle_type       219038 non-null  category\n",
      " 1   registration_year  219038 non-null  int64   \n",
      " 2   gearbox            219038 non-null  category\n",
      " 3   power              219038 non-null  int64   \n",
      " 4   model              219038 non-null  category\n",
      " 5   kilometer          219038 non-null  int64   \n",
      " 6   fuel_type          219038 non-null  category\n",
      " 7   brand              219038 non-null  category\n",
      " 8   repaired           219038 non-null  category\n",
      " 9   postal_code_zone   219038 non-null  category\n",
      "dtypes: category(7), int64(3)\n",
      "memory usage: 8.4 MB\n"
     ]
    }
   ],
   "source": [
    "features_lgbm_train.info()"
   ]
  },
  {
   "cell_type": "markdown",
   "metadata": {},
   "source": [
    "Обучаем и предсказываем"
   ]
  },
  {
   "cell_type": "code",
   "execution_count": 118,
   "metadata": {},
   "outputs": [],
   "source": [
    "encoder = np.nan\n",
    "parameters_lgbm = {\n",
    "#    'num_leaves': range(1, 175, 1),  \n",
    "    'num_leaves': [171],\n",
    "    'learning_rate': [0.1],\n",
    "#    'max_depth': range(1, 30, 1),   \n",
    "    'max_depth': [25],\n",
    "    'random_state': [rs]\n",
    "}"
   ]
  },
  {
   "cell_type": "code",
   "execution_count": 119,
   "metadata": {},
   "outputs": [],
   "source": [
    "grid_lgbm = GridSearchCV(\n",
    "    estimator = model_lgbm, \n",
    "    param_grid = parameters_lgbm, \n",
    "    scoring = rmse_scoring, \n",
    "    n_jobs = -1, \n",
    "    verbose = 1\n",
    ")"
   ]
  },
  {
   "cell_type": "code",
   "execution_count": 120,
   "metadata": {},
   "outputs": [
    {
     "name": "stdout",
     "output_type": "stream",
     "text": [
      "Fitting 5 folds for each of 1 candidates, totalling 5 fits\n",
      "[LightGBM] [Warning] Auto-choosing row-wise multi-threading, the overhead of testing was 0.005031 seconds.\n",
      "You can set `force_row_wise=true` to remove the overhead.\n",
      "And if memory is not enough, you can set `force_col_wise=true`.\n",
      "[LightGBM] [Info] Total Bins 613\n",
      "[LightGBM] [Info] Number of data points in the train set: 219038, number of used features: 10\n",
      "[LightGBM] [Info] Start training from score 4878.456496\n",
      "CPU times: total: 7.47 s\n",
      "Wall time: 6.72 s\n"
     ]
    },
    {
     "data": {
      "text/plain": [
       "{'learning_rate': 0.1,\n",
       " 'max_depth': 25,\n",
       " 'num_leaves': 171,\n",
       " 'random_state': 12345}"
      ]
     },
     "execution_count": 120,
     "metadata": {},
     "output_type": "execute_result"
    }
   ],
   "source": [
    "%%time\n",
    "grid_lgbm.fit(features_lgbm_train, target_train)\n",
    "grid_lgbm.best_params_"
   ]
  },
  {
   "cell_type": "code",
   "execution_count": 121,
   "metadata": {},
   "outputs": [],
   "source": [
    "model_lgbm = LGBMRegressor(**grid_lgbm.best_params_) "
   ]
  },
  {
   "cell_type": "code",
   "execution_count": 122,
   "metadata": {},
   "outputs": [
    {
     "name": "stdout",
     "output_type": "stream",
     "text": [
      "[LightGBM] [Warning] Auto-choosing row-wise multi-threading, the overhead of testing was 0.004036 seconds.\n",
      "You can set `force_row_wise=true` to remove the overhead.\n",
      "And if memory is not enough, you can set `force_col_wise=true`.\n",
      "[LightGBM] [Info] Total Bins 615\n",
      "[LightGBM] [Info] Number of data points in the train set: 175230, number of used features: 10\n",
      "[LightGBM] [Info] Start training from score 4881.495172\n",
      "[LightGBM] [Warning] Auto-choosing row-wise multi-threading, the overhead of testing was 0.003645 seconds.\n",
      "You can set `force_row_wise=true` to remove the overhead.\n",
      "And if memory is not enough, you can set `force_col_wise=true`.\n",
      "[LightGBM] [Info] Total Bins 612\n",
      "[LightGBM] [Info] Number of data points in the train set: 175230, number of used features: 10\n",
      "[LightGBM] [Info] Start training from score 4861.702779\n",
      "[LightGBM] [Warning] Auto-choosing row-wise multi-threading, the overhead of testing was 0.004162 seconds.\n",
      "You can set `force_row_wise=true` to remove the overhead.\n",
      "And if memory is not enough, you can set `force_col_wise=true`.\n",
      "[LightGBM] [Info] Total Bins 609\n",
      "[LightGBM] [Info] Number of data points in the train set: 175230, number of used features: 10\n",
      "[LightGBM] [Info] Start training from score 4882.128072\n",
      "[LightGBM] [Warning] Auto-choosing row-wise multi-threading, the overhead of testing was 0.003838 seconds.\n",
      "You can set `force_row_wise=true` to remove the overhead.\n",
      "And if memory is not enough, you can set `force_col_wise=true`.\n",
      "[LightGBM] [Info] Total Bins 611\n",
      "[LightGBM] [Info] Number of data points in the train set: 175231, number of used features: 10\n",
      "[LightGBM] [Info] Start training from score 4883.033590\n",
      "[LightGBM] [Warning] Auto-choosing row-wise multi-threading, the overhead of testing was 0.003726 seconds.\n",
      "You can set `force_row_wise=true` to remove the overhead.\n",
      "And if memory is not enough, you can set `force_col_wise=true`.\n",
      "[LightGBM] [Info] Total Bins 613\n",
      "[LightGBM] [Info] Number of data points in the train set: 175231, number of used features: 10\n",
      "[LightGBM] [Info] Start training from score 4883.922810\n",
      "[LightGBM] [Warning] Auto-choosing row-wise multi-threading, the overhead of testing was 0.005305 seconds.\n",
      "You can set `force_row_wise=true` to remove the overhead.\n",
      "And if memory is not enough, you can set `force_col_wise=true`.\n",
      "[LightGBM] [Info] Total Bins 613\n",
      "[LightGBM] [Info] Number of data points in the train set: 219038, number of used features: 10\n",
      "[LightGBM] [Info] Start training from score 4878.456496\n",
      "CPU times: total: 44.1 s\n",
      "Wall time: 7.3 s\n"
     ]
    }
   ],
   "source": [
    "%%time\n",
    "(rmse, fit_time, predict_time, full_time) = fit_model(\n",
    "    model_lgbm,\n",
    "    features_lgbm_train, \n",
    "    target_train\n",
    ")"
   ]
  },
  {
   "cell_type": "code",
   "execution_count": 123,
   "metadata": {},
   "outputs": [
    {
     "data": {
      "text/plain": [
       "{'learning_rate': 0.1, 'max_depth': 25, 'num_leaves': 171}"
      ]
     },
     "execution_count": 123,
     "metadata": {},
     "output_type": "execute_result"
    }
   ],
   "source": [
    "model_var = grid_lgbm.best_params_\n",
    "del model_var['random_state']\n",
    "model_var"
   ]
  },
  {
   "cell_type": "code",
   "execution_count": 124,
   "metadata": {},
   "outputs": [
    {
     "name": "stderr",
     "output_type": "stream",
     "text": [
      "C:\\Users\\lyser\\AppData\\Local\\Temp\\ipykernel_49280\\2072501531.py:4: FutureWarning: The frame.append method is deprecated and will be removed from pandas in a future version. Use pandas.concat instead.\n",
      "  models = models.append(rows,ignore_index=True)\n"
     ]
    },
    {
     "data": {
      "text/html": [
       "<div>\n",
       "<style scoped>\n",
       "    .dataframe tbody tr th:only-of-type {\n",
       "        vertical-align: middle;\n",
       "    }\n",
       "\n",
       "    .dataframe tbody tr th {\n",
       "        vertical-align: top;\n",
       "    }\n",
       "\n",
       "    .dataframe thead th {\n",
       "        text-align: right;\n",
       "    }\n",
       "</style>\n",
       "<table border=\"1\" class=\"dataframe\">\n",
       "  <thead>\n",
       "    <tr style=\"text-align: right;\">\n",
       "      <th></th>\n",
       "      <th>model_name</th>\n",
       "      <th>encoder</th>\n",
       "      <th>model_var</th>\n",
       "      <th>fit_time</th>\n",
       "      <th>predict_time</th>\n",
       "      <th>full_time</th>\n",
       "      <th>rmse_train</th>\n",
       "    </tr>\n",
       "  </thead>\n",
       "  <tbody>\n",
       "    <tr>\n",
       "      <th>0</th>\n",
       "      <td>Linear Regression</td>\n",
       "      <td>OHE</td>\n",
       "      <td>NaN</td>\n",
       "      <td>2.4</td>\n",
       "      <td>0.2</td>\n",
       "      <td>2.6</td>\n",
       "      <td>2539.78</td>\n",
       "    </tr>\n",
       "    <tr>\n",
       "      <th>1</th>\n",
       "      <td>Decision Tree</td>\n",
       "      <td>OHE</td>\n",
       "      <td>{'max_depth': 14}</td>\n",
       "      <td>3.9</td>\n",
       "      <td>0.3</td>\n",
       "      <td>4.2</td>\n",
       "      <td>1857.22</td>\n",
       "    </tr>\n",
       "    <tr>\n",
       "      <th>2</th>\n",
       "      <td>Decision Tree</td>\n",
       "      <td>OE</td>\n",
       "      <td>{'max_depth': 14}</td>\n",
       "      <td>0.5</td>\n",
       "      <td>0.0</td>\n",
       "      <td>0.5</td>\n",
       "      <td>1859.73</td>\n",
       "    </tr>\n",
       "    <tr>\n",
       "      <th>3</th>\n",
       "      <td>Random Forest</td>\n",
       "      <td>OHE</td>\n",
       "      <td>{'max_depth': 24, 'n_estimators': 50}</td>\n",
       "      <td>182.4</td>\n",
       "      <td>4.1</td>\n",
       "      <td>186.5</td>\n",
       "      <td>1563.52</td>\n",
       "    </tr>\n",
       "    <tr>\n",
       "      <th>4</th>\n",
       "      <td>Random Forest</td>\n",
       "      <td>OE</td>\n",
       "      <td>{'max_depth': 20, 'n_estimators': 50}</td>\n",
       "      <td>35.5</td>\n",
       "      <td>2.6</td>\n",
       "      <td>38.1</td>\n",
       "      <td>1570.08</td>\n",
       "    </tr>\n",
       "    <tr>\n",
       "      <th>5</th>\n",
       "      <td>XGBoost</td>\n",
       "      <td>OHE</td>\n",
       "      <td>{'learning_rate': 0.1, 'max_depth': 14, 'subsa...</td>\n",
       "      <td>88.4</td>\n",
       "      <td>0.5</td>\n",
       "      <td>88.9</td>\n",
       "      <td>1511.33</td>\n",
       "    </tr>\n",
       "    <tr>\n",
       "      <th>6</th>\n",
       "      <td>XGBoost</td>\n",
       "      <td>OE</td>\n",
       "      <td>{'learning_rate': 0.1, 'max_depth': 14, 'subsa...</td>\n",
       "      <td>10.8</td>\n",
       "      <td>0.2</td>\n",
       "      <td>11.0</td>\n",
       "      <td>1527.38</td>\n",
       "    </tr>\n",
       "    <tr>\n",
       "      <th>7</th>\n",
       "      <td>LightGBM</td>\n",
       "      <td>NaN</td>\n",
       "      <td>{'learning_rate': 0.1, 'max_depth': 25, 'num_l...</td>\n",
       "      <td>1.1</td>\n",
       "      <td>0.5</td>\n",
       "      <td>1.6</td>\n",
       "      <td>1506.43</td>\n",
       "    </tr>\n",
       "  </tbody>\n",
       "</table>\n",
       "</div>"
      ],
      "text/plain": [
       "          model_name encoder  \\\n",
       "0  Linear Regression     OHE   \n",
       "1      Decision Tree     OHE   \n",
       "2      Decision Tree      OE   \n",
       "3      Random Forest     OHE   \n",
       "4      Random Forest      OE   \n",
       "5            XGBoost     OHE   \n",
       "6            XGBoost      OE   \n",
       "7           LightGBM     NaN   \n",
       "\n",
       "                                           model_var  fit_time  predict_time  \\\n",
       "0                                                NaN       2.4           0.2   \n",
       "1                                  {'max_depth': 14}       3.9           0.3   \n",
       "2                                  {'max_depth': 14}       0.5           0.0   \n",
       "3              {'max_depth': 24, 'n_estimators': 50}     182.4           4.1   \n",
       "4              {'max_depth': 20, 'n_estimators': 50}      35.5           2.6   \n",
       "5  {'learning_rate': 0.1, 'max_depth': 14, 'subsa...      88.4           0.5   \n",
       "6  {'learning_rate': 0.1, 'max_depth': 14, 'subsa...      10.8           0.2   \n",
       "7  {'learning_rate': 0.1, 'max_depth': 25, 'num_l...       1.1           0.5   \n",
       "\n",
       "   full_time  rmse_train  \n",
       "0        2.6     2539.78  \n",
       "1        4.2     1857.22  \n",
       "2        0.5     1859.73  \n",
       "3      186.5     1563.52  \n",
       "4       38.1     1570.08  \n",
       "5       88.9     1511.33  \n",
       "6       11.0     1527.38  \n",
       "7        1.6     1506.43  "
      ]
     },
     "execution_count": 124,
     "metadata": {},
     "output_type": "execute_result"
    }
   ],
   "source": [
    "models = models_result(model_name, encoder, model_var, fit_time, predict_time, full_time, rmse, models)\n",
    "models"
   ]
  },
  {
   "cell_type": "markdown",
   "metadata": {},
   "source": [
    "### CatBoost"
   ]
  },
  {
   "cell_type": "code",
   "execution_count": 125,
   "metadata": {},
   "outputs": [],
   "source": [
    "model_cb = CatBoostRegressor(random_state = rs)\n",
    "model_name = \"CatBoost\""
   ]
  },
  {
   "cell_type": "markdown",
   "metadata": {},
   "source": [
    "#### Обучаем и предсказываем на не кодированной выборке из df"
   ]
  },
  {
   "cell_type": "code",
   "execution_count": 126,
   "metadata": {},
   "outputs": [],
   "source": [
    "encoder = np.nan\n",
    "parameters_cb = {\n",
    "#    'depth': range(1,25,1),\n",
    "    'depth': [11],\n",
    "    'learning_rate': [0.1],\n",
    "    'metric_period': [100],\n",
    "    'random_state': [rs],\n",
    "    'silent': [True],\n",
    "    'loss_function': ['RMSE'],\n",
    "    'cat_features': [list(features_train.select_dtypes(include = ['object']).columns)]\n",
    "} "
   ]
  },
  {
   "cell_type": "code",
   "execution_count": 127,
   "metadata": {},
   "outputs": [],
   "source": [
    "grid_cb = GridSearchCV(\n",
    "    estimator = model_cb, \n",
    "    param_grid = parameters_cb, \n",
    "    scoring = rmse_scoring,\n",
    "    n_jobs = -1, \n",
    "    verbose = 1,\n",
    ")"
   ]
  },
  {
   "cell_type": "code",
   "execution_count": 128,
   "metadata": {},
   "outputs": [
    {
     "name": "stdout",
     "output_type": "stream",
     "text": [
      "Fitting 5 folds for each of 1 candidates, totalling 5 fits\n",
      "CPU times: total: 30min 25s\n",
      "Wall time: 15min 19s\n"
     ]
    },
    {
     "data": {
      "text/plain": [
       "{'cat_features': ['vehicle_type',\n",
       "  'gearbox',\n",
       "  'model',\n",
       "  'fuel_type',\n",
       "  'brand',\n",
       "  'repaired',\n",
       "  'postal_code_zone'],\n",
       " 'depth': 11,\n",
       " 'learning_rate': 0.1,\n",
       " 'loss_function': 'RMSE',\n",
       " 'metric_period': 100,\n",
       " 'random_state': 12345,\n",
       " 'silent': True}"
      ]
     },
     "execution_count": 128,
     "metadata": {},
     "output_type": "execute_result"
    }
   ],
   "source": [
    "%%time\n",
    "grid_cb.fit(features_train, target_train)\n",
    "grid_cb.best_params_"
   ]
  },
  {
   "cell_type": "code",
   "execution_count": 129,
   "metadata": {},
   "outputs": [],
   "source": [
    "model_cb = CatBoostRegressor(**grid_cb.best_params_) "
   ]
  },
  {
   "cell_type": "code",
   "execution_count": 130,
   "metadata": {},
   "outputs": [
    {
     "name": "stdout",
     "output_type": "stream",
     "text": [
      "CPU times: total: 2h 40min 47s\n",
      "Wall time: 21min 49s\n"
     ]
    }
   ],
   "source": [
    "%%time\n",
    "(rmse, fit_time, predict_time, full_time) = fit_model(\n",
    "    model_cb,\n",
    "    features_train, \n",
    "    target_train,\n",
    ")"
   ]
  },
  {
   "cell_type": "code",
   "execution_count": 131,
   "metadata": {},
   "outputs": [
    {
     "data": {
      "text/plain": [
       "{'cat_features': ['vehicle_type',\n",
       "  'gearbox',\n",
       "  'model',\n",
       "  'fuel_type',\n",
       "  'brand',\n",
       "  'repaired',\n",
       "  'postal_code_zone'],\n",
       " 'depth': 11,\n",
       " 'learning_rate': 0.1,\n",
       " 'loss_function': 'RMSE',\n",
       " 'metric_period': 100,\n",
       " 'silent': True}"
      ]
     },
     "execution_count": 131,
     "metadata": {},
     "output_type": "execute_result"
    }
   ],
   "source": [
    "model_var = grid_cb.best_params_\n",
    "del model_var['random_state']\n",
    "model_var"
   ]
  },
  {
   "cell_type": "code",
   "execution_count": 132,
   "metadata": {},
   "outputs": [
    {
     "name": "stderr",
     "output_type": "stream",
     "text": [
      "C:\\Users\\lyser\\AppData\\Local\\Temp\\ipykernel_49280\\2072501531.py:4: FutureWarning: The frame.append method is deprecated and will be removed from pandas in a future version. Use pandas.concat instead.\n",
      "  models = models.append(rows,ignore_index=True)\n"
     ]
    },
    {
     "data": {
      "text/html": [
       "<div>\n",
       "<style scoped>\n",
       "    .dataframe tbody tr th:only-of-type {\n",
       "        vertical-align: middle;\n",
       "    }\n",
       "\n",
       "    .dataframe tbody tr th {\n",
       "        vertical-align: top;\n",
       "    }\n",
       "\n",
       "    .dataframe thead th {\n",
       "        text-align: right;\n",
       "    }\n",
       "</style>\n",
       "<table border=\"1\" class=\"dataframe\">\n",
       "  <thead>\n",
       "    <tr style=\"text-align: right;\">\n",
       "      <th></th>\n",
       "      <th>model_name</th>\n",
       "      <th>encoder</th>\n",
       "      <th>model_var</th>\n",
       "      <th>fit_time</th>\n",
       "      <th>predict_time</th>\n",
       "      <th>full_time</th>\n",
       "      <th>rmse_train</th>\n",
       "    </tr>\n",
       "  </thead>\n",
       "  <tbody>\n",
       "    <tr>\n",
       "      <th>0</th>\n",
       "      <td>Linear Regression</td>\n",
       "      <td>OHE</td>\n",
       "      <td>NaN</td>\n",
       "      <td>2.4</td>\n",
       "      <td>0.2</td>\n",
       "      <td>2.6</td>\n",
       "      <td>2539.78</td>\n",
       "    </tr>\n",
       "    <tr>\n",
       "      <th>1</th>\n",
       "      <td>Decision Tree</td>\n",
       "      <td>OHE</td>\n",
       "      <td>{'max_depth': 14}</td>\n",
       "      <td>3.9</td>\n",
       "      <td>0.3</td>\n",
       "      <td>4.2</td>\n",
       "      <td>1857.22</td>\n",
       "    </tr>\n",
       "    <tr>\n",
       "      <th>2</th>\n",
       "      <td>Decision Tree</td>\n",
       "      <td>OE</td>\n",
       "      <td>{'max_depth': 14}</td>\n",
       "      <td>0.5</td>\n",
       "      <td>0.0</td>\n",
       "      <td>0.5</td>\n",
       "      <td>1859.73</td>\n",
       "    </tr>\n",
       "    <tr>\n",
       "      <th>3</th>\n",
       "      <td>Random Forest</td>\n",
       "      <td>OHE</td>\n",
       "      <td>{'max_depth': 24, 'n_estimators': 50}</td>\n",
       "      <td>182.4</td>\n",
       "      <td>4.1</td>\n",
       "      <td>186.5</td>\n",
       "      <td>1563.52</td>\n",
       "    </tr>\n",
       "    <tr>\n",
       "      <th>4</th>\n",
       "      <td>Random Forest</td>\n",
       "      <td>OE</td>\n",
       "      <td>{'max_depth': 20, 'n_estimators': 50}</td>\n",
       "      <td>35.5</td>\n",
       "      <td>2.6</td>\n",
       "      <td>38.1</td>\n",
       "      <td>1570.08</td>\n",
       "    </tr>\n",
       "    <tr>\n",
       "      <th>5</th>\n",
       "      <td>XGBoost</td>\n",
       "      <td>OHE</td>\n",
       "      <td>{'learning_rate': 0.1, 'max_depth': 14, 'subsa...</td>\n",
       "      <td>88.4</td>\n",
       "      <td>0.5</td>\n",
       "      <td>88.9</td>\n",
       "      <td>1511.33</td>\n",
       "    </tr>\n",
       "    <tr>\n",
       "      <th>6</th>\n",
       "      <td>XGBoost</td>\n",
       "      <td>OE</td>\n",
       "      <td>{'learning_rate': 0.1, 'max_depth': 14, 'subsa...</td>\n",
       "      <td>10.8</td>\n",
       "      <td>0.2</td>\n",
       "      <td>11.0</td>\n",
       "      <td>1527.38</td>\n",
       "    </tr>\n",
       "    <tr>\n",
       "      <th>7</th>\n",
       "      <td>LightGBM</td>\n",
       "      <td>NaN</td>\n",
       "      <td>{'learning_rate': 0.1, 'max_depth': 25, 'num_l...</td>\n",
       "      <td>1.1</td>\n",
       "      <td>0.5</td>\n",
       "      <td>1.6</td>\n",
       "      <td>1506.43</td>\n",
       "    </tr>\n",
       "    <tr>\n",
       "      <th>8</th>\n",
       "      <td>CatBoost</td>\n",
       "      <td>NaN</td>\n",
       "      <td>{'cat_features': ['vehicle_type', 'gearbox', '...</td>\n",
       "      <td>255.7</td>\n",
       "      <td>1.5</td>\n",
       "      <td>257.2</td>\n",
       "      <td>1506.13</td>\n",
       "    </tr>\n",
       "  </tbody>\n",
       "</table>\n",
       "</div>"
      ],
      "text/plain": [
       "          model_name encoder  \\\n",
       "0  Linear Regression     OHE   \n",
       "1      Decision Tree     OHE   \n",
       "2      Decision Tree      OE   \n",
       "3      Random Forest     OHE   \n",
       "4      Random Forest      OE   \n",
       "5            XGBoost     OHE   \n",
       "6            XGBoost      OE   \n",
       "7           LightGBM     NaN   \n",
       "8           CatBoost     NaN   \n",
       "\n",
       "                                           model_var  fit_time  predict_time  \\\n",
       "0                                                NaN       2.4           0.2   \n",
       "1                                  {'max_depth': 14}       3.9           0.3   \n",
       "2                                  {'max_depth': 14}       0.5           0.0   \n",
       "3              {'max_depth': 24, 'n_estimators': 50}     182.4           4.1   \n",
       "4              {'max_depth': 20, 'n_estimators': 50}      35.5           2.6   \n",
       "5  {'learning_rate': 0.1, 'max_depth': 14, 'subsa...      88.4           0.5   \n",
       "6  {'learning_rate': 0.1, 'max_depth': 14, 'subsa...      10.8           0.2   \n",
       "7  {'learning_rate': 0.1, 'max_depth': 25, 'num_l...       1.1           0.5   \n",
       "8  {'cat_features': ['vehicle_type', 'gearbox', '...     255.7           1.5   \n",
       "\n",
       "   full_time  rmse_train  \n",
       "0        2.6     2539.78  \n",
       "1        4.2     1857.22  \n",
       "2        0.5     1859.73  \n",
       "3      186.5     1563.52  \n",
       "4       38.1     1570.08  \n",
       "5       88.9     1511.33  \n",
       "6       11.0     1527.38  \n",
       "7        1.6     1506.43  \n",
       "8      257.2     1506.13  "
      ]
     },
     "execution_count": 132,
     "metadata": {},
     "output_type": "execute_result"
    }
   ],
   "source": [
    "models = models_result(model_name, encoder, model_var, fit_time, predict_time, full_time, rmse, models)\n",
    "models"
   ]
  },
  {
   "cell_type": "markdown",
   "metadata": {},
   "source": [
    "### Вывод"
   ]
  },
  {
   "cell_type": "markdown",
   "metadata": {},
   "source": [
    "Мы подготовили 3 набора выборок из исходных данных. На этих выборках мы обучили и посчитали точность 6-ти разных моделей."
   ]
  },
  {
   "cell_type": "markdown",
   "metadata": {},
   "source": [
    "## Анализ моделей"
   ]
  },
  {
   "cell_type": "code",
   "execution_count": 133,
   "metadata": {},
   "outputs": [
    {
     "data": {
      "text/html": [
       "<div>\n",
       "<style scoped>\n",
       "    .dataframe tbody tr th:only-of-type {\n",
       "        vertical-align: middle;\n",
       "    }\n",
       "\n",
       "    .dataframe tbody tr th {\n",
       "        vertical-align: top;\n",
       "    }\n",
       "\n",
       "    .dataframe thead th {\n",
       "        text-align: right;\n",
       "    }\n",
       "</style>\n",
       "<table border=\"1\" class=\"dataframe\">\n",
       "  <thead>\n",
       "    <tr style=\"text-align: right;\">\n",
       "      <th></th>\n",
       "      <th>model_name</th>\n",
       "      <th>encoder</th>\n",
       "      <th>model_var</th>\n",
       "      <th>fit_time</th>\n",
       "      <th>predict_time</th>\n",
       "      <th>full_time</th>\n",
       "      <th>rmse_train</th>\n",
       "    </tr>\n",
       "  </thead>\n",
       "  <tbody>\n",
       "    <tr>\n",
       "      <th>8</th>\n",
       "      <td>CatBoost</td>\n",
       "      <td>NaN</td>\n",
       "      <td>{'cat_features': ['vehicle_type', 'gearbox', '...</td>\n",
       "      <td>255.7</td>\n",
       "      <td>1.5</td>\n",
       "      <td>257.2</td>\n",
       "      <td>1506.13</td>\n",
       "    </tr>\n",
       "    <tr>\n",
       "      <th>7</th>\n",
       "      <td>LightGBM</td>\n",
       "      <td>NaN</td>\n",
       "      <td>{'learning_rate': 0.1, 'max_depth': 25, 'num_l...</td>\n",
       "      <td>1.1</td>\n",
       "      <td>0.5</td>\n",
       "      <td>1.6</td>\n",
       "      <td>1506.43</td>\n",
       "    </tr>\n",
       "    <tr>\n",
       "      <th>5</th>\n",
       "      <td>XGBoost</td>\n",
       "      <td>OHE</td>\n",
       "      <td>{'learning_rate': 0.1, 'max_depth': 14, 'subsa...</td>\n",
       "      <td>88.4</td>\n",
       "      <td>0.5</td>\n",
       "      <td>88.9</td>\n",
       "      <td>1511.33</td>\n",
       "    </tr>\n",
       "    <tr>\n",
       "      <th>6</th>\n",
       "      <td>XGBoost</td>\n",
       "      <td>OE</td>\n",
       "      <td>{'learning_rate': 0.1, 'max_depth': 14, 'subsa...</td>\n",
       "      <td>10.8</td>\n",
       "      <td>0.2</td>\n",
       "      <td>11.0</td>\n",
       "      <td>1527.38</td>\n",
       "    </tr>\n",
       "    <tr>\n",
       "      <th>3</th>\n",
       "      <td>Random Forest</td>\n",
       "      <td>OHE</td>\n",
       "      <td>{'max_depth': 24, 'n_estimators': 50}</td>\n",
       "      <td>182.4</td>\n",
       "      <td>4.1</td>\n",
       "      <td>186.5</td>\n",
       "      <td>1563.52</td>\n",
       "    </tr>\n",
       "    <tr>\n",
       "      <th>4</th>\n",
       "      <td>Random Forest</td>\n",
       "      <td>OE</td>\n",
       "      <td>{'max_depth': 20, 'n_estimators': 50}</td>\n",
       "      <td>35.5</td>\n",
       "      <td>2.6</td>\n",
       "      <td>38.1</td>\n",
       "      <td>1570.08</td>\n",
       "    </tr>\n",
       "    <tr>\n",
       "      <th>1</th>\n",
       "      <td>Decision Tree</td>\n",
       "      <td>OHE</td>\n",
       "      <td>{'max_depth': 14}</td>\n",
       "      <td>3.9</td>\n",
       "      <td>0.3</td>\n",
       "      <td>4.2</td>\n",
       "      <td>1857.22</td>\n",
       "    </tr>\n",
       "    <tr>\n",
       "      <th>2</th>\n",
       "      <td>Decision Tree</td>\n",
       "      <td>OE</td>\n",
       "      <td>{'max_depth': 14}</td>\n",
       "      <td>0.5</td>\n",
       "      <td>0.0</td>\n",
       "      <td>0.5</td>\n",
       "      <td>1859.73</td>\n",
       "    </tr>\n",
       "    <tr>\n",
       "      <th>0</th>\n",
       "      <td>Linear Regression</td>\n",
       "      <td>OHE</td>\n",
       "      <td>NaN</td>\n",
       "      <td>2.4</td>\n",
       "      <td>0.2</td>\n",
       "      <td>2.6</td>\n",
       "      <td>2539.78</td>\n",
       "    </tr>\n",
       "  </tbody>\n",
       "</table>\n",
       "</div>"
      ],
      "text/plain": [
       "          model_name encoder  \\\n",
       "8           CatBoost     NaN   \n",
       "7           LightGBM     NaN   \n",
       "5            XGBoost     OHE   \n",
       "6            XGBoost      OE   \n",
       "3      Random Forest     OHE   \n",
       "4      Random Forest      OE   \n",
       "1      Decision Tree     OHE   \n",
       "2      Decision Tree      OE   \n",
       "0  Linear Regression     OHE   \n",
       "\n",
       "                                           model_var  fit_time  predict_time  \\\n",
       "8  {'cat_features': ['vehicle_type', 'gearbox', '...     255.7           1.5   \n",
       "7  {'learning_rate': 0.1, 'max_depth': 25, 'num_l...       1.1           0.5   \n",
       "5  {'learning_rate': 0.1, 'max_depth': 14, 'subsa...      88.4           0.5   \n",
       "6  {'learning_rate': 0.1, 'max_depth': 14, 'subsa...      10.8           0.2   \n",
       "3              {'max_depth': 24, 'n_estimators': 50}     182.4           4.1   \n",
       "4              {'max_depth': 20, 'n_estimators': 50}      35.5           2.6   \n",
       "1                                  {'max_depth': 14}       3.9           0.3   \n",
       "2                                  {'max_depth': 14}       0.5           0.0   \n",
       "0                                                NaN       2.4           0.2   \n",
       "\n",
       "   full_time  rmse_train  \n",
       "8      257.2     1506.13  \n",
       "7        1.6     1506.43  \n",
       "5       88.9     1511.33  \n",
       "6       11.0     1527.38  \n",
       "3      186.5     1563.52  \n",
       "4       38.1     1570.08  \n",
       "1        4.2     1857.22  \n",
       "2        0.5     1859.73  \n",
       "0        2.6     2539.78  "
      ]
     },
     "execution_count": 133,
     "metadata": {},
     "output_type": "execute_result"
    }
   ],
   "source": [
    "models.sort_values(by='rmse_train')"
   ]
  },
  {
   "cell_type": "markdown",
   "metadata": {},
   "source": [
    "Разница между Прямым кодированием (One-Hot Encoding, OHE) и Порядковым кодированием (Ordinal Encoding, OE) минимальна. Причем, с разными моделями получаются разные результаты: где-то OHE показывает лучшую точность, а где-то OE.  \n",
    "Лучшими моделями по качеству предсказания (RMSE) оказались LightGBM, CatBoost и XGBoost. При этом LightGBM имеет отличный результат во времени обучения и предсказания.  \n",
    "Если оценивать модели по сумме всех 3-х критериев, которые важны заказчику, то лучше всего себя показывает LightGBM."
   ]
  },
  {
   "cell_type": "markdown",
   "metadata": {},
   "source": [
    "# Тестирование лучшей модели"
   ]
  },
  {
   "cell_type": "code",
   "execution_count": 134,
   "metadata": {},
   "outputs": [],
   "source": [
    "model_lgbm = LGBMRegressor(**grid_lgbm.best_params_)"
   ]
  },
  {
   "cell_type": "code",
   "execution_count": 135,
   "metadata": {},
   "outputs": [
    {
     "name": "stdout",
     "output_type": "stream",
     "text": [
      "[LightGBM] [Warning] Auto-choosing row-wise multi-threading, the overhead of testing was 0.001357 seconds.\n",
      "You can set `force_row_wise=true` to remove the overhead.\n",
      "And if memory is not enough, you can set `force_col_wise=true`.\n",
      "[LightGBM] [Info] Total Bins 602\n",
      "[LightGBM] [Info] Number of data points in the train set: 58410, number of used features: 10\n",
      "[LightGBM] [Info] Start training from score 4873.675467\n",
      "[LightGBM] [Warning] Auto-choosing row-wise multi-threading, the overhead of testing was 0.001544 seconds.\n",
      "You can set `force_row_wise=true` to remove the overhead.\n",
      "And if memory is not enough, you can set `force_col_wise=true`.\n",
      "[LightGBM] [Info] Total Bins 603\n",
      "[LightGBM] [Info] Number of data points in the train set: 58410, number of used features: 10\n",
      "[LightGBM] [Info] Start training from score 4883.255778\n",
      "[LightGBM] [Warning] Auto-choosing row-wise multi-threading, the overhead of testing was 0.001353 seconds.\n",
      "You can set `force_row_wise=true` to remove the overhead.\n",
      "And if memory is not enough, you can set `force_col_wise=true`.\n",
      "[LightGBM] [Info] Total Bins 601\n",
      "[LightGBM] [Info] Number of data points in the train set: 58410, number of used features: 10\n",
      "[LightGBM] [Info] Start training from score 4887.465879\n",
      "[LightGBM] [Warning] Auto-choosing col-wise multi-threading, the overhead of testing was 0.001540 seconds.\n",
      "You can set `force_col_wise=true` to remove the overhead.\n",
      "[LightGBM] [Info] Total Bins 601\n",
      "[LightGBM] [Info] Number of data points in the train set: 58411, number of used features: 10\n",
      "[LightGBM] [Info] Start training from score 4875.428686\n",
      "[LightGBM] [Warning] Auto-choosing col-wise multi-threading, the overhead of testing was 0.001615 seconds.\n",
      "You can set `force_col_wise=true` to remove the overhead.\n",
      "[LightGBM] [Info] Total Bins 602\n",
      "[LightGBM] [Info] Number of data points in the train set: 58411, number of used features: 10\n",
      "[LightGBM] [Info] Start training from score 4881.215439\n",
      "[LightGBM] [Warning] Auto-choosing col-wise multi-threading, the overhead of testing was 0.001808 seconds.\n",
      "You can set `force_col_wise=true` to remove the overhead.\n",
      "[LightGBM] [Info] Total Bins 604\n",
      "[LightGBM] [Info] Number of data points in the train set: 73013, number of used features: 10\n",
      "[LightGBM] [Info] Start training from score 4880.208237\n",
      "RMSE на тестовой выборке лучшей модели: 1570.54\n"
     ]
    }
   ],
   "source": [
    "(rmse, fit_time, predict_time, full_time) = fit_model(\n",
    "    model_lgbm,\n",
    "    features_lgbm_test, \n",
    "    target_test\n",
    ")\n",
    "print(\"RMSE на тестовой выборке лучшей модели:\", rmse)"
   ]
  },
  {
   "cell_type": "markdown",
   "metadata": {},
   "source": [
    "RMSE соответствует условию задачи"
   ]
  },
  {
   "cell_type": "markdown",
   "metadata": {},
   "source": [
    "## Общий вывод"
   ]
  },
  {
   "cell_type": "markdown",
   "metadata": {},
   "source": [
    "Мы загрузили и оценили данные. В них присутствуют аномалии, пропуски, выбросы и дубликаты. Целевой признак (price) имеет высокое стандартное отклонение."
   ]
  },
  {
   "cell_type": "markdown",
   "metadata": {},
   "source": [
    "При подготовке и обработке данных, мы ставили себе целью сохранить наибольшее количество полезных данных.  \n",
    "Исходя из чего, мы:  \n",
    "- удалили дубликаты  \n",
    "- удалили аномалии в околонулевой зоне целевого признака  \n",
    "- заменили пропуски на заглушку n/d (no data)  \n",
    "- обработали аномалии в столбце registration_year  \n",
    "- обработали выбросы и аномалии в столбце power\n",
    "- данные в столбце postal_code сгруппировали по географическому признаку, столбец стал категориальным  \n",
    "- удалили бесполезные для исследования столбцы  "
   ]
  },
  {
   "cell_type": "markdown",
   "metadata": {},
   "source": [
    "Далее мы проверили корреляцию признаков, она в норме. Преобразовали категориальные признаки в численные с помощью Ordinal Encoding и One-Hot Encoding. Разделили данные на обучающую и тестовую выборки."
   ]
  },
  {
   "cell_type": "markdown",
   "metadata": {},
   "source": [
    "Для выполнения задачи мы выбрали 6 моделей: Linear Regression, Decision Tree, Random Forest, XGBoost, LightGBM и CatBoost. Обучили их и оценили точность предсказания с помощью cреднеквадратической ошибки (RMSE)."
   ]
  },
  {
   "cell_type": "markdown",
   "metadata": {},
   "source": [
    "Лучшими моделями по качеству предсказания (RMSE) оказались LightGBM, CatBoost и XGBoost. При этом LightGBM имеет отличный результат во времени обучения и предсказания.  \n",
    "Если оценивать модели по сумме всех 3-х критериев, которые важны заказчику, то лучше всего себя показывает LightGBM."
   ]
  },
  {
   "cell_type": "markdown",
   "metadata": {},
   "source": [
    "RMSE лучшей модели на тестовой выборке составляет 1570.54, что соответствует условию задачи."
   ]
  }
 ],
 "metadata": {
  "ExecuteTimeLog": [
   {
    "duration": 436,
    "start_time": "2023-01-08T09:00:01.668Z"
   },
   {
    "duration": 1065,
    "start_time": "2023-01-08T09:00:48.527Z"
   },
   {
    "duration": 20,
    "start_time": "2023-01-08T09:01:09.782Z"
   },
   {
    "duration": 120,
    "start_time": "2023-01-08T09:01:56.648Z"
   },
   {
    "duration": 94,
    "start_time": "2023-01-08T09:02:06.803Z"
   },
   {
    "duration": 66,
    "start_time": "2023-01-08T09:02:22.035Z"
   },
   {
    "duration": 974,
    "start_time": "2023-01-08T09:02:25.697Z"
   },
   {
    "duration": 5,
    "start_time": "2023-01-08T09:08:30.728Z"
   },
   {
    "duration": 13,
    "start_time": "2023-01-08T09:09:12.657Z"
   },
   {
    "duration": 520,
    "start_time": "2023-01-08T09:09:36.759Z"
   },
   {
    "duration": 914,
    "start_time": "2023-01-08T09:09:37.282Z"
   },
   {
    "duration": 33,
    "start_time": "2023-01-08T09:09:38.198Z"
   },
   {
    "duration": 183,
    "start_time": "2023-01-08T09:09:38.235Z"
   },
   {
    "duration": 1027,
    "start_time": "2023-01-08T09:09:38.421Z"
   },
   {
    "duration": 5,
    "start_time": "2023-01-08T09:09:39.450Z"
   },
   {
    "duration": 34,
    "start_time": "2023-01-08T09:09:39.457Z"
   },
   {
    "duration": 63,
    "start_time": "2023-01-08T09:09:56.910Z"
   },
   {
    "duration": 4,
    "start_time": "2023-01-08T09:10:07.001Z"
   },
   {
    "duration": 1061,
    "start_time": "2023-01-08T09:20:10.178Z"
   },
   {
    "duration": 668,
    "start_time": "2023-01-08T09:20:34.456Z"
   },
   {
    "duration": 18,
    "start_time": "2023-01-08T09:21:29.234Z"
   },
   {
    "duration": 79,
    "start_time": "2023-01-08T09:21:31.404Z"
   },
   {
    "duration": 794,
    "start_time": "2023-01-08T09:24:55.535Z"
   },
   {
    "duration": 95,
    "start_time": "2023-01-08T09:25:48.801Z"
   },
   {
    "duration": 10,
    "start_time": "2023-01-08T09:27:15.565Z"
   },
   {
    "duration": 12,
    "start_time": "2023-01-08T09:27:25.764Z"
   },
   {
    "duration": 798,
    "start_time": "2023-01-08T09:27:35.105Z"
   },
   {
    "duration": 738,
    "start_time": "2023-01-08T09:27:50.191Z"
   },
   {
    "duration": 15,
    "start_time": "2023-01-08T09:27:57.125Z"
   },
   {
    "duration": 11,
    "start_time": "2023-01-08T09:28:03.414Z"
   },
   {
    "duration": 839,
    "start_time": "2023-01-08T09:28:59.870Z"
   },
   {
    "duration": 16,
    "start_time": "2023-01-08T09:29:29.204Z"
   },
   {
    "duration": 4826,
    "start_time": "2023-01-08T09:29:43.663Z"
   },
   {
    "duration": 25,
    "start_time": "2023-01-08T09:38:47.200Z"
   },
   {
    "duration": 25,
    "start_time": "2023-01-08T09:38:55.956Z"
   },
   {
    "duration": 23,
    "start_time": "2023-01-08T09:39:09.948Z"
   },
   {
    "duration": 24,
    "start_time": "2023-01-08T16:02:38.693Z"
   },
   {
    "duration": 11,
    "start_time": "2023-01-08T16:02:47.803Z"
   },
   {
    "duration": 4844,
    "start_time": "2023-01-08T16:03:07.935Z"
   },
   {
    "duration": 402,
    "start_time": "2023-01-09T14:59:04.243Z"
   },
   {
    "duration": 1168,
    "start_time": "2023-01-09T14:59:04.648Z"
   },
   {
    "duration": 43,
    "start_time": "2023-01-09T14:59:05.818Z"
   },
   {
    "duration": 148,
    "start_time": "2023-01-09T14:59:05.863Z"
   },
   {
    "duration": 1006,
    "start_time": "2023-01-09T14:59:06.015Z"
   },
   {
    "duration": 1107,
    "start_time": "2023-01-09T14:59:07.023Z"
   },
   {
    "duration": 110,
    "start_time": "2023-01-09T14:59:08.132Z"
   },
   {
    "duration": 5444,
    "start_time": "2023-01-09T14:59:08.244Z"
   },
   {
    "duration": 90,
    "start_time": "2023-01-09T14:59:13.690Z"
   },
   {
    "duration": 110,
    "start_time": "2023-01-09T14:59:13.781Z"
   },
   {
    "duration": 376,
    "start_time": "2023-01-13T13:49:22.992Z"
   },
   {
    "duration": 1049,
    "start_time": "2023-01-13T13:49:23.370Z"
   },
   {
    "duration": 28,
    "start_time": "2023-01-13T13:49:24.420Z"
   },
   {
    "duration": 130,
    "start_time": "2023-01-13T13:49:24.449Z"
   },
   {
    "duration": 915,
    "start_time": "2023-01-13T13:49:24.581Z"
   },
   {
    "duration": 959,
    "start_time": "2023-01-13T13:49:25.497Z"
   },
   {
    "duration": 82,
    "start_time": "2023-01-13T13:49:26.458Z"
   },
   {
    "duration": 5437,
    "start_time": "2023-01-13T13:49:26.541Z"
   },
   {
    "duration": 5,
    "start_time": "2023-01-13T13:49:31.980Z"
   },
   {
    "duration": 109,
    "start_time": "2023-01-13T13:49:31.987Z"
   },
   {
    "duration": 150,
    "start_time": "2023-01-13T17:51:49.215Z"
   },
   {
    "duration": 112,
    "start_time": "2023-01-13T17:51:58.047Z"
   },
   {
    "duration": 68,
    "start_time": "2023-01-13T17:56:18.993Z"
   },
   {
    "duration": 4831,
    "start_time": "2023-01-13T17:56:22.847Z"
   },
   {
    "duration": 390,
    "start_time": "2023-01-13T18:19:34.886Z"
   },
   {
    "duration": 844,
    "start_time": "2023-01-13T18:19:35.278Z"
   },
   {
    "duration": 33,
    "start_time": "2023-01-13T18:19:36.124Z"
   },
   {
    "duration": 149,
    "start_time": "2023-01-13T18:19:36.177Z"
   },
   {
    "duration": 949,
    "start_time": "2023-01-13T18:19:36.328Z"
   },
   {
    "duration": 819,
    "start_time": "2023-01-13T18:19:37.279Z"
   },
   {
    "duration": 146,
    "start_time": "2023-01-13T18:19:38.100Z"
   },
   {
    "duration": 17,
    "start_time": "2023-01-13T18:19:38.248Z"
   },
   {
    "duration": 51,
    "start_time": "2023-01-13T18:19:38.267Z"
   },
   {
    "duration": 85,
    "start_time": "2023-01-13T18:19:38.321Z"
   },
   {
    "duration": 5371,
    "start_time": "2023-01-13T18:19:38.408Z"
   },
   {
    "duration": 381,
    "start_time": "2023-01-13T18:21:14.207Z"
   },
   {
    "duration": 418,
    "start_time": "2023-01-13T18:21:24.298Z"
   },
   {
    "duration": 115,
    "start_time": "2023-01-13T18:21:40.715Z"
   },
   {
    "duration": 371,
    "start_time": "2023-01-13T18:21:59.795Z"
   },
   {
    "duration": 816,
    "start_time": "2023-01-13T18:22:00.168Z"
   },
   {
    "duration": 27,
    "start_time": "2023-01-13T18:22:00.986Z"
   },
   {
    "duration": 143,
    "start_time": "2023-01-13T18:22:01.015Z"
   },
   {
    "duration": 846,
    "start_time": "2023-01-13T18:22:01.161Z"
   },
   {
    "duration": 794,
    "start_time": "2023-01-13T18:22:02.009Z"
   },
   {
    "duration": 128,
    "start_time": "2023-01-13T18:22:02.805Z"
   },
   {
    "duration": 456,
    "start_time": "2023-01-13T18:22:02.934Z"
   },
   {
    "duration": 4,
    "start_time": "2023-01-13T18:22:03.391Z"
   },
   {
    "duration": 17,
    "start_time": "2023-01-13T18:22:03.397Z"
   },
   {
    "duration": 93,
    "start_time": "2023-01-13T18:22:03.415Z"
   },
   {
    "duration": 5269,
    "start_time": "2023-01-13T18:22:03.509Z"
   },
   {
    "duration": 524,
    "start_time": "2023-01-13T18:23:01.319Z"
   },
   {
    "duration": 843,
    "start_time": "2023-01-13T18:24:58.177Z"
   },
   {
    "duration": 227,
    "start_time": "2023-01-13T18:25:26.635Z"
   },
   {
    "duration": 126,
    "start_time": "2023-01-13T18:26:14.212Z"
   },
   {
    "duration": 274,
    "start_time": "2023-01-13T18:26:28.392Z"
   },
   {
    "duration": 438,
    "start_time": "2023-01-13T18:26:35.281Z"
   },
   {
    "duration": 777,
    "start_time": "2023-01-13T18:26:35.721Z"
   },
   {
    "duration": 32,
    "start_time": "2023-01-13T18:26:36.499Z"
   },
   {
    "duration": 163,
    "start_time": "2023-01-13T18:26:36.533Z"
   },
   {
    "duration": 954,
    "start_time": "2023-01-13T18:26:36.698Z"
   },
   {
    "duration": 822,
    "start_time": "2023-01-13T18:26:37.654Z"
   },
   {
    "duration": 128,
    "start_time": "2023-01-13T18:26:38.478Z"
   },
   {
    "duration": 473,
    "start_time": "2023-01-13T18:26:38.608Z"
   },
   {
    "duration": 4,
    "start_time": "2023-01-13T18:26:39.082Z"
   },
   {
    "duration": 15,
    "start_time": "2023-01-13T18:26:39.088Z"
   },
   {
    "duration": 612,
    "start_time": "2023-01-13T18:26:39.105Z"
   },
   {
    "duration": 208,
    "start_time": "2023-01-13T18:26:39.718Z"
   },
   {
    "duration": 72,
    "start_time": "2023-01-13T18:26:39.928Z"
   },
   {
    "duration": 5276,
    "start_time": "2023-01-13T18:26:40.002Z"
   },
   {
    "duration": 24,
    "start_time": "2023-01-13T18:26:53.462Z"
   },
   {
    "duration": 101,
    "start_time": "2023-01-13T18:30:26.422Z"
   },
   {
    "duration": 50,
    "start_time": "2023-01-13T18:30:56.941Z"
   },
   {
    "duration": 1139,
    "start_time": "2023-01-13T18:31:04.014Z"
   },
   {
    "duration": 798,
    "start_time": "2023-01-13T18:31:05.155Z"
   },
   {
    "duration": 33,
    "start_time": "2023-01-13T18:31:05.955Z"
   },
   {
    "duration": 132,
    "start_time": "2023-01-13T18:31:05.990Z"
   },
   {
    "duration": 805,
    "start_time": "2023-01-13T18:31:06.123Z"
   },
   {
    "duration": 614,
    "start_time": "2023-01-13T18:31:06.929Z"
   },
   {
    "duration": 131,
    "start_time": "2023-01-13T18:31:07.546Z"
   },
   {
    "duration": 455,
    "start_time": "2023-01-13T18:31:07.679Z"
   },
   {
    "duration": 1471,
    "start_time": "2023-01-13T18:31:08.135Z"
   },
   {
    "duration": 3,
    "start_time": "2023-01-13T18:31:09.609Z"
   },
   {
    "duration": 16,
    "start_time": "2023-01-13T18:31:09.614Z"
   },
   {
    "duration": 545,
    "start_time": "2023-01-13T18:31:09.631Z"
   },
   {
    "duration": 202,
    "start_time": "2023-01-13T18:31:10.178Z"
   },
   {
    "duration": 72,
    "start_time": "2023-01-13T18:31:10.382Z"
   },
   {
    "duration": 5022,
    "start_time": "2023-01-13T18:31:10.456Z"
   },
   {
    "duration": 918,
    "start_time": "2023-01-13T18:31:32.651Z"
   },
   {
    "duration": 1078,
    "start_time": "2023-01-13T18:31:39.377Z"
   },
   {
    "duration": 766,
    "start_time": "2023-01-13T18:31:40.457Z"
   },
   {
    "duration": 25,
    "start_time": "2023-01-13T18:31:41.225Z"
   },
   {
    "duration": 141,
    "start_time": "2023-01-13T18:31:41.251Z"
   },
   {
    "duration": 852,
    "start_time": "2023-01-13T18:31:41.394Z"
   },
   {
    "duration": 575,
    "start_time": "2023-01-13T18:31:42.247Z"
   },
   {
    "duration": 129,
    "start_time": "2023-01-13T18:31:42.823Z"
   },
   {
    "duration": 458,
    "start_time": "2023-01-13T18:31:42.953Z"
   },
   {
    "duration": 1621,
    "start_time": "2023-01-13T18:31:43.413Z"
   },
   {
    "duration": 0,
    "start_time": "2023-01-13T18:31:45.036Z"
   },
   {
    "duration": 0,
    "start_time": "2023-01-13T18:31:45.037Z"
   },
   {
    "duration": 0,
    "start_time": "2023-01-13T18:31:45.038Z"
   },
   {
    "duration": 0,
    "start_time": "2023-01-13T18:31:45.039Z"
   },
   {
    "duration": 0,
    "start_time": "2023-01-13T18:31:45.040Z"
   },
   {
    "duration": 0,
    "start_time": "2023-01-13T18:31:45.042Z"
   },
   {
    "duration": 1458,
    "start_time": "2023-01-13T18:31:52.026Z"
   },
   {
    "duration": 1464,
    "start_time": "2023-01-13T18:32:02.469Z"
   },
   {
    "duration": 1550,
    "start_time": "2023-01-13T18:32:09.727Z"
   },
   {
    "duration": 564,
    "start_time": "2023-01-13T18:32:35.164Z"
   },
   {
    "duration": 436,
    "start_time": "2023-01-13T18:32:41.212Z"
   },
   {
    "duration": 12,
    "start_time": "2023-01-13T18:32:55.089Z"
   },
   {
    "duration": 11,
    "start_time": "2023-01-13T18:33:00.848Z"
   },
   {
    "duration": 405,
    "start_time": "2023-01-13T18:33:06.711Z"
   },
   {
    "duration": 351,
    "start_time": "2023-01-13T18:33:22.615Z"
   },
   {
    "duration": 876,
    "start_time": "2023-01-13T18:33:26.890Z"
   },
   {
    "duration": 678,
    "start_time": "2023-01-13T18:33:52.160Z"
   },
   {
    "duration": 1435,
    "start_time": "2023-01-13T18:33:57.984Z"
   },
   {
    "duration": 136,
    "start_time": "2023-01-13T18:34:43.582Z"
   },
   {
    "duration": 141,
    "start_time": "2023-01-13T18:35:01.679Z"
   },
   {
    "duration": 279,
    "start_time": "2023-01-13T18:35:05.244Z"
   },
   {
    "duration": 147,
    "start_time": "2023-01-13T18:35:17.173Z"
   },
   {
    "duration": 1489,
    "start_time": "2023-01-13T18:35:25.716Z"
   },
   {
    "duration": 162,
    "start_time": "2023-01-13T18:35:27.206Z"
   },
   {
    "duration": 1069,
    "start_time": "2023-01-13T18:35:31.505Z"
   },
   {
    "duration": 767,
    "start_time": "2023-01-13T18:35:32.576Z"
   },
   {
    "duration": 33,
    "start_time": "2023-01-13T18:35:33.345Z"
   },
   {
    "duration": 144,
    "start_time": "2023-01-13T18:35:33.380Z"
   },
   {
    "duration": 835,
    "start_time": "2023-01-13T18:35:33.526Z"
   },
   {
    "duration": 593,
    "start_time": "2023-01-13T18:35:34.363Z"
   },
   {
    "duration": 129,
    "start_time": "2023-01-13T18:35:34.957Z"
   },
   {
    "duration": 539,
    "start_time": "2023-01-13T18:35:35.088Z"
   },
   {
    "duration": 1548,
    "start_time": "2023-01-13T18:35:35.628Z"
   },
   {
    "duration": 182,
    "start_time": "2023-01-13T18:35:37.179Z"
   },
   {
    "duration": 12,
    "start_time": "2023-01-13T18:35:37.363Z"
   },
   {
    "duration": 16,
    "start_time": "2023-01-13T18:35:37.377Z"
   },
   {
    "duration": 575,
    "start_time": "2023-01-13T18:35:37.395Z"
   },
   {
    "duration": 204,
    "start_time": "2023-01-13T18:35:37.972Z"
   },
   {
    "duration": 68,
    "start_time": "2023-01-13T18:35:38.178Z"
   },
   {
    "duration": 4931,
    "start_time": "2023-01-13T18:35:38.247Z"
   },
   {
    "duration": 959,
    "start_time": "2023-01-13T18:36:22.904Z"
   },
   {
    "duration": 0,
    "start_time": "2023-01-13T18:36:23.865Z"
   },
   {
    "duration": 1039,
    "start_time": "2023-01-13T18:36:41.537Z"
   },
   {
    "duration": 768,
    "start_time": "2023-01-13T18:36:42.578Z"
   },
   {
    "duration": 32,
    "start_time": "2023-01-13T18:36:43.347Z"
   },
   {
    "duration": 131,
    "start_time": "2023-01-13T18:36:43.381Z"
   },
   {
    "duration": 840,
    "start_time": "2023-01-13T18:36:43.514Z"
   },
   {
    "duration": 544,
    "start_time": "2023-01-13T18:36:44.355Z"
   },
   {
    "duration": 121,
    "start_time": "2023-01-13T18:36:44.901Z"
   },
   {
    "duration": 486,
    "start_time": "2023-01-13T18:36:45.023Z"
   },
   {
    "duration": 4,
    "start_time": "2023-01-13T18:36:45.511Z"
   },
   {
    "duration": 19,
    "start_time": "2023-01-13T18:36:45.517Z"
   },
   {
    "duration": 549,
    "start_time": "2023-01-13T18:36:45.537Z"
   },
   {
    "duration": 205,
    "start_time": "2023-01-13T18:36:46.087Z"
   },
   {
    "duration": 1399,
    "start_time": "2023-01-13T18:36:46.293Z"
   },
   {
    "duration": 155,
    "start_time": "2023-01-13T18:36:47.695Z"
   },
   {
    "duration": 78,
    "start_time": "2023-01-13T18:36:47.852Z"
   },
   {
    "duration": 4847,
    "start_time": "2023-01-13T18:36:47.931Z"
   },
   {
    "duration": 225,
    "start_time": "2023-01-13T18:37:03.014Z"
   },
   {
    "duration": 1034,
    "start_time": "2023-01-13T18:37:39.565Z"
   },
   {
    "duration": 146,
    "start_time": "2023-01-13T18:37:43.406Z"
   },
   {
    "duration": 2278,
    "start_time": "2023-01-13T18:37:58.098Z"
   },
   {
    "duration": 1646,
    "start_time": "2023-01-13T18:38:06.951Z"
   },
   {
    "duration": 2067,
    "start_time": "2023-01-13T18:38:13.267Z"
   },
   {
    "duration": 1562,
    "start_time": "2023-01-13T18:38:41.056Z"
   },
   {
    "duration": 102,
    "start_time": "2023-01-13T18:44:25.045Z"
   },
   {
    "duration": 38,
    "start_time": "2023-01-13T18:44:50.666Z"
   },
   {
    "duration": 50,
    "start_time": "2023-01-13T18:44:56.492Z"
   },
   {
    "duration": 48,
    "start_time": "2023-01-13T18:46:22.689Z"
   },
   {
    "duration": 1086,
    "start_time": "2023-01-13T18:46:42.928Z"
   },
   {
    "duration": 779,
    "start_time": "2023-01-13T18:46:44.016Z"
   },
   {
    "duration": 32,
    "start_time": "2023-01-13T18:46:44.798Z"
   },
   {
    "duration": 152,
    "start_time": "2023-01-13T18:46:44.832Z"
   },
   {
    "duration": 870,
    "start_time": "2023-01-13T18:46:44.987Z"
   },
   {
    "duration": 586,
    "start_time": "2023-01-13T18:46:45.859Z"
   },
   {
    "duration": 135,
    "start_time": "2023-01-13T18:46:46.447Z"
   },
   {
    "duration": 452,
    "start_time": "2023-01-13T18:46:46.584Z"
   },
   {
    "duration": 3,
    "start_time": "2023-01-13T18:46:47.038Z"
   },
   {
    "duration": 16,
    "start_time": "2023-01-13T18:46:47.043Z"
   },
   {
    "duration": 566,
    "start_time": "2023-01-13T18:46:47.076Z"
   },
   {
    "duration": 307,
    "start_time": "2023-01-13T18:46:47.644Z"
   },
   {
    "duration": 1753,
    "start_time": "2023-01-13T18:46:47.953Z"
   },
   {
    "duration": 166,
    "start_time": "2023-01-13T18:46:49.708Z"
   },
   {
    "duration": 949,
    "start_time": "2023-01-13T18:46:49.876Z"
   },
   {
    "duration": 0,
    "start_time": "2023-01-13T18:46:50.827Z"
   },
   {
    "duration": 0,
    "start_time": "2023-01-13T18:46:50.828Z"
   },
   {
    "duration": 236,
    "start_time": "2023-01-13T18:47:16.982Z"
   },
   {
    "duration": 261,
    "start_time": "2023-01-13T18:47:27.309Z"
   },
   {
    "duration": 237,
    "start_time": "2023-01-13T18:47:39.356Z"
   },
   {
    "duration": 224,
    "start_time": "2023-01-13T18:47:58.760Z"
   },
   {
    "duration": 222,
    "start_time": "2023-01-13T18:48:42.943Z"
   },
   {
    "duration": 213,
    "start_time": "2023-01-13T18:48:53.167Z"
   },
   {
    "duration": 229,
    "start_time": "2023-01-13T18:49:16.874Z"
   },
   {
    "duration": 280,
    "start_time": "2023-01-13T18:49:31.909Z"
   },
   {
    "duration": 276,
    "start_time": "2023-01-13T18:49:52.096Z"
   },
   {
    "duration": 307,
    "start_time": "2023-01-13T18:49:57.648Z"
   },
   {
    "duration": 1139,
    "start_time": "2023-01-13T18:50:04.437Z"
   },
   {
    "duration": 795,
    "start_time": "2023-01-13T18:50:05.578Z"
   },
   {
    "duration": 27,
    "start_time": "2023-01-13T18:50:06.377Z"
   },
   {
    "duration": 149,
    "start_time": "2023-01-13T18:50:06.405Z"
   },
   {
    "duration": 926,
    "start_time": "2023-01-13T18:50:06.557Z"
   },
   {
    "duration": 571,
    "start_time": "2023-01-13T18:50:07.485Z"
   },
   {
    "duration": 127,
    "start_time": "2023-01-13T18:50:08.057Z"
   },
   {
    "duration": 456,
    "start_time": "2023-01-13T18:50:08.185Z"
   },
   {
    "duration": 4,
    "start_time": "2023-01-13T18:50:08.643Z"
   },
   {
    "duration": 31,
    "start_time": "2023-01-13T18:50:08.648Z"
   },
   {
    "duration": 529,
    "start_time": "2023-01-13T18:50:08.681Z"
   },
   {
    "duration": 282,
    "start_time": "2023-01-13T18:50:09.212Z"
   },
   {
    "duration": 1610,
    "start_time": "2023-01-13T18:50:09.495Z"
   },
   {
    "duration": 164,
    "start_time": "2023-01-13T18:50:11.107Z"
   },
   {
    "duration": 320,
    "start_time": "2023-01-13T18:50:11.276Z"
   },
   {
    "duration": 79,
    "start_time": "2023-01-13T18:50:11.598Z"
   },
   {
    "duration": 4398,
    "start_time": "2023-01-13T18:50:11.679Z"
   },
   {
    "duration": 1533,
    "start_time": "2023-01-13T18:50:19.237Z"
   },
   {
    "duration": 1341,
    "start_time": "2023-01-14T07:59:29.809Z"
   },
   {
    "duration": 3169,
    "start_time": "2023-01-14T07:59:31.152Z"
   },
   {
    "duration": 31,
    "start_time": "2023-01-14T07:59:34.323Z"
   },
   {
    "duration": 180,
    "start_time": "2023-01-14T07:59:34.357Z"
   },
   {
    "duration": 894,
    "start_time": "2023-01-14T07:59:34.539Z"
   },
   {
    "duration": 628,
    "start_time": "2023-01-14T07:59:35.434Z"
   },
   {
    "duration": 124,
    "start_time": "2023-01-14T07:59:36.064Z"
   },
   {
    "duration": 439,
    "start_time": "2023-01-14T07:59:36.189Z"
   },
   {
    "duration": 4,
    "start_time": "2023-01-14T07:59:36.629Z"
   },
   {
    "duration": 17,
    "start_time": "2023-01-14T07:59:36.635Z"
   },
   {
    "duration": 554,
    "start_time": "2023-01-14T07:59:36.653Z"
   },
   {
    "duration": 307,
    "start_time": "2023-01-14T07:59:37.209Z"
   },
   {
    "duration": 1742,
    "start_time": "2023-01-14T07:59:37.518Z"
   },
   {
    "duration": 178,
    "start_time": "2023-01-14T07:59:39.262Z"
   },
   {
    "duration": 318,
    "start_time": "2023-01-14T07:59:39.441Z"
   },
   {
    "duration": 1877,
    "start_time": "2023-01-14T07:59:39.760Z"
   },
   {
    "duration": 83,
    "start_time": "2023-01-14T07:59:41.638Z"
   },
   {
    "duration": 4856,
    "start_time": "2023-01-14T07:59:41.723Z"
   },
   {
    "duration": 6,
    "start_time": "2023-01-14T08:03:54.340Z"
   },
   {
    "duration": 118,
    "start_time": "2023-01-14T08:04:05.597Z"
   },
   {
    "duration": 31,
    "start_time": "2023-01-14T08:04:12.041Z"
   },
   {
    "duration": 17,
    "start_time": "2023-01-14T08:04:36.440Z"
   },
   {
    "duration": 44,
    "start_time": "2023-01-14T08:04:50.640Z"
   },
   {
    "duration": 33,
    "start_time": "2023-01-14T08:08:06.856Z"
   },
   {
    "duration": 1178,
    "start_time": "2023-01-14T08:08:17.149Z"
   },
   {
    "duration": 795,
    "start_time": "2023-01-14T08:08:18.329Z"
   },
   {
    "duration": 29,
    "start_time": "2023-01-14T08:08:19.126Z"
   },
   {
    "duration": 163,
    "start_time": "2023-01-14T08:08:19.157Z"
   },
   {
    "duration": 943,
    "start_time": "2023-01-14T08:08:19.323Z"
   },
   {
    "duration": 598,
    "start_time": "2023-01-14T08:08:20.268Z"
   },
   {
    "duration": 123,
    "start_time": "2023-01-14T08:08:20.868Z"
   },
   {
    "duration": 448,
    "start_time": "2023-01-14T08:08:20.993Z"
   },
   {
    "duration": 5,
    "start_time": "2023-01-14T08:08:21.443Z"
   },
   {
    "duration": 37,
    "start_time": "2023-01-14T08:08:21.450Z"
   },
   {
    "duration": 577,
    "start_time": "2023-01-14T08:08:21.489Z"
   },
   {
    "duration": 318,
    "start_time": "2023-01-14T08:08:22.068Z"
   },
   {
    "duration": 1824,
    "start_time": "2023-01-14T08:08:22.387Z"
   },
   {
    "duration": 180,
    "start_time": "2023-01-14T08:08:24.214Z"
   },
   {
    "duration": 325,
    "start_time": "2023-01-14T08:08:24.396Z"
   },
   {
    "duration": 1734,
    "start_time": "2023-01-14T08:08:24.723Z"
   },
   {
    "duration": 37,
    "start_time": "2023-01-14T08:08:26.459Z"
   },
   {
    "duration": 84,
    "start_time": "2023-01-14T08:08:26.498Z"
   },
   {
    "duration": 4694,
    "start_time": "2023-01-14T08:08:26.584Z"
   },
   {
    "duration": 839,
    "start_time": "2023-01-14T08:08:46.745Z"
   },
   {
    "duration": 1921,
    "start_time": "2023-01-14T08:08:54.441Z"
   },
   {
    "duration": 556,
    "start_time": "2023-01-14T08:09:04.323Z"
   },
   {
    "duration": 651,
    "start_time": "2023-01-14T08:09:10.985Z"
   },
   {
    "duration": 947,
    "start_time": "2023-01-14T08:09:16.191Z"
   },
   {
    "duration": 948,
    "start_time": "2023-01-14T08:09:32.676Z"
   },
   {
    "duration": 21,
    "start_time": "2023-01-14T08:10:04.310Z"
   },
   {
    "duration": 41,
    "start_time": "2023-01-14T08:10:27.842Z"
   },
   {
    "duration": 28,
    "start_time": "2023-01-14T08:10:35.272Z"
   },
   {
    "duration": 29,
    "start_time": "2023-01-14T08:10:45.040Z"
   },
   {
    "duration": 29,
    "start_time": "2023-01-14T08:10:53.001Z"
   },
   {
    "duration": 26,
    "start_time": "2023-01-14T08:11:58.422Z"
   },
   {
    "duration": 1168,
    "start_time": "2023-01-14T08:12:10.921Z"
   },
   {
    "duration": 804,
    "start_time": "2023-01-14T08:12:12.091Z"
   },
   {
    "duration": 27,
    "start_time": "2023-01-14T08:12:12.896Z"
   },
   {
    "duration": 171,
    "start_time": "2023-01-14T08:12:12.925Z"
   },
   {
    "duration": 895,
    "start_time": "2023-01-14T08:12:13.099Z"
   },
   {
    "duration": 631,
    "start_time": "2023-01-14T08:12:13.995Z"
   },
   {
    "duration": 123,
    "start_time": "2023-01-14T08:12:14.628Z"
   },
   {
    "duration": 475,
    "start_time": "2023-01-14T08:12:14.753Z"
   },
   {
    "duration": 4,
    "start_time": "2023-01-14T08:12:15.230Z"
   },
   {
    "duration": 43,
    "start_time": "2023-01-14T08:12:15.236Z"
   },
   {
    "duration": 586,
    "start_time": "2023-01-14T08:12:15.281Z"
   },
   {
    "duration": 306,
    "start_time": "2023-01-14T08:12:15.868Z"
   },
   {
    "duration": 925,
    "start_time": "2023-01-14T08:12:16.178Z"
   },
   {
    "duration": 179,
    "start_time": "2023-01-14T08:12:17.105Z"
   },
   {
    "duration": 30,
    "start_time": "2023-01-14T08:12:17.286Z"
   },
   {
    "duration": 321,
    "start_time": "2023-01-14T08:12:17.317Z"
   },
   {
    "duration": 858,
    "start_time": "2023-01-14T08:12:17.640Z"
   },
   {
    "duration": 32,
    "start_time": "2023-01-14T08:12:18.500Z"
   },
   {
    "duration": 91,
    "start_time": "2023-01-14T08:12:18.533Z"
   },
   {
    "duration": 4955,
    "start_time": "2023-01-14T08:12:18.626Z"
   },
   {
    "duration": 319,
    "start_time": "2023-01-14T08:16:59.561Z"
   },
   {
    "duration": 348,
    "start_time": "2023-01-14T08:17:04.782Z"
   },
   {
    "duration": 314,
    "start_time": "2023-01-14T08:17:06.742Z"
   },
   {
    "duration": 295,
    "start_time": "2023-01-14T08:17:08.446Z"
   },
   {
    "duration": 1218,
    "start_time": "2023-01-14T08:17:13.443Z"
   },
   {
    "duration": 842,
    "start_time": "2023-01-14T08:17:14.663Z"
   },
   {
    "duration": 27,
    "start_time": "2023-01-14T08:17:15.506Z"
   },
   {
    "duration": 225,
    "start_time": "2023-01-14T08:17:15.535Z"
   },
   {
    "duration": 965,
    "start_time": "2023-01-14T08:17:15.777Z"
   },
   {
    "duration": 700,
    "start_time": "2023-01-14T08:17:16.745Z"
   },
   {
    "duration": 146,
    "start_time": "2023-01-14T08:17:17.447Z"
   },
   {
    "duration": 489,
    "start_time": "2023-01-14T08:17:17.595Z"
   },
   {
    "duration": 6,
    "start_time": "2023-01-14T08:17:18.086Z"
   },
   {
    "duration": 44,
    "start_time": "2023-01-14T08:17:18.094Z"
   },
   {
    "duration": 861,
    "start_time": "2023-01-14T08:17:18.140Z"
   },
   {
    "duration": 491,
    "start_time": "2023-01-14T08:17:19.002Z"
   },
   {
    "duration": 1649,
    "start_time": "2023-01-14T08:17:19.498Z"
   },
   {
    "duration": 255,
    "start_time": "2023-01-14T08:17:21.150Z"
   },
   {
    "duration": 43,
    "start_time": "2023-01-14T08:17:21.407Z"
   },
   {
    "duration": 484,
    "start_time": "2023-01-14T08:17:21.453Z"
   },
   {
    "duration": 1227,
    "start_time": "2023-01-14T08:17:21.939Z"
   },
   {
    "duration": 50,
    "start_time": "2023-01-14T08:17:23.168Z"
   },
   {
    "duration": 83,
    "start_time": "2023-01-14T08:17:23.221Z"
   },
   {
    "duration": 4373,
    "start_time": "2023-01-14T08:17:23.306Z"
   },
   {
    "duration": 1213,
    "start_time": "2023-01-14T08:18:31.290Z"
   },
   {
    "duration": 885,
    "start_time": "2023-01-14T08:18:32.505Z"
   },
   {
    "duration": 32,
    "start_time": "2023-01-14T08:18:33.392Z"
   },
   {
    "duration": 160,
    "start_time": "2023-01-14T08:18:33.427Z"
   },
   {
    "duration": 993,
    "start_time": "2023-01-14T08:18:33.589Z"
   },
   {
    "duration": 664,
    "start_time": "2023-01-14T08:18:34.584Z"
   },
   {
    "duration": 145,
    "start_time": "2023-01-14T08:18:35.249Z"
   },
   {
    "duration": 475,
    "start_time": "2023-01-14T08:18:35.396Z"
   },
   {
    "duration": 6,
    "start_time": "2023-01-14T08:18:35.878Z"
   },
   {
    "duration": 46,
    "start_time": "2023-01-14T08:18:35.887Z"
   },
   {
    "duration": 597,
    "start_time": "2023-01-14T08:18:35.935Z"
   },
   {
    "duration": 332,
    "start_time": "2023-01-14T08:18:36.534Z"
   },
   {
    "duration": 1027,
    "start_time": "2023-01-14T08:18:36.869Z"
   },
   {
    "duration": 194,
    "start_time": "2023-01-14T08:18:37.898Z"
   },
   {
    "duration": 36,
    "start_time": "2023-01-14T08:18:38.094Z"
   },
   {
    "duration": 379,
    "start_time": "2023-01-14T08:18:38.132Z"
   },
   {
    "duration": 941,
    "start_time": "2023-01-14T08:18:38.513Z"
   },
   {
    "duration": 43,
    "start_time": "2023-01-14T08:18:39.456Z"
   },
   {
    "duration": 91,
    "start_time": "2023-01-14T08:18:39.501Z"
   },
   {
    "duration": 4399,
    "start_time": "2023-01-14T08:18:39.594Z"
   },
   {
    "duration": 11,
    "start_time": "2023-01-14T08:19:04.291Z"
   },
   {
    "duration": 1168,
    "start_time": "2023-01-14T08:19:07.770Z"
   },
   {
    "duration": 803,
    "start_time": "2023-01-14T08:19:08.941Z"
   },
   {
    "duration": 37,
    "start_time": "2023-01-14T08:19:09.746Z"
   },
   {
    "duration": 131,
    "start_time": "2023-01-14T08:19:09.785Z"
   },
   {
    "duration": 899,
    "start_time": "2023-01-14T08:19:09.917Z"
   },
   {
    "duration": 625,
    "start_time": "2023-01-14T08:19:10.818Z"
   },
   {
    "duration": 122,
    "start_time": "2023-01-14T08:19:11.445Z"
   },
   {
    "duration": 454,
    "start_time": "2023-01-14T08:19:11.578Z"
   },
   {
    "duration": 4,
    "start_time": "2023-01-14T08:19:12.034Z"
   },
   {
    "duration": 43,
    "start_time": "2023-01-14T08:19:12.040Z"
   },
   {
    "duration": 525,
    "start_time": "2023-01-14T08:19:12.085Z"
   },
   {
    "duration": 357,
    "start_time": "2023-01-14T08:19:12.611Z"
   },
   {
    "duration": 1057,
    "start_time": "2023-01-14T08:19:12.970Z"
   },
   {
    "duration": 201,
    "start_time": "2023-01-14T08:19:14.030Z"
   },
   {
    "duration": 34,
    "start_time": "2023-01-14T08:19:14.232Z"
   },
   {
    "duration": 309,
    "start_time": "2023-01-14T08:19:14.279Z"
   },
   {
    "duration": 894,
    "start_time": "2023-01-14T08:19:14.590Z"
   },
   {
    "duration": 33,
    "start_time": "2023-01-14T08:19:15.486Z"
   },
   {
    "duration": 93,
    "start_time": "2023-01-14T08:19:15.520Z"
   },
   {
    "duration": 5479,
    "start_time": "2023-01-14T08:19:15.614Z"
   },
   {
    "duration": 1293,
    "start_time": "2023-01-14T08:19:54.145Z"
   },
   {
    "duration": 819,
    "start_time": "2023-01-14T08:19:55.439Z"
   },
   {
    "duration": 33,
    "start_time": "2023-01-14T08:19:56.260Z"
   },
   {
    "duration": 147,
    "start_time": "2023-01-14T08:19:56.296Z"
   },
   {
    "duration": 955,
    "start_time": "2023-01-14T08:19:56.445Z"
   },
   {
    "duration": 601,
    "start_time": "2023-01-14T08:19:57.402Z"
   },
   {
    "duration": 128,
    "start_time": "2023-01-14T08:19:58.005Z"
   },
   {
    "duration": 495,
    "start_time": "2023-01-14T08:19:58.135Z"
   },
   {
    "duration": 5,
    "start_time": "2023-01-14T08:19:58.632Z"
   },
   {
    "duration": 45,
    "start_time": "2023-01-14T08:19:58.638Z"
   },
   {
    "duration": 581,
    "start_time": "2023-01-14T08:19:58.685Z"
   },
   {
    "duration": 317,
    "start_time": "2023-01-14T08:19:59.268Z"
   },
   {
    "duration": 952,
    "start_time": "2023-01-14T08:19:59.587Z"
   },
   {
    "duration": 193,
    "start_time": "2023-01-14T08:20:00.541Z"
   },
   {
    "duration": 48,
    "start_time": "2023-01-14T08:20:00.736Z"
   },
   {
    "duration": 335,
    "start_time": "2023-01-14T08:20:00.786Z"
   },
   {
    "duration": 849,
    "start_time": "2023-01-14T08:20:01.123Z"
   },
   {
    "duration": 34,
    "start_time": "2023-01-14T08:20:01.974Z"
   },
   {
    "duration": 91,
    "start_time": "2023-01-14T08:20:02.010Z"
   },
   {
    "duration": 4475,
    "start_time": "2023-01-14T08:20:02.103Z"
   },
   {
    "duration": 52,
    "start_time": "2023-01-14T08:29:48.561Z"
   },
   {
    "duration": 99,
    "start_time": "2023-01-14T08:32:13.319Z"
   },
   {
    "duration": 81,
    "start_time": "2023-01-14T08:32:29.382Z"
   },
   {
    "duration": 82,
    "start_time": "2023-01-14T08:32:36.554Z"
   },
   {
    "duration": 109,
    "start_time": "2023-01-14T08:32:51.877Z"
   },
   {
    "duration": 21,
    "start_time": "2023-01-14T08:33:13.445Z"
   },
   {
    "duration": 49,
    "start_time": "2023-01-14T08:33:19.496Z"
   },
   {
    "duration": 206,
    "start_time": "2023-01-14T08:33:24.494Z"
   },
   {
    "duration": 502,
    "start_time": "2023-01-14T08:33:36.904Z"
   },
   {
    "duration": 16,
    "start_time": "2023-01-14T08:33:54.310Z"
   },
   {
    "duration": 376,
    "start_time": "2023-01-14T08:35:41.020Z"
   },
   {
    "duration": 23,
    "start_time": "2023-01-14T08:36:02.514Z"
   },
   {
    "duration": 76,
    "start_time": "2023-01-14T08:36:23.293Z"
   },
   {
    "duration": 78,
    "start_time": "2023-01-14T08:36:39.395Z"
   },
   {
    "duration": 83,
    "start_time": "2023-01-14T08:36:49.970Z"
   },
   {
    "duration": 102,
    "start_time": "2023-01-14T08:36:55.202Z"
   },
   {
    "duration": 79,
    "start_time": "2023-01-14T08:37:01.962Z"
   },
   {
    "duration": 87,
    "start_time": "2023-01-14T08:37:12.381Z"
   },
   {
    "duration": 95,
    "start_time": "2023-01-14T08:37:43.711Z"
   },
   {
    "duration": 93,
    "start_time": "2023-01-14T08:38:24.959Z"
   },
   {
    "duration": 86,
    "start_time": "2023-01-14T08:38:32.792Z"
   },
   {
    "duration": 25,
    "start_time": "2023-01-14T08:38:47.545Z"
   },
   {
    "duration": 75,
    "start_time": "2023-01-14T08:38:55.170Z"
   },
   {
    "duration": 63,
    "start_time": "2023-01-14T08:39:12.991Z"
   },
   {
    "duration": 65,
    "start_time": "2023-01-14T08:39:22.268Z"
   },
   {
    "duration": 48,
    "start_time": "2023-01-14T08:39:32.745Z"
   },
   {
    "duration": 25,
    "start_time": "2023-01-14T08:40:32.824Z"
   },
   {
    "duration": 1152,
    "start_time": "2023-01-14T08:40:44.646Z"
   },
   {
    "duration": 820,
    "start_time": "2023-01-14T08:40:45.800Z"
   },
   {
    "duration": 25,
    "start_time": "2023-01-14T08:40:46.622Z"
   },
   {
    "duration": 163,
    "start_time": "2023-01-14T08:40:46.649Z"
   },
   {
    "duration": 976,
    "start_time": "2023-01-14T08:40:46.815Z"
   },
   {
    "duration": 659,
    "start_time": "2023-01-14T08:40:47.793Z"
   },
   {
    "duration": 147,
    "start_time": "2023-01-14T08:40:48.454Z"
   },
   {
    "duration": 477,
    "start_time": "2023-01-14T08:40:48.603Z"
   },
   {
    "duration": 8,
    "start_time": "2023-01-14T08:40:49.087Z"
   },
   {
    "duration": 53,
    "start_time": "2023-01-14T08:40:49.098Z"
   },
   {
    "duration": 596,
    "start_time": "2023-01-14T08:40:49.153Z"
   },
   {
    "duration": 371,
    "start_time": "2023-01-14T08:40:49.750Z"
   },
   {
    "duration": 1052,
    "start_time": "2023-01-14T08:40:50.123Z"
   },
   {
    "duration": 173,
    "start_time": "2023-01-14T08:40:51.179Z"
   },
   {
    "duration": 50,
    "start_time": "2023-01-14T08:40:51.353Z"
   },
   {
    "duration": 399,
    "start_time": "2023-01-14T08:40:51.406Z"
   },
   {
    "duration": 928,
    "start_time": "2023-01-14T08:40:51.807Z"
   },
   {
    "duration": 23,
    "start_time": "2023-01-14T08:40:52.736Z"
   },
   {
    "duration": 87,
    "start_time": "2023-01-14T08:40:52.761Z"
   },
   {
    "duration": 175,
    "start_time": "2023-01-14T08:40:52.850Z"
   },
   {
    "duration": 0,
    "start_time": "2023-01-14T08:40:53.027Z"
   },
   {
    "duration": 0,
    "start_time": "2023-01-14T08:40:53.028Z"
   },
   {
    "duration": 10,
    "start_time": "2023-01-14T08:40:59.557Z"
   },
   {
    "duration": 11,
    "start_time": "2023-01-14T08:41:14.891Z"
   },
   {
    "duration": 15,
    "start_time": "2023-01-14T08:41:19.456Z"
   },
   {
    "duration": 19,
    "start_time": "2023-01-14T08:41:24.595Z"
   },
   {
    "duration": 10,
    "start_time": "2023-01-14T08:41:32.246Z"
   },
   {
    "duration": 30,
    "start_time": "2023-01-14T08:41:57.294Z"
   },
   {
    "duration": 1263,
    "start_time": "2023-01-14T08:48:00.679Z"
   },
   {
    "duration": 921,
    "start_time": "2023-01-14T08:48:01.944Z"
   },
   {
    "duration": 44,
    "start_time": "2023-01-14T08:48:02.867Z"
   },
   {
    "duration": 206,
    "start_time": "2023-01-14T08:48:02.915Z"
   },
   {
    "duration": 1080,
    "start_time": "2023-01-14T08:48:03.123Z"
   },
   {
    "duration": 702,
    "start_time": "2023-01-14T08:48:04.210Z"
   },
   {
    "duration": 152,
    "start_time": "2023-01-14T08:48:04.914Z"
   },
   {
    "duration": 539,
    "start_time": "2023-01-14T08:48:05.067Z"
   },
   {
    "duration": 9,
    "start_time": "2023-01-14T08:48:05.607Z"
   },
   {
    "duration": 30,
    "start_time": "2023-01-14T08:48:05.619Z"
   },
   {
    "duration": 645,
    "start_time": "2023-01-14T08:48:05.651Z"
   },
   {
    "duration": 352,
    "start_time": "2023-01-14T08:48:06.308Z"
   },
   {
    "duration": 1115,
    "start_time": "2023-01-14T08:48:06.662Z"
   },
   {
    "duration": 174,
    "start_time": "2023-01-14T08:48:07.785Z"
   },
   {
    "duration": 44,
    "start_time": "2023-01-14T08:48:07.961Z"
   },
   {
    "duration": 378,
    "start_time": "2023-01-14T08:48:08.007Z"
   },
   {
    "duration": 981,
    "start_time": "2023-01-14T08:48:08.386Z"
   },
   {
    "duration": 32,
    "start_time": "2023-01-14T08:48:09.368Z"
   },
   {
    "duration": 28,
    "start_time": "2023-01-14T08:48:09.402Z"
   },
   {
    "duration": 30,
    "start_time": "2023-01-14T08:48:09.432Z"
   },
   {
    "duration": 96,
    "start_time": "2023-01-14T08:48:09.464Z"
   },
   {
    "duration": 4355,
    "start_time": "2023-01-14T08:48:09.562Z"
   },
   {
    "duration": 38,
    "start_time": "2023-01-14T08:48:19.812Z"
   },
   {
    "duration": 121,
    "start_time": "2023-01-14T15:26:19.724Z"
   },
   {
    "duration": 75,
    "start_time": "2023-01-14T15:26:43.430Z"
   },
   {
    "duration": 9,
    "start_time": "2023-01-14T15:32:01.237Z"
   },
   {
    "duration": 901,
    "start_time": "2023-01-14T15:32:55.797Z"
   },
   {
    "duration": 230,
    "start_time": "2023-01-14T15:34:25.414Z"
   },
   {
    "duration": 118,
    "start_time": "2023-01-14T15:35:08.449Z"
   },
   {
    "duration": 118,
    "start_time": "2023-01-14T15:36:10.824Z"
   },
   {
    "duration": 11170,
    "start_time": "2023-01-14T15:38:03.777Z"
   },
   {
    "duration": 1117,
    "start_time": "2023-01-14T15:38:28.449Z"
   },
   {
    "duration": 850,
    "start_time": "2023-01-14T15:38:43.424Z"
   },
   {
    "duration": 1469,
    "start_time": "2023-01-14T15:38:50.400Z"
   },
   {
    "duration": 486,
    "start_time": "2023-01-14T15:38:58.854Z"
   },
   {
    "duration": 331,
    "start_time": "2023-01-14T15:39:19.695Z"
   },
   {
    "duration": 398,
    "start_time": "2023-01-14T15:39:23.349Z"
   },
   {
    "duration": 428,
    "start_time": "2023-01-14T15:40:10.181Z"
   },
   {
    "duration": 402,
    "start_time": "2023-01-14T15:40:15.719Z"
   },
   {
    "duration": 7,
    "start_time": "2023-01-14T15:41:11.246Z"
   },
   {
    "duration": 13,
    "start_time": "2023-01-14T15:41:25.590Z"
   },
   {
    "duration": 455,
    "start_time": "2023-01-14T15:42:46.811Z"
   },
   {
    "duration": 170,
    "start_time": "2023-01-14T15:43:21.099Z"
   },
   {
    "duration": 1119,
    "start_time": "2023-01-14T15:57:09.076Z"
   },
   {
    "duration": 1773,
    "start_time": "2023-01-14T15:57:10.197Z"
   },
   {
    "duration": 24,
    "start_time": "2023-01-14T15:57:11.971Z"
   },
   {
    "duration": 150,
    "start_time": "2023-01-14T15:57:11.996Z"
   },
   {
    "duration": 956,
    "start_time": "2023-01-14T15:57:12.147Z"
   },
   {
    "duration": 601,
    "start_time": "2023-01-14T15:57:13.105Z"
   },
   {
    "duration": 127,
    "start_time": "2023-01-14T15:57:13.708Z"
   },
   {
    "duration": 543,
    "start_time": "2023-01-14T15:57:13.837Z"
   },
   {
    "duration": 4,
    "start_time": "2023-01-14T15:57:14.382Z"
   },
   {
    "duration": 22,
    "start_time": "2023-01-14T15:57:14.389Z"
   },
   {
    "duration": 612,
    "start_time": "2023-01-14T15:57:14.413Z"
   },
   {
    "duration": 315,
    "start_time": "2023-01-14T15:57:15.026Z"
   },
   {
    "duration": 943,
    "start_time": "2023-01-14T15:57:15.343Z"
   },
   {
    "duration": 169,
    "start_time": "2023-01-14T15:57:16.288Z"
   },
   {
    "duration": 41,
    "start_time": "2023-01-14T15:57:16.459Z"
   },
   {
    "duration": 328,
    "start_time": "2023-01-14T15:57:16.502Z"
   },
   {
    "duration": 834,
    "start_time": "2023-01-14T15:57:16.831Z"
   },
   {
    "duration": 34,
    "start_time": "2023-01-14T15:57:17.667Z"
   },
   {
    "duration": 15,
    "start_time": "2023-01-14T15:57:17.703Z"
   },
   {
    "duration": 61,
    "start_time": "2023-01-14T15:57:17.720Z"
   },
   {
    "duration": 117,
    "start_time": "2023-01-14T15:57:17.782Z"
   },
   {
    "duration": 983,
    "start_time": "2023-01-14T15:57:17.901Z"
   },
   {
    "duration": 7,
    "start_time": "2023-01-14T15:57:18.886Z"
   },
   {
    "duration": 469,
    "start_time": "2023-01-14T15:57:18.894Z"
   },
   {
    "duration": 182,
    "start_time": "2023-01-14T15:57:19.365Z"
   },
   {
    "duration": 79,
    "start_time": "2023-01-14T15:57:19.549Z"
   },
   {
    "duration": 4555,
    "start_time": "2023-01-14T15:57:19.629Z"
   },
   {
    "duration": 35,
    "start_time": "2023-01-14T16:01:22.498Z"
   },
   {
    "duration": 15,
    "start_time": "2023-01-14T16:01:27.669Z"
   },
   {
    "duration": 79,
    "start_time": "2023-01-14T16:02:56.803Z"
   },
   {
    "duration": 70,
    "start_time": "2023-01-14T16:03:16.853Z"
   },
   {
    "duration": 99,
    "start_time": "2023-01-14T16:03:24.060Z"
   },
   {
    "duration": 98,
    "start_time": "2023-01-14T16:04:19.529Z"
   },
   {
    "duration": 7,
    "start_time": "2023-01-14T16:04:43.040Z"
   },
   {
    "duration": 7,
    "start_time": "2023-01-14T16:05:06.501Z"
   },
   {
    "duration": 5,
    "start_time": "2023-01-14T16:05:15.618Z"
   },
   {
    "duration": 5,
    "start_time": "2023-01-14T16:05:49.786Z"
   },
   {
    "duration": 5,
    "start_time": "2023-01-14T16:06:00.801Z"
   },
   {
    "duration": 96,
    "start_time": "2023-01-14T16:06:05.974Z"
   },
   {
    "duration": 4,
    "start_time": "2023-01-14T16:12:45.137Z"
   },
   {
    "duration": 113,
    "start_time": "2023-01-14T16:12:58.828Z"
   },
   {
    "duration": 9,
    "start_time": "2023-01-14T16:13:01.769Z"
   },
   {
    "duration": 5,
    "start_time": "2023-01-14T16:13:50.825Z"
   },
   {
    "duration": 9,
    "start_time": "2023-01-14T16:14:29.733Z"
   },
   {
    "duration": 1109,
    "start_time": "2023-01-14T16:14:46.302Z"
   },
   {
    "duration": 791,
    "start_time": "2023-01-14T16:14:47.413Z"
   },
   {
    "duration": 26,
    "start_time": "2023-01-14T16:14:48.209Z"
   },
   {
    "duration": 150,
    "start_time": "2023-01-14T16:14:48.237Z"
   },
   {
    "duration": 962,
    "start_time": "2023-01-14T16:14:48.389Z"
   },
   {
    "duration": 627,
    "start_time": "2023-01-14T16:14:49.353Z"
   },
   {
    "duration": 136,
    "start_time": "2023-01-14T16:14:49.981Z"
   },
   {
    "duration": 487,
    "start_time": "2023-01-14T16:14:50.118Z"
   },
   {
    "duration": 4,
    "start_time": "2023-01-14T16:14:50.608Z"
   },
   {
    "duration": 37,
    "start_time": "2023-01-14T16:14:50.613Z"
   },
   {
    "duration": 613,
    "start_time": "2023-01-14T16:14:50.652Z"
   },
   {
    "duration": 311,
    "start_time": "2023-01-14T16:14:51.267Z"
   },
   {
    "duration": 920,
    "start_time": "2023-01-14T16:14:51.579Z"
   },
   {
    "duration": 170,
    "start_time": "2023-01-14T16:14:52.501Z"
   },
   {
    "duration": 37,
    "start_time": "2023-01-14T16:14:52.672Z"
   },
   {
    "duration": 348,
    "start_time": "2023-01-14T16:14:52.711Z"
   },
   {
    "duration": 856,
    "start_time": "2023-01-14T16:14:53.061Z"
   },
   {
    "duration": 41,
    "start_time": "2023-01-14T16:14:53.918Z"
   },
   {
    "duration": 20,
    "start_time": "2023-01-14T16:14:53.978Z"
   },
   {
    "duration": 45,
    "start_time": "2023-01-14T16:14:54.001Z"
   },
   {
    "duration": 187,
    "start_time": "2023-01-14T16:14:54.049Z"
   },
   {
    "duration": 1075,
    "start_time": "2023-01-14T16:14:54.238Z"
   },
   {
    "duration": 7,
    "start_time": "2023-01-14T16:14:55.315Z"
   },
   {
    "duration": 441,
    "start_time": "2023-01-14T16:14:55.324Z"
   },
   {
    "duration": 198,
    "start_time": "2023-01-14T16:14:55.766Z"
   },
   {
    "duration": 19,
    "start_time": "2023-01-14T16:14:55.966Z"
   },
   {
    "duration": 4,
    "start_time": "2023-01-14T16:14:55.988Z"
   },
   {
    "duration": 8,
    "start_time": "2023-01-14T16:14:55.993Z"
   },
   {
    "duration": 22,
    "start_time": "2023-01-14T16:14:56.002Z"
   },
   {
    "duration": 10,
    "start_time": "2023-01-14T16:14:56.026Z"
   },
   {
    "duration": 38,
    "start_time": "2023-01-14T16:14:56.038Z"
   },
   {
    "duration": 7,
    "start_time": "2023-01-14T16:14:56.078Z"
   },
   {
    "duration": 31,
    "start_time": "2023-01-14T16:14:56.087Z"
   },
   {
    "duration": 71,
    "start_time": "2023-01-14T16:14:56.120Z"
   },
   {
    "duration": 5286,
    "start_time": "2023-01-14T16:14:56.192Z"
   },
   {
    "duration": 1316,
    "start_time": "2023-01-14T16:22:01.640Z"
   },
   {
    "duration": 612,
    "start_time": "2023-01-14T16:22:21.902Z"
   },
   {
    "duration": 947,
    "start_time": "2023-01-14T16:25:31.971Z"
   },
   {
    "duration": 252,
    "start_time": "2023-01-14T16:25:40.846Z"
   },
   {
    "duration": 288,
    "start_time": "2023-01-14T16:25:45.918Z"
   },
   {
    "duration": 297,
    "start_time": "2023-01-14T16:25:54.138Z"
   },
   {
    "duration": 314,
    "start_time": "2023-01-14T16:25:59.458Z"
   },
   {
    "duration": 285,
    "start_time": "2023-01-14T16:26:05.101Z"
   },
   {
    "duration": 281,
    "start_time": "2023-01-14T16:26:16.027Z"
   },
   {
    "duration": 275,
    "start_time": "2023-01-14T16:27:21.611Z"
   },
   {
    "duration": 268,
    "start_time": "2023-01-14T16:27:47.393Z"
   },
   {
    "duration": 38,
    "start_time": "2023-01-14T16:30:31.567Z"
   },
   {
    "duration": 283,
    "start_time": "2023-01-14T16:30:35.778Z"
   },
   {
    "duration": 380,
    "start_time": "2023-01-14T16:30:40.732Z"
   },
   {
    "duration": 21,
    "start_time": "2023-01-14T16:31:04.985Z"
   },
   {
    "duration": 12,
    "start_time": "2023-01-14T16:31:12.992Z"
   },
   {
    "duration": 1152,
    "start_time": "2023-01-14T16:32:16.166Z"
   },
   {
    "duration": 795,
    "start_time": "2023-01-14T16:32:17.320Z"
   },
   {
    "duration": 28,
    "start_time": "2023-01-14T16:32:18.116Z"
   },
   {
    "duration": 146,
    "start_time": "2023-01-14T16:32:18.146Z"
   },
   {
    "duration": 937,
    "start_time": "2023-01-14T16:32:18.294Z"
   },
   {
    "duration": 582,
    "start_time": "2023-01-14T16:32:19.233Z"
   },
   {
    "duration": 129,
    "start_time": "2023-01-14T16:32:19.817Z"
   },
   {
    "duration": 529,
    "start_time": "2023-01-14T16:32:19.947Z"
   },
   {
    "duration": 6,
    "start_time": "2023-01-14T16:32:20.478Z"
   },
   {
    "duration": 39,
    "start_time": "2023-01-14T16:32:20.486Z"
   },
   {
    "duration": 645,
    "start_time": "2023-01-14T16:32:20.527Z"
   },
   {
    "duration": 328,
    "start_time": "2023-01-14T16:32:21.174Z"
   },
   {
    "duration": 981,
    "start_time": "2023-01-14T16:32:21.504Z"
   },
   {
    "duration": 171,
    "start_time": "2023-01-14T16:32:22.487Z"
   },
   {
    "duration": 44,
    "start_time": "2023-01-14T16:32:22.659Z"
   },
   {
    "duration": 389,
    "start_time": "2023-01-14T16:32:22.705Z"
   },
   {
    "duration": 905,
    "start_time": "2023-01-14T16:32:23.096Z"
   },
   {
    "duration": 46,
    "start_time": "2023-01-14T16:32:24.003Z"
   },
   {
    "duration": 45,
    "start_time": "2023-01-14T16:32:24.051Z"
   },
   {
    "duration": 59,
    "start_time": "2023-01-14T16:32:24.098Z"
   },
   {
    "duration": 149,
    "start_time": "2023-01-14T16:32:24.159Z"
   },
   {
    "duration": 363,
    "start_time": "2023-01-14T16:32:24.310Z"
   },
   {
    "duration": 46,
    "start_time": "2023-01-14T16:32:24.675Z"
   },
   {
    "duration": 1006,
    "start_time": "2023-01-14T16:32:24.723Z"
   },
   {
    "duration": 8,
    "start_time": "2023-01-14T16:32:25.731Z"
   },
   {
    "duration": 494,
    "start_time": "2023-01-14T16:32:25.741Z"
   },
   {
    "duration": 201,
    "start_time": "2023-01-14T16:32:26.237Z"
   },
   {
    "duration": 14,
    "start_time": "2023-01-14T16:32:26.440Z"
   },
   {
    "duration": 26,
    "start_time": "2023-01-14T16:32:26.456Z"
   },
   {
    "duration": 692,
    "start_time": "2023-01-14T16:32:26.484Z"
   },
   {
    "duration": 0,
    "start_time": "2023-01-14T16:32:27.178Z"
   },
   {
    "duration": 0,
    "start_time": "2023-01-14T16:32:27.180Z"
   },
   {
    "duration": 154,
    "start_time": "2023-01-14T16:34:04.105Z"
   },
   {
    "duration": 24,
    "start_time": "2023-01-14T16:34:16.689Z"
   },
   {
    "duration": 228,
    "start_time": "2023-01-14T16:34:40.264Z"
   },
   {
    "duration": 26,
    "start_time": "2023-01-14T16:34:40.750Z"
   },
   {
    "duration": 1232,
    "start_time": "2023-01-14T16:35:00.665Z"
   },
   {
    "duration": 840,
    "start_time": "2023-01-14T16:35:01.899Z"
   },
   {
    "duration": 38,
    "start_time": "2023-01-14T16:35:02.741Z"
   },
   {
    "duration": 150,
    "start_time": "2023-01-14T16:35:02.781Z"
   },
   {
    "duration": 922,
    "start_time": "2023-01-14T16:35:02.933Z"
   },
   {
    "duration": 663,
    "start_time": "2023-01-14T16:35:03.856Z"
   },
   {
    "duration": 123,
    "start_time": "2023-01-14T16:35:04.520Z"
   },
   {
    "duration": 474,
    "start_time": "2023-01-14T16:35:04.644Z"
   },
   {
    "duration": 6,
    "start_time": "2023-01-14T16:35:05.120Z"
   },
   {
    "duration": 43,
    "start_time": "2023-01-14T16:35:05.129Z"
   },
   {
    "duration": 597,
    "start_time": "2023-01-14T16:35:05.174Z"
   },
   {
    "duration": 314,
    "start_time": "2023-01-14T16:35:05.773Z"
   },
   {
    "duration": 970,
    "start_time": "2023-01-14T16:35:06.088Z"
   },
   {
    "duration": 168,
    "start_time": "2023-01-14T16:35:07.060Z"
   },
   {
    "duration": 48,
    "start_time": "2023-01-14T16:35:07.231Z"
   },
   {
    "duration": 331,
    "start_time": "2023-01-14T16:35:07.281Z"
   },
   {
    "duration": 804,
    "start_time": "2023-01-14T16:35:07.614Z"
   },
   {
    "duration": 32,
    "start_time": "2023-01-14T16:35:08.419Z"
   },
   {
    "duration": 74,
    "start_time": "2023-01-14T16:35:08.452Z"
   },
   {
    "duration": 40,
    "start_time": "2023-01-14T16:35:08.527Z"
   },
   {
    "duration": 119,
    "start_time": "2023-01-14T16:35:08.568Z"
   },
   {
    "duration": 297,
    "start_time": "2023-01-14T16:35:08.689Z"
   },
   {
    "duration": 48,
    "start_time": "2023-01-14T16:35:08.988Z"
   },
   {
    "duration": 974,
    "start_time": "2023-01-14T16:35:09.038Z"
   },
   {
    "duration": 9,
    "start_time": "2023-01-14T16:35:10.013Z"
   },
   {
    "duration": 397,
    "start_time": "2023-01-14T16:35:10.023Z"
   },
   {
    "duration": 207,
    "start_time": "2023-01-14T16:35:10.421Z"
   },
   {
    "duration": 11,
    "start_time": "2023-01-14T16:35:10.631Z"
   },
   {
    "duration": 2163,
    "start_time": "2023-01-14T16:35:10.644Z"
   },
   {
    "duration": 0,
    "start_time": "2023-01-14T16:35:12.809Z"
   },
   {
    "duration": 0,
    "start_time": "2023-01-14T16:35:12.810Z"
   },
   {
    "duration": 1122,
    "start_time": "2023-01-14T16:36:49.191Z"
   },
   {
    "duration": 9,
    "start_time": "2023-01-14T16:51:21.344Z"
   },
   {
    "duration": 10,
    "start_time": "2023-01-14T16:51:21.869Z"
   },
   {
    "duration": 3,
    "start_time": "2023-01-14T16:52:43.482Z"
   },
   {
    "duration": 10,
    "start_time": "2023-01-14T16:52:52.107Z"
   },
   {
    "duration": 17,
    "start_time": "2023-01-14T16:52:52.859Z"
   },
   {
    "duration": 8,
    "start_time": "2023-01-14T16:53:32.330Z"
   },
   {
    "duration": 3,
    "start_time": "2023-01-14T16:53:42.763Z"
   },
   {
    "duration": 1127,
    "start_time": "2023-01-14T16:53:46.969Z"
   },
   {
    "duration": 769,
    "start_time": "2023-01-14T16:53:48.098Z"
   },
   {
    "duration": 24,
    "start_time": "2023-01-14T16:53:48.869Z"
   },
   {
    "duration": 128,
    "start_time": "2023-01-14T16:53:48.895Z"
   },
   {
    "duration": 915,
    "start_time": "2023-01-14T16:53:49.025Z"
   },
   {
    "duration": 633,
    "start_time": "2023-01-14T16:53:49.942Z"
   },
   {
    "duration": 128,
    "start_time": "2023-01-14T16:53:50.577Z"
   },
   {
    "duration": 482,
    "start_time": "2023-01-14T16:53:50.707Z"
   },
   {
    "duration": 4,
    "start_time": "2023-01-14T16:53:51.191Z"
   },
   {
    "duration": 26,
    "start_time": "2023-01-14T16:53:51.198Z"
   },
   {
    "duration": 599,
    "start_time": "2023-01-14T16:53:51.226Z"
   },
   {
    "duration": 294,
    "start_time": "2023-01-14T16:53:51.827Z"
   },
   {
    "duration": 902,
    "start_time": "2023-01-14T16:53:52.123Z"
   },
   {
    "duration": 164,
    "start_time": "2023-01-14T16:53:53.027Z"
   },
   {
    "duration": 34,
    "start_time": "2023-01-14T16:53:53.192Z"
   },
   {
    "duration": 323,
    "start_time": "2023-01-14T16:53:53.227Z"
   },
   {
    "duration": 898,
    "start_time": "2023-01-14T16:53:53.552Z"
   },
   {
    "duration": 32,
    "start_time": "2023-01-14T16:53:54.451Z"
   },
   {
    "duration": 14,
    "start_time": "2023-01-14T16:53:54.485Z"
   },
   {
    "duration": 31,
    "start_time": "2023-01-14T16:53:54.500Z"
   },
   {
    "duration": 162,
    "start_time": "2023-01-14T16:53:54.533Z"
   },
   {
    "duration": 295,
    "start_time": "2023-01-14T16:53:54.697Z"
   },
   {
    "duration": 48,
    "start_time": "2023-01-14T16:53:54.993Z"
   },
   {
    "duration": 948,
    "start_time": "2023-01-14T16:53:55.043Z"
   },
   {
    "duration": 8,
    "start_time": "2023-01-14T16:53:55.993Z"
   },
   {
    "duration": 400,
    "start_time": "2023-01-14T16:53:56.003Z"
   },
   {
    "duration": 180,
    "start_time": "2023-01-14T16:53:56.405Z"
   },
   {
    "duration": 8,
    "start_time": "2023-01-14T16:53:56.589Z"
   },
   {
    "duration": 108,
    "start_time": "2023-01-14T16:53:56.599Z"
   },
   {
    "duration": 0,
    "start_time": "2023-01-14T16:53:56.709Z"
   },
   {
    "duration": 0,
    "start_time": "2023-01-14T16:53:56.710Z"
   },
   {
    "duration": 0,
    "start_time": "2023-01-14T16:53:56.711Z"
   },
   {
    "duration": 0,
    "start_time": "2023-01-14T16:53:56.712Z"
   },
   {
    "duration": 0,
    "start_time": "2023-01-14T16:53:56.713Z"
   },
   {
    "duration": 0,
    "start_time": "2023-01-14T16:53:56.714Z"
   },
   {
    "duration": 11,
    "start_time": "2023-01-14T16:57:30.700Z"
   },
   {
    "duration": 2,
    "start_time": "2023-01-14T16:59:22.182Z"
   },
   {
    "duration": 4,
    "start_time": "2023-01-14T16:59:26.375Z"
   },
   {
    "duration": 86,
    "start_time": "2023-01-14T17:05:31.767Z"
   },
   {
    "duration": 80,
    "start_time": "2023-01-14T17:05:38.966Z"
   },
   {
    "duration": 12,
    "start_time": "2023-01-14T17:05:46.267Z"
   },
   {
    "duration": 14,
    "start_time": "2023-01-14T17:06:14.676Z"
   },
   {
    "duration": 3,
    "start_time": "2023-01-14T17:07:00.308Z"
   },
   {
    "duration": 13,
    "start_time": "2023-01-14T17:07:07.428Z"
   },
   {
    "duration": 76,
    "start_time": "2023-01-14T17:07:17.282Z"
   },
   {
    "duration": 17,
    "start_time": "2023-01-14T17:07:24.024Z"
   },
   {
    "duration": 75,
    "start_time": "2023-01-14T17:08:01.900Z"
   },
   {
    "duration": 13,
    "start_time": "2023-01-14T17:08:07.205Z"
   },
   {
    "duration": 13,
    "start_time": "2023-01-14T17:08:27.723Z"
   },
   {
    "duration": 404,
    "start_time": "2023-01-14T17:12:51.194Z"
   },
   {
    "duration": 521,
    "start_time": "2023-01-14T17:13:07.252Z"
   },
   {
    "duration": 2,
    "start_time": "2023-01-14T17:13:35.207Z"
   },
   {
    "duration": 852,
    "start_time": "2023-01-14T17:14:32.311Z"
   },
   {
    "duration": 935,
    "start_time": "2023-01-14T17:14:53.137Z"
   },
   {
    "duration": 2120,
    "start_time": "2023-01-14T17:36:03.187Z"
   },
   {
    "duration": 1135,
    "start_time": "2023-01-14T17:36:13.481Z"
   },
   {
    "duration": 829,
    "start_time": "2023-01-14T17:36:14.617Z"
   },
   {
    "duration": 34,
    "start_time": "2023-01-14T17:36:15.448Z"
   },
   {
    "duration": 148,
    "start_time": "2023-01-14T17:36:15.484Z"
   },
   {
    "duration": 950,
    "start_time": "2023-01-14T17:36:15.634Z"
   },
   {
    "duration": 635,
    "start_time": "2023-01-14T17:36:16.585Z"
   },
   {
    "duration": 131,
    "start_time": "2023-01-14T17:36:17.222Z"
   },
   {
    "duration": 498,
    "start_time": "2023-01-14T17:36:17.355Z"
   },
   {
    "duration": 4,
    "start_time": "2023-01-14T17:36:17.854Z"
   },
   {
    "duration": 34,
    "start_time": "2023-01-14T17:36:17.861Z"
   },
   {
    "duration": 594,
    "start_time": "2023-01-14T17:36:17.896Z"
   },
   {
    "duration": 303,
    "start_time": "2023-01-14T17:36:18.492Z"
   },
   {
    "duration": 976,
    "start_time": "2023-01-14T17:36:18.797Z"
   },
   {
    "duration": 173,
    "start_time": "2023-01-14T17:36:19.774Z"
   },
   {
    "duration": 48,
    "start_time": "2023-01-14T17:36:19.949Z"
   },
   {
    "duration": 356,
    "start_time": "2023-01-14T17:36:19.998Z"
   },
   {
    "duration": 909,
    "start_time": "2023-01-14T17:36:20.356Z"
   },
   {
    "duration": 38,
    "start_time": "2023-01-14T17:36:21.267Z"
   },
   {
    "duration": 15,
    "start_time": "2023-01-14T17:36:21.307Z"
   },
   {
    "duration": 62,
    "start_time": "2023-01-14T17:36:21.323Z"
   },
   {
    "duration": 128,
    "start_time": "2023-01-14T17:36:21.387Z"
   },
   {
    "duration": 288,
    "start_time": "2023-01-14T17:36:21.517Z"
   },
   {
    "duration": 45,
    "start_time": "2023-01-14T17:36:21.807Z"
   },
   {
    "duration": 942,
    "start_time": "2023-01-14T17:36:21.854Z"
   },
   {
    "duration": 10,
    "start_time": "2023-01-14T17:36:22.798Z"
   },
   {
    "duration": 457,
    "start_time": "2023-01-14T17:36:22.810Z"
   },
   {
    "duration": 188,
    "start_time": "2023-01-14T17:36:23.268Z"
   },
   {
    "duration": 20,
    "start_time": "2023-01-14T17:36:23.459Z"
   },
   {
    "duration": 541,
    "start_time": "2023-01-14T17:36:23.480Z"
   },
   {
    "duration": 2139,
    "start_time": "2023-01-14T17:36:24.024Z"
   },
   {
    "duration": 0,
    "start_time": "2023-01-14T17:36:26.165Z"
   },
   {
    "duration": 0,
    "start_time": "2023-01-14T17:36:26.166Z"
   },
   {
    "duration": 0,
    "start_time": "2023-01-14T17:36:26.167Z"
   },
   {
    "duration": 0,
    "start_time": "2023-01-14T17:36:26.168Z"
   },
   {
    "duration": 2206,
    "start_time": "2023-01-14T17:36:48.406Z"
   },
   {
    "duration": 357,
    "start_time": "2023-01-14T17:36:55.999Z"
   },
   {
    "duration": 606,
    "start_time": "2023-01-14T17:38:05.906Z"
   },
   {
    "duration": 926,
    "start_time": "2023-01-14T17:38:17.193Z"
   },
   {
    "duration": 568,
    "start_time": "2023-01-14T17:38:27.063Z"
   },
   {
    "duration": 588,
    "start_time": "2023-01-14T17:38:35.267Z"
   },
   {
    "duration": 591,
    "start_time": "2023-01-14T17:38:45.466Z"
   },
   {
    "duration": 1122,
    "start_time": "2023-01-14T17:43:44.193Z"
   },
   {
    "duration": 809,
    "start_time": "2023-01-14T17:43:45.317Z"
   },
   {
    "duration": 28,
    "start_time": "2023-01-14T17:43:46.127Z"
   },
   {
    "duration": 144,
    "start_time": "2023-01-14T17:43:46.156Z"
   },
   {
    "duration": 849,
    "start_time": "2023-01-14T17:43:46.301Z"
   },
   {
    "duration": 584,
    "start_time": "2023-01-14T17:43:47.151Z"
   },
   {
    "duration": 127,
    "start_time": "2023-01-14T17:43:47.737Z"
   },
   {
    "duration": 471,
    "start_time": "2023-01-14T17:43:47.865Z"
   },
   {
    "duration": 4,
    "start_time": "2023-01-14T17:43:48.338Z"
   },
   {
    "duration": 36,
    "start_time": "2023-01-14T17:43:48.344Z"
   },
   {
    "duration": 578,
    "start_time": "2023-01-14T17:43:48.382Z"
   },
   {
    "duration": 326,
    "start_time": "2023-01-14T17:43:48.962Z"
   },
   {
    "duration": 923,
    "start_time": "2023-01-14T17:43:49.289Z"
   },
   {
    "duration": 180,
    "start_time": "2023-01-14T17:43:50.213Z"
   },
   {
    "duration": 34,
    "start_time": "2023-01-14T17:43:50.395Z"
   },
   {
    "duration": 342,
    "start_time": "2023-01-14T17:43:50.430Z"
   },
   {
    "duration": 810,
    "start_time": "2023-01-14T17:43:50.774Z"
   },
   {
    "duration": 32,
    "start_time": "2023-01-14T17:43:51.585Z"
   },
   {
    "duration": 15,
    "start_time": "2023-01-14T17:43:51.618Z"
   },
   {
    "duration": 49,
    "start_time": "2023-01-14T17:43:51.634Z"
   },
   {
    "duration": 118,
    "start_time": "2023-01-14T17:43:51.685Z"
   },
   {
    "duration": 276,
    "start_time": "2023-01-14T17:43:51.804Z"
   },
   {
    "duration": 47,
    "start_time": "2023-01-14T17:43:52.081Z"
   },
   {
    "duration": 355,
    "start_time": "2023-01-14T17:43:52.130Z"
   },
   {
    "duration": 8,
    "start_time": "2023-01-14T17:43:52.486Z"
   },
   {
    "duration": 537,
    "start_time": "2023-01-14T17:43:52.495Z"
   },
   {
    "duration": 199,
    "start_time": "2023-01-14T17:43:53.034Z"
   },
   {
    "duration": 10,
    "start_time": "2023-01-14T17:43:53.236Z"
   },
   {
    "duration": 491,
    "start_time": "2023-01-14T17:43:53.247Z"
   },
   {
    "duration": 756,
    "start_time": "2023-01-14T17:43:53.739Z"
   },
   {
    "duration": 0,
    "start_time": "2023-01-14T17:43:54.497Z"
   },
   {
    "duration": 0,
    "start_time": "2023-01-14T17:43:54.498Z"
   },
   {
    "duration": 0,
    "start_time": "2023-01-14T17:43:54.499Z"
   },
   {
    "duration": 0,
    "start_time": "2023-01-14T17:43:54.500Z"
   },
   {
    "duration": 585,
    "start_time": "2023-01-14T17:43:59.022Z"
   },
   {
    "duration": 25,
    "start_time": "2023-01-14T17:44:30.220Z"
   },
   {
    "duration": 14,
    "start_time": "2023-01-14T17:44:36.980Z"
   },
   {
    "duration": 1101,
    "start_time": "2023-01-14T17:44:46.401Z"
   },
   {
    "duration": 812,
    "start_time": "2023-01-14T17:44:47.503Z"
   },
   {
    "duration": 25,
    "start_time": "2023-01-14T17:44:48.317Z"
   },
   {
    "duration": 142,
    "start_time": "2023-01-14T17:44:48.344Z"
   },
   {
    "duration": 881,
    "start_time": "2023-01-14T17:44:48.488Z"
   },
   {
    "duration": 593,
    "start_time": "2023-01-14T17:44:49.371Z"
   },
   {
    "duration": 131,
    "start_time": "2023-01-14T17:44:49.966Z"
   },
   {
    "duration": 488,
    "start_time": "2023-01-14T17:44:50.098Z"
   },
   {
    "duration": 4,
    "start_time": "2023-01-14T17:44:50.587Z"
   },
   {
    "duration": 32,
    "start_time": "2023-01-14T17:44:50.592Z"
   },
   {
    "duration": 606,
    "start_time": "2023-01-14T17:44:50.626Z"
   },
   {
    "duration": 301,
    "start_time": "2023-01-14T17:44:51.234Z"
   },
   {
    "duration": 912,
    "start_time": "2023-01-14T17:44:51.536Z"
   },
   {
    "duration": 161,
    "start_time": "2023-01-14T17:44:52.451Z"
   },
   {
    "duration": 33,
    "start_time": "2023-01-14T17:44:52.614Z"
   },
   {
    "duration": 347,
    "start_time": "2023-01-14T17:44:52.649Z"
   },
   {
    "duration": 816,
    "start_time": "2023-01-14T17:44:52.997Z"
   },
   {
    "duration": 34,
    "start_time": "2023-01-14T17:44:53.814Z"
   },
   {
    "duration": 33,
    "start_time": "2023-01-14T17:44:53.849Z"
   },
   {
    "duration": 33,
    "start_time": "2023-01-14T17:44:53.884Z"
   },
   {
    "duration": 169,
    "start_time": "2023-01-14T17:44:53.919Z"
   },
   {
    "duration": 286,
    "start_time": "2023-01-14T17:44:54.090Z"
   },
   {
    "duration": 46,
    "start_time": "2023-01-14T17:44:54.378Z"
   },
   {
    "duration": 356,
    "start_time": "2023-01-14T17:44:54.426Z"
   },
   {
    "duration": 7,
    "start_time": "2023-01-14T17:44:54.783Z"
   },
   {
    "duration": 542,
    "start_time": "2023-01-14T17:44:54.791Z"
   },
   {
    "duration": 185,
    "start_time": "2023-01-14T17:44:55.334Z"
   },
   {
    "duration": 9,
    "start_time": "2023-01-14T17:44:55.521Z"
   },
   {
    "duration": 543,
    "start_time": "2023-01-14T17:44:55.532Z"
   },
   {
    "duration": 15,
    "start_time": "2023-01-14T17:44:56.077Z"
   },
   {
    "duration": 707,
    "start_time": "2023-01-14T17:44:56.094Z"
   },
   {
    "duration": 0,
    "start_time": "2023-01-14T17:44:56.803Z"
   },
   {
    "duration": 0,
    "start_time": "2023-01-14T17:44:56.804Z"
   },
   {
    "duration": 0,
    "start_time": "2023-01-14T17:44:56.806Z"
   },
   {
    "duration": 0,
    "start_time": "2023-01-14T17:44:56.807Z"
   },
   {
    "duration": 1155,
    "start_time": "2023-01-14T17:45:19.571Z"
   },
   {
    "duration": 802,
    "start_time": "2023-01-14T17:45:20.729Z"
   },
   {
    "duration": 25,
    "start_time": "2023-01-14T17:45:21.533Z"
   },
   {
    "duration": 150,
    "start_time": "2023-01-14T17:45:21.559Z"
   },
   {
    "duration": 895,
    "start_time": "2023-01-14T17:45:21.710Z"
   },
   {
    "duration": 656,
    "start_time": "2023-01-14T17:45:22.606Z"
   },
   {
    "duration": 121,
    "start_time": "2023-01-14T17:45:23.263Z"
   },
   {
    "duration": 447,
    "start_time": "2023-01-14T17:45:23.386Z"
   },
   {
    "duration": 4,
    "start_time": "2023-01-14T17:45:23.835Z"
   },
   {
    "duration": 29,
    "start_time": "2023-01-14T17:45:23.841Z"
   },
   {
    "duration": 612,
    "start_time": "2023-01-14T17:45:23.878Z"
   },
   {
    "duration": 306,
    "start_time": "2023-01-14T17:45:24.492Z"
   },
   {
    "duration": 940,
    "start_time": "2023-01-14T17:45:24.799Z"
   },
   {
    "duration": 173,
    "start_time": "2023-01-14T17:45:25.741Z"
   },
   {
    "duration": 33,
    "start_time": "2023-01-14T17:45:25.916Z"
   },
   {
    "duration": 350,
    "start_time": "2023-01-14T17:45:25.950Z"
   },
   {
    "duration": 814,
    "start_time": "2023-01-14T17:45:26.301Z"
   },
   {
    "duration": 31,
    "start_time": "2023-01-14T17:45:27.116Z"
   },
   {
    "duration": 32,
    "start_time": "2023-01-14T17:45:27.148Z"
   },
   {
    "duration": 35,
    "start_time": "2023-01-14T17:45:27.182Z"
   },
   {
    "duration": 118,
    "start_time": "2023-01-14T17:45:27.219Z"
   },
   {
    "duration": 286,
    "start_time": "2023-01-14T17:45:27.339Z"
   },
   {
    "duration": 59,
    "start_time": "2023-01-14T17:45:27.627Z"
   },
   {
    "duration": 359,
    "start_time": "2023-01-14T17:45:27.688Z"
   },
   {
    "duration": 10,
    "start_time": "2023-01-14T17:45:28.049Z"
   },
   {
    "duration": 509,
    "start_time": "2023-01-14T17:45:28.079Z"
   },
   {
    "duration": 192,
    "start_time": "2023-01-14T17:45:28.590Z"
   },
   {
    "duration": 9,
    "start_time": "2023-01-14T17:45:28.786Z"
   },
   {
    "duration": 504,
    "start_time": "2023-01-14T17:45:28.797Z"
   },
   {
    "duration": 16,
    "start_time": "2023-01-14T17:45:29.303Z"
   },
   {
    "duration": 712,
    "start_time": "2023-01-14T17:45:29.321Z"
   },
   {
    "duration": 0,
    "start_time": "2023-01-14T17:45:30.035Z"
   },
   {
    "duration": 0,
    "start_time": "2023-01-14T17:45:30.036Z"
   },
   {
    "duration": 0,
    "start_time": "2023-01-14T17:45:30.037Z"
   },
   {
    "duration": 0,
    "start_time": "2023-01-14T17:45:30.038Z"
   },
   {
    "duration": 569,
    "start_time": "2023-01-14T17:45:36.621Z"
   },
   {
    "duration": 570,
    "start_time": "2023-01-14T17:45:46.698Z"
   },
   {
    "duration": 490,
    "start_time": "2023-01-14T17:53:42.557Z"
   },
   {
    "duration": 391,
    "start_time": "2023-01-14T17:53:55.871Z"
   },
   {
    "duration": 1116,
    "start_time": "2023-01-14T17:54:04.592Z"
   },
   {
    "duration": 818,
    "start_time": "2023-01-14T17:54:05.710Z"
   },
   {
    "duration": 24,
    "start_time": "2023-01-14T17:54:06.531Z"
   },
   {
    "duration": 143,
    "start_time": "2023-01-14T17:54:06.557Z"
   },
   {
    "duration": 906,
    "start_time": "2023-01-14T17:54:06.702Z"
   },
   {
    "duration": 596,
    "start_time": "2023-01-14T17:54:07.610Z"
   },
   {
    "duration": 123,
    "start_time": "2023-01-14T17:54:08.208Z"
   },
   {
    "duration": 450,
    "start_time": "2023-01-14T17:54:08.332Z"
   },
   {
    "duration": 4,
    "start_time": "2023-01-14T17:54:08.783Z"
   },
   {
    "duration": 28,
    "start_time": "2023-01-14T17:54:08.790Z"
   },
   {
    "duration": 559,
    "start_time": "2023-01-14T17:54:08.819Z"
   },
   {
    "duration": 304,
    "start_time": "2023-01-14T17:54:09.379Z"
   },
   {
    "duration": 901,
    "start_time": "2023-01-14T17:54:09.685Z"
   },
   {
    "duration": 169,
    "start_time": "2023-01-14T17:54:10.587Z"
   },
   {
    "duration": 42,
    "start_time": "2023-01-14T17:54:10.758Z"
   },
   {
    "duration": 314,
    "start_time": "2023-01-14T17:54:10.802Z"
   },
   {
    "duration": 839,
    "start_time": "2023-01-14T17:54:11.118Z"
   },
   {
    "duration": 33,
    "start_time": "2023-01-14T17:54:11.958Z"
   },
   {
    "duration": 15,
    "start_time": "2023-01-14T17:54:11.992Z"
   },
   {
    "duration": 33,
    "start_time": "2023-01-14T17:54:12.008Z"
   },
   {
    "duration": 133,
    "start_time": "2023-01-14T17:54:12.043Z"
   },
   {
    "duration": 278,
    "start_time": "2023-01-14T17:54:12.178Z"
   },
   {
    "duration": 59,
    "start_time": "2023-01-14T17:54:12.458Z"
   },
   {
    "duration": 363,
    "start_time": "2023-01-14T17:54:12.519Z"
   },
   {
    "duration": 8,
    "start_time": "2023-01-14T17:54:12.884Z"
   },
   {
    "duration": 511,
    "start_time": "2023-01-14T17:54:12.894Z"
   },
   {
    "duration": 200,
    "start_time": "2023-01-14T17:54:13.407Z"
   },
   {
    "duration": 9,
    "start_time": "2023-01-14T17:54:13.610Z"
   },
   {
    "duration": 1653,
    "start_time": "2023-01-14T17:54:13.620Z"
   },
   {
    "duration": 0,
    "start_time": "2023-01-14T17:54:15.275Z"
   },
   {
    "duration": 0,
    "start_time": "2023-01-14T17:54:15.277Z"
   },
   {
    "duration": 0,
    "start_time": "2023-01-14T17:54:15.279Z"
   },
   {
    "duration": 0,
    "start_time": "2023-01-14T17:54:15.280Z"
   },
   {
    "duration": 0,
    "start_time": "2023-01-14T17:54:15.281Z"
   },
   {
    "duration": 0,
    "start_time": "2023-01-14T17:54:15.283Z"
   },
   {
    "duration": 1373,
    "start_time": "2023-01-15T12:35:00.351Z"
   },
   {
    "duration": 1119,
    "start_time": "2023-01-15T12:35:01.726Z"
   },
   {
    "duration": 27,
    "start_time": "2023-01-15T12:35:02.847Z"
   },
   {
    "duration": 133,
    "start_time": "2023-01-15T12:35:02.877Z"
   },
   {
    "duration": 895,
    "start_time": "2023-01-15T12:35:03.012Z"
   },
   {
    "duration": 666,
    "start_time": "2023-01-15T12:35:03.909Z"
   },
   {
    "duration": 113,
    "start_time": "2023-01-15T12:35:04.578Z"
   },
   {
    "duration": 487,
    "start_time": "2023-01-15T12:35:04.693Z"
   },
   {
    "duration": 5,
    "start_time": "2023-01-15T12:35:05.182Z"
   },
   {
    "duration": 28,
    "start_time": "2023-01-15T12:35:05.189Z"
   },
   {
    "duration": 634,
    "start_time": "2023-01-15T12:35:05.219Z"
   },
   {
    "duration": 351,
    "start_time": "2023-01-15T12:35:05.857Z"
   },
   {
    "duration": 989,
    "start_time": "2023-01-15T12:35:06.210Z"
   },
   {
    "duration": 181,
    "start_time": "2023-01-15T12:35:07.201Z"
   },
   {
    "duration": 37,
    "start_time": "2023-01-15T12:35:07.384Z"
   },
   {
    "duration": 349,
    "start_time": "2023-01-15T12:35:07.422Z"
   },
   {
    "duration": 954,
    "start_time": "2023-01-15T12:35:07.777Z"
   },
   {
    "duration": 44,
    "start_time": "2023-01-15T12:35:08.733Z"
   },
   {
    "duration": 14,
    "start_time": "2023-01-15T12:35:08.779Z"
   },
   {
    "duration": 35,
    "start_time": "2023-01-15T12:35:08.795Z"
   },
   {
    "duration": 127,
    "start_time": "2023-01-15T12:35:08.831Z"
   },
   {
    "duration": 293,
    "start_time": "2023-01-15T12:35:08.960Z"
   },
   {
    "duration": 61,
    "start_time": "2023-01-15T12:35:09.254Z"
   },
   {
    "duration": 384,
    "start_time": "2023-01-15T12:35:09.316Z"
   },
   {
    "duration": 7,
    "start_time": "2023-01-15T12:35:09.702Z"
   },
   {
    "duration": 577,
    "start_time": "2023-01-15T12:35:09.710Z"
   },
   {
    "duration": 225,
    "start_time": "2023-01-15T12:35:10.289Z"
   },
   {
    "duration": 10,
    "start_time": "2023-01-15T12:35:10.519Z"
   },
   {
    "duration": 1200,
    "start_time": "2023-01-15T12:35:10.531Z"
   },
   {
    "duration": 0,
    "start_time": "2023-01-15T12:35:11.733Z"
   },
   {
    "duration": 0,
    "start_time": "2023-01-15T12:35:11.735Z"
   },
   {
    "duration": 0,
    "start_time": "2023-01-15T12:35:11.735Z"
   },
   {
    "duration": 0,
    "start_time": "2023-01-15T12:35:11.737Z"
   },
   {
    "duration": 0,
    "start_time": "2023-01-15T12:35:11.738Z"
   },
   {
    "duration": 0,
    "start_time": "2023-01-15T12:35:11.739Z"
   },
   {
    "duration": 16,
    "start_time": "2023-01-15T12:37:00.554Z"
   },
   {
    "duration": 1541,
    "start_time": "2023-01-15T12:38:32.623Z"
   },
   {
    "duration": 1183,
    "start_time": "2023-01-15T12:40:13.149Z"
   },
   {
    "duration": 824,
    "start_time": "2023-01-15T12:40:14.334Z"
   },
   {
    "duration": 28,
    "start_time": "2023-01-15T12:40:15.160Z"
   },
   {
    "duration": 126,
    "start_time": "2023-01-15T12:40:15.190Z"
   },
   {
    "duration": 920,
    "start_time": "2023-01-15T12:40:15.318Z"
   },
   {
    "duration": 659,
    "start_time": "2023-01-15T12:40:16.240Z"
   },
   {
    "duration": 118,
    "start_time": "2023-01-15T12:40:16.901Z"
   },
   {
    "duration": 523,
    "start_time": "2023-01-15T12:40:17.021Z"
   },
   {
    "duration": 6,
    "start_time": "2023-01-15T12:40:17.546Z"
   },
   {
    "duration": 55,
    "start_time": "2023-01-15T12:40:17.554Z"
   },
   {
    "duration": 618,
    "start_time": "2023-01-15T12:40:17.611Z"
   },
   {
    "duration": 366,
    "start_time": "2023-01-15T12:40:18.232Z"
   },
   {
    "duration": 1035,
    "start_time": "2023-01-15T12:40:18.601Z"
   },
   {
    "duration": 179,
    "start_time": "2023-01-15T12:40:19.642Z"
   },
   {
    "duration": 41,
    "start_time": "2023-01-15T12:40:19.823Z"
   },
   {
    "duration": 355,
    "start_time": "2023-01-15T12:40:19.877Z"
   },
   {
    "duration": 974,
    "start_time": "2023-01-15T12:40:20.234Z"
   },
   {
    "duration": 34,
    "start_time": "2023-01-15T12:40:21.209Z"
   },
   {
    "duration": 15,
    "start_time": "2023-01-15T12:40:21.245Z"
   },
   {
    "duration": 30,
    "start_time": "2023-01-15T12:40:21.278Z"
   },
   {
    "duration": 126,
    "start_time": "2023-01-15T12:40:21.310Z"
   },
   {
    "duration": 325,
    "start_time": "2023-01-15T12:40:21.439Z"
   },
   {
    "duration": 57,
    "start_time": "2023-01-15T12:40:21.765Z"
   },
   {
    "duration": 407,
    "start_time": "2023-01-15T12:40:21.824Z"
   },
   {
    "duration": 10,
    "start_time": "2023-01-15T12:40:22.234Z"
   },
   {
    "duration": 609,
    "start_time": "2023-01-15T12:40:22.246Z"
   },
   {
    "duration": 215,
    "start_time": "2023-01-15T12:40:22.857Z"
   },
   {
    "duration": 11,
    "start_time": "2023-01-15T12:40:23.077Z"
   },
   {
    "duration": 1603,
    "start_time": "2023-01-15T12:40:23.090Z"
   },
   {
    "duration": 0,
    "start_time": "2023-01-15T12:40:24.695Z"
   },
   {
    "duration": 0,
    "start_time": "2023-01-15T12:40:24.696Z"
   },
   {
    "duration": 0,
    "start_time": "2023-01-15T12:40:24.697Z"
   },
   {
    "duration": 0,
    "start_time": "2023-01-15T12:40:24.699Z"
   },
   {
    "duration": 0,
    "start_time": "2023-01-15T12:40:24.700Z"
   },
   {
    "duration": 0,
    "start_time": "2023-01-15T12:40:24.701Z"
   },
   {
    "duration": 1178,
    "start_time": "2023-01-15T12:50:48.647Z"
   },
   {
    "duration": 850,
    "start_time": "2023-01-15T12:50:49.828Z"
   },
   {
    "duration": 28,
    "start_time": "2023-01-15T12:50:50.680Z"
   },
   {
    "duration": 137,
    "start_time": "2023-01-15T12:50:50.710Z"
   },
   {
    "duration": 912,
    "start_time": "2023-01-15T12:50:50.849Z"
   },
   {
    "duration": 634,
    "start_time": "2023-01-15T12:50:51.762Z"
   },
   {
    "duration": 114,
    "start_time": "2023-01-15T12:50:52.398Z"
   },
   {
    "duration": 487,
    "start_time": "2023-01-15T12:50:52.513Z"
   },
   {
    "duration": 5,
    "start_time": "2023-01-15T12:50:53.001Z"
   },
   {
    "duration": 27,
    "start_time": "2023-01-15T12:50:53.008Z"
   },
   {
    "duration": 618,
    "start_time": "2023-01-15T12:50:53.037Z"
   },
   {
    "duration": 320,
    "start_time": "2023-01-15T12:50:53.657Z"
   },
   {
    "duration": 1016,
    "start_time": "2023-01-15T12:50:53.979Z"
   },
   {
    "duration": 178,
    "start_time": "2023-01-15T12:50:54.996Z"
   },
   {
    "duration": 36,
    "start_time": "2023-01-15T12:50:55.177Z"
   },
   {
    "duration": 339,
    "start_time": "2023-01-15T12:50:55.215Z"
   },
   {
    "duration": 898,
    "start_time": "2023-01-15T12:50:55.556Z"
   },
   {
    "duration": 37,
    "start_time": "2023-01-15T12:50:56.456Z"
   },
   {
    "duration": 14,
    "start_time": "2023-01-15T12:50:56.495Z"
   },
   {
    "duration": 27,
    "start_time": "2023-01-15T12:50:56.510Z"
   },
   {
    "duration": 133,
    "start_time": "2023-01-15T12:50:56.539Z"
   },
   {
    "duration": 300,
    "start_time": "2023-01-15T12:50:56.673Z"
   },
   {
    "duration": 49,
    "start_time": "2023-01-15T12:50:56.974Z"
   },
   {
    "duration": 412,
    "start_time": "2023-01-15T12:50:57.024Z"
   },
   {
    "duration": 7,
    "start_time": "2023-01-15T12:50:57.438Z"
   },
   {
    "duration": 583,
    "start_time": "2023-01-15T12:50:57.447Z"
   },
   {
    "duration": 212,
    "start_time": "2023-01-15T12:50:58.031Z"
   },
   {
    "duration": 11,
    "start_time": "2023-01-15T12:50:58.248Z"
   },
   {
    "duration": 96,
    "start_time": "2023-01-15T12:50:58.261Z"
   },
   {
    "duration": 4018,
    "start_time": "2023-01-15T12:50:58.359Z"
   },
   {
    "duration": 1135,
    "start_time": "2023-01-15T13:06:19.021Z"
   },
   {
    "duration": 853,
    "start_time": "2023-01-15T13:06:20.157Z"
   },
   {
    "duration": 39,
    "start_time": "2023-01-15T13:06:21.013Z"
   },
   {
    "duration": 185,
    "start_time": "2023-01-15T13:06:21.054Z"
   },
   {
    "duration": 985,
    "start_time": "2023-01-15T13:06:21.241Z"
   },
   {
    "duration": 642,
    "start_time": "2023-01-15T13:06:22.228Z"
   },
   {
    "duration": 120,
    "start_time": "2023-01-15T13:06:22.872Z"
   },
   {
    "duration": 502,
    "start_time": "2023-01-15T13:06:22.994Z"
   },
   {
    "duration": 4,
    "start_time": "2023-01-15T13:06:23.497Z"
   },
   {
    "duration": 25,
    "start_time": "2023-01-15T13:06:23.504Z"
   },
   {
    "duration": 666,
    "start_time": "2023-01-15T13:06:23.530Z"
   },
   {
    "duration": 335,
    "start_time": "2023-01-15T13:06:24.198Z"
   },
   {
    "duration": 1029,
    "start_time": "2023-01-15T13:06:24.535Z"
   },
   {
    "duration": 201,
    "start_time": "2023-01-15T13:06:25.566Z"
   },
   {
    "duration": 54,
    "start_time": "2023-01-15T13:06:25.770Z"
   },
   {
    "duration": 373,
    "start_time": "2023-01-15T13:06:25.826Z"
   },
   {
    "duration": 908,
    "start_time": "2023-01-15T13:06:26.201Z"
   },
   {
    "duration": 31,
    "start_time": "2023-01-15T13:06:27.112Z"
   },
   {
    "duration": 34,
    "start_time": "2023-01-15T13:06:27.145Z"
   },
   {
    "duration": 28,
    "start_time": "2023-01-15T13:06:27.181Z"
   },
   {
    "duration": 128,
    "start_time": "2023-01-15T13:06:27.211Z"
   },
   {
    "duration": 306,
    "start_time": "2023-01-15T13:06:27.341Z"
   },
   {
    "duration": 66,
    "start_time": "2023-01-15T13:06:27.649Z"
   },
   {
    "duration": 461,
    "start_time": "2023-01-15T13:06:27.717Z"
   },
   {
    "duration": 22,
    "start_time": "2023-01-15T13:06:28.180Z"
   },
   {
    "duration": 627,
    "start_time": "2023-01-15T13:06:28.204Z"
   },
   {
    "duration": 212,
    "start_time": "2023-01-15T13:06:28.833Z"
   },
   {
    "duration": 11,
    "start_time": "2023-01-15T13:06:29.048Z"
   },
   {
    "duration": 143,
    "start_time": "2023-01-15T13:06:29.060Z"
   },
   {
    "duration": 0,
    "start_time": "2023-01-15T13:06:29.205Z"
   },
   {
    "duration": 0,
    "start_time": "2023-01-15T13:06:29.206Z"
   },
   {
    "duration": 11,
    "start_time": "2023-01-15T13:06:51.626Z"
   },
   {
    "duration": 6,
    "start_time": "2023-01-15T13:07:39.399Z"
   },
   {
    "duration": 12,
    "start_time": "2023-01-15T13:12:03.347Z"
   },
   {
    "duration": 13,
    "start_time": "2023-01-15T13:12:35.268Z"
   },
   {
    "duration": 10,
    "start_time": "2023-01-15T13:12:47.263Z"
   },
   {
    "duration": 7,
    "start_time": "2023-01-15T13:14:12.610Z"
   },
   {
    "duration": 6,
    "start_time": "2023-01-15T13:15:11.506Z"
   },
   {
    "duration": 214,
    "start_time": "2023-01-15T13:15:15.121Z"
   },
   {
    "duration": 6,
    "start_time": "2023-01-15T13:16:12.685Z"
   },
   {
    "duration": 782,
    "start_time": "2023-01-15T13:16:12.779Z"
   },
   {
    "duration": 29,
    "start_time": "2023-01-15T13:16:13.563Z"
   },
   {
    "duration": 124,
    "start_time": "2023-01-15T13:16:13.593Z"
   },
   {
    "duration": 899,
    "start_time": "2023-01-15T13:16:13.720Z"
   },
   {
    "duration": 676,
    "start_time": "2023-01-15T13:16:14.621Z"
   },
   {
    "duration": 113,
    "start_time": "2023-01-15T13:16:15.299Z"
   },
   {
    "duration": 468,
    "start_time": "2023-01-15T13:16:15.414Z"
   },
   {
    "duration": 5,
    "start_time": "2023-01-15T13:16:15.884Z"
   },
   {
    "duration": 61,
    "start_time": "2023-01-15T13:16:15.891Z"
   },
   {
    "duration": 525,
    "start_time": "2023-01-15T13:16:15.955Z"
   },
   {
    "duration": 291,
    "start_time": "2023-01-15T13:16:16.482Z"
   },
   {
    "duration": 1121,
    "start_time": "2023-01-15T13:16:16.775Z"
   },
   {
    "duration": 188,
    "start_time": "2023-01-15T13:16:17.898Z"
   },
   {
    "duration": 41,
    "start_time": "2023-01-15T13:16:18.088Z"
   },
   {
    "duration": 402,
    "start_time": "2023-01-15T13:16:18.131Z"
   },
   {
    "duration": 924,
    "start_time": "2023-01-15T13:16:18.535Z"
   },
   {
    "duration": 55,
    "start_time": "2023-01-15T13:16:19.462Z"
   },
   {
    "duration": 15,
    "start_time": "2023-01-15T13:16:19.519Z"
   },
   {
    "duration": 51,
    "start_time": "2023-01-15T13:16:19.535Z"
   },
   {
    "duration": 125,
    "start_time": "2023-01-15T13:16:19.588Z"
   },
   {
    "duration": 320,
    "start_time": "2023-01-15T13:16:19.715Z"
   },
   {
    "duration": 56,
    "start_time": "2023-01-15T13:16:20.037Z"
   },
   {
    "duration": 562,
    "start_time": "2023-01-15T13:16:20.095Z"
   },
   {
    "duration": 22,
    "start_time": "2023-01-15T13:16:20.659Z"
   },
   {
    "duration": 458,
    "start_time": "2023-01-15T13:16:20.683Z"
   },
   {
    "duration": 248,
    "start_time": "2023-01-15T13:16:21.143Z"
   },
   {
    "duration": 14,
    "start_time": "2023-01-15T13:16:21.393Z"
   },
   {
    "duration": 9,
    "start_time": "2023-01-15T13:16:21.410Z"
   },
   {
    "duration": 95,
    "start_time": "2023-01-15T13:16:21.421Z"
   },
   {
    "duration": 217,
    "start_time": "2023-01-15T13:16:21.518Z"
   },
   {
    "duration": 57,
    "start_time": "2023-01-15T13:16:21.737Z"
   },
   {
    "duration": 2896,
    "start_time": "2023-01-15T13:16:21.796Z"
   },
   {
    "duration": 201,
    "start_time": "2023-01-15T13:16:49.576Z"
   },
   {
    "duration": 187,
    "start_time": "2023-01-15T13:17:12.208Z"
   },
   {
    "duration": 1210,
    "start_time": "2023-01-15T13:17:53.760Z"
   },
   {
    "duration": 847,
    "start_time": "2023-01-15T13:17:54.973Z"
   },
   {
    "duration": 31,
    "start_time": "2023-01-15T13:17:55.822Z"
   },
   {
    "duration": 177,
    "start_time": "2023-01-15T13:17:55.855Z"
   },
   {
    "duration": 919,
    "start_time": "2023-01-15T13:17:56.034Z"
   },
   {
    "duration": 645,
    "start_time": "2023-01-15T13:17:56.955Z"
   },
   {
    "duration": 116,
    "start_time": "2023-01-15T13:17:57.602Z"
   },
   {
    "duration": 526,
    "start_time": "2023-01-15T13:17:57.720Z"
   },
   {
    "duration": 8,
    "start_time": "2023-01-15T13:17:58.248Z"
   },
   {
    "duration": 46,
    "start_time": "2023-01-15T13:17:58.258Z"
   },
   {
    "duration": 688,
    "start_time": "2023-01-15T13:17:58.306Z"
   },
   {
    "duration": 307,
    "start_time": "2023-01-15T13:17:58.995Z"
   },
   {
    "duration": 1049,
    "start_time": "2023-01-15T13:17:59.304Z"
   },
   {
    "duration": 236,
    "start_time": "2023-01-15T13:18:00.355Z"
   },
   {
    "duration": 44,
    "start_time": "2023-01-15T13:18:00.594Z"
   },
   {
    "duration": 394,
    "start_time": "2023-01-15T13:18:00.640Z"
   },
   {
    "duration": 967,
    "start_time": "2023-01-15T13:18:01.036Z"
   },
   {
    "duration": 32,
    "start_time": "2023-01-15T13:18:02.005Z"
   },
   {
    "duration": 39,
    "start_time": "2023-01-15T13:18:02.038Z"
   },
   {
    "duration": 28,
    "start_time": "2023-01-15T13:18:02.079Z"
   },
   {
    "duration": 124,
    "start_time": "2023-01-15T13:18:02.109Z"
   },
   {
    "duration": 314,
    "start_time": "2023-01-15T13:18:02.235Z"
   },
   {
    "duration": 71,
    "start_time": "2023-01-15T13:18:02.551Z"
   },
   {
    "duration": 390,
    "start_time": "2023-01-15T13:18:02.623Z"
   },
   {
    "duration": 9,
    "start_time": "2023-01-15T13:18:03.015Z"
   },
   {
    "duration": 610,
    "start_time": "2023-01-15T13:18:03.026Z"
   },
   {
    "duration": 260,
    "start_time": "2023-01-15T13:18:03.638Z"
   },
   {
    "duration": 11,
    "start_time": "2023-01-15T13:18:03.902Z"
   },
   {
    "duration": 6,
    "start_time": "2023-01-15T13:18:03.915Z"
   },
   {
    "duration": 97,
    "start_time": "2023-01-15T13:18:03.923Z"
   },
   {
    "duration": 180,
    "start_time": "2023-01-15T13:18:04.022Z"
   },
   {
    "duration": 225,
    "start_time": "2023-01-15T13:18:04.204Z"
   },
   {
    "duration": 15,
    "start_time": "2023-01-15T13:18:04.431Z"
   },
   {
    "duration": 642,
    "start_time": "2023-01-15T13:18:04.448Z"
   },
   {
    "duration": 109,
    "start_time": "2023-01-15T13:19:02.493Z"
   },
   {
    "duration": 12,
    "start_time": "2023-01-15T13:19:26.544Z"
   },
   {
    "duration": 324,
    "start_time": "2023-01-15T13:19:37.126Z"
   },
   {
    "duration": 1146,
    "start_time": "2023-01-15T13:19:42.319Z"
   },
   {
    "duration": 866,
    "start_time": "2023-01-15T13:19:43.467Z"
   },
   {
    "duration": 27,
    "start_time": "2023-01-15T13:19:44.334Z"
   },
   {
    "duration": 133,
    "start_time": "2023-01-15T13:19:44.362Z"
   },
   {
    "duration": 914,
    "start_time": "2023-01-15T13:19:44.497Z"
   },
   {
    "duration": 648,
    "start_time": "2023-01-15T13:19:45.413Z"
   },
   {
    "duration": 123,
    "start_time": "2023-01-15T13:19:46.063Z"
   },
   {
    "duration": 473,
    "start_time": "2023-01-15T13:19:46.188Z"
   },
   {
    "duration": 14,
    "start_time": "2023-01-15T13:19:46.663Z"
   },
   {
    "duration": 24,
    "start_time": "2023-01-15T13:19:46.679Z"
   },
   {
    "duration": 625,
    "start_time": "2023-01-15T13:19:46.705Z"
   },
   {
    "duration": 307,
    "start_time": "2023-01-15T13:19:47.332Z"
   },
   {
    "duration": 1127,
    "start_time": "2023-01-15T13:19:47.641Z"
   },
   {
    "duration": 181,
    "start_time": "2023-01-15T13:19:48.771Z"
   },
   {
    "duration": 47,
    "start_time": "2023-01-15T13:19:48.954Z"
   },
   {
    "duration": 349,
    "start_time": "2023-01-15T13:19:49.003Z"
   },
   {
    "duration": 966,
    "start_time": "2023-01-15T13:19:49.355Z"
   },
   {
    "duration": 31,
    "start_time": "2023-01-15T13:19:50.323Z"
   },
   {
    "duration": 26,
    "start_time": "2023-01-15T13:19:50.356Z"
   },
   {
    "duration": 41,
    "start_time": "2023-01-15T13:19:50.384Z"
   },
   {
    "duration": 123,
    "start_time": "2023-01-15T13:19:50.427Z"
   },
   {
    "duration": 303,
    "start_time": "2023-01-15T13:19:50.552Z"
   },
   {
    "duration": 61,
    "start_time": "2023-01-15T13:19:50.856Z"
   },
   {
    "duration": 412,
    "start_time": "2023-01-15T13:19:50.919Z"
   },
   {
    "duration": 10,
    "start_time": "2023-01-15T13:19:51.333Z"
   },
   {
    "duration": 606,
    "start_time": "2023-01-15T13:19:51.345Z"
   },
   {
    "duration": 212,
    "start_time": "2023-01-15T13:19:51.952Z"
   },
   {
    "duration": 13,
    "start_time": "2023-01-15T13:19:52.165Z"
   },
   {
    "duration": 4,
    "start_time": "2023-01-15T13:19:52.180Z"
   },
   {
    "duration": 66,
    "start_time": "2023-01-15T13:19:52.185Z"
   },
   {
    "duration": 193,
    "start_time": "2023-01-15T13:19:52.252Z"
   },
   {
    "duration": 343,
    "start_time": "2023-01-15T13:19:52.447Z"
   },
   {
    "duration": 111,
    "start_time": "2023-01-15T13:19:52.791Z"
   },
   {
    "duration": 0,
    "start_time": "2023-01-15T13:19:52.904Z"
   },
   {
    "duration": 0,
    "start_time": "2023-01-15T13:19:52.905Z"
   },
   {
    "duration": 14,
    "start_time": "2023-01-15T13:22:03.516Z"
   },
   {
    "duration": 13,
    "start_time": "2023-01-15T13:22:08.135Z"
   },
   {
    "duration": 30,
    "start_time": "2023-01-15T13:23:03.568Z"
   },
   {
    "duration": 47,
    "start_time": "2023-01-15T13:23:50.043Z"
   },
   {
    "duration": 19,
    "start_time": "2023-01-15T13:24:11.347Z"
   },
   {
    "duration": 9,
    "start_time": "2023-01-15T13:24:35.311Z"
   },
   {
    "duration": 4,
    "start_time": "2023-01-15T13:24:46.001Z"
   },
   {
    "duration": 1181,
    "start_time": "2023-01-15T13:25:48.865Z"
   },
   {
    "duration": 812,
    "start_time": "2023-01-15T13:25:50.048Z"
   },
   {
    "duration": 31,
    "start_time": "2023-01-15T13:25:50.862Z"
   },
   {
    "duration": 135,
    "start_time": "2023-01-15T13:25:50.895Z"
   },
   {
    "duration": 916,
    "start_time": "2023-01-15T13:25:51.032Z"
   },
   {
    "duration": 660,
    "start_time": "2023-01-15T13:25:51.950Z"
   },
   {
    "duration": 116,
    "start_time": "2023-01-15T13:25:52.612Z"
   },
   {
    "duration": 512,
    "start_time": "2023-01-15T13:25:52.729Z"
   },
   {
    "duration": 5,
    "start_time": "2023-01-15T13:25:53.243Z"
   },
   {
    "duration": 39,
    "start_time": "2023-01-15T13:25:53.250Z"
   },
   {
    "duration": 635,
    "start_time": "2023-01-15T13:25:53.290Z"
   },
   {
    "duration": 311,
    "start_time": "2023-01-15T13:25:53.927Z"
   },
   {
    "duration": 1055,
    "start_time": "2023-01-15T13:25:54.240Z"
   },
   {
    "duration": 187,
    "start_time": "2023-01-15T13:25:55.298Z"
   },
   {
    "duration": 37,
    "start_time": "2023-01-15T13:25:55.487Z"
   },
   {
    "duration": 346,
    "start_time": "2023-01-15T13:25:55.525Z"
   },
   {
    "duration": 981,
    "start_time": "2023-01-15T13:25:55.878Z"
   },
   {
    "duration": 39,
    "start_time": "2023-01-15T13:25:56.861Z"
   },
   {
    "duration": 22,
    "start_time": "2023-01-15T13:25:56.902Z"
   },
   {
    "duration": 52,
    "start_time": "2023-01-15T13:25:56.925Z"
   },
   {
    "duration": 111,
    "start_time": "2023-01-15T13:25:56.979Z"
   },
   {
    "duration": 305,
    "start_time": "2023-01-15T13:25:57.092Z"
   },
   {
    "duration": 53,
    "start_time": "2023-01-15T13:25:57.399Z"
   },
   {
    "duration": 397,
    "start_time": "2023-01-15T13:25:57.453Z"
   },
   {
    "duration": 8,
    "start_time": "2023-01-15T13:25:57.852Z"
   },
   {
    "duration": 660,
    "start_time": "2023-01-15T13:25:57.861Z"
   },
   {
    "duration": 219,
    "start_time": "2023-01-15T13:25:58.523Z"
   },
   {
    "duration": 10,
    "start_time": "2023-01-15T13:25:58.744Z"
   },
   {
    "duration": 5,
    "start_time": "2023-01-15T13:25:58.756Z"
   },
   {
    "duration": 64,
    "start_time": "2023-01-15T13:25:58.778Z"
   },
   {
    "duration": 126,
    "start_time": "2023-01-15T13:25:58.844Z"
   },
   {
    "duration": 0,
    "start_time": "2023-01-15T13:25:58.977Z"
   },
   {
    "duration": 0,
    "start_time": "2023-01-15T13:25:58.979Z"
   },
   {
    "duration": 0,
    "start_time": "2023-01-15T13:25:58.980Z"
   },
   {
    "duration": 18,
    "start_time": "2023-01-15T13:27:17.576Z"
   },
   {
    "duration": 10,
    "start_time": "2023-01-15T13:27:30.793Z"
   },
   {
    "duration": 12,
    "start_time": "2023-01-15T13:27:39.582Z"
   },
   {
    "duration": 322,
    "start_time": "2023-01-15T13:27:43.411Z"
   },
   {
    "duration": 16,
    "start_time": "2023-01-15T13:28:11.018Z"
   },
   {
    "duration": 1168,
    "start_time": "2023-01-15T13:28:21.157Z"
   },
   {
    "duration": 799,
    "start_time": "2023-01-15T13:28:22.327Z"
   },
   {
    "duration": 25,
    "start_time": "2023-01-15T13:28:23.128Z"
   },
   {
    "duration": 131,
    "start_time": "2023-01-15T13:28:23.155Z"
   },
   {
    "duration": 872,
    "start_time": "2023-01-15T13:28:23.288Z"
   },
   {
    "duration": 612,
    "start_time": "2023-01-15T13:28:24.162Z"
   },
   {
    "duration": 115,
    "start_time": "2023-01-15T13:28:24.776Z"
   },
   {
    "duration": 492,
    "start_time": "2023-01-15T13:28:24.893Z"
   },
   {
    "duration": 5,
    "start_time": "2023-01-15T13:28:25.387Z"
   },
   {
    "duration": 25,
    "start_time": "2023-01-15T13:28:25.394Z"
   },
   {
    "duration": 651,
    "start_time": "2023-01-15T13:28:25.420Z"
   },
   {
    "duration": 311,
    "start_time": "2023-01-15T13:28:26.072Z"
   },
   {
    "duration": 987,
    "start_time": "2023-01-15T13:28:26.384Z"
   },
   {
    "duration": 178,
    "start_time": "2023-01-15T13:28:27.373Z"
   },
   {
    "duration": 44,
    "start_time": "2023-01-15T13:28:27.553Z"
   },
   {
    "duration": 332,
    "start_time": "2023-01-15T13:28:27.599Z"
   },
   {
    "duration": 972,
    "start_time": "2023-01-15T13:28:27.933Z"
   },
   {
    "duration": 34,
    "start_time": "2023-01-15T13:28:28.907Z"
   },
   {
    "duration": 15,
    "start_time": "2023-01-15T13:28:28.943Z"
   },
   {
    "duration": 31,
    "start_time": "2023-01-15T13:28:28.977Z"
   },
   {
    "duration": 122,
    "start_time": "2023-01-15T13:28:29.010Z"
   },
   {
    "duration": 301,
    "start_time": "2023-01-15T13:28:29.133Z"
   },
   {
    "duration": 60,
    "start_time": "2023-01-15T13:28:29.436Z"
   },
   {
    "duration": 63,
    "start_time": "2023-01-15T13:28:29.498Z"
   },
   {
    "duration": 377,
    "start_time": "2023-01-15T13:28:29.577Z"
   },
   {
    "duration": 9,
    "start_time": "2023-01-15T13:28:29.956Z"
   },
   {
    "duration": 586,
    "start_time": "2023-01-15T13:28:29.978Z"
   },
   {
    "duration": 210,
    "start_time": "2023-01-15T13:28:30.578Z"
   },
   {
    "duration": 9,
    "start_time": "2023-01-15T13:28:30.790Z"
   },
   {
    "duration": 14,
    "start_time": "2023-01-15T13:28:30.801Z"
   },
   {
    "duration": 98,
    "start_time": "2023-01-15T13:28:30.817Z"
   },
   {
    "duration": 21,
    "start_time": "2023-01-15T13:28:30.917Z"
   },
   {
    "duration": 360,
    "start_time": "2023-01-15T13:28:30.940Z"
   },
   {
    "duration": 16,
    "start_time": "2023-01-15T13:28:31.302Z"
   },
   {
    "duration": 560,
    "start_time": "2023-01-15T13:28:31.320Z"
   },
   {
    "duration": 7,
    "start_time": "2023-01-15T13:29:10.393Z"
   },
   {
    "duration": 1190,
    "start_time": "2023-01-15T13:29:16.454Z"
   },
   {
    "duration": 869,
    "start_time": "2023-01-15T13:29:17.647Z"
   },
   {
    "duration": 39,
    "start_time": "2023-01-15T13:29:18.519Z"
   },
   {
    "duration": 130,
    "start_time": "2023-01-15T13:29:18.560Z"
   },
   {
    "duration": 913,
    "start_time": "2023-01-15T13:29:18.692Z"
   },
   {
    "duration": 638,
    "start_time": "2023-01-15T13:29:19.607Z"
   },
   {
    "duration": 125,
    "start_time": "2023-01-15T13:29:20.248Z"
   },
   {
    "duration": 492,
    "start_time": "2023-01-15T13:29:20.378Z"
   },
   {
    "duration": 4,
    "start_time": "2023-01-15T13:29:20.877Z"
   },
   {
    "duration": 26,
    "start_time": "2023-01-15T13:29:20.885Z"
   },
   {
    "duration": 631,
    "start_time": "2023-01-15T13:29:20.913Z"
   },
   {
    "duration": 316,
    "start_time": "2023-01-15T13:29:21.546Z"
   },
   {
    "duration": 1004,
    "start_time": "2023-01-15T13:29:21.864Z"
   },
   {
    "duration": 186,
    "start_time": "2023-01-15T13:29:22.870Z"
   },
   {
    "duration": 64,
    "start_time": "2023-01-15T13:29:23.058Z"
   },
   {
    "duration": 360,
    "start_time": "2023-01-15T13:29:23.125Z"
   },
   {
    "duration": 911,
    "start_time": "2023-01-15T13:29:23.487Z"
   },
   {
    "duration": 30,
    "start_time": "2023-01-15T13:29:24.400Z"
   },
   {
    "duration": 14,
    "start_time": "2023-01-15T13:29:24.432Z"
   },
   {
    "duration": 50,
    "start_time": "2023-01-15T13:29:24.447Z"
   },
   {
    "duration": 109,
    "start_time": "2023-01-15T13:29:24.499Z"
   },
   {
    "duration": 304,
    "start_time": "2023-01-15T13:29:24.609Z"
   },
   {
    "duration": 50,
    "start_time": "2023-01-15T13:29:24.914Z"
   },
   {
    "duration": 71,
    "start_time": "2023-01-15T13:29:24.978Z"
   },
   {
    "duration": 385,
    "start_time": "2023-01-15T13:29:25.051Z"
   },
   {
    "duration": 9,
    "start_time": "2023-01-15T13:29:25.438Z"
   },
   {
    "duration": 593,
    "start_time": "2023-01-15T13:29:25.448Z"
   },
   {
    "duration": 206,
    "start_time": "2023-01-15T13:29:26.044Z"
   },
   {
    "duration": 9,
    "start_time": "2023-01-15T13:29:26.252Z"
   },
   {
    "duration": 18,
    "start_time": "2023-01-15T13:29:26.262Z"
   },
   {
    "duration": 67,
    "start_time": "2023-01-15T13:29:26.281Z"
   },
   {
    "duration": 52,
    "start_time": "2023-01-15T13:29:26.350Z"
   },
   {
    "duration": 434,
    "start_time": "2023-01-15T13:29:26.404Z"
   },
   {
    "duration": 68,
    "start_time": "2023-01-15T13:29:26.839Z"
   },
   {
    "duration": 3870,
    "start_time": "2023-01-15T13:29:26.909Z"
   },
   {
    "duration": 112,
    "start_time": "2023-01-15T13:30:14.679Z"
   },
   {
    "duration": 20,
    "start_time": "2023-01-15T13:30:21.315Z"
   },
   {
    "duration": 351,
    "start_time": "2023-01-15T13:30:23.471Z"
   },
   {
    "duration": 1227,
    "start_time": "2023-01-15T13:30:27.268Z"
   },
   {
    "duration": 844,
    "start_time": "2023-01-15T13:30:28.497Z"
   },
   {
    "duration": 37,
    "start_time": "2023-01-15T13:30:29.343Z"
   },
   {
    "duration": 128,
    "start_time": "2023-01-15T13:30:29.382Z"
   },
   {
    "duration": 947,
    "start_time": "2023-01-15T13:30:29.512Z"
   },
   {
    "duration": 678,
    "start_time": "2023-01-15T13:30:30.461Z"
   },
   {
    "duration": 126,
    "start_time": "2023-01-15T13:30:31.141Z"
   },
   {
    "duration": 501,
    "start_time": "2023-01-15T13:30:31.268Z"
   },
   {
    "duration": 9,
    "start_time": "2023-01-15T13:30:31.770Z"
   },
   {
    "duration": 48,
    "start_time": "2023-01-15T13:30:31.780Z"
   },
   {
    "duration": 629,
    "start_time": "2023-01-15T13:30:31.830Z"
   },
   {
    "duration": 317,
    "start_time": "2023-01-15T13:30:32.461Z"
   },
   {
    "duration": 1000,
    "start_time": "2023-01-15T13:30:32.780Z"
   },
   {
    "duration": 184,
    "start_time": "2023-01-15T13:30:33.784Z"
   },
   {
    "duration": 37,
    "start_time": "2023-01-15T13:30:33.971Z"
   },
   {
    "duration": 339,
    "start_time": "2023-01-15T13:30:34.010Z"
   },
   {
    "duration": 911,
    "start_time": "2023-01-15T13:30:34.350Z"
   },
   {
    "duration": 41,
    "start_time": "2023-01-15T13:30:35.263Z"
   },
   {
    "duration": 17,
    "start_time": "2023-01-15T13:30:35.305Z"
   },
   {
    "duration": 57,
    "start_time": "2023-01-15T13:30:35.324Z"
   },
   {
    "duration": 131,
    "start_time": "2023-01-15T13:30:35.383Z"
   },
   {
    "duration": 341,
    "start_time": "2023-01-15T13:30:35.516Z"
   },
   {
    "duration": 66,
    "start_time": "2023-01-15T13:30:35.860Z"
   },
   {
    "duration": 72,
    "start_time": "2023-01-15T13:30:35.928Z"
   },
   {
    "duration": 399,
    "start_time": "2023-01-15T13:30:36.002Z"
   },
   {
    "duration": 8,
    "start_time": "2023-01-15T13:30:36.403Z"
   },
   {
    "duration": 568,
    "start_time": "2023-01-15T13:30:36.413Z"
   },
   {
    "duration": 217,
    "start_time": "2023-01-15T13:30:36.983Z"
   },
   {
    "duration": 10,
    "start_time": "2023-01-15T13:30:37.202Z"
   },
   {
    "duration": 4,
    "start_time": "2023-01-15T13:30:37.214Z"
   },
   {
    "duration": 89,
    "start_time": "2023-01-15T13:30:37.220Z"
   },
   {
    "duration": 22,
    "start_time": "2023-01-15T13:30:37.311Z"
   },
   {
    "duration": 352,
    "start_time": "2023-01-15T13:30:37.334Z"
   },
   {
    "duration": 28,
    "start_time": "2023-01-15T13:30:37.688Z"
   },
   {
    "duration": 1963,
    "start_time": "2023-01-15T13:30:37.718Z"
   },
   {
    "duration": 176,
    "start_time": "2023-01-15T13:30:59.389Z"
   },
   {
    "duration": 1188,
    "start_time": "2023-01-15T13:31:56.032Z"
   },
   {
    "duration": 811,
    "start_time": "2023-01-15T13:31:57.224Z"
   },
   {
    "duration": 39,
    "start_time": "2023-01-15T13:31:58.038Z"
   },
   {
    "duration": 124,
    "start_time": "2023-01-15T13:31:58.080Z"
   },
   {
    "duration": 982,
    "start_time": "2023-01-15T13:31:58.206Z"
   },
   {
    "duration": 628,
    "start_time": "2023-01-15T13:31:59.189Z"
   },
   {
    "duration": 113,
    "start_time": "2023-01-15T13:31:59.819Z"
   },
   {
    "duration": 513,
    "start_time": "2023-01-15T13:31:59.934Z"
   },
   {
    "duration": 4,
    "start_time": "2023-01-15T13:32:00.449Z"
   },
   {
    "duration": 43,
    "start_time": "2023-01-15T13:32:00.454Z"
   },
   {
    "duration": 661,
    "start_time": "2023-01-15T13:32:00.499Z"
   },
   {
    "duration": 331,
    "start_time": "2023-01-15T13:32:01.162Z"
   },
   {
    "duration": 1043,
    "start_time": "2023-01-15T13:32:01.496Z"
   },
   {
    "duration": 182,
    "start_time": "2023-01-15T13:32:02.541Z"
   },
   {
    "duration": 36,
    "start_time": "2023-01-15T13:32:02.725Z"
   },
   {
    "duration": 340,
    "start_time": "2023-01-15T13:32:02.763Z"
   },
   {
    "duration": 881,
    "start_time": "2023-01-15T13:32:03.106Z"
   },
   {
    "duration": 33,
    "start_time": "2023-01-15T13:32:03.989Z"
   },
   {
    "duration": 15,
    "start_time": "2023-01-15T13:32:04.024Z"
   },
   {
    "duration": 54,
    "start_time": "2023-01-15T13:32:04.041Z"
   },
   {
    "duration": 115,
    "start_time": "2023-01-15T13:32:04.097Z"
   },
   {
    "duration": 299,
    "start_time": "2023-01-15T13:32:04.214Z"
   },
   {
    "duration": 63,
    "start_time": "2023-01-15T13:32:04.515Z"
   },
   {
    "duration": 64,
    "start_time": "2023-01-15T13:32:04.579Z"
   },
   {
    "duration": 400,
    "start_time": "2023-01-15T13:32:04.645Z"
   },
   {
    "duration": 8,
    "start_time": "2023-01-15T13:32:05.047Z"
   },
   {
    "duration": 598,
    "start_time": "2023-01-15T13:32:05.056Z"
   },
   {
    "duration": 216,
    "start_time": "2023-01-15T13:32:05.656Z"
   },
   {
    "duration": 11,
    "start_time": "2023-01-15T13:32:05.876Z"
   },
   {
    "duration": 31,
    "start_time": "2023-01-15T13:32:05.888Z"
   },
   {
    "duration": 73,
    "start_time": "2023-01-15T13:32:05.921Z"
   },
   {
    "duration": 91,
    "start_time": "2023-01-15T13:32:05.997Z"
   },
   {
    "duration": 348,
    "start_time": "2023-01-15T13:32:06.090Z"
   },
   {
    "duration": 183,
    "start_time": "2023-01-15T13:32:06.440Z"
   },
   {
    "duration": 27,
    "start_time": "2023-01-15T13:32:06.624Z"
   },
   {
    "duration": 1631,
    "start_time": "2023-01-15T13:32:06.653Z"
   },
   {
    "duration": 1218,
    "start_time": "2023-01-15T13:32:55.633Z"
   },
   {
    "duration": 843,
    "start_time": "2023-01-15T13:32:56.853Z"
   },
   {
    "duration": 26,
    "start_time": "2023-01-15T13:32:57.698Z"
   },
   {
    "duration": 149,
    "start_time": "2023-01-15T13:32:57.728Z"
   },
   {
    "duration": 1051,
    "start_time": "2023-01-15T13:32:57.879Z"
   },
   {
    "duration": 665,
    "start_time": "2023-01-15T13:32:58.932Z"
   },
   {
    "duration": 132,
    "start_time": "2023-01-15T13:32:59.599Z"
   },
   {
    "duration": 547,
    "start_time": "2023-01-15T13:32:59.733Z"
   },
   {
    "duration": 5,
    "start_time": "2023-01-15T13:33:00.282Z"
   },
   {
    "duration": 57,
    "start_time": "2023-01-15T13:33:00.291Z"
   },
   {
    "duration": 707,
    "start_time": "2023-01-15T13:33:00.350Z"
   },
   {
    "duration": 353,
    "start_time": "2023-01-15T13:33:01.059Z"
   },
   {
    "duration": 1123,
    "start_time": "2023-01-15T13:33:01.414Z"
   },
   {
    "duration": 193,
    "start_time": "2023-01-15T13:33:02.539Z"
   },
   {
    "duration": 47,
    "start_time": "2023-01-15T13:33:02.734Z"
   },
   {
    "duration": 371,
    "start_time": "2023-01-15T13:33:02.783Z"
   },
   {
    "duration": 969,
    "start_time": "2023-01-15T13:33:03.156Z"
   },
   {
    "duration": 33,
    "start_time": "2023-01-15T13:33:04.127Z"
   },
   {
    "duration": 37,
    "start_time": "2023-01-15T13:33:04.162Z"
   },
   {
    "duration": 37,
    "start_time": "2023-01-15T13:33:04.201Z"
   },
   {
    "duration": 125,
    "start_time": "2023-01-15T13:33:04.239Z"
   },
   {
    "duration": 313,
    "start_time": "2023-01-15T13:33:04.366Z"
   },
   {
    "duration": 54,
    "start_time": "2023-01-15T13:33:04.681Z"
   },
   {
    "duration": 97,
    "start_time": "2023-01-15T13:33:04.736Z"
   },
   {
    "duration": 441,
    "start_time": "2023-01-15T13:33:04.834Z"
   },
   {
    "duration": 11,
    "start_time": "2023-01-15T13:33:05.277Z"
   },
   {
    "duration": 660,
    "start_time": "2023-01-15T13:33:05.292Z"
   },
   {
    "duration": 225,
    "start_time": "2023-01-15T13:33:05.956Z"
   },
   {
    "duration": 11,
    "start_time": "2023-01-15T13:33:06.182Z"
   },
   {
    "duration": 23,
    "start_time": "2023-01-15T13:33:06.195Z"
   },
   {
    "duration": 103,
    "start_time": "2023-01-15T13:33:06.219Z"
   },
   {
    "duration": 94,
    "start_time": "2023-01-15T13:33:06.324Z"
   },
   {
    "duration": 374,
    "start_time": "2023-01-15T13:33:06.421Z"
   },
   {
    "duration": 200,
    "start_time": "2023-01-15T13:33:06.797Z"
   },
   {
    "duration": 42,
    "start_time": "2023-01-15T13:33:06.999Z"
   },
   {
    "duration": 1647,
    "start_time": "2023-01-15T13:33:07.044Z"
   },
   {
    "duration": 1288,
    "start_time": "2023-01-15T13:38:18.169Z"
   },
   {
    "duration": 887,
    "start_time": "2023-01-15T13:38:19.459Z"
   },
   {
    "duration": 45,
    "start_time": "2023-01-15T13:38:20.348Z"
   },
   {
    "duration": 131,
    "start_time": "2023-01-15T13:38:20.395Z"
   },
   {
    "duration": 1022,
    "start_time": "2023-01-15T13:38:20.529Z"
   },
   {
    "duration": 741,
    "start_time": "2023-01-15T13:38:21.553Z"
   },
   {
    "duration": 136,
    "start_time": "2023-01-15T13:38:22.297Z"
   },
   {
    "duration": 496,
    "start_time": "2023-01-15T13:38:22.435Z"
   },
   {
    "duration": 3,
    "start_time": "2023-01-15T13:38:22.933Z"
   },
   {
    "duration": 51,
    "start_time": "2023-01-15T13:38:22.938Z"
   },
   {
    "duration": 646,
    "start_time": "2023-01-15T13:38:22.992Z"
   },
   {
    "duration": 364,
    "start_time": "2023-01-15T13:38:23.640Z"
   },
   {
    "duration": 1087,
    "start_time": "2023-01-15T13:38:24.007Z"
   },
   {
    "duration": 186,
    "start_time": "2023-01-15T13:38:25.097Z"
   },
   {
    "duration": 48,
    "start_time": "2023-01-15T13:38:25.286Z"
   },
   {
    "duration": 363,
    "start_time": "2023-01-15T13:38:25.336Z"
   },
   {
    "duration": 1022,
    "start_time": "2023-01-15T13:38:25.700Z"
   },
   {
    "duration": 32,
    "start_time": "2023-01-15T13:38:26.724Z"
   },
   {
    "duration": 36,
    "start_time": "2023-01-15T13:38:26.758Z"
   },
   {
    "duration": 28,
    "start_time": "2023-01-15T13:38:26.795Z"
   },
   {
    "duration": 124,
    "start_time": "2023-01-15T13:38:26.825Z"
   },
   {
    "duration": 317,
    "start_time": "2023-01-15T13:38:26.951Z"
   },
   {
    "duration": 61,
    "start_time": "2023-01-15T13:38:27.269Z"
   },
   {
    "duration": 96,
    "start_time": "2023-01-15T13:38:27.332Z"
   },
   {
    "duration": 388,
    "start_time": "2023-01-15T13:38:27.430Z"
   },
   {
    "duration": 10,
    "start_time": "2023-01-15T13:38:27.821Z"
   },
   {
    "duration": 663,
    "start_time": "2023-01-15T13:38:27.833Z"
   },
   {
    "duration": 234,
    "start_time": "2023-01-15T13:38:28.498Z"
   },
   {
    "duration": 9,
    "start_time": "2023-01-15T13:38:28.734Z"
   },
   {
    "duration": 4,
    "start_time": "2023-01-15T13:38:28.745Z"
   },
   {
    "duration": 91,
    "start_time": "2023-01-15T13:38:28.751Z"
   },
   {
    "duration": 223,
    "start_time": "2023-01-15T13:38:28.844Z"
   },
   {
    "duration": 447,
    "start_time": "2023-01-15T13:38:29.069Z"
   },
   {
    "duration": 215,
    "start_time": "2023-01-15T13:38:29.518Z"
   },
   {
    "duration": 74,
    "start_time": "2023-01-15T13:38:29.735Z"
   },
   {
    "duration": 3476,
    "start_time": "2023-01-15T13:38:29.812Z"
   },
   {
    "duration": 1187,
    "start_time": "2023-01-15T13:39:33.600Z"
   },
   {
    "duration": 830,
    "start_time": "2023-01-15T13:39:34.790Z"
   },
   {
    "duration": 27,
    "start_time": "2023-01-15T13:39:35.622Z"
   },
   {
    "duration": 137,
    "start_time": "2023-01-15T13:39:35.651Z"
   },
   {
    "duration": 945,
    "start_time": "2023-01-15T13:39:35.790Z"
   },
   {
    "duration": 634,
    "start_time": "2023-01-15T13:39:36.737Z"
   },
   {
    "duration": 122,
    "start_time": "2023-01-15T13:39:37.373Z"
   },
   {
    "duration": 492,
    "start_time": "2023-01-15T13:39:37.497Z"
   },
   {
    "duration": 6,
    "start_time": "2023-01-15T13:39:37.991Z"
   },
   {
    "duration": 26,
    "start_time": "2023-01-15T13:39:37.999Z"
   },
   {
    "duration": 671,
    "start_time": "2023-01-15T13:39:38.026Z"
   },
   {
    "duration": 335,
    "start_time": "2023-01-15T13:39:38.698Z"
   },
   {
    "duration": 1032,
    "start_time": "2023-01-15T13:39:39.034Z"
   },
   {
    "duration": 182,
    "start_time": "2023-01-15T13:39:40.068Z"
   },
   {
    "duration": 51,
    "start_time": "2023-01-15T13:39:40.252Z"
   },
   {
    "duration": 348,
    "start_time": "2023-01-15T13:39:40.305Z"
   },
   {
    "duration": 985,
    "start_time": "2023-01-15T13:39:40.655Z"
   },
   {
    "duration": 51,
    "start_time": "2023-01-15T13:39:41.642Z"
   },
   {
    "duration": 15,
    "start_time": "2023-01-15T13:39:41.695Z"
   },
   {
    "duration": 29,
    "start_time": "2023-01-15T13:39:41.712Z"
   },
   {
    "duration": 144,
    "start_time": "2023-01-15T13:39:41.742Z"
   },
   {
    "duration": 335,
    "start_time": "2023-01-15T13:39:41.887Z"
   },
   {
    "duration": 66,
    "start_time": "2023-01-15T13:39:42.224Z"
   },
   {
    "duration": 68,
    "start_time": "2023-01-15T13:39:42.292Z"
   },
   {
    "duration": 453,
    "start_time": "2023-01-15T13:39:42.362Z"
   },
   {
    "duration": 9,
    "start_time": "2023-01-15T13:39:42.817Z"
   },
   {
    "duration": 641,
    "start_time": "2023-01-15T13:39:42.828Z"
   },
   {
    "duration": 219,
    "start_time": "2023-01-15T13:39:43.479Z"
   },
   {
    "duration": 13,
    "start_time": "2023-01-15T13:39:43.701Z"
   },
   {
    "duration": 5,
    "start_time": "2023-01-15T13:39:43.716Z"
   },
   {
    "duration": 97,
    "start_time": "2023-01-15T13:39:43.723Z"
   },
   {
    "duration": 215,
    "start_time": "2023-01-15T13:39:43.822Z"
   },
   {
    "duration": 444,
    "start_time": "2023-01-15T13:39:44.039Z"
   },
   {
    "duration": 260,
    "start_time": "2023-01-15T13:39:44.485Z"
   },
   {
    "duration": 79,
    "start_time": "2023-01-15T13:39:44.747Z"
   },
   {
    "duration": 3653,
    "start_time": "2023-01-15T13:39:44.829Z"
   },
   {
    "duration": 1225,
    "start_time": "2023-01-15T13:41:41.551Z"
   },
   {
    "duration": 915,
    "start_time": "2023-01-15T13:41:42.784Z"
   },
   {
    "duration": 26,
    "start_time": "2023-01-15T13:41:43.700Z"
   },
   {
    "duration": 150,
    "start_time": "2023-01-15T13:41:43.728Z"
   },
   {
    "duration": 1054,
    "start_time": "2023-01-15T13:41:43.880Z"
   },
   {
    "duration": 730,
    "start_time": "2023-01-15T13:41:44.936Z"
   },
   {
    "duration": 131,
    "start_time": "2023-01-15T13:41:45.668Z"
   },
   {
    "duration": 531,
    "start_time": "2023-01-15T13:41:45.801Z"
   },
   {
    "duration": 5,
    "start_time": "2023-01-15T13:41:46.334Z"
   },
   {
    "duration": 50,
    "start_time": "2023-01-15T13:41:46.344Z"
   },
   {
    "duration": 679,
    "start_time": "2023-01-15T13:41:46.397Z"
   },
   {
    "duration": 349,
    "start_time": "2023-01-15T13:41:47.078Z"
   },
   {
    "duration": 1218,
    "start_time": "2023-01-15T13:41:47.429Z"
   },
   {
    "duration": 243,
    "start_time": "2023-01-15T13:41:48.649Z"
   },
   {
    "duration": 38,
    "start_time": "2023-01-15T13:41:48.894Z"
   },
   {
    "duration": 417,
    "start_time": "2023-01-15T13:41:48.934Z"
   },
   {
    "duration": 1057,
    "start_time": "2023-01-15T13:41:49.353Z"
   },
   {
    "duration": 34,
    "start_time": "2023-01-15T13:41:50.412Z"
   },
   {
    "duration": 33,
    "start_time": "2023-01-15T13:41:50.448Z"
   },
   {
    "duration": 51,
    "start_time": "2023-01-15T13:41:50.483Z"
   },
   {
    "duration": 128,
    "start_time": "2023-01-15T13:41:50.536Z"
   },
   {
    "duration": 377,
    "start_time": "2023-01-15T13:41:50.666Z"
   },
   {
    "duration": 59,
    "start_time": "2023-01-15T13:41:51.046Z"
   },
   {
    "duration": 81,
    "start_time": "2023-01-15T13:41:51.107Z"
   },
   {
    "duration": 420,
    "start_time": "2023-01-15T13:41:51.191Z"
   },
   {
    "duration": 8,
    "start_time": "2023-01-15T13:41:51.613Z"
   },
   {
    "duration": 687,
    "start_time": "2023-01-15T13:41:51.623Z"
   },
   {
    "duration": 230,
    "start_time": "2023-01-15T13:41:52.313Z"
   },
   {
    "duration": 10,
    "start_time": "2023-01-15T13:41:52.545Z"
   },
   {
    "duration": 27,
    "start_time": "2023-01-15T13:41:52.556Z"
   },
   {
    "duration": 93,
    "start_time": "2023-01-15T13:41:52.584Z"
   },
   {
    "duration": 35,
    "start_time": "2023-01-15T13:41:52.679Z"
   },
   {
    "duration": 237,
    "start_time": "2023-01-15T13:41:52.716Z"
   },
   {
    "duration": 468,
    "start_time": "2023-01-15T13:41:52.955Z"
   },
   {
    "duration": 239,
    "start_time": "2023-01-15T13:41:53.425Z"
   },
   {
    "duration": 74,
    "start_time": "2023-01-15T13:41:53.666Z"
   },
   {
    "duration": 4738,
    "start_time": "2023-01-15T13:41:53.742Z"
   },
   {
    "duration": 1180,
    "start_time": "2023-01-15T14:04:36.062Z"
   },
   {
    "duration": 857,
    "start_time": "2023-01-15T14:04:37.244Z"
   },
   {
    "duration": 27,
    "start_time": "2023-01-15T14:04:38.103Z"
   },
   {
    "duration": 166,
    "start_time": "2023-01-15T14:04:38.132Z"
   },
   {
    "duration": 980,
    "start_time": "2023-01-15T14:04:38.301Z"
   },
   {
    "duration": 663,
    "start_time": "2023-01-15T14:04:39.282Z"
   },
   {
    "duration": 143,
    "start_time": "2023-01-15T14:04:39.947Z"
   },
   {
    "duration": 509,
    "start_time": "2023-01-15T14:04:40.093Z"
   },
   {
    "duration": 4,
    "start_time": "2023-01-15T14:04:40.604Z"
   },
   {
    "duration": 34,
    "start_time": "2023-01-15T14:04:40.609Z"
   },
   {
    "duration": 667,
    "start_time": "2023-01-15T14:04:40.645Z"
   },
   {
    "duration": 248,
    "start_time": "2023-01-15T14:04:41.313Z"
   },
   {
    "duration": 1069,
    "start_time": "2023-01-15T14:04:41.563Z"
   },
   {
    "duration": 194,
    "start_time": "2023-01-15T14:04:42.636Z"
   },
   {
    "duration": 47,
    "start_time": "2023-01-15T14:04:42.833Z"
   },
   {
    "duration": 270,
    "start_time": "2023-01-15T14:04:42.882Z"
   },
   {
    "duration": 934,
    "start_time": "2023-01-15T14:04:43.154Z"
   },
   {
    "duration": 33,
    "start_time": "2023-01-15T14:04:44.090Z"
   },
   {
    "duration": 13,
    "start_time": "2023-01-15T14:04:44.125Z"
   },
   {
    "duration": 57,
    "start_time": "2023-01-15T14:04:44.140Z"
   },
   {
    "duration": 115,
    "start_time": "2023-01-15T14:04:44.198Z"
   },
   {
    "duration": 315,
    "start_time": "2023-01-15T14:04:44.315Z"
   },
   {
    "duration": 60,
    "start_time": "2023-01-15T14:04:44.632Z"
   },
   {
    "duration": 417,
    "start_time": "2023-01-15T14:04:44.693Z"
   },
   {
    "duration": 7,
    "start_time": "2023-01-15T14:04:45.112Z"
   },
   {
    "duration": 624,
    "start_time": "2023-01-15T14:04:45.121Z"
   },
   {
    "duration": 235,
    "start_time": "2023-01-15T14:04:45.747Z"
   },
   {
    "duration": 12,
    "start_time": "2023-01-15T14:04:45.987Z"
   },
   {
    "duration": 4,
    "start_time": "2023-01-15T14:04:46.001Z"
   },
   {
    "duration": 40,
    "start_time": "2023-01-15T14:04:46.007Z"
   },
   {
    "duration": 167,
    "start_time": "2023-01-15T14:04:46.049Z"
   },
   {
    "duration": 218,
    "start_time": "2023-01-15T14:04:46.218Z"
   },
   {
    "duration": 76,
    "start_time": "2023-01-15T14:04:46.438Z"
   },
   {
    "duration": 3673,
    "start_time": "2023-01-15T14:04:46.515Z"
   },
   {
    "duration": 485,
    "start_time": "2023-01-15T14:05:19.109Z"
   },
   {
    "duration": 486,
    "start_time": "2023-01-15T14:05:26.957Z"
   },
   {
    "duration": 586,
    "start_time": "2023-01-15T14:05:32.054Z"
   },
   {
    "duration": 471,
    "start_time": "2023-01-15T14:05:42.406Z"
   },
   {
    "duration": 472,
    "start_time": "2023-01-15T14:05:49.927Z"
   },
   {
    "duration": 43,
    "start_time": "2023-01-15T14:07:01.838Z"
   },
   {
    "duration": 65,
    "start_time": "2023-01-15T14:07:10.817Z"
   },
   {
    "duration": 500,
    "start_time": "2023-01-15T14:07:23.531Z"
   },
   {
    "duration": 1122,
    "start_time": "2023-01-15T14:07:36.326Z"
   },
   {
    "duration": 878,
    "start_time": "2023-01-15T14:07:37.450Z"
   },
   {
    "duration": 33,
    "start_time": "2023-01-15T14:07:38.330Z"
   },
   {
    "duration": 162,
    "start_time": "2023-01-15T14:07:38.378Z"
   },
   {
    "duration": 982,
    "start_time": "2023-01-15T14:07:38.543Z"
   },
   {
    "duration": 686,
    "start_time": "2023-01-15T14:07:39.527Z"
   },
   {
    "duration": 112,
    "start_time": "2023-01-15T14:07:40.214Z"
   },
   {
    "duration": 533,
    "start_time": "2023-01-15T14:07:40.328Z"
   },
   {
    "duration": 5,
    "start_time": "2023-01-15T14:07:40.862Z"
   },
   {
    "duration": 29,
    "start_time": "2023-01-15T14:07:40.877Z"
   },
   {
    "duration": 690,
    "start_time": "2023-01-15T14:07:40.909Z"
   },
   {
    "duration": 254,
    "start_time": "2023-01-15T14:07:41.601Z"
   },
   {
    "duration": 1067,
    "start_time": "2023-01-15T14:07:41.857Z"
   },
   {
    "duration": 185,
    "start_time": "2023-01-15T14:07:42.929Z"
   },
   {
    "duration": 36,
    "start_time": "2023-01-15T14:07:43.117Z"
   },
   {
    "duration": 287,
    "start_time": "2023-01-15T14:07:43.155Z"
   },
   {
    "duration": 941,
    "start_time": "2023-01-15T14:07:43.443Z"
   },
   {
    "duration": 36,
    "start_time": "2023-01-15T14:07:44.386Z"
   },
   {
    "duration": 17,
    "start_time": "2023-01-15T14:07:44.424Z"
   },
   {
    "duration": 57,
    "start_time": "2023-01-15T14:07:44.443Z"
   },
   {
    "duration": 129,
    "start_time": "2023-01-15T14:07:44.502Z"
   },
   {
    "duration": 306,
    "start_time": "2023-01-15T14:07:44.633Z"
   },
   {
    "duration": 65,
    "start_time": "2023-01-15T14:07:44.941Z"
   },
   {
    "duration": 409,
    "start_time": "2023-01-15T14:07:45.008Z"
   },
   {
    "duration": 8,
    "start_time": "2023-01-15T14:07:45.418Z"
   },
   {
    "duration": 646,
    "start_time": "2023-01-15T14:07:45.428Z"
   },
   {
    "duration": 209,
    "start_time": "2023-01-15T14:07:46.076Z"
   },
   {
    "duration": 31,
    "start_time": "2023-01-15T14:07:46.287Z"
   },
   {
    "duration": 10,
    "start_time": "2023-01-15T14:07:46.320Z"
   },
   {
    "duration": 17,
    "start_time": "2023-01-15T14:07:46.331Z"
   },
   {
    "duration": 175,
    "start_time": "2023-01-15T14:07:46.349Z"
   },
   {
    "duration": 230,
    "start_time": "2023-01-15T14:07:46.525Z"
   },
   {
    "duration": 79,
    "start_time": "2023-01-15T14:07:46.757Z"
   },
   {
    "duration": 82,
    "start_time": "2023-01-15T14:07:46.838Z"
   },
   {
    "duration": 3461,
    "start_time": "2023-01-15T14:07:46.922Z"
   },
   {
    "duration": 429,
    "start_time": "2023-01-15T14:10:14.372Z"
   },
   {
    "duration": 403,
    "start_time": "2023-01-15T14:10:33.247Z"
   },
   {
    "duration": 485,
    "start_time": "2023-01-15T14:11:25.633Z"
   },
   {
    "duration": 485,
    "start_time": "2023-01-15T14:11:37.579Z"
   },
   {
    "duration": 395,
    "start_time": "2023-01-15T14:11:47.176Z"
   },
   {
    "duration": 383,
    "start_time": "2023-01-15T14:11:59.164Z"
   },
   {
    "duration": 387,
    "start_time": "2023-01-15T14:12:03.764Z"
   },
   {
    "duration": 372,
    "start_time": "2023-01-15T14:12:07.292Z"
   },
   {
    "duration": 491,
    "start_time": "2023-01-15T14:12:11.713Z"
   },
   {
    "duration": 419,
    "start_time": "2023-01-15T14:12:18.715Z"
   },
   {
    "duration": 397,
    "start_time": "2023-01-15T14:12:23.669Z"
   },
   {
    "duration": 154,
    "start_time": "2023-01-15T14:13:04.390Z"
   },
   {
    "duration": 141,
    "start_time": "2023-01-15T14:13:31.504Z"
   },
   {
    "duration": 146,
    "start_time": "2023-01-15T14:13:47.729Z"
   },
   {
    "duration": 399,
    "start_time": "2023-01-15T14:14:06.350Z"
   },
   {
    "duration": 521,
    "start_time": "2023-01-15T14:14:22.173Z"
   },
   {
    "duration": 151,
    "start_time": "2023-01-15T14:14:23.513Z"
   },
   {
    "duration": 1164,
    "start_time": "2023-01-15T15:26:36.495Z"
   },
   {
    "duration": 918,
    "start_time": "2023-01-15T15:26:37.661Z"
   },
   {
    "duration": 28,
    "start_time": "2023-01-15T15:26:38.581Z"
   },
   {
    "duration": 141,
    "start_time": "2023-01-15T15:26:38.611Z"
   },
   {
    "duration": 973,
    "start_time": "2023-01-15T15:26:38.753Z"
   },
   {
    "duration": 668,
    "start_time": "2023-01-15T15:26:39.727Z"
   },
   {
    "duration": 126,
    "start_time": "2023-01-15T15:26:40.397Z"
   },
   {
    "duration": 541,
    "start_time": "2023-01-15T15:26:40.524Z"
   },
   {
    "duration": 5,
    "start_time": "2023-01-15T15:26:41.066Z"
   },
   {
    "duration": 36,
    "start_time": "2023-01-15T15:26:41.079Z"
   },
   {
    "duration": 671,
    "start_time": "2023-01-15T15:26:41.116Z"
   },
   {
    "duration": 254,
    "start_time": "2023-01-15T15:26:41.789Z"
   },
   {
    "duration": 1052,
    "start_time": "2023-01-15T15:26:42.045Z"
   },
   {
    "duration": 187,
    "start_time": "2023-01-15T15:26:43.098Z"
   },
   {
    "duration": 36,
    "start_time": "2023-01-15T15:26:43.286Z"
   },
   {
    "duration": 285,
    "start_time": "2023-01-15T15:26:43.324Z"
   },
   {
    "duration": 938,
    "start_time": "2023-01-15T15:26:43.611Z"
   },
   {
    "duration": 44,
    "start_time": "2023-01-15T15:26:44.551Z"
   },
   {
    "duration": 19,
    "start_time": "2023-01-15T15:26:44.597Z"
   },
   {
    "duration": 37,
    "start_time": "2023-01-15T15:26:44.617Z"
   },
   {
    "duration": 120,
    "start_time": "2023-01-15T15:26:44.677Z"
   },
   {
    "duration": 341,
    "start_time": "2023-01-15T15:26:44.799Z"
   },
   {
    "duration": 71,
    "start_time": "2023-01-15T15:26:45.142Z"
   },
   {
    "duration": 412,
    "start_time": "2023-01-15T15:26:45.215Z"
   },
   {
    "duration": 10,
    "start_time": "2023-01-15T15:26:45.629Z"
   },
   {
    "duration": 678,
    "start_time": "2023-01-15T15:26:45.640Z"
   },
   {
    "duration": 245,
    "start_time": "2023-01-15T15:26:46.320Z"
   },
   {
    "duration": 40,
    "start_time": "2023-01-15T15:26:46.569Z"
   },
   {
    "duration": 11,
    "start_time": "2023-01-15T15:26:46.611Z"
   },
   {
    "duration": 5,
    "start_time": "2023-01-15T15:26:46.623Z"
   },
   {
    "duration": 185,
    "start_time": "2023-01-15T15:26:46.629Z"
   },
   {
    "duration": 212,
    "start_time": "2023-01-15T15:26:46.816Z"
   },
   {
    "duration": 78,
    "start_time": "2023-01-15T15:26:47.030Z"
   },
   {
    "duration": 411,
    "start_time": "2023-01-15T15:26:47.110Z"
   },
   {
    "duration": 263,
    "start_time": "2023-01-15T15:26:47.522Z"
   },
   {
    "duration": 386,
    "start_time": "2023-01-15T15:26:47.787Z"
   },
   {
    "duration": 525,
    "start_time": "2023-01-15T15:26:48.175Z"
   },
   {
    "duration": 170,
    "start_time": "2023-01-15T15:26:48.702Z"
   },
   {
    "duration": 62,
    "start_time": "2023-01-15T15:26:48.875Z"
   },
   {
    "duration": 4440,
    "start_time": "2023-01-15T15:26:48.939Z"
   },
   {
    "duration": 372,
    "start_time": "2023-01-15T15:27:36.863Z"
   },
   {
    "duration": 144,
    "start_time": "2023-01-15T15:27:49.877Z"
   },
   {
    "duration": 281,
    "start_time": "2023-01-15T15:28:24.721Z"
   },
   {
    "duration": 320,
    "start_time": "2023-01-15T15:28:40.020Z"
   },
   {
    "duration": 1235,
    "start_time": "2023-01-15T15:30:13.548Z"
   },
   {
    "duration": 877,
    "start_time": "2023-01-15T15:30:14.785Z"
   },
   {
    "duration": 44,
    "start_time": "2023-01-15T15:30:15.664Z"
   },
   {
    "duration": 141,
    "start_time": "2023-01-15T15:30:15.710Z"
   },
   {
    "duration": 1005,
    "start_time": "2023-01-15T15:30:15.855Z"
   },
   {
    "duration": 654,
    "start_time": "2023-01-15T15:30:16.861Z"
   },
   {
    "duration": 117,
    "start_time": "2023-01-15T15:30:17.517Z"
   },
   {
    "duration": 557,
    "start_time": "2023-01-15T15:30:17.636Z"
   },
   {
    "duration": 4,
    "start_time": "2023-01-15T15:30:18.195Z"
   },
   {
    "duration": 44,
    "start_time": "2023-01-15T15:30:18.201Z"
   },
   {
    "duration": 703,
    "start_time": "2023-01-15T15:30:18.248Z"
   },
   {
    "duration": 253,
    "start_time": "2023-01-15T15:30:18.953Z"
   },
   {
    "duration": 1084,
    "start_time": "2023-01-15T15:30:19.209Z"
   },
   {
    "duration": 184,
    "start_time": "2023-01-15T15:30:20.296Z"
   },
   {
    "duration": 38,
    "start_time": "2023-01-15T15:30:20.481Z"
   },
   {
    "duration": 282,
    "start_time": "2023-01-15T15:30:20.521Z"
   },
   {
    "duration": 986,
    "start_time": "2023-01-15T15:30:20.805Z"
   },
   {
    "duration": 36,
    "start_time": "2023-01-15T15:30:21.793Z"
   },
   {
    "duration": 16,
    "start_time": "2023-01-15T15:30:21.831Z"
   },
   {
    "duration": 35,
    "start_time": "2023-01-15T15:30:21.885Z"
   },
   {
    "duration": 138,
    "start_time": "2023-01-15T15:30:21.922Z"
   },
   {
    "duration": 333,
    "start_time": "2023-01-15T15:30:22.062Z"
   },
   {
    "duration": 57,
    "start_time": "2023-01-15T15:30:22.397Z"
   },
   {
    "duration": 481,
    "start_time": "2023-01-15T15:30:22.456Z"
   },
   {
    "duration": 10,
    "start_time": "2023-01-15T15:30:22.939Z"
   },
   {
    "duration": 695,
    "start_time": "2023-01-15T15:30:22.951Z"
   },
   {
    "duration": 219,
    "start_time": "2023-01-15T15:30:23.648Z"
   },
   {
    "duration": 37,
    "start_time": "2023-01-15T15:30:23.869Z"
   },
   {
    "duration": 10,
    "start_time": "2023-01-15T15:30:23.908Z"
   },
   {
    "duration": 4,
    "start_time": "2023-01-15T15:30:23.920Z"
   },
   {
    "duration": 190,
    "start_time": "2023-01-15T15:30:23.926Z"
   },
   {
    "duration": 211,
    "start_time": "2023-01-15T15:30:24.119Z"
   },
   {
    "duration": 77,
    "start_time": "2023-01-15T15:30:24.331Z"
   },
   {
    "duration": 393,
    "start_time": "2023-01-15T15:30:24.410Z"
   },
   {
    "duration": 242,
    "start_time": "2023-01-15T15:30:24.805Z"
   },
   {
    "duration": 396,
    "start_time": "2023-01-15T15:30:25.048Z"
   },
   {
    "duration": 336,
    "start_time": "2023-01-15T15:30:25.446Z"
   },
   {
    "duration": 164,
    "start_time": "2023-01-15T15:30:25.783Z"
   },
   {
    "duration": 75,
    "start_time": "2023-01-15T15:30:25.948Z"
   },
   {
    "duration": 3959,
    "start_time": "2023-01-15T15:30:26.025Z"
   },
   {
    "duration": 247,
    "start_time": "2023-01-15T15:31:04.542Z"
   },
   {
    "duration": 420,
    "start_time": "2023-01-15T15:31:05.083Z"
   },
   {
    "duration": 258,
    "start_time": "2023-01-15T15:31:08.348Z"
   },
   {
    "duration": 404,
    "start_time": "2023-01-15T15:31:08.763Z"
   },
   {
    "duration": 321,
    "start_time": "2023-01-15T15:31:12.212Z"
   },
   {
    "duration": 1206,
    "start_time": "2023-01-15T15:34:24.252Z"
   },
   {
    "duration": 867,
    "start_time": "2023-01-15T15:34:25.460Z"
   },
   {
    "duration": 27,
    "start_time": "2023-01-15T15:34:26.329Z"
   },
   {
    "duration": 133,
    "start_time": "2023-01-15T15:34:26.358Z"
   },
   {
    "duration": 953,
    "start_time": "2023-01-15T15:34:26.493Z"
   },
   {
    "duration": 659,
    "start_time": "2023-01-15T15:34:27.448Z"
   },
   {
    "duration": 124,
    "start_time": "2023-01-15T15:34:28.109Z"
   },
   {
    "duration": 569,
    "start_time": "2023-01-15T15:34:28.235Z"
   },
   {
    "duration": 5,
    "start_time": "2023-01-15T15:34:28.806Z"
   },
   {
    "duration": 30,
    "start_time": "2023-01-15T15:34:28.814Z"
   },
   {
    "duration": 616,
    "start_time": "2023-01-15T15:34:28.846Z"
   },
   {
    "duration": 254,
    "start_time": "2023-01-15T15:34:29.464Z"
   },
   {
    "duration": 1080,
    "start_time": "2023-01-15T15:34:29.720Z"
   },
   {
    "duration": 216,
    "start_time": "2023-01-15T15:34:30.803Z"
   },
   {
    "duration": 39,
    "start_time": "2023-01-15T15:34:31.021Z"
   },
   {
    "duration": 296,
    "start_time": "2023-01-15T15:34:31.062Z"
   },
   {
    "duration": 956,
    "start_time": "2023-01-15T15:34:31.360Z"
   },
   {
    "duration": 38,
    "start_time": "2023-01-15T15:34:32.318Z"
   },
   {
    "duration": 36,
    "start_time": "2023-01-15T15:34:32.358Z"
   },
   {
    "duration": 46,
    "start_time": "2023-01-15T15:34:32.395Z"
   },
   {
    "duration": 132,
    "start_time": "2023-01-15T15:34:32.443Z"
   },
   {
    "duration": 333,
    "start_time": "2023-01-15T15:34:32.577Z"
   },
   {
    "duration": 69,
    "start_time": "2023-01-15T15:34:32.911Z"
   },
   {
    "duration": 405,
    "start_time": "2023-01-15T15:34:32.982Z"
   },
   {
    "duration": 9,
    "start_time": "2023-01-15T15:34:33.388Z"
   },
   {
    "duration": 653,
    "start_time": "2023-01-15T15:34:33.399Z"
   },
   {
    "duration": 248,
    "start_time": "2023-01-15T15:34:34.054Z"
   },
   {
    "duration": 34,
    "start_time": "2023-01-15T15:34:34.305Z"
   },
   {
    "duration": 15,
    "start_time": "2023-01-15T15:34:34.341Z"
   },
   {
    "duration": 21,
    "start_time": "2023-01-15T15:34:34.357Z"
   },
   {
    "duration": 178,
    "start_time": "2023-01-15T15:34:34.380Z"
   },
   {
    "duration": 202,
    "start_time": "2023-01-15T15:34:34.560Z"
   },
   {
    "duration": 78,
    "start_time": "2023-01-15T15:34:34.764Z"
   },
   {
    "duration": 396,
    "start_time": "2023-01-15T15:34:34.844Z"
   },
   {
    "duration": 248,
    "start_time": "2023-01-15T15:34:35.242Z"
   },
   {
    "duration": 420,
    "start_time": "2023-01-15T15:34:35.492Z"
   },
   {
    "duration": 407,
    "start_time": "2023-01-15T15:34:35.914Z"
   },
   {
    "duration": 164,
    "start_time": "2023-01-15T15:34:36.323Z"
   },
   {
    "duration": 60,
    "start_time": "2023-01-15T15:34:36.489Z"
   },
   {
    "duration": 4128,
    "start_time": "2023-01-15T15:34:36.551Z"
   },
   {
    "duration": 1150,
    "start_time": "2023-01-15T15:35:37.093Z"
   },
   {
    "duration": 880,
    "start_time": "2023-01-15T15:35:38.248Z"
   },
   {
    "duration": 29,
    "start_time": "2023-01-15T15:35:39.129Z"
   },
   {
    "duration": 135,
    "start_time": "2023-01-15T15:35:39.160Z"
   },
   {
    "duration": 964,
    "start_time": "2023-01-15T15:35:39.297Z"
   },
   {
    "duration": 654,
    "start_time": "2023-01-15T15:35:40.263Z"
   },
   {
    "duration": 129,
    "start_time": "2023-01-15T15:35:40.919Z"
   },
   {
    "duration": 540,
    "start_time": "2023-01-15T15:35:41.050Z"
   },
   {
    "duration": 4,
    "start_time": "2023-01-15T15:35:41.592Z"
   },
   {
    "duration": 27,
    "start_time": "2023-01-15T15:35:41.598Z"
   },
   {
    "duration": 649,
    "start_time": "2023-01-15T15:35:41.627Z"
   },
   {
    "duration": 255,
    "start_time": "2023-01-15T15:35:42.278Z"
   },
   {
    "duration": 1018,
    "start_time": "2023-01-15T15:35:42.537Z"
   },
   {
    "duration": 178,
    "start_time": "2023-01-15T15:35:43.557Z"
   },
   {
    "duration": 47,
    "start_time": "2023-01-15T15:35:43.737Z"
   },
   {
    "duration": 282,
    "start_time": "2023-01-15T15:35:43.786Z"
   },
   {
    "duration": 922,
    "start_time": "2023-01-15T15:35:44.070Z"
   },
   {
    "duration": 38,
    "start_time": "2023-01-15T15:35:44.994Z"
   },
   {
    "duration": 31,
    "start_time": "2023-01-15T15:35:45.034Z"
   },
   {
    "duration": 38,
    "start_time": "2023-01-15T15:35:45.077Z"
   },
   {
    "duration": 132,
    "start_time": "2023-01-15T15:35:45.117Z"
   },
   {
    "duration": 323,
    "start_time": "2023-01-15T15:35:45.251Z"
   },
   {
    "duration": 56,
    "start_time": "2023-01-15T15:35:45.577Z"
   },
   {
    "duration": 423,
    "start_time": "2023-01-15T15:35:45.634Z"
   },
   {
    "duration": 8,
    "start_time": "2023-01-15T15:35:46.059Z"
   },
   {
    "duration": 631,
    "start_time": "2023-01-15T15:35:46.078Z"
   },
   {
    "duration": 200,
    "start_time": "2023-01-15T15:35:46.711Z"
   },
   {
    "duration": 35,
    "start_time": "2023-01-15T15:35:46.913Z"
   },
   {
    "duration": 33,
    "start_time": "2023-01-15T15:35:46.949Z"
   },
   {
    "duration": 6,
    "start_time": "2023-01-15T15:35:46.984Z"
   },
   {
    "duration": 168,
    "start_time": "2023-01-15T15:35:46.991Z"
   },
   {
    "duration": 209,
    "start_time": "2023-01-15T15:35:47.161Z"
   },
   {
    "duration": 69,
    "start_time": "2023-01-15T15:35:47.371Z"
   },
   {
    "duration": 400,
    "start_time": "2023-01-15T15:35:47.442Z"
   },
   {
    "duration": 243,
    "start_time": "2023-01-15T15:35:47.843Z"
   },
   {
    "duration": 434,
    "start_time": "2023-01-15T15:35:48.087Z"
   },
   {
    "duration": 329,
    "start_time": "2023-01-15T15:35:48.523Z"
   },
   {
    "duration": 148,
    "start_time": "2023-01-15T15:35:48.854Z"
   },
   {
    "duration": 79,
    "start_time": "2023-01-15T15:35:49.004Z"
   },
   {
    "duration": 4091,
    "start_time": "2023-01-15T15:35:49.087Z"
   },
   {
    "duration": 905,
    "start_time": "2023-01-15T15:36:57.229Z"
   },
   {
    "duration": 585,
    "start_time": "2023-01-15T15:37:06.480Z"
   },
   {
    "duration": 638,
    "start_time": "2023-01-15T15:37:14.002Z"
   },
   {
    "duration": 904,
    "start_time": "2023-01-15T15:37:20.673Z"
   },
   {
    "duration": 1110,
    "start_time": "2023-01-15T15:37:24.924Z"
   },
   {
    "duration": 898,
    "start_time": "2023-01-15T15:37:26.036Z"
   },
   {
    "duration": 41,
    "start_time": "2023-01-15T15:37:26.936Z"
   },
   {
    "duration": 125,
    "start_time": "2023-01-15T15:37:26.980Z"
   },
   {
    "duration": 994,
    "start_time": "2023-01-15T15:37:27.107Z"
   },
   {
    "duration": 755,
    "start_time": "2023-01-15T15:37:28.104Z"
   },
   {
    "duration": 122,
    "start_time": "2023-01-15T15:37:28.862Z"
   },
   {
    "duration": 516,
    "start_time": "2023-01-15T15:37:28.986Z"
   },
   {
    "duration": 5,
    "start_time": "2023-01-15T15:37:29.504Z"
   },
   {
    "duration": 27,
    "start_time": "2023-01-15T15:37:29.511Z"
   },
   {
    "duration": 690,
    "start_time": "2023-01-15T15:37:29.540Z"
   },
   {
    "duration": 243,
    "start_time": "2023-01-15T15:37:30.232Z"
   },
   {
    "duration": 1032,
    "start_time": "2023-01-15T15:37:30.477Z"
   },
   {
    "duration": 177,
    "start_time": "2023-01-15T15:37:31.512Z"
   },
   {
    "duration": 37,
    "start_time": "2023-01-15T15:37:31.690Z"
   },
   {
    "duration": 302,
    "start_time": "2023-01-15T15:37:31.729Z"
   },
   {
    "duration": 924,
    "start_time": "2023-01-15T15:37:32.033Z"
   },
   {
    "duration": 44,
    "start_time": "2023-01-15T15:37:32.958Z"
   },
   {
    "duration": 15,
    "start_time": "2023-01-15T15:37:33.004Z"
   },
   {
    "duration": 32,
    "start_time": "2023-01-15T15:37:33.021Z"
   },
   {
    "duration": 143,
    "start_time": "2023-01-15T15:37:33.054Z"
   },
   {
    "duration": 314,
    "start_time": "2023-01-15T15:37:33.200Z"
   },
   {
    "duration": 66,
    "start_time": "2023-01-15T15:37:33.516Z"
   },
   {
    "duration": 396,
    "start_time": "2023-01-15T15:37:33.584Z"
   },
   {
    "duration": 8,
    "start_time": "2023-01-15T15:37:33.982Z"
   },
   {
    "duration": 616,
    "start_time": "2023-01-15T15:37:33.992Z"
   },
   {
    "duration": 201,
    "start_time": "2023-01-15T15:37:34.610Z"
   },
   {
    "duration": 37,
    "start_time": "2023-01-15T15:37:34.814Z"
   },
   {
    "duration": 29,
    "start_time": "2023-01-15T15:37:34.852Z"
   },
   {
    "duration": 4,
    "start_time": "2023-01-15T15:37:34.883Z"
   },
   {
    "duration": 184,
    "start_time": "2023-01-15T15:37:34.888Z"
   },
   {
    "duration": 206,
    "start_time": "2023-01-15T15:37:35.074Z"
   },
   {
    "duration": 74,
    "start_time": "2023-01-15T15:37:35.282Z"
   },
   {
    "duration": 912,
    "start_time": "2023-01-15T15:37:35.358Z"
   },
   {
    "duration": 242,
    "start_time": "2023-01-15T15:37:36.272Z"
   },
   {
    "duration": 634,
    "start_time": "2023-01-15T15:37:36.516Z"
   },
   {
    "duration": 66,
    "start_time": "2023-01-15T15:37:37.151Z"
   },
   {
    "duration": 4068,
    "start_time": "2023-01-15T15:37:37.218Z"
   },
   {
    "duration": 926,
    "start_time": "2023-01-15T15:38:47.522Z"
   },
   {
    "duration": 1134,
    "start_time": "2023-01-15T15:38:52.999Z"
   },
   {
    "duration": 819,
    "start_time": "2023-01-15T15:38:54.135Z"
   },
   {
    "duration": 32,
    "start_time": "2023-01-15T15:38:54.956Z"
   },
   {
    "duration": 125,
    "start_time": "2023-01-15T15:38:54.990Z"
   },
   {
    "duration": 932,
    "start_time": "2023-01-15T15:38:55.117Z"
   },
   {
    "duration": 633,
    "start_time": "2023-01-15T15:38:56.051Z"
   },
   {
    "duration": 118,
    "start_time": "2023-01-15T15:38:56.686Z"
   },
   {
    "duration": 485,
    "start_time": "2023-01-15T15:38:56.805Z"
   },
   {
    "duration": 4,
    "start_time": "2023-01-15T15:38:57.292Z"
   },
   {
    "duration": 29,
    "start_time": "2023-01-15T15:38:57.299Z"
   },
   {
    "duration": 609,
    "start_time": "2023-01-15T15:38:57.330Z"
   },
   {
    "duration": 254,
    "start_time": "2023-01-15T15:38:57.941Z"
   },
   {
    "duration": 1048,
    "start_time": "2023-01-15T15:38:58.197Z"
   },
   {
    "duration": 173,
    "start_time": "2023-01-15T15:38:59.247Z"
   },
   {
    "duration": 37,
    "start_time": "2023-01-15T15:38:59.421Z"
   },
   {
    "duration": 265,
    "start_time": "2023-01-15T15:38:59.460Z"
   },
   {
    "duration": 893,
    "start_time": "2023-01-15T15:38:59.727Z"
   },
   {
    "duration": 36,
    "start_time": "2023-01-15T15:39:00.622Z"
   },
   {
    "duration": 15,
    "start_time": "2023-01-15T15:39:00.677Z"
   },
   {
    "duration": 36,
    "start_time": "2023-01-15T15:39:00.694Z"
   },
   {
    "duration": 138,
    "start_time": "2023-01-15T15:39:00.731Z"
   },
   {
    "duration": 338,
    "start_time": "2023-01-15T15:39:00.871Z"
   },
   {
    "duration": 67,
    "start_time": "2023-01-15T15:39:01.211Z"
   },
   {
    "duration": 1105,
    "start_time": "2023-01-15T15:39:01.280Z"
   },
   {
    "duration": 8,
    "start_time": "2023-01-15T15:39:02.387Z"
   },
   {
    "duration": 494,
    "start_time": "2023-01-15T15:39:02.397Z"
   },
   {
    "duration": 200,
    "start_time": "2023-01-15T15:39:02.894Z"
   },
   {
    "duration": 31,
    "start_time": "2023-01-15T15:39:03.097Z"
   },
   {
    "duration": 10,
    "start_time": "2023-01-15T15:39:03.130Z"
   },
   {
    "duration": 4,
    "start_time": "2023-01-15T15:39:03.142Z"
   },
   {
    "duration": 146,
    "start_time": "2023-01-15T15:39:03.178Z"
   },
   {
    "duration": 209,
    "start_time": "2023-01-15T15:39:03.326Z"
   },
   {
    "duration": 78,
    "start_time": "2023-01-15T15:39:03.536Z"
   },
   {
    "duration": 1025,
    "start_time": "2023-01-15T15:39:03.616Z"
   },
   {
    "duration": 239,
    "start_time": "2023-01-15T15:39:04.643Z"
   },
   {
    "duration": 521,
    "start_time": "2023-01-15T15:39:04.883Z"
   },
   {
    "duration": 72,
    "start_time": "2023-01-15T15:39:05.406Z"
   },
   {
    "duration": 4100,
    "start_time": "2023-01-15T15:39:05.480Z"
   },
   {
    "duration": 1137,
    "start_time": "2023-01-15T15:50:59.731Z"
   },
   {
    "duration": 931,
    "start_time": "2023-01-15T15:51:00.870Z"
   },
   {
    "duration": 29,
    "start_time": "2023-01-15T15:51:01.802Z"
   },
   {
    "duration": 158,
    "start_time": "2023-01-15T15:51:01.833Z"
   },
   {
    "duration": 969,
    "start_time": "2023-01-15T15:51:01.992Z"
   },
   {
    "duration": 671,
    "start_time": "2023-01-15T15:51:02.962Z"
   },
   {
    "duration": 117,
    "start_time": "2023-01-15T15:51:03.635Z"
   },
   {
    "duration": 499,
    "start_time": "2023-01-15T15:51:03.754Z"
   },
   {
    "duration": 6,
    "start_time": "2023-01-15T15:51:04.255Z"
   },
   {
    "duration": 26,
    "start_time": "2023-01-15T15:51:04.278Z"
   },
   {
    "duration": 659,
    "start_time": "2023-01-15T15:51:04.306Z"
   },
   {
    "duration": 269,
    "start_time": "2023-01-15T15:51:04.967Z"
   },
   {
    "duration": 1087,
    "start_time": "2023-01-15T15:51:05.238Z"
   },
   {
    "duration": 186,
    "start_time": "2023-01-15T15:51:06.328Z"
   },
   {
    "duration": 39,
    "start_time": "2023-01-15T15:51:06.516Z"
   },
   {
    "duration": 284,
    "start_time": "2023-01-15T15:51:06.557Z"
   },
   {
    "duration": 965,
    "start_time": "2023-01-15T15:51:06.843Z"
   },
   {
    "duration": 34,
    "start_time": "2023-01-15T15:51:07.809Z"
   },
   {
    "duration": 16,
    "start_time": "2023-01-15T15:51:07.845Z"
   },
   {
    "duration": 30,
    "start_time": "2023-01-15T15:51:07.878Z"
   },
   {
    "duration": 147,
    "start_time": "2023-01-15T15:51:07.911Z"
   },
   {
    "duration": 377,
    "start_time": "2023-01-15T15:51:08.059Z"
   },
   {
    "duration": 76,
    "start_time": "2023-01-15T15:51:08.439Z"
   },
   {
    "duration": 1032,
    "start_time": "2023-01-15T15:51:08.517Z"
   },
   {
    "duration": 8,
    "start_time": "2023-01-15T15:51:09.551Z"
   },
   {
    "duration": 503,
    "start_time": "2023-01-15T15:51:09.561Z"
   },
   {
    "duration": 213,
    "start_time": "2023-01-15T15:51:10.065Z"
   },
   {
    "duration": 33,
    "start_time": "2023-01-15T15:51:10.281Z"
   },
   {
    "duration": 13,
    "start_time": "2023-01-15T15:51:10.315Z"
   },
   {
    "duration": 5,
    "start_time": "2023-01-15T15:51:10.330Z"
   },
   {
    "duration": 187,
    "start_time": "2023-01-15T15:51:10.337Z"
   },
   {
    "duration": 212,
    "start_time": "2023-01-15T15:51:10.527Z"
   },
   {
    "duration": 77,
    "start_time": "2023-01-15T15:51:10.742Z"
   },
   {
    "duration": 1072,
    "start_time": "2023-01-15T15:51:10.820Z"
   },
   {
    "duration": 249,
    "start_time": "2023-01-15T15:51:11.894Z"
   },
   {
    "duration": 520,
    "start_time": "2023-01-15T15:51:12.145Z"
   },
   {
    "duration": 77,
    "start_time": "2023-01-15T15:51:12.666Z"
   },
   {
    "duration": 3936,
    "start_time": "2023-01-15T15:51:12.745Z"
   },
   {
    "duration": 64,
    "start_time": "2023-01-15T15:52:01.967Z"
   },
   {
    "duration": 1193,
    "start_time": "2023-01-15T15:52:44.355Z"
   },
   {
    "duration": 802,
    "start_time": "2023-01-15T15:52:45.550Z"
   },
   {
    "duration": 33,
    "start_time": "2023-01-15T15:52:46.356Z"
   },
   {
    "duration": 139,
    "start_time": "2023-01-15T15:52:46.391Z"
   },
   {
    "duration": 904,
    "start_time": "2023-01-15T15:52:46.532Z"
   },
   {
    "duration": 642,
    "start_time": "2023-01-15T15:52:47.439Z"
   },
   {
    "duration": 119,
    "start_time": "2023-01-15T15:52:48.083Z"
   },
   {
    "duration": 552,
    "start_time": "2023-01-15T15:52:48.203Z"
   },
   {
    "duration": 4,
    "start_time": "2023-01-15T15:52:48.757Z"
   },
   {
    "duration": 36,
    "start_time": "2023-01-15T15:52:48.763Z"
   },
   {
    "duration": 629,
    "start_time": "2023-01-15T15:52:48.800Z"
   },
   {
    "duration": 242,
    "start_time": "2023-01-15T15:52:49.431Z"
   },
   {
    "duration": 1011,
    "start_time": "2023-01-15T15:52:49.677Z"
   },
   {
    "duration": 187,
    "start_time": "2023-01-15T15:52:50.690Z"
   },
   {
    "duration": 36,
    "start_time": "2023-01-15T15:52:50.879Z"
   },
   {
    "duration": 274,
    "start_time": "2023-01-15T15:52:50.916Z"
   },
   {
    "duration": 912,
    "start_time": "2023-01-15T15:52:51.192Z"
   },
   {
    "duration": 33,
    "start_time": "2023-01-15T15:52:52.106Z"
   },
   {
    "duration": 13,
    "start_time": "2023-01-15T15:52:52.141Z"
   },
   {
    "duration": 49,
    "start_time": "2023-01-15T15:52:52.156Z"
   },
   {
    "duration": 122,
    "start_time": "2023-01-15T15:52:52.206Z"
   },
   {
    "duration": 326,
    "start_time": "2023-01-15T15:52:52.330Z"
   },
   {
    "duration": 65,
    "start_time": "2023-01-15T15:52:52.658Z"
   },
   {
    "duration": 1010,
    "start_time": "2023-01-15T15:52:52.725Z"
   },
   {
    "duration": 10,
    "start_time": "2023-01-15T15:52:53.736Z"
   },
   {
    "duration": 479,
    "start_time": "2023-01-15T15:52:53.747Z"
   },
   {
    "duration": 204,
    "start_time": "2023-01-15T15:52:54.229Z"
   },
   {
    "duration": 29,
    "start_time": "2023-01-15T15:52:54.435Z"
   },
   {
    "duration": 10,
    "start_time": "2023-01-15T15:52:54.477Z"
   },
   {
    "duration": 4,
    "start_time": "2023-01-15T15:52:54.488Z"
   },
   {
    "duration": 165,
    "start_time": "2023-01-15T15:52:54.494Z"
   },
   {
    "duration": 203,
    "start_time": "2023-01-15T15:52:54.660Z"
   },
   {
    "duration": 71,
    "start_time": "2023-01-15T15:52:54.865Z"
   },
   {
    "duration": 1091,
    "start_time": "2023-01-15T15:52:54.938Z"
   },
   {
    "duration": 238,
    "start_time": "2023-01-15T15:52:56.031Z"
   },
   {
    "duration": 498,
    "start_time": "2023-01-15T15:52:56.270Z"
   },
   {
    "duration": 68,
    "start_time": "2023-01-15T15:52:56.770Z"
   },
   {
    "duration": 78,
    "start_time": "2023-01-15T15:52:56.839Z"
   },
   {
    "duration": 4060,
    "start_time": "2023-01-15T15:52:56.919Z"
   },
   {
    "duration": 1240,
    "start_time": "2023-01-15T15:53:38.528Z"
   },
   {
    "duration": 925,
    "start_time": "2023-01-15T15:53:39.770Z"
   },
   {
    "duration": 28,
    "start_time": "2023-01-15T15:53:40.697Z"
   },
   {
    "duration": 151,
    "start_time": "2023-01-15T15:53:40.728Z"
   },
   {
    "duration": 995,
    "start_time": "2023-01-15T15:53:40.882Z"
   },
   {
    "duration": 692,
    "start_time": "2023-01-15T15:53:41.880Z"
   },
   {
    "duration": 130,
    "start_time": "2023-01-15T15:53:42.574Z"
   },
   {
    "duration": 508,
    "start_time": "2023-01-15T15:53:42.706Z"
   },
   {
    "duration": 4,
    "start_time": "2023-01-15T15:53:43.216Z"
   },
   {
    "duration": 28,
    "start_time": "2023-01-15T15:53:43.222Z"
   },
   {
    "duration": 637,
    "start_time": "2023-01-15T15:53:43.252Z"
   },
   {
    "duration": 250,
    "start_time": "2023-01-15T15:53:43.892Z"
   },
   {
    "duration": 1108,
    "start_time": "2023-01-15T15:53:44.144Z"
   },
   {
    "duration": 201,
    "start_time": "2023-01-15T15:53:45.254Z"
   },
   {
    "duration": 56,
    "start_time": "2023-01-15T15:53:45.456Z"
   },
   {
    "duration": 283,
    "start_time": "2023-01-15T15:53:45.514Z"
   },
   {
    "duration": 969,
    "start_time": "2023-01-15T15:53:45.798Z"
   },
   {
    "duration": 47,
    "start_time": "2023-01-15T15:53:46.769Z"
   },
   {
    "duration": 16,
    "start_time": "2023-01-15T15:53:46.818Z"
   },
   {
    "duration": 60,
    "start_time": "2023-01-15T15:53:46.835Z"
   },
   {
    "duration": 121,
    "start_time": "2023-01-15T15:53:46.897Z"
   },
   {
    "duration": 329,
    "start_time": "2023-01-15T15:53:47.020Z"
   },
   {
    "duration": 66,
    "start_time": "2023-01-15T15:53:47.351Z"
   },
   {
    "duration": 1142,
    "start_time": "2023-01-15T15:53:47.419Z"
   },
   {
    "duration": 20,
    "start_time": "2023-01-15T15:53:48.564Z"
   },
   {
    "duration": 483,
    "start_time": "2023-01-15T15:53:48.586Z"
   },
   {
    "duration": 214,
    "start_time": "2023-01-15T15:53:49.076Z"
   },
   {
    "duration": 29,
    "start_time": "2023-01-15T15:53:49.294Z"
   },
   {
    "duration": 10,
    "start_time": "2023-01-15T15:53:49.325Z"
   },
   {
    "duration": 4,
    "start_time": "2023-01-15T15:53:49.337Z"
   },
   {
    "duration": 199,
    "start_time": "2023-01-15T15:53:49.343Z"
   },
   {
    "duration": 239,
    "start_time": "2023-01-15T15:53:49.544Z"
   },
   {
    "duration": 65,
    "start_time": "2023-01-15T15:53:49.784Z"
   },
   {
    "duration": 1074,
    "start_time": "2023-01-15T15:53:49.851Z"
   },
   {
    "duration": 258,
    "start_time": "2023-01-15T15:53:50.928Z"
   },
   {
    "duration": 530,
    "start_time": "2023-01-15T15:53:51.188Z"
   },
   {
    "duration": 69,
    "start_time": "2023-01-15T15:53:51.720Z"
   },
   {
    "duration": 63,
    "start_time": "2023-01-15T15:53:51.791Z"
   },
   {
    "duration": 3822,
    "start_time": "2023-01-15T15:53:51.857Z"
   },
   {
    "duration": 991,
    "start_time": "2023-01-15T16:04:06.012Z"
   },
   {
    "duration": 1095,
    "start_time": "2023-01-15T16:04:17.928Z"
   },
   {
    "duration": 13,
    "start_time": "2023-01-15T16:05:14.703Z"
   },
   {
    "duration": 8,
    "start_time": "2023-01-15T16:06:00.659Z"
   },
   {
    "duration": 7,
    "start_time": "2023-01-15T16:06:08.777Z"
   },
   {
    "duration": 7,
    "start_time": "2023-01-15T16:06:14.381Z"
   },
   {
    "duration": 10,
    "start_time": "2023-01-15T16:06:33.507Z"
   },
   {
    "duration": 14,
    "start_time": "2023-01-15T16:06:38.266Z"
   },
   {
    "duration": 10,
    "start_time": "2023-01-15T16:06:42.733Z"
   },
   {
    "duration": 9,
    "start_time": "2023-01-15T16:06:54.237Z"
   },
   {
    "duration": 8,
    "start_time": "2023-01-15T16:07:00.685Z"
   },
   {
    "duration": 12,
    "start_time": "2023-01-15T16:07:20.093Z"
   },
   {
    "duration": 13,
    "start_time": "2023-01-15T16:07:30.948Z"
   },
   {
    "duration": 11,
    "start_time": "2023-01-15T16:10:29.590Z"
   },
   {
    "duration": 11,
    "start_time": "2023-01-15T16:10:33.469Z"
   },
   {
    "duration": 937,
    "start_time": "2023-01-15T16:13:32.738Z"
   },
   {
    "duration": 20,
    "start_time": "2023-01-15T16:13:52.772Z"
   },
   {
    "duration": 18,
    "start_time": "2023-01-15T16:16:06.770Z"
   },
   {
    "duration": 48,
    "start_time": "2023-01-15T16:18:39.002Z"
   },
   {
    "duration": 20,
    "start_time": "2023-01-15T16:51:52.012Z"
   },
   {
    "duration": 72,
    "start_time": "2023-01-15T16:51:53.114Z"
   },
   {
    "duration": 46,
    "start_time": "2023-01-15T16:52:01.517Z"
   },
   {
    "duration": 1734,
    "start_time": "2023-01-15T16:52:06.147Z"
   },
   {
    "duration": 10,
    "start_time": "2023-01-15T16:52:20.508Z"
   },
   {
    "duration": 11,
    "start_time": "2023-01-15T16:52:25.408Z"
   },
   {
    "duration": 38,
    "start_time": "2023-01-15T16:54:05.179Z"
   },
   {
    "duration": 1598,
    "start_time": "2023-01-15T16:55:39.341Z"
   },
   {
    "duration": 1176,
    "start_time": "2023-01-15T16:55:40.941Z"
   },
   {
    "duration": 29,
    "start_time": "2023-01-15T16:55:42.118Z"
   },
   {
    "duration": 120,
    "start_time": "2023-01-15T16:55:42.149Z"
   },
   {
    "duration": 1012,
    "start_time": "2023-01-15T16:55:42.277Z"
   },
   {
    "duration": 677,
    "start_time": "2023-01-15T16:55:43.290Z"
   },
   {
    "duration": 112,
    "start_time": "2023-01-15T16:55:43.968Z"
   },
   {
    "duration": 504,
    "start_time": "2023-01-15T16:55:44.081Z"
   },
   {
    "duration": 4,
    "start_time": "2023-01-15T16:55:44.586Z"
   },
   {
    "duration": 25,
    "start_time": "2023-01-15T16:55:44.593Z"
   },
   {
    "duration": 657,
    "start_time": "2023-01-15T16:55:44.619Z"
   },
   {
    "duration": 249,
    "start_time": "2023-01-15T16:55:45.278Z"
   },
   {
    "duration": 1055,
    "start_time": "2023-01-15T16:55:45.529Z"
   },
   {
    "duration": 176,
    "start_time": "2023-01-15T16:55:46.586Z"
   },
   {
    "duration": 43,
    "start_time": "2023-01-15T16:55:46.764Z"
   },
   {
    "duration": 269,
    "start_time": "2023-01-15T16:55:46.809Z"
   },
   {
    "duration": 989,
    "start_time": "2023-01-15T16:55:47.080Z"
   },
   {
    "duration": 36,
    "start_time": "2023-01-15T16:55:48.070Z"
   },
   {
    "duration": 15,
    "start_time": "2023-01-15T16:55:48.108Z"
   },
   {
    "duration": 57,
    "start_time": "2023-01-15T16:55:48.125Z"
   },
   {
    "duration": 141,
    "start_time": "2023-01-15T16:55:48.183Z"
   },
   {
    "duration": 418,
    "start_time": "2023-01-15T16:55:48.326Z"
   },
   {
    "duration": 67,
    "start_time": "2023-01-15T16:55:48.746Z"
   },
   {
    "duration": 1087,
    "start_time": "2023-01-15T16:55:48.815Z"
   },
   {
    "duration": 7,
    "start_time": "2023-01-15T16:55:49.904Z"
   },
   {
    "duration": 512,
    "start_time": "2023-01-15T16:55:49.913Z"
   },
   {
    "duration": 212,
    "start_time": "2023-01-15T16:55:50.427Z"
   },
   {
    "duration": 40,
    "start_time": "2023-01-15T16:55:50.642Z"
   },
   {
    "duration": 10,
    "start_time": "2023-01-15T16:55:50.684Z"
   },
   {
    "duration": 4,
    "start_time": "2023-01-15T16:55:50.695Z"
   },
   {
    "duration": 177,
    "start_time": "2023-01-15T16:55:50.701Z"
   },
   {
    "duration": 217,
    "start_time": "2023-01-15T16:55:50.880Z"
   },
   {
    "duration": 80,
    "start_time": "2023-01-15T16:55:51.098Z"
   },
   {
    "duration": 1086,
    "start_time": "2023-01-15T16:55:51.180Z"
   },
   {
    "duration": 246,
    "start_time": "2023-01-15T16:55:52.268Z"
   },
   {
    "duration": 540,
    "start_time": "2023-01-15T16:55:52.516Z"
   },
   {
    "duration": 9,
    "start_time": "2023-01-15T16:55:53.057Z"
   },
   {
    "duration": 14,
    "start_time": "2023-01-15T16:55:53.077Z"
   },
   {
    "duration": 35,
    "start_time": "2023-01-15T16:55:53.093Z"
   },
   {
    "duration": 30,
    "start_time": "2023-01-15T16:55:53.130Z"
   },
   {
    "duration": 82,
    "start_time": "2023-01-15T16:55:53.162Z"
   },
   {
    "duration": 41,
    "start_time": "2023-01-15T16:55:53.246Z"
   },
   {
    "duration": 2001,
    "start_time": "2023-01-15T16:55:53.289Z"
   },
   {
    "duration": 68,
    "start_time": "2023-01-15T18:38:36.198Z"
   },
   {
    "duration": 4,
    "start_time": "2023-01-15T19:59:36.987Z"
   },
   {
    "duration": 1403,
    "start_time": "2023-01-15T20:00:54.586Z"
   },
   {
    "duration": 1396,
    "start_time": "2023-01-15T20:00:55.992Z"
   },
   {
    "duration": 29,
    "start_time": "2023-01-15T20:00:57.390Z"
   },
   {
    "duration": 225,
    "start_time": "2023-01-15T20:00:57.424Z"
   },
   {
    "duration": 1161,
    "start_time": "2023-01-15T20:00:57.651Z"
   },
   {
    "duration": 683,
    "start_time": "2023-01-15T20:00:58.814Z"
   },
   {
    "duration": 119,
    "start_time": "2023-01-15T20:00:59.499Z"
   },
   {
    "duration": 531,
    "start_time": "2023-01-15T20:00:59.620Z"
   },
   {
    "duration": 5,
    "start_time": "2023-01-15T20:01:00.154Z"
   },
   {
    "duration": 42,
    "start_time": "2023-01-15T20:01:00.162Z"
   },
   {
    "duration": 670,
    "start_time": "2023-01-15T20:01:00.207Z"
   },
   {
    "duration": 283,
    "start_time": "2023-01-15T20:01:00.879Z"
   },
   {
    "duration": 1093,
    "start_time": "2023-01-15T20:01:01.165Z"
   },
   {
    "duration": 189,
    "start_time": "2023-01-15T20:01:02.260Z"
   },
   {
    "duration": 59,
    "start_time": "2023-01-15T20:01:02.451Z"
   },
   {
    "duration": 288,
    "start_time": "2023-01-15T20:01:02.512Z"
   },
   {
    "duration": 1007,
    "start_time": "2023-01-15T20:01:02.802Z"
   },
   {
    "duration": 40,
    "start_time": "2023-01-15T20:01:03.812Z"
   },
   {
    "duration": 36,
    "start_time": "2023-01-15T20:01:03.854Z"
   },
   {
    "duration": 36,
    "start_time": "2023-01-15T20:01:03.893Z"
   },
   {
    "duration": 138,
    "start_time": "2023-01-15T20:01:03.931Z"
   },
   {
    "duration": 331,
    "start_time": "2023-01-15T20:01:04.071Z"
   },
   {
    "duration": 53,
    "start_time": "2023-01-15T20:01:04.404Z"
   },
   {
    "duration": 1082,
    "start_time": "2023-01-15T20:01:04.459Z"
   },
   {
    "duration": 9,
    "start_time": "2023-01-15T20:01:05.543Z"
   },
   {
    "duration": 566,
    "start_time": "2023-01-15T20:01:05.553Z"
   },
   {
    "duration": 230,
    "start_time": "2023-01-15T20:01:06.121Z"
   },
   {
    "duration": 45,
    "start_time": "2023-01-15T20:01:06.355Z"
   },
   {
    "duration": 11,
    "start_time": "2023-01-15T20:01:06.402Z"
   },
   {
    "duration": 5,
    "start_time": "2023-01-15T20:01:06.415Z"
   },
   {
    "duration": 193,
    "start_time": "2023-01-15T20:01:06.422Z"
   },
   {
    "duration": 225,
    "start_time": "2023-01-15T20:01:06.617Z"
   },
   {
    "duration": 79,
    "start_time": "2023-01-15T20:01:06.844Z"
   },
   {
    "duration": 1107,
    "start_time": "2023-01-15T20:01:06.925Z"
   },
   {
    "duration": 263,
    "start_time": "2023-01-15T20:01:08.034Z"
   },
   {
    "duration": 577,
    "start_time": "2023-01-15T20:01:08.299Z"
   },
   {
    "duration": 10,
    "start_time": "2023-01-15T20:01:08.878Z"
   },
   {
    "duration": 9,
    "start_time": "2023-01-15T20:01:08.890Z"
   },
   {
    "duration": 32,
    "start_time": "2023-01-15T20:01:08.902Z"
   },
   {
    "duration": 43,
    "start_time": "2023-01-15T20:01:08.936Z"
   },
   {
    "duration": 6760,
    "start_time": "2023-01-15T20:01:08.981Z"
   },
   {
    "duration": 23,
    "start_time": "2023-01-15T20:01:15.743Z"
   },
   {
    "duration": 41,
    "start_time": "2023-01-15T20:01:15.777Z"
   },
   {
    "duration": 111,
    "start_time": "2023-01-15T20:01:15.820Z"
   },
   {
    "duration": 72,
    "start_time": "2023-01-15T20:01:15.933Z"
   },
   {
    "duration": 2577,
    "start_time": "2023-01-15T20:01:16.007Z"
   },
   {
    "duration": 202,
    "start_time": "2023-01-15T20:01:18.586Z"
   },
   {
    "duration": 1322,
    "start_time": "2023-01-15T20:16:18.342Z"
   },
   {
    "duration": 940,
    "start_time": "2023-01-15T20:16:19.666Z"
   },
   {
    "duration": 29,
    "start_time": "2023-01-15T20:16:20.608Z"
   },
   {
    "duration": 152,
    "start_time": "2023-01-15T20:16:20.639Z"
   },
   {
    "duration": 1085,
    "start_time": "2023-01-15T20:16:20.793Z"
   },
   {
    "duration": 703,
    "start_time": "2023-01-15T20:16:21.881Z"
   },
   {
    "duration": 129,
    "start_time": "2023-01-15T20:16:22.588Z"
   },
   {
    "duration": 554,
    "start_time": "2023-01-15T20:16:22.719Z"
   },
   {
    "duration": 5,
    "start_time": "2023-01-15T20:16:23.275Z"
   },
   {
    "duration": 26,
    "start_time": "2023-01-15T20:16:23.282Z"
   },
   {
    "duration": 704,
    "start_time": "2023-01-15T20:16:23.310Z"
   },
   {
    "duration": 257,
    "start_time": "2023-01-15T20:16:24.016Z"
   },
   {
    "duration": 1110,
    "start_time": "2023-01-15T20:16:24.275Z"
   },
   {
    "duration": 202,
    "start_time": "2023-01-15T20:16:25.387Z"
   },
   {
    "duration": 38,
    "start_time": "2023-01-15T20:16:25.591Z"
   },
   {
    "duration": 300,
    "start_time": "2023-01-15T20:16:25.631Z"
   },
   {
    "duration": 961,
    "start_time": "2023-01-15T20:16:25.933Z"
   },
   {
    "duration": 35,
    "start_time": "2023-01-15T20:16:26.895Z"
   },
   {
    "duration": 17,
    "start_time": "2023-01-15T20:16:26.932Z"
   },
   {
    "duration": 30,
    "start_time": "2023-01-15T20:16:26.978Z"
   },
   {
    "duration": 141,
    "start_time": "2023-01-15T20:16:27.010Z"
   },
   {
    "duration": 351,
    "start_time": "2023-01-15T20:16:27.153Z"
   },
   {
    "duration": 57,
    "start_time": "2023-01-15T20:16:27.506Z"
   },
   {
    "duration": 1267,
    "start_time": "2023-01-15T20:16:27.564Z"
   },
   {
    "duration": 9,
    "start_time": "2023-01-15T20:16:28.833Z"
   },
   {
    "duration": 538,
    "start_time": "2023-01-15T20:16:28.844Z"
   },
   {
    "duration": 222,
    "start_time": "2023-01-15T20:16:29.384Z"
   },
   {
    "duration": 33,
    "start_time": "2023-01-15T20:16:29.610Z"
   },
   {
    "duration": 34,
    "start_time": "2023-01-15T20:16:29.645Z"
   },
   {
    "duration": 6,
    "start_time": "2023-01-15T20:16:29.681Z"
   },
   {
    "duration": 188,
    "start_time": "2023-01-15T20:16:29.689Z"
   },
   {
    "duration": 228,
    "start_time": "2023-01-15T20:16:29.880Z"
   },
   {
    "duration": 81,
    "start_time": "2023-01-15T20:16:30.109Z"
   },
   {
    "duration": 1135,
    "start_time": "2023-01-15T20:16:30.192Z"
   },
   {
    "duration": 262,
    "start_time": "2023-01-15T20:16:31.328Z"
   },
   {
    "duration": 564,
    "start_time": "2023-01-15T20:16:31.593Z"
   },
   {
    "duration": 22,
    "start_time": "2023-01-15T20:16:32.159Z"
   },
   {
    "duration": 18,
    "start_time": "2023-01-15T20:16:32.184Z"
   },
   {
    "duration": 26,
    "start_time": "2023-01-15T20:16:32.204Z"
   },
   {
    "duration": 16,
    "start_time": "2023-01-15T20:16:32.232Z"
   },
   {
    "duration": 31026,
    "start_time": "2023-01-15T20:16:32.250Z"
   },
   {
    "duration": 22,
    "start_time": "2023-01-15T20:17:03.277Z"
   },
   {
    "duration": 42,
    "start_time": "2023-01-15T20:17:03.302Z"
   },
   {
    "duration": 91,
    "start_time": "2023-01-15T20:17:03.346Z"
   },
   {
    "duration": 74,
    "start_time": "2023-01-15T20:17:03.440Z"
   },
   {
    "duration": 1667,
    "start_time": "2023-01-15T20:17:03.516Z"
   },
   {
    "duration": 156,
    "start_time": "2023-01-15T20:17:05.186Z"
   },
   {
    "duration": 51,
    "start_time": "2023-01-15T20:19:30.884Z"
   },
   {
    "duration": 1505,
    "start_time": "2023-01-15T20:20:11.760Z"
   },
   {
    "duration": 1193,
    "start_time": "2023-01-15T20:20:19.173Z"
   },
   {
    "duration": 961,
    "start_time": "2023-01-15T20:20:20.368Z"
   },
   {
    "duration": 30,
    "start_time": "2023-01-15T20:20:21.332Z"
   },
   {
    "duration": 161,
    "start_time": "2023-01-15T20:20:21.378Z"
   },
   {
    "duration": 1030,
    "start_time": "2023-01-15T20:20:21.541Z"
   },
   {
    "duration": 681,
    "start_time": "2023-01-15T20:20:22.573Z"
   },
   {
    "duration": 131,
    "start_time": "2023-01-15T20:20:23.255Z"
   },
   {
    "duration": 528,
    "start_time": "2023-01-15T20:20:23.388Z"
   },
   {
    "duration": 5,
    "start_time": "2023-01-15T20:20:23.917Z"
   },
   {
    "duration": 54,
    "start_time": "2023-01-15T20:20:23.925Z"
   },
   {
    "duration": 643,
    "start_time": "2023-01-15T20:20:23.981Z"
   },
   {
    "duration": 254,
    "start_time": "2023-01-15T20:20:24.626Z"
   },
   {
    "duration": 1085,
    "start_time": "2023-01-15T20:20:24.882Z"
   },
   {
    "duration": 186,
    "start_time": "2023-01-15T20:20:25.970Z"
   },
   {
    "duration": 50,
    "start_time": "2023-01-15T20:20:26.158Z"
   },
   {
    "duration": 268,
    "start_time": "2023-01-15T20:20:26.210Z"
   },
   {
    "duration": 1003,
    "start_time": "2023-01-15T20:20:26.479Z"
   },
   {
    "duration": 51,
    "start_time": "2023-01-15T20:20:27.485Z"
   },
   {
    "duration": 45,
    "start_time": "2023-01-15T20:20:27.538Z"
   },
   {
    "duration": 50,
    "start_time": "2023-01-15T20:20:27.585Z"
   },
   {
    "duration": 129,
    "start_time": "2023-01-15T20:20:27.636Z"
   },
   {
    "duration": 355,
    "start_time": "2023-01-15T20:20:27.767Z"
   },
   {
    "duration": 70,
    "start_time": "2023-01-15T20:20:28.124Z"
   },
   {
    "duration": 1181,
    "start_time": "2023-01-15T20:20:28.196Z"
   },
   {
    "duration": 10,
    "start_time": "2023-01-15T20:20:29.380Z"
   },
   {
    "duration": 506,
    "start_time": "2023-01-15T20:20:29.392Z"
   },
   {
    "duration": 215,
    "start_time": "2023-01-15T20:20:29.900Z"
   },
   {
    "duration": 32,
    "start_time": "2023-01-15T20:20:30.119Z"
   },
   {
    "duration": 30,
    "start_time": "2023-01-15T20:20:30.153Z"
   },
   {
    "duration": 7,
    "start_time": "2023-01-15T20:20:30.185Z"
   },
   {
    "duration": 167,
    "start_time": "2023-01-15T20:20:30.194Z"
   },
   {
    "duration": 222,
    "start_time": "2023-01-15T20:20:30.363Z"
   },
   {
    "duration": 72,
    "start_time": "2023-01-15T20:20:30.587Z"
   },
   {
    "duration": 1140,
    "start_time": "2023-01-15T20:20:30.661Z"
   },
   {
    "duration": 260,
    "start_time": "2023-01-15T20:20:31.803Z"
   },
   {
    "duration": 572,
    "start_time": "2023-01-15T20:20:32.065Z"
   },
   {
    "duration": 11,
    "start_time": "2023-01-15T20:20:32.640Z"
   },
   {
    "duration": 42,
    "start_time": "2023-01-15T20:20:32.652Z"
   },
   {
    "duration": 29,
    "start_time": "2023-01-15T20:20:32.696Z"
   },
   {
    "duration": 12,
    "start_time": "2023-01-15T20:20:32.728Z"
   },
   {
    "duration": 31140,
    "start_time": "2023-01-15T20:20:32.742Z"
   },
   {
    "duration": 22,
    "start_time": "2023-01-15T20:21:03.883Z"
   },
   {
    "duration": 41,
    "start_time": "2023-01-15T20:21:03.907Z"
   },
   {
    "duration": 97,
    "start_time": "2023-01-15T20:21:03.950Z"
   },
   {
    "duration": 72,
    "start_time": "2023-01-15T20:21:04.049Z"
   },
   {
    "duration": 56,
    "start_time": "2023-01-15T20:21:04.124Z"
   },
   {
    "duration": 1717,
    "start_time": "2023-01-15T20:21:04.182Z"
   },
   {
    "duration": 141,
    "start_time": "2023-01-15T20:21:05.979Z"
   },
   {
    "duration": 65,
    "start_time": "2023-01-15T20:21:06.122Z"
   },
   {
    "duration": 1300,
    "start_time": "2023-01-15T20:21:40.386Z"
   },
   {
    "duration": 926,
    "start_time": "2023-01-15T20:21:41.688Z"
   },
   {
    "duration": 31,
    "start_time": "2023-01-15T20:21:42.616Z"
   },
   {
    "duration": 148,
    "start_time": "2023-01-15T20:21:42.649Z"
   },
   {
    "duration": 1020,
    "start_time": "2023-01-15T20:21:42.802Z"
   },
   {
    "duration": 686,
    "start_time": "2023-01-15T20:21:43.824Z"
   },
   {
    "duration": 131,
    "start_time": "2023-01-15T20:21:44.512Z"
   },
   {
    "duration": 563,
    "start_time": "2023-01-15T20:21:44.646Z"
   },
   {
    "duration": 5,
    "start_time": "2023-01-15T20:21:45.212Z"
   },
   {
    "duration": 67,
    "start_time": "2023-01-15T20:21:45.218Z"
   },
   {
    "duration": 724,
    "start_time": "2023-01-15T20:21:45.286Z"
   },
   {
    "duration": 287,
    "start_time": "2023-01-15T20:21:46.015Z"
   },
   {
    "duration": 1061,
    "start_time": "2023-01-15T20:21:46.304Z"
   },
   {
    "duration": 203,
    "start_time": "2023-01-15T20:21:47.377Z"
   },
   {
    "duration": 50,
    "start_time": "2023-01-15T20:21:47.582Z"
   },
   {
    "duration": 298,
    "start_time": "2023-01-15T20:21:47.634Z"
   },
   {
    "duration": 1181,
    "start_time": "2023-01-15T20:21:47.934Z"
   },
   {
    "duration": 57,
    "start_time": "2023-01-15T20:21:49.120Z"
   },
   {
    "duration": 19,
    "start_time": "2023-01-15T20:21:49.179Z"
   },
   {
    "duration": 46,
    "start_time": "2023-01-15T20:21:49.200Z"
   },
   {
    "duration": 151,
    "start_time": "2023-01-15T20:21:49.248Z"
   },
   {
    "duration": 450,
    "start_time": "2023-01-15T20:21:49.401Z"
   },
   {
    "duration": 70,
    "start_time": "2023-01-15T20:21:49.853Z"
   },
   {
    "duration": 1201,
    "start_time": "2023-01-15T20:21:49.925Z"
   },
   {
    "duration": 9,
    "start_time": "2023-01-15T20:21:51.128Z"
   },
   {
    "duration": 516,
    "start_time": "2023-01-15T20:21:51.139Z"
   },
   {
    "duration": 252,
    "start_time": "2023-01-15T20:21:51.657Z"
   },
   {
    "duration": 35,
    "start_time": "2023-01-15T20:21:51.912Z"
   },
   {
    "duration": 33,
    "start_time": "2023-01-15T20:21:51.950Z"
   },
   {
    "duration": 6,
    "start_time": "2023-01-15T20:21:51.986Z"
   },
   {
    "duration": 174,
    "start_time": "2023-01-15T20:21:51.994Z"
   },
   {
    "duration": 239,
    "start_time": "2023-01-15T20:21:52.170Z"
   },
   {
    "duration": 84,
    "start_time": "2023-01-15T20:21:52.412Z"
   },
   {
    "duration": 1136,
    "start_time": "2023-01-15T20:21:52.499Z"
   },
   {
    "duration": 252,
    "start_time": "2023-01-15T20:21:53.637Z"
   },
   {
    "duration": 553,
    "start_time": "2023-01-15T20:21:53.891Z"
   },
   {
    "duration": 14,
    "start_time": "2023-01-15T20:21:54.447Z"
   },
   {
    "duration": 16,
    "start_time": "2023-01-15T20:21:54.478Z"
   },
   {
    "duration": 51,
    "start_time": "2023-01-15T20:21:54.496Z"
   },
   {
    "duration": 12,
    "start_time": "2023-01-15T20:21:54.549Z"
   },
   {
    "duration": 1370,
    "start_time": "2023-01-15T20:21:54.578Z"
   },
   {
    "duration": 0,
    "start_time": "2023-01-15T20:21:55.951Z"
   },
   {
    "duration": 0,
    "start_time": "2023-01-15T20:21:55.953Z"
   },
   {
    "duration": 0,
    "start_time": "2023-01-15T20:21:55.955Z"
   },
   {
    "duration": 0,
    "start_time": "2023-01-15T20:21:55.957Z"
   },
   {
    "duration": 0,
    "start_time": "2023-01-15T20:21:55.958Z"
   },
   {
    "duration": 0,
    "start_time": "2023-01-15T20:21:55.961Z"
   },
   {
    "duration": 0,
    "start_time": "2023-01-15T20:21:55.962Z"
   },
   {
    "duration": 1577,
    "start_time": "2023-01-15T20:21:57.980Z"
   },
   {
    "duration": 990,
    "start_time": "2023-01-15T20:21:59.560Z"
   },
   {
    "duration": 43,
    "start_time": "2023-01-15T20:22:00.553Z"
   },
   {
    "duration": 160,
    "start_time": "2023-01-15T20:22:00.599Z"
   },
   {
    "duration": 1368,
    "start_time": "2023-01-15T20:22:00.761Z"
   },
   {
    "duration": 723,
    "start_time": "2023-01-15T20:22:02.131Z"
   },
   {
    "duration": 127,
    "start_time": "2023-01-15T20:22:02.856Z"
   },
   {
    "duration": 537,
    "start_time": "2023-01-15T20:22:02.985Z"
   },
   {
    "duration": 6,
    "start_time": "2023-01-15T20:22:03.524Z"
   },
   {
    "duration": 61,
    "start_time": "2023-01-15T20:22:03.534Z"
   },
   {
    "duration": 685,
    "start_time": "2023-01-15T20:22:03.596Z"
   },
   {
    "duration": 340,
    "start_time": "2023-01-15T20:22:04.284Z"
   },
   {
    "duration": 1202,
    "start_time": "2023-01-15T20:22:04.627Z"
   },
   {
    "duration": 219,
    "start_time": "2023-01-15T20:22:05.831Z"
   },
   {
    "duration": 63,
    "start_time": "2023-01-15T20:22:06.053Z"
   },
   {
    "duration": 290,
    "start_time": "2023-01-15T20:22:06.118Z"
   },
   {
    "duration": 1138,
    "start_time": "2023-01-15T20:22:06.410Z"
   },
   {
    "duration": 46,
    "start_time": "2023-01-15T20:22:07.551Z"
   },
   {
    "duration": 16,
    "start_time": "2023-01-15T20:22:07.599Z"
   },
   {
    "duration": 80,
    "start_time": "2023-01-15T20:22:07.618Z"
   },
   {
    "duration": 141,
    "start_time": "2023-01-15T20:22:07.700Z"
   },
   {
    "duration": 351,
    "start_time": "2023-01-15T20:22:07.843Z"
   },
   {
    "duration": 66,
    "start_time": "2023-01-15T20:22:08.196Z"
   },
   {
    "duration": 1669,
    "start_time": "2023-01-15T20:22:08.280Z"
   },
   {
    "duration": 12,
    "start_time": "2023-01-15T20:22:09.952Z"
   },
   {
    "duration": 710,
    "start_time": "2023-01-15T20:22:09.967Z"
   },
   {
    "duration": 224,
    "start_time": "2023-01-15T20:22:10.680Z"
   },
   {
    "duration": 39,
    "start_time": "2023-01-15T20:22:10.909Z"
   },
   {
    "duration": 38,
    "start_time": "2023-01-15T20:22:10.951Z"
   },
   {
    "duration": 7,
    "start_time": "2023-01-15T20:22:10.991Z"
   },
   {
    "duration": 189,
    "start_time": "2023-01-15T20:22:11.000Z"
   },
   {
    "duration": 267,
    "start_time": "2023-01-15T20:22:11.191Z"
   },
   {
    "duration": 144,
    "start_time": "2023-01-15T20:22:11.462Z"
   },
   {
    "duration": 1174,
    "start_time": "2023-01-15T20:22:11.609Z"
   },
   {
    "duration": 263,
    "start_time": "2023-01-15T20:22:12.786Z"
   },
   {
    "duration": 586,
    "start_time": "2023-01-15T20:22:13.052Z"
   },
   {
    "duration": 15,
    "start_time": "2023-01-15T20:22:13.641Z"
   },
   {
    "duration": 29,
    "start_time": "2023-01-15T20:22:13.658Z"
   },
   {
    "duration": 15,
    "start_time": "2023-01-15T20:22:13.689Z"
   },
   {
    "duration": 11,
    "start_time": "2023-01-15T20:22:13.707Z"
   },
   {
    "duration": 34961,
    "start_time": "2023-01-15T20:22:13.720Z"
   },
   {
    "duration": 25,
    "start_time": "2023-01-15T20:22:48.683Z"
   },
   {
    "duration": 42,
    "start_time": "2023-01-15T20:22:48.709Z"
   },
   {
    "duration": 92,
    "start_time": "2023-01-15T20:22:48.752Z"
   },
   {
    "duration": 72,
    "start_time": "2023-01-15T20:22:48.846Z"
   },
   {
    "duration": 95,
    "start_time": "2023-01-15T20:22:48.921Z"
   },
   {
    "duration": 2681,
    "start_time": "2023-01-15T20:22:49.018Z"
   },
   {
    "duration": 218,
    "start_time": "2023-01-15T20:22:51.783Z"
   },
   {
    "duration": 1296,
    "start_time": "2023-01-15T20:29:03.575Z"
   },
   {
    "duration": 980,
    "start_time": "2023-01-15T20:29:04.872Z"
   },
   {
    "duration": 52,
    "start_time": "2023-01-15T20:29:05.854Z"
   },
   {
    "duration": 193,
    "start_time": "2023-01-15T20:29:05.909Z"
   },
   {
    "duration": 1095,
    "start_time": "2023-01-15T20:29:06.104Z"
   },
   {
    "duration": 770,
    "start_time": "2023-01-15T20:29:07.202Z"
   },
   {
    "duration": 132,
    "start_time": "2023-01-15T20:29:07.974Z"
   },
   {
    "duration": 776,
    "start_time": "2023-01-15T20:29:08.109Z"
   },
   {
    "duration": 13,
    "start_time": "2023-01-15T20:29:08.901Z"
   },
   {
    "duration": 34,
    "start_time": "2023-01-15T20:29:08.918Z"
   },
   {
    "duration": 664,
    "start_time": "2023-01-15T20:29:08.954Z"
   },
   {
    "duration": 257,
    "start_time": "2023-01-15T20:29:09.620Z"
   },
   {
    "duration": 1153,
    "start_time": "2023-01-15T20:29:09.881Z"
   },
   {
    "duration": 203,
    "start_time": "2023-01-15T20:29:11.036Z"
   },
   {
    "duration": 61,
    "start_time": "2023-01-15T20:29:11.241Z"
   },
   {
    "duration": 305,
    "start_time": "2023-01-15T20:29:11.305Z"
   },
   {
    "duration": 1089,
    "start_time": "2023-01-15T20:29:11.612Z"
   },
   {
    "duration": 35,
    "start_time": "2023-01-15T20:29:12.704Z"
   },
   {
    "duration": 47,
    "start_time": "2023-01-15T20:29:12.741Z"
   },
   {
    "duration": 34,
    "start_time": "2023-01-15T20:29:12.791Z"
   },
   {
    "duration": 147,
    "start_time": "2023-01-15T20:29:12.827Z"
   },
   {
    "duration": 354,
    "start_time": "2023-01-15T20:29:12.976Z"
   },
   {
    "duration": 129,
    "start_time": "2023-01-15T20:29:13.333Z"
   },
   {
    "duration": 1211,
    "start_time": "2023-01-15T20:29:13.465Z"
   },
   {
    "duration": 12,
    "start_time": "2023-01-15T20:29:14.678Z"
   },
   {
    "duration": 553,
    "start_time": "2023-01-15T20:29:14.693Z"
   },
   {
    "duration": 265,
    "start_time": "2023-01-15T20:29:15.248Z"
   },
   {
    "duration": 42,
    "start_time": "2023-01-15T20:29:15.520Z"
   },
   {
    "duration": 31,
    "start_time": "2023-01-15T20:29:15.564Z"
   },
   {
    "duration": 9,
    "start_time": "2023-01-15T20:29:15.597Z"
   },
   {
    "duration": 188,
    "start_time": "2023-01-15T20:29:15.608Z"
   },
   {
    "duration": 263,
    "start_time": "2023-01-15T20:29:15.797Z"
   },
   {
    "duration": 87,
    "start_time": "2023-01-15T20:29:16.062Z"
   },
   {
    "duration": 1175,
    "start_time": "2023-01-15T20:29:16.152Z"
   },
   {
    "duration": 281,
    "start_time": "2023-01-15T20:29:17.329Z"
   },
   {
    "duration": 622,
    "start_time": "2023-01-15T20:29:17.612Z"
   },
   {
    "duration": 13,
    "start_time": "2023-01-15T20:29:18.239Z"
   },
   {
    "duration": 26,
    "start_time": "2023-01-15T20:29:18.254Z"
   },
   {
    "duration": 36,
    "start_time": "2023-01-15T20:29:18.282Z"
   },
   {
    "duration": 15,
    "start_time": "2023-01-15T20:29:18.320Z"
   },
   {
    "duration": 34245,
    "start_time": "2023-01-15T20:29:18.337Z"
   },
   {
    "duration": 27,
    "start_time": "2023-01-15T20:29:52.585Z"
   },
   {
    "duration": 29,
    "start_time": "2023-01-15T20:29:52.614Z"
   },
   {
    "duration": 68,
    "start_time": "2023-01-15T20:29:52.645Z"
   },
   {
    "duration": 94,
    "start_time": "2023-01-15T20:29:52.715Z"
   },
   {
    "duration": 49,
    "start_time": "2023-01-15T20:29:52.811Z"
   },
   {
    "duration": 3408,
    "start_time": "2023-01-15T20:29:52.879Z"
   },
   {
    "duration": 151,
    "start_time": "2023-01-15T20:29:56.296Z"
   },
   {
    "duration": 1306,
    "start_time": "2023-01-15T20:33:23.748Z"
   },
   {
    "duration": 967,
    "start_time": "2023-01-15T20:33:25.056Z"
   },
   {
    "duration": 64,
    "start_time": "2023-01-15T20:33:26.025Z"
   },
   {
    "duration": 163,
    "start_time": "2023-01-15T20:33:26.091Z"
   },
   {
    "duration": 1055,
    "start_time": "2023-01-15T20:33:26.257Z"
   },
   {
    "duration": 748,
    "start_time": "2023-01-15T20:33:27.314Z"
   },
   {
    "duration": 133,
    "start_time": "2023-01-15T20:33:28.064Z"
   },
   {
    "duration": 639,
    "start_time": "2023-01-15T20:33:28.198Z"
   },
   {
    "duration": 6,
    "start_time": "2023-01-15T20:33:28.839Z"
   },
   {
    "duration": 74,
    "start_time": "2023-01-15T20:33:28.847Z"
   },
   {
    "duration": 659,
    "start_time": "2023-01-15T20:33:28.923Z"
   },
   {
    "duration": 284,
    "start_time": "2023-01-15T20:33:29.584Z"
   },
   {
    "duration": 1162,
    "start_time": "2023-01-15T20:33:29.870Z"
   },
   {
    "duration": 206,
    "start_time": "2023-01-15T20:33:31.036Z"
   },
   {
    "duration": 64,
    "start_time": "2023-01-15T20:33:31.244Z"
   },
   {
    "duration": 296,
    "start_time": "2023-01-15T20:33:31.310Z"
   },
   {
    "duration": 1016,
    "start_time": "2023-01-15T20:33:31.608Z"
   },
   {
    "duration": 57,
    "start_time": "2023-01-15T20:33:32.626Z"
   },
   {
    "duration": 23,
    "start_time": "2023-01-15T20:33:32.688Z"
   },
   {
    "duration": 30,
    "start_time": "2023-01-15T20:33:32.713Z"
   },
   {
    "duration": 153,
    "start_time": "2023-01-15T20:33:32.745Z"
   },
   {
    "duration": 349,
    "start_time": "2023-01-15T20:33:32.900Z"
   },
   {
    "duration": 73,
    "start_time": "2023-01-15T20:33:33.252Z"
   },
   {
    "duration": 1178,
    "start_time": "2023-01-15T20:33:33.328Z"
   },
   {
    "duration": 13,
    "start_time": "2023-01-15T20:33:34.509Z"
   },
   {
    "duration": 554,
    "start_time": "2023-01-15T20:33:34.525Z"
   },
   {
    "duration": 255,
    "start_time": "2023-01-15T20:33:35.081Z"
   },
   {
    "duration": 49,
    "start_time": "2023-01-15T20:33:35.338Z"
   },
   {
    "duration": 17,
    "start_time": "2023-01-15T20:33:35.389Z"
   },
   {
    "duration": 5,
    "start_time": "2023-01-15T20:33:35.407Z"
   },
   {
    "duration": 193,
    "start_time": "2023-01-15T20:33:35.413Z"
   },
   {
    "duration": 234,
    "start_time": "2023-01-15T20:33:35.608Z"
   },
   {
    "duration": 121,
    "start_time": "2023-01-15T20:33:35.844Z"
   },
   {
    "duration": 1125,
    "start_time": "2023-01-15T20:33:35.968Z"
   },
   {
    "duration": 263,
    "start_time": "2023-01-15T20:33:37.095Z"
   },
   {
    "duration": 594,
    "start_time": "2023-01-15T20:33:37.360Z"
   },
   {
    "duration": 24,
    "start_time": "2023-01-15T20:33:37.955Z"
   },
   {
    "duration": 23,
    "start_time": "2023-01-15T20:33:37.981Z"
   },
   {
    "duration": 46,
    "start_time": "2023-01-15T20:33:38.006Z"
   },
   {
    "duration": 29,
    "start_time": "2023-01-15T20:33:38.054Z"
   },
   {
    "duration": 35019,
    "start_time": "2023-01-15T20:33:38.095Z"
   },
   {
    "duration": 25,
    "start_time": "2023-01-15T20:34:13.116Z"
   },
   {
    "duration": 70,
    "start_time": "2023-01-15T20:34:13.143Z"
   },
   {
    "duration": 70,
    "start_time": "2023-01-15T20:34:13.215Z"
   },
   {
    "duration": 80,
    "start_time": "2023-01-15T20:34:13.288Z"
   },
   {
    "duration": 63,
    "start_time": "2023-01-15T20:34:13.371Z"
   },
   {
    "duration": 3049,
    "start_time": "2023-01-15T20:34:13.437Z"
   },
   {
    "duration": 161,
    "start_time": "2023-01-15T20:34:16.497Z"
   },
   {
    "duration": 1350,
    "start_time": "2023-01-15T20:36:09.179Z"
   },
   {
    "duration": 986,
    "start_time": "2023-01-15T20:36:10.532Z"
   },
   {
    "duration": 29,
    "start_time": "2023-01-15T20:36:11.520Z"
   },
   {
    "duration": 173,
    "start_time": "2023-01-15T20:36:11.551Z"
   },
   {
    "duration": 1086,
    "start_time": "2023-01-15T20:36:11.727Z"
   },
   {
    "duration": 746,
    "start_time": "2023-01-15T20:36:12.816Z"
   },
   {
    "duration": 136,
    "start_time": "2023-01-15T20:36:13.564Z"
   },
   {
    "duration": 565,
    "start_time": "2023-01-15T20:36:13.702Z"
   },
   {
    "duration": 4,
    "start_time": "2023-01-15T20:36:14.269Z"
   },
   {
    "duration": 56,
    "start_time": "2023-01-15T20:36:14.274Z"
   },
   {
    "duration": 720,
    "start_time": "2023-01-15T20:36:14.332Z"
   },
   {
    "duration": 336,
    "start_time": "2023-01-15T20:36:15.053Z"
   },
   {
    "duration": 1172,
    "start_time": "2023-01-15T20:36:15.391Z"
   },
   {
    "duration": 191,
    "start_time": "2023-01-15T20:36:16.578Z"
   },
   {
    "duration": 42,
    "start_time": "2023-01-15T20:36:16.777Z"
   },
   {
    "duration": 334,
    "start_time": "2023-01-15T20:36:16.821Z"
   },
   {
    "duration": 1076,
    "start_time": "2023-01-15T20:36:17.159Z"
   },
   {
    "duration": 71,
    "start_time": "2023-01-15T20:36:18.238Z"
   },
   {
    "duration": 27,
    "start_time": "2023-01-15T20:36:18.312Z"
   },
   {
    "duration": 66,
    "start_time": "2023-01-15T20:36:18.342Z"
   },
   {
    "duration": 176,
    "start_time": "2023-01-15T20:36:18.411Z"
   },
   {
    "duration": 360,
    "start_time": "2023-01-15T20:36:18.590Z"
   },
   {
    "duration": 108,
    "start_time": "2023-01-15T20:36:18.953Z"
   },
   {
    "duration": 1190,
    "start_time": "2023-01-15T20:36:19.063Z"
   },
   {
    "duration": 8,
    "start_time": "2023-01-15T20:36:20.254Z"
   },
   {
    "duration": 533,
    "start_time": "2023-01-15T20:36:20.264Z"
   },
   {
    "duration": 284,
    "start_time": "2023-01-15T20:36:20.800Z"
   },
   {
    "duration": 36,
    "start_time": "2023-01-15T20:36:21.088Z"
   },
   {
    "duration": 13,
    "start_time": "2023-01-15T20:36:21.125Z"
   },
   {
    "duration": 5,
    "start_time": "2023-01-15T20:36:21.140Z"
   },
   {
    "duration": 202,
    "start_time": "2023-01-15T20:36:21.146Z"
   },
   {
    "duration": 239,
    "start_time": "2023-01-15T20:36:21.350Z"
   },
   {
    "duration": 98,
    "start_time": "2023-01-15T20:36:21.591Z"
   },
   {
    "duration": 1198,
    "start_time": "2023-01-15T20:36:21.692Z"
   },
   {
    "duration": 261,
    "start_time": "2023-01-15T20:36:22.893Z"
   },
   {
    "duration": 604,
    "start_time": "2023-01-15T20:36:23.156Z"
   },
   {
    "duration": 27,
    "start_time": "2023-01-15T20:36:23.762Z"
   },
   {
    "duration": 14,
    "start_time": "2023-01-15T20:36:23.792Z"
   },
   {
    "duration": 25,
    "start_time": "2023-01-15T20:36:23.808Z"
   },
   {
    "duration": 50,
    "start_time": "2023-01-15T20:36:23.835Z"
   },
   {
    "duration": 35158,
    "start_time": "2023-01-15T20:36:23.891Z"
   },
   {
    "duration": 7,
    "start_time": "2023-01-15T20:36:59.051Z"
   },
   {
    "duration": 28,
    "start_time": "2023-01-15T20:36:59.060Z"
   },
   {
    "duration": 48,
    "start_time": "2023-01-15T20:36:59.097Z"
   },
   {
    "duration": 77,
    "start_time": "2023-01-15T20:36:59.147Z"
   },
   {
    "duration": 87,
    "start_time": "2023-01-15T20:36:59.226Z"
   },
   {
    "duration": 4368,
    "start_time": "2023-01-15T20:36:59.315Z"
   },
   {
    "duration": 110,
    "start_time": "2023-01-15T20:37:03.689Z"
   },
   {
    "duration": 1389,
    "start_time": "2023-01-15T20:38:12.455Z"
   },
   {
    "duration": 967,
    "start_time": "2023-01-15T20:38:13.846Z"
   },
   {
    "duration": 28,
    "start_time": "2023-01-15T20:38:14.814Z"
   },
   {
    "duration": 161,
    "start_time": "2023-01-15T20:38:14.844Z"
   },
   {
    "duration": 1102,
    "start_time": "2023-01-15T20:38:15.007Z"
   },
   {
    "duration": 737,
    "start_time": "2023-01-15T20:38:16.110Z"
   },
   {
    "duration": 138,
    "start_time": "2023-01-15T20:38:16.849Z"
   },
   {
    "duration": 580,
    "start_time": "2023-01-15T20:38:16.989Z"
   },
   {
    "duration": 16,
    "start_time": "2023-01-15T20:38:17.571Z"
   },
   {
    "duration": 33,
    "start_time": "2023-01-15T20:38:17.594Z"
   },
   {
    "duration": 751,
    "start_time": "2023-01-15T20:38:17.629Z"
   },
   {
    "duration": 300,
    "start_time": "2023-01-15T20:38:18.383Z"
   },
   {
    "duration": 1285,
    "start_time": "2023-01-15T20:38:18.686Z"
   },
   {
    "duration": 295,
    "start_time": "2023-01-15T20:38:19.973Z"
   },
   {
    "duration": 58,
    "start_time": "2023-01-15T20:38:20.271Z"
   },
   {
    "duration": 471,
    "start_time": "2023-01-15T20:38:20.333Z"
   },
   {
    "duration": 1125,
    "start_time": "2023-01-15T20:38:20.806Z"
   },
   {
    "duration": 49,
    "start_time": "2023-01-15T20:38:21.934Z"
   },
   {
    "duration": 27,
    "start_time": "2023-01-15T20:38:21.985Z"
   },
   {
    "duration": 32,
    "start_time": "2023-01-15T20:38:22.014Z"
   },
   {
    "duration": 164,
    "start_time": "2023-01-15T20:38:22.048Z"
   },
   {
    "duration": 369,
    "start_time": "2023-01-15T20:38:22.214Z"
   },
   {
    "duration": 65,
    "start_time": "2023-01-15T20:38:22.590Z"
   },
   {
    "duration": 1241,
    "start_time": "2023-01-15T20:38:22.658Z"
   },
   {
    "duration": 10,
    "start_time": "2023-01-15T20:38:23.902Z"
   },
   {
    "duration": 566,
    "start_time": "2023-01-15T20:38:23.914Z"
   },
   {
    "duration": 244,
    "start_time": "2023-01-15T20:38:24.482Z"
   },
   {
    "duration": 72,
    "start_time": "2023-01-15T20:38:24.730Z"
   },
   {
    "duration": 10,
    "start_time": "2023-01-15T20:38:24.804Z"
   },
   {
    "duration": 5,
    "start_time": "2023-01-15T20:38:24.816Z"
   },
   {
    "duration": 219,
    "start_time": "2023-01-15T20:38:24.822Z"
   },
   {
    "duration": 242,
    "start_time": "2023-01-15T20:38:25.042Z"
   },
   {
    "duration": 86,
    "start_time": "2023-01-15T20:38:25.291Z"
   },
   {
    "duration": 1255,
    "start_time": "2023-01-15T20:38:25.381Z"
   },
   {
    "duration": 279,
    "start_time": "2023-01-15T20:38:26.638Z"
   },
   {
    "duration": 579,
    "start_time": "2023-01-15T20:38:26.919Z"
   },
   {
    "duration": 17,
    "start_time": "2023-01-15T20:38:27.501Z"
   },
   {
    "duration": 10,
    "start_time": "2023-01-15T20:38:27.520Z"
   },
   {
    "duration": 58,
    "start_time": "2023-01-15T20:38:27.532Z"
   },
   {
    "duration": 14,
    "start_time": "2023-01-15T20:38:27.594Z"
   },
   {
    "duration": 34736,
    "start_time": "2023-01-15T20:38:27.610Z"
   },
   {
    "duration": 9,
    "start_time": "2023-01-15T20:39:02.348Z"
   },
   {
    "duration": 49,
    "start_time": "2023-01-15T20:39:02.359Z"
   },
   {
    "duration": 93,
    "start_time": "2023-01-15T20:39:02.410Z"
   },
   {
    "duration": 52,
    "start_time": "2023-01-15T20:39:02.506Z"
   },
   {
    "duration": 2909,
    "start_time": "2023-01-15T20:39:02.578Z"
   },
   {
    "duration": 171,
    "start_time": "2023-01-15T20:39:05.490Z"
   },
   {
    "duration": 1474,
    "start_time": "2023-01-16T08:01:05.735Z"
   },
   {
    "duration": 3262,
    "start_time": "2023-01-16T08:01:07.211Z"
   },
   {
    "duration": 30,
    "start_time": "2023-01-16T08:01:10.475Z"
   },
   {
    "duration": 176,
    "start_time": "2023-01-16T08:01:10.508Z"
   },
   {
    "duration": 1082,
    "start_time": "2023-01-16T08:01:10.687Z"
   },
   {
    "duration": 688,
    "start_time": "2023-01-16T08:01:11.771Z"
   },
   {
    "duration": 150,
    "start_time": "2023-01-16T08:01:12.461Z"
   },
   {
    "duration": 543,
    "start_time": "2023-01-16T08:01:12.613Z"
   },
   {
    "duration": 6,
    "start_time": "2023-01-16T08:01:13.158Z"
   },
   {
    "duration": 29,
    "start_time": "2023-01-16T08:01:13.166Z"
   },
   {
    "duration": 654,
    "start_time": "2023-01-16T08:01:13.197Z"
   },
   {
    "duration": 244,
    "start_time": "2023-01-16T08:01:13.853Z"
   },
   {
    "duration": 1068,
    "start_time": "2023-01-16T08:01:14.100Z"
   },
   {
    "duration": 202,
    "start_time": "2023-01-16T08:01:15.173Z"
   },
   {
    "duration": 38,
    "start_time": "2023-01-16T08:01:15.379Z"
   },
   {
    "duration": 284,
    "start_time": "2023-01-16T08:01:15.419Z"
   },
   {
    "duration": 972,
    "start_time": "2023-01-16T08:01:15.705Z"
   },
   {
    "duration": 45,
    "start_time": "2023-01-16T08:01:16.679Z"
   },
   {
    "duration": 36,
    "start_time": "2023-01-16T08:01:16.726Z"
   },
   {
    "duration": 48,
    "start_time": "2023-01-16T08:01:16.765Z"
   },
   {
    "duration": 161,
    "start_time": "2023-01-16T08:01:16.815Z"
   },
   {
    "duration": 335,
    "start_time": "2023-01-16T08:01:16.978Z"
   },
   {
    "duration": 74,
    "start_time": "2023-01-16T08:01:17.315Z"
   },
   {
    "duration": 1153,
    "start_time": "2023-01-16T08:01:17.391Z"
   },
   {
    "duration": 15,
    "start_time": "2023-01-16T08:01:18.546Z"
   },
   {
    "duration": 540,
    "start_time": "2023-01-16T08:01:18.563Z"
   },
   {
    "duration": 282,
    "start_time": "2023-01-16T08:01:19.105Z"
   },
   {
    "duration": 34,
    "start_time": "2023-01-16T08:01:19.389Z"
   },
   {
    "duration": 37,
    "start_time": "2023-01-16T08:01:19.426Z"
   },
   {
    "duration": 5,
    "start_time": "2023-01-16T08:01:19.465Z"
   },
   {
    "duration": 273,
    "start_time": "2023-01-16T08:01:19.472Z"
   },
   {
    "duration": 325,
    "start_time": "2023-01-16T08:01:19.748Z"
   },
   {
    "duration": 152,
    "start_time": "2023-01-16T08:01:20.075Z"
   },
   {
    "duration": 1600,
    "start_time": "2023-01-16T08:01:20.230Z"
   },
   {
    "duration": 337,
    "start_time": "2023-01-16T08:01:21.832Z"
   },
   {
    "duration": 595,
    "start_time": "2023-01-16T08:01:22.172Z"
   },
   {
    "duration": 15,
    "start_time": "2023-01-16T08:01:22.769Z"
   },
   {
    "duration": 11,
    "start_time": "2023-01-16T08:01:22.786Z"
   },
   {
    "duration": 54,
    "start_time": "2023-01-16T08:01:22.798Z"
   },
   {
    "duration": 19,
    "start_time": "2023-01-16T08:01:22.854Z"
   },
   {
    "duration": 34368,
    "start_time": "2023-01-16T08:01:22.878Z"
   },
   {
    "duration": 18,
    "start_time": "2023-01-16T08:01:57.247Z"
   },
   {
    "duration": 52,
    "start_time": "2023-01-16T08:01:57.268Z"
   },
   {
    "duration": 88,
    "start_time": "2023-01-16T08:01:57.322Z"
   },
   {
    "duration": 67,
    "start_time": "2023-01-16T08:01:57.412Z"
   },
   {
    "duration": 2386,
    "start_time": "2023-01-16T08:01:57.482Z"
   },
   {
    "duration": 287,
    "start_time": "2023-01-16T08:01:59.870Z"
   },
   {
    "duration": 1300,
    "start_time": "2023-01-16T14:45:47.180Z"
   },
   {
    "duration": 1263,
    "start_time": "2023-01-16T14:45:48.484Z"
   },
   {
    "duration": 29,
    "start_time": "2023-01-16T14:45:49.749Z"
   },
   {
    "duration": 192,
    "start_time": "2023-01-16T14:45:49.780Z"
   },
   {
    "duration": 1160,
    "start_time": "2023-01-16T14:45:49.974Z"
   },
   {
    "duration": 738,
    "start_time": "2023-01-16T14:45:51.136Z"
   },
   {
    "duration": 158,
    "start_time": "2023-01-16T14:45:51.877Z"
   },
   {
    "duration": 578,
    "start_time": "2023-01-16T14:45:52.037Z"
   },
   {
    "duration": 4,
    "start_time": "2023-01-16T14:45:52.617Z"
   },
   {
    "duration": 48,
    "start_time": "2023-01-16T14:45:52.625Z"
   },
   {
    "duration": 705,
    "start_time": "2023-01-16T14:45:52.675Z"
   },
   {
    "duration": 253,
    "start_time": "2023-01-16T14:45:53.382Z"
   },
   {
    "duration": 1226,
    "start_time": "2023-01-16T14:45:53.637Z"
   },
   {
    "duration": 220,
    "start_time": "2023-01-16T14:45:54.865Z"
   },
   {
    "duration": 40,
    "start_time": "2023-01-16T14:45:55.087Z"
   },
   {
    "duration": 321,
    "start_time": "2023-01-16T14:45:55.129Z"
   },
   {
    "duration": 1163,
    "start_time": "2023-01-16T14:45:55.453Z"
   },
   {
    "duration": 65,
    "start_time": "2023-01-16T14:45:56.618Z"
   },
   {
    "duration": 20,
    "start_time": "2023-01-16T14:45:56.685Z"
   },
   {
    "duration": 67,
    "start_time": "2023-01-16T14:45:56.707Z"
   },
   {
    "duration": 144,
    "start_time": "2023-01-16T14:45:56.776Z"
   },
   {
    "duration": 415,
    "start_time": "2023-01-16T14:45:56.922Z"
   },
   {
    "duration": 71,
    "start_time": "2023-01-16T14:45:57.338Z"
   },
   {
    "duration": 1182,
    "start_time": "2023-01-16T14:45:57.412Z"
   },
   {
    "duration": 10,
    "start_time": "2023-01-16T14:45:58.597Z"
   },
   {
    "duration": 510,
    "start_time": "2023-01-16T14:45:58.609Z"
   },
   {
    "duration": 235,
    "start_time": "2023-01-16T14:45:59.121Z"
   },
   {
    "duration": 31,
    "start_time": "2023-01-16T14:45:59.360Z"
   },
   {
    "duration": 13,
    "start_time": "2023-01-16T14:45:59.394Z"
   },
   {
    "duration": 17,
    "start_time": "2023-01-16T14:45:59.409Z"
   },
   {
    "duration": 199,
    "start_time": "2023-01-16T14:45:59.452Z"
   },
   {
    "duration": 270,
    "start_time": "2023-01-16T14:45:59.653Z"
   },
   {
    "duration": 95,
    "start_time": "2023-01-16T14:45:59.925Z"
   },
   {
    "duration": 1129,
    "start_time": "2023-01-16T14:46:00.022Z"
   },
   {
    "duration": 245,
    "start_time": "2023-01-16T14:46:01.153Z"
   },
   {
    "duration": 554,
    "start_time": "2023-01-16T14:46:01.400Z"
   },
   {
    "duration": 11,
    "start_time": "2023-01-16T14:46:01.957Z"
   },
   {
    "duration": 15,
    "start_time": "2023-01-16T14:46:01.970Z"
   },
   {
    "duration": 17,
    "start_time": "2023-01-16T14:46:01.987Z"
   },
   {
    "duration": 48,
    "start_time": "2023-01-16T14:46:02.006Z"
   },
   {
    "duration": 31548,
    "start_time": "2023-01-16T14:46:02.056Z"
   },
   {
    "duration": 10,
    "start_time": "2023-01-16T14:46:33.606Z"
   },
   {
    "duration": 52,
    "start_time": "2023-01-16T14:46:33.618Z"
   },
   {
    "duration": 84,
    "start_time": "2023-01-16T14:46:33.672Z"
   },
   {
    "duration": 46,
    "start_time": "2023-01-16T14:46:33.758Z"
   },
   {
    "duration": 3149,
    "start_time": "2023-01-16T14:46:33.805Z"
   },
   {
    "duration": 175,
    "start_time": "2023-01-16T14:46:36.957Z"
   },
   {
    "duration": 4,
    "start_time": "2023-01-16T14:49:07.786Z"
   },
   {
    "duration": 3,
    "start_time": "2023-01-16T15:09:31.844Z"
   },
   {
    "duration": 1351,
    "start_time": "2023-01-16T15:09:40.044Z"
   },
   {
    "duration": 956,
    "start_time": "2023-01-16T15:09:41.398Z"
   },
   {
    "duration": 32,
    "start_time": "2023-01-16T15:09:42.356Z"
   },
   {
    "duration": 152,
    "start_time": "2023-01-16T15:09:42.389Z"
   },
   {
    "duration": 1009,
    "start_time": "2023-01-16T15:09:42.550Z"
   },
   {
    "duration": 704,
    "start_time": "2023-01-16T15:09:43.562Z"
   },
   {
    "duration": 129,
    "start_time": "2023-01-16T15:09:44.268Z"
   },
   {
    "duration": 518,
    "start_time": "2023-01-16T15:09:44.399Z"
   },
   {
    "duration": 5,
    "start_time": "2023-01-16T15:09:44.919Z"
   },
   {
    "duration": 59,
    "start_time": "2023-01-16T15:09:44.926Z"
   },
   {
    "duration": 624,
    "start_time": "2023-01-16T15:09:44.987Z"
   },
   {
    "duration": 245,
    "start_time": "2023-01-16T15:09:45.612Z"
   },
   {
    "duration": 1152,
    "start_time": "2023-01-16T15:09:45.859Z"
   },
   {
    "duration": 213,
    "start_time": "2023-01-16T15:09:47.014Z"
   },
   {
    "duration": 45,
    "start_time": "2023-01-16T15:09:47.229Z"
   },
   {
    "duration": 280,
    "start_time": "2023-01-16T15:09:47.276Z"
   },
   {
    "duration": 969,
    "start_time": "2023-01-16T15:09:47.558Z"
   },
   {
    "duration": 41,
    "start_time": "2023-01-16T15:09:48.530Z"
   },
   {
    "duration": 21,
    "start_time": "2023-01-16T15:09:48.574Z"
   },
   {
    "duration": 67,
    "start_time": "2023-01-16T15:09:48.598Z"
   },
   {
    "duration": 148,
    "start_time": "2023-01-16T15:09:48.667Z"
   },
   {
    "duration": 361,
    "start_time": "2023-01-16T15:09:48.817Z"
   },
   {
    "duration": 2,
    "start_time": "2023-01-16T15:09:49.180Z"
   },
   {
    "duration": 1220,
    "start_time": "2023-01-16T15:09:49.184Z"
   },
   {
    "duration": 11,
    "start_time": "2023-01-16T15:09:50.406Z"
   },
   {
    "duration": 497,
    "start_time": "2023-01-16T15:09:50.419Z"
   },
   {
    "duration": 218,
    "start_time": "2023-01-16T15:09:50.918Z"
   },
   {
    "duration": 72,
    "start_time": "2023-01-16T15:09:51.138Z"
   },
   {
    "duration": 11,
    "start_time": "2023-01-16T15:09:51.212Z"
   },
   {
    "duration": 25,
    "start_time": "2023-01-16T15:09:51.225Z"
   },
   {
    "duration": 196,
    "start_time": "2023-01-16T15:09:51.252Z"
   },
   {
    "duration": 223,
    "start_time": "2023-01-16T15:09:51.450Z"
   },
   {
    "duration": 106,
    "start_time": "2023-01-16T15:09:51.675Z"
   },
   {
    "duration": 1073,
    "start_time": "2023-01-16T15:09:51.783Z"
   },
   {
    "duration": 298,
    "start_time": "2023-01-16T15:09:52.858Z"
   },
   {
    "duration": 528,
    "start_time": "2023-01-16T15:09:53.158Z"
   },
   {
    "duration": 10,
    "start_time": "2023-01-16T15:09:53.688Z"
   },
   {
    "duration": 15,
    "start_time": "2023-01-16T15:09:53.700Z"
   },
   {
    "duration": 41,
    "start_time": "2023-01-16T15:09:53.716Z"
   },
   {
    "duration": 12,
    "start_time": "2023-01-16T15:09:53.759Z"
   },
   {
    "duration": 34160,
    "start_time": "2023-01-16T15:09:53.775Z"
   },
   {
    "duration": 15,
    "start_time": "2023-01-16T15:10:27.937Z"
   },
   {
    "duration": 26,
    "start_time": "2023-01-16T15:10:27.954Z"
   },
   {
    "duration": 108,
    "start_time": "2023-01-16T15:10:27.981Z"
   },
   {
    "duration": 66,
    "start_time": "2023-01-16T15:10:28.091Z"
   },
   {
    "duration": 3194,
    "start_time": "2023-01-16T15:10:28.159Z"
   },
   {
    "duration": 166,
    "start_time": "2023-01-16T15:10:31.355Z"
   },
   {
    "duration": 236,
    "start_time": "2023-01-16T15:19:23.031Z"
   },
   {
    "duration": 1363,
    "start_time": "2023-01-16T15:19:29.365Z"
   },
   {
    "duration": 945,
    "start_time": "2023-01-16T15:19:30.731Z"
   },
   {
    "duration": 26,
    "start_time": "2023-01-16T15:19:31.678Z"
   },
   {
    "duration": 151,
    "start_time": "2023-01-16T15:19:31.707Z"
   },
   {
    "duration": 983,
    "start_time": "2023-01-16T15:19:31.860Z"
   },
   {
    "duration": 679,
    "start_time": "2023-01-16T15:19:32.850Z"
   },
   {
    "duration": 135,
    "start_time": "2023-01-16T15:19:33.530Z"
   },
   {
    "duration": 502,
    "start_time": "2023-01-16T15:19:33.667Z"
   },
   {
    "duration": 5,
    "start_time": "2023-01-16T15:19:34.170Z"
   },
   {
    "duration": 44,
    "start_time": "2023-01-16T15:19:34.177Z"
   },
   {
    "duration": 603,
    "start_time": "2023-01-16T15:19:34.223Z"
   },
   {
    "duration": 260,
    "start_time": "2023-01-16T15:19:34.828Z"
   },
   {
    "duration": 1069,
    "start_time": "2023-01-16T15:19:35.090Z"
   },
   {
    "duration": 200,
    "start_time": "2023-01-16T15:19:36.161Z"
   },
   {
    "duration": 36,
    "start_time": "2023-01-16T15:19:36.363Z"
   },
   {
    "duration": 306,
    "start_time": "2023-01-16T15:19:36.401Z"
   },
   {
    "duration": 930,
    "start_time": "2023-01-16T15:19:36.710Z"
   },
   {
    "duration": 38,
    "start_time": "2023-01-16T15:19:37.641Z"
   },
   {
    "duration": 25,
    "start_time": "2023-01-16T15:19:37.681Z"
   },
   {
    "duration": 55,
    "start_time": "2023-01-16T15:19:37.708Z"
   },
   {
    "duration": 132,
    "start_time": "2023-01-16T15:19:37.765Z"
   },
   {
    "duration": 325,
    "start_time": "2023-01-16T15:19:37.898Z"
   },
   {
    "duration": 3,
    "start_time": "2023-01-16T15:19:38.225Z"
   },
   {
    "duration": 1106,
    "start_time": "2023-01-16T15:19:38.229Z"
   },
   {
    "duration": 15,
    "start_time": "2023-01-16T15:19:39.337Z"
   },
   {
    "duration": 575,
    "start_time": "2023-01-16T15:19:39.354Z"
   },
   {
    "duration": 239,
    "start_time": "2023-01-16T15:19:39.931Z"
   },
   {
    "duration": 78,
    "start_time": "2023-01-16T15:19:40.176Z"
   },
   {
    "duration": 13,
    "start_time": "2023-01-16T15:19:40.256Z"
   },
   {
    "duration": 8,
    "start_time": "2023-01-16T15:19:40.271Z"
   },
   {
    "duration": 217,
    "start_time": "2023-01-16T15:19:40.280Z"
   },
   {
    "duration": 245,
    "start_time": "2023-01-16T15:19:40.499Z"
   },
   {
    "duration": 91,
    "start_time": "2023-01-16T15:19:40.750Z"
   },
   {
    "duration": 1031,
    "start_time": "2023-01-16T15:19:40.851Z"
   },
   {
    "duration": 260,
    "start_time": "2023-01-16T15:19:41.884Z"
   },
   {
    "duration": 537,
    "start_time": "2023-01-16T15:19:42.146Z"
   },
   {
    "duration": 10,
    "start_time": "2023-01-16T15:19:42.685Z"
   },
   {
    "duration": 16,
    "start_time": "2023-01-16T15:19:42.696Z"
   },
   {
    "duration": 40,
    "start_time": "2023-01-16T15:19:42.714Z"
   },
   {
    "duration": 12,
    "start_time": "2023-01-16T15:19:42.756Z"
   },
   {
    "duration": 34041,
    "start_time": "2023-01-16T15:19:42.770Z"
   },
   {
    "duration": 7,
    "start_time": "2023-01-16T15:20:16.813Z"
   },
   {
    "duration": 44,
    "start_time": "2023-01-16T15:20:16.822Z"
   },
   {
    "duration": 92,
    "start_time": "2023-01-16T15:20:16.868Z"
   },
   {
    "duration": 50,
    "start_time": "2023-01-16T15:20:16.962Z"
   },
   {
    "duration": 3047,
    "start_time": "2023-01-16T15:20:17.014Z"
   },
   {
    "duration": 213,
    "start_time": "2023-01-16T15:20:20.063Z"
   },
   {
    "duration": 159,
    "start_time": "2023-01-16T15:20:28.306Z"
   },
   {
    "duration": 79,
    "start_time": "2023-01-16T15:21:01.177Z"
   },
   {
    "duration": 1345,
    "start_time": "2023-01-16T15:21:06.019Z"
   },
   {
    "duration": 941,
    "start_time": "2023-01-16T15:21:07.366Z"
   },
   {
    "duration": 53,
    "start_time": "2023-01-16T15:21:08.309Z"
   },
   {
    "duration": 157,
    "start_time": "2023-01-16T15:21:08.365Z"
   },
   {
    "duration": 1124,
    "start_time": "2023-01-16T15:21:08.524Z"
   },
   {
    "duration": 1212,
    "start_time": "2023-01-16T15:21:09.651Z"
   },
   {
    "duration": 312,
    "start_time": "2023-01-16T15:21:10.865Z"
   },
   {
    "duration": 1293,
    "start_time": "2023-01-16T15:21:11.179Z"
   },
   {
    "duration": 5,
    "start_time": "2023-01-16T15:21:12.474Z"
   },
   {
    "duration": 75,
    "start_time": "2023-01-16T15:21:12.482Z"
   },
   {
    "duration": 674,
    "start_time": "2023-01-16T15:21:12.559Z"
   },
   {
    "duration": 250,
    "start_time": "2023-01-16T15:21:13.235Z"
   },
   {
    "duration": 1174,
    "start_time": "2023-01-16T15:21:13.486Z"
   },
   {
    "duration": 204,
    "start_time": "2023-01-16T15:21:14.662Z"
   },
   {
    "duration": 48,
    "start_time": "2023-01-16T15:21:14.868Z"
   },
   {
    "duration": 320,
    "start_time": "2023-01-16T15:21:14.919Z"
   },
   {
    "duration": 995,
    "start_time": "2023-01-16T15:21:15.241Z"
   },
   {
    "duration": 115,
    "start_time": "2023-01-16T15:21:16.238Z"
   },
   {
    "duration": 38,
    "start_time": "2023-01-16T15:21:16.354Z"
   },
   {
    "duration": 18,
    "start_time": "2023-01-16T15:21:16.394Z"
   },
   {
    "duration": 68,
    "start_time": "2023-01-16T15:21:16.414Z"
   },
   {
    "duration": 156,
    "start_time": "2023-01-16T15:21:16.485Z"
   },
   {
    "duration": 335,
    "start_time": "2023-01-16T15:21:16.643Z"
   },
   {
    "duration": 3,
    "start_time": "2023-01-16T15:21:16.980Z"
   },
   {
    "duration": 1191,
    "start_time": "2023-01-16T15:21:16.985Z"
   },
   {
    "duration": 12,
    "start_time": "2023-01-16T15:21:18.179Z"
   },
   {
    "duration": 539,
    "start_time": "2023-01-16T15:21:18.202Z"
   },
   {
    "duration": 222,
    "start_time": "2023-01-16T15:21:18.750Z"
   },
   {
    "duration": 80,
    "start_time": "2023-01-16T15:21:18.974Z"
   },
   {
    "duration": 13,
    "start_time": "2023-01-16T15:21:19.057Z"
   },
   {
    "duration": 43,
    "start_time": "2023-01-16T15:21:19.072Z"
   },
   {
    "duration": 229,
    "start_time": "2023-01-16T15:21:19.117Z"
   },
   {
    "duration": 242,
    "start_time": "2023-01-16T15:21:19.348Z"
   },
   {
    "duration": 115,
    "start_time": "2023-01-16T15:21:19.593Z"
   },
   {
    "duration": 1169,
    "start_time": "2023-01-16T15:21:19.712Z"
   },
   {
    "duration": 279,
    "start_time": "2023-01-16T15:21:20.883Z"
   },
   {
    "duration": 567,
    "start_time": "2023-01-16T15:21:21.164Z"
   },
   {
    "duration": 19,
    "start_time": "2023-01-16T15:21:21.733Z"
   },
   {
    "duration": 16,
    "start_time": "2023-01-16T15:21:21.754Z"
   },
   {
    "duration": 33,
    "start_time": "2023-01-16T15:21:21.772Z"
   },
   {
    "duration": 12,
    "start_time": "2023-01-16T15:21:21.807Z"
   },
   {
    "duration": 33676,
    "start_time": "2023-01-16T15:21:21.821Z"
   },
   {
    "duration": 11,
    "start_time": "2023-01-16T15:21:55.500Z"
   },
   {
    "duration": 45,
    "start_time": "2023-01-16T15:21:55.513Z"
   },
   {
    "duration": 129,
    "start_time": "2023-01-16T15:21:55.561Z"
   },
   {
    "duration": 73,
    "start_time": "2023-01-16T15:21:55.692Z"
   },
   {
    "duration": 3486,
    "start_time": "2023-01-16T15:21:55.767Z"
   },
   {
    "duration": 73,
    "start_time": "2023-01-16T15:21:59.255Z"
   },
   {
    "duration": 10,
    "start_time": "2023-01-16T17:05:16.221Z"
   },
   {
    "duration": 14,
    "start_time": "2023-01-16T17:08:59.931Z"
   },
   {
    "duration": 5,
    "start_time": "2023-01-16T17:09:40.832Z"
   },
   {
    "duration": 1351,
    "start_time": "2023-01-16T17:09:45.452Z"
   },
   {
    "duration": 967,
    "start_time": "2023-01-16T17:09:46.805Z"
   },
   {
    "duration": 28,
    "start_time": "2023-01-16T17:09:47.774Z"
   },
   {
    "duration": 163,
    "start_time": "2023-01-16T17:09:47.805Z"
   },
   {
    "duration": 1048,
    "start_time": "2023-01-16T17:09:47.969Z"
   },
   {
    "duration": 799,
    "start_time": "2023-01-16T17:09:49.019Z"
   },
   {
    "duration": 174,
    "start_time": "2023-01-16T17:09:49.820Z"
   },
   {
    "duration": 533,
    "start_time": "2023-01-16T17:09:49.996Z"
   },
   {
    "duration": 5,
    "start_time": "2023-01-16T17:09:50.531Z"
   },
   {
    "duration": 46,
    "start_time": "2023-01-16T17:09:50.539Z"
   },
   {
    "duration": 634,
    "start_time": "2023-01-16T17:09:50.587Z"
   },
   {
    "duration": 270,
    "start_time": "2023-01-16T17:09:51.224Z"
   },
   {
    "duration": 1119,
    "start_time": "2023-01-16T17:09:51.496Z"
   },
   {
    "duration": 209,
    "start_time": "2023-01-16T17:09:52.618Z"
   },
   {
    "duration": 68,
    "start_time": "2023-01-16T17:09:52.829Z"
   },
   {
    "duration": 6,
    "start_time": "2023-01-16T17:09:52.899Z"
   },
   {
    "duration": 20,
    "start_time": "2023-01-16T17:09:52.907Z"
   },
   {
    "duration": 1099,
    "start_time": "2023-01-16T17:09:52.929Z"
   },
   {
    "duration": 120,
    "start_time": "2023-01-16T17:09:54.031Z"
   },
   {
    "duration": 55,
    "start_time": "2023-01-16T17:09:54.153Z"
   },
   {
    "duration": 42,
    "start_time": "2023-01-16T17:09:54.210Z"
   },
   {
    "duration": 46,
    "start_time": "2023-01-16T17:09:54.254Z"
   },
   {
    "duration": 171,
    "start_time": "2023-01-16T17:09:54.302Z"
   },
   {
    "duration": 354,
    "start_time": "2023-01-16T17:09:54.476Z"
   },
   {
    "duration": 3,
    "start_time": "2023-01-16T17:09:54.831Z"
   },
   {
    "duration": 1190,
    "start_time": "2023-01-16T17:09:54.836Z"
   },
   {
    "duration": 10,
    "start_time": "2023-01-16T17:09:56.028Z"
   },
   {
    "duration": 632,
    "start_time": "2023-01-16T17:09:56.054Z"
   },
   {
    "duration": 260,
    "start_time": "2023-01-16T17:09:56.688Z"
   },
   {
    "duration": 105,
    "start_time": "2023-01-16T17:09:56.951Z"
   },
   {
    "duration": 12,
    "start_time": "2023-01-16T17:09:57.057Z"
   },
   {
    "duration": 14,
    "start_time": "2023-01-16T17:09:57.070Z"
   },
   {
    "duration": 222,
    "start_time": "2023-01-16T17:09:57.086Z"
   },
   {
    "duration": 281,
    "start_time": "2023-01-16T17:09:57.310Z"
   },
   {
    "duration": 121,
    "start_time": "2023-01-16T17:09:57.593Z"
   },
   {
    "duration": 1196,
    "start_time": "2023-01-16T17:09:57.717Z"
   },
   {
    "duration": 299,
    "start_time": "2023-01-16T17:09:58.917Z"
   },
   {
    "duration": 592,
    "start_time": "2023-01-16T17:09:59.218Z"
   },
   {
    "duration": 13,
    "start_time": "2023-01-16T17:09:59.812Z"
   },
   {
    "duration": 31,
    "start_time": "2023-01-16T17:09:59.827Z"
   },
   {
    "duration": 20,
    "start_time": "2023-01-16T17:09:59.860Z"
   },
   {
    "duration": 22,
    "start_time": "2023-01-16T17:09:59.885Z"
   },
   {
    "duration": 35454,
    "start_time": "2023-01-16T17:09:59.909Z"
   },
   {
    "duration": 7,
    "start_time": "2023-01-16T17:10:35.365Z"
   },
   {
    "duration": 70,
    "start_time": "2023-01-16T17:10:35.374Z"
   },
   {
    "duration": 109,
    "start_time": "2023-01-16T17:10:35.447Z"
   },
   {
    "duration": 72,
    "start_time": "2023-01-16T17:10:35.558Z"
   },
   {
    "duration": 3709,
    "start_time": "2023-01-16T17:10:35.650Z"
   },
   {
    "duration": 180,
    "start_time": "2023-01-16T17:10:39.361Z"
   },
   {
    "duration": 141,
    "start_time": "2023-01-16T17:17:42.477Z"
   },
   {
    "duration": 10,
    "start_time": "2023-01-16T17:18:01.774Z"
   },
   {
    "duration": 40,
    "start_time": "2023-01-16T17:18:18.647Z"
   },
   {
    "duration": 13,
    "start_time": "2023-01-16T17:18:20.781Z"
   },
   {
    "duration": 24,
    "start_time": "2023-01-16T17:18:33.071Z"
   },
   {
    "duration": 10,
    "start_time": "2023-01-16T17:18:33.731Z"
   },
   {
    "duration": 1376,
    "start_time": "2023-01-16T17:20:29.274Z"
   },
   {
    "duration": 940,
    "start_time": "2023-01-16T17:20:30.653Z"
   },
   {
    "duration": 55,
    "start_time": "2023-01-16T17:20:31.596Z"
   },
   {
    "duration": 161,
    "start_time": "2023-01-16T17:20:31.654Z"
   },
   {
    "duration": 2260,
    "start_time": "2023-01-16T17:20:31.817Z"
   },
   {
    "duration": 740,
    "start_time": "2023-01-16T17:20:34.079Z"
   },
   {
    "duration": 147,
    "start_time": "2023-01-16T17:20:34.821Z"
   },
   {
    "duration": 520,
    "start_time": "2023-01-16T17:20:34.970Z"
   },
   {
    "duration": 4,
    "start_time": "2023-01-16T17:20:35.492Z"
   },
   {
    "duration": 32,
    "start_time": "2023-01-16T17:20:35.499Z"
   },
   {
    "duration": 640,
    "start_time": "2023-01-16T17:20:35.533Z"
   },
   {
    "duration": 231,
    "start_time": "2023-01-16T17:20:36.175Z"
   },
   {
    "duration": 1039,
    "start_time": "2023-01-16T17:20:36.408Z"
   },
   {
    "duration": 197,
    "start_time": "2023-01-16T17:20:37.449Z"
   },
   {
    "duration": 37,
    "start_time": "2023-01-16T17:20:37.650Z"
   },
   {
    "duration": 37,
    "start_time": "2023-01-16T17:20:37.689Z"
   },
   {
    "duration": 32,
    "start_time": "2023-01-16T17:20:37.728Z"
   },
   {
    "duration": 108,
    "start_time": "2023-01-16T17:20:37.762Z"
   },
   {
    "duration": 3,
    "start_time": "2023-01-16T17:20:37.872Z"
   },
   {
    "duration": 995,
    "start_time": "2023-01-16T17:20:37.877Z"
   },
   {
    "duration": 104,
    "start_time": "2023-01-16T17:20:38.874Z"
   },
   {
    "duration": 38,
    "start_time": "2023-01-16T17:20:38.980Z"
   },
   {
    "duration": 38,
    "start_time": "2023-01-16T17:20:39.020Z"
   },
   {
    "duration": 36,
    "start_time": "2023-01-16T17:20:39.060Z"
   },
   {
    "duration": 178,
    "start_time": "2023-01-16T17:20:39.097Z"
   },
   {
    "duration": 330,
    "start_time": "2023-01-16T17:20:39.277Z"
   },
   {
    "duration": 4,
    "start_time": "2023-01-16T17:20:39.609Z"
   },
   {
    "duration": 1207,
    "start_time": "2023-01-16T17:20:39.619Z"
   },
   {
    "duration": 9,
    "start_time": "2023-01-16T17:20:40.828Z"
   },
   {
    "duration": 499,
    "start_time": "2023-01-16T17:20:40.839Z"
   },
   {
    "duration": 216,
    "start_time": "2023-01-16T17:20:41.340Z"
   },
   {
    "duration": 59,
    "start_time": "2023-01-16T17:20:41.557Z"
   },
   {
    "duration": 32,
    "start_time": "2023-01-16T17:20:41.619Z"
   },
   {
    "duration": 4,
    "start_time": "2023-01-16T17:20:41.653Z"
   },
   {
    "duration": 176,
    "start_time": "2023-01-16T17:20:41.659Z"
   },
   {
    "duration": 226,
    "start_time": "2023-01-16T17:20:41.837Z"
   },
   {
    "duration": 99,
    "start_time": "2023-01-16T17:20:42.065Z"
   },
   {
    "duration": 1022,
    "start_time": "2023-01-16T17:20:42.166Z"
   },
   {
    "duration": 275,
    "start_time": "2023-01-16T17:20:43.191Z"
   },
   {
    "duration": 517,
    "start_time": "2023-01-16T17:20:43.468Z"
   },
   {
    "duration": 11,
    "start_time": "2023-01-16T17:20:43.986Z"
   },
   {
    "duration": 10,
    "start_time": "2023-01-16T17:20:43.998Z"
   },
   {
    "duration": 47,
    "start_time": "2023-01-16T17:20:44.010Z"
   },
   {
    "duration": 12,
    "start_time": "2023-01-16T17:20:44.059Z"
   },
   {
    "duration": 33277,
    "start_time": "2023-01-16T17:20:44.073Z"
   },
   {
    "duration": 7,
    "start_time": "2023-01-16T17:21:17.352Z"
   },
   {
    "duration": 41,
    "start_time": "2023-01-16T17:21:17.361Z"
   },
   {
    "duration": 78,
    "start_time": "2023-01-16T17:21:17.404Z"
   },
   {
    "duration": 72,
    "start_time": "2023-01-16T17:21:17.485Z"
   },
   {
    "duration": 2904,
    "start_time": "2023-01-16T17:21:17.559Z"
   },
   {
    "duration": 258,
    "start_time": "2023-01-16T17:21:20.465Z"
   },
   {
    "duration": 513,
    "start_time": "2023-01-16T19:50:54.935Z"
   },
   {
    "duration": 1355,
    "start_time": "2023-01-17T11:29:23.646Z"
   },
   {
    "duration": 1029,
    "start_time": "2023-01-17T11:29:25.003Z"
   },
   {
    "duration": 24,
    "start_time": "2023-01-17T11:29:26.034Z"
   },
   {
    "duration": 120,
    "start_time": "2023-01-17T11:29:26.060Z"
   },
   {
    "duration": 860,
    "start_time": "2023-01-17T11:29:26.181Z"
   },
   {
    "duration": 632,
    "start_time": "2023-01-17T11:29:27.042Z"
   },
   {
    "duration": 104,
    "start_time": "2023-01-17T11:29:27.675Z"
   },
   {
    "duration": 445,
    "start_time": "2023-01-17T11:29:27.781Z"
   },
   {
    "duration": 5,
    "start_time": "2023-01-17T11:29:28.228Z"
   },
   {
    "duration": 46,
    "start_time": "2023-01-17T11:29:28.236Z"
   },
   {
    "duration": 529,
    "start_time": "2023-01-17T11:29:28.284Z"
   },
   {
    "duration": 222,
    "start_time": "2023-01-17T11:29:28.814Z"
   },
   {
    "duration": 979,
    "start_time": "2023-01-17T11:29:29.037Z"
   },
   {
    "duration": 177,
    "start_time": "2023-01-17T11:29:30.017Z"
   },
   {
    "duration": 39,
    "start_time": "2023-01-17T11:29:30.197Z"
   },
   {
    "duration": 37,
    "start_time": "2023-01-17T11:29:30.238Z"
   },
   {
    "duration": 103,
    "start_time": "2023-01-17T11:29:30.276Z"
   },
   {
    "duration": 3,
    "start_time": "2023-01-17T11:29:30.381Z"
   },
   {
    "duration": 965,
    "start_time": "2023-01-17T11:29:30.386Z"
   },
   {
    "duration": 83,
    "start_time": "2023-01-17T11:29:31.353Z"
   },
   {
    "duration": 30,
    "start_time": "2023-01-17T11:29:31.438Z"
   },
   {
    "duration": 21,
    "start_time": "2023-01-17T11:29:31.470Z"
   },
   {
    "duration": 48,
    "start_time": "2023-01-17T11:29:31.492Z"
   },
   {
    "duration": 131,
    "start_time": "2023-01-17T11:29:31.541Z"
   },
   {
    "duration": 294,
    "start_time": "2023-01-17T11:29:31.674Z"
   },
   {
    "duration": 3,
    "start_time": "2023-01-17T11:29:31.970Z"
   },
   {
    "duration": 1014,
    "start_time": "2023-01-17T11:29:31.975Z"
   },
   {
    "duration": 8,
    "start_time": "2023-01-17T11:29:32.992Z"
   },
   {
    "duration": 452,
    "start_time": "2023-01-17T11:29:33.001Z"
   },
   {
    "duration": 200,
    "start_time": "2023-01-17T11:29:33.455Z"
   },
   {
    "duration": 68,
    "start_time": "2023-01-17T11:29:33.656Z"
   },
   {
    "duration": 10,
    "start_time": "2023-01-17T11:29:33.726Z"
   },
   {
    "duration": 7,
    "start_time": "2023-01-17T11:29:33.738Z"
   },
   {
    "duration": 167,
    "start_time": "2023-01-17T11:29:33.746Z"
   },
   {
    "duration": 198,
    "start_time": "2023-01-17T11:29:33.915Z"
   },
   {
    "duration": 69,
    "start_time": "2023-01-17T11:29:34.114Z"
   },
   {
    "duration": 1025,
    "start_time": "2023-01-17T11:29:34.185Z"
   },
   {
    "duration": 248,
    "start_time": "2023-01-17T11:29:35.211Z"
   },
   {
    "duration": 495,
    "start_time": "2023-01-17T11:29:35.461Z"
   },
   {
    "duration": 9,
    "start_time": "2023-01-17T11:29:35.958Z"
   },
   {
    "duration": 54,
    "start_time": "2023-01-17T11:29:35.969Z"
   },
   {
    "duration": 31,
    "start_time": "2023-01-17T11:29:36.025Z"
   },
   {
    "duration": 21,
    "start_time": "2023-01-17T11:29:36.057Z"
   },
   {
    "duration": 30782,
    "start_time": "2023-01-17T11:29:36.080Z"
   },
   {
    "duration": 14,
    "start_time": "2023-01-17T11:30:06.864Z"
   },
   {
    "duration": 55,
    "start_time": "2023-01-17T11:30:06.880Z"
   },
   {
    "duration": 72,
    "start_time": "2023-01-17T11:30:06.937Z"
   },
   {
    "duration": 54,
    "start_time": "2023-01-17T11:30:07.010Z"
   },
   {
    "duration": 2647,
    "start_time": "2023-01-17T11:30:07.066Z"
   },
   {
    "duration": 152,
    "start_time": "2023-01-17T11:30:09.715Z"
   },
   {
    "duration": 20,
    "start_time": "2023-01-17T11:30:55.325Z"
   },
   {
    "duration": 60,
    "start_time": "2023-01-17T11:31:06.137Z"
   },
   {
    "duration": 2,
    "start_time": "2023-01-17T11:35:16.735Z"
   },
   {
    "duration": 1183,
    "start_time": "2023-01-17T11:35:22.209Z"
   },
   {
    "duration": 741,
    "start_time": "2023-01-17T11:35:23.395Z"
   },
   {
    "duration": 27,
    "start_time": "2023-01-17T11:35:24.138Z"
   },
   {
    "duration": 114,
    "start_time": "2023-01-17T11:35:24.167Z"
   },
   {
    "duration": 869,
    "start_time": "2023-01-17T11:35:24.282Z"
   },
   {
    "duration": 648,
    "start_time": "2023-01-17T11:35:25.152Z"
   },
   {
    "duration": 113,
    "start_time": "2023-01-17T11:35:25.802Z"
   },
   {
    "duration": 461,
    "start_time": "2023-01-17T11:35:25.917Z"
   },
   {
    "duration": 2,
    "start_time": "2023-01-17T11:35:26.380Z"
   },
   {
    "duration": 6,
    "start_time": "2023-01-17T11:35:26.385Z"
   },
   {
    "duration": 39,
    "start_time": "2023-01-17T11:35:26.393Z"
   },
   {
    "duration": 564,
    "start_time": "2023-01-17T11:35:26.434Z"
   },
   {
    "duration": 235,
    "start_time": "2023-01-17T11:35:27.001Z"
   },
   {
    "duration": 1002,
    "start_time": "2023-01-17T11:35:27.238Z"
   },
   {
    "duration": 182,
    "start_time": "2023-01-17T11:35:28.243Z"
   },
   {
    "duration": 31,
    "start_time": "2023-01-17T11:35:28.427Z"
   },
   {
    "duration": 55,
    "start_time": "2023-01-17T11:35:28.460Z"
   },
   {
    "duration": 80,
    "start_time": "2023-01-17T11:35:28.517Z"
   },
   {
    "duration": 15,
    "start_time": "2023-01-17T11:35:28.599Z"
   },
   {
    "duration": 935,
    "start_time": "2023-01-17T11:35:28.617Z"
   },
   {
    "duration": 90,
    "start_time": "2023-01-17T11:35:29.553Z"
   },
   {
    "duration": 29,
    "start_time": "2023-01-17T11:35:29.645Z"
   },
   {
    "duration": 14,
    "start_time": "2023-01-17T11:35:29.676Z"
   },
   {
    "duration": 48,
    "start_time": "2023-01-17T11:35:29.691Z"
   },
   {
    "duration": 114,
    "start_time": "2023-01-17T11:35:29.741Z"
   },
   {
    "duration": 309,
    "start_time": "2023-01-17T11:35:29.857Z"
   },
   {
    "duration": 2,
    "start_time": "2023-01-17T11:35:30.168Z"
   },
   {
    "duration": 1073,
    "start_time": "2023-01-17T11:35:30.173Z"
   },
   {
    "duration": 8,
    "start_time": "2023-01-17T11:35:31.248Z"
   },
   {
    "duration": 473,
    "start_time": "2023-01-17T11:35:31.257Z"
   },
   {
    "duration": 198,
    "start_time": "2023-01-17T11:35:31.732Z"
   },
   {
    "duration": 56,
    "start_time": "2023-01-17T11:35:31.932Z"
   },
   {
    "duration": 27,
    "start_time": "2023-01-17T11:35:31.989Z"
   },
   {
    "duration": 5,
    "start_time": "2023-01-17T11:35:32.018Z"
   },
   {
    "duration": 169,
    "start_time": "2023-01-17T11:35:32.024Z"
   },
   {
    "duration": 201,
    "start_time": "2023-01-17T11:35:32.195Z"
   },
   {
    "duration": 73,
    "start_time": "2023-01-17T11:35:32.398Z"
   },
   {
    "duration": 998,
    "start_time": "2023-01-17T11:35:32.474Z"
   },
   {
    "duration": 272,
    "start_time": "2023-01-17T11:35:33.475Z"
   },
   {
    "duration": 509,
    "start_time": "2023-01-17T11:35:33.749Z"
   },
   {
    "duration": 9,
    "start_time": "2023-01-17T11:35:34.260Z"
   },
   {
    "duration": 9,
    "start_time": "2023-01-17T11:35:34.271Z"
   },
   {
    "duration": 36,
    "start_time": "2023-01-17T11:35:34.281Z"
   },
   {
    "duration": 10,
    "start_time": "2023-01-17T11:35:34.320Z"
   },
   {
    "duration": 32755,
    "start_time": "2023-01-17T11:35:34.332Z"
   },
   {
    "duration": 6,
    "start_time": "2023-01-17T11:36:07.089Z"
   },
   {
    "duration": 101,
    "start_time": "2023-01-17T11:36:07.097Z"
   },
   {
    "duration": 60,
    "start_time": "2023-01-17T11:36:07.200Z"
   },
   {
    "duration": 59,
    "start_time": "2023-01-17T11:36:07.262Z"
   },
   {
    "duration": 2794,
    "start_time": "2023-01-17T11:36:07.323Z"
   },
   {
    "duration": 172,
    "start_time": "2023-01-17T11:36:10.119Z"
   },
   {
    "duration": 42,
    "start_time": "2023-01-17T11:36:10.293Z"
   },
   {
    "duration": 90,
    "start_time": "2023-01-17T11:36:10.337Z"
   },
   {
    "duration": 70,
    "start_time": "2023-01-17T13:33:02.848Z"
   },
   {
    "duration": 19,
    "start_time": "2023-01-17T13:41:01.099Z"
   },
   {
    "duration": 19,
    "start_time": "2023-01-17T13:42:17.956Z"
   },
   {
    "duration": 8,
    "start_time": "2023-01-17T13:42:27.909Z"
   },
   {
    "duration": 16,
    "start_time": "2023-01-17T13:42:45.918Z"
   },
   {
    "duration": 17,
    "start_time": "2023-01-17T13:43:25.736Z"
   },
   {
    "duration": 122,
    "start_time": "2023-01-17T13:44:21.667Z"
   },
   {
    "duration": 753,
    "start_time": "2023-01-17T13:44:50.127Z"
   },
   {
    "duration": 30,
    "start_time": "2023-01-17T13:45:01.261Z"
   },
   {
    "duration": 94,
    "start_time": "2023-01-17T13:45:43.487Z"
   },
   {
    "duration": 1185,
    "start_time": "2023-01-17T13:47:40.234Z"
   },
   {
    "duration": 745,
    "start_time": "2023-01-17T13:47:41.421Z"
   },
   {
    "duration": 23,
    "start_time": "2023-01-17T13:47:42.168Z"
   },
   {
    "duration": 110,
    "start_time": "2023-01-17T13:47:42.193Z"
   },
   {
    "duration": 816,
    "start_time": "2023-01-17T13:47:42.312Z"
   },
   {
    "duration": 610,
    "start_time": "2023-01-17T13:47:43.130Z"
   },
   {
    "duration": 104,
    "start_time": "2023-01-17T13:47:43.742Z"
   },
   {
    "duration": 440,
    "start_time": "2023-01-17T13:47:43.848Z"
   },
   {
    "duration": 3,
    "start_time": "2023-01-17T13:47:44.289Z"
   },
   {
    "duration": 8,
    "start_time": "2023-01-17T13:47:44.294Z"
   },
   {
    "duration": 24,
    "start_time": "2023-01-17T13:47:44.313Z"
   },
   {
    "duration": 536,
    "start_time": "2023-01-17T13:47:44.339Z"
   },
   {
    "duration": 229,
    "start_time": "2023-01-17T13:47:44.876Z"
   },
   {
    "duration": 978,
    "start_time": "2023-01-17T13:47:45.108Z"
   },
   {
    "duration": 174,
    "start_time": "2023-01-17T13:47:46.088Z"
   },
   {
    "duration": 35,
    "start_time": "2023-01-17T13:47:46.264Z"
   },
   {
    "duration": 35,
    "start_time": "2023-01-17T13:47:46.313Z"
   },
   {
    "duration": 90,
    "start_time": "2023-01-17T13:47:46.350Z"
   },
   {
    "duration": 3,
    "start_time": "2023-01-17T13:47:46.441Z"
   },
   {
    "duration": 964,
    "start_time": "2023-01-17T13:47:46.445Z"
   },
   {
    "duration": 32,
    "start_time": "2023-01-17T13:47:47.411Z"
   },
   {
    "duration": 15,
    "start_time": "2023-01-17T13:47:47.445Z"
   },
   {
    "duration": 58,
    "start_time": "2023-01-17T13:47:47.462Z"
   },
   {
    "duration": 114,
    "start_time": "2023-01-17T13:47:47.522Z"
   },
   {
    "duration": 304,
    "start_time": "2023-01-17T13:47:47.638Z"
   },
   {
    "duration": 2,
    "start_time": "2023-01-17T13:47:47.944Z"
   },
   {
    "duration": 1047,
    "start_time": "2023-01-17T13:47:47.948Z"
   },
   {
    "duration": 17,
    "start_time": "2023-01-17T13:47:48.997Z"
   },
   {
    "duration": 485,
    "start_time": "2023-01-17T13:47:49.016Z"
   },
   {
    "duration": 189,
    "start_time": "2023-01-17T13:47:49.503Z"
   },
   {
    "duration": 67,
    "start_time": "2023-01-17T13:47:49.694Z"
   },
   {
    "duration": 10,
    "start_time": "2023-01-17T13:47:49.762Z"
   },
   {
    "duration": 5,
    "start_time": "2023-01-17T13:47:49.774Z"
   },
   {
    "duration": 168,
    "start_time": "2023-01-17T13:47:49.781Z"
   },
   {
    "duration": 200,
    "start_time": "2023-01-17T13:47:49.950Z"
   },
   {
    "duration": 1074,
    "start_time": "2023-01-17T13:47:50.152Z"
   },
   {
    "duration": 255,
    "start_time": "2023-01-17T13:47:51.228Z"
   },
   {
    "duration": 487,
    "start_time": "2023-01-17T13:47:51.485Z"
   },
   {
    "duration": 9,
    "start_time": "2023-01-17T13:47:51.974Z"
   },
   {
    "duration": 29,
    "start_time": "2023-01-17T13:47:51.985Z"
   },
   {
    "duration": 17,
    "start_time": "2023-01-17T13:47:52.017Z"
   },
   {
    "duration": 14,
    "start_time": "2023-01-17T13:47:52.036Z"
   },
   {
    "duration": 31928,
    "start_time": "2023-01-17T13:47:52.053Z"
   },
   {
    "duration": 7,
    "start_time": "2023-01-17T13:48:23.983Z"
   },
   {
    "duration": 41,
    "start_time": "2023-01-17T13:48:23.991Z"
   },
   {
    "duration": 47,
    "start_time": "2023-01-17T13:48:24.034Z"
   },
   {
    "duration": 3340,
    "start_time": "2023-01-17T13:48:24.083Z"
   },
   {
    "duration": 112,
    "start_time": "2023-01-17T13:48:27.425Z"
   },
   {
    "duration": 83,
    "start_time": "2023-01-17T13:48:27.539Z"
   },
   {
    "duration": 19,
    "start_time": "2023-01-17T13:48:27.624Z"
   },
   {
    "duration": 926,
    "start_time": "2023-01-17T13:48:27.645Z"
   },
   {
    "duration": 25,
    "start_time": "2023-01-17T13:48:41.073Z"
   },
   {
    "duration": 709,
    "start_time": "2023-01-17T13:49:28.606Z"
   },
   {
    "duration": 17,
    "start_time": "2023-01-17T13:49:36.481Z"
   },
   {
    "duration": 241,
    "start_time": "2023-01-17T13:50:43.307Z"
   },
   {
    "duration": 673,
    "start_time": "2023-01-17T13:54:34.641Z"
   },
   {
    "duration": 41,
    "start_time": "2023-01-17T13:58:35.144Z"
   },
   {
    "duration": 19,
    "start_time": "2023-01-17T13:58:56.515Z"
   },
   {
    "duration": 981,
    "start_time": "2023-01-17T13:59:29.308Z"
   },
   {
    "duration": 16,
    "start_time": "2023-01-17T13:59:32.231Z"
   },
   {
    "duration": 61,
    "start_time": "2023-01-17T13:59:50.131Z"
   },
   {
    "duration": 1376,
    "start_time": "2023-01-17T13:59:56.408Z"
   },
   {
    "duration": 783,
    "start_time": "2023-01-17T13:59:57.786Z"
   },
   {
    "duration": 30,
    "start_time": "2023-01-17T13:59:58.571Z"
   },
   {
    "duration": 126,
    "start_time": "2023-01-17T13:59:58.613Z"
   },
   {
    "duration": 906,
    "start_time": "2023-01-17T13:59:58.743Z"
   },
   {
    "duration": 642,
    "start_time": "2023-01-17T13:59:59.650Z"
   },
   {
    "duration": 110,
    "start_time": "2023-01-17T14:00:00.294Z"
   },
   {
    "duration": 577,
    "start_time": "2023-01-17T14:00:00.413Z"
   },
   {
    "duration": 6,
    "start_time": "2023-01-17T14:00:00.992Z"
   },
   {
    "duration": 52,
    "start_time": "2023-01-17T14:00:01.000Z"
   },
   {
    "duration": 35,
    "start_time": "2023-01-17T14:00:01.054Z"
   },
   {
    "duration": 556,
    "start_time": "2023-01-17T14:00:01.091Z"
   },
   {
    "duration": 244,
    "start_time": "2023-01-17T14:00:01.648Z"
   },
   {
    "duration": 1061,
    "start_time": "2023-01-17T14:00:01.895Z"
   },
   {
    "duration": 199,
    "start_time": "2023-01-17T14:00:02.957Z"
   },
   {
    "duration": 36,
    "start_time": "2023-01-17T14:00:03.158Z"
   },
   {
    "duration": 92,
    "start_time": "2023-01-17T14:00:03.195Z"
   },
   {
    "duration": 84,
    "start_time": "2023-01-17T14:00:03.289Z"
   },
   {
    "duration": 3,
    "start_time": "2023-01-17T14:00:03.375Z"
   },
   {
    "duration": 945,
    "start_time": "2023-01-17T14:00:03.379Z"
   },
   {
    "duration": 32,
    "start_time": "2023-01-17T14:00:04.326Z"
   },
   {
    "duration": 24,
    "start_time": "2023-01-17T14:00:04.360Z"
   },
   {
    "duration": 61,
    "start_time": "2023-01-17T14:00:04.386Z"
   },
   {
    "duration": 185,
    "start_time": "2023-01-17T14:00:04.449Z"
   },
   {
    "duration": 481,
    "start_time": "2023-01-17T14:00:04.636Z"
   },
   {
    "duration": 3,
    "start_time": "2023-01-17T14:00:05.119Z"
   },
   {
    "duration": 942,
    "start_time": "2023-01-17T14:00:05.123Z"
   },
   {
    "duration": 7,
    "start_time": "2023-01-17T14:00:06.067Z"
   },
   {
    "duration": 475,
    "start_time": "2023-01-17T14:00:06.075Z"
   },
   {
    "duration": 204,
    "start_time": "2023-01-17T14:00:06.552Z"
   },
   {
    "duration": 65,
    "start_time": "2023-01-17T14:00:06.758Z"
   },
   {
    "duration": 14,
    "start_time": "2023-01-17T14:00:06.825Z"
   },
   {
    "duration": 30,
    "start_time": "2023-01-17T14:00:06.841Z"
   },
   {
    "duration": 246,
    "start_time": "2023-01-17T14:00:06.874Z"
   },
   {
    "duration": 204,
    "start_time": "2023-01-17T14:00:07.121Z"
   },
   {
    "duration": 1045,
    "start_time": "2023-01-17T14:00:07.327Z"
   },
   {
    "duration": 247,
    "start_time": "2023-01-17T14:00:08.374Z"
   },
   {
    "duration": 530,
    "start_time": "2023-01-17T14:00:08.623Z"
   },
   {
    "duration": 10,
    "start_time": "2023-01-17T14:00:09.155Z"
   },
   {
    "duration": 25,
    "start_time": "2023-01-17T14:00:09.167Z"
   },
   {
    "duration": 23,
    "start_time": "2023-01-17T14:00:09.197Z"
   },
   {
    "duration": 12,
    "start_time": "2023-01-17T14:00:09.221Z"
   },
   {
    "duration": 33352,
    "start_time": "2023-01-17T14:00:09.235Z"
   },
   {
    "duration": 8,
    "start_time": "2023-01-17T14:00:42.589Z"
   },
   {
    "duration": 45,
    "start_time": "2023-01-17T14:00:42.598Z"
   },
   {
    "duration": 48,
    "start_time": "2023-01-17T14:00:42.646Z"
   },
   {
    "duration": 2522,
    "start_time": "2023-01-17T14:00:42.696Z"
   },
   {
    "duration": 105,
    "start_time": "2023-01-17T14:00:45.220Z"
   },
   {
    "duration": 71,
    "start_time": "2023-01-17T14:00:45.327Z"
   },
   {
    "duration": 28,
    "start_time": "2023-01-17T14:00:45.400Z"
   },
   {
    "duration": 83,
    "start_time": "2023-01-17T14:00:45.430Z"
   },
   {
    "duration": 677,
    "start_time": "2023-01-17T14:00:45.514Z"
   },
   {
    "duration": 25,
    "start_time": "2023-01-17T14:00:46.193Z"
   },
   {
    "duration": 722,
    "start_time": "2023-01-17T14:00:46.220Z"
   },
   {
    "duration": 0,
    "start_time": "2023-01-17T14:00:46.945Z"
   },
   {
    "duration": 0,
    "start_time": "2023-01-17T14:00:46.946Z"
   },
   {
    "duration": 0,
    "start_time": "2023-01-17T14:00:46.947Z"
   },
   {
    "duration": 11,
    "start_time": "2023-01-17T14:00:53.540Z"
   },
   {
    "duration": 4,
    "start_time": "2023-01-17T14:01:01.514Z"
   },
   {
    "duration": 17,
    "start_time": "2023-01-17T14:01:36.459Z"
   },
   {
    "duration": 986,
    "start_time": "2023-01-17T14:01:37.912Z"
   },
   {
    "duration": 18,
    "start_time": "2023-01-17T14:01:39.860Z"
   },
   {
    "duration": 15,
    "start_time": "2023-01-17T14:02:35.168Z"
   },
   {
    "duration": 4,
    "start_time": "2023-01-17T14:03:25.579Z"
   },
   {
    "duration": 871,
    "start_time": "2023-01-17T14:16:15.951Z"
   },
   {
    "duration": 17,
    "start_time": "2023-01-17T14:16:39.537Z"
   },
   {
    "duration": 23,
    "start_time": "2023-01-17T14:17:18.053Z"
   },
   {
    "duration": 22,
    "start_time": "2023-01-17T14:17:21.480Z"
   },
   {
    "duration": 19,
    "start_time": "2023-01-17T15:49:15.932Z"
   },
   {
    "duration": 17,
    "start_time": "2023-01-17T15:49:16.546Z"
   },
   {
    "duration": 30,
    "start_time": "2023-01-17T15:49:18.039Z"
   },
   {
    "duration": 26,
    "start_time": "2023-01-17T16:04:43.905Z"
   },
   {
    "duration": 1423,
    "start_time": "2023-01-17T16:04:47.081Z"
   },
   {
    "duration": 821,
    "start_time": "2023-01-17T16:04:48.506Z"
   },
   {
    "duration": 25,
    "start_time": "2023-01-17T16:04:49.328Z"
   },
   {
    "duration": 129,
    "start_time": "2023-01-17T16:04:49.356Z"
   },
   {
    "duration": 829,
    "start_time": "2023-01-17T16:04:49.487Z"
   },
   {
    "duration": 704,
    "start_time": "2023-01-17T16:04:50.317Z"
   },
   {
    "duration": 110,
    "start_time": "2023-01-17T16:04:51.023Z"
   },
   {
    "duration": 463,
    "start_time": "2023-01-17T16:04:51.134Z"
   },
   {
    "duration": 2,
    "start_time": "2023-01-17T16:04:51.599Z"
   },
   {
    "duration": 14,
    "start_time": "2023-01-17T16:04:51.603Z"
   },
   {
    "duration": 34,
    "start_time": "2023-01-17T16:04:51.619Z"
   },
   {
    "duration": 517,
    "start_time": "2023-01-17T16:04:51.654Z"
   },
   {
    "duration": 222,
    "start_time": "2023-01-17T16:04:52.173Z"
   },
   {
    "duration": 999,
    "start_time": "2023-01-17T16:04:52.397Z"
   },
   {
    "duration": 179,
    "start_time": "2023-01-17T16:04:53.398Z"
   },
   {
    "duration": 45,
    "start_time": "2023-01-17T16:04:53.579Z"
   },
   {
    "duration": 37,
    "start_time": "2023-01-17T16:04:53.625Z"
   },
   {
    "duration": 90,
    "start_time": "2023-01-17T16:04:53.664Z"
   },
   {
    "duration": 3,
    "start_time": "2023-01-17T16:04:53.755Z"
   },
   {
    "duration": 1083,
    "start_time": "2023-01-17T16:04:53.760Z"
   },
   {
    "duration": 30,
    "start_time": "2023-01-17T16:04:54.845Z"
   },
   {
    "duration": 38,
    "start_time": "2023-01-17T16:04:54.877Z"
   },
   {
    "duration": 33,
    "start_time": "2023-01-17T16:04:54.918Z"
   },
   {
    "duration": 110,
    "start_time": "2023-01-17T16:04:54.954Z"
   },
   {
    "duration": 303,
    "start_time": "2023-01-17T16:04:55.066Z"
   },
   {
    "duration": 3,
    "start_time": "2023-01-17T16:04:55.371Z"
   },
   {
    "duration": 894,
    "start_time": "2023-01-17T16:04:55.375Z"
   },
   {
    "duration": 8,
    "start_time": "2023-01-17T16:04:56.273Z"
   },
   {
    "duration": 469,
    "start_time": "2023-01-17T16:04:56.282Z"
   },
   {
    "duration": 209,
    "start_time": "2023-01-17T16:04:56.752Z"
   },
   {
    "duration": 68,
    "start_time": "2023-01-17T16:04:56.963Z"
   },
   {
    "duration": 11,
    "start_time": "2023-01-17T16:04:57.032Z"
   },
   {
    "duration": 8,
    "start_time": "2023-01-17T16:04:57.044Z"
   },
   {
    "duration": 177,
    "start_time": "2023-01-17T16:04:57.054Z"
   },
   {
    "duration": 326,
    "start_time": "2023-01-17T16:04:57.233Z"
   },
   {
    "duration": 867,
    "start_time": "2023-01-17T16:04:57.560Z"
   },
   {
    "duration": 307,
    "start_time": "2023-01-17T16:04:58.429Z"
   },
   {
    "duration": 517,
    "start_time": "2023-01-17T16:04:58.737Z"
   },
   {
    "duration": 9,
    "start_time": "2023-01-17T16:04:59.256Z"
   },
   {
    "duration": 52,
    "start_time": "2023-01-17T16:04:59.266Z"
   },
   {
    "duration": 67,
    "start_time": "2023-01-17T16:04:59.319Z"
   },
   {
    "duration": 27,
    "start_time": "2023-01-17T16:04:59.388Z"
   },
   {
    "duration": 31202,
    "start_time": "2023-01-17T16:04:59.418Z"
   },
   {
    "duration": 7,
    "start_time": "2023-01-17T16:05:30.622Z"
   },
   {
    "duration": 45,
    "start_time": "2023-01-17T16:05:30.631Z"
   },
   {
    "duration": 57,
    "start_time": "2023-01-17T16:05:30.678Z"
   },
   {
    "duration": 2680,
    "start_time": "2023-01-17T16:05:30.737Z"
   },
   {
    "duration": 102,
    "start_time": "2023-01-17T16:05:33.419Z"
   },
   {
    "duration": 70,
    "start_time": "2023-01-17T16:05:33.523Z"
   },
   {
    "duration": 25,
    "start_time": "2023-01-17T16:05:33.594Z"
   },
   {
    "duration": 65,
    "start_time": "2023-01-17T16:05:33.621Z"
   },
   {
    "duration": 670,
    "start_time": "2023-01-17T16:05:33.687Z"
   },
   {
    "duration": 18,
    "start_time": "2023-01-17T16:05:34.359Z"
   },
   {
    "duration": 486,
    "start_time": "2023-01-17T16:05:34.379Z"
   },
   {
    "duration": 4,
    "start_time": "2023-01-17T16:05:34.866Z"
   },
   {
    "duration": 852,
    "start_time": "2023-01-17T16:05:34.872Z"
   },
   {
    "duration": 13,
    "start_time": "2023-01-17T16:05:35.726Z"
   },
   {
    "duration": 22,
    "start_time": "2023-01-17T16:05:35.741Z"
   },
   {
    "duration": 77,
    "start_time": "2023-01-17T16:05:35.765Z"
   },
   {
    "duration": 241,
    "start_time": "2023-01-17T16:08:58.985Z"
   },
   {
    "duration": 144,
    "start_time": "2023-01-17T16:09:17.349Z"
   },
   {
    "duration": 146,
    "start_time": "2023-01-17T16:09:31.942Z"
   },
   {
    "duration": 371,
    "start_time": "2023-01-17T16:10:57.150Z"
   },
   {
    "duration": 5,
    "start_time": "2023-01-17T16:11:00.148Z"
   },
   {
    "duration": 7,
    "start_time": "2023-01-17T16:11:16.178Z"
   },
   {
    "duration": 5,
    "start_time": "2023-01-17T16:11:16.558Z"
   },
   {
    "duration": 15,
    "start_time": "2023-01-17T16:11:53.553Z"
   },
   {
    "duration": 1405,
    "start_time": "2023-01-17T16:13:16.685Z"
   },
   {
    "duration": 782,
    "start_time": "2023-01-17T16:13:18.092Z"
   },
   {
    "duration": 26,
    "start_time": "2023-01-17T16:13:18.876Z"
   },
   {
    "duration": 146,
    "start_time": "2023-01-17T16:13:18.904Z"
   },
   {
    "duration": 850,
    "start_time": "2023-01-17T16:13:19.053Z"
   },
   {
    "duration": 715,
    "start_time": "2023-01-17T16:13:19.905Z"
   },
   {
    "duration": 132,
    "start_time": "2023-01-17T16:13:20.621Z"
   },
   {
    "duration": 477,
    "start_time": "2023-01-17T16:13:20.755Z"
   },
   {
    "duration": 3,
    "start_time": "2023-01-17T16:13:21.234Z"
   },
   {
    "duration": 8,
    "start_time": "2023-01-17T16:13:21.238Z"
   },
   {
    "duration": 27,
    "start_time": "2023-01-17T16:13:21.248Z"
   },
   {
    "duration": 560,
    "start_time": "2023-01-17T16:13:21.277Z"
   },
   {
    "duration": 220,
    "start_time": "2023-01-17T16:13:21.839Z"
   },
   {
    "duration": 1049,
    "start_time": "2023-01-17T16:13:22.062Z"
   },
   {
    "duration": 174,
    "start_time": "2023-01-17T16:13:23.113Z"
   },
   {
    "duration": 48,
    "start_time": "2023-01-17T16:13:23.289Z"
   },
   {
    "duration": 38,
    "start_time": "2023-01-17T16:13:23.339Z"
   },
   {
    "duration": 96,
    "start_time": "2023-01-17T16:13:23.380Z"
   },
   {
    "duration": 2,
    "start_time": "2023-01-17T16:13:23.478Z"
   },
   {
    "duration": 1007,
    "start_time": "2023-01-17T16:13:23.481Z"
   },
   {
    "duration": 40,
    "start_time": "2023-01-17T16:13:24.490Z"
   },
   {
    "duration": 14,
    "start_time": "2023-01-17T16:13:24.532Z"
   },
   {
    "duration": 31,
    "start_time": "2023-01-17T16:13:24.548Z"
   },
   {
    "duration": 140,
    "start_time": "2023-01-17T16:13:24.581Z"
   },
   {
    "duration": 311,
    "start_time": "2023-01-17T16:13:24.723Z"
   },
   {
    "duration": 2,
    "start_time": "2023-01-17T16:13:25.036Z"
   },
   {
    "duration": 879,
    "start_time": "2023-01-17T16:13:25.039Z"
   },
   {
    "duration": 8,
    "start_time": "2023-01-17T16:13:25.919Z"
   },
   {
    "duration": 470,
    "start_time": "2023-01-17T16:13:25.929Z"
   },
   {
    "duration": 201,
    "start_time": "2023-01-17T16:13:26.401Z"
   },
   {
    "duration": 71,
    "start_time": "2023-01-17T16:13:26.603Z"
   },
   {
    "duration": 10,
    "start_time": "2023-01-17T16:13:26.675Z"
   },
   {
    "duration": 15,
    "start_time": "2023-01-17T16:13:26.686Z"
   },
   {
    "duration": 171,
    "start_time": "2023-01-17T16:13:26.713Z"
   },
   {
    "duration": 363,
    "start_time": "2023-01-17T16:13:26.886Z"
   },
   {
    "duration": 879,
    "start_time": "2023-01-17T16:13:27.250Z"
   },
   {
    "duration": 258,
    "start_time": "2023-01-17T16:13:28.130Z"
   },
   {
    "duration": 511,
    "start_time": "2023-01-17T16:13:28.390Z"
   },
   {
    "duration": 14,
    "start_time": "2023-01-17T16:13:28.903Z"
   },
   {
    "duration": 10,
    "start_time": "2023-01-17T16:13:28.919Z"
   },
   {
    "duration": 17,
    "start_time": "2023-01-17T16:13:28.934Z"
   },
   {
    "duration": 13,
    "start_time": "2023-01-17T16:13:28.953Z"
   },
   {
    "duration": 30879,
    "start_time": "2023-01-17T16:13:28.967Z"
   },
   {
    "duration": 7,
    "start_time": "2023-01-17T16:13:59.848Z"
   },
   {
    "duration": 36,
    "start_time": "2023-01-17T16:13:59.857Z"
   },
   {
    "duration": 53,
    "start_time": "2023-01-17T16:13:59.894Z"
   },
   {
    "duration": 2670,
    "start_time": "2023-01-17T16:13:59.949Z"
   },
   {
    "duration": 107,
    "start_time": "2023-01-17T16:14:02.622Z"
   },
   {
    "duration": 59,
    "start_time": "2023-01-17T16:14:02.731Z"
   },
   {
    "duration": 37,
    "start_time": "2023-01-17T16:14:02.791Z"
   },
   {
    "duration": 59,
    "start_time": "2023-01-17T16:14:02.830Z"
   },
   {
    "duration": 675,
    "start_time": "2023-01-17T16:14:02.890Z"
   },
   {
    "duration": 16,
    "start_time": "2023-01-17T16:14:03.566Z"
   },
   {
    "duration": 467,
    "start_time": "2023-01-17T16:14:03.584Z"
   },
   {
    "duration": 4,
    "start_time": "2023-01-17T16:14:04.053Z"
   },
   {
    "duration": 927,
    "start_time": "2023-01-17T16:14:04.058Z"
   },
   {
    "duration": 12,
    "start_time": "2023-01-17T16:14:04.987Z"
   },
   {
    "duration": 138,
    "start_time": "2023-01-17T16:14:05.000Z"
   },
   {
    "duration": 63,
    "start_time": "2023-01-17T16:14:05.140Z"
   },
   {
    "duration": 3,
    "start_time": "2023-01-17T16:14:05.205Z"
   },
   {
    "duration": 6,
    "start_time": "2023-01-17T16:15:17.739Z"
   },
   {
    "duration": 1424,
    "start_time": "2023-01-17T16:15:21.283Z"
   },
   {
    "duration": 834,
    "start_time": "2023-01-17T16:15:22.709Z"
   },
   {
    "duration": 25,
    "start_time": "2023-01-17T16:15:23.545Z"
   },
   {
    "duration": 125,
    "start_time": "2023-01-17T16:15:23.572Z"
   },
   {
    "duration": 871,
    "start_time": "2023-01-17T16:15:23.699Z"
   },
   {
    "duration": 663,
    "start_time": "2023-01-17T16:15:24.571Z"
   },
   {
    "duration": 110,
    "start_time": "2023-01-17T16:15:25.235Z"
   },
   {
    "duration": 479,
    "start_time": "2023-01-17T16:15:25.346Z"
   },
   {
    "duration": 2,
    "start_time": "2023-01-17T16:15:25.827Z"
   },
   {
    "duration": 8,
    "start_time": "2023-01-17T16:15:25.831Z"
   },
   {
    "duration": 32,
    "start_time": "2023-01-17T16:15:25.841Z"
   },
   {
    "duration": 596,
    "start_time": "2023-01-17T16:15:25.874Z"
   },
   {
    "duration": 235,
    "start_time": "2023-01-17T16:15:26.471Z"
   },
   {
    "duration": 983,
    "start_time": "2023-01-17T16:15:26.708Z"
   },
   {
    "duration": 172,
    "start_time": "2023-01-17T16:15:27.693Z"
   },
   {
    "duration": 33,
    "start_time": "2023-01-17T16:15:27.867Z"
   },
   {
    "duration": 34,
    "start_time": "2023-01-17T16:15:27.913Z"
   },
   {
    "duration": 96,
    "start_time": "2023-01-17T16:15:27.949Z"
   },
   {
    "duration": 3,
    "start_time": "2023-01-17T16:15:28.046Z"
   },
   {
    "duration": 1031,
    "start_time": "2023-01-17T16:15:28.051Z"
   },
   {
    "duration": 52,
    "start_time": "2023-01-17T16:15:29.084Z"
   },
   {
    "duration": 23,
    "start_time": "2023-01-17T16:15:29.139Z"
   },
   {
    "duration": 50,
    "start_time": "2023-01-17T16:15:29.164Z"
   },
   {
    "duration": 127,
    "start_time": "2023-01-17T16:15:29.216Z"
   },
   {
    "duration": 303,
    "start_time": "2023-01-17T16:15:29.344Z"
   },
   {
    "duration": 2,
    "start_time": "2023-01-17T16:15:29.649Z"
   },
   {
    "duration": 926,
    "start_time": "2023-01-17T16:15:29.653Z"
   },
   {
    "duration": 8,
    "start_time": "2023-01-17T16:15:30.583Z"
   },
   {
    "duration": 494,
    "start_time": "2023-01-17T16:15:30.593Z"
   },
   {
    "duration": 206,
    "start_time": "2023-01-17T16:15:31.089Z"
   },
   {
    "duration": 72,
    "start_time": "2023-01-17T16:15:31.297Z"
   },
   {
    "duration": 11,
    "start_time": "2023-01-17T16:15:31.370Z"
   },
   {
    "duration": 26,
    "start_time": "2023-01-17T16:15:31.383Z"
   },
   {
    "duration": 163,
    "start_time": "2023-01-17T16:15:31.411Z"
   },
   {
    "duration": 358,
    "start_time": "2023-01-17T16:15:31.576Z"
   },
   {
    "duration": 869,
    "start_time": "2023-01-17T16:15:31.935Z"
   },
   {
    "duration": 261,
    "start_time": "2023-01-17T16:15:32.806Z"
   },
   {
    "duration": 504,
    "start_time": "2023-01-17T16:15:33.069Z"
   },
   {
    "duration": 10,
    "start_time": "2023-01-17T16:15:33.574Z"
   },
   {
    "duration": 33,
    "start_time": "2023-01-17T16:15:33.586Z"
   },
   {
    "duration": 22,
    "start_time": "2023-01-17T16:15:33.620Z"
   },
   {
    "duration": 11,
    "start_time": "2023-01-17T16:15:33.644Z"
   },
   {
    "duration": 31541,
    "start_time": "2023-01-17T16:15:33.657Z"
   },
   {
    "duration": 7,
    "start_time": "2023-01-17T16:16:05.200Z"
   },
   {
    "duration": 35,
    "start_time": "2023-01-17T16:16:05.208Z"
   },
   {
    "duration": 45,
    "start_time": "2023-01-17T16:16:05.245Z"
   },
   {
    "duration": 2724,
    "start_time": "2023-01-17T16:16:05.291Z"
   },
   {
    "duration": 106,
    "start_time": "2023-01-17T16:16:08.022Z"
   },
   {
    "duration": 83,
    "start_time": "2023-01-17T16:16:08.130Z"
   },
   {
    "duration": 17,
    "start_time": "2023-01-17T16:16:08.215Z"
   },
   {
    "duration": 85,
    "start_time": "2023-01-17T16:16:08.234Z"
   },
   {
    "duration": 692,
    "start_time": "2023-01-17T16:16:08.321Z"
   },
   {
    "duration": 18,
    "start_time": "2023-01-17T16:16:09.015Z"
   },
   {
    "duration": 475,
    "start_time": "2023-01-17T16:16:09.034Z"
   },
   {
    "duration": 4,
    "start_time": "2023-01-17T16:16:09.511Z"
   },
   {
    "duration": 963,
    "start_time": "2023-01-17T16:16:09.517Z"
   },
   {
    "duration": 16,
    "start_time": "2023-01-17T16:16:10.482Z"
   },
   {
    "duration": 60,
    "start_time": "2023-01-17T16:16:10.500Z"
   },
   {
    "duration": 4,
    "start_time": "2023-01-17T16:16:10.562Z"
   },
   {
    "duration": 2,
    "start_time": "2023-01-17T16:20:33.588Z"
   },
   {
    "duration": 9,
    "start_time": "2023-01-17T16:22:33.144Z"
   },
   {
    "duration": 9,
    "start_time": "2023-01-17T16:33:12.049Z"
   },
   {
    "duration": 3,
    "start_time": "2023-01-17T16:33:16.377Z"
   },
   {
    "duration": 101,
    "start_time": "2023-01-17T16:38:18.328Z"
   },
   {
    "duration": 3,
    "start_time": "2023-01-17T16:39:30.787Z"
   },
   {
    "duration": 3,
    "start_time": "2023-01-17T16:40:13.961Z"
   },
   {
    "duration": 4,
    "start_time": "2023-01-17T16:50:21.309Z"
   },
   {
    "duration": 2,
    "start_time": "2023-01-17T16:51:17.829Z"
   },
   {
    "duration": 114,
    "start_time": "2023-01-17T16:51:26.932Z"
   },
   {
    "duration": 23,
    "start_time": "2023-01-17T16:51:55.479Z"
   },
   {
    "duration": 2,
    "start_time": "2023-01-17T16:52:06.018Z"
   },
   {
    "duration": 2,
    "start_time": "2023-01-17T16:54:02.318Z"
   },
   {
    "duration": 13,
    "start_time": "2023-01-17T16:56:02.771Z"
   },
   {
    "duration": 13,
    "start_time": "2023-01-17T16:56:12.567Z"
   },
   {
    "duration": 1456,
    "start_time": "2023-01-17T16:56:49.943Z"
   },
   {
    "duration": 1229,
    "start_time": "2023-01-17T16:56:51.402Z"
   },
   {
    "duration": 26,
    "start_time": "2023-01-17T16:56:52.633Z"
   },
   {
    "duration": 217,
    "start_time": "2023-01-17T16:56:52.712Z"
   },
   {
    "duration": 1218,
    "start_time": "2023-01-17T16:56:52.931Z"
   },
   {
    "duration": 654,
    "start_time": "2023-01-17T16:56:54.151Z"
   },
   {
    "duration": 117,
    "start_time": "2023-01-17T16:56:54.806Z"
   },
   {
    "duration": 478,
    "start_time": "2023-01-17T16:56:54.925Z"
   },
   {
    "duration": 9,
    "start_time": "2023-01-17T16:56:55.405Z"
   },
   {
    "duration": 15,
    "start_time": "2023-01-17T16:56:55.419Z"
   },
   {
    "duration": 28,
    "start_time": "2023-01-17T16:56:55.436Z"
   },
   {
    "duration": 593,
    "start_time": "2023-01-17T16:56:55.466Z"
   },
   {
    "duration": 235,
    "start_time": "2023-01-17T16:56:56.061Z"
   },
   {
    "duration": 1026,
    "start_time": "2023-01-17T16:56:56.298Z"
   },
   {
    "duration": 189,
    "start_time": "2023-01-17T16:56:57.326Z"
   },
   {
    "duration": 33,
    "start_time": "2023-01-17T16:56:57.517Z"
   },
   {
    "duration": 37,
    "start_time": "2023-01-17T16:56:57.552Z"
   },
   {
    "duration": 98,
    "start_time": "2023-01-17T16:56:57.591Z"
   },
   {
    "duration": 2,
    "start_time": "2023-01-17T16:56:57.690Z"
   },
   {
    "duration": 1017,
    "start_time": "2023-01-17T16:56:57.694Z"
   },
   {
    "duration": 31,
    "start_time": "2023-01-17T16:56:58.713Z"
   },
   {
    "duration": 14,
    "start_time": "2023-01-17T16:56:58.746Z"
   },
   {
    "duration": 55,
    "start_time": "2023-01-17T16:56:58.761Z"
   },
   {
    "duration": 119,
    "start_time": "2023-01-17T16:56:58.818Z"
   },
   {
    "duration": 302,
    "start_time": "2023-01-17T16:56:58.939Z"
   },
   {
    "duration": 3,
    "start_time": "2023-01-17T16:56:59.243Z"
   },
   {
    "duration": 902,
    "start_time": "2023-01-17T16:56:59.248Z"
   },
   {
    "duration": 10,
    "start_time": "2023-01-17T16:57:00.156Z"
   },
   {
    "duration": 634,
    "start_time": "2023-01-17T16:57:00.168Z"
   },
   {
    "duration": 217,
    "start_time": "2023-01-17T16:57:00.804Z"
   },
   {
    "duration": 66,
    "start_time": "2023-01-17T16:57:01.023Z"
   },
   {
    "duration": 27,
    "start_time": "2023-01-17T16:57:01.091Z"
   },
   {
    "duration": 20,
    "start_time": "2023-01-17T16:57:01.120Z"
   },
   {
    "duration": 284,
    "start_time": "2023-01-17T16:57:01.142Z"
   },
   {
    "duration": 366,
    "start_time": "2023-01-17T16:57:01.428Z"
   },
   {
    "duration": 848,
    "start_time": "2023-01-17T16:57:01.795Z"
   },
   {
    "duration": 262,
    "start_time": "2023-01-17T16:57:02.644Z"
   },
   {
    "duration": 502,
    "start_time": "2023-01-17T16:57:02.908Z"
   },
   {
    "duration": 11,
    "start_time": "2023-01-17T16:57:03.412Z"
   },
   {
    "duration": 18,
    "start_time": "2023-01-17T16:57:03.425Z"
   },
   {
    "duration": 25,
    "start_time": "2023-01-17T16:57:03.445Z"
   },
   {
    "duration": 15,
    "start_time": "2023-01-17T16:57:03.472Z"
   },
   {
    "duration": 31053,
    "start_time": "2023-01-17T16:57:03.488Z"
   },
   {
    "duration": 7,
    "start_time": "2023-01-17T16:57:34.543Z"
   },
   {
    "duration": 46,
    "start_time": "2023-01-17T16:57:34.552Z"
   },
   {
    "duration": 52,
    "start_time": "2023-01-17T16:57:34.600Z"
   },
   {
    "duration": 2667,
    "start_time": "2023-01-17T16:57:34.654Z"
   },
   {
    "duration": 204,
    "start_time": "2023-01-17T16:57:37.323Z"
   },
   {
    "duration": 63,
    "start_time": "2023-01-17T16:57:37.528Z"
   },
   {
    "duration": 24,
    "start_time": "2023-01-17T16:57:37.593Z"
   },
   {
    "duration": 64,
    "start_time": "2023-01-17T16:57:37.619Z"
   },
   {
    "duration": 690,
    "start_time": "2023-01-17T16:57:37.685Z"
   },
   {
    "duration": 17,
    "start_time": "2023-01-17T16:57:38.377Z"
   },
   {
    "duration": 457,
    "start_time": "2023-01-17T16:57:38.396Z"
   },
   {
    "duration": 4,
    "start_time": "2023-01-17T16:57:38.855Z"
   },
   {
    "duration": 857,
    "start_time": "2023-01-17T16:57:38.861Z"
   },
   {
    "duration": 17,
    "start_time": "2023-01-17T16:57:39.720Z"
   },
   {
    "duration": 59,
    "start_time": "2023-01-17T16:57:39.739Z"
   },
   {
    "duration": 4,
    "start_time": "2023-01-17T16:57:39.800Z"
   },
   {
    "duration": 15,
    "start_time": "2023-01-17T16:57:39.813Z"
   },
   {
    "duration": 11,
    "start_time": "2023-01-17T16:57:39.829Z"
   },
   {
    "duration": 24,
    "start_time": "2023-01-17T16:57:39.842Z"
   },
   {
    "duration": 22,
    "start_time": "2023-01-17T16:57:39.868Z"
   },
   {
    "duration": 25,
    "start_time": "2023-01-17T16:57:39.892Z"
   },
   {
    "duration": 23,
    "start_time": "2023-01-17T16:57:39.919Z"
   },
   {
    "duration": 417,
    "start_time": "2023-01-17T16:57:39.943Z"
   },
   {
    "duration": 19296,
    "start_time": "2023-01-17T16:58:22.420Z"
   },
   {
    "duration": 6,
    "start_time": "2023-01-17T17:01:04.255Z"
   },
   {
    "duration": 13,
    "start_time": "2023-01-17T17:01:12.042Z"
   },
   {
    "duration": 1403,
    "start_time": "2023-01-17T17:04:08.493Z"
   },
   {
    "duration": 812,
    "start_time": "2023-01-17T17:04:09.898Z"
   },
   {
    "duration": 24,
    "start_time": "2023-01-17T17:04:10.712Z"
   },
   {
    "duration": 119,
    "start_time": "2023-01-17T17:04:10.738Z"
   },
   {
    "duration": 901,
    "start_time": "2023-01-17T17:04:10.858Z"
   },
   {
    "duration": 662,
    "start_time": "2023-01-17T17:04:11.760Z"
   },
   {
    "duration": 115,
    "start_time": "2023-01-17T17:04:12.425Z"
   },
   {
    "duration": 485,
    "start_time": "2023-01-17T17:04:12.542Z"
   },
   {
    "duration": 3,
    "start_time": "2023-01-17T17:04:13.029Z"
   },
   {
    "duration": 30,
    "start_time": "2023-01-17T17:04:13.035Z"
   },
   {
    "duration": 49,
    "start_time": "2023-01-17T17:04:13.067Z"
   },
   {
    "duration": 517,
    "start_time": "2023-01-17T17:04:13.118Z"
   },
   {
    "duration": 218,
    "start_time": "2023-01-17T17:04:13.636Z"
   },
   {
    "duration": 1018,
    "start_time": "2023-01-17T17:04:13.856Z"
   },
   {
    "duration": 186,
    "start_time": "2023-01-17T17:04:14.876Z"
   },
   {
    "duration": 33,
    "start_time": "2023-01-17T17:04:15.064Z"
   },
   {
    "duration": 45,
    "start_time": "2023-01-17T17:04:15.099Z"
   },
   {
    "duration": 95,
    "start_time": "2023-01-17T17:04:15.146Z"
   },
   {
    "duration": 3,
    "start_time": "2023-01-17T17:04:15.242Z"
   },
   {
    "duration": 1045,
    "start_time": "2023-01-17T17:04:15.247Z"
   },
   {
    "duration": 40,
    "start_time": "2023-01-17T17:04:16.294Z"
   },
   {
    "duration": 17,
    "start_time": "2023-01-17T17:04:16.337Z"
   },
   {
    "duration": 29,
    "start_time": "2023-01-17T17:04:16.355Z"
   },
   {
    "duration": 114,
    "start_time": "2023-01-17T17:04:16.413Z"
   },
   {
    "duration": 336,
    "start_time": "2023-01-17T17:04:16.529Z"
   },
   {
    "duration": 2,
    "start_time": "2023-01-17T17:04:16.867Z"
   },
   {
    "duration": 918,
    "start_time": "2023-01-17T17:04:16.870Z"
   },
   {
    "duration": 8,
    "start_time": "2023-01-17T17:04:17.792Z"
   },
   {
    "duration": 470,
    "start_time": "2023-01-17T17:04:17.802Z"
   },
   {
    "duration": 206,
    "start_time": "2023-01-17T17:04:18.274Z"
   },
   {
    "duration": 74,
    "start_time": "2023-01-17T17:04:18.482Z"
   },
   {
    "duration": 10,
    "start_time": "2023-01-17T17:04:18.558Z"
   },
   {
    "duration": 5,
    "start_time": "2023-01-17T17:04:18.569Z"
   },
   {
    "duration": 177,
    "start_time": "2023-01-17T17:04:18.576Z"
   },
   {
    "duration": 341,
    "start_time": "2023-01-17T17:04:18.755Z"
   },
   {
    "duration": 895,
    "start_time": "2023-01-17T17:04:19.098Z"
   },
   {
    "duration": 252,
    "start_time": "2023-01-17T17:04:19.995Z"
   },
   {
    "duration": 540,
    "start_time": "2023-01-17T17:04:20.250Z"
   },
   {
    "duration": 10,
    "start_time": "2023-01-17T17:04:20.791Z"
   },
   {
    "duration": 18,
    "start_time": "2023-01-17T17:04:20.803Z"
   },
   {
    "duration": 14,
    "start_time": "2023-01-17T17:04:20.823Z"
   },
   {
    "duration": 11,
    "start_time": "2023-01-17T17:04:20.839Z"
   },
   {
    "duration": 31019,
    "start_time": "2023-01-17T17:04:20.852Z"
   },
   {
    "duration": 7,
    "start_time": "2023-01-17T17:04:51.873Z"
   },
   {
    "duration": 40,
    "start_time": "2023-01-17T17:04:51.881Z"
   },
   {
    "duration": 45,
    "start_time": "2023-01-17T17:04:51.923Z"
   },
   {
    "duration": 2944,
    "start_time": "2023-01-17T17:04:51.970Z"
   },
   {
    "duration": 28,
    "start_time": "2023-01-17T17:04:54.916Z"
   },
   {
    "duration": 85,
    "start_time": "2023-01-17T17:04:54.946Z"
   },
   {
    "duration": 16,
    "start_time": "2023-01-17T17:04:55.032Z"
   },
   {
    "duration": 77,
    "start_time": "2023-01-17T17:04:55.050Z"
   },
   {
    "duration": 637,
    "start_time": "2023-01-17T17:04:55.128Z"
   },
   {
    "duration": 17,
    "start_time": "2023-01-17T17:04:55.767Z"
   },
   {
    "duration": 460,
    "start_time": "2023-01-17T17:04:55.785Z"
   },
   {
    "duration": 3,
    "start_time": "2023-01-17T17:04:56.247Z"
   },
   {
    "duration": 873,
    "start_time": "2023-01-17T17:04:56.252Z"
   },
   {
    "duration": 18,
    "start_time": "2023-01-17T17:04:57.127Z"
   },
   {
    "duration": 67,
    "start_time": "2023-01-17T17:04:57.146Z"
   },
   {
    "duration": 3,
    "start_time": "2023-01-17T17:04:57.215Z"
   },
   {
    "duration": 14,
    "start_time": "2023-01-17T17:04:57.220Z"
   },
   {
    "duration": 6,
    "start_time": "2023-01-17T17:04:57.235Z"
   },
   {
    "duration": 13,
    "start_time": "2023-01-17T17:04:57.242Z"
   },
   {
    "duration": 9,
    "start_time": "2023-01-17T17:04:57.256Z"
   },
   {
    "duration": 12,
    "start_time": "2023-01-17T17:04:57.266Z"
   },
   {
    "duration": 9,
    "start_time": "2023-01-17T17:04:57.279Z"
   },
   {
    "duration": 21929,
    "start_time": "2023-01-17T17:04:57.289Z"
   },
   {
    "duration": 231,
    "start_time": "2023-01-17T17:05:19.220Z"
   },
   {
    "duration": 18847,
    "start_time": "2023-01-17T17:05:42.868Z"
   },
   {
    "duration": 9,
    "start_time": "2023-01-17T17:07:03.055Z"
   },
   {
    "duration": 4,
    "start_time": "2023-01-17T17:07:04.815Z"
   },
   {
    "duration": 3,
    "start_time": "2023-01-17T17:07:06.023Z"
   },
   {
    "duration": 4,
    "start_time": "2023-01-17T17:07:08.055Z"
   },
   {
    "duration": 2,
    "start_time": "2023-01-17T17:07:08.878Z"
   },
   {
    "duration": 3,
    "start_time": "2023-01-17T17:07:09.400Z"
   },
   {
    "duration": 19181,
    "start_time": "2023-01-17T17:07:10.133Z"
   },
   {
    "duration": 97,
    "start_time": "2023-01-17T17:07:29.317Z"
   },
   {
    "duration": 15,
    "start_time": "2023-01-17T17:10:14.940Z"
   },
   {
    "duration": 3,
    "start_time": "2023-01-17T17:10:27.609Z"
   },
   {
    "duration": 13,
    "start_time": "2023-01-17T17:10:32.043Z"
   },
   {
    "duration": 4,
    "start_time": "2023-01-17T17:11:46.720Z"
   },
   {
    "duration": 2,
    "start_time": "2023-01-17T17:11:48.002Z"
   },
   {
    "duration": 3,
    "start_time": "2023-01-17T17:11:48.445Z"
   },
   {
    "duration": 9,
    "start_time": "2023-01-17T17:11:52.216Z"
   },
   {
    "duration": 3,
    "start_time": "2023-01-17T17:11:53.008Z"
   },
   {
    "duration": 3,
    "start_time": "2023-01-17T17:11:53.805Z"
   },
   {
    "duration": 4,
    "start_time": "2023-01-17T17:11:54.622Z"
   },
   {
    "duration": 3,
    "start_time": "2023-01-17T17:11:56.909Z"
   },
   {
    "duration": 3,
    "start_time": "2023-01-17T17:11:57.377Z"
   },
   {
    "duration": 18637,
    "start_time": "2023-01-17T17:11:59.280Z"
   },
   {
    "duration": 102,
    "start_time": "2023-01-17T17:12:17.921Z"
   },
   {
    "duration": 5,
    "start_time": "2023-01-17T17:12:57.223Z"
   },
   {
    "duration": 2,
    "start_time": "2023-01-17T17:12:58.183Z"
   },
   {
    "duration": 3,
    "start_time": "2023-01-17T17:12:58.516Z"
   },
   {
    "duration": 18438,
    "start_time": "2023-01-17T17:12:58.982Z"
   },
   {
    "duration": 101,
    "start_time": "2023-01-17T17:13:17.513Z"
   },
   {
    "duration": 3,
    "start_time": "2023-01-17T17:13:32.841Z"
   },
   {
    "duration": 130,
    "start_time": "2023-01-17T17:13:33.188Z"
   },
   {
    "duration": 12,
    "start_time": "2023-01-17T17:13:33.584Z"
   },
   {
    "duration": 1374,
    "start_time": "2023-01-17T17:14:32.045Z"
   },
   {
    "duration": 797,
    "start_time": "2023-01-17T17:14:33.420Z"
   },
   {
    "duration": 25,
    "start_time": "2023-01-17T17:14:34.219Z"
   },
   {
    "duration": 119,
    "start_time": "2023-01-17T17:14:34.246Z"
   },
   {
    "duration": 868,
    "start_time": "2023-01-17T17:14:34.367Z"
   },
   {
    "duration": 623,
    "start_time": "2023-01-17T17:14:35.237Z"
   },
   {
    "duration": 105,
    "start_time": "2023-01-17T17:14:35.861Z"
   },
   {
    "duration": 477,
    "start_time": "2023-01-17T17:14:35.968Z"
   },
   {
    "duration": 2,
    "start_time": "2023-01-17T17:14:36.447Z"
   },
   {
    "duration": 9,
    "start_time": "2023-01-17T17:14:36.452Z"
   },
   {
    "duration": 30,
    "start_time": "2023-01-17T17:14:36.463Z"
   },
   {
    "duration": 600,
    "start_time": "2023-01-17T17:14:36.495Z"
   },
   {
    "duration": 234,
    "start_time": "2023-01-17T17:14:37.097Z"
   },
   {
    "duration": 1066,
    "start_time": "2023-01-17T17:14:37.332Z"
   },
   {
    "duration": 167,
    "start_time": "2023-01-17T17:14:38.400Z"
   },
   {
    "duration": 45,
    "start_time": "2023-01-17T17:14:38.569Z"
   },
   {
    "duration": 37,
    "start_time": "2023-01-17T17:14:38.616Z"
   },
   {
    "duration": 88,
    "start_time": "2023-01-17T17:14:38.654Z"
   },
   {
    "duration": 2,
    "start_time": "2023-01-17T17:14:38.744Z"
   },
   {
    "duration": 1027,
    "start_time": "2023-01-17T17:14:38.748Z"
   },
   {
    "duration": 41,
    "start_time": "2023-01-17T17:14:39.776Z"
   },
   {
    "duration": 15,
    "start_time": "2023-01-17T17:14:39.818Z"
   },
   {
    "duration": 38,
    "start_time": "2023-01-17T17:14:39.834Z"
   },
   {
    "duration": 114,
    "start_time": "2023-01-17T17:14:39.874Z"
   },
   {
    "duration": 341,
    "start_time": "2023-01-17T17:14:39.989Z"
   },
   {
    "duration": 3,
    "start_time": "2023-01-17T17:14:40.332Z"
   },
   {
    "duration": 891,
    "start_time": "2023-01-17T17:14:40.337Z"
   },
   {
    "duration": 8,
    "start_time": "2023-01-17T17:14:41.232Z"
   },
   {
    "duration": 459,
    "start_time": "2023-01-17T17:14:41.241Z"
   },
   {
    "duration": 208,
    "start_time": "2023-01-17T17:14:41.702Z"
   },
   {
    "duration": 72,
    "start_time": "2023-01-17T17:14:41.912Z"
   },
   {
    "duration": 10,
    "start_time": "2023-01-17T17:14:41.985Z"
   },
   {
    "duration": 4,
    "start_time": "2023-01-17T17:14:42.013Z"
   },
   {
    "duration": 173,
    "start_time": "2023-01-17T17:14:42.018Z"
   },
   {
    "duration": 325,
    "start_time": "2023-01-17T17:14:42.193Z"
   },
   {
    "duration": 879,
    "start_time": "2023-01-17T17:14:42.519Z"
   },
   {
    "duration": 251,
    "start_time": "2023-01-17T17:14:43.399Z"
   },
   {
    "duration": 513,
    "start_time": "2023-01-17T17:14:43.651Z"
   },
   {
    "duration": 10,
    "start_time": "2023-01-17T17:14:44.166Z"
   },
   {
    "duration": 9,
    "start_time": "2023-01-17T17:14:44.178Z"
   },
   {
    "duration": 34,
    "start_time": "2023-01-17T17:14:44.189Z"
   },
   {
    "duration": 11,
    "start_time": "2023-01-17T17:14:44.225Z"
   },
   {
    "duration": 30173,
    "start_time": "2023-01-17T17:14:44.237Z"
   },
   {
    "duration": 7,
    "start_time": "2023-01-17T17:15:14.411Z"
   },
   {
    "duration": 28,
    "start_time": "2023-01-17T17:15:14.420Z"
   },
   {
    "duration": 67,
    "start_time": "2023-01-17T17:15:14.450Z"
   },
   {
    "duration": 2698,
    "start_time": "2023-01-17T17:15:14.519Z"
   },
   {
    "duration": 17,
    "start_time": "2023-01-17T17:15:17.312Z"
   },
   {
    "duration": 64,
    "start_time": "2023-01-17T17:15:17.331Z"
   },
   {
    "duration": 17,
    "start_time": "2023-01-17T17:15:17.413Z"
   },
   {
    "duration": 82,
    "start_time": "2023-01-17T17:15:17.432Z"
   },
   {
    "duration": 672,
    "start_time": "2023-01-17T17:15:17.515Z"
   },
   {
    "duration": 24,
    "start_time": "2023-01-17T17:15:18.189Z"
   },
   {
    "duration": 455,
    "start_time": "2023-01-17T17:15:18.215Z"
   },
   {
    "duration": 4,
    "start_time": "2023-01-17T17:15:18.672Z"
   },
   {
    "duration": 892,
    "start_time": "2023-01-17T17:15:18.677Z"
   },
   {
    "duration": 17,
    "start_time": "2023-01-17T17:15:19.570Z"
   },
   {
    "duration": 65,
    "start_time": "2023-01-17T17:15:19.588Z"
   },
   {
    "duration": 4,
    "start_time": "2023-01-17T17:15:19.655Z"
   },
   {
    "duration": 15,
    "start_time": "2023-01-17T17:15:19.660Z"
   },
   {
    "duration": 5,
    "start_time": "2023-01-17T17:15:19.676Z"
   },
   {
    "duration": 5,
    "start_time": "2023-01-17T17:15:19.682Z"
   },
   {
    "duration": 28,
    "start_time": "2023-01-17T17:15:19.689Z"
   },
   {
    "duration": 7,
    "start_time": "2023-01-17T17:15:19.718Z"
   },
   {
    "duration": 5,
    "start_time": "2023-01-17T17:15:19.727Z"
   },
   {
    "duration": 19083,
    "start_time": "2023-01-17T17:15:19.733Z"
   },
   {
    "duration": 107,
    "start_time": "2023-01-17T17:15:38.820Z"
   },
   {
    "duration": 15,
    "start_time": "2023-01-17T17:15:38.928Z"
   },
   {
    "duration": 90,
    "start_time": "2023-01-17T17:15:38.945Z"
   },
   {
    "duration": 100,
    "start_time": "2023-01-17T17:15:39.114Z"
   },
   {
    "duration": 3,
    "start_time": "2023-01-17T17:17:48.462Z"
   },
   {
    "duration": 3,
    "start_time": "2023-01-17T17:18:27.506Z"
   },
   {
    "duration": 107,
    "start_time": "2023-01-17T17:21:56.238Z"
   },
   {
    "duration": 30,
    "start_time": "2023-01-17T17:22:47.821Z"
   },
   {
    "duration": 3,
    "start_time": "2023-01-17T17:22:53.936Z"
   },
   {
    "duration": 4,
    "start_time": "2023-01-17T17:40:22.479Z"
   },
   {
    "duration": 2160,
    "start_time": "2023-01-17T17:40:26.685Z"
   },
   {
    "duration": 901,
    "start_time": "2023-01-17T17:40:28.847Z"
   },
   {
    "duration": 26,
    "start_time": "2023-01-17T17:40:29.750Z"
   },
   {
    "duration": 134,
    "start_time": "2023-01-17T17:40:29.779Z"
   },
   {
    "duration": 956,
    "start_time": "2023-01-17T17:40:29.915Z"
   },
   {
    "duration": 732,
    "start_time": "2023-01-17T17:40:30.873Z"
   },
   {
    "duration": 119,
    "start_time": "2023-01-17T17:40:31.606Z"
   },
   {
    "duration": 593,
    "start_time": "2023-01-17T17:40:31.726Z"
   },
   {
    "duration": 3,
    "start_time": "2023-01-17T17:40:32.320Z"
   },
   {
    "duration": 25,
    "start_time": "2023-01-17T17:40:32.325Z"
   },
   {
    "duration": 110,
    "start_time": "2023-01-17T17:40:32.352Z"
   },
   {
    "duration": 540,
    "start_time": "2023-01-17T17:40:32.464Z"
   },
   {
    "duration": 241,
    "start_time": "2023-01-17T17:40:33.005Z"
   },
   {
    "duration": 917,
    "start_time": "2023-01-17T17:40:33.248Z"
   },
   {
    "duration": 184,
    "start_time": "2023-01-17T17:40:34.167Z"
   },
   {
    "duration": 33,
    "start_time": "2023-01-17T17:40:34.353Z"
   },
   {
    "duration": 55,
    "start_time": "2023-01-17T17:40:34.388Z"
   },
   {
    "duration": 88,
    "start_time": "2023-01-17T17:40:34.444Z"
   },
   {
    "duration": 3,
    "start_time": "2023-01-17T17:40:34.534Z"
   },
   {
    "duration": 1047,
    "start_time": "2023-01-17T17:40:34.539Z"
   },
   {
    "duration": 40,
    "start_time": "2023-01-17T17:40:35.589Z"
   },
   {
    "duration": 16,
    "start_time": "2023-01-17T17:40:35.631Z"
   },
   {
    "duration": 32,
    "start_time": "2023-01-17T17:40:35.648Z"
   },
   {
    "duration": 133,
    "start_time": "2023-01-17T17:40:35.682Z"
   },
   {
    "duration": 320,
    "start_time": "2023-01-17T17:40:35.818Z"
   },
   {
    "duration": 3,
    "start_time": "2023-01-17T17:40:36.140Z"
   },
   {
    "duration": 907,
    "start_time": "2023-01-17T17:40:36.144Z"
   },
   {
    "duration": 9,
    "start_time": "2023-01-17T17:40:37.054Z"
   },
   {
    "duration": 494,
    "start_time": "2023-01-17T17:40:37.065Z"
   },
   {
    "duration": 378,
    "start_time": "2023-01-17T17:40:37.560Z"
   },
   {
    "duration": 53,
    "start_time": "2023-01-17T17:40:37.940Z"
   },
   {
    "duration": 27,
    "start_time": "2023-01-17T17:40:37.994Z"
   },
   {
    "duration": 5,
    "start_time": "2023-01-17T17:40:38.023Z"
   },
   {
    "duration": 175,
    "start_time": "2023-01-17T17:40:38.030Z"
   },
   {
    "duration": 204,
    "start_time": "2023-01-17T17:40:38.206Z"
   },
   {
    "duration": 841,
    "start_time": "2023-01-17T17:40:38.413Z"
   },
   {
    "duration": 245,
    "start_time": "2023-01-17T17:40:39.256Z"
   },
   {
    "duration": 489,
    "start_time": "2023-01-17T17:40:39.503Z"
   },
   {
    "duration": 10,
    "start_time": "2023-01-17T17:40:39.994Z"
   },
   {
    "duration": 14,
    "start_time": "2023-01-17T17:40:40.005Z"
   },
   {
    "duration": 15,
    "start_time": "2023-01-17T17:40:40.021Z"
   },
   {
    "duration": 145,
    "start_time": "2023-01-17T17:40:40.038Z"
   },
   {
    "duration": 31863,
    "start_time": "2023-01-17T17:40:40.185Z"
   },
   {
    "duration": 6,
    "start_time": "2023-01-17T17:41:12.050Z"
   },
   {
    "duration": 27,
    "start_time": "2023-01-17T17:41:12.058Z"
   },
   {
    "duration": 66,
    "start_time": "2023-01-17T17:41:12.087Z"
   },
   {
    "duration": 2860,
    "start_time": "2023-01-17T17:41:12.155Z"
   },
   {
    "duration": 114,
    "start_time": "2023-01-17T17:41:15.017Z"
   },
   {
    "duration": 67,
    "start_time": "2023-01-17T17:41:15.133Z"
   },
   {
    "duration": 16,
    "start_time": "2023-01-17T17:41:15.213Z"
   },
   {
    "duration": 57,
    "start_time": "2023-01-17T17:41:15.230Z"
   },
   {
    "duration": 636,
    "start_time": "2023-01-17T17:41:15.289Z"
   },
   {
    "duration": 18,
    "start_time": "2023-01-17T17:41:15.926Z"
   },
   {
    "duration": 452,
    "start_time": "2023-01-17T17:41:15.945Z"
   },
   {
    "duration": 4,
    "start_time": "2023-01-17T17:41:16.399Z"
   },
   {
    "duration": 874,
    "start_time": "2023-01-17T17:41:16.404Z"
   },
   {
    "duration": 18,
    "start_time": "2023-01-17T17:41:17.281Z"
   },
   {
    "duration": 57,
    "start_time": "2023-01-17T17:41:17.313Z"
   },
   {
    "duration": 5,
    "start_time": "2023-01-17T17:41:17.372Z"
   },
   {
    "duration": 46,
    "start_time": "2023-01-17T17:41:17.379Z"
   },
   {
    "duration": 17,
    "start_time": "2023-01-17T17:41:17.427Z"
   },
   {
    "duration": 12,
    "start_time": "2023-01-17T17:41:17.446Z"
   },
   {
    "duration": 10,
    "start_time": "2023-01-17T17:41:17.460Z"
   },
   {
    "duration": 8,
    "start_time": "2023-01-17T17:41:17.472Z"
   },
   {
    "duration": 9,
    "start_time": "2023-01-17T17:41:17.482Z"
   },
   {
    "duration": 18921,
    "start_time": "2023-01-17T17:41:17.492Z"
   },
   {
    "duration": 100,
    "start_time": "2023-01-17T17:41:36.420Z"
   },
   {
    "duration": 8,
    "start_time": "2023-01-17T17:41:36.521Z"
   },
   {
    "duration": 188,
    "start_time": "2023-01-17T17:41:36.530Z"
   },
   {
    "duration": 95,
    "start_time": "2023-01-17T17:41:36.720Z"
   },
   {
    "duration": 6,
    "start_time": "2023-01-17T17:41:36.817Z"
   },
   {
    "duration": 7,
    "start_time": "2023-01-17T17:41:36.824Z"
   },
   {
    "duration": 205,
    "start_time": "2023-01-17T17:41:36.833Z"
   },
   {
    "duration": 0,
    "start_time": "2023-01-17T17:41:37.039Z"
   },
   {
    "duration": 13,
    "start_time": "2023-01-17T17:41:47.401Z"
   },
   {
    "duration": 4,
    "start_time": "2023-01-17T17:42:08.946Z"
   },
   {
    "duration": 13,
    "start_time": "2023-01-17T17:42:09.543Z"
   },
   {
    "duration": 3,
    "start_time": "2023-01-17T17:42:17.996Z"
   },
   {
    "duration": 2,
    "start_time": "2023-01-17T17:42:18.413Z"
   },
   {
    "duration": 628103,
    "start_time": "2023-01-17T17:42:40.243Z"
   },
   {
    "duration": 4,
    "start_time": "2023-01-17T17:53:13.827Z"
   },
   {
    "duration": 3,
    "start_time": "2023-01-17T17:53:18.028Z"
   },
   {
    "duration": 3,
    "start_time": "2023-01-17T17:53:18.952Z"
   },
   {
    "duration": 3,
    "start_time": "2023-01-17T17:53:19.496Z"
   },
   {
    "duration": 84,
    "start_time": "2023-01-17T17:53:20.072Z"
   },
   {
    "duration": 3,
    "start_time": "2023-01-17T17:53:29.499Z"
   },
   {
    "duration": 89874,
    "start_time": "2023-01-17T17:53:30.320Z"
   },
   {
    "duration": 3,
    "start_time": "2023-01-17T17:55:00.196Z"
   },
   {
    "duration": 57,
    "start_time": "2023-01-17T17:55:00.200Z"
   },
   {
    "duration": 11,
    "start_time": "2023-01-17T17:56:27.303Z"
   },
   {
    "duration": 10,
    "start_time": "2023-01-17T17:56:37.972Z"
   },
   {
    "duration": 3,
    "start_time": "2023-01-17T17:58:04.207Z"
   },
   {
    "duration": 17348,
    "start_time": "2023-01-17T17:58:30.253Z"
   },
   {
    "duration": 16,
    "start_time": "2023-01-17T17:59:24.613Z"
   },
   {
    "duration": 3,
    "start_time": "2023-01-17T17:59:55.930Z"
   },
   {
    "duration": 14,
    "start_time": "2023-01-17T17:59:59.083Z"
   },
   {
    "duration": 11,
    "start_time": "2023-01-17T18:00:29.692Z"
   },
   {
    "duration": 5,
    "start_time": "2023-01-17T18:00:38.116Z"
   },
   {
    "duration": 10,
    "start_time": "2023-01-17T18:00:48.598Z"
   },
   {
    "duration": 5,
    "start_time": "2023-01-17T18:01:30.701Z"
   },
   {
    "duration": 96,
    "start_time": "2023-01-17T18:01:52.225Z"
   },
   {
    "duration": 80,
    "start_time": "2023-01-17T18:01:59.347Z"
   },
   {
    "duration": 4,
    "start_time": "2023-01-17T18:02:12.002Z"
   },
   {
    "duration": 70,
    "start_time": "2023-01-17T18:02:35.686Z"
   },
   {
    "duration": 4,
    "start_time": "2023-01-17T18:02:50.261Z"
   },
   {
    "duration": 75,
    "start_time": "2023-01-17T18:03:01.202Z"
   },
   {
    "duration": 3,
    "start_time": "2023-01-17T18:03:02.654Z"
   },
   {
    "duration": 3,
    "start_time": "2023-01-17T18:03:19.177Z"
   },
   {
    "duration": 3,
    "start_time": "2023-01-17T18:03:19.845Z"
   },
   {
    "duration": 465900,
    "start_time": "2023-01-17T18:03:21.029Z"
   },
   {
    "duration": 77,
    "start_time": "2023-01-17T18:11:06.931Z"
   },
   {
    "duration": 0,
    "start_time": "2023-01-17T18:11:07.010Z"
   },
   {
    "duration": 0,
    "start_time": "2023-01-17T18:11:07.011Z"
   },
   {
    "duration": 0,
    "start_time": "2023-01-17T18:11:07.012Z"
   },
   {
    "duration": 4,
    "start_time": "2023-01-17T18:11:47.056Z"
   },
   {
    "duration": 70,
    "start_time": "2023-01-17T18:11:54.248Z"
   },
   {
    "duration": 9,
    "start_time": "2023-01-17T18:12:01.139Z"
   },
   {
    "duration": 4,
    "start_time": "2023-01-17T18:12:52.826Z"
   },
   {
    "duration": 4,
    "start_time": "2023-01-17T18:13:07.626Z"
   },
   {
    "duration": 29213,
    "start_time": "2023-01-17T18:13:16.903Z"
   },
   {
    "duration": 14,
    "start_time": "2023-01-17T18:13:46.118Z"
   },
   {
    "duration": 28876,
    "start_time": "2023-01-17T18:14:05.269Z"
   },
   {
    "duration": 15,
    "start_time": "2023-01-17T18:14:34.147Z"
   },
   {
    "duration": 3,
    "start_time": "2023-01-17T18:15:14.003Z"
   },
   {
    "duration": 3,
    "start_time": "2023-01-17T18:15:18.109Z"
   },
   {
    "duration": 494107,
    "start_time": "2023-01-17T18:15:18.826Z"
   },
   {
    "duration": 5,
    "start_time": "2023-01-17T18:23:32.935Z"
   },
   {
    "duration": 32155,
    "start_time": "2023-01-17T18:23:32.941Z"
   },
   {
    "duration": 4,
    "start_time": "2023-01-17T18:24:05.099Z"
   },
   {
    "duration": 24,
    "start_time": "2023-01-17T18:24:05.104Z"
   },
   {
    "duration": 1447,
    "start_time": "2023-01-17T18:27:44.279Z"
   },
   {
    "duration": 800,
    "start_time": "2023-01-17T18:27:45.728Z"
   },
   {
    "duration": 28,
    "start_time": "2023-01-17T18:27:46.532Z"
   },
   {
    "duration": 133,
    "start_time": "2023-01-17T18:27:46.561Z"
   },
   {
    "duration": 864,
    "start_time": "2023-01-17T18:27:46.695Z"
   },
   {
    "duration": 640,
    "start_time": "2023-01-17T18:27:47.561Z"
   },
   {
    "duration": 120,
    "start_time": "2023-01-17T18:27:48.203Z"
   },
   {
    "duration": 459,
    "start_time": "2023-01-17T18:27:48.325Z"
   },
   {
    "duration": 3,
    "start_time": "2023-01-17T18:27:48.787Z"
   },
   {
    "duration": 12,
    "start_time": "2023-01-17T18:27:48.791Z"
   },
   {
    "duration": 120,
    "start_time": "2023-01-17T18:27:48.813Z"
   },
   {
    "duration": 626,
    "start_time": "2023-01-17T18:27:48.935Z"
   },
   {
    "duration": 238,
    "start_time": "2023-01-17T18:27:49.564Z"
   },
   {
    "duration": 971,
    "start_time": "2023-01-17T18:27:49.804Z"
   },
   {
    "duration": 184,
    "start_time": "2023-01-17T18:27:50.776Z"
   },
   {
    "duration": 51,
    "start_time": "2023-01-17T18:27:50.962Z"
   },
   {
    "duration": 35,
    "start_time": "2023-01-17T18:27:51.015Z"
   },
   {
    "duration": 92,
    "start_time": "2023-01-17T18:27:51.051Z"
   },
   {
    "duration": 3,
    "start_time": "2023-01-17T18:27:51.144Z"
   },
   {
    "duration": 1004,
    "start_time": "2023-01-17T18:27:51.149Z"
   },
   {
    "duration": 31,
    "start_time": "2023-01-17T18:27:52.154Z"
   },
   {
    "duration": 42,
    "start_time": "2023-01-17T18:27:52.186Z"
   },
   {
    "duration": 32,
    "start_time": "2023-01-17T18:27:52.230Z"
   },
   {
    "duration": 121,
    "start_time": "2023-01-17T18:27:52.264Z"
   },
   {
    "duration": 310,
    "start_time": "2023-01-17T18:27:52.386Z"
   },
   {
    "duration": 2,
    "start_time": "2023-01-17T18:27:52.698Z"
   },
   {
    "duration": 889,
    "start_time": "2023-01-17T18:27:52.712Z"
   },
   {
    "duration": 12,
    "start_time": "2023-01-17T18:27:53.603Z"
   },
   {
    "duration": 465,
    "start_time": "2023-01-17T18:27:53.617Z"
   },
   {
    "duration": 341,
    "start_time": "2023-01-17T18:27:54.083Z"
   },
   {
    "duration": 74,
    "start_time": "2023-01-17T18:27:54.427Z"
   },
   {
    "duration": 17,
    "start_time": "2023-01-17T18:27:54.503Z"
   },
   {
    "duration": 7,
    "start_time": "2023-01-17T18:27:54.521Z"
   },
   {
    "duration": 206,
    "start_time": "2023-01-17T18:27:54.530Z"
   },
   {
    "duration": 221,
    "start_time": "2023-01-17T18:27:54.738Z"
   },
   {
    "duration": 885,
    "start_time": "2023-01-17T18:27:54.961Z"
   },
   {
    "duration": 262,
    "start_time": "2023-01-17T18:27:55.848Z"
   },
   {
    "duration": 511,
    "start_time": "2023-01-17T18:27:56.113Z"
   },
   {
    "duration": 11,
    "start_time": "2023-01-17T18:27:56.626Z"
   },
   {
    "duration": 11,
    "start_time": "2023-01-17T18:27:56.638Z"
   },
   {
    "duration": 17,
    "start_time": "2023-01-17T18:27:56.650Z"
   },
   {
    "duration": 171,
    "start_time": "2023-01-17T18:27:56.669Z"
   },
   {
    "duration": 30634,
    "start_time": "2023-01-17T18:27:56.842Z"
   },
   {
    "duration": 6,
    "start_time": "2023-01-17T18:28:27.477Z"
   },
   {
    "duration": 36,
    "start_time": "2023-01-17T18:28:27.485Z"
   },
   {
    "duration": 47,
    "start_time": "2023-01-17T18:28:27.522Z"
   },
   {
    "duration": 2544,
    "start_time": "2023-01-17T18:28:27.571Z"
   },
   {
    "duration": 103,
    "start_time": "2023-01-17T18:28:30.117Z"
   },
   {
    "duration": 81,
    "start_time": "2023-01-17T18:28:30.221Z"
   },
   {
    "duration": 17,
    "start_time": "2023-01-17T18:28:30.304Z"
   },
   {
    "duration": 67,
    "start_time": "2023-01-17T18:28:30.323Z"
   },
   {
    "duration": 765,
    "start_time": "2023-01-17T18:28:30.392Z"
   },
   {
    "duration": 17,
    "start_time": "2023-01-17T18:28:31.159Z"
   },
   {
    "duration": 536,
    "start_time": "2023-01-17T18:28:31.178Z"
   },
   {
    "duration": 3,
    "start_time": "2023-01-17T18:28:31.716Z"
   },
   {
    "duration": 1039,
    "start_time": "2023-01-17T18:28:31.720Z"
   },
   {
    "duration": 16,
    "start_time": "2023-01-17T18:28:32.760Z"
   },
   {
    "duration": 69,
    "start_time": "2023-01-17T18:28:32.778Z"
   },
   {
    "duration": 4,
    "start_time": "2023-01-17T18:28:32.848Z"
   },
   {
    "duration": 18,
    "start_time": "2023-01-17T18:28:32.854Z"
   },
   {
    "duration": 14,
    "start_time": "2023-01-17T18:28:32.874Z"
   },
   {
    "duration": 19,
    "start_time": "2023-01-17T18:28:32.889Z"
   },
   {
    "duration": 25,
    "start_time": "2023-01-17T18:28:32.910Z"
   },
   {
    "duration": 13,
    "start_time": "2023-01-17T18:28:32.937Z"
   },
   {
    "duration": 9,
    "start_time": "2023-01-17T18:28:32.952Z"
   },
   {
    "duration": 20051,
    "start_time": "2023-01-17T18:28:32.963Z"
   },
   {
    "duration": 103,
    "start_time": "2023-01-17T18:28:53.016Z"
   },
   {
    "duration": 8,
    "start_time": "2023-01-17T18:28:53.121Z"
   },
   {
    "duration": 189,
    "start_time": "2023-01-17T18:28:53.131Z"
   },
   {
    "duration": 101,
    "start_time": "2023-01-17T18:28:53.322Z"
   },
   {
    "duration": 24,
    "start_time": "2023-01-17T18:28:53.425Z"
   },
   {
    "duration": 18,
    "start_time": "2023-01-17T18:28:53.451Z"
   },
   {
    "duration": 27,
    "start_time": "2023-01-17T18:28:53.470Z"
   },
   {
    "duration": 453264,
    "start_time": "2023-01-17T18:28:53.499Z"
   },
   {
    "duration": 2,
    "start_time": "2023-01-17T18:36:26.765Z"
   },
   {
    "duration": 32157,
    "start_time": "2023-01-17T18:36:26.769Z"
   },
   {
    "duration": 4,
    "start_time": "2023-01-17T18:36:58.928Z"
   },
   {
    "duration": 22,
    "start_time": "2023-01-17T18:36:58.934Z"
   },
   {
    "duration": 5,
    "start_time": "2023-01-17T18:36:58.958Z"
   },
   {
    "duration": 10,
    "start_time": "2023-01-17T18:36:58.965Z"
   },
   {
    "duration": 454929,
    "start_time": "2023-01-17T18:36:58.980Z"
   },
   {
    "duration": 3,
    "start_time": "2023-01-17T18:44:33.911Z"
   },
   {
    "duration": 8387,
    "start_time": "2023-01-17T18:44:33.916Z"
   },
   {
    "duration": 8,
    "start_time": "2023-01-17T18:44:42.305Z"
   },
   {
    "duration": 14,
    "start_time": "2023-01-17T18:44:42.315Z"
   },
   {
    "duration": 5,
    "start_time": "2023-01-17T19:37:30.609Z"
   },
   {
    "duration": 4,
    "start_time": "2023-01-17T19:37:31.826Z"
   },
   {
    "duration": 2101231,
    "start_time": "2023-01-17T19:37:33.301Z"
   },
   {
    "duration": 2,
    "start_time": "2023-01-17T20:12:34.534Z"
   },
   {
    "duration": 29098,
    "start_time": "2023-01-17T20:12:34.538Z"
   },
   {
    "duration": 4,
    "start_time": "2023-01-17T20:13:03.639Z"
   },
   {
    "duration": 42,
    "start_time": "2023-01-17T20:13:03.645Z"
   },
   {
    "duration": 38,
    "start_time": "2023-01-17T20:13:03.688Z"
   },
   {
    "duration": 4,
    "start_time": "2023-01-17T20:16:32.056Z"
   },
   {
    "duration": 3,
    "start_time": "2023-01-17T20:16:32.664Z"
   },
   {
    "duration": 1470,
    "start_time": "2023-01-18T12:16:39.867Z"
   },
   {
    "duration": 754,
    "start_time": "2023-01-18T12:16:41.338Z"
   },
   {
    "duration": 27,
    "start_time": "2023-01-18T12:16:42.093Z"
   },
   {
    "duration": 124,
    "start_time": "2023-01-18T12:16:42.122Z"
   },
   {
    "duration": 825,
    "start_time": "2023-01-18T12:16:42.247Z"
   },
   {
    "duration": 613,
    "start_time": "2023-01-18T12:16:43.074Z"
   },
   {
    "duration": 105,
    "start_time": "2023-01-18T12:16:43.688Z"
   },
   {
    "duration": 447,
    "start_time": "2023-01-18T12:16:43.795Z"
   },
   {
    "duration": 2,
    "start_time": "2023-01-18T12:16:44.244Z"
   },
   {
    "duration": 20,
    "start_time": "2023-01-18T12:16:44.250Z"
   },
   {
    "duration": 108,
    "start_time": "2023-01-18T12:16:44.272Z"
   },
   {
    "duration": 572,
    "start_time": "2023-01-18T12:16:44.382Z"
   },
   {
    "duration": 212,
    "start_time": "2023-01-18T12:16:44.956Z"
   },
   {
    "duration": 910,
    "start_time": "2023-01-18T12:16:45.170Z"
   },
   {
    "duration": 174,
    "start_time": "2023-01-18T12:16:46.081Z"
   },
   {
    "duration": 35,
    "start_time": "2023-01-18T12:16:46.257Z"
   },
   {
    "duration": 48,
    "start_time": "2023-01-18T12:16:46.293Z"
   },
   {
    "duration": 94,
    "start_time": "2023-01-18T12:16:46.343Z"
   },
   {
    "duration": 2,
    "start_time": "2023-01-18T12:16:46.438Z"
   },
   {
    "duration": 989,
    "start_time": "2023-01-18T12:16:46.442Z"
   },
   {
    "duration": 29,
    "start_time": "2023-01-18T12:16:47.433Z"
   },
   {
    "duration": 14,
    "start_time": "2023-01-18T12:16:47.464Z"
   },
   {
    "duration": 45,
    "start_time": "2023-01-18T12:16:47.480Z"
   },
   {
    "duration": 109,
    "start_time": "2023-01-18T12:16:47.527Z"
   },
   {
    "duration": 298,
    "start_time": "2023-01-18T12:16:47.638Z"
   },
   {
    "duration": 2,
    "start_time": "2023-01-18T12:16:47.939Z"
   },
   {
    "duration": 876,
    "start_time": "2023-01-18T12:16:47.943Z"
   },
   {
    "duration": 8,
    "start_time": "2023-01-18T12:16:48.822Z"
   },
   {
    "duration": 498,
    "start_time": "2023-01-18T12:16:48.831Z"
   },
   {
    "duration": 334,
    "start_time": "2023-01-18T12:16:49.331Z"
   },
   {
    "duration": 58,
    "start_time": "2023-01-18T12:16:49.667Z"
   },
   {
    "duration": 10,
    "start_time": "2023-01-18T12:16:49.727Z"
   },
   {
    "duration": 4,
    "start_time": "2023-01-18T12:16:49.738Z"
   },
   {
    "duration": 173,
    "start_time": "2023-01-18T12:16:49.744Z"
   },
   {
    "duration": 203,
    "start_time": "2023-01-18T12:16:49.919Z"
   },
   {
    "duration": 954,
    "start_time": "2023-01-18T12:16:50.124Z"
   },
   {
    "duration": 260,
    "start_time": "2023-01-18T12:16:51.080Z"
   },
   {
    "duration": 502,
    "start_time": "2023-01-18T12:16:51.342Z"
   },
   {
    "duration": 9,
    "start_time": "2023-01-18T12:16:51.846Z"
   },
   {
    "duration": 41,
    "start_time": "2023-01-18T12:16:51.857Z"
   },
   {
    "duration": 15,
    "start_time": "2023-01-18T12:16:51.900Z"
   },
   {
    "duration": 125,
    "start_time": "2023-01-18T12:16:51.917Z"
   },
   {
    "duration": 31214,
    "start_time": "2023-01-18T12:16:52.043Z"
   },
   {
    "duration": 6,
    "start_time": "2023-01-18T12:17:23.259Z"
   },
   {
    "duration": 50,
    "start_time": "2023-01-18T12:17:23.267Z"
   },
   {
    "duration": 50,
    "start_time": "2023-01-18T12:17:23.319Z"
   },
   {
    "duration": 2747,
    "start_time": "2023-01-18T12:17:23.371Z"
   },
   {
    "duration": 106,
    "start_time": "2023-01-18T12:17:26.120Z"
   },
   {
    "duration": 73,
    "start_time": "2023-01-18T12:17:26.228Z"
   },
   {
    "duration": 20,
    "start_time": "2023-01-18T12:17:26.314Z"
   },
   {
    "duration": 58,
    "start_time": "2023-01-18T12:17:26.336Z"
   },
   {
    "duration": 784,
    "start_time": "2023-01-18T12:17:26.412Z"
   },
   {
    "duration": 23,
    "start_time": "2023-01-18T12:17:27.198Z"
   },
   {
    "duration": 472,
    "start_time": "2023-01-18T12:17:27.223Z"
   },
   {
    "duration": 4,
    "start_time": "2023-01-18T12:17:27.696Z"
   },
   {
    "duration": 889,
    "start_time": "2023-01-18T12:17:27.702Z"
   },
   {
    "duration": 22,
    "start_time": "2023-01-18T12:17:28.593Z"
   },
   {
    "duration": 52,
    "start_time": "2023-01-18T12:17:28.616Z"
   },
   {
    "duration": 3,
    "start_time": "2023-01-18T12:17:28.670Z"
   },
   {
    "duration": 21,
    "start_time": "2023-01-18T12:17:28.675Z"
   },
   {
    "duration": 28,
    "start_time": "2023-01-18T12:17:28.698Z"
   },
   {
    "duration": 12,
    "start_time": "2023-01-18T12:17:28.728Z"
   },
   {
    "duration": 18,
    "start_time": "2023-01-18T12:17:28.742Z"
   },
   {
    "duration": 21,
    "start_time": "2023-01-18T12:17:28.761Z"
   },
   {
    "duration": 16,
    "start_time": "2023-01-18T12:17:28.783Z"
   },
   {
    "duration": 27226,
    "start_time": "2023-01-18T12:17:28.801Z"
   },
   {
    "duration": 105,
    "start_time": "2023-01-18T12:17:56.112Z"
   },
   {
    "duration": 11,
    "start_time": "2023-01-18T12:17:56.220Z"
   },
   {
    "duration": 184,
    "start_time": "2023-01-18T12:17:56.233Z"
   },
   {
    "duration": 96,
    "start_time": "2023-01-18T12:17:56.420Z"
   },
   {
    "duration": 12,
    "start_time": "2023-01-18T12:17:56.517Z"
   },
   {
    "duration": 13,
    "start_time": "2023-01-18T12:17:56.531Z"
   },
   {
    "duration": 19,
    "start_time": "2023-01-18T12:17:56.546Z"
   },
   {
    "duration": 63896,
    "start_time": "2023-01-18T12:17:56.567Z"
   },
   {
    "duration": 4,
    "start_time": "2023-01-18T12:19:00.465Z"
   },
   {
    "duration": 6323,
    "start_time": "2023-01-18T12:19:00.470Z"
   },
   {
    "duration": 3,
    "start_time": "2023-01-18T12:19:06.795Z"
   },
   {
    "duration": 64,
    "start_time": "2023-01-18T12:19:06.800Z"
   },
   {
    "duration": 28,
    "start_time": "2023-01-18T12:19:06.866Z"
   },
   {
    "duration": 33,
    "start_time": "2023-01-18T12:19:06.896Z"
   },
   {
    "duration": 1500,
    "start_time": "2023-01-18T12:19:59.703Z"
   },
   {
    "duration": 797,
    "start_time": "2023-01-18T12:20:01.205Z"
   },
   {
    "duration": 30,
    "start_time": "2023-01-18T12:20:02.004Z"
   },
   {
    "duration": 137,
    "start_time": "2023-01-18T12:20:02.036Z"
   },
   {
    "duration": 837,
    "start_time": "2023-01-18T12:20:02.175Z"
   },
   {
    "duration": 633,
    "start_time": "2023-01-18T12:20:03.013Z"
   },
   {
    "duration": 114,
    "start_time": "2023-01-18T12:20:03.647Z"
   },
   {
    "duration": 451,
    "start_time": "2023-01-18T12:20:03.763Z"
   },
   {
    "duration": 3,
    "start_time": "2023-01-18T12:20:04.216Z"
   },
   {
    "duration": 8,
    "start_time": "2023-01-18T12:20:04.221Z"
   },
   {
    "duration": 119,
    "start_time": "2023-01-18T12:20:04.230Z"
   },
   {
    "duration": 563,
    "start_time": "2023-01-18T12:20:04.350Z"
   },
   {
    "duration": 242,
    "start_time": "2023-01-18T12:20:04.915Z"
   },
   {
    "duration": 890,
    "start_time": "2023-01-18T12:20:05.158Z"
   },
   {
    "duration": 168,
    "start_time": "2023-01-18T12:20:06.049Z"
   },
   {
    "duration": 31,
    "start_time": "2023-01-18T12:20:06.218Z"
   },
   {
    "duration": 33,
    "start_time": "2023-01-18T12:20:06.250Z"
   },
   {
    "duration": 88,
    "start_time": "2023-01-18T12:20:06.285Z"
   },
   {
    "duration": 2,
    "start_time": "2023-01-18T12:20:06.375Z"
   },
   {
    "duration": 1043,
    "start_time": "2023-01-18T12:20:06.378Z"
   },
   {
    "duration": 32,
    "start_time": "2023-01-18T12:20:07.423Z"
   },
   {
    "duration": 14,
    "start_time": "2023-01-18T12:20:07.456Z"
   },
   {
    "duration": 48,
    "start_time": "2023-01-18T12:20:07.472Z"
   },
   {
    "duration": 106,
    "start_time": "2023-01-18T12:20:07.522Z"
   },
   {
    "duration": 310,
    "start_time": "2023-01-18T12:20:07.630Z"
   },
   {
    "duration": 2,
    "start_time": "2023-01-18T12:20:07.942Z"
   },
   {
    "duration": 873,
    "start_time": "2023-01-18T12:20:07.945Z"
   },
   {
    "duration": 8,
    "start_time": "2023-01-18T12:20:08.823Z"
   },
   {
    "duration": 472,
    "start_time": "2023-01-18T12:20:08.832Z"
   },
   {
    "duration": 322,
    "start_time": "2023-01-18T12:20:09.306Z"
   },
   {
    "duration": 51,
    "start_time": "2023-01-18T12:20:09.630Z"
   },
   {
    "duration": 10,
    "start_time": "2023-01-18T12:20:09.682Z"
   },
   {
    "duration": 22,
    "start_time": "2023-01-18T12:20:09.694Z"
   },
   {
    "duration": 155,
    "start_time": "2023-01-18T12:20:09.718Z"
   },
   {
    "duration": 197,
    "start_time": "2023-01-18T12:20:09.875Z"
   },
   {
    "duration": 961,
    "start_time": "2023-01-18T12:20:10.074Z"
   },
   {
    "duration": 249,
    "start_time": "2023-01-18T12:20:11.037Z"
   },
   {
    "duration": 507,
    "start_time": "2023-01-18T12:20:11.287Z"
   },
   {
    "duration": 18,
    "start_time": "2023-01-18T12:20:11.795Z"
   },
   {
    "duration": 13,
    "start_time": "2023-01-18T12:20:11.815Z"
   },
   {
    "duration": 16,
    "start_time": "2023-01-18T12:20:11.829Z"
   },
   {
    "duration": 139,
    "start_time": "2023-01-18T12:20:11.846Z"
   },
   {
    "duration": 32281,
    "start_time": "2023-01-18T12:20:11.988Z"
   },
   {
    "duration": 8,
    "start_time": "2023-01-18T12:20:44.271Z"
   },
   {
    "duration": 41,
    "start_time": "2023-01-18T12:20:44.280Z"
   },
   {
    "duration": 46,
    "start_time": "2023-01-18T12:20:44.323Z"
   },
   {
    "duration": 2745,
    "start_time": "2023-01-18T12:20:44.370Z"
   },
   {
    "duration": 105,
    "start_time": "2023-01-18T12:20:47.117Z"
   },
   {
    "duration": 61,
    "start_time": "2023-01-18T12:20:47.224Z"
   },
   {
    "duration": 31,
    "start_time": "2023-01-18T12:20:47.287Z"
   },
   {
    "duration": 60,
    "start_time": "2023-01-18T12:20:47.320Z"
   },
   {
    "duration": 679,
    "start_time": "2023-01-18T12:20:47.383Z"
   },
   {
    "duration": 17,
    "start_time": "2023-01-18T12:20:48.064Z"
   },
   {
    "duration": 447,
    "start_time": "2023-01-18T12:20:48.083Z"
   },
   {
    "duration": 4,
    "start_time": "2023-01-18T12:20:48.532Z"
   },
   {
    "duration": 857,
    "start_time": "2023-01-18T12:20:48.538Z"
   },
   {
    "duration": 23,
    "start_time": "2023-01-18T12:20:49.397Z"
   },
   {
    "duration": 51,
    "start_time": "2023-01-18T12:20:49.422Z"
   },
   {
    "duration": 5,
    "start_time": "2023-01-18T12:20:49.475Z"
   },
   {
    "duration": 32,
    "start_time": "2023-01-18T12:20:49.482Z"
   },
   {
    "duration": 20,
    "start_time": "2023-01-18T12:20:49.516Z"
   },
   {
    "duration": 33,
    "start_time": "2023-01-18T12:20:49.537Z"
   },
   {
    "duration": 11,
    "start_time": "2023-01-18T12:20:49.571Z"
   },
   {
    "duration": 26,
    "start_time": "2023-01-18T12:20:49.583Z"
   },
   {
    "duration": 20,
    "start_time": "2023-01-18T12:20:49.610Z"
   },
   {
    "duration": 19986,
    "start_time": "2023-01-18T12:20:49.631Z"
   },
   {
    "duration": 95,
    "start_time": "2023-01-18T12:21:09.620Z"
   },
   {
    "duration": 14,
    "start_time": "2023-01-18T12:21:09.717Z"
   },
   {
    "duration": 183,
    "start_time": "2023-01-18T12:21:09.732Z"
   },
   {
    "duration": 103,
    "start_time": "2023-01-18T12:21:09.917Z"
   },
   {
    "duration": 2,
    "start_time": "2023-01-18T12:21:10.022Z"
   },
   {
    "duration": 13,
    "start_time": "2023-01-18T12:21:10.026Z"
   },
   {
    "duration": 11,
    "start_time": "2023-01-18T12:21:10.041Z"
   },
   {
    "duration": 43043,
    "start_time": "2023-01-18T12:21:10.053Z"
   },
   {
    "duration": 3,
    "start_time": "2023-01-18T12:21:53.098Z"
   },
   {
    "duration": 6256,
    "start_time": "2023-01-18T12:21:53.102Z"
   },
   {
    "duration": 4,
    "start_time": "2023-01-18T12:21:59.360Z"
   },
   {
    "duration": 30,
    "start_time": "2023-01-18T12:21:59.365Z"
   },
   {
    "duration": 7,
    "start_time": "2023-01-18T12:21:59.396Z"
   },
   {
    "duration": 11,
    "start_time": "2023-01-18T12:21:59.405Z"
   },
   {
    "duration": 63338,
    "start_time": "2023-01-18T12:21:59.417Z"
   },
   {
    "duration": 3,
    "start_time": "2023-01-18T12:23:02.760Z"
   },
   {
    "duration": 905,
    "start_time": "2023-01-18T12:23:02.765Z"
   },
   {
    "duration": 4,
    "start_time": "2023-01-18T12:23:03.672Z"
   },
   {
    "duration": 44,
    "start_time": "2023-01-18T12:23:03.678Z"
   },
   {
    "duration": 26,
    "start_time": "2023-01-18T12:23:03.723Z"
   },
   {
    "duration": 47,
    "start_time": "2023-01-18T12:23:03.751Z"
   },
   {
    "duration": 24,
    "start_time": "2023-01-18T12:23:03.800Z"
   },
   {
    "duration": 33414,
    "start_time": "2023-01-18T12:23:03.826Z"
   },
   {
    "duration": 12,
    "start_time": "2023-01-18T12:23:37.242Z"
   },
   {
    "duration": 0,
    "start_time": "2023-01-18T12:23:37.255Z"
   },
   {
    "duration": 0,
    "start_time": "2023-01-18T12:23:37.256Z"
   },
   {
    "duration": 0,
    "start_time": "2023-01-18T12:23:37.258Z"
   },
   {
    "duration": 0,
    "start_time": "2023-01-18T12:23:37.259Z"
   },
   {
    "duration": 0,
    "start_time": "2023-01-18T12:23:37.260Z"
   },
   {
    "duration": 0,
    "start_time": "2023-01-18T12:23:37.260Z"
   },
   {
    "duration": 0,
    "start_time": "2023-01-18T12:23:37.261Z"
   },
   {
    "duration": 0,
    "start_time": "2023-01-18T12:23:37.262Z"
   },
   {
    "duration": 0,
    "start_time": "2023-01-18T12:23:37.263Z"
   },
   {
    "duration": 0,
    "start_time": "2023-01-18T12:23:37.264Z"
   },
   {
    "duration": 0,
    "start_time": "2023-01-18T12:23:37.265Z"
   },
   {
    "duration": 4,
    "start_time": "2023-01-18T12:23:41.636Z"
   },
   {
    "duration": 4,
    "start_time": "2023-01-18T12:23:42.679Z"
   },
   {
    "duration": 3,
    "start_time": "2023-01-18T12:23:43.222Z"
   },
   {
    "duration": 52167,
    "start_time": "2023-01-18T12:23:46.145Z"
   },
   {
    "duration": 3,
    "start_time": "2023-01-18T12:24:38.314Z"
   },
   {
    "duration": 5771,
    "start_time": "2023-01-18T12:24:38.318Z"
   },
   {
    "duration": 4,
    "start_time": "2023-01-18T12:24:44.091Z"
   },
   {
    "duration": 31,
    "start_time": "2023-01-18T12:24:44.097Z"
   },
   {
    "duration": 12,
    "start_time": "2023-01-18T12:24:44.130Z"
   },
   {
    "duration": 8,
    "start_time": "2023-01-18T12:24:44.144Z"
   },
   {
    "duration": 43404,
    "start_time": "2023-01-18T12:24:44.154Z"
   },
   {
    "duration": 3,
    "start_time": "2023-01-18T12:25:27.559Z"
   },
   {
    "duration": 846,
    "start_time": "2023-01-18T12:25:27.564Z"
   },
   {
    "duration": 4,
    "start_time": "2023-01-18T12:25:28.411Z"
   },
   {
    "duration": 27,
    "start_time": "2023-01-18T12:25:28.416Z"
   },
   {
    "duration": 2,
    "start_time": "2023-01-18T12:30:19.837Z"
   },
   {
    "duration": 2,
    "start_time": "2023-01-18T12:30:20.761Z"
   },
   {
    "duration": 58877,
    "start_time": "2023-01-18T12:30:20.956Z"
   },
   {
    "duration": 3,
    "start_time": "2023-01-18T12:31:19.835Z"
   },
   {
    "duration": 5514,
    "start_time": "2023-01-18T12:31:19.839Z"
   },
   {
    "duration": 4,
    "start_time": "2023-01-18T12:31:25.355Z"
   },
   {
    "duration": 17,
    "start_time": "2023-01-18T12:31:25.361Z"
   },
   {
    "duration": 9,
    "start_time": "2023-01-18T12:31:25.379Z"
   },
   {
    "duration": 11,
    "start_time": "2023-01-18T12:31:25.390Z"
   },
   {
    "duration": 51436,
    "start_time": "2023-01-18T12:31:25.402Z"
   },
   {
    "duration": 3,
    "start_time": "2023-01-18T12:32:16.839Z"
   },
   {
    "duration": 715,
    "start_time": "2023-01-18T12:32:16.844Z"
   },
   {
    "duration": 4,
    "start_time": "2023-01-18T12:32:17.561Z"
   },
   {
    "duration": 36,
    "start_time": "2023-01-18T12:32:17.566Z"
   },
   {
    "duration": 3,
    "start_time": "2023-01-18T12:32:42.875Z"
   },
   {
    "duration": 3,
    "start_time": "2023-01-18T12:32:43.922Z"
   },
   {
    "duration": 3,
    "start_time": "2023-01-18T12:32:44.488Z"
   },
   {
    "duration": 46973,
    "start_time": "2023-01-18T12:32:45.076Z"
   },
   {
    "duration": 2,
    "start_time": "2023-01-18T12:33:32.051Z"
   },
   {
    "duration": 5420,
    "start_time": "2023-01-18T12:33:32.055Z"
   },
   {
    "duration": 4,
    "start_time": "2023-01-18T12:33:37.477Z"
   },
   {
    "duration": 31,
    "start_time": "2023-01-18T12:33:37.482Z"
   },
   {
    "duration": 31,
    "start_time": "2023-01-18T12:33:37.515Z"
   },
   {
    "duration": 29,
    "start_time": "2023-01-18T12:33:37.548Z"
   },
   {
    "duration": 112451,
    "start_time": "2023-01-18T12:33:37.578Z"
   },
   {
    "duration": 3,
    "start_time": "2023-01-18T12:35:30.031Z"
   },
   {
    "duration": 733,
    "start_time": "2023-01-18T12:35:30.036Z"
   },
   {
    "duration": 4,
    "start_time": "2023-01-18T12:35:30.771Z"
   },
   {
    "duration": 64,
    "start_time": "2023-01-18T12:35:30.776Z"
   },
   {
    "duration": 1687,
    "start_time": "2023-01-18T13:35:29.966Z"
   },
   {
    "duration": 958,
    "start_time": "2023-01-18T13:35:31.656Z"
   },
   {
    "duration": 38,
    "start_time": "2023-01-18T13:35:32.616Z"
   },
   {
    "duration": 198,
    "start_time": "2023-01-18T13:35:32.658Z"
   },
   {
    "duration": 1010,
    "start_time": "2023-01-18T13:35:32.858Z"
   },
   {
    "duration": 752,
    "start_time": "2023-01-18T13:35:33.869Z"
   },
   {
    "duration": 232,
    "start_time": "2023-01-18T13:35:34.623Z"
   },
   {
    "duration": 497,
    "start_time": "2023-01-18T13:35:34.859Z"
   },
   {
    "duration": 3,
    "start_time": "2023-01-18T13:35:35.358Z"
   },
   {
    "duration": 31,
    "start_time": "2023-01-18T13:35:35.364Z"
   },
   {
    "duration": 111,
    "start_time": "2023-01-18T13:35:35.397Z"
   },
   {
    "duration": 673,
    "start_time": "2023-01-18T13:35:35.510Z"
   },
   {
    "duration": 289,
    "start_time": "2023-01-18T13:35:36.185Z"
   },
   {
    "duration": 995,
    "start_time": "2023-01-18T13:35:36.476Z"
   },
   {
    "duration": 186,
    "start_time": "2023-01-18T13:35:37.473Z"
   },
   {
    "duration": 32,
    "start_time": "2023-01-18T13:35:37.660Z"
   },
   {
    "duration": 78,
    "start_time": "2023-01-18T13:35:37.694Z"
   },
   {
    "duration": 124,
    "start_time": "2023-01-18T13:35:37.774Z"
   },
   {
    "duration": 2,
    "start_time": "2023-01-18T13:35:37.902Z"
   },
   {
    "duration": 1157,
    "start_time": "2023-01-18T13:35:37.908Z"
   },
   {
    "duration": 32,
    "start_time": "2023-01-18T13:35:39.067Z"
   },
   {
    "duration": 36,
    "start_time": "2023-01-18T13:35:39.101Z"
   },
   {
    "duration": 59,
    "start_time": "2023-01-18T13:35:39.140Z"
   },
   {
    "duration": 144,
    "start_time": "2023-01-18T13:35:39.201Z"
   },
   {
    "duration": 320,
    "start_time": "2023-01-18T13:35:39.348Z"
   },
   {
    "duration": 4,
    "start_time": "2023-01-18T13:35:39.670Z"
   },
   {
    "duration": 1041,
    "start_time": "2023-01-18T13:35:39.676Z"
   },
   {
    "duration": 12,
    "start_time": "2023-01-18T13:35:40.722Z"
   },
   {
    "duration": 496,
    "start_time": "2023-01-18T13:35:40.737Z"
   },
   {
    "duration": 344,
    "start_time": "2023-01-18T13:35:41.235Z"
   },
   {
    "duration": 62,
    "start_time": "2023-01-18T13:35:41.581Z"
   },
   {
    "duration": 11,
    "start_time": "2023-01-18T13:35:41.644Z"
   },
   {
    "duration": 17,
    "start_time": "2023-01-18T13:35:41.656Z"
   },
   {
    "duration": 170,
    "start_time": "2023-01-18T13:35:41.674Z"
   },
   {
    "duration": 215,
    "start_time": "2023-01-18T13:35:41.845Z"
   },
   {
    "duration": 953,
    "start_time": "2023-01-18T13:35:42.062Z"
   },
   {
    "duration": 271,
    "start_time": "2023-01-18T13:35:43.016Z"
   },
   {
    "duration": 500,
    "start_time": "2023-01-18T13:35:43.289Z"
   },
   {
    "duration": 9,
    "start_time": "2023-01-18T13:35:43.791Z"
   },
   {
    "duration": 26,
    "start_time": "2023-01-18T13:35:43.802Z"
   },
   {
    "duration": 20,
    "start_time": "2023-01-18T13:35:43.830Z"
   },
   {
    "duration": 139,
    "start_time": "2023-01-18T13:35:43.852Z"
   },
   {
    "duration": 3805,
    "start_time": "2023-01-18T13:35:43.992Z"
   },
   {
    "duration": 0,
    "start_time": "2023-01-18T13:35:47.800Z"
   },
   {
    "duration": 0,
    "start_time": "2023-01-18T13:35:47.802Z"
   },
   {
    "duration": 0,
    "start_time": "2023-01-18T13:35:47.803Z"
   },
   {
    "duration": 0,
    "start_time": "2023-01-18T13:35:47.804Z"
   },
   {
    "duration": 0,
    "start_time": "2023-01-18T13:35:47.805Z"
   },
   {
    "duration": 0,
    "start_time": "2023-01-18T13:35:47.807Z"
   },
   {
    "duration": 0,
    "start_time": "2023-01-18T13:35:47.807Z"
   },
   {
    "duration": 0,
    "start_time": "2023-01-18T13:35:47.808Z"
   },
   {
    "duration": 0,
    "start_time": "2023-01-18T13:35:47.827Z"
   },
   {
    "duration": 0,
    "start_time": "2023-01-18T13:35:47.828Z"
   },
   {
    "duration": 0,
    "start_time": "2023-01-18T13:35:47.829Z"
   },
   {
    "duration": 0,
    "start_time": "2023-01-18T13:35:47.830Z"
   },
   {
    "duration": 0,
    "start_time": "2023-01-18T13:35:47.832Z"
   },
   {
    "duration": 0,
    "start_time": "2023-01-18T13:35:47.833Z"
   },
   {
    "duration": 0,
    "start_time": "2023-01-18T13:35:47.834Z"
   },
   {
    "duration": 0,
    "start_time": "2023-01-18T13:35:47.835Z"
   },
   {
    "duration": 0,
    "start_time": "2023-01-18T13:35:47.836Z"
   },
   {
    "duration": 0,
    "start_time": "2023-01-18T13:35:47.837Z"
   },
   {
    "duration": 0,
    "start_time": "2023-01-18T13:35:47.838Z"
   },
   {
    "duration": 0,
    "start_time": "2023-01-18T13:35:47.839Z"
   },
   {
    "duration": 0,
    "start_time": "2023-01-18T13:35:47.840Z"
   },
   {
    "duration": 0,
    "start_time": "2023-01-18T13:35:47.842Z"
   },
   {
    "duration": 0,
    "start_time": "2023-01-18T13:35:47.842Z"
   },
   {
    "duration": 0,
    "start_time": "2023-01-18T13:35:47.843Z"
   },
   {
    "duration": 0,
    "start_time": "2023-01-18T13:35:47.844Z"
   },
   {
    "duration": 0,
    "start_time": "2023-01-18T13:35:47.846Z"
   },
   {
    "duration": 0,
    "start_time": "2023-01-18T13:35:47.846Z"
   },
   {
    "duration": 0,
    "start_time": "2023-01-18T13:35:47.848Z"
   },
   {
    "duration": 0,
    "start_time": "2023-01-18T13:35:47.849Z"
   },
   {
    "duration": 0,
    "start_time": "2023-01-18T13:35:47.850Z"
   },
   {
    "duration": 0,
    "start_time": "2023-01-18T13:35:47.852Z"
   },
   {
    "duration": 0,
    "start_time": "2023-01-18T13:35:47.854Z"
   },
   {
    "duration": 0,
    "start_time": "2023-01-18T13:35:47.856Z"
   },
   {
    "duration": 0,
    "start_time": "2023-01-18T13:35:47.857Z"
   },
   {
    "duration": 0,
    "start_time": "2023-01-18T13:35:47.858Z"
   },
   {
    "duration": 0,
    "start_time": "2023-01-18T13:35:47.859Z"
   },
   {
    "duration": 0,
    "start_time": "2023-01-18T13:35:47.861Z"
   },
   {
    "duration": 0,
    "start_time": "2023-01-18T13:35:47.862Z"
   },
   {
    "duration": 0,
    "start_time": "2023-01-18T13:35:47.863Z"
   },
   {
    "duration": 0,
    "start_time": "2023-01-18T13:35:47.865Z"
   },
   {
    "duration": 0,
    "start_time": "2023-01-18T13:35:47.866Z"
   },
   {
    "duration": 0,
    "start_time": "2023-01-18T13:35:47.927Z"
   },
   {
    "duration": 0,
    "start_time": "2023-01-18T13:35:47.928Z"
   },
   {
    "duration": 0,
    "start_time": "2023-01-18T13:35:47.930Z"
   },
   {
    "duration": 0,
    "start_time": "2023-01-18T13:35:47.931Z"
   },
   {
    "duration": 0,
    "start_time": "2023-01-18T13:35:47.932Z"
   },
   {
    "duration": 0,
    "start_time": "2023-01-18T13:35:47.933Z"
   },
   {
    "duration": 0,
    "start_time": "2023-01-18T13:35:47.934Z"
   },
   {
    "duration": 0,
    "start_time": "2023-01-18T13:35:47.936Z"
   },
   {
    "duration": 0,
    "start_time": "2023-01-18T13:35:47.937Z"
   },
   {
    "duration": 0,
    "start_time": "2023-01-18T13:35:47.938Z"
   },
   {
    "duration": 0,
    "start_time": "2023-01-18T13:35:47.939Z"
   },
   {
    "duration": 0,
    "start_time": "2023-01-18T13:35:47.941Z"
   },
   {
    "duration": 0,
    "start_time": "2023-01-18T13:35:47.942Z"
   },
   {
    "duration": 0,
    "start_time": "2023-01-18T13:35:47.943Z"
   },
   {
    "duration": 1,
    "start_time": "2023-01-18T13:35:47.945Z"
   },
   {
    "duration": 0,
    "start_time": "2023-01-18T13:35:47.947Z"
   },
   {
    "duration": 0,
    "start_time": "2023-01-18T13:35:47.948Z"
   },
   {
    "duration": 50,
    "start_time": "2023-01-19T19:18:45.224Z"
   },
   {
    "duration": 1977,
    "start_time": "2023-01-19T19:18:53.045Z"
   },
   {
    "duration": 2986,
    "start_time": "2023-01-19T19:18:55.024Z"
   },
   {
    "duration": 28,
    "start_time": "2023-01-19T19:18:58.012Z"
   },
   {
    "duration": 131,
    "start_time": "2023-01-19T19:18:58.042Z"
   },
   {
    "duration": 926,
    "start_time": "2023-01-19T19:18:58.927Z"
   },
   {
    "duration": 1526,
    "start_time": "2023-01-19T19:18:59.856Z"
   },
   {
    "duration": 842,
    "start_time": "2023-01-19T19:19:10.219Z"
   },
   {
    "duration": 948,
    "start_time": "2023-01-19T19:19:57.986Z"
   },
   {
    "duration": 1031,
    "start_time": "2023-01-19T19:20:07.569Z"
   },
   {
    "duration": 1203,
    "start_time": "2023-01-19T19:20:18.587Z"
   },
   {
    "duration": 1145,
    "start_time": "2023-01-19T19:20:29.360Z"
   },
   {
    "duration": 1555,
    "start_time": "2023-01-19T19:20:34.797Z"
   },
   {
    "duration": 1996,
    "start_time": "2023-01-19T19:20:55.649Z"
   },
   {
    "duration": 1804,
    "start_time": "2023-01-19T19:21:10.823Z"
   },
   {
    "duration": 51,
    "start_time": "2023-01-19T19:21:48.219Z"
   },
   {
    "duration": 891,
    "start_time": "2023-01-19T19:43:56.233Z"
   },
   {
    "duration": 6781,
    "start_time": "2023-01-19T19:44:09.900Z"
   },
   {
    "duration": 5,
    "start_time": "2023-01-19T19:44:16.684Z"
   },
   {
    "duration": 903,
    "start_time": "2023-01-19T19:44:16.691Z"
   },
   {
    "duration": 23,
    "start_time": "2023-01-19T19:44:17.596Z"
   },
   {
    "duration": 139,
    "start_time": "2023-01-19T19:44:17.621Z"
   },
   {
    "duration": 1021,
    "start_time": "2023-01-19T19:44:17.762Z"
   },
   {
    "duration": 1813,
    "start_time": "2023-01-19T19:44:18.784Z"
   },
   {
    "duration": 148,
    "start_time": "2023-01-19T19:44:20.599Z"
   },
   {
    "duration": 462,
    "start_time": "2023-01-19T19:44:20.749Z"
   },
   {
    "duration": 3,
    "start_time": "2023-01-19T19:44:21.214Z"
   },
   {
    "duration": 19,
    "start_time": "2023-01-19T19:44:21.219Z"
   },
   {
    "duration": 29,
    "start_time": "2023-01-19T19:44:21.243Z"
   },
   {
    "duration": 521,
    "start_time": "2023-01-19T19:44:21.275Z"
   },
   {
    "duration": 217,
    "start_time": "2023-01-19T19:44:21.798Z"
   },
   {
    "duration": 1004,
    "start_time": "2023-01-19T19:44:22.016Z"
   },
   {
    "duration": 572,
    "start_time": "2023-01-19T19:44:23.022Z"
   },
   {
    "duration": 65,
    "start_time": "2023-01-19T19:44:23.596Z"
   },
   {
    "duration": 95,
    "start_time": "2023-01-19T19:44:23.664Z"
   },
   {
    "duration": 133,
    "start_time": "2023-01-19T19:44:24.391Z"
   },
   {
    "duration": 13,
    "start_time": "2023-01-19T19:44:58.711Z"
   },
   {
    "duration": 13,
    "start_time": "2023-01-19T19:45:02.572Z"
   },
   {
    "duration": 879,
    "start_time": "2023-01-19T19:45:11.650Z"
   },
   {
    "duration": 32,
    "start_time": "2023-01-19T19:45:12.531Z"
   },
   {
    "duration": 130,
    "start_time": "2023-01-19T19:45:12.565Z"
   },
   {
    "duration": 967,
    "start_time": "2023-01-19T19:45:12.697Z"
   },
   {
    "duration": 1696,
    "start_time": "2023-01-19T19:45:13.667Z"
   },
   {
    "duration": 119,
    "start_time": "2023-01-19T19:45:15.365Z"
   },
   {
    "duration": 442,
    "start_time": "2023-01-19T19:45:15.486Z"
   },
   {
    "duration": 27,
    "start_time": "2023-01-19T19:45:15.930Z"
   },
   {
    "duration": 5,
    "start_time": "2023-01-19T19:45:16.819Z"
   },
   {
    "duration": 33,
    "start_time": "2023-01-19T19:45:17.918Z"
   },
   {
    "duration": 552,
    "start_time": "2023-01-19T19:45:19.614Z"
   },
   {
    "duration": 243,
    "start_time": "2023-01-19T19:45:20.886Z"
   },
   {
    "duration": 1103,
    "start_time": "2023-01-19T19:45:24.104Z"
   },
   {
    "duration": 203,
    "start_time": "2023-01-19T19:45:25.209Z"
   },
   {
    "duration": 39,
    "start_time": "2023-01-19T19:45:28.335Z"
   },
   {
    "duration": 35,
    "start_time": "2023-01-19T19:45:32.222Z"
   },
   {
    "duration": 34,
    "start_time": "2023-01-19T19:45:35.866Z"
   },
   {
    "duration": 44,
    "start_time": "2023-01-19T19:53:11.460Z"
   },
   {
    "duration": 6805,
    "start_time": "2023-01-19T20:06:49.501Z"
   },
   {
    "duration": 1757,
    "start_time": "2023-01-19T20:06:56.309Z"
   },
   {
    "duration": 1039,
    "start_time": "2023-01-19T20:06:58.068Z"
   },
   {
    "duration": 37,
    "start_time": "2023-01-19T20:06:59.109Z"
   },
   {
    "duration": 144,
    "start_time": "2023-01-19T20:06:59.150Z"
   },
   {
    "duration": 1025,
    "start_time": "2023-01-19T20:06:59.296Z"
   },
   {
    "duration": 1906,
    "start_time": "2023-01-19T20:07:00.323Z"
   },
   {
    "duration": 128,
    "start_time": "2023-01-19T20:07:02.239Z"
   },
   {
    "duration": 543,
    "start_time": "2023-01-19T20:07:02.369Z"
   },
   {
    "duration": 4,
    "start_time": "2023-01-19T20:07:02.917Z"
   },
   {
    "duration": 34,
    "start_time": "2023-01-19T20:07:02.923Z"
   },
   {
    "duration": 56,
    "start_time": "2023-01-19T20:07:02.959Z"
   },
   {
    "duration": 582,
    "start_time": "2023-01-19T20:07:03.017Z"
   },
   {
    "duration": 255,
    "start_time": "2023-01-19T20:07:03.601Z"
   },
   {
    "duration": 1202,
    "start_time": "2023-01-19T20:07:03.858Z"
   },
   {
    "duration": 259,
    "start_time": "2023-01-19T20:07:05.063Z"
   },
   {
    "duration": 58,
    "start_time": "2023-01-19T20:07:05.325Z"
   },
   {
    "duration": 3,
    "start_time": "2023-01-19T20:07:05.386Z"
   },
   {
    "duration": 70,
    "start_time": "2023-01-19T20:07:05.391Z"
   },
   {
    "duration": 1041,
    "start_time": "2023-01-19T20:07:05.463Z"
   },
   {
    "duration": 59,
    "start_time": "2023-01-19T20:07:06.506Z"
   },
   {
    "duration": 27,
    "start_time": "2023-01-19T20:07:06.567Z"
   },
   {
    "duration": 69,
    "start_time": "2023-01-19T20:07:06.596Z"
   },
   {
    "duration": 128,
    "start_time": "2023-01-19T20:07:06.667Z"
   },
   {
    "duration": 365,
    "start_time": "2023-01-19T20:07:06.797Z"
   },
   {
    "duration": 3,
    "start_time": "2023-01-19T20:07:07.166Z"
   },
   {
    "duration": 1228,
    "start_time": "2023-01-19T20:07:07.171Z"
   },
   {
    "duration": 11,
    "start_time": "2023-01-19T20:07:08.405Z"
   },
   {
    "duration": 580,
    "start_time": "2023-01-19T20:07:08.418Z"
   },
   {
    "duration": 247,
    "start_time": "2023-01-19T20:07:09.000Z"
   },
   {
    "duration": 73,
    "start_time": "2023-01-19T20:07:09.252Z"
   },
   {
    "duration": 17,
    "start_time": "2023-01-19T20:07:09.336Z"
   },
   {
    "duration": 68,
    "start_time": "2023-01-19T20:07:09.357Z"
   },
   {
    "duration": 214,
    "start_time": "2023-01-19T20:07:09.428Z"
   },
   {
    "duration": 212,
    "start_time": "2023-01-19T20:07:09.653Z"
   },
   {
    "duration": 1155,
    "start_time": "2023-01-19T20:07:09.867Z"
   },
   {
    "duration": 337,
    "start_time": "2023-01-19T20:07:11.025Z"
   },
   {
    "duration": 566,
    "start_time": "2023-01-19T20:07:11.363Z"
   },
   {
    "duration": 26,
    "start_time": "2023-01-19T20:07:11.931Z"
   },
   {
    "duration": 15,
    "start_time": "2023-01-19T20:07:11.958Z"
   },
   {
    "duration": 14,
    "start_time": "2023-01-19T20:07:11.974Z"
   },
   {
    "duration": 4,
    "start_time": "2023-01-19T20:07:11.990Z"
   },
   {
    "duration": 12,
    "start_time": "2023-01-19T20:07:11.996Z"
   },
   {
    "duration": 35653,
    "start_time": "2023-01-19T20:07:12.009Z"
   },
   {
    "duration": 24,
    "start_time": "2023-01-19T20:07:47.663Z"
   },
   {
    "duration": 72,
    "start_time": "2023-01-19T20:07:47.689Z"
   },
   {
    "duration": 42,
    "start_time": "2023-01-19T20:07:47.763Z"
   },
   {
    "duration": 1949,
    "start_time": "2023-01-19T20:07:47.807Z"
   },
   {
    "duration": 117,
    "start_time": "2023-01-19T20:07:49.759Z"
   },
   {
    "duration": 75,
    "start_time": "2023-01-19T20:07:49.879Z"
   },
   {
    "duration": 6,
    "start_time": "2023-01-19T20:07:49.957Z"
   },
   {
    "duration": 25,
    "start_time": "2023-01-19T20:07:49.966Z"
   },
   {
    "duration": 102,
    "start_time": "2023-01-19T20:07:49.993Z"
   },
   {
    "duration": 99,
    "start_time": "2023-01-19T20:07:50.097Z"
   },
   {
    "duration": 5,
    "start_time": "2023-01-19T20:07:50.198Z"
   },
   {
    "duration": 919,
    "start_time": "2023-01-19T20:07:50.205Z"
   },
   {
    "duration": 35,
    "start_time": "2023-01-19T20:07:51.127Z"
   },
   {
    "duration": 585,
    "start_time": "2023-01-19T20:07:51.164Z"
   },
   {
    "duration": 4,
    "start_time": "2023-01-19T20:07:51.758Z"
   },
   {
    "duration": 1277,
    "start_time": "2023-01-19T20:07:51.764Z"
   },
   {
    "duration": 21,
    "start_time": "2023-01-19T20:07:53.050Z"
   },
   {
    "duration": 77,
    "start_time": "2023-01-19T20:07:53.074Z"
   },
   {
    "duration": 5,
    "start_time": "2023-01-19T20:07:53.152Z"
   },
   {
    "duration": 11,
    "start_time": "2023-01-19T20:07:53.159Z"
   },
   {
    "duration": 5,
    "start_time": "2023-01-19T20:07:53.172Z"
   },
   {
    "duration": 9,
    "start_time": "2023-01-19T20:07:53.179Z"
   },
   {
    "duration": 36,
    "start_time": "2023-01-19T20:07:53.189Z"
   },
   {
    "duration": 31,
    "start_time": "2023-01-19T20:07:53.226Z"
   },
   {
    "duration": 31,
    "start_time": "2023-01-19T20:07:53.259Z"
   },
   {
    "duration": 52956,
    "start_time": "2023-01-19T20:07:53.292Z"
   },
   {
    "duration": 88,
    "start_time": "2023-01-19T20:08:46.250Z"
   },
   {
    "duration": 18,
    "start_time": "2023-01-19T20:08:46.342Z"
   },
   {
    "duration": 175,
    "start_time": "2023-01-19T20:08:46.362Z"
   },
   {
    "duration": 91,
    "start_time": "2023-01-19T20:08:46.548Z"
   },
   {
    "duration": 18,
    "start_time": "2023-01-19T20:08:46.641Z"
   },
   {
    "duration": 12,
    "start_time": "2023-01-19T20:08:46.661Z"
   },
   {
    "duration": 6,
    "start_time": "2023-01-19T20:08:46.675Z"
   },
   {
    "duration": 21750,
    "start_time": "2023-01-19T20:08:46.682Z"
   },
   {
    "duration": 5,
    "start_time": "2023-01-19T20:09:08.434Z"
   },
   {
    "duration": 6915,
    "start_time": "2023-01-19T20:09:08.446Z"
   },
   {
    "duration": 4,
    "start_time": "2023-01-19T20:09:15.364Z"
   },
   {
    "duration": 18,
    "start_time": "2023-01-19T20:09:15.375Z"
   },
   {
    "duration": 37,
    "start_time": "2023-01-19T20:09:15.395Z"
   },
   {
    "duration": 34,
    "start_time": "2023-01-19T20:09:15.434Z"
   },
   {
    "duration": 20125,
    "start_time": "2023-01-19T20:09:15.470Z"
   },
   {
    "duration": 3,
    "start_time": "2023-01-19T20:09:35.598Z"
   },
   {
    "duration": 743,
    "start_time": "2023-01-19T20:09:35.604Z"
   },
   {
    "duration": 8,
    "start_time": "2023-01-19T20:09:36.350Z"
   },
   {
    "duration": 24,
    "start_time": "2023-01-19T20:09:36.360Z"
   },
   {
    "duration": 5,
    "start_time": "2023-01-19T20:09:36.386Z"
   },
   {
    "duration": 8,
    "start_time": "2023-01-19T20:09:36.393Z"
   },
   {
    "duration": 5,
    "start_time": "2023-01-19T20:09:36.404Z"
   },
   {
    "duration": 1218158,
    "start_time": "2023-01-19T20:09:36.411Z"
   },
   {
    "duration": 3,
    "start_time": "2023-01-19T20:29:54.571Z"
   },
   {
    "duration": 423309,
    "start_time": "2023-01-19T20:29:54.576Z"
   },
   {
    "duration": 5,
    "start_time": "2023-01-19T20:36:57.887Z"
   },
   {
    "duration": 26,
    "start_time": "2023-01-19T20:36:57.894Z"
   },
   {
    "duration": 7,
    "start_time": "2023-01-19T20:36:57.922Z"
   },
   {
    "duration": 5,
    "start_time": "2023-01-19T20:36:57.939Z"
   },
   {
    "duration": 118946,
    "start_time": "2023-01-19T20:36:57.947Z"
   },
   {
    "duration": 3,
    "start_time": "2023-01-19T20:38:56.895Z"
   },
   {
    "duration": 43604,
    "start_time": "2023-01-19T20:38:56.900Z"
   },
   {
    "duration": 5,
    "start_time": "2023-01-19T20:39:40.506Z"
   },
   {
    "duration": 47,
    "start_time": "2023-01-19T20:39:40.514Z"
   },
   {
    "duration": 10,
    "start_time": "2023-01-19T20:39:40.564Z"
   },
   {
    "duration": 17,
    "start_time": "2023-01-19T20:39:40.576Z"
   },
   {
    "duration": 17,
    "start_time": "2023-01-19T20:39:40.595Z"
   },
   {
    "duration": 12635,
    "start_time": "2023-01-19T23:24:42.344Z"
   },
   {
    "duration": 2701,
    "start_time": "2023-01-19T23:24:54.981Z"
   },
   {
    "duration": 3,
    "start_time": "2023-01-19T23:24:57.737Z"
   },
   {
    "duration": 1835,
    "start_time": "2023-01-19T23:24:57.742Z"
   },
   {
    "duration": 78,
    "start_time": "2023-01-19T23:24:59.579Z"
   },
   {
    "duration": 282,
    "start_time": "2023-01-19T23:24:59.659Z"
   },
   {
    "duration": 2027,
    "start_time": "2023-01-19T23:24:59.943Z"
   },
   {
    "duration": 3501,
    "start_time": "2023-01-19T23:25:01.972Z"
   },
   {
    "duration": 264,
    "start_time": "2023-01-19T23:25:05.476Z"
   },
   {
    "duration": 1026,
    "start_time": "2023-01-19T23:25:05.743Z"
   },
   {
    "duration": 2,
    "start_time": "2023-01-19T23:25:06.771Z"
   },
   {
    "duration": 38,
    "start_time": "2023-01-19T23:25:06.775Z"
   },
   {
    "duration": 34,
    "start_time": "2023-01-19T23:25:06.837Z"
   },
   {
    "duration": 1266,
    "start_time": "2023-01-19T23:25:06.873Z"
   },
   {
    "duration": 803,
    "start_time": "2023-01-19T23:25:08.142Z"
   },
   {
    "duration": 515,
    "start_time": "2023-01-19T23:25:08.947Z"
   },
   {
    "duration": 2208,
    "start_time": "2023-01-19T23:25:09.464Z"
   },
   {
    "duration": 380,
    "start_time": "2023-01-19T23:25:11.674Z"
   },
   {
    "duration": 96,
    "start_time": "2023-01-19T23:25:12.056Z"
   },
   {
    "duration": 3,
    "start_time": "2023-01-19T23:25:12.154Z"
   },
   {
    "duration": 117,
    "start_time": "2023-01-19T23:25:12.159Z"
   },
   {
    "duration": 1901,
    "start_time": "2023-01-19T23:25:12.278Z"
   },
   {
    "duration": 85,
    "start_time": "2023-01-19T23:25:14.181Z"
   },
   {
    "duration": 72,
    "start_time": "2023-01-19T23:25:14.268Z"
   },
   {
    "duration": 94,
    "start_time": "2023-01-19T23:25:14.342Z"
   },
   {
    "duration": 240,
    "start_time": "2023-01-19T23:25:14.439Z"
   },
   {
    "duration": 682,
    "start_time": "2023-01-19T23:25:14.681Z"
   },
   {
    "duration": 3,
    "start_time": "2023-01-19T23:25:15.367Z"
   },
   {
    "duration": 1830,
    "start_time": "2023-01-19T23:25:15.752Z"
   },
   {
    "duration": 9,
    "start_time": "2023-01-19T23:25:17.637Z"
   },
   {
    "duration": 1010,
    "start_time": "2023-01-19T23:25:17.648Z"
   },
   {
    "duration": 397,
    "start_time": "2023-01-19T23:25:18.659Z"
   },
   {
    "duration": 111,
    "start_time": "2023-01-19T23:25:19.059Z"
   },
   {
    "duration": 11,
    "start_time": "2023-01-19T23:25:19.172Z"
   },
   {
    "duration": 6,
    "start_time": "2023-01-19T23:25:19.237Z"
   },
   {
    "duration": 341,
    "start_time": "2023-01-19T23:25:19.244Z"
   },
   {
    "duration": 450,
    "start_time": "2023-01-19T23:25:19.587Z"
   },
   {
    "duration": 2113,
    "start_time": "2023-01-19T23:25:20.039Z"
   },
   {
    "duration": 499,
    "start_time": "2023-01-19T23:25:22.154Z"
   },
   {
    "duration": 994,
    "start_time": "2023-01-19T23:25:22.655Z"
   },
   {
    "duration": 10,
    "start_time": "2023-01-19T23:25:23.652Z"
   },
   {
    "duration": 16,
    "start_time": "2023-01-19T23:25:23.663Z"
   },
   {
    "duration": 71,
    "start_time": "2023-01-19T23:25:23.681Z"
   },
   {
    "duration": 15,
    "start_time": "2023-01-19T23:25:23.753Z"
   },
   {
    "duration": 64568,
    "start_time": "2023-01-19T23:25:23.769Z"
   },
   {
    "duration": 29,
    "start_time": "2023-01-19T23:26:28.340Z"
   },
   {
    "duration": 104,
    "start_time": "2023-01-19T23:26:28.371Z"
   },
   {
    "duration": 92,
    "start_time": "2023-01-19T23:26:28.477Z"
   },
   {
    "duration": 2072,
    "start_time": "2023-01-19T23:26:28.571Z"
   },
   {
    "duration": 108,
    "start_time": "2023-01-19T23:26:30.645Z"
   },
   {
    "duration": 22,
    "start_time": "2023-01-19T23:26:30.755Z"
   },
   {
    "duration": 269,
    "start_time": "2023-01-19T23:26:30.779Z"
   },
   {
    "duration": 198,
    "start_time": "2023-01-19T23:26:31.051Z"
   },
   {
    "duration": 5,
    "start_time": "2023-01-19T23:26:31.252Z"
   },
   {
    "duration": 1906,
    "start_time": "2023-01-19T23:26:31.259Z"
   },
   {
    "duration": 1005,
    "start_time": "2023-01-19T23:26:33.167Z"
   },
   {
    "duration": 4,
    "start_time": "2023-01-19T23:26:34.174Z"
   },
   {
    "duration": 2395,
    "start_time": "2023-01-19T23:26:34.180Z"
   },
   {
    "duration": 167,
    "start_time": "2023-01-19T23:26:36.577Z"
   },
   {
    "duration": 4,
    "start_time": "2023-01-19T23:26:36.745Z"
   },
   {
    "duration": 35,
    "start_time": "2023-01-19T23:26:36.751Z"
   },
   {
    "duration": 4,
    "start_time": "2023-01-19T23:26:36.837Z"
   },
   {
    "duration": 38,
    "start_time": "2023-01-19T23:26:36.843Z"
   },
   {
    "duration": 54,
    "start_time": "2023-01-19T23:26:36.883Z"
   },
   {
    "duration": 19,
    "start_time": "2023-01-19T23:26:36.939Z"
   },
   {
    "duration": 28,
    "start_time": "2023-01-19T23:26:36.960Z"
   },
   {
    "duration": 24355,
    "start_time": "2023-01-19T23:26:36.990Z"
   },
   {
    "duration": 100,
    "start_time": "2023-01-19T23:27:01.438Z"
   },
   {
    "duration": 2,
    "start_time": "2023-01-19T23:27:01.540Z"
   },
   {
    "duration": 110,
    "start_time": "2023-01-19T23:27:01.544Z"
   },
   {
    "duration": 101,
    "start_time": "2023-01-19T23:27:01.741Z"
   },
   {
    "duration": 30,
    "start_time": "2023-01-19T23:27:01.844Z"
   },
   {
    "duration": 23,
    "start_time": "2023-01-19T23:27:01.876Z"
   },
   {
    "duration": 38,
    "start_time": "2023-01-19T23:27:01.901Z"
   },
   {
    "duration": 18635,
    "start_time": "2023-01-19T23:27:01.941Z"
   },
   {
    "duration": 3,
    "start_time": "2023-01-19T23:27:20.578Z"
   },
   {
    "duration": 6438,
    "start_time": "2023-01-19T23:27:20.583Z"
   },
   {
    "duration": 4,
    "start_time": "2023-01-19T23:27:27.023Z"
   },
   {
    "duration": 19,
    "start_time": "2023-01-19T23:27:27.029Z"
   },
   {
    "duration": 6,
    "start_time": "2023-01-19T23:27:27.049Z"
   },
   {
    "duration": 6,
    "start_time": "2023-01-19T23:27:27.057Z"
   },
   {
    "duration": 1918,
    "start_time": "2023-01-19T23:27:27.070Z"
   },
   {
    "duration": 3,
    "start_time": "2023-01-19T23:27:28.990Z"
   },
   {
    "duration": 655,
    "start_time": "2023-01-19T23:27:28.994Z"
   },
   {
    "duration": 4,
    "start_time": "2023-01-19T23:27:29.650Z"
   },
   {
    "duration": 15,
    "start_time": "2023-01-19T23:27:29.656Z"
   },
   {
    "duration": 5,
    "start_time": "2023-01-19T23:27:29.673Z"
   },
   {
    "duration": 5,
    "start_time": "2023-01-19T23:27:29.680Z"
   },
   {
    "duration": 6,
    "start_time": "2023-01-19T23:27:29.686Z"
   },
   {
    "duration": 1105039,
    "start_time": "2023-01-19T23:27:29.694Z"
   },
   {
    "duration": 3,
    "start_time": "2023-01-19T23:45:54.736Z"
   },
   {
    "duration": 395691,
    "start_time": "2023-01-19T23:45:54.741Z"
   },
   {
    "duration": 4,
    "start_time": "2023-01-19T23:52:30.434Z"
   },
   {
    "duration": 35,
    "start_time": "2023-01-19T23:52:30.440Z"
   },
   {
    "duration": 27,
    "start_time": "2023-01-19T23:52:30.477Z"
   },
   {
    "duration": 19,
    "start_time": "2023-01-19T23:52:30.505Z"
   },
   {
    "duration": 114282,
    "start_time": "2023-01-19T23:52:30.525Z"
   },
   {
    "duration": 3,
    "start_time": "2023-01-19T23:54:24.809Z"
   },
   {
    "duration": 40813,
    "start_time": "2023-01-19T23:54:24.813Z"
   },
   {
    "duration": 9,
    "start_time": "2023-01-19T23:55:05.628Z"
   },
   {
    "duration": 36,
    "start_time": "2023-01-19T23:55:05.639Z"
   },
   {
    "duration": 25,
    "start_time": "2023-01-19T23:55:05.677Z"
   },
   {
    "duration": 19,
    "start_time": "2023-01-19T23:55:05.704Z"
   },
   {
    "duration": 25,
    "start_time": "2023-01-19T23:55:05.725Z"
   },
   {
    "duration": 3855739,
    "start_time": "2023-01-19T23:55:05.751Z"
   },
   {
    "duration": 3,
    "start_time": "2023-01-20T00:59:21.492Z"
   },
   {
    "duration": 1642942,
    "start_time": "2023-01-20T00:59:21.497Z"
   },
   {
    "duration": 5,
    "start_time": "2023-01-20T01:26:44.441Z"
   },
   {
    "duration": 37,
    "start_time": "2023-01-20T01:26:44.447Z"
   },
   {
    "duration": 31,
    "start_time": "2023-01-20T01:26:44.486Z"
   },
   {
    "duration": 25,
    "start_time": "2023-01-20T01:26:44.518Z"
   },
   {
    "duration": 462441,
    "start_time": "2023-01-20T01:26:44.544Z"
   },
   {
    "duration": 3,
    "start_time": "2023-01-20T01:34:26.987Z"
   },
   {
    "duration": 148457,
    "start_time": "2023-01-20T01:34:26.992Z"
   },
   {
    "duration": 4,
    "start_time": "2023-01-20T01:36:55.451Z"
   },
   {
    "duration": 17,
    "start_time": "2023-01-20T01:36:55.456Z"
   },
   {
    "duration": 5,
    "start_time": "2023-01-20T01:36:55.475Z"
   },
   {
    "duration": 5,
    "start_time": "2023-01-20T01:36:55.482Z"
   },
   {
    "duration": 6,
    "start_time": "2023-01-20T01:36:55.488Z"
   },
   {
    "duration": 34444,
    "start_time": "2023-01-20T01:36:55.495Z"
   },
   {
    "duration": 2,
    "start_time": "2023-01-20T01:37:29.941Z"
   },
   {
    "duration": 10200,
    "start_time": "2023-01-20T01:37:29.945Z"
   },
   {
    "duration": 4,
    "start_time": "2023-01-20T01:37:40.147Z"
   },
   {
    "duration": 28,
    "start_time": "2023-01-20T01:37:40.152Z"
   },
   {
    "duration": 24,
    "start_time": "2023-01-20T01:37:40.182Z"
   },
   {
    "duration": 20,
    "start_time": "2023-01-20T01:37:40.207Z"
   },
   {
    "duration": 36617,
    "start_time": "2023-01-20T01:37:40.228Z"
   },
   {
    "duration": 2,
    "start_time": "2023-01-20T01:38:16.847Z"
   },
   {
    "duration": 12790,
    "start_time": "2023-01-20T01:38:16.851Z"
   },
   {
    "duration": 4,
    "start_time": "2023-01-20T01:38:29.643Z"
   },
   {
    "duration": 19,
    "start_time": "2023-01-20T01:38:29.649Z"
   },
   {
    "duration": 5,
    "start_time": "2023-01-20T01:38:29.670Z"
   },
   {
    "duration": 6,
    "start_time": "2023-01-20T01:38:29.677Z"
   },
   {
    "duration": 5,
    "start_time": "2023-01-20T01:38:29.685Z"
   },
   {
    "duration": 44,
    "start_time": "2023-01-20T01:38:29.692Z"
   },
   {
    "duration": 4,
    "start_time": "2023-01-20T01:38:29.739Z"
   },
   {
    "duration": 5,
    "start_time": "2023-01-20T01:38:29.745Z"
   },
   {
    "duration": 4,
    "start_time": "2023-01-20T01:38:29.752Z"
   },
   {
    "duration": 4,
    "start_time": "2023-01-20T01:38:29.758Z"
   },
   {
    "duration": 6,
    "start_time": "2023-01-20T01:38:29.764Z"
   },
   {
    "duration": 8,
    "start_time": "2023-01-20T01:38:29.772Z"
   },
   {
    "duration": 10,
    "start_time": "2023-01-20T01:38:29.782Z"
   },
   {
    "duration": 380289,
    "start_time": "2023-01-20T01:38:29.794Z"
   },
   {
    "duration": 3,
    "start_time": "2023-01-20T01:44:50.085Z"
   },
   {
    "duration": 110574,
    "start_time": "2023-01-20T01:44:50.090Z"
   },
   {
    "duration": 4,
    "start_time": "2023-01-20T01:46:40.666Z"
   },
   {
    "duration": 27,
    "start_time": "2023-01-20T01:46:40.672Z"
   },
   {
    "duration": 8,
    "start_time": "2023-01-20T01:46:40.700Z"
   },
   {
    "duration": 14,
    "start_time": "2023-01-20T01:46:40.710Z"
   },
   {
    "duration": 243361,
    "start_time": "2023-01-20T01:46:40.726Z"
   },
   {
    "duration": 3,
    "start_time": "2023-01-20T01:50:44.090Z"
   },
   {
    "duration": 74488,
    "start_time": "2023-01-20T01:50:44.094Z"
   },
   {
    "duration": 5,
    "start_time": "2023-01-20T01:51:58.584Z"
   },
   {
    "duration": 20,
    "start_time": "2023-01-20T01:51:58.591Z"
   },
   {
    "duration": 37,
    "start_time": "2023-01-20T01:51:58.613Z"
   },
   {
    "duration": 1773,
    "start_time": "2023-01-20T14:33:15.161Z"
   },
   {
    "duration": 3,
    "start_time": "2023-01-20T14:33:17.203Z"
   },
   {
    "duration": 3,
    "start_time": "2023-01-20T14:43:20.613Z"
   },
   {
    "duration": 12,
    "start_time": "2023-01-20T14:49:11.038Z"
   },
   {
    "duration": 4,
    "start_time": "2023-01-20T15:08:01.242Z"
   },
   {
    "duration": 7477,
    "start_time": "2023-01-20T15:08:20.692Z"
   },
   {
    "duration": 1669,
    "start_time": "2023-01-20T15:08:28.172Z"
   },
   {
    "duration": 4,
    "start_time": "2023-01-20T15:08:29.843Z"
   },
   {
    "duration": 3132,
    "start_time": "2023-01-20T15:08:29.849Z"
   },
   {
    "duration": 28,
    "start_time": "2023-01-20T15:08:32.983Z"
   },
   {
    "duration": 241,
    "start_time": "2023-01-20T15:08:33.013Z"
   },
   {
    "duration": 1369,
    "start_time": "2023-01-20T15:08:33.256Z"
   },
   {
    "duration": 1794,
    "start_time": "2023-01-20T15:08:34.628Z"
   },
   {
    "duration": 161,
    "start_time": "2023-01-20T15:08:36.424Z"
   },
   {
    "duration": 532,
    "start_time": "2023-01-20T15:08:36.590Z"
   },
   {
    "duration": 3,
    "start_time": "2023-01-20T15:08:37.124Z"
   },
   {
    "duration": 25,
    "start_time": "2023-01-20T15:08:37.129Z"
   },
   {
    "duration": 42,
    "start_time": "2023-01-20T15:08:37.156Z"
   },
   {
    "duration": 590,
    "start_time": "2023-01-20T15:08:37.199Z"
   },
   {
    "duration": 379,
    "start_time": "2023-01-20T15:08:37.791Z"
   },
   {
    "duration": 241,
    "start_time": "2023-01-20T15:08:38.171Z"
   },
   {
    "duration": 1158,
    "start_time": "2023-01-20T15:08:38.413Z"
   },
   {
    "duration": 186,
    "start_time": "2023-01-20T15:08:39.572Z"
   },
   {
    "duration": 108,
    "start_time": "2023-01-20T15:08:39.760Z"
   },
   {
    "duration": 2,
    "start_time": "2023-01-20T15:08:39.869Z"
   },
   {
    "duration": 39,
    "start_time": "2023-01-20T15:08:39.873Z"
   },
   {
    "duration": 970,
    "start_time": "2023-01-20T15:08:39.913Z"
   },
   {
    "duration": 51,
    "start_time": "2023-01-20T15:08:40.885Z"
   },
   {
    "duration": 22,
    "start_time": "2023-01-20T15:08:40.939Z"
   },
   {
    "duration": 34,
    "start_time": "2023-01-20T15:08:40.963Z"
   },
   {
    "duration": 148,
    "start_time": "2023-01-20T15:08:40.999Z"
   },
   {
    "duration": 336,
    "start_time": "2023-01-20T15:08:41.149Z"
   },
   {
    "duration": 2,
    "start_time": "2023-01-20T15:08:41.489Z"
   },
   {
    "duration": 872,
    "start_time": "2023-01-20T15:08:41.656Z"
   },
   {
    "duration": 12,
    "start_time": "2023-01-20T15:08:42.530Z"
   },
   {
    "duration": 515,
    "start_time": "2023-01-20T15:08:42.544Z"
   },
   {
    "duration": 470,
    "start_time": "2023-01-20T15:08:43.061Z"
   },
   {
    "duration": 105,
    "start_time": "2023-01-20T15:08:43.533Z"
   },
   {
    "duration": 11,
    "start_time": "2023-01-20T15:08:43.640Z"
   },
   {
    "duration": 6,
    "start_time": "2023-01-20T15:08:43.653Z"
   },
   {
    "duration": 384,
    "start_time": "2023-01-20T15:08:43.660Z"
   },
   {
    "duration": 509,
    "start_time": "2023-01-20T15:08:44.045Z"
   },
   {
    "duration": 1542,
    "start_time": "2023-01-20T15:08:44.556Z"
   },
   {
    "duration": 295,
    "start_time": "2023-01-20T15:08:46.100Z"
   },
   {
    "duration": 522,
    "start_time": "2023-01-20T15:08:46.397Z"
   },
   {
    "duration": 12,
    "start_time": "2023-01-20T15:08:46.921Z"
   },
   {
    "duration": 11,
    "start_time": "2023-01-20T15:08:46.935Z"
   },
   {
    "duration": 16,
    "start_time": "2023-01-20T15:08:46.948Z"
   },
   {
    "duration": 15,
    "start_time": "2023-01-20T15:08:46.966Z"
   },
   {
    "duration": 35001,
    "start_time": "2023-01-20T15:08:47.020Z"
   },
   {
    "duration": 37,
    "start_time": "2023-01-20T15:09:22.024Z"
   },
   {
    "duration": 51,
    "start_time": "2023-01-20T15:09:22.063Z"
   },
   {
    "duration": 49,
    "start_time": "2023-01-20T15:09:22.122Z"
   },
   {
    "duration": 1949,
    "start_time": "2023-01-20T15:09:22.173Z"
   },
   {
    "duration": 106,
    "start_time": "2023-01-20T15:09:24.125Z"
   },
   {
    "duration": 19,
    "start_time": "2023-01-20T15:09:24.233Z"
   },
   {
    "duration": 117,
    "start_time": "2023-01-20T15:09:24.254Z"
   },
   {
    "duration": 106,
    "start_time": "2023-01-20T15:09:24.373Z"
   },
   {
    "duration": 5,
    "start_time": "2023-01-20T15:09:24.481Z"
   },
   {
    "duration": 800,
    "start_time": "2023-01-20T15:09:24.488Z"
   },
   {
    "duration": 465,
    "start_time": "2023-01-20T15:09:25.290Z"
   },
   {
    "duration": 4,
    "start_time": "2023-01-20T15:09:25.758Z"
   },
   {
    "duration": 1103,
    "start_time": "2023-01-20T15:09:25.763Z"
   },
   {
    "duration": 65,
    "start_time": "2023-01-20T15:09:26.867Z"
   },
   {
    "duration": 5,
    "start_time": "2023-01-20T15:09:26.934Z"
   },
   {
    "duration": 15,
    "start_time": "2023-01-20T15:09:26.940Z"
   },
   {
    "duration": 6,
    "start_time": "2023-01-20T15:09:26.957Z"
   },
   {
    "duration": 5,
    "start_time": "2023-01-20T15:09:26.965Z"
   },
   {
    "duration": 5,
    "start_time": "2023-01-20T15:09:26.972Z"
   },
   {
    "duration": 8,
    "start_time": "2023-01-20T15:09:26.978Z"
   },
   {
    "duration": 5,
    "start_time": "2023-01-20T15:09:26.988Z"
   },
   {
    "duration": 10,
    "start_time": "2023-01-20T15:09:26.995Z"
   },
   {
    "duration": 242903,
    "start_time": "2023-01-20T15:09:27.022Z"
   },
   {
    "duration": 96,
    "start_time": "2023-01-20T15:13:29.929Z"
   },
   {
    "duration": 11,
    "start_time": "2023-01-20T15:13:30.027Z"
   },
   {
    "duration": 1997,
    "start_time": "2023-01-20T15:13:30.040Z"
   },
   {
    "duration": 100,
    "start_time": "2023-01-20T15:13:32.122Z"
   },
   {
    "duration": 16,
    "start_time": "2023-01-20T15:13:32.224Z"
   },
   {
    "duration": 27,
    "start_time": "2023-01-20T15:13:32.241Z"
   },
   {
    "duration": 17,
    "start_time": "2023-01-20T15:13:32.270Z"
   },
   {
    "duration": 17591,
    "start_time": "2023-01-20T15:13:32.288Z"
   },
   {
    "duration": 3,
    "start_time": "2023-01-20T15:13:49.880Z"
   },
   {
    "duration": 57936,
    "start_time": "2023-01-20T15:13:49.884Z"
   },
   {
    "duration": 4,
    "start_time": "2023-01-20T15:14:47.822Z"
   },
   {
    "duration": 18,
    "start_time": "2023-01-20T15:14:47.828Z"
   },
   {
    "duration": 7,
    "start_time": "2023-01-20T15:14:47.848Z"
   },
   {
    "duration": 3,
    "start_time": "2023-01-20T15:14:47.862Z"
   },
   {
    "duration": 1941,
    "start_time": "2023-01-20T15:14:47.867Z"
   },
   {
    "duration": 3,
    "start_time": "2023-01-20T15:14:49.809Z"
   },
   {
    "duration": 6489,
    "start_time": "2023-01-20T15:14:49.820Z"
   },
   {
    "duration": 4,
    "start_time": "2023-01-20T15:14:56.310Z"
   },
   {
    "duration": 15,
    "start_time": "2023-01-20T15:14:56.321Z"
   },
   {
    "duration": 6,
    "start_time": "2023-01-20T15:14:56.338Z"
   },
   {
    "duration": 5,
    "start_time": "2023-01-20T15:14:56.346Z"
   },
   {
    "duration": 5,
    "start_time": "2023-01-20T15:14:56.353Z"
   },
   {
    "duration": 578869,
    "start_time": "2023-01-20T15:14:56.360Z"
   },
   {
    "duration": 14,
    "start_time": "2023-01-20T15:24:35.231Z"
   },
   {
    "duration": 0,
    "start_time": "2023-01-20T15:24:35.247Z"
   },
   {
    "duration": 0,
    "start_time": "2023-01-20T15:24:35.248Z"
   },
   {
    "duration": 0,
    "start_time": "2023-01-20T15:24:35.249Z"
   },
   {
    "duration": 0,
    "start_time": "2023-01-20T15:24:35.250Z"
   },
   {
    "duration": 0,
    "start_time": "2023-01-20T15:24:35.251Z"
   },
   {
    "duration": 0,
    "start_time": "2023-01-20T15:24:35.252Z"
   },
   {
    "duration": 0,
    "start_time": "2023-01-20T15:24:35.253Z"
   },
   {
    "duration": 0,
    "start_time": "2023-01-20T15:24:35.254Z"
   },
   {
    "duration": 0,
    "start_time": "2023-01-20T15:24:35.255Z"
   },
   {
    "duration": 0,
    "start_time": "2023-01-20T15:24:35.256Z"
   },
   {
    "duration": 0,
    "start_time": "2023-01-20T15:24:35.257Z"
   },
   {
    "duration": 0,
    "start_time": "2023-01-20T15:24:35.258Z"
   },
   {
    "duration": 0,
    "start_time": "2023-01-20T15:24:35.259Z"
   },
   {
    "duration": 0,
    "start_time": "2023-01-20T15:24:35.260Z"
   },
   {
    "duration": 0,
    "start_time": "2023-01-20T15:24:35.261Z"
   },
   {
    "duration": 0,
    "start_time": "2023-01-20T15:24:35.262Z"
   },
   {
    "duration": 0,
    "start_time": "2023-01-20T15:24:35.263Z"
   },
   {
    "duration": 0,
    "start_time": "2023-01-20T15:24:35.264Z"
   },
   {
    "duration": 0,
    "start_time": "2023-01-20T15:24:35.265Z"
   },
   {
    "duration": 0,
    "start_time": "2023-01-20T15:24:35.265Z"
   },
   {
    "duration": 0,
    "start_time": "2023-01-20T15:24:35.267Z"
   },
   {
    "duration": 0,
    "start_time": "2023-01-20T15:24:35.267Z"
   },
   {
    "duration": 0,
    "start_time": "2023-01-20T15:24:35.268Z"
   },
   {
    "duration": 0,
    "start_time": "2023-01-20T15:24:35.269Z"
   },
   {
    "duration": 0,
    "start_time": "2023-01-20T15:24:35.270Z"
   },
   {
    "duration": 0,
    "start_time": "2023-01-20T15:24:35.321Z"
   },
   {
    "duration": 0,
    "start_time": "2023-01-20T15:24:35.323Z"
   },
   {
    "duration": 0,
    "start_time": "2023-01-20T15:24:35.324Z"
   },
   {
    "duration": 0,
    "start_time": "2023-01-20T15:24:35.325Z"
   },
   {
    "duration": 0,
    "start_time": "2023-01-20T15:24:35.326Z"
   },
   {
    "duration": 0,
    "start_time": "2023-01-20T15:24:35.328Z"
   },
   {
    "duration": 0,
    "start_time": "2023-01-20T15:24:35.329Z"
   },
   {
    "duration": 0,
    "start_time": "2023-01-20T15:24:35.331Z"
   },
   {
    "duration": 0,
    "start_time": "2023-01-20T15:24:35.333Z"
   },
   {
    "duration": 0,
    "start_time": "2023-01-20T15:24:35.334Z"
   },
   {
    "duration": 0,
    "start_time": "2023-01-20T15:24:35.336Z"
   },
   {
    "duration": 0,
    "start_time": "2023-01-20T15:24:35.337Z"
   },
   {
    "duration": 0,
    "start_time": "2023-01-20T15:24:35.339Z"
   },
   {
    "duration": 0,
    "start_time": "2023-01-20T15:24:35.340Z"
   },
   {
    "duration": 0,
    "start_time": "2023-01-20T15:24:35.341Z"
   },
   {
    "duration": 0,
    "start_time": "2023-01-20T15:24:35.343Z"
   },
   {
    "duration": 0,
    "start_time": "2023-01-20T15:24:35.345Z"
   },
   {
    "duration": 0,
    "start_time": "2023-01-20T15:24:35.346Z"
   },
   {
    "duration": 0,
    "start_time": "2023-01-20T15:24:35.348Z"
   },
   {
    "duration": 0,
    "start_time": "2023-01-20T15:24:35.350Z"
   },
   {
    "duration": 0,
    "start_time": "2023-01-20T15:24:35.351Z"
   },
   {
    "duration": 0,
    "start_time": "2023-01-20T15:24:35.353Z"
   },
   {
    "duration": 0,
    "start_time": "2023-01-20T15:24:35.354Z"
   },
   {
    "duration": 1,
    "start_time": "2023-01-20T15:24:35.355Z"
   },
   {
    "duration": 0,
    "start_time": "2023-01-20T15:24:35.357Z"
   },
   {
    "duration": 0,
    "start_time": "2023-01-20T15:24:35.358Z"
   },
   {
    "duration": 0,
    "start_time": "2023-01-20T15:24:35.427Z"
   },
   {
    "duration": 0,
    "start_time": "2023-01-20T15:24:35.429Z"
   },
   {
    "duration": 0,
    "start_time": "2023-01-20T15:24:35.434Z"
   },
   {
    "duration": 0,
    "start_time": "2023-01-20T15:24:35.436Z"
   },
   {
    "duration": 0,
    "start_time": "2023-01-20T15:24:35.438Z"
   },
   {
    "duration": 0,
    "start_time": "2023-01-20T15:24:35.440Z"
   },
   {
    "duration": 0,
    "start_time": "2023-01-20T15:24:35.442Z"
   },
   {
    "duration": 0,
    "start_time": "2023-01-20T15:24:35.443Z"
   },
   {
    "duration": 0,
    "start_time": "2023-01-20T15:24:35.445Z"
   },
   {
    "duration": 0,
    "start_time": "2023-01-20T15:24:35.446Z"
   },
   {
    "duration": 0,
    "start_time": "2023-01-20T15:24:35.449Z"
   },
   {
    "duration": 0,
    "start_time": "2023-01-20T15:24:35.451Z"
   },
   {
    "duration": 0,
    "start_time": "2023-01-20T15:24:35.452Z"
   },
   {
    "duration": 0,
    "start_time": "2023-01-20T15:24:35.455Z"
   },
   {
    "duration": 0,
    "start_time": "2023-01-20T15:24:35.457Z"
   },
   {
    "duration": 0,
    "start_time": "2023-01-20T15:24:35.458Z"
   },
   {
    "duration": 0,
    "start_time": "2023-01-20T15:24:35.459Z"
   },
   {
    "duration": 0,
    "start_time": "2023-01-20T15:24:35.460Z"
   },
   {
    "duration": 0,
    "start_time": "2023-01-20T15:24:35.461Z"
   },
   {
    "duration": 0,
    "start_time": "2023-01-20T15:24:35.463Z"
   },
   {
    "duration": 0,
    "start_time": "2023-01-20T15:24:35.521Z"
   },
   {
    "duration": 4,
    "start_time": "2023-01-20T15:24:38.800Z"
   },
   {
    "duration": 2,
    "start_time": "2023-01-20T15:24:44.156Z"
   },
   {
    "duration": 4,
    "start_time": "2023-01-20T15:24:45.014Z"
   },
   {
    "duration": 3,
    "start_time": "2023-01-20T15:24:45.644Z"
   },
   {
    "duration": 17693,
    "start_time": "2023-01-20T15:24:46.237Z"
   },
   {
    "duration": 4,
    "start_time": "2023-01-20T15:25:03.932Z"
   },
   {
    "duration": 58458,
    "start_time": "2023-01-20T15:25:03.937Z"
   },
   {
    "duration": 4,
    "start_time": "2023-01-20T15:26:02.397Z"
   },
   {
    "duration": 30,
    "start_time": "2023-01-20T15:26:02.402Z"
   },
   {
    "duration": 3,
    "start_time": "2023-01-20T15:31:44.202Z"
   },
   {
    "duration": 4,
    "start_time": "2023-01-20T17:33:14.010Z"
   },
   {
    "duration": 3,
    "start_time": "2023-01-20T17:33:18.832Z"
   },
   {
    "duration": 3,
    "start_time": "2023-01-20T17:33:19.604Z"
   },
   {
    "duration": 2,
    "start_time": "2023-01-20T17:33:20.558Z"
   },
   {
    "duration": 17139,
    "start_time": "2023-01-20T17:33:21.873Z"
   },
   {
    "duration": 6,
    "start_time": "2023-01-20T17:33:39.014Z"
   },
   {
    "duration": 58561,
    "start_time": "2023-01-20T17:33:39.022Z"
   },
   {
    "duration": 4,
    "start_time": "2023-01-20T17:34:37.585Z"
   },
   {
    "duration": 18,
    "start_time": "2023-01-20T17:34:37.591Z"
   },
   {
    "duration": 101129,
    "start_time": "2023-01-20T17:42:11.698Z"
   },
   {
    "duration": 4,
    "start_time": "2023-01-20T17:46:46.262Z"
   },
   {
    "duration": 4,
    "start_time": "2023-01-20T19:04:00.754Z"
   },
   {
    "duration": 2,
    "start_time": "2023-01-20T19:04:02.106Z"
   },
   {
    "duration": 2,
    "start_time": "2023-01-20T19:04:03.216Z"
   },
   {
    "duration": 192157,
    "start_time": "2023-01-20T19:04:09.564Z"
   },
   {
    "duration": 18,
    "start_time": "2023-01-20T19:07:21.723Z"
   },
   {
    "duration": 3,
    "start_time": "2023-01-20T19:09:15.446Z"
   },
   {
    "duration": 2230,
    "start_time": "2023-01-20T19:09:16.993Z"
   },
   {
    "duration": 106,
    "start_time": "2023-01-20T19:09:19.225Z"
   },
   {
    "duration": 3,
    "start_time": "2023-01-20T19:09:26.206Z"
   },
   {
    "duration": 3,
    "start_time": "2023-01-20T19:09:27.292Z"
   },
   {
    "duration": 3,
    "start_time": "2023-01-20T19:09:27.777Z"
   },
   {
    "duration": 16980,
    "start_time": "2023-01-20T19:09:28.372Z"
   },
   {
    "duration": 2,
    "start_time": "2023-01-20T19:09:45.355Z"
   },
   {
    "duration": 58036,
    "start_time": "2023-01-20T19:09:45.359Z"
   },
   {
    "duration": 4,
    "start_time": "2023-01-20T19:10:43.397Z"
   },
   {
    "duration": 23,
    "start_time": "2023-01-20T19:10:43.403Z"
   },
   {
    "duration": 3,
    "start_time": "2023-01-20T19:10:52.927Z"
   },
   {
    "duration": 3,
    "start_time": "2023-01-20T19:10:53.362Z"
   },
   {
    "duration": 1945,
    "start_time": "2023-01-20T19:10:53.848Z"
   },
   {
    "duration": 3,
    "start_time": "2023-01-20T19:10:55.795Z"
   },
   {
    "duration": 6553,
    "start_time": "2023-01-20T19:10:55.799Z"
   },
   {
    "duration": 4,
    "start_time": "2023-01-20T19:11:02.354Z"
   },
   {
    "duration": 22,
    "start_time": "2023-01-20T19:11:02.360Z"
   },
   {
    "duration": 6129,
    "start_time": "2023-01-20T19:13:39.989Z"
   },
   {
    "duration": 1482,
    "start_time": "2023-01-20T19:13:46.121Z"
   },
   {
    "duration": 3,
    "start_time": "2023-01-20T19:13:47.604Z"
   },
   {
    "duration": 805,
    "start_time": "2023-01-20T19:13:47.609Z"
   },
   {
    "duration": 26,
    "start_time": "2023-01-20T19:13:48.416Z"
   },
   {
    "duration": 154,
    "start_time": "2023-01-20T19:13:48.444Z"
   },
   {
    "duration": 839,
    "start_time": "2023-01-20T19:13:48.600Z"
   },
   {
    "duration": 1549,
    "start_time": "2023-01-20T19:13:49.441Z"
   },
   {
    "duration": 132,
    "start_time": "2023-01-20T19:13:50.992Z"
   },
   {
    "duration": 446,
    "start_time": "2023-01-20T19:13:51.128Z"
   },
   {
    "duration": 3,
    "start_time": "2023-01-20T19:13:51.576Z"
   },
   {
    "duration": 8,
    "start_time": "2023-01-20T19:13:51.580Z"
   },
   {
    "duration": 38,
    "start_time": "2023-01-20T19:13:51.589Z"
   },
   {
    "duration": 508,
    "start_time": "2023-01-20T19:13:51.629Z"
   },
   {
    "duration": 335,
    "start_time": "2023-01-20T19:13:52.139Z"
   },
   {
    "duration": 204,
    "start_time": "2023-01-20T19:13:52.476Z"
   },
   {
    "duration": 985,
    "start_time": "2023-01-20T19:13:52.682Z"
   },
   {
    "duration": 162,
    "start_time": "2023-01-20T19:13:53.669Z"
   },
   {
    "duration": 35,
    "start_time": "2023-01-20T19:13:53.834Z"
   },
   {
    "duration": 3,
    "start_time": "2023-01-20T19:13:53.871Z"
   },
   {
    "duration": 56,
    "start_time": "2023-01-20T19:13:53.876Z"
   },
   {
    "duration": 892,
    "start_time": "2023-01-20T19:13:53.933Z"
   },
   {
    "duration": 32,
    "start_time": "2023-01-20T19:13:54.827Z"
   },
   {
    "duration": 16,
    "start_time": "2023-01-20T19:13:54.861Z"
   },
   {
    "duration": 53,
    "start_time": "2023-01-20T19:13:54.879Z"
   },
   {
    "duration": 129,
    "start_time": "2023-01-20T19:13:54.934Z"
   },
   {
    "duration": 286,
    "start_time": "2023-01-20T19:13:55.065Z"
   },
   {
    "duration": 2,
    "start_time": "2023-01-20T19:13:55.355Z"
   },
   {
    "duration": 787,
    "start_time": "2023-01-20T19:13:55.502Z"
   },
   {
    "duration": 9,
    "start_time": "2023-01-20T19:13:56.291Z"
   },
   {
    "duration": 443,
    "start_time": "2023-01-20T19:13:56.301Z"
   },
   {
    "duration": 188,
    "start_time": "2023-01-20T19:13:56.746Z"
   },
   {
    "duration": 52,
    "start_time": "2023-01-20T19:13:56.936Z"
   },
   {
    "duration": 10,
    "start_time": "2023-01-20T19:13:56.989Z"
   },
   {
    "duration": 21,
    "start_time": "2023-01-20T19:13:57.001Z"
   },
   {
    "duration": 159,
    "start_time": "2023-01-20T19:13:57.024Z"
   },
   {
    "duration": 181,
    "start_time": "2023-01-20T19:13:57.185Z"
   },
   {
    "duration": 974,
    "start_time": "2023-01-20T19:13:57.368Z"
   },
   {
    "duration": 495,
    "start_time": "2023-01-20T19:13:58.343Z"
   },
   {
    "duration": 924,
    "start_time": "2023-01-20T19:13:58.839Z"
   },
   {
    "duration": 63,
    "start_time": "2023-01-20T19:13:59.764Z"
   },
   {
    "duration": 8,
    "start_time": "2023-01-20T19:13:59.829Z"
   },
   {
    "duration": 12,
    "start_time": "2023-01-20T19:13:59.839Z"
   },
   {
    "duration": 10,
    "start_time": "2023-01-20T19:13:59.852Z"
   },
   {
    "duration": 29150,
    "start_time": "2023-01-20T19:13:59.864Z"
   },
   {
    "duration": 28,
    "start_time": "2023-01-20T19:14:29.015Z"
   },
   {
    "duration": 49,
    "start_time": "2023-01-20T19:14:29.045Z"
   },
   {
    "duration": 42,
    "start_time": "2023-01-20T19:14:29.096Z"
   },
   {
    "duration": 1782,
    "start_time": "2023-01-20T19:14:29.140Z"
   },
   {
    "duration": 107,
    "start_time": "2023-01-20T19:14:30.924Z"
   },
   {
    "duration": 27,
    "start_time": "2023-01-20T19:14:31.033Z"
   },
   {
    "duration": 104,
    "start_time": "2023-01-20T19:14:31.062Z"
   },
   {
    "duration": 83,
    "start_time": "2023-01-20T19:14:31.168Z"
   },
   {
    "duration": 4,
    "start_time": "2023-01-20T19:14:31.253Z"
   },
   {
    "duration": 652,
    "start_time": "2023-01-20T19:14:31.259Z"
   },
   {
    "duration": 462,
    "start_time": "2023-01-20T19:14:31.913Z"
   },
   {
    "duration": 4,
    "start_time": "2023-01-20T19:14:32.377Z"
   },
   {
    "duration": 1392,
    "start_time": "2023-01-20T19:14:32.383Z"
   },
   {
    "duration": 64,
    "start_time": "2023-01-20T19:14:33.777Z"
   },
   {
    "duration": 4,
    "start_time": "2023-01-20T19:14:33.843Z"
   },
   {
    "duration": 11,
    "start_time": "2023-01-20T19:14:33.849Z"
   },
   {
    "duration": 7,
    "start_time": "2023-01-20T19:14:33.861Z"
   },
   {
    "duration": 5,
    "start_time": "2023-01-20T19:14:33.870Z"
   },
   {
    "duration": 4,
    "start_time": "2023-01-20T19:14:33.877Z"
   },
   {
    "duration": 7,
    "start_time": "2023-01-20T19:14:33.883Z"
   },
   {
    "duration": 4,
    "start_time": "2023-01-20T19:14:33.920Z"
   },
   {
    "duration": 5,
    "start_time": "2023-01-20T19:14:33.926Z"
   },
   {
    "duration": 173,
    "start_time": "2023-01-20T19:14:33.933Z"
   },
   {
    "duration": 10,
    "start_time": "2023-01-20T19:14:34.108Z"
   },
   {
    "duration": 0,
    "start_time": "2023-01-20T19:14:34.121Z"
   },
   {
    "duration": 0,
    "start_time": "2023-01-20T19:14:34.122Z"
   },
   {
    "duration": 0,
    "start_time": "2023-01-20T19:14:34.123Z"
   },
   {
    "duration": 0,
    "start_time": "2023-01-20T19:14:34.124Z"
   },
   {
    "duration": 0,
    "start_time": "2023-01-20T19:14:34.126Z"
   },
   {
    "duration": 0,
    "start_time": "2023-01-20T19:14:34.127Z"
   },
   {
    "duration": 0,
    "start_time": "2023-01-20T19:14:34.128Z"
   },
   {
    "duration": 0,
    "start_time": "2023-01-20T19:14:34.129Z"
   },
   {
    "duration": 0,
    "start_time": "2023-01-20T19:14:34.130Z"
   },
   {
    "duration": 0,
    "start_time": "2023-01-20T19:14:34.131Z"
   },
   {
    "duration": 0,
    "start_time": "2023-01-20T19:14:34.132Z"
   },
   {
    "duration": 0,
    "start_time": "2023-01-20T19:14:34.133Z"
   },
   {
    "duration": 0,
    "start_time": "2023-01-20T19:14:34.134Z"
   },
   {
    "duration": 0,
    "start_time": "2023-01-20T19:14:34.135Z"
   },
   {
    "duration": 0,
    "start_time": "2023-01-20T19:14:34.136Z"
   },
   {
    "duration": 0,
    "start_time": "2023-01-20T19:14:34.137Z"
   },
   {
    "duration": 0,
    "start_time": "2023-01-20T19:14:34.138Z"
   },
   {
    "duration": 0,
    "start_time": "2023-01-20T19:14:34.140Z"
   },
   {
    "duration": 0,
    "start_time": "2023-01-20T19:14:34.141Z"
   },
   {
    "duration": 0,
    "start_time": "2023-01-20T19:14:34.142Z"
   },
   {
    "duration": 0,
    "start_time": "2023-01-20T19:14:34.144Z"
   },
   {
    "duration": 0,
    "start_time": "2023-01-20T19:14:34.145Z"
   },
   {
    "duration": 0,
    "start_time": "2023-01-20T19:14:34.147Z"
   },
   {
    "duration": 0,
    "start_time": "2023-01-20T19:14:34.148Z"
   },
   {
    "duration": 0,
    "start_time": "2023-01-20T19:14:34.149Z"
   },
   {
    "duration": 0,
    "start_time": "2023-01-20T19:14:34.150Z"
   },
   {
    "duration": 0,
    "start_time": "2023-01-20T19:14:34.152Z"
   },
   {
    "duration": 0,
    "start_time": "2023-01-20T19:14:34.153Z"
   },
   {
    "duration": 0,
    "start_time": "2023-01-20T19:14:34.157Z"
   },
   {
    "duration": 0,
    "start_time": "2023-01-20T19:14:34.158Z"
   },
   {
    "duration": 0,
    "start_time": "2023-01-20T19:14:34.160Z"
   },
   {
    "duration": 0,
    "start_time": "2023-01-20T19:14:34.161Z"
   },
   {
    "duration": 0,
    "start_time": "2023-01-20T19:14:34.162Z"
   },
   {
    "duration": 0,
    "start_time": "2023-01-20T19:14:34.222Z"
   },
   {
    "duration": 0,
    "start_time": "2023-01-20T19:14:34.224Z"
   },
   {
    "duration": 0,
    "start_time": "2023-01-20T19:14:34.225Z"
   },
   {
    "duration": 0,
    "start_time": "2023-01-20T19:14:34.227Z"
   },
   {
    "duration": 0,
    "start_time": "2023-01-20T19:14:34.228Z"
   },
   {
    "duration": 0,
    "start_time": "2023-01-20T19:14:34.230Z"
   },
   {
    "duration": 0,
    "start_time": "2023-01-20T19:14:34.231Z"
   },
   {
    "duration": 0,
    "start_time": "2023-01-20T19:14:34.232Z"
   },
   {
    "duration": 0,
    "start_time": "2023-01-20T19:14:34.233Z"
   },
   {
    "duration": 0,
    "start_time": "2023-01-20T19:14:34.235Z"
   },
   {
    "duration": 0,
    "start_time": "2023-01-20T19:14:34.236Z"
   },
   {
    "duration": 0,
    "start_time": "2023-01-20T19:14:34.237Z"
   },
   {
    "duration": 0,
    "start_time": "2023-01-20T19:14:34.240Z"
   },
   {
    "duration": 1,
    "start_time": "2023-01-20T19:14:34.241Z"
   },
   {
    "duration": 0,
    "start_time": "2023-01-20T19:14:34.243Z"
   },
   {
    "duration": 0,
    "start_time": "2023-01-20T19:14:34.244Z"
   },
   {
    "duration": 0,
    "start_time": "2023-01-20T19:14:34.245Z"
   },
   {
    "duration": 0,
    "start_time": "2023-01-20T19:14:34.246Z"
   },
   {
    "duration": 0,
    "start_time": "2023-01-20T19:14:34.248Z"
   },
   {
    "duration": 0,
    "start_time": "2023-01-20T19:14:34.249Z"
   },
   {
    "duration": 0,
    "start_time": "2023-01-20T19:14:34.250Z"
   },
   {
    "duration": 0,
    "start_time": "2023-01-20T19:14:34.251Z"
   },
   {
    "duration": 0,
    "start_time": "2023-01-20T19:14:34.252Z"
   },
   {
    "duration": 0,
    "start_time": "2023-01-20T19:14:34.254Z"
   },
   {
    "duration": 0,
    "start_time": "2023-01-20T19:14:34.255Z"
   },
   {
    "duration": 0,
    "start_time": "2023-01-20T19:14:34.256Z"
   },
   {
    "duration": 0,
    "start_time": "2023-01-20T19:14:34.257Z"
   },
   {
    "duration": 0,
    "start_time": "2023-01-20T19:14:34.259Z"
   },
   {
    "duration": 0,
    "start_time": "2023-01-20T19:14:34.321Z"
   },
   {
    "duration": 0,
    "start_time": "2023-01-20T19:14:34.322Z"
   },
   {
    "duration": 0,
    "start_time": "2023-01-20T19:14:34.323Z"
   },
   {
    "duration": 0,
    "start_time": "2023-01-20T19:14:34.324Z"
   },
   {
    "duration": 0,
    "start_time": "2023-01-20T19:14:34.325Z"
   },
   {
    "duration": 0,
    "start_time": "2023-01-20T19:14:34.326Z"
   },
   {
    "duration": 0,
    "start_time": "2023-01-20T19:14:34.327Z"
   },
   {
    "duration": 0,
    "start_time": "2023-01-20T19:14:34.328Z"
   },
   {
    "duration": 0,
    "start_time": "2023-01-20T19:14:34.329Z"
   },
   {
    "duration": 0,
    "start_time": "2023-01-20T19:14:34.330Z"
   },
   {
    "duration": 0,
    "start_time": "2023-01-20T19:14:34.331Z"
   },
   {
    "duration": 0,
    "start_time": "2023-01-20T19:14:34.333Z"
   },
   {
    "duration": 0,
    "start_time": "2023-01-20T19:14:34.334Z"
   },
   {
    "duration": 0,
    "start_time": "2023-01-20T19:14:34.335Z"
   },
   {
    "duration": 0,
    "start_time": "2023-01-20T19:14:34.336Z"
   },
   {
    "duration": 0,
    "start_time": "2023-01-20T19:14:34.337Z"
   },
   {
    "duration": 0,
    "start_time": "2023-01-20T19:14:34.338Z"
   },
   {
    "duration": 0,
    "start_time": "2023-01-20T19:14:34.339Z"
   },
   {
    "duration": 0,
    "start_time": "2023-01-20T19:14:34.340Z"
   },
   {
    "duration": 0,
    "start_time": "2023-01-20T19:14:34.341Z"
   },
   {
    "duration": 0,
    "start_time": "2023-01-20T19:14:34.342Z"
   },
   {
    "duration": 0,
    "start_time": "2023-01-20T19:14:34.343Z"
   },
   {
    "duration": 0,
    "start_time": "2023-01-20T19:14:34.344Z"
   },
   {
    "duration": 0,
    "start_time": "2023-01-20T19:14:34.345Z"
   },
   {
    "duration": 0,
    "start_time": "2023-01-20T19:14:34.346Z"
   },
   {
    "duration": 0,
    "start_time": "2023-01-20T19:14:34.347Z"
   },
   {
    "duration": 2,
    "start_time": "2023-01-20T19:15:12.744Z"
   },
   {
    "duration": 2,
    "start_time": "2023-01-20T19:15:13.757Z"
   },
   {
    "duration": 58,
    "start_time": "2023-01-20T19:15:14.253Z"
   },
   {
    "duration": 4,
    "start_time": "2023-01-20T19:15:25.161Z"
   },
   {
    "duration": 3,
    "start_time": "2023-01-20T19:15:25.957Z"
   },
   {
    "duration": 2,
    "start_time": "2023-01-20T19:15:26.744Z"
   },
   {
    "duration": 98594,
    "start_time": "2023-01-20T19:15:27.138Z"
   },
   {
    "duration": 94,
    "start_time": "2023-01-20T19:17:05.735Z"
   },
   {
    "duration": 24,
    "start_time": "2023-01-20T19:17:05.830Z"
   },
   {
    "duration": 1293,
    "start_time": "2023-01-20T19:17:05.929Z"
   },
   {
    "duration": 104,
    "start_time": "2023-01-20T19:17:07.224Z"
   },
   {
    "duration": 6,
    "start_time": "2023-01-20T19:17:07.330Z"
   },
   {
    "duration": 5,
    "start_time": "2023-01-20T19:17:07.337Z"
   },
   {
    "duration": 7,
    "start_time": "2023-01-20T19:17:07.345Z"
   },
   {
    "duration": 16980,
    "start_time": "2023-01-20T19:17:07.353Z"
   },
   {
    "duration": 3,
    "start_time": "2023-01-20T19:17:24.334Z"
   },
   {
    "duration": 29043,
    "start_time": "2023-01-20T19:17:24.339Z"
   },
   {
    "duration": 5,
    "start_time": "2023-01-20T19:17:53.384Z"
   },
   {
    "duration": 17,
    "start_time": "2023-01-20T19:17:53.390Z"
   },
   {
    "duration": 4,
    "start_time": "2023-01-20T19:17:53.421Z"
   },
   {
    "duration": 6,
    "start_time": "2023-01-20T19:17:53.426Z"
   },
   {
    "duration": 2031,
    "start_time": "2023-01-20T19:17:53.434Z"
   },
   {
    "duration": 3,
    "start_time": "2023-01-20T19:17:55.467Z"
   },
   {
    "duration": 3328,
    "start_time": "2023-01-20T19:17:55.472Z"
   },
   {
    "duration": 5,
    "start_time": "2023-01-20T19:17:58.801Z"
   },
   {
    "duration": 28,
    "start_time": "2023-01-20T19:17:58.808Z"
   },
   {
    "duration": 2,
    "start_time": "2023-01-20T19:18:28.957Z"
   },
   {
    "duration": 3,
    "start_time": "2023-01-20T19:18:30.177Z"
   },
   {
    "duration": 2,
    "start_time": "2023-01-20T19:18:33.347Z"
   },
   {
    "duration": 1004696,
    "start_time": "2023-01-20T19:18:34.305Z"
   },
   {
    "duration": 2,
    "start_time": "2023-01-20T19:35:19.003Z"
   },
   {
    "duration": 1686061,
    "start_time": "2023-01-20T19:35:19.007Z"
   },
   {
    "duration": 4,
    "start_time": "2023-01-20T20:03:25.071Z"
   },
   {
    "duration": 21,
    "start_time": "2023-01-20T20:03:25.077Z"
   },
   {
    "duration": 7,
    "start_time": "2023-01-20T20:03:25.100Z"
   },
   {
    "duration": 13,
    "start_time": "2023-01-20T20:03:25.109Z"
   },
   {
    "duration": 111416,
    "start_time": "2023-01-20T20:03:25.123Z"
   },
   {
    "duration": 3,
    "start_time": "2023-01-20T20:05:16.541Z"
   },
   {
    "duration": 189653,
    "start_time": "2023-01-20T20:05:16.547Z"
   },
   {
    "duration": 5,
    "start_time": "2023-01-20T20:08:26.201Z"
   },
   {
    "duration": 24,
    "start_time": "2023-01-20T20:08:26.207Z"
   },
   {
    "duration": 2,
    "start_time": "2023-01-20T20:12:00.655Z"
   },
   {
    "duration": 3,
    "start_time": "2023-01-20T20:12:01.536Z"
   },
   {
    "duration": 3,
    "start_time": "2023-01-20T20:12:04.119Z"
   }
  ],
  "kernelspec": {
   "display_name": "Python 3 (ipykernel)",
   "language": "python",
   "name": "python3"
  },
  "language_info": {
   "codemirror_mode": {
    "name": "ipython",
    "version": 3
   },
   "file_extension": ".py",
   "mimetype": "text/x-python",
   "name": "python",
   "nbconvert_exporter": "python",
   "pygments_lexer": "ipython3",
   "version": "3.11.4"
  },
  "toc": {
   "base_numbering": 1,
   "nav_menu": {},
   "number_sections": true,
   "sideBar": true,
   "skip_h1_title": true,
   "title_cell": "Table of Contents",
   "title_sidebar": "Contents",
   "toc_cell": false,
   "toc_position": {
    "height": "calc(100% - 180px)",
    "left": "10px",
    "top": "150px",
    "width": "590px"
   },
   "toc_section_display": true,
   "toc_window_display": true
  }
 },
 "nbformat": 4,
 "nbformat_minor": 2
}
