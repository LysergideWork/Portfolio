{
 "cells": [
  {
   "cell_type": "markdown",
   "metadata": {
    "toc": true
   },
   "source": [
    "<h1>Содержание<span class=\"tocSkip\"></span></h1>\n",
    "<div class=\"toc\"><ul class=\"toc-item\"><li><span><a href=\"#Подготовка-данных\" data-toc-modified-id=\"Подготовка-данных-1\"><span class=\"toc-item-num\">1&nbsp;&nbsp;</span>Подготовка данных</a></span><ul class=\"toc-item\"><li><span><a href=\"#Импортируем-библиотеки\" data-toc-modified-id=\"Импортируем-библиотеки-1.1\"><span class=\"toc-item-num\">1.1&nbsp;&nbsp;</span>Импортируем библиотеки</a></span></li><li><span><a href=\"#Открываем-и-изучаем-файл-с-данными\" data-toc-modified-id=\"Открываем-и-изучаем-файл-с-данными-1.2\"><span class=\"toc-item-num\">1.2&nbsp;&nbsp;</span>Открываем и изучаем файл с данными</a></span><ul class=\"toc-item\"><li><span><a href=\"#Описание-данных\" data-toc-modified-id=\"Описание-данных-1.2.1\"><span class=\"toc-item-num\">1.2.1&nbsp;&nbsp;</span>Описание данных</a></span></li><li><span><a href=\"#Целевой-признак\" data-toc-modified-id=\"Целевой-признак-1.2.2\"><span class=\"toc-item-num\">1.2.2&nbsp;&nbsp;</span>Целевой признак</a></span></li><li><span><a href=\"#Вывод\" data-toc-modified-id=\"Вывод-1.2.3\"><span class=\"toc-item-num\">1.2.3&nbsp;&nbsp;</span>Вывод</a></span></li></ul></li><li><span><a href=\"#Предобработка-данных\" data-toc-modified-id=\"Предобработка-данных-1.3\"><span class=\"toc-item-num\">1.3&nbsp;&nbsp;</span>Предобработка данных</a></span><ul class=\"toc-item\"><li><span><a href=\"#Переименовываем-столбцы\" data-toc-modified-id=\"Переименовываем-столбцы-1.3.1\"><span class=\"toc-item-num\">1.3.1&nbsp;&nbsp;</span>Переименовываем столбцы</a></span></li><li><span><a href=\"#Столбец-row_number,-customer_id,-surname\" data-toc-modified-id=\"Столбец-row_number,-customer_id,-surname-1.3.2\"><span class=\"toc-item-num\">1.3.2&nbsp;&nbsp;</span>Столбец row_number, customer_id, surname</a></span></li><li><span><a href=\"#Столбец-tenure\" data-toc-modified-id=\"Столбец-tenure-1.3.3\"><span class=\"toc-item-num\">1.3.3&nbsp;&nbsp;</span>Столбец tenure</a></span></li><li><span><a href=\"#Столбцы-geography-и-gender\" data-toc-modified-id=\"Столбцы-geography-и-gender-1.3.4\"><span class=\"toc-item-num\">1.3.4&nbsp;&nbsp;</span>Столбцы geography и gender</a></span></li><li><span><a href=\"#Вывод\" data-toc-modified-id=\"Вывод-1.3.5\"><span class=\"toc-item-num\">1.3.5&nbsp;&nbsp;</span>Вывод</a></span></li></ul></li></ul></li><li><span><a href=\"#Исследование-задачи\" data-toc-modified-id=\"Исследование-задачи-2\"><span class=\"toc-item-num\">2&nbsp;&nbsp;</span>Исследование задачи</a></span><ul class=\"toc-item\"><li><span><a href=\"#Разбиваем-датафрейм-на-выборки\" data-toc-modified-id=\"Разбиваем-датафрейм-на-выборки-2.1\"><span class=\"toc-item-num\">2.1&nbsp;&nbsp;</span>Разбиваем датафрейм на выборки</a></span><ul class=\"toc-item\"><li><span><a href=\"#Вывод\" data-toc-modified-id=\"Вывод-2.1.1\"><span class=\"toc-item-num\">2.1.1&nbsp;&nbsp;</span>Вывод</a></span></li></ul></li><li><span><a href=\"#Подборка-параметров\" data-toc-modified-id=\"Подборка-параметров-2.2\"><span class=\"toc-item-num\">2.2&nbsp;&nbsp;</span>Подборка параметров</a></span><ul class=\"toc-item\"><li><span><a href=\"#Модель-Логическая-регрессия\" data-toc-modified-id=\"Модель-Логическая-регрессия-2.2.1\"><span class=\"toc-item-num\">2.2.1&nbsp;&nbsp;</span>Модель Логическая регрессия</a></span></li><li><span><a href=\"#Модель-Дерево-решений\" data-toc-modified-id=\"Модель-Дерево-решений-2.2.2\"><span class=\"toc-item-num\">2.2.2&nbsp;&nbsp;</span>Модель Дерево решений</a></span></li><li><span><a href=\"#Модель-Случайный-лес\" data-toc-modified-id=\"Модель-Случайный-лес-2.2.3\"><span class=\"toc-item-num\">2.2.3&nbsp;&nbsp;</span>Модель Случайный лес</a></span></li></ul></li><li><span><a href=\"#Вывод\" data-toc-modified-id=\"Вывод-2.3\"><span class=\"toc-item-num\">2.3&nbsp;&nbsp;</span>Вывод</a></span></li></ul></li><li><span><a href=\"#Борьба-с-дисбалансом\" data-toc-modified-id=\"Борьба-с-дисбалансом-3\"><span class=\"toc-item-num\">3&nbsp;&nbsp;</span>Борьба с дисбалансом</a></span><ul class=\"toc-item\"><li><span><a href=\"#Взвешивание-классов\" data-toc-modified-id=\"Взвешивание-классов-3.1\"><span class=\"toc-item-num\">3.1&nbsp;&nbsp;</span>Взвешивание классов</a></span><ul class=\"toc-item\"><li><span><a href=\"#Модель-Логическая-регрессия\" data-toc-modified-id=\"Модель-Логическая-регрессия-3.1.1\"><span class=\"toc-item-num\">3.1.1&nbsp;&nbsp;</span>Модель Логическая регрессия</a></span></li><li><span><a href=\"#Модель-Дерево-решений\" data-toc-modified-id=\"Модель-Дерево-решений-3.1.2\"><span class=\"toc-item-num\">3.1.2&nbsp;&nbsp;</span>Модель Дерево решений</a></span></li><li><span><a href=\"#Модель-Случайный-лес\" data-toc-modified-id=\"Модель-Случайный-лес-3.1.3\"><span class=\"toc-item-num\">3.1.3&nbsp;&nbsp;</span>Модель Случайный лес</a></span></li><li><span><a href=\"#Вывод\" data-toc-modified-id=\"Вывод-3.1.4\"><span class=\"toc-item-num\">3.1.4&nbsp;&nbsp;</span>Вывод</a></span></li></ul></li><li><span><a href=\"#Увеличение-выборки-(Upsampling)\" data-toc-modified-id=\"Увеличение-выборки-(Upsampling)-3.2\"><span class=\"toc-item-num\">3.2&nbsp;&nbsp;</span>Увеличение выборки (Upsampling)</a></span><ul class=\"toc-item\"><li><span><a href=\"#Модель-Логическая-регрессия\" data-toc-modified-id=\"Модель-Логическая-регрессия-3.2.1\"><span class=\"toc-item-num\">3.2.1&nbsp;&nbsp;</span>Модель Логическая регрессия</a></span></li><li><span><a href=\"#Модель-Дерево-решений\" data-toc-modified-id=\"Модель-Дерево-решений-3.2.2\"><span class=\"toc-item-num\">3.2.2&nbsp;&nbsp;</span>Модель Дерево решений</a></span></li><li><span><a href=\"#Модель-Случайный-лес\" data-toc-modified-id=\"Модель-Случайный-лес-3.2.3\"><span class=\"toc-item-num\">3.2.3&nbsp;&nbsp;</span>Модель Случайный лес</a></span></li><li><span><a href=\"#Вывод\" data-toc-modified-id=\"Вывод-3.2.4\"><span class=\"toc-item-num\">3.2.4&nbsp;&nbsp;</span>Вывод</a></span></li></ul></li><li><span><a href=\"#Уменьшение-выборки-(Downsampling)\" data-toc-modified-id=\"Уменьшение-выборки-(Downsampling)-3.3\"><span class=\"toc-item-num\">3.3&nbsp;&nbsp;</span>Уменьшение выборки (Downsampling)</a></span><ul class=\"toc-item\"><li><span><a href=\"#Модель-Логическая-регрессия\" data-toc-modified-id=\"Модель-Логическая-регрессия-3.3.1\"><span class=\"toc-item-num\">3.3.1&nbsp;&nbsp;</span>Модель Логическая регрессия</a></span></li><li><span><a href=\"#Модель-Дерево-решений\" data-toc-modified-id=\"Модель-Дерево-решений-3.3.2\"><span class=\"toc-item-num\">3.3.2&nbsp;&nbsp;</span>Модель Дерево решений</a></span></li><li><span><a href=\"#Модель-Случайный-лес\" data-toc-modified-id=\"Модель-Случайный-лес-3.3.3\"><span class=\"toc-item-num\">3.3.3&nbsp;&nbsp;</span>Модель Случайный лес</a></span></li><li><span><a href=\"#Вывод\" data-toc-modified-id=\"Вывод-3.3.4\"><span class=\"toc-item-num\">3.3.4&nbsp;&nbsp;</span>Вывод</a></span></li></ul></li><li><span><a href=\"#Вывод\" data-toc-modified-id=\"Вывод-3.4\"><span class=\"toc-item-num\">3.4&nbsp;&nbsp;</span>Вывод</a></span></li></ul></li><li><span><a href=\"#Тестирование-модели\" data-toc-modified-id=\"Тестирование-модели-4\"><span class=\"toc-item-num\">4&nbsp;&nbsp;</span>Тестирование модели</a></span><ul class=\"toc-item\"><li><span><a href=\"#Лучшая-модель\" data-toc-modified-id=\"Лучшая-модель-4.1\"><span class=\"toc-item-num\">4.1&nbsp;&nbsp;</span>Лучшая модель</a></span></li><li><span><a href=\"#Вывод\" data-toc-modified-id=\"Вывод-4.2\"><span class=\"toc-item-num\">4.2&nbsp;&nbsp;</span>Вывод</a></span></li></ul></li><li><span><a href=\"#Исследование-метрики-AUC-ROC\" data-toc-modified-id=\"Исследование-метрики-AUC-ROC-5\"><span class=\"toc-item-num\">5&nbsp;&nbsp;</span>Исследование метрики AUC-ROC</a></span><ul class=\"toc-item\"><li><span><a href=\"#Модель-Логическая-регрессия\" data-toc-modified-id=\"Модель-Логическая-регрессия-5.1\"><span class=\"toc-item-num\">5.1&nbsp;&nbsp;</span>Модель Логическая регрессия</a></span></li><li><span><a href=\"#Модель-Дерево-решений\" data-toc-modified-id=\"Модель-Дерево-решений-5.2\"><span class=\"toc-item-num\">5.2&nbsp;&nbsp;</span>Модель Дерево решений</a></span></li><li><span><a href=\"#Модель-Случайный-лес\" data-toc-modified-id=\"Модель-Случайный-лес-5.3\"><span class=\"toc-item-num\">5.3&nbsp;&nbsp;</span>Модель Случайный лес</a></span></li><li><span><a href=\"#График-метрики-AUC-ROC\" data-toc-modified-id=\"График-метрики-AUC-ROC-5.4\"><span class=\"toc-item-num\">5.4&nbsp;&nbsp;</span>График метрики AUC-ROC</a></span></li><li><span><a href=\"#Вывод\" data-toc-modified-id=\"Вывод-5.5\"><span class=\"toc-item-num\">5.5&nbsp;&nbsp;</span>Вывод</a></span></li></ul></li><li><span><a href=\"#Важность-признаков\" data-toc-modified-id=\"Важность-признаков-6\"><span class=\"toc-item-num\">6&nbsp;&nbsp;</span>Важность признаков</a></span></li><li><span><a href=\"#Общий-вывод\" data-toc-modified-id=\"Общий-вывод-7\"><span class=\"toc-item-num\">7&nbsp;&nbsp;</span>Общий вывод</a></span></li></ul></div>"
   ]
  },
  {
   "cell_type": "markdown",
   "metadata": {},
   "source": [
    "# Отток клиентов"
   ]
  },
  {
   "cell_type": "markdown",
   "metadata": {},
   "source": [
    "Из «Бета-Банка» стали уходить клиенты. Каждый месяц. Немного, но заметно. Банковские маркетологи посчитали: сохранять текущих клиентов дешевле, чем привлекать новых.\n",
    "\n",
    "Нужно спрогнозировать, уйдёт клиент из банка в ближайшее время или нет. Нам предоставлены исторические данные о поведении клиентов и расторжении договоров с банком. \n",
    "\n",
    "Нужно построить модель с предельно большим значением *F1*-меры. Чтобы сдать проект успешно, нужно довести метрику до 0.59 и проверить *F1*-меру на тестовой выборке самостоятельно.\n",
    "\n",
    "Дополнительно измерим *AUC-ROC*, сравним её значение с *F1*-мерой.\n",
    "\n",
    "Источник данных: [https://www.kaggle.com/barelydedicated/bank-customer-churn-modeling](https://www.kaggle.com/barelydedicated/bank-customer-churn-modeling)"
   ]
  },
  {
   "cell_type": "markdown",
   "metadata": {},
   "source": [
    "## Подготовка данных"
   ]
  },
  {
   "cell_type": "markdown",
   "metadata": {},
   "source": [
    "### Импортируем библиотеки"
   ]
  },
  {
   "cell_type": "code",
   "execution_count": 1,
   "metadata": {},
   "outputs": [],
   "source": [
    "import pandas as pd\n",
    "import matplotlib.pyplot as plt\n",
    "import matplotlib.colors\n",
    "import numpy as np\n",
    "import re\n",
    "#from tqdm import tqdm\n",
    "from sklearn.model_selection import train_test_split, GridSearchCV\n",
    "from sklearn.preprocessing import StandardScaler\n",
    "from sklearn.tree import DecisionTreeClassifier\n",
    "from sklearn.metrics import f1_score, roc_curve, roc_auc_score\n",
    "from sklearn.ensemble import RandomForestClassifier\n",
    "from sklearn.linear_model import LogisticRegression\n",
    "from sklearn.utils import shuffle"
   ]
  },
  {
   "cell_type": "markdown",
   "metadata": {},
   "source": [
    "### Открываем и изучаем файл с данными"
   ]
  },
  {
   "cell_type": "code",
   "execution_count": 2,
   "metadata": {},
   "outputs": [],
   "source": [
    "df = pd.read_csv('/datasets/Churn.csv')"
   ]
  },
  {
   "cell_type": "code",
   "execution_count": 3,
   "metadata": {},
   "outputs": [
    {
     "data": {
      "text/html": [
       "<div>\n",
       "<style scoped>\n",
       "    .dataframe tbody tr th:only-of-type {\n",
       "        vertical-align: middle;\n",
       "    }\n",
       "\n",
       "    .dataframe tbody tr th {\n",
       "        vertical-align: top;\n",
       "    }\n",
       "\n",
       "    .dataframe thead th {\n",
       "        text-align: right;\n",
       "    }\n",
       "</style>\n",
       "<table border=\"1\" class=\"dataframe\">\n",
       "  <thead>\n",
       "    <tr style=\"text-align: right;\">\n",
       "      <th></th>\n",
       "      <th>RowNumber</th>\n",
       "      <th>CustomerId</th>\n",
       "      <th>Surname</th>\n",
       "      <th>CreditScore</th>\n",
       "      <th>Geography</th>\n",
       "      <th>Gender</th>\n",
       "      <th>Age</th>\n",
       "      <th>Tenure</th>\n",
       "      <th>Balance</th>\n",
       "      <th>NumOfProducts</th>\n",
       "      <th>HasCrCard</th>\n",
       "      <th>IsActiveMember</th>\n",
       "      <th>EstimatedSalary</th>\n",
       "      <th>Exited</th>\n",
       "    </tr>\n",
       "  </thead>\n",
       "  <tbody>\n",
       "    <tr>\n",
       "      <th>0</th>\n",
       "      <td>1</td>\n",
       "      <td>15634602</td>\n",
       "      <td>Hargrave</td>\n",
       "      <td>619</td>\n",
       "      <td>France</td>\n",
       "      <td>Female</td>\n",
       "      <td>42</td>\n",
       "      <td>2.0</td>\n",
       "      <td>0.00</td>\n",
       "      <td>1</td>\n",
       "      <td>1</td>\n",
       "      <td>1</td>\n",
       "      <td>101348.88</td>\n",
       "      <td>1</td>\n",
       "    </tr>\n",
       "    <tr>\n",
       "      <th>1</th>\n",
       "      <td>2</td>\n",
       "      <td>15647311</td>\n",
       "      <td>Hill</td>\n",
       "      <td>608</td>\n",
       "      <td>Spain</td>\n",
       "      <td>Female</td>\n",
       "      <td>41</td>\n",
       "      <td>1.0</td>\n",
       "      <td>83807.86</td>\n",
       "      <td>1</td>\n",
       "      <td>0</td>\n",
       "      <td>1</td>\n",
       "      <td>112542.58</td>\n",
       "      <td>0</td>\n",
       "    </tr>\n",
       "    <tr>\n",
       "      <th>2</th>\n",
       "      <td>3</td>\n",
       "      <td>15619304</td>\n",
       "      <td>Onio</td>\n",
       "      <td>502</td>\n",
       "      <td>France</td>\n",
       "      <td>Female</td>\n",
       "      <td>42</td>\n",
       "      <td>8.0</td>\n",
       "      <td>159660.80</td>\n",
       "      <td>3</td>\n",
       "      <td>1</td>\n",
       "      <td>0</td>\n",
       "      <td>113931.57</td>\n",
       "      <td>1</td>\n",
       "    </tr>\n",
       "    <tr>\n",
       "      <th>3</th>\n",
       "      <td>4</td>\n",
       "      <td>15701354</td>\n",
       "      <td>Boni</td>\n",
       "      <td>699</td>\n",
       "      <td>France</td>\n",
       "      <td>Female</td>\n",
       "      <td>39</td>\n",
       "      <td>1.0</td>\n",
       "      <td>0.00</td>\n",
       "      <td>2</td>\n",
       "      <td>0</td>\n",
       "      <td>0</td>\n",
       "      <td>93826.63</td>\n",
       "      <td>0</td>\n",
       "    </tr>\n",
       "    <tr>\n",
       "      <th>4</th>\n",
       "      <td>5</td>\n",
       "      <td>15737888</td>\n",
       "      <td>Mitchell</td>\n",
       "      <td>850</td>\n",
       "      <td>Spain</td>\n",
       "      <td>Female</td>\n",
       "      <td>43</td>\n",
       "      <td>2.0</td>\n",
       "      <td>125510.82</td>\n",
       "      <td>1</td>\n",
       "      <td>1</td>\n",
       "      <td>1</td>\n",
       "      <td>79084.10</td>\n",
       "      <td>0</td>\n",
       "    </tr>\n",
       "  </tbody>\n",
       "</table>\n",
       "</div>"
      ],
      "text/plain": [
       "   RowNumber  CustomerId   Surname  CreditScore Geography  Gender  Age  \\\n",
       "0          1    15634602  Hargrave          619    France  Female   42   \n",
       "1          2    15647311      Hill          608     Spain  Female   41   \n",
       "2          3    15619304      Onio          502    France  Female   42   \n",
       "3          4    15701354      Boni          699    France  Female   39   \n",
       "4          5    15737888  Mitchell          850     Spain  Female   43   \n",
       "\n",
       "   Tenure    Balance  NumOfProducts  HasCrCard  IsActiveMember  \\\n",
       "0     2.0       0.00              1          1               1   \n",
       "1     1.0   83807.86              1          0               1   \n",
       "2     8.0  159660.80              3          1               0   \n",
       "3     1.0       0.00              2          0               0   \n",
       "4     2.0  125510.82              1          1               1   \n",
       "\n",
       "   EstimatedSalary  Exited  \n",
       "0        101348.88       1  \n",
       "1        112542.58       0  \n",
       "2        113931.57       1  \n",
       "3         93826.63       0  \n",
       "4         79084.10       0  "
      ]
     },
     "execution_count": 3,
     "metadata": {},
     "output_type": "execute_result"
    }
   ],
   "source": [
    "df.head()"
   ]
  },
  {
   "cell_type": "code",
   "execution_count": 4,
   "metadata": {},
   "outputs": [
    {
     "name": "stdout",
     "output_type": "stream",
     "text": [
      "<class 'pandas.core.frame.DataFrame'>\n",
      "RangeIndex: 10000 entries, 0 to 9999\n",
      "Data columns (total 14 columns):\n",
      " #   Column           Non-Null Count  Dtype  \n",
      "---  ------           --------------  -----  \n",
      " 0   RowNumber        10000 non-null  int64  \n",
      " 1   CustomerId       10000 non-null  int64  \n",
      " 2   Surname          10000 non-null  object \n",
      " 3   CreditScore      10000 non-null  int64  \n",
      " 4   Geography        10000 non-null  object \n",
      " 5   Gender           10000 non-null  object \n",
      " 6   Age              10000 non-null  int64  \n",
      " 7   Tenure           9091 non-null   float64\n",
      " 8   Balance          10000 non-null  float64\n",
      " 9   NumOfProducts    10000 non-null  int64  \n",
      " 10  HasCrCard        10000 non-null  int64  \n",
      " 11  IsActiveMember   10000 non-null  int64  \n",
      " 12  EstimatedSalary  10000 non-null  float64\n",
      " 13  Exited           10000 non-null  int64  \n",
      "dtypes: float64(3), int64(8), object(3)\n",
      "memory usage: 1.1+ MB\n"
     ]
    }
   ],
   "source": [
    "df.info()"
   ]
  },
  {
   "cell_type": "code",
   "execution_count": 73,
   "metadata": {},
   "outputs": [
    {
     "data": {
      "text/html": [
       "<div>\n",
       "<style scoped>\n",
       "    .dataframe tbody tr th:only-of-type {\n",
       "        vertical-align: middle;\n",
       "    }\n",
       "\n",
       "    .dataframe tbody tr th {\n",
       "        vertical-align: top;\n",
       "    }\n",
       "\n",
       "    .dataframe thead th {\n",
       "        text-align: right;\n",
       "    }\n",
       "</style>\n",
       "<table border=\"1\" class=\"dataframe\">\n",
       "  <thead>\n",
       "    <tr style=\"text-align: right;\">\n",
       "      <th></th>\n",
       "      <th>credit_score</th>\n",
       "      <th>geography</th>\n",
       "      <th>gender</th>\n",
       "      <th>age</th>\n",
       "      <th>tenure</th>\n",
       "      <th>balance</th>\n",
       "      <th>num_of_products</th>\n",
       "      <th>has_cr_card</th>\n",
       "      <th>is_active_member</th>\n",
       "      <th>estimated_salary</th>\n",
       "      <th>exited</th>\n",
       "    </tr>\n",
       "  </thead>\n",
       "  <tbody>\n",
       "    <tr>\n",
       "      <th>count</th>\n",
       "      <td>10000.000000</td>\n",
       "      <td>10000</td>\n",
       "      <td>10000</td>\n",
       "      <td>10000.000000</td>\n",
       "      <td>10000.000000</td>\n",
       "      <td>10000.000000</td>\n",
       "      <td>10000.000000</td>\n",
       "      <td>10000.00000</td>\n",
       "      <td>10000.000000</td>\n",
       "      <td>10000.000000</td>\n",
       "      <td>10000.000000</td>\n",
       "    </tr>\n",
       "    <tr>\n",
       "      <th>unique</th>\n",
       "      <td>NaN</td>\n",
       "      <td>3</td>\n",
       "      <td>2</td>\n",
       "      <td>NaN</td>\n",
       "      <td>NaN</td>\n",
       "      <td>NaN</td>\n",
       "      <td>NaN</td>\n",
       "      <td>NaN</td>\n",
       "      <td>NaN</td>\n",
       "      <td>NaN</td>\n",
       "      <td>NaN</td>\n",
       "    </tr>\n",
       "    <tr>\n",
       "      <th>top</th>\n",
       "      <td>NaN</td>\n",
       "      <td>France</td>\n",
       "      <td>Male</td>\n",
       "      <td>NaN</td>\n",
       "      <td>NaN</td>\n",
       "      <td>NaN</td>\n",
       "      <td>NaN</td>\n",
       "      <td>NaN</td>\n",
       "      <td>NaN</td>\n",
       "      <td>NaN</td>\n",
       "      <td>NaN</td>\n",
       "    </tr>\n",
       "    <tr>\n",
       "      <th>freq</th>\n",
       "      <td>NaN</td>\n",
       "      <td>5014</td>\n",
       "      <td>5457</td>\n",
       "      <td>NaN</td>\n",
       "      <td>NaN</td>\n",
       "      <td>NaN</td>\n",
       "      <td>NaN</td>\n",
       "      <td>NaN</td>\n",
       "      <td>NaN</td>\n",
       "      <td>NaN</td>\n",
       "      <td>NaN</td>\n",
       "    </tr>\n",
       "    <tr>\n",
       "      <th>mean</th>\n",
       "      <td>650.528800</td>\n",
       "      <td>NaN</td>\n",
       "      <td>NaN</td>\n",
       "      <td>38.921800</td>\n",
       "      <td>4.936800</td>\n",
       "      <td>76485.889288</td>\n",
       "      <td>1.530200</td>\n",
       "      <td>0.70550</td>\n",
       "      <td>0.515100</td>\n",
       "      <td>100090.239881</td>\n",
       "      <td>0.203700</td>\n",
       "    </tr>\n",
       "    <tr>\n",
       "      <th>std</th>\n",
       "      <td>96.653299</td>\n",
       "      <td>NaN</td>\n",
       "      <td>NaN</td>\n",
       "      <td>10.487806</td>\n",
       "      <td>2.896523</td>\n",
       "      <td>62397.405202</td>\n",
       "      <td>0.581654</td>\n",
       "      <td>0.45584</td>\n",
       "      <td>0.499797</td>\n",
       "      <td>57510.492818</td>\n",
       "      <td>0.402769</td>\n",
       "    </tr>\n",
       "    <tr>\n",
       "      <th>min</th>\n",
       "      <td>350.000000</td>\n",
       "      <td>NaN</td>\n",
       "      <td>NaN</td>\n",
       "      <td>18.000000</td>\n",
       "      <td>0.000000</td>\n",
       "      <td>0.000000</td>\n",
       "      <td>1.000000</td>\n",
       "      <td>0.00000</td>\n",
       "      <td>0.000000</td>\n",
       "      <td>11.580000</td>\n",
       "      <td>0.000000</td>\n",
       "    </tr>\n",
       "    <tr>\n",
       "      <th>25%</th>\n",
       "      <td>584.000000</td>\n",
       "      <td>NaN</td>\n",
       "      <td>NaN</td>\n",
       "      <td>32.000000</td>\n",
       "      <td>2.000000</td>\n",
       "      <td>0.000000</td>\n",
       "      <td>1.000000</td>\n",
       "      <td>0.00000</td>\n",
       "      <td>0.000000</td>\n",
       "      <td>51002.110000</td>\n",
       "      <td>0.000000</td>\n",
       "    </tr>\n",
       "    <tr>\n",
       "      <th>50%</th>\n",
       "      <td>652.000000</td>\n",
       "      <td>NaN</td>\n",
       "      <td>NaN</td>\n",
       "      <td>37.000000</td>\n",
       "      <td>5.000000</td>\n",
       "      <td>97198.540000</td>\n",
       "      <td>1.000000</td>\n",
       "      <td>1.00000</td>\n",
       "      <td>1.000000</td>\n",
       "      <td>100193.915000</td>\n",
       "      <td>0.000000</td>\n",
       "    </tr>\n",
       "    <tr>\n",
       "      <th>75%</th>\n",
       "      <td>718.000000</td>\n",
       "      <td>NaN</td>\n",
       "      <td>NaN</td>\n",
       "      <td>44.000000</td>\n",
       "      <td>7.000000</td>\n",
       "      <td>127644.240000</td>\n",
       "      <td>2.000000</td>\n",
       "      <td>1.00000</td>\n",
       "      <td>1.000000</td>\n",
       "      <td>149388.247500</td>\n",
       "      <td>0.000000</td>\n",
       "    </tr>\n",
       "    <tr>\n",
       "      <th>max</th>\n",
       "      <td>850.000000</td>\n",
       "      <td>NaN</td>\n",
       "      <td>NaN</td>\n",
       "      <td>92.000000</td>\n",
       "      <td>10.000000</td>\n",
       "      <td>250898.090000</td>\n",
       "      <td>4.000000</td>\n",
       "      <td>1.00000</td>\n",
       "      <td>1.000000</td>\n",
       "      <td>199992.480000</td>\n",
       "      <td>1.000000</td>\n",
       "    </tr>\n",
       "  </tbody>\n",
       "</table>\n",
       "</div>"
      ],
      "text/plain": [
       "        credit_score geography gender           age        tenure  \\\n",
       "count   10000.000000     10000  10000  10000.000000  10000.000000   \n",
       "unique           NaN         3      2           NaN           NaN   \n",
       "top              NaN    France   Male           NaN           NaN   \n",
       "freq             NaN      5014   5457           NaN           NaN   \n",
       "mean      650.528800       NaN    NaN     38.921800      4.936800   \n",
       "std        96.653299       NaN    NaN     10.487806      2.896523   \n",
       "min       350.000000       NaN    NaN     18.000000      0.000000   \n",
       "25%       584.000000       NaN    NaN     32.000000      2.000000   \n",
       "50%       652.000000       NaN    NaN     37.000000      5.000000   \n",
       "75%       718.000000       NaN    NaN     44.000000      7.000000   \n",
       "max       850.000000       NaN    NaN     92.000000     10.000000   \n",
       "\n",
       "              balance  num_of_products  has_cr_card  is_active_member  \\\n",
       "count    10000.000000     10000.000000  10000.00000      10000.000000   \n",
       "unique            NaN              NaN          NaN               NaN   \n",
       "top               NaN              NaN          NaN               NaN   \n",
       "freq              NaN              NaN          NaN               NaN   \n",
       "mean     76485.889288         1.530200      0.70550          0.515100   \n",
       "std      62397.405202         0.581654      0.45584          0.499797   \n",
       "min          0.000000         1.000000      0.00000          0.000000   \n",
       "25%          0.000000         1.000000      0.00000          0.000000   \n",
       "50%      97198.540000         1.000000      1.00000          1.000000   \n",
       "75%     127644.240000         2.000000      1.00000          1.000000   \n",
       "max     250898.090000         4.000000      1.00000          1.000000   \n",
       "\n",
       "        estimated_salary        exited  \n",
       "count       10000.000000  10000.000000  \n",
       "unique               NaN           NaN  \n",
       "top                  NaN           NaN  \n",
       "freq                 NaN           NaN  \n",
       "mean       100090.239881      0.203700  \n",
       "std         57510.492818      0.402769  \n",
       "min            11.580000      0.000000  \n",
       "25%         51002.110000      0.000000  \n",
       "50%        100193.915000      0.000000  \n",
       "75%        149388.247500      0.000000  \n",
       "max        199992.480000      1.000000  "
      ]
     },
     "execution_count": 73,
     "metadata": {},
     "output_type": "execute_result"
    }
   ],
   "source": [
    "df.describe(include='all')"
   ]
  },
  {
   "cell_type": "markdown",
   "metadata": {},
   "source": [
    "#### Описание данных"
   ]
  },
  {
   "cell_type": "markdown",
   "metadata": {},
   "source": [
    " - RowNumber — индекс строки в данных<br>\n",
    " - CustomerId — уникальный идентификатор клиента<br>\n",
    " - Surname — фамилия<br>\n",
    " - CreditScore — кредитный рейтинг<br>\n",
    " - Geography — страна проживания<br>\n",
    " - Gender — пол<br>\n",
    " - Age — возраст<br>\n",
    " - Tenure — сколько лет человек является клиентом банка<br>\n",
    " - Balance — баланс на счёте<br>\n",
    " - NumOfProducts — количество продуктов банка, используемых клиентом<br>\n",
    " - HasCrCard — наличие кредитной карты<br>\n",
    " - IsActiveMember — активность клиента<br>\n",
    " - EstimatedSalary — предполагаемая зарплата<br>\n",
    " - Exited — факт ухода клиента"
   ]
  },
  {
   "cell_type": "markdown",
   "metadata": {},
   "source": [
    "#### Целевой признак"
   ]
  },
  {
   "cell_type": "code",
   "execution_count": 6,
   "metadata": {},
   "outputs": [
    {
     "data": {
      "image/png": "[encoded data removed]",
      "text/plain": [
       "<Figure size 720x360 with 1 Axes>"
      ]
     },
     "metadata": {
      "needs_background": "light"
     },
     "output_type": "display_data"
    }
   ],
   "source": [
    "df['Exited'].value_counts(normalize = True).plot(\n",
    "    kind = 'bar',  \n",
    "    grid = True, \n",
    "    figsize = (10,5),\n",
    "    colormap = 'tab20b',\n",
    "    title = 'Распределение целевого признака')\n",
    "\n",
    "plt.show()"
   ]
  },
  {
   "cell_type": "markdown",
   "metadata": {},
   "source": [
    "#### Вывод"
   ]
  },
  {
   "cell_type": "markdown",
   "metadata": {},
   "source": [
    "Исходные данные представляют собой таблицу (10000 rows × 14 columns). Таблица имеет пропуски в столбце Tenure. Некоторые столбцы (Balance, HasCrCard, IsActiveMember) имеют очень много нулевых значений (25%, 50% и 75% квантили равны 0), это не аномалия, скорее всего категориальные переменные, например, двоичные, по ним можно оценить распределение, например: у нас половина пользователей не активны. Целевой признак (Exited) - это двоичная переменная, имеет распределение примерно 20% на 80%, значит есть дисбаланс и модель будет предвзята."
   ]
  },
  {
   "cell_type": "markdown",
   "metadata": {},
   "source": [
    "### Предобработка данных"
   ]
  },
  {
   "cell_type": "markdown",
   "metadata": {},
   "source": [
    "#### Переименовываем столбцы"
   ]
  },
  {
   "cell_type": "code",
   "execution_count": 7,
   "metadata": {},
   "outputs": [
    {
     "data": {
      "text/plain": [
       "Index(['RowNumber', 'CustomerId', 'Surname', 'CreditScore', 'Geography',\n",
       "       'Gender', 'Age', 'Tenure', 'Balance', 'NumOfProducts', 'HasCrCard',\n",
       "       'IsActiveMember', 'EstimatedSalary', 'Exited'],\n",
       "      dtype='object')"
      ]
     },
     "execution_count": 7,
     "metadata": {},
     "output_type": "execute_result"
    }
   ],
   "source": [
    "df.columns"
   ]
  },
  {
   "cell_type": "markdown",
   "metadata": {},
   "source": [
    "Все слова в названии столбцов написаны слитно и с заглавной буквы.<br>\n",
    "Тогда, напишем функцию с циклом, которая будет:\n",
    " 1. перебирать названия столбцов,\n",
    " 2. находить заглавные буквы и ставить _ перед ними,\n",
    " 3. приводить заглавные буквы к нижнему регистру,\n",
    " 4. удалять все _ в начале названия каждого столбца,\n",
    " 5. заменять все __ на _."
   ]
  },
  {
   "cell_type": "code",
   "execution_count": 8,
   "metadata": {},
   "outputs": [
    {
     "data": {
      "text/html": [
       "<div>\n",
       "<style scoped>\n",
       "    .dataframe tbody tr th:only-of-type {\n",
       "        vertical-align: middle;\n",
       "    }\n",
       "\n",
       "    .dataframe tbody tr th {\n",
       "        vertical-align: top;\n",
       "    }\n",
       "\n",
       "    .dataframe thead th {\n",
       "        text-align: right;\n",
       "    }\n",
       "</style>\n",
       "<table border=\"1\" class=\"dataframe\">\n",
       "  <thead>\n",
       "    <tr style=\"text-align: right;\">\n",
       "      <th></th>\n",
       "      <th>row_number</th>\n",
       "      <th>customer_id</th>\n",
       "      <th>surname</th>\n",
       "      <th>credit_score</th>\n",
       "      <th>geography</th>\n",
       "      <th>gender</th>\n",
       "      <th>age</th>\n",
       "      <th>tenure</th>\n",
       "      <th>balance</th>\n",
       "      <th>num_of_products</th>\n",
       "      <th>has_cr_card</th>\n",
       "      <th>is_active_member</th>\n",
       "      <th>estimated_salary</th>\n",
       "      <th>exited</th>\n",
       "    </tr>\n",
       "  </thead>\n",
       "  <tbody>\n",
       "    <tr>\n",
       "      <th>0</th>\n",
       "      <td>1</td>\n",
       "      <td>15634602</td>\n",
       "      <td>Hargrave</td>\n",
       "      <td>619</td>\n",
       "      <td>France</td>\n",
       "      <td>Female</td>\n",
       "      <td>42</td>\n",
       "      <td>2.0</td>\n",
       "      <td>0.00</td>\n",
       "      <td>1</td>\n",
       "      <td>1</td>\n",
       "      <td>1</td>\n",
       "      <td>101348.88</td>\n",
       "      <td>1</td>\n",
       "    </tr>\n",
       "    <tr>\n",
       "      <th>1</th>\n",
       "      <td>2</td>\n",
       "      <td>15647311</td>\n",
       "      <td>Hill</td>\n",
       "      <td>608</td>\n",
       "      <td>Spain</td>\n",
       "      <td>Female</td>\n",
       "      <td>41</td>\n",
       "      <td>1.0</td>\n",
       "      <td>83807.86</td>\n",
       "      <td>1</td>\n",
       "      <td>0</td>\n",
       "      <td>1</td>\n",
       "      <td>112542.58</td>\n",
       "      <td>0</td>\n",
       "    </tr>\n",
       "    <tr>\n",
       "      <th>2</th>\n",
       "      <td>3</td>\n",
       "      <td>15619304</td>\n",
       "      <td>Onio</td>\n",
       "      <td>502</td>\n",
       "      <td>France</td>\n",
       "      <td>Female</td>\n",
       "      <td>42</td>\n",
       "      <td>8.0</td>\n",
       "      <td>159660.80</td>\n",
       "      <td>3</td>\n",
       "      <td>1</td>\n",
       "      <td>0</td>\n",
       "      <td>113931.57</td>\n",
       "      <td>1</td>\n",
       "    </tr>\n",
       "    <tr>\n",
       "      <th>3</th>\n",
       "      <td>4</td>\n",
       "      <td>15701354</td>\n",
       "      <td>Boni</td>\n",
       "      <td>699</td>\n",
       "      <td>France</td>\n",
       "      <td>Female</td>\n",
       "      <td>39</td>\n",
       "      <td>1.0</td>\n",
       "      <td>0.00</td>\n",
       "      <td>2</td>\n",
       "      <td>0</td>\n",
       "      <td>0</td>\n",
       "      <td>93826.63</td>\n",
       "      <td>0</td>\n",
       "    </tr>\n",
       "    <tr>\n",
       "      <th>4</th>\n",
       "      <td>5</td>\n",
       "      <td>15737888</td>\n",
       "      <td>Mitchell</td>\n",
       "      <td>850</td>\n",
       "      <td>Spain</td>\n",
       "      <td>Female</td>\n",
       "      <td>43</td>\n",
       "      <td>2.0</td>\n",
       "      <td>125510.82</td>\n",
       "      <td>1</td>\n",
       "      <td>1</td>\n",
       "      <td>1</td>\n",
       "      <td>79084.10</td>\n",
       "      <td>0</td>\n",
       "    </tr>\n",
       "  </tbody>\n",
       "</table>\n",
       "</div>"
      ],
      "text/plain": [
       "   row_number  customer_id   surname  credit_score geography  gender  age  \\\n",
       "0           1     15634602  Hargrave           619    France  Female   42   \n",
       "1           2     15647311      Hill           608     Spain  Female   41   \n",
       "2           3     15619304      Onio           502    France  Female   42   \n",
       "3           4     15701354      Boni           699    France  Female   39   \n",
       "4           5     15737888  Mitchell           850     Spain  Female   43   \n",
       "\n",
       "   tenure    balance  num_of_products  has_cr_card  is_active_member  \\\n",
       "0     2.0       0.00                1            1                 1   \n",
       "1     1.0   83807.86                1            0                 1   \n",
       "2     8.0  159660.80                3            1                 0   \n",
       "3     1.0       0.00                2            0                 0   \n",
       "4     2.0  125510.82                1            1                 1   \n",
       "\n",
       "   estimated_salary  exited  \n",
       "0         101348.88       1  \n",
       "1         112542.58       0  \n",
       "2         113931.57       1  \n",
       "3          93826.63       0  \n",
       "4          79084.10       0  "
      ]
     },
     "execution_count": 8,
     "metadata": {},
     "output_type": "execute_result"
    }
   ],
   "source": [
    "def clmn_rnm(tmp):\n",
    "    for i in range(len(tmp)):\n",
    "        tmp[i] = re.sub(r\"([A-Z])\", lambda x: '_' + x.group(0).lower(), str(tmp[i]))\n",
    "        if tmp[i][0] == \"_\":\n",
    "            tmp[i] = tmp[i][1:]\n",
    "        if \"__\" in tmp[i]:\n",
    "            tmp[i] = re.sub(r\"__\", lambda x: '_', str(tmp[i]))\n",
    "    return tmp\n",
    "\n",
    "df.columns = clmn_rnm(df.columns.tolist())\n",
    "df.head()"
   ]
  },
  {
   "cell_type": "markdown",
   "metadata": {},
   "source": [
    "#### Столбец row_number, customer_id, surname"
   ]
  },
  {
   "cell_type": "markdown",
   "metadata": {},
   "source": [
    "Столбцы row_number, surname и customer_id не несут никакой ценности для нашего анализа, при этом у нас есть индекс, который может выполнять роль ключа, при необходимости, по нему мы можем идентифицировать пользователя. Поэтому, исходный датафрейм сохраняю в переменную df_original, мы всегда сможем вернуться к нему, а в рабочем удаляю столбцы row_number, surname и customer_id."
   ]
  },
  {
   "cell_type": "code",
   "execution_count": 9,
   "metadata": {},
   "outputs": [
    {
     "data": {
      "text/plain": [
       "(10000, 11)"
      ]
     },
     "execution_count": 9,
     "metadata": {},
     "output_type": "execute_result"
    }
   ],
   "source": [
    "df_original = df\n",
    "df = df.drop(['row_number', 'surname', 'customer_id'], axis = 1)\n",
    "df.shape"
   ]
  },
  {
   "cell_type": "markdown",
   "metadata": {},
   "source": [
    "#### Столбец tenure"
   ]
  },
  {
   "cell_type": "markdown",
   "metadata": {},
   "source": [
    "Оценим столбец tenure."
   ]
  },
  {
   "cell_type": "code",
   "execution_count": 10,
   "metadata": {},
   "outputs": [
    {
     "data": {
      "text/plain": [
       "False    0.9091\n",
       "True     0.0909\n",
       "Name: tenure, dtype: float64"
      ]
     },
     "execution_count": 10,
     "metadata": {},
     "output_type": "execute_result"
    }
   ],
   "source": [
    "df['tenure'].isna().value_counts(normalize = True)"
   ]
  },
  {
   "cell_type": "code",
   "execution_count": 11,
   "metadata": {},
   "outputs": [
    {
     "data": {
      "text/plain": [
       "count    9091.000000\n",
       "mean        4.997690\n",
       "std         2.894723\n",
       "min         0.000000\n",
       "25%         2.000000\n",
       "50%         5.000000\n",
       "75%         7.000000\n",
       "max        10.000000\n",
       "Name: tenure, dtype: float64"
      ]
     },
     "execution_count": 11,
     "metadata": {},
     "output_type": "execute_result"
    }
   ],
   "source": [
    "df['tenure'].describe()"
   ]
  },
  {
   "cell_type": "markdown",
   "metadata": {},
   "source": [
    "У нас 9% пропусков в столбце tenure, это большой объем данных."
   ]
  },
  {
   "cell_type": "markdown",
   "metadata": {},
   "source": [
    "Я вижу 4 варианта:\n",
    "1. Удалить строки с пропусками. Теряем большой объем данных, но будем уверены, что не внесем никаких синтетических данных в признаки.\n",
    "2. Удалить весь столбец tenure. Теряем данные, но, я считаю, что столбец не является ключевым признаком для модели.\n",
    "3. Заменить пропуски на рандомные значения от 0 до 10. Внесем синтетические данные, но постараемся минимизировать их воздействие на модель.\n",
    "4. Заменить пропуски на заглушку \"-1\"."
   ]
  },
  {
   "cell_type": "markdown",
   "metadata": {},
   "source": [
    "Непонятно, что навредит больше: потерять потенциально важные данные или внести синтетические.  \n",
    "Попробуем реализовать 3-ый вариант. Изменим тип данных на int, т.к. все значения целые."
   ]
  },
  {
   "cell_type": "code",
   "execution_count": 12,
   "metadata": {},
   "outputs": [
    {
     "name": "stdout",
     "output_type": "stream",
     "text": [
      "<class 'pandas.core.frame.DataFrame'>\n",
      "RangeIndex: 10000 entries, 0 to 9999\n",
      "Data columns (total 11 columns):\n",
      " #   Column            Non-Null Count  Dtype  \n",
      "---  ------            --------------  -----  \n",
      " 0   credit_score      10000 non-null  int64  \n",
      " 1   geography         10000 non-null  object \n",
      " 2   gender            10000 non-null  object \n",
      " 3   age               10000 non-null  int64  \n",
      " 4   tenure            10000 non-null  int64  \n",
      " 5   balance           10000 non-null  float64\n",
      " 6   num_of_products   10000 non-null  int64  \n",
      " 7   has_cr_card       10000 non-null  int64  \n",
      " 8   is_active_member  10000 non-null  int64  \n",
      " 9   estimated_salary  10000 non-null  float64\n",
      " 10  exited            10000 non-null  int64  \n",
      "dtypes: float64(2), int64(7), object(2)\n",
      "memory usage: 859.5+ KB\n"
     ]
    }
   ],
   "source": [
    "# Ваниант 1\n",
    "# df = df.dropna()\n",
    "# df['tenure'] = df['tenure'].astype('int64')\n",
    "\n",
    "# Вариант 2\n",
    "# df = df.drop(['tenure'], axis = 1)\n",
    "\n",
    "# Вариант 3\n",
    "np.random.seed(123)\n",
    "df['tenure'] = df['tenure'].mask(df['tenure'].isna(), np.random.uniform(0, 10, size = len(df))).astype('int64')\n",
    "\n",
    "# Вариант 4\n",
    "# df.loc[(df['tenure'].isna()), 'tenure'] = -1\n",
    "# df['tenure'] = df['tenure'].astype('int64')\n",
    "\n",
    "df.info()"
   ]
  },
  {
   "cell_type": "code",
   "execution_count": 13,
   "metadata": {},
   "outputs": [
    {
     "data": {
      "text/plain": [
       "count    10000.000000\n",
       "mean         4.936800\n",
       "std          2.896523\n",
       "min          0.000000\n",
       "25%          2.000000\n",
       "50%          5.000000\n",
       "75%          7.000000\n",
       "max         10.000000\n",
       "Name: tenure, dtype: float64"
      ]
     },
     "execution_count": 13,
     "metadata": {},
     "output_type": "execute_result"
    }
   ],
   "source": [
    "df['tenure'].describe()"
   ]
  },
  {
   "cell_type": "markdown",
   "metadata": {},
   "source": [
    "#### Столбцы geography и gender"
   ]
  },
  {
   "cell_type": "markdown",
   "metadata": {},
   "source": [
    "Проанализируем столбцы geography и gender"
   ]
  },
  {
   "cell_type": "code",
   "execution_count": 14,
   "metadata": {},
   "outputs": [
    {
     "data": {
      "text/plain": [
       "France     5014\n",
       "Germany    2509\n",
       "Spain      2477\n",
       "Name: geography, dtype: int64"
      ]
     },
     "execution_count": 14,
     "metadata": {},
     "output_type": "execute_result"
    }
   ],
   "source": [
    "df['geography'].value_counts()"
   ]
  },
  {
   "cell_type": "code",
   "execution_count": 15,
   "metadata": {},
   "outputs": [
    {
     "data": {
      "text/plain": [
       "Male      5457\n",
       "Female    4543\n",
       "Name: gender, dtype: int64"
      ]
     },
     "execution_count": 15,
     "metadata": {},
     "output_type": "execute_result"
    }
   ],
   "source": [
    "df['gender'].value_counts()"
   ]
  },
  {
   "cell_type": "markdown",
   "metadata": {},
   "source": [
    "Столбцы категориальные. Преобразуем их с помощью One-Hot Encoding, получившийся датафрейм сохраним в переменную df_ohe. Используем параметр drop_first=True, чтобы избежать дамми-ловушки. Еще раз переименуем названия столбцов функцией."
   ]
  },
  {
   "cell_type": "code",
   "execution_count": 16,
   "metadata": {},
   "outputs": [
    {
     "data": {
      "text/html": [
       "<div>\n",
       "<style scoped>\n",
       "    .dataframe tbody tr th:only-of-type {\n",
       "        vertical-align: middle;\n",
       "    }\n",
       "\n",
       "    .dataframe tbody tr th {\n",
       "        vertical-align: top;\n",
       "    }\n",
       "\n",
       "    .dataframe thead th {\n",
       "        text-align: right;\n",
       "    }\n",
       "</style>\n",
       "<table border=\"1\" class=\"dataframe\">\n",
       "  <thead>\n",
       "    <tr style=\"text-align: right;\">\n",
       "      <th></th>\n",
       "      <th>credit_score</th>\n",
       "      <th>age</th>\n",
       "      <th>tenure</th>\n",
       "      <th>balance</th>\n",
       "      <th>num_of_products</th>\n",
       "      <th>has_cr_card</th>\n",
       "      <th>is_active_member</th>\n",
       "      <th>estimated_salary</th>\n",
       "      <th>exited</th>\n",
       "      <th>gender_male</th>\n",
       "      <th>geography_germany</th>\n",
       "      <th>geography_spain</th>\n",
       "    </tr>\n",
       "  </thead>\n",
       "  <tbody>\n",
       "    <tr>\n",
       "      <th>0</th>\n",
       "      <td>619</td>\n",
       "      <td>42</td>\n",
       "      <td>2</td>\n",
       "      <td>0.00</td>\n",
       "      <td>1</td>\n",
       "      <td>1</td>\n",
       "      <td>1</td>\n",
       "      <td>101348.88</td>\n",
       "      <td>1</td>\n",
       "      <td>0</td>\n",
       "      <td>0</td>\n",
       "      <td>0</td>\n",
       "    </tr>\n",
       "    <tr>\n",
       "      <th>1</th>\n",
       "      <td>608</td>\n",
       "      <td>41</td>\n",
       "      <td>1</td>\n",
       "      <td>83807.86</td>\n",
       "      <td>1</td>\n",
       "      <td>0</td>\n",
       "      <td>1</td>\n",
       "      <td>112542.58</td>\n",
       "      <td>0</td>\n",
       "      <td>0</td>\n",
       "      <td>0</td>\n",
       "      <td>1</td>\n",
       "    </tr>\n",
       "    <tr>\n",
       "      <th>2</th>\n",
       "      <td>502</td>\n",
       "      <td>42</td>\n",
       "      <td>8</td>\n",
       "      <td>159660.80</td>\n",
       "      <td>3</td>\n",
       "      <td>1</td>\n",
       "      <td>0</td>\n",
       "      <td>113931.57</td>\n",
       "      <td>1</td>\n",
       "      <td>0</td>\n",
       "      <td>0</td>\n",
       "      <td>0</td>\n",
       "    </tr>\n",
       "    <tr>\n",
       "      <th>3</th>\n",
       "      <td>699</td>\n",
       "      <td>39</td>\n",
       "      <td>1</td>\n",
       "      <td>0.00</td>\n",
       "      <td>2</td>\n",
       "      <td>0</td>\n",
       "      <td>0</td>\n",
       "      <td>93826.63</td>\n",
       "      <td>0</td>\n",
       "      <td>0</td>\n",
       "      <td>0</td>\n",
       "      <td>0</td>\n",
       "    </tr>\n",
       "    <tr>\n",
       "      <th>4</th>\n",
       "      <td>850</td>\n",
       "      <td>43</td>\n",
       "      <td>2</td>\n",
       "      <td>125510.82</td>\n",
       "      <td>1</td>\n",
       "      <td>1</td>\n",
       "      <td>1</td>\n",
       "      <td>79084.10</td>\n",
       "      <td>0</td>\n",
       "      <td>0</td>\n",
       "      <td>0</td>\n",
       "      <td>1</td>\n",
       "    </tr>\n",
       "  </tbody>\n",
       "</table>\n",
       "</div>"
      ],
      "text/plain": [
       "   credit_score  age  tenure    balance  num_of_products  has_cr_card  \\\n",
       "0           619   42       2       0.00                1            1   \n",
       "1           608   41       1   83807.86                1            0   \n",
       "2           502   42       8  159660.80                3            1   \n",
       "3           699   39       1       0.00                2            0   \n",
       "4           850   43       2  125510.82                1            1   \n",
       "\n",
       "   is_active_member  estimated_salary  exited  gender_male  geography_germany  \\\n",
       "0                 1         101348.88       1            0                  0   \n",
       "1                 1         112542.58       0            0                  0   \n",
       "2                 0         113931.57       1            0                  0   \n",
       "3                 0          93826.63       0            0                  0   \n",
       "4                 1          79084.10       0            0                  0   \n",
       "\n",
       "   geography_spain  \n",
       "0                0  \n",
       "1                1  \n",
       "2                0  \n",
       "3                0  \n",
       "4                1  "
      ]
     },
     "execution_count": 16,
     "metadata": {},
     "output_type": "execute_result"
    }
   ],
   "source": [
    "df_ohe = pd.get_dummies(df, columns = ['gender', 'geography'], drop_first=True)\n",
    "df_ohe.columns = clmn_rnm(df_ohe.columns.tolist())\n",
    "df_ohe.head()"
   ]
  },
  {
   "cell_type": "markdown",
   "metadata": {},
   "source": [
    "#### Вывод"
   ]
  },
  {
   "cell_type": "markdown",
   "metadata": {},
   "source": [
    " - Мы переименовали столбцы.\n",
    " - Удалили 2 столбца (RowNumber и Surname), которые не несли никакой пользы для модели.\n",
    " - В столбце Tenure пропуски заменили рандомным значением от 0 до 10, а тип данных на int64.\n",
    " - Столбцы geography и gender преобразовали с помощью One-Hot Encoding."
   ]
  },
  {
   "cell_type": "markdown",
   "metadata": {},
   "source": [
    "Реанимация клиентов. Возможна ситуация, когда клиент уходит из банка и закрывает счет, а потом возвращается и открывает новый счет. Мы можем попробовать поискать дубликаты, чтобы дополнительно спрогнозировать реанимацию клиентов, но нам недостаточно данных, чтобы идентифицировать таких клиентов."
   ]
  },
  {
   "cell_type": "markdown",
   "metadata": {},
   "source": [
    "## Исследование задачи"
   ]
  },
  {
   "cell_type": "markdown",
   "metadata": {},
   "source": [
    "### Разбиваем датафрейм на выборки"
   ]
  },
  {
   "cell_type": "code",
   "execution_count": 17,
   "metadata": {},
   "outputs": [],
   "source": [
    "features = df_ohe.drop(['exited'], axis = 1)\n",
    "target = df_ohe['exited']\n",
    "\n",
    "features_trn, features_tmp, target_trn, target_tmp = train_test_split(\n",
    "    features,\n",
    "    target,\n",
    "    stratify = target,\n",
    "    test_size=0.4,\n",
    "    random_state=12345)\n",
    "\n",
    "features_vld, features_tst, target_vld, target_tst = train_test_split(\n",
    "    features_tmp,\n",
    "    target_tmp,\n",
    "    stratify = target_tmp,\n",
    "    test_size=0.5,\n",
    "    random_state=12345)"
   ]
  },
  {
   "cell_type": "code",
   "execution_count": 18,
   "metadata": {},
   "outputs": [
    {
     "data": {
      "text/plain": [
       "((6000, 11), (2000, 11), (2000, 11))"
      ]
     },
     "execution_count": 18,
     "metadata": {},
     "output_type": "execute_result"
    }
   ],
   "source": [
    "features_trn.shape, features_vld.shape, features_tst.shape"
   ]
  },
  {
   "cell_type": "code",
   "execution_count": 19,
   "metadata": {},
   "outputs": [
    {
     "data": {
      "text/html": [
       "<div>\n",
       "<style scoped>\n",
       "    .dataframe tbody tr th:only-of-type {\n",
       "        vertical-align: middle;\n",
       "    }\n",
       "\n",
       "    .dataframe tbody tr th {\n",
       "        vertical-align: top;\n",
       "    }\n",
       "\n",
       "    .dataframe thead th {\n",
       "        text-align: right;\n",
       "    }\n",
       "</style>\n",
       "<table border=\"1\" class=\"dataframe\">\n",
       "  <thead>\n",
       "    <tr style=\"text-align: right;\">\n",
       "      <th></th>\n",
       "      <th>credit_score</th>\n",
       "      <th>age</th>\n",
       "      <th>tenure</th>\n",
       "      <th>balance</th>\n",
       "      <th>num_of_products</th>\n",
       "      <th>has_cr_card</th>\n",
       "      <th>is_active_member</th>\n",
       "      <th>estimated_salary</th>\n",
       "      <th>exited</th>\n",
       "      <th>gender_male</th>\n",
       "      <th>geography_germany</th>\n",
       "      <th>geography_spain</th>\n",
       "    </tr>\n",
       "  </thead>\n",
       "  <tbody>\n",
       "    <tr>\n",
       "      <th>0</th>\n",
       "      <td>619</td>\n",
       "      <td>42</td>\n",
       "      <td>2</td>\n",
       "      <td>0.00</td>\n",
       "      <td>1</td>\n",
       "      <td>1</td>\n",
       "      <td>1</td>\n",
       "      <td>101348.88</td>\n",
       "      <td>1</td>\n",
       "      <td>0</td>\n",
       "      <td>0</td>\n",
       "      <td>0</td>\n",
       "    </tr>\n",
       "    <tr>\n",
       "      <th>1</th>\n",
       "      <td>608</td>\n",
       "      <td>41</td>\n",
       "      <td>1</td>\n",
       "      <td>83807.86</td>\n",
       "      <td>1</td>\n",
       "      <td>0</td>\n",
       "      <td>1</td>\n",
       "      <td>112542.58</td>\n",
       "      <td>0</td>\n",
       "      <td>0</td>\n",
       "      <td>0</td>\n",
       "      <td>1</td>\n",
       "    </tr>\n",
       "    <tr>\n",
       "      <th>2</th>\n",
       "      <td>502</td>\n",
       "      <td>42</td>\n",
       "      <td>8</td>\n",
       "      <td>159660.80</td>\n",
       "      <td>3</td>\n",
       "      <td>1</td>\n",
       "      <td>0</td>\n",
       "      <td>113931.57</td>\n",
       "      <td>1</td>\n",
       "      <td>0</td>\n",
       "      <td>0</td>\n",
       "      <td>0</td>\n",
       "    </tr>\n",
       "    <tr>\n",
       "      <th>3</th>\n",
       "      <td>699</td>\n",
       "      <td>39</td>\n",
       "      <td>1</td>\n",
       "      <td>0.00</td>\n",
       "      <td>2</td>\n",
       "      <td>0</td>\n",
       "      <td>0</td>\n",
       "      <td>93826.63</td>\n",
       "      <td>0</td>\n",
       "      <td>0</td>\n",
       "      <td>0</td>\n",
       "      <td>0</td>\n",
       "    </tr>\n",
       "    <tr>\n",
       "      <th>4</th>\n",
       "      <td>850</td>\n",
       "      <td>43</td>\n",
       "      <td>2</td>\n",
       "      <td>125510.82</td>\n",
       "      <td>1</td>\n",
       "      <td>1</td>\n",
       "      <td>1</td>\n",
       "      <td>79084.10</td>\n",
       "      <td>0</td>\n",
       "      <td>0</td>\n",
       "      <td>0</td>\n",
       "      <td>1</td>\n",
       "    </tr>\n",
       "  </tbody>\n",
       "</table>\n",
       "</div>"
      ],
      "text/plain": [
       "   credit_score  age  tenure    balance  num_of_products  has_cr_card  \\\n",
       "0           619   42       2       0.00                1            1   \n",
       "1           608   41       1   83807.86                1            0   \n",
       "2           502   42       8  159660.80                3            1   \n",
       "3           699   39       1       0.00                2            0   \n",
       "4           850   43       2  125510.82                1            1   \n",
       "\n",
       "   is_active_member  estimated_salary  exited  gender_male  geography_germany  \\\n",
       "0                 1         101348.88       1            0                  0   \n",
       "1                 1         112542.58       0            0                  0   \n",
       "2                 0         113931.57       1            0                  0   \n",
       "3                 0          93826.63       0            0                  0   \n",
       "4                 1          79084.10       0            0                  0   \n",
       "\n",
       "   geography_spain  \n",
       "0                0  \n",
       "1                1  \n",
       "2                0  \n",
       "3                0  \n",
       "4                1  "
      ]
     },
     "execution_count": 19,
     "metadata": {},
     "output_type": "execute_result"
    }
   ],
   "source": [
    "df_ohe.head()"
   ]
  },
  {
   "cell_type": "code",
   "execution_count": 20,
   "metadata": {
    "scrolled": true
   },
   "outputs": [
    {
     "name": "stderr",
     "output_type": "stream",
     "text": [
      "/tmp/ipykernel_63/1575076623.py:4: SettingWithCopyWarning: \n",
      "A value is trying to be set on a copy of a slice from a DataFrame.\n",
      "Try using .loc[row_indexer,col_indexer] = value instead\n",
      "\n",
      "See the caveats in the documentation: https://pandas.pydata.org/pandas-docs/stable/user_guide/indexing.html#returning-a-view-versus-a-copy\n",
      "  features_trn[numeric] = scaler.transform(features_trn[numeric])\n",
      "/opt/conda/lib/python3.9/site-packages/pandas/core/indexing.py:1738: SettingWithCopyWarning: \n",
      "A value is trying to be set on a copy of a slice from a DataFrame.\n",
      "Try using .loc[row_indexer,col_indexer] = value instead\n",
      "\n",
      "See the caveats in the documentation: https://pandas.pydata.org/pandas-docs/stable/user_guide/indexing.html#returning-a-view-versus-a-copy\n",
      "  self._setitem_single_column(loc, value[:, i].tolist(), pi)\n",
      "/tmp/ipykernel_63/1575076623.py:5: SettingWithCopyWarning: \n",
      "A value is trying to be set on a copy of a slice from a DataFrame.\n",
      "Try using .loc[row_indexer,col_indexer] = value instead\n",
      "\n",
      "See the caveats in the documentation: https://pandas.pydata.org/pandas-docs/stable/user_guide/indexing.html#returning-a-view-versus-a-copy\n",
      "  features_vld[numeric] = scaler.transform(features_vld[numeric])\n",
      "/opt/conda/lib/python3.9/site-packages/pandas/core/indexing.py:1738: SettingWithCopyWarning: \n",
      "A value is trying to be set on a copy of a slice from a DataFrame.\n",
      "Try using .loc[row_indexer,col_indexer] = value instead\n",
      "\n",
      "See the caveats in the documentation: https://pandas.pydata.org/pandas-docs/stable/user_guide/indexing.html#returning-a-view-versus-a-copy\n",
      "  self._setitem_single_column(loc, value[:, i].tolist(), pi)\n",
      "/tmp/ipykernel_63/1575076623.py:6: SettingWithCopyWarning: \n",
      "A value is trying to be set on a copy of a slice from a DataFrame.\n",
      "Try using .loc[row_indexer,col_indexer] = value instead\n",
      "\n",
      "See the caveats in the documentation: https://pandas.pydata.org/pandas-docs/stable/user_guide/indexing.html#returning-a-view-versus-a-copy\n",
      "  features_tst[numeric] = scaler.transform(features_tst[numeric])\n",
      "/opt/conda/lib/python3.9/site-packages/pandas/core/indexing.py:1738: SettingWithCopyWarning: \n",
      "A value is trying to be set on a copy of a slice from a DataFrame.\n",
      "Try using .loc[row_indexer,col_indexer] = value instead\n",
      "\n",
      "See the caveats in the documentation: https://pandas.pydata.org/pandas-docs/stable/user_guide/indexing.html#returning-a-view-versus-a-copy\n",
      "  self._setitem_single_column(loc, value[:, i].tolist(), pi)\n"
     ]
    }
   ],
   "source": [
    "numeric = ['credit_score', 'age', 'balance', 'num_of_products', 'estimated_salary']\n",
    "scaler = StandardScaler()\n",
    "scaler.fit(features_trn[numeric])\n",
    "features_trn[numeric] = scaler.transform(features_trn[numeric])\n",
    "features_vld[numeric] = scaler.transform(features_vld[numeric])\n",
    "features_tst[numeric] = scaler.transform(features_tst[numeric])"
   ]
  },
  {
   "cell_type": "markdown",
   "metadata": {},
   "source": [
    "#### Вывод"
   ]
  },
  {
   "cell_type": "markdown",
   "metadata": {},
   "source": [
    "Мы разбили данные на 3 выборки (обучающую, валидационную и тестовую), используя функцию train_test_split с параметром stratify, и привели выборки к одинаковому масштабу, используя функцию StandardScaler."
   ]
  },
  {
   "cell_type": "markdown",
   "metadata": {},
   "source": [
    "### Подборка параметров"
   ]
  },
  {
   "cell_type": "markdown",
   "metadata": {},
   "source": [
    "#### Модель Логическая регрессия"
   ]
  },
  {
   "cell_type": "code",
   "execution_count": 21,
   "metadata": {},
   "outputs": [
    {
     "data": {
      "text/plain": [
       "(LogisticRegression(random_state=12345), 0.3076923076923077)"
      ]
     },
     "execution_count": 21,
     "metadata": {},
     "output_type": "execute_result"
    }
   ],
   "source": [
    "model_LR = LogisticRegression(random_state = 12345).fit(features_trn, target_trn)\n",
    "prediction = model_LR.predict(features_vld)\n",
    "model_LR, f1_score(target_vld, prediction)"
   ]
  },
  {
   "cell_type": "code",
   "execution_count": 22,
   "metadata": {},
   "outputs": [
    {
     "data": {
      "text/html": [
       "<div>\n",
       "<style scoped>\n",
       "    .dataframe tbody tr th:only-of-type {\n",
       "        vertical-align: middle;\n",
       "    }\n",
       "\n",
       "    .dataframe tbody tr th {\n",
       "        vertical-align: top;\n",
       "    }\n",
       "\n",
       "    .dataframe thead th {\n",
       "        text-align: right;\n",
       "    }\n",
       "</style>\n",
       "<table border=\"1\" class=\"dataframe\">\n",
       "  <thead>\n",
       "    <tr style=\"text-align: right;\">\n",
       "      <th></th>\n",
       "      <th>model_name</th>\n",
       "      <th>ballance_method</th>\n",
       "      <th>model_var</th>\n",
       "      <th>f1_score</th>\n",
       "    </tr>\n",
       "  </thead>\n",
       "  <tbody>\n",
       "    <tr>\n",
       "      <th>0</th>\n",
       "      <td>Логическая регрессия</td>\n",
       "      <td>NaN</td>\n",
       "      <td>NaN</td>\n",
       "      <td>0.307692</td>\n",
       "    </tr>\n",
       "  </tbody>\n",
       "</table>\n",
       "</div>"
      ],
      "text/plain": [
       "             model_name  ballance_method  model_var  f1_score\n",
       "0  Логическая регрессия              NaN        NaN  0.307692"
      ]
     },
     "execution_count": 22,
     "metadata": {},
     "output_type": "execute_result"
    }
   ],
   "source": [
    "model_data = {\n",
    "    'model_name': ['Логическая регрессия'],\n",
    "    'ballance_method': np.nan,\n",
    "    'model_var': np.nan,\n",
    "    'f1_score': f1_score(target_vld, prediction)\n",
    "}\n",
    "model = pd.DataFrame(model_data)\n",
    "top_models = model\n",
    "top_models"
   ]
  },
  {
   "cell_type": "markdown",
   "metadata": {},
   "source": [
    "F1-мера модели Логическая регрессия 0.328257."
   ]
  },
  {
   "cell_type": "markdown",
   "metadata": {},
   "source": [
    "#### Модель Дерево решений"
   ]
  },
  {
   "cell_type": "code",
   "execution_count": 23,
   "metadata": {},
   "outputs": [
    {
     "name": "stdout",
     "output_type": "stream",
     "text": [
      "CPU times: user 9.63 s, sys: 0 ns, total: 9.63 s\n",
      "Wall time: 10.8 s\n"
     ]
    },
    {
     "data": {
      "text/plain": [
       "{'max_depth': 6}"
      ]
     },
     "execution_count": 23,
     "metadata": {},
     "output_type": "execute_result"
    }
   ],
   "source": [
    "%%time\n",
    "model_DT = DecisionTreeClassifier(random_state = 12345) \n",
    "parametrs = {\n",
    "    'max_depth': range (1, 50, 1)\n",
    "}\n",
    "grid = GridSearchCV(model_DT, parametrs)\n",
    "grid.fit(features_trn, target_trn)\n",
    "grid.best_params_"
   ]
  },
  {
   "cell_type": "code",
   "execution_count": 24,
   "metadata": {},
   "outputs": [
    {
     "data": {
      "text/plain": [
       "6"
      ]
     },
     "execution_count": 24,
     "metadata": {},
     "output_type": "execute_result"
    }
   ],
   "source": [
    "tmpDepth = int(re.sub('[^0-9]', '', str(grid.best_params_)))\n",
    "tmpDepth"
   ]
  },
  {
   "cell_type": "code",
   "execution_count": 25,
   "metadata": {},
   "outputs": [
    {
     "data": {
      "text/plain": [
       "0.5839636913767019"
      ]
     },
     "execution_count": 25,
     "metadata": {},
     "output_type": "execute_result"
    }
   ],
   "source": [
    "model_DT = DecisionTreeClassifier(\n",
    "    random_state=12345,\n",
    "    max_depth=tmpDepth\n",
    ")\n",
    "model_DT.fit(features_trn, target_trn)\n",
    "predictions = model_DT.predict(features_vld)\n",
    "f1_score(target_vld, predictions)"
   ]
  },
  {
   "cell_type": "markdown",
   "metadata": {},
   "source": [
    "Результатом работы GreedSearchCV стала модель с параметром max_depth = 5. F1-мера равна 0.545454. Проверим этот результат перебором значения max_depth от 1 до 15, найдем наилучшую F1-меру."
   ]
  },
  {
   "cell_type": "code",
   "execution_count": 26,
   "metadata": {},
   "outputs": [],
   "source": [
    "DT_model_nan = None\n",
    "DT_model_nan_result = 0\n",
    "\n",
    "for depth in range(1, 15,1):\n",
    "    model_DT = DecisionTreeClassifier(random_state = 12345, max_depth = depth) \n",
    "    model_DT.fit(features_trn, target_trn) \n",
    "    predictions = model_DT.predict(features_vld)\n",
    "    result = f1_score(target_vld, predictions)\n",
    "    name = 'Дерево решений'\n",
    "    model_var = 'm_depth: {}'.format(depth)\n",
    "    model_data = {\n",
    "        'model_name': name,\n",
    "        'ballance_method': np.nan,\n",
    "        'model_var': model_var,\n",
    "        'f1_score': result}\n",
    "    model = model.append(model_data, ignore_index = True)\n",
    "    \n",
    "    if result > DT_model_nan_result:\n",
    "        DT_model_nan = model\n",
    "        DT_model_nan_result = result\n",
    "        DT_model_nan_depth = depth"
   ]
  },
  {
   "cell_type": "code",
   "execution_count": 27,
   "metadata": {},
   "outputs": [
    {
     "data": {
      "text/html": [
       "<div>\n",
       "<style scoped>\n",
       "    .dataframe tbody tr th:only-of-type {\n",
       "        vertical-align: middle;\n",
       "    }\n",
       "\n",
       "    .dataframe tbody tr th {\n",
       "        vertical-align: top;\n",
       "    }\n",
       "\n",
       "    .dataframe thead th {\n",
       "        text-align: right;\n",
       "    }\n",
       "</style>\n",
       "<table border=\"1\" class=\"dataframe\">\n",
       "  <thead>\n",
       "    <tr style=\"text-align: right;\">\n",
       "      <th></th>\n",
       "      <th>model_name</th>\n",
       "      <th>ballance_method</th>\n",
       "      <th>model_var</th>\n",
       "      <th>f1_score</th>\n",
       "    </tr>\n",
       "  </thead>\n",
       "  <tbody>\n",
       "    <tr>\n",
       "      <th>7</th>\n",
       "      <td>Дерево решений</td>\n",
       "      <td>NaN</td>\n",
       "      <td>m_depth: 7</td>\n",
       "      <td>0.594828</td>\n",
       "    </tr>\n",
       "    <tr>\n",
       "      <th>6</th>\n",
       "      <td>Дерево решений</td>\n",
       "      <td>NaN</td>\n",
       "      <td>m_depth: 6</td>\n",
       "      <td>0.583964</td>\n",
       "    </tr>\n",
       "    <tr>\n",
       "      <th>9</th>\n",
       "      <td>Дерево решений</td>\n",
       "      <td>NaN</td>\n",
       "      <td>m_depth: 9</td>\n",
       "      <td>0.562857</td>\n",
       "    </tr>\n",
       "    <tr>\n",
       "      <th>10</th>\n",
       "      <td>Дерево решений</td>\n",
       "      <td>NaN</td>\n",
       "      <td>m_depth: 10</td>\n",
       "      <td>0.559775</td>\n",
       "    </tr>\n",
       "    <tr>\n",
       "      <th>8</th>\n",
       "      <td>Дерево решений</td>\n",
       "      <td>NaN</td>\n",
       "      <td>m_depth: 8</td>\n",
       "      <td>0.559140</td>\n",
       "    </tr>\n",
       "  </tbody>\n",
       "</table>\n",
       "</div>"
      ],
      "text/plain": [
       "        model_name  ballance_method    model_var  f1_score\n",
       "7   Дерево решений              NaN   m_depth: 7  0.594828\n",
       "6   Дерево решений              NaN   m_depth: 6  0.583964\n",
       "9   Дерево решений              NaN   m_depth: 9  0.562857\n",
       "10  Дерево решений              NaN  m_depth: 10  0.559775\n",
       "8   Дерево решений              NaN   m_depth: 8  0.559140"
      ]
     },
     "execution_count": 27,
     "metadata": {},
     "output_type": "execute_result"
    }
   ],
   "source": [
    "model.sort_values('f1_score', ascending = False).head()"
   ]
  },
  {
   "cell_type": "markdown",
   "metadata": {},
   "source": [
    "Перебор выдал результат отличный от модуля GreedSearchCV: max_depth = 7, f1_score = 0.594828."
   ]
  },
  {
   "cell_type": "code",
   "execution_count": 28,
   "metadata": {},
   "outputs": [
    {
     "data": {
      "text/html": [
       "<div>\n",
       "<style scoped>\n",
       "    .dataframe tbody tr th:only-of-type {\n",
       "        vertical-align: middle;\n",
       "    }\n",
       "\n",
       "    .dataframe tbody tr th {\n",
       "        vertical-align: top;\n",
       "    }\n",
       "\n",
       "    .dataframe thead th {\n",
       "        text-align: right;\n",
       "    }\n",
       "</style>\n",
       "<table border=\"1\" class=\"dataframe\">\n",
       "  <thead>\n",
       "    <tr style=\"text-align: right;\">\n",
       "      <th></th>\n",
       "      <th>model_name</th>\n",
       "      <th>ballance_method</th>\n",
       "      <th>model_var</th>\n",
       "      <th>f1_score</th>\n",
       "    </tr>\n",
       "  </thead>\n",
       "  <tbody>\n",
       "    <tr>\n",
       "      <th>7</th>\n",
       "      <td>Дерево решений</td>\n",
       "      <td>NaN</td>\n",
       "      <td>m_depth: 7</td>\n",
       "      <td>0.594828</td>\n",
       "    </tr>\n",
       "    <tr>\n",
       "      <th>0</th>\n",
       "      <td>Логическая регрессия</td>\n",
       "      <td>NaN</td>\n",
       "      <td>NaN</td>\n",
       "      <td>0.307692</td>\n",
       "    </tr>\n",
       "  </tbody>\n",
       "</table>\n",
       "</div>"
      ],
      "text/plain": [
       "             model_name  ballance_method   model_var  f1_score\n",
       "7        Дерево решений              NaN  m_depth: 7  0.594828\n",
       "0  Логическая регрессия              NaN         NaN  0.307692"
      ]
     },
     "execution_count": 28,
     "metadata": {},
     "output_type": "execute_result"
    }
   ],
   "source": [
    "temp = [top_models, model.sort_values('f1_score',ascending=False).head(1)]\n",
    "top_models = pd.concat(temp)\n",
    "top_models.sort_values('f1_score',ascending=False)"
   ]
  },
  {
   "cell_type": "markdown",
   "metadata": {},
   "source": [
    "Лучший результат модели Дерево решений: m_depth = 7, f1_score =\t0.564828."
   ]
  },
  {
   "cell_type": "markdown",
   "metadata": {},
   "source": [
    "#### Модель Случайный лес"
   ]
  },
  {
   "cell_type": "code",
   "execution_count": 30,
   "metadata": {},
   "outputs": [
    {
     "name": "stdout",
     "output_type": "stream",
     "text": [
      "CPU times: user 1min 31s, sys: 470 ms, total: 1min 31s\n",
      "Wall time: 1min 32s\n"
     ]
    }
   ],
   "source": [
    "%%time\n",
    "\n",
    "RF_model_nan = None\n",
    "RF_model_nan_result = 0\n",
    "\n",
    "for depth in range(1, 15, 1):\n",
    "    for n_est in range(1, 50, 1):\n",
    "        model_RF = RandomForestClassifier(random_state = 12345, max_depth = depth, n_estimators = n_est) \n",
    "        model_RF.fit(features_trn, target_trn) \n",
    "        predictions = model_RF.predict(features_vld)\n",
    "        result = f1_score(target_vld, predictions)\n",
    "        name = 'Случайный лес'\n",
    "        model_var = 'm_depth: {}'.format(depth), 'n_est: {}'.format(n_est)\n",
    "        model_data = {\n",
    "            'model_name': name,\n",
    "            'ballance_method': np.nan,\n",
    "            'model_var': model_var,\n",
    "            'f1_score': result}\n",
    "        model = model.append(model_data, ignore_index=True)\n",
    "        \n",
    "        if result > RF_model_nan_result:\n",
    "            RF_model_nan = model\n",
    "            RF_model_nan_result = result\n",
    "            RF_model_nan_depth = depth\n",
    "            RF_model_nan_n_est = n_est"
   ]
  },
  {
   "cell_type": "code",
   "execution_count": 31,
   "metadata": {},
   "outputs": [
    {
     "data": {
      "text/html": [
       "<div>\n",
       "<style scoped>\n",
       "    .dataframe tbody tr th:only-of-type {\n",
       "        vertical-align: middle;\n",
       "    }\n",
       "\n",
       "    .dataframe tbody tr th {\n",
       "        vertical-align: top;\n",
       "    }\n",
       "\n",
       "    .dataframe thead th {\n",
       "        text-align: right;\n",
       "    }\n",
       "</style>\n",
       "<table border=\"1\" class=\"dataframe\">\n",
       "  <thead>\n",
       "    <tr style=\"text-align: right;\">\n",
       "      <th></th>\n",
       "      <th>model_name</th>\n",
       "      <th>ballance_method</th>\n",
       "      <th>model_var</th>\n",
       "      <th>f1_score</th>\n",
       "    </tr>\n",
       "  </thead>\n",
       "  <tbody>\n",
       "    <tr>\n",
       "      <th>660</th>\n",
       "      <td>Случайный лес</td>\n",
       "      <td>NaN</td>\n",
       "      <td>(m_depth: 14, n_est: 9)</td>\n",
       "      <td>0.614286</td>\n",
       "    </tr>\n",
       "    <tr>\n",
       "      <th>664</th>\n",
       "      <td>Случайный лес</td>\n",
       "      <td>NaN</td>\n",
       "      <td>(m_depth: 14, n_est: 13)</td>\n",
       "      <td>0.614265</td>\n",
       "    </tr>\n",
       "    <tr>\n",
       "      <th>672</th>\n",
       "      <td>Случайный лес</td>\n",
       "      <td>NaN</td>\n",
       "      <td>(m_depth: 14, n_est: 21)</td>\n",
       "      <td>0.614265</td>\n",
       "    </tr>\n",
       "    <tr>\n",
       "      <th>696</th>\n",
       "      <td>Случайный лес</td>\n",
       "      <td>NaN</td>\n",
       "      <td>(m_depth: 14, n_est: 45)</td>\n",
       "      <td>0.614243</td>\n",
       "    </tr>\n",
       "    <tr>\n",
       "      <th>676</th>\n",
       "      <td>Случайный лес</td>\n",
       "      <td>NaN</td>\n",
       "      <td>(m_depth: 14, n_est: 25)</td>\n",
       "      <td>0.614035</td>\n",
       "    </tr>\n",
       "  </tbody>\n",
       "</table>\n",
       "</div>"
      ],
      "text/plain": [
       "        model_name  ballance_method                 model_var  f1_score\n",
       "660  Случайный лес              NaN   (m_depth: 14, n_est: 9)  0.614286\n",
       "664  Случайный лес              NaN  (m_depth: 14, n_est: 13)  0.614265\n",
       "672  Случайный лес              NaN  (m_depth: 14, n_est: 21)  0.614265\n",
       "696  Случайный лес              NaN  (m_depth: 14, n_est: 45)  0.614243\n",
       "676  Случайный лес              NaN  (m_depth: 14, n_est: 25)  0.614035"
      ]
     },
     "execution_count": 31,
     "metadata": {},
     "output_type": "execute_result"
    }
   ],
   "source": [
    "model.sort_values('f1_score', ascending = False).head()"
   ]
  },
  {
   "cell_type": "code",
   "execution_count": 32,
   "metadata": {},
   "outputs": [
    {
     "data": {
      "text/html": [
       "<div>\n",
       "<style scoped>\n",
       "    .dataframe tbody tr th:only-of-type {\n",
       "        vertical-align: middle;\n",
       "    }\n",
       "\n",
       "    .dataframe tbody tr th {\n",
       "        vertical-align: top;\n",
       "    }\n",
       "\n",
       "    .dataframe thead th {\n",
       "        text-align: right;\n",
       "    }\n",
       "</style>\n",
       "<table border=\"1\" class=\"dataframe\">\n",
       "  <thead>\n",
       "    <tr style=\"text-align: right;\">\n",
       "      <th></th>\n",
       "      <th>model_name</th>\n",
       "      <th>ballance_method</th>\n",
       "      <th>model_var</th>\n",
       "      <th>f1_score</th>\n",
       "    </tr>\n",
       "  </thead>\n",
       "  <tbody>\n",
       "    <tr>\n",
       "      <th>660</th>\n",
       "      <td>Случайный лес</td>\n",
       "      <td>NaN</td>\n",
       "      <td>(m_depth: 14, n_est: 9)</td>\n",
       "      <td>0.614286</td>\n",
       "    </tr>\n",
       "    <tr>\n",
       "      <th>7</th>\n",
       "      <td>Дерево решений</td>\n",
       "      <td>NaN</td>\n",
       "      <td>m_depth: 7</td>\n",
       "      <td>0.594828</td>\n",
       "    </tr>\n",
       "    <tr>\n",
       "      <th>0</th>\n",
       "      <td>Логическая регрессия</td>\n",
       "      <td>NaN</td>\n",
       "      <td>NaN</td>\n",
       "      <td>0.307692</td>\n",
       "    </tr>\n",
       "  </tbody>\n",
       "</table>\n",
       "</div>"
      ],
      "text/plain": [
       "               model_name  ballance_method                model_var  f1_score\n",
       "660         Случайный лес              NaN  (m_depth: 14, n_est: 9)  0.614286\n",
       "7          Дерево решений              NaN               m_depth: 7  0.594828\n",
       "0    Логическая регрессия              NaN                      NaN  0.307692"
      ]
     },
     "execution_count": 32,
     "metadata": {},
     "output_type": "execute_result"
    }
   ],
   "source": [
    "temp = [top_models, model.sort_values('f1_score', ascending = False).head(1)]\n",
    "top_models = pd.concat(temp)\n",
    "top_models.sort_values('f1_score', ascending = False)"
   ]
  },
  {
   "cell_type": "markdown",
   "metadata": {},
   "source": [
    "### Вывод"
   ]
  },
  {
   "cell_type": "markdown",
   "metadata": {},
   "source": [
    "Мы разбили датафрейм на 3 выборки, построили 3 модели и выяснили, что: модель Случайный лес (с параметрами: глубина дерева (m_depth) 14 и число деревьев в лесу (n_est) 9) показала лучший результат F1-меры: 0.614286."
   ]
  },
  {
   "cell_type": "markdown",
   "metadata": {},
   "source": [
    "## Борьба с дисбалансом"
   ]
  },
  {
   "cell_type": "markdown",
   "metadata": {},
   "source": [
    "Попробуем решить проблему дисбаланса классов с помощью трех методов - взвешивания класcов, уменьшения и увеличения выборки. С помощью F1-меры выберем лучший метод."
   ]
  },
  {
   "cell_type": "markdown",
   "metadata": {},
   "source": [
    "### Взвешивание классов"
   ]
  },
  {
   "cell_type": "markdown",
   "metadata": {},
   "source": [
    "#### Модель Логическая регрессия"
   ]
  },
  {
   "cell_type": "code",
   "execution_count": 33,
   "metadata": {},
   "outputs": [
    {
     "data": {
      "text/html": [
       "<div>\n",
       "<style scoped>\n",
       "    .dataframe tbody tr th:only-of-type {\n",
       "        vertical-align: middle;\n",
       "    }\n",
       "\n",
       "    .dataframe tbody tr th {\n",
       "        vertical-align: top;\n",
       "    }\n",
       "\n",
       "    .dataframe thead th {\n",
       "        text-align: right;\n",
       "    }\n",
       "</style>\n",
       "<table border=\"1\" class=\"dataframe\">\n",
       "  <thead>\n",
       "    <tr style=\"text-align: right;\">\n",
       "      <th></th>\n",
       "      <th>model_name</th>\n",
       "      <th>ballance_method</th>\n",
       "      <th>model_var</th>\n",
       "      <th>f1_score</th>\n",
       "    </tr>\n",
       "  </thead>\n",
       "  <tbody>\n",
       "    <tr>\n",
       "      <th>0</th>\n",
       "      <td>Логическая регрессия</td>\n",
       "      <td>class_weight</td>\n",
       "      <td>NaN</td>\n",
       "      <td>0.528998</td>\n",
       "    </tr>\n",
       "  </tbody>\n",
       "</table>\n",
       "</div>"
      ],
      "text/plain": [
       "             model_name ballance_method  model_var  f1_score\n",
       "0  Логическая регрессия    class_weight        NaN  0.528998"
      ]
     },
     "execution_count": 33,
     "metadata": {},
     "output_type": "execute_result"
    }
   ],
   "source": [
    "model_LR = LogisticRegression(random_state = 12345, solver = 'liblinear', class_weight = 'balanced')\n",
    "model_LR.fit(features_trn, target_trn)\n",
    "prediction = model_LR.predict(features_vld)\n",
    "model_LR, f1_score(target_vld, prediction)\n",
    "model_data = {\n",
    "    'model_name': ['Логическая регрессия'],\n",
    "    'ballance_method': ['class_weight'],\n",
    "    'model_var': np.nan,\n",
    "    'f1_score': f1_score(target_vld, prediction)\n",
    "}\n",
    "model = pd.DataFrame(model_data)\n",
    "model.sort_values('f1_score', ascending = False).head()"
   ]
  },
  {
   "cell_type": "code",
   "execution_count": 34,
   "metadata": {},
   "outputs": [
    {
     "data": {
      "text/html": [
       "<div>\n",
       "<style scoped>\n",
       "    .dataframe tbody tr th:only-of-type {\n",
       "        vertical-align: middle;\n",
       "    }\n",
       "\n",
       "    .dataframe tbody tr th {\n",
       "        vertical-align: top;\n",
       "    }\n",
       "\n",
       "    .dataframe thead th {\n",
       "        text-align: right;\n",
       "    }\n",
       "</style>\n",
       "<table border=\"1\" class=\"dataframe\">\n",
       "  <thead>\n",
       "    <tr style=\"text-align: right;\">\n",
       "      <th></th>\n",
       "      <th>model_name</th>\n",
       "      <th>ballance_method</th>\n",
       "      <th>model_var</th>\n",
       "      <th>f1_score</th>\n",
       "    </tr>\n",
       "  </thead>\n",
       "  <tbody>\n",
       "    <tr>\n",
       "      <th>660</th>\n",
       "      <td>Случайный лес</td>\n",
       "      <td>NaN</td>\n",
       "      <td>(m_depth: 14, n_est: 9)</td>\n",
       "      <td>0.614286</td>\n",
       "    </tr>\n",
       "    <tr>\n",
       "      <th>7</th>\n",
       "      <td>Дерево решений</td>\n",
       "      <td>NaN</td>\n",
       "      <td>m_depth: 7</td>\n",
       "      <td>0.594828</td>\n",
       "    </tr>\n",
       "    <tr>\n",
       "      <th>0</th>\n",
       "      <td>Логическая регрессия</td>\n",
       "      <td>class_weight</td>\n",
       "      <td>NaN</td>\n",
       "      <td>0.528998</td>\n",
       "    </tr>\n",
       "    <tr>\n",
       "      <th>0</th>\n",
       "      <td>Логическая регрессия</td>\n",
       "      <td>NaN</td>\n",
       "      <td>NaN</td>\n",
       "      <td>0.307692</td>\n",
       "    </tr>\n",
       "  </tbody>\n",
       "</table>\n",
       "</div>"
      ],
      "text/plain": [
       "               model_name ballance_method                model_var  f1_score\n",
       "660         Случайный лес             NaN  (m_depth: 14, n_est: 9)  0.614286\n",
       "7          Дерево решений             NaN               m_depth: 7  0.594828\n",
       "0    Логическая регрессия    class_weight                      NaN  0.528998\n",
       "0    Логическая регрессия             NaN                      NaN  0.307692"
      ]
     },
     "execution_count": 34,
     "metadata": {},
     "output_type": "execute_result"
    }
   ],
   "source": [
    "temp = [top_models, model.sort_values('f1_score',ascending=False).head(1)]\n",
    "top_models = pd.concat(temp)\n",
    "top_models.sort_values('f1_score',ascending=False)"
   ]
  },
  {
   "cell_type": "markdown",
   "metadata": {},
   "source": [
    "Балансировка с помощью метода Взвешивания классов помогла улучшить F1-меру модели Логической регрессии до 0.528998."
   ]
  },
  {
   "cell_type": "markdown",
   "metadata": {},
   "source": [
    "#### Модель Дерево решений"
   ]
  },
  {
   "cell_type": "code",
   "execution_count": 35,
   "metadata": {},
   "outputs": [],
   "source": [
    "DT_model_cw = None\n",
    "DT_model_cw_result = 0\n",
    "\n",
    "for depth in range(1, 50, 1):\n",
    "    model_DT = DecisionTreeClassifier(random_state = 12345, max_depth = depth, class_weight = 'balanced') \n",
    "    model_DT.fit(features_trn, target_trn) \n",
    "    predictions = model_DT.predict(features_vld)\n",
    "    result = f1_score(target_vld, predictions)\n",
    "    name = 'Дерево решений'\n",
    "    model_var = 'm_depth: {}'.format(depth)\n",
    "    model_data = {\n",
    "        'model_name': name,\n",
    "        'ballance_method': 'class_weight',\n",
    "        'model_var': model_var,\n",
    "        'f1_score': result}\n",
    "    model = model.append(model_data, ignore_index = True)\n",
    "    \n",
    "    if result > DT_model_cw_result:\n",
    "        DT_model_cw = model\n",
    "        DT_model_cw_result = result\n",
    "        DT_model_cw_depth = depth"
   ]
  },
  {
   "cell_type": "code",
   "execution_count": 36,
   "metadata": {},
   "outputs": [
    {
     "data": {
      "text/html": [
       "<div>\n",
       "<style scoped>\n",
       "    .dataframe tbody tr th:only-of-type {\n",
       "        vertical-align: middle;\n",
       "    }\n",
       "\n",
       "    .dataframe tbody tr th {\n",
       "        vertical-align: top;\n",
       "    }\n",
       "\n",
       "    .dataframe thead th {\n",
       "        text-align: right;\n",
       "    }\n",
       "</style>\n",
       "<table border=\"1\" class=\"dataframe\">\n",
       "  <thead>\n",
       "    <tr style=\"text-align: right;\">\n",
       "      <th></th>\n",
       "      <th>model_name</th>\n",
       "      <th>ballance_method</th>\n",
       "      <th>model_var</th>\n",
       "      <th>f1_score</th>\n",
       "    </tr>\n",
       "  </thead>\n",
       "  <tbody>\n",
       "    <tr>\n",
       "      <th>6</th>\n",
       "      <td>Дерево решений</td>\n",
       "      <td>class_weight</td>\n",
       "      <td>m_depth: 6</td>\n",
       "      <td>0.576460</td>\n",
       "    </tr>\n",
       "    <tr>\n",
       "      <th>7</th>\n",
       "      <td>Дерево решений</td>\n",
       "      <td>class_weight</td>\n",
       "      <td>m_depth: 7</td>\n",
       "      <td>0.572983</td>\n",
       "    </tr>\n",
       "    <tr>\n",
       "      <th>4</th>\n",
       "      <td>Дерево решений</td>\n",
       "      <td>class_weight</td>\n",
       "      <td>m_depth: 4</td>\n",
       "      <td>0.560932</td>\n",
       "    </tr>\n",
       "    <tr>\n",
       "      <th>5</th>\n",
       "      <td>Дерево решений</td>\n",
       "      <td>class_weight</td>\n",
       "      <td>m_depth: 5</td>\n",
       "      <td>0.554197</td>\n",
       "    </tr>\n",
       "    <tr>\n",
       "      <th>8</th>\n",
       "      <td>Дерево решений</td>\n",
       "      <td>class_weight</td>\n",
       "      <td>m_depth: 8</td>\n",
       "      <td>0.547920</td>\n",
       "    </tr>\n",
       "  </tbody>\n",
       "</table>\n",
       "</div>"
      ],
      "text/plain": [
       "       model_name ballance_method   model_var  f1_score\n",
       "6  Дерево решений    class_weight  m_depth: 6  0.576460\n",
       "7  Дерево решений    class_weight  m_depth: 7  0.572983\n",
       "4  Дерево решений    class_weight  m_depth: 4  0.560932\n",
       "5  Дерево решений    class_weight  m_depth: 5  0.554197\n",
       "8  Дерево решений    class_weight  m_depth: 8  0.547920"
      ]
     },
     "execution_count": 36,
     "metadata": {},
     "output_type": "execute_result"
    }
   ],
   "source": [
    "model.sort_values('f1_score', ascending = False).head()"
   ]
  },
  {
   "cell_type": "code",
   "execution_count": 37,
   "metadata": {},
   "outputs": [
    {
     "data": {
      "text/html": [
       "<div>\n",
       "<style scoped>\n",
       "    .dataframe tbody tr th:only-of-type {\n",
       "        vertical-align: middle;\n",
       "    }\n",
       "\n",
       "    .dataframe tbody tr th {\n",
       "        vertical-align: top;\n",
       "    }\n",
       "\n",
       "    .dataframe thead th {\n",
       "        text-align: right;\n",
       "    }\n",
       "</style>\n",
       "<table border=\"1\" class=\"dataframe\">\n",
       "  <thead>\n",
       "    <tr style=\"text-align: right;\">\n",
       "      <th></th>\n",
       "      <th>model_name</th>\n",
       "      <th>ballance_method</th>\n",
       "      <th>model_var</th>\n",
       "      <th>f1_score</th>\n",
       "    </tr>\n",
       "  </thead>\n",
       "  <tbody>\n",
       "    <tr>\n",
       "      <th>660</th>\n",
       "      <td>Случайный лес</td>\n",
       "      <td>NaN</td>\n",
       "      <td>(m_depth: 14, n_est: 9)</td>\n",
       "      <td>0.614286</td>\n",
       "    </tr>\n",
       "    <tr>\n",
       "      <th>7</th>\n",
       "      <td>Дерево решений</td>\n",
       "      <td>NaN</td>\n",
       "      <td>m_depth: 7</td>\n",
       "      <td>0.594828</td>\n",
       "    </tr>\n",
       "    <tr>\n",
       "      <th>6</th>\n",
       "      <td>Дерево решений</td>\n",
       "      <td>class_weight</td>\n",
       "      <td>m_depth: 6</td>\n",
       "      <td>0.576460</td>\n",
       "    </tr>\n",
       "    <tr>\n",
       "      <th>0</th>\n",
       "      <td>Логическая регрессия</td>\n",
       "      <td>class_weight</td>\n",
       "      <td>NaN</td>\n",
       "      <td>0.528998</td>\n",
       "    </tr>\n",
       "    <tr>\n",
       "      <th>0</th>\n",
       "      <td>Логическая регрессия</td>\n",
       "      <td>NaN</td>\n",
       "      <td>NaN</td>\n",
       "      <td>0.307692</td>\n",
       "    </tr>\n",
       "  </tbody>\n",
       "</table>\n",
       "</div>"
      ],
      "text/plain": [
       "               model_name ballance_method                model_var  f1_score\n",
       "660         Случайный лес             NaN  (m_depth: 14, n_est: 9)  0.614286\n",
       "7          Дерево решений             NaN               m_depth: 7  0.594828\n",
       "6          Дерево решений    class_weight               m_depth: 6  0.576460\n",
       "0    Логическая регрессия    class_weight                      NaN  0.528998\n",
       "0    Логическая регрессия             NaN                      NaN  0.307692"
      ]
     },
     "execution_count": 37,
     "metadata": {},
     "output_type": "execute_result"
    }
   ],
   "source": [
    "temp = [top_models, model.sort_values('f1_score', ascending = False).head(1)]\n",
    "top_models = pd.concat(temp)\n",
    "top_models.sort_values('f1_score', ascending = False)"
   ]
  },
  {
   "cell_type": "markdown",
   "metadata": {},
   "source": [
    "Балансировка с помощью метода Взвешивания классов не смогла улучшить F1-меру модели Дерево решений."
   ]
  },
  {
   "cell_type": "markdown",
   "metadata": {},
   "source": [
    "#### Модель Случайный лес"
   ]
  },
  {
   "cell_type": "code",
   "execution_count": 38,
   "metadata": {},
   "outputs": [
    {
     "name": "stdout",
     "output_type": "stream",
     "text": [
      "CPU times: user 1min 30s, sys: 523 ms, total: 1min 31s\n",
      "Wall time: 1min 31s\n"
     ]
    }
   ],
   "source": [
    "%%time\n",
    "\n",
    "RF_model_cw = None\n",
    "RF_model_cw_result = 0\n",
    "\n",
    "for depth in range(1, 15, 1):\n",
    "    for n_est in range(1, 50, 1):\n",
    "        model_RF = RandomForestClassifier(random_state = 12345, max_depth = depth, n_estimators = n_est, class_weight='balanced') \n",
    "        model_RF.fit(features_trn, target_trn) \n",
    "        predictions = model_RF.predict(features_vld)\n",
    "        result = f1_score(target_vld, predictions)\n",
    "        name = 'Случайный лес'\n",
    "        model_var = 'm_depth: {}'.format(depth), 'n_est: {}'.format(n_est)\n",
    "        model_data = {\n",
    "            'model_name': name,\n",
    "            'ballance_method': 'class_weight',\n",
    "            'model_var': model_var,\n",
    "            'f1_score': result}\n",
    "        model = model.append(model_data, ignore_index = True)\n",
    "        \n",
    "        if result > RF_model_cw_result:\n",
    "            RF_model_cw = model\n",
    "            RF_model_cw_result = result\n",
    "            RF_model_cw_depth = depth\n",
    "            RF_model_cw_n_est = n_est"
   ]
  },
  {
   "cell_type": "code",
   "execution_count": 39,
   "metadata": {},
   "outputs": [
    {
     "data": {
      "text/html": [
       "<div>\n",
       "<style scoped>\n",
       "    .dataframe tbody tr th:only-of-type {\n",
       "        vertical-align: middle;\n",
       "    }\n",
       "\n",
       "    .dataframe tbody tr th {\n",
       "        vertical-align: top;\n",
       "    }\n",
       "\n",
       "    .dataframe thead th {\n",
       "        text-align: right;\n",
       "    }\n",
       "</style>\n",
       "<table border=\"1\" class=\"dataframe\">\n",
       "  <thead>\n",
       "    <tr style=\"text-align: right;\">\n",
       "      <th></th>\n",
       "      <th>model_name</th>\n",
       "      <th>ballance_method</th>\n",
       "      <th>model_var</th>\n",
       "      <th>f1_score</th>\n",
       "    </tr>\n",
       "  </thead>\n",
       "  <tbody>\n",
       "    <tr>\n",
       "      <th>559</th>\n",
       "      <td>Случайный лес</td>\n",
       "      <td>class_weight</td>\n",
       "      <td>(m_depth: 11, n_est: 20)</td>\n",
       "      <td>0.653465</td>\n",
       "    </tr>\n",
       "    <tr>\n",
       "      <th>537</th>\n",
       "      <td>Случайный лес</td>\n",
       "      <td>class_weight</td>\n",
       "      <td>(m_depth: 10, n_est: 47)</td>\n",
       "      <td>0.652226</td>\n",
       "    </tr>\n",
       "    <tr>\n",
       "      <th>428</th>\n",
       "      <td>Случайный лес</td>\n",
       "      <td>class_weight</td>\n",
       "      <td>(m_depth: 8, n_est: 36)</td>\n",
       "      <td>0.651736</td>\n",
       "    </tr>\n",
       "    <tr>\n",
       "      <th>536</th>\n",
       "      <td>Случайный лес</td>\n",
       "      <td>class_weight</td>\n",
       "      <td>(m_depth: 10, n_est: 46)</td>\n",
       "      <td>0.651442</td>\n",
       "    </tr>\n",
       "    <tr>\n",
       "      <th>421</th>\n",
       "      <td>Случайный лес</td>\n",
       "      <td>class_weight</td>\n",
       "      <td>(m_depth: 8, n_est: 29)</td>\n",
       "      <td>0.651111</td>\n",
       "    </tr>\n",
       "  </tbody>\n",
       "</table>\n",
       "</div>"
      ],
      "text/plain": [
       "        model_name ballance_method                 model_var  f1_score\n",
       "559  Случайный лес    class_weight  (m_depth: 11, n_est: 20)  0.653465\n",
       "537  Случайный лес    class_weight  (m_depth: 10, n_est: 47)  0.652226\n",
       "428  Случайный лес    class_weight   (m_depth: 8, n_est: 36)  0.651736\n",
       "536  Случайный лес    class_weight  (m_depth: 10, n_est: 46)  0.651442\n",
       "421  Случайный лес    class_weight   (m_depth: 8, n_est: 29)  0.651111"
      ]
     },
     "execution_count": 39,
     "metadata": {},
     "output_type": "execute_result"
    }
   ],
   "source": [
    "model.sort_values('f1_score',ascending=False).head()"
   ]
  },
  {
   "cell_type": "code",
   "execution_count": 40,
   "metadata": {},
   "outputs": [
    {
     "data": {
      "text/html": [
       "<div>\n",
       "<style scoped>\n",
       "    .dataframe tbody tr th:only-of-type {\n",
       "        vertical-align: middle;\n",
       "    }\n",
       "\n",
       "    .dataframe tbody tr th {\n",
       "        vertical-align: top;\n",
       "    }\n",
       "\n",
       "    .dataframe thead th {\n",
       "        text-align: right;\n",
       "    }\n",
       "</style>\n",
       "<table border=\"1\" class=\"dataframe\">\n",
       "  <thead>\n",
       "    <tr style=\"text-align: right;\">\n",
       "      <th></th>\n",
       "      <th>model_name</th>\n",
       "      <th>ballance_method</th>\n",
       "      <th>model_var</th>\n",
       "      <th>f1_score</th>\n",
       "    </tr>\n",
       "  </thead>\n",
       "  <tbody>\n",
       "    <tr>\n",
       "      <th>559</th>\n",
       "      <td>Случайный лес</td>\n",
       "      <td>class_weight</td>\n",
       "      <td>(m_depth: 11, n_est: 20)</td>\n",
       "      <td>0.653465</td>\n",
       "    </tr>\n",
       "    <tr>\n",
       "      <th>660</th>\n",
       "      <td>Случайный лес</td>\n",
       "      <td>NaN</td>\n",
       "      <td>(m_depth: 14, n_est: 9)</td>\n",
       "      <td>0.614286</td>\n",
       "    </tr>\n",
       "    <tr>\n",
       "      <th>7</th>\n",
       "      <td>Дерево решений</td>\n",
       "      <td>NaN</td>\n",
       "      <td>m_depth: 7</td>\n",
       "      <td>0.594828</td>\n",
       "    </tr>\n",
       "    <tr>\n",
       "      <th>6</th>\n",
       "      <td>Дерево решений</td>\n",
       "      <td>class_weight</td>\n",
       "      <td>m_depth: 6</td>\n",
       "      <td>0.576460</td>\n",
       "    </tr>\n",
       "    <tr>\n",
       "      <th>0</th>\n",
       "      <td>Логическая регрессия</td>\n",
       "      <td>class_weight</td>\n",
       "      <td>NaN</td>\n",
       "      <td>0.528998</td>\n",
       "    </tr>\n",
       "    <tr>\n",
       "      <th>0</th>\n",
       "      <td>Логическая регрессия</td>\n",
       "      <td>NaN</td>\n",
       "      <td>NaN</td>\n",
       "      <td>0.307692</td>\n",
       "    </tr>\n",
       "  </tbody>\n",
       "</table>\n",
       "</div>"
      ],
      "text/plain": [
       "               model_name ballance_method                 model_var  f1_score\n",
       "559         Случайный лес    class_weight  (m_depth: 11, n_est: 20)  0.653465\n",
       "660         Случайный лес             NaN   (m_depth: 14, n_est: 9)  0.614286\n",
       "7          Дерево решений             NaN                m_depth: 7  0.594828\n",
       "6          Дерево решений    class_weight                m_depth: 6  0.576460\n",
       "0    Логическая регрессия    class_weight                       NaN  0.528998\n",
       "0    Логическая регрессия             NaN                       NaN  0.307692"
      ]
     },
     "execution_count": 40,
     "metadata": {},
     "output_type": "execute_result"
    }
   ],
   "source": [
    "temp = [top_models, model.sort_values('f1_score',ascending=False).head(1)]\n",
    "top_models = pd.concat(temp)\n",
    "top_models.sort_values('f1_score',ascending=False)"
   ]
  },
  {
   "cell_type": "markdown",
   "metadata": {},
   "source": [
    "Баллансировка с помощью метода Взвешивания классов помогла улучшить F1-меру модели Случайный лес."
   ]
  },
  {
   "cell_type": "markdown",
   "metadata": {},
   "source": [
    "#### Вывод"
   ]
  },
  {
   "cell_type": "markdown",
   "metadata": {},
   "source": [
    "После балансировки методом Взвешивания классов лучший результат показала модель Случайный лес (с параметрами: глубина дерева (m_depth) 11 и число деревьев в лесу (n_est) 20) показала лучший результат F1-меры 0.653465."
   ]
  },
  {
   "cell_type": "markdown",
   "metadata": {},
   "source": [
    "### Увеличение выборки (Upsampling)"
   ]
  },
  {
   "cell_type": "markdown",
   "metadata": {},
   "source": [
    "Напишем функцию для увеличения выборки"
   ]
  },
  {
   "cell_type": "code",
   "execution_count": 41,
   "metadata": {},
   "outputs": [],
   "source": [
    "def upsampling (features, target, repeat):\n",
    "    \n",
    "    target_one=target[target==1]\n",
    "    target_null=target[target==0]\n",
    "    features_one=features[target==1]\n",
    "    features_null=features[target==0]\n",
    "    \n",
    "    upsampling_features=pd.concat([features_null]+[features_one]*repeat)\n",
    "    upsampling_target=pd.concat([target_null]+[target_one]*repeat)\n",
    "    \n",
    "    upsampling_features,upsampling_target=shuffle(upsampling_features,upsampling_target,random_state=12345)\n",
    "    \n",
    "    return upsampling_features,upsampling_target\n",
    "\n",
    "features_upsampled, target_upsampled = upsampling (features_trn, target_trn, 4)"
   ]
  },
  {
   "cell_type": "code",
   "execution_count": 42,
   "metadata": {},
   "outputs": [
    {
     "data": {
      "text/plain": [
       "(9666, 11)"
      ]
     },
     "execution_count": 42,
     "metadata": {},
     "output_type": "execute_result"
    }
   ],
   "source": [
    "features_upsampled.shape"
   ]
  },
  {
   "cell_type": "code",
   "execution_count": 43,
   "metadata": {},
   "outputs": [
    {
     "data": {
      "text/plain": [
       "(9666,)"
      ]
     },
     "execution_count": 43,
     "metadata": {},
     "output_type": "execute_result"
    }
   ],
   "source": [
    "target_upsampled.shape"
   ]
  },
  {
   "cell_type": "markdown",
   "metadata": {},
   "source": [
    "#### Модель Логическая регрессия"
   ]
  },
  {
   "cell_type": "code",
   "execution_count": 44,
   "metadata": {},
   "outputs": [
    {
     "data": {
      "text/html": [
       "<div>\n",
       "<style scoped>\n",
       "    .dataframe tbody tr th:only-of-type {\n",
       "        vertical-align: middle;\n",
       "    }\n",
       "\n",
       "    .dataframe tbody tr th {\n",
       "        vertical-align: top;\n",
       "    }\n",
       "\n",
       "    .dataframe thead th {\n",
       "        text-align: right;\n",
       "    }\n",
       "</style>\n",
       "<table border=\"1\" class=\"dataframe\">\n",
       "  <thead>\n",
       "    <tr style=\"text-align: right;\">\n",
       "      <th></th>\n",
       "      <th>model_name</th>\n",
       "      <th>ballance_method</th>\n",
       "      <th>model_var</th>\n",
       "      <th>f1_score</th>\n",
       "    </tr>\n",
       "  </thead>\n",
       "  <tbody>\n",
       "    <tr>\n",
       "      <th>0</th>\n",
       "      <td>Логическая регрессия</td>\n",
       "      <td>upsampling</td>\n",
       "      <td>NaN</td>\n",
       "      <td>0.528534</td>\n",
       "    </tr>\n",
       "  </tbody>\n",
       "</table>\n",
       "</div>"
      ],
      "text/plain": [
       "             model_name ballance_method  model_var  f1_score\n",
       "0  Логическая регрессия      upsampling        NaN  0.528534"
      ]
     },
     "execution_count": 44,
     "metadata": {},
     "output_type": "execute_result"
    }
   ],
   "source": [
    "model_LR = LogisticRegression(random_state = 12345, solver = 'liblinear', class_weight = 'balanced')\n",
    "model_LR.fit(features_upsampled, target_upsampled)\n",
    "prediction=model_LR.predict(features_vld)\n",
    "model_LR, f1_score(target_vld, prediction)\n",
    "model_data = {\n",
    "    'model_name': ['Логическая регрессия'],\n",
    "    'ballance_method': ['upsampling'],\n",
    "    'model_var': np.nan,\n",
    "    'f1_score': f1_score(target_vld, prediction)\n",
    "}\n",
    "model = pd.DataFrame(model_data)\n",
    "model.sort_values('f1_score', ascending = False).head()"
   ]
  },
  {
   "cell_type": "code",
   "execution_count": 45,
   "metadata": {},
   "outputs": [
    {
     "data": {
      "text/html": [
       "<div>\n",
       "<style scoped>\n",
       "    .dataframe tbody tr th:only-of-type {\n",
       "        vertical-align: middle;\n",
       "    }\n",
       "\n",
       "    .dataframe tbody tr th {\n",
       "        vertical-align: top;\n",
       "    }\n",
       "\n",
       "    .dataframe thead th {\n",
       "        text-align: right;\n",
       "    }\n",
       "</style>\n",
       "<table border=\"1\" class=\"dataframe\">\n",
       "  <thead>\n",
       "    <tr style=\"text-align: right;\">\n",
       "      <th></th>\n",
       "      <th>model_name</th>\n",
       "      <th>ballance_method</th>\n",
       "      <th>model_var</th>\n",
       "      <th>f1_score</th>\n",
       "    </tr>\n",
       "  </thead>\n",
       "  <tbody>\n",
       "    <tr>\n",
       "      <th>559</th>\n",
       "      <td>Случайный лес</td>\n",
       "      <td>class_weight</td>\n",
       "      <td>(m_depth: 11, n_est: 20)</td>\n",
       "      <td>0.653465</td>\n",
       "    </tr>\n",
       "    <tr>\n",
       "      <th>660</th>\n",
       "      <td>Случайный лес</td>\n",
       "      <td>NaN</td>\n",
       "      <td>(m_depth: 14, n_est: 9)</td>\n",
       "      <td>0.614286</td>\n",
       "    </tr>\n",
       "    <tr>\n",
       "      <th>7</th>\n",
       "      <td>Дерево решений</td>\n",
       "      <td>NaN</td>\n",
       "      <td>m_depth: 7</td>\n",
       "      <td>0.594828</td>\n",
       "    </tr>\n",
       "    <tr>\n",
       "      <th>6</th>\n",
       "      <td>Дерево решений</td>\n",
       "      <td>class_weight</td>\n",
       "      <td>m_depth: 6</td>\n",
       "      <td>0.576460</td>\n",
       "    </tr>\n",
       "    <tr>\n",
       "      <th>0</th>\n",
       "      <td>Логическая регрессия</td>\n",
       "      <td>class_weight</td>\n",
       "      <td>NaN</td>\n",
       "      <td>0.528998</td>\n",
       "    </tr>\n",
       "    <tr>\n",
       "      <th>0</th>\n",
       "      <td>Логическая регрессия</td>\n",
       "      <td>upsampling</td>\n",
       "      <td>NaN</td>\n",
       "      <td>0.528534</td>\n",
       "    </tr>\n",
       "    <tr>\n",
       "      <th>0</th>\n",
       "      <td>Логическая регрессия</td>\n",
       "      <td>NaN</td>\n",
       "      <td>NaN</td>\n",
       "      <td>0.307692</td>\n",
       "    </tr>\n",
       "  </tbody>\n",
       "</table>\n",
       "</div>"
      ],
      "text/plain": [
       "               model_name ballance_method                 model_var  f1_score\n",
       "559         Случайный лес    class_weight  (m_depth: 11, n_est: 20)  0.653465\n",
       "660         Случайный лес             NaN   (m_depth: 14, n_est: 9)  0.614286\n",
       "7          Дерево решений             NaN                m_depth: 7  0.594828\n",
       "6          Дерево решений    class_weight                m_depth: 6  0.576460\n",
       "0    Логическая регрессия    class_weight                       NaN  0.528998\n",
       "0    Логическая регрессия      upsampling                       NaN  0.528534\n",
       "0    Логическая регрессия             NaN                       NaN  0.307692"
      ]
     },
     "execution_count": 45,
     "metadata": {},
     "output_type": "execute_result"
    }
   ],
   "source": [
    "temp = [top_models, model.sort_values('f1_score', ascending = False).head(1)]\n",
    "top_models = pd.concat(temp)\n",
    "top_models.sort_values('f1_score', ascending = False)"
   ]
  },
  {
   "cell_type": "markdown",
   "metadata": {},
   "source": [
    "Балансировка с помощью Upsampling не смогла улучшить F1-меру модели Логической регрессии."
   ]
  },
  {
   "cell_type": "markdown",
   "metadata": {},
   "source": [
    "#### Модель Дерево решений"
   ]
  },
  {
   "cell_type": "code",
   "execution_count": 46,
   "metadata": {},
   "outputs": [],
   "source": [
    "DT_model_up = None\n",
    "DT_model_up_result = 0\n",
    "\n",
    "for depth in range(1, 50, 1):\n",
    "    model_DT = DecisionTreeClassifier(random_state = 12345, max_depth = depth, class_weight = 'balanced') \n",
    "    model_DT.fit(features_upsampled, target_upsampled) \n",
    "    predictions = model_DT.predict(features_vld)\n",
    "    result = f1_score(target_vld, predictions)\n",
    "    name = 'Дерево решений'\n",
    "    model_var = 'm_depth: {}'.format(depth)\n",
    "    model_data = {\n",
    "        'model_name': name,\n",
    "        'ballance_method': 'upsampling',\n",
    "        'model_var': model_var,\n",
    "        'f1_score': result}\n",
    "    model = model.append(model_data, ignore_index = True)\n",
    "    \n",
    "    if result > DT_model_up_result:\n",
    "        DT_model_up = model\n",
    "        DT_model_up_result = result\n",
    "        DT_model_up_depth = depth"
   ]
  },
  {
   "cell_type": "code",
   "execution_count": 47,
   "metadata": {},
   "outputs": [
    {
     "data": {
      "text/html": [
       "<div>\n",
       "<style scoped>\n",
       "    .dataframe tbody tr th:only-of-type {\n",
       "        vertical-align: middle;\n",
       "    }\n",
       "\n",
       "    .dataframe tbody tr th {\n",
       "        vertical-align: top;\n",
       "    }\n",
       "\n",
       "    .dataframe thead th {\n",
       "        text-align: right;\n",
       "    }\n",
       "</style>\n",
       "<table border=\"1\" class=\"dataframe\">\n",
       "  <thead>\n",
       "    <tr style=\"text-align: right;\">\n",
       "      <th></th>\n",
       "      <th>model_name</th>\n",
       "      <th>ballance_method</th>\n",
       "      <th>model_var</th>\n",
       "      <th>f1_score</th>\n",
       "    </tr>\n",
       "  </thead>\n",
       "  <tbody>\n",
       "    <tr>\n",
       "      <th>6</th>\n",
       "      <td>Дерево решений</td>\n",
       "      <td>upsampling</td>\n",
       "      <td>m_depth: 6</td>\n",
       "      <td>0.576460</td>\n",
       "    </tr>\n",
       "    <tr>\n",
       "      <th>7</th>\n",
       "      <td>Дерево решений</td>\n",
       "      <td>upsampling</td>\n",
       "      <td>m_depth: 7</td>\n",
       "      <td>0.572983</td>\n",
       "    </tr>\n",
       "    <tr>\n",
       "      <th>4</th>\n",
       "      <td>Дерево решений</td>\n",
       "      <td>upsampling</td>\n",
       "      <td>m_depth: 4</td>\n",
       "      <td>0.560932</td>\n",
       "    </tr>\n",
       "    <tr>\n",
       "      <th>5</th>\n",
       "      <td>Дерево решений</td>\n",
       "      <td>upsampling</td>\n",
       "      <td>m_depth: 5</td>\n",
       "      <td>0.554649</td>\n",
       "    </tr>\n",
       "    <tr>\n",
       "      <th>8</th>\n",
       "      <td>Дерево решений</td>\n",
       "      <td>upsampling</td>\n",
       "      <td>m_depth: 8</td>\n",
       "      <td>0.548736</td>\n",
       "    </tr>\n",
       "  </tbody>\n",
       "</table>\n",
       "</div>"
      ],
      "text/plain": [
       "       model_name ballance_method   model_var  f1_score\n",
       "6  Дерево решений      upsampling  m_depth: 6  0.576460\n",
       "7  Дерево решений      upsampling  m_depth: 7  0.572983\n",
       "4  Дерево решений      upsampling  m_depth: 4  0.560932\n",
       "5  Дерево решений      upsampling  m_depth: 5  0.554649\n",
       "8  Дерево решений      upsampling  m_depth: 8  0.548736"
      ]
     },
     "execution_count": 47,
     "metadata": {},
     "output_type": "execute_result"
    }
   ],
   "source": [
    "model.sort_values('f1_score', ascending = False).head()"
   ]
  },
  {
   "cell_type": "code",
   "execution_count": 48,
   "metadata": {},
   "outputs": [
    {
     "data": {
      "text/html": [
       "<div>\n",
       "<style scoped>\n",
       "    .dataframe tbody tr th:only-of-type {\n",
       "        vertical-align: middle;\n",
       "    }\n",
       "\n",
       "    .dataframe tbody tr th {\n",
       "        vertical-align: top;\n",
       "    }\n",
       "\n",
       "    .dataframe thead th {\n",
       "        text-align: right;\n",
       "    }\n",
       "</style>\n",
       "<table border=\"1\" class=\"dataframe\">\n",
       "  <thead>\n",
       "    <tr style=\"text-align: right;\">\n",
       "      <th></th>\n",
       "      <th>model_name</th>\n",
       "      <th>ballance_method</th>\n",
       "      <th>model_var</th>\n",
       "      <th>f1_score</th>\n",
       "    </tr>\n",
       "  </thead>\n",
       "  <tbody>\n",
       "    <tr>\n",
       "      <th>559</th>\n",
       "      <td>Случайный лес</td>\n",
       "      <td>class_weight</td>\n",
       "      <td>(m_depth: 11, n_est: 20)</td>\n",
       "      <td>0.653465</td>\n",
       "    </tr>\n",
       "    <tr>\n",
       "      <th>660</th>\n",
       "      <td>Случайный лес</td>\n",
       "      <td>NaN</td>\n",
       "      <td>(m_depth: 14, n_est: 9)</td>\n",
       "      <td>0.614286</td>\n",
       "    </tr>\n",
       "    <tr>\n",
       "      <th>7</th>\n",
       "      <td>Дерево решений</td>\n",
       "      <td>NaN</td>\n",
       "      <td>m_depth: 7</td>\n",
       "      <td>0.594828</td>\n",
       "    </tr>\n",
       "    <tr>\n",
       "      <th>6</th>\n",
       "      <td>Дерево решений</td>\n",
       "      <td>class_weight</td>\n",
       "      <td>m_depth: 6</td>\n",
       "      <td>0.576460</td>\n",
       "    </tr>\n",
       "    <tr>\n",
       "      <th>6</th>\n",
       "      <td>Дерево решений</td>\n",
       "      <td>upsampling</td>\n",
       "      <td>m_depth: 6</td>\n",
       "      <td>0.576460</td>\n",
       "    </tr>\n",
       "    <tr>\n",
       "      <th>0</th>\n",
       "      <td>Логическая регрессия</td>\n",
       "      <td>class_weight</td>\n",
       "      <td>NaN</td>\n",
       "      <td>0.528998</td>\n",
       "    </tr>\n",
       "    <tr>\n",
       "      <th>0</th>\n",
       "      <td>Логическая регрессия</td>\n",
       "      <td>upsampling</td>\n",
       "      <td>NaN</td>\n",
       "      <td>0.528534</td>\n",
       "    </tr>\n",
       "    <tr>\n",
       "      <th>0</th>\n",
       "      <td>Логическая регрессия</td>\n",
       "      <td>NaN</td>\n",
       "      <td>NaN</td>\n",
       "      <td>0.307692</td>\n",
       "    </tr>\n",
       "  </tbody>\n",
       "</table>\n",
       "</div>"
      ],
      "text/plain": [
       "               model_name ballance_method                 model_var  f1_score\n",
       "559         Случайный лес    class_weight  (m_depth: 11, n_est: 20)  0.653465\n",
       "660         Случайный лес             NaN   (m_depth: 14, n_est: 9)  0.614286\n",
       "7          Дерево решений             NaN                m_depth: 7  0.594828\n",
       "6          Дерево решений    class_weight                m_depth: 6  0.576460\n",
       "6          Дерево решений      upsampling                m_depth: 6  0.576460\n",
       "0    Логическая регрессия    class_weight                       NaN  0.528998\n",
       "0    Логическая регрессия      upsampling                       NaN  0.528534\n",
       "0    Логическая регрессия             NaN                       NaN  0.307692"
      ]
     },
     "execution_count": 48,
     "metadata": {},
     "output_type": "execute_result"
    }
   ],
   "source": [
    "temp = [top_models, model.sort_values('f1_score', ascending = False).head(1)]\n",
    "top_models = pd.concat(temp)\n",
    "top_models.sort_values('f1_score', ascending = False)"
   ]
  },
  {
   "cell_type": "markdown",
   "metadata": {},
   "source": [
    "Улучшить модель Дерево решений с помощью Upsampling не удалось"
   ]
  },
  {
   "cell_type": "markdown",
   "metadata": {},
   "source": [
    "#### Модель Случайный лес"
   ]
  },
  {
   "cell_type": "code",
   "execution_count": 49,
   "metadata": {},
   "outputs": [
    {
     "name": "stdout",
     "output_type": "stream",
     "text": [
      "CPU times: user 2min 4s, sys: 919 ms, total: 2min 5s\n",
      "Wall time: 2min 5s\n"
     ]
    }
   ],
   "source": [
    "%%time\n",
    "\n",
    "RF_model_up = None\n",
    "RF_model_up_result = 0\n",
    "\n",
    "for depth in range(1, 15):\n",
    "    for n_est in range(1, 50):\n",
    "        model_RF = RandomForestClassifier(random_state = 12345, max_depth = depth, n_estimators = n_est, class_weight = 'balanced') \n",
    "        model_RF.fit(features_upsampled, target_upsampled)\n",
    "        predictions = model_RF.predict(features_vld)\n",
    "        result = f1_score(target_vld, predictions)\n",
    "        name = 'Случайный лес'\n",
    "        model_var = 'm_depth: {}'.format(depth), 'n_est: {}'.format(n_est)\n",
    "        model_data = {\n",
    "            'model_name': name,\n",
    "            'ballance_method': 'upsampling',\n",
    "            'model_var': model_var,\n",
    "            'f1_score': result}\n",
    "        model = model.append(model_data, ignore_index = True)\n",
    "        \n",
    "        if result > RF_model_up_result:\n",
    "            RF_model_up = model\n",
    "            RF_model_up_result = result\n",
    "            RF_model_up_depth = depth\n",
    "            RF_model_up_n_est = n_est"
   ]
  },
  {
   "cell_type": "code",
   "execution_count": 50,
   "metadata": {},
   "outputs": [
    {
     "data": {
      "text/html": [
       "<div>\n",
       "<style scoped>\n",
       "    .dataframe tbody tr th:only-of-type {\n",
       "        vertical-align: middle;\n",
       "    }\n",
       "\n",
       "    .dataframe tbody tr th {\n",
       "        vertical-align: top;\n",
       "    }\n",
       "\n",
       "    .dataframe thead th {\n",
       "        text-align: right;\n",
       "    }\n",
       "</style>\n",
       "<table border=\"1\" class=\"dataframe\">\n",
       "  <thead>\n",
       "    <tr style=\"text-align: right;\">\n",
       "      <th></th>\n",
       "      <th>model_name</th>\n",
       "      <th>ballance_method</th>\n",
       "      <th>model_var</th>\n",
       "      <th>f1_score</th>\n",
       "    </tr>\n",
       "  </thead>\n",
       "  <tbody>\n",
       "    <tr>\n",
       "      <th>518</th>\n",
       "      <td>Случайный лес</td>\n",
       "      <td>upsampling</td>\n",
       "      <td>(m_depth: 10, n_est: 28)</td>\n",
       "      <td>0.659243</td>\n",
       "    </tr>\n",
       "    <tr>\n",
       "      <th>487</th>\n",
       "      <td>Случайный лес</td>\n",
       "      <td>upsampling</td>\n",
       "      <td>(m_depth: 9, n_est: 46)</td>\n",
       "      <td>0.656555</td>\n",
       "    </tr>\n",
       "    <tr>\n",
       "      <th>516</th>\n",
       "      <td>Случайный лес</td>\n",
       "      <td>upsampling</td>\n",
       "      <td>(m_depth: 10, n_est: 26)</td>\n",
       "      <td>0.656319</td>\n",
       "    </tr>\n",
       "    <tr>\n",
       "      <th>488</th>\n",
       "      <td>Случайный лес</td>\n",
       "      <td>upsampling</td>\n",
       "      <td>(m_depth: 9, n_est: 47)</td>\n",
       "      <td>0.655844</td>\n",
       "    </tr>\n",
       "    <tr>\n",
       "      <th>489</th>\n",
       "      <td>Случайный лес</td>\n",
       "      <td>upsampling</td>\n",
       "      <td>(m_depth: 9, n_est: 48)</td>\n",
       "      <td>0.653680</td>\n",
       "    </tr>\n",
       "  </tbody>\n",
       "</table>\n",
       "</div>"
      ],
      "text/plain": [
       "        model_name ballance_method                 model_var  f1_score\n",
       "518  Случайный лес      upsampling  (m_depth: 10, n_est: 28)  0.659243\n",
       "487  Случайный лес      upsampling   (m_depth: 9, n_est: 46)  0.656555\n",
       "516  Случайный лес      upsampling  (m_depth: 10, n_est: 26)  0.656319\n",
       "488  Случайный лес      upsampling   (m_depth: 9, n_est: 47)  0.655844\n",
       "489  Случайный лес      upsampling   (m_depth: 9, n_est: 48)  0.653680"
      ]
     },
     "execution_count": 50,
     "metadata": {},
     "output_type": "execute_result"
    }
   ],
   "source": [
    "model.sort_values('f1_score', ascending = False).head()"
   ]
  },
  {
   "cell_type": "code",
   "execution_count": 51,
   "metadata": {},
   "outputs": [
    {
     "data": {
      "text/html": [
       "<div>\n",
       "<style scoped>\n",
       "    .dataframe tbody tr th:only-of-type {\n",
       "        vertical-align: middle;\n",
       "    }\n",
       "\n",
       "    .dataframe tbody tr th {\n",
       "        vertical-align: top;\n",
       "    }\n",
       "\n",
       "    .dataframe thead th {\n",
       "        text-align: right;\n",
       "    }\n",
       "</style>\n",
       "<table border=\"1\" class=\"dataframe\">\n",
       "  <thead>\n",
       "    <tr style=\"text-align: right;\">\n",
       "      <th></th>\n",
       "      <th>model_name</th>\n",
       "      <th>ballance_method</th>\n",
       "      <th>model_var</th>\n",
       "      <th>f1_score</th>\n",
       "    </tr>\n",
       "  </thead>\n",
       "  <tbody>\n",
       "    <tr>\n",
       "      <th>518</th>\n",
       "      <td>Случайный лес</td>\n",
       "      <td>upsampling</td>\n",
       "      <td>(m_depth: 10, n_est: 28)</td>\n",
       "      <td>0.659243</td>\n",
       "    </tr>\n",
       "    <tr>\n",
       "      <th>559</th>\n",
       "      <td>Случайный лес</td>\n",
       "      <td>class_weight</td>\n",
       "      <td>(m_depth: 11, n_est: 20)</td>\n",
       "      <td>0.653465</td>\n",
       "    </tr>\n",
       "    <tr>\n",
       "      <th>660</th>\n",
       "      <td>Случайный лес</td>\n",
       "      <td>NaN</td>\n",
       "      <td>(m_depth: 14, n_est: 9)</td>\n",
       "      <td>0.614286</td>\n",
       "    </tr>\n",
       "    <tr>\n",
       "      <th>7</th>\n",
       "      <td>Дерево решений</td>\n",
       "      <td>NaN</td>\n",
       "      <td>m_depth: 7</td>\n",
       "      <td>0.594828</td>\n",
       "    </tr>\n",
       "    <tr>\n",
       "      <th>6</th>\n",
       "      <td>Дерево решений</td>\n",
       "      <td>class_weight</td>\n",
       "      <td>m_depth: 6</td>\n",
       "      <td>0.576460</td>\n",
       "    </tr>\n",
       "    <tr>\n",
       "      <th>6</th>\n",
       "      <td>Дерево решений</td>\n",
       "      <td>upsampling</td>\n",
       "      <td>m_depth: 6</td>\n",
       "      <td>0.576460</td>\n",
       "    </tr>\n",
       "    <tr>\n",
       "      <th>0</th>\n",
       "      <td>Логическая регрессия</td>\n",
       "      <td>class_weight</td>\n",
       "      <td>NaN</td>\n",
       "      <td>0.528998</td>\n",
       "    </tr>\n",
       "    <tr>\n",
       "      <th>0</th>\n",
       "      <td>Логическая регрессия</td>\n",
       "      <td>upsampling</td>\n",
       "      <td>NaN</td>\n",
       "      <td>0.528534</td>\n",
       "    </tr>\n",
       "    <tr>\n",
       "      <th>0</th>\n",
       "      <td>Логическая регрессия</td>\n",
       "      <td>NaN</td>\n",
       "      <td>NaN</td>\n",
       "      <td>0.307692</td>\n",
       "    </tr>\n",
       "  </tbody>\n",
       "</table>\n",
       "</div>"
      ],
      "text/plain": [
       "               model_name ballance_method                 model_var  f1_score\n",
       "518         Случайный лес      upsampling  (m_depth: 10, n_est: 28)  0.659243\n",
       "559         Случайный лес    class_weight  (m_depth: 11, n_est: 20)  0.653465\n",
       "660         Случайный лес             NaN   (m_depth: 14, n_est: 9)  0.614286\n",
       "7          Дерево решений             NaN                m_depth: 7  0.594828\n",
       "6          Дерево решений    class_weight                m_depth: 6  0.576460\n",
       "6          Дерево решений      upsampling                m_depth: 6  0.576460\n",
       "0    Логическая регрессия    class_weight                       NaN  0.528998\n",
       "0    Логическая регрессия      upsampling                       NaN  0.528534\n",
       "0    Логическая регрессия             NaN                       NaN  0.307692"
      ]
     },
     "execution_count": 51,
     "metadata": {},
     "output_type": "execute_result"
    }
   ],
   "source": [
    "temp = [top_models, model.sort_values('f1_score', ascending = False).head(1)]\n",
    "top_models = pd.concat(temp)\n",
    "top_models.sort_values('f1_score', ascending = False)"
   ]
  },
  {
   "cell_type": "markdown",
   "metadata": {},
   "source": [
    "C помощью Upsampling удалось улучшить F1-меру модели Случайный лес."
   ]
  },
  {
   "cell_type": "markdown",
   "metadata": {},
   "source": [
    "#### Вывод"
   ]
  },
  {
   "cell_type": "markdown",
   "metadata": {},
   "source": [
    "С помощью Upsampling удалось добиться увеличения значения F1-меры модели Случайный лес. Лучший результат (0.659243) получилось добиться при следующих параметрах: m_depth 10, n_est 28"
   ]
  },
  {
   "cell_type": "markdown",
   "metadata": {},
   "source": [
    "### Уменьшение выборки (Downsampling)"
   ]
  },
  {
   "cell_type": "code",
   "execution_count": 52,
   "metadata": {},
   "outputs": [],
   "source": [
    "def downsample (features, target, fraction):\n",
    "    \n",
    "    features_zeros = features[target == 0]\n",
    "    features_ones = features[target == 1]\n",
    "    target_zeros = target[target == 0]\n",
    "    target_ones = target[target == 1]\n",
    "\n",
    "    features_downsampled = pd.concat(\n",
    "        [features_zeros.sample(frac = fraction, random_state = 12345)] + [features_ones])\n",
    "    target_downsampled = pd.concat(\n",
    "        [target_zeros.sample(frac = fraction, random_state = 12345)] + [target_ones])\n",
    "    \n",
    "    features_downsampled, target_downsampled = shuffle(\n",
    "        features_downsampled, target_downsampled, random_state = 12345)\n",
    "    \n",
    "    return features_downsampled, target_downsampled\n",
    "\n",
    "features_downsampled, target_downsampled = downsample(features_trn, target_trn, 0.3)"
   ]
  },
  {
   "cell_type": "code",
   "execution_count": 53,
   "metadata": {},
   "outputs": [
    {
     "data": {
      "text/plain": [
       "(2655, 11)"
      ]
     },
     "execution_count": 53,
     "metadata": {},
     "output_type": "execute_result"
    }
   ],
   "source": [
    "features_downsampled.shape"
   ]
  },
  {
   "cell_type": "code",
   "execution_count": 54,
   "metadata": {},
   "outputs": [
    {
     "data": {
      "text/plain": [
       "(2655,)"
      ]
     },
     "execution_count": 54,
     "metadata": {},
     "output_type": "execute_result"
    }
   ],
   "source": [
    "target_downsampled.shape"
   ]
  },
  {
   "cell_type": "markdown",
   "metadata": {},
   "source": [
    "#### Модель Логическая регрессия"
   ]
  },
  {
   "cell_type": "code",
   "execution_count": 55,
   "metadata": {},
   "outputs": [
    {
     "data": {
      "text/html": [
       "<div>\n",
       "<style scoped>\n",
       "    .dataframe tbody tr th:only-of-type {\n",
       "        vertical-align: middle;\n",
       "    }\n",
       "\n",
       "    .dataframe tbody tr th {\n",
       "        vertical-align: top;\n",
       "    }\n",
       "\n",
       "    .dataframe thead th {\n",
       "        text-align: right;\n",
       "    }\n",
       "</style>\n",
       "<table border=\"1\" class=\"dataframe\">\n",
       "  <thead>\n",
       "    <tr style=\"text-align: right;\">\n",
       "      <th></th>\n",
       "      <th>model_name</th>\n",
       "      <th>ballance_method</th>\n",
       "      <th>model_var</th>\n",
       "      <th>f1_score</th>\n",
       "    </tr>\n",
       "  </thead>\n",
       "  <tbody>\n",
       "    <tr>\n",
       "      <th>0</th>\n",
       "      <td>Логическая регрессия</td>\n",
       "      <td>downsampling</td>\n",
       "      <td>NaN</td>\n",
       "      <td>0.526132</td>\n",
       "    </tr>\n",
       "  </tbody>\n",
       "</table>\n",
       "</div>"
      ],
      "text/plain": [
       "             model_name ballance_method  model_var  f1_score\n",
       "0  Логическая регрессия    downsampling        NaN  0.526132"
      ]
     },
     "execution_count": 55,
     "metadata": {},
     "output_type": "execute_result"
    }
   ],
   "source": [
    "model_LR = LogisticRegression(random_state = 12345, solver = 'liblinear', class_weight = 'balanced')\n",
    "model_LR.fit(features_downsampled, target_downsampled)\n",
    "prediction = model_LR.predict(features_vld)\n",
    "model_LR, f1_score(target_vld, prediction)\n",
    "model_data = {\n",
    "    'model_name': ['Логическая регрессия'],\n",
    "    'ballance_method': ['downsampling'],\n",
    "    'model_var': np.nan,\n",
    "    'f1_score': f1_score(target_vld, prediction)\n",
    "}\n",
    "model = pd.DataFrame(model_data)\n",
    "model.sort_values('f1_score', ascending = False).head()"
   ]
  },
  {
   "cell_type": "code",
   "execution_count": 56,
   "metadata": {},
   "outputs": [
    {
     "data": {
      "text/html": [
       "<div>\n",
       "<style scoped>\n",
       "    .dataframe tbody tr th:only-of-type {\n",
       "        vertical-align: middle;\n",
       "    }\n",
       "\n",
       "    .dataframe tbody tr th {\n",
       "        vertical-align: top;\n",
       "    }\n",
       "\n",
       "    .dataframe thead th {\n",
       "        text-align: right;\n",
       "    }\n",
       "</style>\n",
       "<table border=\"1\" class=\"dataframe\">\n",
       "  <thead>\n",
       "    <tr style=\"text-align: right;\">\n",
       "      <th></th>\n",
       "      <th>model_name</th>\n",
       "      <th>ballance_method</th>\n",
       "      <th>model_var</th>\n",
       "      <th>f1_score</th>\n",
       "    </tr>\n",
       "  </thead>\n",
       "  <tbody>\n",
       "    <tr>\n",
       "      <th>518</th>\n",
       "      <td>Случайный лес</td>\n",
       "      <td>upsampling</td>\n",
       "      <td>(m_depth: 10, n_est: 28)</td>\n",
       "      <td>0.659243</td>\n",
       "    </tr>\n",
       "    <tr>\n",
       "      <th>559</th>\n",
       "      <td>Случайный лес</td>\n",
       "      <td>class_weight</td>\n",
       "      <td>(m_depth: 11, n_est: 20)</td>\n",
       "      <td>0.653465</td>\n",
       "    </tr>\n",
       "    <tr>\n",
       "      <th>660</th>\n",
       "      <td>Случайный лес</td>\n",
       "      <td>NaN</td>\n",
       "      <td>(m_depth: 14, n_est: 9)</td>\n",
       "      <td>0.614286</td>\n",
       "    </tr>\n",
       "    <tr>\n",
       "      <th>7</th>\n",
       "      <td>Дерево решений</td>\n",
       "      <td>NaN</td>\n",
       "      <td>m_depth: 7</td>\n",
       "      <td>0.594828</td>\n",
       "    </tr>\n",
       "    <tr>\n",
       "      <th>6</th>\n",
       "      <td>Дерево решений</td>\n",
       "      <td>class_weight</td>\n",
       "      <td>m_depth: 6</td>\n",
       "      <td>0.576460</td>\n",
       "    </tr>\n",
       "    <tr>\n",
       "      <th>6</th>\n",
       "      <td>Дерево решений</td>\n",
       "      <td>upsampling</td>\n",
       "      <td>m_depth: 6</td>\n",
       "      <td>0.576460</td>\n",
       "    </tr>\n",
       "    <tr>\n",
       "      <th>0</th>\n",
       "      <td>Логическая регрессия</td>\n",
       "      <td>class_weight</td>\n",
       "      <td>NaN</td>\n",
       "      <td>0.528998</td>\n",
       "    </tr>\n",
       "    <tr>\n",
       "      <th>0</th>\n",
       "      <td>Логическая регрессия</td>\n",
       "      <td>upsampling</td>\n",
       "      <td>NaN</td>\n",
       "      <td>0.528534</td>\n",
       "    </tr>\n",
       "    <tr>\n",
       "      <th>0</th>\n",
       "      <td>Логическая регрессия</td>\n",
       "      <td>downsampling</td>\n",
       "      <td>NaN</td>\n",
       "      <td>0.526132</td>\n",
       "    </tr>\n",
       "    <tr>\n",
       "      <th>0</th>\n",
       "      <td>Логическая регрессия</td>\n",
       "      <td>NaN</td>\n",
       "      <td>NaN</td>\n",
       "      <td>0.307692</td>\n",
       "    </tr>\n",
       "  </tbody>\n",
       "</table>\n",
       "</div>"
      ],
      "text/plain": [
       "               model_name ballance_method                 model_var  f1_score\n",
       "518         Случайный лес      upsampling  (m_depth: 10, n_est: 28)  0.659243\n",
       "559         Случайный лес    class_weight  (m_depth: 11, n_est: 20)  0.653465\n",
       "660         Случайный лес             NaN   (m_depth: 14, n_est: 9)  0.614286\n",
       "7          Дерево решений             NaN                m_depth: 7  0.594828\n",
       "6          Дерево решений    class_weight                m_depth: 6  0.576460\n",
       "6          Дерево решений      upsampling                m_depth: 6  0.576460\n",
       "0    Логическая регрессия    class_weight                       NaN  0.528998\n",
       "0    Логическая регрессия      upsampling                       NaN  0.528534\n",
       "0    Логическая регрессия    downsampling                       NaN  0.526132\n",
       "0    Логическая регрессия             NaN                       NaN  0.307692"
      ]
     },
     "execution_count": 56,
     "metadata": {},
     "output_type": "execute_result"
    }
   ],
   "source": [
    "temp = [top_models, model.sort_values('f1_score', ascending = False).head(1)]\n",
    "top_models = pd.concat(temp)\n",
    "top_models.sort_values('f1_score', ascending = False)"
   ]
  },
  {
   "cell_type": "markdown",
   "metadata": {},
   "source": [
    "Балансировка с помощью Downsampling не смогла улучшить F1-меру модели Логической регрессии."
   ]
  },
  {
   "cell_type": "markdown",
   "metadata": {},
   "source": [
    "#### Модель Дерево решений"
   ]
  },
  {
   "cell_type": "code",
   "execution_count": 57,
   "metadata": {},
   "outputs": [],
   "source": [
    "DT_model_down = None\n",
    "DT_model_down_result = 0\n",
    "\n",
    "for depth in range(1, 50, 1):\n",
    "    model_DT = DecisionTreeClassifier(random_state = 12345, max_depth = depth, class_weight = 'balanced') \n",
    "    model_DT.fit(features_downsampled, target_downsampled) \n",
    "    predictions = model_DT.predict(features_vld)\n",
    "    result = f1_score(target_vld, predictions)\n",
    "    name = 'Дерево решений'\n",
    "    model_var = 'm_depth: {}'.format(depth)\n",
    "    model_data = {\n",
    "        'model_name': name,\n",
    "        'ballance_method': 'downsampling',\n",
    "        'model_var': model_var,\n",
    "        'f1_score': result}\n",
    "    model = model.append(model_data, ignore_index = True)\n",
    "    \n",
    "    if result > DT_model_down_result:\n",
    "        DT_model_down = model\n",
    "        DT_model_down_result = result\n",
    "        DT_model_down_depth = depth"
   ]
  },
  {
   "cell_type": "code",
   "execution_count": 58,
   "metadata": {},
   "outputs": [
    {
     "data": {
      "text/html": [
       "<div>\n",
       "<style scoped>\n",
       "    .dataframe tbody tr th:only-of-type {\n",
       "        vertical-align: middle;\n",
       "    }\n",
       "\n",
       "    .dataframe tbody tr th {\n",
       "        vertical-align: top;\n",
       "    }\n",
       "\n",
       "    .dataframe thead th {\n",
       "        text-align: right;\n",
       "    }\n",
       "</style>\n",
       "<table border=\"1\" class=\"dataframe\">\n",
       "  <thead>\n",
       "    <tr style=\"text-align: right;\">\n",
       "      <th></th>\n",
       "      <th>model_name</th>\n",
       "      <th>ballance_method</th>\n",
       "      <th>model_var</th>\n",
       "      <th>f1_score</th>\n",
       "    </tr>\n",
       "  </thead>\n",
       "  <tbody>\n",
       "    <tr>\n",
       "      <th>7</th>\n",
       "      <td>Дерево решений</td>\n",
       "      <td>downsampling</td>\n",
       "      <td>m_depth: 7</td>\n",
       "      <td>0.579981</td>\n",
       "    </tr>\n",
       "    <tr>\n",
       "      <th>6</th>\n",
       "      <td>Дерево решений</td>\n",
       "      <td>downsampling</td>\n",
       "      <td>m_depth: 6</td>\n",
       "      <td>0.578616</td>\n",
       "    </tr>\n",
       "    <tr>\n",
       "      <th>4</th>\n",
       "      <td>Дерево решений</td>\n",
       "      <td>downsampling</td>\n",
       "      <td>m_depth: 4</td>\n",
       "      <td>0.576332</td>\n",
       "    </tr>\n",
       "    <tr>\n",
       "      <th>8</th>\n",
       "      <td>Дерево решений</td>\n",
       "      <td>downsampling</td>\n",
       "      <td>m_depth: 8</td>\n",
       "      <td>0.574648</td>\n",
       "    </tr>\n",
       "    <tr>\n",
       "      <th>3</th>\n",
       "      <td>Дерево решений</td>\n",
       "      <td>downsampling</td>\n",
       "      <td>m_depth: 3</td>\n",
       "      <td>0.564644</td>\n",
       "    </tr>\n",
       "  </tbody>\n",
       "</table>\n",
       "</div>"
      ],
      "text/plain": [
       "       model_name ballance_method   model_var  f1_score\n",
       "7  Дерево решений    downsampling  m_depth: 7  0.579981\n",
       "6  Дерево решений    downsampling  m_depth: 6  0.578616\n",
       "4  Дерево решений    downsampling  m_depth: 4  0.576332\n",
       "8  Дерево решений    downsampling  m_depth: 8  0.574648\n",
       "3  Дерево решений    downsampling  m_depth: 3  0.564644"
      ]
     },
     "execution_count": 58,
     "metadata": {},
     "output_type": "execute_result"
    }
   ],
   "source": [
    "model.sort_values('f1_score', ascending = False).head()"
   ]
  },
  {
   "cell_type": "code",
   "execution_count": 59,
   "metadata": {},
   "outputs": [
    {
     "data": {
      "text/html": [
       "<div>\n",
       "<style scoped>\n",
       "    .dataframe tbody tr th:only-of-type {\n",
       "        vertical-align: middle;\n",
       "    }\n",
       "\n",
       "    .dataframe tbody tr th {\n",
       "        vertical-align: top;\n",
       "    }\n",
       "\n",
       "    .dataframe thead th {\n",
       "        text-align: right;\n",
       "    }\n",
       "</style>\n",
       "<table border=\"1\" class=\"dataframe\">\n",
       "  <thead>\n",
       "    <tr style=\"text-align: right;\">\n",
       "      <th></th>\n",
       "      <th>model_name</th>\n",
       "      <th>ballance_method</th>\n",
       "      <th>model_var</th>\n",
       "      <th>f1_score</th>\n",
       "    </tr>\n",
       "  </thead>\n",
       "  <tbody>\n",
       "    <tr>\n",
       "      <th>518</th>\n",
       "      <td>Случайный лес</td>\n",
       "      <td>upsampling</td>\n",
       "      <td>(m_depth: 10, n_est: 28)</td>\n",
       "      <td>0.659243</td>\n",
       "    </tr>\n",
       "    <tr>\n",
       "      <th>559</th>\n",
       "      <td>Случайный лес</td>\n",
       "      <td>class_weight</td>\n",
       "      <td>(m_depth: 11, n_est: 20)</td>\n",
       "      <td>0.653465</td>\n",
       "    </tr>\n",
       "    <tr>\n",
       "      <th>660</th>\n",
       "      <td>Случайный лес</td>\n",
       "      <td>NaN</td>\n",
       "      <td>(m_depth: 14, n_est: 9)</td>\n",
       "      <td>0.614286</td>\n",
       "    </tr>\n",
       "    <tr>\n",
       "      <th>7</th>\n",
       "      <td>Дерево решений</td>\n",
       "      <td>NaN</td>\n",
       "      <td>m_depth: 7</td>\n",
       "      <td>0.594828</td>\n",
       "    </tr>\n",
       "    <tr>\n",
       "      <th>7</th>\n",
       "      <td>Дерево решений</td>\n",
       "      <td>downsampling</td>\n",
       "      <td>m_depth: 7</td>\n",
       "      <td>0.579981</td>\n",
       "    </tr>\n",
       "    <tr>\n",
       "      <th>6</th>\n",
       "      <td>Дерево решений</td>\n",
       "      <td>class_weight</td>\n",
       "      <td>m_depth: 6</td>\n",
       "      <td>0.576460</td>\n",
       "    </tr>\n",
       "    <tr>\n",
       "      <th>6</th>\n",
       "      <td>Дерево решений</td>\n",
       "      <td>upsampling</td>\n",
       "      <td>m_depth: 6</td>\n",
       "      <td>0.576460</td>\n",
       "    </tr>\n",
       "    <tr>\n",
       "      <th>0</th>\n",
       "      <td>Логическая регрессия</td>\n",
       "      <td>class_weight</td>\n",
       "      <td>NaN</td>\n",
       "      <td>0.528998</td>\n",
       "    </tr>\n",
       "    <tr>\n",
       "      <th>0</th>\n",
       "      <td>Логическая регрессия</td>\n",
       "      <td>upsampling</td>\n",
       "      <td>NaN</td>\n",
       "      <td>0.528534</td>\n",
       "    </tr>\n",
       "    <tr>\n",
       "      <th>0</th>\n",
       "      <td>Логическая регрессия</td>\n",
       "      <td>downsampling</td>\n",
       "      <td>NaN</td>\n",
       "      <td>0.526132</td>\n",
       "    </tr>\n",
       "    <tr>\n",
       "      <th>0</th>\n",
       "      <td>Логическая регрессия</td>\n",
       "      <td>NaN</td>\n",
       "      <td>NaN</td>\n",
       "      <td>0.307692</td>\n",
       "    </tr>\n",
       "  </tbody>\n",
       "</table>\n",
       "</div>"
      ],
      "text/plain": [
       "               model_name ballance_method                 model_var  f1_score\n",
       "518         Случайный лес      upsampling  (m_depth: 10, n_est: 28)  0.659243\n",
       "559         Случайный лес    class_weight  (m_depth: 11, n_est: 20)  0.653465\n",
       "660         Случайный лес             NaN   (m_depth: 14, n_est: 9)  0.614286\n",
       "7          Дерево решений             NaN                m_depth: 7  0.594828\n",
       "7          Дерево решений    downsampling                m_depth: 7  0.579981\n",
       "6          Дерево решений    class_weight                m_depth: 6  0.576460\n",
       "6          Дерево решений      upsampling                m_depth: 6  0.576460\n",
       "0    Логическая регрессия    class_weight                       NaN  0.528998\n",
       "0    Логическая регрессия      upsampling                       NaN  0.528534\n",
       "0    Логическая регрессия    downsampling                       NaN  0.526132\n",
       "0    Логическая регрессия             NaN                       NaN  0.307692"
      ]
     },
     "execution_count": 59,
     "metadata": {},
     "output_type": "execute_result"
    }
   ],
   "source": [
    "temp = [top_models, model.sort_values('f1_score',ascending=  False).head(1)]\n",
    "top_models = pd.concat(temp)\n",
    "top_models.sort_values('f1_score', ascending = False)"
   ]
  },
  {
   "cell_type": "markdown",
   "metadata": {},
   "source": [
    "Улучшить модель с помощью Downsampling не удалось"
   ]
  },
  {
   "cell_type": "markdown",
   "metadata": {},
   "source": [
    "#### Модель Случайный лес"
   ]
  },
  {
   "cell_type": "code",
   "execution_count": 60,
   "metadata": {},
   "outputs": [
    {
     "name": "stdout",
     "output_type": "stream",
     "text": [
      "CPU times: user 58.9 s, sys: 512 ms, total: 59.4 s\n",
      "Wall time: 59.5 s\n"
     ]
    }
   ],
   "source": [
    "%%time\n",
    "\n",
    "RF_model_down = None\n",
    "RF_model_down_result = 0\n",
    "\n",
    "for depth in range(1, 15):\n",
    "    for n_est in range(1, 50):\n",
    "        model_RF = RandomForestClassifier(random_state = 12345, max_depth = depth, n_estimators = n_est, class_weight = 'balanced') \n",
    "        model_RF.fit(features_downsampled, target_downsampled)\n",
    "        predictions = model_RF.predict(features_vld)\n",
    "        result = f1_score(target_vld, predictions)\n",
    "        name = 'Случайный лес'\n",
    "        model_var = 'm_depth: {}'.format(depth), 'n_est: {}'.format(n_est)\n",
    "        model_data = {\n",
    "            'model_name': name,\n",
    "            'ballance_method': 'downsampling',\n",
    "            'model_var': model_var,\n",
    "            'f1_score': result}\n",
    "        model = model.append(model_data, ignore_index = True)\n",
    "        \n",
    "        if result > RF_model_down_result:\n",
    "            RF_model_down = model\n",
    "            RF_model_down_result = result\n",
    "            RF_model_down_depth = depth\n",
    "            RF_model_down_n_est = n_est"
   ]
  },
  {
   "cell_type": "code",
   "execution_count": 61,
   "metadata": {},
   "outputs": [
    {
     "data": {
      "text/html": [
       "<div>\n",
       "<style scoped>\n",
       "    .dataframe tbody tr th:only-of-type {\n",
       "        vertical-align: middle;\n",
       "    }\n",
       "\n",
       "    .dataframe tbody tr th {\n",
       "        vertical-align: top;\n",
       "    }\n",
       "\n",
       "    .dataframe thead th {\n",
       "        text-align: right;\n",
       "    }\n",
       "</style>\n",
       "<table border=\"1\" class=\"dataframe\">\n",
       "  <thead>\n",
       "    <tr style=\"text-align: right;\">\n",
       "      <th></th>\n",
       "      <th>model_name</th>\n",
       "      <th>ballance_method</th>\n",
       "      <th>model_var</th>\n",
       "      <th>f1_score</th>\n",
       "    </tr>\n",
       "  </thead>\n",
       "  <tbody>\n",
       "    <tr>\n",
       "      <th>423</th>\n",
       "      <td>Случайный лес</td>\n",
       "      <td>downsampling</td>\n",
       "      <td>(m_depth: 8, n_est: 31)</td>\n",
       "      <td>0.637914</td>\n",
       "    </tr>\n",
       "    <tr>\n",
       "      <th>438</th>\n",
       "      <td>Случайный лес</td>\n",
       "      <td>downsampling</td>\n",
       "      <td>(m_depth: 8, n_est: 46)</td>\n",
       "      <td>0.637710</td>\n",
       "    </tr>\n",
       "    <tr>\n",
       "      <th>422</th>\n",
       "      <td>Случайный лес</td>\n",
       "      <td>downsampling</td>\n",
       "      <td>(m_depth: 8, n_est: 30)</td>\n",
       "      <td>0.637097</td>\n",
       "    </tr>\n",
       "    <tr>\n",
       "      <th>441</th>\n",
       "      <td>Случайный лес</td>\n",
       "      <td>downsampling</td>\n",
       "      <td>(m_depth: 8, n_est: 49)</td>\n",
       "      <td>0.636274</td>\n",
       "    </tr>\n",
       "    <tr>\n",
       "      <th>440</th>\n",
       "      <td>Случайный лес</td>\n",
       "      <td>downsampling</td>\n",
       "      <td>(m_depth: 8, n_est: 48)</td>\n",
       "      <td>0.634291</td>\n",
       "    </tr>\n",
       "  </tbody>\n",
       "</table>\n",
       "</div>"
      ],
      "text/plain": [
       "        model_name ballance_method                model_var  f1_score\n",
       "423  Случайный лес    downsampling  (m_depth: 8, n_est: 31)  0.637914\n",
       "438  Случайный лес    downsampling  (m_depth: 8, n_est: 46)  0.637710\n",
       "422  Случайный лес    downsampling  (m_depth: 8, n_est: 30)  0.637097\n",
       "441  Случайный лес    downsampling  (m_depth: 8, n_est: 49)  0.636274\n",
       "440  Случайный лес    downsampling  (m_depth: 8, n_est: 48)  0.634291"
      ]
     },
     "execution_count": 61,
     "metadata": {},
     "output_type": "execute_result"
    }
   ],
   "source": [
    "model.sort_values('f1_score', ascending = False).head()"
   ]
  },
  {
   "cell_type": "code",
   "execution_count": 62,
   "metadata": {},
   "outputs": [
    {
     "data": {
      "text/html": [
       "<div>\n",
       "<style scoped>\n",
       "    .dataframe tbody tr th:only-of-type {\n",
       "        vertical-align: middle;\n",
       "    }\n",
       "\n",
       "    .dataframe tbody tr th {\n",
       "        vertical-align: top;\n",
       "    }\n",
       "\n",
       "    .dataframe thead th {\n",
       "        text-align: right;\n",
       "    }\n",
       "</style>\n",
       "<table border=\"1\" class=\"dataframe\">\n",
       "  <thead>\n",
       "    <tr style=\"text-align: right;\">\n",
       "      <th></th>\n",
       "      <th>model_name</th>\n",
       "      <th>ballance_method</th>\n",
       "      <th>model_var</th>\n",
       "      <th>f1_score</th>\n",
       "    </tr>\n",
       "  </thead>\n",
       "  <tbody>\n",
       "    <tr>\n",
       "      <th>518</th>\n",
       "      <td>Случайный лес</td>\n",
       "      <td>upsampling</td>\n",
       "      <td>(m_depth: 10, n_est: 28)</td>\n",
       "      <td>0.659243</td>\n",
       "    </tr>\n",
       "    <tr>\n",
       "      <th>559</th>\n",
       "      <td>Случайный лес</td>\n",
       "      <td>class_weight</td>\n",
       "      <td>(m_depth: 11, n_est: 20)</td>\n",
       "      <td>0.653465</td>\n",
       "    </tr>\n",
       "    <tr>\n",
       "      <th>423</th>\n",
       "      <td>Случайный лес</td>\n",
       "      <td>downsampling</td>\n",
       "      <td>(m_depth: 8, n_est: 31)</td>\n",
       "      <td>0.637914</td>\n",
       "    </tr>\n",
       "    <tr>\n",
       "      <th>660</th>\n",
       "      <td>Случайный лес</td>\n",
       "      <td>NaN</td>\n",
       "      <td>(m_depth: 14, n_est: 9)</td>\n",
       "      <td>0.614286</td>\n",
       "    </tr>\n",
       "    <tr>\n",
       "      <th>7</th>\n",
       "      <td>Дерево решений</td>\n",
       "      <td>NaN</td>\n",
       "      <td>m_depth: 7</td>\n",
       "      <td>0.594828</td>\n",
       "    </tr>\n",
       "    <tr>\n",
       "      <th>7</th>\n",
       "      <td>Дерево решений</td>\n",
       "      <td>downsampling</td>\n",
       "      <td>m_depth: 7</td>\n",
       "      <td>0.579981</td>\n",
       "    </tr>\n",
       "    <tr>\n",
       "      <th>6</th>\n",
       "      <td>Дерево решений</td>\n",
       "      <td>class_weight</td>\n",
       "      <td>m_depth: 6</td>\n",
       "      <td>0.576460</td>\n",
       "    </tr>\n",
       "    <tr>\n",
       "      <th>6</th>\n",
       "      <td>Дерево решений</td>\n",
       "      <td>upsampling</td>\n",
       "      <td>m_depth: 6</td>\n",
       "      <td>0.576460</td>\n",
       "    </tr>\n",
       "    <tr>\n",
       "      <th>0</th>\n",
       "      <td>Логическая регрессия</td>\n",
       "      <td>class_weight</td>\n",
       "      <td>NaN</td>\n",
       "      <td>0.528998</td>\n",
       "    </tr>\n",
       "    <tr>\n",
       "      <th>0</th>\n",
       "      <td>Логическая регрессия</td>\n",
       "      <td>upsampling</td>\n",
       "      <td>NaN</td>\n",
       "      <td>0.528534</td>\n",
       "    </tr>\n",
       "    <tr>\n",
       "      <th>0</th>\n",
       "      <td>Логическая регрессия</td>\n",
       "      <td>downsampling</td>\n",
       "      <td>NaN</td>\n",
       "      <td>0.526132</td>\n",
       "    </tr>\n",
       "    <tr>\n",
       "      <th>0</th>\n",
       "      <td>Логическая регрессия</td>\n",
       "      <td>NaN</td>\n",
       "      <td>NaN</td>\n",
       "      <td>0.307692</td>\n",
       "    </tr>\n",
       "  </tbody>\n",
       "</table>\n",
       "</div>"
      ],
      "text/plain": [
       "               model_name ballance_method                 model_var  f1_score\n",
       "518         Случайный лес      upsampling  (m_depth: 10, n_est: 28)  0.659243\n",
       "559         Случайный лес    class_weight  (m_depth: 11, n_est: 20)  0.653465\n",
       "423         Случайный лес    downsampling   (m_depth: 8, n_est: 31)  0.637914\n",
       "660         Случайный лес             NaN   (m_depth: 14, n_est: 9)  0.614286\n",
       "7          Дерево решений             NaN                m_depth: 7  0.594828\n",
       "7          Дерево решений    downsampling                m_depth: 7  0.579981\n",
       "6          Дерево решений    class_weight                m_depth: 6  0.576460\n",
       "6          Дерево решений      upsampling                m_depth: 6  0.576460\n",
       "0    Логическая регрессия    class_weight                       NaN  0.528998\n",
       "0    Логическая регрессия      upsampling                       NaN  0.528534\n",
       "0    Логическая регрессия    downsampling                       NaN  0.526132\n",
       "0    Логическая регрессия             NaN                       NaN  0.307692"
      ]
     },
     "execution_count": 62,
     "metadata": {},
     "output_type": "execute_result"
    }
   ],
   "source": [
    "temp = [top_models, model.sort_values('f1_score', ascending = False).head(1)]\n",
    "top_models = pd.concat(temp)\n",
    "top_models.sort_values('f1_score', ascending = False)"
   ]
  },
  {
   "cell_type": "markdown",
   "metadata": {},
   "source": [
    "Улучшить модель с помощью Downsampling не удалось"
   ]
  },
  {
   "cell_type": "markdown",
   "metadata": {},
   "source": [
    "#### Вывод"
   ]
  },
  {
   "cell_type": "markdown",
   "metadata": {},
   "source": [
    "С помощью Downsampling не удалось добиться увеличения значения F1-меры моделей."
   ]
  },
  {
   "cell_type": "markdown",
   "metadata": {},
   "source": [
    "### Вывод"
   ]
  },
  {
   "cell_type": "markdown",
   "metadata": {},
   "source": [
    "Мы попробовали решить проблему дисбаланса классов с помощью трех методах: взвешивание клаcсов, уменьшение и увеличение выборки. Лучший показатель F1-меры (0.659243) показала модель Случайный лес (с параметрами: глубина дерева (m_depth) 10 и число деревьев в лесу (n_est) 28) при использовании метода Upsampling."
   ]
  },
  {
   "cell_type": "markdown",
   "metadata": {},
   "source": [
    "## Тестирование модели"
   ]
  },
  {
   "cell_type": "markdown",
   "metadata": {},
   "source": [
    "### Лучшая модель"
   ]
  },
  {
   "cell_type": "code",
   "execution_count": 63,
   "metadata": {},
   "outputs": [
    {
     "name": "stdout",
     "output_type": "stream",
     "text": [
      "F1-мера на тестовой выборке:  0.5957446808510638\n",
      "R2 на тестовой выборке:  0.8195\n"
     ]
    }
   ],
   "source": [
    "model_RF = RandomForestClassifier(random_state = 12345, max_depth = 10, n_estimators = 28, class_weight='balanced') \n",
    "model_RF.fit(features_upsampled, target_upsampled)\n",
    "predictions = model_RF.predict(features_tst)\n",
    "print(\"F1-мера на тестовой выборке: \", f1_score(target_tst, predictions))\n",
    "print(\"R2 на тестовой выборке: \", model_RF.score(features_tst, target_tst))"
   ]
  },
  {
   "cell_type": "markdown",
   "metadata": {},
   "source": [
    "### Вывод"
   ]
  },
  {
   "cell_type": "markdown",
   "metadata": {},
   "source": [
    "F1-мера лучшей модели на тестовой выборке составляет 0.5957, что соответствует условию успешной здачи проекта (более 0.59)."
   ]
  },
  {
   "cell_type": "markdown",
   "metadata": {},
   "source": [
    "## Исследование метрики AUC-ROC"
   ]
  },
  {
   "cell_type": "markdown",
   "metadata": {},
   "source": [
    "### Модель Логическая регрессия"
   ]
  },
  {
   "cell_type": "code",
   "execution_count": 64,
   "metadata": {},
   "outputs": [
    {
     "data": {
      "text/plain": [
       "0.7541393473596864"
      ]
     },
     "execution_count": 64,
     "metadata": {},
     "output_type": "execute_result"
    }
   ],
   "source": [
    "model_LR = LogisticRegression(random_state = 12345, solver = 'liblinear', class_weight = 'balanced')\n",
    "model_LR.fit(features_trn, target_trn)\n",
    "probabilities_LR = model_LR.predict_proba(features_tst)\n",
    "probabilities_one_LR = probabilities_LR[:,1]\n",
    "fpr_LR, tpr_LR, thresholds = roc_curve(target_tst, probabilities_one_LR)\n",
    "auc_roc_LR = roc_auc_score(target_tst, probabilities_one_LR)\n",
    "auc_roc_LR"
   ]
  },
  {
   "cell_type": "markdown",
   "metadata": {},
   "source": [
    "### Модель Дерево решений"
   ]
  },
  {
   "cell_type": "code",
   "execution_count": 65,
   "metadata": {},
   "outputs": [
    {
     "data": {
      "text/plain": [
       "0.811010548298684"
      ]
     },
     "execution_count": 65,
     "metadata": {},
     "output_type": "execute_result"
    }
   ],
   "source": [
    "model_DT = DecisionTreeClassifier(random_state = 12345, max_depth = 7) \n",
    "model_DT.fit(features_trn, target_trn) \n",
    "probabilities_DT = model_DT.predict_proba(features_tst)\n",
    "probabilities_one_DT = probabilities_DT[:,1]\n",
    "fpr_DT, tpr_DT, thresholds = roc_curve(target_tst, probabilities_one_DT)\n",
    "auc_roc_DT = roc_auc_score(target_tst, probabilities_one_DT)\n",
    "auc_roc_DT"
   ]
  },
  {
   "cell_type": "markdown",
   "metadata": {},
   "source": [
    "### Модель Случайный лес"
   ]
  },
  {
   "cell_type": "code",
   "execution_count": 66,
   "metadata": {},
   "outputs": [
    {
     "data": {
      "text/plain": [
       "0.8461080494978801"
      ]
     },
     "execution_count": 66,
     "metadata": {},
     "output_type": "execute_result"
    }
   ],
   "source": [
    "model_RF = RandomForestClassifier(random_state = 12345, max_depth = 10, n_estimators = 28, class_weight = 'balanced') \n",
    "model_RF.fit(features_upsampled, target_upsampled)\n",
    "probabilities_RF = model_RF.predict_proba(features_tst)\n",
    "probabilities_one_RF = probabilities_RF[:,1]\n",
    "fpr_RF, tpr_RF, thresholds = roc_curve(target_tst, probabilities_one_RF)\n",
    "auc_roc_RF = roc_auc_score(target_tst, probabilities_one_RF)\n",
    "auc_roc_RF"
   ]
  },
  {
   "cell_type": "markdown",
   "metadata": {},
   "source": [
    "### График метрики AUC-ROC"
   ]
  },
  {
   "cell_type": "code",
   "execution_count": 67,
   "metadata": {},
   "outputs": [
    {
     "data": {
      "image/png": "[encoded data removed]",
      "text/plain": [
       "<Figure size 1080x720 with 1 Axes>"
      ]
     },
     "metadata": {
      "needs_background": "light"
     },
     "output_type": "display_data"
    }
   ],
   "source": [
    "plt.figure(figsize=(15,10))\n",
    "plt.plot([0, 1], [0, 1], linestyle='--')\n",
    "plt.xlim([0.0, 1.0])\n",
    "plt.ylim([0.0, 1.0])\n",
    "plt.plot(fpr_LR,tpr_LR)\n",
    "plt.plot(fpr_DT,tpr_DT)\n",
    "plt.plot(fpr_RF,tpr_RF)\n",
    "plt.xlabel('False Positive Rate')\n",
    "plt.ylabel('True Positive Rate')\n",
    "plt.title('ROC-кривая')\n",
    "plt.legend((\n",
    "    'Случайная модель',\n",
    "    'Логистическая регрессия',\n",
    "    'Дерево решения',\n",
    "    'Случайный лес'\n",
    "),\n",
    "    loc= 'upper left')\n",
    "\n",
    "plt.show()"
   ]
  },
  {
   "cell_type": "markdown",
   "metadata": {},
   "source": [
    "### Вывод"
   ]
  },
  {
   "cell_type": "markdown",
   "metadata": {},
   "source": [
    "Мы посчитали метрики AUC-ROC на тестовой выборке для каждой лучшей модели и визуализировали результат на графике. Значение площади под кривой говорит о том, насколько наши модели отличаются (лучше) от случайной. Лучшее значение у Случайного леса: 0.846108"
   ]
  },
  {
   "cell_type": "markdown",
   "metadata": {},
   "source": [
    "## Важность признаков"
   ]
  },
  {
   "cell_type": "markdown",
   "metadata": {},
   "source": [
    "Возвращаясь к вопросу о выборе, каким способом лучше всего обработать пропуски в столбце tenure, предлагаю оценить важность признаков на примере лучшей получившейся модели."
   ]
  },
  {
   "cell_type": "code",
   "execution_count": 68,
   "metadata": {},
   "outputs": [
    {
     "data": {
      "image/png": "[encoded data removed]",
      "text/plain": [
       "<Figure size 720x360 with 1 Axes>"
      ]
     },
     "metadata": {
      "needs_background": "light"
     },
     "output_type": "display_data"
    }
   ],
   "source": [
    "features = features_tst.columns\n",
    "importances = model_RF.feature_importances_\n",
    "columns = np.argsort(importances)\n",
    "\n",
    "plt.figure(figsize=(10,5))\n",
    "plt.title('Важность признаков')\n",
    "plt.barh(range(len(columns)), importances[columns], color='#393b79', align='center')\n",
    "plt.yticks(range(len(columns)), features[columns])\n",
    "plt.xlabel('Значения')\n",
    "\n",
    "plt.show()"
   ]
  },
  {
   "cell_type": "code",
   "execution_count": 69,
   "metadata": {},
   "outputs": [
    {
     "data": {
      "text/plain": [
       "array([0.01007204, 0.01221122, 0.01954794, 0.04309925, 0.04402257,\n",
       "       0.06334585, 0.08015983, 0.08321244, 0.13034972, 0.19915422,\n",
       "       0.31482492])"
      ]
     },
     "execution_count": 69,
     "metadata": {},
     "output_type": "execute_result"
    }
   ],
   "source": [
    "importances[columns]"
   ]
  },
  {
   "cell_type": "markdown",
   "metadata": {},
   "source": [
    "Данный график отображает значимость признаков в нашей модели. Значение столбца tenure на уровне 4.4 %, это достаточно много, чтобы им можно было пренебречь. Значит удалять его нельзя, остается только заполнить пропуски заглушкой -1 или рандомным значением в пределах максимального и минимального значений. Рандомное значение, скорее всего, будет иметь меньшее влияние на наше исследование."
   ]
  },
  {
   "cell_type": "markdown",
   "metadata": {},
   "source": [
    "## Общий вывод"
   ]
  },
  {
   "cell_type": "markdown",
   "metadata": {},
   "source": [
    "При первичной оценке полученных от «Бета-Банка» данных, мы обнаружили пропуски, категориальные признаки, дисбаланс целевого признака и ненужные для исследования столбцы. При предобработке данных, мы успешно решили все эти проблемы, предложив 4 способа обработки пропусков.  \n",
    "\n",
    "После подготовки данных, мы разбили их на три выборки (тренировочную, валидационную и тестовую).  \n",
    "\n",
    "На тестовой выборке мы обучили три модели (Логическую регрессию, Дерево решений и Случайный лес). Лучший результат F1-меры показала модель Случайный лес.  \n",
    "\n",
    "Чтобы разобраться с дисбалансом целевого признака мы использовали 3 разных способа (Взвешивание классов, Увеличение выборки и Уменьшение выборки) для каждой из трех моделей. Лучший результат F1-меры показала модель Случайный лес.  \n",
    "\n",
    "Далее мы проверили лучшую нашу модель на тестовой выборке. Результат проверки удовлетворяет условиям проекта (F1-мера более 0.59).  \n",
    "\n",
    "Мы визуализировали метрику AUC-ROC для каждой лучшей модели и сравнили их со случайной.  \n",
    "\n",
    "Дополнительно, аргументировали выбор способа заполнения пропусков в столбце tenure."
   ]
  }
 ],
 "metadata": {
  "ExecuteTimeLog": [
   {
    "duration": 52,
    "start_time": "2022-10-22T14:34:32.846Z"
   },
   {
    "duration": 424,
    "start_time": "2022-10-22T14:34:37.589Z"
   },
   {
    "duration": 55,
    "start_time": "2022-10-22T14:34:38.728Z"
   },
   {
    "duration": 20,
    "start_time": "2022-10-22T14:34:39.487Z"
   },
   {
    "duration": 13,
    "start_time": "2022-10-22T14:34:40.239Z"
   },
   {
    "duration": 38,
    "start_time": "2022-10-22T14:34:43.953Z"
   },
   {
    "duration": 5,
    "start_time": "2022-10-22T14:49:17.929Z"
   },
   {
    "duration": 33,
    "start_time": "2022-10-22T14:59:20.322Z"
   },
   {
    "duration": 6,
    "start_time": "2022-10-22T14:59:32.454Z"
   },
   {
    "duration": 5,
    "start_time": "2022-10-22T15:21:57.562Z"
   },
   {
    "duration": 9,
    "start_time": "2022-10-22T15:22:06.405Z"
   },
   {
    "duration": 6,
    "start_time": "2022-10-22T15:27:50.182Z"
   },
   {
    "duration": 5,
    "start_time": "2022-10-22T15:32:37.460Z"
   },
   {
    "duration": 4,
    "start_time": "2022-10-22T15:38:01.727Z"
   },
   {
    "duration": 5,
    "start_time": "2022-10-22T15:38:13.217Z"
   },
   {
    "duration": 7,
    "start_time": "2022-10-22T15:38:36.275Z"
   },
   {
    "duration": 9,
    "start_time": "2022-10-22T15:38:41.213Z"
   },
   {
    "duration": 5,
    "start_time": "2022-10-22T15:38:52.746Z"
   },
   {
    "duration": 5,
    "start_time": "2022-10-22T15:38:59.026Z"
   },
   {
    "duration": 5,
    "start_time": "2022-10-22T15:39:26.361Z"
   },
   {
    "duration": 5,
    "start_time": "2022-10-22T15:39:33.285Z"
   },
   {
    "duration": 6,
    "start_time": "2022-10-22T15:39:38.584Z"
   },
   {
    "duration": 10,
    "start_time": "2022-10-22T15:40:30.457Z"
   },
   {
    "duration": 7,
    "start_time": "2022-10-22T15:40:44.986Z"
   },
   {
    "duration": 7,
    "start_time": "2022-10-22T15:40:59.106Z"
   },
   {
    "duration": 9,
    "start_time": "2022-10-22T15:41:05.070Z"
   },
   {
    "duration": 22,
    "start_time": "2022-10-22T15:42:23.463Z"
   },
   {
    "duration": 9,
    "start_time": "2022-10-22T15:42:45.509Z"
   },
   {
    "duration": 10,
    "start_time": "2022-10-22T15:43:25.185Z"
   },
   {
    "duration": 9,
    "start_time": "2022-10-22T15:45:07.843Z"
   },
   {
    "duration": 41,
    "start_time": "2022-10-22T15:45:08.387Z"
   },
   {
    "duration": 6,
    "start_time": "2022-10-22T15:53:29.583Z"
   },
   {
    "duration": 17,
    "start_time": "2022-10-22T15:53:49.301Z"
   },
   {
    "duration": 451,
    "start_time": "2022-10-22T15:53:56.406Z"
   },
   {
    "duration": 31,
    "start_time": "2022-10-22T15:53:56.860Z"
   },
   {
    "duration": 24,
    "start_time": "2022-10-22T15:53:56.893Z"
   },
   {
    "duration": 28,
    "start_time": "2022-10-22T15:53:56.919Z"
   },
   {
    "duration": 55,
    "start_time": "2022-10-22T15:53:56.949Z"
   },
   {
    "duration": 10,
    "start_time": "2022-10-22T15:53:57.005Z"
   },
   {
    "duration": 22,
    "start_time": "2022-10-22T15:53:57.016Z"
   },
   {
    "duration": 29,
    "start_time": "2022-10-22T15:53:57.040Z"
   },
   {
    "duration": 12134,
    "start_time": "2022-10-22T16:00:37.157Z"
   },
   {
    "duration": 8847,
    "start_time": "2022-10-22T16:01:29.963Z"
   },
   {
    "duration": 5056,
    "start_time": "2022-10-22T16:10:42.893Z"
   },
   {
    "duration": 3027,
    "start_time": "2022-10-22T16:10:57.708Z"
   },
   {
    "duration": 2531,
    "start_time": "2022-10-22T16:11:21.801Z"
   },
   {
    "duration": 2802,
    "start_time": "2022-10-22T16:11:43.229Z"
   },
   {
    "duration": 3,
    "start_time": "2022-10-22T16:13:04.334Z"
   },
   {
    "duration": 7,
    "start_time": "2022-10-22T16:13:12.949Z"
   },
   {
    "duration": 7,
    "start_time": "2022-10-22T16:13:37.300Z"
   },
   {
    "duration": 7,
    "start_time": "2022-10-22T16:13:46.485Z"
   },
   {
    "duration": 7,
    "start_time": "2022-10-22T16:13:54.820Z"
   },
   {
    "duration": 62,
    "start_time": "2022-10-22T16:16:18.828Z"
   },
   {
    "duration": 4989,
    "start_time": "2022-10-22T16:16:54.342Z"
   },
   {
    "duration": 4,
    "start_time": "2022-10-22T16:17:08.819Z"
   },
   {
    "duration": 3,
    "start_time": "2022-10-22T16:17:25.190Z"
   },
   {
    "duration": 7802,
    "start_time": "2022-10-22T16:17:58.347Z"
   },
   {
    "duration": 3,
    "start_time": "2022-10-22T16:18:06.151Z"
   },
   {
    "duration": 4129,
    "start_time": "2022-10-22T16:18:16.311Z"
   },
   {
    "duration": 5453,
    "start_time": "2022-10-22T16:18:35.425Z"
   },
   {
    "duration": 3915,
    "start_time": "2022-10-22T16:19:05.823Z"
   },
   {
    "duration": 4164,
    "start_time": "2022-10-22T16:19:47.219Z"
   },
   {
    "duration": 3479,
    "start_time": "2022-10-22T16:24:41.365Z"
   },
   {
    "duration": 4,
    "start_time": "2022-10-22T16:26:15.920Z"
   },
   {
    "duration": 34,
    "start_time": "2022-10-22T16:26:57.407Z"
   },
   {
    "duration": 4,
    "start_time": "2022-10-22T16:27:06.014Z"
   },
   {
    "duration": 4,
    "start_time": "2022-10-22T16:27:09.777Z"
   },
   {
    "duration": 4,
    "start_time": "2022-10-22T16:27:14.531Z"
   },
   {
    "duration": 13,
    "start_time": "2022-10-22T16:27:16.461Z"
   },
   {
    "duration": 4,
    "start_time": "2022-10-22T16:27:27.907Z"
   },
   {
    "duration": 10,
    "start_time": "2022-10-22T16:27:29.028Z"
   },
   {
    "duration": 7,
    "start_time": "2022-10-22T16:28:07.377Z"
   },
   {
    "duration": 16,
    "start_time": "2022-10-22T16:36:31.033Z"
   },
   {
    "duration": 4,
    "start_time": "2022-10-22T16:38:42.724Z"
   },
   {
    "duration": 8,
    "start_time": "2022-10-22T16:40:05.598Z"
   },
   {
    "duration": 3,
    "start_time": "2022-10-22T16:40:08.507Z"
   },
   {
    "duration": 12,
    "start_time": "2022-10-22T16:40:09.280Z"
   },
   {
    "duration": 7,
    "start_time": "2022-10-22T16:41:31.474Z"
   },
   {
    "duration": 3,
    "start_time": "2022-10-22T16:41:38.708Z"
   },
   {
    "duration": 400,
    "start_time": "2022-10-22T16:45:13.422Z"
   },
   {
    "duration": 30,
    "start_time": "2022-10-22T16:45:13.824Z"
   },
   {
    "duration": 23,
    "start_time": "2022-10-22T16:45:13.856Z"
   },
   {
    "duration": 20,
    "start_time": "2022-10-22T16:45:13.881Z"
   },
   {
    "duration": 45,
    "start_time": "2022-10-22T16:45:13.903Z"
   },
   {
    "duration": 9,
    "start_time": "2022-10-22T16:45:13.950Z"
   },
   {
    "duration": 10,
    "start_time": "2022-10-22T16:45:13.961Z"
   },
   {
    "duration": 10,
    "start_time": "2022-10-22T16:45:13.973Z"
   },
   {
    "duration": 50,
    "start_time": "2022-10-22T16:45:13.984Z"
   },
   {
    "duration": 0,
    "start_time": "2022-10-22T16:45:14.036Z"
   },
   {
    "duration": 70,
    "start_time": "2022-10-22T16:45:25.115Z"
   },
   {
    "duration": 8,
    "start_time": "2022-10-22T16:45:42.844Z"
   },
   {
    "duration": 4,
    "start_time": "2022-10-22T16:47:37.571Z"
   },
   {
    "duration": 9,
    "start_time": "2022-10-22T16:47:48.685Z"
   },
   {
    "duration": 4,
    "start_time": "2022-10-22T16:50:23.471Z"
   },
   {
    "duration": 9,
    "start_time": "2022-10-22T16:50:26.331Z"
   },
   {
    "duration": 4,
    "start_time": "2022-10-22T16:50:31.145Z"
   },
   {
    "duration": 8,
    "start_time": "2022-10-22T16:50:33.572Z"
   },
   {
    "duration": 9,
    "start_time": "2022-10-22T16:50:52.522Z"
   },
   {
    "duration": 4,
    "start_time": "2022-10-22T16:53:56.941Z"
   },
   {
    "duration": 3,
    "start_time": "2022-10-22T16:54:37.003Z"
   },
   {
    "duration": 4,
    "start_time": "2022-10-22T16:54:37.990Z"
   },
   {
    "duration": 4,
    "start_time": "2022-10-22T16:54:47.728Z"
   },
   {
    "duration": 4,
    "start_time": "2022-10-22T16:54:50.441Z"
   },
   {
    "duration": 4,
    "start_time": "2022-10-22T16:54:52.928Z"
   },
   {
    "duration": 4,
    "start_time": "2022-10-22T16:54:55.197Z"
   },
   {
    "duration": 442,
    "start_time": "2022-10-22T16:55:03.690Z"
   },
   {
    "duration": 32,
    "start_time": "2022-10-22T16:55:04.134Z"
   },
   {
    "duration": 22,
    "start_time": "2022-10-22T16:55:04.168Z"
   },
   {
    "duration": 18,
    "start_time": "2022-10-22T16:55:04.192Z"
   },
   {
    "duration": 37,
    "start_time": "2022-10-22T16:55:04.212Z"
   },
   {
    "duration": 10,
    "start_time": "2022-10-22T16:55:04.251Z"
   },
   {
    "duration": 5,
    "start_time": "2022-10-22T16:55:04.262Z"
   },
   {
    "duration": 6,
    "start_time": "2022-10-22T16:55:04.269Z"
   },
   {
    "duration": 5,
    "start_time": "2022-10-22T16:55:04.277Z"
   },
   {
    "duration": 28,
    "start_time": "2022-10-22T16:55:04.284Z"
   },
   {
    "duration": 80,
    "start_time": "2022-10-22T16:55:04.313Z"
   },
   {
    "duration": 0,
    "start_time": "2022-10-22T16:55:04.394Z"
   },
   {
    "duration": 4,
    "start_time": "2022-10-22T16:55:19.223Z"
   },
   {
    "duration": 4,
    "start_time": "2022-10-22T16:55:20.797Z"
   },
   {
    "duration": 2,
    "start_time": "2022-10-22T16:56:39.048Z"
   },
   {
    "duration": 4,
    "start_time": "2022-10-22T16:56:43.285Z"
   },
   {
    "duration": 4,
    "start_time": "2022-10-22T16:57:07.131Z"
   },
   {
    "duration": 423,
    "start_time": "2022-10-22T16:57:19.687Z"
   },
   {
    "duration": 29,
    "start_time": "2022-10-22T16:57:20.111Z"
   },
   {
    "duration": 18,
    "start_time": "2022-10-22T16:57:20.142Z"
   },
   {
    "duration": 12,
    "start_time": "2022-10-22T16:57:20.161Z"
   },
   {
    "duration": 55,
    "start_time": "2022-10-22T16:57:20.175Z"
   },
   {
    "duration": 10,
    "start_time": "2022-10-22T16:57:20.232Z"
   },
   {
    "duration": 6,
    "start_time": "2022-10-22T16:57:20.244Z"
   },
   {
    "duration": 5,
    "start_time": "2022-10-22T16:57:20.251Z"
   },
   {
    "duration": 7,
    "start_time": "2022-10-22T16:57:20.257Z"
   },
   {
    "duration": 6,
    "start_time": "2022-10-22T16:57:20.266Z"
   },
   {
    "duration": 5,
    "start_time": "2022-10-22T16:57:20.274Z"
   },
   {
    "duration": 85,
    "start_time": "2022-10-22T16:57:20.309Z"
   },
   {
    "duration": 0,
    "start_time": "2022-10-22T16:57:20.396Z"
   },
   {
    "duration": 4,
    "start_time": "2022-10-22T16:57:34.363Z"
   },
   {
    "duration": 362,
    "start_time": "2022-10-22T16:59:49.456Z"
   },
   {
    "duration": 28,
    "start_time": "2022-10-22T16:59:49.821Z"
   },
   {
    "duration": 19,
    "start_time": "2022-10-22T16:59:49.851Z"
   },
   {
    "duration": 12,
    "start_time": "2022-10-22T16:59:49.871Z"
   },
   {
    "duration": 46,
    "start_time": "2022-10-22T16:59:49.885Z"
   },
   {
    "duration": 10,
    "start_time": "2022-10-22T16:59:49.933Z"
   },
   {
    "duration": 5,
    "start_time": "2022-10-22T16:59:49.944Z"
   },
   {
    "duration": 6,
    "start_time": "2022-10-22T16:59:49.951Z"
   },
   {
    "duration": 6,
    "start_time": "2022-10-22T16:59:49.958Z"
   },
   {
    "duration": 95,
    "start_time": "2022-10-22T16:59:49.965Z"
   },
   {
    "duration": 0,
    "start_time": "2022-10-22T16:59:50.062Z"
   },
   {
    "duration": 0,
    "start_time": "2022-10-22T16:59:50.063Z"
   },
   {
    "duration": 0,
    "start_time": "2022-10-22T16:59:50.064Z"
   },
   {
    "duration": 7,
    "start_time": "2022-10-22T17:00:11.234Z"
   },
   {
    "duration": 7,
    "start_time": "2022-10-22T17:01:29.000Z"
   },
   {
    "duration": 7,
    "start_time": "2022-10-22T17:01:37.024Z"
   },
   {
    "duration": 7,
    "start_time": "2022-10-22T17:01:46.453Z"
   },
   {
    "duration": 6,
    "start_time": "2022-10-22T17:01:54.029Z"
   },
   {
    "duration": 6,
    "start_time": "2022-10-22T17:01:57.789Z"
   },
   {
    "duration": 7,
    "start_time": "2022-10-22T17:02:29.700Z"
   },
   {
    "duration": 416,
    "start_time": "2022-10-22T17:02:36.006Z"
   },
   {
    "duration": 29,
    "start_time": "2022-10-22T17:02:36.424Z"
   },
   {
    "duration": 20,
    "start_time": "2022-10-22T17:02:36.454Z"
   },
   {
    "duration": 26,
    "start_time": "2022-10-22T17:02:36.475Z"
   },
   {
    "duration": 50,
    "start_time": "2022-10-22T17:02:36.504Z"
   },
   {
    "duration": 11,
    "start_time": "2022-10-22T17:02:36.555Z"
   },
   {
    "duration": 11,
    "start_time": "2022-10-22T17:02:36.568Z"
   },
   {
    "duration": 12,
    "start_time": "2022-10-22T17:02:36.580Z"
   },
   {
    "duration": 16,
    "start_time": "2022-10-22T17:02:36.594Z"
   },
   {
    "duration": 70,
    "start_time": "2022-10-22T17:02:36.611Z"
   },
   {
    "duration": 0,
    "start_time": "2022-10-22T17:02:36.682Z"
   },
   {
    "duration": 0,
    "start_time": "2022-10-22T17:02:36.684Z"
   },
   {
    "duration": 0,
    "start_time": "2022-10-22T17:02:36.684Z"
   },
   {
    "duration": 0,
    "start_time": "2022-10-22T17:02:36.685Z"
   },
   {
    "duration": 4,
    "start_time": "2022-10-22T17:02:56.841Z"
   },
   {
    "duration": 8,
    "start_time": "2022-10-22T17:08:31.617Z"
   },
   {
    "duration": 5,
    "start_time": "2022-10-22T17:09:53.215Z"
   },
   {
    "duration": 4,
    "start_time": "2022-10-22T17:10:00.308Z"
   },
   {
    "duration": 5,
    "start_time": "2022-10-22T17:10:07.561Z"
   },
   {
    "duration": 4,
    "start_time": "2022-10-22T17:10:51.446Z"
   },
   {
    "duration": 4,
    "start_time": "2022-10-22T17:11:44.327Z"
   },
   {
    "duration": 5,
    "start_time": "2022-10-22T17:11:45.640Z"
   },
   {
    "duration": 3,
    "start_time": "2022-10-22T17:12:20.224Z"
   },
   {
    "duration": 10,
    "start_time": "2022-10-22T17:12:49.781Z"
   },
   {
    "duration": 3,
    "start_time": "2022-10-22T17:12:54.400Z"
   },
   {
    "duration": 15,
    "start_time": "2022-10-22T17:13:01.973Z"
   },
   {
    "duration": 4,
    "start_time": "2022-10-22T17:15:10.194Z"
   },
   {
    "duration": 17,
    "start_time": "2022-10-22T17:15:18.235Z"
   },
   {
    "duration": 363,
    "start_time": "2022-10-22T17:16:38.959Z"
   },
   {
    "duration": 29,
    "start_time": "2022-10-22T17:16:39.323Z"
   },
   {
    "duration": 19,
    "start_time": "2022-10-22T17:16:39.353Z"
   },
   {
    "duration": 19,
    "start_time": "2022-10-22T17:16:39.373Z"
   },
   {
    "duration": 42,
    "start_time": "2022-10-22T17:16:39.394Z"
   },
   {
    "duration": 10,
    "start_time": "2022-10-22T17:16:39.438Z"
   },
   {
    "duration": 11,
    "start_time": "2022-10-22T17:16:39.449Z"
   },
   {
    "duration": 32,
    "start_time": "2022-10-22T17:16:39.461Z"
   },
   {
    "duration": 36,
    "start_time": "2022-10-22T17:16:39.494Z"
   },
   {
    "duration": 437,
    "start_time": "2022-10-22T17:16:57.381Z"
   },
   {
    "duration": 33,
    "start_time": "2022-10-22T17:16:57.820Z"
   },
   {
    "duration": 20,
    "start_time": "2022-10-22T17:16:57.857Z"
   },
   {
    "duration": 12,
    "start_time": "2022-10-22T17:16:57.879Z"
   },
   {
    "duration": 37,
    "start_time": "2022-10-22T17:16:57.909Z"
   },
   {
    "duration": 10,
    "start_time": "2022-10-22T17:16:57.948Z"
   },
   {
    "duration": 6,
    "start_time": "2022-10-22T17:16:57.960Z"
   },
   {
    "duration": 28,
    "start_time": "2022-10-22T17:16:57.967Z"
   },
   {
    "duration": 26,
    "start_time": "2022-10-22T17:16:57.997Z"
   },
   {
    "duration": 12,
    "start_time": "2022-10-22T17:18:07.095Z"
   },
   {
    "duration": 401,
    "start_time": "2022-10-22T17:18:12.750Z"
   },
   {
    "duration": 29,
    "start_time": "2022-10-22T17:18:13.153Z"
   },
   {
    "duration": 25,
    "start_time": "2022-10-22T17:18:13.187Z"
   },
   {
    "duration": 11,
    "start_time": "2022-10-22T17:18:13.214Z"
   },
   {
    "duration": 36,
    "start_time": "2022-10-22T17:18:13.227Z"
   },
   {
    "duration": 9,
    "start_time": "2022-10-22T17:18:13.265Z"
   },
   {
    "duration": 4,
    "start_time": "2022-10-22T17:18:13.276Z"
   },
   {
    "duration": 27,
    "start_time": "2022-10-22T17:18:13.282Z"
   },
   {
    "duration": 3,
    "start_time": "2022-10-22T17:18:13.310Z"
   },
   {
    "duration": 74,
    "start_time": "2022-10-22T17:18:13.314Z"
   },
   {
    "duration": 12,
    "start_time": "2022-10-22T17:18:26.313Z"
   },
   {
    "duration": 12,
    "start_time": "2022-10-22T17:19:11.252Z"
   },
   {
    "duration": 419,
    "start_time": "2022-10-22T17:20:20.391Z"
   },
   {
    "duration": 32,
    "start_time": "2022-10-22T17:20:20.812Z"
   },
   {
    "duration": 20,
    "start_time": "2022-10-22T17:20:20.846Z"
   },
   {
    "duration": 12,
    "start_time": "2022-10-22T17:20:20.869Z"
   },
   {
    "duration": 65,
    "start_time": "2022-10-22T17:20:20.883Z"
   },
   {
    "duration": 11,
    "start_time": "2022-10-22T17:20:20.949Z"
   },
   {
    "duration": 5,
    "start_time": "2022-10-22T17:20:20.961Z"
   },
   {
    "duration": 13,
    "start_time": "2022-10-22T17:20:20.967Z"
   },
   {
    "duration": 368,
    "start_time": "2022-10-22T17:33:46.453Z"
   },
   {
    "duration": 30,
    "start_time": "2022-10-22T17:33:46.822Z"
   },
   {
    "duration": 19,
    "start_time": "2022-10-22T17:33:46.854Z"
   },
   {
    "duration": 11,
    "start_time": "2022-10-22T17:33:46.875Z"
   },
   {
    "duration": 49,
    "start_time": "2022-10-22T17:33:46.888Z"
   },
   {
    "duration": 22,
    "start_time": "2022-10-22T17:33:46.939Z"
   },
   {
    "duration": 9,
    "start_time": "2022-10-22T17:33:46.963Z"
   },
   {
    "duration": 5,
    "start_time": "2022-10-22T17:33:46.974Z"
   },
   {
    "duration": 13,
    "start_time": "2022-10-22T17:33:47.009Z"
   },
   {
    "duration": 428,
    "start_time": "2022-10-22T17:34:17.390Z"
   },
   {
    "duration": 29,
    "start_time": "2022-10-22T17:34:17.820Z"
   },
   {
    "duration": 19,
    "start_time": "2022-10-22T17:34:17.851Z"
   },
   {
    "duration": 12,
    "start_time": "2022-10-22T17:34:17.872Z"
   },
   {
    "duration": 55,
    "start_time": "2022-10-22T17:34:17.886Z"
   },
   {
    "duration": 24,
    "start_time": "2022-10-22T17:34:17.943Z"
   },
   {
    "duration": 11,
    "start_time": "2022-10-22T17:34:17.968Z"
   },
   {
    "duration": 29,
    "start_time": "2022-10-22T17:34:17.980Z"
   },
   {
    "duration": 13,
    "start_time": "2022-10-22T17:34:18.011Z"
   },
   {
    "duration": 449,
    "start_time": "2022-10-22T17:34:52.189Z"
   },
   {
    "duration": 33,
    "start_time": "2022-10-22T17:34:52.640Z"
   },
   {
    "duration": 23,
    "start_time": "2022-10-22T17:34:52.674Z"
   },
   {
    "duration": 22,
    "start_time": "2022-10-22T17:34:52.699Z"
   },
   {
    "duration": 48,
    "start_time": "2022-10-22T17:34:52.724Z"
   },
   {
    "duration": 48,
    "start_time": "2022-10-22T17:34:52.774Z"
   },
   {
    "duration": 10,
    "start_time": "2022-10-22T17:34:52.823Z"
   },
   {
    "duration": 7,
    "start_time": "2022-10-22T17:34:52.835Z"
   },
   {
    "duration": 17,
    "start_time": "2022-10-22T17:34:52.844Z"
   },
   {
    "duration": 363,
    "start_time": "2022-10-22T18:09:47.257Z"
   },
   {
    "duration": 30,
    "start_time": "2022-10-22T18:09:47.622Z"
   },
   {
    "duration": 19,
    "start_time": "2022-10-22T18:09:47.654Z"
   },
   {
    "duration": 12,
    "start_time": "2022-10-22T18:09:47.674Z"
   },
   {
    "duration": 44,
    "start_time": "2022-10-22T18:09:47.688Z"
   },
   {
    "duration": 9,
    "start_time": "2022-10-22T18:09:47.734Z"
   },
   {
    "duration": 5,
    "start_time": "2022-10-22T18:09:47.744Z"
   },
   {
    "duration": 35,
    "start_time": "2022-10-22T18:09:47.750Z"
   },
   {
    "duration": 374,
    "start_time": "2022-10-22T18:10:17.359Z"
   },
   {
    "duration": 28,
    "start_time": "2022-10-22T18:10:17.735Z"
   },
   {
    "duration": 22,
    "start_time": "2022-10-22T18:10:17.765Z"
   },
   {
    "duration": 27,
    "start_time": "2022-10-22T18:10:17.788Z"
   },
   {
    "duration": 66,
    "start_time": "2022-10-22T18:10:17.817Z"
   },
   {
    "duration": 10,
    "start_time": "2022-10-22T18:10:17.884Z"
   },
   {
    "duration": 32,
    "start_time": "2022-10-22T18:10:17.895Z"
   },
   {
    "duration": 43,
    "start_time": "2022-10-22T18:10:17.929Z"
   },
   {
    "duration": 380,
    "start_time": "2022-10-22T18:13:52.644Z"
   },
   {
    "duration": 29,
    "start_time": "2022-10-22T18:13:53.026Z"
   },
   {
    "duration": 20,
    "start_time": "2022-10-22T18:13:53.056Z"
   },
   {
    "duration": 11,
    "start_time": "2022-10-22T18:13:53.077Z"
   },
   {
    "duration": 53,
    "start_time": "2022-10-22T18:13:53.090Z"
   },
   {
    "duration": 10,
    "start_time": "2022-10-22T18:13:53.144Z"
   },
   {
    "duration": 5,
    "start_time": "2022-10-22T18:13:53.155Z"
   },
   {
    "duration": 49,
    "start_time": "2022-10-22T18:13:53.162Z"
   },
   {
    "duration": 63,
    "start_time": "2022-10-22T18:14:08.163Z"
   },
   {
    "duration": 391,
    "start_time": "2022-10-22T18:14:52.546Z"
   },
   {
    "duration": 29,
    "start_time": "2022-10-22T18:14:52.939Z"
   },
   {
    "duration": 42,
    "start_time": "2022-10-22T18:14:52.970Z"
   },
   {
    "duration": 29,
    "start_time": "2022-10-22T18:14:53.013Z"
   },
   {
    "duration": 57,
    "start_time": "2022-10-22T18:14:53.045Z"
   },
   {
    "duration": 10,
    "start_time": "2022-10-22T18:14:53.104Z"
   },
   {
    "duration": 30,
    "start_time": "2022-10-22T18:14:53.116Z"
   },
   {
    "duration": 53,
    "start_time": "2022-10-22T18:14:53.148Z"
   },
   {
    "duration": 43,
    "start_time": "2022-10-22T18:15:45.797Z"
   },
   {
    "duration": 13,
    "start_time": "2022-10-22T18:15:55.401Z"
   },
   {
    "duration": 15,
    "start_time": "2022-10-22T18:16:57.609Z"
   },
   {
    "duration": 394,
    "start_time": "2022-10-22T21:05:54.786Z"
   },
   {
    "duration": 38,
    "start_time": "2022-10-22T21:05:55.182Z"
   },
   {
    "duration": 18,
    "start_time": "2022-10-22T21:05:55.222Z"
   },
   {
    "duration": 12,
    "start_time": "2022-10-22T21:05:55.242Z"
   },
   {
    "duration": 36,
    "start_time": "2022-10-22T21:05:55.255Z"
   },
   {
    "duration": 28,
    "start_time": "2022-10-22T21:05:55.293Z"
   },
   {
    "duration": 5,
    "start_time": "2022-10-22T21:05:55.323Z"
   },
   {
    "duration": 15,
    "start_time": "2022-10-22T21:05:55.330Z"
   },
   {
    "duration": 392,
    "start_time": "2022-10-22T21:06:33.228Z"
   },
   {
    "duration": 29,
    "start_time": "2022-10-22T21:06:33.622Z"
   },
   {
    "duration": 20,
    "start_time": "2022-10-22T21:06:33.653Z"
   },
   {
    "duration": 18,
    "start_time": "2022-10-22T21:06:33.675Z"
   },
   {
    "duration": 40,
    "start_time": "2022-10-22T21:06:33.695Z"
   },
   {
    "duration": 12,
    "start_time": "2022-10-22T21:06:33.737Z"
   },
   {
    "duration": 8,
    "start_time": "2022-10-22T21:06:33.750Z"
   },
   {
    "duration": 24,
    "start_time": "2022-10-22T21:06:33.759Z"
   },
   {
    "duration": 11,
    "start_time": "2022-10-22T21:10:53.107Z"
   },
   {
    "duration": 4,
    "start_time": "2022-10-22T21:10:59.127Z"
   },
   {
    "duration": 77,
    "start_time": "2022-10-22T21:11:16.986Z"
   },
   {
    "duration": 8,
    "start_time": "2022-10-22T21:11:24.765Z"
   },
   {
    "duration": 5,
    "start_time": "2022-10-22T21:11:33.430Z"
   },
   {
    "duration": 6,
    "start_time": "2022-10-22T21:12:07.740Z"
   },
   {
    "duration": 8,
    "start_time": "2022-10-22T21:36:42.246Z"
   },
   {
    "duration": 8,
    "start_time": "2022-10-22T21:37:13.283Z"
   },
   {
    "duration": 43,
    "start_time": "2022-10-22T21:40:38.258Z"
   },
   {
    "duration": 9,
    "start_time": "2022-10-22T21:54:06.108Z"
   },
   {
    "duration": 9,
    "start_time": "2022-10-22T21:54:09.044Z"
   },
   {
    "duration": 7,
    "start_time": "2022-10-22T21:54:21.480Z"
   },
   {
    "duration": 5,
    "start_time": "2022-10-22T21:54:36.475Z"
   },
   {
    "duration": 6,
    "start_time": "2022-10-22T21:54:42.440Z"
   },
   {
    "duration": 12,
    "start_time": "2022-10-22T21:55:59.661Z"
   },
   {
    "duration": 17,
    "start_time": "2022-10-22T21:56:21.039Z"
   },
   {
    "duration": 12,
    "start_time": "2022-10-22T21:56:43.773Z"
   },
   {
    "duration": 24,
    "start_time": "2022-10-22T21:56:47.306Z"
   },
   {
    "duration": 11,
    "start_time": "2022-10-22T21:58:16.481Z"
   },
   {
    "duration": 21,
    "start_time": "2022-10-22T21:58:19.607Z"
   },
   {
    "duration": 424,
    "start_time": "2022-10-22T21:58:26.028Z"
   },
   {
    "duration": 28,
    "start_time": "2022-10-22T21:58:26.454Z"
   },
   {
    "duration": 19,
    "start_time": "2022-10-22T21:58:26.483Z"
   },
   {
    "duration": 64,
    "start_time": "2022-10-22T21:58:26.503Z"
   },
   {
    "duration": 59,
    "start_time": "2022-10-22T21:58:26.569Z"
   },
   {
    "duration": 21,
    "start_time": "2022-10-22T21:58:26.629Z"
   },
   {
    "duration": 35,
    "start_time": "2022-10-22T21:58:26.651Z"
   },
   {
    "duration": 37,
    "start_time": "2022-10-22T21:58:26.687Z"
   },
   {
    "duration": 23,
    "start_time": "2022-10-22T21:58:26.725Z"
   },
   {
    "duration": 28,
    "start_time": "2022-10-22T21:58:26.750Z"
   },
   {
    "duration": 22,
    "start_time": "2022-10-22T21:58:26.779Z"
   },
   {
    "duration": 27,
    "start_time": "2022-10-22T21:58:26.803Z"
   },
   {
    "duration": 14,
    "start_time": "2022-10-22T21:58:39.722Z"
   },
   {
    "duration": 16,
    "start_time": "2022-10-22T21:58:42.174Z"
   },
   {
    "duration": 4,
    "start_time": "2022-10-22T21:59:21.461Z"
   },
   {
    "duration": 401,
    "start_time": "2022-10-22T21:59:26.902Z"
   },
   {
    "duration": 39,
    "start_time": "2022-10-22T21:59:27.305Z"
   },
   {
    "duration": 18,
    "start_time": "2022-10-22T21:59:27.345Z"
   },
   {
    "duration": 10,
    "start_time": "2022-10-22T21:59:27.365Z"
   },
   {
    "duration": 44,
    "start_time": "2022-10-22T21:59:27.378Z"
   },
   {
    "duration": 9,
    "start_time": "2022-10-22T21:59:27.424Z"
   },
   {
    "duration": 5,
    "start_time": "2022-10-22T21:59:27.435Z"
   },
   {
    "duration": 16,
    "start_time": "2022-10-22T21:59:27.441Z"
   },
   {
    "duration": 10,
    "start_time": "2022-10-22T21:59:27.459Z"
   },
   {
    "duration": 22,
    "start_time": "2022-10-22T21:59:27.470Z"
   },
   {
    "duration": 34,
    "start_time": "2022-10-22T21:59:27.493Z"
   },
   {
    "duration": 17,
    "start_time": "2022-10-22T21:59:27.528Z"
   },
   {
    "duration": 26,
    "start_time": "2022-10-22T21:59:27.546Z"
   },
   {
    "duration": 4,
    "start_time": "2022-10-23T06:45:54.763Z"
   },
   {
    "duration": 411,
    "start_time": "2022-10-23T06:45:59.294Z"
   },
   {
    "duration": 164,
    "start_time": "2022-10-23T06:45:59.707Z"
   },
   {
    "duration": 29,
    "start_time": "2022-10-23T06:45:59.872Z"
   },
   {
    "duration": 16,
    "start_time": "2022-10-23T06:45:59.903Z"
   },
   {
    "duration": 56,
    "start_time": "2022-10-23T06:45:59.921Z"
   },
   {
    "duration": 3,
    "start_time": "2022-10-23T06:45:59.978Z"
   },
   {
    "duration": 13,
    "start_time": "2022-10-23T06:45:59.995Z"
   },
   {
    "duration": 6,
    "start_time": "2022-10-23T06:46:00.010Z"
   },
   {
    "duration": 18,
    "start_time": "2022-10-23T06:46:00.018Z"
   },
   {
    "duration": 13,
    "start_time": "2022-10-23T06:46:00.039Z"
   },
   {
    "duration": 12,
    "start_time": "2022-10-23T06:46:00.054Z"
   },
   {
    "duration": 42,
    "start_time": "2022-10-23T06:46:00.068Z"
   },
   {
    "duration": 25,
    "start_time": "2022-10-23T06:46:00.112Z"
   },
   {
    "duration": 25,
    "start_time": "2022-10-23T11:01:22.016Z"
   },
   {
    "duration": 13,
    "start_time": "2022-10-23T11:14:31.163Z"
   },
   {
    "duration": 2,
    "start_time": "2022-10-23T11:15:15.399Z"
   },
   {
    "duration": 1232,
    "start_time": "2022-10-23T11:15:52.148Z"
   },
   {
    "duration": 363,
    "start_time": "2022-10-23T11:16:04.253Z"
   },
   {
    "duration": 40,
    "start_time": "2022-10-23T11:16:04.618Z"
   },
   {
    "duration": 20,
    "start_time": "2022-10-23T11:16:04.660Z"
   },
   {
    "duration": 13,
    "start_time": "2022-10-23T11:16:04.683Z"
   },
   {
    "duration": 41,
    "start_time": "2022-10-23T11:16:04.698Z"
   },
   {
    "duration": 3,
    "start_time": "2022-10-23T11:16:04.740Z"
   },
   {
    "duration": 13,
    "start_time": "2022-10-23T11:16:04.745Z"
   },
   {
    "duration": 13,
    "start_time": "2022-10-23T11:16:04.760Z"
   },
   {
    "duration": 23,
    "start_time": "2022-10-23T11:16:04.775Z"
   },
   {
    "duration": 26,
    "start_time": "2022-10-23T11:16:04.800Z"
   },
   {
    "duration": 19,
    "start_time": "2022-10-23T11:16:04.827Z"
   },
   {
    "duration": 31,
    "start_time": "2022-10-23T11:16:04.847Z"
   },
   {
    "duration": 19,
    "start_time": "2022-10-23T11:16:04.879Z"
   },
   {
    "duration": 14,
    "start_time": "2022-10-23T11:23:30.099Z"
   },
   {
    "duration": 2,
    "start_time": "2022-10-23T11:24:02.527Z"
   },
   {
    "duration": 39,
    "start_time": "2022-10-23T11:24:03.231Z"
   },
   {
    "duration": 13,
    "start_time": "2022-10-23T11:24:03.696Z"
   },
   {
    "duration": 12,
    "start_time": "2022-10-23T11:24:04.352Z"
   },
   {
    "duration": 45,
    "start_time": "2022-10-23T11:24:07.055Z"
   },
   {
    "duration": 2,
    "start_time": "2022-10-23T11:24:10.795Z"
   },
   {
    "duration": 15,
    "start_time": "2022-10-23T11:24:14.479Z"
   },
   {
    "duration": 12,
    "start_time": "2022-10-23T11:24:48.281Z"
   },
   {
    "duration": 10,
    "start_time": "2022-10-23T11:25:19.528Z"
   },
   {
    "duration": 5,
    "start_time": "2022-10-23T11:25:28.896Z"
   },
   {
    "duration": 8,
    "start_time": "2022-10-23T11:25:51.269Z"
   },
   {
    "duration": 5,
    "start_time": "2022-10-23T11:25:51.654Z"
   },
   {
    "duration": 8,
    "start_time": "2022-10-23T11:25:52.182Z"
   },
   {
    "duration": 14,
    "start_time": "2022-10-23T11:26:31.359Z"
   },
   {
    "duration": 79,
    "start_time": "2022-10-23T11:58:12.676Z"
   },
   {
    "duration": 6,
    "start_time": "2022-10-23T12:01:08.211Z"
   },
   {
    "duration": 6,
    "start_time": "2022-10-23T12:01:11.114Z"
   },
   {
    "duration": 8,
    "start_time": "2022-10-23T12:01:11.646Z"
   },
   {
    "duration": 6,
    "start_time": "2022-10-23T12:02:24.057Z"
   },
   {
    "duration": 6,
    "start_time": "2022-10-23T12:02:24.524Z"
   },
   {
    "duration": 26,
    "start_time": "2022-10-23T12:03:00.488Z"
   },
   {
    "duration": 18,
    "start_time": "2022-10-23T12:03:33.943Z"
   },
   {
    "duration": 14,
    "start_time": "2022-10-23T12:03:53.756Z"
   },
   {
    "duration": 11,
    "start_time": "2022-10-23T12:04:12.664Z"
   },
   {
    "duration": 17,
    "start_time": "2022-10-23T12:07:33.917Z"
   },
   {
    "duration": 20,
    "start_time": "2022-10-23T12:07:41.045Z"
   },
   {
    "duration": 15,
    "start_time": "2022-10-23T12:07:46.892Z"
   },
   {
    "duration": 13,
    "start_time": "2022-10-23T12:08:47.138Z"
   },
   {
    "duration": 397,
    "start_time": "2022-10-23T12:08:52.929Z"
   },
   {
    "duration": 41,
    "start_time": "2022-10-23T12:08:53.328Z"
   },
   {
    "duration": 22,
    "start_time": "2022-10-23T12:08:53.370Z"
   },
   {
    "duration": 13,
    "start_time": "2022-10-23T12:08:53.394Z"
   },
   {
    "duration": 44,
    "start_time": "2022-10-23T12:08:53.410Z"
   },
   {
    "duration": 4,
    "start_time": "2022-10-23T12:08:53.456Z"
   },
   {
    "duration": 48,
    "start_time": "2022-10-23T12:08:53.463Z"
   },
   {
    "duration": 12,
    "start_time": "2022-10-23T12:08:53.513Z"
   },
   {
    "duration": 6,
    "start_time": "2022-10-23T12:08:53.527Z"
   },
   {
    "duration": 12,
    "start_time": "2022-10-23T12:08:53.535Z"
   },
   {
    "duration": 6,
    "start_time": "2022-10-23T12:08:53.548Z"
   },
   {
    "duration": 41,
    "start_time": "2022-10-23T12:08:53.555Z"
   },
   {
    "duration": 15,
    "start_time": "2022-10-23T12:08:53.597Z"
   },
   {
    "duration": 6,
    "start_time": "2022-10-23T12:08:53.614Z"
   },
   {
    "duration": 8,
    "start_time": "2022-10-23T12:08:53.622Z"
   },
   {
    "duration": 22,
    "start_time": "2022-10-23T12:08:53.631Z"
   },
   {
    "duration": 43,
    "start_time": "2022-10-23T12:08:53.655Z"
   },
   {
    "duration": 15,
    "start_time": "2022-10-23T12:09:34.751Z"
   },
   {
    "duration": 403,
    "start_time": "2022-10-23T12:09:37.405Z"
   },
   {
    "duration": 40,
    "start_time": "2022-10-23T12:09:37.810Z"
   },
   {
    "duration": 23,
    "start_time": "2022-10-23T12:09:37.851Z"
   },
   {
    "duration": 12,
    "start_time": "2022-10-23T12:09:37.876Z"
   },
   {
    "duration": 43,
    "start_time": "2022-10-23T12:09:37.890Z"
   },
   {
    "duration": 2,
    "start_time": "2022-10-23T12:09:37.935Z"
   },
   {
    "duration": 18,
    "start_time": "2022-10-23T12:09:37.938Z"
   },
   {
    "duration": 15,
    "start_time": "2022-10-23T12:09:37.957Z"
   },
   {
    "duration": 23,
    "start_time": "2022-10-23T12:09:37.973Z"
   },
   {
    "duration": 11,
    "start_time": "2022-10-23T12:09:37.998Z"
   },
   {
    "duration": 11,
    "start_time": "2022-10-23T12:09:38.010Z"
   },
   {
    "duration": 11,
    "start_time": "2022-10-23T12:09:38.022Z"
   },
   {
    "duration": 14,
    "start_time": "2022-10-23T12:09:38.034Z"
   },
   {
    "duration": 7,
    "start_time": "2022-10-23T12:09:38.050Z"
   },
   {
    "duration": 37,
    "start_time": "2022-10-23T12:09:38.059Z"
   },
   {
    "duration": 24,
    "start_time": "2022-10-23T12:09:38.098Z"
   },
   {
    "duration": 15,
    "start_time": "2022-10-23T12:09:38.125Z"
   },
   {
    "duration": 406,
    "start_time": "2022-10-23T12:10:07.813Z"
   },
   {
    "duration": 40,
    "start_time": "2022-10-23T12:10:08.221Z"
   },
   {
    "duration": 19,
    "start_time": "2022-10-23T12:10:08.263Z"
   },
   {
    "duration": 13,
    "start_time": "2022-10-23T12:10:08.284Z"
   },
   {
    "duration": 40,
    "start_time": "2022-10-23T12:10:08.299Z"
   },
   {
    "duration": 3,
    "start_time": "2022-10-23T12:10:08.341Z"
   },
   {
    "duration": 17,
    "start_time": "2022-10-23T12:10:08.346Z"
   },
   {
    "duration": 35,
    "start_time": "2022-10-23T12:10:08.364Z"
   },
   {
    "duration": 6,
    "start_time": "2022-10-23T12:10:08.400Z"
   },
   {
    "duration": 10,
    "start_time": "2022-10-23T12:10:08.407Z"
   },
   {
    "duration": 4,
    "start_time": "2022-10-23T12:10:08.419Z"
   },
   {
    "duration": 9,
    "start_time": "2022-10-23T12:10:08.424Z"
   },
   {
    "duration": 13,
    "start_time": "2022-10-23T12:10:08.434Z"
   },
   {
    "duration": 5,
    "start_time": "2022-10-23T12:10:08.449Z"
   },
   {
    "duration": 40,
    "start_time": "2022-10-23T12:10:08.456Z"
   },
   {
    "duration": 18,
    "start_time": "2022-10-23T12:10:08.498Z"
   },
   {
    "duration": 11,
    "start_time": "2022-10-23T12:10:08.519Z"
   },
   {
    "duration": 429,
    "start_time": "2022-10-23T12:10:52.470Z"
   },
   {
    "duration": 41,
    "start_time": "2022-10-23T12:10:52.901Z"
   },
   {
    "duration": 19,
    "start_time": "2022-10-23T12:10:52.943Z"
   },
   {
    "duration": 13,
    "start_time": "2022-10-23T12:10:52.964Z"
   },
   {
    "duration": 41,
    "start_time": "2022-10-23T12:10:52.978Z"
   },
   {
    "duration": 2,
    "start_time": "2022-10-23T12:10:53.021Z"
   },
   {
    "duration": 17,
    "start_time": "2022-10-23T12:10:53.024Z"
   },
   {
    "duration": 13,
    "start_time": "2022-10-23T12:10:53.043Z"
   },
   {
    "duration": 6,
    "start_time": "2022-10-23T12:10:53.058Z"
   },
   {
    "duration": 33,
    "start_time": "2022-10-23T12:10:53.066Z"
   },
   {
    "duration": 5,
    "start_time": "2022-10-23T12:10:53.100Z"
   },
   {
    "duration": 11,
    "start_time": "2022-10-23T12:10:53.107Z"
   },
   {
    "duration": 14,
    "start_time": "2022-10-23T12:10:53.120Z"
   },
   {
    "duration": 6,
    "start_time": "2022-10-23T12:10:53.136Z"
   },
   {
    "duration": 10,
    "start_time": "2022-10-23T12:10:53.144Z"
   },
   {
    "duration": 53,
    "start_time": "2022-10-23T12:10:53.156Z"
   },
   {
    "duration": 13,
    "start_time": "2022-10-23T12:10:53.211Z"
   },
   {
    "duration": 394,
    "start_time": "2022-10-23T12:14:50.710Z"
   },
   {
    "duration": 40,
    "start_time": "2022-10-23T12:14:51.106Z"
   },
   {
    "duration": 19,
    "start_time": "2022-10-23T12:14:51.148Z"
   },
   {
    "duration": 13,
    "start_time": "2022-10-23T12:14:51.169Z"
   },
   {
    "duration": 44,
    "start_time": "2022-10-23T12:14:51.183Z"
   },
   {
    "duration": 2,
    "start_time": "2022-10-23T12:14:51.229Z"
   },
   {
    "duration": 18,
    "start_time": "2022-10-23T12:14:51.233Z"
   },
   {
    "duration": 17,
    "start_time": "2022-10-23T12:14:51.252Z"
   },
   {
    "duration": 6,
    "start_time": "2022-10-23T12:14:51.271Z"
   },
   {
    "duration": 7,
    "start_time": "2022-10-23T12:14:51.296Z"
   },
   {
    "duration": 6,
    "start_time": "2022-10-23T12:14:51.304Z"
   },
   {
    "duration": 13,
    "start_time": "2022-10-23T12:14:51.311Z"
   },
   {
    "duration": 13,
    "start_time": "2022-10-23T12:14:51.326Z"
   },
   {
    "duration": 6,
    "start_time": "2022-10-23T12:14:51.341Z"
   },
   {
    "duration": 7,
    "start_time": "2022-10-23T12:14:51.348Z"
   },
   {
    "duration": 57,
    "start_time": "2022-10-23T12:14:51.357Z"
   },
   {
    "duration": 385,
    "start_time": "2022-10-23T15:05:01.426Z"
   },
   {
    "duration": 42,
    "start_time": "2022-10-23T15:05:01.813Z"
   },
   {
    "duration": 20,
    "start_time": "2022-10-23T15:05:01.856Z"
   },
   {
    "duration": 17,
    "start_time": "2022-10-23T15:05:01.878Z"
   },
   {
    "duration": 43,
    "start_time": "2022-10-23T15:05:01.897Z"
   },
   {
    "duration": 2,
    "start_time": "2022-10-23T15:05:01.942Z"
   },
   {
    "duration": 16,
    "start_time": "2022-10-23T15:05:01.946Z"
   },
   {
    "duration": 39,
    "start_time": "2022-10-23T15:05:01.964Z"
   },
   {
    "duration": 5,
    "start_time": "2022-10-23T15:05:02.005Z"
   },
   {
    "duration": 8,
    "start_time": "2022-10-23T15:05:02.013Z"
   },
   {
    "duration": 5,
    "start_time": "2022-10-23T15:05:02.023Z"
   },
   {
    "duration": 14,
    "start_time": "2022-10-23T15:05:02.030Z"
   },
   {
    "duration": 52,
    "start_time": "2022-10-23T15:05:02.046Z"
   },
   {
    "duration": 7,
    "start_time": "2022-10-23T15:05:02.100Z"
   },
   {
    "duration": 13,
    "start_time": "2022-10-23T15:05:02.109Z"
   },
   {
    "duration": 20,
    "start_time": "2022-10-23T15:05:02.124Z"
   },
   {
    "duration": 412,
    "start_time": "2022-10-24T06:09:21.310Z"
   },
   {
    "duration": 57,
    "start_time": "2022-10-24T06:09:21.724Z"
   },
   {
    "duration": 19,
    "start_time": "2022-10-24T06:09:21.782Z"
   },
   {
    "duration": 12,
    "start_time": "2022-10-24T06:09:21.802Z"
   },
   {
    "duration": 36,
    "start_time": "2022-10-24T06:09:21.816Z"
   },
   {
    "duration": 3,
    "start_time": "2022-10-24T06:09:21.854Z"
   },
   {
    "duration": 15,
    "start_time": "2022-10-24T06:09:21.858Z"
   },
   {
    "duration": 35,
    "start_time": "2022-10-24T06:09:21.874Z"
   },
   {
    "duration": 6,
    "start_time": "2022-10-24T06:09:21.910Z"
   },
   {
    "duration": 20,
    "start_time": "2022-10-24T06:09:21.917Z"
   },
   {
    "duration": 15,
    "start_time": "2022-10-24T06:09:21.938Z"
   },
   {
    "duration": 20,
    "start_time": "2022-10-24T06:09:21.955Z"
   },
   {
    "duration": 25,
    "start_time": "2022-10-24T06:09:21.977Z"
   },
   {
    "duration": 9,
    "start_time": "2022-10-24T06:09:22.005Z"
   },
   {
    "duration": 31,
    "start_time": "2022-10-24T06:09:22.015Z"
   },
   {
    "duration": 39,
    "start_time": "2022-10-24T06:09:22.048Z"
   },
   {
    "duration": 74,
    "start_time": "2022-10-25T10:14:09.515Z"
   },
   {
    "duration": 432,
    "start_time": "2022-10-25T10:14:13.671Z"
   },
   {
    "duration": 172,
    "start_time": "2022-10-25T10:14:14.105Z"
   },
   {
    "duration": 23,
    "start_time": "2022-10-25T10:14:14.279Z"
   },
   {
    "duration": 14,
    "start_time": "2022-10-25T10:14:14.304Z"
   },
   {
    "duration": 45,
    "start_time": "2022-10-25T10:14:14.320Z"
   },
   {
    "duration": 3,
    "start_time": "2022-10-25T10:14:14.367Z"
   },
   {
    "duration": 90,
    "start_time": "2022-10-25T10:14:14.372Z"
   },
   {
    "duration": 0,
    "start_time": "2022-10-25T10:14:14.464Z"
   },
   {
    "duration": 0,
    "start_time": "2022-10-25T10:14:14.466Z"
   },
   {
    "duration": 0,
    "start_time": "2022-10-25T10:14:14.467Z"
   },
   {
    "duration": 0,
    "start_time": "2022-10-25T10:14:14.468Z"
   },
   {
    "duration": 0,
    "start_time": "2022-10-25T10:14:14.469Z"
   },
   {
    "duration": 0,
    "start_time": "2022-10-25T10:14:14.470Z"
   },
   {
    "duration": 0,
    "start_time": "2022-10-25T10:14:14.471Z"
   },
   {
    "duration": 0,
    "start_time": "2022-10-25T10:14:14.472Z"
   },
   {
    "duration": 0,
    "start_time": "2022-10-25T10:14:14.473Z"
   },
   {
    "duration": 0,
    "start_time": "2022-10-25T10:14:14.474Z"
   },
   {
    "duration": 5,
    "start_time": "2022-10-25T10:14:26.338Z"
   },
   {
    "duration": 416,
    "start_time": "2022-10-25T10:15:17.265Z"
   },
   {
    "duration": 46,
    "start_time": "2022-10-25T10:15:17.684Z"
   },
   {
    "duration": 26,
    "start_time": "2022-10-25T10:15:17.735Z"
   },
   {
    "duration": 16,
    "start_time": "2022-10-25T10:15:17.762Z"
   },
   {
    "duration": 96,
    "start_time": "2022-10-25T10:15:17.780Z"
   },
   {
    "duration": 3,
    "start_time": "2022-10-25T10:15:17.877Z"
   },
   {
    "duration": 151,
    "start_time": "2022-10-25T10:15:17.882Z"
   },
   {
    "duration": 28,
    "start_time": "2022-10-25T10:15:18.035Z"
   },
   {
    "duration": 14,
    "start_time": "2022-10-25T10:15:18.067Z"
   },
   {
    "duration": 10,
    "start_time": "2022-10-25T10:15:18.082Z"
   },
   {
    "duration": 15,
    "start_time": "2022-10-25T10:15:18.094Z"
   },
   {
    "duration": 6,
    "start_time": "2022-10-25T10:15:18.125Z"
   },
   {
    "duration": 14,
    "start_time": "2022-10-25T10:15:18.134Z"
   },
   {
    "duration": 17,
    "start_time": "2022-10-25T10:15:18.151Z"
   },
   {
    "duration": 7,
    "start_time": "2022-10-25T10:15:18.170Z"
   },
   {
    "duration": 7,
    "start_time": "2022-10-25T10:15:18.223Z"
   },
   {
    "duration": 40,
    "start_time": "2022-10-25T10:15:18.232Z"
   },
   {
    "duration": 413,
    "start_time": "2022-10-26T12:01:35.496Z"
   },
   {
    "duration": 83,
    "start_time": "2022-10-26T12:01:35.911Z"
   },
   {
    "duration": 21,
    "start_time": "2022-10-26T12:01:35.996Z"
   },
   {
    "duration": 12,
    "start_time": "2022-10-26T12:01:36.019Z"
   },
   {
    "duration": 52,
    "start_time": "2022-10-26T12:01:36.034Z"
   },
   {
    "duration": 3,
    "start_time": "2022-10-26T12:01:36.087Z"
   },
   {
    "duration": 8,
    "start_time": "2022-10-26T12:01:36.091Z"
   },
   {
    "duration": 16,
    "start_time": "2022-10-26T12:01:36.100Z"
   },
   {
    "duration": 13,
    "start_time": "2022-10-26T12:01:36.118Z"
   },
   {
    "duration": 5,
    "start_time": "2022-10-26T12:01:36.132Z"
   },
   {
    "duration": 43,
    "start_time": "2022-10-26T12:01:36.139Z"
   },
   {
    "duration": 6,
    "start_time": "2022-10-26T12:01:36.184Z"
   },
   {
    "duration": 10,
    "start_time": "2022-10-26T12:01:36.192Z"
   },
   {
    "duration": 12,
    "start_time": "2022-10-26T12:01:36.204Z"
   },
   {
    "duration": 6,
    "start_time": "2022-10-26T12:01:36.218Z"
   },
   {
    "duration": 51,
    "start_time": "2022-10-26T12:01:36.226Z"
   },
   {
    "duration": 18,
    "start_time": "2022-10-26T12:01:36.278Z"
   },
   {
    "duration": 928,
    "start_time": "2022-10-26T15:03:30.177Z"
   },
   {
    "duration": 990,
    "start_time": "2022-10-26T15:03:59.197Z"
   },
   {
    "duration": 1162,
    "start_time": "2022-10-26T15:04:03.752Z"
   },
   {
    "duration": 41,
    "start_time": "2022-10-26T15:04:04.915Z"
   },
   {
    "duration": 17,
    "start_time": "2022-10-26T15:04:04.957Z"
   },
   {
    "duration": 13,
    "start_time": "2022-10-26T15:04:04.977Z"
   },
   {
    "duration": 39,
    "start_time": "2022-10-26T15:04:04.992Z"
   },
   {
    "duration": 591,
    "start_time": "2022-10-26T15:04:47.730Z"
   },
   {
    "duration": 42,
    "start_time": "2022-10-26T15:04:48.323Z"
   },
   {
    "duration": 16,
    "start_time": "2022-10-26T15:04:48.367Z"
   },
   {
    "duration": 23,
    "start_time": "2022-10-26T15:04:48.385Z"
   },
   {
    "duration": 43,
    "start_time": "2022-10-26T15:04:48.410Z"
   },
   {
    "duration": 127221,
    "start_time": "2022-10-26T15:04:48.454Z"
   },
   {
    "duration": 5,
    "start_time": "2022-10-26T15:06:55.677Z"
   },
   {
    "duration": 61,
    "start_time": "2022-10-26T15:06:55.683Z"
   },
   {
    "duration": 28,
    "start_time": "2022-10-26T15:06:55.746Z"
   },
   {
    "duration": 21,
    "start_time": "2022-10-26T15:06:55.777Z"
   },
   {
    "duration": 20,
    "start_time": "2022-10-26T15:06:55.799Z"
   },
   {
    "duration": 27,
    "start_time": "2022-10-26T15:06:55.820Z"
   },
   {
    "duration": 21,
    "start_time": "2022-10-26T15:06:55.849Z"
   },
   {
    "duration": 77,
    "start_time": "2022-10-26T15:06:55.873Z"
   },
   {
    "duration": 37,
    "start_time": "2022-10-26T15:06:55.952Z"
   },
   {
    "duration": 43,
    "start_time": "2022-10-26T15:06:55.990Z"
   },
   {
    "duration": 78,
    "start_time": "2022-10-26T15:06:56.034Z"
   },
   {
    "duration": 826,
    "start_time": "2022-10-26T15:24:08.252Z"
   },
   {
    "duration": 696,
    "start_time": "2022-10-26T15:24:20.757Z"
   },
   {
    "duration": 40,
    "start_time": "2022-10-26T15:24:21.455Z"
   },
   {
    "duration": 16,
    "start_time": "2022-10-26T15:24:21.497Z"
   },
   {
    "duration": 13,
    "start_time": "2022-10-26T15:24:21.516Z"
   },
   {
    "duration": 65,
    "start_time": "2022-10-26T15:24:21.531Z"
   },
   {
    "duration": 174,
    "start_time": "2022-10-26T15:24:21.598Z"
   },
   {
    "duration": 7,
    "start_time": "2022-10-26T15:24:21.774Z"
   },
   {
    "duration": 43,
    "start_time": "2022-10-26T15:24:21.783Z"
   },
   {
    "duration": 17,
    "start_time": "2022-10-26T15:24:21.827Z"
   },
   {
    "duration": 6,
    "start_time": "2022-10-26T15:24:21.847Z"
   },
   {
    "duration": 22,
    "start_time": "2022-10-26T15:24:21.855Z"
   },
   {
    "duration": 5,
    "start_time": "2022-10-26T15:24:21.878Z"
   },
   {
    "duration": 11,
    "start_time": "2022-10-26T15:24:21.884Z"
   },
   {
    "duration": 14,
    "start_time": "2022-10-26T15:24:21.896Z"
   },
   {
    "duration": 6,
    "start_time": "2022-10-26T15:24:21.912Z"
   },
   {
    "duration": 8,
    "start_time": "2022-10-26T15:24:21.920Z"
   },
   {
    "duration": 64,
    "start_time": "2022-10-26T15:24:21.930Z"
   },
   {
    "duration": 689,
    "start_time": "2022-10-26T15:28:01.146Z"
   },
   {
    "duration": 42,
    "start_time": "2022-10-26T15:28:01.837Z"
   },
   {
    "duration": 16,
    "start_time": "2022-10-26T15:28:01.881Z"
   },
   {
    "duration": 29,
    "start_time": "2022-10-26T15:28:01.899Z"
   },
   {
    "duration": 66,
    "start_time": "2022-10-26T15:28:01.930Z"
   },
   {
    "duration": 160,
    "start_time": "2022-10-26T15:28:01.998Z"
   },
   {
    "duration": 5,
    "start_time": "2022-10-26T15:28:02.159Z"
   },
   {
    "duration": 49,
    "start_time": "2022-10-26T15:28:02.166Z"
   },
   {
    "duration": 34,
    "start_time": "2022-10-26T15:28:02.217Z"
   },
   {
    "duration": 12,
    "start_time": "2022-10-26T15:28:02.254Z"
   },
   {
    "duration": 24,
    "start_time": "2022-10-26T15:28:02.267Z"
   },
   {
    "duration": 11,
    "start_time": "2022-10-26T15:28:02.293Z"
   },
   {
    "duration": 15,
    "start_time": "2022-10-26T15:28:02.306Z"
   },
   {
    "duration": 18,
    "start_time": "2022-10-26T15:28:02.323Z"
   },
   {
    "duration": 13,
    "start_time": "2022-10-26T15:28:02.343Z"
   },
   {
    "duration": 24,
    "start_time": "2022-10-26T15:28:02.358Z"
   },
   {
    "duration": 28,
    "start_time": "2022-10-26T15:28:02.384Z"
   },
   {
    "duration": 694,
    "start_time": "2022-10-26T15:28:16.555Z"
   },
   {
    "duration": 42,
    "start_time": "2022-10-26T15:28:17.250Z"
   },
   {
    "duration": 20,
    "start_time": "2022-10-26T15:28:17.295Z"
   },
   {
    "duration": 16,
    "start_time": "2022-10-26T15:28:17.317Z"
   },
   {
    "duration": 88,
    "start_time": "2022-10-26T15:28:17.334Z"
   },
   {
    "duration": 169,
    "start_time": "2022-10-26T15:28:17.424Z"
   },
   {
    "duration": 6,
    "start_time": "2022-10-26T15:28:17.595Z"
   },
   {
    "duration": 56,
    "start_time": "2022-10-26T15:28:17.603Z"
   },
   {
    "duration": 19,
    "start_time": "2022-10-26T15:28:17.661Z"
   },
   {
    "duration": 6,
    "start_time": "2022-10-26T15:28:17.681Z"
   },
   {
    "duration": 12,
    "start_time": "2022-10-26T15:28:17.689Z"
   },
   {
    "duration": 9,
    "start_time": "2022-10-26T15:28:17.703Z"
   },
   {
    "duration": 11,
    "start_time": "2022-10-26T15:28:17.714Z"
   },
   {
    "duration": 21,
    "start_time": "2022-10-26T15:28:17.727Z"
   },
   {
    "duration": 31,
    "start_time": "2022-10-26T15:28:17.750Z"
   },
   {
    "duration": 43,
    "start_time": "2022-10-26T15:28:17.783Z"
   },
   {
    "duration": 35,
    "start_time": "2022-10-26T15:28:17.828Z"
   },
   {
    "duration": 48,
    "start_time": "2022-10-26T15:30:20.055Z"
   },
   {
    "duration": 651,
    "start_time": "2022-10-26T15:30:23.428Z"
   },
   {
    "duration": 42,
    "start_time": "2022-10-26T15:30:24.081Z"
   },
   {
    "duration": 17,
    "start_time": "2022-10-26T15:30:24.124Z"
   },
   {
    "duration": 40,
    "start_time": "2022-10-26T15:30:24.143Z"
   },
   {
    "duration": 58,
    "start_time": "2022-10-26T15:30:24.184Z"
   },
   {
    "duration": 44,
    "start_time": "2022-10-26T15:30:24.244Z"
   },
   {
    "duration": 0,
    "start_time": "2022-10-26T15:30:24.290Z"
   },
   {
    "duration": 0,
    "start_time": "2022-10-26T15:30:24.292Z"
   },
   {
    "duration": 0,
    "start_time": "2022-10-26T15:30:24.294Z"
   },
   {
    "duration": 0,
    "start_time": "2022-10-26T15:30:24.295Z"
   },
   {
    "duration": 0,
    "start_time": "2022-10-26T15:30:24.296Z"
   },
   {
    "duration": 0,
    "start_time": "2022-10-26T15:30:24.298Z"
   },
   {
    "duration": 0,
    "start_time": "2022-10-26T15:30:24.299Z"
   },
   {
    "duration": 0,
    "start_time": "2022-10-26T15:30:24.301Z"
   },
   {
    "duration": 0,
    "start_time": "2022-10-26T15:30:24.302Z"
   },
   {
    "duration": 0,
    "start_time": "2022-10-26T15:30:24.303Z"
   },
   {
    "duration": 0,
    "start_time": "2022-10-26T15:30:24.305Z"
   },
   {
    "duration": 623,
    "start_time": "2022-10-26T15:30:35.402Z"
   },
   {
    "duration": 41,
    "start_time": "2022-10-26T15:30:36.027Z"
   },
   {
    "duration": 19,
    "start_time": "2022-10-26T15:30:36.070Z"
   },
   {
    "duration": 13,
    "start_time": "2022-10-26T15:30:36.091Z"
   },
   {
    "duration": 44,
    "start_time": "2022-10-26T15:30:36.106Z"
   },
   {
    "duration": 246,
    "start_time": "2022-10-26T15:30:36.151Z"
   },
   {
    "duration": 0,
    "start_time": "2022-10-26T15:30:36.400Z"
   },
   {
    "duration": 0,
    "start_time": "2022-10-26T15:30:36.401Z"
   },
   {
    "duration": 0,
    "start_time": "2022-10-26T15:30:36.403Z"
   },
   {
    "duration": 0,
    "start_time": "2022-10-26T15:30:36.404Z"
   },
   {
    "duration": 0,
    "start_time": "2022-10-26T15:30:36.406Z"
   },
   {
    "duration": 0,
    "start_time": "2022-10-26T15:30:36.407Z"
   },
   {
    "duration": 0,
    "start_time": "2022-10-26T15:30:36.409Z"
   },
   {
    "duration": 0,
    "start_time": "2022-10-26T15:30:36.410Z"
   },
   {
    "duration": 0,
    "start_time": "2022-10-26T15:30:36.412Z"
   },
   {
    "duration": 0,
    "start_time": "2022-10-26T15:30:36.414Z"
   },
   {
    "duration": 0,
    "start_time": "2022-10-26T15:30:36.416Z"
   },
   {
    "duration": 160,
    "start_time": "2022-10-26T15:32:16.909Z"
   },
   {
    "duration": 692,
    "start_time": "2022-10-26T15:32:54.771Z"
   },
   {
    "duration": 41,
    "start_time": "2022-10-26T15:32:55.465Z"
   },
   {
    "duration": 19,
    "start_time": "2022-10-26T15:32:55.508Z"
   },
   {
    "duration": 13,
    "start_time": "2022-10-26T15:32:55.529Z"
   },
   {
    "duration": 49,
    "start_time": "2022-10-26T15:32:55.544Z"
   },
   {
    "duration": 161,
    "start_time": "2022-10-26T15:32:55.594Z"
   },
   {
    "duration": 4,
    "start_time": "2022-10-26T15:32:55.756Z"
   },
   {
    "duration": 51,
    "start_time": "2022-10-26T15:32:55.762Z"
   },
   {
    "duration": 25,
    "start_time": "2022-10-26T15:32:55.815Z"
   },
   {
    "duration": 7,
    "start_time": "2022-10-26T15:32:55.842Z"
   },
   {
    "duration": 27,
    "start_time": "2022-10-26T15:32:55.851Z"
   },
   {
    "duration": 6,
    "start_time": "2022-10-26T15:32:55.880Z"
   },
   {
    "duration": 12,
    "start_time": "2022-10-26T15:32:55.888Z"
   },
   {
    "duration": 24,
    "start_time": "2022-10-26T15:32:55.903Z"
   },
   {
    "duration": 7,
    "start_time": "2022-10-26T15:32:55.929Z"
   },
   {
    "duration": 17,
    "start_time": "2022-10-26T15:32:55.937Z"
   },
   {
    "duration": 38,
    "start_time": "2022-10-26T15:32:55.955Z"
   },
   {
    "duration": 640,
    "start_time": "2022-10-26T15:34:31.327Z"
   },
   {
    "duration": 42,
    "start_time": "2022-10-26T15:34:31.969Z"
   },
   {
    "duration": 17,
    "start_time": "2022-10-26T15:34:32.012Z"
   },
   {
    "duration": 24,
    "start_time": "2022-10-26T15:34:32.031Z"
   },
   {
    "duration": 58,
    "start_time": "2022-10-26T15:34:32.057Z"
   },
   {
    "duration": 155,
    "start_time": "2022-10-26T15:34:32.117Z"
   },
   {
    "duration": 5,
    "start_time": "2022-10-26T15:34:32.277Z"
   },
   {
    "duration": 68,
    "start_time": "2022-10-26T15:34:32.283Z"
   },
   {
    "duration": 43,
    "start_time": "2022-10-26T15:34:32.353Z"
   },
   {
    "duration": 15,
    "start_time": "2022-10-26T15:34:32.397Z"
   },
   {
    "duration": 32,
    "start_time": "2022-10-26T15:34:32.413Z"
   },
   {
    "duration": 5,
    "start_time": "2022-10-26T15:34:32.447Z"
   },
   {
    "duration": 10,
    "start_time": "2022-10-26T15:34:32.454Z"
   },
   {
    "duration": 13,
    "start_time": "2022-10-26T15:34:32.467Z"
   },
   {
    "duration": 6,
    "start_time": "2022-10-26T15:34:32.482Z"
   },
   {
    "duration": 11,
    "start_time": "2022-10-26T15:34:32.489Z"
   },
   {
    "duration": 22,
    "start_time": "2022-10-26T15:34:32.502Z"
   },
   {
    "duration": 1060,
    "start_time": "2022-10-26T15:49:14.853Z"
   },
   {
    "duration": 41,
    "start_time": "2022-10-26T15:49:15.915Z"
   },
   {
    "duration": 19,
    "start_time": "2022-10-26T15:49:15.958Z"
   },
   {
    "duration": 14,
    "start_time": "2022-10-26T15:49:15.979Z"
   },
   {
    "duration": 41,
    "start_time": "2022-10-26T15:49:15.996Z"
   },
   {
    "duration": 491,
    "start_time": "2022-10-26T15:49:16.038Z"
   },
   {
    "duration": 0,
    "start_time": "2022-10-26T15:49:16.531Z"
   },
   {
    "duration": 0,
    "start_time": "2022-10-26T15:49:16.533Z"
   },
   {
    "duration": 0,
    "start_time": "2022-10-26T15:49:16.534Z"
   },
   {
    "duration": 0,
    "start_time": "2022-10-26T15:49:16.536Z"
   },
   {
    "duration": 0,
    "start_time": "2022-10-26T15:49:16.538Z"
   },
   {
    "duration": 0,
    "start_time": "2022-10-26T15:49:16.539Z"
   },
   {
    "duration": 0,
    "start_time": "2022-10-26T15:49:16.541Z"
   },
   {
    "duration": 1,
    "start_time": "2022-10-26T15:49:16.542Z"
   },
   {
    "duration": 0,
    "start_time": "2022-10-26T15:49:16.544Z"
   },
   {
    "duration": 0,
    "start_time": "2022-10-26T15:49:16.546Z"
   },
   {
    "duration": 0,
    "start_time": "2022-10-26T15:49:16.547Z"
   },
   {
    "duration": 1257,
    "start_time": "2022-10-26T15:49:37.790Z"
   },
   {
    "duration": 42,
    "start_time": "2022-10-26T15:49:39.049Z"
   },
   {
    "duration": 19,
    "start_time": "2022-10-26T15:49:39.097Z"
   },
   {
    "duration": 19,
    "start_time": "2022-10-26T15:49:39.118Z"
   },
   {
    "duration": 70,
    "start_time": "2022-10-26T15:49:39.139Z"
   },
   {
    "duration": 147,
    "start_time": "2022-10-26T15:49:39.211Z"
   },
   {
    "duration": 4,
    "start_time": "2022-10-26T15:49:39.360Z"
   },
   {
    "duration": 22,
    "start_time": "2022-10-26T15:49:39.366Z"
   },
   {
    "duration": 15,
    "start_time": "2022-10-26T15:49:39.391Z"
   },
   {
    "duration": 6,
    "start_time": "2022-10-26T15:49:39.408Z"
   },
   {
    "duration": 11,
    "start_time": "2022-10-26T15:49:39.415Z"
   },
   {
    "duration": 6,
    "start_time": "2022-10-26T15:49:39.428Z"
   },
   {
    "duration": 60,
    "start_time": "2022-10-26T15:49:39.435Z"
   },
   {
    "duration": 23,
    "start_time": "2022-10-26T15:49:39.501Z"
   },
   {
    "duration": 6,
    "start_time": "2022-10-26T15:49:39.525Z"
   },
   {
    "duration": 8,
    "start_time": "2022-10-26T15:49:39.533Z"
   },
   {
    "duration": 44,
    "start_time": "2022-10-26T15:49:39.543Z"
   },
   {
    "duration": 10,
    "start_time": "2022-10-26T15:53:57.434Z"
   },
   {
    "duration": 6,
    "start_time": "2022-10-26T15:54:36.108Z"
   },
   {
    "duration": 5,
    "start_time": "2022-10-26T15:54:52.233Z"
   },
   {
    "duration": 5,
    "start_time": "2022-10-26T15:54:52.623Z"
   },
   {
    "duration": 5,
    "start_time": "2022-10-26T15:54:53.028Z"
   },
   {
    "duration": 11,
    "start_time": "2022-10-26T15:56:21.450Z"
   },
   {
    "duration": 4,
    "start_time": "2022-10-26T15:56:21.890Z"
   },
   {
    "duration": 4,
    "start_time": "2022-10-26T15:56:22.296Z"
   },
   {
    "duration": 5,
    "start_time": "2022-10-26T15:56:22.843Z"
   },
   {
    "duration": 1306,
    "start_time": "2022-10-26T15:56:26.074Z"
   },
   {
    "duration": 45,
    "start_time": "2022-10-26T15:56:27.382Z"
   },
   {
    "duration": 17,
    "start_time": "2022-10-26T15:56:27.428Z"
   },
   {
    "duration": 23,
    "start_time": "2022-10-26T15:56:27.447Z"
   },
   {
    "duration": 43,
    "start_time": "2022-10-26T15:56:27.473Z"
   },
   {
    "duration": 150,
    "start_time": "2022-10-26T15:56:27.518Z"
   },
   {
    "duration": 10,
    "start_time": "2022-10-26T15:56:27.670Z"
   },
   {
    "duration": 41,
    "start_time": "2022-10-26T15:56:27.681Z"
   },
   {
    "duration": 14,
    "start_time": "2022-10-26T15:56:27.724Z"
   },
   {
    "duration": 5,
    "start_time": "2022-10-26T15:56:27.740Z"
   },
   {
    "duration": 8,
    "start_time": "2022-10-26T15:56:27.747Z"
   },
   {
    "duration": 19,
    "start_time": "2022-10-26T15:56:27.757Z"
   },
   {
    "duration": 14,
    "start_time": "2022-10-26T15:56:27.778Z"
   },
   {
    "duration": 20,
    "start_time": "2022-10-26T15:56:27.795Z"
   },
   {
    "duration": 5,
    "start_time": "2022-10-26T15:56:27.817Z"
   },
   {
    "duration": 21,
    "start_time": "2022-10-26T15:56:27.824Z"
   },
   {
    "duration": 36,
    "start_time": "2022-10-26T15:56:27.847Z"
   },
   {
    "duration": 10,
    "start_time": "2022-10-26T15:56:27.885Z"
   },
   {
    "duration": 21,
    "start_time": "2022-10-26T15:56:27.896Z"
   },
   {
    "duration": 12,
    "start_time": "2022-10-26T15:56:27.919Z"
   },
   {
    "duration": 12,
    "start_time": "2022-10-26T15:56:27.932Z"
   },
   {
    "duration": 107,
    "start_time": "2022-10-26T15:58:38.720Z"
   },
   {
    "duration": 22,
    "start_time": "2022-10-26T16:00:20.884Z"
   },
   {
    "duration": 1303,
    "start_time": "2022-10-26T16:00:29.453Z"
   },
   {
    "duration": 45,
    "start_time": "2022-10-26T16:00:30.758Z"
   },
   {
    "duration": 21,
    "start_time": "2022-10-26T16:00:30.804Z"
   },
   {
    "duration": 53,
    "start_time": "2022-10-26T16:00:30.828Z"
   },
   {
    "duration": 71,
    "start_time": "2022-10-26T16:00:30.883Z"
   },
   {
    "duration": 140,
    "start_time": "2022-10-26T16:00:30.956Z"
   },
   {
    "duration": 4,
    "start_time": "2022-10-26T16:00:31.098Z"
   },
   {
    "duration": 91,
    "start_time": "2022-10-26T16:00:31.104Z"
   },
   {
    "duration": 75,
    "start_time": "2022-10-26T16:00:31.198Z"
   },
   {
    "duration": 12,
    "start_time": "2022-10-26T16:00:31.277Z"
   },
   {
    "duration": 54,
    "start_time": "2022-10-26T16:00:31.291Z"
   },
   {
    "duration": 40,
    "start_time": "2022-10-26T16:00:31.347Z"
   },
   {
    "duration": 46,
    "start_time": "2022-10-26T16:00:31.389Z"
   },
   {
    "duration": 33,
    "start_time": "2022-10-26T16:00:31.437Z"
   },
   {
    "duration": 8,
    "start_time": "2022-10-26T16:00:31.472Z"
   },
   {
    "duration": 26,
    "start_time": "2022-10-26T16:00:31.481Z"
   },
   {
    "duration": 32,
    "start_time": "2022-10-26T16:00:31.509Z"
   },
   {
    "duration": 115,
    "start_time": "2022-10-26T16:00:31.543Z"
   },
   {
    "duration": 0,
    "start_time": "2022-10-26T16:00:31.659Z"
   },
   {
    "duration": 0,
    "start_time": "2022-10-26T16:00:31.660Z"
   },
   {
    "duration": 0,
    "start_time": "2022-10-26T16:00:31.661Z"
   },
   {
    "duration": 183,
    "start_time": "2022-10-26T16:00:43.903Z"
   },
   {
    "duration": 19,
    "start_time": "2022-10-26T16:00:52.031Z"
   },
   {
    "duration": 12,
    "start_time": "2022-10-26T16:06:36.927Z"
   },
   {
    "duration": 11,
    "start_time": "2022-10-26T16:07:36.725Z"
   },
   {
    "duration": 5,
    "start_time": "2022-10-26T16:07:37.618Z"
   },
   {
    "duration": 5,
    "start_time": "2022-10-26T16:07:38.006Z"
   },
   {
    "duration": 5,
    "start_time": "2022-10-26T16:07:38.286Z"
   },
   {
    "duration": 23,
    "start_time": "2022-10-26T16:09:03.449Z"
   },
   {
    "duration": 10,
    "start_time": "2022-10-26T16:10:53.332Z"
   },
   {
    "duration": 1343,
    "start_time": "2022-10-26T16:11:01.330Z"
   },
   {
    "duration": 40,
    "start_time": "2022-10-26T16:11:02.676Z"
   },
   {
    "duration": 16,
    "start_time": "2022-10-26T16:11:02.718Z"
   },
   {
    "duration": 17,
    "start_time": "2022-10-26T16:11:02.736Z"
   },
   {
    "duration": 82,
    "start_time": "2022-10-26T16:11:02.755Z"
   },
   {
    "duration": 140,
    "start_time": "2022-10-26T16:11:02.838Z"
   },
   {
    "duration": 4,
    "start_time": "2022-10-26T16:11:02.980Z"
   },
   {
    "duration": 59,
    "start_time": "2022-10-26T16:11:02.986Z"
   },
   {
    "duration": 14,
    "start_time": "2022-10-26T16:11:03.047Z"
   },
   {
    "duration": 6,
    "start_time": "2022-10-26T16:11:03.063Z"
   },
   {
    "duration": 9,
    "start_time": "2022-10-26T16:11:03.071Z"
   },
   {
    "duration": 4,
    "start_time": "2022-10-26T16:11:03.082Z"
   },
   {
    "duration": 10,
    "start_time": "2022-10-26T16:11:03.087Z"
   },
   {
    "duration": 14,
    "start_time": "2022-10-26T16:11:03.099Z"
   },
   {
    "duration": 6,
    "start_time": "2022-10-26T16:11:03.114Z"
   },
   {
    "duration": 10,
    "start_time": "2022-10-26T16:11:03.121Z"
   },
   {
    "duration": 18,
    "start_time": "2022-10-26T16:11:03.177Z"
   },
   {
    "duration": 9,
    "start_time": "2022-10-26T16:11:03.197Z"
   },
   {
    "duration": 6,
    "start_time": "2022-10-26T16:11:03.208Z"
   },
   {
    "duration": 7,
    "start_time": "2022-10-26T16:11:03.215Z"
   },
   {
    "duration": 12,
    "start_time": "2022-10-26T16:11:03.223Z"
   },
   {
    "duration": 56,
    "start_time": "2022-10-26T16:11:03.236Z"
   },
   {
    "duration": 124,
    "start_time": "2022-10-26T16:11:03.294Z"
   },
   {
    "duration": 0,
    "start_time": "2022-10-26T16:11:03.420Z"
   },
   {
    "duration": 0,
    "start_time": "2022-10-26T16:11:03.421Z"
   },
   {
    "duration": 0,
    "start_time": "2022-10-26T16:11:03.422Z"
   },
   {
    "duration": 35,
    "start_time": "2022-10-26T16:11:17.879Z"
   },
   {
    "duration": 16,
    "start_time": "2022-10-26T16:11:21.679Z"
   },
   {
    "duration": 16,
    "start_time": "2022-10-26T16:11:24.165Z"
   },
   {
    "duration": 20,
    "start_time": "2022-10-26T16:11:26.426Z"
   },
   {
    "duration": 10,
    "start_time": "2022-10-26T16:17:43.017Z"
   },
   {
    "duration": 1289,
    "start_time": "2022-10-26T16:18:12.239Z"
   },
   {
    "duration": 40,
    "start_time": "2022-10-26T16:18:13.531Z"
   },
   {
    "duration": 44,
    "start_time": "2022-10-26T16:18:13.572Z"
   },
   {
    "duration": 17,
    "start_time": "2022-10-26T16:18:13.619Z"
   },
   {
    "duration": 51,
    "start_time": "2022-10-26T16:18:13.638Z"
   },
   {
    "duration": 142,
    "start_time": "2022-10-26T16:18:13.691Z"
   },
   {
    "duration": 4,
    "start_time": "2022-10-26T16:18:13.835Z"
   },
   {
    "duration": 47,
    "start_time": "2022-10-26T16:18:13.841Z"
   },
   {
    "duration": 19,
    "start_time": "2022-10-26T16:18:13.890Z"
   },
   {
    "duration": 5,
    "start_time": "2022-10-26T16:18:13.911Z"
   },
   {
    "duration": 10,
    "start_time": "2022-10-26T16:18:13.918Z"
   },
   {
    "duration": 12,
    "start_time": "2022-10-26T16:18:13.929Z"
   },
   {
    "duration": 35,
    "start_time": "2022-10-26T16:18:13.943Z"
   },
   {
    "duration": 14,
    "start_time": "2022-10-26T16:18:13.980Z"
   },
   {
    "duration": 5,
    "start_time": "2022-10-26T16:18:13.996Z"
   },
   {
    "duration": 8,
    "start_time": "2022-10-26T16:18:14.003Z"
   },
   {
    "duration": 25,
    "start_time": "2022-10-26T16:18:14.013Z"
   },
   {
    "duration": 58,
    "start_time": "2022-10-26T16:18:14.040Z"
   },
   {
    "duration": 5,
    "start_time": "2022-10-26T16:18:14.100Z"
   },
   {
    "duration": 11,
    "start_time": "2022-10-26T16:18:14.106Z"
   },
   {
    "duration": 7,
    "start_time": "2022-10-26T16:18:14.119Z"
   },
   {
    "duration": 19,
    "start_time": "2022-10-26T16:18:14.128Z"
   },
   {
    "duration": 67,
    "start_time": "2022-10-26T16:18:14.148Z"
   },
   {
    "duration": 117,
    "start_time": "2022-10-26T16:18:14.216Z"
   },
   {
    "duration": 0,
    "start_time": "2022-10-26T16:18:14.334Z"
   },
   {
    "duration": 19,
    "start_time": "2022-10-26T16:19:02.146Z"
   },
   {
    "duration": 1341,
    "start_time": "2022-10-26T16:19:26.790Z"
   },
   {
    "duration": 39,
    "start_time": "2022-10-26T16:19:28.133Z"
   },
   {
    "duration": 21,
    "start_time": "2022-10-26T16:19:28.174Z"
   },
   {
    "duration": 11,
    "start_time": "2022-10-26T16:19:28.197Z"
   },
   {
    "duration": 39,
    "start_time": "2022-10-26T16:19:28.210Z"
   },
   {
    "duration": 172,
    "start_time": "2022-10-26T16:19:28.251Z"
   },
   {
    "duration": 5,
    "start_time": "2022-10-26T16:19:28.424Z"
   },
   {
    "duration": 44,
    "start_time": "2022-10-26T16:19:28.430Z"
   },
   {
    "duration": 27,
    "start_time": "2022-10-26T16:19:28.476Z"
   },
   {
    "duration": 5,
    "start_time": "2022-10-26T16:19:28.504Z"
   },
   {
    "duration": 11,
    "start_time": "2022-10-26T16:19:28.511Z"
   },
   {
    "duration": 15,
    "start_time": "2022-10-26T16:19:28.524Z"
   },
   {
    "duration": 21,
    "start_time": "2022-10-26T16:19:28.540Z"
   },
   {
    "duration": 20,
    "start_time": "2022-10-26T16:19:28.564Z"
   },
   {
    "duration": 10,
    "start_time": "2022-10-26T16:19:28.588Z"
   },
   {
    "duration": 12,
    "start_time": "2022-10-26T16:19:28.600Z"
   },
   {
    "duration": 20,
    "start_time": "2022-10-26T16:19:28.614Z"
   },
   {
    "duration": 10,
    "start_time": "2022-10-26T16:19:28.635Z"
   },
   {
    "duration": 5,
    "start_time": "2022-10-26T16:19:28.646Z"
   },
   {
    "duration": 31,
    "start_time": "2022-10-26T16:19:28.652Z"
   },
   {
    "duration": 6,
    "start_time": "2022-10-26T16:19:28.685Z"
   },
   {
    "duration": 23,
    "start_time": "2022-10-26T16:19:28.692Z"
   },
   {
    "duration": 37,
    "start_time": "2022-10-26T16:19:28.717Z"
   },
   {
    "duration": 91,
    "start_time": "2022-10-26T16:19:28.756Z"
   },
   {
    "duration": 5,
    "start_time": "2022-10-26T16:19:28.848Z"
   },
   {
    "duration": 6,
    "start_time": "2022-10-26T16:20:05.338Z"
   },
   {
    "duration": 1716,
    "start_time": "2022-10-26T16:20:29.317Z"
   },
   {
    "duration": 4,
    "start_time": "2022-10-26T16:20:32.050Z"
   },
   {
    "duration": 381,
    "start_time": "2022-10-26T16:20:45.084Z"
   },
   {
    "duration": 4,
    "start_time": "2022-10-26T16:20:46.132Z"
   },
   {
    "duration": 3,
    "start_time": "2022-10-26T16:47:08.529Z"
   },
   {
    "duration": 114,
    "start_time": "2022-10-26T16:49:14.548Z"
   },
   {
    "duration": 1450,
    "start_time": "2022-10-26T16:49:36.367Z"
   },
   {
    "duration": 1393,
    "start_time": "2022-10-26T16:50:15.790Z"
   },
   {
    "duration": 1413,
    "start_time": "2022-10-26T16:51:45.245Z"
   },
   {
    "duration": 1271,
    "start_time": "2022-10-26T16:51:50.883Z"
   },
   {
    "duration": 39,
    "start_time": "2022-10-26T16:51:52.156Z"
   },
   {
    "duration": 16,
    "start_time": "2022-10-26T16:51:52.197Z"
   },
   {
    "duration": 12,
    "start_time": "2022-10-26T16:51:52.215Z"
   },
   {
    "duration": 56,
    "start_time": "2022-10-26T16:51:52.228Z"
   },
   {
    "duration": 149,
    "start_time": "2022-10-26T16:51:52.286Z"
   },
   {
    "duration": 4,
    "start_time": "2022-10-26T16:51:52.436Z"
   },
   {
    "duration": 44,
    "start_time": "2022-10-26T16:51:52.442Z"
   },
   {
    "duration": 11,
    "start_time": "2022-10-26T16:51:52.488Z"
   },
   {
    "duration": 6,
    "start_time": "2022-10-26T16:51:52.501Z"
   },
   {
    "duration": 9,
    "start_time": "2022-10-26T16:51:52.508Z"
   },
   {
    "duration": 4,
    "start_time": "2022-10-26T16:51:52.518Z"
   },
   {
    "duration": 12,
    "start_time": "2022-10-26T16:51:52.524Z"
   },
   {
    "duration": 44,
    "start_time": "2022-10-26T16:51:52.538Z"
   },
   {
    "duration": 5,
    "start_time": "2022-10-26T16:51:52.584Z"
   },
   {
    "duration": 11,
    "start_time": "2022-10-26T16:51:52.591Z"
   },
   {
    "duration": 22,
    "start_time": "2022-10-26T16:51:52.604Z"
   },
   {
    "duration": 11,
    "start_time": "2022-10-26T16:51:52.627Z"
   },
   {
    "duration": 4,
    "start_time": "2022-10-26T16:51:52.639Z"
   },
   {
    "duration": 4,
    "start_time": "2022-10-26T16:51:52.677Z"
   },
   {
    "duration": 7,
    "start_time": "2022-10-26T16:51:52.683Z"
   },
   {
    "duration": 21,
    "start_time": "2022-10-26T16:51:52.692Z"
   },
   {
    "duration": 36,
    "start_time": "2022-10-26T16:51:52.714Z"
   },
   {
    "duration": 375,
    "start_time": "2022-10-26T16:51:52.752Z"
   },
   {
    "duration": 5,
    "start_time": "2022-10-26T16:51:53.129Z"
   },
   {
    "duration": 1477,
    "start_time": "2022-10-26T16:51:53.136Z"
   },
   {
    "duration": 1364,
    "start_time": "2022-10-26T16:53:37.220Z"
   },
   {
    "duration": 1443,
    "start_time": "2022-10-26T16:53:55.497Z"
   },
   {
    "duration": 196,
    "start_time": "2022-10-26T16:53:59.355Z"
   },
   {
    "duration": 1274,
    "start_time": "2022-10-26T16:54:29.209Z"
   },
   {
    "duration": 41,
    "start_time": "2022-10-26T16:54:30.485Z"
   },
   {
    "duration": 17,
    "start_time": "2022-10-26T16:54:30.528Z"
   },
   {
    "duration": 71,
    "start_time": "2022-10-26T16:54:30.548Z"
   },
   {
    "duration": 61,
    "start_time": "2022-10-26T16:54:30.621Z"
   },
   {
    "duration": 147,
    "start_time": "2022-10-26T16:54:30.684Z"
   },
   {
    "duration": 5,
    "start_time": "2022-10-26T16:54:30.833Z"
   },
   {
    "duration": 93,
    "start_time": "2022-10-26T16:54:30.839Z"
   },
   {
    "duration": 55,
    "start_time": "2022-10-26T16:54:30.934Z"
   },
   {
    "duration": 23,
    "start_time": "2022-10-26T16:54:30.992Z"
   },
   {
    "duration": 50,
    "start_time": "2022-10-26T16:54:31.017Z"
   },
   {
    "duration": 38,
    "start_time": "2022-10-26T16:54:31.069Z"
   },
   {
    "duration": 23,
    "start_time": "2022-10-26T16:54:31.108Z"
   },
   {
    "duration": 49,
    "start_time": "2022-10-26T16:54:31.133Z"
   },
   {
    "duration": 15,
    "start_time": "2022-10-26T16:54:31.184Z"
   },
   {
    "duration": 24,
    "start_time": "2022-10-26T16:54:31.201Z"
   },
   {
    "duration": 44,
    "start_time": "2022-10-26T16:54:31.227Z"
   },
   {
    "duration": 12,
    "start_time": "2022-10-26T16:54:31.273Z"
   },
   {
    "duration": 17,
    "start_time": "2022-10-26T16:54:31.287Z"
   },
   {
    "duration": 25,
    "start_time": "2022-10-26T16:54:31.306Z"
   },
   {
    "duration": 24,
    "start_time": "2022-10-26T16:54:31.333Z"
   },
   {
    "duration": 44,
    "start_time": "2022-10-26T16:54:31.359Z"
   },
   {
    "duration": 45,
    "start_time": "2022-10-26T16:54:31.405Z"
   },
   {
    "duration": 325,
    "start_time": "2022-10-26T16:54:31.451Z"
   },
   {
    "duration": 5,
    "start_time": "2022-10-26T16:54:31.777Z"
   },
   {
    "duration": 1395,
    "start_time": "2022-10-26T16:54:31.783Z"
   },
   {
    "duration": 772408,
    "start_time": "2022-10-26T16:54:33.179Z"
   },
   {
    "duration": 250131,
    "start_time": "2022-10-26T18:27:37.543Z"
   },
   {
    "duration": 44,
    "start_time": "2022-10-27T08:53:46.439Z"
   },
   {
    "duration": 1452,
    "start_time": "2022-10-27T08:53:49.956Z"
   },
   {
    "duration": 153,
    "start_time": "2022-10-27T08:53:51.411Z"
   },
   {
    "duration": 19,
    "start_time": "2022-10-27T08:53:51.565Z"
   },
   {
    "duration": 13,
    "start_time": "2022-10-27T08:53:51.586Z"
   },
   {
    "duration": 37,
    "start_time": "2022-10-27T08:53:51.600Z"
   },
   {
    "duration": 136,
    "start_time": "2022-10-27T08:53:51.639Z"
   },
   {
    "duration": 5,
    "start_time": "2022-10-27T08:53:51.777Z"
   },
   {
    "duration": 27,
    "start_time": "2022-10-27T08:53:51.784Z"
   },
   {
    "duration": 7,
    "start_time": "2022-10-27T08:53:51.813Z"
   },
   {
    "duration": 7,
    "start_time": "2022-10-27T08:53:51.822Z"
   },
   {
    "duration": 5,
    "start_time": "2022-10-27T08:53:51.831Z"
   },
   {
    "duration": 12,
    "start_time": "2022-10-27T08:53:51.838Z"
   },
   {
    "duration": 13,
    "start_time": "2022-10-27T08:53:51.851Z"
   },
   {
    "duration": 40,
    "start_time": "2022-10-27T08:53:51.866Z"
   },
   {
    "duration": 7,
    "start_time": "2022-10-27T08:53:51.909Z"
   },
   {
    "duration": 17,
    "start_time": "2022-10-27T08:53:51.918Z"
   },
   {
    "duration": 9,
    "start_time": "2022-10-27T08:53:51.937Z"
   },
   {
    "duration": 3,
    "start_time": "2022-10-27T08:53:51.947Z"
   },
   {
    "duration": 8,
    "start_time": "2022-10-27T08:53:51.952Z"
   },
   {
    "duration": 22,
    "start_time": "2022-10-27T08:53:51.961Z"
   },
   {
    "duration": 44,
    "start_time": "2022-10-27T08:53:51.984Z"
   },
   {
    "duration": 37,
    "start_time": "2022-10-27T08:53:52.030Z"
   },
   {
    "duration": 280,
    "start_time": "2022-10-27T08:53:52.069Z"
   },
   {
    "duration": 5,
    "start_time": "2022-10-27T08:53:52.350Z"
   },
   {
    "duration": 1124,
    "start_time": "2022-10-27T08:53:52.357Z"
   },
   {
    "duration": 210152,
    "start_time": "2022-10-27T08:53:53.482Z"
   },
   {
    "duration": 247,
    "start_time": "2022-10-27T08:57:34.551Z"
   },
   {
    "duration": 262,
    "start_time": "2022-10-27T08:57:50.062Z"
   },
   {
    "duration": 261,
    "start_time": "2022-10-27T08:58:00.315Z"
   },
   {
    "duration": 97,
    "start_time": "2022-10-27T09:01:29.639Z"
   },
   {
    "duration": 12,
    "start_time": "2022-10-27T09:03:01.255Z"
   },
   {
    "duration": 49890,
    "start_time": "2022-10-27T09:03:08.975Z"
   },
   {
    "duration": 1259,
    "start_time": "2022-10-27T09:07:11.154Z"
   },
   {
    "duration": 41,
    "start_time": "2022-10-27T09:07:12.415Z"
   },
   {
    "duration": 17,
    "start_time": "2022-10-27T09:07:12.457Z"
   },
   {
    "duration": 17,
    "start_time": "2022-10-27T09:07:12.476Z"
   },
   {
    "duration": 37,
    "start_time": "2022-10-27T09:07:12.495Z"
   },
   {
    "duration": 137,
    "start_time": "2022-10-27T09:07:12.534Z"
   },
   {
    "duration": 4,
    "start_time": "2022-10-27T09:07:12.672Z"
   },
   {
    "duration": 29,
    "start_time": "2022-10-27T09:07:12.677Z"
   },
   {
    "duration": 8,
    "start_time": "2022-10-27T09:07:12.707Z"
   },
   {
    "duration": 8,
    "start_time": "2022-10-27T09:07:12.717Z"
   },
   {
    "duration": 4,
    "start_time": "2022-10-27T09:07:12.726Z"
   },
   {
    "duration": 10,
    "start_time": "2022-10-27T09:07:12.732Z"
   },
   {
    "duration": 14,
    "start_time": "2022-10-27T09:07:12.743Z"
   },
   {
    "duration": 6,
    "start_time": "2022-10-27T09:07:12.760Z"
   },
   {
    "duration": 7,
    "start_time": "2022-10-27T09:07:12.806Z"
   },
   {
    "duration": 18,
    "start_time": "2022-10-27T09:07:12.815Z"
   },
   {
    "duration": 9,
    "start_time": "2022-10-27T09:07:12.835Z"
   },
   {
    "duration": 6,
    "start_time": "2022-10-27T09:07:12.846Z"
   },
   {
    "duration": 6,
    "start_time": "2022-10-27T09:07:12.854Z"
   },
   {
    "duration": 8,
    "start_time": "2022-10-27T09:07:12.861Z"
   },
   {
    "duration": 44,
    "start_time": "2022-10-27T09:07:12.871Z"
   },
   {
    "duration": 31,
    "start_time": "2022-10-27T09:07:12.916Z"
   },
   {
    "duration": 258,
    "start_time": "2022-10-27T09:07:12.948Z"
   },
   {
    "duration": 5,
    "start_time": "2022-10-27T09:07:13.207Z"
   },
   {
    "duration": 1031,
    "start_time": "2022-10-27T09:07:13.214Z"
   },
   {
    "duration": 252,
    "start_time": "2022-10-27T09:07:14.247Z"
   },
   {
    "duration": 209669,
    "start_time": "2022-10-27T09:07:14.501Z"
   },
   {
    "duration": 51182,
    "start_time": "2022-10-27T09:10:44.171Z"
   },
   {
    "duration": 1088,
    "start_time": "2022-10-27T09:14:36.689Z"
   },
   {
    "duration": 1112,
    "start_time": "2022-10-27T09:14:46.708Z"
   },
   {
    "duration": 1096,
    "start_time": "2022-10-27T09:15:03.254Z"
   },
   {
    "duration": 1124,
    "start_time": "2022-10-27T09:15:09.071Z"
   },
   {
    "duration": 30721,
    "start_time": "2022-10-27T09:17:24.818Z"
   },
   {
    "duration": 30659,
    "start_time": "2022-10-27T09:18:04.782Z"
   },
   {
    "duration": 58,
    "start_time": "2022-10-27T09:20:05.492Z"
   },
   {
    "duration": 77,
    "start_time": "2022-10-27T09:20:42.558Z"
   },
   {
    "duration": 41,
    "start_time": "2022-10-27T09:21:19.644Z"
   },
   {
    "duration": 287,
    "start_time": "2022-10-27T09:21:34.640Z"
   },
   {
    "duration": 38,
    "start_time": "2022-10-27T09:27:56.092Z"
   },
   {
    "duration": 1333,
    "start_time": "2022-10-27T09:59:18.127Z"
   },
   {
    "duration": 43,
    "start_time": "2022-10-27T09:59:19.461Z"
   },
   {
    "duration": 23,
    "start_time": "2022-10-27T09:59:19.506Z"
   },
   {
    "duration": 14,
    "start_time": "2022-10-27T09:59:19.531Z"
   },
   {
    "duration": 39,
    "start_time": "2022-10-27T09:59:19.546Z"
   },
   {
    "duration": 168,
    "start_time": "2022-10-27T09:59:19.587Z"
   },
   {
    "duration": 4,
    "start_time": "2022-10-27T09:59:19.760Z"
   },
   {
    "duration": 39,
    "start_time": "2022-10-27T09:59:19.766Z"
   },
   {
    "duration": 23,
    "start_time": "2022-10-27T09:59:19.807Z"
   },
   {
    "duration": 32,
    "start_time": "2022-10-27T09:59:19.832Z"
   },
   {
    "duration": 16,
    "start_time": "2022-10-27T09:59:19.866Z"
   },
   {
    "duration": 27,
    "start_time": "2022-10-27T09:59:19.884Z"
   },
   {
    "duration": 24,
    "start_time": "2022-10-27T09:59:19.913Z"
   },
   {
    "duration": 13,
    "start_time": "2022-10-27T09:59:19.939Z"
   },
   {
    "duration": 16,
    "start_time": "2022-10-27T09:59:19.954Z"
   },
   {
    "duration": 25,
    "start_time": "2022-10-27T09:59:19.971Z"
   },
   {
    "duration": 11,
    "start_time": "2022-10-27T09:59:19.998Z"
   },
   {
    "duration": 10,
    "start_time": "2022-10-27T09:59:20.011Z"
   },
   {
    "duration": 19,
    "start_time": "2022-10-27T09:59:20.023Z"
   },
   {
    "duration": 19,
    "start_time": "2022-10-27T09:59:20.043Z"
   },
   {
    "duration": 28,
    "start_time": "2022-10-27T09:59:20.063Z"
   },
   {
    "duration": 54,
    "start_time": "2022-10-27T09:59:20.093Z"
   },
   {
    "duration": 295,
    "start_time": "2022-10-27T09:59:20.148Z"
   },
   {
    "duration": 5,
    "start_time": "2022-10-27T09:59:20.445Z"
   },
   {
    "duration": 11572,
    "start_time": "2022-10-27T09:59:20.451Z"
   },
   {
    "duration": 29,
    "start_time": "2022-10-27T09:59:32.024Z"
   },
   {
    "duration": 1260,
    "start_time": "2022-10-27T10:00:50.026Z"
   },
   {
    "duration": 40,
    "start_time": "2022-10-27T10:00:51.287Z"
   },
   {
    "duration": 16,
    "start_time": "2022-10-27T10:00:51.329Z"
   },
   {
    "duration": 11,
    "start_time": "2022-10-27T10:00:51.346Z"
   },
   {
    "duration": 47,
    "start_time": "2022-10-27T10:00:51.359Z"
   },
   {
    "duration": 134,
    "start_time": "2022-10-27T10:00:51.408Z"
   },
   {
    "duration": 4,
    "start_time": "2022-10-27T10:00:51.544Z"
   },
   {
    "duration": 17,
    "start_time": "2022-10-27T10:00:51.549Z"
   },
   {
    "duration": 11,
    "start_time": "2022-10-27T10:00:51.567Z"
   },
   {
    "duration": 8,
    "start_time": "2022-10-27T10:00:51.579Z"
   },
   {
    "duration": 19,
    "start_time": "2022-10-27T10:00:51.589Z"
   },
   {
    "duration": 11,
    "start_time": "2022-10-27T10:00:51.610Z"
   },
   {
    "duration": 14,
    "start_time": "2022-10-27T10:00:51.622Z"
   },
   {
    "duration": 5,
    "start_time": "2022-10-27T10:00:51.639Z"
   },
   {
    "duration": 8,
    "start_time": "2022-10-27T10:00:51.646Z"
   },
   {
    "duration": 29,
    "start_time": "2022-10-27T10:00:51.655Z"
   },
   {
    "duration": 22,
    "start_time": "2022-10-27T10:00:51.691Z"
   },
   {
    "duration": 5,
    "start_time": "2022-10-27T10:00:51.715Z"
   },
   {
    "duration": 11,
    "start_time": "2022-10-27T10:00:51.721Z"
   },
   {
    "duration": 5,
    "start_time": "2022-10-27T10:00:51.734Z"
   },
   {
    "duration": 17,
    "start_time": "2022-10-27T10:00:51.741Z"
   },
   {
    "duration": 70,
    "start_time": "2022-10-27T10:00:51.760Z"
   },
   {
    "duration": 259,
    "start_time": "2022-10-27T10:00:51.832Z"
   },
   {
    "duration": 5,
    "start_time": "2022-10-27T10:00:52.092Z"
   },
   {
    "duration": 12677,
    "start_time": "2022-10-27T10:00:52.098Z"
   },
   {
    "duration": 40,
    "start_time": "2022-10-27T10:01:04.777Z"
   },
   {
    "duration": 1244,
    "start_time": "2022-10-27T10:02:31.227Z"
   },
   {
    "duration": 44,
    "start_time": "2022-10-27T10:02:32.473Z"
   },
   {
    "duration": 15,
    "start_time": "2022-10-27T10:02:32.519Z"
   },
   {
    "duration": 34,
    "start_time": "2022-10-27T10:02:32.535Z"
   },
   {
    "duration": 38,
    "start_time": "2022-10-27T10:02:32.570Z"
   },
   {
    "duration": 131,
    "start_time": "2022-10-27T10:02:32.609Z"
   },
   {
    "duration": 4,
    "start_time": "2022-10-27T10:02:32.742Z"
   },
   {
    "duration": 16,
    "start_time": "2022-10-27T10:02:32.748Z"
   },
   {
    "duration": 6,
    "start_time": "2022-10-27T10:02:32.766Z"
   },
   {
    "duration": 31,
    "start_time": "2022-10-27T10:02:32.775Z"
   },
   {
    "duration": 4,
    "start_time": "2022-10-27T10:02:32.808Z"
   },
   {
    "duration": 18,
    "start_time": "2022-10-27T10:02:32.814Z"
   },
   {
    "duration": 19,
    "start_time": "2022-10-27T10:02:32.833Z"
   },
   {
    "duration": 7,
    "start_time": "2022-10-27T10:02:32.854Z"
   },
   {
    "duration": 21,
    "start_time": "2022-10-27T10:02:32.863Z"
   },
   {
    "duration": 22,
    "start_time": "2022-10-27T10:02:32.886Z"
   },
   {
    "duration": 10,
    "start_time": "2022-10-27T10:02:32.910Z"
   },
   {
    "duration": 3,
    "start_time": "2022-10-27T10:02:32.921Z"
   },
   {
    "duration": 5,
    "start_time": "2022-10-27T10:02:32.925Z"
   },
   {
    "duration": 5,
    "start_time": "2022-10-27T10:02:32.932Z"
   },
   {
    "duration": 17,
    "start_time": "2022-10-27T10:02:32.938Z"
   },
   {
    "duration": 58,
    "start_time": "2022-10-27T10:02:32.957Z"
   },
   {
    "duration": 490,
    "start_time": "2022-10-27T10:02:33.017Z"
   },
   {
    "duration": 5,
    "start_time": "2022-10-27T10:02:33.508Z"
   },
   {
    "duration": 1270,
    "start_time": "2022-10-27T10:04:01.247Z"
   },
   {
    "duration": 43,
    "start_time": "2022-10-27T10:04:02.519Z"
   },
   {
    "duration": 17,
    "start_time": "2022-10-27T10:04:02.564Z"
   },
   {
    "duration": 13,
    "start_time": "2022-10-27T10:04:02.584Z"
   },
   {
    "duration": 44,
    "start_time": "2022-10-27T10:04:02.599Z"
   },
   {
    "duration": 143,
    "start_time": "2022-10-27T10:04:02.644Z"
   },
   {
    "duration": 5,
    "start_time": "2022-10-27T10:04:02.788Z"
   },
   {
    "duration": 26,
    "start_time": "2022-10-27T10:04:02.795Z"
   },
   {
    "duration": 10,
    "start_time": "2022-10-27T10:04:02.823Z"
   },
   {
    "duration": 8,
    "start_time": "2022-10-27T10:04:02.837Z"
   },
   {
    "duration": 6,
    "start_time": "2022-10-27T10:04:02.846Z"
   },
   {
    "duration": 9,
    "start_time": "2022-10-27T10:04:02.854Z"
   },
   {
    "duration": 50,
    "start_time": "2022-10-27T10:04:02.865Z"
   },
   {
    "duration": 6,
    "start_time": "2022-10-27T10:04:02.917Z"
   },
   {
    "duration": 12,
    "start_time": "2022-10-27T10:04:02.924Z"
   },
   {
    "duration": 21,
    "start_time": "2022-10-27T10:04:02.937Z"
   },
   {
    "duration": 11,
    "start_time": "2022-10-27T10:04:02.959Z"
   },
   {
    "duration": 7,
    "start_time": "2022-10-27T10:04:02.971Z"
   },
   {
    "duration": 29,
    "start_time": "2022-10-27T10:04:02.979Z"
   },
   {
    "duration": 13,
    "start_time": "2022-10-27T10:04:03.009Z"
   },
   {
    "duration": 24,
    "start_time": "2022-10-27T10:04:03.023Z"
   },
   {
    "duration": 40,
    "start_time": "2022-10-27T10:04:03.049Z"
   },
   {
    "duration": 283,
    "start_time": "2022-10-27T10:04:03.090Z"
   },
   {
    "duration": 4,
    "start_time": "2022-10-27T10:04:03.375Z"
   },
   {
    "duration": 1320,
    "start_time": "2022-10-27T10:04:33.149Z"
   },
   {
    "duration": 42,
    "start_time": "2022-10-27T10:04:34.471Z"
   },
   {
    "duration": 21,
    "start_time": "2022-10-27T10:04:34.514Z"
   },
   {
    "duration": 16,
    "start_time": "2022-10-27T10:04:34.537Z"
   },
   {
    "duration": 64,
    "start_time": "2022-10-27T10:04:34.554Z"
   },
   {
    "duration": 130,
    "start_time": "2022-10-27T10:04:34.620Z"
   },
   {
    "duration": 4,
    "start_time": "2022-10-27T10:04:34.752Z"
   },
   {
    "duration": 23,
    "start_time": "2022-10-27T10:04:34.757Z"
   },
   {
    "duration": 8,
    "start_time": "2022-10-27T10:04:34.781Z"
   },
   {
    "duration": 8,
    "start_time": "2022-10-27T10:04:34.806Z"
   },
   {
    "duration": 13,
    "start_time": "2022-10-27T10:04:34.815Z"
   },
   {
    "duration": 15,
    "start_time": "2022-10-27T10:04:34.829Z"
   },
   {
    "duration": 13,
    "start_time": "2022-10-27T10:04:34.845Z"
   },
   {
    "duration": 6,
    "start_time": "2022-10-27T10:04:34.859Z"
   },
   {
    "duration": 7,
    "start_time": "2022-10-27T10:04:34.866Z"
   },
   {
    "duration": 37,
    "start_time": "2022-10-27T10:04:34.875Z"
   },
   {
    "duration": 11,
    "start_time": "2022-10-27T10:04:34.914Z"
   },
   {
    "duration": 4,
    "start_time": "2022-10-27T10:04:34.927Z"
   },
   {
    "duration": 6,
    "start_time": "2022-10-27T10:04:34.933Z"
   },
   {
    "duration": 9,
    "start_time": "2022-10-27T10:04:34.941Z"
   },
   {
    "duration": 22,
    "start_time": "2022-10-27T10:04:34.951Z"
   },
   {
    "duration": 57,
    "start_time": "2022-10-27T10:04:34.974Z"
   },
   {
    "duration": 263,
    "start_time": "2022-10-27T10:04:35.032Z"
   },
   {
    "duration": 4,
    "start_time": "2022-10-27T10:04:35.296Z"
   },
   {
    "duration": 217,
    "start_time": "2022-10-27T10:04:35.305Z"
   },
   {
    "duration": 24,
    "start_time": "2022-10-27T10:04:35.524Z"
   },
   {
    "duration": 321659,
    "start_time": "2022-10-27T10:04:35.549Z"
   },
   {
    "duration": 0,
    "start_time": "2022-10-27T10:10:04.727Z"
   },
   {
    "duration": 0,
    "start_time": "2022-10-27T10:10:04.730Z"
   },
   {
    "duration": 10,
    "start_time": "2022-10-27T10:10:06.949Z"
   },
   {
    "duration": 8023,
    "start_time": "2022-10-27T10:10:39.874Z"
   },
   {
    "duration": 5015,
    "start_time": "2022-10-27T10:11:13.990Z"
   },
   {
    "duration": 511,
    "start_time": "2022-10-27T10:11:43.712Z"
   },
   {
    "duration": 56,
    "start_time": "2022-10-27T10:11:49.241Z"
   },
   {
    "duration": 56,
    "start_time": "2022-10-27T10:11:52.706Z"
   },
   {
    "duration": 511,
    "start_time": "2022-10-27T10:11:56.683Z"
   },
   {
    "duration": 11381,
    "start_time": "2022-10-27T10:12:34.621Z"
   },
   {
    "duration": 81,
    "start_time": "2022-10-27T10:13:57.816Z"
   },
   {
    "duration": 44910,
    "start_time": "2022-10-27T10:18:45.173Z"
   },
   {
    "duration": 11434,
    "start_time": "2022-10-27T13:26:17.605Z"
   },
   {
    "duration": 1292,
    "start_time": "2022-10-27T13:26:47.454Z"
   },
   {
    "duration": 41,
    "start_time": "2022-10-27T13:26:48.747Z"
   },
   {
    "duration": 15,
    "start_time": "2022-10-27T13:26:48.790Z"
   },
   {
    "duration": 21,
    "start_time": "2022-10-27T13:26:48.807Z"
   },
   {
    "duration": 49,
    "start_time": "2022-10-27T13:26:48.829Z"
   },
   {
    "duration": 134,
    "start_time": "2022-10-27T13:26:48.880Z"
   },
   {
    "duration": 4,
    "start_time": "2022-10-27T13:26:49.016Z"
   },
   {
    "duration": 64,
    "start_time": "2022-10-27T13:26:49.021Z"
   },
   {
    "duration": 18,
    "start_time": "2022-10-27T13:26:49.086Z"
   },
   {
    "duration": 16,
    "start_time": "2022-10-27T13:26:49.106Z"
   },
   {
    "duration": 5,
    "start_time": "2022-10-27T13:26:49.123Z"
   },
   {
    "duration": 7,
    "start_time": "2022-10-27T13:26:49.131Z"
   },
   {
    "duration": 13,
    "start_time": "2022-10-27T13:26:49.139Z"
   },
   {
    "duration": 5,
    "start_time": "2022-10-27T13:26:49.153Z"
   },
   {
    "duration": 9,
    "start_time": "2022-10-27T13:26:49.159Z"
   },
   {
    "duration": 49,
    "start_time": "2022-10-27T13:26:49.170Z"
   },
   {
    "duration": 9,
    "start_time": "2022-10-27T13:26:49.221Z"
   },
   {
    "duration": 3,
    "start_time": "2022-10-27T13:26:49.231Z"
   },
   {
    "duration": 6,
    "start_time": "2022-10-27T13:26:49.236Z"
   },
   {
    "duration": 5,
    "start_time": "2022-10-27T13:26:49.243Z"
   },
   {
    "duration": 18,
    "start_time": "2022-10-27T13:26:49.249Z"
   },
   {
    "duration": 72,
    "start_time": "2022-10-27T13:26:49.268Z"
   },
   {
    "duration": 282,
    "start_time": "2022-10-27T13:26:49.342Z"
   },
   {
    "duration": 5,
    "start_time": "2022-10-27T13:26:49.626Z"
   },
   {
    "duration": 11357,
    "start_time": "2022-10-27T13:26:49.633Z"
   },
   {
    "duration": 31,
    "start_time": "2022-10-27T13:27:00.992Z"
   },
   {
    "duration": 5664098,
    "start_time": "2022-10-27T13:27:01.025Z"
   },
   {
    "duration": 48457,
    "start_time": "2022-10-27T15:01:25.125Z"
   },
   {
    "duration": 99,
    "start_time": "2022-10-27T15:02:14.096Z"
   },
   {
    "duration": 0,
    "start_time": "2022-10-27T15:02:14.196Z"
   },
   {
    "duration": 178,
    "start_time": "2022-10-27T15:04:30.512Z"
   },
   {
    "duration": 190,
    "start_time": "2022-10-27T15:04:43.994Z"
   },
   {
    "duration": 1298,
    "start_time": "2022-10-27T15:09:18.196Z"
   },
   {
    "duration": 38,
    "start_time": "2022-10-27T15:09:19.496Z"
   },
   {
    "duration": 15,
    "start_time": "2022-10-27T15:09:19.536Z"
   },
   {
    "duration": 11,
    "start_time": "2022-10-27T15:09:19.553Z"
   },
   {
    "duration": 40,
    "start_time": "2022-10-27T15:09:19.566Z"
   },
   {
    "duration": 131,
    "start_time": "2022-10-27T15:09:19.607Z"
   },
   {
    "duration": 4,
    "start_time": "2022-10-27T15:09:19.739Z"
   },
   {
    "duration": 45,
    "start_time": "2022-10-27T15:09:19.744Z"
   },
   {
    "duration": 6,
    "start_time": "2022-10-27T15:09:19.791Z"
   },
   {
    "duration": 8,
    "start_time": "2022-10-27T15:09:19.800Z"
   },
   {
    "duration": 5,
    "start_time": "2022-10-27T15:09:19.809Z"
   },
   {
    "duration": 9,
    "start_time": "2022-10-27T15:09:19.815Z"
   },
   {
    "duration": 1248,
    "start_time": "2022-10-27T15:09:19.826Z"
   },
   {
    "duration": 0,
    "start_time": "2022-10-27T15:09:21.075Z"
   },
   {
    "duration": 0,
    "start_time": "2022-10-27T15:09:21.076Z"
   },
   {
    "duration": 0,
    "start_time": "2022-10-27T15:09:21.078Z"
   },
   {
    "duration": 0,
    "start_time": "2022-10-27T15:09:21.078Z"
   },
   {
    "duration": 0,
    "start_time": "2022-10-27T15:09:21.079Z"
   },
   {
    "duration": 0,
    "start_time": "2022-10-27T15:09:21.080Z"
   },
   {
    "duration": 0,
    "start_time": "2022-10-27T15:09:21.081Z"
   },
   {
    "duration": 0,
    "start_time": "2022-10-27T15:09:21.082Z"
   },
   {
    "duration": 0,
    "start_time": "2022-10-27T15:09:21.083Z"
   },
   {
    "duration": 0,
    "start_time": "2022-10-27T15:09:21.084Z"
   },
   {
    "duration": 0,
    "start_time": "2022-10-27T15:09:21.084Z"
   },
   {
    "duration": 0,
    "start_time": "2022-10-27T15:09:21.086Z"
   },
   {
    "duration": 0,
    "start_time": "2022-10-27T15:09:21.106Z"
   },
   {
    "duration": 0,
    "start_time": "2022-10-27T15:09:21.107Z"
   },
   {
    "duration": 0,
    "start_time": "2022-10-27T15:09:21.108Z"
   },
   {
    "duration": 0,
    "start_time": "2022-10-27T15:09:21.109Z"
   },
   {
    "duration": 0,
    "start_time": "2022-10-27T15:09:21.111Z"
   },
   {
    "duration": 10,
    "start_time": "2022-10-27T15:09:39.470Z"
   },
   {
    "duration": 1243,
    "start_time": "2022-10-27T15:10:26.061Z"
   },
   {
    "duration": 44,
    "start_time": "2022-10-27T15:10:27.307Z"
   },
   {
    "duration": 21,
    "start_time": "2022-10-27T15:10:27.356Z"
   },
   {
    "duration": 15,
    "start_time": "2022-10-27T15:10:27.379Z"
   },
   {
    "duration": 52,
    "start_time": "2022-10-27T15:10:27.396Z"
   },
   {
    "duration": 156,
    "start_time": "2022-10-27T15:10:27.450Z"
   },
   {
    "duration": 3,
    "start_time": "2022-10-27T15:10:27.608Z"
   },
   {
    "duration": 16,
    "start_time": "2022-10-27T15:10:27.613Z"
   },
   {
    "duration": 5,
    "start_time": "2022-10-27T15:10:27.632Z"
   },
   {
    "duration": 7,
    "start_time": "2022-10-27T15:10:27.638Z"
   },
   {
    "duration": 4,
    "start_time": "2022-10-27T15:10:27.647Z"
   },
   {
    "duration": 9,
    "start_time": "2022-10-27T15:10:27.653Z"
   },
   {
    "duration": 52,
    "start_time": "2022-10-27T15:10:27.663Z"
   },
   {
    "duration": 5,
    "start_time": "2022-10-27T15:10:27.717Z"
   },
   {
    "duration": 8,
    "start_time": "2022-10-27T15:10:27.724Z"
   },
   {
    "duration": 19,
    "start_time": "2022-10-27T15:10:27.734Z"
   },
   {
    "duration": 10,
    "start_time": "2022-10-27T15:10:27.754Z"
   },
   {
    "duration": 4,
    "start_time": "2022-10-27T15:10:27.765Z"
   },
   {
    "duration": 37,
    "start_time": "2022-10-27T15:10:27.771Z"
   },
   {
    "duration": 7,
    "start_time": "2022-10-27T15:10:27.810Z"
   },
   {
    "duration": 20,
    "start_time": "2022-10-27T15:10:27.818Z"
   },
   {
    "duration": 33,
    "start_time": "2022-10-27T15:10:27.839Z"
   },
   {
    "duration": 274,
    "start_time": "2022-10-27T15:10:27.905Z"
   },
   {
    "duration": 4,
    "start_time": "2022-10-27T15:10:28.181Z"
   },
   {
    "duration": 11864,
    "start_time": "2022-10-27T15:10:28.187Z"
   },
   {
    "duration": 22,
    "start_time": "2022-10-27T15:10:40.053Z"
   },
   {
    "duration": 1321,
    "start_time": "2022-10-27T15:19:37.568Z"
   },
   {
    "duration": 41,
    "start_time": "2022-10-27T15:19:38.891Z"
   },
   {
    "duration": 15,
    "start_time": "2022-10-27T15:19:38.934Z"
   },
   {
    "duration": 15,
    "start_time": "2022-10-27T15:19:38.950Z"
   },
   {
    "duration": 40,
    "start_time": "2022-10-27T15:19:38.967Z"
   },
   {
    "duration": 147,
    "start_time": "2022-10-27T15:19:39.008Z"
   },
   {
    "duration": 5,
    "start_time": "2022-10-27T15:19:39.157Z"
   },
   {
    "duration": 19,
    "start_time": "2022-10-27T15:19:39.163Z"
   },
   {
    "duration": 22,
    "start_time": "2022-10-27T15:19:39.184Z"
   },
   {
    "duration": 10,
    "start_time": "2022-10-27T15:19:39.208Z"
   },
   {
    "duration": 4,
    "start_time": "2022-10-27T15:19:39.220Z"
   },
   {
    "duration": 10,
    "start_time": "2022-10-27T15:19:39.226Z"
   },
   {
    "duration": 13,
    "start_time": "2022-10-27T15:19:39.238Z"
   },
   {
    "duration": 5,
    "start_time": "2022-10-27T15:19:39.255Z"
   },
   {
    "duration": 46,
    "start_time": "2022-10-27T15:19:39.262Z"
   },
   {
    "duration": 19,
    "start_time": "2022-10-27T15:19:39.310Z"
   },
   {
    "duration": 11,
    "start_time": "2022-10-27T15:19:39.331Z"
   },
   {
    "duration": 4,
    "start_time": "2022-10-27T15:19:39.343Z"
   },
   {
    "duration": 7,
    "start_time": "2022-10-27T15:19:39.349Z"
   },
   {
    "duration": 51,
    "start_time": "2022-10-27T15:19:39.357Z"
   },
   {
    "duration": 18,
    "start_time": "2022-10-27T15:19:39.410Z"
   },
   {
    "duration": 31,
    "start_time": "2022-10-27T15:19:39.429Z"
   },
   {
    "duration": 295,
    "start_time": "2022-10-27T15:19:39.462Z"
   },
   {
    "duration": 5,
    "start_time": "2022-10-27T15:19:39.759Z"
   },
   {
    "duration": 12380,
    "start_time": "2022-10-27T15:19:39.766Z"
   },
   {
    "duration": 22,
    "start_time": "2022-10-27T15:19:52.148Z"
   },
   {
    "duration": 2,
    "start_time": "2022-10-27T15:19:52.171Z"
   },
   {
    "duration": 48252,
    "start_time": "2022-10-27T15:19:52.174Z"
   },
   {
    "duration": 243,
    "start_time": "2022-10-27T15:20:40.428Z"
   },
   {
    "duration": 441,
    "start_time": "2022-10-27T15:20:40.673Z"
   },
   {
    "duration": 231,
    "start_time": "2022-10-27T15:21:17.217Z"
   },
   {
    "duration": 30,
    "start_time": "2022-10-27T15:30:37.388Z"
   },
   {
    "duration": 197,
    "start_time": "2022-10-27T15:31:35.957Z"
   },
   {
    "duration": 219,
    "start_time": "2022-10-27T15:39:02.668Z"
   },
   {
    "duration": 200,
    "start_time": "2022-10-27T15:39:08.092Z"
   },
   {
    "duration": 1602,
    "start_time": "2022-10-29T12:37:56.705Z"
   },
   {
    "duration": 85,
    "start_time": "2022-10-29T12:37:58.310Z"
   },
   {
    "duration": 20,
    "start_time": "2022-10-29T12:37:58.397Z"
   },
   {
    "duration": 14,
    "start_time": "2022-10-29T12:37:58.420Z"
   },
   {
    "duration": 46,
    "start_time": "2022-10-29T12:37:58.437Z"
   },
   {
    "duration": 171,
    "start_time": "2022-10-29T12:37:58.485Z"
   },
   {
    "duration": 5,
    "start_time": "2022-10-29T12:37:58.658Z"
   },
   {
    "duration": 26,
    "start_time": "2022-10-29T12:37:58.665Z"
   },
   {
    "duration": 12,
    "start_time": "2022-10-29T12:37:58.693Z"
   },
   {
    "duration": 11,
    "start_time": "2022-10-29T12:37:58.709Z"
   },
   {
    "duration": 6,
    "start_time": "2022-10-29T12:37:58.722Z"
   },
   {
    "duration": 36,
    "start_time": "2022-10-29T12:37:58.731Z"
   },
   {
    "duration": 22,
    "start_time": "2022-10-29T12:37:58.769Z"
   },
   {
    "duration": 7,
    "start_time": "2022-10-29T12:37:58.794Z"
   },
   {
    "duration": 10,
    "start_time": "2022-10-29T12:37:58.802Z"
   },
   {
    "duration": 47,
    "start_time": "2022-10-29T12:37:58.814Z"
   },
   {
    "duration": 12,
    "start_time": "2022-10-29T12:37:58.863Z"
   },
   {
    "duration": 5,
    "start_time": "2022-10-29T12:37:58.877Z"
   },
   {
    "duration": 6,
    "start_time": "2022-10-29T12:37:58.883Z"
   },
   {
    "duration": 6,
    "start_time": "2022-10-29T12:37:58.891Z"
   },
   {
    "duration": 19,
    "start_time": "2022-10-29T12:37:58.899Z"
   },
   {
    "duration": 71,
    "start_time": "2022-10-29T12:37:58.921Z"
   },
   {
    "duration": 317,
    "start_time": "2022-10-29T12:37:58.994Z"
   },
   {
    "duration": 6,
    "start_time": "2022-10-29T12:37:59.313Z"
   },
   {
    "duration": 25670,
    "start_time": "2022-10-29T12:37:59.320Z"
   },
   {
    "duration": 36,
    "start_time": "2022-10-29T12:38:24.993Z"
   },
   {
    "duration": 3,
    "start_time": "2022-10-29T12:38:25.031Z"
   },
   {
    "duration": 56566,
    "start_time": "2022-10-29T12:38:25.055Z"
   },
   {
    "duration": 274,
    "start_time": "2022-10-29T12:39:21.624Z"
   },
   {
    "duration": 256,
    "start_time": "2022-10-29T12:39:21.900Z"
   },
   {
    "duration": 1487,
    "start_time": "2022-10-29T14:02:48.066Z"
   },
   {
    "duration": 42,
    "start_time": "2022-10-29T14:02:49.555Z"
   },
   {
    "duration": 19,
    "start_time": "2022-10-29T14:02:49.599Z"
   },
   {
    "duration": 13,
    "start_time": "2022-10-29T14:02:49.621Z"
   },
   {
    "duration": 72,
    "start_time": "2022-10-29T14:02:49.636Z"
   },
   {
    "duration": 165,
    "start_time": "2022-10-29T14:02:49.711Z"
   },
   {
    "duration": 6,
    "start_time": "2022-10-29T14:02:49.879Z"
   },
   {
    "duration": 38,
    "start_time": "2022-10-29T14:02:49.887Z"
   },
   {
    "duration": 26,
    "start_time": "2022-10-29T14:02:49.926Z"
   },
   {
    "duration": 35,
    "start_time": "2022-10-29T14:02:49.954Z"
   },
   {
    "duration": 25,
    "start_time": "2022-10-29T14:02:49.991Z"
   },
   {
    "duration": 20,
    "start_time": "2022-10-29T14:02:50.018Z"
   },
   {
    "duration": 28,
    "start_time": "2022-10-29T14:02:50.040Z"
   },
   {
    "duration": 11,
    "start_time": "2022-10-29T14:02:50.070Z"
   },
   {
    "duration": 29,
    "start_time": "2022-10-29T14:02:50.083Z"
   },
   {
    "duration": 29,
    "start_time": "2022-10-29T14:02:50.114Z"
   },
   {
    "duration": 16,
    "start_time": "2022-10-29T14:02:50.145Z"
   },
   {
    "duration": 21,
    "start_time": "2022-10-29T14:02:50.162Z"
   },
   {
    "duration": 15,
    "start_time": "2022-10-29T14:02:50.185Z"
   },
   {
    "duration": 12,
    "start_time": "2022-10-29T14:02:50.202Z"
   },
   {
    "duration": 22,
    "start_time": "2022-10-29T14:02:50.216Z"
   },
   {
    "duration": 52,
    "start_time": "2022-10-29T14:02:50.240Z"
   },
   {
    "duration": 278,
    "start_time": "2022-10-29T14:02:50.294Z"
   },
   {
    "duration": 6,
    "start_time": "2022-10-29T14:02:50.574Z"
   },
   {
    "duration": 25148,
    "start_time": "2022-10-29T14:02:50.582Z"
   },
   {
    "duration": 36,
    "start_time": "2022-10-29T14:03:15.732Z"
   },
   {
    "duration": 5,
    "start_time": "2022-10-29T14:03:15.770Z"
   },
   {
    "duration": 55445,
    "start_time": "2022-10-29T14:03:15.778Z"
   },
   {
    "duration": 249,
    "start_time": "2022-10-29T14:04:11.224Z"
   },
   {
    "duration": 191,
    "start_time": "2022-10-29T14:04:11.475Z"
   },
   {
    "duration": 300,
    "start_time": "2022-10-29T14:07:07.465Z"
   },
   {
    "duration": 6,
    "start_time": "2022-10-29T14:07:08.391Z"
   },
   {
    "duration": 4,
    "start_time": "2022-10-29T14:07:17.147Z"
   },
   {
    "duration": 7,
    "start_time": "2022-10-29T14:07:28.002Z"
   },
   {
    "duration": 281,
    "start_time": "2022-10-29T14:09:13.884Z"
   },
   {
    "duration": 5,
    "start_time": "2022-10-29T14:09:14.250Z"
   },
   {
    "duration": 1231,
    "start_time": "2022-10-29T14:09:15.818Z"
   },
   {
    "duration": 32,
    "start_time": "2022-10-29T14:09:21.623Z"
   },
   {
    "duration": 27,
    "start_time": "2022-10-29T14:09:34.405Z"
   },
   {
    "duration": 130,
    "start_time": "2022-10-29T16:25:36.620Z"
   },
   {
    "duration": 287,
    "start_time": "2022-10-29T16:26:16.723Z"
   },
   {
    "duration": 11,
    "start_time": "2022-10-29T16:26:17.447Z"
   },
   {
    "duration": 44,
    "start_time": "2022-10-29T16:28:09.550Z"
   },
   {
    "duration": 296,
    "start_time": "2022-10-29T16:29:13.628Z"
   },
   {
    "duration": 278,
    "start_time": "2022-10-29T16:30:34.916Z"
   },
   {
    "duration": 10,
    "start_time": "2022-10-29T16:30:35.451Z"
   },
   {
    "duration": 300,
    "start_time": "2022-10-29T16:30:52.027Z"
   },
   {
    "duration": 11,
    "start_time": "2022-10-29T16:30:52.518Z"
   },
   {
    "duration": 4,
    "start_time": "2022-10-29T16:32:21.118Z"
   },
   {
    "duration": 305,
    "start_time": "2022-10-29T16:33:04.439Z"
   },
   {
    "duration": 12,
    "start_time": "2022-10-29T16:33:08.106Z"
   },
   {
    "duration": 282,
    "start_time": "2022-10-29T16:33:21.900Z"
   },
   {
    "duration": 9,
    "start_time": "2022-10-29T16:33:22.832Z"
   },
   {
    "duration": 5,
    "start_time": "2022-10-29T16:33:32.972Z"
   },
   {
    "duration": 1356,
    "start_time": "2022-10-29T16:33:48.631Z"
   },
   {
    "duration": 40,
    "start_time": "2022-10-29T16:33:50.942Z"
   },
   {
    "duration": 31,
    "start_time": "2022-10-29T16:34:00.677Z"
   },
   {
    "duration": 1318,
    "start_time": "2022-10-29T16:35:13.813Z"
   },
   {
    "duration": 28,
    "start_time": "2022-10-29T16:35:15.709Z"
   },
   {
    "duration": 4,
    "start_time": "2022-10-29T16:35:55.208Z"
   },
   {
    "duration": 290,
    "start_time": "2022-10-29T16:35:56.808Z"
   },
   {
    "duration": 6,
    "start_time": "2022-10-29T16:35:57.174Z"
   },
   {
    "duration": 13,
    "start_time": "2022-10-29T16:35:58.280Z"
   },
   {
    "duration": 11,
    "start_time": "2022-10-29T16:36:06.806Z"
   },
   {
    "duration": 1341,
    "start_time": "2022-10-29T16:46:00.271Z"
   },
   {
    "duration": 36,
    "start_time": "2022-10-29T16:46:15.177Z"
   },
   {
    "duration": 300,
    "start_time": "2022-10-29T16:46:21.175Z"
   },
   {
    "duration": 5,
    "start_time": "2022-10-29T16:46:22.529Z"
   },
   {
    "duration": 10,
    "start_time": "2022-10-29T16:46:23.762Z"
   },
   {
    "duration": 281,
    "start_time": "2022-10-29T16:50:23.377Z"
   },
   {
    "duration": 4,
    "start_time": "2022-10-29T16:50:24.442Z"
   },
   {
    "duration": 4,
    "start_time": "2022-10-29T16:56:35.708Z"
   },
   {
    "duration": 269,
    "start_time": "2022-10-29T16:59:12.699Z"
   },
   {
    "duration": 4,
    "start_time": "2022-10-29T16:59:13.757Z"
   },
   {
    "duration": 4,
    "start_time": "2022-10-29T16:59:22.182Z"
   },
   {
    "duration": 284,
    "start_time": "2022-10-29T16:59:24.367Z"
   },
   {
    "duration": 5,
    "start_time": "2022-10-29T16:59:24.823Z"
   },
   {
    "duration": 1416,
    "start_time": "2022-10-29T16:59:56.251Z"
   },
   {
    "duration": 42,
    "start_time": "2022-10-29T16:59:57.670Z"
   },
   {
    "duration": 18,
    "start_time": "2022-10-29T16:59:57.714Z"
   },
   {
    "duration": 18,
    "start_time": "2022-10-29T16:59:57.734Z"
   },
   {
    "duration": 43,
    "start_time": "2022-10-29T16:59:57.754Z"
   },
   {
    "duration": 174,
    "start_time": "2022-10-29T16:59:57.798Z"
   },
   {
    "duration": 7,
    "start_time": "2022-10-29T16:59:57.974Z"
   },
   {
    "duration": 18,
    "start_time": "2022-10-29T16:59:57.983Z"
   },
   {
    "duration": 11,
    "start_time": "2022-10-29T16:59:58.003Z"
   },
   {
    "duration": 10,
    "start_time": "2022-10-29T16:59:58.016Z"
   },
   {
    "duration": 5,
    "start_time": "2022-10-29T16:59:58.053Z"
   },
   {
    "duration": 14,
    "start_time": "2022-10-29T16:59:58.060Z"
   },
   {
    "duration": 14,
    "start_time": "2022-10-29T16:59:58.076Z"
   },
   {
    "duration": 6,
    "start_time": "2022-10-29T16:59:58.093Z"
   },
   {
    "duration": 10,
    "start_time": "2022-10-29T16:59:58.101Z"
   },
   {
    "duration": 55,
    "start_time": "2022-10-29T16:59:58.113Z"
   },
   {
    "duration": 12,
    "start_time": "2022-10-29T16:59:58.170Z"
   },
   {
    "duration": 5,
    "start_time": "2022-10-29T16:59:58.183Z"
   },
   {
    "duration": 9,
    "start_time": "2022-10-29T16:59:58.189Z"
   },
   {
    "duration": 5,
    "start_time": "2022-10-29T16:59:58.200Z"
   },
   {
    "duration": 55,
    "start_time": "2022-10-29T16:59:58.207Z"
   },
   {
    "duration": 35,
    "start_time": "2022-10-29T16:59:58.263Z"
   },
   {
    "duration": 1230,
    "start_time": "2022-10-29T16:59:58.300Z"
   },
   {
    "duration": 39,
    "start_time": "2022-10-29T16:59:59.533Z"
   },
   {
    "duration": 125,
    "start_time": "2022-10-29T16:59:59.574Z"
   },
   {
    "duration": 0,
    "start_time": "2022-10-29T16:59:59.701Z"
   },
   {
    "duration": 0,
    "start_time": "2022-10-29T16:59:59.702Z"
   },
   {
    "duration": 0,
    "start_time": "2022-10-29T16:59:59.704Z"
   },
   {
    "duration": 0,
    "start_time": "2022-10-29T16:59:59.706Z"
   },
   {
    "duration": 0,
    "start_time": "2022-10-29T16:59:59.707Z"
   },
   {
    "duration": 0,
    "start_time": "2022-10-29T16:59:59.708Z"
   },
   {
    "duration": 0,
    "start_time": "2022-10-29T16:59:59.709Z"
   },
   {
    "duration": 315,
    "start_time": "2022-10-29T17:00:14.382Z"
   },
   {
    "duration": 376,
    "start_time": "2022-10-29T17:00:21.411Z"
   },
   {
    "duration": 5,
    "start_time": "2022-10-29T17:00:22.839Z"
   },
   {
    "duration": 11,
    "start_time": "2022-10-29T17:00:32.773Z"
   },
   {
    "duration": 294,
    "start_time": "2022-10-29T17:01:43.371Z"
   },
   {
    "duration": 5,
    "start_time": "2022-10-29T17:01:43.958Z"
   },
   {
    "duration": 18,
    "start_time": "2022-10-29T17:01:45.361Z"
   },
   {
    "duration": 284,
    "start_time": "2022-10-29T17:01:55.995Z"
   },
   {
    "duration": 5,
    "start_time": "2022-10-29T17:01:56.362Z"
   },
   {
    "duration": 10,
    "start_time": "2022-10-29T17:01:57.194Z"
   },
   {
    "duration": 44,
    "start_time": "2022-10-29T17:02:58.724Z"
   },
   {
    "duration": 13,
    "start_time": "2022-10-29T17:04:04.716Z"
   },
   {
    "duration": 6,
    "start_time": "2022-10-29T17:04:56.226Z"
   },
   {
    "duration": 124,
    "start_time": "2022-10-29T17:04:59.135Z"
   },
   {
    "duration": 7,
    "start_time": "2022-10-29T17:04:59.873Z"
   },
   {
    "duration": 11,
    "start_time": "2022-10-29T17:05:09.372Z"
   },
   {
    "duration": 292,
    "start_time": "2022-10-29T17:06:53.460Z"
   },
   {
    "duration": 302,
    "start_time": "2022-10-29T17:07:02.455Z"
   },
   {
    "duration": 12,
    "start_time": "2022-10-29T17:07:51.806Z"
   },
   {
    "duration": 1407,
    "start_time": "2022-10-29T17:08:02.797Z"
   },
   {
    "duration": 42,
    "start_time": "2022-10-29T17:08:04.206Z"
   },
   {
    "duration": 18,
    "start_time": "2022-10-29T17:08:04.250Z"
   },
   {
    "duration": 34,
    "start_time": "2022-10-29T17:08:04.269Z"
   },
   {
    "duration": 60,
    "start_time": "2022-10-29T17:08:04.306Z"
   },
   {
    "duration": 161,
    "start_time": "2022-10-29T17:08:04.367Z"
   },
   {
    "duration": 5,
    "start_time": "2022-10-29T17:08:04.530Z"
   },
   {
    "duration": 36,
    "start_time": "2022-10-29T17:08:04.537Z"
   },
   {
    "duration": 26,
    "start_time": "2022-10-29T17:08:04.576Z"
   },
   {
    "duration": 30,
    "start_time": "2022-10-29T17:08:04.604Z"
   },
   {
    "duration": 23,
    "start_time": "2022-10-29T17:08:04.636Z"
   },
   {
    "duration": 38,
    "start_time": "2022-10-29T17:08:04.661Z"
   },
   {
    "duration": 26,
    "start_time": "2022-10-29T17:08:04.701Z"
   },
   {
    "duration": 17,
    "start_time": "2022-10-29T17:08:04.732Z"
   },
   {
    "duration": 21,
    "start_time": "2022-10-29T17:08:04.750Z"
   },
   {
    "duration": 47,
    "start_time": "2022-10-29T17:08:04.773Z"
   },
   {
    "duration": 15,
    "start_time": "2022-10-29T17:08:04.822Z"
   },
   {
    "duration": 33,
    "start_time": "2022-10-29T17:08:04.839Z"
   },
   {
    "duration": 29,
    "start_time": "2022-10-29T17:08:04.874Z"
   },
   {
    "duration": 33,
    "start_time": "2022-10-29T17:08:04.906Z"
   },
   {
    "duration": 38,
    "start_time": "2022-10-29T17:08:04.941Z"
   },
   {
    "duration": 74,
    "start_time": "2022-10-29T17:08:04.981Z"
   },
   {
    "duration": 108,
    "start_time": "2022-10-29T17:08:05.057Z"
   },
   {
    "duration": 192,
    "start_time": "2022-10-29T17:08:05.167Z"
   },
   {
    "duration": 1214,
    "start_time": "2022-10-29T17:08:05.361Z"
   },
   {
    "duration": 24,
    "start_time": "2022-10-29T17:08:06.577Z"
   },
   {
    "duration": 407,
    "start_time": "2022-10-29T17:08:06.603Z"
   },
   {
    "duration": 0,
    "start_time": "2022-10-29T17:08:07.012Z"
   },
   {
    "duration": 0,
    "start_time": "2022-10-29T17:08:07.013Z"
   },
   {
    "duration": 0,
    "start_time": "2022-10-29T17:08:07.014Z"
   },
   {
    "duration": 0,
    "start_time": "2022-10-29T17:08:07.015Z"
   },
   {
    "duration": 0,
    "start_time": "2022-10-29T17:08:07.017Z"
   },
   {
    "duration": 0,
    "start_time": "2022-10-29T17:08:07.018Z"
   },
   {
    "duration": 290,
    "start_time": "2022-10-29T17:09:04.906Z"
   },
   {
    "duration": 291,
    "start_time": "2022-10-29T17:09:58.830Z"
   },
   {
    "duration": 288,
    "start_time": "2022-10-29T17:10:33.108Z"
   },
   {
    "duration": 4,
    "start_time": "2022-10-29T17:11:04.416Z"
   },
   {
    "duration": 1355,
    "start_time": "2022-10-29T17:11:47.289Z"
   },
   {
    "duration": 65,
    "start_time": "2022-10-29T17:11:48.646Z"
   },
   {
    "duration": 18,
    "start_time": "2022-10-29T17:11:48.713Z"
   },
   {
    "duration": 13,
    "start_time": "2022-10-29T17:11:48.734Z"
   },
   {
    "duration": 44,
    "start_time": "2022-10-29T17:11:48.749Z"
   },
   {
    "duration": 159,
    "start_time": "2022-10-29T17:11:48.795Z"
   },
   {
    "duration": 4,
    "start_time": "2022-10-29T17:11:48.956Z"
   },
   {
    "duration": 17,
    "start_time": "2022-10-29T17:11:48.962Z"
   },
   {
    "duration": 8,
    "start_time": "2022-10-29T17:11:48.981Z"
   },
   {
    "duration": 7,
    "start_time": "2022-10-29T17:11:48.992Z"
   },
   {
    "duration": 7,
    "start_time": "2022-10-29T17:11:49.000Z"
   },
   {
    "duration": 49,
    "start_time": "2022-10-29T17:11:49.008Z"
   },
   {
    "duration": 23,
    "start_time": "2022-10-29T17:11:49.058Z"
   },
   {
    "duration": 6,
    "start_time": "2022-10-29T17:11:49.083Z"
   },
   {
    "duration": 11,
    "start_time": "2022-10-29T17:11:49.091Z"
   },
   {
    "duration": 26,
    "start_time": "2022-10-29T17:11:49.104Z"
   },
   {
    "duration": 31,
    "start_time": "2022-10-29T17:11:49.132Z"
   },
   {
    "duration": 4,
    "start_time": "2022-10-29T17:11:49.165Z"
   },
   {
    "duration": 12,
    "start_time": "2022-10-29T17:11:49.171Z"
   },
   {
    "duration": 11,
    "start_time": "2022-10-29T17:11:49.184Z"
   },
   {
    "duration": 20,
    "start_time": "2022-10-29T17:11:49.197Z"
   },
   {
    "duration": 66,
    "start_time": "2022-10-29T17:11:49.218Z"
   },
   {
    "duration": 170,
    "start_time": "2022-10-29T17:11:49.286Z"
   },
   {
    "duration": 97,
    "start_time": "2022-10-29T17:11:49.458Z"
   },
   {
    "duration": 1223,
    "start_time": "2022-10-29T17:11:49.557Z"
   },
   {
    "duration": 27,
    "start_time": "2022-10-29T17:11:50.782Z"
   },
   {
    "duration": 8,
    "start_time": "2022-10-29T17:11:50.811Z"
   },
   {
    "duration": 408,
    "start_time": "2022-10-29T17:11:50.822Z"
   },
   {
    "duration": 0,
    "start_time": "2022-10-29T17:11:51.231Z"
   },
   {
    "duration": 0,
    "start_time": "2022-10-29T17:11:51.233Z"
   },
   {
    "duration": 0,
    "start_time": "2022-10-29T17:11:51.234Z"
   },
   {
    "duration": 0,
    "start_time": "2022-10-29T17:11:51.235Z"
   },
   {
    "duration": 0,
    "start_time": "2022-10-29T17:11:51.236Z"
   },
   {
    "duration": 0,
    "start_time": "2022-10-29T17:11:51.237Z"
   },
   {
    "duration": 284,
    "start_time": "2022-10-29T17:12:07.993Z"
   },
   {
    "duration": 296,
    "start_time": "2022-10-29T17:12:22.355Z"
   },
   {
    "duration": 290,
    "start_time": "2022-10-29T17:12:59.368Z"
   },
   {
    "duration": 4,
    "start_time": "2022-10-29T17:13:02.455Z"
   },
   {
    "duration": 13,
    "start_time": "2022-10-29T17:13:15.313Z"
   },
   {
    "duration": 1230,
    "start_time": "2022-10-29T17:13:18.629Z"
   },
   {
    "duration": 26,
    "start_time": "2022-10-29T17:13:20.543Z"
   },
   {
    "duration": 9,
    "start_time": "2022-10-29T17:13:31.019Z"
   },
   {
    "duration": 279,
    "start_time": "2022-10-29T17:13:32.110Z"
   },
   {
    "duration": 13,
    "start_time": "2022-10-29T17:13:42.894Z"
   },
   {
    "duration": 298,
    "start_time": "2022-10-29T17:14:47.033Z"
   },
   {
    "duration": 9,
    "start_time": "2022-10-29T17:15:25.977Z"
   },
   {
    "duration": 322,
    "start_time": "2022-10-29T17:15:27.885Z"
   },
   {
    "duration": 9,
    "start_time": "2022-10-29T17:15:29.007Z"
   },
   {
    "duration": 1408,
    "start_time": "2022-10-29T17:17:03.497Z"
   },
   {
    "duration": 41,
    "start_time": "2022-10-29T17:17:04.907Z"
   },
   {
    "duration": 18,
    "start_time": "2022-10-29T17:17:04.950Z"
   },
   {
    "duration": 14,
    "start_time": "2022-10-29T17:17:04.971Z"
   },
   {
    "duration": 90,
    "start_time": "2022-10-29T17:17:04.987Z"
   },
   {
    "duration": 162,
    "start_time": "2022-10-29T17:17:05.078Z"
   },
   {
    "duration": 13,
    "start_time": "2022-10-29T17:17:05.242Z"
   },
   {
    "duration": 52,
    "start_time": "2022-10-29T17:17:05.257Z"
   },
   {
    "duration": 29,
    "start_time": "2022-10-29T17:17:05.312Z"
   },
   {
    "duration": 30,
    "start_time": "2022-10-29T17:17:05.344Z"
   },
   {
    "duration": 9,
    "start_time": "2022-10-29T17:17:05.376Z"
   },
   {
    "duration": 23,
    "start_time": "2022-10-29T17:17:05.386Z"
   },
   {
    "duration": 19,
    "start_time": "2022-10-29T17:17:05.410Z"
   },
   {
    "duration": 7,
    "start_time": "2022-10-29T17:17:05.431Z"
   },
   {
    "duration": 16,
    "start_time": "2022-10-29T17:17:05.439Z"
   },
   {
    "duration": 37,
    "start_time": "2022-10-29T17:17:05.457Z"
   },
   {
    "duration": 16,
    "start_time": "2022-10-29T17:17:05.496Z"
   },
   {
    "duration": 15,
    "start_time": "2022-10-29T17:17:05.514Z"
   },
   {
    "duration": 13,
    "start_time": "2022-10-29T17:17:05.532Z"
   },
   {
    "duration": 13,
    "start_time": "2022-10-29T17:17:05.547Z"
   },
   {
    "duration": 19,
    "start_time": "2022-10-29T17:17:05.562Z"
   },
   {
    "duration": 59,
    "start_time": "2022-10-29T17:17:05.583Z"
   },
   {
    "duration": 210,
    "start_time": "2022-10-29T17:17:05.644Z"
   },
   {
    "duration": 105,
    "start_time": "2022-10-29T17:17:05.857Z"
   },
   {
    "duration": 1239,
    "start_time": "2022-10-29T17:17:05.964Z"
   },
   {
    "duration": 25,
    "start_time": "2022-10-29T17:17:07.206Z"
   },
   {
    "duration": 23,
    "start_time": "2022-10-29T17:17:07.233Z"
   },
   {
    "duration": 352,
    "start_time": "2022-10-29T17:17:07.261Z"
   },
   {
    "duration": 9,
    "start_time": "2022-10-29T17:17:07.615Z"
   },
   {
    "duration": 13,
    "start_time": "2022-10-29T17:17:07.626Z"
   },
   {
    "duration": 143,
    "start_time": "2022-10-29T17:17:07.656Z"
   },
   {
    "duration": 0,
    "start_time": "2022-10-29T17:17:07.801Z"
   },
   {
    "duration": 0,
    "start_time": "2022-10-29T17:17:07.803Z"
   },
   {
    "duration": 0,
    "start_time": "2022-10-29T17:17:07.805Z"
   },
   {
    "duration": 0,
    "start_time": "2022-10-29T17:17:07.806Z"
   },
   {
    "duration": 10,
    "start_time": "2022-10-29T17:18:06.624Z"
   },
   {
    "duration": 324,
    "start_time": "2022-10-29T17:18:26.406Z"
   },
   {
    "duration": 9,
    "start_time": "2022-10-29T17:18:27.644Z"
   },
   {
    "duration": 1315,
    "start_time": "2022-10-29T17:18:32.271Z"
   },
   {
    "duration": 55,
    "start_time": "2022-10-29T17:18:33.588Z"
   },
   {
    "duration": 18,
    "start_time": "2022-10-29T17:18:33.645Z"
   },
   {
    "duration": 17,
    "start_time": "2022-10-29T17:18:33.665Z"
   },
   {
    "duration": 49,
    "start_time": "2022-10-29T17:18:33.684Z"
   },
   {
    "duration": 154,
    "start_time": "2022-10-29T17:18:33.754Z"
   },
   {
    "duration": 5,
    "start_time": "2022-10-29T17:18:33.910Z"
   },
   {
    "duration": 21,
    "start_time": "2022-10-29T17:18:33.916Z"
   },
   {
    "duration": 6,
    "start_time": "2022-10-29T17:18:33.954Z"
   },
   {
    "duration": 18,
    "start_time": "2022-10-29T17:18:33.962Z"
   },
   {
    "duration": 6,
    "start_time": "2022-10-29T17:18:33.981Z"
   },
   {
    "duration": 13,
    "start_time": "2022-10-29T17:18:33.988Z"
   },
   {
    "duration": 13,
    "start_time": "2022-10-29T17:18:34.003Z"
   },
   {
    "duration": 35,
    "start_time": "2022-10-29T17:18:34.018Z"
   },
   {
    "duration": 7,
    "start_time": "2022-10-29T17:18:34.055Z"
   },
   {
    "duration": 22,
    "start_time": "2022-10-29T17:18:34.063Z"
   },
   {
    "duration": 11,
    "start_time": "2022-10-29T17:18:34.086Z"
   },
   {
    "duration": 4,
    "start_time": "2022-10-29T17:18:34.098Z"
   },
   {
    "duration": 5,
    "start_time": "2022-10-29T17:18:34.104Z"
   },
   {
    "duration": 46,
    "start_time": "2022-10-29T17:18:34.111Z"
   },
   {
    "duration": 26,
    "start_time": "2022-10-29T17:18:34.159Z"
   },
   {
    "duration": 38,
    "start_time": "2022-10-29T17:18:34.187Z"
   },
   {
    "duration": 226,
    "start_time": "2022-10-29T17:18:34.227Z"
   },
   {
    "duration": 99,
    "start_time": "2022-10-29T17:18:34.455Z"
   },
   {
    "duration": 1263,
    "start_time": "2022-10-29T17:18:34.556Z"
   },
   {
    "duration": 36,
    "start_time": "2022-10-29T17:18:35.821Z"
   },
   {
    "duration": 322,
    "start_time": "2022-10-29T17:18:35.859Z"
   },
   {
    "duration": 9,
    "start_time": "2022-10-29T17:18:36.184Z"
   },
   {
    "duration": 10,
    "start_time": "2022-10-29T17:18:36.195Z"
   },
   {
    "duration": 133,
    "start_time": "2022-10-29T17:18:36.206Z"
   },
   {
    "duration": 0,
    "start_time": "2022-10-29T17:18:36.341Z"
   },
   {
    "duration": 0,
    "start_time": "2022-10-29T17:18:36.342Z"
   },
   {
    "duration": 0,
    "start_time": "2022-10-29T17:18:36.354Z"
   },
   {
    "duration": 0,
    "start_time": "2022-10-29T17:18:36.355Z"
   },
   {
    "duration": 11,
    "start_time": "2022-10-29T17:18:52.497Z"
   },
   {
    "duration": 10,
    "start_time": "2022-10-29T17:19:19.352Z"
   },
   {
    "duration": 11,
    "start_time": "2022-10-29T17:20:17.673Z"
   },
   {
    "duration": 1424,
    "start_time": "2022-10-29T17:20:23.244Z"
   },
   {
    "duration": 43,
    "start_time": "2022-10-29T17:20:24.671Z"
   },
   {
    "duration": 18,
    "start_time": "2022-10-29T17:20:24.716Z"
   },
   {
    "duration": 19,
    "start_time": "2022-10-29T17:20:24.736Z"
   },
   {
    "duration": 43,
    "start_time": "2022-10-29T17:20:24.757Z"
   },
   {
    "duration": 179,
    "start_time": "2022-10-29T17:20:24.802Z"
   },
   {
    "duration": 5,
    "start_time": "2022-10-29T17:20:24.982Z"
   },
   {
    "duration": 17,
    "start_time": "2022-10-29T17:20:24.989Z"
   },
   {
    "duration": 9,
    "start_time": "2022-10-29T17:20:25.008Z"
   },
   {
    "duration": 39,
    "start_time": "2022-10-29T17:20:25.020Z"
   },
   {
    "duration": 6,
    "start_time": "2022-10-29T17:20:25.060Z"
   },
   {
    "duration": 12,
    "start_time": "2022-10-29T17:20:25.067Z"
   },
   {
    "duration": 13,
    "start_time": "2022-10-29T17:20:25.081Z"
   },
   {
    "duration": 9,
    "start_time": "2022-10-29T17:20:25.095Z"
   },
   {
    "duration": 51,
    "start_time": "2022-10-29T17:20:25.106Z"
   },
   {
    "duration": 19,
    "start_time": "2022-10-29T17:20:25.159Z"
   },
   {
    "duration": 12,
    "start_time": "2022-10-29T17:20:25.180Z"
   },
   {
    "duration": 4,
    "start_time": "2022-10-29T17:20:25.194Z"
   },
   {
    "duration": 6,
    "start_time": "2022-10-29T17:20:25.200Z"
   },
   {
    "duration": 47,
    "start_time": "2022-10-29T17:20:25.209Z"
   },
   {
    "duration": 21,
    "start_time": "2022-10-29T17:20:25.257Z"
   },
   {
    "duration": 34,
    "start_time": "2022-10-29T17:20:25.280Z"
   },
   {
    "duration": 145,
    "start_time": "2022-10-29T17:20:25.317Z"
   },
   {
    "duration": 102,
    "start_time": "2022-10-29T17:20:25.463Z"
   },
   {
    "duration": 1331,
    "start_time": "2022-10-29T17:20:25.567Z"
   },
   {
    "duration": 30,
    "start_time": "2022-10-29T17:20:26.900Z"
   },
   {
    "duration": 342,
    "start_time": "2022-10-29T17:20:26.932Z"
   },
   {
    "duration": 9,
    "start_time": "2022-10-29T17:20:27.278Z"
   },
   {
    "duration": 13,
    "start_time": "2022-10-29T17:20:27.288Z"
   },
   {
    "duration": 4,
    "start_time": "2022-10-29T17:20:27.303Z"
   },
   {
    "duration": 149,
    "start_time": "2022-10-29T17:20:27.308Z"
   },
   {
    "duration": 0,
    "start_time": "2022-10-29T17:20:27.459Z"
   },
   {
    "duration": 0,
    "start_time": "2022-10-29T17:20:27.461Z"
   },
   {
    "duration": 60624,
    "start_time": "2022-10-29T17:23:45.449Z"
   },
   {
    "duration": 12,
    "start_time": "2022-10-29T17:24:46.076Z"
   },
   {
    "duration": 1584,
    "start_time": "2022-10-29T17:27:14.161Z"
   },
   {
    "duration": 64,
    "start_time": "2022-10-29T17:27:15.747Z"
   },
   {
    "duration": 18,
    "start_time": "2022-10-29T17:27:15.813Z"
   },
   {
    "duration": 15,
    "start_time": "2022-10-29T17:27:15.834Z"
   },
   {
    "duration": 55,
    "start_time": "2022-10-29T17:27:15.850Z"
   },
   {
    "duration": 177,
    "start_time": "2022-10-29T17:27:15.907Z"
   },
   {
    "duration": 5,
    "start_time": "2022-10-29T17:27:16.086Z"
   },
   {
    "duration": 18,
    "start_time": "2022-10-29T17:27:16.092Z"
   },
   {
    "duration": 10,
    "start_time": "2022-10-29T17:27:16.111Z"
   },
   {
    "duration": 39,
    "start_time": "2022-10-29T17:27:16.123Z"
   },
   {
    "duration": 6,
    "start_time": "2022-10-29T17:27:16.164Z"
   },
   {
    "duration": 23,
    "start_time": "2022-10-29T17:27:16.172Z"
   },
   {
    "duration": 30,
    "start_time": "2022-10-29T17:27:16.196Z"
   },
   {
    "duration": 6,
    "start_time": "2022-10-29T17:27:16.228Z"
   },
   {
    "duration": 18,
    "start_time": "2022-10-29T17:27:16.235Z"
   },
   {
    "duration": 46,
    "start_time": "2022-10-29T17:27:16.256Z"
   },
   {
    "duration": 10,
    "start_time": "2022-10-29T17:27:16.305Z"
   },
   {
    "duration": 4,
    "start_time": "2022-10-29T17:27:16.316Z"
   },
   {
    "duration": 7,
    "start_time": "2022-10-29T17:27:16.322Z"
   },
   {
    "duration": 11,
    "start_time": "2022-10-29T17:27:16.330Z"
   },
   {
    "duration": 37,
    "start_time": "2022-10-29T17:27:16.342Z"
   },
   {
    "duration": 44,
    "start_time": "2022-10-29T17:27:16.381Z"
   },
   {
    "duration": 359,
    "start_time": "2022-10-29T17:27:16.426Z"
   },
   {
    "duration": 87,
    "start_time": "2022-10-29T17:27:16.793Z"
   },
   {
    "duration": 1407,
    "start_time": "2022-10-29T17:27:16.886Z"
   },
   {
    "duration": 30,
    "start_time": "2022-10-29T17:27:18.295Z"
   },
   {
    "duration": 391,
    "start_time": "2022-10-29T17:27:18.327Z"
   },
   {
    "duration": 11,
    "start_time": "2022-10-29T17:27:18.721Z"
   },
   {
    "duration": 34,
    "start_time": "2022-10-29T17:27:18.734Z"
   },
   {
    "duration": 26,
    "start_time": "2022-10-29T17:27:18.770Z"
   },
   {
    "duration": 59858,
    "start_time": "2022-10-29T17:27:18.798Z"
   },
   {
    "duration": 11,
    "start_time": "2022-10-29T17:28:18.658Z"
   },
   {
    "duration": 251,
    "start_time": "2022-10-29T17:28:18.671Z"
   },
   {
    "duration": 19,
    "start_time": "2022-10-29T17:32:40.386Z"
   },
   {
    "duration": 1973,
    "start_time": "2022-10-29T17:32:47.939Z"
   },
   {
    "duration": 52,
    "start_time": "2022-10-29T17:32:49.916Z"
   },
   {
    "duration": 27,
    "start_time": "2022-10-29T17:32:49.971Z"
   },
   {
    "duration": 95,
    "start_time": "2022-10-29T17:32:50.001Z"
   },
   {
    "duration": 107,
    "start_time": "2022-10-29T17:32:50.100Z"
   },
   {
    "duration": 232,
    "start_time": "2022-10-29T17:32:50.209Z"
   },
   {
    "duration": 8,
    "start_time": "2022-10-29T17:32:50.454Z"
   },
   {
    "duration": 74,
    "start_time": "2022-10-29T17:32:50.466Z"
   },
   {
    "duration": 43,
    "start_time": "2022-10-29T17:32:50.542Z"
   },
   {
    "duration": 28,
    "start_time": "2022-10-29T17:32:50.587Z"
   },
   {
    "duration": 38,
    "start_time": "2022-10-29T17:32:50.618Z"
   },
   {
    "duration": 63,
    "start_time": "2022-10-29T17:32:50.658Z"
   },
   {
    "duration": 53,
    "start_time": "2022-10-29T17:32:50.724Z"
   },
   {
    "duration": 8,
    "start_time": "2022-10-29T17:32:50.783Z"
   },
   {
    "duration": 55,
    "start_time": "2022-10-29T17:32:50.793Z"
   },
   {
    "duration": 64,
    "start_time": "2022-10-29T17:32:50.851Z"
   },
   {
    "duration": 47,
    "start_time": "2022-10-29T17:32:50.917Z"
   },
   {
    "duration": 30,
    "start_time": "2022-10-29T17:32:50.967Z"
   },
   {
    "duration": 25,
    "start_time": "2022-10-29T17:32:51.000Z"
   },
   {
    "duration": 34,
    "start_time": "2022-10-29T17:32:51.027Z"
   },
   {
    "duration": 60,
    "start_time": "2022-10-29T17:32:51.063Z"
   },
   {
    "duration": 95,
    "start_time": "2022-10-29T17:32:51.126Z"
   },
   {
    "duration": 690,
    "start_time": "2022-10-29T17:32:51.225Z"
   },
   {
    "duration": 62,
    "start_time": "2022-10-29T17:32:51.931Z"
   },
   {
    "duration": 1586,
    "start_time": "2022-10-29T17:32:51.996Z"
   },
   {
    "duration": 32,
    "start_time": "2022-10-29T17:32:53.584Z"
   },
   {
    "duration": 398,
    "start_time": "2022-10-29T17:32:53.618Z"
   },
   {
    "duration": 13,
    "start_time": "2022-10-29T17:32:54.019Z"
   },
   {
    "duration": 28,
    "start_time": "2022-10-29T17:32:54.034Z"
   },
   {
    "duration": 7,
    "start_time": "2022-10-29T17:32:54.064Z"
   },
   {
    "duration": 68343,
    "start_time": "2022-10-29T17:32:54.072Z"
   },
   {
    "duration": 37,
    "start_time": "2022-10-29T17:34:02.418Z"
   },
   {
    "duration": 355,
    "start_time": "2022-10-29T17:34:02.457Z"
   },
   {
    "duration": 20,
    "start_time": "2022-10-29T17:35:01.371Z"
   },
   {
    "duration": 1515,
    "start_time": "2022-10-30T14:40:47.897Z"
   },
   {
    "duration": 80,
    "start_time": "2022-10-30T14:40:49.414Z"
   },
   {
    "duration": 16,
    "start_time": "2022-10-30T14:40:49.497Z"
   },
   {
    "duration": 12,
    "start_time": "2022-10-30T14:40:49.514Z"
   },
   {
    "duration": 35,
    "start_time": "2022-10-30T14:40:49.527Z"
   },
   {
    "duration": 156,
    "start_time": "2022-10-30T14:40:49.564Z"
   },
   {
    "duration": 4,
    "start_time": "2022-10-30T14:40:49.722Z"
   },
   {
    "duration": 22,
    "start_time": "2022-10-30T14:40:49.727Z"
   },
   {
    "duration": 5,
    "start_time": "2022-10-30T14:40:49.751Z"
   },
   {
    "duration": 8,
    "start_time": "2022-10-30T14:40:49.758Z"
   },
   {
    "duration": 4,
    "start_time": "2022-10-30T14:40:49.767Z"
   },
   {
    "duration": 42,
    "start_time": "2022-10-30T14:40:49.773Z"
   },
   {
    "duration": 13,
    "start_time": "2022-10-30T14:40:49.816Z"
   },
   {
    "duration": 5,
    "start_time": "2022-10-30T14:40:49.831Z"
   },
   {
    "duration": 11,
    "start_time": "2022-10-30T14:40:49.838Z"
   },
   {
    "duration": 20,
    "start_time": "2022-10-30T14:40:49.850Z"
   },
   {
    "duration": 38,
    "start_time": "2022-10-30T14:40:49.871Z"
   },
   {
    "duration": 5,
    "start_time": "2022-10-30T14:40:49.910Z"
   },
   {
    "duration": 5,
    "start_time": "2022-10-30T14:40:49.916Z"
   },
   {
    "duration": 5,
    "start_time": "2022-10-30T14:40:49.922Z"
   },
   {
    "duration": 17,
    "start_time": "2022-10-30T14:40:49.928Z"
   },
   {
    "duration": 72,
    "start_time": "2022-10-30T14:40:49.946Z"
   },
   {
    "duration": 291,
    "start_time": "2022-10-30T14:40:50.019Z"
   },
   {
    "duration": 101,
    "start_time": "2022-10-30T14:40:50.312Z"
   },
   {
    "duration": 1296,
    "start_time": "2022-10-30T14:40:50.415Z"
   },
   {
    "duration": 27,
    "start_time": "2022-10-30T14:40:51.712Z"
   },
   {
    "duration": 367,
    "start_time": "2022-10-30T14:40:51.743Z"
   },
   {
    "duration": 9,
    "start_time": "2022-10-30T14:40:52.112Z"
   },
   {
    "duration": 13,
    "start_time": "2022-10-30T14:40:52.123Z"
   },
   {
    "duration": 7,
    "start_time": "2022-10-30T14:40:52.138Z"
   },
   {
    "duration": 58745,
    "start_time": "2022-10-30T14:40:52.146Z"
   },
   {
    "duration": 18,
    "start_time": "2022-10-30T14:41:50.892Z"
   },
   {
    "duration": 11,
    "start_time": "2022-10-30T14:41:50.912Z"
   },
   {
    "duration": 48,
    "start_time": "2022-10-30T14:47:25.869Z"
   },
   {
    "duration": 1257,
    "start_time": "2022-10-30T14:48:26.248Z"
   },
   {
    "duration": 41,
    "start_time": "2022-10-30T14:48:27.507Z"
   },
   {
    "duration": 17,
    "start_time": "2022-10-30T14:48:27.550Z"
   },
   {
    "duration": 14,
    "start_time": "2022-10-30T14:48:27.570Z"
   },
   {
    "duration": 35,
    "start_time": "2022-10-30T14:48:27.586Z"
   },
   {
    "duration": 142,
    "start_time": "2022-10-30T14:48:27.623Z"
   },
   {
    "duration": 4,
    "start_time": "2022-10-30T14:48:27.766Z"
   },
   {
    "duration": 15,
    "start_time": "2022-10-30T14:48:27.771Z"
   },
   {
    "duration": 24,
    "start_time": "2022-10-30T14:48:27.788Z"
   },
   {
    "duration": 6,
    "start_time": "2022-10-30T14:48:27.815Z"
   },
   {
    "duration": 5,
    "start_time": "2022-10-30T14:48:27.822Z"
   },
   {
    "duration": 11,
    "start_time": "2022-10-30T14:48:27.829Z"
   },
   {
    "duration": 12,
    "start_time": "2022-10-30T14:48:27.842Z"
   },
   {
    "duration": 6,
    "start_time": "2022-10-30T14:48:27.855Z"
   },
   {
    "duration": 47,
    "start_time": "2022-10-30T14:48:27.863Z"
   },
   {
    "duration": 19,
    "start_time": "2022-10-30T14:48:27.912Z"
   },
   {
    "duration": 11,
    "start_time": "2022-10-30T14:48:27.933Z"
   },
   {
    "duration": 5,
    "start_time": "2022-10-30T14:48:27.945Z"
   },
   {
    "duration": 11,
    "start_time": "2022-10-30T14:48:27.951Z"
   },
   {
    "duration": 9,
    "start_time": "2022-10-30T14:48:27.964Z"
   },
   {
    "duration": 18,
    "start_time": "2022-10-30T14:48:28.008Z"
   },
   {
    "duration": 35,
    "start_time": "2022-10-30T14:48:28.028Z"
   },
   {
    "duration": 243,
    "start_time": "2022-10-30T14:48:28.065Z"
   },
   {
    "duration": 101,
    "start_time": "2022-10-30T14:48:28.311Z"
   },
   {
    "duration": 1302,
    "start_time": "2022-10-30T14:48:28.413Z"
   },
   {
    "duration": 27,
    "start_time": "2022-10-30T14:48:29.717Z"
   },
   {
    "duration": 366,
    "start_time": "2022-10-30T14:48:29.745Z"
   },
   {
    "duration": 9,
    "start_time": "2022-10-30T14:48:30.114Z"
   },
   {
    "duration": 18,
    "start_time": "2022-10-30T14:48:30.125Z"
   },
   {
    "duration": 25,
    "start_time": "2022-10-30T14:48:30.144Z"
   },
   {
    "duration": 58536,
    "start_time": "2022-10-30T14:48:30.171Z"
   },
   {
    "duration": 12,
    "start_time": "2022-10-30T14:49:28.708Z"
   },
   {
    "duration": 12,
    "start_time": "2022-10-30T14:49:28.721Z"
   },
   {
    "duration": 390,
    "start_time": "2022-10-30T14:49:28.734Z"
   },
   {
    "duration": 126,
    "start_time": "2022-10-30T14:50:31.384Z"
   },
   {
    "duration": 170,
    "start_time": "2022-10-30T14:50:48.640Z"
   },
   {
    "duration": 144,
    "start_time": "2022-10-30T14:51:26.971Z"
   },
   {
    "duration": 187,
    "start_time": "2022-10-30T14:51:39.822Z"
   },
   {
    "duration": 190,
    "start_time": "2022-10-30T14:52:06.727Z"
   },
   {
    "duration": 174,
    "start_time": "2022-10-30T14:52:58.936Z"
   },
   {
    "duration": 209,
    "start_time": "2022-10-30T14:53:24.203Z"
   },
   {
    "duration": 1308,
    "start_time": "2022-10-30T14:53:33.430Z"
   },
   {
    "duration": 42,
    "start_time": "2022-10-30T14:53:34.740Z"
   },
   {
    "duration": 16,
    "start_time": "2022-10-30T14:53:34.784Z"
   },
   {
    "duration": 12,
    "start_time": "2022-10-30T14:53:34.802Z"
   },
   {
    "duration": 39,
    "start_time": "2022-10-30T14:53:34.815Z"
   },
   {
    "duration": 149,
    "start_time": "2022-10-30T14:53:34.856Z"
   },
   {
    "duration": 4,
    "start_time": "2022-10-30T14:53:35.008Z"
   },
   {
    "duration": 20,
    "start_time": "2022-10-30T14:53:35.014Z"
   },
   {
    "duration": 8,
    "start_time": "2022-10-30T14:53:35.035Z"
   },
   {
    "duration": 20,
    "start_time": "2022-10-30T14:53:35.046Z"
   },
   {
    "duration": 39,
    "start_time": "2022-10-30T14:53:35.068Z"
   },
   {
    "duration": 9,
    "start_time": "2022-10-30T14:53:35.109Z"
   },
   {
    "duration": 16,
    "start_time": "2022-10-30T14:53:35.120Z"
   },
   {
    "duration": 6,
    "start_time": "2022-10-30T14:53:35.138Z"
   },
   {
    "duration": 13,
    "start_time": "2022-10-30T14:53:35.145Z"
   },
   {
    "duration": 35,
    "start_time": "2022-10-30T14:53:35.160Z"
   },
   {
    "duration": 18,
    "start_time": "2022-10-30T14:53:35.196Z"
   },
   {
    "duration": 11,
    "start_time": "2022-10-30T14:53:35.216Z"
   },
   {
    "duration": 20,
    "start_time": "2022-10-30T14:53:35.229Z"
   },
   {
    "duration": 7,
    "start_time": "2022-10-30T14:53:35.250Z"
   },
   {
    "duration": 21,
    "start_time": "2022-10-30T14:53:35.259Z"
   },
   {
    "duration": 38,
    "start_time": "2022-10-30T14:53:35.281Z"
   },
   {
    "duration": 189,
    "start_time": "2022-10-30T14:53:35.321Z"
   },
   {
    "duration": 98,
    "start_time": "2022-10-30T14:53:35.512Z"
   },
   {
    "duration": 1315,
    "start_time": "2022-10-30T14:53:35.612Z"
   },
   {
    "duration": 27,
    "start_time": "2022-10-30T14:53:36.929Z"
   },
   {
    "duration": 368,
    "start_time": "2022-10-30T14:53:36.958Z"
   },
   {
    "duration": 10,
    "start_time": "2022-10-30T14:53:37.330Z"
   },
   {
    "duration": 28,
    "start_time": "2022-10-30T14:53:37.342Z"
   },
   {
    "duration": 18,
    "start_time": "2022-10-30T14:53:37.372Z"
   },
   {
    "duration": 59439,
    "start_time": "2022-10-30T14:53:37.391Z"
   },
   {
    "duration": 11,
    "start_time": "2022-10-30T14:54:36.832Z"
   },
   {
    "duration": 13,
    "start_time": "2022-10-30T14:54:36.845Z"
   },
   {
    "duration": 364,
    "start_time": "2022-10-30T14:54:36.860Z"
   },
   {
    "duration": 189,
    "start_time": "2022-10-30T14:55:41.022Z"
   },
   {
    "duration": 55,
    "start_time": "2022-10-30T14:56:42.759Z"
   },
   {
    "duration": 29,
    "start_time": "2022-10-30T14:56:50.388Z"
   },
   {
    "duration": 229,
    "start_time": "2022-10-30T14:59:17.181Z"
   },
   {
    "duration": 137,
    "start_time": "2022-10-30T15:03:20.173Z"
   },
   {
    "duration": 148,
    "start_time": "2022-10-30T15:03:57.062Z"
   },
   {
    "duration": 30,
    "start_time": "2022-10-30T15:04:08.188Z"
   },
   {
    "duration": 39,
    "start_time": "2022-10-30T15:05:32.879Z"
   },
   {
    "duration": 10,
    "start_time": "2022-10-30T15:05:58.173Z"
   },
   {
    "duration": 1357,
    "start_time": "2022-10-30T15:06:06.584Z"
   },
   {
    "duration": 42,
    "start_time": "2022-10-30T15:06:07.943Z"
   },
   {
    "duration": 15,
    "start_time": "2022-10-30T15:06:07.986Z"
   },
   {
    "duration": 13,
    "start_time": "2022-10-30T15:06:08.003Z"
   },
   {
    "duration": 38,
    "start_time": "2022-10-30T15:06:08.017Z"
   },
   {
    "duration": 170,
    "start_time": "2022-10-30T15:06:08.056Z"
   },
   {
    "duration": 4,
    "start_time": "2022-10-30T15:06:08.228Z"
   },
   {
    "duration": 20,
    "start_time": "2022-10-30T15:06:08.233Z"
   },
   {
    "duration": 8,
    "start_time": "2022-10-30T15:06:08.254Z"
   },
   {
    "duration": 6,
    "start_time": "2022-10-30T15:06:08.264Z"
   },
   {
    "duration": 4,
    "start_time": "2022-10-30T15:06:08.271Z"
   },
   {
    "duration": 39,
    "start_time": "2022-10-30T15:06:08.277Z"
   },
   {
    "duration": 16,
    "start_time": "2022-10-30T15:06:08.317Z"
   },
   {
    "duration": 5,
    "start_time": "2022-10-30T15:06:08.335Z"
   },
   {
    "duration": 9,
    "start_time": "2022-10-30T15:06:08.341Z"
   },
   {
    "duration": 17,
    "start_time": "2022-10-30T15:06:08.352Z"
   },
   {
    "duration": 39,
    "start_time": "2022-10-30T15:06:08.370Z"
   },
   {
    "duration": 4,
    "start_time": "2022-10-30T15:06:08.410Z"
   },
   {
    "duration": 6,
    "start_time": "2022-10-30T15:06:08.415Z"
   },
   {
    "duration": 5,
    "start_time": "2022-10-30T15:06:08.423Z"
   },
   {
    "duration": 18,
    "start_time": "2022-10-30T15:06:08.429Z"
   },
   {
    "duration": 71,
    "start_time": "2022-10-30T15:06:08.449Z"
   },
   {
    "duration": 295,
    "start_time": "2022-10-30T15:06:08.521Z"
   },
   {
    "duration": 97,
    "start_time": "2022-10-30T15:06:08.819Z"
   },
   {
    "duration": 1321,
    "start_time": "2022-10-30T15:06:08.918Z"
   },
   {
    "duration": 26,
    "start_time": "2022-10-30T15:06:10.240Z"
   },
   {
    "duration": 368,
    "start_time": "2022-10-30T15:06:10.268Z"
   },
   {
    "duration": 9,
    "start_time": "2022-10-30T15:06:10.640Z"
   },
   {
    "duration": 28,
    "start_time": "2022-10-30T15:06:10.650Z"
   },
   {
    "duration": 40,
    "start_time": "2022-10-30T15:06:10.680Z"
   },
   {
    "duration": 59188,
    "start_time": "2022-10-30T15:06:10.722Z"
   },
   {
    "duration": 13,
    "start_time": "2022-10-30T15:07:09.912Z"
   },
   {
    "duration": 13,
    "start_time": "2022-10-30T15:07:09.927Z"
   },
   {
    "duration": 269,
    "start_time": "2022-10-30T15:07:09.941Z"
   },
   {
    "duration": 12,
    "start_time": "2022-10-30T15:07:10.211Z"
   },
   {
    "duration": 1321,
    "start_time": "2022-10-30T15:08:17.786Z"
   },
   {
    "duration": 42,
    "start_time": "2022-10-30T15:08:19.109Z"
   },
   {
    "duration": 16,
    "start_time": "2022-10-30T15:08:19.152Z"
   },
   {
    "duration": 32,
    "start_time": "2022-10-30T15:08:19.171Z"
   },
   {
    "duration": 53,
    "start_time": "2022-10-30T15:08:19.205Z"
   },
   {
    "duration": 134,
    "start_time": "2022-10-30T15:08:19.259Z"
   },
   {
    "duration": 4,
    "start_time": "2022-10-30T15:08:19.395Z"
   },
   {
    "duration": 15,
    "start_time": "2022-10-30T15:08:19.409Z"
   },
   {
    "duration": 24,
    "start_time": "2022-10-30T15:08:19.426Z"
   },
   {
    "duration": 19,
    "start_time": "2022-10-30T15:08:19.453Z"
   },
   {
    "duration": 30,
    "start_time": "2022-10-30T15:08:19.473Z"
   },
   {
    "duration": 27,
    "start_time": "2022-10-30T15:08:19.505Z"
   },
   {
    "duration": 25,
    "start_time": "2022-10-30T15:08:19.533Z"
   },
   {
    "duration": 14,
    "start_time": "2022-10-30T15:08:19.559Z"
   },
   {
    "duration": 21,
    "start_time": "2022-10-30T15:08:19.575Z"
   },
   {
    "duration": 40,
    "start_time": "2022-10-30T15:08:19.598Z"
   },
   {
    "duration": 21,
    "start_time": "2022-10-30T15:08:19.640Z"
   },
   {
    "duration": 36,
    "start_time": "2022-10-30T15:08:19.662Z"
   },
   {
    "duration": 33,
    "start_time": "2022-10-30T15:08:19.700Z"
   },
   {
    "duration": 18,
    "start_time": "2022-10-30T15:08:19.735Z"
   },
   {
    "duration": 35,
    "start_time": "2022-10-30T15:08:19.754Z"
   },
   {
    "duration": 46,
    "start_time": "2022-10-30T15:08:19.790Z"
   },
   {
    "duration": 175,
    "start_time": "2022-10-30T15:08:19.837Z"
   },
   {
    "duration": 103,
    "start_time": "2022-10-30T15:08:20.014Z"
   },
   {
    "duration": 1292,
    "start_time": "2022-10-30T15:08:20.119Z"
   },
   {
    "duration": 26,
    "start_time": "2022-10-30T15:08:21.412Z"
   },
   {
    "duration": 359,
    "start_time": "2022-10-30T15:08:21.439Z"
   },
   {
    "duration": 10,
    "start_time": "2022-10-30T15:08:21.801Z"
   },
   {
    "duration": 21,
    "start_time": "2022-10-30T15:08:21.812Z"
   },
   {
    "duration": 22,
    "start_time": "2022-10-30T15:08:21.835Z"
   },
   {
    "duration": 59403,
    "start_time": "2022-10-30T15:08:21.858Z"
   },
   {
    "duration": 11,
    "start_time": "2022-10-30T15:09:21.263Z"
   },
   {
    "duration": 13,
    "start_time": "2022-10-30T15:09:21.276Z"
   },
   {
    "duration": 119,
    "start_time": "2022-10-30T15:09:21.291Z"
   },
   {
    "duration": 101,
    "start_time": "2022-10-30T15:09:21.413Z"
   },
   {
    "duration": 1352,
    "start_time": "2022-10-30T15:22:14.642Z"
   },
   {
    "duration": 42,
    "start_time": "2022-10-30T15:22:15.995Z"
   },
   {
    "duration": 15,
    "start_time": "2022-10-30T15:22:16.039Z"
   },
   {
    "duration": 11,
    "start_time": "2022-10-30T15:22:16.056Z"
   },
   {
    "duration": 41,
    "start_time": "2022-10-30T15:22:16.069Z"
   },
   {
    "duration": 139,
    "start_time": "2022-10-30T15:22:16.112Z"
   },
   {
    "duration": 4,
    "start_time": "2022-10-30T15:22:16.253Z"
   },
   {
    "duration": 16,
    "start_time": "2022-10-30T15:22:16.259Z"
   },
   {
    "duration": 7,
    "start_time": "2022-10-30T15:22:16.276Z"
   },
   {
    "duration": 29,
    "start_time": "2022-10-30T15:22:16.285Z"
   },
   {
    "duration": 7,
    "start_time": "2022-10-30T15:22:16.316Z"
   },
   {
    "duration": 12,
    "start_time": "2022-10-30T15:22:16.324Z"
   },
   {
    "duration": 15,
    "start_time": "2022-10-30T15:22:16.338Z"
   },
   {
    "duration": 5,
    "start_time": "2022-10-30T15:22:16.355Z"
   },
   {
    "duration": 11,
    "start_time": "2022-10-30T15:22:16.361Z"
   },
   {
    "duration": 51,
    "start_time": "2022-10-30T15:22:16.373Z"
   },
   {
    "duration": 10,
    "start_time": "2022-10-30T15:22:16.425Z"
   },
   {
    "duration": 3,
    "start_time": "2022-10-30T15:22:16.437Z"
   },
   {
    "duration": 5,
    "start_time": "2022-10-30T15:22:16.442Z"
   },
   {
    "duration": 5,
    "start_time": "2022-10-30T15:22:16.448Z"
   },
   {
    "duration": 15,
    "start_time": "2022-10-30T15:22:16.455Z"
   },
   {
    "duration": 33,
    "start_time": "2022-10-30T15:22:16.509Z"
   },
   {
    "duration": 173,
    "start_time": "2022-10-30T15:22:16.544Z"
   },
   {
    "duration": 100,
    "start_time": "2022-10-30T15:22:16.720Z"
   },
   {
    "duration": 1305,
    "start_time": "2022-10-30T15:22:16.821Z"
   },
   {
    "duration": 28,
    "start_time": "2022-10-30T15:22:18.127Z"
   },
   {
    "duration": 460,
    "start_time": "2022-10-30T15:22:18.157Z"
   },
   {
    "duration": 9,
    "start_time": "2022-10-30T15:22:18.620Z"
   },
   {
    "duration": 12,
    "start_time": "2022-10-30T15:22:18.630Z"
   },
   {
    "duration": 11,
    "start_time": "2022-10-30T15:22:18.643Z"
   },
   {
    "duration": 59251,
    "start_time": "2022-10-30T15:22:18.656Z"
   },
   {
    "duration": 11,
    "start_time": "2022-10-30T15:23:17.909Z"
   },
   {
    "duration": 13,
    "start_time": "2022-10-30T15:23:17.921Z"
   },
   {
    "duration": 82,
    "start_time": "2022-10-30T15:23:17.935Z"
   },
   {
    "duration": 100,
    "start_time": "2022-10-30T15:23:18.019Z"
   },
   {
    "duration": 384,
    "start_time": "2022-10-30T15:23:18.120Z"
   },
   {
    "duration": 11,
    "start_time": "2022-10-30T15:23:18.505Z"
   },
   {
    "duration": 39,
    "start_time": "2022-10-30T15:23:18.518Z"
   },
   {
    "duration": 58626,
    "start_time": "2022-10-30T15:23:18.558Z"
   },
   {
    "duration": 11,
    "start_time": "2022-10-30T15:24:17.186Z"
   },
   {
    "duration": 10,
    "start_time": "2022-10-30T15:24:17.209Z"
   },
   {
    "duration": 1268,
    "start_time": "2022-10-30T15:25:06.237Z"
   },
   {
    "duration": 41,
    "start_time": "2022-10-30T15:25:07.507Z"
   },
   {
    "duration": 15,
    "start_time": "2022-10-30T15:25:07.550Z"
   },
   {
    "duration": 30,
    "start_time": "2022-10-30T15:25:07.568Z"
   },
   {
    "duration": 53,
    "start_time": "2022-10-30T15:25:07.599Z"
   },
   {
    "duration": 132,
    "start_time": "2022-10-30T15:25:07.654Z"
   },
   {
    "duration": 5,
    "start_time": "2022-10-30T15:25:07.788Z"
   },
   {
    "duration": 37,
    "start_time": "2022-10-30T15:25:07.795Z"
   },
   {
    "duration": 18,
    "start_time": "2022-10-30T15:25:07.834Z"
   },
   {
    "duration": 21,
    "start_time": "2022-10-30T15:25:07.854Z"
   },
   {
    "duration": 39,
    "start_time": "2022-10-30T15:25:07.877Z"
   },
   {
    "duration": 16,
    "start_time": "2022-10-30T15:25:07.918Z"
   },
   {
    "duration": 35,
    "start_time": "2022-10-30T15:25:07.936Z"
   },
   {
    "duration": 7,
    "start_time": "2022-10-30T15:25:07.973Z"
   },
   {
    "duration": 31,
    "start_time": "2022-10-30T15:25:07.982Z"
   },
   {
    "duration": 32,
    "start_time": "2022-10-30T15:25:08.014Z"
   },
   {
    "duration": 22,
    "start_time": "2022-10-30T15:25:08.048Z"
   },
   {
    "duration": 4,
    "start_time": "2022-10-30T15:25:08.072Z"
   },
   {
    "duration": 16,
    "start_time": "2022-10-30T15:25:08.077Z"
   },
   {
    "duration": 14,
    "start_time": "2022-10-30T15:25:08.095Z"
   },
   {
    "duration": 23,
    "start_time": "2022-10-30T15:25:08.111Z"
   },
   {
    "duration": 34,
    "start_time": "2022-10-30T15:25:08.136Z"
   },
   {
    "duration": 141,
    "start_time": "2022-10-30T15:25:08.173Z"
   },
   {
    "duration": 110,
    "start_time": "2022-10-30T15:25:08.316Z"
   },
   {
    "duration": 1301,
    "start_time": "2022-10-30T15:25:08.428Z"
   },
   {
    "duration": 26,
    "start_time": "2022-10-30T15:25:09.731Z"
   },
   {
    "duration": 355,
    "start_time": "2022-10-30T15:25:09.759Z"
   },
   {
    "duration": 10,
    "start_time": "2022-10-30T15:25:10.117Z"
   },
   {
    "duration": 15,
    "start_time": "2022-10-30T15:25:10.128Z"
   },
   {
    "duration": 3,
    "start_time": "2022-10-30T15:25:10.145Z"
   },
   {
    "duration": 58847,
    "start_time": "2022-10-30T15:25:10.150Z"
   },
   {
    "duration": 16,
    "start_time": "2022-10-30T15:26:08.999Z"
   },
   {
    "duration": 10,
    "start_time": "2022-10-30T15:26:09.017Z"
   },
   {
    "duration": 81,
    "start_time": "2022-10-30T15:26:09.029Z"
   },
   {
    "duration": 99,
    "start_time": "2022-10-30T15:26:09.112Z"
   },
   {
    "duration": 361,
    "start_time": "2022-10-30T15:26:09.212Z"
   },
   {
    "duration": 11,
    "start_time": "2022-10-30T15:26:09.574Z"
   },
   {
    "duration": 32,
    "start_time": "2022-10-30T15:26:09.587Z"
   },
   {
    "duration": 58466,
    "start_time": "2022-10-30T15:26:09.622Z"
   },
   {
    "duration": 11,
    "start_time": "2022-10-30T15:27:08.090Z"
   },
   {
    "duration": 22,
    "start_time": "2022-10-30T15:27:08.109Z"
   },
   {
    "duration": 41,
    "start_time": "2022-10-30T15:28:24.306Z"
   },
   {
    "duration": 43,
    "start_time": "2022-10-30T15:28:50.829Z"
   },
   {
    "duration": 3,
    "start_time": "2022-10-30T15:50:29.861Z"
   },
   {
    "duration": 5,
    "start_time": "2022-10-30T15:57:15.391Z"
   },
   {
    "duration": 123,
    "start_time": "2022-10-30T15:58:02.230Z"
   },
   {
    "duration": 10,
    "start_time": "2022-10-30T15:58:28.175Z"
   },
   {
    "duration": 4,
    "start_time": "2022-10-30T15:58:45.931Z"
   },
   {
    "duration": 3,
    "start_time": "2022-10-30T15:58:54.228Z"
   },
   {
    "duration": 25,
    "start_time": "2022-10-30T16:00:29.453Z"
   },
   {
    "duration": 225,
    "start_time": "2022-10-30T16:00:49.585Z"
   },
   {
    "duration": 109,
    "start_time": "2022-10-30T16:21:42.410Z"
   },
   {
    "duration": 11,
    "start_time": "2022-10-30T16:22:46.804Z"
   },
   {
    "duration": 487,
    "start_time": "2022-10-30T16:25:14.867Z"
   },
   {
    "duration": 10,
    "start_time": "2022-10-30T16:25:21.292Z"
   },
   {
    "duration": 11,
    "start_time": "2022-10-30T16:25:24.779Z"
   },
   {
    "duration": 1318,
    "start_time": "2022-10-30T16:27:33.633Z"
   },
   {
    "duration": 41,
    "start_time": "2022-10-30T16:27:34.953Z"
   },
   {
    "duration": 16,
    "start_time": "2022-10-30T16:27:34.997Z"
   },
   {
    "duration": 11,
    "start_time": "2022-10-30T16:27:35.015Z"
   },
   {
    "duration": 37,
    "start_time": "2022-10-30T16:27:35.027Z"
   },
   {
    "duration": 160,
    "start_time": "2022-10-30T16:27:35.066Z"
   },
   {
    "duration": 4,
    "start_time": "2022-10-30T16:27:35.227Z"
   },
   {
    "duration": 26,
    "start_time": "2022-10-30T16:27:35.232Z"
   },
   {
    "duration": 13,
    "start_time": "2022-10-30T16:27:35.261Z"
   },
   {
    "duration": 13,
    "start_time": "2022-10-30T16:27:35.275Z"
   },
   {
    "duration": 5,
    "start_time": "2022-10-30T16:27:35.289Z"
   },
   {
    "duration": 20,
    "start_time": "2022-10-30T16:27:35.295Z"
   },
   {
    "duration": 13,
    "start_time": "2022-10-30T16:27:35.316Z"
   },
   {
    "duration": 7,
    "start_time": "2022-10-30T16:27:35.331Z"
   },
   {
    "duration": 9,
    "start_time": "2022-10-30T16:27:35.339Z"
   },
   {
    "duration": 19,
    "start_time": "2022-10-30T16:27:35.349Z"
   },
   {
    "duration": 47,
    "start_time": "2022-10-30T16:27:35.369Z"
   },
   {
    "duration": 5,
    "start_time": "2022-10-30T16:27:35.418Z"
   },
   {
    "duration": 7,
    "start_time": "2022-10-30T16:27:35.424Z"
   },
   {
    "duration": 7,
    "start_time": "2022-10-30T16:27:35.432Z"
   },
   {
    "duration": 16,
    "start_time": "2022-10-30T16:27:35.440Z"
   },
   {
    "duration": 70,
    "start_time": "2022-10-30T16:27:35.458Z"
   },
   {
    "duration": 180,
    "start_time": "2022-10-30T16:27:35.530Z"
   },
   {
    "duration": 98,
    "start_time": "2022-10-30T16:27:35.712Z"
   },
   {
    "duration": 1286,
    "start_time": "2022-10-30T16:27:35.812Z"
   },
   {
    "duration": 32,
    "start_time": "2022-10-30T16:27:37.100Z"
   },
   {
    "duration": 351,
    "start_time": "2022-10-30T16:27:37.135Z"
   },
   {
    "duration": 9,
    "start_time": "2022-10-30T16:27:37.488Z"
   },
   {
    "duration": 26,
    "start_time": "2022-10-30T16:27:37.498Z"
   },
   {
    "duration": 12,
    "start_time": "2022-10-30T16:27:37.526Z"
   },
   {
    "duration": 89945,
    "start_time": "2022-10-30T16:27:37.540Z"
   },
   {
    "duration": 11,
    "start_time": "2022-10-30T16:29:07.486Z"
   },
   {
    "duration": 20,
    "start_time": "2022-10-30T16:29:07.499Z"
   },
   {
    "duration": 92,
    "start_time": "2022-10-30T16:29:07.521Z"
   },
   {
    "duration": 100,
    "start_time": "2022-10-30T16:29:07.614Z"
   },
   {
    "duration": 375,
    "start_time": "2022-10-30T16:29:07.716Z"
   },
   {
    "duration": 8,
    "start_time": "2022-10-30T16:29:08.093Z"
   },
   {
    "duration": 18,
    "start_time": "2022-10-30T16:29:08.102Z"
   },
   {
    "duration": 90160,
    "start_time": "2022-10-30T16:29:08.122Z"
   },
   {
    "duration": 11,
    "start_time": "2022-10-30T16:30:38.284Z"
   },
   {
    "duration": 17,
    "start_time": "2022-10-30T16:30:38.297Z"
   },
   {
    "duration": 11,
    "start_time": "2022-10-30T16:30:38.315Z"
   },
   {
    "duration": 3,
    "start_time": "2022-10-30T16:30:38.328Z"
   },
   {
    "duration": 4,
    "start_time": "2022-10-30T16:30:38.332Z"
   },
   {
    "duration": 74,
    "start_time": "2022-10-30T16:30:38.338Z"
   },
   {
    "duration": 97,
    "start_time": "2022-10-30T16:30:38.414Z"
   },
   {
    "duration": 456,
    "start_time": "2022-10-30T16:30:38.512Z"
   },
   {
    "duration": 9,
    "start_time": "2022-10-30T16:30:38.969Z"
   },
   {
    "duration": 30,
    "start_time": "2022-10-30T16:30:38.980Z"
   },
   {
    "duration": 412,
    "start_time": "2022-10-30T16:36:15.541Z"
   },
   {
    "duration": 10,
    "start_time": "2022-10-30T16:36:16.669Z"
   },
   {
    "duration": 12,
    "start_time": "2022-10-30T16:36:23.196Z"
   },
   {
    "duration": 1447,
    "start_time": "2022-10-30T16:36:41.285Z"
   },
   {
    "duration": 44,
    "start_time": "2022-10-30T16:36:42.734Z"
   },
   {
    "duration": 16,
    "start_time": "2022-10-30T16:36:42.780Z"
   },
   {
    "duration": 14,
    "start_time": "2022-10-30T16:36:42.798Z"
   },
   {
    "duration": 39,
    "start_time": "2022-10-30T16:36:42.814Z"
   },
   {
    "duration": 159,
    "start_time": "2022-10-30T16:36:42.855Z"
   },
   {
    "duration": 4,
    "start_time": "2022-10-30T16:36:43.015Z"
   },
   {
    "duration": 15,
    "start_time": "2022-10-30T16:36:43.021Z"
   },
   {
    "duration": 7,
    "start_time": "2022-10-30T16:36:43.038Z"
   },
   {
    "duration": 7,
    "start_time": "2022-10-30T16:36:43.047Z"
   },
   {
    "duration": 8,
    "start_time": "2022-10-30T16:36:43.056Z"
   },
   {
    "duration": 49,
    "start_time": "2022-10-30T16:36:43.065Z"
   },
   {
    "duration": 14,
    "start_time": "2022-10-30T16:36:43.115Z"
   },
   {
    "duration": 6,
    "start_time": "2022-10-30T16:36:43.130Z"
   },
   {
    "duration": 7,
    "start_time": "2022-10-30T16:36:43.137Z"
   },
   {
    "duration": 18,
    "start_time": "2022-10-30T16:36:43.145Z"
   },
   {
    "duration": 47,
    "start_time": "2022-10-30T16:36:43.165Z"
   },
   {
    "duration": 4,
    "start_time": "2022-10-30T16:36:43.213Z"
   },
   {
    "duration": 5,
    "start_time": "2022-10-30T16:36:43.219Z"
   },
   {
    "duration": 4,
    "start_time": "2022-10-30T16:36:43.226Z"
   },
   {
    "duration": 17,
    "start_time": "2022-10-30T16:36:43.232Z"
   },
   {
    "duration": 67,
    "start_time": "2022-10-30T16:36:43.251Z"
   },
   {
    "duration": 93,
    "start_time": "2022-10-30T16:36:43.323Z"
   },
   {
    "duration": 192,
    "start_time": "2022-10-30T16:36:43.417Z"
   },
   {
    "duration": 1375,
    "start_time": "2022-10-30T16:36:43.611Z"
   },
   {
    "duration": 36,
    "start_time": "2022-10-30T16:36:44.987Z"
   },
   {
    "duration": 355,
    "start_time": "2022-10-30T16:36:45.024Z"
   },
   {
    "duration": 9,
    "start_time": "2022-10-30T16:36:45.381Z"
   },
   {
    "duration": 23,
    "start_time": "2022-10-30T16:36:45.392Z"
   },
   {
    "duration": 2,
    "start_time": "2022-10-30T16:36:45.416Z"
   },
   {
    "duration": 92098,
    "start_time": "2022-10-30T16:36:45.420Z"
   },
   {
    "duration": 12,
    "start_time": "2022-10-30T16:38:17.521Z"
   },
   {
    "duration": 13,
    "start_time": "2022-10-30T16:38:17.535Z"
   },
   {
    "duration": 67,
    "start_time": "2022-10-30T16:38:17.549Z"
   },
   {
    "duration": 102,
    "start_time": "2022-10-30T16:38:17.618Z"
   },
   {
    "duration": 363,
    "start_time": "2022-10-30T16:38:17.722Z"
   },
   {
    "duration": 8,
    "start_time": "2022-10-30T16:38:18.087Z"
   },
   {
    "duration": 18,
    "start_time": "2022-10-30T16:38:18.097Z"
   },
   {
    "duration": 90378,
    "start_time": "2022-10-30T16:38:18.117Z"
   },
   {
    "duration": 16,
    "start_time": "2022-10-30T16:39:48.497Z"
   },
   {
    "duration": 26,
    "start_time": "2022-10-30T16:39:48.515Z"
   },
   {
    "duration": 44,
    "start_time": "2022-10-30T16:39:48.542Z"
   },
   {
    "duration": 23,
    "start_time": "2022-10-30T16:39:48.587Z"
   },
   {
    "duration": 53,
    "start_time": "2022-10-30T16:39:48.611Z"
   },
   {
    "duration": 146,
    "start_time": "2022-10-30T16:39:48.666Z"
   },
   {
    "duration": 102,
    "start_time": "2022-10-30T16:39:48.814Z"
   },
   {
    "duration": 452,
    "start_time": "2022-10-30T16:39:48.917Z"
   },
   {
    "duration": 10,
    "start_time": "2022-10-30T16:39:49.370Z"
   },
   {
    "duration": 66,
    "start_time": "2022-10-30T16:39:49.381Z"
   },
   {
    "duration": 124912,
    "start_time": "2022-10-30T16:52:19.367Z"
   },
   {
    "duration": 11,
    "start_time": "2022-10-30T16:54:24.281Z"
   },
   {
    "duration": 22,
    "start_time": "2022-10-30T16:54:24.293Z"
   },
   {
    "duration": 1448,
    "start_time": "2022-10-30T16:55:11.192Z"
   },
   {
    "duration": 55,
    "start_time": "2022-10-30T16:55:12.642Z"
   },
   {
    "duration": 19,
    "start_time": "2022-10-30T16:55:12.699Z"
   },
   {
    "duration": 34,
    "start_time": "2022-10-30T16:55:12.720Z"
   },
   {
    "duration": 67,
    "start_time": "2022-10-30T16:55:12.757Z"
   },
   {
    "duration": 142,
    "start_time": "2022-10-30T16:55:12.826Z"
   },
   {
    "duration": 5,
    "start_time": "2022-10-30T16:55:12.970Z"
   },
   {
    "duration": 47,
    "start_time": "2022-10-30T16:55:12.976Z"
   },
   {
    "duration": 19,
    "start_time": "2022-10-30T16:55:13.024Z"
   },
   {
    "duration": 23,
    "start_time": "2022-10-30T16:55:13.047Z"
   },
   {
    "duration": 15,
    "start_time": "2022-10-30T16:55:13.071Z"
   },
   {
    "duration": 28,
    "start_time": "2022-10-30T16:55:13.088Z"
   },
   {
    "duration": 22,
    "start_time": "2022-10-30T16:55:13.118Z"
   },
   {
    "duration": 22,
    "start_time": "2022-10-30T16:55:13.142Z"
   },
   {
    "duration": 19,
    "start_time": "2022-10-30T16:55:13.166Z"
   },
   {
    "duration": 30,
    "start_time": "2022-10-30T16:55:13.187Z"
   },
   {
    "duration": 12,
    "start_time": "2022-10-30T16:55:13.218Z"
   },
   {
    "duration": 34,
    "start_time": "2022-10-30T16:55:13.231Z"
   },
   {
    "duration": 27,
    "start_time": "2022-10-30T16:55:13.266Z"
   },
   {
    "duration": 28,
    "start_time": "2022-10-30T16:55:13.294Z"
   },
   {
    "duration": 26,
    "start_time": "2022-10-30T16:55:13.323Z"
   },
   {
    "duration": 60,
    "start_time": "2022-10-30T16:55:13.351Z"
   },
   {
    "duration": 197,
    "start_time": "2022-10-30T16:55:13.413Z"
   },
   {
    "duration": 11,
    "start_time": "2022-10-30T16:55:13.611Z"
   },
   {
    "duration": 6184,
    "start_time": "2022-10-30T16:55:13.624Z"
   },
   {
    "duration": 27,
    "start_time": "2022-10-30T16:55:19.810Z"
   },
   {
    "duration": 367,
    "start_time": "2022-10-30T16:55:19.838Z"
   },
   {
    "duration": 10,
    "start_time": "2022-10-30T16:55:20.208Z"
   },
   {
    "duration": 16,
    "start_time": "2022-10-30T16:55:20.219Z"
   },
   {
    "duration": 5,
    "start_time": "2022-10-30T16:55:20.237Z"
   },
   {
    "duration": 92032,
    "start_time": "2022-10-30T16:55:20.244Z"
   },
   {
    "duration": 16,
    "start_time": "2022-10-30T16:56:52.279Z"
   },
   {
    "duration": 23,
    "start_time": "2022-10-30T16:56:52.297Z"
   },
   {
    "duration": 93,
    "start_time": "2022-10-30T16:56:52.322Z"
   },
   {
    "duration": 97,
    "start_time": "2022-10-30T16:56:52.418Z"
   },
   {
    "duration": 1673,
    "start_time": "2022-10-30T16:56:52.519Z"
   },
   {
    "duration": 10,
    "start_time": "2022-10-30T16:56:54.193Z"
   },
   {
    "duration": 11,
    "start_time": "2022-10-30T16:56:54.208Z"
   },
   {
    "duration": 94018,
    "start_time": "2022-10-30T16:56:54.221Z"
   },
   {
    "duration": 12,
    "start_time": "2022-10-30T16:58:28.241Z"
   },
   {
    "duration": 27,
    "start_time": "2022-10-30T16:58:28.255Z"
   },
   {
    "duration": 44,
    "start_time": "2022-10-30T16:58:28.283Z"
   },
   {
    "duration": 26,
    "start_time": "2022-10-30T16:58:28.329Z"
   },
   {
    "duration": 38,
    "start_time": "2022-10-30T16:58:28.356Z"
   },
   {
    "duration": 214,
    "start_time": "2022-10-30T16:58:28.396Z"
   },
   {
    "duration": 13,
    "start_time": "2022-10-30T16:58:28.612Z"
   },
   {
    "duration": 2058,
    "start_time": "2022-10-30T16:58:28.627Z"
   },
   {
    "duration": 10,
    "start_time": "2022-10-30T16:58:30.686Z"
   },
   {
    "duration": 41,
    "start_time": "2022-10-30T16:58:30.708Z"
   },
   {
    "duration": 125784,
    "start_time": "2022-10-30T16:58:30.750Z"
   },
   {
    "duration": 12,
    "start_time": "2022-10-30T17:00:36.535Z"
   },
   {
    "duration": 36,
    "start_time": "2022-10-30T17:00:36.549Z"
   },
   {
    "duration": 55,
    "start_time": "2022-10-30T17:03:13.096Z"
   },
   {
    "duration": 126,
    "start_time": "2022-10-30T17:05:30.722Z"
   },
   {
    "duration": 10,
    "start_time": "2022-10-30T17:05:57.272Z"
   },
   {
    "duration": 3,
    "start_time": "2022-10-30T17:05:57.963Z"
   },
   {
    "duration": 4,
    "start_time": "2022-10-30T17:05:58.476Z"
   },
   {
    "duration": 40,
    "start_time": "2022-10-30T17:10:26.672Z"
   },
   {
    "duration": 13,
    "start_time": "2022-10-30T17:10:32.027Z"
   },
   {
    "duration": 10,
    "start_time": "2022-10-30T17:13:40.502Z"
   },
   {
    "duration": 4,
    "start_time": "2022-10-30T17:13:41.319Z"
   },
   {
    "duration": 4,
    "start_time": "2022-10-30T17:13:41.870Z"
   },
   {
    "duration": 10,
    "start_time": "2022-10-30T17:13:48.459Z"
   },
   {
    "duration": 3,
    "start_time": "2022-10-30T17:13:48.871Z"
   },
   {
    "duration": 3,
    "start_time": "2022-10-30T17:13:49.384Z"
   },
   {
    "duration": 11,
    "start_time": "2022-10-30T17:14:03.143Z"
   },
   {
    "duration": 4,
    "start_time": "2022-10-30T17:14:03.673Z"
   },
   {
    "duration": 4,
    "start_time": "2022-10-30T17:14:04.229Z"
   },
   {
    "duration": 10,
    "start_time": "2022-10-30T17:14:07.495Z"
   },
   {
    "duration": 3,
    "start_time": "2022-10-30T17:14:07.878Z"
   },
   {
    "duration": 4,
    "start_time": "2022-10-30T17:14:08.309Z"
   },
   {
    "duration": 90,
    "start_time": "2022-10-30T17:14:10.320Z"
   },
   {
    "duration": 9,
    "start_time": "2022-10-30T17:14:16.308Z"
   },
   {
    "duration": 4,
    "start_time": "2022-10-30T17:14:16.788Z"
   },
   {
    "duration": 4,
    "start_time": "2022-10-30T17:14:17.730Z"
   },
   {
    "duration": 87,
    "start_time": "2022-10-30T17:14:20.830Z"
   },
   {
    "duration": 10,
    "start_time": "2022-10-30T17:14:26.499Z"
   },
   {
    "duration": 4,
    "start_time": "2022-10-30T17:14:26.877Z"
   },
   {
    "duration": 4,
    "start_time": "2022-10-30T17:14:27.589Z"
   },
   {
    "duration": 96,
    "start_time": "2022-10-30T17:14:28.714Z"
   },
   {
    "duration": 10,
    "start_time": "2022-10-30T17:14:35.113Z"
   },
   {
    "duration": 4,
    "start_time": "2022-10-30T17:14:35.515Z"
   },
   {
    "duration": 4,
    "start_time": "2022-10-30T17:14:36.030Z"
   },
   {
    "duration": 108,
    "start_time": "2022-10-30T17:14:37.300Z"
   },
   {
    "duration": 11,
    "start_time": "2022-10-30T17:15:01.653Z"
   },
   {
    "duration": 4,
    "start_time": "2022-10-30T17:15:02.022Z"
   },
   {
    "duration": 6,
    "start_time": "2022-10-30T17:15:02.431Z"
   },
   {
    "duration": 51,
    "start_time": "2022-10-30T17:15:03.859Z"
   },
   {
    "duration": 921,
    "start_time": "2022-10-30T17:16:03.469Z"
   },
   {
    "duration": 9,
    "start_time": "2022-10-30T17:16:04.899Z"
   },
   {
    "duration": 12,
    "start_time": "2022-10-30T17:16:07.691Z"
   },
   {
    "duration": 1337,
    "start_time": "2022-10-30T17:19:41.547Z"
   },
   {
    "duration": 42,
    "start_time": "2022-10-30T17:19:42.885Z"
   },
   {
    "duration": 16,
    "start_time": "2022-10-30T17:19:42.929Z"
   },
   {
    "duration": 13,
    "start_time": "2022-10-30T17:19:42.948Z"
   },
   {
    "duration": 62,
    "start_time": "2022-10-30T17:19:42.963Z"
   },
   {
    "duration": 146,
    "start_time": "2022-10-30T17:19:43.027Z"
   },
   {
    "duration": 5,
    "start_time": "2022-10-30T17:19:43.175Z"
   },
   {
    "duration": 81,
    "start_time": "2022-10-30T17:19:43.182Z"
   },
   {
    "duration": 12,
    "start_time": "2022-10-30T17:19:43.265Z"
   },
   {
    "duration": 8,
    "start_time": "2022-10-30T17:19:43.280Z"
   },
   {
    "duration": 6,
    "start_time": "2022-10-30T17:19:43.290Z"
   },
   {
    "duration": 9,
    "start_time": "2022-10-30T17:19:43.298Z"
   },
   {
    "duration": 14,
    "start_time": "2022-10-30T17:19:43.309Z"
   },
   {
    "duration": 5,
    "start_time": "2022-10-30T17:19:43.326Z"
   },
   {
    "duration": 9,
    "start_time": "2022-10-30T17:19:43.333Z"
   },
   {
    "duration": 21,
    "start_time": "2022-10-30T17:19:43.344Z"
   },
   {
    "duration": 47,
    "start_time": "2022-10-30T17:19:43.367Z"
   },
   {
    "duration": 3,
    "start_time": "2022-10-30T17:19:43.416Z"
   },
   {
    "duration": 7,
    "start_time": "2022-10-30T17:19:43.420Z"
   },
   {
    "duration": 6,
    "start_time": "2022-10-30T17:19:43.429Z"
   },
   {
    "duration": 17,
    "start_time": "2022-10-30T17:19:43.436Z"
   },
   {
    "duration": 54,
    "start_time": "2022-10-30T17:19:43.455Z"
   },
   {
    "duration": 105,
    "start_time": "2022-10-30T17:19:43.511Z"
   },
   {
    "duration": 12,
    "start_time": "2022-10-30T17:19:43.708Z"
   },
   {
    "duration": 7021,
    "start_time": "2022-10-30T17:19:43.721Z"
   },
   {
    "duration": 28,
    "start_time": "2022-10-30T17:19:50.744Z"
   },
   {
    "duration": 377,
    "start_time": "2022-10-30T17:19:50.774Z"
   },
   {
    "duration": 9,
    "start_time": "2022-10-30T17:19:51.155Z"
   },
   {
    "duration": 29,
    "start_time": "2022-10-30T17:19:51.165Z"
   },
   {
    "duration": 17,
    "start_time": "2022-10-30T17:19:51.195Z"
   },
   {
    "duration": 91389,
    "start_time": "2022-10-30T17:19:51.213Z"
   },
   {
    "duration": 19,
    "start_time": "2022-10-30T17:21:22.604Z"
   },
   {
    "duration": 41,
    "start_time": "2022-10-30T17:21:22.625Z"
   },
   {
    "duration": 145,
    "start_time": "2022-10-30T17:21:22.668Z"
   },
   {
    "duration": 12,
    "start_time": "2022-10-30T17:21:22.815Z"
   },
   {
    "duration": 1618,
    "start_time": "2022-10-30T17:21:22.910Z"
   },
   {
    "duration": 9,
    "start_time": "2022-10-30T17:21:24.530Z"
   },
   {
    "duration": 15,
    "start_time": "2022-10-30T17:21:24.541Z"
   },
   {
    "duration": 90430,
    "start_time": "2022-10-30T17:21:24.557Z"
   },
   {
    "duration": 19,
    "start_time": "2022-10-30T17:22:54.989Z"
   },
   {
    "duration": 12,
    "start_time": "2022-10-30T17:22:55.010Z"
   },
   {
    "duration": 17,
    "start_time": "2022-10-30T17:22:55.023Z"
   },
   {
    "duration": 3,
    "start_time": "2022-10-30T17:22:55.042Z"
   },
   {
    "duration": 6,
    "start_time": "2022-10-30T17:22:55.047Z"
   },
   {
    "duration": 155,
    "start_time": "2022-10-30T17:22:55.055Z"
   },
   {
    "duration": 102,
    "start_time": "2022-10-30T17:22:55.212Z"
   },
   {
    "duration": 2647,
    "start_time": "2022-10-30T17:22:55.316Z"
   },
   {
    "duration": 9,
    "start_time": "2022-10-30T17:22:57.964Z"
   },
   {
    "duration": 32,
    "start_time": "2022-10-30T17:22:57.974Z"
   },
   {
    "duration": 170474,
    "start_time": "2022-10-30T17:22:58.008Z"
   },
   {
    "duration": 12,
    "start_time": "2022-10-30T17:25:48.483Z"
   },
   {
    "duration": 19,
    "start_time": "2022-10-30T17:25:48.497Z"
   },
   {
    "duration": 9,
    "start_time": "2022-10-30T17:25:48.518Z"
   },
   {
    "duration": 3,
    "start_time": "2022-10-30T17:25:48.528Z"
   },
   {
    "duration": 5,
    "start_time": "2022-10-30T17:25:48.533Z"
   },
   {
    "duration": 171,
    "start_time": "2022-10-30T17:25:48.539Z"
   },
   {
    "duration": 12,
    "start_time": "2022-10-30T17:25:48.712Z"
   },
   {
    "duration": 898,
    "start_time": "2022-10-30T17:25:48.725Z"
   },
   {
    "duration": 10,
    "start_time": "2022-10-30T17:25:49.625Z"
   },
   {
    "duration": 15,
    "start_time": "2022-10-30T17:25:49.636Z"
   },
   {
    "duration": 56425,
    "start_time": "2022-10-30T17:25:49.653Z"
   },
   {
    "duration": 11,
    "start_time": "2022-10-30T17:26:46.080Z"
   },
   {
    "duration": 25,
    "start_time": "2022-10-30T17:26:46.093Z"
   },
   {
    "duration": 44,
    "start_time": "2022-10-30T17:26:46.121Z"
   },
   {
    "duration": 9,
    "start_time": "2022-10-30T17:35:40.487Z"
   },
   {
    "duration": 4,
    "start_time": "2022-10-30T17:35:40.901Z"
   },
   {
    "duration": 4,
    "start_time": "2022-10-30T17:35:41.518Z"
   },
   {
    "duration": 67,
    "start_time": "2022-10-30T17:35:42.543Z"
   },
   {
    "duration": 12,
    "start_time": "2022-10-30T17:35:45.970Z"
   },
   {
    "duration": 2111,
    "start_time": "2022-10-30T17:35:48.656Z"
   },
   {
    "duration": 9,
    "start_time": "2022-10-30T17:35:50.939Z"
   },
   {
    "duration": 12,
    "start_time": "2022-10-30T17:36:00.863Z"
   },
   {
    "duration": 133885,
    "start_time": "2022-10-30T17:36:08.474Z"
   },
   {
    "duration": 12,
    "start_time": "2022-10-30T17:38:22.360Z"
   },
   {
    "duration": 31,
    "start_time": "2022-10-30T17:38:22.374Z"
   },
   {
    "duration": 10,
    "start_time": "2022-10-30T17:39:05.880Z"
   },
   {
    "duration": 4,
    "start_time": "2022-10-30T17:39:06.319Z"
   },
   {
    "duration": 4,
    "start_time": "2022-10-30T17:39:06.784Z"
   },
   {
    "duration": 58,
    "start_time": "2022-10-30T17:39:07.669Z"
   },
   {
    "duration": 15,
    "start_time": "2022-10-30T17:39:08.854Z"
   },
   {
    "duration": 2102,
    "start_time": "2022-10-30T17:39:10.583Z"
   },
   {
    "duration": 12,
    "start_time": "2022-10-30T17:39:12.687Z"
   },
   {
    "duration": 28,
    "start_time": "2022-10-30T17:39:12.710Z"
   },
   {
    "duration": 124752,
    "start_time": "2022-10-30T17:39:15.493Z"
   },
   {
    "duration": 12,
    "start_time": "2022-10-30T17:41:20.246Z"
   },
   {
    "duration": 18,
    "start_time": "2022-10-30T17:41:20.260Z"
   },
   {
    "duration": 9,
    "start_time": "2022-10-30T17:42:28.229Z"
   },
   {
    "duration": 5,
    "start_time": "2022-10-30T17:42:28.564Z"
   },
   {
    "duration": 4,
    "start_time": "2022-10-30T17:42:28.927Z"
   },
   {
    "duration": 36,
    "start_time": "2022-10-30T17:42:30.274Z"
   },
   {
    "duration": 14,
    "start_time": "2022-10-30T17:42:42.294Z"
   },
   {
    "duration": 1875,
    "start_time": "2022-10-30T17:42:44.693Z"
   },
   {
    "duration": 10,
    "start_time": "2022-10-30T17:42:46.570Z"
   },
   {
    "duration": 13,
    "start_time": "2022-10-30T17:42:49.783Z"
   },
   {
    "duration": 116061,
    "start_time": "2022-10-30T17:42:52.989Z"
   },
   {
    "duration": 11,
    "start_time": "2022-10-30T17:44:49.052Z"
   },
   {
    "duration": 15,
    "start_time": "2022-10-30T17:44:49.065Z"
   },
   {
    "duration": 1512,
    "start_time": "2022-10-30T17:45:40.747Z"
   },
   {
    "duration": 45,
    "start_time": "2022-10-30T17:45:42.261Z"
   },
   {
    "duration": 21,
    "start_time": "2022-10-30T17:45:42.308Z"
   },
   {
    "duration": 15,
    "start_time": "2022-10-30T17:45:42.332Z"
   },
   {
    "duration": 62,
    "start_time": "2022-10-30T17:45:42.349Z"
   },
   {
    "duration": 152,
    "start_time": "2022-10-30T17:45:42.413Z"
   },
   {
    "duration": 6,
    "start_time": "2022-10-30T17:45:42.567Z"
   },
   {
    "duration": 53,
    "start_time": "2022-10-30T17:45:42.575Z"
   },
   {
    "duration": 21,
    "start_time": "2022-10-30T17:45:42.630Z"
   },
   {
    "duration": 24,
    "start_time": "2022-10-30T17:45:42.654Z"
   },
   {
    "duration": 14,
    "start_time": "2022-10-30T17:45:42.680Z"
   },
   {
    "duration": 13,
    "start_time": "2022-10-30T17:45:42.696Z"
   },
   {
    "duration": 21,
    "start_time": "2022-10-30T17:45:42.711Z"
   },
   {
    "duration": 23,
    "start_time": "2022-10-30T17:45:42.734Z"
   },
   {
    "duration": 29,
    "start_time": "2022-10-30T17:45:42.759Z"
   },
   {
    "duration": 33,
    "start_time": "2022-10-30T17:45:42.790Z"
   },
   {
    "duration": 22,
    "start_time": "2022-10-30T17:45:42.824Z"
   },
   {
    "duration": 23,
    "start_time": "2022-10-30T17:45:42.847Z"
   },
   {
    "duration": 20,
    "start_time": "2022-10-30T17:45:42.871Z"
   },
   {
    "duration": 10,
    "start_time": "2022-10-30T17:45:42.893Z"
   },
   {
    "duration": 29,
    "start_time": "2022-10-30T17:45:42.905Z"
   },
   {
    "duration": 49,
    "start_time": "2022-10-30T17:45:42.936Z"
   },
   {
    "duration": 124,
    "start_time": "2022-10-30T17:45:42.988Z"
   },
   {
    "duration": 104,
    "start_time": "2022-10-30T17:45:43.114Z"
   },
   {
    "duration": 6042,
    "start_time": "2022-10-30T17:45:43.220Z"
   },
   {
    "duration": 28,
    "start_time": "2022-10-30T17:45:49.265Z"
   },
   {
    "duration": 359,
    "start_time": "2022-10-30T17:45:49.308Z"
   },
   {
    "duration": 9,
    "start_time": "2022-10-30T17:45:49.671Z"
   },
   {
    "duration": 25,
    "start_time": "2022-10-30T17:45:49.681Z"
   },
   {
    "duration": 14,
    "start_time": "2022-10-30T17:45:49.708Z"
   },
   {
    "duration": 91497,
    "start_time": "2022-10-30T17:45:49.724Z"
   },
   {
    "duration": 11,
    "start_time": "2022-10-30T17:47:21.222Z"
   },
   {
    "duration": 21,
    "start_time": "2022-10-30T17:47:21.235Z"
   },
   {
    "duration": 160,
    "start_time": "2022-10-30T17:47:21.257Z"
   },
   {
    "duration": 11,
    "start_time": "2022-10-30T17:47:21.419Z"
   },
   {
    "duration": 1729,
    "start_time": "2022-10-30T17:47:21.431Z"
   },
   {
    "duration": 9,
    "start_time": "2022-10-30T17:47:23.162Z"
   },
   {
    "duration": 15,
    "start_time": "2022-10-30T17:47:23.172Z"
   },
   {
    "duration": 91777,
    "start_time": "2022-10-30T17:47:23.189Z"
   },
   {
    "duration": 11,
    "start_time": "2022-10-30T17:48:54.968Z"
   },
   {
    "duration": 16,
    "start_time": "2022-10-30T17:48:54.980Z"
   },
   {
    "duration": 15,
    "start_time": "2022-10-30T17:48:55.009Z"
   },
   {
    "duration": 10,
    "start_time": "2022-10-30T17:48:55.026Z"
   },
   {
    "duration": 18,
    "start_time": "2022-10-30T17:48:55.038Z"
   },
   {
    "duration": 63,
    "start_time": "2022-10-30T17:48:55.058Z"
   },
   {
    "duration": 191,
    "start_time": "2022-10-30T17:48:55.123Z"
   },
   {
    "duration": 2152,
    "start_time": "2022-10-30T17:48:55.315Z"
   },
   {
    "duration": 11,
    "start_time": "2022-10-30T17:48:57.469Z"
   },
   {
    "duration": 28,
    "start_time": "2022-10-30T17:48:57.482Z"
   },
   {
    "duration": 9097,
    "start_time": "2022-10-30T17:48:57.512Z"
   },
   {
    "duration": 11,
    "start_time": "2022-10-30T17:49:06.610Z"
   },
   {
    "duration": 15,
    "start_time": "2022-10-30T17:49:06.622Z"
   },
   {
    "duration": 12,
    "start_time": "2022-10-30T17:49:06.639Z"
   },
   {
    "duration": 3,
    "start_time": "2022-10-30T17:49:06.652Z"
   },
   {
    "duration": 6,
    "start_time": "2022-10-30T17:49:06.657Z"
   },
   {
    "duration": 146,
    "start_time": "2022-10-30T17:49:06.664Z"
   },
   {
    "duration": 101,
    "start_time": "2022-10-30T17:49:06.812Z"
   },
   {
    "duration": 893,
    "start_time": "2022-10-30T17:49:06.914Z"
   },
   {
    "duration": 11,
    "start_time": "2022-10-30T17:49:07.808Z"
   },
   {
    "duration": 16,
    "start_time": "2022-10-30T17:49:07.820Z"
   },
   {
    "duration": 1453,
    "start_time": "2022-10-30T17:49:10.521Z"
   },
   {
    "duration": 41,
    "start_time": "2022-10-30T17:49:11.977Z"
   },
   {
    "duration": 21,
    "start_time": "2022-10-30T17:49:12.023Z"
   },
   {
    "duration": 34,
    "start_time": "2022-10-30T17:49:12.046Z"
   },
   {
    "duration": 72,
    "start_time": "2022-10-30T17:49:12.082Z"
   },
   {
    "duration": 156,
    "start_time": "2022-10-30T17:49:12.156Z"
   },
   {
    "duration": 4,
    "start_time": "2022-10-30T17:49:12.314Z"
   },
   {
    "duration": 58,
    "start_time": "2022-10-30T17:49:12.320Z"
   },
   {
    "duration": 16,
    "start_time": "2022-10-30T17:49:12.382Z"
   },
   {
    "duration": 39,
    "start_time": "2022-10-30T17:49:12.400Z"
   },
   {
    "duration": 26,
    "start_time": "2022-10-30T17:49:12.441Z"
   },
   {
    "duration": 27,
    "start_time": "2022-10-30T17:49:12.468Z"
   },
   {
    "duration": 14,
    "start_time": "2022-10-30T17:49:12.497Z"
   },
   {
    "duration": 34,
    "start_time": "2022-10-30T17:49:12.514Z"
   },
   {
    "duration": 43,
    "start_time": "2022-10-30T17:49:12.550Z"
   },
   {
    "duration": 57,
    "start_time": "2022-10-30T17:49:12.595Z"
   },
   {
    "duration": 35,
    "start_time": "2022-10-30T17:49:12.654Z"
   },
   {
    "duration": 24,
    "start_time": "2022-10-30T17:49:12.691Z"
   },
   {
    "duration": 63,
    "start_time": "2022-10-30T17:49:12.717Z"
   },
   {
    "duration": 24,
    "start_time": "2022-10-30T17:49:12.782Z"
   },
   {
    "duration": 37,
    "start_time": "2022-10-30T17:49:12.808Z"
   },
   {
    "duration": 50,
    "start_time": "2022-10-30T17:49:12.847Z"
   },
   {
    "duration": 119,
    "start_time": "2022-10-30T17:49:12.898Z"
   },
   {
    "duration": 113,
    "start_time": "2022-10-30T17:49:13.020Z"
   },
   {
    "duration": 7027,
    "start_time": "2022-10-30T17:49:13.135Z"
   },
   {
    "duration": 27,
    "start_time": "2022-10-30T17:49:20.164Z"
   },
   {
    "duration": 371,
    "start_time": "2022-10-30T17:49:20.195Z"
   },
   {
    "duration": 11,
    "start_time": "2022-10-30T17:49:20.567Z"
   },
   {
    "duration": 12,
    "start_time": "2022-10-30T17:49:20.579Z"
   },
   {
    "duration": 3,
    "start_time": "2022-10-30T17:49:20.609Z"
   },
   {
    "duration": 90884,
    "start_time": "2022-10-30T17:49:20.614Z"
   },
   {
    "duration": 18,
    "start_time": "2022-10-30T17:50:51.499Z"
   },
   {
    "duration": 10,
    "start_time": "2022-10-30T17:50:51.519Z"
   },
   {
    "duration": 82,
    "start_time": "2022-10-30T17:50:51.531Z"
   },
   {
    "duration": 102,
    "start_time": "2022-10-30T17:50:51.615Z"
   },
   {
    "duration": 1655,
    "start_time": "2022-10-30T17:50:51.718Z"
   },
   {
    "duration": 8,
    "start_time": "2022-10-30T17:50:53.375Z"
   },
   {
    "duration": 24,
    "start_time": "2022-10-30T17:50:53.385Z"
   },
   {
    "duration": 91182,
    "start_time": "2022-10-30T17:50:53.410Z"
   },
   {
    "duration": 17,
    "start_time": "2022-10-30T17:52:24.593Z"
   },
   {
    "duration": 11,
    "start_time": "2022-10-30T17:52:24.611Z"
   },
   {
    "duration": 9,
    "start_time": "2022-10-30T17:52:24.624Z"
   },
   {
    "duration": 8,
    "start_time": "2022-10-30T17:52:24.634Z"
   },
   {
    "duration": 14,
    "start_time": "2022-10-30T17:52:24.644Z"
   },
   {
    "duration": 252,
    "start_time": "2022-10-30T17:52:24.659Z"
   },
   {
    "duration": 11,
    "start_time": "2022-10-30T17:52:24.912Z"
   },
   {
    "duration": 2003,
    "start_time": "2022-10-30T17:52:24.925Z"
   },
   {
    "duration": 9,
    "start_time": "2022-10-30T17:52:26.929Z"
   },
   {
    "duration": 19,
    "start_time": "2022-10-30T17:52:26.940Z"
   },
   {
    "duration": 125225,
    "start_time": "2022-10-30T17:52:26.960Z"
   },
   {
    "duration": 11,
    "start_time": "2022-10-30T17:54:32.186Z"
   },
   {
    "duration": 11,
    "start_time": "2022-10-30T17:54:32.209Z"
   },
   {
    "duration": 26,
    "start_time": "2022-10-30T17:54:32.221Z"
   },
   {
    "duration": 12,
    "start_time": "2022-10-30T17:54:32.248Z"
   },
   {
    "duration": 7,
    "start_time": "2022-10-30T17:54:32.261Z"
   },
   {
    "duration": 47,
    "start_time": "2022-10-30T17:54:32.270Z"
   },
   {
    "duration": 94,
    "start_time": "2022-10-30T17:54:32.320Z"
   },
   {
    "duration": 960,
    "start_time": "2022-10-30T17:54:32.416Z"
   },
   {
    "duration": 9,
    "start_time": "2022-10-30T17:54:33.377Z"
   },
   {
    "duration": 43,
    "start_time": "2022-10-30T17:54:33.387Z"
   },
   {
    "duration": 55705,
    "start_time": "2022-10-30T17:54:33.432Z"
   },
   {
    "duration": 11,
    "start_time": "2022-10-30T17:55:29.139Z"
   },
   {
    "duration": 12,
    "start_time": "2022-10-30T17:55:29.151Z"
   },
   {
    "duration": 48,
    "start_time": "2022-10-30T18:01:06.531Z"
   },
   {
    "duration": 328,
    "start_time": "2022-10-30T18:14:54.687Z"
   },
   {
    "duration": 249,
    "start_time": "2022-10-30T18:15:02.336Z"
   },
   {
    "duration": 239,
    "start_time": "2022-10-30T18:16:48.912Z"
   },
   {
    "duration": 1376,
    "start_time": "2022-10-30T18:17:00.980Z"
   },
   {
    "duration": 43,
    "start_time": "2022-10-30T18:17:02.358Z"
   },
   {
    "duration": 19,
    "start_time": "2022-10-30T18:17:02.402Z"
   },
   {
    "duration": 22,
    "start_time": "2022-10-30T18:17:02.423Z"
   },
   {
    "duration": 54,
    "start_time": "2022-10-30T18:17:02.447Z"
   },
   {
    "duration": 158,
    "start_time": "2022-10-30T18:17:02.502Z"
   },
   {
    "duration": 5,
    "start_time": "2022-10-30T18:17:02.662Z"
   },
   {
    "duration": 39,
    "start_time": "2022-10-30T18:17:02.669Z"
   },
   {
    "duration": 27,
    "start_time": "2022-10-30T18:17:02.710Z"
   },
   {
    "duration": 19,
    "start_time": "2022-10-30T18:17:02.741Z"
   },
   {
    "duration": 13,
    "start_time": "2022-10-30T18:17:02.762Z"
   },
   {
    "duration": 17,
    "start_time": "2022-10-30T18:17:02.777Z"
   },
   {
    "duration": 12,
    "start_time": "2022-10-30T18:17:02.795Z"
   },
   {
    "duration": 23,
    "start_time": "2022-10-30T18:17:02.808Z"
   },
   {
    "duration": 17,
    "start_time": "2022-10-30T18:17:02.833Z"
   },
   {
    "duration": 22,
    "start_time": "2022-10-30T18:17:02.851Z"
   },
   {
    "duration": 11,
    "start_time": "2022-10-30T18:17:02.875Z"
   },
   {
    "duration": 9,
    "start_time": "2022-10-30T18:17:02.888Z"
   },
   {
    "duration": 12,
    "start_time": "2022-10-30T18:17:02.898Z"
   },
   {
    "duration": 11,
    "start_time": "2022-10-30T18:17:02.911Z"
   },
   {
    "duration": 19,
    "start_time": "2022-10-30T18:17:02.924Z"
   },
   {
    "duration": 44,
    "start_time": "2022-10-30T18:17:02.944Z"
   },
   {
    "duration": 128,
    "start_time": "2022-10-30T18:17:02.989Z"
   },
   {
    "duration": 98,
    "start_time": "2022-10-30T18:17:03.210Z"
   },
   {
    "duration": 5973,
    "start_time": "2022-10-30T18:17:03.310Z"
   },
   {
    "duration": 34,
    "start_time": "2022-10-30T18:17:09.285Z"
   },
   {
    "duration": 351,
    "start_time": "2022-10-30T18:17:09.321Z"
   },
   {
    "duration": 9,
    "start_time": "2022-10-30T18:17:09.676Z"
   },
   {
    "duration": 24,
    "start_time": "2022-10-30T18:17:09.686Z"
   },
   {
    "duration": 3,
    "start_time": "2022-10-30T18:17:09.711Z"
   },
   {
    "duration": 90042,
    "start_time": "2022-10-30T18:17:09.715Z"
   },
   {
    "duration": 11,
    "start_time": "2022-10-30T18:18:39.759Z"
   },
   {
    "duration": 27,
    "start_time": "2022-10-30T18:18:39.771Z"
   },
   {
    "duration": 109,
    "start_time": "2022-10-30T18:18:39.800Z"
   },
   {
    "duration": 105,
    "start_time": "2022-10-30T18:18:39.913Z"
   },
   {
    "duration": 1591,
    "start_time": "2022-10-30T18:18:40.020Z"
   },
   {
    "duration": 10,
    "start_time": "2022-10-30T18:18:41.613Z"
   },
   {
    "duration": 48,
    "start_time": "2022-10-30T18:18:41.624Z"
   },
   {
    "duration": 90085,
    "start_time": "2022-10-30T18:18:41.674Z"
   },
   {
    "duration": 12,
    "start_time": "2022-10-30T18:20:11.761Z"
   },
   {
    "duration": 15,
    "start_time": "2022-10-30T18:20:11.774Z"
   },
   {
    "duration": 25,
    "start_time": "2022-10-30T18:20:11.791Z"
   },
   {
    "duration": 5,
    "start_time": "2022-10-30T18:20:11.818Z"
   },
   {
    "duration": 6,
    "start_time": "2022-10-30T18:20:11.824Z"
   },
   {
    "duration": 87,
    "start_time": "2022-10-30T18:20:11.831Z"
   },
   {
    "duration": 11,
    "start_time": "2022-10-30T18:20:12.010Z"
   },
   {
    "duration": 2076,
    "start_time": "2022-10-30T18:20:12.023Z"
   },
   {
    "duration": 11,
    "start_time": "2022-10-30T18:20:14.100Z"
   },
   {
    "duration": 24,
    "start_time": "2022-10-30T18:20:14.113Z"
   },
   {
    "duration": 122946,
    "start_time": "2022-10-30T18:20:14.139Z"
   },
   {
    "duration": 11,
    "start_time": "2022-10-30T18:22:17.086Z"
   },
   {
    "duration": 20,
    "start_time": "2022-10-30T18:22:17.098Z"
   },
   {
    "duration": 12,
    "start_time": "2022-10-30T18:22:17.120Z"
   },
   {
    "duration": 4,
    "start_time": "2022-10-30T18:22:17.134Z"
   },
   {
    "duration": 8,
    "start_time": "2022-10-30T18:22:17.140Z"
   },
   {
    "duration": 161,
    "start_time": "2022-10-30T18:22:17.149Z"
   },
   {
    "duration": 13,
    "start_time": "2022-10-30T18:22:17.311Z"
   },
   {
    "duration": 903,
    "start_time": "2022-10-30T18:22:17.325Z"
   },
   {
    "duration": 10,
    "start_time": "2022-10-30T18:22:18.229Z"
   },
   {
    "duration": 13,
    "start_time": "2022-10-30T18:22:18.240Z"
   },
   {
    "duration": 56465,
    "start_time": "2022-10-30T18:22:18.255Z"
   },
   {
    "duration": 12,
    "start_time": "2022-10-30T18:23:14.722Z"
   },
   {
    "duration": 14,
    "start_time": "2022-10-30T18:23:14.735Z"
   },
   {
    "duration": 261,
    "start_time": "2022-10-30T18:23:14.750Z"
   },
   {
    "duration": 14,
    "start_time": "2022-10-30T18:29:01.960Z"
   },
   {
    "duration": 126,
    "start_time": "2022-10-30T18:37:29.823Z"
   },
   {
    "duration": 10,
    "start_time": "2022-10-30T18:37:35.492Z"
   },
   {
    "duration": 6,
    "start_time": "2022-10-30T18:37:44.557Z"
   },
   {
    "duration": 6,
    "start_time": "2022-10-30T18:37:51.521Z"
   },
   {
    "duration": 1345,
    "start_time": "2022-10-30T18:38:10.593Z"
   },
   {
    "duration": 41,
    "start_time": "2022-10-30T18:38:11.940Z"
   },
   {
    "duration": 16,
    "start_time": "2022-10-30T18:38:11.982Z"
   },
   {
    "duration": 17,
    "start_time": "2022-10-30T18:38:12.000Z"
   },
   {
    "duration": 46,
    "start_time": "2022-10-30T18:38:12.019Z"
   },
   {
    "duration": 139,
    "start_time": "2022-10-30T18:38:12.067Z"
   },
   {
    "duration": 4,
    "start_time": "2022-10-30T18:38:12.209Z"
   },
   {
    "duration": 27,
    "start_time": "2022-10-30T18:38:12.214Z"
   },
   {
    "duration": 22,
    "start_time": "2022-10-30T18:38:12.242Z"
   },
   {
    "duration": 26,
    "start_time": "2022-10-30T18:38:12.267Z"
   },
   {
    "duration": 8,
    "start_time": "2022-10-30T18:38:12.295Z"
   },
   {
    "duration": 28,
    "start_time": "2022-10-30T18:38:12.305Z"
   },
   {
    "duration": 36,
    "start_time": "2022-10-30T18:38:12.335Z"
   },
   {
    "duration": 26,
    "start_time": "2022-10-30T18:38:12.373Z"
   },
   {
    "duration": 27,
    "start_time": "2022-10-30T18:38:12.402Z"
   },
   {
    "duration": 27,
    "start_time": "2022-10-30T18:38:12.431Z"
   },
   {
    "duration": 12,
    "start_time": "2022-10-30T18:38:12.460Z"
   },
   {
    "duration": 18,
    "start_time": "2022-10-30T18:38:12.474Z"
   },
   {
    "duration": 24,
    "start_time": "2022-10-30T18:38:12.493Z"
   },
   {
    "duration": 39,
    "start_time": "2022-10-30T18:38:12.519Z"
   },
   {
    "duration": 40,
    "start_time": "2022-10-30T18:38:12.560Z"
   },
   {
    "duration": 48,
    "start_time": "2022-10-30T18:38:12.601Z"
   },
   {
    "duration": 161,
    "start_time": "2022-10-30T18:38:12.651Z"
   },
   {
    "duration": 105,
    "start_time": "2022-10-30T18:38:12.814Z"
   },
   {
    "duration": 7001,
    "start_time": "2022-10-30T18:38:12.921Z"
   },
   {
    "duration": 26,
    "start_time": "2022-10-30T18:38:19.924Z"
   },
   {
    "duration": 365,
    "start_time": "2022-10-30T18:38:19.952Z"
   },
   {
    "duration": 10,
    "start_time": "2022-10-30T18:38:20.321Z"
   },
   {
    "duration": 17,
    "start_time": "2022-10-30T18:38:20.332Z"
   },
   {
    "duration": 4,
    "start_time": "2022-10-30T18:38:20.350Z"
   },
   {
    "duration": 90226,
    "start_time": "2022-10-30T18:38:20.355Z"
   },
   {
    "duration": 13,
    "start_time": "2022-10-30T18:39:50.583Z"
   },
   {
    "duration": 12,
    "start_time": "2022-10-30T18:39:50.609Z"
   },
   {
    "duration": 89,
    "start_time": "2022-10-30T18:39:50.623Z"
   },
   {
    "duration": 103,
    "start_time": "2022-10-30T18:39:50.714Z"
   },
   {
    "duration": 1580,
    "start_time": "2022-10-30T18:39:50.819Z"
   },
   {
    "duration": 11,
    "start_time": "2022-10-30T18:39:52.400Z"
   },
   {
    "duration": 13,
    "start_time": "2022-10-30T18:39:52.412Z"
   },
   {
    "duration": 89941,
    "start_time": "2022-10-30T18:39:52.426Z"
   },
   {
    "duration": 12,
    "start_time": "2022-10-30T18:41:22.368Z"
   },
   {
    "duration": 24,
    "start_time": "2022-10-30T18:41:22.381Z"
   },
   {
    "duration": 26,
    "start_time": "2022-10-30T18:41:22.409Z"
   },
   {
    "duration": 19,
    "start_time": "2022-10-30T18:41:22.437Z"
   },
   {
    "duration": 16,
    "start_time": "2022-10-30T18:41:22.458Z"
   },
   {
    "duration": 136,
    "start_time": "2022-10-30T18:41:22.475Z"
   },
   {
    "duration": 99,
    "start_time": "2022-10-30T18:41:22.613Z"
   },
   {
    "duration": 2091,
    "start_time": "2022-10-30T18:41:22.714Z"
   },
   {
    "duration": 10,
    "start_time": "2022-10-30T18:41:24.806Z"
   },
   {
    "duration": 28,
    "start_time": "2022-10-30T18:41:24.817Z"
   },
   {
    "duration": 122246,
    "start_time": "2022-10-30T18:41:24.847Z"
   },
   {
    "duration": 16,
    "start_time": "2022-10-30T18:43:27.094Z"
   },
   {
    "duration": 16,
    "start_time": "2022-10-30T18:43:27.112Z"
   },
   {
    "duration": 15,
    "start_time": "2022-10-30T18:43:27.131Z"
   },
   {
    "duration": 5,
    "start_time": "2022-10-30T18:43:27.147Z"
   },
   {
    "duration": 8,
    "start_time": "2022-10-30T18:43:27.153Z"
   },
   {
    "duration": 147,
    "start_time": "2022-10-30T18:43:27.163Z"
   },
   {
    "duration": 19,
    "start_time": "2022-10-30T18:43:27.312Z"
   },
   {
    "duration": 907,
    "start_time": "2022-10-30T18:43:27.332Z"
   },
   {
    "duration": 10,
    "start_time": "2022-10-30T18:43:28.241Z"
   },
   {
    "duration": 13,
    "start_time": "2022-10-30T18:43:28.252Z"
   },
   {
    "duration": 56475,
    "start_time": "2022-10-30T18:43:28.266Z"
   },
   {
    "duration": 11,
    "start_time": "2022-10-30T18:44:24.742Z"
   },
   {
    "duration": 12,
    "start_time": "2022-10-30T18:44:24.754Z"
   },
   {
    "duration": 268,
    "start_time": "2022-10-30T18:44:24.768Z"
   },
   {
    "duration": 42,
    "start_time": "2022-10-31T10:08:16.123Z"
   },
   {
    "duration": 1484,
    "start_time": "2022-10-31T10:08:20.810Z"
   },
   {
    "duration": 212,
    "start_time": "2022-10-31T10:08:22.296Z"
   },
   {
    "duration": 15,
    "start_time": "2022-10-31T10:08:22.510Z"
   },
   {
    "duration": 12,
    "start_time": "2022-10-31T10:08:22.527Z"
   },
   {
    "duration": 39,
    "start_time": "2022-10-31T10:08:22.540Z"
   },
   {
    "duration": 161,
    "start_time": "2022-10-31T10:08:22.581Z"
   },
   {
    "duration": 5,
    "start_time": "2022-10-31T10:08:22.743Z"
   },
   {
    "duration": 17,
    "start_time": "2022-10-31T10:08:22.749Z"
   },
   {
    "duration": 10,
    "start_time": "2022-10-31T10:08:22.768Z"
   },
   {
    "duration": 28,
    "start_time": "2022-10-31T10:08:22.780Z"
   },
   {
    "duration": 4,
    "start_time": "2022-10-31T10:08:22.810Z"
   },
   {
    "duration": 10,
    "start_time": "2022-10-31T10:08:22.816Z"
   },
   {
    "duration": 13,
    "start_time": "2022-10-31T10:08:22.827Z"
   },
   {
    "duration": 6,
    "start_time": "2022-10-31T10:08:22.841Z"
   },
   {
    "duration": 8,
    "start_time": "2022-10-31T10:08:22.848Z"
   },
   {
    "duration": 55,
    "start_time": "2022-10-31T10:08:22.858Z"
   },
   {
    "duration": 17,
    "start_time": "2022-10-31T10:08:22.915Z"
   },
   {
    "duration": 3,
    "start_time": "2022-10-31T10:08:22.934Z"
   },
   {
    "duration": 7,
    "start_time": "2022-10-31T10:08:22.939Z"
   },
   {
    "duration": 7,
    "start_time": "2022-10-31T10:08:22.947Z"
   },
   {
    "duration": 21,
    "start_time": "2022-10-31T10:08:22.956Z"
   },
   {
    "duration": 46,
    "start_time": "2022-10-31T10:08:22.982Z"
   },
   {
    "duration": 186,
    "start_time": "2022-10-31T10:08:23.030Z"
   },
   {
    "duration": 189,
    "start_time": "2022-10-31T10:08:23.217Z"
   },
   {
    "duration": 6123,
    "start_time": "2022-10-31T10:08:23.408Z"
   },
   {
    "duration": 24,
    "start_time": "2022-10-31T10:08:29.533Z"
   },
   {
    "duration": 315,
    "start_time": "2022-10-31T10:08:29.559Z"
   },
   {
    "duration": 10,
    "start_time": "2022-10-31T10:08:29.877Z"
   },
   {
    "duration": 20,
    "start_time": "2022-10-31T10:08:29.889Z"
   },
   {
    "duration": 7,
    "start_time": "2022-10-31T10:08:29.910Z"
   },
   {
    "duration": 83997,
    "start_time": "2022-10-31T10:08:29.919Z"
   },
   {
    "duration": 13,
    "start_time": "2022-10-31T10:09:53.918Z"
   },
   {
    "duration": 14,
    "start_time": "2022-10-31T10:09:53.933Z"
   },
   {
    "duration": 258,
    "start_time": "2022-10-31T10:09:53.949Z"
   },
   {
    "duration": 12,
    "start_time": "2022-10-31T10:09:54.208Z"
   },
   {
    "duration": 1395,
    "start_time": "2022-10-31T10:09:54.222Z"
   },
   {
    "duration": 10,
    "start_time": "2022-10-31T10:09:55.619Z"
   },
   {
    "duration": 14,
    "start_time": "2022-10-31T10:09:55.631Z"
   },
   {
    "duration": 80806,
    "start_time": "2022-10-31T10:09:55.647Z"
   },
   {
    "duration": 11,
    "start_time": "2022-10-31T10:11:16.454Z"
   },
   {
    "duration": 12,
    "start_time": "2022-10-31T10:11:16.467Z"
   },
   {
    "duration": 27,
    "start_time": "2022-10-31T10:11:16.481Z"
   },
   {
    "duration": 4,
    "start_time": "2022-10-31T10:11:16.509Z"
   },
   {
    "duration": 6,
    "start_time": "2022-10-31T10:11:16.514Z"
   },
   {
    "duration": 92,
    "start_time": "2022-10-31T10:11:16.522Z"
   },
   {
    "duration": 103,
    "start_time": "2022-10-31T10:11:16.616Z"
   },
   {
    "duration": 1851,
    "start_time": "2022-10-31T10:11:16.721Z"
   },
   {
    "duration": 8,
    "start_time": "2022-10-31T10:11:18.574Z"
   },
   {
    "duration": 22,
    "start_time": "2022-10-31T10:11:18.584Z"
   },
   {
    "duration": 110506,
    "start_time": "2022-10-31T10:11:18.607Z"
   },
   {
    "duration": 10,
    "start_time": "2022-10-31T10:13:09.114Z"
   },
   {
    "duration": 16,
    "start_time": "2022-10-31T10:13:09.126Z"
   },
   {
    "duration": 9,
    "start_time": "2022-10-31T10:13:09.144Z"
   },
   {
    "duration": 7,
    "start_time": "2022-10-31T10:13:09.154Z"
   },
   {
    "duration": 6,
    "start_time": "2022-10-31T10:13:09.162Z"
   },
   {
    "duration": 41,
    "start_time": "2022-10-31T10:13:09.169Z"
   },
   {
    "duration": 105,
    "start_time": "2022-10-31T10:13:09.211Z"
   },
   {
    "duration": 798,
    "start_time": "2022-10-31T10:13:09.319Z"
   },
   {
    "duration": 10,
    "start_time": "2022-10-31T10:13:10.119Z"
   },
   {
    "duration": 13,
    "start_time": "2022-10-31T10:13:10.131Z"
   },
   {
    "duration": 53036,
    "start_time": "2022-10-31T10:13:10.145Z"
   },
   {
    "duration": 21,
    "start_time": "2022-10-31T10:14:03.183Z"
   },
   {
    "duration": 17,
    "start_time": "2022-10-31T10:14:03.207Z"
   },
   {
    "duration": 230,
    "start_time": "2022-10-31T10:14:03.226Z"
   },
   {
    "duration": 186,
    "start_time": "2022-10-31T10:20:49.218Z"
   },
   {
    "duration": 196,
    "start_time": "2022-10-31T10:37:23.459Z"
   },
   {
    "duration": 14,
    "start_time": "2022-10-31T10:37:27.923Z"
   },
   {
    "duration": 4,
    "start_time": "2022-10-31T10:37:29.371Z"
   },
   {
    "duration": 4,
    "start_time": "2022-10-31T10:37:29.817Z"
   },
   {
    "duration": 4,
    "start_time": "2022-10-31T10:37:30.206Z"
   },
   {
    "duration": 79,
    "start_time": "2022-10-31T10:38:50.029Z"
   },
   {
    "duration": 5,
    "start_time": "2022-10-31T10:41:55.506Z"
   },
   {
    "duration": 10,
    "start_time": "2022-10-31T10:46:00.409Z"
   },
   {
    "duration": 3,
    "start_time": "2022-10-31T10:46:07.280Z"
   },
   {
    "duration": 10,
    "start_time": "2022-10-31T10:46:14.639Z"
   },
   {
    "duration": 4,
    "start_time": "2022-10-31T10:46:19.441Z"
   },
   {
    "duration": 8,
    "start_time": "2022-10-31T10:46:24.715Z"
   },
   {
    "duration": 5,
    "start_time": "2022-10-31T10:46:28.406Z"
   },
   {
    "duration": 3,
    "start_time": "2022-10-31T10:47:47.578Z"
   },
   {
    "duration": 3,
    "start_time": "2022-10-31T10:47:47.981Z"
   },
   {
    "duration": 4,
    "start_time": "2022-10-31T10:47:48.681Z"
   },
   {
    "duration": 10,
    "start_time": "2022-10-31T10:48:16.255Z"
   },
   {
    "duration": 5368,
    "start_time": "2022-10-31T10:50:42.432Z"
   },
   {
    "duration": 3,
    "start_time": "2022-10-31T10:50:47.802Z"
   },
   {
    "duration": 15,
    "start_time": "2022-10-31T10:50:47.807Z"
   },
   {
    "duration": 0,
    "start_time": "2022-10-31T10:50:47.824Z"
   },
   {
    "duration": 11,
    "start_time": "2022-10-31T10:51:46.931Z"
   },
   {
    "duration": 6,
    "start_time": "2022-10-31T10:51:47.959Z"
   },
   {
    "duration": 5351,
    "start_time": "2022-10-31T10:51:52.773Z"
   },
   {
    "duration": 2,
    "start_time": "2022-10-31T10:51:58.126Z"
   },
   {
    "duration": 14,
    "start_time": "2022-10-31T10:51:58.130Z"
   },
   {
    "duration": 4,
    "start_time": "2022-10-31T10:52:11.563Z"
   },
   {
    "duration": 5,
    "start_time": "2022-10-31T10:52:12.543Z"
   },
   {
    "duration": 13,
    "start_time": "2022-10-31T10:52:23.841Z"
   },
   {
    "duration": 5,
    "start_time": "2022-10-31T10:52:25.615Z"
   },
   {
    "duration": 13,
    "start_time": "2022-10-31T10:52:32.063Z"
   },
   {
    "duration": 5,
    "start_time": "2022-10-31T10:52:32.766Z"
   },
   {
    "duration": 2,
    "start_time": "2022-10-31T10:53:01.042Z"
   },
   {
    "duration": 111,
    "start_time": "2022-10-31T10:53:01.798Z"
   },
   {
    "duration": 10,
    "start_time": "2022-10-31T10:53:03.885Z"
   },
   {
    "duration": 3,
    "start_time": "2022-10-31T10:53:28.207Z"
   },
   {
    "duration": 12,
    "start_time": "2022-10-31T10:53:28.729Z"
   },
   {
    "duration": 4,
    "start_time": "2022-10-31T10:53:37.294Z"
   },
   {
    "duration": 13,
    "start_time": "2022-10-31T10:53:37.928Z"
   },
   {
    "duration": 15,
    "start_time": "2022-10-31T10:53:48.703Z"
   },
   {
    "duration": 4,
    "start_time": "2022-10-31T10:54:47.138Z"
   },
   {
    "duration": 5279,
    "start_time": "2022-10-31T10:55:02.292Z"
   },
   {
    "duration": 3,
    "start_time": "2022-10-31T10:55:07.573Z"
   },
   {
    "duration": 6,
    "start_time": "2022-10-31T10:55:07.578Z"
   },
   {
    "duration": 6,
    "start_time": "2022-10-31T10:55:07.586Z"
   },
   {
    "duration": 21,
    "start_time": "2022-10-31T10:55:08.681Z"
   },
   {
    "duration": 5245,
    "start_time": "2022-10-31T10:56:09.920Z"
   },
   {
    "duration": 3,
    "start_time": "2022-10-31T10:56:15.167Z"
   },
   {
    "duration": 38,
    "start_time": "2022-10-31T10:56:15.172Z"
   },
   {
    "duration": 6,
    "start_time": "2022-10-31T10:56:24.014Z"
   },
   {
    "duration": 1340,
    "start_time": "2022-10-31T13:19:46.556Z"
   },
   {
    "duration": 42,
    "start_time": "2022-10-31T13:19:47.898Z"
   },
   {
    "duration": 19,
    "start_time": "2022-10-31T13:19:47.942Z"
   },
   {
    "duration": 13,
    "start_time": "2022-10-31T13:19:47.963Z"
   },
   {
    "duration": 47,
    "start_time": "2022-10-31T13:19:47.977Z"
   },
   {
    "duration": 153,
    "start_time": "2022-10-31T13:19:48.025Z"
   },
   {
    "duration": 5,
    "start_time": "2022-10-31T13:19:48.179Z"
   },
   {
    "duration": 27,
    "start_time": "2022-10-31T13:19:48.185Z"
   },
   {
    "duration": 6,
    "start_time": "2022-10-31T13:19:48.214Z"
   },
   {
    "duration": 7,
    "start_time": "2022-10-31T13:19:48.222Z"
   },
   {
    "duration": 6,
    "start_time": "2022-10-31T13:19:48.231Z"
   },
   {
    "duration": 8,
    "start_time": "2022-10-31T13:19:48.238Z"
   },
   {
    "duration": 14,
    "start_time": "2022-10-31T13:19:48.248Z"
   },
   {
    "duration": 5,
    "start_time": "2022-10-31T13:19:48.264Z"
   },
   {
    "duration": 9,
    "start_time": "2022-10-31T13:19:48.306Z"
   },
   {
    "duration": 19,
    "start_time": "2022-10-31T13:19:48.316Z"
   },
   {
    "duration": 13,
    "start_time": "2022-10-31T13:19:48.336Z"
   },
   {
    "duration": 4,
    "start_time": "2022-10-31T13:19:48.350Z"
   },
   {
    "duration": 19,
    "start_time": "2022-10-31T13:19:48.355Z"
   },
   {
    "duration": 47,
    "start_time": "2022-10-31T13:19:48.375Z"
   },
   {
    "duration": 182,
    "start_time": "2022-10-31T13:19:48.424Z"
   },
   {
    "duration": 99,
    "start_time": "2022-10-31T13:19:48.608Z"
   },
   {
    "duration": 5070,
    "start_time": "2022-10-31T13:19:48.709Z"
   },
   {
    "duration": 4,
    "start_time": "2022-10-31T13:19:53.780Z"
   },
   {
    "duration": 33,
    "start_time": "2022-10-31T13:19:53.785Z"
   },
   {
    "duration": 292,
    "start_time": "2022-10-31T13:19:53.819Z"
   },
   {
    "duration": 9,
    "start_time": "2022-10-31T13:19:54.113Z"
   },
   {
    "duration": 11,
    "start_time": "2022-10-31T13:19:54.126Z"
   },
   {
    "duration": 14,
    "start_time": "2022-10-31T13:19:54.139Z"
   },
   {
    "duration": 84842,
    "start_time": "2022-10-31T13:19:54.156Z"
   },
   {
    "duration": 22,
    "start_time": "2022-10-31T13:21:19.005Z"
   },
   {
    "duration": 18,
    "start_time": "2022-10-31T13:21:19.029Z"
   },
   {
    "duration": 170,
    "start_time": "2022-10-31T13:21:19.049Z"
   },
   {
    "duration": 13,
    "start_time": "2022-10-31T13:21:19.221Z"
   },
   {
    "duration": 1407,
    "start_time": "2022-10-31T13:21:19.235Z"
   },
   {
    "duration": 10,
    "start_time": "2022-10-31T13:21:20.643Z"
   },
   {
    "duration": 15,
    "start_time": "2022-10-31T13:21:20.655Z"
   },
   {
    "duration": 85868,
    "start_time": "2022-10-31T13:21:20.673Z"
   },
   {
    "duration": 12,
    "start_time": "2022-10-31T13:22:46.543Z"
   },
   {
    "duration": 30,
    "start_time": "2022-10-31T13:22:46.556Z"
   },
   {
    "duration": 13,
    "start_time": "2022-10-31T13:22:46.587Z"
   },
   {
    "duration": 20,
    "start_time": "2022-10-31T13:22:46.605Z"
   },
   {
    "duration": 12,
    "start_time": "2022-10-31T13:22:46.627Z"
   },
   {
    "duration": 78,
    "start_time": "2022-10-31T13:22:46.641Z"
   },
   {
    "duration": 95,
    "start_time": "2022-10-31T13:22:46.721Z"
   },
   {
    "duration": 1874,
    "start_time": "2022-10-31T13:22:46.819Z"
   },
   {
    "duration": 25,
    "start_time": "2022-10-31T13:22:48.695Z"
   },
   {
    "duration": 12,
    "start_time": "2022-10-31T13:22:48.721Z"
   },
   {
    "duration": 112061,
    "start_time": "2022-10-31T13:22:48.735Z"
   },
   {
    "duration": 24,
    "start_time": "2022-10-31T13:24:40.798Z"
   },
   {
    "duration": 14,
    "start_time": "2022-10-31T13:24:40.823Z"
   },
   {
    "duration": 10,
    "start_time": "2022-10-31T13:24:40.838Z"
   },
   {
    "duration": 3,
    "start_time": "2022-10-31T13:24:40.850Z"
   },
   {
    "duration": 6,
    "start_time": "2022-10-31T13:24:40.855Z"
   },
   {
    "duration": 146,
    "start_time": "2022-10-31T13:24:40.862Z"
   },
   {
    "duration": 14,
    "start_time": "2022-10-31T13:24:41.011Z"
   },
   {
    "duration": 858,
    "start_time": "2022-10-31T13:24:41.027Z"
   },
   {
    "duration": 9,
    "start_time": "2022-10-31T13:24:41.887Z"
   },
   {
    "duration": 28,
    "start_time": "2022-10-31T13:24:41.897Z"
   },
   {
    "duration": 52771,
    "start_time": "2022-10-31T13:24:41.927Z"
   },
   {
    "duration": 24,
    "start_time": "2022-10-31T13:25:34.699Z"
   },
   {
    "duration": 15,
    "start_time": "2022-10-31T13:25:34.724Z"
   },
   {
    "duration": 213,
    "start_time": "2022-10-31T13:25:34.740Z"
   },
   {
    "duration": 224,
    "start_time": "2022-10-31T13:26:01.323Z"
   },
   {
    "duration": 244,
    "start_time": "2022-10-31T13:26:20.036Z"
   },
   {
    "duration": 311,
    "start_time": "2022-10-31T13:31:00.286Z"
   },
   {
    "duration": 284,
    "start_time": "2022-10-31T13:31:07.632Z"
   },
   {
    "duration": 1431,
    "start_time": "2022-10-31T14:37:57.105Z"
   },
   {
    "duration": 39,
    "start_time": "2022-10-31T14:37:58.538Z"
   },
   {
    "duration": 16,
    "start_time": "2022-10-31T14:37:58.578Z"
   },
   {
    "duration": 11,
    "start_time": "2022-10-31T14:37:58.596Z"
   },
   {
    "duration": 38,
    "start_time": "2022-10-31T14:37:58.609Z"
   },
   {
    "duration": 142,
    "start_time": "2022-10-31T14:37:58.648Z"
   },
   {
    "duration": 4,
    "start_time": "2022-10-31T14:37:58.792Z"
   },
   {
    "duration": 22,
    "start_time": "2022-10-31T14:37:58.797Z"
   },
   {
    "duration": 6,
    "start_time": "2022-10-31T14:37:58.821Z"
   },
   {
    "duration": 10,
    "start_time": "2022-10-31T14:37:58.829Z"
   },
   {
    "duration": 12,
    "start_time": "2022-10-31T14:37:58.840Z"
   },
   {
    "duration": 15,
    "start_time": "2022-10-31T14:37:58.853Z"
   },
   {
    "duration": 18,
    "start_time": "2022-10-31T14:37:58.869Z"
   },
   {
    "duration": 6,
    "start_time": "2022-10-31T14:37:58.905Z"
   },
   {
    "duration": 12,
    "start_time": "2022-10-31T14:37:58.913Z"
   },
   {
    "duration": 19,
    "start_time": "2022-10-31T14:37:58.927Z"
   },
   {
    "duration": 13,
    "start_time": "2022-10-31T14:37:58.948Z"
   },
   {
    "duration": 4,
    "start_time": "2022-10-31T14:37:58.962Z"
   },
   {
    "duration": 40,
    "start_time": "2022-10-31T14:37:58.967Z"
   },
   {
    "duration": 34,
    "start_time": "2022-10-31T14:37:59.009Z"
   },
   {
    "duration": 262,
    "start_time": "2022-10-31T14:37:59.045Z"
   },
   {
    "duration": 98,
    "start_time": "2022-10-31T14:37:59.308Z"
   },
   {
    "duration": 5171,
    "start_time": "2022-10-31T14:37:59.408Z"
   },
   {
    "duration": 3,
    "start_time": "2022-10-31T14:38:04.581Z"
   },
   {
    "duration": 31,
    "start_time": "2022-10-31T14:38:04.586Z"
   },
   {
    "duration": 300,
    "start_time": "2022-10-31T14:38:04.618Z"
   },
   {
    "duration": 10,
    "start_time": "2022-10-31T14:38:04.919Z"
   },
   {
    "duration": 17,
    "start_time": "2022-10-31T14:38:04.930Z"
   },
   {
    "duration": 4,
    "start_time": "2022-10-31T14:38:04.949Z"
   },
   {
    "duration": 79319,
    "start_time": "2022-10-31T14:38:04.955Z"
   },
   {
    "duration": 14,
    "start_time": "2022-10-31T14:39:24.277Z"
   },
   {
    "duration": 21,
    "start_time": "2022-10-31T14:39:24.293Z"
   },
   {
    "duration": 93,
    "start_time": "2022-10-31T14:39:24.316Z"
   },
   {
    "duration": 103,
    "start_time": "2022-10-31T14:39:24.411Z"
   },
   {
    "duration": 1391,
    "start_time": "2022-10-31T14:39:24.516Z"
   },
   {
    "duration": 9,
    "start_time": "2022-10-31T14:39:25.909Z"
   },
   {
    "duration": 14,
    "start_time": "2022-10-31T14:39:25.919Z"
   },
   {
    "duration": 79905,
    "start_time": "2022-10-31T14:39:25.935Z"
   },
   {
    "duration": 11,
    "start_time": "2022-10-31T14:40:45.842Z"
   },
   {
    "duration": 13,
    "start_time": "2022-10-31T14:40:45.854Z"
   },
   {
    "duration": 14,
    "start_time": "2022-10-31T14:40:45.871Z"
   },
   {
    "duration": 21,
    "start_time": "2022-10-31T14:40:45.887Z"
   },
   {
    "duration": 6,
    "start_time": "2022-10-31T14:40:45.910Z"
   },
   {
    "duration": 91,
    "start_time": "2022-10-31T14:40:45.917Z"
   },
   {
    "duration": 101,
    "start_time": "2022-10-31T14:40:46.009Z"
   },
   {
    "duration": 1811,
    "start_time": "2022-10-31T14:40:46.112Z"
   },
   {
    "duration": 11,
    "start_time": "2022-10-31T14:40:47.925Z"
   },
   {
    "duration": 21,
    "start_time": "2022-10-31T14:40:47.937Z"
   },
   {
    "duration": 109512,
    "start_time": "2022-10-31T14:40:47.960Z"
   },
   {
    "duration": 14,
    "start_time": "2022-10-31T14:42:37.474Z"
   },
   {
    "duration": 28,
    "start_time": "2022-10-31T14:42:37.489Z"
   },
   {
    "duration": 13,
    "start_time": "2022-10-31T14:42:37.520Z"
   },
   {
    "duration": 19,
    "start_time": "2022-10-31T14:42:37.535Z"
   },
   {
    "duration": 10,
    "start_time": "2022-10-31T14:42:37.556Z"
   },
   {
    "duration": 48,
    "start_time": "2022-10-31T14:42:37.568Z"
   },
   {
    "duration": 92,
    "start_time": "2022-10-31T14:42:37.620Z"
   },
   {
    "duration": 892,
    "start_time": "2022-10-31T14:42:37.714Z"
   },
   {
    "duration": 11,
    "start_time": "2022-10-31T14:42:38.608Z"
   },
   {
    "duration": 14,
    "start_time": "2022-10-31T14:42:38.621Z"
   },
   {
    "duration": 52410,
    "start_time": "2022-10-31T14:42:38.637Z"
   },
   {
    "duration": 13,
    "start_time": "2022-10-31T14:43:31.049Z"
   },
   {
    "duration": 32,
    "start_time": "2022-10-31T14:43:31.063Z"
   },
   {
    "duration": 368,
    "start_time": "2022-10-31T14:43:31.096Z"
   },
   {
    "duration": 247,
    "start_time": "2022-10-31T14:44:22.790Z"
   },
   {
    "duration": 1340,
    "start_time": "2022-10-31T14:58:06.333Z"
   },
   {
    "duration": 40,
    "start_time": "2022-10-31T14:58:07.674Z"
   },
   {
    "duration": 17,
    "start_time": "2022-10-31T14:58:07.718Z"
   },
   {
    "duration": 48,
    "start_time": "2022-10-31T14:58:07.737Z"
   },
   {
    "duration": 46,
    "start_time": "2022-10-31T14:58:07.787Z"
   },
   {
    "duration": 150,
    "start_time": "2022-10-31T14:58:07.836Z"
   },
   {
    "duration": 5,
    "start_time": "2022-10-31T14:58:07.988Z"
   },
   {
    "duration": 26,
    "start_time": "2022-10-31T14:58:07.995Z"
   },
   {
    "duration": 28,
    "start_time": "2022-10-31T14:58:08.024Z"
   },
   {
    "duration": 22,
    "start_time": "2022-10-31T14:58:08.056Z"
   },
   {
    "duration": 14,
    "start_time": "2022-10-31T14:58:08.079Z"
   },
   {
    "duration": 22,
    "start_time": "2022-10-31T14:58:08.094Z"
   },
   {
    "duration": 23,
    "start_time": "2022-10-31T14:58:08.117Z"
   },
   {
    "duration": 20,
    "start_time": "2022-10-31T14:58:08.142Z"
   },
   {
    "duration": 20,
    "start_time": "2022-10-31T14:58:08.164Z"
   },
   {
    "duration": 35,
    "start_time": "2022-10-31T14:58:08.185Z"
   },
   {
    "duration": 22,
    "start_time": "2022-10-31T14:58:08.221Z"
   },
   {
    "duration": 21,
    "start_time": "2022-10-31T14:58:08.245Z"
   },
   {
    "duration": 36,
    "start_time": "2022-10-31T14:58:08.268Z"
   },
   {
    "duration": 58,
    "start_time": "2022-10-31T14:58:08.306Z"
   },
   {
    "duration": 145,
    "start_time": "2022-10-31T14:58:08.366Z"
   },
   {
    "duration": 107,
    "start_time": "2022-10-31T14:58:08.514Z"
   },
   {
    "duration": 5545,
    "start_time": "2022-10-31T14:58:08.623Z"
   },
   {
    "duration": 4,
    "start_time": "2022-10-31T14:58:14.170Z"
   },
   {
    "duration": 31,
    "start_time": "2022-10-31T14:58:14.175Z"
   },
   {
    "duration": 295,
    "start_time": "2022-10-31T14:58:14.208Z"
   },
   {
    "duration": 11,
    "start_time": "2022-10-31T14:58:14.507Z"
   },
   {
    "duration": 16,
    "start_time": "2022-10-31T14:58:14.520Z"
   },
   {
    "duration": 7,
    "start_time": "2022-10-31T14:58:14.537Z"
   },
   {
    "duration": 76304,
    "start_time": "2022-10-31T14:58:14.546Z"
   },
   {
    "duration": 11,
    "start_time": "2022-10-31T14:59:30.852Z"
   },
   {
    "duration": 31,
    "start_time": "2022-10-31T14:59:30.865Z"
   },
   {
    "duration": 109,
    "start_time": "2022-10-31T14:59:30.898Z"
   },
   {
    "duration": 102,
    "start_time": "2022-10-31T14:59:31.009Z"
   },
   {
    "duration": 1273,
    "start_time": "2022-10-31T14:59:31.112Z"
   },
   {
    "duration": 10,
    "start_time": "2022-10-31T14:59:32.386Z"
   },
   {
    "duration": 11,
    "start_time": "2022-10-31T14:59:32.405Z"
   },
   {
    "duration": 76854,
    "start_time": "2022-10-31T14:59:32.417Z"
   },
   {
    "duration": 11,
    "start_time": "2022-10-31T15:00:49.273Z"
   },
   {
    "duration": 26,
    "start_time": "2022-10-31T15:00:49.285Z"
   },
   {
    "duration": 19,
    "start_time": "2022-10-31T15:00:49.312Z"
   },
   {
    "duration": 3,
    "start_time": "2022-10-31T15:00:49.333Z"
   },
   {
    "duration": 7,
    "start_time": "2022-10-31T15:00:49.337Z"
   },
   {
    "duration": 64,
    "start_time": "2022-10-31T15:00:49.345Z"
   },
   {
    "duration": 103,
    "start_time": "2022-10-31T15:00:49.411Z"
   },
   {
    "duration": 1569,
    "start_time": "2022-10-31T15:00:49.515Z"
   },
   {
    "duration": 11,
    "start_time": "2022-10-31T15:00:51.086Z"
   },
   {
    "duration": 12,
    "start_time": "2022-10-31T15:00:51.105Z"
   },
   {
    "duration": 101280,
    "start_time": "2022-10-31T15:00:51.119Z"
   },
   {
    "duration": 15,
    "start_time": "2022-10-31T15:02:32.400Z"
   },
   {
    "duration": 12,
    "start_time": "2022-10-31T15:02:32.417Z"
   },
   {
    "duration": 19,
    "start_time": "2022-10-31T15:02:32.431Z"
   },
   {
    "duration": 4,
    "start_time": "2022-10-31T15:02:32.452Z"
   },
   {
    "duration": 6,
    "start_time": "2022-10-31T15:02:32.458Z"
   },
   {
    "duration": 140,
    "start_time": "2022-10-31T15:02:32.465Z"
   },
   {
    "duration": 13,
    "start_time": "2022-10-31T15:02:32.608Z"
   },
   {
    "duration": 755,
    "start_time": "2022-10-31T15:02:32.622Z"
   },
   {
    "duration": 10,
    "start_time": "2022-10-31T15:02:33.379Z"
   },
   {
    "duration": 23,
    "start_time": "2022-10-31T15:02:33.391Z"
   },
   {
    "duration": 50191,
    "start_time": "2022-10-31T15:02:33.416Z"
   },
   {
    "duration": 12,
    "start_time": "2022-10-31T15:03:23.609Z"
   },
   {
    "duration": 13,
    "start_time": "2022-10-31T15:03:23.623Z"
   },
   {
    "duration": 250,
    "start_time": "2022-10-31T15:03:23.638Z"
   },
   {
    "duration": 353,
    "start_time": "2022-10-31T15:05:39.045Z"
   },
   {
    "duration": 1290,
    "start_time": "2022-10-31T15:06:50.248Z"
   },
   {
    "duration": 38,
    "start_time": "2022-10-31T15:06:51.540Z"
   },
   {
    "duration": 15,
    "start_time": "2022-10-31T15:06:51.579Z"
   },
   {
    "duration": 12,
    "start_time": "2022-10-31T15:06:51.596Z"
   },
   {
    "duration": 38,
    "start_time": "2022-10-31T15:06:51.611Z"
   },
   {
    "duration": 146,
    "start_time": "2022-10-31T15:06:51.651Z"
   },
   {
    "duration": 7,
    "start_time": "2022-10-31T15:06:51.799Z"
   },
   {
    "duration": 21,
    "start_time": "2022-10-31T15:06:51.808Z"
   },
   {
    "duration": 11,
    "start_time": "2022-10-31T15:06:51.831Z"
   },
   {
    "duration": 10,
    "start_time": "2022-10-31T15:06:51.843Z"
   },
   {
    "duration": 5,
    "start_time": "2022-10-31T15:06:51.854Z"
   },
   {
    "duration": 10,
    "start_time": "2022-10-31T15:06:51.860Z"
   },
   {
    "duration": 35,
    "start_time": "2022-10-31T15:06:51.871Z"
   },
   {
    "duration": 6,
    "start_time": "2022-10-31T15:06:51.909Z"
   },
   {
    "duration": 12,
    "start_time": "2022-10-31T15:06:51.916Z"
   },
   {
    "duration": 18,
    "start_time": "2022-10-31T15:06:51.930Z"
   },
   {
    "duration": 13,
    "start_time": "2022-10-31T15:06:51.949Z"
   },
   {
    "duration": 4,
    "start_time": "2022-10-31T15:06:51.964Z"
   },
   {
    "duration": 44,
    "start_time": "2022-10-31T15:06:51.970Z"
   },
   {
    "duration": 114,
    "start_time": "2022-10-31T15:06:52.015Z"
   },
   {
    "duration": 0,
    "start_time": "2022-10-31T15:06:52.132Z"
   },
   {
    "duration": 0,
    "start_time": "2022-10-31T15:06:52.133Z"
   },
   {
    "duration": 0,
    "start_time": "2022-10-31T15:06:52.134Z"
   },
   {
    "duration": 0,
    "start_time": "2022-10-31T15:06:52.136Z"
   },
   {
    "duration": 0,
    "start_time": "2022-10-31T15:06:52.137Z"
   },
   {
    "duration": 0,
    "start_time": "2022-10-31T15:06:52.139Z"
   },
   {
    "duration": 0,
    "start_time": "2022-10-31T15:06:52.140Z"
   },
   {
    "duration": 0,
    "start_time": "2022-10-31T15:06:52.141Z"
   },
   {
    "duration": 0,
    "start_time": "2022-10-31T15:06:52.143Z"
   },
   {
    "duration": 0,
    "start_time": "2022-10-31T15:06:52.144Z"
   },
   {
    "duration": 0,
    "start_time": "2022-10-31T15:06:52.146Z"
   },
   {
    "duration": 0,
    "start_time": "2022-10-31T15:06:52.147Z"
   },
   {
    "duration": 0,
    "start_time": "2022-10-31T15:06:52.148Z"
   },
   {
    "duration": 0,
    "start_time": "2022-10-31T15:06:52.149Z"
   },
   {
    "duration": 0,
    "start_time": "2022-10-31T15:06:52.150Z"
   },
   {
    "duration": 0,
    "start_time": "2022-10-31T15:06:52.151Z"
   },
   {
    "duration": 0,
    "start_time": "2022-10-31T15:06:52.153Z"
   },
   {
    "duration": 0,
    "start_time": "2022-10-31T15:06:52.154Z"
   },
   {
    "duration": 0,
    "start_time": "2022-10-31T15:06:52.155Z"
   },
   {
    "duration": 0,
    "start_time": "2022-10-31T15:06:52.156Z"
   },
   {
    "duration": 0,
    "start_time": "2022-10-31T15:06:52.157Z"
   },
   {
    "duration": 0,
    "start_time": "2022-10-31T15:06:52.205Z"
   },
   {
    "duration": 0,
    "start_time": "2022-10-31T15:06:52.207Z"
   },
   {
    "duration": 0,
    "start_time": "2022-10-31T15:06:52.208Z"
   },
   {
    "duration": 0,
    "start_time": "2022-10-31T15:06:52.209Z"
   },
   {
    "duration": 0,
    "start_time": "2022-10-31T15:06:52.210Z"
   },
   {
    "duration": 0,
    "start_time": "2022-10-31T15:06:52.211Z"
   },
   {
    "duration": 0,
    "start_time": "2022-10-31T15:06:52.212Z"
   },
   {
    "duration": 0,
    "start_time": "2022-10-31T15:06:52.214Z"
   },
   {
    "duration": 0,
    "start_time": "2022-10-31T15:06:52.215Z"
   },
   {
    "duration": 0,
    "start_time": "2022-10-31T15:06:52.216Z"
   },
   {
    "duration": 0,
    "start_time": "2022-10-31T15:06:52.217Z"
   },
   {
    "duration": 0,
    "start_time": "2022-10-31T15:06:52.218Z"
   },
   {
    "duration": 0,
    "start_time": "2022-10-31T15:06:52.219Z"
   },
   {
    "duration": 0,
    "start_time": "2022-10-31T15:06:52.220Z"
   },
   {
    "duration": 0,
    "start_time": "2022-10-31T15:06:52.222Z"
   },
   {
    "duration": 0,
    "start_time": "2022-10-31T15:06:52.223Z"
   },
   {
    "duration": 0,
    "start_time": "2022-10-31T15:06:52.224Z"
   },
   {
    "duration": 0,
    "start_time": "2022-10-31T15:06:52.225Z"
   },
   {
    "duration": 0,
    "start_time": "2022-10-31T15:06:52.226Z"
   },
   {
    "duration": 0,
    "start_time": "2022-10-31T15:06:52.227Z"
   },
   {
    "duration": 0,
    "start_time": "2022-10-31T15:06:52.228Z"
   },
   {
    "duration": 0,
    "start_time": "2022-10-31T15:06:52.228Z"
   },
   {
    "duration": 1291,
    "start_time": "2022-10-31T15:07:29.204Z"
   },
   {
    "duration": 38,
    "start_time": "2022-10-31T15:07:30.497Z"
   },
   {
    "duration": 28,
    "start_time": "2022-10-31T15:07:30.537Z"
   },
   {
    "duration": 55,
    "start_time": "2022-10-31T15:07:30.567Z"
   },
   {
    "duration": 66,
    "start_time": "2022-10-31T15:07:30.623Z"
   },
   {
    "duration": 134,
    "start_time": "2022-10-31T15:07:30.691Z"
   },
   {
    "duration": 4,
    "start_time": "2022-10-31T15:07:30.827Z"
   },
   {
    "duration": 51,
    "start_time": "2022-10-31T15:07:30.832Z"
   },
   {
    "duration": 38,
    "start_time": "2022-10-31T15:07:30.885Z"
   },
   {
    "duration": 27,
    "start_time": "2022-10-31T15:07:30.925Z"
   },
   {
    "duration": 29,
    "start_time": "2022-10-31T15:07:30.954Z"
   },
   {
    "duration": 41,
    "start_time": "2022-10-31T15:07:30.985Z"
   },
   {
    "duration": 35,
    "start_time": "2022-10-31T15:07:31.027Z"
   },
   {
    "duration": 27,
    "start_time": "2022-10-31T15:07:31.063Z"
   },
   {
    "duration": 34,
    "start_time": "2022-10-31T15:07:31.091Z"
   },
   {
    "duration": 48,
    "start_time": "2022-10-31T15:07:31.127Z"
   },
   {
    "duration": 16,
    "start_time": "2022-10-31T15:07:31.177Z"
   },
   {
    "duration": 37,
    "start_time": "2022-10-31T15:07:31.195Z"
   },
   {
    "duration": 38,
    "start_time": "2022-10-31T15:07:31.233Z"
   },
   {
    "duration": 50,
    "start_time": "2022-10-31T15:07:31.273Z"
   },
   {
    "duration": 182,
    "start_time": "2022-10-31T15:07:31.325Z"
   },
   {
    "duration": 105,
    "start_time": "2022-10-31T15:07:31.509Z"
   },
   {
    "duration": 4872,
    "start_time": "2022-10-31T15:07:31.616Z"
   },
   {
    "duration": 4,
    "start_time": "2022-10-31T15:07:36.490Z"
   },
   {
    "duration": 20,
    "start_time": "2022-10-31T15:07:36.505Z"
   },
   {
    "duration": 290,
    "start_time": "2022-10-31T15:07:36.527Z"
   },
   {
    "duration": 10,
    "start_time": "2022-10-31T15:07:36.818Z"
   },
   {
    "duration": 18,
    "start_time": "2022-10-31T15:07:36.832Z"
   },
   {
    "duration": 7,
    "start_time": "2022-10-31T15:07:36.852Z"
   },
   {
    "duration": 80844,
    "start_time": "2022-10-31T15:07:36.860Z"
   },
   {
    "duration": 12,
    "start_time": "2022-10-31T15:08:57.705Z"
   },
   {
    "duration": 12,
    "start_time": "2022-10-31T15:08:57.718Z"
   },
   {
    "duration": 77,
    "start_time": "2022-10-31T15:08:57.732Z"
   },
   {
    "duration": 95,
    "start_time": "2022-10-31T15:08:57.811Z"
   },
   {
    "duration": 1300,
    "start_time": "2022-10-31T15:08:57.908Z"
   },
   {
    "duration": 9,
    "start_time": "2022-10-31T15:08:59.209Z"
   },
   {
    "duration": 14,
    "start_time": "2022-10-31T15:08:59.219Z"
   },
   {
    "duration": 79077,
    "start_time": "2022-10-31T15:08:59.235Z"
   },
   {
    "duration": 12,
    "start_time": "2022-10-31T15:10:18.313Z"
   },
   {
    "duration": 14,
    "start_time": "2022-10-31T15:10:18.326Z"
   },
   {
    "duration": 15,
    "start_time": "2022-10-31T15:10:18.342Z"
   },
   {
    "duration": 3,
    "start_time": "2022-10-31T15:10:18.359Z"
   },
   {
    "duration": 6,
    "start_time": "2022-10-31T15:10:18.364Z"
   },
   {
    "duration": 137,
    "start_time": "2022-10-31T15:10:18.372Z"
   },
   {
    "duration": 103,
    "start_time": "2022-10-31T15:10:18.511Z"
   },
   {
    "duration": 1625,
    "start_time": "2022-10-31T15:10:18.616Z"
   },
   {
    "duration": 10,
    "start_time": "2022-10-31T15:10:20.243Z"
   },
   {
    "duration": 26,
    "start_time": "2022-10-31T15:10:20.255Z"
   },
   {
    "duration": 106958,
    "start_time": "2022-10-31T15:10:20.283Z"
   },
   {
    "duration": 11,
    "start_time": "2022-10-31T15:12:07.243Z"
   },
   {
    "duration": 21,
    "start_time": "2022-10-31T15:12:07.256Z"
   },
   {
    "duration": 43,
    "start_time": "2022-10-31T15:12:07.280Z"
   },
   {
    "duration": 5,
    "start_time": "2022-10-31T15:12:07.325Z"
   },
   {
    "duration": 44,
    "start_time": "2022-10-31T15:12:07.332Z"
   },
   {
    "duration": 37,
    "start_time": "2022-10-31T15:12:07.378Z"
   },
   {
    "duration": 112,
    "start_time": "2022-10-31T15:12:07.506Z"
   },
   {
    "duration": 795,
    "start_time": "2022-10-31T15:12:07.619Z"
   },
   {
    "duration": 10,
    "start_time": "2022-10-31T15:12:08.415Z"
   },
   {
    "duration": 14,
    "start_time": "2022-10-31T15:12:08.426Z"
   },
   {
    "duration": 51080,
    "start_time": "2022-10-31T15:12:08.441Z"
   },
   {
    "duration": 11,
    "start_time": "2022-10-31T15:12:59.523Z"
   },
   {
    "duration": 15,
    "start_time": "2022-10-31T15:12:59.535Z"
   },
   {
    "duration": 391,
    "start_time": "2022-10-31T15:12:59.551Z"
   },
   {
    "duration": 449,
    "start_time": "2022-10-31T15:18:58.494Z"
   },
   {
    "duration": 3,
    "start_time": "2022-10-31T15:19:41.262Z"
   },
   {
    "duration": 355,
    "start_time": "2022-10-31T15:19:46.144Z"
   },
   {
    "duration": 4,
    "start_time": "2022-10-31T15:20:47.838Z"
   },
   {
    "duration": 360,
    "start_time": "2022-10-31T15:20:52.418Z"
   },
   {
    "duration": 3,
    "start_time": "2022-10-31T15:22:39.329Z"
   },
   {
    "duration": 393,
    "start_time": "2022-10-31T15:22:43.162Z"
   },
   {
    "duration": 414,
    "start_time": "2022-10-31T15:23:03.537Z"
   },
   {
    "duration": 3,
    "start_time": "2022-10-31T15:23:12.918Z"
   },
   {
    "duration": 410,
    "start_time": "2022-10-31T15:23:16.732Z"
   },
   {
    "duration": 375,
    "start_time": "2022-10-31T15:24:36.976Z"
   },
   {
    "duration": 1284,
    "start_time": "2022-10-31T15:25:32.700Z"
   },
   {
    "duration": 38,
    "start_time": "2022-10-31T15:25:33.986Z"
   },
   {
    "duration": 15,
    "start_time": "2022-10-31T15:25:34.026Z"
   },
   {
    "duration": 12,
    "start_time": "2022-10-31T15:25:34.043Z"
   },
   {
    "duration": 50,
    "start_time": "2022-10-31T15:25:34.056Z"
   },
   {
    "duration": 136,
    "start_time": "2022-10-31T15:25:34.107Z"
   },
   {
    "duration": 4,
    "start_time": "2022-10-31T15:25:34.245Z"
   },
   {
    "duration": 20,
    "start_time": "2022-10-31T15:25:34.251Z"
   },
   {
    "duration": 10,
    "start_time": "2022-10-31T15:25:34.272Z"
   },
   {
    "duration": 22,
    "start_time": "2022-10-31T15:25:34.284Z"
   },
   {
    "duration": 4,
    "start_time": "2022-10-31T15:25:34.307Z"
   },
   {
    "duration": 13,
    "start_time": "2022-10-31T15:25:34.312Z"
   },
   {
    "duration": 12,
    "start_time": "2022-10-31T15:25:34.327Z"
   },
   {
    "duration": 4,
    "start_time": "2022-10-31T15:25:34.342Z"
   },
   {
    "duration": 8,
    "start_time": "2022-10-31T15:25:34.348Z"
   },
   {
    "duration": 18,
    "start_time": "2022-10-31T15:25:34.358Z"
   },
   {
    "duration": 38,
    "start_time": "2022-10-31T15:25:34.377Z"
   },
   {
    "duration": 3,
    "start_time": "2022-10-31T15:25:34.417Z"
   },
   {
    "duration": 16,
    "start_time": "2022-10-31T15:25:34.422Z"
   },
   {
    "duration": 28,
    "start_time": "2022-10-31T15:25:34.440Z"
   },
   {
    "duration": 341,
    "start_time": "2022-10-31T15:25:34.470Z"
   },
   {
    "duration": 98,
    "start_time": "2022-10-31T15:25:34.813Z"
   },
   {
    "duration": 5176,
    "start_time": "2022-10-31T15:25:34.913Z"
   },
   {
    "duration": 4,
    "start_time": "2022-10-31T15:25:40.090Z"
   },
   {
    "duration": 20,
    "start_time": "2022-10-31T15:25:40.105Z"
   },
   {
    "duration": 318,
    "start_time": "2022-10-31T15:25:40.126Z"
   },
   {
    "duration": 10,
    "start_time": "2022-10-31T15:25:40.446Z"
   },
   {
    "duration": 13,
    "start_time": "2022-10-31T15:25:40.457Z"
   },
   {
    "duration": 4,
    "start_time": "2022-10-31T15:25:40.471Z"
   },
   {
    "duration": 78800,
    "start_time": "2022-10-31T15:25:40.477Z"
   },
   {
    "duration": 11,
    "start_time": "2022-10-31T15:26:59.279Z"
   },
   {
    "duration": 17,
    "start_time": "2022-10-31T15:26:59.291Z"
   },
   {
    "duration": 101,
    "start_time": "2022-10-31T15:26:59.310Z"
   },
   {
    "duration": 104,
    "start_time": "2022-10-31T15:26:59.413Z"
   },
   {
    "duration": 1373,
    "start_time": "2022-10-31T15:26:59.519Z"
   },
   {
    "duration": 13,
    "start_time": "2022-10-31T15:27:00.894Z"
   },
   {
    "duration": 14,
    "start_time": "2022-10-31T15:27:00.908Z"
   },
   {
    "duration": 78437,
    "start_time": "2022-10-31T15:27:00.923Z"
   },
   {
    "duration": 11,
    "start_time": "2022-10-31T15:28:19.361Z"
   },
   {
    "duration": 27,
    "start_time": "2022-10-31T15:28:19.373Z"
   },
   {
    "duration": 15,
    "start_time": "2022-10-31T15:28:19.404Z"
   },
   {
    "duration": 9,
    "start_time": "2022-10-31T15:28:19.421Z"
   },
   {
    "duration": 13,
    "start_time": "2022-10-31T15:28:19.431Z"
   },
   {
    "duration": 67,
    "start_time": "2022-10-31T15:28:19.445Z"
   },
   {
    "duration": 95,
    "start_time": "2022-10-31T15:28:19.513Z"
   },
   {
    "duration": 1750,
    "start_time": "2022-10-31T15:28:19.610Z"
   },
   {
    "duration": 9,
    "start_time": "2022-10-31T15:28:21.361Z"
   },
   {
    "duration": 28,
    "start_time": "2022-10-31T15:28:21.372Z"
   },
   {
    "duration": 105386,
    "start_time": "2022-10-31T15:28:21.401Z"
   },
   {
    "duration": 16,
    "start_time": "2022-10-31T15:30:06.789Z"
   },
   {
    "duration": 11,
    "start_time": "2022-10-31T15:30:06.807Z"
   },
   {
    "duration": 17,
    "start_time": "2022-10-31T15:30:06.820Z"
   },
   {
    "duration": 4,
    "start_time": "2022-10-31T15:30:06.839Z"
   },
   {
    "duration": 8,
    "start_time": "2022-10-31T15:30:06.845Z"
   },
   {
    "duration": 60,
    "start_time": "2022-10-31T15:30:06.855Z"
   },
   {
    "duration": 12,
    "start_time": "2022-10-31T15:30:07.005Z"
   },
   {
    "duration": 808,
    "start_time": "2022-10-31T15:30:07.019Z"
   },
   {
    "duration": 10,
    "start_time": "2022-10-31T15:30:07.829Z"
   },
   {
    "duration": 15,
    "start_time": "2022-10-31T15:30:07.841Z"
   },
   {
    "duration": 50215,
    "start_time": "2022-10-31T15:30:07.858Z"
   },
   {
    "duration": 11,
    "start_time": "2022-10-31T15:30:58.075Z"
   },
   {
    "duration": 23,
    "start_time": "2022-10-31T15:30:58.087Z"
   },
   {
    "duration": 382,
    "start_time": "2022-10-31T15:30:58.112Z"
   },
   {
    "duration": 354,
    "start_time": "2022-10-31T15:33:53.540Z"
   },
   {
    "duration": 99,
    "start_time": "2022-10-31T15:40:05.735Z"
   },
   {
    "duration": 71,
    "start_time": "2022-10-31T15:41:21.535Z"
   },
   {
    "duration": 3,
    "start_time": "2022-10-31T15:42:09.238Z"
   },
   {
    "duration": 45,
    "start_time": "2022-10-31T15:42:13.262Z"
   },
   {
    "duration": 9,
    "start_time": "2022-10-31T15:45:18.461Z"
   },
   {
    "duration": 36,
    "start_time": "2022-10-31T15:45:20.870Z"
   },
   {
    "duration": 8,
    "start_time": "2022-10-31T15:45:23.606Z"
   },
   {
    "duration": 10,
    "start_time": "2022-10-31T15:46:13.103Z"
   },
   {
    "duration": 23,
    "start_time": "2022-10-31T15:48:16.000Z"
   },
   {
    "duration": 37,
    "start_time": "2022-10-31T15:48:42.454Z"
   },
   {
    "duration": 26,
    "start_time": "2022-10-31T15:49:02.773Z"
   },
   {
    "duration": 26,
    "start_time": "2022-10-31T15:50:26.159Z"
   },
   {
    "duration": 251,
    "start_time": "2022-10-31T15:51:10.677Z"
   },
   {
    "duration": 158,
    "start_time": "2022-10-31T15:52:32.119Z"
   },
   {
    "duration": 186,
    "start_time": "2022-10-31T15:53:04.178Z"
   },
   {
    "duration": 202,
    "start_time": "2022-10-31T15:53:40.692Z"
   },
   {
    "duration": 9,
    "start_time": "2022-10-31T15:55:36.609Z"
   },
   {
    "duration": 12,
    "start_time": "2022-10-31T15:57:31.323Z"
   },
   {
    "duration": 16,
    "start_time": "2022-10-31T15:59:58.535Z"
   },
   {
    "duration": 148,
    "start_time": "2022-10-31T16:00:20.326Z"
   },
   {
    "duration": 195,
    "start_time": "2022-10-31T16:13:04.363Z"
   },
   {
    "duration": 198,
    "start_time": "2022-10-31T16:13:14.512Z"
   },
   {
    "duration": 14,
    "start_time": "2022-10-31T16:13:35.336Z"
   },
   {
    "duration": 208,
    "start_time": "2022-10-31T16:13:41.309Z"
   },
   {
    "duration": 12,
    "start_time": "2022-10-31T16:14:58.896Z"
   },
   {
    "duration": 14,
    "start_time": "2022-10-31T16:15:04.876Z"
   },
   {
    "duration": 195,
    "start_time": "2022-10-31T16:15:10.029Z"
   },
   {
    "duration": 195,
    "start_time": "2022-10-31T16:18:22.276Z"
   },
   {
    "duration": 282,
    "start_time": "2022-10-31T16:18:32.326Z"
   },
   {
    "duration": 81,
    "start_time": "2022-10-31T16:18:56.990Z"
   },
   {
    "duration": 81,
    "start_time": "2022-10-31T16:19:07.939Z"
   },
   {
    "duration": 209,
    "start_time": "2022-10-31T16:19:13.599Z"
   },
   {
    "duration": 209,
    "start_time": "2022-10-31T16:19:30.100Z"
   },
   {
    "duration": 188,
    "start_time": "2022-10-31T16:19:36.396Z"
   },
   {
    "duration": 4,
    "start_time": "2022-10-31T16:22:13.360Z"
   },
   {
    "duration": 13,
    "start_time": "2022-10-31T16:22:52.902Z"
   },
   {
    "duration": 13,
    "start_time": "2022-10-31T16:23:08.629Z"
   },
   {
    "duration": 158,
    "start_time": "2022-10-31T16:23:27.839Z"
   },
   {
    "duration": 141,
    "start_time": "2022-10-31T16:23:40.085Z"
   },
   {
    "duration": 222,
    "start_time": "2022-10-31T16:23:50.107Z"
   },
   {
    "duration": 192,
    "start_time": "2022-10-31T16:24:38.558Z"
   },
   {
    "duration": 112,
    "start_time": "2022-10-31T16:24:45.967Z"
   },
   {
    "duration": 151,
    "start_time": "2022-10-31T16:25:40.508Z"
   },
   {
    "duration": 180,
    "start_time": "2022-10-31T16:26:03.231Z"
   },
   {
    "duration": 171,
    "start_time": "2022-10-31T16:26:09.308Z"
   },
   {
    "duration": 242,
    "start_time": "2022-10-31T16:26:15.368Z"
   },
   {
    "duration": 5,
    "start_time": "2022-10-31T16:30:43.778Z"
   },
   {
    "duration": 4,
    "start_time": "2022-10-31T16:31:03.075Z"
   },
   {
    "duration": 4,
    "start_time": "2022-10-31T16:31:36.713Z"
   },
   {
    "duration": 4,
    "start_time": "2022-10-31T16:31:40.642Z"
   },
   {
    "duration": 165,
    "start_time": "2022-10-31T16:34:49.829Z"
   },
   {
    "duration": 150,
    "start_time": "2022-10-31T16:35:12.746Z"
   },
   {
    "duration": 159,
    "start_time": "2022-10-31T16:36:12.819Z"
   },
   {
    "duration": 4,
    "start_time": "2022-10-31T16:36:13.765Z"
   },
   {
    "duration": 1292,
    "start_time": "2022-10-31T16:37:47.800Z"
   },
   {
    "duration": 37,
    "start_time": "2022-10-31T16:37:49.094Z"
   },
   {
    "duration": 16,
    "start_time": "2022-10-31T16:37:49.132Z"
   },
   {
    "duration": 13,
    "start_time": "2022-10-31T16:37:49.151Z"
   },
   {
    "duration": 41,
    "start_time": "2022-10-31T16:37:49.165Z"
   },
   {
    "duration": 141,
    "start_time": "2022-10-31T16:37:49.207Z"
   },
   {
    "duration": 4,
    "start_time": "2022-10-31T16:37:49.349Z"
   },
   {
    "duration": 15,
    "start_time": "2022-10-31T16:37:49.355Z"
   },
   {
    "duration": 9,
    "start_time": "2022-10-31T16:37:49.371Z"
   },
   {
    "duration": 8,
    "start_time": "2022-10-31T16:37:49.404Z"
   },
   {
    "duration": 9,
    "start_time": "2022-10-31T16:37:49.413Z"
   },
   {
    "duration": 8,
    "start_time": "2022-10-31T16:37:49.424Z"
   },
   {
    "duration": 16,
    "start_time": "2022-10-31T16:37:49.434Z"
   },
   {
    "duration": 6,
    "start_time": "2022-10-31T16:37:49.451Z"
   },
   {
    "duration": 7,
    "start_time": "2022-10-31T16:37:49.458Z"
   },
   {
    "duration": 46,
    "start_time": "2022-10-31T16:37:49.467Z"
   },
   {
    "duration": 14,
    "start_time": "2022-10-31T16:37:49.515Z"
   },
   {
    "duration": 5,
    "start_time": "2022-10-31T16:37:49.530Z"
   },
   {
    "duration": 17,
    "start_time": "2022-10-31T16:37:49.536Z"
   },
   {
    "duration": 25,
    "start_time": "2022-10-31T16:37:49.554Z"
   },
   {
    "duration": 230,
    "start_time": "2022-10-31T16:37:49.580Z"
   },
   {
    "duration": 101,
    "start_time": "2022-10-31T16:37:49.812Z"
   },
   {
    "duration": 4561,
    "start_time": "2022-10-31T16:37:49.914Z"
   },
   {
    "duration": 4,
    "start_time": "2022-10-31T16:37:54.477Z"
   },
   {
    "duration": 33,
    "start_time": "2022-10-31T16:37:54.482Z"
   },
   {
    "duration": 280,
    "start_time": "2022-10-31T16:37:54.516Z"
   },
   {
    "duration": 10,
    "start_time": "2022-10-31T16:37:54.798Z"
   },
   {
    "duration": 34,
    "start_time": "2022-10-31T16:37:54.811Z"
   },
   {
    "duration": 7,
    "start_time": "2022-10-31T16:37:54.847Z"
   },
   {
    "duration": 73059,
    "start_time": "2022-10-31T16:37:54.855Z"
   },
   {
    "duration": 15,
    "start_time": "2022-10-31T16:39:07.915Z"
   },
   {
    "duration": 12,
    "start_time": "2022-10-31T16:39:07.932Z"
   },
   {
    "duration": 66,
    "start_time": "2022-10-31T16:39:07.946Z"
   },
   {
    "duration": 93,
    "start_time": "2022-10-31T16:39:08.015Z"
   },
   {
    "duration": 1221,
    "start_time": "2022-10-31T16:39:08.110Z"
   },
   {
    "duration": 9,
    "start_time": "2022-10-31T16:39:09.332Z"
   },
   {
    "duration": 12,
    "start_time": "2022-10-31T16:39:09.343Z"
   },
   {
    "duration": 72789,
    "start_time": "2022-10-31T16:39:09.357Z"
   },
   {
    "duration": 11,
    "start_time": "2022-10-31T16:40:22.147Z"
   },
   {
    "duration": 9,
    "start_time": "2022-10-31T16:40:22.160Z"
   },
   {
    "duration": 14,
    "start_time": "2022-10-31T16:40:22.171Z"
   },
   {
    "duration": 19,
    "start_time": "2022-10-31T16:40:22.187Z"
   },
   {
    "duration": 7,
    "start_time": "2022-10-31T16:40:22.208Z"
   },
   {
    "duration": 189,
    "start_time": "2022-10-31T16:40:22.217Z"
   },
   {
    "duration": 13,
    "start_time": "2022-10-31T16:40:22.408Z"
   },
   {
    "duration": 1532,
    "start_time": "2022-10-31T16:40:22.423Z"
   },
   {
    "duration": 10,
    "start_time": "2022-10-31T16:40:23.957Z"
   },
   {
    "duration": 16,
    "start_time": "2022-10-31T16:40:23.968Z"
   },
   {
    "duration": 96350,
    "start_time": "2022-10-31T16:40:23.986Z"
   },
   {
    "duration": 12,
    "start_time": "2022-10-31T16:42:00.337Z"
   },
   {
    "duration": 12,
    "start_time": "2022-10-31T16:42:00.351Z"
   },
   {
    "duration": 18,
    "start_time": "2022-10-31T16:42:00.365Z"
   },
   {
    "duration": 12,
    "start_time": "2022-10-31T16:42:00.384Z"
   },
   {
    "duration": 8,
    "start_time": "2022-10-31T16:42:00.406Z"
   },
   {
    "duration": 96,
    "start_time": "2022-10-31T16:42:00.415Z"
   },
   {
    "duration": 109,
    "start_time": "2022-10-31T16:42:00.513Z"
   },
   {
    "duration": 721,
    "start_time": "2022-10-31T16:42:00.624Z"
   },
   {
    "duration": 9,
    "start_time": "2022-10-31T16:42:01.346Z"
   },
   {
    "duration": 42,
    "start_time": "2022-10-31T16:42:01.356Z"
   },
   {
    "duration": 47888,
    "start_time": "2022-10-31T16:42:01.399Z"
   },
   {
    "duration": 17,
    "start_time": "2022-10-31T16:42:49.289Z"
   },
   {
    "duration": 13,
    "start_time": "2022-10-31T16:42:49.308Z"
   },
   {
    "duration": 337,
    "start_time": "2022-10-31T16:42:49.323Z"
   },
   {
    "duration": 49,
    "start_time": "2022-10-31T16:42:49.662Z"
   },
   {
    "duration": 115,
    "start_time": "2022-10-31T16:42:49.712Z"
   },
   {
    "duration": 250,
    "start_time": "2022-10-31T16:42:49.828Z"
   },
   {
    "duration": 199,
    "start_time": "2022-10-31T16:42:50.079Z"
   },
   {
    "duration": 161,
    "start_time": "2022-10-31T16:42:50.279Z"
   },
   {
    "duration": 3,
    "start_time": "2022-10-31T16:42:50.442Z"
   },
   {
    "duration": 1302,
    "start_time": "2022-10-31T20:29:19.887Z"
   },
   {
    "duration": 38,
    "start_time": "2022-10-31T20:29:21.191Z"
   },
   {
    "duration": 15,
    "start_time": "2022-10-31T20:29:21.231Z"
   },
   {
    "duration": 12,
    "start_time": "2022-10-31T20:29:21.248Z"
   },
   {
    "duration": 46,
    "start_time": "2022-10-31T20:29:21.261Z"
   },
   {
    "duration": 135,
    "start_time": "2022-10-31T20:29:21.309Z"
   },
   {
    "duration": 4,
    "start_time": "2022-10-31T20:29:21.445Z"
   },
   {
    "duration": 14,
    "start_time": "2022-10-31T20:29:21.451Z"
   },
   {
    "duration": 10,
    "start_time": "2022-10-31T20:29:21.467Z"
   },
   {
    "duration": 27,
    "start_time": "2022-10-31T20:29:21.479Z"
   },
   {
    "duration": 4,
    "start_time": "2022-10-31T20:29:21.508Z"
   },
   {
    "duration": 9,
    "start_time": "2022-10-31T20:29:21.514Z"
   },
   {
    "duration": 12,
    "start_time": "2022-10-31T20:29:21.525Z"
   },
   {
    "duration": 5,
    "start_time": "2022-10-31T20:29:21.539Z"
   },
   {
    "duration": 12,
    "start_time": "2022-10-31T20:29:21.545Z"
   },
   {
    "duration": 19,
    "start_time": "2022-10-31T20:29:21.558Z"
   },
   {
    "duration": 38,
    "start_time": "2022-10-31T20:29:21.578Z"
   },
   {
    "duration": 4,
    "start_time": "2022-10-31T20:29:21.617Z"
   },
   {
    "duration": 16,
    "start_time": "2022-10-31T20:29:21.623Z"
   },
   {
    "duration": 28,
    "start_time": "2022-10-31T20:29:21.641Z"
   },
   {
    "duration": 244,
    "start_time": "2022-10-31T20:29:21.671Z"
   },
   {
    "duration": 191,
    "start_time": "2022-10-31T20:29:21.916Z"
   },
   {
    "duration": 4911,
    "start_time": "2022-10-31T20:29:22.108Z"
   },
   {
    "duration": 5,
    "start_time": "2022-10-31T20:29:27.020Z"
   },
   {
    "duration": 34,
    "start_time": "2022-10-31T20:29:27.027Z"
   },
   {
    "duration": 321,
    "start_time": "2022-10-31T20:29:27.063Z"
   },
   {
    "duration": 11,
    "start_time": "2022-10-31T20:29:27.387Z"
   },
   {
    "duration": 18,
    "start_time": "2022-10-31T20:29:27.407Z"
   },
   {
    "duration": 10,
    "start_time": "2022-10-31T20:29:27.426Z"
   },
   {
    "duration": 77417,
    "start_time": "2022-10-31T20:29:27.439Z"
   },
   {
    "duration": 12,
    "start_time": "2022-10-31T20:30:44.857Z"
   },
   {
    "duration": 12,
    "start_time": "2022-10-31T20:30:44.871Z"
   },
   {
    "duration": 43,
    "start_time": "2022-10-31T20:30:44.884Z"
   },
   {
    "duration": 100,
    "start_time": "2022-10-31T20:30:45.006Z"
   },
   {
    "duration": 1331,
    "start_time": "2022-10-31T20:30:45.108Z"
   },
   {
    "duration": 9,
    "start_time": "2022-10-31T20:30:46.440Z"
   },
   {
    "duration": 18,
    "start_time": "2022-10-31T20:30:46.450Z"
   },
   {
    "duration": 75828,
    "start_time": "2022-10-31T20:30:46.469Z"
   },
   {
    "duration": 15,
    "start_time": "2022-10-31T20:32:02.298Z"
   },
   {
    "duration": 28,
    "start_time": "2022-10-31T20:32:02.315Z"
   },
   {
    "duration": 19,
    "start_time": "2022-10-31T20:32:02.345Z"
   },
   {
    "duration": 13,
    "start_time": "2022-10-31T20:32:02.366Z"
   },
   {
    "duration": 16,
    "start_time": "2022-10-31T20:32:02.381Z"
   },
   {
    "duration": 109,
    "start_time": "2022-10-31T20:32:02.398Z"
   },
   {
    "duration": 98,
    "start_time": "2022-10-31T20:32:02.508Z"
   },
   {
    "duration": 1697,
    "start_time": "2022-10-31T20:32:02.608Z"
   },
   {
    "duration": 9,
    "start_time": "2022-10-31T20:32:04.307Z"
   },
   {
    "duration": 21,
    "start_time": "2022-10-31T20:32:04.317Z"
   },
   {
    "duration": 101747,
    "start_time": "2022-10-31T20:32:04.339Z"
   },
   {
    "duration": 18,
    "start_time": "2022-10-31T20:33:46.088Z"
   },
   {
    "duration": 11,
    "start_time": "2022-10-31T20:33:46.107Z"
   },
   {
    "duration": 12,
    "start_time": "2022-10-31T20:33:46.119Z"
   },
   {
    "duration": 3,
    "start_time": "2022-10-31T20:33:46.133Z"
   },
   {
    "duration": 10,
    "start_time": "2022-10-31T20:33:46.137Z"
   },
   {
    "duration": 157,
    "start_time": "2022-10-31T20:33:46.149Z"
   },
   {
    "duration": 12,
    "start_time": "2022-10-31T20:33:46.307Z"
   },
   {
    "duration": 737,
    "start_time": "2022-10-31T20:33:46.321Z"
   },
   {
    "duration": 9,
    "start_time": "2022-10-31T20:33:47.059Z"
   },
   {
    "duration": 17,
    "start_time": "2022-10-31T20:33:47.070Z"
   },
   {
    "duration": 50645,
    "start_time": "2022-10-31T20:33:47.089Z"
   },
   {
    "duration": 16,
    "start_time": "2022-10-31T20:34:37.736Z"
   },
   {
    "duration": 11,
    "start_time": "2022-10-31T20:34:37.753Z"
   },
   {
    "duration": 385,
    "start_time": "2022-10-31T20:34:37.765Z"
   },
   {
    "duration": 55,
    "start_time": "2022-10-31T20:34:38.152Z"
   },
   {
    "duration": 105,
    "start_time": "2022-10-31T20:34:38.208Z"
   },
   {
    "duration": 261,
    "start_time": "2022-10-31T20:34:38.315Z"
   },
   {
    "duration": 213,
    "start_time": "2022-10-31T20:34:38.578Z"
   },
   {
    "duration": 178,
    "start_time": "2022-10-31T20:34:38.793Z"
   },
   {
    "duration": 6,
    "start_time": "2022-10-31T20:34:38.972Z"
   },
   {
    "duration": 1316,
    "start_time": "2022-10-31T20:36:26.644Z"
   },
   {
    "duration": 41,
    "start_time": "2022-10-31T20:36:27.962Z"
   },
   {
    "duration": 18,
    "start_time": "2022-10-31T20:36:28.004Z"
   },
   {
    "duration": 13,
    "start_time": "2022-10-31T20:36:28.024Z"
   },
   {
    "duration": 66,
    "start_time": "2022-10-31T20:36:28.040Z"
   },
   {
    "duration": 138,
    "start_time": "2022-10-31T20:36:28.108Z"
   },
   {
    "duration": 4,
    "start_time": "2022-10-31T20:36:28.248Z"
   },
   {
    "duration": 19,
    "start_time": "2022-10-31T20:36:28.254Z"
   },
   {
    "duration": 10,
    "start_time": "2022-10-31T20:36:28.275Z"
   },
   {
    "duration": 7,
    "start_time": "2022-10-31T20:36:28.305Z"
   },
   {
    "duration": 10,
    "start_time": "2022-10-31T20:36:28.313Z"
   },
   {
    "duration": 12,
    "start_time": "2022-10-31T20:36:28.324Z"
   },
   {
    "duration": 14,
    "start_time": "2022-10-31T20:36:28.338Z"
   },
   {
    "duration": 6,
    "start_time": "2022-10-31T20:36:28.353Z"
   },
   {
    "duration": 8,
    "start_time": "2022-10-31T20:36:28.361Z"
   },
   {
    "duration": 48,
    "start_time": "2022-10-31T20:36:28.370Z"
   },
   {
    "duration": 14,
    "start_time": "2022-10-31T20:36:28.419Z"
   },
   {
    "duration": 4,
    "start_time": "2022-10-31T20:36:28.434Z"
   },
   {
    "duration": 16,
    "start_time": "2022-10-31T20:36:28.439Z"
   },
   {
    "duration": 27,
    "start_time": "2022-10-31T20:36:28.457Z"
   },
   {
    "duration": 609,
    "start_time": "2022-10-31T20:36:28.506Z"
   },
   {
    "duration": 95,
    "start_time": "2022-10-31T20:36:29.116Z"
   },
   {
    "duration": 5267,
    "start_time": "2022-10-31T20:36:29.212Z"
   },
   {
    "duration": 5,
    "start_time": "2022-10-31T20:36:34.481Z"
   },
   {
    "duration": 66,
    "start_time": "2022-10-31T20:36:34.488Z"
   },
   {
    "duration": 303,
    "start_time": "2022-10-31T20:36:34.555Z"
   },
   {
    "duration": 10,
    "start_time": "2022-10-31T20:36:34.860Z"
   },
   {
    "duration": 25,
    "start_time": "2022-10-31T20:36:34.873Z"
   },
   {
    "duration": 12,
    "start_time": "2022-10-31T20:36:34.900Z"
   },
   {
    "duration": 81464,
    "start_time": "2022-10-31T20:36:34.914Z"
   },
   {
    "duration": 15,
    "start_time": "2022-10-31T20:37:56.380Z"
   },
   {
    "duration": 23,
    "start_time": "2022-10-31T20:37:56.408Z"
   },
   {
    "duration": 174,
    "start_time": "2022-10-31T20:37:56.433Z"
   },
   {
    "duration": 17,
    "start_time": "2022-10-31T20:37:56.609Z"
   },
   {
    "duration": 1493,
    "start_time": "2022-10-31T20:37:56.628Z"
   },
   {
    "duration": 10,
    "start_time": "2022-10-31T20:37:58.123Z"
   },
   {
    "duration": 14,
    "start_time": "2022-10-31T20:37:58.135Z"
   },
   {
    "duration": 80839,
    "start_time": "2022-10-31T20:37:58.151Z"
   },
   {
    "duration": 16,
    "start_time": "2022-10-31T20:39:18.991Z"
   },
   {
    "duration": 24,
    "start_time": "2022-10-31T20:39:19.009Z"
   },
   {
    "duration": 22,
    "start_time": "2022-10-31T20:39:19.035Z"
   },
   {
    "duration": 4,
    "start_time": "2022-10-31T20:39:19.059Z"
   },
   {
    "duration": 6,
    "start_time": "2022-10-31T20:39:19.065Z"
   },
   {
    "duration": 143,
    "start_time": "2022-10-31T20:39:19.073Z"
   },
   {
    "duration": 96,
    "start_time": "2022-10-31T20:39:19.219Z"
   },
   {
    "duration": 1854,
    "start_time": "2022-10-31T20:39:19.317Z"
   },
   {
    "duration": 10,
    "start_time": "2022-10-31T20:39:21.172Z"
   },
   {
    "duration": 23,
    "start_time": "2022-10-31T20:39:21.183Z"
   },
   {
    "duration": 108542,
    "start_time": "2022-10-31T20:39:21.207Z"
   },
   {
    "duration": 12,
    "start_time": "2022-10-31T20:41:09.750Z"
   },
   {
    "duration": 25,
    "start_time": "2022-10-31T20:41:09.763Z"
   },
   {
    "duration": 15,
    "start_time": "2022-10-31T20:41:09.790Z"
   },
   {
    "duration": 4,
    "start_time": "2022-10-31T20:41:09.806Z"
   },
   {
    "duration": 6,
    "start_time": "2022-10-31T20:41:09.812Z"
   },
   {
    "duration": 188,
    "start_time": "2022-10-31T20:41:09.820Z"
   },
   {
    "duration": 15,
    "start_time": "2022-10-31T20:41:10.010Z"
   },
   {
    "duration": 801,
    "start_time": "2022-10-31T20:41:10.027Z"
   },
   {
    "duration": 9,
    "start_time": "2022-10-31T20:41:10.830Z"
   },
   {
    "duration": 14,
    "start_time": "2022-10-31T20:41:10.841Z"
   },
   {
    "duration": 51578,
    "start_time": "2022-10-31T20:41:10.856Z"
   },
   {
    "duration": 11,
    "start_time": "2022-10-31T20:42:02.436Z"
   },
   {
    "duration": 13,
    "start_time": "2022-10-31T20:42:02.449Z"
   },
   {
    "duration": 380,
    "start_time": "2022-10-31T20:42:02.464Z"
   },
   {
    "duration": 63,
    "start_time": "2022-10-31T20:42:02.846Z"
   },
   {
    "duration": 109,
    "start_time": "2022-10-31T20:42:02.911Z"
   },
   {
    "duration": 261,
    "start_time": "2022-10-31T20:42:03.022Z"
   },
   {
    "duration": 196,
    "start_time": "2022-10-31T20:42:03.285Z"
   },
   {
    "duration": 184,
    "start_time": "2022-10-31T20:42:03.483Z"
   },
   {
    "duration": 4,
    "start_time": "2022-10-31T20:42:03.669Z"
   },
   {
    "duration": 239,
    "start_time": "2022-10-31T20:43:54.088Z"
   },
   {
    "duration": 1276,
    "start_time": "2022-10-31T20:45:14.714Z"
   },
   {
    "duration": 37,
    "start_time": "2022-10-31T20:45:15.992Z"
   },
   {
    "duration": 15,
    "start_time": "2022-10-31T20:45:16.031Z"
   },
   {
    "duration": 13,
    "start_time": "2022-10-31T20:45:16.048Z"
   },
   {
    "duration": 47,
    "start_time": "2022-10-31T20:45:16.062Z"
   },
   {
    "duration": 150,
    "start_time": "2022-10-31T20:45:16.111Z"
   },
   {
    "duration": 5,
    "start_time": "2022-10-31T20:45:16.263Z"
   },
   {
    "duration": 17,
    "start_time": "2022-10-31T20:45:16.269Z"
   },
   {
    "duration": 21,
    "start_time": "2022-10-31T20:45:16.288Z"
   },
   {
    "duration": 9,
    "start_time": "2022-10-31T20:45:16.312Z"
   },
   {
    "duration": 5,
    "start_time": "2022-10-31T20:45:16.322Z"
   },
   {
    "duration": 10,
    "start_time": "2022-10-31T20:45:16.328Z"
   },
   {
    "duration": 12,
    "start_time": "2022-10-31T20:45:16.340Z"
   },
   {
    "duration": 5,
    "start_time": "2022-10-31T20:45:16.354Z"
   },
   {
    "duration": 7,
    "start_time": "2022-10-31T20:45:16.360Z"
   },
   {
    "duration": 16,
    "start_time": "2022-10-31T20:45:16.406Z"
   },
   {
    "duration": 16,
    "start_time": "2022-10-31T20:45:16.424Z"
   },
   {
    "duration": 4,
    "start_time": "2022-10-31T20:45:16.442Z"
   },
   {
    "duration": 27,
    "start_time": "2022-10-31T20:45:16.447Z"
   },
   {
    "duration": 43,
    "start_time": "2022-10-31T20:45:16.475Z"
   },
   {
    "duration": 287,
    "start_time": "2022-10-31T20:45:16.519Z"
   },
   {
    "duration": 106,
    "start_time": "2022-10-31T20:45:16.808Z"
   },
   {
    "duration": 5155,
    "start_time": "2022-10-31T20:45:16.915Z"
   },
   {
    "duration": 4,
    "start_time": "2022-10-31T20:45:22.071Z"
   },
   {
    "duration": 41,
    "start_time": "2022-10-31T20:45:22.076Z"
   },
   {
    "duration": 296,
    "start_time": "2022-10-31T20:45:22.118Z"
   },
   {
    "duration": 10,
    "start_time": "2022-10-31T20:45:22.415Z"
   },
   {
    "duration": 28,
    "start_time": "2022-10-31T20:45:22.428Z"
   },
   {
    "duration": 29,
    "start_time": "2022-10-31T20:45:22.458Z"
   },
   {
    "duration": 78834,
    "start_time": "2022-10-31T20:45:22.489Z"
   },
   {
    "duration": 11,
    "start_time": "2022-10-31T20:46:41.325Z"
   },
   {
    "duration": 10,
    "start_time": "2022-10-31T20:46:41.338Z"
   },
   {
    "duration": 61,
    "start_time": "2022-10-31T20:46:41.349Z"
   },
   {
    "duration": 103,
    "start_time": "2022-10-31T20:46:41.412Z"
   },
   {
    "duration": 1472,
    "start_time": "2022-10-31T20:46:41.517Z"
   },
   {
    "duration": 9,
    "start_time": "2022-10-31T20:46:42.991Z"
   },
   {
    "duration": 17,
    "start_time": "2022-10-31T20:46:43.002Z"
   },
   {
    "duration": 77742,
    "start_time": "2022-10-31T20:46:43.020Z"
   },
   {
    "duration": 11,
    "start_time": "2022-10-31T20:48:00.763Z"
   },
   {
    "duration": 24,
    "start_time": "2022-10-31T20:48:00.776Z"
   },
   {
    "duration": 50,
    "start_time": "2022-10-31T20:48:00.801Z"
   },
   {
    "duration": 4,
    "start_time": "2022-10-31T20:48:00.853Z"
   },
   {
    "duration": 41,
    "start_time": "2022-10-31T20:48:00.858Z"
   },
   {
    "duration": 111,
    "start_time": "2022-10-31T20:48:00.901Z"
   },
   {
    "duration": 100,
    "start_time": "2022-10-31T20:48:01.013Z"
   },
   {
    "duration": 1717,
    "start_time": "2022-10-31T20:48:01.114Z"
   },
   {
    "duration": 8,
    "start_time": "2022-10-31T20:48:02.833Z"
   },
   {
    "duration": 13,
    "start_time": "2022-10-31T20:48:02.843Z"
   },
   {
    "duration": 104861,
    "start_time": "2022-10-31T20:48:02.858Z"
   },
   {
    "duration": 11,
    "start_time": "2022-10-31T20:49:47.720Z"
   },
   {
    "duration": 12,
    "start_time": "2022-10-31T20:49:47.733Z"
   },
   {
    "duration": 12,
    "start_time": "2022-10-31T20:49:47.747Z"
   },
   {
    "duration": 3,
    "start_time": "2022-10-31T20:49:47.761Z"
   },
   {
    "duration": 6,
    "start_time": "2022-10-31T20:49:47.765Z"
   },
   {
    "duration": 135,
    "start_time": "2022-10-31T20:49:47.772Z"
   },
   {
    "duration": 104,
    "start_time": "2022-10-31T20:49:47.908Z"
   },
   {
    "duration": 775,
    "start_time": "2022-10-31T20:49:48.014Z"
   },
   {
    "duration": 15,
    "start_time": "2022-10-31T20:49:48.790Z"
   },
   {
    "duration": 11,
    "start_time": "2022-10-31T20:49:48.806Z"
   },
   {
    "duration": 50141,
    "start_time": "2022-10-31T20:49:48.819Z"
   },
   {
    "duration": 12,
    "start_time": "2022-10-31T20:50:38.961Z"
   },
   {
    "duration": 13,
    "start_time": "2022-10-31T20:50:38.974Z"
   },
   {
    "duration": 259,
    "start_time": "2022-10-31T20:50:38.989Z"
   },
   {
    "duration": 58,
    "start_time": "2022-10-31T20:50:39.250Z"
   },
   {
    "duration": 115,
    "start_time": "2022-10-31T20:50:39.310Z"
   },
   {
    "duration": 267,
    "start_time": "2022-10-31T20:50:39.426Z"
   },
   {
    "duration": 212,
    "start_time": "2022-10-31T20:50:39.695Z"
   },
   {
    "duration": 163,
    "start_time": "2022-10-31T20:50:39.908Z"
   },
   {
    "duration": 4,
    "start_time": "2022-10-31T20:50:40.072Z"
   },
   {
    "duration": 203,
    "start_time": "2022-10-31T20:53:32.445Z"
   },
   {
    "duration": 1293,
    "start_time": "2022-10-31T20:54:51.300Z"
   },
   {
    "duration": 39,
    "start_time": "2022-10-31T20:54:52.595Z"
   },
   {
    "duration": 18,
    "start_time": "2022-10-31T20:54:52.635Z"
   },
   {
    "duration": 14,
    "start_time": "2022-10-31T20:54:52.655Z"
   },
   {
    "duration": 44,
    "start_time": "2022-10-31T20:54:52.670Z"
   },
   {
    "duration": 137,
    "start_time": "2022-10-31T20:54:52.716Z"
   },
   {
    "duration": 4,
    "start_time": "2022-10-31T20:54:52.855Z"
   },
   {
    "duration": 16,
    "start_time": "2022-10-31T20:54:52.861Z"
   },
   {
    "duration": 7,
    "start_time": "2022-10-31T20:54:52.878Z"
   },
   {
    "duration": 22,
    "start_time": "2022-10-31T20:54:52.888Z"
   },
   {
    "duration": 6,
    "start_time": "2022-10-31T20:54:52.912Z"
   },
   {
    "duration": 14,
    "start_time": "2022-10-31T20:54:52.919Z"
   },
   {
    "duration": 12,
    "start_time": "2022-10-31T20:54:52.934Z"
   },
   {
    "duration": 5,
    "start_time": "2022-10-31T20:54:52.947Z"
   },
   {
    "duration": 11,
    "start_time": "2022-10-31T20:54:52.953Z"
   },
   {
    "duration": 40,
    "start_time": "2022-10-31T20:54:52.965Z"
   },
   {
    "duration": 11,
    "start_time": "2022-10-31T20:54:53.007Z"
   },
   {
    "duration": 9,
    "start_time": "2022-10-31T20:54:53.019Z"
   },
   {
    "duration": 16,
    "start_time": "2022-10-31T20:54:53.030Z"
   },
   {
    "duration": 27,
    "start_time": "2022-10-31T20:54:53.048Z"
   },
   {
    "duration": 231,
    "start_time": "2022-10-31T20:54:53.076Z"
   },
   {
    "duration": 97,
    "start_time": "2022-10-31T20:54:53.309Z"
   },
   {
    "duration": 5715,
    "start_time": "2022-10-31T20:54:53.408Z"
   },
   {
    "duration": 4,
    "start_time": "2022-10-31T20:54:59.124Z"
   },
   {
    "duration": 76,
    "start_time": "2022-10-31T20:54:59.129Z"
   },
   {
    "duration": 388,
    "start_time": "2022-10-31T20:54:59.207Z"
   },
   {
    "duration": 16,
    "start_time": "2022-10-31T20:54:59.597Z"
   },
   {
    "duration": 12,
    "start_time": "2022-10-31T20:54:59.616Z"
   },
   {
    "duration": 3,
    "start_time": "2022-10-31T20:54:59.629Z"
   },
   {
    "duration": 76307,
    "start_time": "2022-10-31T20:54:59.633Z"
   },
   {
    "duration": 10,
    "start_time": "2022-10-31T20:56:15.942Z"
   },
   {
    "duration": 10,
    "start_time": "2022-10-31T20:56:15.953Z"
   },
   {
    "duration": 146,
    "start_time": "2022-10-31T20:56:15.964Z"
   },
   {
    "duration": 12,
    "start_time": "2022-10-31T20:56:16.111Z"
   },
   {
    "duration": 1324,
    "start_time": "2022-10-31T20:56:16.125Z"
   },
   {
    "duration": 9,
    "start_time": "2022-10-31T20:56:17.450Z"
   },
   {
    "duration": 11,
    "start_time": "2022-10-31T20:56:17.461Z"
   },
   {
    "duration": 76324,
    "start_time": "2022-10-31T20:56:17.473Z"
   },
   {
    "duration": 17,
    "start_time": "2022-10-31T20:57:33.798Z"
   },
   {
    "duration": 17,
    "start_time": "2022-10-31T20:57:33.817Z"
   },
   {
    "duration": 17,
    "start_time": "2022-10-31T20:57:33.835Z"
   },
   {
    "duration": 3,
    "start_time": "2022-10-31T20:57:33.854Z"
   },
   {
    "duration": 8,
    "start_time": "2022-10-31T20:57:33.859Z"
   },
   {
    "duration": 138,
    "start_time": "2022-10-31T20:57:33.868Z"
   },
   {
    "duration": 98,
    "start_time": "2022-10-31T20:57:34.008Z"
   },
   {
    "duration": 1599,
    "start_time": "2022-10-31T20:57:34.108Z"
   },
   {
    "duration": 9,
    "start_time": "2022-10-31T20:57:35.708Z"
   },
   {
    "duration": 17,
    "start_time": "2022-10-31T20:57:35.719Z"
   },
   {
    "duration": 101505,
    "start_time": "2022-10-31T20:57:35.738Z"
   },
   {
    "duration": 11,
    "start_time": "2022-10-31T20:59:17.244Z"
   },
   {
    "duration": 15,
    "start_time": "2022-10-31T20:59:17.257Z"
   },
   {
    "duration": 16,
    "start_time": "2022-10-31T20:59:17.273Z"
   },
   {
    "duration": 18,
    "start_time": "2022-10-31T20:59:17.290Z"
   },
   {
    "duration": 4,
    "start_time": "2022-10-31T20:59:17.309Z"
   },
   {
    "duration": 191,
    "start_time": "2022-10-31T20:59:17.315Z"
   },
   {
    "duration": 13,
    "start_time": "2022-10-31T20:59:17.509Z"
   },
   {
    "duration": 814,
    "start_time": "2022-10-31T20:59:17.524Z"
   },
   {
    "duration": 10,
    "start_time": "2022-10-31T20:59:18.339Z"
   },
   {
    "duration": 13,
    "start_time": "2022-10-31T20:59:18.350Z"
   },
   {
    "duration": 49382,
    "start_time": "2022-10-31T20:59:18.364Z"
   },
   {
    "duration": 11,
    "start_time": "2022-10-31T21:00:07.747Z"
   },
   {
    "duration": 32,
    "start_time": "2022-10-31T21:00:07.759Z"
   },
   {
    "duration": 249,
    "start_time": "2022-10-31T21:00:07.793Z"
   },
   {
    "duration": 62,
    "start_time": "2022-10-31T21:00:08.044Z"
   },
   {
    "duration": 112,
    "start_time": "2022-10-31T21:00:08.110Z"
   },
   {
    "duration": 259,
    "start_time": "2022-10-31T21:00:08.223Z"
   },
   {
    "duration": 210,
    "start_time": "2022-10-31T21:00:08.484Z"
   },
   {
    "duration": 159,
    "start_time": "2022-10-31T21:00:08.695Z"
   },
   {
    "duration": 5,
    "start_time": "2022-10-31T21:00:08.856Z"
   },
   {
    "duration": 4,
    "start_time": "2022-10-31T21:29:58.832Z"
   },
   {
    "duration": 2580,
    "start_time": "2022-10-31T21:31:50.170Z"
   },
   {
    "duration": 2527,
    "start_time": "2022-10-31T21:33:15.022Z"
   },
   {
    "duration": 9373,
    "start_time": "2022-10-31T21:35:25.019Z"
   },
   {
    "duration": 516,
    "start_time": "2022-10-31T21:35:58.757Z"
   },
   {
    "duration": 70,
    "start_time": "2022-10-31T21:37:31.411Z"
   },
   {
    "duration": 31261,
    "start_time": "2022-10-31T21:37:56.187Z"
   },
   {
    "duration": 12,
    "start_time": "2022-10-31T21:38:27.449Z"
   },
   {
    "duration": 1218,
    "start_time": "2022-10-31T21:40:03.557Z"
   },
   {
    "duration": 40,
    "start_time": "2022-10-31T21:40:04.777Z"
   },
   {
    "duration": 15,
    "start_time": "2022-10-31T21:40:04.819Z"
   },
   {
    "duration": 22,
    "start_time": "2022-10-31T21:40:04.836Z"
   },
   {
    "duration": 43,
    "start_time": "2022-10-31T21:40:04.860Z"
   },
   {
    "duration": 124,
    "start_time": "2022-10-31T21:40:04.904Z"
   },
   {
    "duration": 3,
    "start_time": "2022-10-31T21:40:05.030Z"
   },
   {
    "duration": 24,
    "start_time": "2022-10-31T21:40:05.034Z"
   },
   {
    "duration": 15,
    "start_time": "2022-10-31T21:40:05.059Z"
   },
   {
    "duration": 14,
    "start_time": "2022-10-31T21:40:05.076Z"
   },
   {
    "duration": 13,
    "start_time": "2022-10-31T21:40:05.091Z"
   },
   {
    "duration": 17,
    "start_time": "2022-10-31T21:40:05.105Z"
   },
   {
    "duration": 15,
    "start_time": "2022-10-31T21:40:05.123Z"
   },
   {
    "duration": 14,
    "start_time": "2022-10-31T21:40:05.139Z"
   },
   {
    "duration": 16,
    "start_time": "2022-10-31T21:40:05.155Z"
   },
   {
    "duration": 21,
    "start_time": "2022-10-31T21:40:05.172Z"
   },
   {
    "duration": 10,
    "start_time": "2022-10-31T21:40:05.195Z"
   },
   {
    "duration": 7,
    "start_time": "2022-10-31T21:40:05.207Z"
   },
   {
    "duration": 19,
    "start_time": "2022-10-31T21:40:05.215Z"
   },
   {
    "duration": 24,
    "start_time": "2022-10-31T21:40:05.236Z"
   },
   {
    "duration": 249,
    "start_time": "2022-10-31T21:40:05.261Z"
   },
   {
    "duration": 101,
    "start_time": "2022-10-31T21:40:05.512Z"
   },
   {
    "duration": 4945,
    "start_time": "2022-10-31T21:40:05.615Z"
   },
   {
    "duration": 4,
    "start_time": "2022-10-31T21:40:10.562Z"
   },
   {
    "duration": 47,
    "start_time": "2022-10-31T21:40:10.567Z"
   },
   {
    "duration": 297,
    "start_time": "2022-10-31T21:40:10.616Z"
   },
   {
    "duration": 10,
    "start_time": "2022-10-31T21:40:10.914Z"
   },
   {
    "duration": 26,
    "start_time": "2022-10-31T21:40:10.927Z"
   },
   {
    "duration": 38,
    "start_time": "2022-10-31T21:40:10.954Z"
   },
   {
    "duration": 74415,
    "start_time": "2022-10-31T21:40:10.993Z"
   },
   {
    "duration": 10,
    "start_time": "2022-10-31T21:41:25.410Z"
   },
   {
    "duration": 10,
    "start_time": "2022-10-31T21:41:25.422Z"
   },
   {
    "duration": 81,
    "start_time": "2022-10-31T21:41:25.433Z"
   },
   {
    "duration": 11,
    "start_time": "2022-10-31T21:41:25.606Z"
   },
   {
    "duration": 1263,
    "start_time": "2022-10-31T21:41:25.619Z"
   },
   {
    "duration": 8,
    "start_time": "2022-10-31T21:41:26.884Z"
   },
   {
    "duration": 13,
    "start_time": "2022-10-31T21:41:26.893Z"
   },
   {
    "duration": 77007,
    "start_time": "2022-10-31T21:41:26.908Z"
   },
   {
    "duration": 10,
    "start_time": "2022-10-31T21:42:43.917Z"
   },
   {
    "duration": 11,
    "start_time": "2022-10-31T21:42:43.928Z"
   },
   {
    "duration": 14,
    "start_time": "2022-10-31T21:42:43.941Z"
   },
   {
    "duration": 4,
    "start_time": "2022-10-31T21:42:43.956Z"
   },
   {
    "duration": 5,
    "start_time": "2022-10-31T21:42:43.961Z"
   },
   {
    "duration": 140,
    "start_time": "2022-10-31T21:42:43.967Z"
   },
   {
    "duration": 100,
    "start_time": "2022-10-31T21:42:44.108Z"
   },
   {
    "duration": 1562,
    "start_time": "2022-10-31T21:42:44.210Z"
   },
   {
    "duration": 8,
    "start_time": "2022-10-31T21:42:45.774Z"
   },
   {
    "duration": 12,
    "start_time": "2022-10-31T21:42:45.783Z"
   },
   {
    "duration": 100106,
    "start_time": "2022-10-31T21:42:45.805Z"
   },
   {
    "duration": 10,
    "start_time": "2022-10-31T21:44:25.913Z"
   },
   {
    "duration": 10,
    "start_time": "2022-10-31T21:44:25.925Z"
   },
   {
    "duration": 13,
    "start_time": "2022-10-31T21:44:25.937Z"
   },
   {
    "duration": 3,
    "start_time": "2022-10-31T21:44:25.952Z"
   },
   {
    "duration": 5,
    "start_time": "2022-10-31T21:44:25.956Z"
   },
   {
    "duration": 49,
    "start_time": "2022-10-31T21:44:25.962Z"
   },
   {
    "duration": 94,
    "start_time": "2022-10-31T21:44:26.013Z"
   },
   {
    "duration": 732,
    "start_time": "2022-10-31T21:44:26.109Z"
   },
   {
    "duration": 9,
    "start_time": "2022-10-31T21:44:26.843Z"
   },
   {
    "duration": 12,
    "start_time": "2022-10-31T21:44:26.854Z"
   },
   {
    "duration": 47920,
    "start_time": "2022-10-31T21:44:26.867Z"
   },
   {
    "duration": 18,
    "start_time": "2022-10-31T21:45:14.788Z"
   },
   {
    "duration": 11,
    "start_time": "2022-10-31T21:45:14.807Z"
   },
   {
    "duration": 237,
    "start_time": "2022-10-31T21:45:14.819Z"
   },
   {
    "duration": 51,
    "start_time": "2022-10-31T21:45:15.057Z"
   },
   {
    "duration": 111,
    "start_time": "2022-10-31T21:45:15.110Z"
   },
   {
    "duration": 277,
    "start_time": "2022-10-31T21:45:15.223Z"
   },
   {
    "duration": 193,
    "start_time": "2022-10-31T21:45:15.504Z"
   },
   {
    "duration": 158,
    "start_time": "2022-10-31T21:45:15.698Z"
   },
   {
    "duration": 6,
    "start_time": "2022-10-31T21:45:15.858Z"
   },
   {
    "duration": 329,
    "start_time": "2022-10-31T21:49:30.374Z"
   },
   {
    "duration": 28,
    "start_time": "2022-10-31T21:50:09.803Z"
   },
   {
    "duration": 16,
    "start_time": "2022-10-31T21:51:01.945Z"
   },
   {
    "duration": 22,
    "start_time": "2022-10-31T21:51:03.470Z"
   },
   {
    "duration": 314,
    "start_time": "2022-10-31T21:51:04.236Z"
   },
   {
    "duration": 185,
    "start_time": "2022-10-31T21:51:17.213Z"
   },
   {
    "duration": 338,
    "start_time": "2022-10-31T21:51:44.647Z"
   },
   {
    "duration": 208,
    "start_time": "2022-10-31T21:51:51.691Z"
   },
   {
    "duration": 328,
    "start_time": "2022-10-31T21:52:22.914Z"
   },
   {
    "duration": 1243,
    "start_time": "2022-10-31T21:53:48.560Z"
   },
   {
    "duration": 41,
    "start_time": "2022-10-31T21:53:49.805Z"
   },
   {
    "duration": 15,
    "start_time": "2022-10-31T21:53:49.848Z"
   },
   {
    "duration": 34,
    "start_time": "2022-10-31T21:53:49.865Z"
   },
   {
    "duration": 47,
    "start_time": "2022-10-31T21:53:49.901Z"
   },
   {
    "duration": 137,
    "start_time": "2022-10-31T21:53:49.950Z"
   },
   {
    "duration": 4,
    "start_time": "2022-10-31T21:53:50.089Z"
   },
   {
    "duration": 28,
    "start_time": "2022-10-31T21:53:50.095Z"
   },
   {
    "duration": 25,
    "start_time": "2022-10-31T21:53:50.125Z"
   },
   {
    "duration": 19,
    "start_time": "2022-10-31T21:53:50.152Z"
   },
   {
    "duration": 15,
    "start_time": "2022-10-31T21:53:50.172Z"
   },
   {
    "duration": 8,
    "start_time": "2022-10-31T21:53:50.188Z"
   },
   {
    "duration": 25,
    "start_time": "2022-10-31T21:53:50.197Z"
   },
   {
    "duration": 18,
    "start_time": "2022-10-31T21:53:50.223Z"
   },
   {
    "duration": 21,
    "start_time": "2022-10-31T21:53:50.242Z"
   },
   {
    "duration": 41,
    "start_time": "2022-10-31T21:53:50.265Z"
   },
   {
    "duration": 15,
    "start_time": "2022-10-31T21:53:50.308Z"
   },
   {
    "duration": 18,
    "start_time": "2022-10-31T21:53:50.324Z"
   },
   {
    "duration": 22,
    "start_time": "2022-10-31T21:53:50.343Z"
   },
   {
    "duration": 24,
    "start_time": "2022-10-31T21:53:50.366Z"
   },
   {
    "duration": 315,
    "start_time": "2022-10-31T21:53:50.392Z"
   },
   {
    "duration": 103,
    "start_time": "2022-10-31T21:53:50.712Z"
   },
   {
    "duration": 5620,
    "start_time": "2022-10-31T21:53:50.817Z"
   },
   {
    "duration": 3,
    "start_time": "2022-10-31T21:53:56.439Z"
   },
   {
    "duration": 22,
    "start_time": "2022-10-31T21:53:56.444Z"
   },
   {
    "duration": 289,
    "start_time": "2022-10-31T21:53:56.468Z"
   },
   {
    "duration": 9,
    "start_time": "2022-10-31T21:53:56.759Z"
   },
   {
    "duration": 10,
    "start_time": "2022-10-31T21:53:56.771Z"
   },
   {
    "duration": 5,
    "start_time": "2022-10-31T21:53:56.783Z"
   },
   {
    "duration": 1347,
    "start_time": "2022-10-31T21:55:02.338Z"
   },
   {
    "duration": 40,
    "start_time": "2022-10-31T21:55:03.687Z"
   },
   {
    "duration": 15,
    "start_time": "2022-10-31T21:55:03.728Z"
   },
   {
    "duration": 13,
    "start_time": "2022-10-31T21:55:03.744Z"
   },
   {
    "duration": 36,
    "start_time": "2022-10-31T21:55:03.759Z"
   },
   {
    "duration": 142,
    "start_time": "2022-10-31T21:55:03.797Z"
   },
   {
    "duration": 4,
    "start_time": "2022-10-31T21:55:03.940Z"
   },
   {
    "duration": 16,
    "start_time": "2022-10-31T21:55:03.946Z"
   },
   {
    "duration": 7,
    "start_time": "2022-10-31T21:55:03.964Z"
   },
   {
    "duration": 7,
    "start_time": "2022-10-31T21:55:03.972Z"
   },
   {
    "duration": 5,
    "start_time": "2022-10-31T21:55:04.006Z"
   },
   {
    "duration": 11,
    "start_time": "2022-10-31T21:55:04.012Z"
   },
   {
    "duration": 12,
    "start_time": "2022-10-31T21:55:04.024Z"
   },
   {
    "duration": 5,
    "start_time": "2022-10-31T21:55:04.039Z"
   },
   {
    "duration": 8,
    "start_time": "2022-10-31T21:55:04.045Z"
   },
   {
    "duration": 17,
    "start_time": "2022-10-31T21:55:04.054Z"
   },
   {
    "duration": 44,
    "start_time": "2022-10-31T21:55:04.072Z"
   },
   {
    "duration": 4,
    "start_time": "2022-10-31T21:55:04.118Z"
   },
   {
    "duration": 12,
    "start_time": "2022-10-31T21:55:04.123Z"
   },
   {
    "duration": 30,
    "start_time": "2022-10-31T21:55:04.137Z"
   },
   {
    "duration": 241,
    "start_time": "2022-10-31T21:55:04.169Z"
   },
   {
    "duration": 95,
    "start_time": "2022-10-31T21:55:04.412Z"
   },
   {
    "duration": 5870,
    "start_time": "2022-10-31T21:55:04.509Z"
   },
   {
    "duration": 4,
    "start_time": "2022-10-31T21:55:10.381Z"
   },
   {
    "duration": 31,
    "start_time": "2022-10-31T21:55:10.387Z"
   },
   {
    "duration": 283,
    "start_time": "2022-10-31T21:55:10.419Z"
   },
   {
    "duration": 9,
    "start_time": "2022-10-31T21:55:10.705Z"
   },
   {
    "duration": 13,
    "start_time": "2022-10-31T21:55:10.715Z"
   },
   {
    "duration": 4,
    "start_time": "2022-10-31T21:55:10.729Z"
   },
   {
    "duration": 1269,
    "start_time": "2022-10-31T21:55:45.502Z"
   },
   {
    "duration": 41,
    "start_time": "2022-10-31T21:55:46.772Z"
   },
   {
    "duration": 15,
    "start_time": "2022-10-31T21:55:46.815Z"
   },
   {
    "duration": 11,
    "start_time": "2022-10-31T21:55:46.832Z"
   },
   {
    "duration": 36,
    "start_time": "2022-10-31T21:55:46.844Z"
   },
   {
    "duration": 139,
    "start_time": "2022-10-31T21:55:46.881Z"
   },
   {
    "duration": 4,
    "start_time": "2022-10-31T21:55:47.021Z"
   },
   {
    "duration": 15,
    "start_time": "2022-10-31T21:55:47.026Z"
   },
   {
    "duration": 12,
    "start_time": "2022-10-31T21:55:47.043Z"
   },
   {
    "duration": 10,
    "start_time": "2022-10-31T21:55:47.057Z"
   },
   {
    "duration": 4,
    "start_time": "2022-10-31T21:55:47.068Z"
   },
   {
    "duration": 10,
    "start_time": "2022-10-31T21:55:47.073Z"
   },
   {
    "duration": 26,
    "start_time": "2022-10-31T21:55:47.084Z"
   },
   {
    "duration": 7,
    "start_time": "2022-10-31T21:55:47.111Z"
   },
   {
    "duration": 5,
    "start_time": "2022-10-31T21:55:47.119Z"
   },
   {
    "duration": 10,
    "start_time": "2022-10-31T21:55:47.125Z"
   },
   {
    "duration": 18,
    "start_time": "2022-10-31T21:55:47.136Z"
   },
   {
    "duration": 12,
    "start_time": "2022-10-31T21:55:47.156Z"
   },
   {
    "duration": 4,
    "start_time": "2022-10-31T21:55:47.170Z"
   },
   {
    "duration": 10,
    "start_time": "2022-10-31T21:55:47.206Z"
   },
   {
    "duration": 25,
    "start_time": "2022-10-31T21:55:47.218Z"
   },
   {
    "duration": 360,
    "start_time": "2022-10-31T21:55:47.245Z"
   },
   {
    "duration": 98,
    "start_time": "2022-10-31T21:55:47.609Z"
   },
   {
    "duration": 5632,
    "start_time": "2022-10-31T21:55:47.708Z"
   },
   {
    "duration": 4,
    "start_time": "2022-10-31T21:55:53.341Z"
   },
   {
    "duration": 19,
    "start_time": "2022-10-31T21:55:53.347Z"
   },
   {
    "duration": 290,
    "start_time": "2022-10-31T21:55:53.367Z"
   },
   {
    "duration": 9,
    "start_time": "2022-10-31T21:55:53.661Z"
   },
   {
    "duration": 20,
    "start_time": "2022-10-31T21:55:53.671Z"
   },
   {
    "duration": 15,
    "start_time": "2022-10-31T21:55:53.693Z"
   },
   {
    "duration": 1281,
    "start_time": "2022-10-31T21:56:21.739Z"
   },
   {
    "duration": 40,
    "start_time": "2022-10-31T21:56:23.022Z"
   },
   {
    "duration": 16,
    "start_time": "2022-10-31T21:56:23.107Z"
   },
   {
    "duration": 11,
    "start_time": "2022-10-31T21:56:23.125Z"
   },
   {
    "duration": 92,
    "start_time": "2022-10-31T21:56:23.137Z"
   },
   {
    "duration": 275,
    "start_time": "2022-10-31T21:56:23.230Z"
   },
   {
    "duration": 4,
    "start_time": "2022-10-31T21:56:23.507Z"
   },
   {
    "duration": 19,
    "start_time": "2022-10-31T21:56:23.512Z"
   },
   {
    "duration": 8,
    "start_time": "2022-10-31T21:56:23.532Z"
   },
   {
    "duration": 8,
    "start_time": "2022-10-31T21:56:23.542Z"
   },
   {
    "duration": 54,
    "start_time": "2022-10-31T21:56:23.552Z"
   },
   {
    "duration": 7,
    "start_time": "2022-10-31T21:56:23.608Z"
   },
   {
    "duration": 13,
    "start_time": "2022-10-31T21:56:23.617Z"
   },
   {
    "duration": 7,
    "start_time": "2022-10-31T21:56:23.631Z"
   },
   {
    "duration": 5,
    "start_time": "2022-10-31T21:56:23.640Z"
   },
   {
    "duration": 63,
    "start_time": "2022-10-31T21:56:23.647Z"
   },
   {
    "duration": 20,
    "start_time": "2022-10-31T21:56:23.711Z"
   },
   {
    "duration": 13,
    "start_time": "2022-10-31T21:56:23.733Z"
   },
   {
    "duration": 4,
    "start_time": "2022-10-31T21:56:23.747Z"
   },
   {
    "duration": 64,
    "start_time": "2022-10-31T21:56:23.752Z"
   },
   {
    "duration": 28,
    "start_time": "2022-10-31T21:56:23.817Z"
   },
   {
    "duration": 363,
    "start_time": "2022-10-31T21:56:23.847Z"
   },
   {
    "duration": 98,
    "start_time": "2022-10-31T21:56:24.212Z"
   },
   {
    "duration": 5273,
    "start_time": "2022-10-31T21:56:24.312Z"
   },
   {
    "duration": 3,
    "start_time": "2022-10-31T21:56:29.587Z"
   },
   {
    "duration": 27,
    "start_time": "2022-10-31T21:56:29.591Z"
   },
   {
    "duration": 283,
    "start_time": "2022-10-31T21:56:29.619Z"
   },
   {
    "duration": 9,
    "start_time": "2022-10-31T21:56:29.907Z"
   },
   {
    "duration": 11,
    "start_time": "2022-10-31T21:56:29.918Z"
   },
   {
    "duration": 4,
    "start_time": "2022-10-31T21:56:29.930Z"
   },
   {
    "duration": 76618,
    "start_time": "2022-10-31T21:56:29.936Z"
   },
   {
    "duration": 11,
    "start_time": "2022-10-31T21:57:46.555Z"
   },
   {
    "duration": 10,
    "start_time": "2022-10-31T21:57:46.568Z"
   },
   {
    "duration": 127,
    "start_time": "2022-10-31T21:57:46.579Z"
   },
   {
    "duration": 100,
    "start_time": "2022-10-31T21:57:46.708Z"
   },
   {
    "duration": 1333,
    "start_time": "2022-10-31T21:57:46.809Z"
   },
   {
    "duration": 9,
    "start_time": "2022-10-31T21:57:48.144Z"
   },
   {
    "duration": 14,
    "start_time": "2022-10-31T21:57:48.154Z"
   },
   {
    "duration": 75136,
    "start_time": "2022-10-31T21:57:48.170Z"
   },
   {
    "duration": 10,
    "start_time": "2022-10-31T21:59:03.308Z"
   },
   {
    "duration": 13,
    "start_time": "2022-10-31T21:59:03.319Z"
   },
   {
    "duration": 15,
    "start_time": "2022-10-31T21:59:03.333Z"
   },
   {
    "duration": 4,
    "start_time": "2022-10-31T21:59:03.349Z"
   },
   {
    "duration": 4,
    "start_time": "2022-10-31T21:59:03.354Z"
   },
   {
    "duration": 146,
    "start_time": "2022-10-31T21:59:03.360Z"
   },
   {
    "duration": 99,
    "start_time": "2022-10-31T21:59:03.508Z"
   },
   {
    "duration": 1646,
    "start_time": "2022-10-31T21:59:03.609Z"
   },
   {
    "duration": 10,
    "start_time": "2022-10-31T21:59:05.257Z"
   },
   {
    "duration": 15,
    "start_time": "2022-10-31T21:59:05.269Z"
   },
   {
    "duration": 1252,
    "start_time": "2022-10-31T21:59:35.825Z"
   },
   {
    "duration": 40,
    "start_time": "2022-10-31T21:59:37.078Z"
   },
   {
    "duration": 14,
    "start_time": "2022-10-31T21:59:37.120Z"
   },
   {
    "duration": 10,
    "start_time": "2022-10-31T21:59:37.136Z"
   },
   {
    "duration": 34,
    "start_time": "2022-10-31T21:59:37.148Z"
   },
   {
    "duration": 174,
    "start_time": "2022-10-31T21:59:37.184Z"
   },
   {
    "duration": 5,
    "start_time": "2022-10-31T21:59:37.360Z"
   },
   {
    "duration": 22,
    "start_time": "2022-10-31T21:59:37.367Z"
   },
   {
    "duration": 17,
    "start_time": "2022-10-31T21:59:37.390Z"
   },
   {
    "duration": 8,
    "start_time": "2022-10-31T21:59:37.409Z"
   },
   {
    "duration": 12,
    "start_time": "2022-10-31T21:59:37.418Z"
   },
   {
    "duration": 10,
    "start_time": "2022-10-31T21:59:37.431Z"
   },
   {
    "duration": 15,
    "start_time": "2022-10-31T21:59:37.442Z"
   },
   {
    "duration": 7,
    "start_time": "2022-10-31T21:59:37.459Z"
   },
   {
    "duration": 5,
    "start_time": "2022-10-31T21:59:37.467Z"
   },
   {
    "duration": 32,
    "start_time": "2022-10-31T21:59:37.473Z"
   },
   {
    "duration": 15,
    "start_time": "2022-10-31T21:59:37.506Z"
   },
   {
    "duration": 11,
    "start_time": "2022-10-31T21:59:37.523Z"
   },
   {
    "duration": 3,
    "start_time": "2022-10-31T21:59:37.536Z"
   },
   {
    "duration": 10,
    "start_time": "2022-10-31T21:59:37.540Z"
   },
   {
    "duration": 25,
    "start_time": "2022-10-31T21:59:37.552Z"
   },
   {
    "duration": 332,
    "start_time": "2022-10-31T21:59:37.578Z"
   },
   {
    "duration": 98,
    "start_time": "2022-10-31T21:59:37.912Z"
   },
   {
    "duration": 5939,
    "start_time": "2022-10-31T21:59:38.012Z"
   },
   {
    "duration": 3,
    "start_time": "2022-10-31T21:59:43.953Z"
   },
   {
    "duration": 19,
    "start_time": "2022-10-31T21:59:43.958Z"
   },
   {
    "duration": 288,
    "start_time": "2022-10-31T21:59:43.978Z"
   },
   {
    "duration": 8,
    "start_time": "2022-10-31T21:59:44.270Z"
   },
   {
    "duration": 10,
    "start_time": "2022-10-31T21:59:44.280Z"
   },
   {
    "duration": 3,
    "start_time": "2022-10-31T21:59:44.292Z"
   },
   {
    "duration": 1261,
    "start_time": "2022-10-31T22:00:48.789Z"
   },
   {
    "duration": 42,
    "start_time": "2022-10-31T22:00:50.052Z"
   },
   {
    "duration": 16,
    "start_time": "2022-10-31T22:00:50.095Z"
   },
   {
    "duration": 16,
    "start_time": "2022-10-31T22:00:50.112Z"
   },
   {
    "duration": 36,
    "start_time": "2022-10-31T22:00:50.129Z"
   },
   {
    "duration": 138,
    "start_time": "2022-10-31T22:00:50.167Z"
   },
   {
    "duration": 4,
    "start_time": "2022-10-31T22:00:50.306Z"
   },
   {
    "duration": 16,
    "start_time": "2022-10-31T22:00:50.312Z"
   },
   {
    "duration": 7,
    "start_time": "2022-10-31T22:00:50.330Z"
   },
   {
    "duration": 9,
    "start_time": "2022-10-31T22:00:50.339Z"
   },
   {
    "duration": 5,
    "start_time": "2022-10-31T22:00:50.350Z"
   },
   {
    "duration": 7,
    "start_time": "2022-10-31T22:00:50.356Z"
   },
   {
    "duration": 10,
    "start_time": "2022-10-31T22:00:50.364Z"
   },
   {
    "duration": 35,
    "start_time": "2022-10-31T22:00:50.375Z"
   },
   {
    "duration": 6,
    "start_time": "2022-10-31T22:00:50.412Z"
   },
   {
    "duration": 8,
    "start_time": "2022-10-31T22:00:50.419Z"
   },
   {
    "duration": 11,
    "start_time": "2022-10-31T22:00:50.428Z"
   },
   {
    "duration": 19,
    "start_time": "2022-10-31T22:00:50.440Z"
   },
   {
    "duration": 12,
    "start_time": "2022-10-31T22:00:50.460Z"
   },
   {
    "duration": 7,
    "start_time": "2022-10-31T22:00:50.474Z"
   },
   {
    "duration": 38,
    "start_time": "2022-10-31T22:00:50.483Z"
   },
   {
    "duration": 34,
    "start_time": "2022-10-31T22:00:50.523Z"
   },
   {
    "duration": 247,
    "start_time": "2022-10-31T22:00:50.558Z"
   },
   {
    "duration": 97,
    "start_time": "2022-10-31T22:00:50.808Z"
   },
   {
    "duration": 5535,
    "start_time": "2022-10-31T22:00:50.907Z"
   },
   {
    "duration": 4,
    "start_time": "2022-10-31T22:00:56.443Z"
   },
   {
    "duration": 18,
    "start_time": "2022-10-31T22:00:56.449Z"
   },
   {
    "duration": 293,
    "start_time": "2022-10-31T22:00:56.471Z"
   },
   {
    "duration": 10,
    "start_time": "2022-10-31T22:00:56.766Z"
   },
   {
    "duration": 13,
    "start_time": "2022-10-31T22:00:56.777Z"
   },
   {
    "duration": 13,
    "start_time": "2022-10-31T22:00:56.792Z"
   },
   {
    "duration": 73868,
    "start_time": "2022-10-31T22:00:56.807Z"
   },
   {
    "duration": 12,
    "start_time": "2022-10-31T22:02:10.676Z"
   },
   {
    "duration": 20,
    "start_time": "2022-10-31T22:02:10.690Z"
   },
   {
    "duration": 99,
    "start_time": "2022-10-31T22:02:10.711Z"
   },
   {
    "duration": 102,
    "start_time": "2022-10-31T22:02:10.811Z"
   },
   {
    "duration": 1338,
    "start_time": "2022-10-31T22:02:10.915Z"
   },
   {
    "duration": 10,
    "start_time": "2022-10-31T22:02:12.255Z"
   },
   {
    "duration": 22,
    "start_time": "2022-10-31T22:02:12.267Z"
   },
   {
    "duration": 74604,
    "start_time": "2022-10-31T22:02:12.290Z"
   },
   {
    "duration": 17,
    "start_time": "2022-10-31T22:03:26.895Z"
   },
   {
    "duration": 14,
    "start_time": "2022-10-31T22:03:26.913Z"
   },
   {
    "duration": 14,
    "start_time": "2022-10-31T22:03:26.928Z"
   },
   {
    "duration": 3,
    "start_time": "2022-10-31T22:03:26.943Z"
   },
   {
    "duration": 6,
    "start_time": "2022-10-31T22:03:26.947Z"
   },
   {
    "duration": 57,
    "start_time": "2022-10-31T22:03:26.954Z"
   },
   {
    "duration": 103,
    "start_time": "2022-10-31T22:03:27.012Z"
   },
   {
    "duration": 1682,
    "start_time": "2022-10-31T22:03:27.117Z"
   },
   {
    "duration": 12,
    "start_time": "2022-10-31T22:03:28.800Z"
   },
   {
    "duration": 12,
    "start_time": "2022-10-31T22:03:28.813Z"
   },
   {
    "duration": 99342,
    "start_time": "2022-10-31T22:03:28.826Z"
   },
   {
    "duration": 11,
    "start_time": "2022-10-31T22:05:08.170Z"
   },
   {
    "duration": 25,
    "start_time": "2022-10-31T22:05:08.182Z"
   },
   {
    "duration": 11,
    "start_time": "2022-10-31T22:05:08.208Z"
   },
   {
    "duration": 5,
    "start_time": "2022-10-31T22:05:08.220Z"
   },
   {
    "duration": 10,
    "start_time": "2022-10-31T22:05:08.226Z"
   },
   {
    "duration": 167,
    "start_time": "2022-10-31T22:05:08.238Z"
   },
   {
    "duration": 11,
    "start_time": "2022-10-31T22:05:08.407Z"
   },
   {
    "duration": 732,
    "start_time": "2022-10-31T22:05:08.420Z"
   },
   {
    "duration": 10,
    "start_time": "2022-10-31T22:05:09.153Z"
   },
   {
    "duration": 11,
    "start_time": "2022-10-31T22:05:09.165Z"
   },
   {
    "duration": 48706,
    "start_time": "2022-10-31T22:05:09.178Z"
   },
   {
    "duration": 21,
    "start_time": "2022-10-31T22:05:57.885Z"
   },
   {
    "duration": 19,
    "start_time": "2022-10-31T22:05:57.908Z"
   },
   {
    "duration": 387,
    "start_time": "2022-10-31T22:05:57.928Z"
   },
   {
    "duration": 20,
    "start_time": "2022-10-31T22:05:58.316Z"
   },
   {
    "duration": 107,
    "start_time": "2022-10-31T22:05:58.407Z"
   },
   {
    "duration": 332,
    "start_time": "2022-10-31T22:05:58.516Z"
   },
   {
    "duration": 221,
    "start_time": "2022-10-31T22:05:58.850Z"
   },
   {
    "duration": 149,
    "start_time": "2022-10-31T22:05:59.073Z"
   },
   {
    "duration": 4,
    "start_time": "2022-10-31T22:05:59.223Z"
   },
   {
    "duration": 379,
    "start_time": "2022-10-31T22:08:26.206Z"
   },
   {
    "duration": 1316,
    "start_time": "2022-10-31T22:11:13.811Z"
   },
   {
    "duration": 40,
    "start_time": "2022-10-31T22:11:15.129Z"
   },
   {
    "duration": 15,
    "start_time": "2022-10-31T22:11:15.170Z"
   },
   {
    "duration": 11,
    "start_time": "2022-10-31T22:11:15.187Z"
   },
   {
    "duration": 34,
    "start_time": "2022-10-31T22:11:15.200Z"
   },
   {
    "duration": 125,
    "start_time": "2022-10-31T22:11:15.235Z"
   },
   {
    "duration": 3,
    "start_time": "2022-10-31T22:11:15.362Z"
   },
   {
    "duration": 24,
    "start_time": "2022-10-31T22:11:15.367Z"
   },
   {
    "duration": 13,
    "start_time": "2022-10-31T22:11:15.393Z"
   },
   {
    "duration": 23,
    "start_time": "2022-10-31T22:11:15.408Z"
   },
   {
    "duration": 23,
    "start_time": "2022-10-31T22:11:15.432Z"
   },
   {
    "duration": 18,
    "start_time": "2022-10-31T22:11:15.457Z"
   },
   {
    "duration": 19,
    "start_time": "2022-10-31T22:11:15.476Z"
   },
   {
    "duration": 21,
    "start_time": "2022-10-31T22:11:15.497Z"
   },
   {
    "duration": 14,
    "start_time": "2022-10-31T22:11:15.520Z"
   },
   {
    "duration": 26,
    "start_time": "2022-10-31T22:11:15.535Z"
   },
   {
    "duration": 31,
    "start_time": "2022-10-31T22:11:15.563Z"
   },
   {
    "duration": 18,
    "start_time": "2022-10-31T22:11:15.595Z"
   },
   {
    "duration": 10,
    "start_time": "2022-10-31T22:11:15.614Z"
   },
   {
    "duration": 18,
    "start_time": "2022-10-31T22:11:15.625Z"
   },
   {
    "duration": 41,
    "start_time": "2022-10-31T22:11:15.644Z"
   },
   {
    "duration": 228,
    "start_time": "2022-10-31T22:11:15.687Z"
   },
   {
    "duration": 97,
    "start_time": "2022-10-31T22:11:16.009Z"
   },
   {
    "duration": 4908,
    "start_time": "2022-10-31T22:11:16.108Z"
   },
   {
    "duration": 5,
    "start_time": "2022-10-31T22:11:21.018Z"
   },
   {
    "duration": 22,
    "start_time": "2022-10-31T22:11:21.024Z"
   },
   {
    "duration": 292,
    "start_time": "2022-10-31T22:11:21.048Z"
   },
   {
    "duration": 11,
    "start_time": "2022-10-31T22:11:21.344Z"
   },
   {
    "duration": 16,
    "start_time": "2022-10-31T22:11:21.356Z"
   },
   {
    "duration": 7,
    "start_time": "2022-10-31T22:11:21.374Z"
   },
   {
    "duration": 74998,
    "start_time": "2022-10-31T22:11:21.383Z"
   },
   {
    "duration": 12,
    "start_time": "2022-10-31T22:12:36.382Z"
   },
   {
    "duration": 19,
    "start_time": "2022-10-31T22:12:36.395Z"
   },
   {
    "duration": 94,
    "start_time": "2022-10-31T22:12:36.415Z"
   },
   {
    "duration": 100,
    "start_time": "2022-10-31T22:12:36.511Z"
   },
   {
    "duration": 1294,
    "start_time": "2022-10-31T22:12:36.613Z"
   },
   {
    "duration": 11,
    "start_time": "2022-10-31T22:12:37.909Z"
   },
   {
    "duration": 13,
    "start_time": "2022-10-31T22:12:37.922Z"
   },
   {
    "duration": 74153,
    "start_time": "2022-10-31T22:12:37.936Z"
   },
   {
    "duration": 15,
    "start_time": "2022-10-31T22:13:52.091Z"
   },
   {
    "duration": 13,
    "start_time": "2022-10-31T22:13:52.107Z"
   },
   {
    "duration": 13,
    "start_time": "2022-10-31T22:13:52.121Z"
   },
   {
    "duration": 4,
    "start_time": "2022-10-31T22:13:52.136Z"
   },
   {
    "duration": 19,
    "start_time": "2022-10-31T22:13:52.141Z"
   },
   {
    "duration": 56,
    "start_time": "2022-10-31T22:13:52.161Z"
   },
   {
    "duration": 104,
    "start_time": "2022-10-31T22:13:52.306Z"
   },
   {
    "duration": 1675,
    "start_time": "2022-10-31T22:13:52.411Z"
   },
   {
    "duration": 8,
    "start_time": "2022-10-31T22:13:54.088Z"
   },
   {
    "duration": 13,
    "start_time": "2022-10-31T22:13:54.098Z"
   },
   {
    "duration": 101075,
    "start_time": "2022-10-31T22:13:54.112Z"
   },
   {
    "duration": 18,
    "start_time": "2022-10-31T22:15:35.189Z"
   },
   {
    "duration": 14,
    "start_time": "2022-10-31T22:15:35.208Z"
   },
   {
    "duration": 12,
    "start_time": "2022-10-31T22:15:35.223Z"
   },
   {
    "duration": 4,
    "start_time": "2022-10-31T22:15:35.236Z"
   },
   {
    "duration": 6,
    "start_time": "2022-10-31T22:15:35.242Z"
   },
   {
    "duration": 63,
    "start_time": "2022-10-31T22:15:35.250Z"
   },
   {
    "duration": 93,
    "start_time": "2022-10-31T22:15:35.314Z"
   },
   {
    "duration": 747,
    "start_time": "2022-10-31T22:15:35.408Z"
   },
   {
    "duration": 10,
    "start_time": "2022-10-31T22:15:36.157Z"
   },
   {
    "duration": 14,
    "start_time": "2022-10-31T22:15:36.169Z"
   },
   {
    "duration": 48730,
    "start_time": "2022-10-31T22:15:36.185Z"
   },
   {
    "duration": 10,
    "start_time": "2022-10-31T22:16:24.917Z"
   },
   {
    "duration": 13,
    "start_time": "2022-10-31T22:16:24.928Z"
   },
   {
    "duration": 379,
    "start_time": "2022-10-31T22:16:24.942Z"
   },
   {
    "duration": 17,
    "start_time": "2022-10-31T22:16:25.322Z"
   },
   {
    "duration": 108,
    "start_time": "2022-10-31T22:16:25.406Z"
   },
   {
    "duration": 331,
    "start_time": "2022-10-31T22:16:25.516Z"
   },
   {
    "duration": 188,
    "start_time": "2022-10-31T22:16:25.848Z"
   },
   {
    "duration": 149,
    "start_time": "2022-10-31T22:16:26.037Z"
   },
   {
    "duration": 4,
    "start_time": "2022-10-31T22:16:26.187Z"
   },
   {
    "duration": 210,
    "start_time": "2022-10-31T22:16:48.962Z"
   },
   {
    "duration": 42,
    "start_time": "2022-11-01T08:02:33.919Z"
   },
   {
    "duration": 1517,
    "start_time": "2022-11-01T08:02:44.891Z"
   },
   {
    "duration": 237,
    "start_time": "2022-11-01T08:02:46.411Z"
   },
   {
    "duration": 61,
    "start_time": "2022-11-01T08:02:46.650Z"
   },
   {
    "duration": 16,
    "start_time": "2022-11-01T08:02:46.714Z"
   },
   {
    "duration": 91,
    "start_time": "2022-11-01T08:02:46.732Z"
   },
   {
    "duration": 294,
    "start_time": "2022-11-01T08:02:46.825Z"
   },
   {
    "duration": 4,
    "start_time": "2022-11-01T08:02:47.121Z"
   },
   {
    "duration": 68,
    "start_time": "2022-11-01T08:02:47.126Z"
   },
   {
    "duration": 6,
    "start_time": "2022-11-01T08:02:47.196Z"
   },
   {
    "duration": 7,
    "start_time": "2022-11-01T08:02:47.206Z"
   },
   {
    "duration": 7,
    "start_time": "2022-11-01T08:02:47.214Z"
   },
   {
    "duration": 8,
    "start_time": "2022-11-01T08:02:47.223Z"
   },
   {
    "duration": 18,
    "start_time": "2022-11-01T08:02:47.291Z"
   },
   {
    "duration": 8,
    "start_time": "2022-11-01T08:02:47.310Z"
   },
   {
    "duration": 7,
    "start_time": "2022-11-01T08:02:47.320Z"
   },
   {
    "duration": 64,
    "start_time": "2022-11-01T08:02:47.328Z"
   },
   {
    "duration": 24,
    "start_time": "2022-11-01T08:02:47.394Z"
   },
   {
    "duration": 71,
    "start_time": "2022-11-01T08:02:47.420Z"
   },
   {
    "duration": 4,
    "start_time": "2022-11-01T08:02:47.493Z"
   },
   {
    "duration": 12,
    "start_time": "2022-11-01T08:02:47.499Z"
   },
   {
    "duration": 79,
    "start_time": "2022-11-01T08:02:47.512Z"
   },
   {
    "duration": 418,
    "start_time": "2022-11-01T08:02:47.593Z"
   },
   {
    "duration": 16,
    "start_time": "2022-11-01T08:02:48.092Z"
   },
   {
    "duration": 5635,
    "start_time": "2022-11-01T08:02:48.110Z"
   },
   {
    "duration": 4,
    "start_time": "2022-11-01T08:02:53.747Z"
   },
   {
    "duration": 40,
    "start_time": "2022-11-01T08:02:53.752Z"
   },
   {
    "duration": 310,
    "start_time": "2022-11-01T08:02:53.793Z"
   },
   {
    "duration": 10,
    "start_time": "2022-11-01T08:02:54.107Z"
   },
   {
    "duration": 13,
    "start_time": "2022-11-01T08:02:54.119Z"
   },
   {
    "duration": 4,
    "start_time": "2022-11-01T08:02:54.134Z"
   },
   {
    "duration": 83190,
    "start_time": "2022-11-01T08:02:54.140Z"
   },
   {
    "duration": 13,
    "start_time": "2022-11-01T08:04:17.332Z"
   },
   {
    "duration": 13,
    "start_time": "2022-11-01T08:04:17.347Z"
   },
   {
    "duration": 130,
    "start_time": "2022-11-01T08:04:17.362Z"
   },
   {
    "duration": 104,
    "start_time": "2022-11-01T08:04:17.494Z"
   },
   {
    "duration": 1450,
    "start_time": "2022-11-01T08:04:17.600Z"
   },
   {
    "duration": 10,
    "start_time": "2022-11-01T08:04:19.052Z"
   },
   {
    "duration": 14,
    "start_time": "2022-11-01T08:04:19.063Z"
   },
   {
    "duration": 85172,
    "start_time": "2022-11-01T08:04:19.090Z"
   },
   {
    "duration": 12,
    "start_time": "2022-11-01T08:05:44.264Z"
   },
   {
    "duration": 23,
    "start_time": "2022-11-01T08:05:44.277Z"
   },
   {
    "duration": 12,
    "start_time": "2022-11-01T08:05:44.302Z"
   },
   {
    "duration": 4,
    "start_time": "2022-11-01T08:05:44.316Z"
   },
   {
    "duration": 5,
    "start_time": "2022-11-01T08:05:44.322Z"
   },
   {
    "duration": 70,
    "start_time": "2022-11-01T08:05:44.329Z"
   },
   {
    "duration": 14,
    "start_time": "2022-11-01T08:05:44.490Z"
   },
   {
    "duration": 1826,
    "start_time": "2022-11-01T08:05:44.506Z"
   },
   {
    "duration": 10,
    "start_time": "2022-11-01T08:05:46.334Z"
   },
   {
    "duration": 13,
    "start_time": "2022-11-01T08:05:46.345Z"
   },
   {
    "duration": 116627,
    "start_time": "2022-11-01T08:05:46.360Z"
   },
   {
    "duration": 13,
    "start_time": "2022-11-01T08:07:42.992Z"
   },
   {
    "duration": 18,
    "start_time": "2022-11-01T08:07:43.007Z"
   },
   {
    "duration": 20,
    "start_time": "2022-11-01T08:07:43.027Z"
   },
   {
    "duration": 4,
    "start_time": "2022-11-01T08:07:43.049Z"
   },
   {
    "duration": 5,
    "start_time": "2022-11-01T08:07:43.055Z"
   },
   {
    "duration": 100,
    "start_time": "2022-11-01T08:07:43.092Z"
   },
   {
    "duration": 103,
    "start_time": "2022-11-01T08:07:43.193Z"
   },
   {
    "duration": 886,
    "start_time": "2022-11-01T08:07:43.298Z"
   },
   {
    "duration": 14,
    "start_time": "2022-11-01T08:07:44.186Z"
   },
   {
    "duration": 13,
    "start_time": "2022-11-01T08:07:44.202Z"
   },
   {
    "duration": 55363,
    "start_time": "2022-11-01T08:07:44.217Z"
   },
   {
    "duration": 20,
    "start_time": "2022-11-01T08:08:39.581Z"
   },
   {
    "duration": 26,
    "start_time": "2022-11-01T08:08:39.603Z"
   },
   {
    "duration": 264,
    "start_time": "2022-11-01T08:08:39.631Z"
   },
   {
    "duration": 22,
    "start_time": "2022-11-01T08:08:39.897Z"
   },
   {
    "duration": 111,
    "start_time": "2022-11-01T08:08:39.991Z"
   },
   {
    "duration": 388,
    "start_time": "2022-11-01T08:08:40.103Z"
   },
   {
    "duration": 210,
    "start_time": "2022-11-01T08:08:40.493Z"
   },
   {
    "duration": 172,
    "start_time": "2022-11-01T08:08:40.704Z"
   },
   {
    "duration": 4,
    "start_time": "2022-11-01T08:08:40.878Z"
   },
   {
    "duration": 1417,
    "start_time": "2022-11-01T15:25:10.727Z"
   },
   {
    "duration": 41,
    "start_time": "2022-11-01T15:25:12.146Z"
   },
   {
    "duration": 17,
    "start_time": "2022-11-01T15:25:12.189Z"
   },
   {
    "duration": 13,
    "start_time": "2022-11-01T15:25:12.208Z"
   },
   {
    "duration": 69,
    "start_time": "2022-11-01T15:25:12.223Z"
   },
   {
    "duration": 154,
    "start_time": "2022-11-01T15:25:12.293Z"
   },
   {
    "duration": 4,
    "start_time": "2022-11-01T15:25:12.449Z"
   },
   {
    "duration": 52,
    "start_time": "2022-11-01T15:25:12.454Z"
   },
   {
    "duration": 9,
    "start_time": "2022-11-01T15:25:12.508Z"
   },
   {
    "duration": 8,
    "start_time": "2022-11-01T15:25:12.519Z"
   },
   {
    "duration": 7,
    "start_time": "2022-11-01T15:25:12.528Z"
   },
   {
    "duration": 7,
    "start_time": "2022-11-01T15:25:12.537Z"
   },
   {
    "duration": 46,
    "start_time": "2022-11-01T15:25:12.546Z"
   },
   {
    "duration": 9,
    "start_time": "2022-11-01T15:25:12.594Z"
   },
   {
    "duration": 7,
    "start_time": "2022-11-01T15:25:12.605Z"
   },
   {
    "duration": 8,
    "start_time": "2022-11-01T15:25:12.613Z"
   },
   {
    "duration": 19,
    "start_time": "2022-11-01T15:25:12.623Z"
   },
   {
    "duration": 55,
    "start_time": "2022-11-01T15:25:12.644Z"
   },
   {
    "duration": 5,
    "start_time": "2022-11-01T15:25:12.701Z"
   },
   {
    "duration": 26,
    "start_time": "2022-11-01T15:25:12.708Z"
   },
   {
    "duration": 31,
    "start_time": "2022-11-01T15:25:12.736Z"
   },
   {
    "duration": 326,
    "start_time": "2022-11-01T15:25:12.769Z"
   },
   {
    "duration": 100,
    "start_time": "2022-11-01T15:25:13.097Z"
   },
   {
    "duration": 5647,
    "start_time": "2022-11-01T15:25:13.199Z"
   },
   {
    "duration": 4,
    "start_time": "2022-11-01T15:25:18.847Z"
   },
   {
    "duration": 40,
    "start_time": "2022-11-01T15:25:18.853Z"
   },
   {
    "duration": 314,
    "start_time": "2022-11-01T15:25:18.894Z"
   },
   {
    "duration": 11,
    "start_time": "2022-11-01T15:25:19.211Z"
   },
   {
    "duration": 14,
    "start_time": "2022-11-01T15:25:19.223Z"
   },
   {
    "duration": 6,
    "start_time": "2022-11-01T15:25:19.238Z"
   },
   {
    "duration": 84240,
    "start_time": "2022-11-01T15:25:19.245Z"
   },
   {
    "duration": 14,
    "start_time": "2022-11-01T15:26:43.487Z"
   },
   {
    "duration": 13,
    "start_time": "2022-11-01T15:26:43.502Z"
   },
   {
    "duration": 176,
    "start_time": "2022-11-01T15:26:43.516Z"
   },
   {
    "duration": 13,
    "start_time": "2022-11-01T15:26:43.693Z"
   },
   {
    "duration": 1496,
    "start_time": "2022-11-01T15:26:43.707Z"
   },
   {
    "duration": 11,
    "start_time": "2022-11-01T15:26:45.204Z"
   },
   {
    "duration": 24,
    "start_time": "2022-11-01T15:26:45.217Z"
   },
   {
    "duration": 83534,
    "start_time": "2022-11-01T15:26:45.243Z"
   },
   {
    "duration": 19,
    "start_time": "2022-11-01T15:28:08.779Z"
   },
   {
    "duration": 12,
    "start_time": "2022-11-01T15:28:08.799Z"
   },
   {
    "duration": 14,
    "start_time": "2022-11-01T15:28:08.812Z"
   },
   {
    "duration": 4,
    "start_time": "2022-11-01T15:28:08.827Z"
   },
   {
    "duration": 6,
    "start_time": "2022-11-01T15:28:08.832Z"
   },
   {
    "duration": 153,
    "start_time": "2022-11-01T15:28:08.839Z"
   },
   {
    "duration": 102,
    "start_time": "2022-11-01T15:28:08.994Z"
   },
   {
    "duration": 1850,
    "start_time": "2022-11-01T15:28:09.098Z"
   },
   {
    "duration": 11,
    "start_time": "2022-11-01T15:28:10.949Z"
   },
   {
    "duration": 31,
    "start_time": "2022-11-01T15:28:10.961Z"
   },
   {
    "duration": 114349,
    "start_time": "2022-11-01T15:28:10.994Z"
   },
   {
    "duration": 11,
    "start_time": "2022-11-01T15:30:05.345Z"
   },
   {
    "duration": 14,
    "start_time": "2022-11-01T15:30:05.358Z"
   },
   {
    "duration": 25,
    "start_time": "2022-11-01T15:30:05.374Z"
   },
   {
    "duration": 3,
    "start_time": "2022-11-01T15:30:05.401Z"
   },
   {
    "duration": 5,
    "start_time": "2022-11-01T15:30:05.406Z"
   },
   {
    "duration": 86,
    "start_time": "2022-11-01T15:30:05.413Z"
   },
   {
    "duration": 101,
    "start_time": "2022-11-01T15:30:05.501Z"
   },
   {
    "duration": 846,
    "start_time": "2022-11-01T15:30:05.604Z"
   },
   {
    "duration": 14,
    "start_time": "2022-11-01T15:30:06.452Z"
   },
   {
    "duration": 33,
    "start_time": "2022-11-01T15:30:06.468Z"
   },
   {
    "duration": 54896,
    "start_time": "2022-11-01T15:30:06.503Z"
   },
   {
    "duration": 15,
    "start_time": "2022-11-01T15:31:01.400Z"
   },
   {
    "duration": 13,
    "start_time": "2022-11-01T15:31:01.416Z"
   },
   {
    "duration": 269,
    "start_time": "2022-11-01T15:31:01.431Z"
   },
   {
    "duration": 92,
    "start_time": "2022-11-01T15:31:01.702Z"
   },
   {
    "duration": 110,
    "start_time": "2022-11-01T15:31:01.796Z"
   },
   {
    "duration": 396,
    "start_time": "2022-11-01T15:31:01.908Z"
   },
   {
    "duration": 229,
    "start_time": "2022-11-01T15:31:02.306Z"
   },
   {
    "duration": 195,
    "start_time": "2022-11-01T15:31:02.537Z"
   },
   {
    "duration": 4,
    "start_time": "2022-11-01T15:31:02.734Z"
   },
   {
    "duration": 392,
    "start_time": "2022-11-01T15:43:15.170Z"
   },
   {
    "duration": 19,
    "start_time": "2022-11-01T15:43:23.541Z"
   },
   {
    "duration": 26,
    "start_time": "2022-11-01T15:43:24.854Z"
   },
   {
    "duration": 374,
    "start_time": "2022-11-01T15:43:28.641Z"
   },
   {
    "duration": 218,
    "start_time": "2022-11-01T15:43:31.863Z"
   },
   {
    "duration": 1376,
    "start_time": "2022-11-01T19:54:51.999Z"
   },
   {
    "duration": 42,
    "start_time": "2022-11-01T19:54:53.377Z"
   },
   {
    "duration": 18,
    "start_time": "2022-11-01T19:54:53.420Z"
   },
   {
    "duration": 13,
    "start_time": "2022-11-01T19:54:53.440Z"
   },
   {
    "duration": 60,
    "start_time": "2022-11-01T19:54:53.454Z"
   },
   {
    "duration": 136,
    "start_time": "2022-11-01T19:54:53.516Z"
   },
   {
    "duration": 4,
    "start_time": "2022-11-01T19:54:53.653Z"
   },
   {
    "duration": 24,
    "start_time": "2022-11-01T19:54:53.659Z"
   },
   {
    "duration": 6,
    "start_time": "2022-11-01T19:54:53.691Z"
   },
   {
    "duration": 7,
    "start_time": "2022-11-01T19:54:53.700Z"
   },
   {
    "duration": 9,
    "start_time": "2022-11-01T19:54:53.709Z"
   },
   {
    "duration": 14,
    "start_time": "2022-11-01T19:54:53.720Z"
   },
   {
    "duration": 7,
    "start_time": "2022-11-01T19:54:53.737Z"
   },
   {
    "duration": 5,
    "start_time": "2022-11-01T19:54:53.746Z"
   },
   {
    "duration": 6,
    "start_time": "2022-11-01T19:54:53.791Z"
   },
   {
    "duration": 20,
    "start_time": "2022-11-01T19:54:53.799Z"
   },
   {
    "duration": 13,
    "start_time": "2022-11-01T19:54:53.821Z"
   },
   {
    "duration": 4,
    "start_time": "2022-11-01T19:54:53.836Z"
   },
   {
    "duration": 13,
    "start_time": "2022-11-01T19:54:53.841Z"
   },
   {
    "duration": 56,
    "start_time": "2022-11-01T19:54:53.856Z"
   },
   {
    "duration": 283,
    "start_time": "2022-11-01T19:54:53.914Z"
   },
   {
    "duration": 100,
    "start_time": "2022-11-01T19:54:54.199Z"
   },
   {
    "duration": 6328,
    "start_time": "2022-11-01T19:54:54.300Z"
   },
   {
    "duration": 4,
    "start_time": "2022-11-01T19:55:00.630Z"
   },
   {
    "duration": 39,
    "start_time": "2022-11-01T19:55:00.636Z"
   },
   {
    "duration": 356,
    "start_time": "2022-11-01T19:55:00.677Z"
   },
   {
    "duration": 11,
    "start_time": "2022-11-01T19:55:01.035Z"
   },
   {
    "duration": 17,
    "start_time": "2022-11-01T19:55:01.052Z"
   },
   {
    "duration": 15,
    "start_time": "2022-11-01T19:55:01.071Z"
   },
   {
    "duration": 82149,
    "start_time": "2022-11-01T19:55:01.091Z"
   },
   {
    "duration": 12,
    "start_time": "2022-11-01T19:56:23.242Z"
   },
   {
    "duration": 12,
    "start_time": "2022-11-01T19:56:23.256Z"
   },
   {
    "duration": 123,
    "start_time": "2022-11-01T19:56:23.269Z"
   },
   {
    "duration": 98,
    "start_time": "2022-11-01T19:56:23.394Z"
   },
   {
    "duration": 1451,
    "start_time": "2022-11-01T19:56:23.494Z"
   },
   {
    "duration": 10,
    "start_time": "2022-11-01T19:56:24.947Z"
   },
   {
    "duration": 14,
    "start_time": "2022-11-01T19:56:24.959Z"
   },
   {
    "duration": 81507,
    "start_time": "2022-11-01T19:56:24.975Z"
   },
   {
    "duration": 17,
    "start_time": "2022-11-01T19:57:46.483Z"
   },
   {
    "duration": 13,
    "start_time": "2022-11-01T19:57:46.502Z"
   },
   {
    "duration": 15,
    "start_time": "2022-11-01T19:57:46.517Z"
   },
   {
    "duration": 12,
    "start_time": "2022-11-01T19:57:46.534Z"
   },
   {
    "duration": 6,
    "start_time": "2022-11-01T19:57:46.548Z"
   },
   {
    "duration": 140,
    "start_time": "2022-11-01T19:57:46.555Z"
   },
   {
    "duration": 104,
    "start_time": "2022-11-01T19:57:46.697Z"
   },
   {
    "duration": 1877,
    "start_time": "2022-11-01T19:57:46.803Z"
   },
   {
    "duration": 14,
    "start_time": "2022-11-01T19:57:48.682Z"
   },
   {
    "duration": 15,
    "start_time": "2022-11-01T19:57:48.698Z"
   },
   {
    "duration": 109391,
    "start_time": "2022-11-01T19:57:48.714Z"
   },
   {
    "duration": 13,
    "start_time": "2022-11-01T19:59:38.107Z"
   },
   {
    "duration": 18,
    "start_time": "2022-11-01T19:59:38.122Z"
   },
   {
    "duration": 13,
    "start_time": "2022-11-01T19:59:38.142Z"
   },
   {
    "duration": 4,
    "start_time": "2022-11-01T19:59:38.157Z"
   },
   {
    "duration": 30,
    "start_time": "2022-11-01T19:59:38.163Z"
   },
   {
    "duration": 101,
    "start_time": "2022-11-01T19:59:38.195Z"
   },
   {
    "duration": 100,
    "start_time": "2022-11-01T19:59:38.298Z"
   },
   {
    "duration": 800,
    "start_time": "2022-11-01T19:59:38.400Z"
   },
   {
    "duration": 9,
    "start_time": "2022-11-01T19:59:39.201Z"
   },
   {
    "duration": 13,
    "start_time": "2022-11-01T19:59:39.212Z"
   },
   {
    "duration": 53030,
    "start_time": "2022-11-01T19:59:39.226Z"
   },
   {
    "duration": 19,
    "start_time": "2022-11-01T20:00:32.258Z"
   },
   {
    "duration": 21,
    "start_time": "2022-11-01T20:00:32.290Z"
   },
   {
    "duration": 469,
    "start_time": "2022-11-01T20:00:32.313Z"
   },
   {
    "duration": 23,
    "start_time": "2022-11-01T20:00:32.785Z"
   },
   {
    "duration": 184,
    "start_time": "2022-11-01T20:00:32.810Z"
   },
   {
    "duration": 380,
    "start_time": "2022-11-01T20:00:32.996Z"
   },
   {
    "duration": 216,
    "start_time": "2022-11-01T20:00:33.377Z"
   },
   {
    "duration": 174,
    "start_time": "2022-11-01T20:00:33.594Z"
   },
   {
    "duration": 3,
    "start_time": "2022-11-01T20:00:33.770Z"
   },
   {
    "duration": 244,
    "start_time": "2022-11-01T20:07:41.946Z"
   },
   {
    "duration": 211,
    "start_time": "2022-11-01T20:07:46.984Z"
   },
   {
    "duration": 12,
    "start_time": "2022-11-01T20:07:57.643Z"
   },
   {
    "duration": 58,
    "start_time": "2022-11-01T20:31:49.338Z"
   },
   {
    "duration": 8,
    "start_time": "2022-11-01T20:37:59.142Z"
   },
   {
    "duration": 249,
    "start_time": "2022-11-01T20:55:33.690Z"
   },
   {
    "duration": 23,
    "start_time": "2022-11-01T20:59:45.280Z"
   },
   {
    "duration": 29,
    "start_time": "2022-11-01T21:00:39.079Z"
   },
   {
    "duration": 240,
    "start_time": "2022-11-01T21:00:58.556Z"
   },
   {
    "duration": 360,
    "start_time": "2022-11-01T21:01:11.026Z"
   },
   {
    "duration": 219,
    "start_time": "2022-11-01T21:01:15.778Z"
   },
   {
    "duration": 214,
    "start_time": "2022-11-01T21:01:45.545Z"
   },
   {
    "duration": 194,
    "start_time": "2022-11-01T21:02:07.619Z"
   },
   {
    "duration": 32,
    "start_time": "2022-11-01T21:06:05.060Z"
   },
   {
    "duration": 25,
    "start_time": "2022-11-01T21:06:27.023Z"
   },
   {
    "duration": 206,
    "start_time": "2022-11-01T21:06:51.978Z"
   },
   {
    "duration": 181,
    "start_time": "2022-11-01T21:06:56.145Z"
   },
   {
    "duration": 96,
    "start_time": "2022-11-01T21:08:56.210Z"
   },
   {
    "duration": 1278,
    "start_time": "2022-11-01T21:27:44.036Z"
   },
   {
    "duration": 40,
    "start_time": "2022-11-01T21:27:45.316Z"
   },
   {
    "duration": 15,
    "start_time": "2022-11-01T21:27:45.358Z"
   },
   {
    "duration": 12,
    "start_time": "2022-11-01T21:27:45.375Z"
   },
   {
    "duration": 38,
    "start_time": "2022-11-01T21:27:45.390Z"
   },
   {
    "duration": 141,
    "start_time": "2022-11-01T21:27:45.430Z"
   },
   {
    "duration": 5,
    "start_time": "2022-11-01T21:27:45.573Z"
   },
   {
    "duration": 17,
    "start_time": "2022-11-01T21:27:45.591Z"
   },
   {
    "duration": 7,
    "start_time": "2022-11-01T21:27:45.610Z"
   },
   {
    "duration": 6,
    "start_time": "2022-11-01T21:27:45.619Z"
   },
   {
    "duration": 10,
    "start_time": "2022-11-01T21:27:45.627Z"
   },
   {
    "duration": 14,
    "start_time": "2022-11-01T21:27:45.639Z"
   },
   {
    "duration": 38,
    "start_time": "2022-11-01T21:27:45.654Z"
   },
   {
    "duration": 6,
    "start_time": "2022-11-01T21:27:45.694Z"
   },
   {
    "duration": 8,
    "start_time": "2022-11-01T21:27:45.701Z"
   },
   {
    "duration": 22,
    "start_time": "2022-11-01T21:27:45.710Z"
   },
   {
    "duration": 15,
    "start_time": "2022-11-01T21:27:45.733Z"
   },
   {
    "duration": 4,
    "start_time": "2022-11-01T21:27:45.750Z"
   },
   {
    "duration": 40,
    "start_time": "2022-11-01T21:27:45.756Z"
   },
   {
    "duration": 29,
    "start_time": "2022-11-01T21:27:45.797Z"
   },
   {
    "duration": 364,
    "start_time": "2022-11-01T21:27:45.828Z"
   },
   {
    "duration": 98,
    "start_time": "2022-11-01T21:27:46.194Z"
   },
   {
    "duration": 5057,
    "start_time": "2022-11-01T21:27:46.294Z"
   },
   {
    "duration": 4,
    "start_time": "2022-11-01T21:27:51.353Z"
   },
   {
    "duration": 21,
    "start_time": "2022-11-01T21:27:51.358Z"
   },
   {
    "duration": 281,
    "start_time": "2022-11-01T21:27:51.391Z"
   },
   {
    "duration": 9,
    "start_time": "2022-11-01T21:27:51.673Z"
   },
   {
    "duration": 11,
    "start_time": "2022-11-01T21:27:51.690Z"
   },
   {
    "duration": 2,
    "start_time": "2022-11-01T21:27:51.702Z"
   },
   {
    "duration": 78146,
    "start_time": "2022-11-01T21:27:51.705Z"
   },
   {
    "duration": 10,
    "start_time": "2022-11-01T21:29:09.853Z"
   },
   {
    "duration": 16,
    "start_time": "2022-11-01T21:29:09.864Z"
   },
   {
    "duration": 101,
    "start_time": "2022-11-01T21:29:09.891Z"
   },
   {
    "duration": 99,
    "start_time": "2022-11-01T21:29:09.993Z"
   },
   {
    "duration": 1316,
    "start_time": "2022-11-01T21:29:10.094Z"
   },
   {
    "duration": 10,
    "start_time": "2022-11-01T21:29:11.412Z"
   },
   {
    "duration": 10,
    "start_time": "2022-11-01T21:29:11.424Z"
   },
   {
    "duration": 77811,
    "start_time": "2022-11-01T21:29:11.436Z"
   },
   {
    "duration": 10,
    "start_time": "2022-11-01T21:30:29.249Z"
   },
   {
    "duration": 12,
    "start_time": "2022-11-01T21:30:29.260Z"
   },
   {
    "duration": 12,
    "start_time": "2022-11-01T21:30:29.290Z"
   },
   {
    "duration": 3,
    "start_time": "2022-11-01T21:30:29.303Z"
   },
   {
    "duration": 4,
    "start_time": "2022-11-01T21:30:29.308Z"
   },
   {
    "duration": 86,
    "start_time": "2022-11-01T21:30:29.313Z"
   },
   {
    "duration": 96,
    "start_time": "2022-11-01T21:30:29.401Z"
   },
   {
    "duration": 1760,
    "start_time": "2022-11-01T21:30:29.499Z"
   },
   {
    "duration": 9,
    "start_time": "2022-11-01T21:30:31.261Z"
   },
   {
    "duration": 21,
    "start_time": "2022-11-01T21:30:31.271Z"
   },
   {
    "duration": 106151,
    "start_time": "2022-11-01T21:30:31.293Z"
   },
   {
    "duration": 9,
    "start_time": "2022-11-01T21:32:17.446Z"
   },
   {
    "duration": 14,
    "start_time": "2022-11-01T21:32:17.456Z"
   },
   {
    "duration": 22,
    "start_time": "2022-11-01T21:32:17.471Z"
   },
   {
    "duration": 4,
    "start_time": "2022-11-01T21:32:17.495Z"
   },
   {
    "duration": 4,
    "start_time": "2022-11-01T21:32:17.500Z"
   },
   {
    "duration": 88,
    "start_time": "2022-11-01T21:32:17.506Z"
   },
   {
    "duration": 97,
    "start_time": "2022-11-01T21:32:17.595Z"
   },
   {
    "duration": 751,
    "start_time": "2022-11-01T21:32:17.693Z"
   },
   {
    "duration": 9,
    "start_time": "2022-11-01T21:32:18.446Z"
   },
   {
    "duration": 12,
    "start_time": "2022-11-01T21:32:18.456Z"
   },
   {
    "duration": 50674,
    "start_time": "2022-11-01T21:32:18.470Z"
   },
   {
    "duration": 9,
    "start_time": "2022-11-01T21:33:09.146Z"
   },
   {
    "duration": 15,
    "start_time": "2022-11-01T21:33:09.157Z"
   },
   {
    "duration": 234,
    "start_time": "2022-11-01T21:33:09.174Z"
   },
   {
    "duration": 81,
    "start_time": "2022-11-01T21:33:09.410Z"
   },
   {
    "duration": 113,
    "start_time": "2022-11-01T21:33:09.493Z"
   },
   {
    "duration": 223,
    "start_time": "2022-11-01T21:33:09.608Z"
   },
   {
    "duration": 203,
    "start_time": "2022-11-01T21:33:09.833Z"
   },
   {
    "duration": 167,
    "start_time": "2022-11-01T21:33:10.037Z"
   },
   {
    "duration": 4,
    "start_time": "2022-11-01T21:33:10.206Z"
   },
   {
    "duration": 14,
    "start_time": "2022-11-01T21:36:43.682Z"
   },
   {
    "duration": 162,
    "start_time": "2022-11-01T21:47:49.473Z"
   },
   {
    "duration": 148,
    "start_time": "2022-11-01T21:48:06.726Z"
   },
   {
    "duration": 127,
    "start_time": "2022-11-02T07:15:44.384Z"
   },
   {
    "duration": 1711,
    "start_time": "2022-11-02T07:15:51.521Z"
   },
   {
    "duration": 84,
    "start_time": "2022-11-02T07:15:53.234Z"
   },
   {
    "duration": 27,
    "start_time": "2022-11-02T07:15:53.321Z"
   },
   {
    "duration": 20,
    "start_time": "2022-11-02T07:15:53.351Z"
   },
   {
    "duration": 74,
    "start_time": "2022-11-02T07:15:53.373Z"
   },
   {
    "duration": 149,
    "start_time": "2022-11-02T07:15:53.449Z"
   },
   {
    "duration": 5,
    "start_time": "2022-11-02T07:15:53.599Z"
   },
   {
    "duration": 37,
    "start_time": "2022-11-02T07:15:53.606Z"
   },
   {
    "duration": 30,
    "start_time": "2022-11-02T07:15:53.645Z"
   },
   {
    "duration": 19,
    "start_time": "2022-11-02T07:15:53.678Z"
   },
   {
    "duration": 41,
    "start_time": "2022-11-02T07:15:53.699Z"
   },
   {
    "duration": 48,
    "start_time": "2022-11-02T07:15:53.744Z"
   },
   {
    "duration": 15,
    "start_time": "2022-11-02T07:15:53.794Z"
   },
   {
    "duration": 35,
    "start_time": "2022-11-02T07:15:53.811Z"
   },
   {
    "duration": 20,
    "start_time": "2022-11-02T07:15:53.848Z"
   },
   {
    "duration": 49,
    "start_time": "2022-11-02T07:15:53.870Z"
   },
   {
    "duration": 33,
    "start_time": "2022-11-02T07:15:53.921Z"
   },
   {
    "duration": 9,
    "start_time": "2022-11-02T07:15:53.956Z"
   },
   {
    "duration": 27,
    "start_time": "2022-11-02T07:15:53.967Z"
   },
   {
    "duration": 66,
    "start_time": "2022-11-02T07:15:53.996Z"
   },
   {
    "duration": 1381,
    "start_time": "2022-11-02T07:15:54.064Z"
   },
   {
    "duration": 100,
    "start_time": "2022-11-02T07:15:55.521Z"
   },
   {
    "duration": 10783,
    "start_time": "2022-11-02T07:15:55.623Z"
   },
   {
    "duration": 5,
    "start_time": "2022-11-02T07:16:06.408Z"
   },
   {
    "duration": 50,
    "start_time": "2022-11-02T07:16:06.422Z"
   },
   {
    "duration": 333,
    "start_time": "2022-11-02T07:16:06.474Z"
   },
   {
    "duration": 12,
    "start_time": "2022-11-02T07:16:06.809Z"
   },
   {
    "duration": 14,
    "start_time": "2022-11-02T07:16:06.826Z"
   },
   {
    "duration": 5,
    "start_time": "2022-11-02T07:16:06.842Z"
   },
   {
    "duration": 92235,
    "start_time": "2022-11-02T07:16:06.848Z"
   },
   {
    "duration": 13,
    "start_time": "2022-11-02T07:17:39.085Z"
   },
   {
    "duration": 36,
    "start_time": "2022-11-02T07:17:39.100Z"
   },
   {
    "duration": 187,
    "start_time": "2022-11-02T07:17:39.138Z"
   },
   {
    "duration": 18,
    "start_time": "2022-11-02T07:17:39.327Z"
   },
   {
    "duration": 1643,
    "start_time": "2022-11-02T07:17:39.347Z"
   },
   {
    "duration": 9,
    "start_time": "2022-11-02T07:17:40.992Z"
   },
   {
    "duration": 33,
    "start_time": "2022-11-02T07:17:41.003Z"
   },
   {
    "duration": 91599,
    "start_time": "2022-11-02T07:17:41.038Z"
   },
   {
    "duration": 18,
    "start_time": "2022-11-02T07:19:12.639Z"
   },
   {
    "duration": 14,
    "start_time": "2022-11-02T07:19:12.659Z"
   },
   {
    "duration": 15,
    "start_time": "2022-11-02T07:19:12.676Z"
   },
   {
    "duration": 30,
    "start_time": "2022-11-02T07:19:12.693Z"
   },
   {
    "duration": 25,
    "start_time": "2022-11-02T07:19:12.727Z"
   },
   {
    "duration": 74,
    "start_time": "2022-11-02T07:19:12.754Z"
   },
   {
    "duration": 97,
    "start_time": "2022-11-02T07:19:12.830Z"
   },
   {
    "duration": 1979,
    "start_time": "2022-11-02T07:19:12.932Z"
   },
   {
    "duration": 16,
    "start_time": "2022-11-02T07:19:14.913Z"
   },
   {
    "duration": 17,
    "start_time": "2022-11-02T07:19:14.933Z"
   },
   {
    "duration": 126002,
    "start_time": "2022-11-02T07:19:14.951Z"
   },
   {
    "duration": 11,
    "start_time": "2022-11-02T07:21:20.955Z"
   },
   {
    "duration": 13,
    "start_time": "2022-11-02T07:21:20.968Z"
   },
   {
    "duration": 16,
    "start_time": "2022-11-02T07:21:20.983Z"
   },
   {
    "duration": 22,
    "start_time": "2022-11-02T07:21:21.001Z"
   },
   {
    "duration": 17,
    "start_time": "2022-11-02T07:21:21.025Z"
   },
   {
    "duration": 92,
    "start_time": "2022-11-02T07:21:21.044Z"
   },
   {
    "duration": 95,
    "start_time": "2022-11-02T07:21:21.138Z"
   },
   {
    "duration": 894,
    "start_time": "2022-11-02T07:21:21.235Z"
   },
   {
    "duration": 12,
    "start_time": "2022-11-02T07:21:22.131Z"
   },
   {
    "duration": 17,
    "start_time": "2022-11-02T07:21:22.145Z"
   },
   {
    "duration": 59504,
    "start_time": "2022-11-02T07:21:22.163Z"
   },
   {
    "duration": 14,
    "start_time": "2022-11-02T07:22:21.669Z"
   },
   {
    "duration": 43,
    "start_time": "2022-11-02T07:22:21.685Z"
   },
   {
    "duration": 278,
    "start_time": "2022-11-02T07:22:21.730Z"
   },
   {
    "duration": 41,
    "start_time": "2022-11-02T07:22:22.010Z"
   },
   {
    "duration": 142,
    "start_time": "2022-11-02T07:22:22.121Z"
   },
   {
    "duration": 276,
    "start_time": "2022-11-02T07:22:22.266Z"
   },
   {
    "duration": 260,
    "start_time": "2022-11-02T07:22:22.544Z"
   },
   {
    "duration": 193,
    "start_time": "2022-11-02T07:22:22.805Z"
   },
   {
    "duration": 5,
    "start_time": "2022-11-02T07:22:22.999Z"
   },
   {
    "duration": 109,
    "start_time": "2022-11-02T07:51:48.850Z"
   },
   {
    "duration": 47,
    "start_time": "2022-11-02T07:53:15.727Z"
   },
   {
    "duration": 38,
    "start_time": "2022-11-02T07:53:34.426Z"
   },
   {
    "duration": 70,
    "start_time": "2022-11-02T07:53:39.160Z"
   }
  ],
  "kernelspec": {
   "display_name": "Python 3 (ipykernel)",
   "language": "python",
   "name": "python3"
  },
  "language_info": {
   "codemirror_mode": {
    "name": "ipython",
    "version": 3
   },
   "file_extension": ".py",
   "mimetype": "text/x-python",
   "name": "python",
   "nbconvert_exporter": "python",
   "pygments_lexer": "ipython3",
   "version": "3.11.4"
  },
  "toc": {
   "base_numbering": 1,
   "nav_menu": {},
   "number_sections": true,
   "sideBar": true,
   "skip_h1_title": true,
   "title_cell": "Содержание",
   "title_sidebar": "Contents",
   "toc_cell": true,
   "toc_position": {
    "height": "calc(100% - 180px)",
    "left": "10px",
    "top": "150px",
    "width": "361px"
   },
   "toc_section_display": true,
   "toc_window_display": true
  }
 },
 "nbformat": 4,
 "nbformat_minor": 2
}
