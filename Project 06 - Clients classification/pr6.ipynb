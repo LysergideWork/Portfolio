{
 "cells": [
  {
   "cell_type": "markdown",
   "metadata": {},
   "source": [
    "# Рекомендация тарифов"
   ]
  },
  {
   "cell_type": "markdown",
   "metadata": {},
   "source": [
    "В вашем распоряжении данные о поведении клиентов, которые уже перешли на эти тарифы (из проекта курса «Статистический анализ данных»). Нужно построить модель для задачи классификации, которая выберет подходящий тариф. Предобработка данных не понадобится — вы её уже сделали.\n",
    "\n",
    "Постройте модель с максимально большим значением *accuracy*. Чтобы сдать проект успешно, нужно довести долю правильных ответов по крайней мере до 0.75. Проверьте *accuracy* на тестовой выборке самостоятельно."
   ]
  },
  {
   "cell_type": "markdown",
   "metadata": {},
   "source": [
    "## Откройте и изучите файл"
   ]
  },
  {
   "cell_type": "markdown",
   "metadata": {},
   "source": [
    "Импортируем библиотеки"
   ]
  },
  {
   "cell_type": "code",
   "execution_count": 1,
   "metadata": {},
   "outputs": [],
   "source": [
    "import pandas as pd\n",
    "import numpy as np\n",
    "from sklearn.tree import DecisionTreeClassifier\n",
    "from sklearn.ensemble import RandomForestClassifier\n",
    "from sklearn.linear_model import LogisticRegression\n",
    "from sklearn.model_selection import train_test_split\n",
    "from sklearn.metrics import accuracy_score\n",
    "from sklearn.dummy import DummyClassifier\n",
    "from sklearn.model_selection import GridSearchCV"
   ]
  },
  {
   "cell_type": "markdown",
   "metadata": {},
   "source": [
    "Открываем файл"
   ]
  },
  {
   "cell_type": "code",
   "execution_count": 2,
   "metadata": {},
   "outputs": [],
   "source": [
    "try:\n",
    "    df = pd.read_csv('/datasets/users_behavior.csv')\n",
    "except:\n",
    "    df = pd.read_csv('https://code.s3.yandex.net/datasets/users_behavior.csv')"
   ]
  },
  {
   "cell_type": "markdown",
   "metadata": {},
   "source": [
    "Изучаем файл"
   ]
  },
  {
   "cell_type": "code",
   "execution_count": 3,
   "metadata": {},
   "outputs": [
    {
     "data": {
      "text/html": [
       "<div>\n",
       "<style scoped>\n",
       "    .dataframe tbody tr th:only-of-type {\n",
       "        vertical-align: middle;\n",
       "    }\n",
       "\n",
       "    .dataframe tbody tr th {\n",
       "        vertical-align: top;\n",
       "    }\n",
       "\n",
       "    .dataframe thead th {\n",
       "        text-align: right;\n",
       "    }\n",
       "</style>\n",
       "<table border=\"1\" class=\"dataframe\">\n",
       "  <thead>\n",
       "    <tr style=\"text-align: right;\">\n",
       "      <th></th>\n",
       "      <th>calls</th>\n",
       "      <th>minutes</th>\n",
       "      <th>messages</th>\n",
       "      <th>mb_used</th>\n",
       "      <th>is_ultra</th>\n",
       "    </tr>\n",
       "  </thead>\n",
       "  <tbody>\n",
       "    <tr>\n",
       "      <th>0</th>\n",
       "      <td>40.0</td>\n",
       "      <td>311.90</td>\n",
       "      <td>83.0</td>\n",
       "      <td>19915.42</td>\n",
       "      <td>0</td>\n",
       "    </tr>\n",
       "    <tr>\n",
       "      <th>1</th>\n",
       "      <td>85.0</td>\n",
       "      <td>516.75</td>\n",
       "      <td>56.0</td>\n",
       "      <td>22696.96</td>\n",
       "      <td>0</td>\n",
       "    </tr>\n",
       "    <tr>\n",
       "      <th>2</th>\n",
       "      <td>77.0</td>\n",
       "      <td>467.66</td>\n",
       "      <td>86.0</td>\n",
       "      <td>21060.45</td>\n",
       "      <td>0</td>\n",
       "    </tr>\n",
       "    <tr>\n",
       "      <th>3</th>\n",
       "      <td>106.0</td>\n",
       "      <td>745.53</td>\n",
       "      <td>81.0</td>\n",
       "      <td>8437.39</td>\n",
       "      <td>1</td>\n",
       "    </tr>\n",
       "    <tr>\n",
       "      <th>4</th>\n",
       "      <td>66.0</td>\n",
       "      <td>418.74</td>\n",
       "      <td>1.0</td>\n",
       "      <td>14502.75</td>\n",
       "      <td>0</td>\n",
       "    </tr>\n",
       "    <tr>\n",
       "      <th>5</th>\n",
       "      <td>58.0</td>\n",
       "      <td>344.56</td>\n",
       "      <td>21.0</td>\n",
       "      <td>15823.37</td>\n",
       "      <td>0</td>\n",
       "    </tr>\n",
       "    <tr>\n",
       "      <th>6</th>\n",
       "      <td>57.0</td>\n",
       "      <td>431.64</td>\n",
       "      <td>20.0</td>\n",
       "      <td>3738.90</td>\n",
       "      <td>1</td>\n",
       "    </tr>\n",
       "    <tr>\n",
       "      <th>7</th>\n",
       "      <td>15.0</td>\n",
       "      <td>132.40</td>\n",
       "      <td>6.0</td>\n",
       "      <td>21911.60</td>\n",
       "      <td>0</td>\n",
       "    </tr>\n",
       "    <tr>\n",
       "      <th>8</th>\n",
       "      <td>7.0</td>\n",
       "      <td>43.39</td>\n",
       "      <td>3.0</td>\n",
       "      <td>2538.67</td>\n",
       "      <td>1</td>\n",
       "    </tr>\n",
       "    <tr>\n",
       "      <th>9</th>\n",
       "      <td>90.0</td>\n",
       "      <td>665.41</td>\n",
       "      <td>38.0</td>\n",
       "      <td>17358.61</td>\n",
       "      <td>0</td>\n",
       "    </tr>\n",
       "  </tbody>\n",
       "</table>\n",
       "</div>"
      ],
      "text/plain": [
       "   calls  minutes  messages   mb_used  is_ultra\n",
       "0   40.0   311.90      83.0  19915.42         0\n",
       "1   85.0   516.75      56.0  22696.96         0\n",
       "2   77.0   467.66      86.0  21060.45         0\n",
       "3  106.0   745.53      81.0   8437.39         1\n",
       "4   66.0   418.74       1.0  14502.75         0\n",
       "5   58.0   344.56      21.0  15823.37         0\n",
       "6   57.0   431.64      20.0   3738.90         1\n",
       "7   15.0   132.40       6.0  21911.60         0\n",
       "8    7.0    43.39       3.0   2538.67         1\n",
       "9   90.0   665.41      38.0  17358.61         0"
      ]
     },
     "execution_count": 3,
     "metadata": {},
     "output_type": "execute_result"
    }
   ],
   "source": [
    "df.head(10)"
   ]
  },
  {
   "cell_type": "code",
   "execution_count": 4,
   "metadata": {},
   "outputs": [
    {
     "name": "stdout",
     "output_type": "stream",
     "text": [
      "<class 'pandas.core.frame.DataFrame'>\n",
      "RangeIndex: 3214 entries, 0 to 3213\n",
      "Data columns (total 5 columns):\n",
      " #   Column    Non-Null Count  Dtype  \n",
      "---  ------    --------------  -----  \n",
      " 0   calls     3214 non-null   float64\n",
      " 1   minutes   3214 non-null   float64\n",
      " 2   messages  3214 non-null   float64\n",
      " 3   mb_used   3214 non-null   float64\n",
      " 4   is_ultra  3214 non-null   int64  \n",
      "dtypes: float64(4), int64(1)\n",
      "memory usage: 125.7 KB\n"
     ]
    }
   ],
   "source": [
    "df.info()"
   ]
  },
  {
   "cell_type": "code",
   "execution_count": 5,
   "metadata": {},
   "outputs": [
    {
     "data": {
      "text/html": [
       "<div>\n",
       "<style scoped>\n",
       "    .dataframe tbody tr th:only-of-type {\n",
       "        vertical-align: middle;\n",
       "    }\n",
       "\n",
       "    .dataframe tbody tr th {\n",
       "        vertical-align: top;\n",
       "    }\n",
       "\n",
       "    .dataframe thead th {\n",
       "        text-align: right;\n",
       "    }\n",
       "</style>\n",
       "<table border=\"1\" class=\"dataframe\">\n",
       "  <thead>\n",
       "    <tr style=\"text-align: right;\">\n",
       "      <th></th>\n",
       "      <th>calls</th>\n",
       "      <th>minutes</th>\n",
       "      <th>messages</th>\n",
       "      <th>mb_used</th>\n",
       "      <th>is_ultra</th>\n",
       "    </tr>\n",
       "  </thead>\n",
       "  <tbody>\n",
       "    <tr>\n",
       "      <th>count</th>\n",
       "      <td>3214.000000</td>\n",
       "      <td>3214.000000</td>\n",
       "      <td>3214.000000</td>\n",
       "      <td>3214.000000</td>\n",
       "      <td>3214.000000</td>\n",
       "    </tr>\n",
       "    <tr>\n",
       "      <th>mean</th>\n",
       "      <td>63.038892</td>\n",
       "      <td>438.208787</td>\n",
       "      <td>38.281269</td>\n",
       "      <td>17207.673836</td>\n",
       "      <td>0.306472</td>\n",
       "    </tr>\n",
       "    <tr>\n",
       "      <th>std</th>\n",
       "      <td>33.236368</td>\n",
       "      <td>234.569872</td>\n",
       "      <td>36.148326</td>\n",
       "      <td>7570.968246</td>\n",
       "      <td>0.461100</td>\n",
       "    </tr>\n",
       "    <tr>\n",
       "      <th>min</th>\n",
       "      <td>0.000000</td>\n",
       "      <td>0.000000</td>\n",
       "      <td>0.000000</td>\n",
       "      <td>0.000000</td>\n",
       "      <td>0.000000</td>\n",
       "    </tr>\n",
       "    <tr>\n",
       "      <th>25%</th>\n",
       "      <td>40.000000</td>\n",
       "      <td>274.575000</td>\n",
       "      <td>9.000000</td>\n",
       "      <td>12491.902500</td>\n",
       "      <td>0.000000</td>\n",
       "    </tr>\n",
       "    <tr>\n",
       "      <th>50%</th>\n",
       "      <td>62.000000</td>\n",
       "      <td>430.600000</td>\n",
       "      <td>30.000000</td>\n",
       "      <td>16943.235000</td>\n",
       "      <td>0.000000</td>\n",
       "    </tr>\n",
       "    <tr>\n",
       "      <th>75%</th>\n",
       "      <td>82.000000</td>\n",
       "      <td>571.927500</td>\n",
       "      <td>57.000000</td>\n",
       "      <td>21424.700000</td>\n",
       "      <td>1.000000</td>\n",
       "    </tr>\n",
       "    <tr>\n",
       "      <th>max</th>\n",
       "      <td>244.000000</td>\n",
       "      <td>1632.060000</td>\n",
       "      <td>224.000000</td>\n",
       "      <td>49745.730000</td>\n",
       "      <td>1.000000</td>\n",
       "    </tr>\n",
       "  </tbody>\n",
       "</table>\n",
       "</div>"
      ],
      "text/plain": [
       "             calls      minutes     messages       mb_used     is_ultra\n",
       "count  3214.000000  3214.000000  3214.000000   3214.000000  3214.000000\n",
       "mean     63.038892   438.208787    38.281269  17207.673836     0.306472\n",
       "std      33.236368   234.569872    36.148326   7570.968246     0.461100\n",
       "min       0.000000     0.000000     0.000000      0.000000     0.000000\n",
       "25%      40.000000   274.575000     9.000000  12491.902500     0.000000\n",
       "50%      62.000000   430.600000    30.000000  16943.235000     0.000000\n",
       "75%      82.000000   571.927500    57.000000  21424.700000     1.000000\n",
       "max     244.000000  1632.060000   224.000000  49745.730000     1.000000"
      ]
     },
     "execution_count": 5,
     "metadata": {},
     "output_type": "execute_result"
    }
   ],
   "source": [
    "df.describe()"
   ]
  },
  {
   "cell_type": "code",
   "execution_count": 6,
   "metadata": {},
   "outputs": [
    {
     "data": {
      "text/plain": [
       "0    0.693528\n",
       "1    0.306472\n",
       "Name: is_ultra, dtype: float64"
      ]
     },
     "execution_count": 6,
     "metadata": {},
     "output_type": "execute_result"
    }
   ],
   "source": [
    "df['is_ultra'].value_counts(normalize=True)"
   ]
  },
  {
   "cell_type": "markdown",
   "metadata": {},
   "source": [
    "### Вывод"
   ]
  },
  {
   "cell_type": "markdown",
   "metadata": {},
   "source": [
    "Мы видим таблицу (3214 х 5). Данные предобработаны. Мы только изменили тип данных в столбцах calls и messages на int64. Каждый объект в наборе данных - это информация о поведении одного пользователя за месяц.<br><br>\n",
    "Известно, что:\n",
    " - сalls — количество звонков,\n",
    " - minutes — суммарная длительность звонков в минутах,\n",
    " - messages — количество sms-сообщений,\n",
    " - mb_used — израсходованный интернет-трафик в Мб,\n",
    " - is_ultra — каким тарифом пользовался в течение месяца («Ультра» — 1, «Смарт» — 0)."
   ]
  },
  {
   "cell_type": "markdown",
   "metadata": {},
   "source": [
    "Соотношение пользователей тарифов: «Ультра» — 30%, «Смарт» — 70%. Это говорит о том, что у нас в целевом признаке присутствует дисбаланс, то есть наша модель будет предвзята в сторону тарифа «Смарт». Предполагаю, что дисбаланс недостаточно ярковыраженн, чтобы была необходимость с ним бороться."
   ]
  },
  {
   "cell_type": "markdown",
   "metadata": {},
   "source": [
    "## Разбиваем данные на выборки"
   ]
  },
  {
   "cell_type": "markdown",
   "metadata": {},
   "source": [
    "Разбиваем датафрейм на 3 выборки: обучающую - 60% (df_trn), валидационную - 20% (df_vld) и тестовую - 20% (df_tst)"
   ]
  },
  {
   "cell_type": "code",
   "execution_count": 7,
   "metadata": {},
   "outputs": [],
   "source": [
    "df_trn, df_vld, df_tst = np.split(df.sample(frac=1, random_state=12345), [int(.6*len(df)), int(.8*len(df))])"
   ]
  },
  {
   "cell_type": "markdown",
   "metadata": {},
   "source": [
    "Проверяем результат"
   ]
  },
  {
   "cell_type": "code",
   "execution_count": 8,
   "metadata": {},
   "outputs": [
    {
     "data": {
      "text/plain": [
       "(1928, 5)"
      ]
     },
     "execution_count": 8,
     "metadata": {},
     "output_type": "execute_result"
    }
   ],
   "source": [
    "df_trn.shape"
   ]
  },
  {
   "cell_type": "code",
   "execution_count": 9,
   "metadata": {},
   "outputs": [
    {
     "data": {
      "text/plain": [
       "(643, 5)"
      ]
     },
     "execution_count": 9,
     "metadata": {},
     "output_type": "execute_result"
    }
   ],
   "source": [
    "df_vld.shape"
   ]
  },
  {
   "cell_type": "code",
   "execution_count": 10,
   "metadata": {},
   "outputs": [
    {
     "data": {
      "text/plain": [
       "(643, 5)"
      ]
     },
     "execution_count": 10,
     "metadata": {},
     "output_type": "execute_result"
    }
   ],
   "source": [
    "df_tst.shape"
   ]
  },
  {
   "cell_type": "markdown",
   "metadata": {},
   "source": [
    "## Исследуем модели"
   ]
  },
  {
   "cell_type": "markdown",
   "metadata": {},
   "source": [
    "## Исследуйте модели"
   ]
  },
  {
   "cell_type": "markdown",
   "metadata": {},
   "source": [
    "### Формируем признаки и целевой признак"
   ]
  },
  {
   "cell_type": "markdown",
   "metadata": {},
   "source": [
    "Формируем признаки и целевой признак на базе обучающей выборки (df_trn)"
   ]
  },
  {
   "cell_type": "code",
   "execution_count": 11,
   "metadata": {},
   "outputs": [],
   "source": [
    "features_trn = df_trn.drop(['is_ultra'], axis=1)\n",
    "target_trn = df_trn['is_ultra']"
   ]
  },
  {
   "cell_type": "markdown",
   "metadata": {},
   "source": [
    "Формируем признаки и целевой признак на базе валидационной выборки (df_vld)"
   ]
  },
  {
   "cell_type": "code",
   "execution_count": 12,
   "metadata": {},
   "outputs": [],
   "source": [
    "features_vld = df_vld.drop(['is_ultra'], axis=1)\n",
    "target_vld = df_vld['is_ultra']"
   ]
  },
  {
   "cell_type": "markdown",
   "metadata": {},
   "source": [
    "Формируем признаки и целевой признак на базе тестовой выборки (df_tst)"
   ]
  },
  {
   "cell_type": "code",
   "execution_count": 13,
   "metadata": {},
   "outputs": [],
   "source": [
    "features_tst = df_tst.drop(['is_ultra'], axis=1)\n",
    "target_tst = df_tst['is_ultra']"
   ]
  },
  {
   "cell_type": "markdown",
   "metadata": {},
   "source": [
    "### Модель Логическая регрессия"
   ]
  },
  {
   "cell_type": "code",
   "execution_count": 14,
   "metadata": {},
   "outputs": [],
   "source": [
    "# Инициализируем модель\n",
    "model_LR = LogisticRegression()\n",
    "\n",
    "# Обучаем модель\n",
    "model_LR.fit(features_trn, target_trn)\n",
    "\n",
    "# Cчитаем предсказания и точность полученной классификации\n",
    "predict_LR_tst = model_LR.predict(features_tst)\n",
    "predict_LR_vld = model_LR.predict(features_vld)"
   ]
  },
  {
   "cell_type": "markdown",
   "metadata": {},
   "source": [
    "Создадим датафрейм model, в который будем добавлять результаты каждой модели, чтобы потом выбрать лучшие"
   ]
  },
  {
   "cell_type": "code",
   "execution_count": 15,
   "metadata": {},
   "outputs": [
    {
     "data": {
      "text/html": [
       "<div>\n",
       "<style scoped>\n",
       "    .dataframe tbody tr th:only-of-type {\n",
       "        vertical-align: middle;\n",
       "    }\n",
       "\n",
       "    .dataframe tbody tr th {\n",
       "        vertical-align: top;\n",
       "    }\n",
       "\n",
       "    .dataframe thead th {\n",
       "        text-align: right;\n",
       "    }\n",
       "</style>\n",
       "<table border=\"1\" class=\"dataframe\">\n",
       "  <thead>\n",
       "    <tr style=\"text-align: right;\">\n",
       "      <th></th>\n",
       "      <th>name</th>\n",
       "      <th>model_var</th>\n",
       "      <th>test_accuracy</th>\n",
       "      <th>validate_accuracy</th>\n",
       "    </tr>\n",
       "  </thead>\n",
       "  <tbody>\n",
       "    <tr>\n",
       "      <th>0</th>\n",
       "      <td>Логическая Регрессия</td>\n",
       "      <td>NaN</td>\n",
       "      <td>0.738725</td>\n",
       "      <td>0.713841</td>\n",
       "    </tr>\n",
       "  </tbody>\n",
       "</table>\n",
       "</div>"
      ],
      "text/plain": [
       "                   name  model_var  test_accuracy  validate_accuracy\n",
       "0  Логическая Регрессия        NaN       0.738725           0.713841"
      ]
     },
     "execution_count": 15,
     "metadata": {},
     "output_type": "execute_result"
    }
   ],
   "source": [
    "model_data = {\n",
    "    'name':['Логическая Регрессия'],\n",
    "    'model_var':np.nan,\n",
    "    'test_accuracy':[accuracy_score(predict_LR_tst,target_tst)],\n",
    "    'validate_accuracy':[accuracy_score(predict_LR_vld,target_vld)]}\n",
    "model = pd.DataFrame(model_data)\n",
    "model"
   ]
  },
  {
   "cell_type": "markdown",
   "metadata": {},
   "source": [
    "Точность модели Логическая регрессия - 0.714"
   ]
  },
  {
   "cell_type": "code",
   "execution_count": 16,
   "metadata": {},
   "outputs": [],
   "source": [
    "top_models = model"
   ]
  },
  {
   "cell_type": "markdown",
   "metadata": {},
   "source": [
    "### Модель Дерево решений"
   ]
  },
  {
   "cell_type": "code",
   "execution_count": 17,
   "metadata": {},
   "outputs": [
    {
     "name": "stderr",
     "output_type": "stream",
     "text": [
      "C:\\Users\\lyser\\AppData\\Local\\Temp\\ipykernel_34316\\60141266.py:21: FutureWarning: The frame.append method is deprecated and will be removed from pandas in a future version. Use pandas.concat instead.\n",
      "  model = model.append(model_data, ignore_index=True)\n",
      "C:\\Users\\lyser\\AppData\\Local\\Temp\\ipykernel_34316\\60141266.py:21: FutureWarning: The frame.append method is deprecated and will be removed from pandas in a future version. Use pandas.concat instead.\n",
      "  model = model.append(model_data, ignore_index=True)\n",
      "C:\\Users\\lyser\\AppData\\Local\\Temp\\ipykernel_34316\\60141266.py:21: FutureWarning: The frame.append method is deprecated and will be removed from pandas in a future version. Use pandas.concat instead.\n",
      "  model = model.append(model_data, ignore_index=True)\n",
      "C:\\Users\\lyser\\AppData\\Local\\Temp\\ipykernel_34316\\60141266.py:21: FutureWarning: The frame.append method is deprecated and will be removed from pandas in a future version. Use pandas.concat instead.\n",
      "  model = model.append(model_data, ignore_index=True)\n",
      "C:\\Users\\lyser\\AppData\\Local\\Temp\\ipykernel_34316\\60141266.py:21: FutureWarning: The frame.append method is deprecated and will be removed from pandas in a future version. Use pandas.concat instead.\n",
      "  model = model.append(model_data, ignore_index=True)\n",
      "C:\\Users\\lyser\\AppData\\Local\\Temp\\ipykernel_34316\\60141266.py:21: FutureWarning: The frame.append method is deprecated and will be removed from pandas in a future version. Use pandas.concat instead.\n",
      "  model = model.append(model_data, ignore_index=True)\n",
      "C:\\Users\\lyser\\AppData\\Local\\Temp\\ipykernel_34316\\60141266.py:21: FutureWarning: The frame.append method is deprecated and will be removed from pandas in a future version. Use pandas.concat instead.\n",
      "  model = model.append(model_data, ignore_index=True)\n",
      "C:\\Users\\lyser\\AppData\\Local\\Temp\\ipykernel_34316\\60141266.py:21: FutureWarning: The frame.append method is deprecated and will be removed from pandas in a future version. Use pandas.concat instead.\n",
      "  model = model.append(model_data, ignore_index=True)\n",
      "C:\\Users\\lyser\\AppData\\Local\\Temp\\ipykernel_34316\\60141266.py:21: FutureWarning: The frame.append method is deprecated and will be removed from pandas in a future version. Use pandas.concat instead.\n",
      "  model = model.append(model_data, ignore_index=True)\n",
      "C:\\Users\\lyser\\AppData\\Local\\Temp\\ipykernel_34316\\60141266.py:21: FutureWarning: The frame.append method is deprecated and will be removed from pandas in a future version. Use pandas.concat instead.\n",
      "  model = model.append(model_data, ignore_index=True)\n",
      "C:\\Users\\lyser\\AppData\\Local\\Temp\\ipykernel_34316\\60141266.py:21: FutureWarning: The frame.append method is deprecated and will be removed from pandas in a future version. Use pandas.concat instead.\n",
      "  model = model.append(model_data, ignore_index=True)\n",
      "C:\\Users\\lyser\\AppData\\Local\\Temp\\ipykernel_34316\\60141266.py:21: FutureWarning: The frame.append method is deprecated and will be removed from pandas in a future version. Use pandas.concat instead.\n",
      "  model = model.append(model_data, ignore_index=True)\n",
      "C:\\Users\\lyser\\AppData\\Local\\Temp\\ipykernel_34316\\60141266.py:21: FutureWarning: The frame.append method is deprecated and will be removed from pandas in a future version. Use pandas.concat instead.\n",
      "  model = model.append(model_data, ignore_index=True)\n",
      "C:\\Users\\lyser\\AppData\\Local\\Temp\\ipykernel_34316\\60141266.py:21: FutureWarning: The frame.append method is deprecated and will be removed from pandas in a future version. Use pandas.concat instead.\n",
      "  model = model.append(model_data, ignore_index=True)\n",
      "C:\\Users\\lyser\\AppData\\Local\\Temp\\ipykernel_34316\\60141266.py:21: FutureWarning: The frame.append method is deprecated and will be removed from pandas in a future version. Use pandas.concat instead.\n",
      "  model = model.append(model_data, ignore_index=True)\n",
      "C:\\Users\\lyser\\AppData\\Local\\Temp\\ipykernel_34316\\60141266.py:21: FutureWarning: The frame.append method is deprecated and will be removed from pandas in a future version. Use pandas.concat instead.\n",
      "  model = model.append(model_data, ignore_index=True)\n",
      "C:\\Users\\lyser\\AppData\\Local\\Temp\\ipykernel_34316\\60141266.py:21: FutureWarning: The frame.append method is deprecated and will be removed from pandas in a future version. Use pandas.concat instead.\n",
      "  model = model.append(model_data, ignore_index=True)\n",
      "C:\\Users\\lyser\\AppData\\Local\\Temp\\ipykernel_34316\\60141266.py:21: FutureWarning: The frame.append method is deprecated and will be removed from pandas in a future version. Use pandas.concat instead.\n",
      "  model = model.append(model_data, ignore_index=True)\n",
      "C:\\Users\\lyser\\AppData\\Local\\Temp\\ipykernel_34316\\60141266.py:21: FutureWarning: The frame.append method is deprecated and will be removed from pandas in a future version. Use pandas.concat instead.\n",
      "  model = model.append(model_data, ignore_index=True)\n",
      "C:\\Users\\lyser\\AppData\\Local\\Temp\\ipykernel_34316\\60141266.py:21: FutureWarning: The frame.append method is deprecated and will be removed from pandas in a future version. Use pandas.concat instead.\n",
      "  model = model.append(model_data, ignore_index=True)\n",
      "C:\\Users\\lyser\\AppData\\Local\\Temp\\ipykernel_34316\\60141266.py:21: FutureWarning: The frame.append method is deprecated and will be removed from pandas in a future version. Use pandas.concat instead.\n",
      "  model = model.append(model_data, ignore_index=True)\n",
      "C:\\Users\\lyser\\AppData\\Local\\Temp\\ipykernel_34316\\60141266.py:21: FutureWarning: The frame.append method is deprecated and will be removed from pandas in a future version. Use pandas.concat instead.\n",
      "  model = model.append(model_data, ignore_index=True)\n",
      "C:\\Users\\lyser\\AppData\\Local\\Temp\\ipykernel_34316\\60141266.py:21: FutureWarning: The frame.append method is deprecated and will be removed from pandas in a future version. Use pandas.concat instead.\n",
      "  model = model.append(model_data, ignore_index=True)\n",
      "C:\\Users\\lyser\\AppData\\Local\\Temp\\ipykernel_34316\\60141266.py:21: FutureWarning: The frame.append method is deprecated and will be removed from pandas in a future version. Use pandas.concat instead.\n",
      "  model = model.append(model_data, ignore_index=True)\n",
      "C:\\Users\\lyser\\AppData\\Local\\Temp\\ipykernel_34316\\60141266.py:21: FutureWarning: The frame.append method is deprecated and will be removed from pandas in a future version. Use pandas.concat instead.\n",
      "  model = model.append(model_data, ignore_index=True)\n",
      "C:\\Users\\lyser\\AppData\\Local\\Temp\\ipykernel_34316\\60141266.py:21: FutureWarning: The frame.append method is deprecated and will be removed from pandas in a future version. Use pandas.concat instead.\n",
      "  model = model.append(model_data, ignore_index=True)\n",
      "C:\\Users\\lyser\\AppData\\Local\\Temp\\ipykernel_34316\\60141266.py:21: FutureWarning: The frame.append method is deprecated and will be removed from pandas in a future version. Use pandas.concat instead.\n",
      "  model = model.append(model_data, ignore_index=True)\n",
      "C:\\Users\\lyser\\AppData\\Local\\Temp\\ipykernel_34316\\60141266.py:21: FutureWarning: The frame.append method is deprecated and will be removed from pandas in a future version. Use pandas.concat instead.\n",
      "  model = model.append(model_data, ignore_index=True)\n",
      "C:\\Users\\lyser\\AppData\\Local\\Temp\\ipykernel_34316\\60141266.py:21: FutureWarning: The frame.append method is deprecated and will be removed from pandas in a future version. Use pandas.concat instead.\n",
      "  model = model.append(model_data, ignore_index=True)\n",
      "C:\\Users\\lyser\\AppData\\Local\\Temp\\ipykernel_34316\\60141266.py:21: FutureWarning: The frame.append method is deprecated and will be removed from pandas in a future version. Use pandas.concat instead.\n",
      "  model = model.append(model_data, ignore_index=True)\n",
      "C:\\Users\\lyser\\AppData\\Local\\Temp\\ipykernel_34316\\60141266.py:21: FutureWarning: The frame.append method is deprecated and will be removed from pandas in a future version. Use pandas.concat instead.\n",
      "  model = model.append(model_data, ignore_index=True)\n",
      "C:\\Users\\lyser\\AppData\\Local\\Temp\\ipykernel_34316\\60141266.py:21: FutureWarning: The frame.append method is deprecated and will be removed from pandas in a future version. Use pandas.concat instead.\n",
      "  model = model.append(model_data, ignore_index=True)\n",
      "C:\\Users\\lyser\\AppData\\Local\\Temp\\ipykernel_34316\\60141266.py:21: FutureWarning: The frame.append method is deprecated and will be removed from pandas in a future version. Use pandas.concat instead.\n",
      "  model = model.append(model_data, ignore_index=True)\n",
      "C:\\Users\\lyser\\AppData\\Local\\Temp\\ipykernel_34316\\60141266.py:21: FutureWarning: The frame.append method is deprecated and will be removed from pandas in a future version. Use pandas.concat instead.\n",
      "  model = model.append(model_data, ignore_index=True)\n",
      "C:\\Users\\lyser\\AppData\\Local\\Temp\\ipykernel_34316\\60141266.py:21: FutureWarning: The frame.append method is deprecated and will be removed from pandas in a future version. Use pandas.concat instead.\n",
      "  model = model.append(model_data, ignore_index=True)\n",
      "C:\\Users\\lyser\\AppData\\Local\\Temp\\ipykernel_34316\\60141266.py:21: FutureWarning: The frame.append method is deprecated and will be removed from pandas in a future version. Use pandas.concat instead.\n",
      "  model = model.append(model_data, ignore_index=True)\n",
      "C:\\Users\\lyser\\AppData\\Local\\Temp\\ipykernel_34316\\60141266.py:21: FutureWarning: The frame.append method is deprecated and will be removed from pandas in a future version. Use pandas.concat instead.\n",
      "  model = model.append(model_data, ignore_index=True)\n",
      "C:\\Users\\lyser\\AppData\\Local\\Temp\\ipykernel_34316\\60141266.py:21: FutureWarning: The frame.append method is deprecated and will be removed from pandas in a future version. Use pandas.concat instead.\n",
      "  model = model.append(model_data, ignore_index=True)\n",
      "C:\\Users\\lyser\\AppData\\Local\\Temp\\ipykernel_34316\\60141266.py:21: FutureWarning: The frame.append method is deprecated and will be removed from pandas in a future version. Use pandas.concat instead.\n",
      "  model = model.append(model_data, ignore_index=True)\n",
      "C:\\Users\\lyser\\AppData\\Local\\Temp\\ipykernel_34316\\60141266.py:21: FutureWarning: The frame.append method is deprecated and will be removed from pandas in a future version. Use pandas.concat instead.\n",
      "  model = model.append(model_data, ignore_index=True)\n",
      "C:\\Users\\lyser\\AppData\\Local\\Temp\\ipykernel_34316\\60141266.py:21: FutureWarning: The frame.append method is deprecated and will be removed from pandas in a future version. Use pandas.concat instead.\n",
      "  model = model.append(model_data, ignore_index=True)\n",
      "C:\\Users\\lyser\\AppData\\Local\\Temp\\ipykernel_34316\\60141266.py:21: FutureWarning: The frame.append method is deprecated and will be removed from pandas in a future version. Use pandas.concat instead.\n",
      "  model = model.append(model_data, ignore_index=True)\n"
     ]
    },
    {
     "name": "stderr",
     "output_type": "stream",
     "text": [
      "C:\\Users\\lyser\\AppData\\Local\\Temp\\ipykernel_34316\\60141266.py:21: FutureWarning: The frame.append method is deprecated and will be removed from pandas in a future version. Use pandas.concat instead.\n",
      "  model = model.append(model_data, ignore_index=True)\n",
      "C:\\Users\\lyser\\AppData\\Local\\Temp\\ipykernel_34316\\60141266.py:21: FutureWarning: The frame.append method is deprecated and will be removed from pandas in a future version. Use pandas.concat instead.\n",
      "  model = model.append(model_data, ignore_index=True)\n",
      "C:\\Users\\lyser\\AppData\\Local\\Temp\\ipykernel_34316\\60141266.py:21: FutureWarning: The frame.append method is deprecated and will be removed from pandas in a future version. Use pandas.concat instead.\n",
      "  model = model.append(model_data, ignore_index=True)\n",
      "C:\\Users\\lyser\\AppData\\Local\\Temp\\ipykernel_34316\\60141266.py:21: FutureWarning: The frame.append method is deprecated and will be removed from pandas in a future version. Use pandas.concat instead.\n",
      "  model = model.append(model_data, ignore_index=True)\n",
      "C:\\Users\\lyser\\AppData\\Local\\Temp\\ipykernel_34316\\60141266.py:21: FutureWarning: The frame.append method is deprecated and will be removed from pandas in a future version. Use pandas.concat instead.\n",
      "  model = model.append(model_data, ignore_index=True)\n",
      "C:\\Users\\lyser\\AppData\\Local\\Temp\\ipykernel_34316\\60141266.py:21: FutureWarning: The frame.append method is deprecated and will be removed from pandas in a future version. Use pandas.concat instead.\n",
      "  model = model.append(model_data, ignore_index=True)\n",
      "C:\\Users\\lyser\\AppData\\Local\\Temp\\ipykernel_34316\\60141266.py:21: FutureWarning: The frame.append method is deprecated and will be removed from pandas in a future version. Use pandas.concat instead.\n",
      "  model = model.append(model_data, ignore_index=True)\n",
      "C:\\Users\\lyser\\AppData\\Local\\Temp\\ipykernel_34316\\60141266.py:21: FutureWarning: The frame.append method is deprecated and will be removed from pandas in a future version. Use pandas.concat instead.\n",
      "  model = model.append(model_data, ignore_index=True)\n",
      "C:\\Users\\lyser\\AppData\\Local\\Temp\\ipykernel_34316\\60141266.py:21: FutureWarning: The frame.append method is deprecated and will be removed from pandas in a future version. Use pandas.concat instead.\n",
      "  model = model.append(model_data, ignore_index=True)\n",
      "C:\\Users\\lyser\\AppData\\Local\\Temp\\ipykernel_34316\\60141266.py:21: FutureWarning: The frame.append method is deprecated and will be removed from pandas in a future version. Use pandas.concat instead.\n",
      "  model = model.append(model_data, ignore_index=True)\n",
      "C:\\Users\\lyser\\AppData\\Local\\Temp\\ipykernel_34316\\60141266.py:21: FutureWarning: The frame.append method is deprecated and will be removed from pandas in a future version. Use pandas.concat instead.\n",
      "  model = model.append(model_data, ignore_index=True)\n",
      "C:\\Users\\lyser\\AppData\\Local\\Temp\\ipykernel_34316\\60141266.py:21: FutureWarning: The frame.append method is deprecated and will be removed from pandas in a future version. Use pandas.concat instead.\n",
      "  model = model.append(model_data, ignore_index=True)\n",
      "C:\\Users\\lyser\\AppData\\Local\\Temp\\ipykernel_34316\\60141266.py:21: FutureWarning: The frame.append method is deprecated and will be removed from pandas in a future version. Use pandas.concat instead.\n",
      "  model = model.append(model_data, ignore_index=True)\n",
      "C:\\Users\\lyser\\AppData\\Local\\Temp\\ipykernel_34316\\60141266.py:21: FutureWarning: The frame.append method is deprecated and will be removed from pandas in a future version. Use pandas.concat instead.\n",
      "  model = model.append(model_data, ignore_index=True)\n",
      "C:\\Users\\lyser\\AppData\\Local\\Temp\\ipykernel_34316\\60141266.py:21: FutureWarning: The frame.append method is deprecated and will be removed from pandas in a future version. Use pandas.concat instead.\n",
      "  model = model.append(model_data, ignore_index=True)\n",
      "C:\\Users\\lyser\\AppData\\Local\\Temp\\ipykernel_34316\\60141266.py:21: FutureWarning: The frame.append method is deprecated and will be removed from pandas in a future version. Use pandas.concat instead.\n",
      "  model = model.append(model_data, ignore_index=True)\n",
      "C:\\Users\\lyser\\AppData\\Local\\Temp\\ipykernel_34316\\60141266.py:21: FutureWarning: The frame.append method is deprecated and will be removed from pandas in a future version. Use pandas.concat instead.\n",
      "  model = model.append(model_data, ignore_index=True)\n",
      "C:\\Users\\lyser\\AppData\\Local\\Temp\\ipykernel_34316\\60141266.py:21: FutureWarning: The frame.append method is deprecated and will be removed from pandas in a future version. Use pandas.concat instead.\n",
      "  model = model.append(model_data, ignore_index=True)\n",
      "C:\\Users\\lyser\\AppData\\Local\\Temp\\ipykernel_34316\\60141266.py:21: FutureWarning: The frame.append method is deprecated and will be removed from pandas in a future version. Use pandas.concat instead.\n",
      "  model = model.append(model_data, ignore_index=True)\n",
      "C:\\Users\\lyser\\AppData\\Local\\Temp\\ipykernel_34316\\60141266.py:21: FutureWarning: The frame.append method is deprecated and will be removed from pandas in a future version. Use pandas.concat instead.\n",
      "  model = model.append(model_data, ignore_index=True)\n",
      "C:\\Users\\lyser\\AppData\\Local\\Temp\\ipykernel_34316\\60141266.py:21: FutureWarning: The frame.append method is deprecated and will be removed from pandas in a future version. Use pandas.concat instead.\n",
      "  model = model.append(model_data, ignore_index=True)\n",
      "C:\\Users\\lyser\\AppData\\Local\\Temp\\ipykernel_34316\\60141266.py:21: FutureWarning: The frame.append method is deprecated and will be removed from pandas in a future version. Use pandas.concat instead.\n",
      "  model = model.append(model_data, ignore_index=True)\n",
      "C:\\Users\\lyser\\AppData\\Local\\Temp\\ipykernel_34316\\60141266.py:21: FutureWarning: The frame.append method is deprecated and will be removed from pandas in a future version. Use pandas.concat instead.\n",
      "  model = model.append(model_data, ignore_index=True)\n",
      "C:\\Users\\lyser\\AppData\\Local\\Temp\\ipykernel_34316\\60141266.py:21: FutureWarning: The frame.append method is deprecated and will be removed from pandas in a future version. Use pandas.concat instead.\n",
      "  model = model.append(model_data, ignore_index=True)\n",
      "C:\\Users\\lyser\\AppData\\Local\\Temp\\ipykernel_34316\\60141266.py:21: FutureWarning: The frame.append method is deprecated and will be removed from pandas in a future version. Use pandas.concat instead.\n",
      "  model = model.append(model_data, ignore_index=True)\n",
      "C:\\Users\\lyser\\AppData\\Local\\Temp\\ipykernel_34316\\60141266.py:21: FutureWarning: The frame.append method is deprecated and will be removed from pandas in a future version. Use pandas.concat instead.\n",
      "  model = model.append(model_data, ignore_index=True)\n",
      "C:\\Users\\lyser\\AppData\\Local\\Temp\\ipykernel_34316\\60141266.py:21: FutureWarning: The frame.append method is deprecated and will be removed from pandas in a future version. Use pandas.concat instead.\n",
      "  model = model.append(model_data, ignore_index=True)\n",
      "C:\\Users\\lyser\\AppData\\Local\\Temp\\ipykernel_34316\\60141266.py:21: FutureWarning: The frame.append method is deprecated and will be removed from pandas in a future version. Use pandas.concat instead.\n",
      "  model = model.append(model_data, ignore_index=True)\n",
      "C:\\Users\\lyser\\AppData\\Local\\Temp\\ipykernel_34316\\60141266.py:21: FutureWarning: The frame.append method is deprecated and will be removed from pandas in a future version. Use pandas.concat instead.\n",
      "  model = model.append(model_data, ignore_index=True)\n",
      "C:\\Users\\lyser\\AppData\\Local\\Temp\\ipykernel_34316\\60141266.py:21: FutureWarning: The frame.append method is deprecated and will be removed from pandas in a future version. Use pandas.concat instead.\n",
      "  model = model.append(model_data, ignore_index=True)\n",
      "C:\\Users\\lyser\\AppData\\Local\\Temp\\ipykernel_34316\\60141266.py:21: FutureWarning: The frame.append method is deprecated and will be removed from pandas in a future version. Use pandas.concat instead.\n",
      "  model = model.append(model_data, ignore_index=True)\n",
      "C:\\Users\\lyser\\AppData\\Local\\Temp\\ipykernel_34316\\60141266.py:21: FutureWarning: The frame.append method is deprecated and will be removed from pandas in a future version. Use pandas.concat instead.\n",
      "  model = model.append(model_data, ignore_index=True)\n",
      "C:\\Users\\lyser\\AppData\\Local\\Temp\\ipykernel_34316\\60141266.py:21: FutureWarning: The frame.append method is deprecated and will be removed from pandas in a future version. Use pandas.concat instead.\n",
      "  model = model.append(model_data, ignore_index=True)\n",
      "C:\\Users\\lyser\\AppData\\Local\\Temp\\ipykernel_34316\\60141266.py:21: FutureWarning: The frame.append method is deprecated and will be removed from pandas in a future version. Use pandas.concat instead.\n",
      "  model = model.append(model_data, ignore_index=True)\n",
      "C:\\Users\\lyser\\AppData\\Local\\Temp\\ipykernel_34316\\60141266.py:21: FutureWarning: The frame.append method is deprecated and will be removed from pandas in a future version. Use pandas.concat instead.\n",
      "  model = model.append(model_data, ignore_index=True)\n",
      "C:\\Users\\lyser\\AppData\\Local\\Temp\\ipykernel_34316\\60141266.py:21: FutureWarning: The frame.append method is deprecated and will be removed from pandas in a future version. Use pandas.concat instead.\n",
      "  model = model.append(model_data, ignore_index=True)\n",
      "C:\\Users\\lyser\\AppData\\Local\\Temp\\ipykernel_34316\\60141266.py:21: FutureWarning: The frame.append method is deprecated and will be removed from pandas in a future version. Use pandas.concat instead.\n",
      "  model = model.append(model_data, ignore_index=True)\n",
      "C:\\Users\\lyser\\AppData\\Local\\Temp\\ipykernel_34316\\60141266.py:21: FutureWarning: The frame.append method is deprecated and will be removed from pandas in a future version. Use pandas.concat instead.\n",
      "  model = model.append(model_data, ignore_index=True)\n",
      "C:\\Users\\lyser\\AppData\\Local\\Temp\\ipykernel_34316\\60141266.py:21: FutureWarning: The frame.append method is deprecated and will be removed from pandas in a future version. Use pandas.concat instead.\n",
      "  model = model.append(model_data, ignore_index=True)\n"
     ]
    },
    {
     "name": "stderr",
     "output_type": "stream",
     "text": [
      "C:\\Users\\lyser\\AppData\\Local\\Temp\\ipykernel_34316\\60141266.py:21: FutureWarning: The frame.append method is deprecated and will be removed from pandas in a future version. Use pandas.concat instead.\n",
      "  model = model.append(model_data, ignore_index=True)\n",
      "C:\\Users\\lyser\\AppData\\Local\\Temp\\ipykernel_34316\\60141266.py:21: FutureWarning: The frame.append method is deprecated and will be removed from pandas in a future version. Use pandas.concat instead.\n",
      "  model = model.append(model_data, ignore_index=True)\n",
      "C:\\Users\\lyser\\AppData\\Local\\Temp\\ipykernel_34316\\60141266.py:21: FutureWarning: The frame.append method is deprecated and will be removed from pandas in a future version. Use pandas.concat instead.\n",
      "  model = model.append(model_data, ignore_index=True)\n",
      "C:\\Users\\lyser\\AppData\\Local\\Temp\\ipykernel_34316\\60141266.py:21: FutureWarning: The frame.append method is deprecated and will be removed from pandas in a future version. Use pandas.concat instead.\n",
      "  model = model.append(model_data, ignore_index=True)\n",
      "C:\\Users\\lyser\\AppData\\Local\\Temp\\ipykernel_34316\\60141266.py:21: FutureWarning: The frame.append method is deprecated and will be removed from pandas in a future version. Use pandas.concat instead.\n",
      "  model = model.append(model_data, ignore_index=True)\n",
      "C:\\Users\\lyser\\AppData\\Local\\Temp\\ipykernel_34316\\60141266.py:21: FutureWarning: The frame.append method is deprecated and will be removed from pandas in a future version. Use pandas.concat instead.\n",
      "  model = model.append(model_data, ignore_index=True)\n",
      "C:\\Users\\lyser\\AppData\\Local\\Temp\\ipykernel_34316\\60141266.py:21: FutureWarning: The frame.append method is deprecated and will be removed from pandas in a future version. Use pandas.concat instead.\n",
      "  model = model.append(model_data, ignore_index=True)\n",
      "C:\\Users\\lyser\\AppData\\Local\\Temp\\ipykernel_34316\\60141266.py:21: FutureWarning: The frame.append method is deprecated and will be removed from pandas in a future version. Use pandas.concat instead.\n",
      "  model = model.append(model_data, ignore_index=True)\n",
      "C:\\Users\\lyser\\AppData\\Local\\Temp\\ipykernel_34316\\60141266.py:21: FutureWarning: The frame.append method is deprecated and will be removed from pandas in a future version. Use pandas.concat instead.\n",
      "  model = model.append(model_data, ignore_index=True)\n",
      "C:\\Users\\lyser\\AppData\\Local\\Temp\\ipykernel_34316\\60141266.py:21: FutureWarning: The frame.append method is deprecated and will be removed from pandas in a future version. Use pandas.concat instead.\n",
      "  model = model.append(model_data, ignore_index=True)\n",
      "C:\\Users\\lyser\\AppData\\Local\\Temp\\ipykernel_34316\\60141266.py:21: FutureWarning: The frame.append method is deprecated and will be removed from pandas in a future version. Use pandas.concat instead.\n",
      "  model = model.append(model_data, ignore_index=True)\n",
      "C:\\Users\\lyser\\AppData\\Local\\Temp\\ipykernel_34316\\60141266.py:21: FutureWarning: The frame.append method is deprecated and will be removed from pandas in a future version. Use pandas.concat instead.\n",
      "  model = model.append(model_data, ignore_index=True)\n",
      "C:\\Users\\lyser\\AppData\\Local\\Temp\\ipykernel_34316\\60141266.py:21: FutureWarning: The frame.append method is deprecated and will be removed from pandas in a future version. Use pandas.concat instead.\n",
      "  model = model.append(model_data, ignore_index=True)\n",
      "C:\\Users\\lyser\\AppData\\Local\\Temp\\ipykernel_34316\\60141266.py:21: FutureWarning: The frame.append method is deprecated and will be removed from pandas in a future version. Use pandas.concat instead.\n",
      "  model = model.append(model_data, ignore_index=True)\n",
      "C:\\Users\\lyser\\AppData\\Local\\Temp\\ipykernel_34316\\60141266.py:21: FutureWarning: The frame.append method is deprecated and will be removed from pandas in a future version. Use pandas.concat instead.\n",
      "  model = model.append(model_data, ignore_index=True)\n",
      "C:\\Users\\lyser\\AppData\\Local\\Temp\\ipykernel_34316\\60141266.py:21: FutureWarning: The frame.append method is deprecated and will be removed from pandas in a future version. Use pandas.concat instead.\n",
      "  model = model.append(model_data, ignore_index=True)\n",
      "C:\\Users\\lyser\\AppData\\Local\\Temp\\ipykernel_34316\\60141266.py:21: FutureWarning: The frame.append method is deprecated and will be removed from pandas in a future version. Use pandas.concat instead.\n",
      "  model = model.append(model_data, ignore_index=True)\n",
      "C:\\Users\\lyser\\AppData\\Local\\Temp\\ipykernel_34316\\60141266.py:21: FutureWarning: The frame.append method is deprecated and will be removed from pandas in a future version. Use pandas.concat instead.\n",
      "  model = model.append(model_data, ignore_index=True)\n"
     ]
    }
   ],
   "source": [
    "for depth in range(1,100,1):\n",
    "    \n",
    "    # Инициализируем модель\n",
    "    model_DT=DecisionTreeClassifier(random_state=12345, max_depth=depth)\n",
    "    \n",
    "    # Обучаем модель\n",
    "    model_DT.fit(features_trn,target_trn)\n",
    "    \n",
    "    # Cчитаем предсказания и точность полученной классификации\n",
    "    prediction_DT_tst=model_DT.predict(features_tst)\n",
    "    prediction_DT_vld=model_DT.predict(features_vld)\n",
    "    \n",
    "    # Добавляем результаты в датафрейм model\n",
    "    name = 'Дерево Решений'\n",
    "    model_var = 'm_depth: {}'.format(depth)\n",
    "    model_data = {\n",
    "        'name':name,\n",
    "        'model_var':model_var,\n",
    "        'test_accuracy':accuracy_score(prediction_DT_tst,target_tst),\n",
    "        'validate_accuracy':accuracy_score(prediction_DT_vld,target_vld)}\n",
    "    model = model.append(model_data, ignore_index=True)"
   ]
  },
  {
   "cell_type": "markdown",
   "metadata": {},
   "source": [
    "Сортируем датафрейм model и выводим 10 лучших результатов"
   ]
  },
  {
   "cell_type": "code",
   "execution_count": 18,
   "metadata": {},
   "outputs": [
    {
     "data": {
      "text/html": [
       "<div>\n",
       "<style scoped>\n",
       "    .dataframe tbody tr th:only-of-type {\n",
       "        vertical-align: middle;\n",
       "    }\n",
       "\n",
       "    .dataframe tbody tr th {\n",
       "        vertical-align: top;\n",
       "    }\n",
       "\n",
       "    .dataframe thead th {\n",
       "        text-align: right;\n",
       "    }\n",
       "</style>\n",
       "<table border=\"1\" class=\"dataframe\">\n",
       "  <thead>\n",
       "    <tr style=\"text-align: right;\">\n",
       "      <th></th>\n",
       "      <th>name</th>\n",
       "      <th>model_var</th>\n",
       "      <th>test_accuracy</th>\n",
       "      <th>validate_accuracy</th>\n",
       "    </tr>\n",
       "  </thead>\n",
       "  <tbody>\n",
       "    <tr>\n",
       "      <th>10</th>\n",
       "      <td>Дерево Решений</td>\n",
       "      <td>m_depth: 10</td>\n",
       "      <td>0.794712</td>\n",
       "      <td>0.777605</td>\n",
       "    </tr>\n",
       "    <tr>\n",
       "      <th>9</th>\n",
       "      <td>Дерево Решений</td>\n",
       "      <td>m_depth: 9</td>\n",
       "      <td>0.794712</td>\n",
       "      <td>0.776050</td>\n",
       "    </tr>\n",
       "    <tr>\n",
       "      <th>4</th>\n",
       "      <td>Дерево Решений</td>\n",
       "      <td>m_depth: 4</td>\n",
       "      <td>0.790047</td>\n",
       "      <td>0.774495</td>\n",
       "    </tr>\n",
       "    <tr>\n",
       "      <th>5</th>\n",
       "      <td>Дерево Решений</td>\n",
       "      <td>m_depth: 5</td>\n",
       "      <td>0.788491</td>\n",
       "      <td>0.772939</td>\n",
       "    </tr>\n",
       "    <tr>\n",
       "      <th>6</th>\n",
       "      <td>Дерево Решений</td>\n",
       "      <td>m_depth: 6</td>\n",
       "      <td>0.793157</td>\n",
       "      <td>0.769829</td>\n",
       "    </tr>\n",
       "    <tr>\n",
       "      <th>11</th>\n",
       "      <td>Дерево Решений</td>\n",
       "      <td>m_depth: 11</td>\n",
       "      <td>0.783826</td>\n",
       "      <td>0.769829</td>\n",
       "    </tr>\n",
       "    <tr>\n",
       "      <th>12</th>\n",
       "      <td>Дерево Решений</td>\n",
       "      <td>m_depth: 12</td>\n",
       "      <td>0.776050</td>\n",
       "      <td>0.769829</td>\n",
       "    </tr>\n",
       "    <tr>\n",
       "      <th>3</th>\n",
       "      <td>Дерево Решений</td>\n",
       "      <td>m_depth: 3</td>\n",
       "      <td>0.794712</td>\n",
       "      <td>0.766719</td>\n",
       "    </tr>\n",
       "    <tr>\n",
       "      <th>8</th>\n",
       "      <td>Дерево Решений</td>\n",
       "      <td>m_depth: 8</td>\n",
       "      <td>0.783826</td>\n",
       "      <td>0.765163</td>\n",
       "    </tr>\n",
       "    <tr>\n",
       "      <th>13</th>\n",
       "      <td>Дерево Решений</td>\n",
       "      <td>m_depth: 13</td>\n",
       "      <td>0.774495</td>\n",
       "      <td>0.763608</td>\n",
       "    </tr>\n",
       "  </tbody>\n",
       "</table>\n",
       "</div>"
      ],
      "text/plain": [
       "              name    model_var  test_accuracy  validate_accuracy\n",
       "10  Дерево Решений  m_depth: 10       0.794712           0.777605\n",
       "9   Дерево Решений   m_depth: 9       0.794712           0.776050\n",
       "4   Дерево Решений   m_depth: 4       0.790047           0.774495\n",
       "5   Дерево Решений   m_depth: 5       0.788491           0.772939\n",
       "6   Дерево Решений   m_depth: 6       0.793157           0.769829\n",
       "11  Дерево Решений  m_depth: 11       0.783826           0.769829\n",
       "12  Дерево Решений  m_depth: 12       0.776050           0.769829\n",
       "3   Дерево Решений   m_depth: 3       0.794712           0.766719\n",
       "8   Дерево Решений   m_depth: 8       0.783826           0.765163\n",
       "13  Дерево Решений  m_depth: 13       0.774495           0.763608"
      ]
     },
     "execution_count": 18,
     "metadata": {},
     "output_type": "execute_result"
    }
   ],
   "source": [
    "model.sort_values('validate_accuracy',ascending=False).head(10)"
   ]
  },
  {
   "cell_type": "markdown",
   "metadata": {},
   "source": [
    "Лучшая точность (0.778) достигнута у модели Дерево решений, при значении максимальной глубины дерева 10."
   ]
  },
  {
   "cell_type": "code",
   "execution_count": 19,
   "metadata": {},
   "outputs": [
    {
     "data": {
      "text/html": [
       "<div>\n",
       "<style scoped>\n",
       "    .dataframe tbody tr th:only-of-type {\n",
       "        vertical-align: middle;\n",
       "    }\n",
       "\n",
       "    .dataframe tbody tr th {\n",
       "        vertical-align: top;\n",
       "    }\n",
       "\n",
       "    .dataframe thead th {\n",
       "        text-align: right;\n",
       "    }\n",
       "</style>\n",
       "<table border=\"1\" class=\"dataframe\">\n",
       "  <thead>\n",
       "    <tr style=\"text-align: right;\">\n",
       "      <th></th>\n",
       "      <th>name</th>\n",
       "      <th>model_var</th>\n",
       "      <th>test_accuracy</th>\n",
       "      <th>validate_accuracy</th>\n",
       "    </tr>\n",
       "  </thead>\n",
       "  <tbody>\n",
       "    <tr>\n",
       "      <th>0</th>\n",
       "      <td>Логическая Регрессия</td>\n",
       "      <td>NaN</td>\n",
       "      <td>0.738725</td>\n",
       "      <td>0.713841</td>\n",
       "    </tr>\n",
       "    <tr>\n",
       "      <th>10</th>\n",
       "      <td>Дерево Решений</td>\n",
       "      <td>m_depth: 10</td>\n",
       "      <td>0.794712</td>\n",
       "      <td>0.777605</td>\n",
       "    </tr>\n",
       "  </tbody>\n",
       "</table>\n",
       "</div>"
      ],
      "text/plain": [
       "                    name    model_var  test_accuracy  validate_accuracy\n",
       "0   Логическая Регрессия          NaN       0.738725           0.713841\n",
       "10        Дерево Решений  m_depth: 10       0.794712           0.777605"
      ]
     },
     "execution_count": 19,
     "metadata": {},
     "output_type": "execute_result"
    }
   ],
   "source": [
    "temp = [top_models, model.sort_values('validate_accuracy',ascending=False).head(1)]\n",
    "top_models = pd.concat(temp)\n",
    "top_models"
   ]
  },
  {
   "cell_type": "markdown",
   "metadata": {},
   "source": [
    "### Модель Случайный лес"
   ]
  },
  {
   "cell_type": "code",
   "execution_count": 20,
   "metadata": {},
   "outputs": [
    {
     "name": "stderr",
     "output_type": "stream",
     "text": [
      "<timed exec>:22: FutureWarning: The frame.append method is deprecated and will be removed from pandas in a future version. Use pandas.concat instead.\n",
      "<timed exec>:22: FutureWarning: The frame.append method is deprecated and will be removed from pandas in a future version. Use pandas.concat instead.\n",
      "<timed exec>:22: FutureWarning: The frame.append method is deprecated and will be removed from pandas in a future version. Use pandas.concat instead.\n",
      "<timed exec>:22: FutureWarning: The frame.append method is deprecated and will be removed from pandas in a future version. Use pandas.concat instead.\n",
      "<timed exec>:22: FutureWarning: The frame.append method is deprecated and will be removed from pandas in a future version. Use pandas.concat instead.\n",
      "<timed exec>:22: FutureWarning: The frame.append method is deprecated and will be removed from pandas in a future version. Use pandas.concat instead.\n",
      "<timed exec>:22: FutureWarning: The frame.append method is deprecated and will be removed from pandas in a future version. Use pandas.concat instead.\n",
      "<timed exec>:22: FutureWarning: The frame.append method is deprecated and will be removed from pandas in a future version. Use pandas.concat instead.\n",
      "<timed exec>:22: FutureWarning: The frame.append method is deprecated and will be removed from pandas in a future version. Use pandas.concat instead.\n",
      "<timed exec>:22: FutureWarning: The frame.append method is deprecated and will be removed from pandas in a future version. Use pandas.concat instead.\n",
      "<timed exec>:22: FutureWarning: The frame.append method is deprecated and will be removed from pandas in a future version. Use pandas.concat instead.\n",
      "<timed exec>:22: FutureWarning: The frame.append method is deprecated and will be removed from pandas in a future version. Use pandas.concat instead.\n",
      "<timed exec>:22: FutureWarning: The frame.append method is deprecated and will be removed from pandas in a future version. Use pandas.concat instead.\n",
      "<timed exec>:22: FutureWarning: The frame.append method is deprecated and will be removed from pandas in a future version. Use pandas.concat instead.\n",
      "<timed exec>:22: FutureWarning: The frame.append method is deprecated and will be removed from pandas in a future version. Use pandas.concat instead.\n",
      "<timed exec>:22: FutureWarning: The frame.append method is deprecated and will be removed from pandas in a future version. Use pandas.concat instead.\n",
      "<timed exec>:22: FutureWarning: The frame.append method is deprecated and will be removed from pandas in a future version. Use pandas.concat instead.\n",
      "<timed exec>:22: FutureWarning: The frame.append method is deprecated and will be removed from pandas in a future version. Use pandas.concat instead.\n",
      "<timed exec>:22: FutureWarning: The frame.append method is deprecated and will be removed from pandas in a future version. Use pandas.concat instead.\n",
      "<timed exec>:22: FutureWarning: The frame.append method is deprecated and will be removed from pandas in a future version. Use pandas.concat instead.\n",
      "<timed exec>:22: FutureWarning: The frame.append method is deprecated and will be removed from pandas in a future version. Use pandas.concat instead.\n",
      "<timed exec>:22: FutureWarning: The frame.append method is deprecated and will be removed from pandas in a future version. Use pandas.concat instead.\n",
      "<timed exec>:22: FutureWarning: The frame.append method is deprecated and will be removed from pandas in a future version. Use pandas.concat instead.\n",
      "<timed exec>:22: FutureWarning: The frame.append method is deprecated and will be removed from pandas in a future version. Use pandas.concat instead.\n",
      "<timed exec>:22: FutureWarning: The frame.append method is deprecated and will be removed from pandas in a future version. Use pandas.concat instead.\n",
      "<timed exec>:22: FutureWarning: The frame.append method is deprecated and will be removed from pandas in a future version. Use pandas.concat instead.\n",
      "<timed exec>:22: FutureWarning: The frame.append method is deprecated and will be removed from pandas in a future version. Use pandas.concat instead.\n",
      "<timed exec>:22: FutureWarning: The frame.append method is deprecated and will be removed from pandas in a future version. Use pandas.concat instead.\n",
      "<timed exec>:22: FutureWarning: The frame.append method is deprecated and will be removed from pandas in a future version. Use pandas.concat instead.\n",
      "<timed exec>:22: FutureWarning: The frame.append method is deprecated and will be removed from pandas in a future version. Use pandas.concat instead.\n",
      "<timed exec>:22: FutureWarning: The frame.append method is deprecated and will be removed from pandas in a future version. Use pandas.concat instead.\n",
      "<timed exec>:22: FutureWarning: The frame.append method is deprecated and will be removed from pandas in a future version. Use pandas.concat instead.\n",
      "<timed exec>:22: FutureWarning: The frame.append method is deprecated and will be removed from pandas in a future version. Use pandas.concat instead.\n",
      "<timed exec>:22: FutureWarning: The frame.append method is deprecated and will be removed from pandas in a future version. Use pandas.concat instead.\n",
      "<timed exec>:22: FutureWarning: The frame.append method is deprecated and will be removed from pandas in a future version. Use pandas.concat instead.\n",
      "<timed exec>:22: FutureWarning: The frame.append method is deprecated and will be removed from pandas in a future version. Use pandas.concat instead.\n",
      "<timed exec>:22: FutureWarning: The frame.append method is deprecated and will be removed from pandas in a future version. Use pandas.concat instead.\n",
      "<timed exec>:22: FutureWarning: The frame.append method is deprecated and will be removed from pandas in a future version. Use pandas.concat instead.\n",
      "<timed exec>:22: FutureWarning: The frame.append method is deprecated and will be removed from pandas in a future version. Use pandas.concat instead.\n",
      "<timed exec>:22: FutureWarning: The frame.append method is deprecated and will be removed from pandas in a future version. Use pandas.concat instead.\n",
      "<timed exec>:22: FutureWarning: The frame.append method is deprecated and will be removed from pandas in a future version. Use pandas.concat instead.\n",
      "<timed exec>:22: FutureWarning: The frame.append method is deprecated and will be removed from pandas in a future version. Use pandas.concat instead.\n",
      "<timed exec>:22: FutureWarning: The frame.append method is deprecated and will be removed from pandas in a future version. Use pandas.concat instead.\n",
      "<timed exec>:22: FutureWarning: The frame.append method is deprecated and will be removed from pandas in a future version. Use pandas.concat instead.\n",
      "<timed exec>:22: FutureWarning: The frame.append method is deprecated and will be removed from pandas in a future version. Use pandas.concat instead.\n",
      "<timed exec>:22: FutureWarning: The frame.append method is deprecated and will be removed from pandas in a future version. Use pandas.concat instead.\n",
      "<timed exec>:22: FutureWarning: The frame.append method is deprecated and will be removed from pandas in a future version. Use pandas.concat instead.\n",
      "<timed exec>:22: FutureWarning: The frame.append method is deprecated and will be removed from pandas in a future version. Use pandas.concat instead.\n",
      "<timed exec>:22: FutureWarning: The frame.append method is deprecated and will be removed from pandas in a future version. Use pandas.concat instead.\n",
      "<timed exec>:22: FutureWarning: The frame.append method is deprecated and will be removed from pandas in a future version. Use pandas.concat instead.\n",
      "<timed exec>:22: FutureWarning: The frame.append method is deprecated and will be removed from pandas in a future version. Use pandas.concat instead.\n",
      "<timed exec>:22: FutureWarning: The frame.append method is deprecated and will be removed from pandas in a future version. Use pandas.concat instead.\n",
      "<timed exec>:22: FutureWarning: The frame.append method is deprecated and will be removed from pandas in a future version. Use pandas.concat instead.\n",
      "<timed exec>:22: FutureWarning: The frame.append method is deprecated and will be removed from pandas in a future version. Use pandas.concat instead.\n",
      "<timed exec>:22: FutureWarning: The frame.append method is deprecated and will be removed from pandas in a future version. Use pandas.concat instead.\n",
      "<timed exec>:22: FutureWarning: The frame.append method is deprecated and will be removed from pandas in a future version. Use pandas.concat instead.\n"
     ]
    },
    {
     "name": "stderr",
     "output_type": "stream",
     "text": [
      "<timed exec>:22: FutureWarning: The frame.append method is deprecated and will be removed from pandas in a future version. Use pandas.concat instead.\n",
      "<timed exec>:22: FutureWarning: The frame.append method is deprecated and will be removed from pandas in a future version. Use pandas.concat instead.\n",
      "<timed exec>:22: FutureWarning: The frame.append method is deprecated and will be removed from pandas in a future version. Use pandas.concat instead.\n",
      "<timed exec>:22: FutureWarning: The frame.append method is deprecated and will be removed from pandas in a future version. Use pandas.concat instead.\n",
      "<timed exec>:22: FutureWarning: The frame.append method is deprecated and will be removed from pandas in a future version. Use pandas.concat instead.\n",
      "<timed exec>:22: FutureWarning: The frame.append method is deprecated and will be removed from pandas in a future version. Use pandas.concat instead.\n",
      "<timed exec>:22: FutureWarning: The frame.append method is deprecated and will be removed from pandas in a future version. Use pandas.concat instead.\n",
      "<timed exec>:22: FutureWarning: The frame.append method is deprecated and will be removed from pandas in a future version. Use pandas.concat instead.\n",
      "<timed exec>:22: FutureWarning: The frame.append method is deprecated and will be removed from pandas in a future version. Use pandas.concat instead.\n",
      "<timed exec>:22: FutureWarning: The frame.append method is deprecated and will be removed from pandas in a future version. Use pandas.concat instead.\n",
      "<timed exec>:22: FutureWarning: The frame.append method is deprecated and will be removed from pandas in a future version. Use pandas.concat instead.\n",
      "<timed exec>:22: FutureWarning: The frame.append method is deprecated and will be removed from pandas in a future version. Use pandas.concat instead.\n",
      "<timed exec>:22: FutureWarning: The frame.append method is deprecated and will be removed from pandas in a future version. Use pandas.concat instead.\n",
      "<timed exec>:22: FutureWarning: The frame.append method is deprecated and will be removed from pandas in a future version. Use pandas.concat instead.\n",
      "<timed exec>:22: FutureWarning: The frame.append method is deprecated and will be removed from pandas in a future version. Use pandas.concat instead.\n",
      "<timed exec>:22: FutureWarning: The frame.append method is deprecated and will be removed from pandas in a future version. Use pandas.concat instead.\n",
      "<timed exec>:22: FutureWarning: The frame.append method is deprecated and will be removed from pandas in a future version. Use pandas.concat instead.\n",
      "<timed exec>:22: FutureWarning: The frame.append method is deprecated and will be removed from pandas in a future version. Use pandas.concat instead.\n",
      "<timed exec>:22: FutureWarning: The frame.append method is deprecated and will be removed from pandas in a future version. Use pandas.concat instead.\n",
      "<timed exec>:22: FutureWarning: The frame.append method is deprecated and will be removed from pandas in a future version. Use pandas.concat instead.\n",
      "<timed exec>:22: FutureWarning: The frame.append method is deprecated and will be removed from pandas in a future version. Use pandas.concat instead.\n",
      "<timed exec>:22: FutureWarning: The frame.append method is deprecated and will be removed from pandas in a future version. Use pandas.concat instead.\n",
      "<timed exec>:22: FutureWarning: The frame.append method is deprecated and will be removed from pandas in a future version. Use pandas.concat instead.\n",
      "<timed exec>:22: FutureWarning: The frame.append method is deprecated and will be removed from pandas in a future version. Use pandas.concat instead.\n",
      "<timed exec>:22: FutureWarning: The frame.append method is deprecated and will be removed from pandas in a future version. Use pandas.concat instead.\n",
      "<timed exec>:22: FutureWarning: The frame.append method is deprecated and will be removed from pandas in a future version. Use pandas.concat instead.\n",
      "<timed exec>:22: FutureWarning: The frame.append method is deprecated and will be removed from pandas in a future version. Use pandas.concat instead.\n",
      "<timed exec>:22: FutureWarning: The frame.append method is deprecated and will be removed from pandas in a future version. Use pandas.concat instead.\n",
      "<timed exec>:22: FutureWarning: The frame.append method is deprecated and will be removed from pandas in a future version. Use pandas.concat instead.\n",
      "<timed exec>:22: FutureWarning: The frame.append method is deprecated and will be removed from pandas in a future version. Use pandas.concat instead.\n",
      "<timed exec>:22: FutureWarning: The frame.append method is deprecated and will be removed from pandas in a future version. Use pandas.concat instead.\n",
      "<timed exec>:22: FutureWarning: The frame.append method is deprecated and will be removed from pandas in a future version. Use pandas.concat instead.\n",
      "<timed exec>:22: FutureWarning: The frame.append method is deprecated and will be removed from pandas in a future version. Use pandas.concat instead.\n",
      "<timed exec>:22: FutureWarning: The frame.append method is deprecated and will be removed from pandas in a future version. Use pandas.concat instead.\n",
      "<timed exec>:22: FutureWarning: The frame.append method is deprecated and will be removed from pandas in a future version. Use pandas.concat instead.\n",
      "<timed exec>:22: FutureWarning: The frame.append method is deprecated and will be removed from pandas in a future version. Use pandas.concat instead.\n",
      "<timed exec>:22: FutureWarning: The frame.append method is deprecated and will be removed from pandas in a future version. Use pandas.concat instead.\n",
      "<timed exec>:22: FutureWarning: The frame.append method is deprecated and will be removed from pandas in a future version. Use pandas.concat instead.\n",
      "<timed exec>:22: FutureWarning: The frame.append method is deprecated and will be removed from pandas in a future version. Use pandas.concat instead.\n",
      "<timed exec>:22: FutureWarning: The frame.append method is deprecated and will be removed from pandas in a future version. Use pandas.concat instead.\n",
      "<timed exec>:22: FutureWarning: The frame.append method is deprecated and will be removed from pandas in a future version. Use pandas.concat instead.\n",
      "<timed exec>:22: FutureWarning: The frame.append method is deprecated and will be removed from pandas in a future version. Use pandas.concat instead.\n",
      "<timed exec>:22: FutureWarning: The frame.append method is deprecated and will be removed from pandas in a future version. Use pandas.concat instead.\n",
      "<timed exec>:22: FutureWarning: The frame.append method is deprecated and will be removed from pandas in a future version. Use pandas.concat instead.\n",
      "<timed exec>:22: FutureWarning: The frame.append method is deprecated and will be removed from pandas in a future version. Use pandas.concat instead.\n",
      "<timed exec>:22: FutureWarning: The frame.append method is deprecated and will be removed from pandas in a future version. Use pandas.concat instead.\n",
      "<timed exec>:22: FutureWarning: The frame.append method is deprecated and will be removed from pandas in a future version. Use pandas.concat instead.\n",
      "<timed exec>:22: FutureWarning: The frame.append method is deprecated and will be removed from pandas in a future version. Use pandas.concat instead.\n",
      "<timed exec>:22: FutureWarning: The frame.append method is deprecated and will be removed from pandas in a future version. Use pandas.concat instead.\n",
      "<timed exec>:22: FutureWarning: The frame.append method is deprecated and will be removed from pandas in a future version. Use pandas.concat instead.\n",
      "<timed exec>:22: FutureWarning: The frame.append method is deprecated and will be removed from pandas in a future version. Use pandas.concat instead.\n",
      "<timed exec>:22: FutureWarning: The frame.append method is deprecated and will be removed from pandas in a future version. Use pandas.concat instead.\n",
      "<timed exec>:22: FutureWarning: The frame.append method is deprecated and will be removed from pandas in a future version. Use pandas.concat instead.\n",
      "<timed exec>:22: FutureWarning: The frame.append method is deprecated and will be removed from pandas in a future version. Use pandas.concat instead.\n",
      "<timed exec>:22: FutureWarning: The frame.append method is deprecated and will be removed from pandas in a future version. Use pandas.concat instead.\n",
      "<timed exec>:22: FutureWarning: The frame.append method is deprecated and will be removed from pandas in a future version. Use pandas.concat instead.\n"
     ]
    },
    {
     "name": "stderr",
     "output_type": "stream",
     "text": [
      "<timed exec>:22: FutureWarning: The frame.append method is deprecated and will be removed from pandas in a future version. Use pandas.concat instead.\n",
      "<timed exec>:22: FutureWarning: The frame.append method is deprecated and will be removed from pandas in a future version. Use pandas.concat instead.\n",
      "<timed exec>:22: FutureWarning: The frame.append method is deprecated and will be removed from pandas in a future version. Use pandas.concat instead.\n",
      "<timed exec>:22: FutureWarning: The frame.append method is deprecated and will be removed from pandas in a future version. Use pandas.concat instead.\n",
      "<timed exec>:22: FutureWarning: The frame.append method is deprecated and will be removed from pandas in a future version. Use pandas.concat instead.\n",
      "<timed exec>:22: FutureWarning: The frame.append method is deprecated and will be removed from pandas in a future version. Use pandas.concat instead.\n",
      "<timed exec>:22: FutureWarning: The frame.append method is deprecated and will be removed from pandas in a future version. Use pandas.concat instead.\n",
      "<timed exec>:22: FutureWarning: The frame.append method is deprecated and will be removed from pandas in a future version. Use pandas.concat instead.\n",
      "<timed exec>:22: FutureWarning: The frame.append method is deprecated and will be removed from pandas in a future version. Use pandas.concat instead.\n",
      "<timed exec>:22: FutureWarning: The frame.append method is deprecated and will be removed from pandas in a future version. Use pandas.concat instead.\n",
      "<timed exec>:22: FutureWarning: The frame.append method is deprecated and will be removed from pandas in a future version. Use pandas.concat instead.\n",
      "<timed exec>:22: FutureWarning: The frame.append method is deprecated and will be removed from pandas in a future version. Use pandas.concat instead.\n",
      "<timed exec>:22: FutureWarning: The frame.append method is deprecated and will be removed from pandas in a future version. Use pandas.concat instead.\n",
      "<timed exec>:22: FutureWarning: The frame.append method is deprecated and will be removed from pandas in a future version. Use pandas.concat instead.\n",
      "<timed exec>:22: FutureWarning: The frame.append method is deprecated and will be removed from pandas in a future version. Use pandas.concat instead.\n",
      "<timed exec>:22: FutureWarning: The frame.append method is deprecated and will be removed from pandas in a future version. Use pandas.concat instead.\n",
      "<timed exec>:22: FutureWarning: The frame.append method is deprecated and will be removed from pandas in a future version. Use pandas.concat instead.\n",
      "<timed exec>:22: FutureWarning: The frame.append method is deprecated and will be removed from pandas in a future version. Use pandas.concat instead.\n",
      "<timed exec>:22: FutureWarning: The frame.append method is deprecated and will be removed from pandas in a future version. Use pandas.concat instead.\n",
      "<timed exec>:22: FutureWarning: The frame.append method is deprecated and will be removed from pandas in a future version. Use pandas.concat instead.\n",
      "<timed exec>:22: FutureWarning: The frame.append method is deprecated and will be removed from pandas in a future version. Use pandas.concat instead.\n",
      "<timed exec>:22: FutureWarning: The frame.append method is deprecated and will be removed from pandas in a future version. Use pandas.concat instead.\n",
      "<timed exec>:22: FutureWarning: The frame.append method is deprecated and will be removed from pandas in a future version. Use pandas.concat instead.\n",
      "<timed exec>:22: FutureWarning: The frame.append method is deprecated and will be removed from pandas in a future version. Use pandas.concat instead.\n",
      "<timed exec>:22: FutureWarning: The frame.append method is deprecated and will be removed from pandas in a future version. Use pandas.concat instead.\n",
      "<timed exec>:22: FutureWarning: The frame.append method is deprecated and will be removed from pandas in a future version. Use pandas.concat instead.\n",
      "<timed exec>:22: FutureWarning: The frame.append method is deprecated and will be removed from pandas in a future version. Use pandas.concat instead.\n",
      "<timed exec>:22: FutureWarning: The frame.append method is deprecated and will be removed from pandas in a future version. Use pandas.concat instead.\n",
      "<timed exec>:22: FutureWarning: The frame.append method is deprecated and will be removed from pandas in a future version. Use pandas.concat instead.\n",
      "<timed exec>:22: FutureWarning: The frame.append method is deprecated and will be removed from pandas in a future version. Use pandas.concat instead.\n",
      "<timed exec>:22: FutureWarning: The frame.append method is deprecated and will be removed from pandas in a future version. Use pandas.concat instead.\n",
      "<timed exec>:22: FutureWarning: The frame.append method is deprecated and will be removed from pandas in a future version. Use pandas.concat instead.\n",
      "<timed exec>:22: FutureWarning: The frame.append method is deprecated and will be removed from pandas in a future version. Use pandas.concat instead.\n",
      "<timed exec>:22: FutureWarning: The frame.append method is deprecated and will be removed from pandas in a future version. Use pandas.concat instead.\n",
      "<timed exec>:22: FutureWarning: The frame.append method is deprecated and will be removed from pandas in a future version. Use pandas.concat instead.\n",
      "<timed exec>:22: FutureWarning: The frame.append method is deprecated and will be removed from pandas in a future version. Use pandas.concat instead.\n",
      "<timed exec>:22: FutureWarning: The frame.append method is deprecated and will be removed from pandas in a future version. Use pandas.concat instead.\n",
      "<timed exec>:22: FutureWarning: The frame.append method is deprecated and will be removed from pandas in a future version. Use pandas.concat instead.\n",
      "<timed exec>:22: FutureWarning: The frame.append method is deprecated and will be removed from pandas in a future version. Use pandas.concat instead.\n",
      "<timed exec>:22: FutureWarning: The frame.append method is deprecated and will be removed from pandas in a future version. Use pandas.concat instead.\n",
      "<timed exec>:22: FutureWarning: The frame.append method is deprecated and will be removed from pandas in a future version. Use pandas.concat instead.\n",
      "<timed exec>:22: FutureWarning: The frame.append method is deprecated and will be removed from pandas in a future version. Use pandas.concat instead.\n",
      "<timed exec>:22: FutureWarning: The frame.append method is deprecated and will be removed from pandas in a future version. Use pandas.concat instead.\n",
      "<timed exec>:22: FutureWarning: The frame.append method is deprecated and will be removed from pandas in a future version. Use pandas.concat instead.\n",
      "<timed exec>:22: FutureWarning: The frame.append method is deprecated and will be removed from pandas in a future version. Use pandas.concat instead.\n",
      "<timed exec>:22: FutureWarning: The frame.append method is deprecated and will be removed from pandas in a future version. Use pandas.concat instead.\n",
      "<timed exec>:22: FutureWarning: The frame.append method is deprecated and will be removed from pandas in a future version. Use pandas.concat instead.\n",
      "<timed exec>:22: FutureWarning: The frame.append method is deprecated and will be removed from pandas in a future version. Use pandas.concat instead.\n",
      "<timed exec>:22: FutureWarning: The frame.append method is deprecated and will be removed from pandas in a future version. Use pandas.concat instead.\n",
      "<timed exec>:22: FutureWarning: The frame.append method is deprecated and will be removed from pandas in a future version. Use pandas.concat instead.\n",
      "<timed exec>:22: FutureWarning: The frame.append method is deprecated and will be removed from pandas in a future version. Use pandas.concat instead.\n",
      "<timed exec>:22: FutureWarning: The frame.append method is deprecated and will be removed from pandas in a future version. Use pandas.concat instead.\n",
      "<timed exec>:22: FutureWarning: The frame.append method is deprecated and will be removed from pandas in a future version. Use pandas.concat instead.\n",
      "<timed exec>:22: FutureWarning: The frame.append method is deprecated and will be removed from pandas in a future version. Use pandas.concat instead.\n",
      "<timed exec>:22: FutureWarning: The frame.append method is deprecated and will be removed from pandas in a future version. Use pandas.concat instead.\n",
      "<timed exec>:22: FutureWarning: The frame.append method is deprecated and will be removed from pandas in a future version. Use pandas.concat instead.\n"
     ]
    },
    {
     "name": "stderr",
     "output_type": "stream",
     "text": [
      "<timed exec>:22: FutureWarning: The frame.append method is deprecated and will be removed from pandas in a future version. Use pandas.concat instead.\n",
      "<timed exec>:22: FutureWarning: The frame.append method is deprecated and will be removed from pandas in a future version. Use pandas.concat instead.\n",
      "<timed exec>:22: FutureWarning: The frame.append method is deprecated and will be removed from pandas in a future version. Use pandas.concat instead.\n",
      "<timed exec>:22: FutureWarning: The frame.append method is deprecated and will be removed from pandas in a future version. Use pandas.concat instead.\n",
      "<timed exec>:22: FutureWarning: The frame.append method is deprecated and will be removed from pandas in a future version. Use pandas.concat instead.\n",
      "<timed exec>:22: FutureWarning: The frame.append method is deprecated and will be removed from pandas in a future version. Use pandas.concat instead.\n",
      "<timed exec>:22: FutureWarning: The frame.append method is deprecated and will be removed from pandas in a future version. Use pandas.concat instead.\n",
      "<timed exec>:22: FutureWarning: The frame.append method is deprecated and will be removed from pandas in a future version. Use pandas.concat instead.\n",
      "<timed exec>:22: FutureWarning: The frame.append method is deprecated and will be removed from pandas in a future version. Use pandas.concat instead.\n",
      "<timed exec>:22: FutureWarning: The frame.append method is deprecated and will be removed from pandas in a future version. Use pandas.concat instead.\n",
      "<timed exec>:22: FutureWarning: The frame.append method is deprecated and will be removed from pandas in a future version. Use pandas.concat instead.\n",
      "<timed exec>:22: FutureWarning: The frame.append method is deprecated and will be removed from pandas in a future version. Use pandas.concat instead.\n",
      "<timed exec>:22: FutureWarning: The frame.append method is deprecated and will be removed from pandas in a future version. Use pandas.concat instead.\n",
      "<timed exec>:22: FutureWarning: The frame.append method is deprecated and will be removed from pandas in a future version. Use pandas.concat instead.\n",
      "<timed exec>:22: FutureWarning: The frame.append method is deprecated and will be removed from pandas in a future version. Use pandas.concat instead.\n",
      "<timed exec>:22: FutureWarning: The frame.append method is deprecated and will be removed from pandas in a future version. Use pandas.concat instead.\n",
      "<timed exec>:22: FutureWarning: The frame.append method is deprecated and will be removed from pandas in a future version. Use pandas.concat instead.\n",
      "<timed exec>:22: FutureWarning: The frame.append method is deprecated and will be removed from pandas in a future version. Use pandas.concat instead.\n",
      "<timed exec>:22: FutureWarning: The frame.append method is deprecated and will be removed from pandas in a future version. Use pandas.concat instead.\n",
      "<timed exec>:22: FutureWarning: The frame.append method is deprecated and will be removed from pandas in a future version. Use pandas.concat instead.\n",
      "<timed exec>:22: FutureWarning: The frame.append method is deprecated and will be removed from pandas in a future version. Use pandas.concat instead.\n",
      "<timed exec>:22: FutureWarning: The frame.append method is deprecated and will be removed from pandas in a future version. Use pandas.concat instead.\n",
      "<timed exec>:22: FutureWarning: The frame.append method is deprecated and will be removed from pandas in a future version. Use pandas.concat instead.\n",
      "<timed exec>:22: FutureWarning: The frame.append method is deprecated and will be removed from pandas in a future version. Use pandas.concat instead.\n",
      "<timed exec>:22: FutureWarning: The frame.append method is deprecated and will be removed from pandas in a future version. Use pandas.concat instead.\n",
      "<timed exec>:22: FutureWarning: The frame.append method is deprecated and will be removed from pandas in a future version. Use pandas.concat instead.\n",
      "<timed exec>:22: FutureWarning: The frame.append method is deprecated and will be removed from pandas in a future version. Use pandas.concat instead.\n",
      "<timed exec>:22: FutureWarning: The frame.append method is deprecated and will be removed from pandas in a future version. Use pandas.concat instead.\n",
      "<timed exec>:22: FutureWarning: The frame.append method is deprecated and will be removed from pandas in a future version. Use pandas.concat instead.\n",
      "<timed exec>:22: FutureWarning: The frame.append method is deprecated and will be removed from pandas in a future version. Use pandas.concat instead.\n",
      "<timed exec>:22: FutureWarning: The frame.append method is deprecated and will be removed from pandas in a future version. Use pandas.concat instead.\n",
      "<timed exec>:22: FutureWarning: The frame.append method is deprecated and will be removed from pandas in a future version. Use pandas.concat instead.\n",
      "<timed exec>:22: FutureWarning: The frame.append method is deprecated and will be removed from pandas in a future version. Use pandas.concat instead.\n",
      "<timed exec>:22: FutureWarning: The frame.append method is deprecated and will be removed from pandas in a future version. Use pandas.concat instead.\n",
      "<timed exec>:22: FutureWarning: The frame.append method is deprecated and will be removed from pandas in a future version. Use pandas.concat instead.\n",
      "<timed exec>:22: FutureWarning: The frame.append method is deprecated and will be removed from pandas in a future version. Use pandas.concat instead.\n",
      "<timed exec>:22: FutureWarning: The frame.append method is deprecated and will be removed from pandas in a future version. Use pandas.concat instead.\n",
      "<timed exec>:22: FutureWarning: The frame.append method is deprecated and will be removed from pandas in a future version. Use pandas.concat instead.\n",
      "<timed exec>:22: FutureWarning: The frame.append method is deprecated and will be removed from pandas in a future version. Use pandas.concat instead.\n",
      "<timed exec>:22: FutureWarning: The frame.append method is deprecated and will be removed from pandas in a future version. Use pandas.concat instead.\n",
      "<timed exec>:22: FutureWarning: The frame.append method is deprecated and will be removed from pandas in a future version. Use pandas.concat instead.\n",
      "<timed exec>:22: FutureWarning: The frame.append method is deprecated and will be removed from pandas in a future version. Use pandas.concat instead.\n",
      "<timed exec>:22: FutureWarning: The frame.append method is deprecated and will be removed from pandas in a future version. Use pandas.concat instead.\n",
      "<timed exec>:22: FutureWarning: The frame.append method is deprecated and will be removed from pandas in a future version. Use pandas.concat instead.\n",
      "<timed exec>:22: FutureWarning: The frame.append method is deprecated and will be removed from pandas in a future version. Use pandas.concat instead.\n",
      "<timed exec>:22: FutureWarning: The frame.append method is deprecated and will be removed from pandas in a future version. Use pandas.concat instead.\n",
      "<timed exec>:22: FutureWarning: The frame.append method is deprecated and will be removed from pandas in a future version. Use pandas.concat instead.\n",
      "<timed exec>:22: FutureWarning: The frame.append method is deprecated and will be removed from pandas in a future version. Use pandas.concat instead.\n",
      "<timed exec>:22: FutureWarning: The frame.append method is deprecated and will be removed from pandas in a future version. Use pandas.concat instead.\n",
      "<timed exec>:22: FutureWarning: The frame.append method is deprecated and will be removed from pandas in a future version. Use pandas.concat instead.\n",
      "<timed exec>:22: FutureWarning: The frame.append method is deprecated and will be removed from pandas in a future version. Use pandas.concat instead.\n",
      "<timed exec>:22: FutureWarning: The frame.append method is deprecated and will be removed from pandas in a future version. Use pandas.concat instead.\n",
      "<timed exec>:22: FutureWarning: The frame.append method is deprecated and will be removed from pandas in a future version. Use pandas.concat instead.\n",
      "<timed exec>:22: FutureWarning: The frame.append method is deprecated and will be removed from pandas in a future version. Use pandas.concat instead.\n",
      "<timed exec>:22: FutureWarning: The frame.append method is deprecated and will be removed from pandas in a future version. Use pandas.concat instead.\n",
      "<timed exec>:22: FutureWarning: The frame.append method is deprecated and will be removed from pandas in a future version. Use pandas.concat instead.\n"
     ]
    },
    {
     "name": "stderr",
     "output_type": "stream",
     "text": [
      "<timed exec>:22: FutureWarning: The frame.append method is deprecated and will be removed from pandas in a future version. Use pandas.concat instead.\n",
      "<timed exec>:22: FutureWarning: The frame.append method is deprecated and will be removed from pandas in a future version. Use pandas.concat instead.\n",
      "<timed exec>:22: FutureWarning: The frame.append method is deprecated and will be removed from pandas in a future version. Use pandas.concat instead.\n",
      "<timed exec>:22: FutureWarning: The frame.append method is deprecated and will be removed from pandas in a future version. Use pandas.concat instead.\n",
      "<timed exec>:22: FutureWarning: The frame.append method is deprecated and will be removed from pandas in a future version. Use pandas.concat instead.\n",
      "<timed exec>:22: FutureWarning: The frame.append method is deprecated and will be removed from pandas in a future version. Use pandas.concat instead.\n",
      "<timed exec>:22: FutureWarning: The frame.append method is deprecated and will be removed from pandas in a future version. Use pandas.concat instead.\n",
      "<timed exec>:22: FutureWarning: The frame.append method is deprecated and will be removed from pandas in a future version. Use pandas.concat instead.\n",
      "<timed exec>:22: FutureWarning: The frame.append method is deprecated and will be removed from pandas in a future version. Use pandas.concat instead.\n",
      "<timed exec>:22: FutureWarning: The frame.append method is deprecated and will be removed from pandas in a future version. Use pandas.concat instead.\n",
      "<timed exec>:22: FutureWarning: The frame.append method is deprecated and will be removed from pandas in a future version. Use pandas.concat instead.\n",
      "<timed exec>:22: FutureWarning: The frame.append method is deprecated and will be removed from pandas in a future version. Use pandas.concat instead.\n",
      "<timed exec>:22: FutureWarning: The frame.append method is deprecated and will be removed from pandas in a future version. Use pandas.concat instead.\n",
      "<timed exec>:22: FutureWarning: The frame.append method is deprecated and will be removed from pandas in a future version. Use pandas.concat instead.\n",
      "<timed exec>:22: FutureWarning: The frame.append method is deprecated and will be removed from pandas in a future version. Use pandas.concat instead.\n",
      "<timed exec>:22: FutureWarning: The frame.append method is deprecated and will be removed from pandas in a future version. Use pandas.concat instead.\n",
      "<timed exec>:22: FutureWarning: The frame.append method is deprecated and will be removed from pandas in a future version. Use pandas.concat instead.\n",
      "<timed exec>:22: FutureWarning: The frame.append method is deprecated and will be removed from pandas in a future version. Use pandas.concat instead.\n",
      "<timed exec>:22: FutureWarning: The frame.append method is deprecated and will be removed from pandas in a future version. Use pandas.concat instead.\n",
      "<timed exec>:22: FutureWarning: The frame.append method is deprecated and will be removed from pandas in a future version. Use pandas.concat instead.\n",
      "<timed exec>:22: FutureWarning: The frame.append method is deprecated and will be removed from pandas in a future version. Use pandas.concat instead.\n",
      "<timed exec>:22: FutureWarning: The frame.append method is deprecated and will be removed from pandas in a future version. Use pandas.concat instead.\n",
      "<timed exec>:22: FutureWarning: The frame.append method is deprecated and will be removed from pandas in a future version. Use pandas.concat instead.\n",
      "<timed exec>:22: FutureWarning: The frame.append method is deprecated and will be removed from pandas in a future version. Use pandas.concat instead.\n",
      "<timed exec>:22: FutureWarning: The frame.append method is deprecated and will be removed from pandas in a future version. Use pandas.concat instead.\n",
      "<timed exec>:22: FutureWarning: The frame.append method is deprecated and will be removed from pandas in a future version. Use pandas.concat instead.\n",
      "<timed exec>:22: FutureWarning: The frame.append method is deprecated and will be removed from pandas in a future version. Use pandas.concat instead.\n",
      "<timed exec>:22: FutureWarning: The frame.append method is deprecated and will be removed from pandas in a future version. Use pandas.concat instead.\n",
      "<timed exec>:22: FutureWarning: The frame.append method is deprecated and will be removed from pandas in a future version. Use pandas.concat instead.\n",
      "<timed exec>:22: FutureWarning: The frame.append method is deprecated and will be removed from pandas in a future version. Use pandas.concat instead.\n",
      "<timed exec>:22: FutureWarning: The frame.append method is deprecated and will be removed from pandas in a future version. Use pandas.concat instead.\n",
      "<timed exec>:22: FutureWarning: The frame.append method is deprecated and will be removed from pandas in a future version. Use pandas.concat instead.\n",
      "<timed exec>:22: FutureWarning: The frame.append method is deprecated and will be removed from pandas in a future version. Use pandas.concat instead.\n",
      "<timed exec>:22: FutureWarning: The frame.append method is deprecated and will be removed from pandas in a future version. Use pandas.concat instead.\n",
      "<timed exec>:22: FutureWarning: The frame.append method is deprecated and will be removed from pandas in a future version. Use pandas.concat instead.\n",
      "<timed exec>:22: FutureWarning: The frame.append method is deprecated and will be removed from pandas in a future version. Use pandas.concat instead.\n",
      "<timed exec>:22: FutureWarning: The frame.append method is deprecated and will be removed from pandas in a future version. Use pandas.concat instead.\n",
      "<timed exec>:22: FutureWarning: The frame.append method is deprecated and will be removed from pandas in a future version. Use pandas.concat instead.\n",
      "<timed exec>:22: FutureWarning: The frame.append method is deprecated and will be removed from pandas in a future version. Use pandas.concat instead.\n",
      "<timed exec>:22: FutureWarning: The frame.append method is deprecated and will be removed from pandas in a future version. Use pandas.concat instead.\n",
      "<timed exec>:22: FutureWarning: The frame.append method is deprecated and will be removed from pandas in a future version. Use pandas.concat instead.\n",
      "<timed exec>:22: FutureWarning: The frame.append method is deprecated and will be removed from pandas in a future version. Use pandas.concat instead.\n",
      "<timed exec>:22: FutureWarning: The frame.append method is deprecated and will be removed from pandas in a future version. Use pandas.concat instead.\n",
      "<timed exec>:22: FutureWarning: The frame.append method is deprecated and will be removed from pandas in a future version. Use pandas.concat instead.\n",
      "<timed exec>:22: FutureWarning: The frame.append method is deprecated and will be removed from pandas in a future version. Use pandas.concat instead.\n",
      "<timed exec>:22: FutureWarning: The frame.append method is deprecated and will be removed from pandas in a future version. Use pandas.concat instead.\n",
      "<timed exec>:22: FutureWarning: The frame.append method is deprecated and will be removed from pandas in a future version. Use pandas.concat instead.\n",
      "<timed exec>:22: FutureWarning: The frame.append method is deprecated and will be removed from pandas in a future version. Use pandas.concat instead.\n",
      "<timed exec>:22: FutureWarning: The frame.append method is deprecated and will be removed from pandas in a future version. Use pandas.concat instead.\n",
      "<timed exec>:22: FutureWarning: The frame.append method is deprecated and will be removed from pandas in a future version. Use pandas.concat instead.\n",
      "<timed exec>:22: FutureWarning: The frame.append method is deprecated and will be removed from pandas in a future version. Use pandas.concat instead.\n",
      "<timed exec>:22: FutureWarning: The frame.append method is deprecated and will be removed from pandas in a future version. Use pandas.concat instead.\n",
      "<timed exec>:22: FutureWarning: The frame.append method is deprecated and will be removed from pandas in a future version. Use pandas.concat instead.\n",
      "<timed exec>:22: FutureWarning: The frame.append method is deprecated and will be removed from pandas in a future version. Use pandas.concat instead.\n",
      "<timed exec>:22: FutureWarning: The frame.append method is deprecated and will be removed from pandas in a future version. Use pandas.concat instead.\n"
     ]
    },
    {
     "name": "stderr",
     "output_type": "stream",
     "text": [
      "<timed exec>:22: FutureWarning: The frame.append method is deprecated and will be removed from pandas in a future version. Use pandas.concat instead.\n",
      "<timed exec>:22: FutureWarning: The frame.append method is deprecated and will be removed from pandas in a future version. Use pandas.concat instead.\n",
      "<timed exec>:22: FutureWarning: The frame.append method is deprecated and will be removed from pandas in a future version. Use pandas.concat instead.\n",
      "<timed exec>:22: FutureWarning: The frame.append method is deprecated and will be removed from pandas in a future version. Use pandas.concat instead.\n",
      "<timed exec>:22: FutureWarning: The frame.append method is deprecated and will be removed from pandas in a future version. Use pandas.concat instead.\n",
      "<timed exec>:22: FutureWarning: The frame.append method is deprecated and will be removed from pandas in a future version. Use pandas.concat instead.\n",
      "<timed exec>:22: FutureWarning: The frame.append method is deprecated and will be removed from pandas in a future version. Use pandas.concat instead.\n",
      "<timed exec>:22: FutureWarning: The frame.append method is deprecated and will be removed from pandas in a future version. Use pandas.concat instead.\n",
      "<timed exec>:22: FutureWarning: The frame.append method is deprecated and will be removed from pandas in a future version. Use pandas.concat instead.\n",
      "<timed exec>:22: FutureWarning: The frame.append method is deprecated and will be removed from pandas in a future version. Use pandas.concat instead.\n",
      "<timed exec>:22: FutureWarning: The frame.append method is deprecated and will be removed from pandas in a future version. Use pandas.concat instead.\n",
      "<timed exec>:22: FutureWarning: The frame.append method is deprecated and will be removed from pandas in a future version. Use pandas.concat instead.\n",
      "<timed exec>:22: FutureWarning: The frame.append method is deprecated and will be removed from pandas in a future version. Use pandas.concat instead.\n",
      "<timed exec>:22: FutureWarning: The frame.append method is deprecated and will be removed from pandas in a future version. Use pandas.concat instead.\n",
      "<timed exec>:22: FutureWarning: The frame.append method is deprecated and will be removed from pandas in a future version. Use pandas.concat instead.\n",
      "<timed exec>:22: FutureWarning: The frame.append method is deprecated and will be removed from pandas in a future version. Use pandas.concat instead.\n",
      "<timed exec>:22: FutureWarning: The frame.append method is deprecated and will be removed from pandas in a future version. Use pandas.concat instead.\n",
      "<timed exec>:22: FutureWarning: The frame.append method is deprecated and will be removed from pandas in a future version. Use pandas.concat instead.\n",
      "<timed exec>:22: FutureWarning: The frame.append method is deprecated and will be removed from pandas in a future version. Use pandas.concat instead.\n",
      "<timed exec>:22: FutureWarning: The frame.append method is deprecated and will be removed from pandas in a future version. Use pandas.concat instead.\n",
      "<timed exec>:22: FutureWarning: The frame.append method is deprecated and will be removed from pandas in a future version. Use pandas.concat instead.\n",
      "<timed exec>:22: FutureWarning: The frame.append method is deprecated and will be removed from pandas in a future version. Use pandas.concat instead.\n",
      "<timed exec>:22: FutureWarning: The frame.append method is deprecated and will be removed from pandas in a future version. Use pandas.concat instead.\n",
      "<timed exec>:22: FutureWarning: The frame.append method is deprecated and will be removed from pandas in a future version. Use pandas.concat instead.\n",
      "<timed exec>:22: FutureWarning: The frame.append method is deprecated and will be removed from pandas in a future version. Use pandas.concat instead.\n",
      "<timed exec>:22: FutureWarning: The frame.append method is deprecated and will be removed from pandas in a future version. Use pandas.concat instead.\n",
      "<timed exec>:22: FutureWarning: The frame.append method is deprecated and will be removed from pandas in a future version. Use pandas.concat instead.\n",
      "<timed exec>:22: FutureWarning: The frame.append method is deprecated and will be removed from pandas in a future version. Use pandas.concat instead.\n",
      "<timed exec>:22: FutureWarning: The frame.append method is deprecated and will be removed from pandas in a future version. Use pandas.concat instead.\n",
      "<timed exec>:22: FutureWarning: The frame.append method is deprecated and will be removed from pandas in a future version. Use pandas.concat instead.\n",
      "<timed exec>:22: FutureWarning: The frame.append method is deprecated and will be removed from pandas in a future version. Use pandas.concat instead.\n",
      "<timed exec>:22: FutureWarning: The frame.append method is deprecated and will be removed from pandas in a future version. Use pandas.concat instead.\n",
      "<timed exec>:22: FutureWarning: The frame.append method is deprecated and will be removed from pandas in a future version. Use pandas.concat instead.\n",
      "<timed exec>:22: FutureWarning: The frame.append method is deprecated and will be removed from pandas in a future version. Use pandas.concat instead.\n",
      "<timed exec>:22: FutureWarning: The frame.append method is deprecated and will be removed from pandas in a future version. Use pandas.concat instead.\n",
      "<timed exec>:22: FutureWarning: The frame.append method is deprecated and will be removed from pandas in a future version. Use pandas.concat instead.\n",
      "<timed exec>:22: FutureWarning: The frame.append method is deprecated and will be removed from pandas in a future version. Use pandas.concat instead.\n",
      "<timed exec>:22: FutureWarning: The frame.append method is deprecated and will be removed from pandas in a future version. Use pandas.concat instead.\n",
      "<timed exec>:22: FutureWarning: The frame.append method is deprecated and will be removed from pandas in a future version. Use pandas.concat instead.\n",
      "<timed exec>:22: FutureWarning: The frame.append method is deprecated and will be removed from pandas in a future version. Use pandas.concat instead.\n",
      "<timed exec>:22: FutureWarning: The frame.append method is deprecated and will be removed from pandas in a future version. Use pandas.concat instead.\n",
      "<timed exec>:22: FutureWarning: The frame.append method is deprecated and will be removed from pandas in a future version. Use pandas.concat instead.\n",
      "<timed exec>:22: FutureWarning: The frame.append method is deprecated and will be removed from pandas in a future version. Use pandas.concat instead.\n",
      "<timed exec>:22: FutureWarning: The frame.append method is deprecated and will be removed from pandas in a future version. Use pandas.concat instead.\n",
      "<timed exec>:22: FutureWarning: The frame.append method is deprecated and will be removed from pandas in a future version. Use pandas.concat instead.\n",
      "<timed exec>:22: FutureWarning: The frame.append method is deprecated and will be removed from pandas in a future version. Use pandas.concat instead.\n",
      "<timed exec>:22: FutureWarning: The frame.append method is deprecated and will be removed from pandas in a future version. Use pandas.concat instead.\n",
      "<timed exec>:22: FutureWarning: The frame.append method is deprecated and will be removed from pandas in a future version. Use pandas.concat instead.\n",
      "<timed exec>:22: FutureWarning: The frame.append method is deprecated and will be removed from pandas in a future version. Use pandas.concat instead.\n",
      "<timed exec>:22: FutureWarning: The frame.append method is deprecated and will be removed from pandas in a future version. Use pandas.concat instead.\n",
      "<timed exec>:22: FutureWarning: The frame.append method is deprecated and will be removed from pandas in a future version. Use pandas.concat instead.\n",
      "<timed exec>:22: FutureWarning: The frame.append method is deprecated and will be removed from pandas in a future version. Use pandas.concat instead.\n",
      "<timed exec>:22: FutureWarning: The frame.append method is deprecated and will be removed from pandas in a future version. Use pandas.concat instead.\n",
      "<timed exec>:22: FutureWarning: The frame.append method is deprecated and will be removed from pandas in a future version. Use pandas.concat instead.\n",
      "<timed exec>:22: FutureWarning: The frame.append method is deprecated and will be removed from pandas in a future version. Use pandas.concat instead.\n",
      "<timed exec>:22: FutureWarning: The frame.append method is deprecated and will be removed from pandas in a future version. Use pandas.concat instead.\n"
     ]
    },
    {
     "name": "stderr",
     "output_type": "stream",
     "text": [
      "<timed exec>:22: FutureWarning: The frame.append method is deprecated and will be removed from pandas in a future version. Use pandas.concat instead.\n",
      "<timed exec>:22: FutureWarning: The frame.append method is deprecated and will be removed from pandas in a future version. Use pandas.concat instead.\n",
      "<timed exec>:22: FutureWarning: The frame.append method is deprecated and will be removed from pandas in a future version. Use pandas.concat instead.\n",
      "<timed exec>:22: FutureWarning: The frame.append method is deprecated and will be removed from pandas in a future version. Use pandas.concat instead.\n",
      "<timed exec>:22: FutureWarning: The frame.append method is deprecated and will be removed from pandas in a future version. Use pandas.concat instead.\n",
      "<timed exec>:22: FutureWarning: The frame.append method is deprecated and will be removed from pandas in a future version. Use pandas.concat instead.\n",
      "<timed exec>:22: FutureWarning: The frame.append method is deprecated and will be removed from pandas in a future version. Use pandas.concat instead.\n",
      "<timed exec>:22: FutureWarning: The frame.append method is deprecated and will be removed from pandas in a future version. Use pandas.concat instead.\n",
      "<timed exec>:22: FutureWarning: The frame.append method is deprecated and will be removed from pandas in a future version. Use pandas.concat instead.\n",
      "<timed exec>:22: FutureWarning: The frame.append method is deprecated and will be removed from pandas in a future version. Use pandas.concat instead.\n",
      "<timed exec>:22: FutureWarning: The frame.append method is deprecated and will be removed from pandas in a future version. Use pandas.concat instead.\n",
      "<timed exec>:22: FutureWarning: The frame.append method is deprecated and will be removed from pandas in a future version. Use pandas.concat instead.\n",
      "<timed exec>:22: FutureWarning: The frame.append method is deprecated and will be removed from pandas in a future version. Use pandas.concat instead.\n",
      "<timed exec>:22: FutureWarning: The frame.append method is deprecated and will be removed from pandas in a future version. Use pandas.concat instead.\n",
      "<timed exec>:22: FutureWarning: The frame.append method is deprecated and will be removed from pandas in a future version. Use pandas.concat instead.\n",
      "<timed exec>:22: FutureWarning: The frame.append method is deprecated and will be removed from pandas in a future version. Use pandas.concat instead.\n",
      "<timed exec>:22: FutureWarning: The frame.append method is deprecated and will be removed from pandas in a future version. Use pandas.concat instead.\n",
      "<timed exec>:22: FutureWarning: The frame.append method is deprecated and will be removed from pandas in a future version. Use pandas.concat instead.\n",
      "<timed exec>:22: FutureWarning: The frame.append method is deprecated and will be removed from pandas in a future version. Use pandas.concat instead.\n",
      "<timed exec>:22: FutureWarning: The frame.append method is deprecated and will be removed from pandas in a future version. Use pandas.concat instead.\n",
      "<timed exec>:22: FutureWarning: The frame.append method is deprecated and will be removed from pandas in a future version. Use pandas.concat instead.\n",
      "<timed exec>:22: FutureWarning: The frame.append method is deprecated and will be removed from pandas in a future version. Use pandas.concat instead.\n",
      "<timed exec>:22: FutureWarning: The frame.append method is deprecated and will be removed from pandas in a future version. Use pandas.concat instead.\n",
      "<timed exec>:22: FutureWarning: The frame.append method is deprecated and will be removed from pandas in a future version. Use pandas.concat instead.\n",
      "<timed exec>:22: FutureWarning: The frame.append method is deprecated and will be removed from pandas in a future version. Use pandas.concat instead.\n",
      "<timed exec>:22: FutureWarning: The frame.append method is deprecated and will be removed from pandas in a future version. Use pandas.concat instead.\n",
      "<timed exec>:22: FutureWarning: The frame.append method is deprecated and will be removed from pandas in a future version. Use pandas.concat instead.\n",
      "<timed exec>:22: FutureWarning: The frame.append method is deprecated and will be removed from pandas in a future version. Use pandas.concat instead.\n",
      "<timed exec>:22: FutureWarning: The frame.append method is deprecated and will be removed from pandas in a future version. Use pandas.concat instead.\n",
      "<timed exec>:22: FutureWarning: The frame.append method is deprecated and will be removed from pandas in a future version. Use pandas.concat instead.\n",
      "<timed exec>:22: FutureWarning: The frame.append method is deprecated and will be removed from pandas in a future version. Use pandas.concat instead.\n",
      "<timed exec>:22: FutureWarning: The frame.append method is deprecated and will be removed from pandas in a future version. Use pandas.concat instead.\n",
      "<timed exec>:22: FutureWarning: The frame.append method is deprecated and will be removed from pandas in a future version. Use pandas.concat instead.\n",
      "<timed exec>:22: FutureWarning: The frame.append method is deprecated and will be removed from pandas in a future version. Use pandas.concat instead.\n",
      "<timed exec>:22: FutureWarning: The frame.append method is deprecated and will be removed from pandas in a future version. Use pandas.concat instead.\n",
      "<timed exec>:22: FutureWarning: The frame.append method is deprecated and will be removed from pandas in a future version. Use pandas.concat instead.\n",
      "<timed exec>:22: FutureWarning: The frame.append method is deprecated and will be removed from pandas in a future version. Use pandas.concat instead.\n",
      "<timed exec>:22: FutureWarning: The frame.append method is deprecated and will be removed from pandas in a future version. Use pandas.concat instead.\n",
      "<timed exec>:22: FutureWarning: The frame.append method is deprecated and will be removed from pandas in a future version. Use pandas.concat instead.\n",
      "<timed exec>:22: FutureWarning: The frame.append method is deprecated and will be removed from pandas in a future version. Use pandas.concat instead.\n",
      "<timed exec>:22: FutureWarning: The frame.append method is deprecated and will be removed from pandas in a future version. Use pandas.concat instead.\n",
      "<timed exec>:22: FutureWarning: The frame.append method is deprecated and will be removed from pandas in a future version. Use pandas.concat instead.\n",
      "<timed exec>:22: FutureWarning: The frame.append method is deprecated and will be removed from pandas in a future version. Use pandas.concat instead.\n",
      "<timed exec>:22: FutureWarning: The frame.append method is deprecated and will be removed from pandas in a future version. Use pandas.concat instead.\n",
      "<timed exec>:22: FutureWarning: The frame.append method is deprecated and will be removed from pandas in a future version. Use pandas.concat instead.\n",
      "<timed exec>:22: FutureWarning: The frame.append method is deprecated and will be removed from pandas in a future version. Use pandas.concat instead.\n",
      "<timed exec>:22: FutureWarning: The frame.append method is deprecated and will be removed from pandas in a future version. Use pandas.concat instead.\n",
      "<timed exec>:22: FutureWarning: The frame.append method is deprecated and will be removed from pandas in a future version. Use pandas.concat instead.\n",
      "<timed exec>:22: FutureWarning: The frame.append method is deprecated and will be removed from pandas in a future version. Use pandas.concat instead.\n",
      "<timed exec>:22: FutureWarning: The frame.append method is deprecated and will be removed from pandas in a future version. Use pandas.concat instead.\n",
      "<timed exec>:22: FutureWarning: The frame.append method is deprecated and will be removed from pandas in a future version. Use pandas.concat instead.\n",
      "<timed exec>:22: FutureWarning: The frame.append method is deprecated and will be removed from pandas in a future version. Use pandas.concat instead.\n",
      "<timed exec>:22: FutureWarning: The frame.append method is deprecated and will be removed from pandas in a future version. Use pandas.concat instead.\n",
      "<timed exec>:22: FutureWarning: The frame.append method is deprecated and will be removed from pandas in a future version. Use pandas.concat instead.\n",
      "<timed exec>:22: FutureWarning: The frame.append method is deprecated and will be removed from pandas in a future version. Use pandas.concat instead.\n",
      "<timed exec>:22: FutureWarning: The frame.append method is deprecated and will be removed from pandas in a future version. Use pandas.concat instead.\n",
      "<timed exec>:22: FutureWarning: The frame.append method is deprecated and will be removed from pandas in a future version. Use pandas.concat instead.\n"
     ]
    },
    {
     "name": "stderr",
     "output_type": "stream",
     "text": [
      "<timed exec>:22: FutureWarning: The frame.append method is deprecated and will be removed from pandas in a future version. Use pandas.concat instead.\n",
      "<timed exec>:22: FutureWarning: The frame.append method is deprecated and will be removed from pandas in a future version. Use pandas.concat instead.\n",
      "<timed exec>:22: FutureWarning: The frame.append method is deprecated and will be removed from pandas in a future version. Use pandas.concat instead.\n",
      "<timed exec>:22: FutureWarning: The frame.append method is deprecated and will be removed from pandas in a future version. Use pandas.concat instead.\n",
      "<timed exec>:22: FutureWarning: The frame.append method is deprecated and will be removed from pandas in a future version. Use pandas.concat instead.\n",
      "<timed exec>:22: FutureWarning: The frame.append method is deprecated and will be removed from pandas in a future version. Use pandas.concat instead.\n",
      "<timed exec>:22: FutureWarning: The frame.append method is deprecated and will be removed from pandas in a future version. Use pandas.concat instead.\n",
      "<timed exec>:22: FutureWarning: The frame.append method is deprecated and will be removed from pandas in a future version. Use pandas.concat instead.\n",
      "<timed exec>:22: FutureWarning: The frame.append method is deprecated and will be removed from pandas in a future version. Use pandas.concat instead.\n",
      "<timed exec>:22: FutureWarning: The frame.append method is deprecated and will be removed from pandas in a future version. Use pandas.concat instead.\n",
      "<timed exec>:22: FutureWarning: The frame.append method is deprecated and will be removed from pandas in a future version. Use pandas.concat instead.\n",
      "<timed exec>:22: FutureWarning: The frame.append method is deprecated and will be removed from pandas in a future version. Use pandas.concat instead.\n",
      "<timed exec>:22: FutureWarning: The frame.append method is deprecated and will be removed from pandas in a future version. Use pandas.concat instead.\n",
      "<timed exec>:22: FutureWarning: The frame.append method is deprecated and will be removed from pandas in a future version. Use pandas.concat instead.\n",
      "<timed exec>:22: FutureWarning: The frame.append method is deprecated and will be removed from pandas in a future version. Use pandas.concat instead.\n",
      "<timed exec>:22: FutureWarning: The frame.append method is deprecated and will be removed from pandas in a future version. Use pandas.concat instead.\n",
      "<timed exec>:22: FutureWarning: The frame.append method is deprecated and will be removed from pandas in a future version. Use pandas.concat instead.\n",
      "<timed exec>:22: FutureWarning: The frame.append method is deprecated and will be removed from pandas in a future version. Use pandas.concat instead.\n",
      "<timed exec>:22: FutureWarning: The frame.append method is deprecated and will be removed from pandas in a future version. Use pandas.concat instead.\n",
      "<timed exec>:22: FutureWarning: The frame.append method is deprecated and will be removed from pandas in a future version. Use pandas.concat instead.\n",
      "<timed exec>:22: FutureWarning: The frame.append method is deprecated and will be removed from pandas in a future version. Use pandas.concat instead.\n",
      "<timed exec>:22: FutureWarning: The frame.append method is deprecated and will be removed from pandas in a future version. Use pandas.concat instead.\n",
      "<timed exec>:22: FutureWarning: The frame.append method is deprecated and will be removed from pandas in a future version. Use pandas.concat instead.\n",
      "<timed exec>:22: FutureWarning: The frame.append method is deprecated and will be removed from pandas in a future version. Use pandas.concat instead.\n",
      "<timed exec>:22: FutureWarning: The frame.append method is deprecated and will be removed from pandas in a future version. Use pandas.concat instead.\n",
      "<timed exec>:22: FutureWarning: The frame.append method is deprecated and will be removed from pandas in a future version. Use pandas.concat instead.\n",
      "<timed exec>:22: FutureWarning: The frame.append method is deprecated and will be removed from pandas in a future version. Use pandas.concat instead.\n",
      "<timed exec>:22: FutureWarning: The frame.append method is deprecated and will be removed from pandas in a future version. Use pandas.concat instead.\n",
      "<timed exec>:22: FutureWarning: The frame.append method is deprecated and will be removed from pandas in a future version. Use pandas.concat instead.\n",
      "<timed exec>:22: FutureWarning: The frame.append method is deprecated and will be removed from pandas in a future version. Use pandas.concat instead.\n",
      "<timed exec>:22: FutureWarning: The frame.append method is deprecated and will be removed from pandas in a future version. Use pandas.concat instead.\n",
      "<timed exec>:22: FutureWarning: The frame.append method is deprecated and will be removed from pandas in a future version. Use pandas.concat instead.\n",
      "<timed exec>:22: FutureWarning: The frame.append method is deprecated and will be removed from pandas in a future version. Use pandas.concat instead.\n",
      "<timed exec>:22: FutureWarning: The frame.append method is deprecated and will be removed from pandas in a future version. Use pandas.concat instead.\n",
      "<timed exec>:22: FutureWarning: The frame.append method is deprecated and will be removed from pandas in a future version. Use pandas.concat instead.\n",
      "<timed exec>:22: FutureWarning: The frame.append method is deprecated and will be removed from pandas in a future version. Use pandas.concat instead.\n",
      "<timed exec>:22: FutureWarning: The frame.append method is deprecated and will be removed from pandas in a future version. Use pandas.concat instead.\n",
      "<timed exec>:22: FutureWarning: The frame.append method is deprecated and will be removed from pandas in a future version. Use pandas.concat instead.\n",
      "<timed exec>:22: FutureWarning: The frame.append method is deprecated and will be removed from pandas in a future version. Use pandas.concat instead.\n",
      "<timed exec>:22: FutureWarning: The frame.append method is deprecated and will be removed from pandas in a future version. Use pandas.concat instead.\n",
      "<timed exec>:22: FutureWarning: The frame.append method is deprecated and will be removed from pandas in a future version. Use pandas.concat instead.\n",
      "<timed exec>:22: FutureWarning: The frame.append method is deprecated and will be removed from pandas in a future version. Use pandas.concat instead.\n",
      "<timed exec>:22: FutureWarning: The frame.append method is deprecated and will be removed from pandas in a future version. Use pandas.concat instead.\n",
      "<timed exec>:22: FutureWarning: The frame.append method is deprecated and will be removed from pandas in a future version. Use pandas.concat instead.\n",
      "<timed exec>:22: FutureWarning: The frame.append method is deprecated and will be removed from pandas in a future version. Use pandas.concat instead.\n",
      "<timed exec>:22: FutureWarning: The frame.append method is deprecated and will be removed from pandas in a future version. Use pandas.concat instead.\n",
      "<timed exec>:22: FutureWarning: The frame.append method is deprecated and will be removed from pandas in a future version. Use pandas.concat instead.\n",
      "<timed exec>:22: FutureWarning: The frame.append method is deprecated and will be removed from pandas in a future version. Use pandas.concat instead.\n",
      "<timed exec>:22: FutureWarning: The frame.append method is deprecated and will be removed from pandas in a future version. Use pandas.concat instead.\n",
      "<timed exec>:22: FutureWarning: The frame.append method is deprecated and will be removed from pandas in a future version. Use pandas.concat instead.\n",
      "<timed exec>:22: FutureWarning: The frame.append method is deprecated and will be removed from pandas in a future version. Use pandas.concat instead.\n",
      "<timed exec>:22: FutureWarning: The frame.append method is deprecated and will be removed from pandas in a future version. Use pandas.concat instead.\n",
      "<timed exec>:22: FutureWarning: The frame.append method is deprecated and will be removed from pandas in a future version. Use pandas.concat instead.\n",
      "<timed exec>:22: FutureWarning: The frame.append method is deprecated and will be removed from pandas in a future version. Use pandas.concat instead.\n",
      "<timed exec>:22: FutureWarning: The frame.append method is deprecated and will be removed from pandas in a future version. Use pandas.concat instead.\n"
     ]
    },
    {
     "name": "stderr",
     "output_type": "stream",
     "text": [
      "<timed exec>:22: FutureWarning: The frame.append method is deprecated and will be removed from pandas in a future version. Use pandas.concat instead.\n",
      "<timed exec>:22: FutureWarning: The frame.append method is deprecated and will be removed from pandas in a future version. Use pandas.concat instead.\n",
      "<timed exec>:22: FutureWarning: The frame.append method is deprecated and will be removed from pandas in a future version. Use pandas.concat instead.\n",
      "<timed exec>:22: FutureWarning: The frame.append method is deprecated and will be removed from pandas in a future version. Use pandas.concat instead.\n",
      "<timed exec>:22: FutureWarning: The frame.append method is deprecated and will be removed from pandas in a future version. Use pandas.concat instead.\n",
      "<timed exec>:22: FutureWarning: The frame.append method is deprecated and will be removed from pandas in a future version. Use pandas.concat instead.\n",
      "<timed exec>:22: FutureWarning: The frame.append method is deprecated and will be removed from pandas in a future version. Use pandas.concat instead.\n",
      "<timed exec>:22: FutureWarning: The frame.append method is deprecated and will be removed from pandas in a future version. Use pandas.concat instead.\n",
      "<timed exec>:22: FutureWarning: The frame.append method is deprecated and will be removed from pandas in a future version. Use pandas.concat instead.\n",
      "<timed exec>:22: FutureWarning: The frame.append method is deprecated and will be removed from pandas in a future version. Use pandas.concat instead.\n",
      "<timed exec>:22: FutureWarning: The frame.append method is deprecated and will be removed from pandas in a future version. Use pandas.concat instead.\n",
      "<timed exec>:22: FutureWarning: The frame.append method is deprecated and will be removed from pandas in a future version. Use pandas.concat instead.\n",
      "<timed exec>:22: FutureWarning: The frame.append method is deprecated and will be removed from pandas in a future version. Use pandas.concat instead.\n",
      "<timed exec>:22: FutureWarning: The frame.append method is deprecated and will be removed from pandas in a future version. Use pandas.concat instead.\n",
      "<timed exec>:22: FutureWarning: The frame.append method is deprecated and will be removed from pandas in a future version. Use pandas.concat instead.\n",
      "<timed exec>:22: FutureWarning: The frame.append method is deprecated and will be removed from pandas in a future version. Use pandas.concat instead.\n",
      "<timed exec>:22: FutureWarning: The frame.append method is deprecated and will be removed from pandas in a future version. Use pandas.concat instead.\n",
      "<timed exec>:22: FutureWarning: The frame.append method is deprecated and will be removed from pandas in a future version. Use pandas.concat instead.\n",
      "<timed exec>:22: FutureWarning: The frame.append method is deprecated and will be removed from pandas in a future version. Use pandas.concat instead.\n",
      "<timed exec>:22: FutureWarning: The frame.append method is deprecated and will be removed from pandas in a future version. Use pandas.concat instead.\n",
      "<timed exec>:22: FutureWarning: The frame.append method is deprecated and will be removed from pandas in a future version. Use pandas.concat instead.\n",
      "<timed exec>:22: FutureWarning: The frame.append method is deprecated and will be removed from pandas in a future version. Use pandas.concat instead.\n",
      "<timed exec>:22: FutureWarning: The frame.append method is deprecated and will be removed from pandas in a future version. Use pandas.concat instead.\n",
      "<timed exec>:22: FutureWarning: The frame.append method is deprecated and will be removed from pandas in a future version. Use pandas.concat instead.\n",
      "<timed exec>:22: FutureWarning: The frame.append method is deprecated and will be removed from pandas in a future version. Use pandas.concat instead.\n",
      "<timed exec>:22: FutureWarning: The frame.append method is deprecated and will be removed from pandas in a future version. Use pandas.concat instead.\n",
      "<timed exec>:22: FutureWarning: The frame.append method is deprecated and will be removed from pandas in a future version. Use pandas.concat instead.\n",
      "<timed exec>:22: FutureWarning: The frame.append method is deprecated and will be removed from pandas in a future version. Use pandas.concat instead.\n",
      "<timed exec>:22: FutureWarning: The frame.append method is deprecated and will be removed from pandas in a future version. Use pandas.concat instead.\n",
      "<timed exec>:22: FutureWarning: The frame.append method is deprecated and will be removed from pandas in a future version. Use pandas.concat instead.\n",
      "<timed exec>:22: FutureWarning: The frame.append method is deprecated and will be removed from pandas in a future version. Use pandas.concat instead.\n",
      "<timed exec>:22: FutureWarning: The frame.append method is deprecated and will be removed from pandas in a future version. Use pandas.concat instead.\n",
      "<timed exec>:22: FutureWarning: The frame.append method is deprecated and will be removed from pandas in a future version. Use pandas.concat instead.\n",
      "<timed exec>:22: FutureWarning: The frame.append method is deprecated and will be removed from pandas in a future version. Use pandas.concat instead.\n",
      "<timed exec>:22: FutureWarning: The frame.append method is deprecated and will be removed from pandas in a future version. Use pandas.concat instead.\n",
      "<timed exec>:22: FutureWarning: The frame.append method is deprecated and will be removed from pandas in a future version. Use pandas.concat instead.\n",
      "<timed exec>:22: FutureWarning: The frame.append method is deprecated and will be removed from pandas in a future version. Use pandas.concat instead.\n",
      "<timed exec>:22: FutureWarning: The frame.append method is deprecated and will be removed from pandas in a future version. Use pandas.concat instead.\n",
      "<timed exec>:22: FutureWarning: The frame.append method is deprecated and will be removed from pandas in a future version. Use pandas.concat instead.\n",
      "<timed exec>:22: FutureWarning: The frame.append method is deprecated and will be removed from pandas in a future version. Use pandas.concat instead.\n",
      "<timed exec>:22: FutureWarning: The frame.append method is deprecated and will be removed from pandas in a future version. Use pandas.concat instead.\n",
      "<timed exec>:22: FutureWarning: The frame.append method is deprecated and will be removed from pandas in a future version. Use pandas.concat instead.\n"
     ]
    },
    {
     "name": "stdout",
     "output_type": "stream",
     "text": [
      "CPU times: total: 47.2 s\n",
      "Wall time: 48.1 s\n"
     ]
    },
    {
     "name": "stderr",
     "output_type": "stream",
     "text": [
      "<timed exec>:22: FutureWarning: The frame.append method is deprecated and will be removed from pandas in a future version. Use pandas.concat instead.\n"
     ]
    }
   ],
   "source": [
    "%%time\n",
    "\n",
    "for est in range(1,50,1):\n",
    "    for depth in range(1,11):    \n",
    "        \n",
    "         # Инициализируем модель\n",
    "        model_RF=RandomForestClassifier(max_depth=depth, n_estimators=est, random_state=12345, min_samples_leaf=2)\n",
    "        \n",
    "        # Обучаем модель\n",
    "        model_RF.fit(features_trn,target_trn)\n",
    "        \n",
    "        # Cчитаем предсказания и точность полученной классификации\n",
    "        prediction_RF_tst=model_RF.predict(features_tst)\n",
    "        prediction_RF_vld=model_RF.predict(features_vld)\n",
    "        \n",
    "        # Добавляем результаты в датафрейм model\n",
    "        name = 'Случайный Лес'\n",
    "        model_var = 'n_est: {}'.format(est),' m_depth: {}'.format(depth)\n",
    "        model_data = {\n",
    "            'name':name,\n",
    "            'model_var':model_var,\n",
    "            'test_accuracy':accuracy_score(prediction_RF_tst,target_tst),\n",
    "            'validate_accuracy':accuracy_score(prediction_RF_vld,target_vld)}\n",
    "        model = model.append(model_data, ignore_index=True)"
   ]
  },
  {
   "cell_type": "code",
   "execution_count": 21,
   "metadata": {},
   "outputs": [
    {
     "data": {
      "text/html": [
       "<div>\n",
       "<style scoped>\n",
       "    .dataframe tbody tr th:only-of-type {\n",
       "        vertical-align: middle;\n",
       "    }\n",
       "\n",
       "    .dataframe tbody tr th {\n",
       "        vertical-align: top;\n",
       "    }\n",
       "\n",
       "    .dataframe thead th {\n",
       "        text-align: right;\n",
       "    }\n",
       "</style>\n",
       "<table border=\"1\" class=\"dataframe\">\n",
       "  <thead>\n",
       "    <tr style=\"text-align: right;\">\n",
       "      <th></th>\n",
       "      <th>name</th>\n",
       "      <th>model_var</th>\n",
       "      <th>test_accuracy</th>\n",
       "      <th>validate_accuracy</th>\n",
       "    </tr>\n",
       "  </thead>\n",
       "  <tbody>\n",
       "    <tr>\n",
       "      <th>309</th>\n",
       "      <td>Случайный Лес</td>\n",
       "      <td>(n_est: 21,  m_depth: 10)</td>\n",
       "      <td>0.804044</td>\n",
       "      <td>0.807154</td>\n",
       "    </tr>\n",
       "    <tr>\n",
       "      <th>349</th>\n",
       "      <td>Случайный Лес</td>\n",
       "      <td>(n_est: 25,  m_depth: 10)</td>\n",
       "      <td>0.808709</td>\n",
       "      <td>0.807154</td>\n",
       "    </tr>\n",
       "    <tr>\n",
       "      <th>329</th>\n",
       "      <td>Случайный Лес</td>\n",
       "      <td>(n_est: 23,  m_depth: 10)</td>\n",
       "      <td>0.804044</td>\n",
       "      <td>0.804044</td>\n",
       "    </tr>\n",
       "    <tr>\n",
       "      <th>379</th>\n",
       "      <td>Случайный Лес</td>\n",
       "      <td>(n_est: 28,  m_depth: 10)</td>\n",
       "      <td>0.808709</td>\n",
       "      <td>0.804044</td>\n",
       "    </tr>\n",
       "    <tr>\n",
       "      <th>279</th>\n",
       "      <td>Случайный Лес</td>\n",
       "      <td>(n_est: 18,  m_depth: 10)</td>\n",
       "      <td>0.800933</td>\n",
       "      <td>0.804044</td>\n",
       "    </tr>\n",
       "    <tr>\n",
       "      <th>359</th>\n",
       "      <td>Случайный Лес</td>\n",
       "      <td>(n_est: 26,  m_depth: 10)</td>\n",
       "      <td>0.808709</td>\n",
       "      <td>0.802488</td>\n",
       "    </tr>\n",
       "    <tr>\n",
       "      <th>289</th>\n",
       "      <td>Случайный Лес</td>\n",
       "      <td>(n_est: 19,  m_depth: 10)</td>\n",
       "      <td>0.802488</td>\n",
       "      <td>0.802488</td>\n",
       "    </tr>\n",
       "    <tr>\n",
       "      <th>299</th>\n",
       "      <td>Случайный Лес</td>\n",
       "      <td>(n_est: 20,  m_depth: 10)</td>\n",
       "      <td>0.800933</td>\n",
       "      <td>0.802488</td>\n",
       "    </tr>\n",
       "    <tr>\n",
       "      <th>319</th>\n",
       "      <td>Случайный Лес</td>\n",
       "      <td>(n_est: 22,  m_depth: 10)</td>\n",
       "      <td>0.799378</td>\n",
       "      <td>0.802488</td>\n",
       "    </tr>\n",
       "    <tr>\n",
       "      <th>339</th>\n",
       "      <td>Случайный Лес</td>\n",
       "      <td>(n_est: 24,  m_depth: 10)</td>\n",
       "      <td>0.804044</td>\n",
       "      <td>0.802488</td>\n",
       "    </tr>\n",
       "  </tbody>\n",
       "</table>\n",
       "</div>"
      ],
      "text/plain": [
       "              name                  model_var  test_accuracy  \\\n",
       "309  Случайный Лес  (n_est: 21,  m_depth: 10)       0.804044   \n",
       "349  Случайный Лес  (n_est: 25,  m_depth: 10)       0.808709   \n",
       "329  Случайный Лес  (n_est: 23,  m_depth: 10)       0.804044   \n",
       "379  Случайный Лес  (n_est: 28,  m_depth: 10)       0.808709   \n",
       "279  Случайный Лес  (n_est: 18,  m_depth: 10)       0.800933   \n",
       "359  Случайный Лес  (n_est: 26,  m_depth: 10)       0.808709   \n",
       "289  Случайный Лес  (n_est: 19,  m_depth: 10)       0.802488   \n",
       "299  Случайный Лес  (n_est: 20,  m_depth: 10)       0.800933   \n",
       "319  Случайный Лес  (n_est: 22,  m_depth: 10)       0.799378   \n",
       "339  Случайный Лес  (n_est: 24,  m_depth: 10)       0.804044   \n",
       "\n",
       "     validate_accuracy  \n",
       "309           0.807154  \n",
       "349           0.807154  \n",
       "329           0.804044  \n",
       "379           0.804044  \n",
       "279           0.804044  \n",
       "359           0.802488  \n",
       "289           0.802488  \n",
       "299           0.802488  \n",
       "319           0.802488  \n",
       "339           0.802488  "
      ]
     },
     "execution_count": 21,
     "metadata": {},
     "output_type": "execute_result"
    }
   ],
   "source": [
    "model.sort_values(['validate_accuracy'], ascending=False).head(10)"
   ]
  },
  {
   "cell_type": "markdown",
   "metadata": {},
   "source": [
    "Лучшая точность (0.807) достигнута у модели Случайный лес, при значениях:\n",
    " - максимальная глубина деревьев - 10.\n",
    " - число деревьев - 25.\n",
    " - ограничении на число объектов в листьях - 2"
   ]
  },
  {
   "cell_type": "code",
   "execution_count": 22,
   "metadata": {},
   "outputs": [
    {
     "data": {
      "text/html": [
       "<div>\n",
       "<style scoped>\n",
       "    .dataframe tbody tr th:only-of-type {\n",
       "        vertical-align: middle;\n",
       "    }\n",
       "\n",
       "    .dataframe tbody tr th {\n",
       "        vertical-align: top;\n",
       "    }\n",
       "\n",
       "    .dataframe thead th {\n",
       "        text-align: right;\n",
       "    }\n",
       "</style>\n",
       "<table border=\"1\" class=\"dataframe\">\n",
       "  <thead>\n",
       "    <tr style=\"text-align: right;\">\n",
       "      <th></th>\n",
       "      <th>name</th>\n",
       "      <th>model_var</th>\n",
       "      <th>test_accuracy</th>\n",
       "      <th>validate_accuracy</th>\n",
       "    </tr>\n",
       "  </thead>\n",
       "  <tbody>\n",
       "    <tr>\n",
       "      <th>0</th>\n",
       "      <td>Логическая Регрессия</td>\n",
       "      <td>NaN</td>\n",
       "      <td>0.738725</td>\n",
       "      <td>0.713841</td>\n",
       "    </tr>\n",
       "    <tr>\n",
       "      <th>10</th>\n",
       "      <td>Дерево Решений</td>\n",
       "      <td>m_depth: 10</td>\n",
       "      <td>0.794712</td>\n",
       "      <td>0.777605</td>\n",
       "    </tr>\n",
       "    <tr>\n",
       "      <th>309</th>\n",
       "      <td>Случайный Лес</td>\n",
       "      <td>(n_est: 21,  m_depth: 10)</td>\n",
       "      <td>0.804044</td>\n",
       "      <td>0.807154</td>\n",
       "    </tr>\n",
       "  </tbody>\n",
       "</table>\n",
       "</div>"
      ],
      "text/plain": [
       "                     name                  model_var  test_accuracy  \\\n",
       "0    Логическая Регрессия                        NaN       0.738725   \n",
       "10         Дерево Решений                m_depth: 10       0.794712   \n",
       "309         Случайный Лес  (n_est: 21,  m_depth: 10)       0.804044   \n",
       "\n",
       "     validate_accuracy  \n",
       "0             0.713841  \n",
       "10            0.777605  \n",
       "309           0.807154  "
      ]
     },
     "execution_count": 22,
     "metadata": {},
     "output_type": "execute_result"
    }
   ],
   "source": [
    "temp = [top_models, model.sort_values('validate_accuracy',ascending=False).head(1)]\n",
    "top_models = pd.concat(temp)\n",
    "top_models"
   ]
  },
  {
   "cell_type": "code",
   "execution_count": 23,
   "metadata": {},
   "outputs": [
    {
     "data": {
      "text/plain": [
       "(590, 4)"
      ]
     },
     "execution_count": 23,
     "metadata": {},
     "output_type": "execute_result"
    }
   ],
   "source": [
    "model.shape"
   ]
  },
  {
   "cell_type": "code",
   "execution_count": 24,
   "metadata": {},
   "outputs": [
    {
     "data": {
      "text/html": [
       "<div>\n",
       "<style scoped>\n",
       "    .dataframe tbody tr th:only-of-type {\n",
       "        vertical-align: middle;\n",
       "    }\n",
       "\n",
       "    .dataframe tbody tr th {\n",
       "        vertical-align: top;\n",
       "    }\n",
       "\n",
       "    .dataframe thead th {\n",
       "        text-align: right;\n",
       "    }\n",
       "</style>\n",
       "<table border=\"1\" class=\"dataframe\">\n",
       "  <thead>\n",
       "    <tr style=\"text-align: right;\">\n",
       "      <th></th>\n",
       "      <th>name</th>\n",
       "      <th>model_var</th>\n",
       "      <th>test_accuracy</th>\n",
       "      <th>validate_accuracy</th>\n",
       "    </tr>\n",
       "  </thead>\n",
       "  <tbody>\n",
       "    <tr>\n",
       "      <th>0</th>\n",
       "      <td>Логическая Регрессия</td>\n",
       "      <td>NaN</td>\n",
       "      <td>0.738725</td>\n",
       "      <td>0.713841</td>\n",
       "    </tr>\n",
       "    <tr>\n",
       "      <th>10</th>\n",
       "      <td>Дерево Решений</td>\n",
       "      <td>m_depth: 10</td>\n",
       "      <td>0.794712</td>\n",
       "      <td>0.777605</td>\n",
       "    </tr>\n",
       "    <tr>\n",
       "      <th>309</th>\n",
       "      <td>Случайный Лес</td>\n",
       "      <td>(n_est: 21,  m_depth: 10)</td>\n",
       "      <td>0.804044</td>\n",
       "      <td>0.807154</td>\n",
       "    </tr>\n",
       "  </tbody>\n",
       "</table>\n",
       "</div>"
      ],
      "text/plain": [
       "                     name                  model_var  test_accuracy  \\\n",
       "0    Логическая Регрессия                        NaN       0.738725   \n",
       "10         Дерево Решений                m_depth: 10       0.794712   \n",
       "309         Случайный Лес  (n_est: 21,  m_depth: 10)       0.804044   \n",
       "\n",
       "     validate_accuracy  \n",
       "0             0.713841  \n",
       "10            0.777605  \n",
       "309           0.807154  "
      ]
     },
     "execution_count": 24,
     "metadata": {},
     "output_type": "execute_result"
    }
   ],
   "source": [
    "top_models"
   ]
  },
  {
   "cell_type": "markdown",
   "metadata": {},
   "source": [
    "### Вывод"
   ]
  },
  {
   "cell_type": "markdown",
   "metadata": {},
   "source": [
    "После исследования 3-х моделей, мы полечили 590 интераций. Лучшей оказалась Случайный лес с точностью 0.807 при значениях: максимальной глубины деревьев 10, числа деревьев 25 и ограничения на число объектов в листьях 2."
   ]
  },
  {
   "cell_type": "markdown",
   "metadata": {},
   "source": [
    "## Проверим модель на тестовой выборке"
   ]
  },
  {
   "cell_type": "markdown",
   "metadata": {},
   "source": [
    "Для сдачи проекта, доля правильных ответов должна быть по крайней мере 75%.<br>\n",
    "Ранее мы уже проверили наши модели на тестовых выборках и получили следующие результаты у лучших моделей:"
   ]
  },
  {
   "cell_type": "code",
   "execution_count": 25,
   "metadata": {},
   "outputs": [
    {
     "data": {
      "text/html": [
       "<div>\n",
       "<style scoped>\n",
       "    .dataframe tbody tr th:only-of-type {\n",
       "        vertical-align: middle;\n",
       "    }\n",
       "\n",
       "    .dataframe tbody tr th {\n",
       "        vertical-align: top;\n",
       "    }\n",
       "\n",
       "    .dataframe thead th {\n",
       "        text-align: right;\n",
       "    }\n",
       "</style>\n",
       "<table border=\"1\" class=\"dataframe\">\n",
       "  <thead>\n",
       "    <tr style=\"text-align: right;\">\n",
       "      <th></th>\n",
       "      <th>name</th>\n",
       "      <th>model_var</th>\n",
       "      <th>test_accuracy</th>\n",
       "      <th>validate_accuracy</th>\n",
       "    </tr>\n",
       "  </thead>\n",
       "  <tbody>\n",
       "    <tr>\n",
       "      <th>0</th>\n",
       "      <td>Логическая Регрессия</td>\n",
       "      <td>NaN</td>\n",
       "      <td>0.738725</td>\n",
       "      <td>0.713841</td>\n",
       "    </tr>\n",
       "    <tr>\n",
       "      <th>10</th>\n",
       "      <td>Дерево Решений</td>\n",
       "      <td>m_depth: 10</td>\n",
       "      <td>0.794712</td>\n",
       "      <td>0.777605</td>\n",
       "    </tr>\n",
       "    <tr>\n",
       "      <th>309</th>\n",
       "      <td>Случайный Лес</td>\n",
       "      <td>(n_est: 21,  m_depth: 10)</td>\n",
       "      <td>0.804044</td>\n",
       "      <td>0.807154</td>\n",
       "    </tr>\n",
       "  </tbody>\n",
       "</table>\n",
       "</div>"
      ],
      "text/plain": [
       "                     name                  model_var  test_accuracy  \\\n",
       "0    Логическая Регрессия                        NaN       0.738725   \n",
       "10         Дерево Решений                m_depth: 10       0.794712   \n",
       "309         Случайный Лес  (n_est: 21,  m_depth: 10)       0.804044   \n",
       "\n",
       "     validate_accuracy  \n",
       "0             0.713841  \n",
       "10            0.777605  \n",
       "309           0.807154  "
      ]
     },
     "execution_count": 25,
     "metadata": {},
     "output_type": "execute_result"
    }
   ],
   "source": [
    "top_models"
   ]
  },
  {
   "cell_type": "markdown",
   "metadata": {},
   "source": [
    "### Вывод"
   ]
  },
  {
   "cell_type": "markdown",
   "metadata": {},
   "source": [
    " Модели Дерево решений и Случайный лес соответствуют условию точности (доля правильных ответов более 75%)"
   ]
  },
  {
   "cell_type": "markdown",
   "metadata": {},
   "source": [
    "## Проверяем модель на адекватность"
   ]
  },
  {
   "cell_type": "markdown",
   "metadata": {},
   "source": [
    "Для проверки модели на адекватность, создадим baseline-модель. Пусть это будет Dummy классификатор. Если наша более сложная модель действительно дает нам прирост качества, то её точность должна быть выше."
   ]
  },
  {
   "cell_type": "code",
   "execution_count": 26,
   "metadata": {},
   "outputs": [
    {
     "name": "stderr",
     "output_type": "stream",
     "text": [
      "C:\\Users\\lyser\\AppData\\Local\\Temp\\ipykernel_34316\\314042525.py:19: FutureWarning: The frame.append method is deprecated and will be removed from pandas in a future version. Use pandas.concat instead.\n",
      "  top_models = top_models.append(model_data, ignore_index=True)\n"
     ]
    }
   ],
   "source": [
    "# Инициализируем модель\n",
    "model_DC = DummyClassifier(strategy='most_frequent', random_state=12345)\n",
    "\n",
    "# Обучаем модель\n",
    "model_DC.fit(features_trn, target_trn)\n",
    "\n",
    "# Cчитаем предсказания и точность полученной классификации\n",
    "predict_DC_tst = model_DC.predict(features_tst)\n",
    "predict_DC_vld = model_DC.predict(features_vld)\n",
    "\n",
    "# Добавляем результаты в датафрейм top_models\n",
    "name = 'Dummy классификатор'\n",
    "model_var = np.nan\n",
    "model_data = {\n",
    "    'name':name,\n",
    "    'model_var':model_var,\n",
    "    'test_accuracy':accuracy_score(predict_DC_tst,target_tst),\n",
    "    'validate_accuracy':accuracy_score(predict_DC_vld,target_vld)}\n",
    "top_models = top_models.append(model_data, ignore_index=True)"
   ]
  },
  {
   "cell_type": "code",
   "execution_count": 27,
   "metadata": {},
   "outputs": [
    {
     "data": {
      "text/html": [
       "<div>\n",
       "<style scoped>\n",
       "    .dataframe tbody tr th:only-of-type {\n",
       "        vertical-align: middle;\n",
       "    }\n",
       "\n",
       "    .dataframe tbody tr th {\n",
       "        vertical-align: top;\n",
       "    }\n",
       "\n",
       "    .dataframe thead th {\n",
       "        text-align: right;\n",
       "    }\n",
       "</style>\n",
       "<table border=\"1\" class=\"dataframe\">\n",
       "  <thead>\n",
       "    <tr style=\"text-align: right;\">\n",
       "      <th></th>\n",
       "      <th>name</th>\n",
       "      <th>model_var</th>\n",
       "      <th>test_accuracy</th>\n",
       "      <th>validate_accuracy</th>\n",
       "    </tr>\n",
       "  </thead>\n",
       "  <tbody>\n",
       "    <tr>\n",
       "      <th>0</th>\n",
       "      <td>Логическая Регрессия</td>\n",
       "      <td>NaN</td>\n",
       "      <td>0.738725</td>\n",
       "      <td>0.713841</td>\n",
       "    </tr>\n",
       "    <tr>\n",
       "      <th>1</th>\n",
       "      <td>Дерево Решений</td>\n",
       "      <td>m_depth: 10</td>\n",
       "      <td>0.794712</td>\n",
       "      <td>0.777605</td>\n",
       "    </tr>\n",
       "    <tr>\n",
       "      <th>2</th>\n",
       "      <td>Случайный Лес</td>\n",
       "      <td>(n_est: 21,  m_depth: 10)</td>\n",
       "      <td>0.804044</td>\n",
       "      <td>0.807154</td>\n",
       "    </tr>\n",
       "    <tr>\n",
       "      <th>3</th>\n",
       "      <td>Dummy классификатор</td>\n",
       "      <td>NaN</td>\n",
       "      <td>0.674961</td>\n",
       "      <td>0.668740</td>\n",
       "    </tr>\n",
       "  </tbody>\n",
       "</table>\n",
       "</div>"
      ],
      "text/plain": [
       "                   name                  model_var  test_accuracy  \\\n",
       "0  Логическая Регрессия                        NaN       0.738725   \n",
       "1        Дерево Решений                m_depth: 10       0.794712   \n",
       "2         Случайный Лес  (n_est: 21,  m_depth: 10)       0.804044   \n",
       "3   Dummy классификатор                        NaN       0.674961   \n",
       "\n",
       "   validate_accuracy  \n",
       "0           0.713841  \n",
       "1           0.777605  \n",
       "2           0.807154  \n",
       "3           0.668740  "
      ]
     },
     "execution_count": 27,
     "metadata": {},
     "output_type": "execute_result"
    }
   ],
   "source": [
    "top_models"
   ]
  },
  {
   "cell_type": "markdown",
   "metadata": {},
   "source": [
    "### Вывод"
   ]
  },
  {
   "cell_type": "markdown",
   "metadata": {},
   "source": [
    "Все наши модели показывают более высокую точность, а значит дают более качественные результаты."
   ]
  },
  {
   "cell_type": "markdown",
   "metadata": {},
   "source": [
    "## Общий вывод"
   ]
  },
  {
   "cell_type": "markdown",
   "metadata": {},
   "source": [
    "Исходный набор данных представляет собой таблицу (3214x5), в которой столбец is_ultra является целевым для задачи бинарной классификации. Данные уже прошли предобработку, мы только сменили тип данных в столбцах calls и messages на int64. Соотношение пользователей тарифов: «Ультра» — 30%, «Смарт» — 70%. Это говорит о том, что у нас в целевом признаке присутствует дисбаланс, то есть наша модель будет предвзята в сторону тарифа «Смарт». Предполагаю, что дисбаланс недостаточно ярковыраженн, чтобы была необходимость с ним бороться.\n",
    "\n",
    "Мы разбили датафрейм на 3 выборки: обучающую - 60% (df_trn), валидационную - 20% (df_vld) и тестовую - 20% (df_tst).\n",
    "\n",
    "После исследования 3-х моделей, мы получили 590 интераций. Лучшей оказалась Случайный лес с точностью 0.807 при значениях: максимальной глубины деревьев 10, числа деревьев 25 и ограничения на число объектов в листьях 2.\n",
    "\n",
    "После проверки наших моделей на тестовых выборках, мы определили, что модели Дерево решений и Случайный лес соответствуют условию точности (доля правильных ответов более 75%).\n",
    "\n",
    "Для проверки модели на адекватность, мы создали baseline-модель (Dummy классификатор). Все наши модели показывают более высокую точность, а значит дают более качественные результаты, а значит наши модели адекватны."
   ]
  }
 ],
 "metadata": {
  "ExecuteTimeLog": [
   {
    "duration": 426,
    "start_time": "2022-10-04T18:44:18.529Z"
   },
   {
    "duration": 112,
    "start_time": "2022-10-04T18:46:08.566Z"
   },
   {
    "duration": 17,
    "start_time": "2022-10-04T18:46:18.787Z"
   },
   {
    "duration": 12,
    "start_time": "2022-10-04T18:46:59.191Z"
   },
   {
    "duration": 68,
    "start_time": "2022-10-04T18:48:01.293Z"
   },
   {
    "duration": 25,
    "start_time": "2022-10-04T18:48:05.321Z"
   },
   {
    "duration": 57,
    "start_time": "2022-10-06T11:15:52.542Z"
   },
   {
    "duration": 395,
    "start_time": "2022-10-06T11:15:58.413Z"
   },
   {
    "duration": 117,
    "start_time": "2022-10-06T11:15:58.810Z"
   },
   {
    "duration": 19,
    "start_time": "2022-10-06T11:15:58.929Z"
   },
   {
    "duration": 11,
    "start_time": "2022-10-06T11:15:58.950Z"
   },
   {
    "duration": 26,
    "start_time": "2022-10-06T11:15:58.962Z"
   },
   {
    "duration": 68,
    "start_time": "2022-10-06T11:15:58.990Z"
   },
   {
    "duration": 6,
    "start_time": "2022-10-06T11:16:29.656Z"
   },
   {
    "duration": 821,
    "start_time": "2022-10-06T11:24:34.884Z"
   },
   {
    "duration": 916,
    "start_time": "2022-10-06T11:29:31.641Z"
   },
   {
    "duration": 492,
    "start_time": "2022-10-06T11:29:35.866Z"
   },
   {
    "duration": 430,
    "start_time": "2022-10-06T11:29:43.415Z"
   },
   {
    "duration": 53,
    "start_time": "2022-10-06T11:30:06.858Z"
   },
   {
    "duration": 73,
    "start_time": "2022-10-06T11:30:26.966Z"
   },
   {
    "duration": 3799,
    "start_time": "2022-10-06T11:30:30.553Z"
   },
   {
    "duration": 3958,
    "start_time": "2022-10-06T11:30:44.165Z"
   },
   {
    "duration": 1467,
    "start_time": "2022-10-06T11:40:14.950Z"
   },
   {
    "duration": 31,
    "start_time": "2022-10-06T11:40:16.419Z"
   },
   {
    "duration": 15,
    "start_time": "2022-10-06T11:40:16.451Z"
   },
   {
    "duration": 27,
    "start_time": "2022-10-06T11:40:16.468Z"
   },
   {
    "duration": 32,
    "start_time": "2022-10-06T11:40:16.497Z"
   },
   {
    "duration": 130,
    "start_time": "2022-10-06T11:40:16.531Z"
   },
   {
    "duration": 0,
    "start_time": "2022-10-06T11:40:16.662Z"
   },
   {
    "duration": 0,
    "start_time": "2022-10-06T11:40:16.663Z"
   },
   {
    "duration": 0,
    "start_time": "2022-10-06T11:40:16.664Z"
   },
   {
    "duration": 0,
    "start_time": "2022-10-06T11:40:16.665Z"
   },
   {
    "duration": 1507,
    "start_time": "2022-10-06T11:58:18.342Z"
   },
   {
    "duration": 30,
    "start_time": "2022-10-06T11:58:19.852Z"
   },
   {
    "duration": 16,
    "start_time": "2022-10-06T11:58:19.883Z"
   },
   {
    "duration": 12,
    "start_time": "2022-10-06T11:58:19.901Z"
   },
   {
    "duration": 29,
    "start_time": "2022-10-06T11:58:19.915Z"
   },
   {
    "duration": 5,
    "start_time": "2022-10-06T11:58:19.946Z"
   },
   {
    "duration": 14,
    "start_time": "2022-10-06T11:58:19.977Z"
   },
   {
    "duration": 15,
    "start_time": "2022-10-06T11:58:19.992Z"
   },
   {
    "duration": 23,
    "start_time": "2022-10-06T11:58:20.009Z"
   },
   {
    "duration": 7,
    "start_time": "2022-10-06T11:58:20.033Z"
   },
   {
    "duration": 5,
    "start_time": "2022-10-06T11:58:45.155Z"
   },
   {
    "duration": 14,
    "start_time": "2022-10-06T11:58:46.704Z"
   },
   {
    "duration": 13,
    "start_time": "2022-10-06T11:58:49.172Z"
   },
   {
    "duration": 19,
    "start_time": "2022-10-06T11:58:50.743Z"
   },
   {
    "duration": 1369,
    "start_time": "2022-10-06T11:58:56.899Z"
   },
   {
    "duration": 29,
    "start_time": "2022-10-06T11:58:58.270Z"
   },
   {
    "duration": 15,
    "start_time": "2022-10-06T11:58:58.301Z"
   },
   {
    "duration": 13,
    "start_time": "2022-10-06T11:58:58.317Z"
   },
   {
    "duration": 24,
    "start_time": "2022-10-06T11:58:58.332Z"
   },
   {
    "duration": 5,
    "start_time": "2022-10-06T11:58:58.358Z"
   },
   {
    "duration": 22,
    "start_time": "2022-10-06T11:58:58.365Z"
   },
   {
    "duration": 13,
    "start_time": "2022-10-06T11:58:58.389Z"
   },
   {
    "duration": 16,
    "start_time": "2022-10-06T11:58:58.403Z"
   },
   {
    "duration": 6,
    "start_time": "2022-10-06T11:58:58.420Z"
   },
   {
    "duration": 117,
    "start_time": "2022-10-06T11:59:37.645Z"
   },
   {
    "duration": 4,
    "start_time": "2022-10-06T11:59:42.881Z"
   },
   {
    "duration": 3,
    "start_time": "2022-10-06T11:59:51.279Z"
   },
   {
    "duration": 4,
    "start_time": "2022-10-06T11:59:51.832Z"
   },
   {
    "duration": 6,
    "start_time": "2022-10-06T12:06:32.344Z"
   },
   {
    "duration": 3,
    "start_time": "2022-10-06T12:06:33.441Z"
   },
   {
    "duration": 3,
    "start_time": "2022-10-06T12:06:33.799Z"
   },
   {
    "duration": 4,
    "start_time": "2022-10-06T12:06:34.102Z"
   },
   {
    "duration": 5,
    "start_time": "2022-10-06T12:09:15.565Z"
   },
   {
    "duration": 4,
    "start_time": "2022-10-06T12:09:25.183Z"
   },
   {
    "duration": 13,
    "start_time": "2022-10-06T12:09:30.501Z"
   },
   {
    "duration": 5,
    "start_time": "2022-10-06T12:09:33.111Z"
   },
   {
    "duration": 4,
    "start_time": "2022-10-06T12:13:33.217Z"
   },
   {
    "duration": 185,
    "start_time": "2022-10-06T12:13:33.588Z"
   },
   {
    "duration": 4,
    "start_time": "2022-10-06T12:13:34.013Z"
   },
   {
    "duration": 4,
    "start_time": "2022-10-06T12:13:38.892Z"
   },
   {
    "duration": 3,
    "start_time": "2022-10-06T12:13:39.766Z"
   },
   {
    "duration": 5,
    "start_time": "2022-10-06T12:14:15.806Z"
   },
   {
    "duration": 5,
    "start_time": "2022-10-06T12:14:16.535Z"
   },
   {
    "duration": 4,
    "start_time": "2022-10-06T12:14:17.224Z"
   },
   {
    "duration": 56,
    "start_time": "2022-10-06T12:25:35.160Z"
   },
   {
    "duration": 36,
    "start_time": "2022-10-06T12:26:16.474Z"
   },
   {
    "duration": 40,
    "start_time": "2022-10-06T12:28:13.596Z"
   },
   {
    "duration": 37,
    "start_time": "2022-10-06T12:29:51.822Z"
   },
   {
    "duration": 6,
    "start_time": "2022-10-06T12:36:32.118Z"
   },
   {
    "duration": 10,
    "start_time": "2022-10-06T12:37:01.916Z"
   },
   {
    "duration": 15820,
    "start_time": "2022-10-06T12:44:27.103Z"
   },
   {
    "duration": 16,
    "start_time": "2022-10-06T12:45:00.970Z"
   },
   {
    "duration": 16650,
    "start_time": "2022-10-06T12:45:06.626Z"
   },
   {
    "duration": 18233,
    "start_time": "2022-10-06T12:46:56.310Z"
   },
   {
    "duration": 18930,
    "start_time": "2022-10-06T12:47:28.268Z"
   },
   {
    "duration": 14,
    "start_time": "2022-10-06T12:50:47.018Z"
   },
   {
    "duration": 11,
    "start_time": "2022-10-06T12:51:14.268Z"
   },
   {
    "duration": 27,
    "start_time": "2022-10-06T12:56:14.487Z"
   },
   {
    "duration": 583,
    "start_time": "2022-10-06T12:56:22.072Z"
   },
   {
    "duration": 1870,
    "start_time": "2022-10-06T12:56:49.180Z"
   },
   {
    "duration": 1853,
    "start_time": "2022-10-06T12:57:07.677Z"
   },
   {
    "duration": 1875,
    "start_time": "2022-10-06T12:58:44.795Z"
   },
   {
    "duration": 12,
    "start_time": "2022-10-06T13:00:11.632Z"
   },
   {
    "duration": 1836,
    "start_time": "2022-10-06T13:00:42.102Z"
   },
   {
    "duration": 39,
    "start_time": "2022-10-06T13:01:56.349Z"
   },
   {
    "duration": 11,
    "start_time": "2022-10-06T13:02:56.763Z"
   },
   {
    "duration": 26,
    "start_time": "2022-10-06T13:03:19.902Z"
   },
   {
    "duration": 8,
    "start_time": "2022-10-06T13:03:23.490Z"
   },
   {
    "duration": 79,
    "start_time": "2022-10-06T13:07:36.763Z"
   },
   {
    "duration": 88,
    "start_time": "2022-10-06T13:08:08.993Z"
   },
   {
    "duration": 49,
    "start_time": "2022-10-06T13:08:35.649Z"
   },
   {
    "duration": 2039,
    "start_time": "2022-10-06T13:09:26.806Z"
   },
   {
    "duration": 5,
    "start_time": "2022-10-06T13:09:32.848Z"
   },
   {
    "duration": 12,
    "start_time": "2022-10-06T13:09:42.699Z"
   },
   {
    "duration": 1899,
    "start_time": "2022-10-06T13:10:41.026Z"
   },
   {
    "duration": 13,
    "start_time": "2022-10-06T13:10:43.995Z"
   },
   {
    "duration": 1369,
    "start_time": "2022-10-06T13:10:53.032Z"
   },
   {
    "duration": 31,
    "start_time": "2022-10-06T13:10:54.404Z"
   },
   {
    "duration": 15,
    "start_time": "2022-10-06T13:10:54.437Z"
   },
   {
    "duration": 21,
    "start_time": "2022-10-06T13:10:54.455Z"
   },
   {
    "duration": 38,
    "start_time": "2022-10-06T13:10:54.478Z"
   },
   {
    "duration": 4,
    "start_time": "2022-10-06T13:10:54.518Z"
   },
   {
    "duration": 31,
    "start_time": "2022-10-06T13:10:54.524Z"
   },
   {
    "duration": 11,
    "start_time": "2022-10-06T13:10:54.557Z"
   },
   {
    "duration": 21,
    "start_time": "2022-10-06T13:10:54.571Z"
   },
   {
    "duration": 5,
    "start_time": "2022-10-06T13:10:54.596Z"
   },
   {
    "duration": 9,
    "start_time": "2022-10-06T13:10:54.603Z"
   },
   {
    "duration": 7,
    "start_time": "2022-10-06T13:10:54.614Z"
   },
   {
    "duration": 39,
    "start_time": "2022-10-06T13:10:54.623Z"
   },
   {
    "duration": 19,
    "start_time": "2022-10-06T13:10:54.664Z"
   },
   {
    "duration": 10,
    "start_time": "2022-10-06T13:10:54.685Z"
   },
   {
    "duration": 136,
    "start_time": "2022-10-06T13:10:54.696Z"
   },
   {
    "duration": 0,
    "start_time": "2022-10-06T13:10:54.834Z"
   },
   {
    "duration": 0,
    "start_time": "2022-10-06T13:10:54.836Z"
   },
   {
    "duration": 0,
    "start_time": "2022-10-06T13:10:54.837Z"
   },
   {
    "duration": 1904,
    "start_time": "2022-10-06T13:11:03.016Z"
   },
   {
    "duration": 14,
    "start_time": "2022-10-06T13:11:05.453Z"
   },
   {
    "duration": 145,
    "start_time": "2022-10-06T13:12:16.449Z"
   },
   {
    "duration": 1981,
    "start_time": "2022-10-06T13:12:32.088Z"
   },
   {
    "duration": 13,
    "start_time": "2022-10-06T13:12:36.349Z"
   },
   {
    "duration": 1824,
    "start_time": "2022-10-06T13:12:47.750Z"
   },
   {
    "duration": 14,
    "start_time": "2022-10-06T13:12:50.028Z"
   },
   {
    "duration": 1551,
    "start_time": "2022-10-06T13:13:00.391Z"
   },
   {
    "duration": 33,
    "start_time": "2022-10-06T13:13:01.944Z"
   },
   {
    "duration": 16,
    "start_time": "2022-10-06T13:13:01.978Z"
   },
   {
    "duration": 68,
    "start_time": "2022-10-06T13:13:01.996Z"
   },
   {
    "duration": 48,
    "start_time": "2022-10-06T13:13:02.068Z"
   },
   {
    "duration": 7,
    "start_time": "2022-10-06T13:13:02.118Z"
   },
   {
    "duration": 23,
    "start_time": "2022-10-06T13:13:02.126Z"
   },
   {
    "duration": 23,
    "start_time": "2022-10-06T13:13:02.150Z"
   },
   {
    "duration": 36,
    "start_time": "2022-10-06T13:13:02.174Z"
   },
   {
    "duration": 79,
    "start_time": "2022-10-06T13:13:02.212Z"
   },
   {
    "duration": 31,
    "start_time": "2022-10-06T13:13:02.293Z"
   },
   {
    "duration": 28,
    "start_time": "2022-10-06T13:13:02.326Z"
   },
   {
    "duration": 45,
    "start_time": "2022-10-06T13:13:02.356Z"
   },
   {
    "duration": 10,
    "start_time": "2022-10-06T13:13:02.404Z"
   },
   {
    "duration": 36,
    "start_time": "2022-10-06T13:13:02.415Z"
   },
   {
    "duration": 1862,
    "start_time": "2022-10-06T13:13:02.453Z"
   },
   {
    "duration": 14,
    "start_time": "2022-10-06T13:13:04.316Z"
   },
   {
    "duration": 116,
    "start_time": "2022-10-06T13:13:04.331Z"
   },
   {
    "duration": 16,
    "start_time": "2022-10-06T13:13:54.948Z"
   },
   {
    "duration": 1504,
    "start_time": "2022-10-06T13:22:29.368Z"
   },
   {
    "duration": 31,
    "start_time": "2022-10-06T13:22:30.874Z"
   },
   {
    "duration": 16,
    "start_time": "2022-10-06T13:22:30.907Z"
   },
   {
    "duration": 19,
    "start_time": "2022-10-06T13:22:30.925Z"
   },
   {
    "duration": 37,
    "start_time": "2022-10-06T13:22:30.946Z"
   },
   {
    "duration": 5,
    "start_time": "2022-10-06T13:22:30.985Z"
   },
   {
    "duration": 21,
    "start_time": "2022-10-06T13:22:30.992Z"
   },
   {
    "duration": 11,
    "start_time": "2022-10-06T13:22:31.015Z"
   },
   {
    "duration": 18,
    "start_time": "2022-10-06T13:22:31.027Z"
   },
   {
    "duration": 9,
    "start_time": "2022-10-06T13:22:31.046Z"
   },
   {
    "duration": 17,
    "start_time": "2022-10-06T13:22:31.056Z"
   },
   {
    "duration": 13,
    "start_time": "2022-10-06T13:22:31.075Z"
   },
   {
    "duration": 69,
    "start_time": "2022-10-06T13:22:31.090Z"
   },
   {
    "duration": 12,
    "start_time": "2022-10-06T13:22:31.163Z"
   },
   {
    "duration": 18,
    "start_time": "2022-10-06T13:22:31.177Z"
   },
   {
    "duration": 2031,
    "start_time": "2022-10-06T13:22:31.197Z"
   },
   {
    "duration": 15,
    "start_time": "2022-10-06T13:22:33.229Z"
   },
   {
    "duration": 132,
    "start_time": "2022-10-06T13:22:33.246Z"
   },
   {
    "duration": 1482,
    "start_time": "2022-10-06T13:23:01.388Z"
   },
   {
    "duration": 31,
    "start_time": "2022-10-06T13:23:02.872Z"
   },
   {
    "duration": 14,
    "start_time": "2022-10-06T13:23:02.904Z"
   },
   {
    "duration": 11,
    "start_time": "2022-10-06T13:23:02.920Z"
   },
   {
    "duration": 26,
    "start_time": "2022-10-06T13:23:02.933Z"
   },
   {
    "duration": 5,
    "start_time": "2022-10-06T13:23:02.961Z"
   },
   {
    "duration": 10,
    "start_time": "2022-10-06T13:23:02.967Z"
   },
   {
    "duration": 3,
    "start_time": "2022-10-06T13:23:02.979Z"
   },
   {
    "duration": 7,
    "start_time": "2022-10-06T13:23:02.984Z"
   },
   {
    "duration": 14,
    "start_time": "2022-10-06T13:23:02.993Z"
   },
   {
    "duration": 11,
    "start_time": "2022-10-06T13:23:03.008Z"
   },
   {
    "duration": 6,
    "start_time": "2022-10-06T13:23:03.021Z"
   },
   {
    "duration": 47,
    "start_time": "2022-10-06T13:23:03.029Z"
   },
   {
    "duration": 10,
    "start_time": "2022-10-06T13:23:03.079Z"
   },
   {
    "duration": 10,
    "start_time": "2022-10-06T13:23:03.090Z"
   },
   {
    "duration": 1872,
    "start_time": "2022-10-06T13:23:03.102Z"
   },
   {
    "duration": 15,
    "start_time": "2022-10-06T13:23:04.976Z"
   },
   {
    "duration": 121,
    "start_time": "2022-10-06T13:23:04.994Z"
   },
   {
    "duration": 1522,
    "start_time": "2022-10-06T13:23:54.851Z"
   },
   {
    "duration": 31,
    "start_time": "2022-10-06T13:23:56.374Z"
   },
   {
    "duration": 15,
    "start_time": "2022-10-06T13:23:56.406Z"
   },
   {
    "duration": 11,
    "start_time": "2022-10-06T13:23:56.423Z"
   },
   {
    "duration": 24,
    "start_time": "2022-10-06T13:23:56.437Z"
   },
   {
    "duration": 5,
    "start_time": "2022-10-06T13:23:56.463Z"
   },
   {
    "duration": 11,
    "start_time": "2022-10-06T13:23:56.470Z"
   },
   {
    "duration": 7,
    "start_time": "2022-10-06T13:23:56.482Z"
   },
   {
    "duration": 10,
    "start_time": "2022-10-06T13:23:56.490Z"
   },
   {
    "duration": 7,
    "start_time": "2022-10-06T13:23:56.501Z"
   },
   {
    "duration": 6,
    "start_time": "2022-10-06T13:23:56.509Z"
   },
   {
    "duration": 8,
    "start_time": "2022-10-06T13:23:56.516Z"
   },
   {
    "duration": 53,
    "start_time": "2022-10-06T13:23:56.525Z"
   },
   {
    "duration": 11,
    "start_time": "2022-10-06T13:23:56.580Z"
   },
   {
    "duration": 18,
    "start_time": "2022-10-06T13:23:56.593Z"
   },
   {
    "duration": 1432,
    "start_time": "2022-10-06T13:26:03.102Z"
   },
   {
    "duration": 31,
    "start_time": "2022-10-06T13:26:04.536Z"
   },
   {
    "duration": 27,
    "start_time": "2022-10-06T13:26:04.570Z"
   },
   {
    "duration": 25,
    "start_time": "2022-10-06T13:26:04.599Z"
   },
   {
    "duration": 27,
    "start_time": "2022-10-06T13:26:04.626Z"
   },
   {
    "duration": 8,
    "start_time": "2022-10-06T13:26:04.655Z"
   },
   {
    "duration": 15,
    "start_time": "2022-10-06T13:26:04.665Z"
   },
   {
    "duration": 5,
    "start_time": "2022-10-06T13:26:04.682Z"
   },
   {
    "duration": 16,
    "start_time": "2022-10-06T13:26:04.693Z"
   },
   {
    "duration": 9,
    "start_time": "2022-10-06T13:26:04.711Z"
   },
   {
    "duration": 7,
    "start_time": "2022-10-06T13:26:04.724Z"
   },
   {
    "duration": 7,
    "start_time": "2022-10-06T13:26:04.734Z"
   },
   {
    "duration": 95,
    "start_time": "2022-10-06T13:26:04.745Z"
   },
   {
    "duration": 14,
    "start_time": "2022-10-06T13:26:04.844Z"
   },
   {
    "duration": 35,
    "start_time": "2022-10-06T13:26:04.860Z"
   },
   {
    "duration": 29095,
    "start_time": "2022-10-06T13:26:04.901Z"
   },
   {
    "duration": 17,
    "start_time": "2022-10-06T13:26:33.998Z"
   },
   {
    "duration": 129,
    "start_time": "2022-10-06T13:26:34.017Z"
   },
   {
    "duration": 1435,
    "start_time": "2022-10-06T13:27:05.377Z"
   },
   {
    "duration": 31,
    "start_time": "2022-10-06T13:27:06.814Z"
   },
   {
    "duration": 15,
    "start_time": "2022-10-06T13:27:06.847Z"
   },
   {
    "duration": 32,
    "start_time": "2022-10-06T13:27:06.864Z"
   },
   {
    "duration": 49,
    "start_time": "2022-10-06T13:27:06.899Z"
   },
   {
    "duration": 6,
    "start_time": "2022-10-06T13:27:06.950Z"
   },
   {
    "duration": 15,
    "start_time": "2022-10-06T13:27:06.958Z"
   },
   {
    "duration": 29,
    "start_time": "2022-10-06T13:27:06.975Z"
   },
   {
    "duration": 22,
    "start_time": "2022-10-06T13:27:07.006Z"
   },
   {
    "duration": 27,
    "start_time": "2022-10-06T13:27:07.030Z"
   },
   {
    "duration": 51,
    "start_time": "2022-10-06T13:27:07.059Z"
   },
   {
    "duration": 29,
    "start_time": "2022-10-06T13:27:07.112Z"
   },
   {
    "duration": 60,
    "start_time": "2022-10-06T13:27:07.142Z"
   },
   {
    "duration": 12,
    "start_time": "2022-10-06T13:27:07.205Z"
   },
   {
    "duration": 30,
    "start_time": "2022-10-06T13:27:07.219Z"
   },
   {
    "duration": 72918,
    "start_time": "2022-10-06T13:27:07.251Z"
   },
   {
    "duration": 26,
    "start_time": "2022-10-06T13:28:20.171Z"
   },
   {
    "duration": 124,
    "start_time": "2022-10-06T13:28:20.199Z"
   },
   {
    "duration": 13,
    "start_time": "2022-10-06T13:28:43.293Z"
   },
   {
    "duration": 1446,
    "start_time": "2022-10-06T13:29:01.569Z"
   },
   {
    "duration": 34,
    "start_time": "2022-10-06T13:29:03.018Z"
   },
   {
    "duration": 20,
    "start_time": "2022-10-06T13:29:03.054Z"
   },
   {
    "duration": 21,
    "start_time": "2022-10-06T13:29:03.076Z"
   },
   {
    "duration": 31,
    "start_time": "2022-10-06T13:29:03.100Z"
   },
   {
    "duration": 6,
    "start_time": "2022-10-06T13:29:03.133Z"
   },
   {
    "duration": 7,
    "start_time": "2022-10-06T13:29:03.141Z"
   },
   {
    "duration": 6,
    "start_time": "2022-10-06T13:29:03.150Z"
   },
   {
    "duration": 22,
    "start_time": "2022-10-06T13:29:03.158Z"
   },
   {
    "duration": 13,
    "start_time": "2022-10-06T13:29:03.186Z"
   },
   {
    "duration": 5,
    "start_time": "2022-10-06T13:29:03.201Z"
   },
   {
    "duration": 6,
    "start_time": "2022-10-06T13:29:03.208Z"
   },
   {
    "duration": 41,
    "start_time": "2022-10-06T13:29:03.215Z"
   },
   {
    "duration": 10,
    "start_time": "2022-10-06T13:29:03.258Z"
   },
   {
    "duration": 29,
    "start_time": "2022-10-06T13:29:03.269Z"
   },
   {
    "duration": 28018,
    "start_time": "2022-10-06T13:29:03.300Z"
   },
   {
    "duration": 16,
    "start_time": "2022-10-06T13:29:31.320Z"
   },
   {
    "duration": 45,
    "start_time": "2022-10-06T13:29:31.337Z"
   },
   {
    "duration": 140,
    "start_time": "2022-10-06T13:29:31.388Z"
   },
   {
    "duration": 1441,
    "start_time": "2022-10-06T13:33:28.559Z"
   },
   {
    "duration": 31,
    "start_time": "2022-10-06T13:33:30.003Z"
   },
   {
    "duration": 15,
    "start_time": "2022-10-06T13:33:30.036Z"
   },
   {
    "duration": 20,
    "start_time": "2022-10-06T13:33:30.053Z"
   },
   {
    "duration": 27,
    "start_time": "2022-10-06T13:33:30.076Z"
   },
   {
    "duration": 29,
    "start_time": "2022-10-06T13:33:30.105Z"
   },
   {
    "duration": 26,
    "start_time": "2022-10-06T13:33:30.135Z"
   },
   {
    "duration": 38,
    "start_time": "2022-10-06T13:33:30.162Z"
   },
   {
    "duration": 46,
    "start_time": "2022-10-06T13:33:30.201Z"
   },
   {
    "duration": 43,
    "start_time": "2022-10-06T13:33:30.249Z"
   },
   {
    "duration": 39,
    "start_time": "2022-10-06T13:33:30.293Z"
   },
   {
    "duration": 31,
    "start_time": "2022-10-06T13:33:30.333Z"
   },
   {
    "duration": 96,
    "start_time": "2022-10-06T13:33:30.366Z"
   },
   {
    "duration": 14,
    "start_time": "2022-10-06T13:33:30.464Z"
   },
   {
    "duration": 43,
    "start_time": "2022-10-06T13:33:30.480Z"
   },
   {
    "duration": 28030,
    "start_time": "2022-10-06T13:33:30.525Z"
   },
   {
    "duration": 34,
    "start_time": "2022-10-06T13:33:58.557Z"
   },
   {
    "duration": 44,
    "start_time": "2022-10-06T13:33:58.593Z"
   },
   {
    "duration": 132,
    "start_time": "2022-10-06T13:33:58.640Z"
   },
   {
    "duration": 1530,
    "start_time": "2022-10-06T13:34:16.550Z"
   },
   {
    "duration": 38,
    "start_time": "2022-10-06T13:34:18.086Z"
   },
   {
    "duration": 15,
    "start_time": "2022-10-06T13:34:18.126Z"
   },
   {
    "duration": 17,
    "start_time": "2022-10-06T13:34:18.143Z"
   },
   {
    "duration": 35,
    "start_time": "2022-10-06T13:34:18.162Z"
   },
   {
    "duration": 6,
    "start_time": "2022-10-06T13:34:18.200Z"
   },
   {
    "duration": 5,
    "start_time": "2022-10-06T13:34:18.209Z"
   },
   {
    "duration": 6,
    "start_time": "2022-10-06T13:34:18.216Z"
   },
   {
    "duration": 9,
    "start_time": "2022-10-06T13:34:18.224Z"
   },
   {
    "duration": 6,
    "start_time": "2022-10-06T13:34:18.236Z"
   },
   {
    "duration": 36,
    "start_time": "2022-10-06T13:34:18.244Z"
   },
   {
    "duration": 18,
    "start_time": "2022-10-06T13:34:18.290Z"
   },
   {
    "duration": 54,
    "start_time": "2022-10-06T13:34:18.311Z"
   },
   {
    "duration": 24,
    "start_time": "2022-10-06T13:34:18.367Z"
   },
   {
    "duration": 13,
    "start_time": "2022-10-06T13:34:18.393Z"
   },
   {
    "duration": 28154,
    "start_time": "2022-10-06T13:34:18.408Z"
   },
   {
    "duration": 41,
    "start_time": "2022-10-06T13:34:46.564Z"
   },
   {
    "duration": 21,
    "start_time": "2022-10-06T13:34:46.608Z"
   },
   {
    "duration": 164,
    "start_time": "2022-10-06T13:34:46.631Z"
   },
   {
    "duration": 1409,
    "start_time": "2022-10-06T13:35:07.538Z"
   },
   {
    "duration": 38,
    "start_time": "2022-10-06T13:35:08.950Z"
   },
   {
    "duration": 22,
    "start_time": "2022-10-06T13:35:08.990Z"
   },
   {
    "duration": 22,
    "start_time": "2022-10-06T13:35:09.014Z"
   },
   {
    "duration": 31,
    "start_time": "2022-10-06T13:35:09.038Z"
   },
   {
    "duration": 5,
    "start_time": "2022-10-06T13:35:09.071Z"
   },
   {
    "duration": 25,
    "start_time": "2022-10-06T13:35:09.081Z"
   },
   {
    "duration": 13,
    "start_time": "2022-10-06T13:35:09.108Z"
   },
   {
    "duration": 8,
    "start_time": "2022-10-06T13:35:09.123Z"
   },
   {
    "duration": 7,
    "start_time": "2022-10-06T13:35:09.135Z"
   },
   {
    "duration": 11,
    "start_time": "2022-10-06T13:35:09.144Z"
   },
   {
    "duration": 10,
    "start_time": "2022-10-06T13:35:09.156Z"
   },
   {
    "duration": 48,
    "start_time": "2022-10-06T13:35:09.167Z"
   },
   {
    "duration": 10,
    "start_time": "2022-10-06T13:35:09.217Z"
   },
   {
    "duration": 19,
    "start_time": "2022-10-06T13:35:09.229Z"
   },
   {
    "duration": 27833,
    "start_time": "2022-10-06T13:35:09.250Z"
   },
   {
    "duration": 27,
    "start_time": "2022-10-06T13:35:37.085Z"
   },
   {
    "duration": 16,
    "start_time": "2022-10-06T13:35:37.114Z"
   },
   {
    "duration": 129,
    "start_time": "2022-10-06T13:35:37.132Z"
   },
   {
    "duration": 1467,
    "start_time": "2022-10-06T13:35:54.681Z"
   },
   {
    "duration": 32,
    "start_time": "2022-10-06T13:35:56.150Z"
   },
   {
    "duration": 17,
    "start_time": "2022-10-06T13:35:56.184Z"
   },
   {
    "duration": 25,
    "start_time": "2022-10-06T13:35:56.202Z"
   },
   {
    "duration": 25,
    "start_time": "2022-10-06T13:35:56.229Z"
   },
   {
    "duration": 5,
    "start_time": "2022-10-06T13:35:56.256Z"
   },
   {
    "duration": 23,
    "start_time": "2022-10-06T13:35:56.263Z"
   },
   {
    "duration": 13,
    "start_time": "2022-10-06T13:35:56.290Z"
   },
   {
    "duration": 45,
    "start_time": "2022-10-06T13:35:56.304Z"
   },
   {
    "duration": 11,
    "start_time": "2022-10-06T13:35:56.351Z"
   },
   {
    "duration": 32,
    "start_time": "2022-10-06T13:35:56.364Z"
   },
   {
    "duration": 17,
    "start_time": "2022-10-06T13:35:56.398Z"
   },
   {
    "duration": 50,
    "start_time": "2022-10-06T13:35:56.417Z"
   },
   {
    "duration": 15,
    "start_time": "2022-10-06T13:35:56.469Z"
   },
   {
    "duration": 28250,
    "start_time": "2022-10-06T13:35:56.486Z"
   },
   {
    "duration": 20,
    "start_time": "2022-10-06T13:36:24.738Z"
   },
   {
    "duration": 33,
    "start_time": "2022-10-06T13:36:24.760Z"
   },
   {
    "duration": 133,
    "start_time": "2022-10-06T13:36:24.796Z"
   },
   {
    "duration": 1498,
    "start_time": "2022-10-06T13:36:35.666Z"
   },
   {
    "duration": 39,
    "start_time": "2022-10-06T13:36:37.167Z"
   },
   {
    "duration": 16,
    "start_time": "2022-10-06T13:36:37.207Z"
   },
   {
    "duration": 12,
    "start_time": "2022-10-06T13:36:37.226Z"
   },
   {
    "duration": 25,
    "start_time": "2022-10-06T13:36:37.239Z"
   },
   {
    "duration": 21,
    "start_time": "2022-10-06T13:36:37.266Z"
   },
   {
    "duration": 4,
    "start_time": "2022-10-06T13:36:37.292Z"
   },
   {
    "duration": 7,
    "start_time": "2022-10-06T13:36:37.298Z"
   },
   {
    "duration": 6,
    "start_time": "2022-10-06T13:36:37.307Z"
   },
   {
    "duration": 6,
    "start_time": "2022-10-06T13:36:37.315Z"
   },
   {
    "duration": 8,
    "start_time": "2022-10-06T13:36:37.323Z"
   },
   {
    "duration": 8,
    "start_time": "2022-10-06T13:36:37.332Z"
   },
   {
    "duration": 51,
    "start_time": "2022-10-06T13:36:37.341Z"
   },
   {
    "duration": 10,
    "start_time": "2022-10-06T13:36:37.394Z"
   },
   {
    "duration": 27900,
    "start_time": "2022-10-06T13:36:37.406Z"
   },
   {
    "duration": 21,
    "start_time": "2022-10-06T13:37:05.308Z"
   },
   {
    "duration": 29,
    "start_time": "2022-10-06T13:37:05.331Z"
   },
   {
    "duration": 179,
    "start_time": "2022-10-06T13:37:05.362Z"
   },
   {
    "duration": 1378,
    "start_time": "2022-10-06T13:37:39.617Z"
   },
   {
    "duration": 31,
    "start_time": "2022-10-06T13:37:40.997Z"
   },
   {
    "duration": 14,
    "start_time": "2022-10-06T13:37:41.030Z"
   },
   {
    "duration": 12,
    "start_time": "2022-10-06T13:37:41.046Z"
   },
   {
    "duration": 32,
    "start_time": "2022-10-06T13:37:41.060Z"
   },
   {
    "duration": 5,
    "start_time": "2022-10-06T13:37:41.096Z"
   },
   {
    "duration": 5,
    "start_time": "2022-10-06T13:37:41.103Z"
   },
   {
    "duration": 6,
    "start_time": "2022-10-06T13:37:41.110Z"
   },
   {
    "duration": 6,
    "start_time": "2022-10-06T13:37:41.118Z"
   },
   {
    "duration": 5,
    "start_time": "2022-10-06T13:37:41.125Z"
   },
   {
    "duration": 6,
    "start_time": "2022-10-06T13:37:41.132Z"
   },
   {
    "duration": 17,
    "start_time": "2022-10-06T13:37:41.139Z"
   },
   {
    "duration": 53,
    "start_time": "2022-10-06T13:37:41.157Z"
   },
   {
    "duration": 11,
    "start_time": "2022-10-06T13:37:41.212Z"
   },
   {
    "duration": 27780,
    "start_time": "2022-10-06T13:37:41.225Z"
   },
   {
    "duration": 17,
    "start_time": "2022-10-06T13:38:09.007Z"
   },
   {
    "duration": 13,
    "start_time": "2022-10-06T13:38:09.027Z"
   },
   {
    "duration": 147,
    "start_time": "2022-10-06T13:38:09.042Z"
   },
   {
    "duration": 178,
    "start_time": "2022-10-06T13:40:39.798Z"
   },
   {
    "duration": 1400,
    "start_time": "2022-10-06T13:40:47.610Z"
   },
   {
    "duration": 1392,
    "start_time": "2022-10-06T13:40:59.406Z"
   },
   {
    "duration": 1450,
    "start_time": "2022-10-06T13:43:52.895Z"
   },
   {
    "duration": 38,
    "start_time": "2022-10-06T13:43:54.347Z"
   },
   {
    "duration": 17,
    "start_time": "2022-10-06T13:43:54.388Z"
   },
   {
    "duration": 13,
    "start_time": "2022-10-06T13:43:54.407Z"
   },
   {
    "duration": 27,
    "start_time": "2022-10-06T13:43:54.422Z"
   },
   {
    "duration": 6,
    "start_time": "2022-10-06T13:43:54.451Z"
   },
   {
    "duration": 20,
    "start_time": "2022-10-06T13:43:54.458Z"
   },
   {
    "duration": 10,
    "start_time": "2022-10-06T13:43:54.483Z"
   },
   {
    "duration": 7,
    "start_time": "2022-10-06T13:43:54.494Z"
   },
   {
    "duration": 5,
    "start_time": "2022-10-06T13:43:54.503Z"
   },
   {
    "duration": 6,
    "start_time": "2022-10-06T13:43:54.509Z"
   },
   {
    "duration": 6,
    "start_time": "2022-10-06T13:43:54.517Z"
   },
   {
    "duration": 69,
    "start_time": "2022-10-06T13:43:54.525Z"
   },
   {
    "duration": 12,
    "start_time": "2022-10-06T13:43:54.596Z"
   },
   {
    "duration": 28293,
    "start_time": "2022-10-06T13:43:54.610Z"
   },
   {
    "duration": 12,
    "start_time": "2022-10-06T13:44:22.905Z"
   },
   {
    "duration": 1497,
    "start_time": "2022-10-06T13:44:22.918Z"
   },
   {
    "duration": 11,
    "start_time": "2022-10-06T13:44:24.417Z"
   },
   {
    "duration": 1463,
    "start_time": "2022-10-06T13:45:35.701Z"
   },
   {
    "duration": 39,
    "start_time": "2022-10-06T13:45:37.167Z"
   },
   {
    "duration": 15,
    "start_time": "2022-10-06T13:45:37.207Z"
   },
   {
    "duration": 11,
    "start_time": "2022-10-06T13:45:37.223Z"
   },
   {
    "duration": 27,
    "start_time": "2022-10-06T13:45:37.236Z"
   },
   {
    "duration": 5,
    "start_time": "2022-10-06T13:45:37.264Z"
   },
   {
    "duration": 13,
    "start_time": "2022-10-06T13:45:37.276Z"
   },
   {
    "duration": 11,
    "start_time": "2022-10-06T13:45:37.292Z"
   },
   {
    "duration": 7,
    "start_time": "2022-10-06T13:45:37.305Z"
   },
   {
    "duration": 7,
    "start_time": "2022-10-06T13:45:37.313Z"
   },
   {
    "duration": 9,
    "start_time": "2022-10-06T13:45:37.321Z"
   },
   {
    "duration": 7,
    "start_time": "2022-10-06T13:45:37.331Z"
   },
   {
    "duration": 51,
    "start_time": "2022-10-06T13:45:37.340Z"
   },
   {
    "duration": 10,
    "start_time": "2022-10-06T13:45:37.394Z"
   },
   {
    "duration": 1544,
    "start_time": "2022-10-06T13:45:37.405Z"
   },
   {
    "duration": 10,
    "start_time": "2022-10-06T13:45:38.951Z"
   },
   {
    "duration": 28100,
    "start_time": "2022-10-06T13:45:38.962Z"
   },
   {
    "duration": 21,
    "start_time": "2022-10-06T13:46:07.064Z"
   },
   {
    "duration": 12,
    "start_time": "2022-10-06T13:46:18.793Z"
   },
   {
    "duration": 111,
    "start_time": "2022-10-06T13:47:59.358Z"
   },
   {
    "duration": 938,
    "start_time": "2022-10-06T13:48:11.138Z"
   },
   {
    "duration": 980,
    "start_time": "2022-10-06T13:48:32.666Z"
   },
   {
    "duration": 999,
    "start_time": "2022-10-06T13:48:46.663Z"
   },
   {
    "duration": 9,
    "start_time": "2022-10-06T13:49:12.164Z"
   },
   {
    "duration": 13,
    "start_time": "2022-10-06T13:49:43.870Z"
   },
   {
    "duration": 12,
    "start_time": "2022-10-06T13:50:11.080Z"
   },
   {
    "duration": 11,
    "start_time": "2022-10-06T13:52:11.111Z"
   },
   {
    "duration": 13,
    "start_time": "2022-10-06T13:52:31.281Z"
   },
   {
    "duration": 10,
    "start_time": "2022-10-06T13:53:02.140Z"
   },
   {
    "duration": 10,
    "start_time": "2022-10-06T13:53:17.848Z"
   },
   {
    "duration": 23,
    "start_time": "2022-10-06T13:53:37.076Z"
   },
   {
    "duration": 210,
    "start_time": "2022-10-06T13:53:47.555Z"
   },
   {
    "duration": 49,
    "start_time": "2022-10-06T13:54:44.435Z"
   },
   {
    "duration": 10,
    "start_time": "2022-10-06T13:54:50.933Z"
   },
   {
    "duration": 13,
    "start_time": "2022-10-06T13:55:09.628Z"
   },
   {
    "duration": 214,
    "start_time": "2022-10-06T13:55:36.315Z"
   },
   {
    "duration": 1331,
    "start_time": "2022-10-06T13:57:02.415Z"
   },
   {
    "duration": 31,
    "start_time": "2022-10-06T13:57:03.748Z"
   },
   {
    "duration": 16,
    "start_time": "2022-10-06T13:57:03.781Z"
   },
   {
    "duration": 24,
    "start_time": "2022-10-06T13:57:03.799Z"
   },
   {
    "duration": 43,
    "start_time": "2022-10-06T13:57:03.825Z"
   },
   {
    "duration": 5,
    "start_time": "2022-10-06T13:57:03.871Z"
   },
   {
    "duration": 23,
    "start_time": "2022-10-06T13:57:03.878Z"
   },
   {
    "duration": 17,
    "start_time": "2022-10-06T13:57:03.903Z"
   },
   {
    "duration": 28,
    "start_time": "2022-10-06T13:57:03.922Z"
   },
   {
    "duration": 13,
    "start_time": "2022-10-06T13:57:03.953Z"
   },
   {
    "duration": 23,
    "start_time": "2022-10-06T13:57:03.968Z"
   },
   {
    "duration": 30,
    "start_time": "2022-10-06T13:57:03.992Z"
   },
   {
    "duration": 49,
    "start_time": "2022-10-06T13:57:04.024Z"
   },
   {
    "duration": 10,
    "start_time": "2022-10-06T13:57:04.075Z"
   },
   {
    "duration": 1469,
    "start_time": "2022-10-06T13:57:04.087Z"
   },
   {
    "duration": 10,
    "start_time": "2022-10-06T13:57:05.557Z"
   },
   {
    "duration": 35446,
    "start_time": "2022-10-06T13:57:05.568Z"
   },
   {
    "duration": 12,
    "start_time": "2022-10-06T13:57:41.016Z"
   },
   {
    "duration": 12,
    "start_time": "2022-10-06T13:57:41.029Z"
   },
   {
    "duration": 13,
    "start_time": "2022-10-06T13:58:39.542Z"
   },
   {
    "duration": 4,
    "start_time": "2022-10-06T13:59:08.508Z"
   },
   {
    "duration": 37,
    "start_time": "2022-10-06T13:59:56.246Z"
   },
   {
    "duration": 98,
    "start_time": "2022-10-06T14:03:33.784Z"
   },
   {
    "duration": 35271,
    "start_time": "2022-10-06T14:14:50.560Z"
   },
   {
    "duration": 69,
    "start_time": "2022-10-06T14:21:59.421Z"
   },
   {
    "duration": 5,
    "start_time": "2022-10-06T14:34:31.250Z"
   },
   {
    "duration": 5,
    "start_time": "2022-10-06T14:35:21.202Z"
   },
   {
    "duration": 1364,
    "start_time": "2022-10-06T14:35:58.305Z"
   },
   {
    "duration": 31,
    "start_time": "2022-10-06T14:35:59.672Z"
   },
   {
    "duration": 17,
    "start_time": "2022-10-06T14:35:59.704Z"
   },
   {
    "duration": 11,
    "start_time": "2022-10-06T14:35:59.723Z"
   },
   {
    "duration": 24,
    "start_time": "2022-10-06T14:35:59.735Z"
   },
   {
    "duration": 4,
    "start_time": "2022-10-06T14:35:59.761Z"
   },
   {
    "duration": 10,
    "start_time": "2022-10-06T14:35:59.767Z"
   },
   {
    "duration": 7,
    "start_time": "2022-10-06T14:35:59.779Z"
   },
   {
    "duration": 6,
    "start_time": "2022-10-06T14:35:59.787Z"
   },
   {
    "duration": 6,
    "start_time": "2022-10-06T14:35:59.795Z"
   },
   {
    "duration": 7,
    "start_time": "2022-10-06T14:35:59.802Z"
   },
   {
    "duration": 5,
    "start_time": "2022-10-06T14:35:59.811Z"
   },
   {
    "duration": 60,
    "start_time": "2022-10-06T14:35:59.818Z"
   },
   {
    "duration": 12,
    "start_time": "2022-10-06T14:35:59.880Z"
   },
   {
    "duration": 6,
    "start_time": "2022-10-06T14:35:59.894Z"
   },
   {
    "duration": 1480,
    "start_time": "2022-10-06T14:35:59.902Z"
   },
   {
    "duration": 141,
    "start_time": "2022-10-06T14:36:01.384Z"
   },
   {
    "duration": 0,
    "start_time": "2022-10-06T14:36:01.526Z"
   },
   {
    "duration": 0,
    "start_time": "2022-10-06T14:36:01.527Z"
   },
   {
    "duration": 0,
    "start_time": "2022-10-06T14:36:01.528Z"
   },
   {
    "duration": 0,
    "start_time": "2022-10-06T14:36:01.530Z"
   },
   {
    "duration": 0,
    "start_time": "2022-10-06T14:36:01.531Z"
   },
   {
    "duration": 0,
    "start_time": "2022-10-06T14:36:01.532Z"
   },
   {
    "duration": 11,
    "start_time": "2022-10-06T14:40:19.637Z"
   },
   {
    "duration": 5,
    "start_time": "2022-10-06T14:40:20.425Z"
   },
   {
    "duration": 35681,
    "start_time": "2022-10-06T14:40:23.478Z"
   },
   {
    "duration": 26,
    "start_time": "2022-10-06T14:40:59.161Z"
   },
   {
    "duration": 4,
    "start_time": "2022-10-06T14:40:59.189Z"
   },
   {
    "duration": 8,
    "start_time": "2022-10-06T14:40:59.195Z"
   },
   {
    "duration": 1496,
    "start_time": "2022-10-06T14:42:12.636Z"
   },
   {
    "duration": 31,
    "start_time": "2022-10-06T14:42:14.134Z"
   },
   {
    "duration": 17,
    "start_time": "2022-10-06T14:42:14.167Z"
   },
   {
    "duration": 18,
    "start_time": "2022-10-06T14:42:14.186Z"
   },
   {
    "duration": 31,
    "start_time": "2022-10-06T14:42:14.207Z"
   },
   {
    "duration": 19,
    "start_time": "2022-10-06T14:42:14.240Z"
   },
   {
    "duration": 26,
    "start_time": "2022-10-06T14:42:14.261Z"
   },
   {
    "duration": 18,
    "start_time": "2022-10-06T14:42:14.290Z"
   },
   {
    "duration": 27,
    "start_time": "2022-10-06T14:42:14.310Z"
   },
   {
    "duration": 20,
    "start_time": "2022-10-06T14:42:14.339Z"
   },
   {
    "duration": 33,
    "start_time": "2022-10-06T14:42:14.361Z"
   },
   {
    "duration": 31,
    "start_time": "2022-10-06T14:42:14.396Z"
   },
   {
    "duration": 55,
    "start_time": "2022-10-06T14:42:14.429Z"
   },
   {
    "duration": 10,
    "start_time": "2022-10-06T14:42:14.487Z"
   },
   {
    "duration": 31,
    "start_time": "2022-10-06T14:42:14.498Z"
   },
   {
    "duration": 151,
    "start_time": "2022-10-06T14:42:14.531Z"
   },
   {
    "duration": 0,
    "start_time": "2022-10-06T14:42:14.684Z"
   },
   {
    "duration": 0,
    "start_time": "2022-10-06T14:42:14.685Z"
   },
   {
    "duration": 0,
    "start_time": "2022-10-06T14:42:14.686Z"
   },
   {
    "duration": 0,
    "start_time": "2022-10-06T14:42:14.687Z"
   },
   {
    "duration": 0,
    "start_time": "2022-10-06T14:42:14.689Z"
   },
   {
    "duration": 0,
    "start_time": "2022-10-06T14:42:14.690Z"
   },
   {
    "duration": 43,
    "start_time": "2022-10-06T14:43:06.027Z"
   },
   {
    "duration": 27,
    "start_time": "2022-10-06T14:43:32.037Z"
   },
   {
    "duration": 1477,
    "start_time": "2022-10-06T14:43:40.545Z"
   },
   {
    "duration": 29,
    "start_time": "2022-10-06T14:43:42.025Z"
   },
   {
    "duration": 14,
    "start_time": "2022-10-06T14:43:42.056Z"
   },
   {
    "duration": 20,
    "start_time": "2022-10-06T14:43:42.071Z"
   },
   {
    "duration": 28,
    "start_time": "2022-10-06T14:43:42.093Z"
   },
   {
    "duration": 5,
    "start_time": "2022-10-06T14:43:42.122Z"
   },
   {
    "duration": 12,
    "start_time": "2022-10-06T14:43:42.128Z"
   },
   {
    "duration": 20,
    "start_time": "2022-10-06T14:43:42.142Z"
   },
   {
    "duration": 10,
    "start_time": "2022-10-06T14:43:42.163Z"
   },
   {
    "duration": 19,
    "start_time": "2022-10-06T14:43:42.174Z"
   },
   {
    "duration": 7,
    "start_time": "2022-10-06T14:43:42.194Z"
   },
   {
    "duration": 10,
    "start_time": "2022-10-06T14:43:42.203Z"
   },
   {
    "duration": 62,
    "start_time": "2022-10-06T14:43:42.214Z"
   },
   {
    "duration": 9,
    "start_time": "2022-10-06T14:43:42.279Z"
   },
   {
    "duration": 18,
    "start_time": "2022-10-06T14:43:42.290Z"
   },
   {
    "duration": 140,
    "start_time": "2022-10-06T14:43:42.309Z"
   },
   {
    "duration": 0,
    "start_time": "2022-10-06T14:43:42.450Z"
   },
   {
    "duration": 0,
    "start_time": "2022-10-06T14:43:42.451Z"
   },
   {
    "duration": 0,
    "start_time": "2022-10-06T14:43:42.452Z"
   },
   {
    "duration": 0,
    "start_time": "2022-10-06T14:43:42.453Z"
   },
   {
    "duration": 0,
    "start_time": "2022-10-06T14:43:42.454Z"
   },
   {
    "duration": 0,
    "start_time": "2022-10-06T14:43:42.455Z"
   },
   {
    "duration": 18,
    "start_time": "2022-10-06T14:44:01.863Z"
   },
   {
    "duration": 17,
    "start_time": "2022-10-06T14:44:29.965Z"
   },
   {
    "duration": 16,
    "start_time": "2022-10-06T14:44:48.214Z"
   },
   {
    "duration": 1448,
    "start_time": "2022-10-06T14:44:57.145Z"
   },
   {
    "duration": 31,
    "start_time": "2022-10-06T14:44:58.596Z"
   },
   {
    "duration": 15,
    "start_time": "2022-10-06T14:44:58.628Z"
   },
   {
    "duration": 16,
    "start_time": "2022-10-06T14:44:58.645Z"
   },
   {
    "duration": 29,
    "start_time": "2022-10-06T14:44:58.663Z"
   },
   {
    "duration": 4,
    "start_time": "2022-10-06T14:44:58.694Z"
   },
   {
    "duration": 6,
    "start_time": "2022-10-06T14:44:58.700Z"
   },
   {
    "duration": 6,
    "start_time": "2022-10-06T14:44:58.707Z"
   },
   {
    "duration": 6,
    "start_time": "2022-10-06T14:44:58.714Z"
   },
   {
    "duration": 6,
    "start_time": "2022-10-06T14:44:58.722Z"
   },
   {
    "duration": 6,
    "start_time": "2022-10-06T14:44:58.729Z"
   },
   {
    "duration": 40,
    "start_time": "2022-10-06T14:44:58.737Z"
   },
   {
    "duration": 38,
    "start_time": "2022-10-06T14:44:58.779Z"
   },
   {
    "duration": 11,
    "start_time": "2022-10-06T14:44:58.820Z"
   },
   {
    "duration": 5,
    "start_time": "2022-10-06T14:44:58.832Z"
   },
   {
    "duration": 1461,
    "start_time": "2022-10-06T14:44:58.838Z"
   },
   {
    "duration": 13,
    "start_time": "2022-10-06T14:45:00.301Z"
   },
   {
    "duration": 25,
    "start_time": "2022-10-06T14:45:00.316Z"
   },
   {
    "duration": 35694,
    "start_time": "2022-10-06T14:45:00.342Z"
   },
   {
    "duration": 14,
    "start_time": "2022-10-06T14:45:36.038Z"
   },
   {
    "duration": 5,
    "start_time": "2022-10-06T14:45:36.053Z"
   },
   {
    "duration": 20,
    "start_time": "2022-10-06T14:45:36.059Z"
   },
   {
    "duration": 12,
    "start_time": "2022-10-06T14:46:01.634Z"
   },
   {
    "duration": 1504,
    "start_time": "2022-10-06T14:46:09.135Z"
   },
   {
    "duration": 31,
    "start_time": "2022-10-06T14:46:10.641Z"
   },
   {
    "duration": 16,
    "start_time": "2022-10-06T14:46:10.674Z"
   },
   {
    "duration": 13,
    "start_time": "2022-10-06T14:46:10.692Z"
   },
   {
    "duration": 26,
    "start_time": "2022-10-06T14:46:10.708Z"
   },
   {
    "duration": 7,
    "start_time": "2022-10-06T14:46:10.736Z"
   },
   {
    "duration": 33,
    "start_time": "2022-10-06T14:46:10.746Z"
   },
   {
    "duration": 8,
    "start_time": "2022-10-06T14:46:10.780Z"
   },
   {
    "duration": 7,
    "start_time": "2022-10-06T14:46:10.789Z"
   },
   {
    "duration": 7,
    "start_time": "2022-10-06T14:46:10.798Z"
   },
   {
    "duration": 15,
    "start_time": "2022-10-06T14:46:10.807Z"
   },
   {
    "duration": 15,
    "start_time": "2022-10-06T14:46:10.823Z"
   },
   {
    "duration": 47,
    "start_time": "2022-10-06T14:46:10.839Z"
   },
   {
    "duration": 11,
    "start_time": "2022-10-06T14:46:10.888Z"
   },
   {
    "duration": 5,
    "start_time": "2022-10-06T14:46:10.900Z"
   },
   {
    "duration": 1569,
    "start_time": "2022-10-06T14:46:10.906Z"
   },
   {
    "duration": 11,
    "start_time": "2022-10-06T14:46:12.477Z"
   },
   {
    "duration": 20,
    "start_time": "2022-10-06T14:46:12.490Z"
   },
   {
    "duration": 35233,
    "start_time": "2022-10-06T14:46:12.511Z"
   },
   {
    "duration": 14,
    "start_time": "2022-10-06T14:46:47.745Z"
   },
   {
    "duration": 4,
    "start_time": "2022-10-06T14:46:47.760Z"
   },
   {
    "duration": 4,
    "start_time": "2022-10-06T14:46:47.776Z"
   },
   {
    "duration": 1216,
    "start_time": "2022-10-06T14:47:06.673Z"
   },
   {
    "duration": 14,
    "start_time": "2022-10-06T14:47:53.085Z"
   },
   {
    "duration": 5,
    "start_time": "2022-10-06T14:48:03.341Z"
   },
   {
    "duration": 9,
    "start_time": "2022-10-06T14:48:52.316Z"
   },
   {
    "duration": 10,
    "start_time": "2022-10-06T14:50:36.167Z"
   },
   {
    "duration": 59,
    "start_time": "2022-10-06T14:54:21.986Z"
   },
   {
    "duration": 10,
    "start_time": "2022-10-06T14:54:28.015Z"
   },
   {
    "duration": 9,
    "start_time": "2022-10-06T14:58:19.312Z"
   },
   {
    "duration": 35435,
    "start_time": "2022-10-06T15:00:25.788Z"
   },
   {
    "duration": 1524,
    "start_time": "2022-10-06T15:01:06.909Z"
   },
   {
    "duration": 31,
    "start_time": "2022-10-06T15:01:08.436Z"
   },
   {
    "duration": 14,
    "start_time": "2022-10-06T15:01:08.469Z"
   },
   {
    "duration": 12,
    "start_time": "2022-10-06T15:01:08.485Z"
   },
   {
    "duration": 37,
    "start_time": "2022-10-06T15:01:08.501Z"
   },
   {
    "duration": 36,
    "start_time": "2022-10-06T15:01:08.541Z"
   },
   {
    "duration": 57,
    "start_time": "2022-10-06T15:01:08.578Z"
   },
   {
    "duration": 9,
    "start_time": "2022-10-06T15:01:08.637Z"
   },
   {
    "duration": 10,
    "start_time": "2022-10-06T15:01:08.648Z"
   },
   {
    "duration": 7,
    "start_time": "2022-10-06T15:01:08.659Z"
   },
   {
    "duration": 36,
    "start_time": "2022-10-06T15:01:08.668Z"
   },
   {
    "duration": 18,
    "start_time": "2022-10-06T15:01:08.706Z"
   },
   {
    "duration": 43,
    "start_time": "2022-10-06T15:01:08.726Z"
   },
   {
    "duration": 11,
    "start_time": "2022-10-06T15:01:08.771Z"
   },
   {
    "duration": 1487,
    "start_time": "2022-10-06T15:01:08.783Z"
   },
   {
    "duration": 12,
    "start_time": "2022-10-06T15:01:10.272Z"
   },
   {
    "duration": 36657,
    "start_time": "2022-10-06T15:01:10.286Z"
   },
   {
    "duration": 22,
    "start_time": "2022-10-06T15:01:46.945Z"
   },
   {
    "duration": 9,
    "start_time": "2022-10-06T15:01:46.969Z"
   },
   {
    "duration": 39,
    "start_time": "2022-10-06T15:01:46.980Z"
   },
   {
    "duration": 26,
    "start_time": "2022-10-06T15:01:47.021Z"
   },
   {
    "duration": 11,
    "start_time": "2022-10-06T15:09:31.344Z"
   },
   {
    "duration": 39,
    "start_time": "2022-10-06T16:13:27.677Z"
   },
   {
    "duration": 11,
    "start_time": "2022-10-06T16:47:58.969Z"
   },
   {
    "duration": 80,
    "start_time": "2022-10-06T16:48:27.205Z"
   },
   {
    "duration": 68,
    "start_time": "2022-10-06T16:48:33.593Z"
   },
   {
    "duration": 13,
    "start_time": "2022-10-06T16:48:34.383Z"
   },
   {
    "duration": 110,
    "start_time": "2022-10-06T16:49:28.784Z"
   },
   {
    "duration": 11,
    "start_time": "2022-10-06T16:49:30.286Z"
   },
   {
    "duration": 48,
    "start_time": "2022-10-06T16:49:36.356Z"
   },
   {
    "duration": 10,
    "start_time": "2022-10-06T16:49:37.036Z"
   },
   {
    "duration": 4,
    "start_time": "2022-10-06T16:49:59.904Z"
   },
   {
    "duration": 1424,
    "start_time": "2022-10-06T16:52:46.852Z"
   },
   {
    "duration": 32,
    "start_time": "2022-10-06T16:52:48.278Z"
   },
   {
    "duration": 14,
    "start_time": "2022-10-06T16:52:48.311Z"
   },
   {
    "duration": 11,
    "start_time": "2022-10-06T16:52:48.327Z"
   },
   {
    "duration": 24,
    "start_time": "2022-10-06T16:52:48.339Z"
   },
   {
    "duration": 11,
    "start_time": "2022-10-06T16:52:48.365Z"
   },
   {
    "duration": 4,
    "start_time": "2022-10-06T16:52:48.378Z"
   },
   {
    "duration": 7,
    "start_time": "2022-10-06T16:52:48.383Z"
   },
   {
    "duration": 5,
    "start_time": "2022-10-06T16:52:48.391Z"
   },
   {
    "duration": 31,
    "start_time": "2022-10-06T16:52:48.398Z"
   },
   {
    "duration": 11,
    "start_time": "2022-10-06T16:52:48.431Z"
   },
   {
    "duration": 6,
    "start_time": "2022-10-06T16:52:48.443Z"
   },
   {
    "duration": 40,
    "start_time": "2022-10-06T16:52:48.450Z"
   },
   {
    "duration": 10,
    "start_time": "2022-10-06T16:52:48.492Z"
   },
   {
    "duration": 1457,
    "start_time": "2022-10-06T16:52:48.503Z"
   },
   {
    "duration": 9,
    "start_time": "2022-10-06T16:52:49.962Z"
   },
   {
    "duration": 35581,
    "start_time": "2022-10-06T16:52:49.976Z"
   },
   {
    "duration": 18,
    "start_time": "2022-10-06T16:53:25.559Z"
   },
   {
    "duration": 97,
    "start_time": "2022-10-06T16:53:25.579Z"
   },
   {
    "duration": 12,
    "start_time": "2022-10-06T16:53:25.678Z"
   },
   {
    "duration": 4,
    "start_time": "2022-10-06T16:53:25.692Z"
   },
   {
    "duration": 11,
    "start_time": "2022-10-06T16:53:25.697Z"
   },
   {
    "duration": 12,
    "start_time": "2022-10-06T16:53:25.709Z"
   },
   {
    "duration": 12,
    "start_time": "2022-10-06T16:53:25.722Z"
   },
   {
    "duration": 12,
    "start_time": "2022-10-06T16:53:51.154Z"
   },
   {
    "duration": 161,
    "start_time": "2022-10-06T16:54:11.602Z"
   },
   {
    "duration": 12,
    "start_time": "2022-10-06T16:54:12.593Z"
   },
   {
    "duration": 340,
    "start_time": "2022-10-06T16:54:21.242Z"
   },
   {
    "duration": 1432,
    "start_time": "2022-10-06T16:55:39.497Z"
   },
   {
    "duration": 31,
    "start_time": "2022-10-06T16:55:40.930Z"
   },
   {
    "duration": 15,
    "start_time": "2022-10-06T16:55:40.962Z"
   },
   {
    "duration": 25,
    "start_time": "2022-10-06T16:55:40.979Z"
   },
   {
    "duration": 63,
    "start_time": "2022-10-06T16:55:41.006Z"
   },
   {
    "duration": 6,
    "start_time": "2022-10-06T16:55:41.071Z"
   },
   {
    "duration": 9,
    "start_time": "2022-10-06T16:55:41.079Z"
   },
   {
    "duration": 7,
    "start_time": "2022-10-06T16:55:41.090Z"
   },
   {
    "duration": 9,
    "start_time": "2022-10-06T16:55:41.098Z"
   },
   {
    "duration": 6,
    "start_time": "2022-10-06T16:55:41.110Z"
   },
   {
    "duration": 7,
    "start_time": "2022-10-06T16:55:41.117Z"
   },
   {
    "duration": 8,
    "start_time": "2022-10-06T16:55:41.125Z"
   },
   {
    "duration": 52,
    "start_time": "2022-10-06T16:55:41.134Z"
   },
   {
    "duration": 10,
    "start_time": "2022-10-06T16:55:41.188Z"
   },
   {
    "duration": 1439,
    "start_time": "2022-10-06T16:55:41.200Z"
   },
   {
    "duration": 11,
    "start_time": "2022-10-06T16:55:42.640Z"
   },
   {
    "duration": 35441,
    "start_time": "2022-10-06T16:55:42.653Z"
   },
   {
    "duration": 14,
    "start_time": "2022-10-06T16:56:18.096Z"
   },
   {
    "duration": 1361,
    "start_time": "2022-10-06T16:59:03.306Z"
   },
   {
    "duration": 31,
    "start_time": "2022-10-06T16:59:04.669Z"
   },
   {
    "duration": 15,
    "start_time": "2022-10-06T16:59:04.701Z"
   },
   {
    "duration": 11,
    "start_time": "2022-10-06T16:59:04.718Z"
   },
   {
    "duration": 30,
    "start_time": "2022-10-06T16:59:04.730Z"
   },
   {
    "duration": 4,
    "start_time": "2022-10-06T16:59:04.762Z"
   },
   {
    "duration": 9,
    "start_time": "2022-10-06T16:59:04.768Z"
   },
   {
    "duration": 4,
    "start_time": "2022-10-06T16:59:04.779Z"
   },
   {
    "duration": 7,
    "start_time": "2022-10-06T16:59:04.784Z"
   },
   {
    "duration": 9,
    "start_time": "2022-10-06T16:59:04.793Z"
   },
   {
    "duration": 9,
    "start_time": "2022-10-06T16:59:04.804Z"
   },
   {
    "duration": 9,
    "start_time": "2022-10-06T16:59:04.814Z"
   },
   {
    "duration": 38,
    "start_time": "2022-10-06T16:59:04.825Z"
   },
   {
    "duration": 21,
    "start_time": "2022-10-06T16:59:04.864Z"
   },
   {
    "duration": 1473,
    "start_time": "2022-10-06T16:59:04.887Z"
   },
   {
    "duration": 10,
    "start_time": "2022-10-06T16:59:06.361Z"
   },
   {
    "duration": 1855,
    "start_time": "2022-10-06T16:59:06.377Z"
   },
   {
    "duration": 13,
    "start_time": "2022-10-06T16:59:08.233Z"
   },
   {
    "duration": 1354,
    "start_time": "2022-10-06T17:00:42.533Z"
   },
   {
    "duration": 30,
    "start_time": "2022-10-06T17:00:43.889Z"
   },
   {
    "duration": 15,
    "start_time": "2022-10-06T17:00:43.921Z"
   },
   {
    "duration": 11,
    "start_time": "2022-10-06T17:00:43.938Z"
   },
   {
    "duration": 29,
    "start_time": "2022-10-06T17:00:43.952Z"
   },
   {
    "duration": 5,
    "start_time": "2022-10-06T17:00:43.984Z"
   },
   {
    "duration": 7,
    "start_time": "2022-10-06T17:00:43.991Z"
   },
   {
    "duration": 8,
    "start_time": "2022-10-06T17:00:44.000Z"
   },
   {
    "duration": 11,
    "start_time": "2022-10-06T17:00:44.010Z"
   },
   {
    "duration": 9,
    "start_time": "2022-10-06T17:00:44.022Z"
   },
   {
    "duration": 6,
    "start_time": "2022-10-06T17:00:44.032Z"
   },
   {
    "duration": 7,
    "start_time": "2022-10-06T17:00:44.039Z"
   },
   {
    "duration": 50,
    "start_time": "2022-10-06T17:00:44.048Z"
   },
   {
    "duration": 10,
    "start_time": "2022-10-06T17:00:44.101Z"
   },
   {
    "duration": 1477,
    "start_time": "2022-10-06T17:00:44.112Z"
   },
   {
    "duration": 10,
    "start_time": "2022-10-06T17:00:45.591Z"
   },
   {
    "duration": 1892,
    "start_time": "2022-10-06T17:00:45.602Z"
   },
   {
    "duration": 13,
    "start_time": "2022-10-06T17:00:47.496Z"
   },
   {
    "duration": 10,
    "start_time": "2022-10-06T17:00:47.510Z"
   },
   {
    "duration": 132,
    "start_time": "2022-10-06T17:00:47.522Z"
   },
   {
    "duration": 0,
    "start_time": "2022-10-06T17:00:47.656Z"
   },
   {
    "duration": 0,
    "start_time": "2022-10-06T17:00:47.657Z"
   },
   {
    "duration": 1493,
    "start_time": "2022-10-06T17:01:02.917Z"
   },
   {
    "duration": 31,
    "start_time": "2022-10-06T17:01:04.413Z"
   },
   {
    "duration": 15,
    "start_time": "2022-10-06T17:01:04.445Z"
   },
   {
    "duration": 12,
    "start_time": "2022-10-06T17:01:04.461Z"
   },
   {
    "duration": 24,
    "start_time": "2022-10-06T17:01:04.475Z"
   },
   {
    "duration": 5,
    "start_time": "2022-10-06T17:01:04.500Z"
   },
   {
    "duration": 16,
    "start_time": "2022-10-06T17:01:04.506Z"
   },
   {
    "duration": 7,
    "start_time": "2022-10-06T17:01:04.523Z"
   },
   {
    "duration": 5,
    "start_time": "2022-10-06T17:01:04.532Z"
   },
   {
    "duration": 6,
    "start_time": "2022-10-06T17:01:04.539Z"
   },
   {
    "duration": 7,
    "start_time": "2022-10-06T17:01:04.546Z"
   },
   {
    "duration": 9,
    "start_time": "2022-10-06T17:01:04.554Z"
   },
   {
    "duration": 50,
    "start_time": "2022-10-06T17:01:04.565Z"
   },
   {
    "duration": 11,
    "start_time": "2022-10-06T17:01:04.618Z"
   },
   {
    "duration": 1466,
    "start_time": "2022-10-06T17:01:04.630Z"
   },
   {
    "duration": 10,
    "start_time": "2022-10-06T17:01:06.097Z"
   },
   {
    "duration": 35047,
    "start_time": "2022-10-06T17:01:06.109Z"
   },
   {
    "duration": 20,
    "start_time": "2022-10-06T17:01:41.157Z"
   },
   {
    "duration": 5,
    "start_time": "2022-10-06T17:01:41.179Z"
   },
   {
    "duration": 10,
    "start_time": "2022-10-06T17:01:41.186Z"
   },
   {
    "duration": 11,
    "start_time": "2022-10-06T17:01:41.198Z"
   },
   {
    "duration": 9,
    "start_time": "2022-10-06T17:01:41.211Z"
   },
   {
    "duration": 5,
    "start_time": "2022-10-06T17:03:46.047Z"
   },
   {
    "duration": 11,
    "start_time": "2022-10-06T17:03:47.832Z"
   },
   {
    "duration": 1541,
    "start_time": "2022-10-06T17:04:33.558Z"
   },
   {
    "duration": 30,
    "start_time": "2022-10-06T17:04:35.101Z"
   },
   {
    "duration": 15,
    "start_time": "2022-10-06T17:04:35.133Z"
   },
   {
    "duration": 11,
    "start_time": "2022-10-06T17:04:35.150Z"
   },
   {
    "duration": 30,
    "start_time": "2022-10-06T17:04:35.164Z"
   },
   {
    "duration": 6,
    "start_time": "2022-10-06T17:04:35.196Z"
   },
   {
    "duration": 10,
    "start_time": "2022-10-06T17:04:35.204Z"
   },
   {
    "duration": 12,
    "start_time": "2022-10-06T17:04:35.216Z"
   },
   {
    "duration": 8,
    "start_time": "2022-10-06T17:04:35.230Z"
   },
   {
    "duration": 8,
    "start_time": "2022-10-06T17:04:35.240Z"
   },
   {
    "duration": 11,
    "start_time": "2022-10-06T17:04:35.250Z"
   },
   {
    "duration": 5,
    "start_time": "2022-10-06T17:04:35.276Z"
   },
   {
    "duration": 50,
    "start_time": "2022-10-06T17:04:35.283Z"
   },
   {
    "duration": 14,
    "start_time": "2022-10-06T17:04:35.337Z"
   },
   {
    "duration": 1467,
    "start_time": "2022-10-06T17:04:35.353Z"
   },
   {
    "duration": 10,
    "start_time": "2022-10-06T17:04:36.822Z"
   },
   {
    "duration": 34747,
    "start_time": "2022-10-06T17:04:36.834Z"
   },
   {
    "duration": 15,
    "start_time": "2022-10-06T17:05:11.583Z"
   },
   {
    "duration": 4,
    "start_time": "2022-10-06T17:05:11.600Z"
   },
   {
    "duration": 18,
    "start_time": "2022-10-06T17:05:11.606Z"
   },
   {
    "duration": 12,
    "start_time": "2022-10-06T17:05:11.625Z"
   },
   {
    "duration": 9,
    "start_time": "2022-10-06T17:05:11.639Z"
   },
   {
    "duration": 28,
    "start_time": "2022-10-06T17:05:11.649Z"
   },
   {
    "duration": 15,
    "start_time": "2022-10-06T17:05:11.679Z"
   },
   {
    "duration": 9,
    "start_time": "2022-10-06T17:06:12.561Z"
   },
   {
    "duration": 114,
    "start_time": "2022-10-06T17:06:13.665Z"
   },
   {
    "duration": 5,
    "start_time": "2022-10-06T17:06:22.416Z"
   },
   {
    "duration": 11,
    "start_time": "2022-10-06T17:06:22.951Z"
   },
   {
    "duration": 9,
    "start_time": "2022-10-06T17:29:54.855Z"
   },
   {
    "duration": 8,
    "start_time": "2022-10-06T17:30:03.508Z"
   },
   {
    "duration": 14,
    "start_time": "2022-10-06T17:34:40.532Z"
   },
   {
    "duration": 7,
    "start_time": "2022-10-06T17:34:55.266Z"
   },
   {
    "duration": 5,
    "start_time": "2022-10-06T17:35:03.949Z"
   },
   {
    "duration": 10,
    "start_time": "2022-10-06T17:41:34.374Z"
   },
   {
    "duration": 9,
    "start_time": "2022-10-06T17:42:05.961Z"
   },
   {
    "duration": 44,
    "start_time": "2022-10-06T17:44:55.115Z"
   },
   {
    "duration": 1099,
    "start_time": "2022-10-06T17:45:09.708Z"
   },
   {
    "duration": 33,
    "start_time": "2022-10-06T17:45:10.810Z"
   },
   {
    "duration": 26,
    "start_time": "2022-10-06T17:45:10.846Z"
   },
   {
    "duration": 28,
    "start_time": "2022-10-06T17:45:10.875Z"
   },
   {
    "duration": 59,
    "start_time": "2022-10-06T17:45:10.905Z"
   },
   {
    "duration": 6,
    "start_time": "2022-10-06T17:45:10.967Z"
   },
   {
    "duration": 17,
    "start_time": "2022-10-06T17:45:10.975Z"
   },
   {
    "duration": 24,
    "start_time": "2022-10-06T17:45:10.994Z"
   },
   {
    "duration": 29,
    "start_time": "2022-10-06T17:45:11.020Z"
   },
   {
    "duration": 21,
    "start_time": "2022-10-06T17:45:11.052Z"
   },
   {
    "duration": 21,
    "start_time": "2022-10-06T17:45:11.075Z"
   },
   {
    "duration": 31,
    "start_time": "2022-10-06T17:45:11.098Z"
   },
   {
    "duration": 69,
    "start_time": "2022-10-06T17:45:11.132Z"
   },
   {
    "duration": 13,
    "start_time": "2022-10-06T17:45:11.203Z"
   },
   {
    "duration": 1513,
    "start_time": "2022-10-06T17:45:11.218Z"
   },
   {
    "duration": 11,
    "start_time": "2022-10-06T17:45:12.733Z"
   },
   {
    "duration": 36294,
    "start_time": "2022-10-06T17:45:12.746Z"
   },
   {
    "duration": 15,
    "start_time": "2022-10-06T17:45:49.042Z"
   },
   {
    "duration": 17,
    "start_time": "2022-10-06T17:45:49.059Z"
   },
   {
    "duration": 14,
    "start_time": "2022-10-06T17:45:49.078Z"
   },
   {
    "duration": 21,
    "start_time": "2022-10-06T17:45:49.093Z"
   },
   {
    "duration": 70,
    "start_time": "2022-10-06T17:45:49.116Z"
   },
   {
    "duration": 0,
    "start_time": "2022-10-06T17:45:49.187Z"
   },
   {
    "duration": 9,
    "start_time": "2022-10-06T17:46:53.297Z"
   },
   {
    "duration": 13,
    "start_time": "2022-10-06T17:47:00.165Z"
   },
   {
    "duration": 14,
    "start_time": "2022-10-06T17:48:58.752Z"
   },
   {
    "duration": 9,
    "start_time": "2022-10-06T17:49:59.020Z"
   },
   {
    "duration": 9,
    "start_time": "2022-10-06T17:50:02.089Z"
   },
   {
    "duration": 10,
    "start_time": "2022-10-06T17:50:16.438Z"
   },
   {
    "duration": 10,
    "start_time": "2022-10-06T17:50:16.795Z"
   },
   {
    "duration": 10,
    "start_time": "2022-10-06T17:51:51.875Z"
   },
   {
    "duration": 4,
    "start_time": "2022-10-06T17:54:05.734Z"
   },
   {
    "duration": 12,
    "start_time": "2022-10-06T17:54:15.800Z"
   },
   {
    "duration": 18,
    "start_time": "2022-10-06T17:56:29.236Z"
   },
   {
    "duration": 112,
    "start_time": "2022-10-06T17:58:14.888Z"
   },
   {
    "duration": 12,
    "start_time": "2022-10-06T17:59:46.782Z"
   },
   {
    "duration": 11,
    "start_time": "2022-10-06T18:00:43.471Z"
   },
   {
    "duration": 11,
    "start_time": "2022-10-06T18:01:06.499Z"
   },
   {
    "duration": 12,
    "start_time": "2022-10-06T18:01:37.227Z"
   },
   {
    "duration": 17,
    "start_time": "2022-10-06T18:02:17.493Z"
   },
   {
    "duration": 14,
    "start_time": "2022-10-06T18:02:56.705Z"
   },
   {
    "duration": 1136,
    "start_time": "2022-10-06T18:03:12.248Z"
   },
   {
    "duration": 31,
    "start_time": "2022-10-06T18:03:13.386Z"
   },
   {
    "duration": 24,
    "start_time": "2022-10-06T18:03:13.420Z"
   },
   {
    "duration": 14,
    "start_time": "2022-10-06T18:03:13.446Z"
   },
   {
    "duration": 30,
    "start_time": "2022-10-06T18:03:13.463Z"
   },
   {
    "duration": 4,
    "start_time": "2022-10-06T18:03:13.495Z"
   },
   {
    "duration": 12,
    "start_time": "2022-10-06T18:03:13.501Z"
   },
   {
    "duration": 10,
    "start_time": "2022-10-06T18:03:13.515Z"
   },
   {
    "duration": 14,
    "start_time": "2022-10-06T18:03:13.527Z"
   },
   {
    "duration": 18,
    "start_time": "2022-10-06T18:03:13.543Z"
   },
   {
    "duration": 14,
    "start_time": "2022-10-06T18:03:13.563Z"
   },
   {
    "duration": 15,
    "start_time": "2022-10-06T18:03:13.579Z"
   },
   {
    "duration": 13,
    "start_time": "2022-10-06T18:03:13.596Z"
   },
   {
    "duration": 54,
    "start_time": "2022-10-06T18:03:13.613Z"
   },
   {
    "duration": 13,
    "start_time": "2022-10-06T18:03:13.669Z"
   },
   {
    "duration": 10,
    "start_time": "2022-10-06T18:03:13.684Z"
   },
   {
    "duration": 1632,
    "start_time": "2022-10-06T18:03:13.696Z"
   },
   {
    "duration": 14,
    "start_time": "2022-10-06T18:03:15.330Z"
   },
   {
    "duration": 26,
    "start_time": "2022-10-06T18:03:15.346Z"
   },
   {
    "duration": 35717,
    "start_time": "2022-10-06T18:03:15.374Z"
   },
   {
    "duration": 13,
    "start_time": "2022-10-06T18:03:51.092Z"
   },
   {
    "duration": 12,
    "start_time": "2022-10-06T18:03:51.107Z"
   },
   {
    "duration": 5,
    "start_time": "2022-10-06T18:03:51.121Z"
   },
   {
    "duration": 14,
    "start_time": "2022-10-06T18:03:51.127Z"
   },
   {
    "duration": 38,
    "start_time": "2022-10-06T18:03:51.143Z"
   },
   {
    "duration": 10,
    "start_time": "2022-10-06T18:03:51.184Z"
   },
   {
    "duration": 11,
    "start_time": "2022-10-06T18:03:51.196Z"
   },
   {
    "duration": 1186,
    "start_time": "2022-10-06T18:12:12.137Z"
   },
   {
    "duration": 32,
    "start_time": "2022-10-06T18:12:13.325Z"
   },
   {
    "duration": 21,
    "start_time": "2022-10-06T18:12:13.359Z"
   },
   {
    "duration": 11,
    "start_time": "2022-10-06T18:12:13.383Z"
   },
   {
    "duration": 33,
    "start_time": "2022-10-06T18:12:13.396Z"
   },
   {
    "duration": 5,
    "start_time": "2022-10-06T18:12:13.431Z"
   },
   {
    "duration": 17,
    "start_time": "2022-10-06T18:12:13.437Z"
   },
   {
    "duration": 5,
    "start_time": "2022-10-06T18:12:13.456Z"
   },
   {
    "duration": 31,
    "start_time": "2022-10-06T18:12:13.462Z"
   },
   {
    "duration": 6,
    "start_time": "2022-10-06T18:12:13.497Z"
   },
   {
    "duration": 12,
    "start_time": "2022-10-06T18:12:13.504Z"
   },
   {
    "duration": 10,
    "start_time": "2022-10-06T18:12:13.518Z"
   },
   {
    "duration": 7,
    "start_time": "2022-10-06T18:12:13.529Z"
   },
   {
    "duration": 43,
    "start_time": "2022-10-06T18:12:13.538Z"
   },
   {
    "duration": 13,
    "start_time": "2022-10-06T18:12:13.583Z"
   },
   {
    "duration": 8,
    "start_time": "2022-10-06T18:12:13.597Z"
   },
   {
    "duration": 1620,
    "start_time": "2022-10-06T18:12:13.607Z"
   },
   {
    "duration": 10,
    "start_time": "2022-10-06T18:12:15.229Z"
   },
   {
    "duration": 15,
    "start_time": "2022-10-06T18:12:15.241Z"
   },
   {
    "duration": 35805,
    "start_time": "2022-10-06T18:12:15.258Z"
   },
   {
    "duration": 13,
    "start_time": "2022-10-06T18:12:51.065Z"
   },
   {
    "duration": 25,
    "start_time": "2022-10-06T18:12:51.080Z"
   },
   {
    "duration": 12,
    "start_time": "2022-10-06T18:12:51.106Z"
   },
   {
    "duration": 17,
    "start_time": "2022-10-06T18:12:51.119Z"
   },
   {
    "duration": 19,
    "start_time": "2022-10-06T18:12:51.137Z"
   },
   {
    "duration": 21,
    "start_time": "2022-10-06T18:12:51.158Z"
   },
   {
    "duration": 28,
    "start_time": "2022-10-06T18:12:51.181Z"
   },
   {
    "duration": 367,
    "start_time": "2022-10-06T18:22:55.118Z"
   },
   {
    "duration": 113,
    "start_time": "2022-10-06T18:23:16.737Z"
   },
   {
    "duration": 6,
    "start_time": "2022-10-06T18:23:53.543Z"
   },
   {
    "duration": 4,
    "start_time": "2022-10-06T18:45:26.009Z"
   },
   {
    "duration": 4,
    "start_time": "2022-10-06T18:45:26.670Z"
   },
   {
    "duration": 4,
    "start_time": "2022-10-06T18:45:27.341Z"
   },
   {
    "duration": 154,
    "start_time": "2022-10-06T18:45:28.209Z"
   },
   {
    "duration": 4,
    "start_time": "2022-10-06T18:45:34.049Z"
   },
   {
    "duration": 76,
    "start_time": "2022-10-06T18:45:37.184Z"
   },
   {
    "duration": 55,
    "start_time": "2022-10-06T18:45:55.195Z"
   },
   {
    "duration": 59,
    "start_time": "2022-10-06T18:51:51.873Z"
   },
   {
    "duration": 61,
    "start_time": "2022-10-06T18:52:04.184Z"
   },
   {
    "duration": 7,
    "start_time": "2022-10-06T18:52:56.212Z"
   },
   {
    "duration": 3,
    "start_time": "2022-10-06T19:07:14.604Z"
   },
   {
    "duration": 1210,
    "start_time": "2022-10-06T19:57:29.968Z"
   },
   {
    "duration": 31,
    "start_time": "2022-10-06T19:57:31.180Z"
   },
   {
    "duration": 19,
    "start_time": "2022-10-06T19:57:31.212Z"
   },
   {
    "duration": 21,
    "start_time": "2022-10-06T19:57:31.233Z"
   },
   {
    "duration": 32,
    "start_time": "2022-10-06T19:57:31.256Z"
   },
   {
    "duration": 5,
    "start_time": "2022-10-06T19:57:31.290Z"
   },
   {
    "duration": 10,
    "start_time": "2022-10-06T19:57:31.297Z"
   },
   {
    "duration": 8,
    "start_time": "2022-10-06T19:57:31.309Z"
   },
   {
    "duration": 13,
    "start_time": "2022-10-06T19:57:31.319Z"
   },
   {
    "duration": 40,
    "start_time": "2022-10-06T19:57:31.337Z"
   },
   {
    "duration": 20,
    "start_time": "2022-10-06T19:57:31.378Z"
   },
   {
    "duration": 15,
    "start_time": "2022-10-06T19:57:31.400Z"
   },
   {
    "duration": 15,
    "start_time": "2022-10-06T19:57:31.416Z"
   },
   {
    "duration": 20,
    "start_time": "2022-10-06T19:57:31.432Z"
   },
   {
    "duration": 48,
    "start_time": "2022-10-06T19:57:31.453Z"
   },
   {
    "duration": 12,
    "start_time": "2022-10-06T19:57:31.503Z"
   },
   {
    "duration": 6,
    "start_time": "2022-10-06T19:57:31.517Z"
   },
   {
    "duration": 1482,
    "start_time": "2022-10-06T19:57:31.525Z"
   },
   {
    "duration": 10,
    "start_time": "2022-10-06T19:57:33.009Z"
   },
   {
    "duration": 16,
    "start_time": "2022-10-06T19:57:33.021Z"
   },
   {
    "duration": 35215,
    "start_time": "2022-10-06T19:57:33.039Z"
   },
   {
    "duration": 13,
    "start_time": "2022-10-06T19:58:08.256Z"
   },
   {
    "duration": 15,
    "start_time": "2022-10-06T19:58:08.277Z"
   },
   {
    "duration": 6,
    "start_time": "2022-10-06T19:58:08.294Z"
   },
   {
    "duration": 10,
    "start_time": "2022-10-06T19:58:08.302Z"
   },
   {
    "duration": 10,
    "start_time": "2022-10-06T19:58:08.313Z"
   },
   {
    "duration": 12,
    "start_time": "2022-10-06T19:58:08.325Z"
   },
   {
    "duration": 7,
    "start_time": "2022-10-06T19:58:08.341Z"
   },
   {
    "duration": 1111,
    "start_time": "2022-10-06T20:17:49.444Z"
   },
   {
    "duration": 31,
    "start_time": "2022-10-06T20:17:50.557Z"
   },
   {
    "duration": 16,
    "start_time": "2022-10-06T20:17:50.589Z"
   },
   {
    "duration": 10,
    "start_time": "2022-10-06T20:17:50.607Z"
   },
   {
    "duration": 30,
    "start_time": "2022-10-06T20:17:50.619Z"
   },
   {
    "duration": 4,
    "start_time": "2022-10-06T20:17:50.651Z"
   },
   {
    "duration": 11,
    "start_time": "2022-10-06T20:17:50.656Z"
   },
   {
    "duration": 5,
    "start_time": "2022-10-06T20:17:50.676Z"
   },
   {
    "duration": 7,
    "start_time": "2022-10-06T20:17:50.683Z"
   },
   {
    "duration": 9,
    "start_time": "2022-10-06T20:17:50.693Z"
   },
   {
    "duration": 10,
    "start_time": "2022-10-06T20:17:50.703Z"
   },
   {
    "duration": 9,
    "start_time": "2022-10-06T20:17:50.714Z"
   },
   {
    "duration": 10,
    "start_time": "2022-10-06T20:17:50.724Z"
   },
   {
    "duration": 14,
    "start_time": "2022-10-06T20:17:50.735Z"
   },
   {
    "duration": 39,
    "start_time": "2022-10-06T20:17:50.751Z"
   },
   {
    "duration": 11,
    "start_time": "2022-10-06T20:17:50.792Z"
   },
   {
    "duration": 3,
    "start_time": "2022-10-06T20:17:50.804Z"
   },
   {
    "duration": 1367,
    "start_time": "2022-10-06T20:17:50.809Z"
   },
   {
    "duration": 11,
    "start_time": "2022-10-06T20:17:52.178Z"
   },
   {
    "duration": 14,
    "start_time": "2022-10-06T20:17:52.191Z"
   },
   {
    "duration": 1020,
    "start_time": "2022-10-06T20:20:57.334Z"
   },
   {
    "duration": 30,
    "start_time": "2022-10-06T20:20:58.356Z"
   },
   {
    "duration": 17,
    "start_time": "2022-10-06T20:20:58.388Z"
   },
   {
    "duration": 13,
    "start_time": "2022-10-06T20:20:58.407Z"
   },
   {
    "duration": 26,
    "start_time": "2022-10-06T20:20:58.422Z"
   },
   {
    "duration": 4,
    "start_time": "2022-10-06T20:20:58.449Z"
   },
   {
    "duration": 23,
    "start_time": "2022-10-06T20:20:58.455Z"
   },
   {
    "duration": 5,
    "start_time": "2022-10-06T20:20:58.480Z"
   },
   {
    "duration": 9,
    "start_time": "2022-10-06T20:20:58.486Z"
   },
   {
    "duration": 7,
    "start_time": "2022-10-06T20:20:58.496Z"
   },
   {
    "duration": 10,
    "start_time": "2022-10-06T20:20:58.505Z"
   },
   {
    "duration": 7,
    "start_time": "2022-10-06T20:20:58.516Z"
   },
   {
    "duration": 10,
    "start_time": "2022-10-06T20:20:58.524Z"
   },
   {
    "duration": 13,
    "start_time": "2022-10-06T20:20:58.536Z"
   },
   {
    "duration": 47,
    "start_time": "2022-10-06T20:20:58.550Z"
   },
   {
    "duration": 10,
    "start_time": "2022-10-06T20:20:58.599Z"
   },
   {
    "duration": 7,
    "start_time": "2022-10-06T20:20:58.610Z"
   },
   {
    "duration": 1370,
    "start_time": "2022-10-06T20:20:58.619Z"
   },
   {
    "duration": 10,
    "start_time": "2022-10-06T20:20:59.990Z"
   },
   {
    "duration": 29,
    "start_time": "2022-10-06T20:21:00.001Z"
   },
   {
    "duration": 1099,
    "start_time": "2022-10-06T20:21:29.052Z"
   },
   {
    "duration": 31,
    "start_time": "2022-10-06T20:21:30.153Z"
   },
   {
    "duration": 19,
    "start_time": "2022-10-06T20:21:30.185Z"
   },
   {
    "duration": 22,
    "start_time": "2022-10-06T20:21:30.205Z"
   },
   {
    "duration": 68,
    "start_time": "2022-10-06T20:21:30.229Z"
   },
   {
    "duration": 20,
    "start_time": "2022-10-06T20:21:30.299Z"
   },
   {
    "duration": 47,
    "start_time": "2022-10-06T20:21:30.321Z"
   },
   {
    "duration": 67,
    "start_time": "2022-10-06T20:21:30.370Z"
   },
   {
    "duration": 58,
    "start_time": "2022-10-06T20:21:30.439Z"
   },
   {
    "duration": 43,
    "start_time": "2022-10-06T20:21:30.498Z"
   },
   {
    "duration": 47,
    "start_time": "2022-10-06T20:21:30.542Z"
   },
   {
    "duration": 30,
    "start_time": "2022-10-06T20:21:30.591Z"
   },
   {
    "duration": 49,
    "start_time": "2022-10-06T20:21:30.622Z"
   },
   {
    "duration": 10,
    "start_time": "2022-10-06T20:21:30.674Z"
   },
   {
    "duration": 55,
    "start_time": "2022-10-06T20:21:30.686Z"
   },
   {
    "duration": 10,
    "start_time": "2022-10-06T20:21:30.743Z"
   },
   {
    "duration": 18,
    "start_time": "2022-10-06T20:21:30.754Z"
   },
   {
    "duration": 1419,
    "start_time": "2022-10-06T20:21:30.774Z"
   },
   {
    "duration": 10,
    "start_time": "2022-10-06T20:21:32.195Z"
   },
   {
    "duration": 47,
    "start_time": "2022-10-06T20:21:32.206Z"
   },
   {
    "duration": 79924,
    "start_time": "2022-10-06T20:21:32.255Z"
   },
   {
    "duration": 33890,
    "start_time": "2022-10-06T20:22:52.181Z"
   },
   {
    "duration": 14,
    "start_time": "2022-10-06T20:23:26.073Z"
   },
   {
    "duration": 10,
    "start_time": "2022-10-06T20:23:26.089Z"
   },
   {
    "duration": 9,
    "start_time": "2022-10-06T20:23:26.100Z"
   },
   {
    "duration": 24,
    "start_time": "2022-10-06T20:23:26.111Z"
   },
   {
    "duration": 23,
    "start_time": "2022-10-06T20:23:26.136Z"
   },
   {
    "duration": 20,
    "start_time": "2022-10-06T20:23:26.160Z"
   },
   {
    "duration": 22,
    "start_time": "2022-10-06T20:23:26.182Z"
   },
   {
    "duration": 1109,
    "start_time": "2022-10-06T20:24:22.255Z"
   },
   {
    "duration": 31,
    "start_time": "2022-10-06T20:24:23.365Z"
   },
   {
    "duration": 16,
    "start_time": "2022-10-06T20:24:23.398Z"
   },
   {
    "duration": 11,
    "start_time": "2022-10-06T20:24:23.415Z"
   },
   {
    "duration": 23,
    "start_time": "2022-10-06T20:24:23.428Z"
   },
   {
    "duration": 2,
    "start_time": "2022-10-06T20:24:23.453Z"
   },
   {
    "duration": 10,
    "start_time": "2022-10-06T20:24:23.457Z"
   },
   {
    "duration": 11,
    "start_time": "2022-10-06T20:24:23.468Z"
   },
   {
    "duration": 10,
    "start_time": "2022-10-06T20:24:23.480Z"
   },
   {
    "duration": 13,
    "start_time": "2022-10-06T20:24:23.492Z"
   },
   {
    "duration": 8,
    "start_time": "2022-10-06T20:24:23.507Z"
   },
   {
    "duration": 14,
    "start_time": "2022-10-06T20:24:23.516Z"
   },
   {
    "duration": 11,
    "start_time": "2022-10-06T20:24:23.532Z"
   },
   {
    "duration": 8,
    "start_time": "2022-10-06T20:24:23.545Z"
   },
   {
    "duration": 40,
    "start_time": "2022-10-06T20:24:23.554Z"
   },
   {
    "duration": 11,
    "start_time": "2022-10-06T20:24:23.595Z"
   },
   {
    "duration": 2,
    "start_time": "2022-10-06T20:24:23.607Z"
   },
   {
    "duration": 1311,
    "start_time": "2022-10-06T20:24:23.611Z"
   },
   {
    "duration": 9,
    "start_time": "2022-10-06T20:24:24.924Z"
   },
   {
    "duration": 13,
    "start_time": "2022-10-06T20:24:24.934Z"
   },
   {
    "duration": 79228,
    "start_time": "2022-10-06T20:24:24.948Z"
   },
   {
    "duration": 33431,
    "start_time": "2022-10-06T20:25:44.178Z"
   },
   {
    "duration": 13,
    "start_time": "2022-10-06T20:26:17.611Z"
   },
   {
    "duration": 12,
    "start_time": "2022-10-06T20:26:17.625Z"
   },
   {
    "duration": 12,
    "start_time": "2022-10-06T20:26:17.639Z"
   },
   {
    "duration": 11,
    "start_time": "2022-10-06T20:26:17.653Z"
   },
   {
    "duration": 7,
    "start_time": "2022-10-06T20:26:17.677Z"
   },
   {
    "duration": 11,
    "start_time": "2022-10-06T20:26:17.686Z"
   },
   {
    "duration": 13,
    "start_time": "2022-10-06T20:26:17.698Z"
   },
   {
    "duration": 78535,
    "start_time": "2022-10-06T20:26:27.702Z"
   },
   {
    "duration": 1136,
    "start_time": "2022-10-06T20:29:13.455Z"
   },
   {
    "duration": 32,
    "start_time": "2022-10-06T20:29:14.593Z"
   },
   {
    "duration": 21,
    "start_time": "2022-10-06T20:29:14.627Z"
   },
   {
    "duration": 14,
    "start_time": "2022-10-06T20:29:14.650Z"
   },
   {
    "duration": 35,
    "start_time": "2022-10-06T20:29:14.666Z"
   },
   {
    "duration": 2,
    "start_time": "2022-10-06T20:29:14.704Z"
   },
   {
    "duration": 17,
    "start_time": "2022-10-06T20:29:14.708Z"
   },
   {
    "duration": 6,
    "start_time": "2022-10-06T20:29:14.727Z"
   },
   {
    "duration": 12,
    "start_time": "2022-10-06T20:29:14.735Z"
   },
   {
    "duration": 14,
    "start_time": "2022-10-06T20:29:14.749Z"
   },
   {
    "duration": 17,
    "start_time": "2022-10-06T20:29:14.765Z"
   },
   {
    "duration": 7,
    "start_time": "2022-10-06T20:29:14.784Z"
   },
   {
    "duration": 10,
    "start_time": "2022-10-06T20:29:14.792Z"
   },
   {
    "duration": 11,
    "start_time": "2022-10-06T20:29:14.805Z"
   },
   {
    "duration": 46,
    "start_time": "2022-10-06T20:29:14.818Z"
   },
   {
    "duration": 21,
    "start_time": "2022-10-06T20:29:14.865Z"
   },
   {
    "duration": 3,
    "start_time": "2022-10-06T20:29:14.888Z"
   },
   {
    "duration": 1419,
    "start_time": "2022-10-06T20:29:14.892Z"
   },
   {
    "duration": 10,
    "start_time": "2022-10-06T20:29:16.313Z"
   },
   {
    "duration": 17,
    "start_time": "2022-10-06T20:29:16.325Z"
   },
   {
    "duration": 33499,
    "start_time": "2022-10-06T20:29:16.344Z"
   },
   {
    "duration": 13,
    "start_time": "2022-10-06T20:29:49.844Z"
   },
   {
    "duration": 24,
    "start_time": "2022-10-06T20:29:49.858Z"
   },
   {
    "duration": 4,
    "start_time": "2022-10-06T20:29:49.883Z"
   },
   {
    "duration": 13,
    "start_time": "2022-10-06T20:29:49.888Z"
   },
   {
    "duration": 11,
    "start_time": "2022-10-06T20:29:49.902Z"
   },
   {
    "duration": 11,
    "start_time": "2022-10-06T20:29:49.914Z"
   },
   {
    "duration": 10,
    "start_time": "2022-10-06T20:29:49.926Z"
   },
   {
    "duration": 54,
    "start_time": "2022-10-07T01:39:45.510Z"
   },
   {
    "duration": 6,
    "start_time": "2022-10-07T01:39:45.742Z"
   },
   {
    "duration": 1851,
    "start_time": "2022-10-07T01:43:15.586Z"
   },
   {
    "duration": 30,
    "start_time": "2022-10-07T01:43:17.439Z"
   },
   {
    "duration": 18,
    "start_time": "2022-10-07T01:43:17.471Z"
   },
   {
    "duration": 12,
    "start_time": "2022-10-07T01:43:17.491Z"
   },
   {
    "duration": 25,
    "start_time": "2022-10-07T01:43:17.505Z"
   },
   {
    "duration": 3,
    "start_time": "2022-10-07T01:43:17.531Z"
   },
   {
    "duration": 22,
    "start_time": "2022-10-07T01:43:17.535Z"
   },
   {
    "duration": 6,
    "start_time": "2022-10-07T01:43:17.559Z"
   },
   {
    "duration": 6,
    "start_time": "2022-10-07T01:43:17.566Z"
   },
   {
    "duration": 5,
    "start_time": "2022-10-07T01:43:17.575Z"
   },
   {
    "duration": 7,
    "start_time": "2022-10-07T01:43:17.582Z"
   },
   {
    "duration": 8,
    "start_time": "2022-10-07T01:43:17.591Z"
   },
   {
    "duration": 6,
    "start_time": "2022-10-07T01:43:17.600Z"
   },
   {
    "duration": 6,
    "start_time": "2022-10-07T01:43:17.608Z"
   },
   {
    "duration": 69,
    "start_time": "2022-10-07T01:43:17.615Z"
   },
   {
    "duration": 10,
    "start_time": "2022-10-07T01:43:17.686Z"
   },
   {
    "duration": 4,
    "start_time": "2022-10-07T01:43:17.698Z"
   },
   {
    "duration": 1437,
    "start_time": "2022-10-07T01:43:17.704Z"
   },
   {
    "duration": 12,
    "start_time": "2022-10-07T01:43:19.143Z"
   },
   {
    "duration": 13,
    "start_time": "2022-10-07T01:43:19.157Z"
   },
   {
    "duration": 34124,
    "start_time": "2022-10-07T01:43:19.171Z"
   },
   {
    "duration": 13,
    "start_time": "2022-10-07T01:43:53.297Z"
   },
   {
    "duration": 10,
    "start_time": "2022-10-07T01:43:53.312Z"
   },
   {
    "duration": 6,
    "start_time": "2022-10-07T01:43:53.324Z"
   },
   {
    "duration": 27,
    "start_time": "2022-10-07T01:43:53.331Z"
   },
   {
    "duration": 13,
    "start_time": "2022-10-07T01:43:53.360Z"
   },
   {
    "duration": 16,
    "start_time": "2022-10-07T01:43:53.375Z"
   },
   {
    "duration": 21,
    "start_time": "2022-10-07T01:43:53.394Z"
   },
   {
    "duration": 225,
    "start_time": "2022-10-07T09:40:50.148Z"
   },
   {
    "duration": 87,
    "start_time": "2022-10-07T11:31:17.188Z"
   },
   {
    "duration": 65,
    "start_time": "2022-10-07T11:34:07.161Z"
   },
   {
    "duration": 15,
    "start_time": "2022-10-07T11:34:11.926Z"
   },
   {
    "duration": 1349,
    "start_time": "2022-10-07T11:34:16.350Z"
   },
   {
    "duration": 79,
    "start_time": "2022-10-07T11:34:17.701Z"
   },
   {
    "duration": 27,
    "start_time": "2022-10-07T11:34:17.782Z"
   },
   {
    "duration": 33,
    "start_time": "2022-10-07T11:34:17.812Z"
   },
   {
    "duration": 40,
    "start_time": "2022-10-07T11:34:17.847Z"
   },
   {
    "duration": 5,
    "start_time": "2022-10-07T11:34:17.890Z"
   },
   {
    "duration": 37,
    "start_time": "2022-10-07T11:34:17.897Z"
   },
   {
    "duration": 6,
    "start_time": "2022-10-07T11:34:17.936Z"
   },
   {
    "duration": 7,
    "start_time": "2022-10-07T11:34:17.944Z"
   },
   {
    "duration": 10,
    "start_time": "2022-10-07T11:34:17.955Z"
   },
   {
    "duration": 6,
    "start_time": "2022-10-07T11:34:17.967Z"
   },
   {
    "duration": 8,
    "start_time": "2022-10-07T11:34:17.975Z"
   },
   {
    "duration": 22,
    "start_time": "2022-10-07T11:34:17.985Z"
   },
   {
    "duration": 26,
    "start_time": "2022-10-07T11:34:18.009Z"
   },
   {
    "duration": 65,
    "start_time": "2022-10-07T11:34:18.037Z"
   },
   {
    "duration": 18,
    "start_time": "2022-10-07T11:34:18.104Z"
   },
   {
    "duration": 8,
    "start_time": "2022-10-07T11:34:18.124Z"
   },
   {
    "duration": 1835,
    "start_time": "2022-10-07T11:34:18.134Z"
   },
   {
    "duration": 24,
    "start_time": "2022-10-07T11:34:19.972Z"
   },
   {
    "duration": 47,
    "start_time": "2022-10-07T11:34:20.002Z"
   },
   {
    "duration": 44797,
    "start_time": "2022-10-07T11:34:20.051Z"
   },
   {
    "duration": 16,
    "start_time": "2022-10-07T11:35:04.850Z"
   },
   {
    "duration": 33,
    "start_time": "2022-10-07T11:35:04.868Z"
   },
   {
    "duration": 28,
    "start_time": "2022-10-07T11:35:04.903Z"
   },
   {
    "duration": 13,
    "start_time": "2022-10-07T11:35:04.933Z"
   },
   {
    "duration": 12,
    "start_time": "2022-10-07T11:35:04.948Z"
   },
   {
    "duration": 13,
    "start_time": "2022-10-07T11:35:04.963Z"
   },
   {
    "duration": 20,
    "start_time": "2022-10-07T11:35:04.981Z"
   },
   {
    "duration": 13,
    "start_time": "2022-10-07T13:07:39.829Z"
   },
   {
    "duration": 1476,
    "start_time": "2022-10-16T15:29:09.698Z"
   },
   {
    "duration": 149,
    "start_time": "2022-10-16T15:29:11.177Z"
   },
   {
    "duration": 17,
    "start_time": "2022-10-16T15:29:11.346Z"
   },
   {
    "duration": 13,
    "start_time": "2022-10-16T15:29:11.377Z"
   },
   {
    "duration": 26,
    "start_time": "2022-10-16T15:29:11.409Z"
   },
   {
    "duration": 2,
    "start_time": "2022-10-16T15:29:11.460Z"
   },
   {
    "duration": 7,
    "start_time": "2022-10-16T15:29:11.497Z"
   },
   {
    "duration": 23,
    "start_time": "2022-10-16T15:29:11.528Z"
   },
   {
    "duration": 24,
    "start_time": "2022-10-16T15:29:11.588Z"
   },
   {
    "duration": 30,
    "start_time": "2022-10-16T15:29:11.651Z"
   },
   {
    "duration": 26,
    "start_time": "2022-10-16T15:29:11.720Z"
   },
   {
    "duration": 17,
    "start_time": "2022-10-16T15:29:11.785Z"
   },
   {
    "duration": 27,
    "start_time": "2022-10-16T15:29:11.829Z"
   },
   {
    "duration": 27,
    "start_time": "2022-10-16T15:29:11.879Z"
   },
   {
    "duration": 54,
    "start_time": "2022-10-16T15:29:11.933Z"
   },
   {
    "duration": 10,
    "start_time": "2022-10-16T15:29:12.025Z"
   },
   {
    "duration": 9,
    "start_time": "2022-10-16T15:29:12.063Z"
   },
   {
    "duration": 1433,
    "start_time": "2022-10-16T15:29:12.092Z"
   },
   {
    "duration": 10,
    "start_time": "2022-10-16T15:29:14.921Z"
   },
   {
    "duration": 19,
    "start_time": "2022-10-16T15:29:14.965Z"
   },
   {
    "duration": 1084,
    "start_time": "2022-10-16T15:29:29.340Z"
   },
   {
    "duration": 32,
    "start_time": "2022-10-16T15:29:30.426Z"
   },
   {
    "duration": 19,
    "start_time": "2022-10-16T15:29:30.459Z"
   },
   {
    "duration": 16,
    "start_time": "2022-10-16T15:29:30.480Z"
   },
   {
    "duration": 52,
    "start_time": "2022-10-16T15:29:30.497Z"
   },
   {
    "duration": 13,
    "start_time": "2022-10-16T15:29:30.551Z"
   },
   {
    "duration": 29,
    "start_time": "2022-10-16T15:29:30.565Z"
   },
   {
    "duration": 14,
    "start_time": "2022-10-16T15:29:30.596Z"
   },
   {
    "duration": 22,
    "start_time": "2022-10-16T15:29:30.612Z"
   },
   {
    "duration": 14,
    "start_time": "2022-10-16T15:29:30.637Z"
   },
   {
    "duration": 24,
    "start_time": "2022-10-16T15:29:30.653Z"
   },
   {
    "duration": 14,
    "start_time": "2022-10-16T15:29:30.679Z"
   },
   {
    "duration": 27,
    "start_time": "2022-10-16T15:29:30.694Z"
   },
   {
    "duration": 23,
    "start_time": "2022-10-16T15:29:30.723Z"
   },
   {
    "duration": 54,
    "start_time": "2022-10-16T15:29:30.748Z"
   },
   {
    "duration": 12,
    "start_time": "2022-10-16T15:29:30.804Z"
   },
   {
    "duration": 9,
    "start_time": "2022-10-16T15:29:30.817Z"
   },
   {
    "duration": 1410,
    "start_time": "2022-10-16T15:29:30.827Z"
   },
   {
    "duration": 11,
    "start_time": "2022-10-16T15:29:32.239Z"
   },
   {
    "duration": 25,
    "start_time": "2022-10-16T15:29:32.251Z"
   },
   {
    "duration": 12,
    "start_time": "2022-10-16T15:30:06.419Z"
   },
   {
    "duration": 6,
    "start_time": "2022-10-16T15:30:06.446Z"
   },
   {
    "duration": 10,
    "start_time": "2022-10-16T15:30:06.453Z"
   },
   {
    "duration": 37,
    "start_time": "2022-10-16T15:30:06.464Z"
   },
   {
    "duration": 13,
    "start_time": "2022-10-16T15:30:06.503Z"
   },
   {
    "duration": 11,
    "start_time": "2022-10-16T15:30:06.519Z"
   },
   {
    "duration": 16,
    "start_time": "2022-10-16T15:30:06.532Z"
   },
   {
    "duration": 34218,
    "start_time": "2022-10-16T15:30:06.550Z"
   },
   {
    "duration": 1176,
    "start_time": "2022-10-16T15:30:53.587Z"
   },
   {
    "duration": 31,
    "start_time": "2022-10-16T15:30:54.765Z"
   },
   {
    "duration": 19,
    "start_time": "2022-10-16T15:30:54.798Z"
   },
   {
    "duration": 12,
    "start_time": "2022-10-16T15:30:54.819Z"
   },
   {
    "duration": 26,
    "start_time": "2022-10-16T15:30:54.833Z"
   },
   {
    "duration": 2,
    "start_time": "2022-10-16T15:30:54.861Z"
   },
   {
    "duration": 37,
    "start_time": "2022-10-16T15:30:54.864Z"
   },
   {
    "duration": 6,
    "start_time": "2022-10-16T15:30:54.903Z"
   },
   {
    "duration": 6,
    "start_time": "2022-10-16T15:30:54.911Z"
   },
   {
    "duration": 5,
    "start_time": "2022-10-16T15:30:54.921Z"
   },
   {
    "duration": 6,
    "start_time": "2022-10-16T15:30:54.928Z"
   },
   {
    "duration": 6,
    "start_time": "2022-10-16T15:30:54.936Z"
   },
   {
    "duration": 8,
    "start_time": "2022-10-16T15:30:54.943Z"
   },
   {
    "duration": 44,
    "start_time": "2022-10-16T15:30:54.953Z"
   },
   {
    "duration": 36,
    "start_time": "2022-10-16T15:30:54.999Z"
   },
   {
    "duration": 11,
    "start_time": "2022-10-16T15:30:55.037Z"
   },
   {
    "duration": 3,
    "start_time": "2022-10-16T15:30:55.050Z"
   },
   {
    "duration": 1547,
    "start_time": "2022-10-16T15:30:55.055Z"
   },
   {
    "duration": 10,
    "start_time": "2022-10-16T15:30:56.604Z"
   },
   {
    "duration": 16,
    "start_time": "2022-10-16T15:30:56.616Z"
   },
   {
    "duration": 1116,
    "start_time": "2022-10-16T15:31:23.715Z"
   },
   {
    "duration": 31,
    "start_time": "2022-10-16T15:31:24.833Z"
   },
   {
    "duration": 19,
    "start_time": "2022-10-16T15:31:24.865Z"
   },
   {
    "duration": 11,
    "start_time": "2022-10-16T15:31:24.886Z"
   },
   {
    "duration": 22,
    "start_time": "2022-10-16T15:31:24.898Z"
   },
   {
    "duration": 2,
    "start_time": "2022-10-16T15:31:24.922Z"
   },
   {
    "duration": 10,
    "start_time": "2022-10-16T15:31:24.926Z"
   },
   {
    "duration": 5,
    "start_time": "2022-10-16T15:31:24.938Z"
   },
   {
    "duration": 5,
    "start_time": "2022-10-16T15:31:24.944Z"
   },
   {
    "duration": 4,
    "start_time": "2022-10-16T15:31:24.952Z"
   },
   {
    "duration": 4,
    "start_time": "2022-10-16T15:31:24.997Z"
   },
   {
    "duration": 7,
    "start_time": "2022-10-16T15:31:25.002Z"
   },
   {
    "duration": 8,
    "start_time": "2022-10-16T15:31:25.010Z"
   },
   {
    "duration": 5,
    "start_time": "2022-10-16T15:31:25.020Z"
   },
   {
    "duration": 72,
    "start_time": "2022-10-16T15:31:25.026Z"
   },
   {
    "duration": 11,
    "start_time": "2022-10-16T15:31:25.099Z"
   },
   {
    "duration": 2,
    "start_time": "2022-10-16T15:31:25.111Z"
   },
   {
    "duration": 1418,
    "start_time": "2022-10-16T15:31:25.115Z"
   },
   {
    "duration": 12,
    "start_time": "2022-10-16T15:31:26.534Z"
   },
   {
    "duration": 18,
    "start_time": "2022-10-16T15:31:26.548Z"
   },
   {
    "duration": 34661,
    "start_time": "2022-10-16T15:31:26.569Z"
   },
   {
    "duration": 11,
    "start_time": "2022-10-16T15:32:01.232Z"
   },
   {
    "duration": 32,
    "start_time": "2022-10-16T15:32:01.245Z"
   },
   {
    "duration": 16,
    "start_time": "2022-10-16T15:32:01.279Z"
   },
   {
    "duration": 12,
    "start_time": "2022-10-16T15:32:01.296Z"
   },
   {
    "duration": 14,
    "start_time": "2022-10-16T15:32:01.310Z"
   },
   {
    "duration": 25,
    "start_time": "2022-10-16T15:32:01.326Z"
   },
   {
    "duration": 21,
    "start_time": "2022-10-16T15:32:01.354Z"
   },
   {
    "duration": 1111,
    "start_time": "2022-10-16T15:32:43.198Z"
   },
   {
    "duration": 33,
    "start_time": "2022-10-16T15:32:44.311Z"
   },
   {
    "duration": 17,
    "start_time": "2022-10-16T15:32:44.346Z"
   },
   {
    "duration": 10,
    "start_time": "2022-10-16T15:32:44.365Z"
   },
   {
    "duration": 25,
    "start_time": "2022-10-16T15:32:44.377Z"
   },
   {
    "duration": 3,
    "start_time": "2022-10-16T15:32:44.403Z"
   },
   {
    "duration": 10,
    "start_time": "2022-10-16T15:32:44.408Z"
   },
   {
    "duration": 6,
    "start_time": "2022-10-16T15:32:44.420Z"
   },
   {
    "duration": 20,
    "start_time": "2022-10-16T15:32:44.428Z"
   },
   {
    "duration": 11,
    "start_time": "2022-10-16T15:32:44.450Z"
   },
   {
    "duration": 11,
    "start_time": "2022-10-16T15:32:44.462Z"
   },
   {
    "duration": 24,
    "start_time": "2022-10-16T15:32:44.475Z"
   },
   {
    "duration": 13,
    "start_time": "2022-10-16T15:32:44.502Z"
   },
   {
    "duration": 6,
    "start_time": "2022-10-16T15:32:44.518Z"
   },
   {
    "duration": 45,
    "start_time": "2022-10-16T15:32:44.526Z"
   },
   {
    "duration": 24,
    "start_time": "2022-10-16T15:32:44.573Z"
   },
   {
    "duration": 2,
    "start_time": "2022-10-16T15:32:44.599Z"
   },
   {
    "duration": 1397,
    "start_time": "2022-10-16T15:32:44.602Z"
   },
   {
    "duration": 10,
    "start_time": "2022-10-16T15:32:46.000Z"
   },
   {
    "duration": 12,
    "start_time": "2022-10-16T15:32:46.012Z"
   },
   {
    "duration": 34453,
    "start_time": "2022-10-16T15:32:46.025Z"
   },
   {
    "duration": 11,
    "start_time": "2022-10-16T15:33:20.480Z"
   },
   {
    "duration": 16,
    "start_time": "2022-10-16T15:33:20.497Z"
   },
   {
    "duration": 13,
    "start_time": "2022-10-16T15:33:20.514Z"
   },
   {
    "duration": 24,
    "start_time": "2022-10-16T15:33:20.529Z"
   },
   {
    "duration": 19,
    "start_time": "2022-10-16T15:33:20.554Z"
   },
   {
    "duration": 33,
    "start_time": "2022-10-16T15:33:20.575Z"
   },
   {
    "duration": 28,
    "start_time": "2022-10-16T15:33:20.609Z"
   },
   {
    "duration": 1093,
    "start_time": "2022-10-16T15:33:57.738Z"
   },
   {
    "duration": 32,
    "start_time": "2022-10-16T15:33:58.833Z"
   },
   {
    "duration": 17,
    "start_time": "2022-10-16T15:33:58.867Z"
   },
   {
    "duration": 11,
    "start_time": "2022-10-16T15:33:58.886Z"
   },
   {
    "duration": 22,
    "start_time": "2022-10-16T15:33:58.899Z"
   },
   {
    "duration": 3,
    "start_time": "2022-10-16T15:33:58.922Z"
   },
   {
    "duration": 8,
    "start_time": "2022-10-16T15:33:58.926Z"
   },
   {
    "duration": 5,
    "start_time": "2022-10-16T15:33:58.935Z"
   },
   {
    "duration": 5,
    "start_time": "2022-10-16T15:33:58.941Z"
   },
   {
    "duration": 4,
    "start_time": "2022-10-16T15:33:58.949Z"
   },
   {
    "duration": 44,
    "start_time": "2022-10-16T15:33:58.954Z"
   },
   {
    "duration": 5,
    "start_time": "2022-10-16T15:33:59.000Z"
   },
   {
    "duration": 8,
    "start_time": "2022-10-16T15:33:59.007Z"
   },
   {
    "duration": 9,
    "start_time": "2022-10-16T15:33:59.016Z"
   },
   {
    "duration": 39,
    "start_time": "2022-10-16T15:33:59.026Z"
   },
   {
    "duration": 31,
    "start_time": "2022-10-16T15:33:59.067Z"
   },
   {
    "duration": 2,
    "start_time": "2022-10-16T15:33:59.099Z"
   },
   {
    "duration": 1381,
    "start_time": "2022-10-16T15:33:59.103Z"
   },
   {
    "duration": 14,
    "start_time": "2022-10-16T15:34:00.485Z"
   },
   {
    "duration": 26,
    "start_time": "2022-10-16T15:34:00.500Z"
   },
   {
    "duration": 34025,
    "start_time": "2022-10-16T15:34:00.527Z"
   },
   {
    "duration": 14,
    "start_time": "2022-10-16T15:34:34.554Z"
   },
   {
    "duration": 27,
    "start_time": "2022-10-16T15:34:34.570Z"
   },
   {
    "duration": 3,
    "start_time": "2022-10-16T15:34:34.599Z"
   },
   {
    "duration": 21,
    "start_time": "2022-10-16T15:34:34.604Z"
   },
   {
    "duration": 10,
    "start_time": "2022-10-16T15:34:34.626Z"
   },
   {
    "duration": 10,
    "start_time": "2022-10-16T15:34:34.638Z"
   },
   {
    "duration": 11,
    "start_time": "2022-10-16T15:34:34.651Z"
   },
   {
    "duration": 1149,
    "start_time": "2022-10-21T15:57:47.499Z"
   },
   {
    "duration": 128,
    "start_time": "2022-10-21T15:57:48.650Z"
   },
   {
    "duration": 25,
    "start_time": "2022-10-21T15:57:48.780Z"
   },
   {
    "duration": 11,
    "start_time": "2022-10-21T15:57:48.807Z"
   },
   {
    "duration": 26,
    "start_time": "2022-10-21T15:57:48.820Z"
   },
   {
    "duration": 3,
    "start_time": "2022-10-21T15:57:48.848Z"
   },
   {
    "duration": 11,
    "start_time": "2022-10-21T15:57:48.852Z"
   },
   {
    "duration": 32,
    "start_time": "2022-10-21T15:57:48.865Z"
   },
   {
    "duration": 14,
    "start_time": "2022-10-21T15:57:48.899Z"
   },
   {
    "duration": 4,
    "start_time": "2022-10-21T15:57:48.916Z"
   },
   {
    "duration": 6,
    "start_time": "2022-10-21T15:57:48.922Z"
   },
   {
    "duration": 5,
    "start_time": "2022-10-21T15:57:48.930Z"
   },
   {
    "duration": 6,
    "start_time": "2022-10-21T15:57:48.937Z"
   },
   {
    "duration": 6,
    "start_time": "2022-10-21T15:57:48.945Z"
   },
   {
    "duration": 68,
    "start_time": "2022-10-21T15:57:48.952Z"
   },
   {
    "duration": 16,
    "start_time": "2022-10-21T15:57:49.023Z"
   },
   {
    "duration": 3,
    "start_time": "2022-10-21T15:57:49.042Z"
   },
   {
    "duration": 1454,
    "start_time": "2022-10-21T15:57:49.047Z"
   },
   {
    "duration": 12,
    "start_time": "2022-10-21T15:57:50.504Z"
   },
   {
    "duration": 23,
    "start_time": "2022-10-21T15:57:50.518Z"
   },
   {
    "duration": 34773,
    "start_time": "2022-10-21T15:57:50.543Z"
   },
   {
    "duration": 10,
    "start_time": "2022-10-21T15:58:25.318Z"
   },
   {
    "duration": 13,
    "start_time": "2022-10-21T15:58:25.329Z"
   },
   {
    "duration": 4,
    "start_time": "2022-10-21T15:58:25.343Z"
   },
   {
    "duration": 12,
    "start_time": "2022-10-21T15:58:25.348Z"
   },
   {
    "duration": 15,
    "start_time": "2022-10-21T15:58:25.384Z"
   },
   {
    "duration": 14,
    "start_time": "2022-10-21T15:58:25.400Z"
   },
   {
    "duration": 11,
    "start_time": "2022-10-21T15:58:25.417Z"
   }
  ],
  "kernelspec": {
   "display_name": "Python 3 (ipykernel)",
   "language": "python",
   "name": "python3"
  },
  "language_info": {
   "codemirror_mode": {
    "name": "ipython",
    "version": 3
   },
   "file_extension": ".py",
   "mimetype": "text/x-python",
   "name": "python",
   "nbconvert_exporter": "python",
   "pygments_lexer": "ipython3",
   "version": "3.11.4"
  },
  "toc": {
   "base_numbering": 1,
   "nav_menu": {
    "height": "132px",
    "width": "300px"
   },
   "number_sections": true,
   "sideBar": true,
   "skip_h1_title": true,
   "title_cell": "Table of Contents",
   "title_sidebar": "Contents",
   "toc_cell": false,
   "toc_position": {},
   "toc_section_display": true,
   "toc_window_display": true
  }
 },
 "nbformat": 4,
 "nbformat_minor": 2
}
