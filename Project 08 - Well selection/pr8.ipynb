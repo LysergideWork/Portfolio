{
 "cells": [
  {
   "cell_type": "markdown",
   "metadata": {},
   "source": [
    "# Выбор локации для скважины"
   ]
  },
  {
   "cell_type": "markdown",
   "metadata": {},
   "source": [
    "Допустим, мы работаем в добывающей компании «ГлавРосГосНефть». Нужно решить, где бурить новую скважину.\n",
    "\n",
    "Нам предоставлены пробы нефти в трёх регионах: в каждом 10 000 месторождений, где измерили качество нефти и объём её запасов. Построим модель машинного обучения, которая поможет определить регион, где добыча принесёт наибольшую прибыль. Проанализируем возможную прибыль и риски техникой *Bootstrap.*\n",
    "\n",
    "Шаги для выбора локации:\n",
    "\n",
    "- В избранном регионе ищут месторождения, для каждого определяют значения признаков;\n",
    "- Строят модель и оценивают объём запасов;\n",
    "- Выбирают месторождения с самым высокими оценками значений. Количество месторождений зависит от бюджета компании и стоимости разработки одной скважины;\n",
    "- Прибыль равна суммарной прибыли отобранных месторождений."
   ]
  },
  {
   "cell_type": "markdown",
   "metadata": {},
   "source": [
    "## Загрузка и подготовка данных"
   ]
  },
  {
   "cell_type": "code",
   "execution_count": 1,
   "metadata": {},
   "outputs": [],
   "source": [
    "import pandas as pd\n",
    "import numpy as np\n",
    "import scipy.stats as st\n",
    "from sklearn.linear_model import LinearRegression\n",
    "from sklearn.model_selection import train_test_split, cross_val_score\n",
    "from sklearn.metrics import mean_squared_error, mean_absolute_error"
   ]
  },
  {
   "cell_type": "code",
   "execution_count": 2,
   "metadata": {},
   "outputs": [],
   "source": [
    "try:\n",
    "    df0 = pd.read_csv('/datasets/geo_data_0.csv')\n",
    "    df1 = pd.read_csv('/datasets/geo_data_1.csv')\n",
    "    df2 = pd.read_csv('/datasets/geo_data_2.csv')\n",
    "        \n",
    "except:\n",
    "    df0 = pd.read_csv('https://code.s3.yandex.net/datasets/geo_data_0.csv')\n",
    "    df1 = pd.read_csv('https://code.s3.yandex.net/datasets/geo_data_1.csv')\n",
    "    df2 = pd.read_csv('https://code.s3.yandex.net/datasets/geo_data_2.csv')\n"
   ]
  },
  {
   "cell_type": "code",
   "execution_count": 3,
   "metadata": {},
   "outputs": [
    {
     "name": "stdout",
     "output_type": "stream",
     "text": [
      "<class 'pandas.core.frame.DataFrame'>\n",
      "RangeIndex: 100000 entries, 0 to 99999\n",
      "Data columns (total 5 columns):\n",
      " #   Column   Non-Null Count   Dtype  \n",
      "---  ------   --------------   -----  \n",
      " 0   id       100000 non-null  object \n",
      " 1   f0       100000 non-null  float64\n",
      " 2   f1       100000 non-null  float64\n",
      " 3   f2       100000 non-null  float64\n",
      " 4   product  100000 non-null  float64\n",
      "dtypes: float64(4), object(1)\n",
      "memory usage: 3.8+ MB\n"
     ]
    },
    {
     "name": "stderr",
     "output_type": "stream",
     "text": [
      "C:\\Users\\lyser\\AppData\\Local\\Temp\\ipykernel_21016\\3758813567.py:5: FutureWarning: The default value of numeric_only in DataFrame.corr is deprecated. In a future version, it will default to False. Select only valid columns or specify the value of numeric_only to silence this warning.\n",
      "  df0.corr())\n"
     ]
    },
    {
     "data": {
      "text/html": [
       "<div>\n",
       "<style scoped>\n",
       "    .dataframe tbody tr th:only-of-type {\n",
       "        vertical-align: middle;\n",
       "    }\n",
       "\n",
       "    .dataframe tbody tr th {\n",
       "        vertical-align: top;\n",
       "    }\n",
       "\n",
       "    .dataframe thead th {\n",
       "        text-align: right;\n",
       "    }\n",
       "</style>\n",
       "<table border=\"1\" class=\"dataframe\">\n",
       "  <thead>\n",
       "    <tr style=\"text-align: right;\">\n",
       "      <th></th>\n",
       "      <th>id</th>\n",
       "      <th>f0</th>\n",
       "      <th>f1</th>\n",
       "      <th>f2</th>\n",
       "      <th>product</th>\n",
       "    </tr>\n",
       "  </thead>\n",
       "  <tbody>\n",
       "    <tr>\n",
       "      <th>0</th>\n",
       "      <td>txEyH</td>\n",
       "      <td>0.705745</td>\n",
       "      <td>-0.497823</td>\n",
       "      <td>1.221170</td>\n",
       "      <td>105.280062</td>\n",
       "    </tr>\n",
       "    <tr>\n",
       "      <th>1</th>\n",
       "      <td>2acmU</td>\n",
       "      <td>1.334711</td>\n",
       "      <td>-0.340164</td>\n",
       "      <td>4.365080</td>\n",
       "      <td>73.037750</td>\n",
       "    </tr>\n",
       "    <tr>\n",
       "      <th>2</th>\n",
       "      <td>409Wp</td>\n",
       "      <td>1.022732</td>\n",
       "      <td>0.151990</td>\n",
       "      <td>1.419926</td>\n",
       "      <td>85.265647</td>\n",
       "    </tr>\n",
       "    <tr>\n",
       "      <th>3</th>\n",
       "      <td>iJLyR</td>\n",
       "      <td>-0.032172</td>\n",
       "      <td>0.139033</td>\n",
       "      <td>2.978566</td>\n",
       "      <td>168.620776</td>\n",
       "    </tr>\n",
       "    <tr>\n",
       "      <th>4</th>\n",
       "      <td>Xdl7t</td>\n",
       "      <td>1.988431</td>\n",
       "      <td>0.155413</td>\n",
       "      <td>4.751769</td>\n",
       "      <td>154.036647</td>\n",
       "    </tr>\n",
       "  </tbody>\n",
       "</table>\n",
       "</div>"
      ],
      "text/plain": [
       "      id        f0        f1        f2     product\n",
       "0  txEyH  0.705745 -0.497823  1.221170  105.280062\n",
       "1  2acmU  1.334711 -0.340164  4.365080   73.037750\n",
       "2  409Wp  1.022732  0.151990  1.419926   85.265647\n",
       "3  iJLyR -0.032172  0.139033  2.978566  168.620776\n",
       "4  Xdl7t  1.988431  0.155413  4.751769  154.036647"
      ]
     },
     "metadata": {},
     "output_type": "display_data"
    },
    {
     "data": {
      "text/plain": [
       "None"
      ]
     },
     "metadata": {},
     "output_type": "display_data"
    },
    {
     "data": {
      "text/html": [
       "<div>\n",
       "<style scoped>\n",
       "    .dataframe tbody tr th:only-of-type {\n",
       "        vertical-align: middle;\n",
       "    }\n",
       "\n",
       "    .dataframe tbody tr th {\n",
       "        vertical-align: top;\n",
       "    }\n",
       "\n",
       "    .dataframe thead th {\n",
       "        text-align: right;\n",
       "    }\n",
       "</style>\n",
       "<table border=\"1\" class=\"dataframe\">\n",
       "  <thead>\n",
       "    <tr style=\"text-align: right;\">\n",
       "      <th></th>\n",
       "      <th>id</th>\n",
       "      <th>f0</th>\n",
       "      <th>f1</th>\n",
       "      <th>f2</th>\n",
       "      <th>product</th>\n",
       "    </tr>\n",
       "  </thead>\n",
       "  <tbody>\n",
       "    <tr>\n",
       "      <th>count</th>\n",
       "      <td>100000</td>\n",
       "      <td>100000.000000</td>\n",
       "      <td>100000.000000</td>\n",
       "      <td>100000.000000</td>\n",
       "      <td>100000.000000</td>\n",
       "    </tr>\n",
       "    <tr>\n",
       "      <th>unique</th>\n",
       "      <td>99990</td>\n",
       "      <td>NaN</td>\n",
       "      <td>NaN</td>\n",
       "      <td>NaN</td>\n",
       "      <td>NaN</td>\n",
       "    </tr>\n",
       "    <tr>\n",
       "      <th>top</th>\n",
       "      <td>fiKDv</td>\n",
       "      <td>NaN</td>\n",
       "      <td>NaN</td>\n",
       "      <td>NaN</td>\n",
       "      <td>NaN</td>\n",
       "    </tr>\n",
       "    <tr>\n",
       "      <th>freq</th>\n",
       "      <td>2</td>\n",
       "      <td>NaN</td>\n",
       "      <td>NaN</td>\n",
       "      <td>NaN</td>\n",
       "      <td>NaN</td>\n",
       "    </tr>\n",
       "    <tr>\n",
       "      <th>mean</th>\n",
       "      <td>NaN</td>\n",
       "      <td>0.500419</td>\n",
       "      <td>0.250143</td>\n",
       "      <td>2.502647</td>\n",
       "      <td>92.500000</td>\n",
       "    </tr>\n",
       "    <tr>\n",
       "      <th>std</th>\n",
       "      <td>NaN</td>\n",
       "      <td>0.871832</td>\n",
       "      <td>0.504433</td>\n",
       "      <td>3.248248</td>\n",
       "      <td>44.288691</td>\n",
       "    </tr>\n",
       "    <tr>\n",
       "      <th>min</th>\n",
       "      <td>NaN</td>\n",
       "      <td>-1.408605</td>\n",
       "      <td>-0.848218</td>\n",
       "      <td>-12.088328</td>\n",
       "      <td>0.000000</td>\n",
       "    </tr>\n",
       "    <tr>\n",
       "      <th>25%</th>\n",
       "      <td>NaN</td>\n",
       "      <td>-0.072580</td>\n",
       "      <td>-0.200881</td>\n",
       "      <td>0.287748</td>\n",
       "      <td>56.497507</td>\n",
       "    </tr>\n",
       "    <tr>\n",
       "      <th>50%</th>\n",
       "      <td>NaN</td>\n",
       "      <td>0.502360</td>\n",
       "      <td>0.250252</td>\n",
       "      <td>2.515969</td>\n",
       "      <td>91.849972</td>\n",
       "    </tr>\n",
       "    <tr>\n",
       "      <th>75%</th>\n",
       "      <td>NaN</td>\n",
       "      <td>1.073581</td>\n",
       "      <td>0.700646</td>\n",
       "      <td>4.715088</td>\n",
       "      <td>128.564089</td>\n",
       "    </tr>\n",
       "    <tr>\n",
       "      <th>max</th>\n",
       "      <td>NaN</td>\n",
       "      <td>2.362331</td>\n",
       "      <td>1.343769</td>\n",
       "      <td>16.003790</td>\n",
       "      <td>185.364347</td>\n",
       "    </tr>\n",
       "  </tbody>\n",
       "</table>\n",
       "</div>"
      ],
      "text/plain": [
       "            id             f0             f1             f2        product\n",
       "count   100000  100000.000000  100000.000000  100000.000000  100000.000000\n",
       "unique   99990            NaN            NaN            NaN            NaN\n",
       "top      fiKDv            NaN            NaN            NaN            NaN\n",
       "freq         2            NaN            NaN            NaN            NaN\n",
       "mean       NaN       0.500419       0.250143       2.502647      92.500000\n",
       "std        NaN       0.871832       0.504433       3.248248      44.288691\n",
       "min        NaN      -1.408605      -0.848218     -12.088328       0.000000\n",
       "25%        NaN      -0.072580      -0.200881       0.287748      56.497507\n",
       "50%        NaN       0.502360       0.250252       2.515969      91.849972\n",
       "75%        NaN       1.073581       0.700646       4.715088     128.564089\n",
       "max        NaN       2.362331       1.343769      16.003790     185.364347"
      ]
     },
     "metadata": {},
     "output_type": "display_data"
    },
    {
     "data": {
      "text/html": [
       "<div>\n",
       "<style scoped>\n",
       "    .dataframe tbody tr th:only-of-type {\n",
       "        vertical-align: middle;\n",
       "    }\n",
       "\n",
       "    .dataframe tbody tr th {\n",
       "        vertical-align: top;\n",
       "    }\n",
       "\n",
       "    .dataframe thead th {\n",
       "        text-align: right;\n",
       "    }\n",
       "</style>\n",
       "<table border=\"1\" class=\"dataframe\">\n",
       "  <thead>\n",
       "    <tr style=\"text-align: right;\">\n",
       "      <th></th>\n",
       "      <th>f0</th>\n",
       "      <th>f1</th>\n",
       "      <th>f2</th>\n",
       "      <th>product</th>\n",
       "    </tr>\n",
       "  </thead>\n",
       "  <tbody>\n",
       "    <tr>\n",
       "      <th>f0</th>\n",
       "      <td>1.000000</td>\n",
       "      <td>-0.440723</td>\n",
       "      <td>-0.003153</td>\n",
       "      <td>0.143536</td>\n",
       "    </tr>\n",
       "    <tr>\n",
       "      <th>f1</th>\n",
       "      <td>-0.440723</td>\n",
       "      <td>1.000000</td>\n",
       "      <td>0.001724</td>\n",
       "      <td>-0.192356</td>\n",
       "    </tr>\n",
       "    <tr>\n",
       "      <th>f2</th>\n",
       "      <td>-0.003153</td>\n",
       "      <td>0.001724</td>\n",
       "      <td>1.000000</td>\n",
       "      <td>0.483663</td>\n",
       "    </tr>\n",
       "    <tr>\n",
       "      <th>product</th>\n",
       "      <td>0.143536</td>\n",
       "      <td>-0.192356</td>\n",
       "      <td>0.483663</td>\n",
       "      <td>1.000000</td>\n",
       "    </tr>\n",
       "  </tbody>\n",
       "</table>\n",
       "</div>"
      ],
      "text/plain": [
       "               f0        f1        f2   product\n",
       "f0       1.000000 -0.440723 -0.003153  0.143536\n",
       "f1      -0.440723  1.000000  0.001724 -0.192356\n",
       "f2      -0.003153  0.001724  1.000000  0.483663\n",
       "product  0.143536 -0.192356  0.483663  1.000000"
      ]
     },
     "metadata": {},
     "output_type": "display_data"
    }
   ],
   "source": [
    "display(\n",
    "    df0.head(),\n",
    "    df0.info(),\n",
    "    df0.describe(include='all'),\n",
    "    df0.corr())"
   ]
  },
  {
   "cell_type": "code",
   "execution_count": 4,
   "metadata": {},
   "outputs": [
    {
     "name": "stdout",
     "output_type": "stream",
     "text": [
      "<class 'pandas.core.frame.DataFrame'>\n",
      "RangeIndex: 100000 entries, 0 to 99999\n",
      "Data columns (total 5 columns):\n",
      " #   Column   Non-Null Count   Dtype  \n",
      "---  ------   --------------   -----  \n",
      " 0   id       100000 non-null  object \n",
      " 1   f0       100000 non-null  float64\n",
      " 2   f1       100000 non-null  float64\n",
      " 3   f2       100000 non-null  float64\n",
      " 4   product  100000 non-null  float64\n",
      "dtypes: float64(4), object(1)\n",
      "memory usage: 3.8+ MB\n"
     ]
    },
    {
     "name": "stderr",
     "output_type": "stream",
     "text": [
      "C:\\Users\\lyser\\AppData\\Local\\Temp\\ipykernel_21016\\1628433426.py:5: FutureWarning: The default value of numeric_only in DataFrame.corr is deprecated. In a future version, it will default to False. Select only valid columns or specify the value of numeric_only to silence this warning.\n",
      "  df1.corr())\n"
     ]
    },
    {
     "data": {
      "text/html": [
       "<div>\n",
       "<style scoped>\n",
       "    .dataframe tbody tr th:only-of-type {\n",
       "        vertical-align: middle;\n",
       "    }\n",
       "\n",
       "    .dataframe tbody tr th {\n",
       "        vertical-align: top;\n",
       "    }\n",
       "\n",
       "    .dataframe thead th {\n",
       "        text-align: right;\n",
       "    }\n",
       "</style>\n",
       "<table border=\"1\" class=\"dataframe\">\n",
       "  <thead>\n",
       "    <tr style=\"text-align: right;\">\n",
       "      <th></th>\n",
       "      <th>id</th>\n",
       "      <th>f0</th>\n",
       "      <th>f1</th>\n",
       "      <th>f2</th>\n",
       "      <th>product</th>\n",
       "    </tr>\n",
       "  </thead>\n",
       "  <tbody>\n",
       "    <tr>\n",
       "      <th>0</th>\n",
       "      <td>kBEdx</td>\n",
       "      <td>-15.001348</td>\n",
       "      <td>-8.276000</td>\n",
       "      <td>-0.005876</td>\n",
       "      <td>3.179103</td>\n",
       "    </tr>\n",
       "    <tr>\n",
       "      <th>1</th>\n",
       "      <td>62mP7</td>\n",
       "      <td>14.272088</td>\n",
       "      <td>-3.475083</td>\n",
       "      <td>0.999183</td>\n",
       "      <td>26.953261</td>\n",
       "    </tr>\n",
       "    <tr>\n",
       "      <th>2</th>\n",
       "      <td>vyE1P</td>\n",
       "      <td>6.263187</td>\n",
       "      <td>-5.948386</td>\n",
       "      <td>5.001160</td>\n",
       "      <td>134.766305</td>\n",
       "    </tr>\n",
       "    <tr>\n",
       "      <th>3</th>\n",
       "      <td>KcrkZ</td>\n",
       "      <td>-13.081196</td>\n",
       "      <td>-11.506057</td>\n",
       "      <td>4.999415</td>\n",
       "      <td>137.945408</td>\n",
       "    </tr>\n",
       "    <tr>\n",
       "      <th>4</th>\n",
       "      <td>AHL4O</td>\n",
       "      <td>12.702195</td>\n",
       "      <td>-8.147433</td>\n",
       "      <td>5.004363</td>\n",
       "      <td>134.766305</td>\n",
       "    </tr>\n",
       "  </tbody>\n",
       "</table>\n",
       "</div>"
      ],
      "text/plain": [
       "      id         f0         f1        f2     product\n",
       "0  kBEdx -15.001348  -8.276000 -0.005876    3.179103\n",
       "1  62mP7  14.272088  -3.475083  0.999183   26.953261\n",
       "2  vyE1P   6.263187  -5.948386  5.001160  134.766305\n",
       "3  KcrkZ -13.081196 -11.506057  4.999415  137.945408\n",
       "4  AHL4O  12.702195  -8.147433  5.004363  134.766305"
      ]
     },
     "metadata": {},
     "output_type": "display_data"
    },
    {
     "data": {
      "text/plain": [
       "None"
      ]
     },
     "metadata": {},
     "output_type": "display_data"
    },
    {
     "data": {
      "text/html": [
       "<div>\n",
       "<style scoped>\n",
       "    .dataframe tbody tr th:only-of-type {\n",
       "        vertical-align: middle;\n",
       "    }\n",
       "\n",
       "    .dataframe tbody tr th {\n",
       "        vertical-align: top;\n",
       "    }\n",
       "\n",
       "    .dataframe thead th {\n",
       "        text-align: right;\n",
       "    }\n",
       "</style>\n",
       "<table border=\"1\" class=\"dataframe\">\n",
       "  <thead>\n",
       "    <tr style=\"text-align: right;\">\n",
       "      <th></th>\n",
       "      <th>id</th>\n",
       "      <th>f0</th>\n",
       "      <th>f1</th>\n",
       "      <th>f2</th>\n",
       "      <th>product</th>\n",
       "    </tr>\n",
       "  </thead>\n",
       "  <tbody>\n",
       "    <tr>\n",
       "      <th>count</th>\n",
       "      <td>100000</td>\n",
       "      <td>100000.000000</td>\n",
       "      <td>100000.000000</td>\n",
       "      <td>100000.000000</td>\n",
       "      <td>100000.000000</td>\n",
       "    </tr>\n",
       "    <tr>\n",
       "      <th>unique</th>\n",
       "      <td>99996</td>\n",
       "      <td>NaN</td>\n",
       "      <td>NaN</td>\n",
       "      <td>NaN</td>\n",
       "      <td>NaN</td>\n",
       "    </tr>\n",
       "    <tr>\n",
       "      <th>top</th>\n",
       "      <td>wt4Uk</td>\n",
       "      <td>NaN</td>\n",
       "      <td>NaN</td>\n",
       "      <td>NaN</td>\n",
       "      <td>NaN</td>\n",
       "    </tr>\n",
       "    <tr>\n",
       "      <th>freq</th>\n",
       "      <td>2</td>\n",
       "      <td>NaN</td>\n",
       "      <td>NaN</td>\n",
       "      <td>NaN</td>\n",
       "      <td>NaN</td>\n",
       "    </tr>\n",
       "    <tr>\n",
       "      <th>mean</th>\n",
       "      <td>NaN</td>\n",
       "      <td>1.141296</td>\n",
       "      <td>-4.796579</td>\n",
       "      <td>2.494541</td>\n",
       "      <td>68.825000</td>\n",
       "    </tr>\n",
       "    <tr>\n",
       "      <th>std</th>\n",
       "      <td>NaN</td>\n",
       "      <td>8.965932</td>\n",
       "      <td>5.119872</td>\n",
       "      <td>1.703572</td>\n",
       "      <td>45.944423</td>\n",
       "    </tr>\n",
       "    <tr>\n",
       "      <th>min</th>\n",
       "      <td>NaN</td>\n",
       "      <td>-31.609576</td>\n",
       "      <td>-26.358598</td>\n",
       "      <td>-0.018144</td>\n",
       "      <td>0.000000</td>\n",
       "    </tr>\n",
       "    <tr>\n",
       "      <th>25%</th>\n",
       "      <td>NaN</td>\n",
       "      <td>-6.298551</td>\n",
       "      <td>-8.267985</td>\n",
       "      <td>1.000021</td>\n",
       "      <td>26.953261</td>\n",
       "    </tr>\n",
       "    <tr>\n",
       "      <th>50%</th>\n",
       "      <td>NaN</td>\n",
       "      <td>1.153055</td>\n",
       "      <td>-4.813172</td>\n",
       "      <td>2.011479</td>\n",
       "      <td>57.085625</td>\n",
       "    </tr>\n",
       "    <tr>\n",
       "      <th>75%</th>\n",
       "      <td>NaN</td>\n",
       "      <td>8.621015</td>\n",
       "      <td>-1.332816</td>\n",
       "      <td>3.999904</td>\n",
       "      <td>107.813044</td>\n",
       "    </tr>\n",
       "    <tr>\n",
       "      <th>max</th>\n",
       "      <td>NaN</td>\n",
       "      <td>29.421755</td>\n",
       "      <td>18.734063</td>\n",
       "      <td>5.019721</td>\n",
       "      <td>137.945408</td>\n",
       "    </tr>\n",
       "  </tbody>\n",
       "</table>\n",
       "</div>"
      ],
      "text/plain": [
       "            id             f0             f1             f2        product\n",
       "count   100000  100000.000000  100000.000000  100000.000000  100000.000000\n",
       "unique   99996            NaN            NaN            NaN            NaN\n",
       "top      wt4Uk            NaN            NaN            NaN            NaN\n",
       "freq         2            NaN            NaN            NaN            NaN\n",
       "mean       NaN       1.141296      -4.796579       2.494541      68.825000\n",
       "std        NaN       8.965932       5.119872       1.703572      45.944423\n",
       "min        NaN     -31.609576     -26.358598      -0.018144       0.000000\n",
       "25%        NaN      -6.298551      -8.267985       1.000021      26.953261\n",
       "50%        NaN       1.153055      -4.813172       2.011479      57.085625\n",
       "75%        NaN       8.621015      -1.332816       3.999904     107.813044\n",
       "max        NaN      29.421755      18.734063       5.019721     137.945408"
      ]
     },
     "metadata": {},
     "output_type": "display_data"
    },
    {
     "data": {
      "text/html": [
       "<div>\n",
       "<style scoped>\n",
       "    .dataframe tbody tr th:only-of-type {\n",
       "        vertical-align: middle;\n",
       "    }\n",
       "\n",
       "    .dataframe tbody tr th {\n",
       "        vertical-align: top;\n",
       "    }\n",
       "\n",
       "    .dataframe thead th {\n",
       "        text-align: right;\n",
       "    }\n",
       "</style>\n",
       "<table border=\"1\" class=\"dataframe\">\n",
       "  <thead>\n",
       "    <tr style=\"text-align: right;\">\n",
       "      <th></th>\n",
       "      <th>f0</th>\n",
       "      <th>f1</th>\n",
       "      <th>f2</th>\n",
       "      <th>product</th>\n",
       "    </tr>\n",
       "  </thead>\n",
       "  <tbody>\n",
       "    <tr>\n",
       "      <th>f0</th>\n",
       "      <td>1.000000</td>\n",
       "      <td>0.182287</td>\n",
       "      <td>-0.001777</td>\n",
       "      <td>-0.030491</td>\n",
       "    </tr>\n",
       "    <tr>\n",
       "      <th>f1</th>\n",
       "      <td>0.182287</td>\n",
       "      <td>1.000000</td>\n",
       "      <td>-0.002595</td>\n",
       "      <td>-0.010155</td>\n",
       "    </tr>\n",
       "    <tr>\n",
       "      <th>f2</th>\n",
       "      <td>-0.001777</td>\n",
       "      <td>-0.002595</td>\n",
       "      <td>1.000000</td>\n",
       "      <td>0.999397</td>\n",
       "    </tr>\n",
       "    <tr>\n",
       "      <th>product</th>\n",
       "      <td>-0.030491</td>\n",
       "      <td>-0.010155</td>\n",
       "      <td>0.999397</td>\n",
       "      <td>1.000000</td>\n",
       "    </tr>\n",
       "  </tbody>\n",
       "</table>\n",
       "</div>"
      ],
      "text/plain": [
       "               f0        f1        f2   product\n",
       "f0       1.000000  0.182287 -0.001777 -0.030491\n",
       "f1       0.182287  1.000000 -0.002595 -0.010155\n",
       "f2      -0.001777 -0.002595  1.000000  0.999397\n",
       "product -0.030491 -0.010155  0.999397  1.000000"
      ]
     },
     "metadata": {},
     "output_type": "display_data"
    }
   ],
   "source": [
    "display(\n",
    "    df1.head(),\n",
    "    df1.info(),\n",
    "    df1.describe(include='all'),\n",
    "    df1.corr())"
   ]
  },
  {
   "cell_type": "code",
   "execution_count": 5,
   "metadata": {},
   "outputs": [
    {
     "name": "stdout",
     "output_type": "stream",
     "text": [
      "<class 'pandas.core.frame.DataFrame'>\n",
      "RangeIndex: 100000 entries, 0 to 99999\n",
      "Data columns (total 5 columns):\n",
      " #   Column   Non-Null Count   Dtype  \n",
      "---  ------   --------------   -----  \n",
      " 0   id       100000 non-null  object \n",
      " 1   f0       100000 non-null  float64\n",
      " 2   f1       100000 non-null  float64\n",
      " 3   f2       100000 non-null  float64\n",
      " 4   product  100000 non-null  float64\n",
      "dtypes: float64(4), object(1)\n",
      "memory usage: 3.8+ MB\n"
     ]
    },
    {
     "name": "stderr",
     "output_type": "stream",
     "text": [
      "C:\\Users\\lyser\\AppData\\Local\\Temp\\ipykernel_21016\\2443682788.py:5: FutureWarning: The default value of numeric_only in DataFrame.corr is deprecated. In a future version, it will default to False. Select only valid columns or specify the value of numeric_only to silence this warning.\n",
      "  df2.corr())\n"
     ]
    },
    {
     "data": {
      "text/html": [
       "<div>\n",
       "<style scoped>\n",
       "    .dataframe tbody tr th:only-of-type {\n",
       "        vertical-align: middle;\n",
       "    }\n",
       "\n",
       "    .dataframe tbody tr th {\n",
       "        vertical-align: top;\n",
       "    }\n",
       "\n",
       "    .dataframe thead th {\n",
       "        text-align: right;\n",
       "    }\n",
       "</style>\n",
       "<table border=\"1\" class=\"dataframe\">\n",
       "  <thead>\n",
       "    <tr style=\"text-align: right;\">\n",
       "      <th></th>\n",
       "      <th>id</th>\n",
       "      <th>f0</th>\n",
       "      <th>f1</th>\n",
       "      <th>f2</th>\n",
       "      <th>product</th>\n",
       "    </tr>\n",
       "  </thead>\n",
       "  <tbody>\n",
       "    <tr>\n",
       "      <th>0</th>\n",
       "      <td>fwXo0</td>\n",
       "      <td>-1.146987</td>\n",
       "      <td>0.963328</td>\n",
       "      <td>-0.828965</td>\n",
       "      <td>27.758673</td>\n",
       "    </tr>\n",
       "    <tr>\n",
       "      <th>1</th>\n",
       "      <td>WJtFt</td>\n",
       "      <td>0.262778</td>\n",
       "      <td>0.269839</td>\n",
       "      <td>-2.530187</td>\n",
       "      <td>56.069697</td>\n",
       "    </tr>\n",
       "    <tr>\n",
       "      <th>2</th>\n",
       "      <td>ovLUW</td>\n",
       "      <td>0.194587</td>\n",
       "      <td>0.289035</td>\n",
       "      <td>-5.586433</td>\n",
       "      <td>62.871910</td>\n",
       "    </tr>\n",
       "    <tr>\n",
       "      <th>3</th>\n",
       "      <td>q6cA6</td>\n",
       "      <td>2.236060</td>\n",
       "      <td>-0.553760</td>\n",
       "      <td>0.930038</td>\n",
       "      <td>114.572842</td>\n",
       "    </tr>\n",
       "    <tr>\n",
       "      <th>4</th>\n",
       "      <td>WPMUX</td>\n",
       "      <td>-0.515993</td>\n",
       "      <td>1.716266</td>\n",
       "      <td>5.899011</td>\n",
       "      <td>149.600746</td>\n",
       "    </tr>\n",
       "  </tbody>\n",
       "</table>\n",
       "</div>"
      ],
      "text/plain": [
       "      id        f0        f1        f2     product\n",
       "0  fwXo0 -1.146987  0.963328 -0.828965   27.758673\n",
       "1  WJtFt  0.262778  0.269839 -2.530187   56.069697\n",
       "2  ovLUW  0.194587  0.289035 -5.586433   62.871910\n",
       "3  q6cA6  2.236060 -0.553760  0.930038  114.572842\n",
       "4  WPMUX -0.515993  1.716266  5.899011  149.600746"
      ]
     },
     "metadata": {},
     "output_type": "display_data"
    },
    {
     "data": {
      "text/plain": [
       "None"
      ]
     },
     "metadata": {},
     "output_type": "display_data"
    },
    {
     "data": {
      "text/html": [
       "<div>\n",
       "<style scoped>\n",
       "    .dataframe tbody tr th:only-of-type {\n",
       "        vertical-align: middle;\n",
       "    }\n",
       "\n",
       "    .dataframe tbody tr th {\n",
       "        vertical-align: top;\n",
       "    }\n",
       "\n",
       "    .dataframe thead th {\n",
       "        text-align: right;\n",
       "    }\n",
       "</style>\n",
       "<table border=\"1\" class=\"dataframe\">\n",
       "  <thead>\n",
       "    <tr style=\"text-align: right;\">\n",
       "      <th></th>\n",
       "      <th>id</th>\n",
       "      <th>f0</th>\n",
       "      <th>f1</th>\n",
       "      <th>f2</th>\n",
       "      <th>product</th>\n",
       "    </tr>\n",
       "  </thead>\n",
       "  <tbody>\n",
       "    <tr>\n",
       "      <th>count</th>\n",
       "      <td>100000</td>\n",
       "      <td>100000.000000</td>\n",
       "      <td>100000.000000</td>\n",
       "      <td>100000.000000</td>\n",
       "      <td>100000.000000</td>\n",
       "    </tr>\n",
       "    <tr>\n",
       "      <th>unique</th>\n",
       "      <td>99996</td>\n",
       "      <td>NaN</td>\n",
       "      <td>NaN</td>\n",
       "      <td>NaN</td>\n",
       "      <td>NaN</td>\n",
       "    </tr>\n",
       "    <tr>\n",
       "      <th>top</th>\n",
       "      <td>VF7Jo</td>\n",
       "      <td>NaN</td>\n",
       "      <td>NaN</td>\n",
       "      <td>NaN</td>\n",
       "      <td>NaN</td>\n",
       "    </tr>\n",
       "    <tr>\n",
       "      <th>freq</th>\n",
       "      <td>2</td>\n",
       "      <td>NaN</td>\n",
       "      <td>NaN</td>\n",
       "      <td>NaN</td>\n",
       "      <td>NaN</td>\n",
       "    </tr>\n",
       "    <tr>\n",
       "      <th>mean</th>\n",
       "      <td>NaN</td>\n",
       "      <td>0.002023</td>\n",
       "      <td>-0.002081</td>\n",
       "      <td>2.495128</td>\n",
       "      <td>95.000000</td>\n",
       "    </tr>\n",
       "    <tr>\n",
       "      <th>std</th>\n",
       "      <td>NaN</td>\n",
       "      <td>1.732045</td>\n",
       "      <td>1.730417</td>\n",
       "      <td>3.473445</td>\n",
       "      <td>44.749921</td>\n",
       "    </tr>\n",
       "    <tr>\n",
       "      <th>min</th>\n",
       "      <td>NaN</td>\n",
       "      <td>-8.760004</td>\n",
       "      <td>-7.084020</td>\n",
       "      <td>-11.970335</td>\n",
       "      <td>0.000000</td>\n",
       "    </tr>\n",
       "    <tr>\n",
       "      <th>25%</th>\n",
       "      <td>NaN</td>\n",
       "      <td>-1.162288</td>\n",
       "      <td>-1.174820</td>\n",
       "      <td>0.130359</td>\n",
       "      <td>59.450441</td>\n",
       "    </tr>\n",
       "    <tr>\n",
       "      <th>50%</th>\n",
       "      <td>NaN</td>\n",
       "      <td>0.009424</td>\n",
       "      <td>-0.009482</td>\n",
       "      <td>2.484236</td>\n",
       "      <td>94.925613</td>\n",
       "    </tr>\n",
       "    <tr>\n",
       "      <th>75%</th>\n",
       "      <td>NaN</td>\n",
       "      <td>1.158535</td>\n",
       "      <td>1.163678</td>\n",
       "      <td>4.858794</td>\n",
       "      <td>130.595027</td>\n",
       "    </tr>\n",
       "    <tr>\n",
       "      <th>max</th>\n",
       "      <td>NaN</td>\n",
       "      <td>7.238262</td>\n",
       "      <td>7.844801</td>\n",
       "      <td>16.739402</td>\n",
       "      <td>190.029838</td>\n",
       "    </tr>\n",
       "  </tbody>\n",
       "</table>\n",
       "</div>"
      ],
      "text/plain": [
       "            id             f0             f1             f2        product\n",
       "count   100000  100000.000000  100000.000000  100000.000000  100000.000000\n",
       "unique   99996            NaN            NaN            NaN            NaN\n",
       "top      VF7Jo            NaN            NaN            NaN            NaN\n",
       "freq         2            NaN            NaN            NaN            NaN\n",
       "mean       NaN       0.002023      -0.002081       2.495128      95.000000\n",
       "std        NaN       1.732045       1.730417       3.473445      44.749921\n",
       "min        NaN      -8.760004      -7.084020     -11.970335       0.000000\n",
       "25%        NaN      -1.162288      -1.174820       0.130359      59.450441\n",
       "50%        NaN       0.009424      -0.009482       2.484236      94.925613\n",
       "75%        NaN       1.158535       1.163678       4.858794     130.595027\n",
       "max        NaN       7.238262       7.844801      16.739402     190.029838"
      ]
     },
     "metadata": {},
     "output_type": "display_data"
    },
    {
     "data": {
      "text/html": [
       "<div>\n",
       "<style scoped>\n",
       "    .dataframe tbody tr th:only-of-type {\n",
       "        vertical-align: middle;\n",
       "    }\n",
       "\n",
       "    .dataframe tbody tr th {\n",
       "        vertical-align: top;\n",
       "    }\n",
       "\n",
       "    .dataframe thead th {\n",
       "        text-align: right;\n",
       "    }\n",
       "</style>\n",
       "<table border=\"1\" class=\"dataframe\">\n",
       "  <thead>\n",
       "    <tr style=\"text-align: right;\">\n",
       "      <th></th>\n",
       "      <th>f0</th>\n",
       "      <th>f1</th>\n",
       "      <th>f2</th>\n",
       "      <th>product</th>\n",
       "    </tr>\n",
       "  </thead>\n",
       "  <tbody>\n",
       "    <tr>\n",
       "      <th>f0</th>\n",
       "      <td>1.000000</td>\n",
       "      <td>0.000528</td>\n",
       "      <td>-0.000448</td>\n",
       "      <td>-0.001987</td>\n",
       "    </tr>\n",
       "    <tr>\n",
       "      <th>f1</th>\n",
       "      <td>0.000528</td>\n",
       "      <td>1.000000</td>\n",
       "      <td>0.000779</td>\n",
       "      <td>-0.001012</td>\n",
       "    </tr>\n",
       "    <tr>\n",
       "      <th>f2</th>\n",
       "      <td>-0.000448</td>\n",
       "      <td>0.000779</td>\n",
       "      <td>1.000000</td>\n",
       "      <td>0.445871</td>\n",
       "    </tr>\n",
       "    <tr>\n",
       "      <th>product</th>\n",
       "      <td>-0.001987</td>\n",
       "      <td>-0.001012</td>\n",
       "      <td>0.445871</td>\n",
       "      <td>1.000000</td>\n",
       "    </tr>\n",
       "  </tbody>\n",
       "</table>\n",
       "</div>"
      ],
      "text/plain": [
       "               f0        f1        f2   product\n",
       "f0       1.000000  0.000528 -0.000448 -0.001987\n",
       "f1       0.000528  1.000000  0.000779 -0.001012\n",
       "f2      -0.000448  0.000779  1.000000  0.445871\n",
       "product -0.001987 -0.001012  0.445871  1.000000"
      ]
     },
     "metadata": {},
     "output_type": "display_data"
    }
   ],
   "source": [
    "display(\n",
    "    df2.head(),\n",
    "    df2.info(),\n",
    "    df2.describe(include='all'),\n",
    "    df2.corr())"
   ]
  },
  {
   "cell_type": "markdown",
   "metadata": {},
   "source": [
    "### Вывод"
   ]
  },
  {
   "cell_type": "markdown",
   "metadata": {},
   "source": [
    "Начальные данные выглядят достаточно качественно: нет ни пропусков, ни дубликатов. Типы данных не требуют изменения.  \n",
    "Есть несколько повторов в столбцах id, но это не дубликаты.  \n",
    "Заметна корреляция (Пирсона), которая говорит о наличии линейной связи между значениями переменных f2 и product.  \n",
    "Можно проверить переменные на выбросы, но не имея представления о назначении переменных, мы не сможем сделать никаких выводов о выбросах. Выбросы могут оказать влияние на методы оценки качества модели (RMSE и MAE).  \n",
    "Из всего этого трудно сделать какие-то выводы, потому что у нас недостаточно информации о переменных."
   ]
  },
  {
   "cell_type": "markdown",
   "metadata": {},
   "source": [
    "## Разбиваем данные на обучающую и валидационную выборки"
   ]
  },
  {
   "cell_type": "markdown",
   "metadata": {},
   "source": [
    "Удалим столбец id, он бесполезен для дальнейшего исследования"
   ]
  },
  {
   "cell_type": "code",
   "execution_count": 6,
   "metadata": {},
   "outputs": [],
   "source": [
    "features_0 = df0.drop(['id', 'product'], axis=1)\n",
    "target_0 = df0['product']\n",
    "\n",
    "features_1 = df1.drop(['id', 'product'], axis=1)\n",
    "target_1 = df1['product']\n",
    "\n",
    "features_2 = df2.drop(['id', 'product'], axis=1)\n",
    "target_2 = df2['product']"
   ]
  },
  {
   "cell_type": "code",
   "execution_count": 7,
   "metadata": {},
   "outputs": [],
   "source": [
    "state = np.random.RandomState(12345)\n",
    "\n",
    "(features_trn_0, features_vld_0, target_trn_0, target_vld_0) = train_test_split(\n",
    "    features_0,\n",
    "    target_0,\n",
    "    test_size=0.25,\n",
    "    random_state=state)\n",
    "\n",
    "(features_trn_1, features_vld_1, target_trn_1, target_vld_1) = train_test_split(\n",
    "    features_1,\n",
    "    target_1,\n",
    "    test_size=0.25,\n",
    "    random_state=state)\n",
    "\n",
    "(features_trn_2, features_vld_2, target_trn_2, target_vld_2) = train_test_split(\n",
    "    features_2,\n",
    "    target_2,\n",
    "    test_size=0.25,\n",
    "    random_state=state)"
   ]
  },
  {
   "cell_type": "code",
   "execution_count": 8,
   "metadata": {},
   "outputs": [
    {
     "data": {
      "text/plain": [
       "((75000, 3), (25000, 3), (75000,), (25000,))"
      ]
     },
     "execution_count": 8,
     "metadata": {},
     "output_type": "execute_result"
    }
   ],
   "source": [
    "features_trn_0.shape, features_vld_0.shape, target_trn_0.shape, target_vld_0.shape"
   ]
  },
  {
   "cell_type": "markdown",
   "metadata": {},
   "source": [
    "### Вывод"
   ]
  },
  {
   "cell_type": "markdown",
   "metadata": {},
   "source": [
    "Разбили правильно"
   ]
  },
  {
   "cell_type": "markdown",
   "metadata": {},
   "source": [
    "## Обучение и проверка модели"
   ]
  },
  {
   "cell_type": "markdown",
   "metadata": {},
   "source": [
    "По условия для обучения модели можно использовать только модель Линейной регрессии"
   ]
  },
  {
   "cell_type": "code",
   "execution_count": 9,
   "metadata": {},
   "outputs": [
    {
     "name": "stdout",
     "output_type": "stream",
     "text": [
      "Cредний запас предсказанного сырья по региону №0: 92.59 тыс. баррелей\n",
      "RMSE модели линейной регрессии на валидационной выборке по региону №0: 37.58\n",
      "MAE модели линейной регрессии на валидационной выборке по региону №0: 30.92\n",
      "Усредненный R2 score модели по региону №0: 0.28\n"
     ]
    }
   ],
   "source": [
    "model_0 = LinearRegression()\n",
    "model_0.fit(features_trn_0, target_trn_0)\n",
    "\n",
    "predictions_vld_0 = model_0.predict(features_vld_0)\n",
    "predictions_vld_0 = pd.Series(predictions_vld_0)\n",
    "rmse_0 = mean_squared_error(target_vld_0, predictions_vld_0)**0.5\n",
    "mae_0 = mean_absolute_error(predictions_vld_0, target_vld_0)\n",
    "scores_0 = cross_val_score(model_0, features_vld_0, target_vld_0, cv=5)\n",
    "final_score_0 = sum(scores_0) / len(scores_0)\n",
    "\n",
    "print('Cредний запас предсказанного сырья по региону №0: {} тыс. баррелей'.format(round(predictions_vld_0.mean(), 2)))\n",
    "print('RMSE модели линейной регрессии на валидационной выборке по региону №0: {}'.format(round(rmse_0, 2)))\n",
    "print('MAE модели линейной регрессии на валидационной выборке по региону №0: {}'.format(round(mae_0, 2)))\n",
    "print('Усредненный R2 score модели по региону №0: {}'.format(round(final_score_0, 2)))"
   ]
  },
  {
   "cell_type": "code",
   "execution_count": 10,
   "metadata": {},
   "outputs": [
    {
     "data": {
      "text/html": [
       "<div>\n",
       "<style scoped>\n",
       "    .dataframe tbody tr th:only-of-type {\n",
       "        vertical-align: middle;\n",
       "    }\n",
       "\n",
       "    .dataframe tbody tr th {\n",
       "        vertical-align: top;\n",
       "    }\n",
       "\n",
       "    .dataframe thead th {\n",
       "        text-align: right;\n",
       "    }\n",
       "</style>\n",
       "<table border=\"1\" class=\"dataframe\">\n",
       "  <thead>\n",
       "    <tr style=\"text-align: right;\">\n",
       "      <th></th>\n",
       "      <th>region_name</th>\n",
       "      <th>средний_запас_сырья</th>\n",
       "      <th>rmse</th>\n",
       "      <th>mae</th>\n",
       "      <th>r2_score</th>\n",
       "    </tr>\n",
       "  </thead>\n",
       "  <tbody>\n",
       "    <tr>\n",
       "      <th>0</th>\n",
       "      <td>0</td>\n",
       "      <td>92.59</td>\n",
       "      <td>37.58</td>\n",
       "      <td>30.92</td>\n",
       "      <td>0.28</td>\n",
       "    </tr>\n",
       "  </tbody>\n",
       "</table>\n",
       "</div>"
      ],
      "text/plain": [
       "  region_name  средний_запас_сырья   rmse    mae  r2_score\n",
       "0           0                92.59  37.58  30.92      0.28"
      ]
     },
     "execution_count": 10,
     "metadata": {},
     "output_type": "execute_result"
    }
   ],
   "source": [
    "region_data = {\n",
    "    'region_name': '0',\n",
    "    'средний_запас_сырья': round(predictions_vld_0.mean(), 2),\n",
    "    'rmse': round(rmse_0, 2),\n",
    "    'mae': round(mae_0, 2),\n",
    "    'r2_score': round(final_score_0, 2)\n",
    "}\n",
    "region = pd.DataFrame(region_data, index=[0])\n",
    "top_regions = region\n",
    "top_regions"
   ]
  },
  {
   "cell_type": "code",
   "execution_count": 11,
   "metadata": {},
   "outputs": [
    {
     "name": "stdout",
     "output_type": "stream",
     "text": [
      "Cредний запас предсказанного сырья по региону №1: 68.77 тыс. баррелей\n",
      "RMSE модели линейной регрессии на валидационной выборке по региону №1: 0.89\n",
      "MAE модели линейной регрессии на валидационной выборке по региону №1: 0.72\n",
      "Усредненный R2 score модели по региону №1: 1.0\n"
     ]
    }
   ],
   "source": [
    "model_1 = LinearRegression()\n",
    "model_1.fit(features_trn_1, target_trn_1)\n",
    "\n",
    "predictions_vld_1 = model_1.predict(features_vld_1)\n",
    "predictions_vld_1 = pd.Series(predictions_vld_1)\n",
    "rmse_1 = mean_squared_error(target_vld_1, predictions_vld_1)**0.5\n",
    "mae_1 = mean_absolute_error(predictions_vld_1, target_vld_1)\n",
    "scores_1 = cross_val_score(model_1, features_vld_1, target_vld_1, cv=5)\n",
    "final_score_1 = sum(scores_1) / len(scores_1)\n",
    "\n",
    "print('Cредний запас предсказанного сырья по региону №1: {} тыс. баррелей'.format(round(predictions_vld_1.mean(), 2)))\n",
    "print('RMSE модели линейной регрессии на валидационной выборке по региону №1: {}'.format(round(rmse_1, 2)))\n",
    "print('MAE модели линейной регрессии на валидационной выборке по региону №1: {}'.format(round(mae_1, 2)))\n",
    "print('Усредненный R2 score модели по региону №1: {}'.format(round(final_score_1, 2)))"
   ]
  },
  {
   "cell_type": "code",
   "execution_count": 12,
   "metadata": {},
   "outputs": [
    {
     "name": "stderr",
     "output_type": "stream",
     "text": [
      "C:\\Users\\lyser\\AppData\\Local\\Temp\\ipykernel_21016\\1731998016.py:8: FutureWarning: The frame.append method is deprecated and will be removed from pandas in a future version. Use pandas.concat instead.\n",
      "  top_regions = top_regions.append(region_data, ignore_index = True)\n"
     ]
    },
    {
     "data": {
      "text/html": [
       "<div>\n",
       "<style scoped>\n",
       "    .dataframe tbody tr th:only-of-type {\n",
       "        vertical-align: middle;\n",
       "    }\n",
       "\n",
       "    .dataframe tbody tr th {\n",
       "        vertical-align: top;\n",
       "    }\n",
       "\n",
       "    .dataframe thead th {\n",
       "        text-align: right;\n",
       "    }\n",
       "</style>\n",
       "<table border=\"1\" class=\"dataframe\">\n",
       "  <thead>\n",
       "    <tr style=\"text-align: right;\">\n",
       "      <th></th>\n",
       "      <th>region_name</th>\n",
       "      <th>средний_запас_сырья</th>\n",
       "      <th>rmse</th>\n",
       "      <th>mae</th>\n",
       "      <th>r2_score</th>\n",
       "    </tr>\n",
       "  </thead>\n",
       "  <tbody>\n",
       "    <tr>\n",
       "      <th>0</th>\n",
       "      <td>0</td>\n",
       "      <td>92.59</td>\n",
       "      <td>37.58</td>\n",
       "      <td>30.92</td>\n",
       "      <td>0.28</td>\n",
       "    </tr>\n",
       "    <tr>\n",
       "      <th>1</th>\n",
       "      <td>1</td>\n",
       "      <td>68.77</td>\n",
       "      <td>0.89</td>\n",
       "      <td>0.72</td>\n",
       "      <td>1.00</td>\n",
       "    </tr>\n",
       "  </tbody>\n",
       "</table>\n",
       "</div>"
      ],
      "text/plain": [
       "  region_name  средний_запас_сырья   rmse    mae  r2_score\n",
       "0           0                92.59  37.58  30.92      0.28\n",
       "1           1                68.77   0.89   0.72      1.00"
      ]
     },
     "execution_count": 12,
     "metadata": {},
     "output_type": "execute_result"
    }
   ],
   "source": [
    "region_data = {\n",
    "    'region_name': '1',\n",
    "    'средний_запас_сырья': round(predictions_vld_1.mean(), 2),\n",
    "    'rmse': round(rmse_1, 2),\n",
    "    'mae': round(mae_1, 2),\n",
    "    'r2_score': round(final_score_1, 2)\n",
    "}\n",
    "top_regions = top_regions.append(region_data, ignore_index = True)\n",
    "top_regions"
   ]
  },
  {
   "cell_type": "code",
   "execution_count": 13,
   "metadata": {},
   "outputs": [
    {
     "name": "stdout",
     "output_type": "stream",
     "text": [
      "Cредний запас предсказанного сырья по региону №2: 95.09 тыс. баррелей\n",
      "RMSE модели линейной регрессии на валидационной выборке по региону №2: 39.96\n",
      "MAE модели линейной регрессии на валидационной выборке по региону №2: 32.8\n",
      "Усредненный R2 score модели по региону №2: 0.2\n"
     ]
    }
   ],
   "source": [
    "model_2 = LinearRegression()\n",
    "model_2.fit(features_trn_2, target_trn_2)\n",
    "\n",
    "predictions_vld_2 = model_2.predict(features_vld_2)\n",
    "predictions_vld_2 = pd.Series(predictions_vld_2)\n",
    "rmse_2 = mean_squared_error(target_vld_2, predictions_vld_2)**0.5\n",
    "mae_2 = mean_absolute_error(predictions_vld_2, target_vld_2)\n",
    "scores_2 = cross_val_score(model_2, features_vld_2, target_vld_2, cv=5)\n",
    "final_score_2 = sum(scores_2) / len(scores_2)\n",
    "\n",
    "print('Cредний запас предсказанного сырья по региону №2: {} тыс. баррелей'.format(round(predictions_vld_2.mean(), 2)))\n",
    "print('RMSE модели линейной регрессии на валидационной выборке по региону №2: {}'.format(round(rmse_2, 2)))\n",
    "print('MAE модели линейной регрессии на валидационной выборке по региону №2: {}'.format(round(mae_2, 2)))\n",
    "print('Усредненный R2 score модели по региону №2: {}'.format(round(final_score_2, 2)))"
   ]
  },
  {
   "cell_type": "code",
   "execution_count": 14,
   "metadata": {},
   "outputs": [
    {
     "name": "stderr",
     "output_type": "stream",
     "text": [
      "C:\\Users\\lyser\\AppData\\Local\\Temp\\ipykernel_21016\\324422654.py:8: FutureWarning: The frame.append method is deprecated and will be removed from pandas in a future version. Use pandas.concat instead.\n",
      "  top_regions = top_regions.append(region_data, ignore_index = True)\n"
     ]
    },
    {
     "data": {
      "text/html": [
       "<div>\n",
       "<style scoped>\n",
       "    .dataframe tbody tr th:only-of-type {\n",
       "        vertical-align: middle;\n",
       "    }\n",
       "\n",
       "    .dataframe tbody tr th {\n",
       "        vertical-align: top;\n",
       "    }\n",
       "\n",
       "    .dataframe thead th {\n",
       "        text-align: right;\n",
       "    }\n",
       "</style>\n",
       "<table border=\"1\" class=\"dataframe\">\n",
       "  <thead>\n",
       "    <tr style=\"text-align: right;\">\n",
       "      <th></th>\n",
       "      <th>region_name</th>\n",
       "      <th>средний_запас_сырья</th>\n",
       "      <th>rmse</th>\n",
       "      <th>mae</th>\n",
       "      <th>r2_score</th>\n",
       "    </tr>\n",
       "  </thead>\n",
       "  <tbody>\n",
       "    <tr>\n",
       "      <th>0</th>\n",
       "      <td>0</td>\n",
       "      <td>92.59</td>\n",
       "      <td>37.58</td>\n",
       "      <td>30.92</td>\n",
       "      <td>0.28</td>\n",
       "    </tr>\n",
       "    <tr>\n",
       "      <th>1</th>\n",
       "      <td>1</td>\n",
       "      <td>68.77</td>\n",
       "      <td>0.89</td>\n",
       "      <td>0.72</td>\n",
       "      <td>1.00</td>\n",
       "    </tr>\n",
       "    <tr>\n",
       "      <th>2</th>\n",
       "      <td>2</td>\n",
       "      <td>95.09</td>\n",
       "      <td>39.96</td>\n",
       "      <td>32.80</td>\n",
       "      <td>0.20</td>\n",
       "    </tr>\n",
       "  </tbody>\n",
       "</table>\n",
       "</div>"
      ],
      "text/plain": [
       "  region_name  средний_запас_сырья   rmse    mae  r2_score\n",
       "0           0                92.59  37.58  30.92      0.28\n",
       "1           1                68.77   0.89   0.72      1.00\n",
       "2           2                95.09  39.96  32.80      0.20"
      ]
     },
     "execution_count": 14,
     "metadata": {},
     "output_type": "execute_result"
    }
   ],
   "source": [
    "region_data = {\n",
    "    'region_name': '2',\n",
    "    'средний_запас_сырья': round(predictions_vld_2.mean(), 2),\n",
    "    'rmse': round(rmse_2, 2),\n",
    "    'mae': round(mae_2, 2),\n",
    "    'r2_score': round(final_score_2, 2)\n",
    "}\n",
    "top_regions = top_regions.append(region_data, ignore_index = True)\n",
    "top_regions"
   ]
  },
  {
   "cell_type": "markdown",
   "metadata": {},
   "source": [
    "### Вывод"
   ]
  },
  {
   "cell_type": "markdown",
   "metadata": {},
   "source": [
    "Мы обучили модель и получили, что регион №1 имеет наименьший средний запас сырья (68.77 тыс. баррелей), но при этом лучшие показатели метрик оценивания качества моделей (RMSE 0.89, MAE 0.72, R2 score 1)."
   ]
  },
  {
   "cell_type": "markdown",
   "metadata": {},
   "source": [
    "## Подготовка к расчёту прибыли"
   ]
  },
  {
   "cell_type": "markdown",
   "metadata": {},
   "source": [
    "Добавим переменные из условия"
   ]
  },
  {
   "cell_type": "code",
   "execution_count": 15,
   "metadata": {},
   "outputs": [],
   "source": [
    "# Бюджет на разработку скважин в регионе — 10 млрд рублей.\n",
    "BUDGET = 10000000000\n",
    "\n",
    "# При разведке региона исследуют 500 точек, из которых с помощью машинного обучения выбирают 200 лучших для разработки.\n",
    "ALL_POINTS = 500\n",
    "BEST_POINTS = 200\n",
    "\n",
    "# При нынешних ценах один баррель сырья приносит 450 рублей дохода.\n",
    "# Доход с каждой единицы продукта составляет 450 тыс. рублей,\n",
    "# поскольку объём указан в тысячах баррелей.\n",
    "INCOME_PER_1000_BARREL = 450000"
   ]
  },
  {
   "cell_type": "markdown",
   "metadata": {},
   "source": [
    "Посчитаем порог безубыточности в баррелях"
   ]
  },
  {
   "cell_type": "code",
   "execution_count": 16,
   "metadata": {},
   "outputs": [
    {
     "data": {
      "text/plain": [
       "111.11"
      ]
     },
     "execution_count": 16,
     "metadata": {},
     "output_type": "execute_result"
    }
   ],
   "source": [
    "# порог безубыточности в баррелях\n",
    "BREAKEVEN_THRESHOLD = (BUDGET / BEST_POINTS / INCOME_PER_1000_BARREL)\n",
    "\n",
    "round(BREAKEVEN_THRESHOLD, 2)"
   ]
  },
  {
   "cell_type": "code",
   "execution_count": 17,
   "metadata": {},
   "outputs": [
    {
     "name": "stderr",
     "output_type": "stream",
     "text": [
      "C:\\Users\\lyser\\AppData\\Local\\Temp\\ipykernel_21016\\2954731355.py:8: FutureWarning: The frame.append method is deprecated and will be removed from pandas in a future version. Use pandas.concat instead.\n",
      "  top_regions = top_regions.append(region_data, ignore_index = True)\n"
     ]
    },
    {
     "data": {
      "text/html": [
       "<div>\n",
       "<style scoped>\n",
       "    .dataframe tbody tr th:only-of-type {\n",
       "        vertical-align: middle;\n",
       "    }\n",
       "\n",
       "    .dataframe tbody tr th {\n",
       "        vertical-align: top;\n",
       "    }\n",
       "\n",
       "    .dataframe thead th {\n",
       "        text-align: right;\n",
       "    }\n",
       "</style>\n",
       "<table border=\"1\" class=\"dataframe\">\n",
       "  <thead>\n",
       "    <tr style=\"text-align: right;\">\n",
       "      <th></th>\n",
       "      <th>region_name</th>\n",
       "      <th>средний_запас_сырья</th>\n",
       "      <th>rmse</th>\n",
       "      <th>mae</th>\n",
       "      <th>r2_score</th>\n",
       "      <th>mse</th>\n",
       "    </tr>\n",
       "  </thead>\n",
       "  <tbody>\n",
       "    <tr>\n",
       "      <th>0</th>\n",
       "      <td>0</td>\n",
       "      <td>92.59</td>\n",
       "      <td>37.58</td>\n",
       "      <td>30.92</td>\n",
       "      <td>0.28</td>\n",
       "      <td>NaN</td>\n",
       "    </tr>\n",
       "    <tr>\n",
       "      <th>1</th>\n",
       "      <td>1</td>\n",
       "      <td>68.77</td>\n",
       "      <td>0.89</td>\n",
       "      <td>0.72</td>\n",
       "      <td>1.00</td>\n",
       "      <td>NaN</td>\n",
       "    </tr>\n",
       "    <tr>\n",
       "      <th>2</th>\n",
       "      <td>2</td>\n",
       "      <td>95.09</td>\n",
       "      <td>39.96</td>\n",
       "      <td>32.80</td>\n",
       "      <td>0.20</td>\n",
       "      <td>NaN</td>\n",
       "    </tr>\n",
       "    <tr>\n",
       "      <th>3</th>\n",
       "      <td>breakeven_threshold</td>\n",
       "      <td>111.11</td>\n",
       "      <td>NaN</td>\n",
       "      <td>NaN</td>\n",
       "      <td>NaN</td>\n",
       "      <td>NaN</td>\n",
       "    </tr>\n",
       "  </tbody>\n",
       "</table>\n",
       "</div>"
      ],
      "text/plain": [
       "           region_name  средний_запас_сырья   rmse    mae  r2_score  mse\n",
       "0                    0                92.59  37.58  30.92      0.28  NaN\n",
       "1                    1                68.77   0.89   0.72      1.00  NaN\n",
       "2                    2                95.09  39.96  32.80      0.20  NaN\n",
       "3  breakeven_threshold               111.11    NaN    NaN       NaN  NaN"
      ]
     },
     "execution_count": 17,
     "metadata": {},
     "output_type": "execute_result"
    }
   ],
   "source": [
    "region_data = {\n",
    "    'region_name': 'breakeven_threshold',\n",
    "    'rmse': np.nan,\n",
    "    'mse': np.nan,\n",
    "    'средний_запас_сырья': round(BREAKEVEN_THRESHOLD, 2),\n",
    "    'r2_score': np.nan\n",
    "}\n",
    "top_regions = top_regions.append(region_data, ignore_index = True)\n",
    "top_regions"
   ]
  },
  {
   "cell_type": "markdown",
   "metadata": {},
   "source": [
    "### Вывод"
   ]
  },
  {
   "cell_type": "markdown",
   "metadata": {},
   "source": [
    "Порог безубыточности составляет 111.11 тыс. баррелей, во всех наших регионах средний запас сырья ниже этого порога"
   ]
  },
  {
   "cell_type": "markdown",
   "metadata": {},
   "source": [
    "## Расчёт прибыли и рисков "
   ]
  },
  {
   "cell_type": "markdown",
   "metadata": {},
   "source": [
    "### Напишем функцию расчета прибыли для региона"
   ]
  },
  {
   "cell_type": "code",
   "execution_count": 18,
   "metadata": {},
   "outputs": [],
   "source": [
    "def income(target_vld, predictions_vld):\n",
    "    sort_series = pd.Series(predictions_vld).sort_values(ascending=False)[:BEST_POINTS]\n",
    "    target_vld_srt = (target_vld.reset_index(drop = True)[sort_series.index])\n",
    "    target_sum = target_vld_srt.sum()\n",
    "    return ((target_sum * INCOME_PER_1000_BARREL) - BUDGET).round(2)"
   ]
  },
  {
   "cell_type": "code",
   "execution_count": 19,
   "metadata": {},
   "outputs": [
    {
     "name": "stdout",
     "output_type": "stream",
     "text": [
      "Прибыль для региона №0: 3320826043.14 руб.\n"
     ]
    }
   ],
   "source": [
    "print('Прибыль для региона №0: {} руб.'.format(income(target_vld_0, predictions_vld_0)))"
   ]
  },
  {
   "cell_type": "code",
   "execution_count": 20,
   "metadata": {},
   "outputs": [
    {
     "data": {
      "text/html": [
       "<div>\n",
       "<style scoped>\n",
       "    .dataframe tbody tr th:only-of-type {\n",
       "        vertical-align: middle;\n",
       "    }\n",
       "\n",
       "    .dataframe tbody tr th {\n",
       "        vertical-align: top;\n",
       "    }\n",
       "\n",
       "    .dataframe thead th {\n",
       "        text-align: right;\n",
       "    }\n",
       "</style>\n",
       "<table border=\"1\" class=\"dataframe\">\n",
       "  <thead>\n",
       "    <tr style=\"text-align: right;\">\n",
       "      <th></th>\n",
       "      <th>region_name</th>\n",
       "      <th>прибыль</th>\n",
       "    </tr>\n",
       "  </thead>\n",
       "  <tbody>\n",
       "    <tr>\n",
       "      <th>0</th>\n",
       "      <td>0</td>\n",
       "      <td>3.320826e+09</td>\n",
       "    </tr>\n",
       "  </tbody>\n",
       "</table>\n",
       "</div>"
      ],
      "text/plain": [
       "  region_name       прибыль\n",
       "0           0  3.320826e+09"
      ]
     },
     "execution_count": 20,
     "metadata": {},
     "output_type": "execute_result"
    }
   ],
   "source": [
    "income_data = {\n",
    "    'region_name': '0',\n",
    "    'прибыль': income(target_vld_0, predictions_vld_0)\n",
    "}\n",
    "region = pd.DataFrame(income_data, index=[0])\n",
    "income_regions = region\n",
    "income_regions"
   ]
  },
  {
   "cell_type": "code",
   "execution_count": 21,
   "metadata": {},
   "outputs": [
    {
     "name": "stdout",
     "output_type": "stream",
     "text": [
      "Прибыль для региона №1: 2415086696.68 руб.\n"
     ]
    }
   ],
   "source": [
    "print('Прибыль для региона №1: {} руб.'.format(income(target_vld_1, predictions_vld_1)))"
   ]
  },
  {
   "cell_type": "code",
   "execution_count": 22,
   "metadata": {},
   "outputs": [
    {
     "name": "stderr",
     "output_type": "stream",
     "text": [
      "C:\\Users\\lyser\\AppData\\Local\\Temp\\ipykernel_21016\\2732641352.py:5: FutureWarning: The frame.append method is deprecated and will be removed from pandas in a future version. Use pandas.concat instead.\n",
      "  income_regions = income_regions.append(income_data, ignore_index = True)\n"
     ]
    },
    {
     "data": {
      "text/html": [
       "<div>\n",
       "<style scoped>\n",
       "    .dataframe tbody tr th:only-of-type {\n",
       "        vertical-align: middle;\n",
       "    }\n",
       "\n",
       "    .dataframe tbody tr th {\n",
       "        vertical-align: top;\n",
       "    }\n",
       "\n",
       "    .dataframe thead th {\n",
       "        text-align: right;\n",
       "    }\n",
       "</style>\n",
       "<table border=\"1\" class=\"dataframe\">\n",
       "  <thead>\n",
       "    <tr style=\"text-align: right;\">\n",
       "      <th></th>\n",
       "      <th>region_name</th>\n",
       "      <th>прибыль</th>\n",
       "    </tr>\n",
       "  </thead>\n",
       "  <tbody>\n",
       "    <tr>\n",
       "      <th>0</th>\n",
       "      <td>0</td>\n",
       "      <td>3.320826e+09</td>\n",
       "    </tr>\n",
       "    <tr>\n",
       "      <th>1</th>\n",
       "      <td>1</td>\n",
       "      <td>2.415087e+09</td>\n",
       "    </tr>\n",
       "  </tbody>\n",
       "</table>\n",
       "</div>"
      ],
      "text/plain": [
       "  region_name       прибыль\n",
       "0           0  3.320826e+09\n",
       "1           1  2.415087e+09"
      ]
     },
     "execution_count": 22,
     "metadata": {},
     "output_type": "execute_result"
    }
   ],
   "source": [
    "income_data = {\n",
    "    'region_name': '1',\n",
    "    'прибыль': income(target_vld_1, predictions_vld_1)\n",
    "}\n",
    "income_regions = income_regions.append(income_data, ignore_index = True)\n",
    "income_regions"
   ]
  },
  {
   "cell_type": "code",
   "execution_count": 23,
   "metadata": {},
   "outputs": [
    {
     "name": "stdout",
     "output_type": "stream",
     "text": [
      "Прибыль для региона №2: 2539915945.84 руб.\n"
     ]
    }
   ],
   "source": [
    "print('Прибыль для региона №2: {} руб.'.format(income(target_vld_2, predictions_vld_2)))"
   ]
  },
  {
   "cell_type": "code",
   "execution_count": 24,
   "metadata": {},
   "outputs": [
    {
     "name": "stderr",
     "output_type": "stream",
     "text": [
      "C:\\Users\\lyser\\AppData\\Local\\Temp\\ipykernel_21016\\3344882445.py:5: FutureWarning: The frame.append method is deprecated and will be removed from pandas in a future version. Use pandas.concat instead.\n",
      "  income_regions = income_regions.append(income_data, ignore_index = True)\n"
     ]
    },
    {
     "data": {
      "text/html": [
       "<div>\n",
       "<style scoped>\n",
       "    .dataframe tbody tr th:only-of-type {\n",
       "        vertical-align: middle;\n",
       "    }\n",
       "\n",
       "    .dataframe tbody tr th {\n",
       "        vertical-align: top;\n",
       "    }\n",
       "\n",
       "    .dataframe thead th {\n",
       "        text-align: right;\n",
       "    }\n",
       "</style>\n",
       "<table border=\"1\" class=\"dataframe\">\n",
       "  <thead>\n",
       "    <tr style=\"text-align: right;\">\n",
       "      <th></th>\n",
       "      <th>region_name</th>\n",
       "      <th>прибыль</th>\n",
       "    </tr>\n",
       "  </thead>\n",
       "  <tbody>\n",
       "    <tr>\n",
       "      <th>0</th>\n",
       "      <td>0</td>\n",
       "      <td>3.320826e+09</td>\n",
       "    </tr>\n",
       "    <tr>\n",
       "      <th>1</th>\n",
       "      <td>1</td>\n",
       "      <td>2.415087e+09</td>\n",
       "    </tr>\n",
       "    <tr>\n",
       "      <th>2</th>\n",
       "      <td>2</td>\n",
       "      <td>2.539916e+09</td>\n",
       "    </tr>\n",
       "  </tbody>\n",
       "</table>\n",
       "</div>"
      ],
      "text/plain": [
       "  region_name       прибыль\n",
       "0           0  3.320826e+09\n",
       "1           1  2.415087e+09\n",
       "2           2  2.539916e+09"
      ]
     },
     "execution_count": 24,
     "metadata": {},
     "output_type": "execute_result"
    }
   ],
   "source": [
    "income_data = {\n",
    "    'region_name': '2',\n",
    "    'прибыль': income(target_vld_2, predictions_vld_2)\n",
    "}\n",
    "income_regions = income_regions.append(income_data, ignore_index = True)\n",
    "income_regions"
   ]
  },
  {
   "cell_type": "markdown",
   "metadata": {},
   "source": [
    "#### Вывод"
   ]
  },
  {
   "cell_type": "markdown",
   "metadata": {},
   "source": [
    "Лучший показатель прибыли показал регион №0 (3320826043.14 руб.), худший показатель - регион №1 (2415086696.68 руб.)"
   ]
  },
  {
   "cell_type": "markdown",
   "metadata": {},
   "source": [
    "### Напишем функцию распределения прибыли, применив технику Bootstrap с 1000 выборок"
   ]
  },
  {
   "cell_type": "code",
   "execution_count": 25,
   "metadata": {},
   "outputs": [],
   "source": [
    "def bootstrap(target_vld, predictions_vld):\n",
    "    values = []\n",
    "    state = np.random.RandomState(12345)\n",
    "    for i in range(1000):\n",
    "        srt_series = pd.Series(predictions_vld)\n",
    "        value = srt_series.sample(n = ALL_POINTS, replace=True, random_state=state)\n",
    "        values.append(income(target_vld, value))\n",
    "    values = pd.Series(values)\n",
    "    mean_income = values.mean()\n",
    "    print('Средняя прибыль для региона равна {}'.format(round(mean_income,2)))\n",
    "    lower = values.quantile(0.025)\n",
    "    upper = values.quantile(0.975)\n",
    "    print('95%-й доверительный интервал равен от {} до {}'.format(round(lower,2), round(upper,2)))\n",
    "    loss_probability = st.percentileofscore(values, 0)\n",
    "    print('Вероятность убытков для региона равна {}%'.format(round(loss_probability,2)))"
   ]
  },
  {
   "cell_type": "code",
   "execution_count": 26,
   "metadata": {},
   "outputs": [
    {
     "name": "stdout",
     "output_type": "stream",
     "text": [
      "Средняя прибыль для региона равна 396164984.8\n",
      "95%-й доверительный интервал равен от -111215545.89 до 909766941.55\n",
      "Вероятность убытков для региона равна 6.9%\n"
     ]
    }
   ],
   "source": [
    "bootstrap(target_vld_0, predictions_vld_0)"
   ]
  },
  {
   "cell_type": "code",
   "execution_count": 27,
   "metadata": {},
   "outputs": [
    {
     "name": "stdout",
     "output_type": "stream",
     "text": [
      "Средняя прибыль для региона равна 445617552.56\n",
      "95%-й доверительный интервал равен от 54585923.7 до 833068150.43\n",
      "Вероятность убытков для региона равна 1.1%\n"
     ]
    }
   ],
   "source": [
    "bootstrap(target_vld_1, predictions_vld_1)"
   ]
  },
  {
   "cell_type": "code",
   "execution_count": 28,
   "metadata": {},
   "outputs": [
    {
     "name": "stdout",
     "output_type": "stream",
     "text": [
      "Средняя прибыль для региона равна 340026904.17\n",
      "95%-й доверительный интервал равен от -208029779.78 до 868855925.84\n",
      "Вероятность убытков для региона равна 10.7%\n"
     ]
    }
   ],
   "source": [
    "bootstrap(target_vld_2, predictions_vld_2)"
   ]
  },
  {
   "cell_type": "code",
   "execution_count": 29,
   "metadata": {},
   "outputs": [
    {
     "data": {
      "text/html": [
       "<div>\n",
       "<style scoped>\n",
       "    .dataframe tbody tr th:only-of-type {\n",
       "        vertical-align: middle;\n",
       "    }\n",
       "\n",
       "    .dataframe tbody tr th {\n",
       "        vertical-align: top;\n",
       "    }\n",
       "\n",
       "    .dataframe thead th {\n",
       "        text-align: right;\n",
       "    }\n",
       "</style>\n",
       "<table border=\"1\" class=\"dataframe\">\n",
       "  <thead>\n",
       "    <tr style=\"text-align: right;\">\n",
       "      <th></th>\n",
       "      <th>region_name</th>\n",
       "      <th>прибыль</th>\n",
       "      <th>средняя_прибыль</th>\n",
       "      <th>вероятность_убытков</th>\n",
       "    </tr>\n",
       "  </thead>\n",
       "  <tbody>\n",
       "    <tr>\n",
       "      <th>0</th>\n",
       "      <td>0</td>\n",
       "      <td>3.320826e+09</td>\n",
       "      <td>3.961650e+08</td>\n",
       "      <td>6.9</td>\n",
       "    </tr>\n",
       "    <tr>\n",
       "      <th>1</th>\n",
       "      <td>1</td>\n",
       "      <td>2.415087e+09</td>\n",
       "      <td>4.456176e+08</td>\n",
       "      <td>1.1</td>\n",
       "    </tr>\n",
       "    <tr>\n",
       "      <th>2</th>\n",
       "      <td>2</td>\n",
       "      <td>2.539916e+09</td>\n",
       "      <td>3.400269e+08</td>\n",
       "      <td>10.7</td>\n",
       "    </tr>\n",
       "  </tbody>\n",
       "</table>\n",
       "</div>"
      ],
      "text/plain": [
       "  region_name       прибыль  средняя_прибыль  вероятность_убытков\n",
       "0           0  3.320826e+09     3.961650e+08                  6.9\n",
       "1           1  2.415087e+09     4.456176e+08                  1.1\n",
       "2           2  2.539916e+09     3.400269e+08                 10.7"
      ]
     },
     "execution_count": 29,
     "metadata": {},
     "output_type": "execute_result"
    }
   ],
   "source": [
    "income_regions = income_regions.assign(средняя_прибыль = [396164984.8, 445617552.56, 340026904.17])\n",
    "income_regions = income_regions.assign(вероятность_убытков = [6.9, 1.1, 10.7])\n",
    "income_regions"
   ]
  },
  {
   "cell_type": "markdown",
   "metadata": {},
   "source": [
    "#### Вывод"
   ]
  },
  {
   "cell_type": "markdown",
   "metadata": {},
   "source": [
    "По условию вероятность убытков должна быть ниже 2.5%, этому соответствует только регион №1 (1.1%), он же показал максимальную среднюю прибыль.  \n",
    "Стоит отметить, что только у региона №1 95%-й доверительный интервал прибыли полностью положительный.  Это значит, что только в нем новые скважены гарантированно принесут прибыль."
   ]
  },
  {
   "cell_type": "markdown",
   "metadata": {},
   "source": [
    "## Общий вывод"
   ]
  },
  {
   "cell_type": "markdown",
   "metadata": {},
   "source": [
    "Мы изучили начальные данные и определили, что они достаточно качественные: без дубликатов и пропусков. Заметна корреляция (Пирсона), которая говорит о наличии линейной связи между значениями переменных f2 и product. В остальном, достаточно трудно сделать какие-то выводы не имея достаточной информации о переменных."
   ]
  },
  {
   "cell_type": "markdown",
   "metadata": {},
   "source": [
    "По условию, для обучения необходимо использовать модель Линейной регрессии."
   ]
  },
  {
   "cell_type": "markdown",
   "metadata": {},
   "source": [
    "Мы обучили модель и получили, что регион №1 имеет наименьший средний запас сырья (68.77 тыс. баррелей), но при этом лучшие показатели метрик оценивания качества моделей (RMSE 0.89, MSE 0.72, R2 score 1)."
   ]
  },
  {
   "cell_type": "markdown",
   "metadata": {},
   "source": [
    "Порог безубыточности составляет 111.11 тыс. баррелей, во всех наших регионах средний запас сырья ниже этого порога"
   ]
  },
  {
   "cell_type": "markdown",
   "metadata": {},
   "source": [
    "Лучший показатель прибыли показал регион №0 (3320826043.14 руб.), худший показатель - регион №1 (2415086696.68 руб.)"
   ]
  },
  {
   "cell_type": "markdown",
   "metadata": {},
   "source": [
    "По условию вероятность убытков должна быть ниже 2.5%, этому соответствует только регион №1 (1.1%), он же показал максимальную среднюю прибыль.  "
   ]
  },
  {
   "cell_type": "markdown",
   "metadata": {},
   "source": [
    "Стоит отметить, что только у региона №1 95%-й доверительный интервал прибыли полностью положительный.  Это значит, что только в нем новые скважены гарантированно принесут прибыль."
   ]
  },
  {
   "cell_type": "markdown",
   "metadata": {},
   "source": [
    "Результат исследования: лучший регион для бурения новых скважин - №1."
   ]
  }
 ],
 "metadata": {
  "ExecuteTimeLog": [
   {
    "duration": 361,
    "start_time": "2022-11-02T16:33:20.444Z"
   },
   {
    "duration": 1459,
    "start_time": "2022-11-02T16:33:20.908Z"
   },
   {
    "duration": 14,
    "start_time": "2022-11-02T16:33:22.369Z"
   },
   {
    "duration": 7,
    "start_time": "2022-11-02T16:33:22.385Z"
   },
   {
    "duration": 8,
    "start_time": "2022-11-02T16:33:22.542Z"
   },
   {
    "duration": 13,
    "start_time": "2022-11-02T16:36:31.601Z"
   },
   {
    "duration": 12,
    "start_time": "2022-11-02T16:37:21.623Z"
   },
   {
    "duration": 15,
    "start_time": "2022-11-02T16:37:25.361Z"
   },
   {
    "duration": 51,
    "start_time": "2022-11-03T12:14:30.265Z"
   },
   {
    "duration": 384,
    "start_time": "2022-11-03T12:14:33.377Z"
   },
   {
    "duration": 761,
    "start_time": "2022-11-03T12:14:33.762Z"
   },
   {
    "duration": 18,
    "start_time": "2022-11-03T12:14:34.525Z"
   },
   {
    "duration": 10,
    "start_time": "2022-11-03T12:14:34.544Z"
   },
   {
    "duration": 18,
    "start_time": "2022-11-03T12:14:34.556Z"
   },
   {
    "duration": 123,
    "start_time": "2022-11-03T12:14:34.576Z"
   },
   {
    "duration": 88,
    "start_time": "2022-11-03T12:14:59.472Z"
   },
   {
    "duration": 89,
    "start_time": "2022-11-03T12:15:00.217Z"
   },
   {
    "duration": 96,
    "start_time": "2022-11-03T12:15:00.922Z"
   },
   {
    "duration": 66,
    "start_time": "2022-11-03T12:17:04.978Z"
   },
   {
    "duration": 7,
    "start_time": "2022-11-03T12:17:13.992Z"
   },
   {
    "duration": 358,
    "start_time": "2022-11-03T12:17:20.687Z"
   },
   {
    "duration": 81,
    "start_time": "2022-11-03T12:17:21.105Z"
   },
   {
    "duration": 84,
    "start_time": "2022-11-03T12:17:21.976Z"
   },
   {
    "duration": 79,
    "start_time": "2022-11-03T12:17:24.918Z"
   },
   {
    "duration": 34,
    "start_time": "2022-11-03T12:17:25.602Z"
   },
   {
    "duration": 37,
    "start_time": "2022-11-03T12:18:43.295Z"
   },
   {
    "duration": 33,
    "start_time": "2022-11-03T12:18:49.706Z"
   },
   {
    "duration": 39,
    "start_time": "2022-11-03T12:22:11.684Z"
   },
   {
    "duration": 33,
    "start_time": "2022-11-03T12:22:14.874Z"
   },
   {
    "duration": 417,
    "start_time": "2022-11-04T11:02:25.542Z"
   },
   {
    "duration": 2,
    "start_time": "2022-11-04T11:02:25.962Z"
   },
   {
    "duration": 15,
    "start_time": "2022-11-04T11:02:25.968Z"
   },
   {
    "duration": 9,
    "start_time": "2022-11-04T11:02:25.985Z"
   },
   {
    "duration": 16,
    "start_time": "2022-11-04T11:02:25.996Z"
   },
   {
    "duration": 17,
    "start_time": "2022-11-04T11:02:26.014Z"
   },
   {
    "duration": 8,
    "start_time": "2022-11-04T11:02:26.033Z"
   },
   {
    "duration": 5,
    "start_time": "2022-11-04T11:02:26.043Z"
   },
   {
    "duration": 64,
    "start_time": "2022-11-04T11:03:05.101Z"
   },
   {
    "duration": 25,
    "start_time": "2022-11-04T11:35:50.356Z"
   },
   {
    "duration": 7,
    "start_time": "2022-11-04T11:36:46.267Z"
   },
   {
    "duration": 7,
    "start_time": "2022-11-04T11:36:54.868Z"
   },
   {
    "duration": 8,
    "start_time": "2022-11-04T11:36:57.438Z"
   },
   {
    "duration": 7,
    "start_time": "2022-11-04T11:36:57.992Z"
   },
   {
    "duration": 2,
    "start_time": "2022-11-04T11:37:36.037Z"
   },
   {
    "duration": 8,
    "start_time": "2022-11-04T11:37:37.112Z"
   },
   {
    "duration": 382,
    "start_time": "2022-11-04T11:49:06.460Z"
   },
   {
    "duration": 298,
    "start_time": "2022-11-04T11:49:19.238Z"
   },
   {
    "duration": 271,
    "start_time": "2022-11-04T11:50:33.638Z"
   },
   {
    "duration": 52,
    "start_time": "2022-11-21T09:23:11.315Z"
   },
   {
    "duration": 368,
    "start_time": "2022-11-21T09:23:36.906Z"
   },
   {
    "duration": 808,
    "start_time": "2022-11-21T09:23:37.401Z"
   },
   {
    "duration": 94,
    "start_time": "2022-11-21T09:23:38.864Z"
   },
   {
    "duration": 85,
    "start_time": "2022-11-21T09:23:39.728Z"
   },
   {
    "duration": 29,
    "start_time": "2022-11-21T09:23:41.687Z"
   },
   {
    "duration": 36,
    "start_time": "2022-11-21T09:23:42.242Z"
   },
   {
    "duration": 93,
    "start_time": "2022-11-21T09:24:01.497Z"
   },
   {
    "duration": 90,
    "start_time": "2022-11-21T09:24:02.102Z"
   },
   {
    "duration": 99,
    "start_time": "2022-11-21T09:24:02.921Z"
   },
   {
    "duration": 29,
    "start_time": "2022-11-21T09:24:09.083Z"
   },
   {
    "duration": 33,
    "start_time": "2022-11-21T09:24:10.966Z"
   },
   {
    "duration": 33,
    "start_time": "2022-11-21T09:24:12.952Z"
   },
   {
    "duration": 20,
    "start_time": "2022-11-21T09:26:33.033Z"
   },
   {
    "duration": 13,
    "start_time": "2022-11-21T09:26:44.274Z"
   },
   {
    "duration": 23,
    "start_time": "2022-11-21T09:27:01.756Z"
   },
   {
    "duration": 107,
    "start_time": "2022-11-21T09:27:14.869Z"
   },
   {
    "duration": 101,
    "start_time": "2022-11-21T09:27:35.114Z"
   },
   {
    "duration": 110,
    "start_time": "2022-11-21T09:27:35.927Z"
   },
   {
    "duration": 120,
    "start_time": "2022-11-21T09:27:37.894Z"
   },
   {
    "duration": 138,
    "start_time": "2022-11-21T09:31:58.632Z"
   },
   {
    "duration": 111,
    "start_time": "2022-11-21T09:32:37.948Z"
   },
   {
    "duration": 120,
    "start_time": "2022-11-21T09:33:05.667Z"
   },
   {
    "duration": 125,
    "start_time": "2022-11-21T09:33:19.429Z"
   },
   {
    "duration": 433,
    "start_time": "2022-11-23T21:28:58.966Z"
   },
   {
    "duration": 1699,
    "start_time": "2022-11-23T21:28:59.401Z"
   },
   {
    "duration": 154,
    "start_time": "2022-11-23T21:29:01.102Z"
   },
   {
    "duration": 144,
    "start_time": "2022-11-23T21:29:01.259Z"
   },
   {
    "duration": 140,
    "start_time": "2022-11-23T21:29:01.405Z"
   },
   {
    "duration": 784,
    "start_time": "2022-11-23T22:04:32.266Z"
   },
   {
    "duration": 6,
    "start_time": "2022-11-23T22:21:42.397Z"
   },
   {
    "duration": 110,
    "start_time": "2022-11-23T22:21:51.506Z"
   },
   {
    "duration": 25,
    "start_time": "2022-11-23T22:22:30.300Z"
   },
   {
    "duration": 13,
    "start_time": "2022-11-23T22:22:49.415Z"
   },
   {
    "duration": 4,
    "start_time": "2022-11-23T22:22:51.531Z"
   },
   {
    "duration": 13,
    "start_time": "2022-11-23T22:23:02.643Z"
   },
   {
    "duration": 4,
    "start_time": "2022-11-23T22:23:03.483Z"
   },
   {
    "duration": 22,
    "start_time": "2022-11-23T22:23:48.538Z"
   },
   {
    "duration": 14,
    "start_time": "2022-11-23T22:24:02.756Z"
   },
   {
    "duration": 5,
    "start_time": "2022-11-23T22:24:03.706Z"
   },
   {
    "duration": 8,
    "start_time": "2022-11-23T22:24:32.577Z"
   },
   {
    "duration": 17,
    "start_time": "2022-11-23T22:24:33.982Z"
   },
   {
    "duration": 7,
    "start_time": "2022-11-23T22:25:19.877Z"
   },
   {
    "duration": 7,
    "start_time": "2022-11-23T22:26:24.984Z"
   },
   {
    "duration": 26,
    "start_time": "2022-11-23T22:26:25.899Z"
   },
   {
    "duration": 4,
    "start_time": "2022-11-23T22:26:27.166Z"
   },
   {
    "duration": 5,
    "start_time": "2022-11-23T22:26:40.011Z"
   },
   {
    "duration": 3,
    "start_time": "2022-11-23T22:28:51.298Z"
   },
   {
    "duration": 11,
    "start_time": "2022-11-23T22:31:25.563Z"
   },
   {
    "duration": 32,
    "start_time": "2022-11-23T22:31:26.021Z"
   },
   {
    "duration": 81,
    "start_time": "2022-11-23T22:36:16.027Z"
   },
   {
    "duration": 75,
    "start_time": "2022-11-23T22:36:45.883Z"
   },
   {
    "duration": 74,
    "start_time": "2022-11-23T22:36:57.617Z"
   },
   {
    "duration": 2,
    "start_time": "2022-11-23T22:37:09.270Z"
   },
   {
    "duration": 76,
    "start_time": "2022-11-23T22:37:13.707Z"
   },
   {
    "duration": 8,
    "start_time": "2022-11-23T22:38:03.462Z"
   },
   {
    "duration": 24,
    "start_time": "2022-11-23T22:38:03.897Z"
   },
   {
    "duration": 80,
    "start_time": "2022-11-23T22:38:05.162Z"
   },
   {
    "duration": 8,
    "start_time": "2022-11-23T22:42:20.706Z"
   },
   {
    "duration": 24,
    "start_time": "2022-11-23T22:42:21.267Z"
   },
   {
    "duration": 17,
    "start_time": "2022-11-23T22:42:22.577Z"
   },
   {
    "duration": 257,
    "start_time": "2022-11-23T22:42:33.730Z"
   },
   {
    "duration": 514,
    "start_time": "2022-11-23T22:43:23.372Z"
   },
   {
    "duration": 327,
    "start_time": "2022-11-23T22:43:43.159Z"
   },
   {
    "duration": 359,
    "start_time": "2022-11-23T22:43:57.226Z"
   },
   {
    "duration": 331,
    "start_time": "2022-11-23T22:44:16.456Z"
   },
   {
    "duration": 459,
    "start_time": "2022-11-23T22:44:53.223Z"
   },
   {
    "duration": 464,
    "start_time": "2022-11-23T22:45:13.318Z"
   },
   {
    "duration": 407,
    "start_time": "2022-11-23T22:45:29.077Z"
   },
   {
    "duration": 97,
    "start_time": "2022-11-23T22:46:51.645Z"
   },
   {
    "duration": 76,
    "start_time": "2022-11-23T22:47:10.985Z"
   },
   {
    "duration": 445,
    "start_time": "2022-11-23T22:47:21.937Z"
   },
   {
    "duration": 336,
    "start_time": "2022-11-23T22:47:34.947Z"
   },
   {
    "duration": 358,
    "start_time": "2022-11-23T22:49:10.323Z"
   },
   {
    "duration": 494,
    "start_time": "2022-11-23T22:49:54.891Z"
   },
   {
    "duration": 440,
    "start_time": "2022-11-23T22:50:16.239Z"
   },
   {
    "duration": 410,
    "start_time": "2022-11-23T22:50:17.472Z"
   },
   {
    "duration": 392,
    "start_time": "2022-11-23T22:50:18.489Z"
   },
   {
    "duration": 1010,
    "start_time": "2022-11-23T22:50:30.725Z"
   },
   {
    "duration": 370,
    "start_time": "2022-11-23T22:50:31.737Z"
   },
   {
    "duration": 125,
    "start_time": "2022-11-23T22:50:32.108Z"
   },
   {
    "duration": 133,
    "start_time": "2022-11-23T22:50:32.235Z"
   },
   {
    "duration": 120,
    "start_time": "2022-11-23T22:50:32.379Z"
   },
   {
    "duration": 8,
    "start_time": "2022-11-23T22:50:32.500Z"
   },
   {
    "duration": 33,
    "start_time": "2022-11-23T22:50:32.509Z"
   },
   {
    "duration": 439,
    "start_time": "2022-11-23T22:50:32.544Z"
   },
   {
    "duration": 599,
    "start_time": "2022-11-23T22:50:32.985Z"
   },
   {
    "duration": 497,
    "start_time": "2022-11-23T22:50:33.586Z"
   },
   {
    "duration": 12,
    "start_time": "2022-11-23T22:51:21.282Z"
   },
   {
    "duration": 12,
    "start_time": "2022-11-23T22:51:22.452Z"
   },
   {
    "duration": 5,
    "start_time": "2022-11-23T22:51:44.148Z"
   },
   {
    "duration": 5,
    "start_time": "2022-11-23T22:51:44.939Z"
   },
   {
    "duration": 466,
    "start_time": "2022-11-23T22:52:07.016Z"
   },
   {
    "duration": 376,
    "start_time": "2022-11-23T22:52:07.712Z"
   },
   {
    "duration": 494,
    "start_time": "2022-11-23T22:52:09.088Z"
   },
   {
    "duration": 10,
    "start_time": "2022-11-23T22:56:43.286Z"
   },
   {
    "duration": 116,
    "start_time": "2022-11-23T22:59:03.902Z"
   },
   {
    "duration": 13,
    "start_time": "2022-11-23T22:59:41.599Z"
   },
   {
    "duration": 5,
    "start_time": "2022-11-23T23:00:25.967Z"
   },
   {
    "duration": 12,
    "start_time": "2022-11-23T23:00:54.569Z"
   },
   {
    "duration": 10,
    "start_time": "2022-11-23T23:01:17.799Z"
   },
   {
    "duration": 12,
    "start_time": "2022-11-23T23:01:40.738Z"
   },
   {
    "duration": 1154,
    "start_time": "2022-11-24T11:51:50.701Z"
   },
   {
    "duration": 1590,
    "start_time": "2022-11-24T11:51:51.858Z"
   },
   {
    "duration": 150,
    "start_time": "2022-11-24T11:51:53.450Z"
   },
   {
    "duration": 148,
    "start_time": "2022-11-24T11:51:53.601Z"
   },
   {
    "duration": 147,
    "start_time": "2022-11-24T11:51:53.751Z"
   },
   {
    "duration": 25,
    "start_time": "2022-11-24T11:51:53.900Z"
   },
   {
    "duration": 36,
    "start_time": "2022-11-24T11:51:53.927Z"
   },
   {
    "duration": 364,
    "start_time": "2022-11-24T11:51:53.965Z"
   },
   {
    "duration": 702,
    "start_time": "2022-11-24T11:51:54.331Z"
   },
   {
    "duration": 391,
    "start_time": "2022-11-24T11:51:55.035Z"
   },
   {
    "duration": 2,
    "start_time": "2022-11-24T15:10:06.795Z"
   },
   {
    "duration": 225,
    "start_time": "2022-11-24T15:12:18.601Z"
   },
   {
    "duration": 272,
    "start_time": "2022-11-24T15:12:53.056Z"
   },
   {
    "duration": 98,
    "start_time": "2022-11-24T15:16:11.046Z"
   },
   {
    "duration": 316,
    "start_time": "2022-11-24T15:16:29.207Z"
   },
   {
    "duration": 14,
    "start_time": "2022-11-24T15:16:31.508Z"
   },
   {
    "duration": 14,
    "start_time": "2022-11-24T15:17:57.951Z"
   },
   {
    "duration": 13,
    "start_time": "2022-11-24T15:18:03.700Z"
   },
   {
    "duration": 13,
    "start_time": "2022-11-24T15:18:25.106Z"
   },
   {
    "duration": 14,
    "start_time": "2022-11-24T15:19:20.924Z"
   },
   {
    "duration": 385,
    "start_time": "2022-11-24T15:21:06.437Z"
   },
   {
    "duration": 14,
    "start_time": "2022-11-24T15:22:26.154Z"
   },
   {
    "duration": 235,
    "start_time": "2022-11-24T15:23:54.288Z"
   },
   {
    "duration": 14,
    "start_time": "2022-11-24T15:23:57.247Z"
   },
   {
    "duration": 1216,
    "start_time": "2022-11-24T15:25:11.045Z"
   },
   {
    "duration": 382,
    "start_time": "2022-11-24T15:25:12.263Z"
   },
   {
    "duration": 162,
    "start_time": "2022-11-24T15:25:12.647Z"
   },
   {
    "duration": 165,
    "start_time": "2022-11-24T15:25:12.811Z"
   },
   {
    "duration": 163,
    "start_time": "2022-11-24T15:25:12.978Z"
   },
   {
    "duration": 9,
    "start_time": "2022-11-24T15:25:13.143Z"
   },
   {
    "duration": 84,
    "start_time": "2022-11-24T15:25:13.154Z"
   },
   {
    "duration": 287,
    "start_time": "2022-11-24T15:25:13.240Z"
   },
   {
    "duration": 194,
    "start_time": "2022-11-24T15:25:13.529Z"
   },
   {
    "duration": 398,
    "start_time": "2022-11-24T15:25:13.725Z"
   },
   {
    "duration": 102,
    "start_time": "2022-11-24T15:25:14.126Z"
   },
   {
    "duration": 298,
    "start_time": "2022-11-24T15:25:14.230Z"
   },
   {
    "duration": 197,
    "start_time": "2022-11-24T15:25:14.531Z"
   },
   {
    "duration": 4,
    "start_time": "2022-11-24T15:35:27.345Z"
   },
   {
    "duration": 103,
    "start_time": "2022-11-24T15:35:28.005Z"
   },
   {
    "duration": 13,
    "start_time": "2022-11-24T15:35:44.093Z"
   },
   {
    "duration": 2,
    "start_time": "2022-11-24T15:35:52.885Z"
   },
   {
    "duration": 5,
    "start_time": "2022-11-24T15:35:53.618Z"
   },
   {
    "duration": 6,
    "start_time": "2022-11-24T15:36:10.486Z"
   },
   {
    "duration": 1133,
    "start_time": "2022-11-24T15:38:02.716Z"
   },
   {
    "duration": 500,
    "start_time": "2022-11-24T15:38:03.852Z"
   },
   {
    "duration": 181,
    "start_time": "2022-11-24T15:38:04.354Z"
   },
   {
    "duration": 160,
    "start_time": "2022-11-24T15:38:04.537Z"
   },
   {
    "duration": 201,
    "start_time": "2022-11-24T15:38:04.721Z"
   },
   {
    "duration": 12,
    "start_time": "2022-11-24T15:38:04.924Z"
   },
   {
    "duration": 52,
    "start_time": "2022-11-24T15:38:04.938Z"
   },
   {
    "duration": 331,
    "start_time": "2022-11-24T15:38:04.991Z"
   },
   {
    "duration": 97,
    "start_time": "2022-11-24T15:38:05.325Z"
   },
   {
    "duration": 608,
    "start_time": "2022-11-24T15:38:05.425Z"
   },
   {
    "duration": 106,
    "start_time": "2022-11-24T15:38:06.036Z"
   },
   {
    "duration": 386,
    "start_time": "2022-11-24T15:38:06.145Z"
   },
   {
    "duration": 191,
    "start_time": "2022-11-24T15:38:06.533Z"
   },
   {
    "duration": 16,
    "start_time": "2022-11-24T15:38:06.727Z"
   },
   {
    "duration": 26,
    "start_time": "2022-11-24T15:38:06.745Z"
   },
   {
    "duration": 42,
    "start_time": "2022-11-24T15:38:06.772Z"
   },
   {
    "duration": 105,
    "start_time": "2022-11-24T15:46:43.125Z"
   },
   {
    "duration": 3,
    "start_time": "2022-11-24T15:46:46.399Z"
   },
   {
    "duration": 7,
    "start_time": "2022-11-24T15:46:46.920Z"
   },
   {
    "duration": 8,
    "start_time": "2022-11-24T15:47:27.577Z"
   },
   {
    "duration": 8,
    "start_time": "2022-11-24T15:47:28.070Z"
   },
   {
    "duration": 5,
    "start_time": "2022-11-24T15:51:45.747Z"
   },
   {
    "duration": 15,
    "start_time": "2022-11-24T15:52:31.128Z"
   },
   {
    "duration": 8,
    "start_time": "2022-11-24T15:52:43.823Z"
   },
   {
    "duration": 14,
    "start_time": "2022-11-24T15:52:44.747Z"
   },
   {
    "duration": 1122,
    "start_time": "2022-11-24T15:52:50.321Z"
   },
   {
    "duration": 411,
    "start_time": "2022-11-24T15:52:51.445Z"
   },
   {
    "duration": 166,
    "start_time": "2022-11-24T15:52:51.857Z"
   },
   {
    "duration": 145,
    "start_time": "2022-11-24T15:52:52.025Z"
   },
   {
    "duration": 183,
    "start_time": "2022-11-24T15:52:52.173Z"
   },
   {
    "duration": 10,
    "start_time": "2022-11-24T15:52:52.358Z"
   },
   {
    "duration": 63,
    "start_time": "2022-11-24T15:52:52.369Z"
   },
   {
    "duration": 499,
    "start_time": "2022-11-24T15:52:52.434Z"
   },
   {
    "duration": 100,
    "start_time": "2022-11-24T15:52:53.023Z"
   },
   {
    "duration": 400,
    "start_time": "2022-11-24T15:52:53.126Z"
   },
   {
    "duration": 99,
    "start_time": "2022-11-24T15:52:53.528Z"
   },
   {
    "duration": 303,
    "start_time": "2022-11-24T15:52:53.629Z"
   },
   {
    "duration": 104,
    "start_time": "2022-11-24T15:52:54.024Z"
   },
   {
    "duration": 4,
    "start_time": "2022-11-24T15:52:54.132Z"
   },
   {
    "duration": 22,
    "start_time": "2022-11-24T15:52:54.138Z"
   },
   {
    "duration": 27,
    "start_time": "2022-11-24T15:52:54.163Z"
   },
   {
    "duration": 19,
    "start_time": "2022-11-24T15:52:54.193Z"
   },
   {
    "duration": 142,
    "start_time": "2022-11-24T15:52:54.214Z"
   },
   {
    "duration": 0,
    "start_time": "2022-11-24T15:52:54.358Z"
   },
   {
    "duration": 0,
    "start_time": "2022-11-24T15:52:54.360Z"
   },
   {
    "duration": 0,
    "start_time": "2022-11-24T15:52:54.361Z"
   },
   {
    "duration": 0,
    "start_time": "2022-11-24T15:52:54.364Z"
   },
   {
    "duration": 0,
    "start_time": "2022-11-24T15:52:54.365Z"
   },
   {
    "duration": 0,
    "start_time": "2022-11-24T15:52:54.368Z"
   },
   {
    "duration": 3,
    "start_time": "2022-11-24T15:53:20.679Z"
   },
   {
    "duration": 7,
    "start_time": "2022-11-24T15:53:21.255Z"
   },
   {
    "duration": 8,
    "start_time": "2022-11-24T15:53:22.324Z"
   },
   {
    "duration": 8,
    "start_time": "2022-11-24T15:53:22.907Z"
   },
   {
    "duration": 5,
    "start_time": "2022-11-24T15:53:23.796Z"
   },
   {
    "duration": 930,
    "start_time": "2022-11-24T15:53:26.150Z"
   },
   {
    "duration": 898,
    "start_time": "2022-11-24T15:53:28.642Z"
   },
   {
    "duration": 939,
    "start_time": "2022-11-24T15:53:29.934Z"
   },
   {
    "duration": 3,
    "start_time": "2022-11-24T15:54:02.331Z"
   },
   {
    "duration": 5,
    "start_time": "2022-11-24T15:54:06.713Z"
   },
   {
    "duration": 891,
    "start_time": "2022-11-24T15:54:07.965Z"
   },
   {
    "duration": 893,
    "start_time": "2022-11-24T15:54:10.568Z"
   },
   {
    "duration": 889,
    "start_time": "2022-11-24T15:54:12.036Z"
   },
   {
    "duration": 5,
    "start_time": "2022-11-24T15:54:30.562Z"
   },
   {
    "duration": 902,
    "start_time": "2022-11-24T15:54:31.556Z"
   },
   {
    "duration": 874,
    "start_time": "2022-11-24T15:54:32.892Z"
   },
   {
    "duration": 932,
    "start_time": "2022-11-24T15:54:34.255Z"
   },
   {
    "duration": 913,
    "start_time": "2022-11-24T15:55:01.392Z"
   },
   {
    "duration": 13,
    "start_time": "2022-11-24T15:58:08.015Z"
   },
   {
    "duration": 15,
    "start_time": "2022-11-24T15:58:44.141Z"
   },
   {
    "duration": 14,
    "start_time": "2022-11-24T15:58:57.605Z"
   },
   {
    "duration": 11,
    "start_time": "2022-11-24T16:02:46.350Z"
   },
   {
    "duration": 5,
    "start_time": "2022-11-24T16:02:56.320Z"
   },
   {
    "duration": 880,
    "start_time": "2022-11-24T16:02:58.578Z"
   },
   {
    "duration": 13,
    "start_time": "2022-11-24T16:03:37.867Z"
   },
   {
    "duration": 6,
    "start_time": "2022-11-24T16:03:55.595Z"
   },
   {
    "duration": 891,
    "start_time": "2022-11-24T16:03:57.625Z"
   },
   {
    "duration": 8,
    "start_time": "2022-11-24T16:04:07.790Z"
   },
   {
    "duration": 6,
    "start_time": "2022-11-24T16:04:35.925Z"
   },
   {
    "duration": 883,
    "start_time": "2022-11-24T16:04:39.824Z"
   },
   {
    "duration": 11,
    "start_time": "2022-11-24T16:04:41.963Z"
   },
   {
    "duration": 9,
    "start_time": "2022-11-24T16:05:18.095Z"
   },
   {
    "duration": 7,
    "start_time": "2022-11-24T16:06:13.695Z"
   },
   {
    "duration": 10,
    "start_time": "2022-11-24T16:06:16.913Z"
   },
   {
    "duration": 904,
    "start_time": "2022-11-24T16:06:17.739Z"
   },
   {
    "duration": 6,
    "start_time": "2022-11-24T16:06:50.288Z"
   },
   {
    "duration": 10,
    "start_time": "2022-11-24T16:06:50.835Z"
   },
   {
    "duration": 873,
    "start_time": "2022-11-24T16:06:51.434Z"
   },
   {
    "duration": 9,
    "start_time": "2022-11-24T16:07:42.275Z"
   },
   {
    "duration": 11,
    "start_time": "2022-11-24T16:07:43.332Z"
   },
   {
    "duration": 971,
    "start_time": "2022-11-24T16:07:43.789Z"
   },
   {
    "duration": 6,
    "start_time": "2022-11-24T16:08:50.359Z"
   },
   {
    "duration": 899,
    "start_time": "2022-11-24T16:08:52.702Z"
   },
   {
    "duration": 7,
    "start_time": "2022-11-24T16:10:18.227Z"
   },
   {
    "duration": 917,
    "start_time": "2022-11-24T16:10:19.154Z"
   },
   {
    "duration": 5,
    "start_time": "2022-11-24T16:11:47.027Z"
   },
   {
    "duration": 887,
    "start_time": "2022-11-24T16:11:48.164Z"
   },
   {
    "duration": 912,
    "start_time": "2022-11-24T16:11:52.122Z"
   },
   {
    "duration": 996,
    "start_time": "2022-11-24T16:11:53.687Z"
   },
   {
    "duration": 93,
    "start_time": "2022-11-24T16:15:22.120Z"
   },
   {
    "duration": 77,
    "start_time": "2022-11-24T16:15:29.647Z"
   },
   {
    "duration": 5,
    "start_time": "2022-11-24T16:15:39.599Z"
   },
   {
    "duration": 851,
    "start_time": "2022-11-24T16:15:42.038Z"
   },
   {
    "duration": 7,
    "start_time": "2022-11-24T16:16:15.443Z"
   },
   {
    "duration": 957,
    "start_time": "2022-11-24T16:16:18.394Z"
   },
   {
    "duration": 10,
    "start_time": "2022-11-24T16:16:31.053Z"
   },
   {
    "duration": 5,
    "start_time": "2022-11-24T16:17:08.535Z"
   },
   {
    "duration": 8,
    "start_time": "2022-11-24T16:17:09.162Z"
   },
   {
    "duration": 960,
    "start_time": "2022-11-24T16:17:14.080Z"
   },
   {
    "duration": 914,
    "start_time": "2022-11-24T16:17:15.132Z"
   },
   {
    "duration": 890,
    "start_time": "2022-11-24T16:17:16.048Z"
   },
   {
    "duration": 8,
    "start_time": "2022-11-24T16:19:42.813Z"
   },
   {
    "duration": 26,
    "start_time": "2022-11-24T16:19:43.378Z"
   },
   {
    "duration": 240,
    "start_time": "2022-11-24T16:19:45.893Z"
   },
   {
    "duration": 14,
    "start_time": "2022-11-24T16:19:49.400Z"
   },
   {
    "duration": 396,
    "start_time": "2022-11-24T16:19:50.232Z"
   },
   {
    "duration": 14,
    "start_time": "2022-11-24T16:19:50.906Z"
   },
   {
    "duration": 143,
    "start_time": "2022-11-24T16:19:51.591Z"
   },
   {
    "duration": 15,
    "start_time": "2022-11-24T16:19:52.355Z"
   },
   {
    "duration": 1039,
    "start_time": "2022-11-24T16:19:56.680Z"
   },
   {
    "duration": 419,
    "start_time": "2022-11-24T16:19:57.721Z"
   },
   {
    "duration": 143,
    "start_time": "2022-11-24T16:19:58.142Z"
   },
   {
    "duration": 154,
    "start_time": "2022-11-24T16:19:58.286Z"
   },
   {
    "duration": 147,
    "start_time": "2022-11-24T16:19:58.441Z"
   },
   {
    "duration": 8,
    "start_time": "2022-11-24T16:19:58.590Z"
   },
   {
    "duration": 53,
    "start_time": "2022-11-24T16:19:58.599Z"
   },
   {
    "duration": 369,
    "start_time": "2022-11-24T16:19:58.653Z"
   },
   {
    "duration": 101,
    "start_time": "2022-11-24T16:19:59.024Z"
   },
   {
    "duration": 299,
    "start_time": "2022-11-24T16:19:59.129Z"
   },
   {
    "duration": 193,
    "start_time": "2022-11-24T16:19:59.430Z"
   },
   {
    "duration": 209,
    "start_time": "2022-11-24T16:19:59.625Z"
   },
   {
    "duration": 98,
    "start_time": "2022-11-24T16:19:59.836Z"
   },
   {
    "duration": 87,
    "start_time": "2022-11-24T16:19:59.936Z"
   },
   {
    "duration": 31,
    "start_time": "2022-11-24T16:20:00.024Z"
   },
   {
    "duration": 36,
    "start_time": "2022-11-24T16:20:00.056Z"
   },
   {
    "duration": 28,
    "start_time": "2022-11-24T16:20:00.093Z"
   },
   {
    "duration": 30,
    "start_time": "2022-11-24T16:20:00.123Z"
   },
   {
    "duration": 29,
    "start_time": "2022-11-24T16:20:00.155Z"
   },
   {
    "duration": 36,
    "start_time": "2022-11-24T16:20:00.185Z"
   },
   {
    "duration": 26,
    "start_time": "2022-11-24T16:20:00.223Z"
   },
   {
    "duration": 27,
    "start_time": "2022-11-24T16:20:00.251Z"
   },
   {
    "duration": 20,
    "start_time": "2022-11-24T16:20:00.279Z"
   },
   {
    "duration": 8,
    "start_time": "2022-11-24T16:20:00.301Z"
   },
   {
    "duration": 882,
    "start_time": "2022-11-24T16:20:00.310Z"
   },
   {
    "duration": 882,
    "start_time": "2022-11-24T16:20:01.194Z"
   },
   {
    "duration": 859,
    "start_time": "2022-11-24T16:20:02.078Z"
   },
   {
    "duration": 72,
    "start_time": "2022-11-24T16:22:51.493Z"
   },
   {
    "duration": 98,
    "start_time": "2022-11-24T16:23:40.397Z"
   },
   {
    "duration": 10,
    "start_time": "2022-11-24T16:23:51.715Z"
   },
   {
    "duration": 10,
    "start_time": "2022-11-24T16:24:31.884Z"
   },
   {
    "duration": 81,
    "start_time": "2022-11-24T16:25:23.237Z"
   },
   {
    "duration": 1126,
    "start_time": "2022-11-24T16:25:32.979Z"
   },
   {
    "duration": 421,
    "start_time": "2022-11-24T16:25:34.108Z"
   },
   {
    "duration": 156,
    "start_time": "2022-11-24T16:25:34.531Z"
   },
   {
    "duration": 153,
    "start_time": "2022-11-24T16:25:34.689Z"
   },
   {
    "duration": 157,
    "start_time": "2022-11-24T16:25:34.844Z"
   },
   {
    "duration": 24,
    "start_time": "2022-11-24T16:25:35.003Z"
   },
   {
    "duration": 38,
    "start_time": "2022-11-24T16:25:35.029Z"
   },
   {
    "duration": 358,
    "start_time": "2022-11-24T16:25:35.068Z"
   },
   {
    "duration": 105,
    "start_time": "2022-11-24T16:25:35.427Z"
   },
   {
    "duration": 389,
    "start_time": "2022-11-24T16:25:35.536Z"
   },
   {
    "duration": 99,
    "start_time": "2022-11-24T16:25:35.927Z"
   },
   {
    "duration": 394,
    "start_time": "2022-11-24T16:25:36.028Z"
   },
   {
    "duration": 105,
    "start_time": "2022-11-24T16:25:36.424Z"
   },
   {
    "duration": 3,
    "start_time": "2022-11-24T16:25:36.532Z"
   },
   {
    "duration": 21,
    "start_time": "2022-11-24T16:25:36.537Z"
   },
   {
    "duration": 28,
    "start_time": "2022-11-24T16:25:36.559Z"
   },
   {
    "duration": 12,
    "start_time": "2022-11-24T16:25:36.588Z"
   },
   {
    "duration": 20,
    "start_time": "2022-11-24T16:25:36.602Z"
   },
   {
    "duration": 15,
    "start_time": "2022-11-24T16:25:36.624Z"
   },
   {
    "duration": 8,
    "start_time": "2022-11-24T16:25:36.641Z"
   },
   {
    "duration": 24,
    "start_time": "2022-11-24T16:25:36.651Z"
   },
   {
    "duration": 7,
    "start_time": "2022-11-24T16:25:36.677Z"
   },
   {
    "duration": 17,
    "start_time": "2022-11-24T16:25:36.686Z"
   },
   {
    "duration": 4,
    "start_time": "2022-11-24T16:25:36.705Z"
   },
   {
    "duration": 1011,
    "start_time": "2022-11-24T16:25:36.711Z"
   },
   {
    "duration": 882,
    "start_time": "2022-11-24T16:25:37.723Z"
   },
   {
    "duration": 912,
    "start_time": "2022-11-24T16:25:38.607Z"
   },
   {
    "duration": 67,
    "start_time": "2022-11-24T16:25:39.522Z"
   },
   {
    "duration": 4,
    "start_time": "2022-11-24T16:25:58.995Z"
   },
   {
    "duration": 917,
    "start_time": "2022-11-24T16:26:00.023Z"
   },
   {
    "duration": 891,
    "start_time": "2022-11-24T16:26:01.575Z"
   },
   {
    "duration": 922,
    "start_time": "2022-11-24T16:26:03.310Z"
   },
   {
    "duration": 12,
    "start_time": "2022-11-24T16:26:18.840Z"
   },
   {
    "duration": 12,
    "start_time": "2022-11-24T16:27:01.966Z"
   },
   {
    "duration": 979,
    "start_time": "2022-11-24T21:29:42.852Z"
   },
   {
    "duration": 787,
    "start_time": "2022-11-24T21:29:43.833Z"
   },
   {
    "duration": 130,
    "start_time": "2022-11-24T21:29:44.621Z"
   },
   {
    "duration": 125,
    "start_time": "2022-11-24T21:29:44.753Z"
   },
   {
    "duration": 166,
    "start_time": "2022-11-24T21:29:44.879Z"
   },
   {
    "duration": 7,
    "start_time": "2022-11-24T21:29:45.046Z"
   },
   {
    "duration": 50,
    "start_time": "2022-11-24T21:29:45.055Z"
   },
   {
    "duration": 296,
    "start_time": "2022-11-24T21:29:45.107Z"
   },
   {
    "duration": 87,
    "start_time": "2022-11-24T21:29:45.412Z"
   },
   {
    "duration": 202,
    "start_time": "2022-11-24T21:29:45.509Z"
   },
   {
    "duration": 100,
    "start_time": "2022-11-24T21:29:45.800Z"
   },
   {
    "duration": 306,
    "start_time": "2022-11-24T21:29:45.901Z"
   },
   {
    "duration": 102,
    "start_time": "2022-11-24T21:29:46.209Z"
   },
   {
    "duration": 5,
    "start_time": "2022-11-24T21:29:46.317Z"
   },
   {
    "duration": 13,
    "start_time": "2022-11-24T21:29:46.323Z"
   },
   {
    "duration": 24,
    "start_time": "2022-11-24T21:29:46.338Z"
   },
   {
    "duration": 20,
    "start_time": "2022-11-24T21:29:46.365Z"
   },
   {
    "duration": 14,
    "start_time": "2022-11-24T21:29:46.387Z"
   },
   {
    "duration": 25,
    "start_time": "2022-11-24T21:29:46.403Z"
   },
   {
    "duration": 11,
    "start_time": "2022-11-24T21:29:46.430Z"
   },
   {
    "duration": 14,
    "start_time": "2022-11-24T21:29:46.443Z"
   },
   {
    "duration": 8,
    "start_time": "2022-11-24T21:29:46.458Z"
   },
   {
    "duration": 34,
    "start_time": "2022-11-24T21:29:46.467Z"
   },
   {
    "duration": 10,
    "start_time": "2022-11-24T21:29:46.503Z"
   },
   {
    "duration": 943,
    "start_time": "2022-11-24T21:29:46.514Z"
   },
   {
    "duration": 863,
    "start_time": "2022-11-24T21:29:47.459Z"
   },
   {
    "duration": 862,
    "start_time": "2022-11-24T21:29:48.323Z"
   },
   {
    "duration": 24,
    "start_time": "2022-11-24T21:29:49.188Z"
   },
   {
    "duration": 3,
    "start_time": "2022-11-24T21:36:23.251Z"
   },
   {
    "duration": 1044,
    "start_time": "2022-11-24T21:43:15.911Z"
   },
   {
    "duration": 363,
    "start_time": "2022-11-24T21:43:16.956Z"
   },
   {
    "duration": 148,
    "start_time": "2022-11-24T21:43:17.321Z"
   },
   {
    "duration": 143,
    "start_time": "2022-11-24T21:43:17.471Z"
   },
   {
    "duration": 119,
    "start_time": "2022-11-24T21:43:17.616Z"
   },
   {
    "duration": 7,
    "start_time": "2022-11-24T21:43:17.737Z"
   },
   {
    "duration": 33,
    "start_time": "2022-11-24T21:43:17.745Z"
   },
   {
    "duration": 28,
    "start_time": "2022-11-24T21:43:17.780Z"
   },
   {
    "duration": 389,
    "start_time": "2022-11-24T21:43:17.811Z"
   },
   {
    "duration": 96,
    "start_time": "2022-11-24T21:43:18.208Z"
   },
   {
    "duration": 209,
    "start_time": "2022-11-24T21:43:18.307Z"
   },
   {
    "duration": 183,
    "start_time": "2022-11-24T21:43:18.521Z"
   },
   {
    "duration": 391,
    "start_time": "2022-11-24T21:43:18.706Z"
   },
   {
    "duration": 16,
    "start_time": "2022-11-24T21:43:19.099Z"
   },
   {
    "duration": 32,
    "start_time": "2022-11-24T21:43:19.196Z"
   },
   {
    "duration": 18,
    "start_time": "2022-11-24T21:43:19.230Z"
   },
   {
    "duration": 15,
    "start_time": "2022-11-24T21:43:19.249Z"
   },
   {
    "duration": 4,
    "start_time": "2022-11-24T21:43:19.266Z"
   },
   {
    "duration": 14,
    "start_time": "2022-11-24T21:43:19.272Z"
   },
   {
    "duration": 22,
    "start_time": "2022-11-24T21:43:19.288Z"
   },
   {
    "duration": 8,
    "start_time": "2022-11-24T21:43:19.312Z"
   },
   {
    "duration": 12,
    "start_time": "2022-11-24T21:43:19.321Z"
   },
   {
    "duration": 8,
    "start_time": "2022-11-24T21:43:19.334Z"
   },
   {
    "duration": 17,
    "start_time": "2022-11-24T21:43:19.343Z"
   },
   {
    "duration": 6,
    "start_time": "2022-11-24T21:43:19.362Z"
   },
   {
    "duration": 929,
    "start_time": "2022-11-24T21:43:19.399Z"
   },
   {
    "duration": 902,
    "start_time": "2022-11-24T21:43:20.330Z"
   },
   {
    "duration": 879,
    "start_time": "2022-11-24T21:43:21.235Z"
   },
   {
    "duration": 11,
    "start_time": "2022-11-24T21:43:22.115Z"
   },
   {
    "duration": 4,
    "start_time": "2022-11-24T21:51:02.252Z"
   },
   {
    "duration": 1028,
    "start_time": "2022-11-24T22:02:56.760Z"
   },
   {
    "duration": 346,
    "start_time": "2022-11-24T22:02:57.790Z"
   },
   {
    "duration": 121,
    "start_time": "2022-11-24T22:02:58.137Z"
   },
   {
    "duration": 115,
    "start_time": "2022-11-24T22:02:58.260Z"
   },
   {
    "duration": 120,
    "start_time": "2022-11-24T22:02:58.377Z"
   },
   {
    "duration": 7,
    "start_time": "2022-11-24T22:02:58.499Z"
   },
   {
    "duration": 36,
    "start_time": "2022-11-24T22:02:58.507Z"
   },
   {
    "duration": 4,
    "start_time": "2022-11-24T22:02:58.545Z"
   },
   {
    "duration": 347,
    "start_time": "2022-11-24T22:02:58.550Z"
   },
   {
    "duration": 98,
    "start_time": "2022-11-24T22:02:58.899Z"
   },
   {
    "duration": 301,
    "start_time": "2022-11-24T22:02:58.999Z"
   },
   {
    "duration": 196,
    "start_time": "2022-11-24T22:02:59.301Z"
   },
   {
    "duration": 301,
    "start_time": "2022-11-24T22:02:59.499Z"
   },
   {
    "duration": 111,
    "start_time": "2022-11-24T22:02:59.803Z"
   },
   {
    "duration": 3,
    "start_time": "2022-11-24T22:02:59.997Z"
   },
   {
    "duration": 33,
    "start_time": "2022-11-24T22:03:00.001Z"
   },
   {
    "duration": 29,
    "start_time": "2022-11-24T22:03:00.036Z"
   },
   {
    "duration": 26,
    "start_time": "2022-11-24T22:03:00.066Z"
   },
   {
    "duration": 21,
    "start_time": "2022-11-24T22:03:00.093Z"
   },
   {
    "duration": 44,
    "start_time": "2022-11-24T22:03:00.115Z"
   },
   {
    "duration": 22,
    "start_time": "2022-11-24T22:03:00.160Z"
   },
   {
    "duration": 34,
    "start_time": "2022-11-24T22:03:00.184Z"
   },
   {
    "duration": 33,
    "start_time": "2022-11-24T22:03:00.219Z"
   },
   {
    "duration": 61,
    "start_time": "2022-11-24T22:03:00.253Z"
   },
   {
    "duration": 10,
    "start_time": "2022-11-24T22:03:00.316Z"
   },
   {
    "duration": 893,
    "start_time": "2022-11-24T22:03:00.327Z"
   },
   {
    "duration": 836,
    "start_time": "2022-11-24T22:03:01.222Z"
   },
   {
    "duration": 795,
    "start_time": "2022-11-24T22:03:02.060Z"
   },
   {
    "duration": 11,
    "start_time": "2022-11-24T22:03:02.856Z"
   },
   {
    "duration": 1111,
    "start_time": "2022-11-24T22:03:24.007Z"
   },
   {
    "duration": 379,
    "start_time": "2022-11-24T22:03:25.120Z"
   },
   {
    "duration": 126,
    "start_time": "2022-11-24T22:03:25.501Z"
   },
   {
    "duration": 127,
    "start_time": "2022-11-24T22:03:25.629Z"
   },
   {
    "duration": 145,
    "start_time": "2022-11-24T22:03:25.758Z"
   },
   {
    "duration": 8,
    "start_time": "2022-11-24T22:03:25.906Z"
   },
   {
    "duration": 52,
    "start_time": "2022-11-24T22:03:25.916Z"
   },
   {
    "duration": 6,
    "start_time": "2022-11-24T22:03:25.970Z"
   },
   {
    "duration": 322,
    "start_time": "2022-11-24T22:03:25.978Z"
   },
   {
    "duration": 102,
    "start_time": "2022-11-24T22:03:26.302Z"
   },
   {
    "duration": 492,
    "start_time": "2022-11-24T22:03:26.405Z"
   },
   {
    "duration": 104,
    "start_time": "2022-11-24T22:03:26.899Z"
   },
   {
    "duration": 394,
    "start_time": "2022-11-24T22:03:27.004Z"
   },
   {
    "duration": 103,
    "start_time": "2022-11-24T22:03:27.404Z"
   },
   {
    "duration": 3,
    "start_time": "2022-11-24T22:03:27.509Z"
   },
   {
    "duration": 28,
    "start_time": "2022-11-24T22:03:27.513Z"
   },
   {
    "duration": 30,
    "start_time": "2022-11-24T22:03:27.543Z"
   },
   {
    "duration": 13,
    "start_time": "2022-11-24T22:03:27.574Z"
   },
   {
    "duration": 21,
    "start_time": "2022-11-24T22:03:27.589Z"
   },
   {
    "duration": 24,
    "start_time": "2022-11-24T22:03:27.612Z"
   },
   {
    "duration": 16,
    "start_time": "2022-11-24T22:03:27.638Z"
   },
   {
    "duration": 26,
    "start_time": "2022-11-24T22:03:27.656Z"
   },
   {
    "duration": 21,
    "start_time": "2022-11-24T22:03:27.684Z"
   },
   {
    "duration": 26,
    "start_time": "2022-11-24T22:03:27.707Z"
   },
   {
    "duration": 21,
    "start_time": "2022-11-24T22:03:27.735Z"
   },
   {
    "duration": 872,
    "start_time": "2022-11-24T22:03:27.757Z"
   },
   {
    "duration": 825,
    "start_time": "2022-11-24T22:03:28.631Z"
   },
   {
    "duration": 840,
    "start_time": "2022-11-24T22:03:29.457Z"
   },
   {
    "duration": 51,
    "start_time": "2022-11-24T22:03:30.298Z"
   },
   {
    "duration": 1025,
    "start_time": "2022-11-24T22:03:41.631Z"
   },
   {
    "duration": 350,
    "start_time": "2022-11-24T22:03:42.657Z"
   },
   {
    "duration": 126,
    "start_time": "2022-11-24T22:03:43.009Z"
   },
   {
    "duration": 120,
    "start_time": "2022-11-24T22:03:43.137Z"
   },
   {
    "duration": 118,
    "start_time": "2022-11-24T22:03:43.259Z"
   },
   {
    "duration": 19,
    "start_time": "2022-11-24T22:03:43.379Z"
   },
   {
    "duration": 34,
    "start_time": "2022-11-24T22:03:43.399Z"
   },
   {
    "duration": 3,
    "start_time": "2022-11-24T22:03:43.435Z"
   },
   {
    "duration": 268,
    "start_time": "2022-11-24T22:03:43.440Z"
   },
   {
    "duration": 188,
    "start_time": "2022-11-24T22:03:43.710Z"
   },
   {
    "duration": 209,
    "start_time": "2022-11-24T22:03:43.900Z"
   },
   {
    "duration": 100,
    "start_time": "2022-11-24T22:03:44.197Z"
   },
   {
    "duration": 301,
    "start_time": "2022-11-24T22:03:44.300Z"
   },
   {
    "duration": 104,
    "start_time": "2022-11-24T22:03:44.603Z"
   },
   {
    "duration": 4,
    "start_time": "2022-11-24T22:03:44.797Z"
   },
   {
    "duration": 15,
    "start_time": "2022-11-24T22:03:44.802Z"
   },
   {
    "duration": 18,
    "start_time": "2022-11-24T22:03:44.819Z"
   },
   {
    "duration": 6,
    "start_time": "2022-11-24T22:03:44.838Z"
   },
   {
    "duration": 12,
    "start_time": "2022-11-24T22:03:44.845Z"
   },
   {
    "duration": 11,
    "start_time": "2022-11-24T22:03:44.859Z"
   },
   {
    "duration": 7,
    "start_time": "2022-11-24T22:03:44.871Z"
   },
   {
    "duration": 14,
    "start_time": "2022-11-24T22:03:44.896Z"
   },
   {
    "duration": 7,
    "start_time": "2022-11-24T22:03:44.911Z"
   },
   {
    "duration": 17,
    "start_time": "2022-11-24T22:03:44.920Z"
   },
   {
    "duration": 6,
    "start_time": "2022-11-24T22:03:44.938Z"
   },
   {
    "duration": 903,
    "start_time": "2022-11-24T22:03:44.945Z"
   },
   {
    "duration": 885,
    "start_time": "2022-11-24T22:03:45.850Z"
   },
   {
    "duration": 849,
    "start_time": "2022-11-24T22:03:46.736Z"
   },
   {
    "duration": 13,
    "start_time": "2022-11-24T22:03:47.587Z"
   },
   {
    "duration": 64,
    "start_time": "2022-11-24T22:12:21.957Z"
   },
   {
    "duration": 58,
    "start_time": "2022-11-25T07:07:01.316Z"
   },
   {
    "duration": 48,
    "start_time": "2022-11-25T07:11:09.125Z"
   },
   {
    "duration": 1017,
    "start_time": "2022-11-25T07:13:36.362Z"
   },
   {
    "duration": 700,
    "start_time": "2022-11-25T07:13:37.381Z"
   },
   {
    "duration": 117,
    "start_time": "2022-11-25T07:13:38.082Z"
   },
   {
    "duration": 115,
    "start_time": "2022-11-25T07:13:38.200Z"
   },
   {
    "duration": 121,
    "start_time": "2022-11-25T07:13:38.317Z"
   },
   {
    "duration": 7,
    "start_time": "2022-11-25T07:13:38.440Z"
   },
   {
    "duration": 46,
    "start_time": "2022-11-25T07:13:38.449Z"
   },
   {
    "duration": 5,
    "start_time": "2022-11-25T07:13:38.497Z"
   },
   {
    "duration": 663,
    "start_time": "2022-11-25T07:13:38.504Z"
   },
   {
    "duration": 0,
    "start_time": "2022-11-25T07:13:39.170Z"
   },
   {
    "duration": 0,
    "start_time": "2022-11-25T07:13:39.171Z"
   },
   {
    "duration": 0,
    "start_time": "2022-11-25T07:13:39.173Z"
   },
   {
    "duration": 0,
    "start_time": "2022-11-25T07:13:39.174Z"
   },
   {
    "duration": 0,
    "start_time": "2022-11-25T07:13:39.198Z"
   },
   {
    "duration": 0,
    "start_time": "2022-11-25T07:13:39.199Z"
   },
   {
    "duration": 0,
    "start_time": "2022-11-25T07:13:39.200Z"
   },
   {
    "duration": 1,
    "start_time": "2022-11-25T07:13:39.201Z"
   },
   {
    "duration": 0,
    "start_time": "2022-11-25T07:13:39.203Z"
   },
   {
    "duration": 0,
    "start_time": "2022-11-25T07:13:39.204Z"
   },
   {
    "duration": 0,
    "start_time": "2022-11-25T07:13:39.206Z"
   },
   {
    "duration": 0,
    "start_time": "2022-11-25T07:13:39.207Z"
   },
   {
    "duration": 0,
    "start_time": "2022-11-25T07:13:39.209Z"
   },
   {
    "duration": 0,
    "start_time": "2022-11-25T07:13:39.210Z"
   },
   {
    "duration": 0,
    "start_time": "2022-11-25T07:13:39.212Z"
   },
   {
    "duration": 0,
    "start_time": "2022-11-25T07:13:39.213Z"
   },
   {
    "duration": 0,
    "start_time": "2022-11-25T07:13:39.214Z"
   },
   {
    "duration": 0,
    "start_time": "2022-11-25T07:13:39.216Z"
   },
   {
    "duration": 0,
    "start_time": "2022-11-25T07:13:39.217Z"
   },
   {
    "duration": 0,
    "start_time": "2022-11-25T07:13:39.218Z"
   },
   {
    "duration": 1043,
    "start_time": "2022-11-25T07:14:20.796Z"
   },
   {
    "duration": 350,
    "start_time": "2022-11-25T07:14:21.841Z"
   },
   {
    "duration": 126,
    "start_time": "2022-11-25T07:14:22.193Z"
   },
   {
    "duration": 131,
    "start_time": "2022-11-25T07:14:22.321Z"
   },
   {
    "duration": 128,
    "start_time": "2022-11-25T07:14:22.454Z"
   },
   {
    "duration": 20,
    "start_time": "2022-11-25T07:14:22.583Z"
   },
   {
    "duration": 107,
    "start_time": "2022-11-25T07:14:22.604Z"
   },
   {
    "duration": 22,
    "start_time": "2022-11-25T07:14:22.712Z"
   },
   {
    "duration": 566,
    "start_time": "2022-11-25T07:14:22.736Z"
   },
   {
    "duration": 257,
    "start_time": "2022-11-25T07:14:23.306Z"
   },
   {
    "duration": 0,
    "start_time": "2022-11-25T07:14:23.564Z"
   },
   {
    "duration": 0,
    "start_time": "2022-11-25T07:14:23.565Z"
   },
   {
    "duration": 0,
    "start_time": "2022-11-25T07:14:23.566Z"
   },
   {
    "duration": 0,
    "start_time": "2022-11-25T07:14:23.567Z"
   },
   {
    "duration": 0,
    "start_time": "2022-11-25T07:14:23.568Z"
   },
   {
    "duration": 0,
    "start_time": "2022-11-25T07:14:23.569Z"
   },
   {
    "duration": 0,
    "start_time": "2022-11-25T07:14:23.570Z"
   },
   {
    "duration": 0,
    "start_time": "2022-11-25T07:14:23.571Z"
   },
   {
    "duration": 0,
    "start_time": "2022-11-25T07:14:23.572Z"
   },
   {
    "duration": 0,
    "start_time": "2022-11-25T07:14:23.573Z"
   },
   {
    "duration": 0,
    "start_time": "2022-11-25T07:14:23.574Z"
   },
   {
    "duration": 0,
    "start_time": "2022-11-25T07:14:23.575Z"
   },
   {
    "duration": 0,
    "start_time": "2022-11-25T07:14:23.597Z"
   },
   {
    "duration": 0,
    "start_time": "2022-11-25T07:14:23.598Z"
   },
   {
    "duration": 0,
    "start_time": "2022-11-25T07:14:23.599Z"
   },
   {
    "duration": 0,
    "start_time": "2022-11-25T07:14:23.600Z"
   },
   {
    "duration": 0,
    "start_time": "2022-11-25T07:14:23.601Z"
   },
   {
    "duration": 0,
    "start_time": "2022-11-25T07:14:23.602Z"
   },
   {
    "duration": 0,
    "start_time": "2022-11-25T07:14:23.603Z"
   },
   {
    "duration": 1041,
    "start_time": "2022-11-25T07:14:51.101Z"
   },
   {
    "duration": 369,
    "start_time": "2022-11-25T07:14:52.143Z"
   },
   {
    "duration": 131,
    "start_time": "2022-11-25T07:14:52.514Z"
   },
   {
    "duration": 127,
    "start_time": "2022-11-25T07:14:52.647Z"
   },
   {
    "duration": 127,
    "start_time": "2022-11-25T07:14:52.776Z"
   },
   {
    "duration": 8,
    "start_time": "2022-11-25T07:14:52.905Z"
   },
   {
    "duration": 45,
    "start_time": "2022-11-25T07:14:52.914Z"
   },
   {
    "duration": 15,
    "start_time": "2022-11-25T07:14:52.961Z"
   },
   {
    "duration": 425,
    "start_time": "2022-11-25T07:14:52.977Z"
   },
   {
    "duration": 192,
    "start_time": "2022-11-25T07:14:53.406Z"
   },
   {
    "duration": 399,
    "start_time": "2022-11-25T07:14:53.600Z"
   },
   {
    "duration": 100,
    "start_time": "2022-11-25T07:14:54.005Z"
   },
   {
    "duration": 397,
    "start_time": "2022-11-25T07:14:54.106Z"
   },
   {
    "duration": 99,
    "start_time": "2022-11-25T07:14:54.505Z"
   },
   {
    "duration": 122,
    "start_time": "2022-11-25T07:14:54.606Z"
   },
   {
    "duration": 17,
    "start_time": "2022-11-25T07:14:54.730Z"
   },
   {
    "duration": 28,
    "start_time": "2022-11-25T07:14:54.749Z"
   },
   {
    "duration": 20,
    "start_time": "2022-11-25T07:14:54.779Z"
   },
   {
    "duration": 42,
    "start_time": "2022-11-25T07:14:54.801Z"
   },
   {
    "duration": 12,
    "start_time": "2022-11-25T07:14:54.845Z"
   },
   {
    "duration": 6,
    "start_time": "2022-11-25T07:14:54.859Z"
   },
   {
    "duration": 13,
    "start_time": "2022-11-25T07:14:54.866Z"
   },
   {
    "duration": 6,
    "start_time": "2022-11-25T07:14:54.880Z"
   },
   {
    "duration": 13,
    "start_time": "2022-11-25T07:14:54.888Z"
   },
   {
    "duration": 4,
    "start_time": "2022-11-25T07:14:54.903Z"
   },
   {
    "duration": 814,
    "start_time": "2022-11-25T07:14:54.908Z"
   },
   {
    "duration": 766,
    "start_time": "2022-11-25T07:14:55.723Z"
   },
   {
    "duration": 757,
    "start_time": "2022-11-25T07:14:56.499Z"
   },
   {
    "duration": 10,
    "start_time": "2022-11-25T07:14:57.257Z"
   }
  ],
  "kernelspec": {
   "display_name": "Python 3 (ipykernel)",
   "language": "python",
   "name": "python3"
  },
  "language_info": {
   "codemirror_mode": {
    "name": "ipython",
    "version": 3
   },
   "file_extension": ".py",
   "mimetype": "text/x-python",
   "name": "python",
   "nbconvert_exporter": "python",
   "pygments_lexer": "ipython3",
   "version": "3.11.4"
  },
  "toc": {
   "base_numbering": 1,
   "nav_menu": {
    "height": "141px",
    "width": "556px"
   },
   "number_sections": true,
   "sideBar": true,
   "skip_h1_title": true,
   "title_cell": "Table of Contents",
   "title_sidebar": "Contents",
   "toc_cell": false,
   "toc_position": {
    "height": "calc(100% - 180px)",
    "left": "10px",
    "top": "150px",
    "width": "486.188px"
   },
   "toc_section_display": true,
   "toc_window_display": false
  }
 },
 "nbformat": 4,
 "nbformat_minor": 2
}
